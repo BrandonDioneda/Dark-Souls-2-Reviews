{
 "cells": [
  {
   "cell_type": "markdown",
   "metadata": {},
   "source": [
    "# Steam Game Review Scraper"
   ]
  },
  {
   "cell_type": "code",
   "execution_count": 1,
   "metadata": {},
   "outputs": [],
   "source": [
    "import requests as re\n",
    "import pandas as pd\n",
    "import urllib.parse"
   ]
  },
  {
   "cell_type": "markdown",
   "metadata": {},
   "source": [
    "## Requesting reviews from Steam:"
   ]
  },
  {
   "cell_type": "markdown",
   "metadata": {},
   "source": [
    "For this project, we are going to collect the following information:\n",
    "- Steam ID\n",
    "- Review Text\n",
    "- Date Posted\n",
    "- If review was made during early access"
   ]
  },
  {
   "cell_type": "code",
   "execution_count": 2,
   "metadata": {},
   "outputs": [],
   "source": [
    "init_request = re.get('https://store.steampowered.com/appreviews/335300?json=1?filter=all&language=english').json()"
   ]
  },
  {
   "cell_type": "code",
   "execution_count": 3,
   "metadata": {},
   "outputs": [
    {
     "data": {
      "text/plain": [
       "1"
      ]
     },
     "execution_count": 3,
     "metadata": {},
     "output_type": "execute_result"
    }
   ],
   "source": [
    "init_request['success']"
   ]
  },
  {
   "cell_type": "code",
   "execution_count": 4,
   "metadata": {},
   "outputs": [
    {
     "data": {
      "text/plain": [
       "{'num_reviews': 20,\n",
       " 'review_score': 8,\n",
       " 'review_score_desc': 'Very Positive',\n",
       " 'total_positive': 22012,\n",
       " 'total_negative': 4476,\n",
       " 'total_reviews': 26488}"
      ]
     },
     "execution_count": 4,
     "metadata": {},
     "output_type": "execute_result"
    }
   ],
   "source": [
    "init_request['query_summary']"
   ]
  },
  {
   "cell_type": "markdown",
   "metadata": {},
   "source": [
    "- Using cursors to get more batches of reviews:"
   ]
  },
  {
   "cell_type": "code",
   "execution_count": 5,
   "metadata": {},
   "outputs": [
    {
     "data": {
      "text/plain": [
       "'AoIIPwaKQHmMguQE'"
      ]
     },
     "execution_count": 5,
     "metadata": {},
     "output_type": "execute_result"
    }
   ],
   "source": [
    "cursor = init_request['cursor']\n",
    "cursor "
   ]
  },
  {
   "cell_type": "code",
   "execution_count": 6,
   "metadata": {},
   "outputs": [
    {
     "data": {
      "text/plain": [
       "'AoIIPwAAAHyKjuEE'"
      ]
     },
     "execution_count": 6,
     "metadata": {},
     "output_type": "execute_result"
    }
   ],
   "source": [
    "request = re.get(f'https://store.steampowered.com/appreviews/335300?json=1?filter=all&language=english&num_per_page=100&cursor={cursor}').json()\n",
    "cursor = request['cursor']\n",
    "cursor"
   ]
  },
  {
   "cell_type": "code",
   "execution_count": 7,
   "metadata": {},
   "outputs": [
    {
     "data": {
      "text/plain": [
       "'AoIIPwYYan3L6NsE'"
      ]
     },
     "execution_count": 7,
     "metadata": {},
     "output_type": "execute_result"
    }
   ],
   "source": [
    "request = re.get(f'https://store.steampowered.com/appreviews/335300?json=1?filter=all&language=english&num_per_page=100&cursor={cursor}').json()\n",
    "cursor = request['cursor']\n",
    "cursor"
   ]
  },
  {
   "cell_type": "markdown",
   "metadata": {},
   "source": [
    "- Convert to dataframe:"
   ]
  },
  {
   "cell_type": "code",
   "execution_count": 8,
   "metadata": {},
   "outputs": [
    {
     "data": {
      "text/html": [
       "<div>\n",
       "<style scoped>\n",
       "    .dataframe tbody tr th:only-of-type {\n",
       "        vertical-align: middle;\n",
       "    }\n",
       "\n",
       "    .dataframe tbody tr th {\n",
       "        vertical-align: top;\n",
       "    }\n",
       "\n",
       "    .dataframe thead th {\n",
       "        text-align: right;\n",
       "    }\n",
       "</style>\n",
       "<table border=\"1\" class=\"dataframe\">\n",
       "  <thead>\n",
       "    <tr style=\"text-align: right;\">\n",
       "      <th></th>\n",
       "      <th>recommendationid</th>\n",
       "      <th>review</th>\n",
       "      <th>language</th>\n",
       "      <th>init_date</th>\n",
       "      <th>update_date</th>\n",
       "      <th>in_early_access</th>\n",
       "      <th>voted_up</th>\n",
       "    </tr>\n",
       "  </thead>\n",
       "  <tbody>\n",
       "    <tr>\n",
       "      <th>0</th>\n",
       "      <td>161822555</td>\n",
       "      <td>I know Dark Souls 2 gets a lot of hate but per...</td>\n",
       "      <td>english</td>\n",
       "      <td>1711822731</td>\n",
       "      <td>1711822731</td>\n",
       "      <td>False</td>\n",
       "      <td>False</td>\n",
       "    </tr>\n",
       "    <tr>\n",
       "      <th>1</th>\n",
       "      <td>161820414</td>\n",
       "      <td>⠀⠀⠀⠀⠀⠀⠀⠒⢶⣆⠀⠀⠀⢰⣇⠀⠀⠀⠀⣸⡇⠀⠀⠀⠀⠀⠀⠀⠀\\n⠀⠀⠀⠀⠀⠀⠀⠀⣸⡛⡆⠀⠀⡜⣿...</td>\n",
       "      <td>polish</td>\n",
       "      <td>1711820801</td>\n",
       "      <td>1711820801</td>\n",
       "      <td>False</td>\n",
       "      <td>True</td>\n",
       "    </tr>\n",
       "    <tr>\n",
       "      <th>2</th>\n",
       "      <td>161819114</td>\n",
       "      <td>If you're expecting it to be like the original...</td>\n",
       "      <td>english</td>\n",
       "      <td>1711819586</td>\n",
       "      <td>1711819586</td>\n",
       "      <td>False</td>\n",
       "      <td>True</td>\n",
       "    </tr>\n",
       "    <tr>\n",
       "      <th>3</th>\n",
       "      <td>161818584</td>\n",
       "      <td>Git</td>\n",
       "      <td>polish</td>\n",
       "      <td>1711819131</td>\n",
       "      <td>1711819131</td>\n",
       "      <td>False</td>\n",
       "      <td>True</td>\n",
       "    </tr>\n",
       "    <tr>\n",
       "      <th>4</th>\n",
       "      <td>161818428</td>\n",
       "      <td>shit.</td>\n",
       "      <td>english</td>\n",
       "      <td>1711819000</td>\n",
       "      <td>1711819000</td>\n",
       "      <td>False</td>\n",
       "      <td>False</td>\n",
       "    </tr>\n",
       "    <tr>\n",
       "      <th>...</th>\n",
       "      <td>...</td>\n",
       "      <td>...</td>\n",
       "      <td>...</td>\n",
       "      <td>...</td>\n",
       "      <td>...</td>\n",
       "      <td>...</td>\n",
       "      <td>...</td>\n",
       "    </tr>\n",
       "    <tr>\n",
       "      <th>99579</th>\n",
       "      <td>15162268</td>\n",
       "      <td>Try tongue but hole</td>\n",
       "      <td>english</td>\n",
       "      <td>1427932431</td>\n",
       "      <td>1428081346</td>\n",
       "      <td>False</td>\n",
       "      <td>True</td>\n",
       "    </tr>\n",
       "    <tr>\n",
       "      <th>99580</th>\n",
       "      <td>15162220</td>\n",
       "      <td>So far so good, played it for 20mins so far wi...</td>\n",
       "      <td>english</td>\n",
       "      <td>1427932153</td>\n",
       "      <td>1427932153</td>\n",
       "      <td>False</td>\n",
       "      <td>True</td>\n",
       "    </tr>\n",
       "    <tr>\n",
       "      <th>99581</th>\n",
       "      <td>15162161</td>\n",
       "      <td>Still haven't died!\\n\\nBonedrinker Rufus 109 -...</td>\n",
       "      <td>english</td>\n",
       "      <td>1427931845</td>\n",
       "      <td>1427931845</td>\n",
       "      <td>False</td>\n",
       "      <td>True</td>\n",
       "    </tr>\n",
       "    <tr>\n",
       "      <th>99582</th>\n",
       "      <td>15162057</td>\n",
       "      <td>Needs more cow Bell\\n\\n10/10</td>\n",
       "      <td>english</td>\n",
       "      <td>1427931196</td>\n",
       "      <td>1427931196</td>\n",
       "      <td>False</td>\n",
       "      <td>True</td>\n",
       "    </tr>\n",
       "    <tr>\n",
       "      <th>99583</th>\n",
       "      <td>15161857</td>\n",
       "      <td>11/10 would die again.</td>\n",
       "      <td>english</td>\n",
       "      <td>1427929899</td>\n",
       "      <td>1427929899</td>\n",
       "      <td>False</td>\n",
       "      <td>True</td>\n",
       "    </tr>\n",
       "  </tbody>\n",
       "</table>\n",
       "<p>99584 rows × 7 columns</p>\n",
       "</div>"
      ],
      "text/plain": [
       "      recommendationid                                             review  \\\n",
       "0            161822555  I know Dark Souls 2 gets a lot of hate but per...   \n",
       "1            161820414  ⠀⠀⠀⠀⠀⠀⠀⠒⢶⣆⠀⠀⠀⢰⣇⠀⠀⠀⠀⣸⡇⠀⠀⠀⠀⠀⠀⠀⠀\\n⠀⠀⠀⠀⠀⠀⠀⠀⣸⡛⡆⠀⠀⡜⣿...   \n",
       "2            161819114  If you're expecting it to be like the original...   \n",
       "3            161818584                                                Git   \n",
       "4            161818428                                              shit.   \n",
       "...                ...                                                ...   \n",
       "99579         15162268                                Try tongue but hole   \n",
       "99580         15162220  So far so good, played it for 20mins so far wi...   \n",
       "99581         15162161  Still haven't died!\\n\\nBonedrinker Rufus 109 -...   \n",
       "99582         15162057                       Needs more cow Bell\\n\\n10/10   \n",
       "99583         15161857                             11/10 would die again.   \n",
       "\n",
       "      language   init_date  update_date  in_early_access  voted_up  \n",
       "0      english  1711822731   1711822731            False     False  \n",
       "1       polish  1711820801   1711820801            False      True  \n",
       "2      english  1711819586   1711819586            False      True  \n",
       "3       polish  1711819131   1711819131            False      True  \n",
       "4      english  1711819000   1711819000            False     False  \n",
       "...        ...         ...          ...              ...       ...  \n",
       "99579  english  1427932431   1428081346            False      True  \n",
       "99580  english  1427932153   1427932153            False      True  \n",
       "99581  english  1427931845   1427931845            False      True  \n",
       "99582  english  1427931196   1427931196            False      True  \n",
       "99583  english  1427929899   1427929899            False      True  \n",
       "\n",
       "[99584 rows x 7 columns]"
      ]
     },
     "execution_count": 8,
     "metadata": {},
     "output_type": "execute_result"
    }
   ],
   "source": [
    "# Initial request:\n",
    "init_response = re.get(f'https://store.steampowered.com/appreviews/335300?json=1&filter=recent&language=all&day_range=365&cursor=*&review_type=all&purchase_type=all&num_per_page=100').json()\n",
    "\n",
    "# Used to get further batches of reviews:\n",
    "cursor = urllib.parse.quote_plus(init_response['cursor'])\n",
    "\n",
    "# Creating the actual DataFrame:\n",
    "init_reviews = init_response['reviews']\n",
    "\n",
    "columns = ['recommendationid', 'review', 'language', 'init_date', 'update_date', 'in_early_access', 'voted_up']\n",
    "reviews_data = {\n",
    "    'recommendationid' : [review['recommendationid'] for review in init_reviews],\n",
    "    'review': [review['review'] for review in init_reviews],\n",
    "    'language' : [review['language'] for review in init_reviews],\n",
    "    'init_date': [review['timestamp_created'] for review in init_reviews],\n",
    "    'update_date': [review['timestamp_updated'] for review in init_reviews],\n",
    "    'in_early_access': [review['written_during_early_access'] for review in init_reviews],\n",
    "    'voted_up' : [review['voted_up'] for review in init_reviews]\n",
    "}\n",
    "reviews = pd.DataFrame(reviews_data, columns=columns)\n",
    "\n",
    "# Keeping track if a request was successful:\n",
    "success = init_request['success']\n",
    "while success == 1:\n",
    "    request = re.get(f'https://store.steampowered.com/appreviews/335300?json=1&filter=recent&language=all&day_range=365&cursor={cursor}&review_type=all&purchase_type=all&num_per_page=100').json()\n",
    "    \n",
    "    # About the 'filter' parameter:\n",
    "    # If paging through the reviews with cursor \n",
    "    # then choose either the recent option or the updated option to eventually receive an empty response list\n",
    "    response_list = request['query_summary']\n",
    "    if response_list['num_reviews'] == 0:\n",
    "        break\n",
    "\n",
    "    more_reviews = request['reviews']\n",
    "    more_data = {\n",
    "        'recommendationid' : [review['recommendationid'] for review in more_reviews],\n",
    "        'review': [review['review'] for review in more_reviews],\n",
    "        'language' : [review['language'] for review in more_reviews],\n",
    "        'init_date': [review['timestamp_created'] for review in more_reviews],\n",
    "        'update_date': [review['timestamp_updated'] for review in more_reviews],\n",
    "        'in_early_access': [review['written_during_early_access'] for review in more_reviews],\n",
    "        'voted_up' : [review['voted_up'] for review in more_reviews]\n",
    "    }\n",
    "    more = pd.DataFrame(more_data, columns=columns)\n",
    "    reviews = pd.concat([reviews, more], ignore_index=True)\n",
    "\n",
    "    success = request['success']\n",
    "    cursor = urllib.parse.quote_plus(request['cursor'])\n",
    "\n",
    "reviews"
   ]
  },
  {
   "cell_type": "markdown",
   "metadata": {},
   "source": [
    "## Saving the reviews into a csv file:"
   ]
  },
  {
   "cell_type": "code",
   "execution_count": 9,
   "metadata": {},
   "outputs": [],
   "source": [
    "reviews.to_csv('reviews.csv')"
   ]
  }
 ],
 "metadata": {
  "kernelspec": {
   "display_name": "Python 3",
   "language": "python",
   "name": "python3"
  },
  "language_info": {
   "codemirror_mode": {
    "name": "ipython",
    "version": 3
   },
   "file_extension": ".py",
   "mimetype": "text/x-python",
   "name": "python",
   "nbconvert_exporter": "python",
   "pygments_lexer": "ipython3",
   "version": "3.11.4"
  }
 },
 "nbformat": 4,
 "nbformat_minor": 4
}
