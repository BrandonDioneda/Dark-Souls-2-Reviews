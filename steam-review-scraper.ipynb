{
 "cells": [
  {
   "cell_type": "markdown",
   "metadata": {},
   "source": [
    "# Steam Game Review Scraper"
   ]
  },
  {
   "cell_type": "code",
   "execution_count": 7,
   "metadata": {},
   "outputs": [],
   "source": [
    "import requests as re\n",
    "import pandas as pd\n",
    "import urllib.parse"
   ]
  },
  {
   "cell_type": "markdown",
   "metadata": {},
   "source": [
    "## Requesting reviews from Steam:"
   ]
  },
  {
   "cell_type": "markdown",
   "metadata": {},
   "source": [
    "For this project, we are going to collect the following information:\n",
    "- Steam ID\n",
    "- Review Text\n",
    "- Date Posted\n",
    "- If review was made during early access"
   ]
  },
  {
   "cell_type": "code",
   "execution_count": 8,
   "metadata": {},
   "outputs": [],
   "source": [
    "init_request = re.get('https://store.steampowered.com/appreviews/335300?json=1?filter=all&language=english').json()"
   ]
  },
  {
   "cell_type": "code",
   "execution_count": 9,
   "metadata": {},
   "outputs": [
    {
     "data": {
      "text/plain": [
       "1"
      ]
     },
     "execution_count": 9,
     "metadata": {},
     "output_type": "execute_result"
    }
   ],
   "source": [
    "init_request['success']"
   ]
  },
  {
   "cell_type": "code",
   "execution_count": 10,
   "metadata": {},
   "outputs": [
    {
     "data": {
      "text/plain": [
       "{'num_reviews': 20,\n",
       " 'review_score': 8,\n",
       " 'review_score_desc': 'Very Positive',\n",
       " 'total_positive': 24916,\n",
       " 'total_negative': 5103,\n",
       " 'total_reviews': 30019}"
      ]
     },
     "execution_count": 10,
     "metadata": {},
     "output_type": "execute_result"
    }
   ],
   "source": [
    "init_request['query_summary']"
   ]
  },
  {
   "cell_type": "markdown",
   "metadata": {},
   "source": [
    "- Using cursors to get more batches of reviews:"
   ]
  },
  {
   "cell_type": "code",
   "execution_count": 11,
   "metadata": {},
   "outputs": [
    {
     "data": {
      "text/plain": [
       "'AoIFQFaAAAAAAABwtL3WBQ=='"
      ]
     },
     "execution_count": 11,
     "metadata": {},
     "output_type": "execute_result"
    }
   ],
   "source": [
    "cursor = init_request['cursor']\n",
    "cursor "
   ]
  },
  {
   "cell_type": "code",
   "execution_count": 12,
   "metadata": {},
   "outputs": [
    {
     "data": {
      "text/plain": [
       "'AoIFQFb1RgAAAAB7nN7NBQ=='"
      ]
     },
     "execution_count": 12,
     "metadata": {},
     "output_type": "execute_result"
    }
   ],
   "source": [
    "request = re.get(f'https://store.steampowered.com/appreviews/335300?json=1?filter=all&language=english&num_per_page=100&cursor={cursor}').json()\n",
    "cursor = request['cursor']\n",
    "cursor"
   ]
  },
  {
   "cell_type": "code",
   "execution_count": 13,
   "metadata": {},
   "outputs": [
    {
     "data": {
      "text/plain": [
       "'AoIFQF3AAAAAAAB10aDQBQ=='"
      ]
     },
     "execution_count": 13,
     "metadata": {},
     "output_type": "execute_result"
    }
   ],
   "source": [
    "request = re.get(f'https://store.steampowered.com/appreviews/335300?json=1?filter=all&language=english&num_per_page=100&cursor={cursor}').json()\n",
    "cursor = request['cursor']\n",
    "cursor"
   ]
  },
  {
   "cell_type": "markdown",
   "metadata": {},
   "source": [
    "- Convert to dataframe:"
   ]
  },
  {
   "cell_type": "code",
   "execution_count": 14,
   "metadata": {},
   "outputs": [
    {
     "data": {
      "text/html": [
       "<div>\n",
       "<style scoped>\n",
       "    .dataframe tbody tr th:only-of-type {\n",
       "        vertical-align: middle;\n",
       "    }\n",
       "\n",
       "    .dataframe tbody tr th {\n",
       "        vertical-align: top;\n",
       "    }\n",
       "\n",
       "    .dataframe thead th {\n",
       "        text-align: right;\n",
       "    }\n",
       "</style>\n",
       "<table border=\"1\" class=\"dataframe\">\n",
       "  <thead>\n",
       "    <tr style=\"text-align: right;\">\n",
       "      <th></th>\n",
       "      <th>recommendationid</th>\n",
       "      <th>review</th>\n",
       "      <th>language</th>\n",
       "      <th>init_date</th>\n",
       "      <th>update_date</th>\n",
       "      <th>in_early_access</th>\n",
       "      <th>voted_up</th>\n",
       "    </tr>\n",
       "  </thead>\n",
       "  <tbody>\n",
       "    <tr>\n",
       "      <th>0</th>\n",
       "      <td>190511148</td>\n",
       "      <td>Dont give up, skeleton!</td>\n",
       "      <td>english</td>\n",
       "      <td>1742267451</td>\n",
       "      <td>1742267451</td>\n",
       "      <td>False</td>\n",
       "      <td>True</td>\n",
       "    </tr>\n",
       "    <tr>\n",
       "      <th>1</th>\n",
       "      <td>190505297</td>\n",
       "      <td>魂2是一款褒贬不一但是只要度过第一关就会是很好玩的游戏。（因为有无限量的滴石供应）魂2的地图...</td>\n",
       "      <td>schinese</td>\n",
       "      <td>1742260282</td>\n",
       "      <td>1742260282</td>\n",
       "      <td>False</td>\n",
       "      <td>True</td>\n",
       "    </tr>\n",
       "    <tr>\n",
       "      <th>2</th>\n",
       "      <td>190504311</td>\n",
       "      <td>boia</td>\n",
       "      <td>english</td>\n",
       "      <td>1742259081</td>\n",
       "      <td>1742259081</td>\n",
       "      <td>False</td>\n",
       "      <td>True</td>\n",
       "    </tr>\n",
       "    <tr>\n",
       "      <th>3</th>\n",
       "      <td>190502415</td>\n",
       "      <td>i love this game to pieces. it's the worst Sou...</td>\n",
       "      <td>english</td>\n",
       "      <td>1742256864</td>\n",
       "      <td>1742256864</td>\n",
       "      <td>False</td>\n",
       "      <td>True</td>\n",
       "    </tr>\n",
       "    <tr>\n",
       "      <th>4</th>\n",
       "      <td>190502151</td>\n",
       "      <td>ne kezd el</td>\n",
       "      <td>hungarian</td>\n",
       "      <td>1742256562</td>\n",
       "      <td>1742256562</td>\n",
       "      <td>False</td>\n",
       "      <td>True</td>\n",
       "    </tr>\n",
       "    <tr>\n",
       "      <th>...</th>\n",
       "      <td>...</td>\n",
       "      <td>...</td>\n",
       "      <td>...</td>\n",
       "      <td>...</td>\n",
       "      <td>...</td>\n",
       "      <td>...</td>\n",
       "      <td>...</td>\n",
       "    </tr>\n",
       "    <tr>\n",
       "      <th>113487</th>\n",
       "      <td>15162268</td>\n",
       "      <td>Try tongue but hole</td>\n",
       "      <td>english</td>\n",
       "      <td>1427932431</td>\n",
       "      <td>1428081346</td>\n",
       "      <td>False</td>\n",
       "      <td>True</td>\n",
       "    </tr>\n",
       "    <tr>\n",
       "      <th>113488</th>\n",
       "      <td>15162220</td>\n",
       "      <td>So far so good, played it for 20mins so far wi...</td>\n",
       "      <td>english</td>\n",
       "      <td>1427932153</td>\n",
       "      <td>1427932153</td>\n",
       "      <td>False</td>\n",
       "      <td>True</td>\n",
       "    </tr>\n",
       "    <tr>\n",
       "      <th>113489</th>\n",
       "      <td>15162161</td>\n",
       "      <td>Still haven't died!\\n\\nBonedrinker Rufus 109 -...</td>\n",
       "      <td>english</td>\n",
       "      <td>1427931845</td>\n",
       "      <td>1427931845</td>\n",
       "      <td>False</td>\n",
       "      <td>True</td>\n",
       "    </tr>\n",
       "    <tr>\n",
       "      <th>113490</th>\n",
       "      <td>15162057</td>\n",
       "      <td>Needs more cow Bell\\n\\n10/10</td>\n",
       "      <td>english</td>\n",
       "      <td>1427931196</td>\n",
       "      <td>1427931196</td>\n",
       "      <td>False</td>\n",
       "      <td>True</td>\n",
       "    </tr>\n",
       "    <tr>\n",
       "      <th>113491</th>\n",
       "      <td>15161857</td>\n",
       "      <td>11/10 would die again.</td>\n",
       "      <td>english</td>\n",
       "      <td>1427929899</td>\n",
       "      <td>1427929899</td>\n",
       "      <td>False</td>\n",
       "      <td>True</td>\n",
       "    </tr>\n",
       "  </tbody>\n",
       "</table>\n",
       "<p>113492 rows × 7 columns</p>\n",
       "</div>"
      ],
      "text/plain": [
       "       recommendationid                                             review  \\\n",
       "0             190511148                            Dont give up, skeleton!   \n",
       "1             190505297  魂2是一款褒贬不一但是只要度过第一关就会是很好玩的游戏。（因为有无限量的滴石供应）魂2的地图...   \n",
       "2             190504311                                               boia   \n",
       "3             190502415  i love this game to pieces. it's the worst Sou...   \n",
       "4             190502151                                         ne kezd el   \n",
       "...                 ...                                                ...   \n",
       "113487         15162268                                Try tongue but hole   \n",
       "113488         15162220  So far so good, played it for 20mins so far wi...   \n",
       "113489         15162161  Still haven't died!\\n\\nBonedrinker Rufus 109 -...   \n",
       "113490         15162057                       Needs more cow Bell\\n\\n10/10   \n",
       "113491         15161857                             11/10 would die again.   \n",
       "\n",
       "         language   init_date  update_date  in_early_access  voted_up  \n",
       "0         english  1742267451   1742267451            False      True  \n",
       "1        schinese  1742260282   1742260282            False      True  \n",
       "2         english  1742259081   1742259081            False      True  \n",
       "3         english  1742256864   1742256864            False      True  \n",
       "4       hungarian  1742256562   1742256562            False      True  \n",
       "...           ...         ...          ...              ...       ...  \n",
       "113487    english  1427932431   1428081346            False      True  \n",
       "113488    english  1427932153   1427932153            False      True  \n",
       "113489    english  1427931845   1427931845            False      True  \n",
       "113490    english  1427931196   1427931196            False      True  \n",
       "113491    english  1427929899   1427929899            False      True  \n",
       "\n",
       "[113492 rows x 7 columns]"
      ]
     },
     "execution_count": 14,
     "metadata": {},
     "output_type": "execute_result"
    }
   ],
   "source": [
    "# Initial request:\n",
    "init_response = re.get(f'https://store.steampowered.com/appreviews/335300?json=1&filter=recent&language=all&day_range=365&cursor=*&review_type=all&purchase_type=all&num_per_page=100').json()\n",
    "\n",
    "# Used to get further batches of reviews:\n",
    "cursor = urllib.parse.quote_plus(init_response['cursor'])\n",
    "\n",
    "# Creating the actual DataFrame:\n",
    "init_reviews = init_response['reviews']\n",
    "\n",
    "columns = ['recommendationid', 'review', 'language', 'init_date', 'update_date', 'in_early_access', 'voted_up']\n",
    "reviews_data = {\n",
    "    'recommendationid' : [review['recommendationid'] for review in init_reviews],\n",
    "    'review': [review['review'] for review in init_reviews],\n",
    "    'language' : [review['language'] for review in init_reviews],\n",
    "    'init_date': [review['timestamp_created'] for review in init_reviews],\n",
    "    'update_date': [review['timestamp_updated'] for review in init_reviews],\n",
    "    'in_early_access': [review['written_during_early_access'] for review in init_reviews],\n",
    "    'voted_up' : [review['voted_up'] for review in init_reviews]\n",
    "}\n",
    "reviews = pd.DataFrame(reviews_data, columns=columns)\n",
    "\n",
    "# Keeping track if a request was successful:\n",
    "success = init_request['success']\n",
    "while success == 1:\n",
    "    request = re.get(f'https://store.steampowered.com/appreviews/335300?json=1&filter=recent&language=all&day_range=365&cursor={cursor}&review_type=all&purchase_type=all&num_per_page=100').json()\n",
    "    \n",
    "    # About the 'filter' parameter:\n",
    "    # If paging through the reviews with cursor \n",
    "    # then choose either the recent option or the updated option to eventually receive an empty response list\n",
    "    response_list = request['query_summary']\n",
    "    if response_list['num_reviews'] == 0:\n",
    "        break\n",
    "\n",
    "    more_reviews = request['reviews']\n",
    "    more_data = {\n",
    "        'recommendationid' : [review['recommendationid'] for review in more_reviews],\n",
    "        'review': [review['review'] for review in more_reviews],\n",
    "        'language' : [review['language'] for review in more_reviews],\n",
    "        'init_date': [review['timestamp_created'] for review in more_reviews],\n",
    "        'update_date': [review['timestamp_updated'] for review in more_reviews],\n",
    "        'in_early_access': [review['written_during_early_access'] for review in more_reviews],\n",
    "        'voted_up' : [review['voted_up'] for review in more_reviews]\n",
    "    }\n",
    "    more = pd.DataFrame(more_data, columns=columns)\n",
    "    reviews = pd.concat([reviews, more], ignore_index=True)\n",
    "\n",
    "    success = request['success']\n",
    "    cursor = urllib.parse.quote_plus(request['cursor'])\n",
    "\n",
    "reviews"
   ]
  },
  {
   "cell_type": "markdown",
   "metadata": {},
   "source": [
    "## Saving the reviews into a csv file:"
   ]
  },
  {
   "cell_type": "code",
   "execution_count": 15,
   "metadata": {},
   "outputs": [],
   "source": [
    "reviews.to_csv('reviews.csv')"
   ]
  }
 ],
 "metadata": {
  "kernelspec": {
   "display_name": "base",
   "language": "python",
   "name": "python3"
  },
  "language_info": {
   "codemirror_mode": {
    "name": "ipython",
    "version": 3
   },
   "file_extension": ".py",
   "mimetype": "text/x-python",
   "name": "python",
   "nbconvert_exporter": "python",
   "pygments_lexer": "ipython3",
   "version": "3.11.5"
  }
 },
 "nbformat": 4,
 "nbformat_minor": 4
}
