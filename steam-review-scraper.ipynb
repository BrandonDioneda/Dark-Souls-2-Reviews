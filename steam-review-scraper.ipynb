{
 "cells": [
  {
   "cell_type": "markdown",
   "metadata": {},
   "source": [
    "# Steam Game Review Scraper"
   ]
  },
  {
   "cell_type": "markdown",
   "metadata": {},
   "source": [
    "Webscrape game review data from Steam, including the user, profile link, and the review itself"
   ]
  },
  {
   "cell_type": "code",
   "execution_count": 1,
   "metadata": {},
   "outputs": [],
   "source": [
    "import requests\n",
    "import pandas as pd"
   ]
  },
  {
   "cell_type": "markdown",
   "metadata": {},
   "source": [
    "## Scrapping:"
   ]
  },
  {
   "cell_type": "markdown",
   "metadata": {},
   "source": [
    "The page is continously scrolling, so you'll need to grab the cards, then scroll down to the bottom and repeat until finished. For this project, we are going to collect the following information:\n",
    "- Steam ID\n",
    "- Review Text\n",
    "- Review Recommendation\n",
    "- Date Posted\n",
    "- There are 181 pages of DS2 reviews\n",
    "- Each review is contained under:\n",
    "    - div class=\"apphub_CardTextContent\""
   ]
  },
  {
   "cell_type": "code",
   "execution_count": 4,
   "metadata": {},
   "outputs": [
    {
     "data": {
      "text/plain": [
       "'{\"success\":1,\"query_summary\":{\"num_reviews\":20,\"review_score\":8,\"review_score_desc\":\"Very Positive\",\"total_positive\":21322,\"total_negative\":4298,\"total_reviews\":25620},\"reviews\":[{\"recommendationid\":\"153639789\",\"author\":{\"steamid\":\"76561199008721002\",\"num_games_owned\":56,\"num_reviews\":3,\"playtime_forever\":6649,\"playtime_last_two_weeks\":0,\"playtime_at_review\":6649,\"last_played\":1702221179},\"language\":\"english\",\"review\":\"I Will Eat 1 Pickle For Every Like on This Review\",\"timestamp_created\":1702646805,\"timestamp_updated\":1702646805,\"voted_up\":true,\"votes_up\":463,\"votes_funny\":8,\"weighted_vote_score\":\"0.910576879978179932\",\"comment_count\":3,\"steam_purchase\":true,\"received_for_free\":false,\"written_during_early_access\":false,\"hidden_in_steam_china\":true,\"steam_china_location\":\"\"},{\"recommendationid\":\"154265797\",\"author\":{\"steamid\":\"76561198050622611\",\"num_games_owned\":0,\"num_reviews\":8,\"playtime_forever\":3532,\"playtime_last_two_weeks\":40,\"playtime_at_review\":3492,\"last_played\":1704237463},\"language\":\"english\",\"review\":\"The worst Souls game is still better than 80% of what comes out today.\",\"timestamp_created\":1703390624,\"timestamp_updated\":1703390624,\"voted_up\":true,\"votes_up\":100,\"votes_funny\":6,\"weighted_vote_score\":\"0.809106349945068359\",\"comment_count\":3,\"steam_purchase\":true,\"received_for_free\":false,\"written_during_early_access\":false,\"hidden_in_steam_china\":true,\"steam_china_location\":\"\"},{\"recommendationid\":\"153883241\",\"author\":{\"steamid\":\"76561197971414769\",\"num_games_owned\":0,\"num_reviews\":26,\"playtime_forever\":695,\"playtime_last_two_weeks\":0,\"playtime_at_review\":695,\"last_played\":1702935499},\"language\":\"english\",\"review\":\"I started the Souls games at DS1 Remastered then went into this game and I have to say it\\'s clearly visible that this game had a different direction than the original in terms of design.\\\\n\\\\nYour greatest enemy in this game is going to be the controls and their poor response and configurations as well as random anomalies such as attacking in a random direction rather than the locked on target. The second enemy is the level design and the third is the increased number of enemies all around the map. It\\'s not that the game is difficult it\\'s more just obnoxious with the enemy spam and leaves little to no room to appreciate the new combat system because it just becomes a hit-roll-hit-run type of deal.\\\\n\\\\nNow add on top of that the inability to opt out of online mode and get invaded regardless of your hollow status, if anything you get punished the more you die... oh right your max health is reduced with each death which again just punishes you more on top of higher invasion chance.\\\\n\\\\nI\\'m all for challenging games but this one is more challenge of patience rather than skill and I am losing my patience to even bother learning and finishing this game. Definitely earned the reputation of black sheep among the souls games.\",\"timestamp_created\":1702937808,\"timestamp_updated\":1702937841,\"voted_up\":false,\"votes_up\":40,\"votes_funny\":2,\"weighted_vote_score\":\"0.64975661039352417\",\"comment_count\":0,\"steam_purchase\":true,\"received_for_free\":false,\"written_during_early_access\":false,\"hidden_in_steam_china\":true,\"steam_china_location\":\"\"},{\"recommendationid\":\"154616865\",\"author\":{\"steamid\":\"76561198097519385\",\"num_games_owned\":0,\"num_reviews\":31,\"playtime_forever\":3745,\"playtime_last_two_weeks\":366,\"playtime_at_review\":3745,\"last_played\":1703621572},\"language\":\"english\",\"review\":\"I honestly don\\'t get the hate DS2 is getting sometimes. I had an absolut amazing time playing this. Of course, compared to the other FS games it might be not the best of them, BUT compared to games as a whole it is still better than 95% of everything else out there.\\\\nDefinitly recommended, especially if you are a souls fan.\",\"timestamp_created\":1703760602,\"timestamp_updated\":1703760602,\"voted_up\":true,\"votes_up\":9,\"votes_funny\":0,\"weighted_vote_score\":\"0.640703499317169189\",\"comment_count\":0,\"steam_purchase\":true,\"received_for_free\":false,\"written_during_early_access\":false,\"hidden_in_steam_china\":true,\"steam_china_location\":\"\"},{\"recommendationid\":\"154657615\",\"author\":{\"steamid\":\"76561198430735162\",\"num_games_owned\":0,\"num_reviews\":3,\"playtime_forever\":1460,\"playtime_last_two_weeks\":1405,\"playtime_at_review\":370,\"last_played\":1704645700},\"language\":\"english\",\"review\":\"it\\'s complete dogshit and I love it wholeheartedly\",\"timestamp_created\":1703796898,\"timestamp_updated\":1703796898,\"voted_up\":true,\"votes_up\":8,\"votes_funny\":0,\"weighted_vote_score\":\"0.601990044116973877\",\"comment_count\":0,\"steam_purchase\":true,\"received_for_free\":false,\"written_during_early_access\":false,\"hidden_in_steam_china\":true,\"steam_china_location\":\"\"},{\"recommendationid\":\"154965753\",\"author\":{\"steamid\":\"76561198837508864\",\"num_games_owned\":117,\"num_reviews\":10,\"playtime_forever\":1544,\"playtime_last_two_weeks\":0,\"playtime_at_review\":1544,\"last_played\":1695233601},\"language\":\"english\",\"review\":\"Maybe the dark soul is the hours wasted on the ancient dragon all along\",\"timestamp_created\":1704105819,\"timestamp_updated\":1704105819,\"voted_up\":true,\"votes_up\":7,\"votes_funny\":1,\"weighted_vote_score\":\"0.599555075168609619\",\"comment_count\":0,\"steam_purchase\":true,\"received_for_free\":false,\"written_during_early_access\":false,\"hidden_in_steam_china\":true,\"steam_china_location\":\"\"},{\"recommendationid\":\"155286685\",\"author\":{\"steamid\":\"76561198029610672\",\"num_games_owned\":460,\"num_reviews\":122,\"playtime_forever\":1761,\"playtime_last_two_weeks\":1257,\"playtime_at_review\":1609,\"last_played\":1704596603},\"language\":\"english\",\"review\":\"DS2 is a fine game. It\\'s not excellent at all - there aren\\'t any real killer tracks to the music, the level design is often flat especially early on and the color palette can suck, most bosses are forgettable and almost every single one of them is varying degrees of easy to trivial - but it\\'s decent enough to be merely the least-good Souls title and still be worth picking up.\\\\n\\\\nBut not with the changes Scholar of the First Sin made.\\\\n\\\\nThese levels are nightmarishly tedious and actually become fairly difficult to play solo, a constant test of your patience and of your weapon choice.  Scholar dumped a ton of mobs everywhere to compensate for what I assume felt like mob-light sections of the map, but it made nearly half the game actively unenjoyable. I softly recommend Dark Souls 2 but strictly cannot recommend this product. Get the base game on here with the DLC package separate or something, just avoid buying the Scholar of the First Sin edition.\",\"timestamp_created\":1704435298,\"timestamp_updated\":1704435298,\"voted_up\":false,\"votes_up\":4,\"votes_funny\":0,\"weighted_vote_score\":\"0.583333313465118408\",\"comment_count\":0,\"steam_purchase\":true,\"received_for_free\":false,\"written_during_early_access\":false,\"hidden_in_steam_china\":true,\"steam_china_location\":\"\"},{\"recommendationid\":\"154113693\",\"author\":{\"steamid\":\"76561198393247053\",\"num_games_owned\":0,\"num_reviews\":18,\"playtime_forever\":2030,\"playtime_last_two_weeks\":0,\"playtime_at_review\":2030,\"last_played\":1689934513},\"language\":\"english\",\"review\":\"if i could kill it i would but i legally can\\'t\",\"timestamp_created\":1703229561,\"timestamp_updated\":1703229561,\"voted_up\":false,\"votes_up\":5,\"votes_funny\":0,\"weighted_vote_score\":\"0.54892432689666748\",\"comment_count\":0,\"steam_purchase\":true,\"received_for_free\":false,\"written_during_early_access\":false,\"hidden_in_steam_china\":true,\"steam_china_location\":\"\"},{\"recommendationid\":\"153678917\",\"author\":{\"steamid\":\"76561198403873233\",\"num_games_owned\":0,\"num_reviews\":2,\"playtime_forever\":1811,\"playtime_last_two_weeks\":1,\"playtime_at_review\":1081,\"last_played\":1704436421},\"language\":\"english\",\"review\":\"put over 900+ hours into the original xbox 360 black armor edition , another 200+ into SOTFS on xbox one , and will be sure to put another few hundred into this one. couldn\\'t recommend more.\",\"timestamp_created\":1702688138,\"timestamp_updated\":1702688138,\"voted_up\":true,\"votes_up\":2,\"votes_funny\":0,\"weighted_vote_score\":\"0.54356849193572998\",\"comment_count\":0,\"steam_purchase\":true,\"received_for_free\":false,\"written_during_early_access\":false,\"hidden_in_steam_china\":true,\"steam_china_location\":\"\"},{\"recommendationid\":\"153973231\",\"author\":{\"steamid\":\"76561198047644286\",\"num_games_owned\":0,\"num_reviews\":14,\"playtime_forever\":3870,\"playtime_last_two_weeks\":2193,\"playtime_at_review\":728,\"last_played\":1704566564},\"language\":\"english\",\"review\":\"Easily The Worst Dark Souls game\\\\n\\\\nI\\'m sorry, truly I am. I love Fromsoft and all it\\'s games. DS1 and Elden Ring are Masterpieces. Demons Souls, DS3 and  Bloodblourne are all Very good. But this is just the worst of the franchise and by a wide margin. Here\\'s a great many reasons why. You can only level up at one bonfire in Majula by talking to the one Firekeeper. Health restoring items take a long time to recharge your health and you only get 1 estus flask to begin with. So finding windows to heal en-midst a tense fight is way harder. They separated the Stamina and Weight Capacity stats so now you have to separately level those. The stamina bar also depletes way faster so you can\\'t even get through 2 chains without having to back off and wait even with almost 30 END. The Blacksmith can\\'t craft the Boss weapons anymore, you have find the specific vendors out in the wild that carry the specific one your looking for. You get invaded by other players even while hollowed. Then there\\'s the Health depletion mechanic. Die and your health bar is reduced. Die too often and your health is Halved. Use an effigy to get it back but use all the ones you\\'ve got and your up a creek without a paddle. The controls are considerably worse. Sometimes functions take several clicks just to work properly. Everything is stiffer. All animations are dragged out way longer. There\\'s way fewer I-Frames on the dodge mechanics so you get clipped way more often and launched if you dodge the wrong way. The hit boxes are way bigger in general so you just get smacked around lot more. A LOT of DS1 is copy pasted in here including plenty of armor and weapons and entire bosses. The level design is noticeably worse with more claustrophobic enclosures. The scenery is worse in general regardless of the poorer graphics. One of the worst changes is the shear amount of enemies. After a bit, they just start dog piling you with overpowered enemies. Like, they will have you drop into the middle of a balancing platform section with some platforms falling out from underneath you, and surround you with 3 quick knights, 2 greatbow snipers, 3 big knights and fire spouts everywhere shooting up, all of which kill you in 2-3 hits. Like I\\'ve played Fromsoft games for years and I understand fair difficulty. This isn\\'t just a case of \\\\\"Get better and in time you\\'ll be able to breeze through it\\\\\". This is more like, GOOD LUCK, *Slams door* and fifty overpowered and giant enemies beat you down into the dirt. And again, I could stomach it if they\\'d have just brought the mechanics and controls over from the first one. If it still felt tight and were complimented by your snap reflexes. As it stands, this has been the one that felt the most like a chore to complete. They made it way harder and then way harder to play it, too. So no I don\\'t recommend it. I\\'ll probably never play it again but I am gonna go back play DS1 to wash the taste out.\",\"timestamp_created\":1703046576,\"timestamp_updated\":1703783060,\"voted_up\":false,\"votes_up\":4,\"votes_funny\":2,\"weighted_vote_score\":\"0.539923965930938721\",\"comment_count\":0,\"steam_purchase\":true,\"received_for_free\":false,\"written_during_early_access\":false,\"hidden_in_steam_china\":true,\"steam_china_location\":\"\"},{\"recommendationid\":\"154444566\",\"author\":{\"steamid\":\"76561198976770859\",\"num_games_owned\":134,\"num_reviews\":33,\"playtime_forever\":16751,\"playtime_last_two_weeks\":778,\"playtime_at_review\":16105,\"last_played\":1703775491},\"language\":\"english\",\"review\":\"Nah, I\\'d win.\",\"timestamp_created\":1703590701,\"timestamp_updated\":1703590701,\"voted_up\":true,\"votes_up\":2,\"votes_funny\":0,\"weighted_vote_score\":\"0.539325833320617676\",\"comment_count\":0,\"steam_purchase\":true,\"received_for_free\":false,\"written_during_early_access\":false,\"hidden_in_steam_china\":true,\"steam_china_location\":\"\"},{\"recommendationid\":\"154092385\",\"author\":{\"steamid\":\"76561198075082656\",\"num_games_owned\":0,\"num_reviews\":77,\"playtime_forever\":2843,\"playtime_last_two_weeks\":0,\"playtime_at_review\":2843,\"last_played\":1703200253},\"language\":\"english\",\"review\":\"It has some questionable design decisions but overall it\\'s still a solid entry in Souls franchise, 8/10\",\"timestamp_created\":1703200433,\"timestamp_updated\":1703200433,\"voted_up\":true,\"votes_up\":7,\"votes_funny\":0,\"weighted_vote_score\":\"0.538709700107574463\",\"comment_count\":0,\"steam_purchase\":true,\"received_for_free\":false,\"written_during_early_access\":false,\"hidden_in_steam_china\":true,\"steam_china_location\":\"\"},{\"recommendationid\":\"155346900\",\"author\":{\"steamid\":\"76561198825749301\",\"num_games_owned\":33,\"num_reviews\":7,\"playtime_forever\":13824,\"playtime_last_two_weeks\":5244,\"playtime_at_review\":13824,\"last_played\":1704498846},\"language\":\"english\",\"review\":\"best in the trilogy\",\"timestamp_created\":1704498864,\"timestamp_updated\":1704498864,\"voted_up\":true,\"votes_up\":1,\"votes_funny\":0,\"weighted_vote_score\":\"0.525862038135528564\",\"comment_count\":0,\"steam_purchase\":true,\"received_for_free\":false,\"written_during_early_access\":false,\"hidden_in_steam_china\":true,\"steam_china_location\":\"\"},{\"recommendationid\":\"155104543\",\"author\":{\"steamid\":\"76561198127323601\",\"num_games_owned\":0,\"num_reviews\":86,\"playtime_forever\":2671,\"playtime_last_two_weeks\":0,\"playtime_at_review\":2671,\"last_played\":1677196178},\"language\":\"english\",\"review\":\"Loved DS2 way more than one, it was tons of fun! I know some people will see this as a negative, but I love how linear DS2 is compared to DS1. Also the rolling feels much better, lots of improvements. The different weapons and builds are also fun, and the bosses are pretty neat.\",\"timestamp_created\":1704241780,\"timestamp_updated\":1704241780,\"voted_up\":true,\"votes_up\":1,\"votes_funny\":0,\"weighted_vote_score\":\"0.525862038135528564\",\"comment_count\":0,\"steam_purchase\":true,\"received_for_free\":false,\"written_during_early_access\":false,\"hidden_in_steam_china\":true,\"steam_china_location\":\"\"},{\"recommendationid\":\"154513026\",\"author\":{\"steamid\":\"76561198786107824\",\"num_games_owned\":0,\"num_reviews\":16,\"playtime_forever\":817,\"playtime_last_two_weeks\":476,\"playtime_at_review\":594,\"last_played\":1703746464},\"language\":\"english\",\"review\":\"you need a very special type of autism to enjoy this game.\",\"timestamp_created\":1703652984,\"timestamp_updated\":1703652984,\"voted_up\":false,\"votes_up\":4,\"votes_funny\":1,\"weighted_vote_score\":\"0.525835871696472168\",\"comment_count\":0,\"steam_purchase\":true,\"received_for_free\":false,\"written_during_early_access\":false,\"hidden_in_steam_china\":true,\"steam_china_location\":\"\"},{\"recommendationid\":\"154273291\",\"author\":{\"steamid\":\"76561198259128102\",\"num_games_owned\":206,\"num_reviews\":10,\"playtime_forever\":1251,\"playtime_last_two_weeks\":0,\"playtime_at_review\":1251,\"last_played\":1683176145},\"language\":\"english\",\"review\":\"Please Bring Bloodborne on PC\",\"timestamp_created\":1703399677,\"timestamp_updated\":1703399677,\"voted_up\":true,\"votes_up\":2,\"votes_funny\":0,\"weighted_vote_score\":\"0.52476954460144043\",\"comment_count\":0,\"steam_purchase\":true,\"received_for_free\":false,\"written_during_early_access\":false,\"hidden_in_steam_china\":true,\"steam_china_location\":\"\"},{\"recommendationid\":\"155479659\",\"author\":{\"steamid\":\"76561198010041057\",\"num_games_owned\":78,\"num_reviews\":23,\"playtime_forever\":2722,\"playtime_last_two_weeks\":425,\"playtime_at_review\":2722,\"last_played\":1704277369},\"language\":\"english\",\"review\":\"Dark Souls 2 is the ugly duckling of the Dark Souls franchise. I think this game does things both correctly and frustratingly in equal measure.\\\\n\\\\nThe first thing I\\'ll comment on is the \\\\\"gank squad\\\\\" enemies (specifically relating to bosses). This is pretty egregious in Dark Souls 2 compared to its counterparts and can be extremely frustrating at times.\\\\n\\\\nAnother comment I think I need to make is the healing items, Dark Souls 2 is different in that you get access to many healing items as opposed to just the Estus Flask as seen in other Fromsoft games (which can cheapen or make the experience seem easier). This could be a good thing or a bad thing depending on your approach to the series.\\\\n\\\\nThe bosses can also feel a little samey (design wise). (though there are plenty of cool looking bosses)\\\\n\\\\nWith this being said though Dark Souls 2 is still a great game, it\\'s got the same gritty feel of the other games and it has the most content in terms of NG+ experience of any of it\\'s 2 peers and you still get the satisfied feeling of beating a hard boss. The dlc is pretty great in DS2 as well and provides a solid challenge.\\\\n\\\\nDS2 is a little more janky than the other 2 games in the franchise but I would recommend it easily to any DS fan despite the general criticism it receives. If you like DS and DS3 give DS2 a shot, it may feel a little whacky in the beginning but once you\\'re in, you\\'re locked in.\\\\n\",\"timestamp_created\":1704637122,\"timestamp_updated\":1704637278,\"voted_up\":true,\"votes_up\":1,\"votes_funny\":0,\"weighted_vote_score\":\"0.523809552192687988\",\"comment_count\":0,\"steam_purchase\":true,\"received_for_free\":false,\"written_during_early_access\":false,\"hidden_in_steam_china\":true,\"steam_china_location\":\"\"},{\"recommendationid\":\"155400310\",\"author\":{\"steamid\":\"76561198177906539\",\"num_games_owned\":237,\"num_reviews\":6,\"playtime_forever\":2428,\"playtime_last_two_weeks\":0,\"playtime_at_review\":2428,\"last_played\":1703492112},\"language\":\"english\",\"review\":\"I don\\'t want to give it a thumbs down but god I hate this game\",\"timestamp_created\":1704557554,\"timestamp_updated\":1704557554,\"voted_up\":true,\"votes_up\":2,\"votes_funny\":0,\"weighted_vote_score\":\"0.523809552192687988\",\"comment_count\":0,\"steam_purchase\":true,\"received_for_free\":false,\"written_during_early_access\":false,\"hidden_in_steam_china\":true,\"steam_china_location\":\"\"},{\"recommendationid\":\"155281023\",\"author\":{\"steamid\":\"76561199196645050\",\"num_games_owned\":0,\"num_reviews\":2,\"playtime_forever\":2847,\"playtime_last_two_weeks\":2478,\"playtime_at_review\":1058,\"last_played\":1704768798},\"language\":\"english\",\"review\":\"I had heard sometime ago that many people hated this version of Dark Souls II, so I went through the trouble of buying Scholar of the First Sin and a copy of the original version for the Xbox 360, version which I played around September. Dark Souls II is not a bad game as many make it out to be. It\\'s actually a pretty great game even with all its faults (which are many). Now, Scholar of the First Sin is not a good version. The original Dark Souls II was unforgiving enough, especially in levels like Shrine of Amana, which is basically hell made game. FromSoftware had the opportunity to correct the mistakes, make the game not easy, but more fair (because it is the only Souls that I consider unfair). Yet they decided to make the game worse. Tiny levels like Earthen Peak have a ridiculous amount of enemies that are fast, once they get you you\\'re sure to be hit around three times and be inflicted with poison. In The Iron Keep you have four enemies in the first room and seven more after that and not counting some that are shooting arrows from the distance, and they all come for you almost at the same time. From a design perspective, it\\'s bad because you can\\'t reach all of them soon enough before they send you to God and the tools they give do not help. FromSoftware actually pretends that each time you lose to a boss you kill each and every last one of the enemies you come across before entering the boss room again, and that almost always means killing +7 enemies that are close to each other. You may think it\\'s just me having skill issues, but like I said, I played the original version of this game and did everything it had to offer and loved it, not to forget that up until now I have also played Elden Ring and Dark Souls I and III and none made me feel as frustrated as this version of Dark Souls II. The real question you should ask yourself is: Do I want to play a prettier version or the better designed version of the game?\\\\nI really recommend you to play the original version first if you have an Xbox 360 lying around or buy it on Steam, it\\'s available as well. Then, if you\\'re interested, play this version.\",\"timestamp_created\":1704427427,\"timestamp_updated\":1704428294,\"voted_up\":false,\"votes_up\":1,\"votes_funny\":0,\"weighted_vote_score\":\"0.523809552192687988\",\"comment_count\":0,\"steam_purchase\":true,\"received_for_free\":false,\"written_during_early_access\":false,\"hidden_in_steam_china\":true,\"steam_china_location\":\"\"},{\"recommendationid\":\"155269338\",\"author\":{\"steamid\":\"76561198271467134\",\"num_games_owned\":0,\"num_reviews\":2,\"playtime_forever\":8085,\"playtime_last_two_weeks\":928,\"playtime_at_review\":7156,\"last_played\":1704724713},\"language\":\"english\",\"review\":\"This is the one that started my love for all souls games. I played it when I was younger and didn\\'t know I would get immersed in such a fantastical but unforgiving world! DS2 is a must try for anyone who is a fan or looking to get into souls games.\",\"timestamp_created\":1704413920,\"timestamp_updated\":1704413920,\"voted_up\":true,\"votes_up\":1,\"votes_funny\":0,\"weighted_vote_score\":\"0.523809552192687988\",\"comment_count\":0,\"steam_purchase\":true,\"received_for_free\":false,\"written_during_early_access\":false,\"hidden_in_steam_china\":true,\"steam_china_location\":\"\"}],\"cursor\":\"AoIIPwYYanqNp9AE\"}'"
      ]
     },
     "execution_count": 4,
     "metadata": {},
     "output_type": "execute_result"
    }
   ],
   "source": [
    "requests.get('https://store.steampowered.com/appreviews/335300?json=1?filter=').text"
   ]
  },
  {
   "cell_type": "markdown",
   "metadata": {},
   "source": [
    "## Save the results"
   ]
  },
  {
   "cell_type": "markdown",
   "metadata": {},
   "source": [
    "Putting reviews in a dataframe"
   ]
  },
  {
   "cell_type": "code",
   "execution_count": null,
   "metadata": {},
   "outputs": [],
   "source": [
    "reviews = pd.DataFrame(reviews)\n",
    "reviews.columns = ['SteamId', 'Review', 'Recommended?', 'DatePosted']\n",
    "reviews"
   ]
  },
  {
   "cell_type": "markdown",
   "metadata": {},
   "source": [
    "Saving the reviews into a csv file:"
   ]
  },
  {
   "cell_type": "code",
   "execution_count": null,
   "metadata": {},
   "outputs": [],
   "source": [
    "# save the df to a CSV file\n",
    "reviews.to_csv('reviews.csv')"
   ]
  }
 ],
 "metadata": {
  "kernelspec": {
   "display_name": "Python 3",
   "language": "python",
   "name": "python3"
  },
  "language_info": {
   "codemirror_mode": {
    "name": "ipython",
    "version": 3
   },
   "file_extension": ".py",
   "mimetype": "text/x-python",
   "name": "python",
   "nbconvert_exporter": "python",
   "pygments_lexer": "ipython3",
   "version": "3.11.5"
  }
 },
 "nbformat": 4,
 "nbformat_minor": 4
}
