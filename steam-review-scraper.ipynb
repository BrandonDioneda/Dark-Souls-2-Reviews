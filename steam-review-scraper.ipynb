{
 "cells": [
  {
   "cell_type": "markdown",
   "metadata": {},
   "source": [
    "# Steam Game Review Scraper"
   ]
  },
  {
   "cell_type": "markdown",
   "metadata": {},
   "source": [
    "Webscrape game review data from Steam, including the user, profile link, and the review itself"
   ]
  },
  {
   "cell_type": "code",
   "execution_count": 1,
   "metadata": {},
   "outputs": [],
   "source": [
    "import requests as re\n",
    "import pandas as pd"
   ]
  },
  {
   "cell_type": "markdown",
   "metadata": {},
   "source": [
    "## Requesting reviews from Steam:"
   ]
  },
  {
   "cell_type": "markdown",
   "metadata": {},
   "source": [
    "The page is continously scrolling, so you'll need to grab the cards, then scroll down to the bottom and repeat until finished. For this project, we are going to collect the following information:\n",
    "- Steam ID\n",
    "- Review Text\n",
    "- Review Recommendation\n",
    "- Date Posted\n",
    "- There are 181 pages of DS2 reviews\n",
    "- Each review is contained under:\n",
    "    - div class=\"apphub_CardTextContent\""
   ]
  },
  {
   "cell_type": "code",
   "execution_count": 2,
   "metadata": {},
   "outputs": [],
   "source": [
    "init_request = re.get('https://store.steampowered.com/appreviews/335300?json=1?filter=all&language=english&num_per_page=100').json()"
   ]
  },
  {
   "cell_type": "code",
   "execution_count": 3,
   "metadata": {},
   "outputs": [
    {
     "data": {
      "text/plain": [
       "1"
      ]
     },
     "execution_count": 3,
     "metadata": {},
     "output_type": "execute_result"
    }
   ],
   "source": [
    "init_request['success']"
   ]
  },
  {
   "cell_type": "code",
   "execution_count": 4,
   "metadata": {},
   "outputs": [
    {
     "data": {
      "text/plain": [
       "{'num_reviews': 91,\n",
       " 'review_score': 8,\n",
       " 'review_score_desc': 'Very Positive',\n",
       " 'total_positive': 21986,\n",
       " 'total_negative': 4471,\n",
       " 'total_reviews': 26457}"
      ]
     },
     "execution_count": 4,
     "metadata": {},
     "output_type": "execute_result"
    }
   ],
   "source": [
    "init_request['query_summary']"
   ]
  },
  {
   "cell_type": "markdown",
   "metadata": {},
   "source": [
    "- Using cursors to get more batches of reviews:"
   ]
  },
  {
   "cell_type": "code",
   "execution_count": 5,
   "metadata": {},
   "outputs": [
    {
     "data": {
      "text/plain": [
       "'AoIIPwAAAHyKjuEE'"
      ]
     },
     "execution_count": 5,
     "metadata": {},
     "output_type": "execute_result"
    }
   ],
   "source": [
    "cursor = init_request['cursor']\n",
    "cursor "
   ]
  },
  {
   "cell_type": "code",
   "execution_count": 6,
   "metadata": {},
   "outputs": [
    {
     "data": {
      "text/plain": [
       "'AoIIPwYYanm+09sE'"
      ]
     },
     "execution_count": 6,
     "metadata": {},
     "output_type": "execute_result"
    }
   ],
   "source": [
    "request = re.get(f'https://store.steampowered.com/appreviews/335300?json=1?filter=all&language=english&num_per_page=100&cursor={cursor}').json()\n",
    "request['cursor']"
   ]
  },
  {
   "cell_type": "markdown",
   "metadata": {},
   "source": [
    "- Convert to dataframe:"
   ]
  },
  {
   "cell_type": "code",
   "execution_count": 7,
   "metadata": {},
   "outputs": [],
   "source": [
    "def review_batches(app_id=335300):\n",
    "    # Initial request:\n",
    "    init_request = re.get(f'https://store.steampowered.com/appreviews/{app_id}?json=1?filter=all&language=english&num_per_page=100&cursor=*').json()\n",
    "\n",
    "    # Used to get further batches of reviews:\n",
    "    cursor = init_request['cursor']\n",
    "\n",
    "    # Creating the actual df:\n",
    "    init_reviews = init_request['reviews']\n",
    "\n",
    "    columns = ['review', 'init_date', 'update_date', 'in_early_access']\n",
    "    reviews_data = {\n",
    "        'review': [review['review'] for review in init_reviews],\n",
    "        'init_date': [review['timestamp_created'] for review in init_reviews],\n",
    "        'update_date': [review['timestamp_updated'] for review in init_reviews],\n",
    "        'in_early_access': [review['written_during_early_access'] for review in init_reviews]\n",
    "    }\n",
    "    reviews = pd.DataFrame(reviews_data, columns=columns)\n",
    "\n",
    "    # Keeping track if a request was successful:\n",
    "    success = init_request['success']\n",
    "    while success:\n",
    "        request = re.get(f'https://store.steampowered.com/appreviews/{app_id}?json=1?filter=all&language=english&num_per_page=100&cursor={cursor}').json()\n",
    "        if 'cursor' in request:\n",
    "            cursor = request['cursor']\n",
    "        else:\n",
    "            break\n",
    "\n",
    "        more_data = {\n",
    "            'review': [review['review'] for review in init_reviews],\n",
    "            'init_date': [review['timestamp_created'] for review in init_reviews],\n",
    "            'update_date': [review['timestamp_updated'] for review in init_reviews],\n",
    "            'in_early_access': [review['written_during_early_access'] for review in init_reviews]\n",
    "        }\n",
    "        more = pd.DataFrame(more_data, columns=columns)\n",
    "        reviews = pd.concat([reviews, more], ignore_index=True)\n",
    "\n",
    "        success = request['success']\n",
    "    \n",
    "    return reviews"
   ]
  },
  {
   "cell_type": "code",
   "execution_count": 8,
   "metadata": {},
   "outputs": [
    {
     "data": {
      "text/html": [
       "<div>\n",
       "<style scoped>\n",
       "    .dataframe tbody tr th:only-of-type {\n",
       "        vertical-align: middle;\n",
       "    }\n",
       "\n",
       "    .dataframe tbody tr th {\n",
       "        vertical-align: top;\n",
       "    }\n",
       "\n",
       "    .dataframe thead th {\n",
       "        text-align: right;\n",
       "    }\n",
       "</style>\n",
       "<table border=\"1\" class=\"dataframe\">\n",
       "  <thead>\n",
       "    <tr style=\"text-align: right;\">\n",
       "      <th></th>\n",
       "      <th>review</th>\n",
       "      <th>init_date</th>\n",
       "      <th>update_date</th>\n",
       "      <th>in_early_access</th>\n",
       "    </tr>\n",
       "  </thead>\n",
       "  <tbody>\n",
       "    <tr>\n",
       "      <th>0</th>\n",
       "      <td>Dark Souls II is many things its siblings are ...</td>\n",
       "      <td>1710199956</td>\n",
       "      <td>1710199995</td>\n",
       "      <td>False</td>\n",
       "    </tr>\n",
       "    <tr>\n",
       "      <th>1</th>\n",
       "      <td>Reddit told me this game sucks, don't trust a ...</td>\n",
       "      <td>1710453440</td>\n",
       "      <td>1710453440</td>\n",
       "      <td>False</td>\n",
       "    </tr>\n",
       "    <tr>\n",
       "      <th>2</th>\n",
       "      <td>I try and play this game and it gives me a hea...</td>\n",
       "      <td>1709438268</td>\n",
       "      <td>1709438268</td>\n",
       "      <td>False</td>\n",
       "    </tr>\n",
       "    <tr>\n",
       "      <th>3</th>\n",
       "      <td>\"The lord souls killed my wife\" - John Darksoul</td>\n",
       "      <td>1709070496</td>\n",
       "      <td>1709070496</td>\n",
       "      <td>False</td>\n",
       "    </tr>\n",
       "    <tr>\n",
       "      <th>4</th>\n",
       "      <td>dark souls 1 felt like you were truly lost, in...</td>\n",
       "      <td>1710202744</td>\n",
       "      <td>1710202856</td>\n",
       "      <td>False</td>\n",
       "    </tr>\n",
       "    <tr>\n",
       "      <th>...</th>\n",
       "      <td>...</td>\n",
       "      <td>...</td>\n",
       "      <td>...</td>\n",
       "      <td>...</td>\n",
       "    </tr>\n",
       "    <tr>\n",
       "      <th>177</th>\n",
       "      <td>Not enjoyable enough to finish. Made by people...</td>\n",
       "      <td>1709557574</td>\n",
       "      <td>1709557574</td>\n",
       "      <td>False</td>\n",
       "    </tr>\n",
       "    <tr>\n",
       "      <th>178</th>\n",
       "      <td>I wanted to like this game, but it just doesn'...</td>\n",
       "      <td>1709551481</td>\n",
       "      <td>1710296156</td>\n",
       "      <td>False</td>\n",
       "    </tr>\n",
       "    <tr>\n",
       "      <th>179</th>\n",
       "      <td>Every other game in the Souls series is better...</td>\n",
       "      <td>1710588447</td>\n",
       "      <td>1710588447</td>\n",
       "      <td>False</td>\n",
       "    </tr>\n",
       "    <tr>\n",
       "      <th>180</th>\n",
       "      <td>One of the worst games ive ever had the disple...</td>\n",
       "      <td>1710560570</td>\n",
       "      <td>1710560570</td>\n",
       "      <td>False</td>\n",
       "    </tr>\n",
       "    <tr>\n",
       "      <th>181</th>\n",
       "      <td>no ragdoll psychics</td>\n",
       "      <td>1709374117</td>\n",
       "      <td>1709374117</td>\n",
       "      <td>False</td>\n",
       "    </tr>\n",
       "  </tbody>\n",
       "</table>\n",
       "<p>182 rows × 4 columns</p>\n",
       "</div>"
      ],
      "text/plain": [
       "                                                review   init_date  \\\n",
       "0    Dark Souls II is many things its siblings are ...  1710199956   \n",
       "1    Reddit told me this game sucks, don't trust a ...  1710453440   \n",
       "2    I try and play this game and it gives me a hea...  1709438268   \n",
       "3      \"The lord souls killed my wife\" - John Darksoul  1709070496   \n",
       "4    dark souls 1 felt like you were truly lost, in...  1710202744   \n",
       "..                                                 ...         ...   \n",
       "177  Not enjoyable enough to finish. Made by people...  1709557574   \n",
       "178  I wanted to like this game, but it just doesn'...  1709551481   \n",
       "179  Every other game in the Souls series is better...  1710588447   \n",
       "180  One of the worst games ive ever had the disple...  1710560570   \n",
       "181                                no ragdoll psychics  1709374117   \n",
       "\n",
       "     update_date  in_early_access  \n",
       "0     1710199995            False  \n",
       "1     1710453440            False  \n",
       "2     1709438268            False  \n",
       "3     1709070496            False  \n",
       "4     1710202856            False  \n",
       "..           ...              ...  \n",
       "177   1709557574            False  \n",
       "178   1710296156            False  \n",
       "179   1710588447            False  \n",
       "180   1710560570            False  \n",
       "181   1709374117            False  \n",
       "\n",
       "[182 rows x 4 columns]"
      ]
     },
     "execution_count": 8,
     "metadata": {},
     "output_type": "execute_result"
    }
   ],
   "source": [
    "reviews = review_batches()\n",
    "reviews"
   ]
  },
  {
   "cell_type": "markdown",
   "metadata": {},
   "source": [
    "## Saving the reviews into a csv file:"
   ]
  },
  {
   "cell_type": "code",
   "execution_count": 9,
   "metadata": {},
   "outputs": [],
   "source": [
    "# save the df to a CSV file\n"
   ]
  }
 ],
 "metadata": {
  "kernelspec": {
   "display_name": "Python 3",
   "language": "python",
   "name": "python3"
  },
  "language_info": {
   "codemirror_mode": {
    "name": "ipython",
    "version": 3
   },
   "file_extension": ".py",
   "mimetype": "text/x-python",
   "name": "python",
   "nbconvert_exporter": "python",
   "pygments_lexer": "ipython3",
   "version": "3.11.4"
  }
 },
 "nbformat": 4,
 "nbformat_minor": 4
}
