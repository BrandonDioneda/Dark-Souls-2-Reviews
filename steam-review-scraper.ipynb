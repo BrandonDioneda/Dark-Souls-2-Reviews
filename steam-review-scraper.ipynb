{
 "cells": [
  {
   "cell_type": "markdown",
   "metadata": {},
   "source": [
    "# Steam Game Review Scraper"
   ]
  },
  {
   "cell_type": "markdown",
   "metadata": {},
   "source": [
    "Webscrape game review data from Steam, including the user, profile link, and the review itself"
   ]
  },
  {
   "cell_type": "markdown",
   "metadata": {},
   "source": [
    "Based on: https://www.reddit.com/r/Python/comments/j42rv5/i_created_a_web_scraper_for_steam_game_reviews/"
   ]
  },
  {
   "cell_type": "code",
   "execution_count": 1,
   "metadata": {},
   "outputs": [],
   "source": [
    "from selenium import webdriver\n",
    "from selenium.webdriver.common.keys import Keys\n",
    "from time import sleep"
   ]
  },
  {
   "cell_type": "markdown",
   "metadata": {},
   "source": [
    "## Getting started"
   ]
  },
  {
   "cell_type": "markdown",
   "metadata": {},
   "source": [
    "Lookup the game id by doing a search on steam, navigate to the game homepage, and then get the number embedded in the URL before the game title."
   ]
  },
  {
   "cell_type": "code",
   "execution_count": 2,
   "metadata": {},
   "outputs": [
    {
     "name": "stderr",
     "output_type": "stream",
     "text": [
      "C:\\Users\\bdion\\AppData\\Local\\Temp\\ipykernel_17124\\2707753696.py:7: DeprecationWarning: executable_path has been deprecated, please pass in a Service object\n",
      "  driver = webdriver.Chrome(executable_path=\"C:/Users/bdion/Downloads/Chrome WebDriver/chromedriver-win64/chromedriver.exe\")\n"
     ]
    }
   ],
   "source": [
    "# Dark Souls II: Scholar of the First Sin (335300)\n",
    "game_id = 335300\n",
    "template = 'https://steamcommunity.com/app/{}/reviews/?browsefilter=toprated&snr=1_5_100010_&p=1'\n",
    "\n",
    "url = template.format(game_id)\n",
    "\n",
    "driver = webdriver.Chrome(executable_path=\"C:/Users/bdion/Downloads/Chrome WebDriver/chromedriver-win64/chromedriver.exe\")\n",
    "driver.maximize_window()\n",
    "driver.get(url)"
   ]
  },
  {
   "cell_type": "markdown",
   "metadata": {},
   "source": [
    "## Scrape via webdriver:"
   ]
  },
  {
   "cell_type": "markdown",
   "metadata": {},
   "source": [
    "The page is continously scrolling, so you'll need to grab the cards, then scroll down to the bottom and repeat until finished. For this project, we are going to collect the following information:\n",
    "- Steam ID\n",
    "- Review Text\n",
    "- Review Recommendation\n",
    "- Date Posted\n",
    "- There are 181 pages of DS2 reviews\n",
    "- Each review is contained under:\n",
    "    - div class=\"apphub_CardTextContent\""
   ]
  },
  {
   "cell_type": "code",
   "execution_count": 3,
   "metadata": {},
   "outputs": [
    {
     "name": "stderr",
     "output_type": "stream",
     "text": [
      "C:\\Users\\bdion\\AppData\\Local\\Temp\\ipykernel_17124\\1698384560.py:14: DeprecationWarning: find_elements_by_* commands are deprecated. Please use find_elements() instead\n",
      "  cards = driver.find_elements_by_class_name('apphub_Card')\n",
      "c:\\Users\\bdion\\anaconda3\\Lib\\site-packages\\selenium\\webdriver\\remote\\webelement.py:392: UserWarning: find_element_by_* commands are deprecated. Please use find_element() instead\n",
      "  warnings.warn(\"find_element_by_* commands are deprecated. Please use find_element() instead\")\n"
     ]
    }
   ],
   "source": [
    "# Open the URL\n",
    "driver.get(url)\n",
    "\n",
    "reviews = []\n",
    "review_ids = set()\n",
    "\n",
    "# get current position of y scrollbar\n",
    "last_position = driver.execute_script(\"return window.pageYOffset;\")\n",
    "\n",
    "# Scroll down to load additional reviews (adjust the number of scrolls as needed)\n",
    "t = 3\n",
    "while True:  # Scrolling a certain amount of times (num of iterations)\n",
    "    # get cards on the page\n",
    "    cards = driver.find_elements_by_class_name('apphub_Card')\n",
    "\n",
    "    for card in cards[-20:]:  # only the tail end are new cards\n",
    "        # gamer profile url\n",
    "        profile_url = card.find_element_by_xpath('.//div[@class=\"apphub_friend_block\"]/div/a[2]').get_attribute('href')\n",
    "\n",
    "        # steam id\n",
    "        steam_id = profile_url.split('/')[-2]\n",
    "        \n",
    "        # check to see if I've already collected this review\n",
    "        if steam_id in review_ids:\n",
    "            continue\n",
    "        else:\n",
    "            review_ids.add(steam_id)\n",
    "\n",
    "        # username\n",
    "        user_name = card.find_element_by_xpath('.//div[@class=\"apphub_friend_block\"]/div/a[2]').text\n",
    "\n",
    "        # the actual review\n",
    "        date_posted = card.find_element_by_xpath('.//div[@class=\"apphub_CardTextContent\"]/div').text\n",
    "        review_content = card.find_element_by_xpath('.//div[@class=\"apphub_CardTextContent\"]').text.replace(date_posted,'').strip()      \n",
    "\n",
    "        # recommendation (if person liked the game)\n",
    "        thumb_text = card.find_element_by_xpath('.//div[@class=\"reviewInfo\"]/div[2]').text\n",
    "\n",
    "        # save review\n",
    "        review = (steam_id, review_content, thumb_text, date_posted)\n",
    "        reviews.append(review)\n",
    "    \n",
    "    # scroll down\n",
    "    driver.execute_script(\"window.scrollTo(0, document.body.scrollHeight);\")\n",
    "    sleep(t)  # Wait for the content to load (t is in term of seconds)\n",
    "\n",
    "    # get current position after scrolling\n",
    "    curr_position = driver.execute_script(\"return window.pageYOffset;\")\n",
    "\n",
    "    # Break the loop if no new content is loaded\n",
    "    if curr_position == last_position:\n",
    "        break\n",
    "\n",
    "    last_position = curr_position\n",
    "\n",
    "# Close the webdriver\n",
    "driver.quit()"
   ]
  },
  {
   "cell_type": "markdown",
   "metadata": {},
   "source": [
    "## Save the results"
   ]
  },
  {
   "cell_type": "markdown",
   "metadata": {},
   "source": [
    "Putting reviews in a dataframe"
   ]
  },
  {
   "cell_type": "code",
   "execution_count": 4,
   "metadata": {},
   "outputs": [],
   "source": [
    "import pandas as pd"
   ]
  },
  {
   "cell_type": "code",
   "execution_count": 5,
   "metadata": {},
   "outputs": [
    {
     "data": {
      "text/html": [
       "<div>\n",
       "<style scoped>\n",
       "    .dataframe tbody tr th:only-of-type {\n",
       "        vertical-align: middle;\n",
       "    }\n",
       "\n",
       "    .dataframe tbody tr th {\n",
       "        vertical-align: top;\n",
       "    }\n",
       "\n",
       "    .dataframe thead th {\n",
       "        text-align: right;\n",
       "    }\n",
       "</style>\n",
       "<table border=\"1\" class=\"dataframe\">\n",
       "  <thead>\n",
       "    <tr style=\"text-align: right;\">\n",
       "      <th></th>\n",
       "      <th>SteamId</th>\n",
       "      <th>Review</th>\n",
       "      <th>Recommended?</th>\n",
       "      <th>DatePosted</th>\n",
       "    </tr>\n",
       "  </thead>\n",
       "  <tbody>\n",
       "    <tr>\n",
       "      <th>0</th>\n",
       "      <td>Xilirite</td>\n",
       "      <td>TL;DR\\nBuy it if you prefer the individual lev...</td>\n",
       "      <td>Recommended</td>\n",
       "      <td>Posted: June 2, 2017</td>\n",
       "    </tr>\n",
       "    <tr>\n",
       "      <th>1</th>\n",
       "      <td>76561197996536125</td>\n",
       "      <td>Elden Ring waiting room</td>\n",
       "      <td>Recommended</td>\n",
       "      <td>Posted: June 20, 2021</td>\n",
       "    </tr>\n",
       "    <tr>\n",
       "      <th>2</th>\n",
       "      <td>76561198143997912</td>\n",
       "      <td>I thought this was supposed to be the bad one</td>\n",
       "      <td>Recommended</td>\n",
       "      <td>Posted: August 12</td>\n",
       "    </tr>\n",
       "    <tr>\n",
       "      <th>3</th>\n",
       "      <td>76561198088449870</td>\n",
       "      <td>Little known fact: it's called dark souls 2 be...</td>\n",
       "      <td>Recommended</td>\n",
       "      <td>Posted: July 4</td>\n",
       "    </tr>\n",
       "    <tr>\n",
       "      <th>4</th>\n",
       "      <td>76561198960403801</td>\n",
       "      <td>port bloodborne to pc</td>\n",
       "      <td>Recommended</td>\n",
       "      <td>Posted: April 30, 2022</td>\n",
       "    </tr>\n",
       "    <tr>\n",
       "      <th>...</th>\n",
       "      <td>...</td>\n",
       "      <td>...</td>\n",
       "      <td>...</td>\n",
       "      <td>...</td>\n",
       "    </tr>\n",
       "    <tr>\n",
       "      <th>35173</th>\n",
       "      <td>saihchotic</td>\n",
       "      <td>Game's so hard steam wont even let me redownlo...</td>\n",
       "      <td>Recommended</td>\n",
       "      <td>Posted: January 13, 2017</td>\n",
       "    </tr>\n",
       "    <tr>\n",
       "      <th>35174</th>\n",
       "      <td>TheArmedMadMan</td>\n",
       "      <td>This game is wank. It's basically Dark Souls b...</td>\n",
       "      <td>Not Recommended</td>\n",
       "      <td>Posted: January 15, 2017</td>\n",
       "    </tr>\n",
       "    <tr>\n",
       "      <th>35175</th>\n",
       "      <td>76561197971446226</td>\n",
       "      <td>Flawed camera but one of the best games I've e...</td>\n",
       "      <td>Recommended</td>\n",
       "      <td>Posted: January 14, 2017</td>\n",
       "    </tr>\n",
       "    <tr>\n",
       "      <th>35176</th>\n",
       "      <td>sporadicity</td>\n",
       "      <td>If you liked the first Dark Souls, then great!...</td>\n",
       "      <td>Recommended</td>\n",
       "      <td>Posted: January 14, 2017</td>\n",
       "    </tr>\n",
       "    <tr>\n",
       "      <th>35177</th>\n",
       "      <td>76561198019582770</td>\n",
       "      <td>Very addictive game! Another game I can play f...</td>\n",
       "      <td>Recommended</td>\n",
       "      <td>Posted: January 13, 2017</td>\n",
       "    </tr>\n",
       "  </tbody>\n",
       "</table>\n",
       "<p>35178 rows × 4 columns</p>\n",
       "</div>"
      ],
      "text/plain": [
       "                 SteamId                                             Review  \\\n",
       "0               Xilirite  TL;DR\\nBuy it if you prefer the individual lev...   \n",
       "1      76561197996536125                            Elden Ring waiting room   \n",
       "2      76561198143997912      I thought this was supposed to be the bad one   \n",
       "3      76561198088449870  Little known fact: it's called dark souls 2 be...   \n",
       "4      76561198960403801                              port bloodborne to pc   \n",
       "...                  ...                                                ...   \n",
       "35173         saihchotic  Game's so hard steam wont even let me redownlo...   \n",
       "35174     TheArmedMadMan  This game is wank. It's basically Dark Souls b...   \n",
       "35175  76561197971446226  Flawed camera but one of the best games I've e...   \n",
       "35176        sporadicity  If you liked the first Dark Souls, then great!...   \n",
       "35177  76561198019582770  Very addictive game! Another game I can play f...   \n",
       "\n",
       "          Recommended?                DatePosted  \n",
       "0          Recommended      Posted: June 2, 2017  \n",
       "1          Recommended     Posted: June 20, 2021  \n",
       "2          Recommended         Posted: August 12  \n",
       "3          Recommended            Posted: July 4  \n",
       "4          Recommended    Posted: April 30, 2022  \n",
       "...                ...                       ...  \n",
       "35173      Recommended  Posted: January 13, 2017  \n",
       "35174  Not Recommended  Posted: January 15, 2017  \n",
       "35175      Recommended  Posted: January 14, 2017  \n",
       "35176      Recommended  Posted: January 14, 2017  \n",
       "35177      Recommended  Posted: January 13, 2017  \n",
       "\n",
       "[35178 rows x 4 columns]"
      ]
     },
     "execution_count": 5,
     "metadata": {},
     "output_type": "execute_result"
    }
   ],
   "source": [
    "reviews = pd.DataFrame(reviews)\n",
    "reviews.columns = ['SteamId', 'Review', 'Recommended?', 'DatePosted']\n",
    "reviews"
   ]
  },
  {
   "cell_type": "markdown",
   "metadata": {},
   "source": [
    "Saving the reviews into a csv file:"
   ]
  },
  {
   "cell_type": "code",
   "execution_count": 6,
   "metadata": {},
   "outputs": [],
   "source": [
    "# save the df to a CSV file\n",
    "reviews.to_csv('reviews.csv')"
   ]
  }
 ],
 "metadata": {
  "kernelspec": {
   "display_name": "Python 3",
   "language": "python",
   "name": "python3"
  },
  "language_info": {
   "codemirror_mode": {
    "name": "ipython",
    "version": 3
   },
   "file_extension": ".py",
   "mimetype": "text/x-python",
   "name": "python",
   "nbconvert_exporter": "python",
   "pygments_lexer": "ipython3",
   "version": "3.11.5"
  }
 },
 "nbformat": 4,
 "nbformat_minor": 4
}
