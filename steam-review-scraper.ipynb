{
 "cells": [
  {
   "cell_type": "markdown",
   "metadata": {},
   "source": [
    "# Steam Game Review Scraper"
   ]
  },
  {
   "cell_type": "markdown",
   "metadata": {},
   "source": [
    "Webscrape game review data from Steam, including the user, profile link, and the review itself"
   ]
  },
  {
   "cell_type": "markdown",
   "metadata": {},
   "source": [
    "Based on: https://www.reddit.com/r/Python/comments/j42rv5/i_created_a_web_scraper_for_steam_game_reviews/"
   ]
  },
  {
   "cell_type": "code",
   "execution_count": 1,
   "metadata": {},
   "outputs": [],
   "source": [
    "from selenium import webdriver\n",
    "from selenium.webdriver.common.keys import Keys\n",
    "from time import sleep"
   ]
  },
  {
   "cell_type": "markdown",
   "metadata": {},
   "source": [
    "## Getting started"
   ]
  },
  {
   "cell_type": "markdown",
   "metadata": {},
   "source": [
    "Lookup the game id by doing a search on steam, navigate to the game homepage, and then get the number embedded in the URL before the game title."
   ]
  },
  {
   "cell_type": "code",
   "execution_count": 2,
   "metadata": {},
   "outputs": [
    {
     "name": "stderr",
     "output_type": "stream",
     "text": [
      "C:\\Users\\bdion\\AppData\\Local\\Temp\\ipykernel_5916\\2707753696.py:7: DeprecationWarning: executable_path has been deprecated, please pass in a Service object\n",
      "  driver = webdriver.Chrome(executable_path=\"C:/Users/bdion/Downloads/Chrome WebDriver/chromedriver-win64/chromedriver.exe\")\n"
     ]
    }
   ],
   "source": [
    "# Dark Souls II: Scholar of the First Sin (335300)\n",
    "game_id = 335300\n",
    "template = 'https://steamcommunity.com/app/{}/reviews/?browsefilter=toprated&snr=1_5_100010_&p=1'\n",
    "\n",
    "url = template.format(game_id)\n",
    "\n",
    "driver = webdriver.Chrome(executable_path=\"C:/Users/bdion/Downloads/Chrome WebDriver/chromedriver-win64/chromedriver.exe\")\n",
    "driver.maximize_window()\n",
    "driver.get(url)"
   ]
  },
  {
   "cell_type": "markdown",
   "metadata": {},
   "source": [
    "## Scrape via webdriver:"
   ]
  },
  {
   "cell_type": "markdown",
   "metadata": {},
   "source": [
    "The page is continously scrolling, so you'll need to grab the cards, then scroll down to the bottom and repeat until finished. For this project, we are going to collect the following information:\n",
    "- Steam ID\n",
    "- Review Text\n",
    "- Review Recommendation\n",
    "- Date Posted\n",
    "- There are 181 pages of DS2 reviews\n",
    "- Each review is contained under:\n",
    "    - div class=\"apphub_CardTextContent\""
   ]
  },
  {
   "cell_type": "code",
   "execution_count": 3,
   "metadata": {},
   "outputs": [
    {
     "name": "stderr",
     "output_type": "stream",
     "text": [
      "C:\\Users\\bdion\\AppData\\Local\\Temp\\ipykernel_5916\\4293600060.py:14: DeprecationWarning: find_elements_by_* commands are deprecated. Please use find_elements() instead\n",
      "  cards = driver.find_elements_by_class_name('apphub_Card')\n",
      "c:\\Users\\bdion\\anaconda3\\Lib\\site-packages\\selenium\\webdriver\\remote\\webelement.py:392: UserWarning: find_element_by_* commands are deprecated. Please use find_element() instead\n",
      "  warnings.warn(\"find_element_by_* commands are deprecated. Please use find_element() instead\")\n"
     ]
    },
    {
     "ename": "TimeoutException",
     "evalue": "Message: script timeout\n  (Session info: chrome=120.0.6099.110)\nStacktrace:\n\tGetHandleVerifier [0x00007FF7F9CE2142+3514994]\n\t(No symbol) [0x00007FF7F9900CE2]\n\t(No symbol) [0x00007FF7F97A74C3]\n\t(No symbol) [0x00007FF7F98332D9]\n\t(No symbol) [0x00007FF7F9815FEA]\n\t(No symbol) [0x00007FF7F98328F6]\n\t(No symbol) [0x00007FF7F9815D93]\n\t(No symbol) [0x00007FF7F97E4BDC]\n\t(No symbol) [0x00007FF7F97E5C64]\n\tGetHandleVerifier [0x00007FF7F9D0E16B+3695259]\n\tGetHandleVerifier [0x00007FF7F9D66737+4057191]\n\tGetHandleVerifier [0x00007FF7F9D5E4E3+4023827]\n\tGetHandleVerifier [0x00007FF7F9A304F9+689705]\n\t(No symbol) [0x00007FF7F990C048]\n\t(No symbol) [0x00007FF7F9908044]\n\t(No symbol) [0x00007FF7F99081C9]\n\t(No symbol) [0x00007FF7F98F88C4]\n\tBaseThreadInitThunk [0x00007FF8A0A37344+20]\n\tRtlUserThreadStart [0x00007FF8A15A26B1+33]\n",
     "output_type": "error",
     "traceback": [
      "\u001b[1;31m---------------------------------------------------------------------------\u001b[0m",
      "\u001b[1;31mTimeoutException\u001b[0m                          Traceback (most recent call last)",
      "Cell \u001b[1;32mIn[3], line 48\u001b[0m\n\u001b[0;32m     45\u001b[0m sleep(t)  \u001b[38;5;66;03m# Wait for the content to load (t is in term of seconds)\u001b[39;00m\n\u001b[0;32m     47\u001b[0m \u001b[38;5;66;03m# get current position after scrolling\u001b[39;00m\n\u001b[1;32m---> 48\u001b[0m curr_position \u001b[38;5;241m=\u001b[39m driver\u001b[38;5;241m.\u001b[39mexecute_script(\u001b[38;5;124m\"\u001b[39m\u001b[38;5;124mreturn window.pageYOffset;\u001b[39m\u001b[38;5;124m\"\u001b[39m)\n\u001b[0;32m     50\u001b[0m \u001b[38;5;66;03m# Break the loop if no new content is loaded\u001b[39;00m\n\u001b[0;32m     51\u001b[0m \u001b[38;5;28;01mif\u001b[39;00m curr_position \u001b[38;5;241m==\u001b[39m last_position:\n",
      "File \u001b[1;32mc:\\Users\\bdion\\anaconda3\\Lib\\site-packages\\selenium\\webdriver\\remote\\webdriver.py:872\u001b[0m, in \u001b[0;36mWebDriver.execute_script\u001b[1;34m(self, script, *args)\u001b[0m\n\u001b[0;32m    869\u001b[0m converted_args \u001b[38;5;241m=\u001b[39m \u001b[38;5;28mlist\u001b[39m(args)\n\u001b[0;32m    870\u001b[0m command \u001b[38;5;241m=\u001b[39m Command\u001b[38;5;241m.\u001b[39mW3C_EXECUTE_SCRIPT\n\u001b[1;32m--> 872\u001b[0m \u001b[38;5;28;01mreturn\u001b[39;00m \u001b[38;5;28mself\u001b[39m\u001b[38;5;241m.\u001b[39mexecute(command, {\n\u001b[0;32m    873\u001b[0m     \u001b[38;5;124m'\u001b[39m\u001b[38;5;124mscript\u001b[39m\u001b[38;5;124m'\u001b[39m: script,\n\u001b[0;32m    874\u001b[0m     \u001b[38;5;124m'\u001b[39m\u001b[38;5;124margs\u001b[39m\u001b[38;5;124m'\u001b[39m: converted_args})[\u001b[38;5;124m'\u001b[39m\u001b[38;5;124mvalue\u001b[39m\u001b[38;5;124m'\u001b[39m]\n",
      "File \u001b[1;32mc:\\Users\\bdion\\anaconda3\\Lib\\site-packages\\selenium\\webdriver\\remote\\webdriver.py:418\u001b[0m, in \u001b[0;36mWebDriver.execute\u001b[1;34m(self, driver_command, params)\u001b[0m\n\u001b[0;32m    416\u001b[0m response \u001b[38;5;241m=\u001b[39m \u001b[38;5;28mself\u001b[39m\u001b[38;5;241m.\u001b[39mcommand_executor\u001b[38;5;241m.\u001b[39mexecute(driver_command, params)\n\u001b[0;32m    417\u001b[0m \u001b[38;5;28;01mif\u001b[39;00m response:\n\u001b[1;32m--> 418\u001b[0m     \u001b[38;5;28mself\u001b[39m\u001b[38;5;241m.\u001b[39merror_handler\u001b[38;5;241m.\u001b[39mcheck_response(response)\n\u001b[0;32m    419\u001b[0m     response[\u001b[38;5;124m'\u001b[39m\u001b[38;5;124mvalue\u001b[39m\u001b[38;5;124m'\u001b[39m] \u001b[38;5;241m=\u001b[39m \u001b[38;5;28mself\u001b[39m\u001b[38;5;241m.\u001b[39m_unwrap_value(\n\u001b[0;32m    420\u001b[0m         response\u001b[38;5;241m.\u001b[39mget(\u001b[38;5;124m'\u001b[39m\u001b[38;5;124mvalue\u001b[39m\u001b[38;5;124m'\u001b[39m, \u001b[38;5;28;01mNone\u001b[39;00m))\n\u001b[0;32m    421\u001b[0m     \u001b[38;5;28;01mreturn\u001b[39;00m response\n",
      "File \u001b[1;32mc:\\Users\\bdion\\anaconda3\\Lib\\site-packages\\selenium\\webdriver\\remote\\errorhandler.py:243\u001b[0m, in \u001b[0;36mErrorHandler.check_response\u001b[1;34m(self, response)\u001b[0m\n\u001b[0;32m    241\u001b[0m         alert_text \u001b[38;5;241m=\u001b[39m value[\u001b[38;5;124m'\u001b[39m\u001b[38;5;124malert\u001b[39m\u001b[38;5;124m'\u001b[39m]\u001b[38;5;241m.\u001b[39mget(\u001b[38;5;124m'\u001b[39m\u001b[38;5;124mtext\u001b[39m\u001b[38;5;124m'\u001b[39m)\n\u001b[0;32m    242\u001b[0m     \u001b[38;5;28;01mraise\u001b[39;00m exception_class(message, screen, stacktrace, alert_text)  \u001b[38;5;66;03m# type: ignore[call-arg]  # mypy is not smart enough here\u001b[39;00m\n\u001b[1;32m--> 243\u001b[0m \u001b[38;5;28;01mraise\u001b[39;00m exception_class(message, screen, stacktrace)\n",
      "\u001b[1;31mTimeoutException\u001b[0m: Message: script timeout\n  (Session info: chrome=120.0.6099.110)\nStacktrace:\n\tGetHandleVerifier [0x00007FF7F9CE2142+3514994]\n\t(No symbol) [0x00007FF7F9900CE2]\n\t(No symbol) [0x00007FF7F97A74C3]\n\t(No symbol) [0x00007FF7F98332D9]\n\t(No symbol) [0x00007FF7F9815FEA]\n\t(No symbol) [0x00007FF7F98328F6]\n\t(No symbol) [0x00007FF7F9815D93]\n\t(No symbol) [0x00007FF7F97E4BDC]\n\t(No symbol) [0x00007FF7F97E5C64]\n\tGetHandleVerifier [0x00007FF7F9D0E16B+3695259]\n\tGetHandleVerifier [0x00007FF7F9D66737+4057191]\n\tGetHandleVerifier [0x00007FF7F9D5E4E3+4023827]\n\tGetHandleVerifier [0x00007FF7F9A304F9+689705]\n\t(No symbol) [0x00007FF7F990C048]\n\t(No symbol) [0x00007FF7F9908044]\n\t(No symbol) [0x00007FF7F99081C9]\n\t(No symbol) [0x00007FF7F98F88C4]\n\tBaseThreadInitThunk [0x00007FF8A0A37344+20]\n\tRtlUserThreadStart [0x00007FF8A15A26B1+33]\n"
     ]
    }
   ],
   "source": [
    "# Open the URL\n",
    "driver.get(url)\n",
    "\n",
    "reviews = []\n",
    "review_ids = set()\n",
    "\n",
    "# get current position of y scrollbar\n",
    "last_position = driver.execute_script(\"return window.pageYOffset;\")\n",
    "\n",
    "# Scroll down to load additional reviews (adjust the number of scrolls as needed)\n",
    "t = 3.5\n",
    "while True:  # Scrolling a certain amount of times (num of iterations)\n",
    "    # get cards on the page\n",
    "    cards = driver.find_elements_by_class_name('apphub_Card')\n",
    "\n",
    "    for card in cards[-20:]:  # only the tail end are new cards\n",
    "        # gamer profile url\n",
    "        profile_url = card.find_element_by_xpath('.//div[@class=\"apphub_friend_block\"]/div/a[2]').get_attribute('href')\n",
    "\n",
    "        # steam id\n",
    "        steam_id = profile_url.split('/')[-2]\n",
    "        \n",
    "        # check to see if I've already collected this review\n",
    "        if steam_id in review_ids:\n",
    "            continue\n",
    "        else:\n",
    "            review_ids.add(steam_id)\n",
    "\n",
    "        # username\n",
    "        user_name = card.find_element_by_xpath('.//div[@class=\"apphub_friend_block\"]/div/a[2]').text\n",
    "\n",
    "        # the actual review\n",
    "        date_posted = card.find_element_by_xpath('.//div[@class=\"apphub_CardTextContent\"]/div').text\n",
    "        review_content = card.find_element_by_xpath('.//div[@class=\"apphub_CardTextContent\"]').text.replace(date_posted,'').strip()      \n",
    "\n",
    "        # recommendation (if person liked the game)\n",
    "        thumb_text = card.find_element_by_xpath('.//div[@class=\"reviewInfo\"]/div[2]').text\n",
    "\n",
    "        # save review\n",
    "        review = (steam_id, review_content, thumb_text, date_posted)\n",
    "        reviews.append(review)\n",
    "    \n",
    "    # scroll down\n",
    "    driver.execute_script(\"window.scrollTo(0, document.body.scrollHeight);\")\n",
    "    sleep(t)  # Wait for the content to load (t is in term of seconds)\n",
    "\n",
    "    # get current position after scrolling\n",
    "    curr_position = driver.execute_script(\"return window.pageYOffset;\")\n",
    "\n",
    "    # Break the loop if no new content is loaded\n",
    "    if curr_position == last_position:\n",
    "        break\n",
    "\n",
    "    last_position = curr_position\n",
    "\n",
    "# Close the webdriver\n",
    "driver.quit()"
   ]
  },
  {
   "cell_type": "markdown",
   "metadata": {},
   "source": [
    "## Save the results"
   ]
  },
  {
   "cell_type": "markdown",
   "metadata": {},
   "source": [
    "Putting reviews in a dataframe"
   ]
  },
  {
   "cell_type": "code",
   "execution_count": 4,
   "metadata": {},
   "outputs": [],
   "source": [
    "import pandas as pd"
   ]
  },
  {
   "cell_type": "code",
   "execution_count": 7,
   "metadata": {},
   "outputs": [
    {
     "data": {
      "text/html": [
       "<div>\n",
       "<style scoped>\n",
       "    .dataframe tbody tr th:only-of-type {\n",
       "        vertical-align: middle;\n",
       "    }\n",
       "\n",
       "    .dataframe tbody tr th {\n",
       "        vertical-align: top;\n",
       "    }\n",
       "\n",
       "    .dataframe thead th {\n",
       "        text-align: right;\n",
       "    }\n",
       "</style>\n",
       "<table border=\"1\" class=\"dataframe\">\n",
       "  <thead>\n",
       "    <tr style=\"text-align: right;\">\n",
       "      <th></th>\n",
       "      <th>SteamId</th>\n",
       "      <th>Review</th>\n",
       "      <th>Recommended?</th>\n",
       "      <th>DatePosted</th>\n",
       "    </tr>\n",
       "  </thead>\n",
       "  <tbody>\n",
       "    <tr>\n",
       "      <th>0</th>\n",
       "      <td>Xilirite</td>\n",
       "      <td>TL;DR\\nBuy it if you prefer the individual lev...</td>\n",
       "      <td>Recommended</td>\n",
       "      <td>Posted: June 2, 2017</td>\n",
       "    </tr>\n",
       "    <tr>\n",
       "      <th>1</th>\n",
       "      <td>76561197996536125</td>\n",
       "      <td>Elden Ring waiting room</td>\n",
       "      <td>Recommended</td>\n",
       "      <td>Posted: June 20, 2021</td>\n",
       "    </tr>\n",
       "    <tr>\n",
       "      <th>2</th>\n",
       "      <td>76561198143997912</td>\n",
       "      <td>I thought this was supposed to be the bad one</td>\n",
       "      <td>Recommended</td>\n",
       "      <td>Posted: August 12</td>\n",
       "    </tr>\n",
       "    <tr>\n",
       "      <th>3</th>\n",
       "      <td>76561198088449870</td>\n",
       "      <td>Little known fact: it's called dark souls 2 be...</td>\n",
       "      <td>Recommended</td>\n",
       "      <td>Posted: July 4</td>\n",
       "    </tr>\n",
       "    <tr>\n",
       "      <th>4</th>\n",
       "      <td>76561198960403801</td>\n",
       "      <td>port bloodborne to pc</td>\n",
       "      <td>Recommended</td>\n",
       "      <td>Posted: April 30, 2022</td>\n",
       "    </tr>\n",
       "    <tr>\n",
       "      <th>...</th>\n",
       "      <td>...</td>\n",
       "      <td>...</td>\n",
       "      <td>...</td>\n",
       "      <td>...</td>\n",
       "    </tr>\n",
       "    <tr>\n",
       "      <th>17895</th>\n",
       "      <td>Bioblade_64</td>\n",
       "      <td>The black sheep of the franchise. Still worth ...</td>\n",
       "      <td>Recommended</td>\n",
       "      <td>Posted: November 25</td>\n",
       "    </tr>\n",
       "    <tr>\n",
       "      <th>17896</th>\n",
       "      <td>76561198850656966</td>\n",
       "      <td>has made me the most stressed out of the souls...</td>\n",
       "      <td>Recommended</td>\n",
       "      <td>Posted: November 25</td>\n",
       "    </tr>\n",
       "    <tr>\n",
       "      <th>17897</th>\n",
       "      <td>KENOTlol</td>\n",
       "      <td>i dont like this one</td>\n",
       "      <td>Not Recommended</td>\n",
       "      <td>Posted: November 25</td>\n",
       "    </tr>\n",
       "    <tr>\n",
       "      <th>17898</th>\n",
       "      <td>binkaa2</td>\n",
       "      <td>This is the best Dark Souls game in the series...</td>\n",
       "      <td>Recommended</td>\n",
       "      <td>Posted: November 25</td>\n",
       "    </tr>\n",
       "    <tr>\n",
       "      <th>17899</th>\n",
       "      <td>scallytempest</td>\n",
       "      <td>i love this game so much, dark souls 1 is a me...</td>\n",
       "      <td>Recommended</td>\n",
       "      <td>Posted: November 25</td>\n",
       "    </tr>\n",
       "  </tbody>\n",
       "</table>\n",
       "<p>17900 rows × 4 columns</p>\n",
       "</div>"
      ],
      "text/plain": [
       "                 SteamId                                             Review  \\\n",
       "0               Xilirite  TL;DR\\nBuy it if you prefer the individual lev...   \n",
       "1      76561197996536125                            Elden Ring waiting room   \n",
       "2      76561198143997912      I thought this was supposed to be the bad one   \n",
       "3      76561198088449870  Little known fact: it's called dark souls 2 be...   \n",
       "4      76561198960403801                              port bloodborne to pc   \n",
       "...                  ...                                                ...   \n",
       "17895        Bioblade_64  The black sheep of the franchise. Still worth ...   \n",
       "17896  76561198850656966  has made me the most stressed out of the souls...   \n",
       "17897           KENOTlol                               i dont like this one   \n",
       "17898            binkaa2  This is the best Dark Souls game in the series...   \n",
       "17899      scallytempest  i love this game so much, dark souls 1 is a me...   \n",
       "\n",
       "          Recommended?              DatePosted  \n",
       "0          Recommended    Posted: June 2, 2017  \n",
       "1          Recommended   Posted: June 20, 2021  \n",
       "2          Recommended       Posted: August 12  \n",
       "3          Recommended          Posted: July 4  \n",
       "4          Recommended  Posted: April 30, 2022  \n",
       "...                ...                     ...  \n",
       "17895      Recommended     Posted: November 25  \n",
       "17896      Recommended     Posted: November 25  \n",
       "17897  Not Recommended     Posted: November 25  \n",
       "17898      Recommended     Posted: November 25  \n",
       "17899      Recommended     Posted: November 25  \n",
       "\n",
       "[17900 rows x 4 columns]"
      ]
     },
     "execution_count": 7,
     "metadata": {},
     "output_type": "execute_result"
    }
   ],
   "source": [
    "reviews = pd.DataFrame(reviews)\n",
    "reviews.columns = ['SteamId', 'Review', 'Recommended?', 'DatePosted']\n",
    "reviews"
   ]
  },
  {
   "cell_type": "markdown",
   "metadata": {},
   "source": [
    "Saving the reviews into a csv file:"
   ]
  },
  {
   "cell_type": "code",
   "execution_count": 8,
   "metadata": {},
   "outputs": [],
   "source": [
    "# save the df to a CSV file\n",
    "reviews.to_csv('reviews.csv')"
   ]
  }
 ],
 "metadata": {
  "kernelspec": {
   "display_name": "Python 3",
   "language": "python",
   "name": "python3"
  },
  "language_info": {
   "codemirror_mode": {
    "name": "ipython",
    "version": 3
   },
   "file_extension": ".py",
   "mimetype": "text/x-python",
   "name": "python",
   "nbconvert_exporter": "python",
   "pygments_lexer": "ipython3",
   "version": "3.11.5"
  }
 },
 "nbformat": 4,
 "nbformat_minor": 4
}
