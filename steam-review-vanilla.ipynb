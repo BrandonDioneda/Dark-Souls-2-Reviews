{
 "cells": [
  {
   "cell_type": "markdown",
   "metadata": {},
   "source": [
    "# Steam Game Review Scraper"
   ]
  },
  {
   "cell_type": "code",
   "execution_count": 1,
   "metadata": {},
   "outputs": [],
   "source": [
    "import requests as re\n",
    "import pandas as pd\n",
    "import urllib.parse"
   ]
  },
  {
   "cell_type": "markdown",
   "metadata": {},
   "source": [
    "## Requesting reviews from Steam:"
   ]
  },
  {
   "cell_type": "markdown",
   "metadata": {},
   "source": [
    "For this project, we are going to collect the following information:\n",
    "- Steam ID\n",
    "- Review Text\n",
    "- Date Posted\n",
    "- If review was made during early access"
   ]
  },
  {
   "cell_type": "code",
   "execution_count": 2,
   "metadata": {},
   "outputs": [],
   "source": [
    "init_request = re.get('https://store.steampowered.com/appreviews/236430?json=1?filter=all&language=english').json()"
   ]
  },
  {
   "cell_type": "code",
   "execution_count": 3,
   "metadata": {},
   "outputs": [
    {
     "data": {
      "text/plain": [
       "1"
      ]
     },
     "execution_count": 3,
     "metadata": {},
     "output_type": "execute_result"
    }
   ],
   "source": [
    "init_request['success']"
   ]
  },
  {
   "cell_type": "code",
   "execution_count": 4,
   "metadata": {},
   "outputs": [
    {
     "data": {
      "text/plain": [
       "{'num_reviews': 20,\n",
       " 'review_score': 8,\n",
       " 'review_score_desc': 'Very Positive',\n",
       " 'total_positive': 12340,\n",
       " 'total_negative': 2213,\n",
       " 'total_reviews': 14553}"
      ]
     },
     "execution_count": 4,
     "metadata": {},
     "output_type": "execute_result"
    }
   ],
   "source": [
    "init_request['query_summary']"
   ]
  },
  {
   "cell_type": "markdown",
   "metadata": {},
   "source": [
    "- Using cursors to get more batches of reviews:"
   ]
  },
  {
   "cell_type": "code",
   "execution_count": 5,
   "metadata": {},
   "outputs": [
    {
     "data": {
      "text/plain": [
       "'AoIFQFbAAAAAAAB17KbXBQ=='"
      ]
     },
     "execution_count": 5,
     "metadata": {},
     "output_type": "execute_result"
    }
   ],
   "source": [
    "cursor = init_request['cursor']\n",
    "cursor "
   ]
  },
  {
   "cell_type": "code",
   "execution_count": 6,
   "metadata": {},
   "outputs": [
    {
     "data": {
      "text/plain": [
       "'AoIFQGKPcsAAAAB0y8LUBQ=='"
      ]
     },
     "execution_count": 6,
     "metadata": {},
     "output_type": "execute_result"
    }
   ],
   "source": [
    "request = re.get(f'https://store.steampowered.com/appreviews/236430?json=1?filter=all&language=english&num_per_page=100&cursor={cursor}').json()\n",
    "cursor = request['cursor']\n",
    "cursor"
   ]
  },
  {
   "cell_type": "code",
   "execution_count": 7,
   "metadata": {},
   "outputs": [
    {
     "data": {
      "text/plain": [
       "'AoIFQFzAAAAAAAB2mdbUBQ=='"
      ]
     },
     "execution_count": 7,
     "metadata": {},
     "output_type": "execute_result"
    }
   ],
   "source": [
    "request = re.get(f'https://store.steampowered.com/appreviews/236430?json=1?filter=all&language=english&num_per_page=100&cursor={cursor}').json()\n",
    "cursor = request['cursor']\n",
    "cursor"
   ]
  },
  {
   "cell_type": "markdown",
   "metadata": {},
   "source": [
    "- Convert to dataframe:"
   ]
  },
  {
   "cell_type": "code",
   "execution_count": 8,
   "metadata": {},
   "outputs": [
    {
     "data": {
      "text/html": [
       "<div>\n",
       "<style scoped>\n",
       "    .dataframe tbody tr th:only-of-type {\n",
       "        vertical-align: middle;\n",
       "    }\n",
       "\n",
       "    .dataframe tbody tr th {\n",
       "        vertical-align: top;\n",
       "    }\n",
       "\n",
       "    .dataframe thead th {\n",
       "        text-align: right;\n",
       "    }\n",
       "</style>\n",
       "<table border=\"1\" class=\"dataframe\">\n",
       "  <thead>\n",
       "    <tr style=\"text-align: right;\">\n",
       "      <th></th>\n",
       "      <th>recommendationid</th>\n",
       "      <th>review</th>\n",
       "      <th>language</th>\n",
       "      <th>init_date</th>\n",
       "      <th>update_date</th>\n",
       "      <th>in_early_access</th>\n",
       "      <th>voted_up</th>\n",
       "    </tr>\n",
       "  </thead>\n",
       "  <tbody>\n",
       "    <tr>\n",
       "      <th>0</th>\n",
       "      <td>192239535</td>\n",
       "      <td>This game is bad. The only good thing is the m...</td>\n",
       "      <td>english</td>\n",
       "      <td>1744051869</td>\n",
       "      <td>1744051869</td>\n",
       "      <td>False</td>\n",
       "      <td>False</td>\n",
       "    </tr>\n",
       "    <tr>\n",
       "      <th>1</th>\n",
       "      <td>192187029</td>\n",
       "      <td>I regret nothing.</td>\n",
       "      <td>english</td>\n",
       "      <td>1743989964</td>\n",
       "      <td>1743989964</td>\n",
       "      <td>False</td>\n",
       "      <td>True</td>\n",
       "    </tr>\n",
       "    <tr>\n",
       "      <th>2</th>\n",
       "      <td>192166329</td>\n",
       "      <td>Juegardo.</td>\n",
       "      <td>spanish</td>\n",
       "      <td>1743968248</td>\n",
       "      <td>1743968248</td>\n",
       "      <td>False</td>\n",
       "      <td>True</td>\n",
       "    </tr>\n",
       "    <tr>\n",
       "      <th>3</th>\n",
       "      <td>192099068</td>\n",
       "      <td>''All said opinions are my own based on my own...</td>\n",
       "      <td>czech</td>\n",
       "      <td>1743906311</td>\n",
       "      <td>1743906311</td>\n",
       "      <td>False</td>\n",
       "      <td>True</td>\n",
       "    </tr>\n",
       "    <tr>\n",
       "      <th>4</th>\n",
       "      <td>192078880</td>\n",
       "      <td>Just cause it has a 2 in the Name doesn't mean...</td>\n",
       "      <td>english</td>\n",
       "      <td>1743885562</td>\n",
       "      <td>1743885562</td>\n",
       "      <td>False</td>\n",
       "      <td>True</td>\n",
       "    </tr>\n",
       "    <tr>\n",
       "      <th>...</th>\n",
       "      <td>...</td>\n",
       "      <td>...</td>\n",
       "      <td>...</td>\n",
       "      <td>...</td>\n",
       "      <td>...</td>\n",
       "      <td>...</td>\n",
       "      <td>...</td>\n",
       "    </tr>\n",
       "    <tr>\n",
       "      <th>44026</th>\n",
       "      <td>9919693</td>\n",
       "      <td>OH YEAH ITS A+++\\n\\nThey did a much better job...</td>\n",
       "      <td>english</td>\n",
       "      <td>1398354249</td>\n",
       "      <td>1398365837</td>\n",
       "      <td>False</td>\n",
       "      <td>True</td>\n",
       "    </tr>\n",
       "    <tr>\n",
       "      <th>44027</th>\n",
       "      <td>9919677</td>\n",
       "      <td>追記\\nフロムにメール送ってきいてみました。\\n\\nコピーライトと再起動後に日本語が当たるか...</td>\n",
       "      <td>japanese</td>\n",
       "      <td>1398354117</td>\n",
       "      <td>1398485850</td>\n",
       "      <td>False</td>\n",
       "      <td>True</td>\n",
       "    </tr>\n",
       "    <tr>\n",
       "      <th>44028</th>\n",
       "      <td>9919652</td>\n",
       "      <td>good :)</td>\n",
       "      <td>japanese</td>\n",
       "      <td>1398353963</td>\n",
       "      <td>1398353963</td>\n",
       "      <td>False</td>\n",
       "      <td>True</td>\n",
       "    </tr>\n",
       "    <tr>\n",
       "      <th>44029</th>\n",
       "      <td>9919612</td>\n",
       "      <td>Japanese Language dokooooooooooooooooooooo</td>\n",
       "      <td>japanese</td>\n",
       "      <td>1398353706</td>\n",
       "      <td>1398353706</td>\n",
       "      <td>False</td>\n",
       "      <td>True</td>\n",
       "    </tr>\n",
       "    <tr>\n",
       "      <th>44030</th>\n",
       "      <td>9919504</td>\n",
       "      <td>日本語どうやるの・・・</td>\n",
       "      <td>japanese</td>\n",
       "      <td>1398352955</td>\n",
       "      <td>1398352955</td>\n",
       "      <td>False</td>\n",
       "      <td>True</td>\n",
       "    </tr>\n",
       "  </tbody>\n",
       "</table>\n",
       "<p>44031 rows × 7 columns</p>\n",
       "</div>"
      ],
      "text/plain": [
       "      recommendationid                                             review  \\\n",
       "0            192239535  This game is bad. The only good thing is the m...   \n",
       "1            192187029                                  I regret nothing.   \n",
       "2            192166329                                          Juegardo.   \n",
       "3            192099068  ''All said opinions are my own based on my own...   \n",
       "4            192078880  Just cause it has a 2 in the Name doesn't mean...   \n",
       "...                ...                                                ...   \n",
       "44026          9919693  OH YEAH ITS A+++\\n\\nThey did a much better job...   \n",
       "44027          9919677  追記\\nフロムにメール送ってきいてみました。\\n\\nコピーライトと再起動後に日本語が当たるか...   \n",
       "44028          9919652                                            good :)   \n",
       "44029          9919612         Japanese Language dokooooooooooooooooooooo   \n",
       "44030          9919504                                        日本語どうやるの・・・   \n",
       "\n",
       "       language   init_date  update_date  in_early_access  voted_up  \n",
       "0       english  1744051869   1744051869            False     False  \n",
       "1       english  1743989964   1743989964            False      True  \n",
       "2       spanish  1743968248   1743968248            False      True  \n",
       "3         czech  1743906311   1743906311            False      True  \n",
       "4       english  1743885562   1743885562            False      True  \n",
       "...         ...         ...          ...              ...       ...  \n",
       "44026   english  1398354249   1398365837            False      True  \n",
       "44027  japanese  1398354117   1398485850            False      True  \n",
       "44028  japanese  1398353963   1398353963            False      True  \n",
       "44029  japanese  1398353706   1398353706            False      True  \n",
       "44030  japanese  1398352955   1398352955            False      True  \n",
       "\n",
       "[44031 rows x 7 columns]"
      ]
     },
     "execution_count": 8,
     "metadata": {},
     "output_type": "execute_result"
    }
   ],
   "source": [
    "# Initial request:\n",
    "init_response = re.get(f'https://store.steampowered.com/appreviews/236430?json=1&filter=recent&language=all&day_range=365&cursor=*&review_type=all&purchase_type=all&num_per_page=100').json()\n",
    "\n",
    "# Used to get further batches of reviews:\n",
    "cursor = urllib.parse.quote_plus(init_response['cursor'])\n",
    "\n",
    "# Creating the actual DataFrame:\n",
    "init_reviews = init_response['reviews']\n",
    "\n",
    "columns = ['recommendationid', 'review', 'language', 'init_date', 'update_date', 'in_early_access', 'voted_up']\n",
    "reviews_data = {\n",
    "    'recommendationid' : [review['recommendationid'] for review in init_reviews],\n",
    "    'review': [review['review'] for review in init_reviews],\n",
    "    'language' : [review['language'] for review in init_reviews],\n",
    "    'init_date': [review['timestamp_created'] for review in init_reviews],\n",
    "    'update_date': [review['timestamp_updated'] for review in init_reviews],\n",
    "    'in_early_access': [review['written_during_early_access'] for review in init_reviews],\n",
    "    'voted_up' : [review['voted_up'] for review in init_reviews]\n",
    "}\n",
    "reviews = pd.DataFrame(reviews_data, columns=columns)\n",
    "\n",
    "# Keeping track if a request was successful:\n",
    "success = init_request['success']\n",
    "while success == 1:\n",
    "    request = re.get(f'https://store.steampowered.com/appreviews/236430?json=1&filter=recent&language=all&day_range=365&cursor={cursor}&review_type=all&purchase_type=all&num_per_page=100').json()\n",
    "    \n",
    "    # About the 'filter' parameter:\n",
    "    # If paging through the reviews with cursor \n",
    "    # then choose either the recent option or the updated option to eventually receive an empty response list\n",
    "    response_list = request['query_summary']\n",
    "    if response_list['num_reviews'] == 0:\n",
    "        break\n",
    "\n",
    "    more_reviews = request['reviews']\n",
    "    more_data = {\n",
    "        'recommendationid' : [review['recommendationid'] for review in more_reviews],\n",
    "        'review': [review['review'] for review in more_reviews],\n",
    "        'language' : [review['language'] for review in more_reviews],\n",
    "        'init_date': [review['timestamp_created'] for review in more_reviews],\n",
    "        'update_date': [review['timestamp_updated'] for review in more_reviews],\n",
    "        'in_early_access': [review['written_during_early_access'] for review in more_reviews],\n",
    "        'voted_up' : [review['voted_up'] for review in more_reviews]\n",
    "    }\n",
    "    more = pd.DataFrame(more_data, columns=columns)\n",
    "    reviews = pd.concat([reviews, more], ignore_index=True)\n",
    "\n",
    "    success = request['success']\n",
    "    cursor = urllib.parse.quote_plus(request['cursor'])\n",
    "\n",
    "reviews"
   ]
  },
  {
   "cell_type": "markdown",
   "metadata": {},
   "source": [
    "## Saving the reviews into a csv file:"
   ]
  },
  {
   "cell_type": "code",
   "execution_count": 9,
   "metadata": {},
   "outputs": [],
   "source": [
    "reviews.to_csv('ds2-reviews.csv')"
   ]
  }
 ],
 "metadata": {
  "kernelspec": {
   "display_name": "base",
   "language": "python",
   "name": "python3"
  },
  "language_info": {
   "codemirror_mode": {
    "name": "ipython",
    "version": 3
   },
   "file_extension": ".py",
   "mimetype": "text/x-python",
   "name": "python",
   "nbconvert_exporter": "python",
   "pygments_lexer": "ipython3",
   "version": "3.11.4"
  }
 },
 "nbformat": 4,
 "nbformat_minor": 4
}
