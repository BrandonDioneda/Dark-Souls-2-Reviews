{
 "cells": [
  {
   "cell_type": "markdown",
   "metadata": {},
   "source": [
    "# Dark Souls II Reviews (2025)"
   ]
  },
  {
   "cell_type": "code",
   "execution_count": 1,
   "metadata": {},
   "outputs": [
    {
     "name": "stdout",
     "output_type": "stream",
     "text": [
      "WARNING:tensorflow:From C:\\Users\\bdion\\AppData\\Roaming\\Python\\Python311\\site-packages\\tf_keras\\src\\losses.py:2976: The name tf.losses.sparse_softmax_cross_entropy is deprecated. Please use tf.compat.v1.losses.sparse_softmax_cross_entropy instead.\n",
      "\n"
     ]
    }
   ],
   "source": [
    "from get_data import *"
   ]
  },
  {
   "cell_type": "code",
   "execution_count": 2,
   "metadata": {},
   "outputs": [],
   "source": [
    "reviews = get_data()"
   ]
  },
  {
   "cell_type": "markdown",
   "metadata": {},
   "source": [
    "## Topic Modeling:\n",
    "- Exploring certain aspects on why people like the game\n",
    "    - Also get critiques of the game in positive reviews (if any but there sure is considering DS2's reputation in the community)\n",
    "\n",
    "- Exploring why people don't like the game:\n",
    "    - Also get positive aspects within this subset of the reviews"
   ]
  },
  {
   "cell_type": "markdown",
   "metadata": {},
   "source": [
    "Splitting the reviews by how many do and don't recommend buying the game:"
   ]
  },
  {
   "cell_type": "code",
   "execution_count": 3,
   "metadata": {},
   "outputs": [],
   "source": [
    "pos_reviews = reviews[reviews['voted_up'] == True]\n",
    "neg_reviews = reviews[reviews['voted_up'] == False]"
   ]
  },
  {
   "cell_type": "code",
   "execution_count": 4,
   "metadata": {},
   "outputs": [],
   "source": [
    "count_vector = CountVectorizer()\n",
    "\n",
    "tf = count_vector.fit_transform(reviews.review)\n",
    "tf_feat_names = count_vector.get_feature_names_out()\n",
    "\n",
    "pos_tf = count_vector.fit_transform(pos_reviews.review) \n",
    "pos_tf_feat_names = count_vector.get_feature_names_out()\n",
    "\n",
    "neg_tf = count_vector.fit_transform(neg_reviews.review)\n",
    "neg_tf_feat_names = count_vector.get_feature_names_out()"
   ]
  },
  {
   "cell_type": "code",
   "execution_count": 5,
   "metadata": {},
   "outputs": [
    {
     "data": {
      "text/plain": [
       "((55777, 10), (11222, 10))"
      ]
     },
     "execution_count": 5,
     "metadata": {},
     "output_type": "execute_result"
    }
   ],
   "source": [
    "pos_reviews.shape, neg_reviews.shape"
   ]
  },
  {
   "cell_type": "markdown",
   "metadata": {},
   "source": [
    "### LSA:"
   ]
  },
  {
   "cell_type": "code",
   "execution_count": 6,
   "metadata": {},
   "outputs": [],
   "source": [
    "from sklearn.decomposition import TruncatedSVD"
   ]
  },
  {
   "cell_type": "code",
   "execution_count": 7,
   "metadata": {},
   "outputs": [],
   "source": [
    "count_vector = CountVectorizer()\n",
    "n_topics = 4"
   ]
  },
  {
   "cell_type": "code",
   "execution_count": 8,
   "metadata": {},
   "outputs": [
    {
     "name": "stdout",
     "output_type": "stream",
     "text": [
      "Topic 0:\n",
      "death like get enemy play\n",
      "Topic 1:\n",
      "keep iron hate die go\n",
      "Topic 2:\n",
      "die like get play dy\n",
      "Topic 3:\n",
      "trash fuck like play get\n"
     ]
    }
   ],
   "source": [
    "lsa = TruncatedSVD(n_components=n_topics, random_state=42)\n",
    "lsa_matrix = lsa.fit_transform(tf)\n",
    "\n",
    "def display_topics(model, feature_names, num_top_words=5):\n",
    "    for topic_idx, topic in enumerate(model.components_):\n",
    "        print(f\"Topic {topic_idx}:\")\n",
    "        print(\" \".join([feature_names[i] for i in topic.argsort()[:-num_top_words - 1:-1]]))\n",
    "\n",
    "display_topics(lsa, tf_feat_names)"
   ]
  },
  {
   "cell_type": "code",
   "execution_count": 9,
   "metadata": {},
   "outputs": [
    {
     "name": "stdout",
     "output_type": "stream",
     "text": [
      "\n",
      "Positive Reviews Topics:\n",
      "Topic 0:\n",
      "death like get die play\n",
      "Topic 1:\n",
      "die dy get like play\n",
      "Topic 2:\n",
      "keep iron hate go never\n",
      "Topic 3:\n",
      "rolin die death dy meatslap\n"
     ]
    }
   ],
   "source": [
    "pos_tf = count_vector.fit_transform(pos_reviews.review)\n",
    "pos_lsa_matrix = lsa.fit_transform(pos_tf)\n",
    "pos_tf_feat_names = count_vector.get_feature_names_out()\n",
    "print(\"\\nPositive Reviews Topics:\")\n",
    "display_topics(lsa, pos_tf_feat_names)"
   ]
  },
  {
   "cell_type": "code",
   "execution_count": 10,
   "metadata": {},
   "outputs": [
    {
     "name": "stdout",
     "output_type": "stream",
     "text": [
      "\n",
      "Negative Reviews Topics:\n",
      "Topic 0:\n",
      "fuck trash like enemy get\n",
      "Topic 1:\n",
      "trash like good buy someone\n",
      "Topic 2:\n",
      "keep iron enemy like make\n",
      "Topic 3:\n",
      "enemy like play make get\n"
     ]
    }
   ],
   "source": [
    "neg_tf = count_vector.fit_transform(neg_reviews.review)\n",
    "neg_lsa_matrix = lsa.fit_transform(neg_tf)\n",
    "neg_tf_feat_names = count_vector.get_feature_names_out()\n",
    "print(\"\\nNegative Reviews Topics:\")\n",
    "display_topics(lsa, neg_tf_feat_names)"
   ]
  }
 ],
 "metadata": {
  "kernelspec": {
   "display_name": "base",
   "language": "python",
   "name": "python3"
  },
  "language_info": {
   "codemirror_mode": {
    "name": "ipython",
    "version": 3
   },
   "file_extension": ".py",
   "mimetype": "text/x-python",
   "name": "python",
   "nbconvert_exporter": "python",
   "pygments_lexer": "ipython3",
   "version": "3.11.4"
  }
 },
 "nbformat": 4,
 "nbformat_minor": 2
}
