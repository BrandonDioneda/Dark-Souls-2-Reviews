{
 "cells": [
  {
   "cell_type": "markdown",
   "metadata": {},
   "source": [
    "# Dark Souls II Reviews (2025)"
   ]
  },
  {
   "cell_type": "code",
   "execution_count": 1,
   "metadata": {},
   "outputs": [
    {
     "name": "stdout",
     "output_type": "stream",
     "text": [
      "WARNING:tensorflow:From C:\\Users\\bdion\\AppData\\Roaming\\Python\\Python311\\site-packages\\tf_keras\\src\\losses.py:2976: The name tf.losses.sparse_softmax_cross_entropy is deprecated. Please use tf.compat.v1.losses.sparse_softmax_cross_entropy instead.\n",
      "\n"
     ]
    }
   ],
   "source": [
    "from preproc import *"
   ]
  },
  {
   "cell_type": "code",
   "execution_count": 2,
   "metadata": {},
   "outputs": [],
   "source": [
    "reviews, vanilla, scholar = get_data()"
   ]
  },
  {
   "cell_type": "markdown",
   "metadata": {},
   "source": [
    "## Topic Modeling:\n",
    "- Exploring certain aspects on why people like the game\n",
    "    - Also get critiques of the game in positive reviews (if any but there sure is considering DS2's reputation in the community)\n",
    "\n",
    "- Exploring why people don't like the game:\n",
    "    - Also get positive aspects within this subset of the reviews"
   ]
  },
  {
   "cell_type": "markdown",
   "metadata": {},
   "source": [
    "Splitting the reviews by how many do and don't recommend buying the game:"
   ]
  },
  {
   "cell_type": "code",
   "execution_count": 3,
   "metadata": {},
   "outputs": [],
   "source": [
    "pos_reviews = reviews[reviews['voted_up'] == True]\n",
    "neg_reviews = reviews[reviews['voted_up'] == False]"
   ]
  },
  {
   "cell_type": "code",
   "execution_count": 5,
   "metadata": {},
   "outputs": [],
   "source": [
    "from sklearn.feature_extraction.text import CountVectorizer, TfidfVectorizer"
   ]
  },
  {
   "cell_type": "code",
   "execution_count": 6,
   "metadata": {},
   "outputs": [],
   "source": [
    "count_vector = CountVectorizer()\n",
    "\n",
    "tf = count_vector.fit_transform(reviews.review)\n",
    "tf_feat_names = count_vector.get_feature_names_out()\n",
    "\n",
    "pos_tf = count_vector.fit_transform(pos_reviews.review) \n",
    "pos_tf_feat_names = count_vector.get_feature_names_out()\n",
    "\n",
    "neg_tf = count_vector.fit_transform(neg_reviews.review)\n",
    "neg_tf_feat_names = count_vector.get_feature_names_out()"
   ]
  },
  {
   "cell_type": "code",
   "execution_count": 7,
   "metadata": {},
   "outputs": [
    {
     "data": {
      "text/plain": [
       "((55777, 6), (11222, 6))"
      ]
     },
     "execution_count": 7,
     "metadata": {},
     "output_type": "execute_result"
    }
   ],
   "source": [
    "pos_reviews.shape, neg_reviews.shape"
   ]
  },
  {
   "cell_type": "markdown",
   "metadata": {},
   "source": [
    "### LSA:"
   ]
  },
  {
   "cell_type": "code",
   "execution_count": 8,
   "metadata": {},
   "outputs": [],
   "source": [
    "from sklearn.decomposition import TruncatedSVD"
   ]
  },
  {
   "cell_type": "code",
   "execution_count": 9,
   "metadata": {},
   "outputs": [],
   "source": [
    "count_vector = CountVectorizer()\n",
    "n_topics = 10"
   ]
  },
  {
   "cell_type": "code",
   "execution_count": 10,
   "metadata": {},
   "outputs": [
    {
     "name": "stdout",
     "output_type": "stream",
     "text": [
      "Topic 0:\n",
      "death boss like enemy die play time feel good area\n",
      "Topic 1:\n",
      "die boss like play enemy time good feel meatslap area\n",
      "Topic 2:\n",
      "trash fuck like boss iron play love enemy hate good\n",
      "Topic 3:\n",
      "fuck iron hate like boss play love enemy good time\n",
      "Topic 4:\n",
      "iron hate love boss like play enemy good time feel\n",
      "Topic 5:\n",
      "rolin enemy life handle attack pain shrek not bad boss\n",
      "Topic 6:\n",
      "love ii boss like play enemy good time feel area\n",
      "Topic 7:\n",
      "love ii iron die fuck hate trash death ganke meatslap\n",
      "Topic 8:\n",
      "yes love ii iron die fuck hate trash death bean\n",
      "Topic 9:\n",
      "creator tyler handle life shrek ii character dead bloodborne not\n"
     ]
    }
   ],
   "source": [
    "lsa = TruncatedSVD(n_components=n_topics, random_state=42)\n",
    "lsa_matrix = lsa.fit_transform(tf)\n",
    "\n",
    "def display_topics(model, feature_names, num_top_words=10):\n",
    "    for topic_idx, topic in enumerate(model.components_):\n",
    "        print(f\"Topic {topic_idx}:\")\n",
    "        print(\" \".join([feature_names[i] for i in topic.argsort()[:-num_top_words - 1:-1]]))\n",
    "\n",
    "display_topics(lsa, tf_feat_names)"
   ]
  },
  {
   "cell_type": "code",
   "execution_count": 11,
   "metadata": {},
   "outputs": [
    {
     "name": "stdout",
     "output_type": "stream",
     "text": [
      "\n",
      "Positive Reviews Topics:\n",
      "Topic 0:\n",
      "death die like boss play time enemy good feel area\n",
      "Topic 1:\n",
      "die meatslap boss play like time good enemy feel area\n",
      "Topic 2:\n",
      "rolin well good curse bearer de novo bad enemy ii\n",
      "Topic 3:\n",
      "love ii hate iron well like play boss good time\n",
      "Topic 4:\n",
      "iron hate like boss play good enemy time feel area\n",
      "Topic 5:\n",
      "yes like boss play good time enemy feel area lot\n",
      "Topic 6:\n",
      "love yes iron hate die ii death meatslap alli outskirtsi\n",
      "Topic 7:\n",
      "dead ign deaddead ignorant spell not love bursss bean oh\n",
      "Topic 8:\n",
      "love well good get like boss play poison zone ganke\n",
      "Topic 9:\n",
      "pain ii well ass life curse de play bearer good\n"
     ]
    }
   ],
   "source": [
    "pos_tf = count_vector.fit_transform(pos_reviews.review)\n",
    "pos_lsa_matrix = lsa.fit_transform(pos_tf)\n",
    "pos_tf_feat_names = count_vector.get_feature_names_out()\n",
    "print(\"\\nPositive Reviews Topics:\")\n",
    "display_topics(lsa, pos_tf_feat_names)"
   ]
  },
  {
   "cell_type": "code",
   "execution_count": 12,
   "metadata": {},
   "outputs": [
    {
     "name": "stdout",
     "output_type": "stream",
     "text": [
      "\n",
      "Negative Reviews Topics:\n",
      "Topic 0:\n",
      "fuck trash like boss enemy play time bad feel good\n",
      "Topic 1:\n",
      "trash like well buy boss option rex dino enemy play\n",
      "Topic 2:\n",
      "iron boss enemy like play bad time feel good area\n",
      "Topic 3:\n",
      "boss enemy play like bad time feel good area level\n",
      "Topic 4:\n",
      "creator tyler lighting filter iron duty crap paste involvement fart\n",
      "Topic 5:\n",
      "fromsoft server turn elden online fix release dx month cheater\n",
      "Topic 6:\n",
      "dogshit play not fucking shit bad edit fromsoft server ass\n",
      "Topic 7:\n",
      "play not pc controller buy keyboard mouse xbox version hour\n",
      "Topic 8:\n",
      "bad not port play hate fromsoft pc awful control terrible\n",
      "Topic 9:\n",
      "hate fucking like don gamei feel pc buy version want\n"
     ]
    }
   ],
   "source": [
    "neg_tf = count_vector.fit_transform(neg_reviews.review)\n",
    "neg_lsa_matrix = lsa.fit_transform(neg_tf)\n",
    "neg_tf_feat_names = count_vector.get_feature_names_out()\n",
    "print(\"\\nNegative Reviews Topics:\")\n",
    "display_topics(lsa, neg_tf_feat_names)"
   ]
  }
 ],
 "metadata": {
  "kernelspec": {
   "display_name": "base",
   "language": "python",
   "name": "python3"
  },
  "language_info": {
   "codemirror_mode": {
    "name": "ipython",
    "version": 3
   },
   "file_extension": ".py",
   "mimetype": "text/x-python",
   "name": "python",
   "nbconvert_exporter": "python",
   "pygments_lexer": "ipython3",
   "version": "3.11.4"
  }
 },
 "nbformat": 4,
 "nbformat_minor": 2
}
