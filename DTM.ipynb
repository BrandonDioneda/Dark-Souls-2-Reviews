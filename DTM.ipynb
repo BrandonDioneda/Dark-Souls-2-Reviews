{
 "cells": [
  {
   "cell_type": "markdown",
   "metadata": {},
   "source": [
    "# Dark Souls II Reviews (2025)"
   ]
  },
  {
   "cell_type": "code",
   "execution_count": 1,
   "metadata": {},
   "outputs": [
    {
     "name": "stdout",
     "output_type": "stream",
     "text": [
      "WARNING:tensorflow:From C:\\Users\\bdion\\AppData\\Roaming\\Python\\Python311\\site-packages\\tf_keras\\src\\losses.py:2976: The name tf.losses.sparse_softmax_cross_entropy is deprecated. Please use tf.compat.v1.losses.sparse_softmax_cross_entropy instead.\n",
      "\n"
     ]
    }
   ],
   "source": [
    "from get_data import *\n",
    "from bertopic import BERTopic"
   ]
  },
  {
   "cell_type": "code",
   "execution_count": 2,
   "metadata": {},
   "outputs": [],
   "source": [
    "reviews = get_data()"
   ]
  },
  {
   "cell_type": "code",
   "execution_count": 3,
   "metadata": {},
   "outputs": [],
   "source": [
    "reviews['extra_content_release'] = reviews.update_date.apply(extra_content_release)"
   ]
  },
  {
   "cell_type": "markdown",
   "metadata": {},
   "source": [
    "## Topic Modeling:\n",
    "- Exploring certain aspects on why people like the game\n",
    "    - Also get critiques of the game in positive reviews (if any but there sure is considering DS2's reputation in the community)\n",
    "\n",
    "- Exploring why people don't like the game:\n",
    "    - Also get positive aspects within this subset of the reviews"
   ]
  },
  {
   "cell_type": "markdown",
   "metadata": {},
   "source": [
    "Splitting the reviews by how many do and don't recommend buying the game:"
   ]
  },
  {
   "cell_type": "code",
   "execution_count": 4,
   "metadata": {},
   "outputs": [],
   "source": [
    "pos_reviews = reviews[reviews['voted_up'] == True]\n",
    "neg_reviews = reviews[reviews['voted_up'] == False]"
   ]
  },
  {
   "cell_type": "code",
   "execution_count": 5,
   "metadata": {},
   "outputs": [
    {
     "data": {
      "text/plain": [
       "((55777, 7), (11222, 7))"
      ]
     },
     "execution_count": 5,
     "metadata": {},
     "output_type": "execute_result"
    }
   ],
   "source": [
    "pos_reviews.shape, neg_reviews.shape"
   ]
  },
  {
   "cell_type": "markdown",
   "metadata": {},
   "source": [
    "### DTM:"
   ]
  },
  {
   "cell_type": "markdown",
   "metadata": {},
   "source": [
    "- Useful for analyzing trends in text over long periods"
   ]
  },
  {
   "cell_type": "code",
   "execution_count": 6,
   "metadata": {},
   "outputs": [],
   "source": [
    "docs = reviews.review.to_list()\n",
    "pos_docs = pos_reviews.review.to_list()\n",
    "neg_docs = neg_reviews.review.to_list()"
   ]
  },
  {
   "cell_type": "code",
   "execution_count": 7,
   "metadata": {},
   "outputs": [],
   "source": [
    "timestamps = pd.to_datetime(reviews.update_date, unit='s').values\n",
    "pos_timestamps = pd.to_datetime(pos_reviews.update_date, unit='s').values\n",
    "neg_timestamps = pd.to_datetime(neg_reviews.update_date, unit='s').values"
   ]
  },
  {
   "cell_type": "code",
   "execution_count": 8,
   "metadata": {},
   "outputs": [],
   "source": [
    "extra_content_release = pd.to_datetime(reviews.extra_content_release, unit='s').values\n",
    "pos_extra_content_release = pd.to_datetime(pos_reviews.extra_content_release, unit='s').values\n",
    "neg_extra_content_release = pd.to_datetime(neg_reviews.extra_content_release, unit='s').values"
   ]
  },
  {
   "cell_type": "code",
   "execution_count": 9,
   "metadata": {},
   "outputs": [],
   "source": [
    "topic_model = BERTopic.load(\"models/bertopic_model\")"
   ]
  },
  {
   "cell_type": "code",
   "execution_count": 10,
   "metadata": {},
   "outputs": [
    {
     "name": "stderr",
     "output_type": "stream",
     "text": [
      "20it [00:44,  2.21s/it]\n"
     ]
    }
   ],
   "source": [
    "topics_over_time = topic_model.topics_over_time(docs, timestamps, nr_bins=20)"
   ]
  },
  {
   "cell_type": "code",
   "execution_count": 11,
   "metadata": {},
   "outputs": [
    {
     "data": {
      "application/vnd.plotly.v1+json": {
       "config": {
        "plotlyServerURL": "https://plot.ly"
       },
       "data": [
        {
         "hoverinfo": "text",
         "hovertext": [
          "<b>Topic 0</b><br>Words: ow, show, till, , ",
          "<b>Topic 0</b><br>Words: ow, show, till, , ",
          "<b>Topic 0</b><br>Words: ow, show, till, , ",
          "<b>Topic 0</b><br>Words: ow, show, till, , ",
          "<b>Topic 0</b><br>Words: ow, show, till, , ",
          "<b>Topic 0</b><br>Words: ow, show, till, , ",
          "<b>Topic 0</b><br>Words: ow, show, till, , ",
          "<b>Topic 0</b><br>Words: ow, show, till, , ",
          "<b>Topic 0</b><br>Words: show, ow, till, , ",
          "<b>Topic 0</b><br>Words: ow, show, till, , ",
          "<b>Topic 0</b><br>Words: ow, show, till, , ",
          "<b>Topic 0</b><br>Words: ow, show, till, , ",
          "<b>Topic 0</b><br>Words: ow, show, till, , ",
          "<b>Topic 0</b><br>Words: show, ow, till, , ",
          "<b>Topic 0</b><br>Words: ow, show, till, , ",
          "<b>Topic 0</b><br>Words: ow, show, till, , ",
          "<b>Topic 0</b><br>Words: ow, show, till, , ",
          "<b>Topic 0</b><br>Words: ow, show, till, , ",
          "<b>Topic 0</b><br>Words: till, ow, show, , ",
          "<b>Topic 0</b><br>Words: ow, show, till, , "
         ],
         "marker": {
          "color": "#E69F00"
         },
         "mode": "lines",
         "name": "0_ow_show_till_",
         "type": "scatter",
         "x": [
          "2014-04-20T18:06:56.036000",
          "2014-11-10T19:22:33.200000",
          "2015-05-29T20:36:41.400000",
          "2015-12-15T21:50:49.600000",
          "2016-07-02T23:04:57.800000",
          "2017-01-19T00:19:06",
          "2017-08-07T01:33:14.200000",
          "2018-02-23T02:47:22.400000",
          "2018-09-11T04:01:30.600000",
          "2019-03-30T05:15:38.800000",
          "2019-10-16T06:29:47",
          "2020-05-03T07:43:55.200000",
          "2020-11-19T08:58:03.400000",
          "2021-06-07T10:12:11.600000",
          "2021-12-24T11:26:19.800000",
          "2022-07-12T12:40:28",
          "2023-01-28T13:54:36.200000",
          "2023-08-16T15:08:44.400000",
          "2024-03-03T16:22:52.600000",
          "2024-09-19T17:37:00.800000"
         ],
         "y": [
          119,
          56,
          42,
          49,
          37,
          25,
          26,
          23,
          34,
          52,
          113,
          123,
          156,
          179,
          183,
          121,
          130,
          161,
          179,
          191
         ]
        },
        {
         "hoverinfo": "text",
         "hovertext": [
          "<b>Topic 1</b><br>Words: covenant, bursss, player, weapon, bonfire",
          "<b>Topic 1</b><br>Words: matrixdll, player, new, area, fight",
          "<b>Topic 1</b><br>Words: dks, das, da, enemy, item",
          "<b>Topic 1</b><br>Words: katana, chaos, rapier, ice, havel",
          "<b>Topic 1</b><br>Words: area, player, attack, weapon, enemy",
          "<b>Topic 1</b><br>Words: attack, bonfire, item, weapon, damage",
          "<b>Topic 1</b><br>Words: area, covenant, attack, item, enemy",
          "<b>Topic 1</b><br>Words: attack, player, damage, enemy, certain",
          "<b>Topic 1</b><br>Words: attack, area, player, damage, enemy",
          "<b>Topic 1</b><br>Words: enemy, area, damage, fight, stats",
          "<b>Topic 1</b><br>Words: bean, enemy, area, attack, fight",
          "<b>Topic 1</b><br>Words: attack, roll, area, enemy, animation",
          "<b>Topic 1</b><br>Words: attack, enemy, area, roll, damage",
          "<b>Topic 1</b><br>Words: attack, heal, area, enemy, frame",
          "<b>Topic 1</b><br>Words: iron, keep, hate, attack, fight",
          "<b>Topic 1</b><br>Words: enemy, estus, url, level, certain",
          "<b>Topic 1</b><br>Words: attack, animation, enemy, king, bos",
          "<b>Topic 1</b><br>Words: dementia, attack, bos, fight, enemy",
          "<b>Topic 1</b><br>Words: tyler, creator, enemy, area, attack",
          "<b>Topic 1</b><br>Words: spoiler, enemy, area, damage, feel"
         ],
         "marker": {
          "color": "#56B4E9"
         },
         "mode": "lines",
         "name": "1_attack_area_enemy_player",
         "type": "scatter",
         "x": [
          "2014-04-20T18:06:56.036000",
          "2014-11-10T19:22:33.200000",
          "2015-05-29T20:36:41.400000",
          "2015-12-15T21:50:49.600000",
          "2016-07-02T23:04:57.800000",
          "2017-01-19T00:19:06",
          "2017-08-07T01:33:14.200000",
          "2018-02-23T02:47:22.400000",
          "2018-09-11T04:01:30.600000",
          "2019-03-30T05:15:38.800000",
          "2019-10-16T06:29:47",
          "2020-05-03T07:43:55.200000",
          "2020-11-19T08:58:03.400000",
          "2021-06-07T10:12:11.600000",
          "2021-12-24T11:26:19.800000",
          "2022-07-12T12:40:28",
          "2023-01-28T13:54:36.200000",
          "2023-08-16T15:08:44.400000",
          "2024-03-03T16:22:52.600000",
          "2024-09-19T17:37:00.800000"
         ],
         "y": [
          193,
          102,
          42,
          67,
          44,
          64,
          50,
          39,
          32,
          38,
          48,
          57,
          73,
          79,
          77,
          43,
          64,
          65,
          88,
          95
         ]
        },
        {
         "hoverinfo": "text",
         "hovertext": [
          "<b>Topic 2</b><br>Words: good, as, goodin, uwu, lik",
          "<b>Topic 2</b><br>Words: good, dat, pussy, goodin, uwu",
          "<b>Topic 2</b><br>Words: good, goodin, uwu, lik, mm",
          "<b>Topic 2</b><br>Words: good, goodin, uwu, lik, mm",
          "<b>Topic 2</b><br>Words: good, goodin, uwu, lik, mm",
          "<b>Topic 2</b><br>Words: good, goodin, uwu, lik, mm",
          "<b>Topic 2</b><br>Words: good, goodin, uwu, lik, mm",
          "<b>Topic 2</b><br>Words: good, goodin, uwu, lik, mm",
          "<b>Topic 2</b><br>Words: good, goodin, uwu, lik, mm",
          "<b>Topic 2</b><br>Words: good, noice, goodin, uwu, lik",
          "<b>Topic 2</b><br>Words: good, lik, goodin, uwu, mm",
          "<b>Topic 2</b><br>Words: good, mm, lol, dks, goodin",
          "<b>Topic 2</b><br>Words: good, goodin, uwu, lik, mm",
          "<b>Topic 2</b><br>Words: good, thats, goodin, uwu, lik",
          "<b>Topic 2</b><br>Words: good, er, please, goodin, uwu",
          "<b>Topic 2</b><br>Words: good, goodin, uwu, lik, mm",
          "<b>Topic 2</b><br>Words: good, goodin, uwu, lik, mm",
          "<b>Topic 2</b><br>Words: good, goodin, uh, nioh, af",
          "<b>Topic 2</b><br>Words: good, ol, goodin, uwu, lik",
          "<b>Topic 2</b><br>Words: good, uwu, goodin, lik, mm"
         ],
         "marker": {
          "color": "#009E73"
         },
         "mode": "lines",
         "name": "2_good_goodin_uwu_lik",
         "type": "scatter",
         "x": [
          "2014-04-20T18:06:56.036000",
          "2014-11-10T19:22:33.200000",
          "2015-05-29T20:36:41.400000",
          "2015-12-15T21:50:49.600000",
          "2016-07-02T23:04:57.800000",
          "2017-01-19T00:19:06",
          "2017-08-07T01:33:14.200000",
          "2018-02-23T02:47:22.400000",
          "2018-09-11T04:01:30.600000",
          "2019-03-30T05:15:38.800000",
          "2019-10-16T06:29:47",
          "2020-05-03T07:43:55.200000",
          "2020-11-19T08:58:03.400000",
          "2021-06-07T10:12:11.600000",
          "2021-12-24T11:26:19.800000",
          "2022-07-12T12:40:28",
          "2023-01-28T13:54:36.200000",
          "2023-08-16T15:08:44.400000",
          "2024-03-03T16:22:52.600000",
          "2024-09-19T17:37:00.800000"
         ],
         "y": [
          68,
          35,
          13,
          31,
          19,
          29,
          26,
          12,
          25,
          48,
          104,
          110,
          107,
          119,
          114,
          70,
          90,
          81,
          104,
          101
         ]
        },
        {
         "hoverinfo": "text",
         "hovertext": [
          "<b>Topic 3</b><br>Words: que, jogo, de, el, primeiro",
          "<b>Topic 3</b><br>Words: de, que, jogo, la, et",
          "<b>Topic 3</b><br>Words: que, el, jogo, ncia, de",
          "<b>Topic 3</b><br>Words: que, jogo, de, se, morrer",
          "<b>Topic 3</b><br>Words: de, el, que, la, en",
          "<b>Topic 3</b><br>Words: que, de, su, la, en",
          "<b>Topic 3</b><br>Words: que, la, se, el, de",
          "<b>Topic 3</b><br>Words: morrer, perfeito, matar, mais, se",
          "<b>Topic 3</b><br>Words: el, de, favorita, mentale, castigara",
          "<b>Topic 3</b><br>Words: jogo, que, para, de, jogar",
          "<b>Topic 3</b><br>Words: que, jogo, juegazo, de, pero",
          "<b>Topic 3</b><br>Words: jogo, que, de, ma, um",
          "<b>Topic 3</b><br>Words: novo, de, que, el, jogo",
          "<b>Topic 3</b><br>Words: que, de, jogo, juego, um",
          "<b>Topic 3</b><br>Words: de, la, que, el, juego",
          "<b>Topic 3</b><br>Words: que, de, pra, jogo, voc",
          "<b>Topic 3</b><br>Words: que, de, jogo, um, el",
          "<b>Topic 3</b><br>Words: te, odeio, amo, de, que",
          "<b>Topic 3</b><br>Words: de, que, el, juego, jogo",
          "<b>Topic 3</b><br>Words: que, de, jogo, la, el"
         ],
         "marker": {
          "color": "#F0E442"
         },
         "mode": "lines",
         "name": "3_de_que_jogo_el",
         "type": "scatter",
         "x": [
          "2014-04-20T18:06:56.036000",
          "2014-11-10T19:22:33.200000",
          "2015-05-29T20:36:41.400000",
          "2015-12-15T21:50:49.600000",
          "2016-07-02T23:04:57.800000",
          "2017-01-19T00:19:06",
          "2017-08-07T01:33:14.200000",
          "2018-02-23T02:47:22.400000",
          "2018-09-11T04:01:30.600000",
          "2019-03-30T05:15:38.800000",
          "2019-10-16T06:29:47",
          "2020-05-03T07:43:55.200000",
          "2020-11-19T08:58:03.400000",
          "2021-06-07T10:12:11.600000",
          "2021-12-24T11:26:19.800000",
          "2022-07-12T12:40:28",
          "2023-01-28T13:54:36.200000",
          "2023-08-16T15:08:44.400000",
          "2024-03-03T16:22:52.600000",
          "2024-09-19T17:37:00.800000"
         ],
         "y": [
          21,
          8,
          8,
          12,
          10,
          4,
          10,
          4,
          6,
          6,
          31,
          24,
          33,
          39,
          25,
          21,
          43,
          33,
          44,
          56
         ]
        },
        {
         "hoverinfo": "text",
         "hovertext": [
          "<b>Topic 4</b><br>Words: yes, nope, frog, yesn, yessir",
          "<b>Topic 4</b><br>Words: yes, nope, yesn, yessir, frog",
          "<b>Topic 4</b><br>Words: yes, nope, yesn, yessir, frog",
          "<b>Topic 4</b><br>Words: yes, nope, yesn, yessir, frog",
          "<b>Topic 4</b><br>Words: yes, nope, yesn, yessir, frog",
          "<b>Topic 4</b><br>Words: yes, nope, yesn, yessir, frog",
          "<b>Topic 4</b><br>Words: yes, nope, yesn, yessir, frog",
          "<b>Topic 4</b><br>Words: yes, nope, yesn, yessir, frog",
          "<b>Topic 4</b><br>Words: yes, nope, yesn, yessir, frog",
          "<b>Topic 4</b><br>Words: yes, nope, yesn, yessir, frog",
          "<b>Topic 4</b><br>Words: yes, nope, yesn, yessir, frog",
          "<b>Topic 4</b><br>Words: yes, nope, yesn, yessir, frog",
          "<b>Topic 4</b><br>Words: yes, nope, yesn, yessir, frog",
          "<b>Topic 4</b><br>Words: yes, thank, nope, bro, sir",
          "<b>Topic 4</b><br>Words: yes, nope, yesn, yessir, frog",
          "<b>Topic 4</b><br>Words: yes, nope, yesn, yessir, frog",
          "<b>Topic 4</b><br>Words: yes, nope, yesn, yessir, frog",
          "<b>Topic 4</b><br>Words: yes, yessir, nope, yesn, frog",
          "<b>Topic 4</b><br>Words: yes, nope, yesn, yessir, frog",
          "<b>Topic 4</b><br>Words: yes, nope, yesn, yessir, frog"
         ],
         "marker": {
          "color": "#D55E00"
         },
         "mode": "lines",
         "name": "4_yes_nope_yesn_yessir",
         "type": "scatter",
         "x": [
          "2014-04-20T18:06:56.036000",
          "2014-11-10T19:22:33.200000",
          "2015-05-29T20:36:41.400000",
          "2015-12-15T21:50:49.600000",
          "2016-07-02T23:04:57.800000",
          "2017-01-19T00:19:06",
          "2017-08-07T01:33:14.200000",
          "2018-02-23T02:47:22.400000",
          "2018-09-11T04:01:30.600000",
          "2019-03-30T05:15:38.800000",
          "2019-10-16T06:29:47",
          "2020-05-03T07:43:55.200000",
          "2020-11-19T08:58:03.400000",
          "2021-06-07T10:12:11.600000",
          "2021-12-24T11:26:19.800000",
          "2022-07-12T12:40:28",
          "2023-01-28T13:54:36.200000",
          "2023-08-16T15:08:44.400000",
          "2024-03-03T16:22:52.600000",
          "2024-09-19T17:37:00.800000"
         ],
         "y": [
          27,
          13,
          6,
          7,
          4,
          1,
          3,
          2,
          5,
          9,
          51,
          51,
          51,
          45,
          40,
          26,
          15,
          25,
          25,
          23
         ]
        },
        {
         "hoverinfo": "text",
         "hovertext": [
          "<b>Topic 5</b><br>Words: best, everrrrrrrrrrrrrrrrrrrrrrrrrrrrrrrrrrrrrrrrrrrrrrrrrrrrrrrrrrrrrrrrrrrrrrrrrrrrrrrrrrrrrrrrrrrrrrrrrrrrrrr, proper, job, lol",
          "<b>Topic 5</b><br>Words: best, everrrrrrrrrrrrrrrrrrrrrrrrrrrrrrrrrrrrrrrrrrrrrrrrrrrrrrrrrrrrrrrrrrrrrrrrrrrrrrrrrrrrrrrrrrrrrrrrrrrrrrr, proper, job, lol",
          "<b>Topic 5</b><br>Words: best, everrrrrrrrrrrrrrrrrrrrrrrrrrrrrrrrrrrrrrrrrrrrrrrrrrrrrrrrrrrrrrrrrrrrrrrrrrrrrrrrrrrrrrrrrrrrrrrrrrrrrrr, proper, job, lol",
          "<b>Topic 5</b><br>Words: best, everrrrrrrrrrrrrrrrrrrrrrrrrrrrrrrrrrrrrrrrrrrrrrrrrrrrrrrrrrrrrrrrrrrrrrrrrrrrrrrrrrrrrrrrrrrrrrrrrrrrrrr, proper, job, lol",
          "<b>Topic 5</b><br>Words: best, lol, everrrrrrrrrrrrrrrrrrrrrrrrrrrrrrrrrrrrrrrrrrrrrrrrrrrrrrrrrrrrrrrrrrrrrrrrrrrrrrrrrrrrrrrrrrrrrrrrrrrrrrr, proper, job",
          "<b>Topic 5</b><br>Words: best, everrrrrrrrrrrrrrrrrrrrrrrrrrrrrrrrrrrrrrrrrrrrrrrrrrrrrrrrrrrrrrrrrrrrrrrrrrrrrrrrrrrrrrrrrrrrrrrrrrrrrrr, proper, job, lol",
          "<b>Topic 5</b><br>Words: best, everrrrrrrrrrrrrrrrrrrrrrrrrrrrrrrrrrrrrrrrrrrrrrrrrrrrrrrrrrrrrrrrrrrrrrrrrrrrrrrrrrrrrrrrrrrrrrrrrrrrrrr, proper, job, lol",
          "<b>Topic 5</b><br>Words: best, everrrrrrrrrrrrrrrrrrrrrrrrrrrrrrrrrrrrrrrrrrrrrrrrrrrrrrrrrrrrrrrrrrrrrrrrrrrrrrrrrrrrrrrrrrrrrrrrrrrrrrr, proper, job, lol",
          "<b>Topic 5</b><br>Words: best, everrrrrrrrrrrrrrrrrrrrrrrrrrrrrrrrrrrrrrrrrrrrrrrrrrrrrrrrrrrrrrrrrrrrrrrrrrrrrrrrrrrrrrrrrrrrrrrrrrrrrrr, proper, job, lol",
          "<b>Topic 5</b><br>Words: best, everrrrrrrrrrrrrrrrrrrrrrrrrrrrrrrrrrrrrrrrrrrrrrrrrrrrrrrrrrrrrrrrrrrrrrrrrrrrrrrrrrrrrrrrrrrrrrrrrrrrrrr, proper, job, lol",
          "<b>Topic 5</b><br>Words: best, everrrrrrrrrrrrrrrrrrrrrrrrrrrrrrrrrrrrrrrrrrrrrrrrrrrrrrrrrrrrrrrrrrrrrrrrrrrrrrrrrrrrrrrrrrrrrrrrrrrrrrr, proper, job, lol",
          "<b>Topic 5</b><br>Words: best, everrrrrrrrrrrrrrrrrrrrrrrrrrrrrrrrrrrrrrrrrrrrrrrrrrrrrrrrrrrrrrrrrrrrrrrrrrrrrrrrrrrrrrrrrrrrrrrrrrrrrrr, proper, job, lol",
          "<b>Topic 5</b><br>Words: best, everrrrrrrrrrrrrrrrrrrrrrrrrrrrrrrrrrrrrrrrrrrrrrrrrrrrrrrrrrrrrrrrrrrrrrrrrrrrrrrrrrrrrrrrrrrrrrrrrrrrrrr, proper, job, lol",
          "<b>Topic 5</b><br>Words: best, everrrrrrrrrrrrrrrrrrrrrrrrrrrrrrrrrrrrrrrrrrrrrrrrrrrrrrrrrrrrrrrrrrrrrrrrrrrrrrrrrrrrrrrrrrrrrrrrrrrrrrr, proper, job, lol",
          "<b>Topic 5</b><br>Words: best, everrrrrrrrrrrrrrrrrrrrrrrrrrrrrrrrrrrrrrrrrrrrrrrrrrrrrrrrrrrrrrrrrrrrrrrrrrrrrrrrrrrrrrrrrrrrrrrrrrrrrrr, proper, job, lol",
          "<b>Topic 5</b><br>Words: best, since, everrrrrrrrrrrrrrrrrrrrrrrrrrrrrrrrrrrrrrrrrrrrrrrrrrrrrrrrrrrrrrrrrrrrrrrrrrrrrrrrrrrrrrrrrrrrrrrrrrrrrrr, proper, job",
          "<b>Topic 5</b><br>Words: best, everrrrrrrrrrrrrrrrrrrrrrrrrrrrrrrrrrrrrrrrrrrrrrrrrrrrrrrrrrrrrrrrrrrrrrrrrrrrrrrrrrrrrrrrrrrrrrrrrrrrrrr, proper, job, lol",
          "<b>Topic 5</b><br>Words: best, right, everrrrrrrrrrrrrrrrrrrrrrrrrrrrrrrrrrrrrrrrrrrrrrrrrrrrrrrrrrrrrrrrrrrrrrrrrrrrrrrrrrrrrrrrrrrrrrrrrrrrrrr, proper, job",
          "<b>Topic 5</b><br>Words: best, everrrrrrrrrrrrrrrrrrrrrrrrrrrrrrrrrrrrrrrrrrrrrrrrrrrrrrrrrrrrrrrrrrrrrrrrrrrrrrrrrrrrrrrrrrrrrrrrrrrrrrr, proper, job, lol",
          "<b>Topic 5</b><br>Words: best, everrrrrrrrrrrrrrrrrrrrrrrrrrrrrrrrrrrrrrrrrrrrrrrrrrrrrrrrrrrrrrrrrrrrrrrrrrrrrrrrrrrrrrrrrrrrrrrrrrrrrrr, proper, job, lol"
         ],
         "marker": {
          "color": "#0072B2"
         },
         "mode": "lines",
         "name": "5_best_everrrrrrrrrrrrrrrrrrrrrrrrrrrrrr...",
         "type": "scatter",
         "x": [
          "2014-04-20T18:06:56.036000",
          "2014-11-10T19:22:33.200000",
          "2015-05-29T20:36:41.400000",
          "2015-12-15T21:50:49.600000",
          "2016-07-02T23:04:57.800000",
          "2017-01-19T00:19:06",
          "2017-08-07T01:33:14.200000",
          "2018-02-23T02:47:22.400000",
          "2018-09-11T04:01:30.600000",
          "2019-03-30T05:15:38.800000",
          "2019-10-16T06:29:47",
          "2020-05-03T07:43:55.200000",
          "2020-11-19T08:58:03.400000",
          "2021-06-07T10:12:11.600000",
          "2021-12-24T11:26:19.800000",
          "2022-07-12T12:40:28",
          "2023-01-28T13:54:36.200000",
          "2023-08-16T15:08:44.400000",
          "2024-03-03T16:22:52.600000",
          "2024-09-19T17:37:00.800000"
         ],
         "y": [
          14,
          8,
          2,
          1,
          2,
          4,
          3,
          1,
          7,
          15,
          33,
          22,
          31,
          43,
          43,
          36,
          36,
          36,
          37,
          41
         ]
        },
        {
         "hoverinfo": "text",
         "hovertext": [
          "<b>Topic 6</b><br>Words: pvp, pve, deths, servrs, slighly",
          "<b>Topic 6</b><br>Words: pvp, ice, raipers, againsts, bugginess",
          "<b>Topic 6</b><br>Words: stunlock, pvp, pve, zuck, bellbro",
          "<b>Topic 6</b><br>Words: pvp, pve, havemybabies, tstorm, infinetly",
          "<b>Topic 6</b><br>Words: pvp, pve, female, anillo, soluborne",
          "<b>Topic 6</b><br>Words: pvp, pve, unbelievable, prefere, ham",
          "<b>Topic 6</b><br>Words: pvp, neato, forced, ping, pve",
          "<b>Topic 6</b><br>Words: pvp, noxious, spends, gamedesign, pve",
          "<b>Topic 6</b><br>Words: actuall, pussy, ton, pvp, count",
          "<b>Topic 6</b><br>Words: pvp, pve, tipper, fedora, hatemail",
          "<b>Topic 6</b><br>Words: pvp, pve, litreally, dankest, lp",
          "<b>Topic 6</b><br>Words: pvp, pve, spurg, campaing, refuge",
          "<b>Topic 6</b><br>Words: pvp, pve, matchmacking, casulz, simillar",
          "<b>Topic 6</b><br>Words: pvp, hundo, pve, estoc, pagchomp",
          "<b>Topic 6</b><br>Words: pvp, pve, crazi, brst, emoticon",
          "<b>Topic 6</b><br>Words: pvp, ideology, spammer, acolyte, unknown",
          "<b>Topic 6</b><br>Words: beg, embodiment, griefers, pvp, raid",
          "<b>Topic 6</b><br>Words: cosmetic, navigation, sol, medieval, pvp",
          "<b>Topic 6</b><br>Words: ole, pve, pvp, experimentally, vip",
          "<b>Topic 6</b><br>Words: pvp, comp, swordplay, boo, cringe"
         ],
         "marker": {
          "color": "#CC79A7"
         },
         "mode": "lines",
         "name": "6_pvp_pve_best_hundo",
         "type": "scatter",
         "x": [
          "2014-04-20T18:06:56.036000",
          "2014-11-10T19:22:33.200000",
          "2015-05-29T20:36:41.400000",
          "2015-12-15T21:50:49.600000",
          "2016-07-02T23:04:57.800000",
          "2017-01-19T00:19:06",
          "2017-08-07T01:33:14.200000",
          "2018-02-23T02:47:22.400000",
          "2018-09-11T04:01:30.600000",
          "2019-03-30T05:15:38.800000",
          "2019-10-16T06:29:47",
          "2020-05-03T07:43:55.200000",
          "2020-11-19T08:58:03.400000",
          "2021-06-07T10:12:11.600000",
          "2021-12-24T11:26:19.800000",
          "2022-07-12T12:40:28",
          "2023-01-28T13:54:36.200000",
          "2023-08-16T15:08:44.400000",
          "2024-03-03T16:22:52.600000",
          "2024-09-19T17:37:00.800000"
         ],
         "y": [
          85,
          21,
          17,
          29,
          28,
          12,
          14,
          16,
          4,
          20,
          28,
          19,
          18,
          26,
          20,
          13,
          8,
          5,
          16,
          9
         ]
        },
        {
         "hoverinfo": "text",
         "hovertext": [
          "<b>Topic 7</b><br>Words: miyazaki, hidetaka, director, labrynth, solaire",
          "<b>Topic 7</b><br>Words: miyazaki, burger, film, director, hidetaka",
          "<b>Topic 7</b><br>Words: miyazaki, hidetaka, queen, challanage, golem",
          "<b>Topic 7</b><br>Words: miyazaki, hidetaka, sparse, director, figurine",
          "<b>Topic 7</b><br>Words: dat, miyazaki, wahhhh, semblence, opininon",
          "<b>Topic 7</b><br>Words: dksi, miyazaki, writer, section, iic",
          "<b>Topic 7</b><br>Words: miyazaki, hidetaka, cover, direct, novel",
          "<b>Topic 7</b><br>Words: miyazaki, initially, unknowing, intensity, lovecraft",
          "<b>Topic 7</b><br>Words: miyazaki, bloodborn, tattoo, alot, gem",
          "<b>Topic 7</b><br>Words: miyazaki, critique, iframes, familiar, unexplained",
          "<b>Topic 7</b><br>Words: miyazaki, absence, controversy, ornstein, hidetaka",
          "<b>Topic 7</b><br>Words: miyazaki, direct, hidetaka, miazaki, director",
          "<b>Topic 7</b><br>Words: miyazaki, hidetaka, tomohiro, shibuya, direct",
          "<b>Topic 7</b><br>Words: miyazaki, direct, absence, hidetaka, enormous",
          "<b>Topic 7</b><br>Words: miyazaki, hidetaka, direct, url, intention",
          "<b>Topic 7</b><br>Words: miyazaki, hidetaka, development, lopsided, ai",
          "<b>Topic 7</b><br>Words: miyazaki, emoji, hidetaka, soulslike, trevor",
          "<b>Topic 7</b><br>Words: miyazaki, hidetaka, spoiler, thank, tanimura",
          "<b>Topic 7</b><br>Words: miyazaki, hidetaka, direct, director, tedium",
          "<b>Topic 7</b><br>Words: miyazaki, hidetaka, direct, director, round"
         ],
         "marker": {
          "color": "#E69F00"
         },
         "mode": "lines",
         "name": "7_miyazaki_hidetaka_direct_director",
         "type": "scatter",
         "x": [
          "2014-04-20T18:06:56.036000",
          "2014-11-10T19:22:33.200000",
          "2015-05-29T20:36:41.400000",
          "2015-12-15T21:50:49.600000",
          "2016-07-02T23:04:57.800000",
          "2017-01-19T00:19:06",
          "2017-08-07T01:33:14.200000",
          "2018-02-23T02:47:22.400000",
          "2018-09-11T04:01:30.600000",
          "2019-03-30T05:15:38.800000",
          "2019-10-16T06:29:47",
          "2020-05-03T07:43:55.200000",
          "2020-11-19T08:58:03.400000",
          "2021-06-07T10:12:11.600000",
          "2021-12-24T11:26:19.800000",
          "2022-07-12T12:40:28",
          "2023-01-28T13:54:36.200000",
          "2023-08-16T15:08:44.400000",
          "2024-03-03T16:22:52.600000",
          "2024-09-19T17:37:00.800000"
         ],
         "y": [
          16,
          14,
          14,
          18,
          7,
          6,
          14,
          14,
          8,
          15,
          12,
          18,
          16,
          28,
          26,
          16,
          23,
          33,
          42,
          46
         ]
        },
        {
         "hoverinfo": "text",
         "hovertext": [
          "<b>Topic 8</b><br>Words: challenge, challenging, fun, eyesockets, centry",
          "<b>Topic 8</b><br>Words: challenge, defenately, supah, challenging, agrivating",
          "<b>Topic 8</b><br>Words: challenge, messing, challenging, sole, starter",
          "<b>Topic 8</b><br>Words: challenge, reccomendo, versus, challenging, enimies",
          "<b>Topic 8</b><br>Words: challenge, squooshed, whale, challenging, ver",
          "<b>Topic 8</b><br>Words: difficeurewlt, sophisticatioadawdw, awd, challenge, gift",
          "<b>Topic 8</b><br>Words: daily, challenge, affect, regret, satisfy",
          "<b>Topic 8</b><br>Words: littt, lul, challenge, race, thru",
          "<b>Topic 8</b><br>Words: grasp, timing, hop, challenge, ago",
          "<b>Topic 8</b><br>Words: challenge, aaaaaarrrrghhhh, grapchical, mutant, adventurous",
          "<b>Topic 8</b><br>Words: challenge, challenging, pastime, haaard, awesomely",
          "<b>Topic 8</b><br>Words: challenge, aaaaaaaaaaaaaaaaaaaaaaaaaaaaaaaaaaaaaaaaaaaaaaaaaaaaaaaaaaaaaahhhhhhhhhhhhhhhhhhhhhhhhhhhhhhhhhhhhhhhhhhhhhh, aaaaaaaaaaaaaaaaaaaaaaaaaaaaaaaaahhhhhhhhhhhhhhhhhhhhhhhhhhhhhhhhhhhhhhhhhhhhhhhhhhhhhhhh, legendary, success",
          "<b>Topic 8</b><br>Words: challenge, challenging, finnished, enimies, gratify",
          "<b>Topic 8</b><br>Words: challenge, tad, overcome, challenging, hair",
          "<b>Topic 8</b><br>Words: challenge, shady, obtuse, reveal, worthwhile",
          "<b>Topic 8</b><br>Words: amazing, challenge, would, pretty, fun",
          "<b>Topic 8</b><br>Words: stressing, memed, challenge, challenging, eh",
          "<b>Topic 8</b><br>Words: scrabble, bringer, goldfish, certify, challenged",
          "<b>Topic 8</b><br>Words: understnad, ounce, challenge, buggy, challenging",
          "<b>Topic 8</b><br>Words: challengeing, bid, colorful, challenge, frustrated"
         ],
         "marker": {
          "color": "#56B4E9"
         },
         "mode": "lines",
         "name": "8_challenge_challenging_fun_amazing",
         "type": "scatter",
         "x": [
          "2014-04-20T18:06:56.036000",
          "2014-11-10T19:22:33.200000",
          "2015-05-29T20:36:41.400000",
          "2015-12-15T21:50:49.600000",
          "2016-07-02T23:04:57.800000",
          "2017-01-19T00:19:06",
          "2017-08-07T01:33:14.200000",
          "2018-02-23T02:47:22.400000",
          "2018-09-11T04:01:30.600000",
          "2019-03-30T05:15:38.800000",
          "2019-10-16T06:29:47",
          "2020-05-03T07:43:55.200000",
          "2020-11-19T08:58:03.400000",
          "2021-06-07T10:12:11.600000",
          "2021-12-24T11:26:19.800000",
          "2022-07-12T12:40:28",
          "2023-01-28T13:54:36.200000",
          "2023-08-16T15:08:44.400000",
          "2024-03-03T16:22:52.600000",
          "2024-09-19T17:37:00.800000"
         ],
         "y": [
          92,
          43,
          16,
          16,
          12,
          9,
          4,
          6,
          3,
          14,
          29,
          26,
          15,
          16,
          11,
          3,
          7,
          8,
          6,
          5
         ]
        },
        {
         "hoverinfo": "text",
         "hovertext": [
          "<b>Topic 9</b><br>Words: sun, praise, blah, hole, adherent",
          "<b>Topic 9</b><br>Words: sun, praise, bangt, huraah, bloom",
          "<b>Topic 9</b><br>Words: sun, praise, eighty, matey, biatch",
          "<b>Topic 9</b><br>Words: sun, praise, energy, goty, addict",
          "<b>Topic 9</b><br>Words: sun, praise, toast, hole, blah",
          "<b>Topic 9</b><br>Words: sun, praise, sunny, blah, hole",
          "<b>Topic 9</b><br>Words: sun, praise, dat, gravity, ign",
          "<b>Topic 9</b><br>Words: sun, blah, praise, meme, tongue",
          "<b>Topic 9</b><br>Words: sun, praise, dark, extra, content",
          "<b>Topic 9</b><br>Words: sun, praise, sunnnnnnnnnn, uncle, creepy",
          "<b>Topic 9</b><br>Words: sun, praise, blah, hole, eighty",
          "<b>Topic 9</b><br>Words: sun, praise, paise, blah, hole",
          "<b>Topic 9</b><br>Words: sun, praise, suck, blah, hole",
          "<b>Topic 9</b><br>Words: sun, praise, odball, ok, blah",
          "<b>Topic 9</b><br>Words: sun, praise, completion, difficulty, blah",
          "<b>Topic 9</b><br>Words: sun, praise, server, back, blah",
          "<b>Topic 9</b><br>Words: sun, praise, blah, hole, eighty",
          "<b>Topic 9</b><br>Words: sun, praise, introspection, therefore, require",
          "<b>Topic 9</b><br>Words: sun, praise, hoorah, swallow, bom",
          "<b>Topic 9</b><br>Words: sun, praise, luv, pray, dis"
         ],
         "marker": {
          "color": "#009E73"
         },
         "mode": "lines",
         "name": "9_sun_praise_blah_hole",
         "type": "scatter",
         "x": [
          "2014-04-20T18:06:56.036000",
          "2014-11-10T19:22:33.200000",
          "2015-05-29T20:36:41.400000",
          "2015-12-15T21:50:49.600000",
          "2016-07-02T23:04:57.800000",
          "2017-01-19T00:19:06",
          "2017-08-07T01:33:14.200000",
          "2018-02-23T02:47:22.400000",
          "2018-09-11T04:01:30.600000",
          "2019-03-30T05:15:38.800000",
          "2019-10-16T06:29:47",
          "2020-05-03T07:43:55.200000",
          "2020-11-19T08:58:03.400000",
          "2021-06-07T10:12:11.600000",
          "2021-12-24T11:26:19.800000",
          "2022-07-12T12:40:28",
          "2023-01-28T13:54:36.200000",
          "2023-08-16T15:08:44.400000",
          "2024-03-03T16:22:52.600000",
          "2024-09-19T17:37:00.800000"
         ],
         "y": [
          105,
          24,
          14,
          18,
          17,
          12,
          16,
          4,
          5,
          9,
          9,
          10,
          8,
          15,
          9,
          5,
          5,
          10,
          10,
          8
         ]
        },
        {
         "hoverinfo": "text",
         "hovertext": [
          "<b>Topic 10</b><br>Words: darksouls, darksoulsii, dark, exe, darksoul",
          "<b>Topic 10</b><br>Words: darksouls, hgue, hesitent, darker, downloading",
          "<b>Topic 10</b><br>Words: darksouls, dark, absurdly, thoue, starved",
          "<b>Topic 10</b><br>Words: darksouls, xenoblade, chronicle, darksoul, okgamety",
          "<b>Topic 10</b><br>Words: darksouls, darkosuls, darkaum, poha, soz",
          "<b>Topic 10</b><br>Words: darksouls, bsod, maple, hunk, sticky",
          "<b>Topic 10</b><br>Words: darksouls, cookie, buggyier, endurence, darko",
          "<b>Topic 10</b><br>Words: darksouls, objectivelly, darkouls, inspite, personaly",
          "<b>Topic 10</b><br>Words: darksouls, sht, casuls, happens, respond",
          "<b>Topic 10</b><br>Words: darksouls, darkhorse, purists, silence, shittiest",
          "<b>Topic 10</b><br>Words: darksouls, traaaaaaaash, beatplayers, defentel, raipiers",
          "<b>Topic 10</b><br>Words: darksouls, blackpill, unesssicasry, check, longtime",
          "<b>Topic 10</b><br>Words: darksouls, moonlight, darks, unrefined, prob",
          "<b>Topic 10</b><br>Words: darksouls, darksoul, john, flank, demondsouls",
          "<b>Topic 10</b><br>Words: darksouls, darksoul, darklurker, verbose, deve",
          "<b>Topic 10</b><br>Words: darksouls, souliest, twoiest, darko, darksoul",
          "<b>Topic 10</b><br>Words: darksouls, dark, lakewood, janksouls, lisa",
          "<b>Topic 10</b><br>Words: john, darksoul, darksouls, wife, darkest",
          "<b>Topic 10</b><br>Words: darksouls, darksoul, darks, hater, darked",
          "<b>Topic 10</b><br>Words: darksouls, darksoul, darker, darketosoudos, tremendo"
         ],
         "marker": {
          "color": "#F0E442"
         },
         "mode": "lines",
         "name": "10_darksouls_darksoul_dark_john",
         "type": "scatter",
         "x": [
          "2014-04-20T18:06:56.036000",
          "2014-11-10T19:22:33.200000",
          "2015-05-29T20:36:41.400000",
          "2015-12-15T21:50:49.600000",
          "2016-07-02T23:04:57.800000",
          "2017-01-19T00:19:06",
          "2017-08-07T01:33:14.200000",
          "2018-02-23T02:47:22.400000",
          "2018-09-11T04:01:30.600000",
          "2019-03-30T05:15:38.800000",
          "2019-10-16T06:29:47",
          "2020-05-03T07:43:55.200000",
          "2020-11-19T08:58:03.400000",
          "2021-06-07T10:12:11.600000",
          "2021-12-24T11:26:19.800000",
          "2022-07-12T12:40:28",
          "2023-01-28T13:54:36.200000",
          "2023-08-16T15:08:44.400000",
          "2024-03-03T16:22:52.600000",
          "2024-09-19T17:37:00.800000"
         ],
         "y": [
          37,
          12,
          18,
          12,
          11,
          4,
          11,
          8,
          5,
          11,
          25,
          12,
          23,
          25,
          23,
          13,
          13,
          9,
          19,
          18
         ]
        },
        {
         "hoverinfo": "text",
         "hovertext": [
          "<b>Topic 11</b><br>Words: great, fking, greattttt, greatttttt, everyone",
          "<b>Topic 11</b><br>Words: great, fking, greattttt, greatttttt, outta",
          "<b>Topic 11</b><br>Words: great, fking, greattttt, greatttttt, outta",
          "<b>Topic 11</b><br>Words: great, fking, greattttt, greatttttt, outta",
          "<b>Topic 11</b><br>Words: great, fking, greattttt, greatttttt, outta",
          "<b>Topic 11</b><br>Words: great, fking, greattttt, greatttttt, outta",
          "<b>Topic 11</b><br>Words: great, fking, greattttt, greatttttt, outta",
          "<b>Topic 11</b><br>Words: great, fking, greattttt, greatttttt, outta",
          "<b>Topic 11</b><br>Words: great, fking, greattttt, greatttttt, outta",
          "<b>Topic 11</b><br>Words: great, fking, greattttt, greatttttt, outta",
          "<b>Topic 11</b><br>Words: great, greattttt, greatttttt, outta, fking",
          "<b>Topic 11</b><br>Words: great, fking, greattttt, greatttttt, outta",
          "<b>Topic 11</b><br>Words: great, fking, greattttt, greatttttt, outta",
          "<b>Topic 11</b><br>Words: great, fking, greattttt, greatttttt, outta",
          "<b>Topic 11</b><br>Words: great, fking, greattttt, greatttttt, outta",
          "<b>Topic 11</b><br>Words: great, fking, greattttt, greatttttt, outta",
          "<b>Topic 11</b><br>Words: great, fking, greattttt, greatttttt, outta",
          "<b>Topic 11</b><br>Words: great, fking, greattttt, greatttttt, outta",
          "<b>Topic 11</b><br>Words: great, wonderful, fking, greattttt, greatttttt",
          "<b>Topic 11</b><br>Words: great, fking, greattttt, greatttttt, outta"
         ],
         "marker": {
          "color": "#D55E00"
         },
         "mode": "lines",
         "name": "11_great_fking_greatttttt_greattttt",
         "type": "scatter",
         "x": [
          "2014-04-20T18:06:56.036000",
          "2014-11-10T19:22:33.200000",
          "2015-05-29T20:36:41.400000",
          "2015-12-15T21:50:49.600000",
          "2016-07-02T23:04:57.800000",
          "2017-01-19T00:19:06",
          "2017-08-07T01:33:14.200000",
          "2018-02-23T02:47:22.400000",
          "2018-09-11T04:01:30.600000",
          "2019-03-30T05:15:38.800000",
          "2019-10-16T06:29:47",
          "2020-05-03T07:43:55.200000",
          "2020-11-19T08:58:03.400000",
          "2021-06-07T10:12:11.600000",
          "2021-12-24T11:26:19.800000",
          "2022-07-12T12:40:28",
          "2023-01-28T13:54:36.200000",
          "2023-08-16T15:08:44.400000",
          "2024-03-03T16:22:52.600000",
          "2024-09-19T17:37:00.800000"
         ],
         "y": [
          41,
          16,
          9,
          10,
          5,
          12,
          9,
          3,
          4,
          14,
          28,
          19,
          24,
          21,
          18,
          14,
          10,
          21,
          9,
          13
         ]
        },
        {
         "hoverinfo": "text",
         "hovertext": [
          "<b>Topic 12</b><br>Words: buy, bought, sale, regret, funfunfun",
          "<b>Topic 12</b><br>Words: buy, sale, twice, winter, confuced",
          "<b>Topic 12</b><br>Words: sale, buy, hemorrhoids, plesant, booooring",
          "<b>Topic 12</b><br>Words: buy, bought, nowwwwwwwwwwwww, grillfriend, musta",
          "<b>Topic 12</b><br>Words: circlejerker, sale, hahahahahah, rhino, apperently",
          "<b>Topic 12</b><br>Words: shgould, bought, twice, sux, buy",
          "<b>Topic 12</b><br>Words: kurisu, screaming, weeb, twitch, maldron",
          "<b>Topic 12</b><br>Words: incomplete, diehard, buy, glad, twice",
          "<b>Topic 12</b><br>Words: godrays, buy, sale, twice, bought",
          "<b>Topic 12</b><br>Words: unimaginative, sale, lets, buy, unjustified",
          "<b>Topic 12</b><br>Words: chuuni, cheapest, sale, withstand, buy",
          "<b>Topic 12</b><br>Words: monki, buy, doodoo, catalogue, stinky",
          "<b>Topic 12</b><br>Words: sale, fook, buy, fookin, estate",
          "<b>Topic 12</b><br>Words: oops, admission, sale, chip, buy",
          "<b>Topic 12</b><br>Words: plimplimplim, lmao, sucks, cuz, buy",
          "<b>Topic 12</b><br>Words: norbert, celeste, hoe, sale, yall",
          "<b>Topic 12</b><br>Words: sale, buy, eam, discount, fuckery",
          "<b>Topic 12</b><br>Words: osama, aliexpress, wort, laden, buy",
          "<b>Topic 12</b><br>Words: craigslist, gatekeep, sadomasochism, buy, fam",
          "<b>Topic 12</b><br>Words: originl, buyin, buy, twice, listen"
         ],
         "marker": {
          "color": "#0072B2"
         },
         "mode": "lines",
         "name": "12_buy_sale_twice_bought",
         "type": "scatter",
         "x": [
          "2014-04-20T18:06:56.036000",
          "2014-11-10T19:22:33.200000",
          "2015-05-29T20:36:41.400000",
          "2015-12-15T21:50:49.600000",
          "2016-07-02T23:04:57.800000",
          "2017-01-19T00:19:06",
          "2017-08-07T01:33:14.200000",
          "2018-02-23T02:47:22.400000",
          "2018-09-11T04:01:30.600000",
          "2019-03-30T05:15:38.800000",
          "2019-10-16T06:29:47",
          "2020-05-03T07:43:55.200000",
          "2020-11-19T08:58:03.400000",
          "2021-06-07T10:12:11.600000",
          "2021-12-24T11:26:19.800000",
          "2022-07-12T12:40:28",
          "2023-01-28T13:54:36.200000",
          "2023-08-16T15:08:44.400000",
          "2024-03-03T16:22:52.600000",
          "2024-09-19T17:37:00.800000"
         ],
         "y": [
          62,
          21,
          20,
          22,
          12,
          11,
          9,
          5,
          1,
          12,
          13,
          11,
          17,
          7,
          10,
          9,
          17,
          10,
          10,
          13
         ]
        },
        {
         "hoverinfo": "text",
         "hovertext": [
          "<b>Topic 13</b><br>Words: die, willl, slug, nutshell, eat",
          "<b>Topic 13</b><br>Words: die, sometimes, owie, finna, willl",
          "<b>Topic 13</b><br>Words: die, lie, yeah, owie, finna",
          "<b>Topic 13</b><br>Words: die, sometimes, owie, finna, willl",
          "<b>Topic 13</b><br>Words: die, oh, owie, finna, willl",
          "<b>Topic 13</b><br>Words: die, owie, finna, willl, tire",
          "<b>Topic 13</b><br>Words: die, owie, finna, willl, tire",
          "<b>Topic 13</b><br>Words: die, sure, owie, finna, willl",
          "<b>Topic 13</b><br>Words: die, owie, finna, willl, tire",
          "<b>Topic 13</b><br>Words: die, owie, finna, willl, tire",
          "<b>Topic 13</b><br>Words: die, tire, thats, okay, never",
          "<b>Topic 13</b><br>Words: finna, die, owie, willl, tire",
          "<b>Topic 13</b><br>Words: die, owie, pointless, didnt, finna",
          "<b>Topic 13</b><br>Words: die, son, must, owie, finna",
          "<b>Topic 13</b><br>Words: die, yes, owie, finna, willl",
          "<b>Topic 13</b><br>Words: die, owie, finna, willl, tire",
          "<b>Topic 13</b><br>Words: yay, die, owie, finna, willl",
          "<b>Topic 13</b><br>Words: die, owie, finna, willl, tire",
          "<b>Topic 13</b><br>Words: die, owie, finna, willl, tire",
          "<b>Topic 13</b><br>Words: die, owie, finna, willl, tire"
         ],
         "marker": {
          "color": "#CC79A7"
         },
         "mode": "lines",
         "name": "13_die_owie_finna_willl",
         "type": "scatter",
         "x": [
          "2014-04-20T18:06:56.036000",
          "2014-11-10T19:22:33.200000",
          "2015-05-29T20:36:41.400000",
          "2015-12-15T21:50:49.600000",
          "2016-07-02T23:04:57.800000",
          "2017-01-19T00:19:06",
          "2017-08-07T01:33:14.200000",
          "2018-02-23T02:47:22.400000",
          "2018-09-11T04:01:30.600000",
          "2019-03-30T05:15:38.800000",
          "2019-10-16T06:29:47",
          "2020-05-03T07:43:55.200000",
          "2020-11-19T08:58:03.400000",
          "2021-06-07T10:12:11.600000",
          "2021-12-24T11:26:19.800000",
          "2022-07-12T12:40:28",
          "2023-01-28T13:54:36.200000",
          "2023-08-16T15:08:44.400000",
          "2024-03-03T16:22:52.600000",
          "2024-09-19T17:37:00.800000"
         ],
         "y": [
          75,
          23,
          13,
          24,
          16,
          14,
          11,
          6,
          7,
          11,
          16,
          12,
          11,
          10,
          9,
          9,
          4,
          7,
          3,
          4
         ]
        },
        {
         "hoverinfo": "text",
         "hovertext": [
          "<b>Topic 14</b><br>Words: sun, praise, sunlight, priase, cry",
          "<b>Topic 14</b><br>Words: sun, praise, dontu, lagstabbing, username",
          "<b>Topic 14</b><br>Words: sun, praise, ghul, solare, navigating",
          "<b>Topic 14</b><br>Words: sun, praise, sunbro, bros, sunsword",
          "<b>Topic 14</b><br>Words: sun, praise, cryyyyyyyyyyyyyyyyyyyyyy, praisethe, praising",
          "<b>Topic 14</b><br>Words: sun, praise, rekt, sunlight, bros",
          "<b>Topic 14</b><br>Words: sun, praise, cuphead, allot, backstepped",
          "<b>Topic 14</b><br>Words: sun, hurra, praise, heresy, hurray",
          "<b>Topic 14</b><br>Words: wonderfull, sun, praise, ing, coop",
          "<b>Topic 14</b><br>Words: sun, praiser, barrer, praising, praise",
          "<b>Topic 14</b><br>Words: sun, praise, ether, sunbros, deprive",
          "<b>Topic 14</b><br>Words: sun, praise, neil, armstrong, rose",
          "<b>Topic 14</b><br>Words: sun, praise, drangleics, mercifully, uphold",
          "<b>Topic 14</b><br>Words: sun, praise, wrekd, strat, diff",
          "<b>Topic 14</b><br>Words: sun, solaire, praise, receive, underrated",
          "<b>Topic 14</b><br>Words: sunbro, sun, live, praise, grab",
          "<b>Topic 14</b><br>Words: sunbro, sun, dying, chunk, praise",
          "<b>Topic 14</b><br>Words: sun, praise, shay, cur, grill",
          "<b>Topic 14</b><br>Words: medal, sunlight, chill, sun, praise",
          "<b>Topic 14</b><br>Words: sun, praise, step, afterall, medal"
         ],
         "marker": {
          "color": "#E69F00"
         },
         "mode": "lines",
         "name": "14_sun_praise_sunlight_sunbro",
         "type": "scatter",
         "x": [
          "2014-04-20T18:06:56.036000",
          "2014-11-10T19:22:33.200000",
          "2015-05-29T20:36:41.400000",
          "2015-12-15T21:50:49.600000",
          "2016-07-02T23:04:57.800000",
          "2017-01-19T00:19:06",
          "2017-08-07T01:33:14.200000",
          "2018-02-23T02:47:22.400000",
          "2018-09-11T04:01:30.600000",
          "2019-03-30T05:15:38.800000",
          "2019-10-16T06:29:47",
          "2020-05-03T07:43:55.200000",
          "2020-11-19T08:58:03.400000",
          "2021-06-07T10:12:11.600000",
          "2021-12-24T11:26:19.800000",
          "2022-07-12T12:40:28",
          "2023-01-28T13:54:36.200000",
          "2023-08-16T15:08:44.400000",
          "2024-03-03T16:22:52.600000",
          "2024-09-19T17:37:00.800000"
         ],
         "y": [
          105,
          25,
          14,
          20,
          15,
          13,
          12,
          4,
          3,
          4,
          11,
          6,
          9,
          7,
          2,
          3,
          2,
          7,
          3,
          5
         ]
        },
        {
         "hoverinfo": "text",
         "hovertext": [
          "<b>Topic 15</b><br>Words: dlc, hench, toro, flims, guerillimo",
          "<b>Topic 15</b><br>Words: dlc, deadlocked, puchase, fuffilling, enemey",
          "<b>Topic 15</b><br>Words: recomment, dlc, unpurchased, theft, fcking",
          "<b>Topic 15</b><br>Words: dlc, clusterfucks, nooooooooooooooooooooooooooope, undervalue, firelinkshine",
          "<b>Topic 15</b><br>Words: dlc, ardent, admirer, dysfunctional, worked",
          "<b>Topic 15</b><br>Words: espacially, fookin, dlc, bullsh, dlcs",
          "<b>Topic 15</b><br>Words: dlcs, dlc, afford, axe, succeed",
          "<b>Topic 15</b><br>Words: bouhgt, dlcs, edtion, blew, dlc",
          "<b>Topic 15</b><br>Words: ddlc, secretely, dlc, dlcs, fuckin",
          "<b>Topic 15</b><br>Words: seriers, suprises, lit, content, dlc",
          "<b>Topic 15</b><br>Words: dlc, dlcs, definite, laughable, innovative",
          "<b>Topic 15</b><br>Words: souslborne, abortion, dlc, dislike, campaign",
          "<b>Topic 15</b><br>Words: dlcs, dlc, joyful, pissed, trump",
          "<b>Topic 15</b><br>Words: dlc, designed, dlcs, timeless, net",
          "<b>Topic 15</b><br>Words: dlc, dlcs, smelly, forgot, ofc",
          "<b>Topic 15</b><br>Words: primo, godawful, dlc, sublime, clock",
          "<b>Topic 15</b><br>Words: zzuh, pibjlkz, zuh, ij, lijkop",
          "<b>Topic 15</b><br>Words: dlc, nifty, dlcs, sotf, quirky",
          "<b>Topic 15</b><br>Words: dlc, juxtapose, riddled, fromsofts, dlcs",
          "<b>Topic 15</b><br>Words: dlc, dlcs, electrocution, ahaaaaaaaaaaaaaaaaaaaaahhhhhhhhhghhh, steamthumbsdown"
         ],
         "marker": {
          "color": "#56B4E9"
         },
         "mode": "lines",
         "name": "15_dlc_dlcs_content_base",
         "type": "scatter",
         "x": [
          "2014-04-20T18:06:56.036000",
          "2014-11-10T19:22:33.200000",
          "2015-05-29T20:36:41.400000",
          "2015-12-15T21:50:49.600000",
          "2016-07-02T23:04:57.800000",
          "2017-01-19T00:19:06",
          "2017-08-07T01:33:14.200000",
          "2018-02-23T02:47:22.400000",
          "2018-09-11T04:01:30.600000",
          "2019-03-30T05:15:38.800000",
          "2019-10-16T06:29:47",
          "2020-05-03T07:43:55.200000",
          "2020-11-19T08:58:03.400000",
          "2021-06-07T10:12:11.600000",
          "2021-12-24T11:26:19.800000",
          "2022-07-12T12:40:28",
          "2023-01-28T13:54:36.200000",
          "2023-08-16T15:08:44.400000",
          "2024-03-03T16:22:52.600000",
          "2024-09-19T17:37:00.800000"
         ],
         "y": [
          24,
          21,
          12,
          15,
          12,
          9,
          11,
          8,
          6,
          7,
          10,
          7,
          16,
          16,
          23,
          9,
          7,
          15,
          20,
          19
         ]
        },
        {
         "hoverinfo": "text",
         "hovertext": [
          "<b>Topic 16</b><br>Words: hitboxes, hitbox, box, erroneous, expiration",
          "<b>Topic 16</b><br>Words: ok, hitbox, wierd, netcode, hitboxes",
          "<b>Topic 16</b><br>Words: complane, hitbox, sugest, exept, hitboxes",
          "<b>Topic 16</b><br>Words: hitboxes, relate, terrible, expect, issue",
          "<b>Topic 16</b><br>Words: whaaaat, hitbox, booty, hitboxes, yup",
          "<b>Topic 16</b><br>Words: hitbox, balancing, detection, hacker, ignore",
          "<b>Topic 16</b><br>Words: hitboxes, thing, hitbox, box, hit",
          "<b>Topic 16</b><br>Words: doubleclick, hitboxes, attacking, input, remaster",
          "<b>Topic 16</b><br>Words: hitboxes, fatty, detection, anyways, box",
          "<b>Topic 16</b><br>Words: hitboxes, hurtboxes, recur, passable, shitty",
          "<b>Topic 16</b><br>Words: hitboxes, hitbox, box, brincadera, boxxes",
          "<b>Topic 16</b><br>Words: hitboxes, hitbox, box, quebrada, pisspoor",
          "<b>Topic 16</b><br>Words: hitboxes, box, hitbox, quirkiest, lelelelel",
          "<b>Topic 16</b><br>Words: hitboxes, hitbox, box, shitty, aahahahahahahhaa",
          "<b>Topic 16</b><br>Words: hitbox, hitboxes, box, goofy, rodeo",
          "<b>Topic 16</b><br>Words: box, hitboxes, hitbox, agilty, hit",
          "<b>Topic 16</b><br>Words: hitboxes, box, hitbox, caetus, totem",
          "<b>Topic 16</b><br>Words: hitbox, hitboxes, box, terriuble, assin",
          "<b>Topic 16</b><br>Words: hitboxes, hitbox, box, pyrocynicals, inexcusablem"
         ],
         "marker": {
          "color": "#009E73"
         },
         "mode": "lines",
         "name": "16_hitboxes_hitbox_box_hit",
         "type": "scatter",
         "x": [
          "2014-04-20T18:06:56.036000",
          "2014-11-10T19:22:33.200000",
          "2015-12-15T21:50:49.600000",
          "2016-07-02T23:04:57.800000",
          "2017-01-19T00:19:06",
          "2017-08-07T01:33:14.200000",
          "2018-02-23T02:47:22.400000",
          "2018-09-11T04:01:30.600000",
          "2019-03-30T05:15:38.800000",
          "2019-10-16T06:29:47",
          "2020-05-03T07:43:55.200000",
          "2020-11-19T08:58:03.400000",
          "2021-06-07T10:12:11.600000",
          "2021-12-24T11:26:19.800000",
          "2022-07-12T12:40:28",
          "2023-01-28T13:54:36.200000",
          "2023-08-16T15:08:44.400000",
          "2024-03-03T16:22:52.600000",
          "2024-09-19T17:37:00.800000"
         ],
         "y": [
          13,
          3,
          5,
          2,
          5,
          3,
          1,
          3,
          6,
          10,
          15,
          29,
          31,
          25,
          22,
          14,
          24,
          23,
          27
         ]
        },
        {
         "hoverinfo": "text",
         "hovertext": [
          "<b>Topic 17</b><br>Words: fun, crazy, know, cassual, people",
          "<b>Topic 17</b><br>Words: fun, cassual, funnn, ha, spambush",
          "<b>Topic 17</b><br>Words: magical, fun, cassual, funnn, ha",
          "<b>Topic 17</b><br>Words: fun, cassual, funnn, ha, spambush",
          "<b>Topic 17</b><br>Words: dude, fun, cassual, funnn, ha",
          "<b>Topic 17</b><br>Words: fun, nutshell, haha, cassual, funnn",
          "<b>Topic 17</b><br>Words: fun, cassual, funnn, ha, spambush",
          "<b>Topic 17</b><br>Words: fun, cassual, funnn, ha, spambush",
          "<b>Topic 17</b><br>Words: fun, sound, cassual, funnn, ha",
          "<b>Topic 17</b><br>Words: fun, funnn, cassual, ha, spambush",
          "<b>Topic 17</b><br>Words: fun, ha, boy, interesting, cassual",
          "<b>Topic 17</b><br>Words: fun, freaking, stuff, cassual, funnn",
          "<b>Topic 17</b><br>Words: fun, always, another, cassual, funnn",
          "<b>Topic 17</b><br>Words: fun, scary, cassual, funnn, ha",
          "<b>Topic 17</b><br>Words: fun, even, cassual, funnn, ha",
          "<b>Topic 17</b><br>Words: fun, cassual, funnn, ha, spambush",
          "<b>Topic 17</b><br>Words: fun, abuse, stupid, without, cassual",
          "<b>Topic 17</b><br>Words: fun, cassual, spambush, scuffed, funnn",
          "<b>Topic 17</b><br>Words: fun, hehe, cassual, funnn, ha"
         ],
         "marker": {
          "color": "#F0E442"
         },
         "mode": "lines",
         "name": "17_fun_cassual_funnn_ha",
         "type": "scatter",
         "x": [
          "2014-04-20T18:06:56.036000",
          "2014-11-10T19:22:33.200000",
          "2015-05-29T20:36:41.400000",
          "2015-12-15T21:50:49.600000",
          "2016-07-02T23:04:57.800000",
          "2017-01-19T00:19:06",
          "2017-08-07T01:33:14.200000",
          "2018-09-11T04:01:30.600000",
          "2019-03-30T05:15:38.800000",
          "2019-10-16T06:29:47",
          "2020-05-03T07:43:55.200000",
          "2020-11-19T08:58:03.400000",
          "2021-06-07T10:12:11.600000",
          "2021-12-24T11:26:19.800000",
          "2022-07-12T12:40:28",
          "2023-01-28T13:54:36.200000",
          "2023-08-16T15:08:44.400000",
          "2024-03-03T16:22:52.600000",
          "2024-09-19T17:37:00.800000"
         ],
         "y": [
          12,
          3,
          3,
          3,
          3,
          7,
          3,
          4,
          11,
          22,
          22,
          28,
          29,
          17,
          12,
          14,
          16,
          23,
          18
         ]
        },
        {
         "hoverinfo": "text",
         "hovertext": [
          "<b>Topic 18</b><br>Words: git, gud, jihad, seperating, dye",
          "<b>Topic 18</b><br>Words: git, gud, start, people, lot",
          "<b>Topic 18</b><br>Words: git, gud, gits, giood, giid",
          "<b>Topic 18</b><br>Words: git, gud, ayyy, lmao, need",
          "<b>Topic 18</b><br>Words: git, gud, evry, rule, simple",
          "<b>Topic 18</b><br>Words: git, gud, antimage, gankers, flood",
          "<b>Topic 18</b><br>Words: git, gud, phag, gits, giood",
          "<b>Topic 18</b><br>Words: git, gud, winblade, alternatively, simulator",
          "<b>Topic 18</b><br>Words: git, gud, fkin, gits, givdeo",
          "<b>Topic 18</b><br>Words: git, gud, part, ii, giid",
          "<b>Topic 18</b><br>Words: git, gud, intensifies, fair, wait",
          "<b>Topic 18</b><br>Words: git, gud, begin, real, serwery",
          "<b>Topic 18</b><br>Words: git, gud, givdeo, hreatest, sequel",
          "<b>Topic 18</b><br>Words: git, gud, giood, mm, second",
          "<b>Topic 18</b><br>Words: git, gud, bd, oddajcie, serwery",
          "<b>Topic 18</b><br>Words: git, gud, curator, page, group",
          "<b>Topic 18</b><br>Words: git, gud, couldnt, bd, gits",
          "<b>Topic 18</b><br>Words: git, gud, couldnt, giood, giid",
          "<b>Topic 18</b><br>Words: git, gud, volume, gits, phag",
          "<b>Topic 18</b><br>Words: git, gud, giid, gits, giood"
         ],
         "marker": {
          "color": "#D55E00"
         },
         "mode": "lines",
         "name": "18_git_gud_hreatest_gits",
         "type": "scatter",
         "x": [
          "2014-04-20T18:06:56.036000",
          "2014-11-10T19:22:33.200000",
          "2015-05-29T20:36:41.400000",
          "2015-12-15T21:50:49.600000",
          "2016-07-02T23:04:57.800000",
          "2017-01-19T00:19:06",
          "2017-08-07T01:33:14.200000",
          "2018-02-23T02:47:22.400000",
          "2018-09-11T04:01:30.600000",
          "2019-03-30T05:15:38.800000",
          "2019-10-16T06:29:47",
          "2020-05-03T07:43:55.200000",
          "2020-11-19T08:58:03.400000",
          "2021-06-07T10:12:11.600000",
          "2021-12-24T11:26:19.800000",
          "2022-07-12T12:40:28",
          "2023-01-28T13:54:36.200000",
          "2023-08-16T15:08:44.400000",
          "2024-03-03T16:22:52.600000",
          "2024-09-19T17:37:00.800000"
         ],
         "y": [
          21,
          3,
          6,
          9,
          22,
          5,
          19,
          5,
          6,
          9,
          25,
          11,
          26,
          21,
          16,
          4,
          10,
          12,
          6,
          8
         ]
        },
        {
         "hoverinfo": "text",
         "hovertext": [
          "<b>Topic 19</b><br>Words: nice, niceeeeeeeeeee, yi, yes, yeah",
          "<b>Topic 19</b><br>Words: nice, yeah, yes, niceeeeeeeeeee, yi",
          "<b>Topic 19</b><br>Words: nice, niceeeeeeeeeee, yi, yes, yeah",
          "<b>Topic 19</b><br>Words: nice, niceeeeeeeeeee, yi, yes, yeah",
          "<b>Topic 19</b><br>Words: nice, niceeeeeeeeeee, yi, yes, yeah",
          "<b>Topic 19</b><br>Words: nice, niceeeeeeeeeee, yi, yes, yeah",
          "<b>Topic 19</b><br>Words: nice, niceeeeeeeeeee, yi, yes, yeah",
          "<b>Topic 19</b><br>Words: nice, niceeeeeeeeeee, yi, yes, yeah",
          "<b>Topic 19</b><br>Words: nice, niceeeeeeeeeee, yi, yes, yeah",
          "<b>Topic 19</b><br>Words: nice, yi, niceeeeeeeeeee, yes, yeah",
          "<b>Topic 19</b><br>Words: nice, niceeeeeeeeeee, yi, yes, yeah",
          "<b>Topic 19</b><br>Words: nice, niceeeeeeeeeee, yi, yes, yeah",
          "<b>Topic 19</b><br>Words: nice, niceeeeeeeeeee, yes, yi, yeah",
          "<b>Topic 19</b><br>Words: nice, niceeeeeeeeeee, yi, yes, yeah",
          "<b>Topic 19</b><br>Words: nice, niceeeeeeeeeee, yi, yes, yeah",
          "<b>Topic 19</b><br>Words: nice, niceeeeeeeeeee, yi, yes, yeah",
          "<b>Topic 19</b><br>Words: nice, niceeeeeeeeeee, yi, yes, yeah",
          "<b>Topic 19</b><br>Words: nice, niceeeeeeeeeee, yi, yes, yeah",
          "<b>Topic 19</b><br>Words: nice, niceeeeeeeeeee, yi, yes, yeah",
          "<b>Topic 19</b><br>Words: nice, niceeeeeeeeeee, yi, yes, yeah"
         ],
         "marker": {
          "color": "#0072B2"
         },
         "mode": "lines",
         "name": "19_nice_niceeeeeeeeeee_yi_yes",
         "type": "scatter",
         "x": [
          "2014-04-20T18:06:56.036000",
          "2014-11-10T19:22:33.200000",
          "2015-05-29T20:36:41.400000",
          "2015-12-15T21:50:49.600000",
          "2016-07-02T23:04:57.800000",
          "2017-01-19T00:19:06",
          "2017-08-07T01:33:14.200000",
          "2018-02-23T02:47:22.400000",
          "2018-09-11T04:01:30.600000",
          "2019-03-30T05:15:38.800000",
          "2019-10-16T06:29:47",
          "2020-05-03T07:43:55.200000",
          "2020-11-19T08:58:03.400000",
          "2021-06-07T10:12:11.600000",
          "2021-12-24T11:26:19.800000",
          "2022-07-12T12:40:28",
          "2023-01-28T13:54:36.200000",
          "2023-08-16T15:08:44.400000",
          "2024-03-03T16:22:52.600000",
          "2024-09-19T17:37:00.800000"
         ],
         "y": [
          7,
          6,
          2,
          2,
          2,
          3,
          5,
          9,
          4,
          17,
          24,
          29,
          23,
          26,
          23,
          8,
          14,
          13,
          9,
          8
         ]
        },
        {
         "hoverinfo": "text",
         "hovertext": [
          "<b>Topic 20</b><br>Words: bad, scary, wasnt, sorry, meh",
          "<b>Topic 20</b><br>Words: bad, scary, wasnt, sorry, meh",
          "<b>Topic 20</b><br>Words: bad, scary, wasnt, sorry, meh",
          "<b>Topic 20</b><br>Words: bad, scary, wasnt, sorry, meh",
          "<b>Topic 20</b><br>Words: bad, scary, wasnt, sorry, meh",
          "<b>Topic 20</b><br>Words: bad, scary, wasnt, sorry, meh",
          "<b>Topic 20</b><br>Words: bad, scary, wasnt, sorry, meh",
          "<b>Topic 20</b><br>Words: bad, scary, wasnt, sorry, meh",
          "<b>Topic 20</b><br>Words: bad, meh, scary, wasnt, sorry",
          "<b>Topic 20</b><br>Words: bad, scary, wasnt, sorry, meh",
          "<b>Topic 20</b><br>Words: bad, scary, wasnt, sorry, meh",
          "<b>Topic 20</b><br>Words: bad, scary, wasnt, sorry, meh",
          "<b>Topic 20</b><br>Words: bad, positive, scary, wasnt, sorry",
          "<b>Topic 20</b><br>Words: bad, actually, scary, wasnt, sorry",
          "<b>Topic 20</b><br>Words: bad, sorry, kinda, actually, scary",
          "<b>Topic 20</b><br>Words: bad, scary, wasnt, sorry, meh",
          "<b>Topic 20</b><br>Words: bad, actually, scary, wasnt, sorry",
          "<b>Topic 20</b><br>Words: bad, wasnt, actually, scary, sorry",
          "<b>Topic 20</b><br>Words: bad, yeah, scary, wasnt, sorry"
         ],
         "marker": {
          "color": "#CC79A7"
         },
         "mode": "lines",
         "name": "20_bad_scary_wasnt_sorry",
         "type": "scatter",
         "x": [
          "2014-04-20T18:06:56.036000",
          "2014-11-10T19:22:33.200000",
          "2015-05-29T20:36:41.400000",
          "2015-12-15T21:50:49.600000",
          "2016-07-02T23:04:57.800000",
          "2017-01-19T00:19:06",
          "2017-08-07T01:33:14.200000",
          "2018-02-23T02:47:22.400000",
          "2019-03-30T05:15:38.800000",
          "2019-10-16T06:29:47",
          "2020-05-03T07:43:55.200000",
          "2020-11-19T08:58:03.400000",
          "2021-06-07T10:12:11.600000",
          "2021-12-24T11:26:19.800000",
          "2022-07-12T12:40:28",
          "2023-01-28T13:54:36.200000",
          "2023-08-16T15:08:44.400000",
          "2024-03-03T16:22:52.600000",
          "2024-09-19T17:37:00.800000"
         ],
         "y": [
          4,
          1,
          2,
          1,
          3,
          2,
          3,
          3,
          7,
          14,
          11,
          24,
          38,
          29,
          8,
          20,
          15,
          29,
          20
         ]
        },
        {
         "hoverinfo": "text",
         "hovertext": [
          "<b>Topic 21</b><br>Words: port, pc, console, xbox, mouse",
          "<b>Topic 21</b><br>Words: port, console, pc, keyboard, mouse",
          "<b>Topic 21</b><br>Words: port, prossesor, gaurd, console, concieved",
          "<b>Topic 21</b><br>Words: port, der, coudnt, iets, schlechtesten",
          "<b>Topic 21</b><br>Words: port, negetively, secretley, chromosome, failing",
          "<b>Topic 21</b><br>Words: port, console, sloppy, pc, ander",
          "<b>Topic 21</b><br>Words: factial, port, disapointing, unplayable, wierd",
          "<b>Topic 21</b><br>Words: port, rb, unfortunalety, unplayable, user",
          "<b>Topic 21</b><br>Words: consol, lemon, apple, port, furthermore",
          "<b>Topic 21</b><br>Words: maby, optimise, publisher, controlls, induce",
          "<b>Topic 21</b><br>Words: port, looked, brag, tea, tutorial",
          "<b>Topic 21</b><br>Words: addressed, screwing, port, fiddle, triple",
          "<b>Topic 21</b><br>Words: port, emulator, offhand, sensitivity, windowed",
          "<b>Topic 21</b><br>Words: port, thaat, console, cache, notification",
          "<b>Topic 21</b><br>Words: port, unplayable, pc, console, gamepad",
          "<b>Topic 21</b><br>Words: port, rough, lazy, super, pc",
          "<b>Topic 21</b><br>Words: exemple, shitshow, port, dissapointing, functional",
          "<b>Topic 21</b><br>Words: port, properly, pc, serial, file",
          "<b>Topic 21</b><br>Words: port, compaint, screening, bindings, reopen",
          "<b>Topic 21</b><br>Words: port, completaly, impenetrably, key, jump"
         ],
         "marker": {
          "color": "#E69F00"
         },
         "mode": "lines",
         "name": "21_port_pc_console_keyboard",
         "type": "scatter",
         "x": [
          "2014-04-20T18:06:56.036000",
          "2014-11-10T19:22:33.200000",
          "2015-05-29T20:36:41.400000",
          "2015-12-15T21:50:49.600000",
          "2016-07-02T23:04:57.800000",
          "2017-01-19T00:19:06",
          "2017-08-07T01:33:14.200000",
          "2018-02-23T02:47:22.400000",
          "2018-09-11T04:01:30.600000",
          "2019-03-30T05:15:38.800000",
          "2019-10-16T06:29:47",
          "2020-05-03T07:43:55.200000",
          "2020-11-19T08:58:03.400000",
          "2021-06-07T10:12:11.600000",
          "2021-12-24T11:26:19.800000",
          "2022-07-12T12:40:28",
          "2023-01-28T13:54:36.200000",
          "2023-08-16T15:08:44.400000",
          "2024-03-03T16:22:52.600000",
          "2024-09-19T17:37:00.800000"
         ],
         "y": [
          93,
          29,
          7,
          10,
          5,
          12,
          4,
          4,
          2,
          2,
          4,
          4,
          3,
          7,
          11,
          2,
          3,
          4,
          6,
          5
         ]
        },
        {
         "hoverinfo": "text",
         "hovertext": [
          "<b>Topic 22</b><br>Words: rage, anger, quit, induce, angry",
          "<b>Topic 22</b><br>Words: rage, quit, anger, fury, inducing",
          "<b>Topic 22</b><br>Words: rage, raging, saved, ragequit, mail",
          "<b>Topic 22</b><br>Words: rage, ragequit, quit, anger, compleat",
          "<b>Topic 22</b><br>Words: rage, titonite, singularity, enraged, anger",
          "<b>Topic 22</b><br>Words: rage, unadultured, induce, cease, quit",
          "<b>Topic 22</b><br>Words: yourselfs, ragequitted, paul, rage, spoon",
          "<b>Topic 22</b><br>Words: choosen, rage, extreamly, anger, peace",
          "<b>Topic 22</b><br>Words: rage, incarnate, equation, physically, beware",
          "<b>Topic 22</b><br>Words: rage, anger, nicotine, stubborness, angery",
          "<b>Topic 22</b><br>Words: rage, anger, gooood, brag, walking",
          "<b>Topic 22</b><br>Words: rage, mcintosh, therapist, vent, sus",
          "<b>Topic 22</b><br>Words: rage, quit, therapeuticness, angery, anger",
          "<b>Topic 22</b><br>Words: rage, quit, lajk, angry, higly",
          "<b>Topic 22</b><br>Words: anger, therapy, rage, management, disdain",
          "<b>Topic 22</b><br>Words: anger, rage, burst, abled, artworkis",
          "<b>Topic 22</b><br>Words: fury, rage, fathom, induce, anger",
          "<b>Topic 22</b><br>Words: rage, quit, ragebait, epilepsy, enducing",
          "<b>Topic 22</b><br>Words: rage, ragebaiting, ragebait, righteous, profanity"
         ],
         "marker": {
          "color": "#56B4E9"
         },
         "mode": "lines",
         "name": "22_rage_anger_quit_angry",
         "type": "scatter",
         "x": [
          "2014-04-20T18:06:56.036000",
          "2014-11-10T19:22:33.200000",
          "2015-05-29T20:36:41.400000",
          "2015-12-15T21:50:49.600000",
          "2016-07-02T23:04:57.800000",
          "2017-01-19T00:19:06",
          "2017-08-07T01:33:14.200000",
          "2018-09-11T04:01:30.600000",
          "2019-03-30T05:15:38.800000",
          "2019-10-16T06:29:47",
          "2020-05-03T07:43:55.200000",
          "2020-11-19T08:58:03.400000",
          "2021-06-07T10:12:11.600000",
          "2021-12-24T11:26:19.800000",
          "2022-07-12T12:40:28",
          "2023-01-28T13:54:36.200000",
          "2023-08-16T15:08:44.400000",
          "2024-03-03T16:22:52.600000",
          "2024-09-19T17:37:00.800000"
         ],
         "y": [
          59,
          23,
          8,
          16,
          12,
          4,
          2,
          3,
          3,
          10,
          7,
          5,
          11,
          9,
          7,
          9,
          4,
          9,
          6
         ]
        },
        {
         "hoverinfo": "text",
         "hovertext": [
          "<b>Topic 23</b><br>Words: ever, best, everrrrrrrrrr, bestes, aloud",
          "<b>Topic 23</b><br>Words: ever, best, horry, shet, sombre",
          "<b>Topic 23</b><br>Words: ever, best, freaking, beta, lol",
          "<b>Topic 23</b><br>Words: ever, plaid, best, awsome, sombre",
          "<b>Topic 23</b><br>Words: ever, foooooooorrrrrrrrr, eeeeeeeeeeeevvvvvvvvvvveeeeeeeeerrrrrrr, best, possibly",
          "<b>Topic 23</b><br>Words: ever, best, sombre, peev, foooooooorrrrrrrrr",
          "<b>Topic 23</b><br>Words: ever, reccomend, best, sombre, peev",
          "<b>Topic 23</b><br>Words: ever, best, sombre, peev, foooooooorrrrrrrrr",
          "<b>Topic 23</b><br>Words: sombre, ever, best, peev, foooooooorrrrrrrrr",
          "<b>Topic 23</b><br>Words: ever, best, probably, sombre, foooooooorrrrrrrrr",
          "<b>Topic 23</b><br>Words: peev, ever, best, part, sombre",
          "<b>Topic 23</b><br>Words: awsomest, ever, best, indeed, shit",
          "<b>Topic 23</b><br>Words: greatt, ever, best, sombre, peev",
          "<b>Topic 23</b><br>Words: ever, best, omg, hey, sombre",
          "<b>Topic 23</b><br>Words: ever, best, sombre, peev, foooooooorrrrrrrrr",
          "<b>Topic 23</b><br>Words: ever, best, sombre, peev, foooooooorrrrrrrrr",
          "<b>Topic 23</b><br>Words: ever, contender, best, top, part",
          "<b>Topic 23</b><br>Words: ever, best, probably, sombre, horry",
          "<b>Topic 23</b><br>Words: ever, best, sex, dex, sombre",
          "<b>Topic 23</b><br>Words: ever, biased, best, totally, sombre"
         ],
         "marker": {
          "color": "#009E73"
         },
         "mode": "lines",
         "name": "23_ever_best_sombre_shet",
         "type": "scatter",
         "x": [
          "2014-04-20T18:06:56.036000",
          "2014-11-10T19:22:33.200000",
          "2015-05-29T20:36:41.400000",
          "2015-12-15T21:50:49.600000",
          "2016-07-02T23:04:57.800000",
          "2017-01-19T00:19:06",
          "2017-08-07T01:33:14.200000",
          "2018-02-23T02:47:22.400000",
          "2018-09-11T04:01:30.600000",
          "2019-03-30T05:15:38.800000",
          "2019-10-16T06:29:47",
          "2020-05-03T07:43:55.200000",
          "2020-11-19T08:58:03.400000",
          "2021-06-07T10:12:11.600000",
          "2021-12-24T11:26:19.800000",
          "2022-07-12T12:40:28",
          "2023-01-28T13:54:36.200000",
          "2023-08-16T15:08:44.400000",
          "2024-03-03T16:22:52.600000",
          "2024-09-19T17:37:00.800000"
         ],
         "y": [
          63,
          24,
          9,
          14,
          9,
          5,
          4,
          1,
          2,
          5,
          10,
          6,
          5,
          9,
          5,
          2,
          7,
          6,
          9,
          10
         ]
        },
        {
         "hoverinfo": "text",
         "hovertext": [
          "<b>Topic 24</b><br>Words: rpg, action, rpgs, fantasy, best",
          "<b>Topic 24</b><br>Words: rpg, action, broad, olmost, goed",
          "<b>Topic 24</b><br>Words: rpg, beatifull, masterpeice, action, retrospect",
          "<b>Topic 24</b><br>Words: rpg, action, youngster, furthur, geewwwwddd",
          "<b>Topic 24</b><br>Words: rpg, dragons, educative, dogma, mature",
          "<b>Topic 24</b><br>Words: rpg, ga, kink, disagree, ive",
          "<b>Topic 24</b><br>Words: unic, rpg, af, epic, action",
          "<b>Topic 24</b><br>Words: rpg, casuals, genre, fashion, adventure",
          "<b>Topic 24</b><br>Words: gamepaly, rpg, action, master, con",
          "<b>Topic 24</b><br>Words: goodness, fav, rpg, action, rpgs",
          "<b>Topic 24</b><br>Words: rpg, jrpg, action, fantasy, bb",
          "<b>Topic 24</b><br>Words: rpg, overshadow, successor, action, person",
          "<b>Topic 24</b><br>Words: rpg, action, rpgs, vaatividya, folklore",
          "<b>Topic 24</b><br>Words: polemic, rpg, jewel, rpgs, anticipate",
          "<b>Topic 24</b><br>Words: rpg, action, footstep, ive, detract",
          "<b>Topic 24</b><br>Words: rpg, niche, immersive, meet, solid",
          "<b>Topic 24</b><br>Words: crpg, eastern, european, treat, rpg",
          "<b>Topic 24</b><br>Words: rpgs, rpg, person, action, third",
          "<b>Topic 24</b><br>Words: rpg, victim, unenviable, role, bargain"
         ],
         "marker": {
          "color": "#F0E442"
         },
         "mode": "lines",
         "name": "24_rpg_action_rpgs_fantasy",
         "type": "scatter",
         "x": [
          "2014-04-20T18:06:56.036000",
          "2014-11-10T19:22:33.200000",
          "2015-05-29T20:36:41.400000",
          "2015-12-15T21:50:49.600000",
          "2016-07-02T23:04:57.800000",
          "2017-01-19T00:19:06",
          "2017-08-07T01:33:14.200000",
          "2018-02-23T02:47:22.400000",
          "2018-09-11T04:01:30.600000",
          "2019-03-30T05:15:38.800000",
          "2019-10-16T06:29:47",
          "2020-05-03T07:43:55.200000",
          "2020-11-19T08:58:03.400000",
          "2021-06-07T10:12:11.600000",
          "2021-12-24T11:26:19.800000",
          "2023-01-28T13:54:36.200000",
          "2023-08-16T15:08:44.400000",
          "2024-03-03T16:22:52.600000",
          "2024-09-19T17:37:00.800000"
         ],
         "y": [
          79,
          16,
          10,
          14,
          6,
          5,
          3,
          3,
          1,
          4,
          8,
          4,
          13,
          8,
          6,
          4,
          2,
          4,
          7
         ]
        },
        {
         "hoverinfo": "text",
         "hovertext": [
          "<b>Topic 25</b><br>Words: soulsborne, souler, kush, freshness, stoke",
          "<b>Topic 25</b><br>Words: soulsy, dire, soulborne, soulsbourne, goodness",
          "<b>Topic 25</b><br>Words: soulsborne, bologna, bond, exponentially, soulsborn",
          "<b>Topic 25</b><br>Words: thuroughly, woth, romhack, soulsborne, presumably",
          "<b>Topic 25</b><br>Words: intuitive, soulsborne, favorite, fromsoftware, personally",
          "<b>Topic 25</b><br>Words: soulsborne, pfft, soulsborn, tragedy, underrated",
          "<b>Topic 25</b><br>Words: soulsborne, soulsbourne, unmistakably, inconic, atomsphere",
          "<b>Topic 25</b><br>Words: soulsborne, soulsbourne, codesouls, depetrify, apotheosis",
          "<b>Topic 25</b><br>Words: soulsborne, soulsbourne, bourne, ultimatum, soulekiroborne",
          "<b>Topic 25</b><br>Words: soulsborne, soulsbourne, aliexpress, soulsgame, soulsbornes",
          "<b>Topic 25</b><br>Words: soulsborne, soulsbourne, mortal, shell, soulsgame",
          "<b>Topic 25</b><br>Words: soulsborne, dice, soulsringborne, dinguses, amogus",
          "<b>Topic 25</b><br>Words: soulsborne, soulser, revolutionize, analogy, trashy",
          "<b>Topic 25</b><br>Words: soulsborne, soulsbourne, worst, soulborn, soulsgame",
          "<b>Topic 25</b><br>Words: soulsborne, soulsbourne, fr, aarg, soulsring",
          "<b>Topic 25</b><br>Words: soulsborne, soulsbourne, soulsgame, soulslike, soulslikes"
         ],
         "marker": {
          "color": "#D55E00"
         },
         "mode": "lines",
         "name": "25_soulsborne_soulsbourne_soulsgame_soul...",
         "type": "scatter",
         "x": [
          "2016-07-02T23:04:57.800000",
          "2017-01-19T00:19:06",
          "2017-08-07T01:33:14.200000",
          "2018-02-23T02:47:22.400000",
          "2018-09-11T04:01:30.600000",
          "2019-03-30T05:15:38.800000",
          "2019-10-16T06:29:47",
          "2020-05-03T07:43:55.200000",
          "2020-11-19T08:58:03.400000",
          "2021-06-07T10:12:11.600000",
          "2021-12-24T11:26:19.800000",
          "2022-07-12T12:40:28",
          "2023-01-28T13:54:36.200000",
          "2023-08-16T15:08:44.400000",
          "2024-03-03T16:22:52.600000",
          "2024-09-19T17:37:00.800000"
         ],
         "y": [
          4,
          3,
          6,
          2,
          1,
          7,
          14,
          18,
          11,
          17,
          19,
          8,
          14,
          17,
          24,
          27
         ]
        },
        {
         "hoverinfo": "text",
         "hovertext": [
          "<b>Topic 26</b><br>Words: controller, break, vibrate, monitor, shit",
          "<b>Topic 26</b><br>Words: controller, rager, nuff, complaining, brake",
          "<b>Topic 26</b><br>Words: controller, arrive, becomming, cu, fifth",
          "<b>Topic 26</b><br>Words: controller, smash, amzing, brake, noob",
          "<b>Topic 26</b><br>Words: bubble, wrap, controller, haate, haaaaaate",
          "<b>Topic 26</b><br>Words: controller, break, babyrage, btw, wierd",
          "<b>Topic 26</b><br>Words: controller, ahhh, smash, strongly, addictive",
          "<b>Topic 26</b><br>Words: socket, ac, fork, equivalent, controller",
          "<b>Topic 26</b><br>Words: contoller, reborn, yup, controller, smash",
          "<b>Topic 26</b><br>Words: controller, broken, finally, control, fun",
          "<b>Topic 26</b><br>Words: controller, rec, bill, horrific, desk",
          "<b>Topic 26</b><br>Words: wojak, controller, smug, loved, plug",
          "<b>Topic 26</b><br>Words: controller, mapping, legit, bossfight, break",
          "<b>Topic 26</b><br>Words: controller, pulverize, electronic, dust, break",
          "<b>Topic 26</b><br>Words: controller, carpal, crackling, armin, arounds",
          "<b>Topic 26</b><br>Words: recognize, controller, potato, laptop, doesnt",
          "<b>Topic 26</b><br>Words: controller, randomly, month, connect, past",
          "<b>Topic 26</b><br>Words: controller, dualsense, angrily, exploding, disc",
          "<b>Topic 26</b><br>Words: urself, remapping, controller, support, exist",
          "<b>Topic 26</b><br>Words: controller, shamful, mic, joystick, break"
         ],
         "marker": {
          "color": "#0072B2"
         },
         "mode": "lines",
         "name": "26_controller_break_smash_bubble",
         "type": "scatter",
         "x": [
          "2014-04-20T18:06:56.036000",
          "2014-11-10T19:22:33.200000",
          "2015-05-29T20:36:41.400000",
          "2015-12-15T21:50:49.600000",
          "2016-07-02T23:04:57.800000",
          "2017-01-19T00:19:06",
          "2017-08-07T01:33:14.200000",
          "2018-02-23T02:47:22.400000",
          "2018-09-11T04:01:30.600000",
          "2019-03-30T05:15:38.800000",
          "2019-10-16T06:29:47",
          "2020-05-03T07:43:55.200000",
          "2020-11-19T08:58:03.400000",
          "2021-06-07T10:12:11.600000",
          "2021-12-24T11:26:19.800000",
          "2022-07-12T12:40:28",
          "2023-01-28T13:54:36.200000",
          "2023-08-16T15:08:44.400000",
          "2024-03-03T16:22:52.600000",
          "2024-09-19T17:37:00.800000"
         ],
         "y": [
          61,
          15,
          6,
          11,
          7,
          10,
          9,
          2,
          2,
          3,
          7,
          4,
          4,
          10,
          8,
          3,
          2,
          8,
          4,
          8
         ]
        },
        {
         "hoverinfo": "text",
         "hovertext": [
          "<b>Topic 27</b><br>Words: review, approves, uncasual, jong, kim",
          "<b>Topic 27</b><br>Words: review, negative, approve, anwyway, classy",
          "<b>Topic 27</b><br>Words: review, bussiness, loyal, skimming, storepages",
          "<b>Topic 27</b><br>Words: rate, confirm, review, myt, vist",
          "<b>Topic 27</b><br>Words: disrespectful, review, shiz, upvote, audience",
          "<b>Topic 27</b><br>Words: write, blame, ciao, polite, review",
          "<b>Topic 27</b><br>Words: reviewer, representative, review, ign, illusory",
          "<b>Topic 27</b><br>Words: review, hurry, metric, fulfill, fulfil",
          "<b>Topic 27</b><br>Words: anecdotal, omegalul, review, obnoxiously, cue",
          "<b>Topic 27</b><br>Words: minded, debunk, anybody, simpleton, rent",
          "<b>Topic 27</b><br>Words: dio, review, buckler, spammer, boat",
          "<b>Topic 27</b><br>Words: review, historical, tomato, forbid, score",
          "<b>Topic 27</b><br>Words: uncharacteristic, review, girl, emerald, herald",
          "<b>Topic 27</b><br>Words: review, criticist, reviews, lobster, approves",
          "<b>Topic 27</b><br>Words: review, seeth, september, negative, historical",
          "<b>Topic 27</b><br>Words: review, foks, humour, polite, guideline",
          "<b>Topic 27</b><br>Words: happiness, review, unplayaable, brotha, rotch",
          "<b>Topic 27</b><br>Words: fallacy, negative, sunk, review, additional",
          "<b>Topic 27</b><br>Words: badger, review, domo, aparently, duper",
          "<b>Topic 27</b><br>Words: review, avdol, knacksterpiece, glazing, refference"
         ],
         "marker": {
          "color": "#CC79A7"
         },
         "mode": "lines",
         "name": "27_review_negative_approves_approve",
         "type": "scatter",
         "x": [
          "2014-04-20T18:06:56.036000",
          "2014-11-10T19:22:33.200000",
          "2015-05-29T20:36:41.400000",
          "2015-12-15T21:50:49.600000",
          "2016-07-02T23:04:57.800000",
          "2017-01-19T00:19:06",
          "2017-08-07T01:33:14.200000",
          "2018-02-23T02:47:22.400000",
          "2018-09-11T04:01:30.600000",
          "2019-03-30T05:15:38.800000",
          "2019-10-16T06:29:47",
          "2020-05-03T07:43:55.200000",
          "2020-11-19T08:58:03.400000",
          "2021-06-07T10:12:11.600000",
          "2021-12-24T11:26:19.800000",
          "2022-07-12T12:40:28",
          "2023-01-28T13:54:36.200000",
          "2023-08-16T15:08:44.400000",
          "2024-03-03T16:22:52.600000",
          "2024-09-19T17:37:00.800000"
         ],
         "y": [
          15,
          18,
          14,
          9,
          8,
          5,
          6,
          5,
          6,
          3,
          8,
          6,
          5,
          17,
          12,
          12,
          6,
          4,
          9,
          14
         ]
        },
        {
         "hoverinfo": "text",
         "hovertext": [
          "<b>Topic 28</b><br>Words: hate, ing, thanks, homies, platinumed",
          "<b>Topic 28</b><br>Words: hate, ing, thanks, homies, platinumed",
          "<b>Topic 28</b><br>Words: hate, ing, thanks, homies, platinumed",
          "<b>Topic 28</b><br>Words: hate, ing, thanks, homies, platinumed",
          "<b>Topic 28</b><br>Words: hate, ing, thanks, homies, platinumed",
          "<b>Topic 28</b><br>Words: hate, ing, thanks, homies, platinumed",
          "<b>Topic 28</b><br>Words: hate, ing, thanks, homies, platinumed",
          "<b>Topic 28</b><br>Words: hate, thanks, ing, homies, platinumed",
          "<b>Topic 28</b><br>Words: undeserved, hate, ing, thanks, homies",
          "<b>Topic 28</b><br>Words: cking, hate, ing, thanks, homies",
          "<b>Topic 28</b><br>Words: hate, ing, good, thanks, homies",
          "<b>Topic 28</b><br>Words: hate, homies, woman, everyone, ing",
          "<b>Topic 28</b><br>Words: hate, ing, thanks, really, homies",
          "<b>Topic 28</b><br>Words: hate, ing, thanks, man, homies",
          "<b>Topic 28</b><br>Words: hate, fking, lol, ing, kinda",
          "<b>Topic 28</b><br>Words: hate, sorry, ing, thanks, homies",
          "<b>Topic 28</b><br>Words: hate, ing, thanks, homies, platinumed",
          "<b>Topic 28</b><br>Words: hate, ill, ok, ing, thanks",
          "<b>Topic 28</b><br>Words: hate, platinumed, tbh, thanks, ing",
          "<b>Topic 28</b><br>Words: hate, damn, cause, ing, thanks"
         ],
         "marker": {
          "color": "#E69F00"
         },
         "mode": "lines",
         "name": "28_hate_ing_thanks_homies",
         "type": "scatter",
         "x": [
          "2014-04-20T18:06:56.036000",
          "2014-11-10T19:22:33.200000",
          "2015-05-29T20:36:41.400000",
          "2015-12-15T21:50:49.600000",
          "2016-07-02T23:04:57.800000",
          "2017-01-19T00:19:06",
          "2017-08-07T01:33:14.200000",
          "2018-02-23T02:47:22.400000",
          "2018-09-11T04:01:30.600000",
          "2019-03-30T05:15:38.800000",
          "2019-10-16T06:29:47",
          "2020-05-03T07:43:55.200000",
          "2020-11-19T08:58:03.400000",
          "2021-06-07T10:12:11.600000",
          "2021-12-24T11:26:19.800000",
          "2022-07-12T12:40:28",
          "2023-01-28T13:54:36.200000",
          "2023-08-16T15:08:44.400000",
          "2024-03-03T16:22:52.600000",
          "2024-09-19T17:37:00.800000"
         ],
         "y": [
          10,
          2,
          1,
          2,
          2,
          1,
          4,
          2,
          1,
          2,
          4,
          7,
          12,
          28,
          31,
          5,
          11,
          22,
          16,
          14
         ]
        },
        {
         "hoverinfo": "text",
         "hovertext": [
          "<b>Topic 29</b><br>Words: ok, oka, wowcool, iz, ya",
          "<b>Topic 29</b><br>Words: ok, oka, wowcool, iz, ya",
          "<b>Topic 29</b><br>Words: ok, oka, wowcool, iz, ya",
          "<b>Topic 29</b><br>Words: ok, oka, wowcool, iz, ya",
          "<b>Topic 29</b><br>Words: ok, oka, wowcool, iz, ya",
          "<b>Topic 29</b><br>Words: ok, oka, wowcool, iz, ya",
          "<b>Topic 29</b><br>Words: ok, oka, wowcool, iz, ya",
          "<b>Topic 29</b><br>Words: ok, oka, wowcool, iz, ya",
          "<b>Topic 29</b><br>Words: ok, oka, wowcool, iz, ya",
          "<b>Topic 29</b><br>Words: ok, iz, oka, wowcool, ya",
          "<b>Topic 29</b><br>Words: ok, oka, wowcool, iz, ya",
          "<b>Topic 29</b><br>Words: ok, wowcool, friend, oka, iz",
          "<b>Topic 29</b><br>Words: ok, oka, wowcool, iz, ya",
          "<b>Topic 29</b><br>Words: ok, oka, wowcool, iz, ya",
          "<b>Topic 29</b><br>Words: ok, oka, wowcool, iz, ya",
          "<b>Topic 29</b><br>Words: ok, ya, oka, wowcool, iz",
          "<b>Topic 29</b><br>Words: ok, oka, wowcool, iz, ya",
          "<b>Topic 29</b><br>Words: ok, till, im, oka, wowcool",
          "<b>Topic 29</b><br>Words: ok, oka, wowcool, iz, ya"
         ],
         "marker": {
          "color": "#56B4E9"
         },
         "mode": "lines",
         "name": "29_ok_wowcool_oka_iz",
         "type": "scatter",
         "x": [
          "2014-04-20T18:06:56.036000",
          "2014-11-10T19:22:33.200000",
          "2015-05-29T20:36:41.400000",
          "2015-12-15T21:50:49.600000",
          "2016-07-02T23:04:57.800000",
          "2017-01-19T00:19:06",
          "2018-02-23T02:47:22.400000",
          "2018-09-11T04:01:30.600000",
          "2019-03-30T05:15:38.800000",
          "2019-10-16T06:29:47",
          "2020-05-03T07:43:55.200000",
          "2020-11-19T08:58:03.400000",
          "2021-06-07T10:12:11.600000",
          "2021-12-24T11:26:19.800000",
          "2022-07-12T12:40:28",
          "2023-01-28T13:54:36.200000",
          "2023-08-16T15:08:44.400000",
          "2024-03-03T16:22:52.600000",
          "2024-09-19T17:37:00.800000"
         ],
         "y": [
          24,
          9,
          5,
          11,
          2,
          2,
          7,
          6,
          8,
          13,
          13,
          9,
          12,
          10,
          9,
          8,
          13,
          10,
          5
         ]
        },
        {
         "hoverinfo": "text",
         "hovertext": [
          "<b>Topic 30</b><br>Words: keyboard, mouse, control, unplayable, controller",
          "<b>Topic 30</b><br>Words: keyboard, mouse, sani, print, transcend",
          "<b>Topic 30</b><br>Words: keyboard, mouse, preprogramed, unplable, butons",
          "<b>Topic 30</b><br>Words: keyboard, mouse, overrall, threw, autohotkey",
          "<b>Topic 30</b><br>Words: keyboard, mouse, unplayable, rebound, coding",
          "<b>Topic 30</b><br>Words: keyboard, mouse, blyat, clunkiness, retarded",
          "<b>Topic 30</b><br>Words: paypal, keyboard, compatablity, mose, ut",
          "<b>Topic 30</b><br>Words: mouse, rebound, keyboard, sift, indicator",
          "<b>Topic 30</b><br>Words: mouse, keyboard, enjoy, best, control",
          "<b>Topic 30</b><br>Words: waterboarded, temperature, remark, afterlife, keyboard",
          "<b>Topic 30</b><br>Words: keyboard, mouse, keyboad, mouser, rightmouse",
          "<b>Topic 30</b><br>Words: keyboard, mouse, efin, backside, gladly",
          "<b>Topic 30</b><br>Words: keyboard, mouse, hassel, workarounds, autohotkey",
          "<b>Topic 30</b><br>Words: keyboard, mouse, experimente, aprendi, tentar",
          "<b>Topic 30</b><br>Words: keyboard, mouse, exercise, cbt, trip",
          "<b>Topic 30</b><br>Words: keyboard, mouse, disconnect, hint, unplayable",
          "<b>Topic 30</b><br>Words: keyboard, mouse, nonexistant, po, sotf",
          "<b>Topic 30</b><br>Words: keyboard, mouse, default, bind, awful",
          "<b>Topic 30</b><br>Words: clunkt, autohotkey, iffy, bomb, rebind",
          "<b>Topic 30</b><br>Words: keyboard, mouse, keybinds, silicon, aah"
         ],
         "marker": {
          "color": "#009E73"
         },
         "mode": "lines",
         "name": "30_keyboard_mouse_control_unplayable",
         "type": "scatter",
         "x": [
          "2014-04-20T18:06:56.036000",
          "2014-11-10T19:22:33.200000",
          "2015-05-29T20:36:41.400000",
          "2015-12-15T21:50:49.600000",
          "2016-07-02T23:04:57.800000",
          "2017-01-19T00:19:06",
          "2017-08-07T01:33:14.200000",
          "2018-02-23T02:47:22.400000",
          "2018-09-11T04:01:30.600000",
          "2019-03-30T05:15:38.800000",
          "2019-10-16T06:29:47",
          "2020-05-03T07:43:55.200000",
          "2020-11-19T08:58:03.400000",
          "2021-06-07T10:12:11.600000",
          "2021-12-24T11:26:19.800000",
          "2022-07-12T12:40:28",
          "2023-01-28T13:54:36.200000",
          "2023-08-16T15:08:44.400000",
          "2024-03-03T16:22:52.600000",
          "2024-09-19T17:37:00.800000"
         ],
         "y": [
          54,
          7,
          8,
          8,
          7,
          8,
          5,
          3,
          1,
          3,
          6,
          7,
          13,
          7,
          7,
          4,
          6,
          7,
          3,
          10
         ]
        },
        {
         "hoverinfo": "text",
         "hovertext": [
          "<b>Topic 31</b><br>Words: gud, gued, ittttttttt, relly, super",
          "<b>Topic 31</b><br>Words: gud, es, gude, gued, guwd",
          "<b>Topic 31</b><br>Words: gud, gude, lief, gued, guwd",
          "<b>Topic 31</b><br>Words: gud, vry, gude, lief, gued",
          "<b>Topic 31</b><br>Words: gud, purty, damn, gude, gued",
          "<b>Topic 31</b><br>Words: gud, gude, lief, gued, guwd",
          "<b>Topic 31</b><br>Words: gud, gude, lief, gued, guwd",
          "<b>Topic 31</b><br>Words: gud, gude, lief, gued, guwd",
          "<b>Topic 31</b><br>Words: gud, gude, lief, gued, guwd",
          "<b>Topic 31</b><br>Words: gud, neckbeards, listen, gude, gued",
          "<b>Topic 31</b><br>Words: gud, gude, guwd, gamee, lief",
          "<b>Topic 31</b><br>Words: gud, lief, gude, gued, guwd",
          "<b>Topic 31</b><br>Words: gud, guds, enough, edit, gude",
          "<b>Topic 31</b><br>Words: gud, gude, lief, gued, guwd",
          "<b>Topic 31</b><br>Words: gud, offline, hat, gude, gued",
          "<b>Topic 31</b><br>Words: gud, augh, gude, lief, gued",
          "<b>Topic 31</b><br>Words: gud, iit, gude, lief, gued",
          "<b>Topic 31</b><br>Words: gud, gude, yes, gued, guwd",
          "<b>Topic 31</b><br>Words: gud, gude, lief, gued, guwd"
         ],
         "marker": {
          "color": "#F0E442"
         },
         "mode": "lines",
         "name": "31_gud_gude_lief_gued",
         "type": "scatter",
         "x": [
          "2014-04-20T18:06:56.036000",
          "2014-11-10T19:22:33.200000",
          "2015-05-29T20:36:41.400000",
          "2015-12-15T21:50:49.600000",
          "2016-07-02T23:04:57.800000",
          "2017-01-19T00:19:06",
          "2017-08-07T01:33:14.200000",
          "2018-09-11T04:01:30.600000",
          "2019-03-30T05:15:38.800000",
          "2019-10-16T06:29:47",
          "2020-05-03T07:43:55.200000",
          "2020-11-19T08:58:03.400000",
          "2021-06-07T10:12:11.600000",
          "2021-12-24T11:26:19.800000",
          "2022-07-12T12:40:28",
          "2023-01-28T13:54:36.200000",
          "2023-08-16T15:08:44.400000",
          "2024-03-03T16:22:52.600000",
          "2024-09-19T17:37:00.800000"
         ],
         "y": [
          7,
          4,
          2,
          12,
          5,
          3,
          5,
          3,
          5,
          18,
          22,
          17,
          12,
          15,
          10,
          10,
          4,
          11,
          5
         ]
        },
        {
         "hoverinfo": "text",
         "hovertext": [
          "<b>Topic 32</b><br>Words: recommend, gay, bcuz, highly, recomended",
          "<b>Topic 32</b><br>Words: recommend, launch, highly, yeah, hell",
          "<b>Topic 32</b><br>Words: backdoor, recommend, worst, highly, alone",
          "<b>Topic 32</b><br>Words: foward, recomended, recommend, recommended, highly",
          "<b>Topic 32</b><br>Words: check, video, everyone, recommend, worth",
          "<b>Topic 32</b><br>Words: recommended, slightly, recommend, would, highly",
          "<b>Topic 32</b><br>Words: recomendation, chef, there, recommend, confuse",
          "<b>Topic 32</b><br>Words: wafu, recomended, recommend, highly, definitely",
          "<b>Topic 32</b><br>Words: backpeddlers, recommendato, mucho, recommend, highly",
          "<b>Topic 32</b><br>Words: wholeheartedly, recommended, recommend, highly, totally",
          "<b>Topic 32</b><br>Words: senat, recommend, xxx, highly, recomend",
          "<b>Topic 32</b><br>Words: definately, recommend, cuz, thus, check",
          "<b>Topic 32</b><br>Words: recommend, bery, highly, ofcourse, request",
          "<b>Topic 32</b><br>Words: potat, recommend, gooooooooood, glorious, heck",
          "<b>Topic 32</b><br>Words: recommend, nowadays, highly, bias, listen",
          "<b>Topic 32</b><br>Words: reef, sane, recommend, strongly, person",
          "<b>Topic 32</b><br>Words: recommended, recommend, highly, terrible, would",
          "<b>Topic 32</b><br>Words: solaires, deceive, recommend, surely, highly",
          "<b>Topic 32</b><br>Words: recommend, recommendz, souldbourne, wud, highly",
          "<b>Topic 32</b><br>Words: hilarious, recommend, highly, potential, ultimately"
         ],
         "marker": {
          "color": "#D55E00"
         },
         "mode": "lines",
         "name": "32_recommend_highly_recommended_recomend...",
         "type": "scatter",
         "x": [
          "2014-04-20T18:06:56.036000",
          "2014-11-10T19:22:33.200000",
          "2015-05-29T20:36:41.400000",
          "2015-12-15T21:50:49.600000",
          "2016-07-02T23:04:57.800000",
          "2017-01-19T00:19:06",
          "2017-08-07T01:33:14.200000",
          "2018-02-23T02:47:22.400000",
          "2018-09-11T04:01:30.600000",
          "2019-03-30T05:15:38.800000",
          "2019-10-16T06:29:47",
          "2020-05-03T07:43:55.200000",
          "2020-11-19T08:58:03.400000",
          "2021-06-07T10:12:11.600000",
          "2021-12-24T11:26:19.800000",
          "2022-07-12T12:40:28",
          "2023-01-28T13:54:36.200000",
          "2023-08-16T15:08:44.400000",
          "2024-03-03T16:22:52.600000",
          "2024-09-19T17:37:00.800000"
         ],
         "y": [
          26,
          9,
          5,
          8,
          2,
          3,
          3,
          5,
          3,
          7,
          16,
          6,
          12,
          13,
          14,
          5,
          4,
          8,
          16,
          5
         ]
        },
        {
         "hoverinfo": "text",
         "hovertext": [
          "<b>Topic 33</b><br>Words: love, grrrrr, fkin, frist, geforce",
          "<b>Topic 33</b><br>Words: love, grrrrr, fkin, frist, geforce",
          "<b>Topic 33</b><br>Words: love, grrrrr, fkin, frist, geforce",
          "<b>Topic 33</b><br>Words: love, grrrrr, fkin, frist, geforce",
          "<b>Topic 33</b><br>Words: love, grrrrr, fkin, frist, geforce",
          "<b>Topic 33</b><br>Words: love, geforce, action, grrrrr, fkin",
          "<b>Topic 33</b><br>Words: fkin, love, grrrrr, frist, geforce",
          "<b>Topic 33</b><br>Words: love, grrrrr, fkin, frist, geforce",
          "<b>Topic 33</b><br>Words: love, grrrrr, fkin, frist, geforce",
          "<b>Topic 33</b><br>Words: grrrrr, love, fkin, frist, geforce",
          "<b>Topic 33</b><br>Words: love, grrrrr, fkin, frist, geforce",
          "<b>Topic 33</b><br>Words: love, grrrrr, fkin, frist, geforce",
          "<b>Topic 33</b><br>Words: love, simply, grrrrr, fkin, frist",
          "<b>Topic 33</b><br>Words: love, grrrrr, fkin, frist, geforce",
          "<b>Topic 33</b><br>Words: love, grrrrr, fkin, frist, geforce",
          "<b>Topic 33</b><br>Words: love, grrrrr, fkin, frist, geforce",
          "<b>Topic 33</b><br>Words: love, grrrrr, fkin, frist, geforce",
          "<b>Topic 33</b><br>Words: love, frist, grrrrr, fkin, geforce",
          "<b>Topic 33</b><br>Words: love, grrrrr, fkin, frist, geforce",
          "<b>Topic 33</b><br>Words: love, grrrrr, fkin, frist, geforce"
         ],
         "marker": {
          "color": "#0072B2"
         },
         "mode": "lines",
         "name": "33_love_grrrrr_frist_fkin",
         "type": "scatter",
         "x": [
          "2014-04-20T18:06:56.036000",
          "2014-11-10T19:22:33.200000",
          "2015-05-29T20:36:41.400000",
          "2015-12-15T21:50:49.600000",
          "2016-07-02T23:04:57.800000",
          "2017-01-19T00:19:06",
          "2017-08-07T01:33:14.200000",
          "2018-02-23T02:47:22.400000",
          "2018-09-11T04:01:30.600000",
          "2019-03-30T05:15:38.800000",
          "2019-10-16T06:29:47",
          "2020-05-03T07:43:55.200000",
          "2020-11-19T08:58:03.400000",
          "2021-06-07T10:12:11.600000",
          "2021-12-24T11:26:19.800000",
          "2022-07-12T12:40:28",
          "2023-01-28T13:54:36.200000",
          "2023-08-16T15:08:44.400000",
          "2024-03-03T16:22:52.600000",
          "2024-09-19T17:37:00.800000"
         ],
         "y": [
          21,
          12,
          4,
          10,
          2,
          5,
          5,
          2,
          1,
          6,
          6,
          11,
          9,
          16,
          2,
          8,
          7,
          11,
          10,
          14
         ]
        },
        {
         "hoverinfo": "text",
         "hovertext": [
          "<b>Topic 34</b><br>Words: soulless, dissapointing, ever, merely, haha",
          "<b>Topic 34</b><br>Words: baddass, want, play, bad, ever",
          "<b>Topic 34</b><br>Words: rekomended, usully, morgan, lik, gam",
          "<b>Topic 34</b><br>Words: cant, sure, say, want, bad",
          "<b>Topic 34</b><br>Words: bretty, rap, remove, mind, completely",
          "<b>Topic 34</b><br>Words: diferent, favor, already, mean, bad",
          "<b>Topic 34</b><br>Words: tyvm, tread, unpolished, comment, meh",
          "<b>Topic 34</b><br>Words: chore, instead, horrible, least, bad",
          "<b>Topic 34</b><br>Words: pathetic, joke, slow, everything, far",
          "<b>Topic 34</b><br>Words: supa, peple, kool, otherwise, frustrating",
          "<b>Topic 34</b><br>Words: sicne, suffered, crappiest, ist, permanent",
          "<b>Topic 34</b><br>Words: clumsy, league, iteration, legend, ass",
          "<b>Topic 34</b><br>Words: otzdarva, ive, severe, fucking, bad",
          "<b>Topic 34</b><br>Words: disown, recapture, ever, bad, undoubtedly",
          "<b>Topic 34</b><br>Words: sarcastic, ive, psychopath, hammer, hospital",
          "<b>Topic 34</b><br>Words: displeasure, kalle, ranger, imagine, pussy",
          "<b>Topic 34</b><br>Words: ga, fk, ever, sanity, havent",
          "<b>Topic 34</b><br>Words: ovewreight, wrose, iver, limp, ive",
          "<b>Topic 34</b><br>Words: hydraulic, charity, unmentionable, retroactively, handicapped",
          "<b>Topic 34</b><br>Words: cheeseburger, hypodermic, displeasure, shattered, needle"
         ],
         "marker": {
          "color": "#CC79A7"
         },
         "mode": "lines",
         "name": "34_bad_ever_ive_displeasure",
         "type": "scatter",
         "x": [
          "2014-04-20T18:06:56.036000",
          "2014-11-10T19:22:33.200000",
          "2015-05-29T20:36:41.400000",
          "2015-12-15T21:50:49.600000",
          "2016-07-02T23:04:57.800000",
          "2017-01-19T00:19:06",
          "2017-08-07T01:33:14.200000",
          "2018-02-23T02:47:22.400000",
          "2018-09-11T04:01:30.600000",
          "2019-03-30T05:15:38.800000",
          "2019-10-16T06:29:47",
          "2020-05-03T07:43:55.200000",
          "2020-11-19T08:58:03.400000",
          "2021-06-07T10:12:11.600000",
          "2021-12-24T11:26:19.800000",
          "2022-07-12T12:40:28",
          "2023-01-28T13:54:36.200000",
          "2023-08-16T15:08:44.400000",
          "2024-03-03T16:22:52.600000",
          "2024-09-19T17:37:00.800000"
         ],
         "y": [
          9,
          1,
          3,
          1,
          1,
          1,
          3,
          2,
          1,
          3,
          6,
          8,
          15,
          16,
          16,
          13,
          10,
          17,
          17,
          14
         ]
        },
        {
         "hoverinfo": "text",
         "hovertext": [
          "<b>Topic 35</b><br>Words: playstation, jank, back, janky, want",
          "<b>Topic 35</b><br>Words: janky, jank, bumb, genus, forcing",
          "<b>Topic 35</b><br>Words: jank, janky, targetting, torture, speedrunners",
          "<b>Topic 35</b><br>Words: janky, jank, slush, deterrent, jpg",
          "<b>Topic 35</b><br>Words: jank, janky, fvckin, repetitve, fashionsouls",
          "<b>Topic 35</b><br>Words: janky, jank, helpless, intesne, directionalization",
          "<b>Topic 35</b><br>Words: janky, jank, outher, differntly, jankier",
          "<b>Topic 35</b><br>Words: janky, jank, transactional, ideology, robotic",
          "<b>Topic 35</b><br>Words: janky, jank, jankier, saulk, hyperfixated",
          "<b>Topic 35</b><br>Words: janky, jank, dong, turnred, darkth",
          "<b>Topic 35</b><br>Words: jank, janky, skibity, riz, jankiness"
         ],
         "marker": {
          "color": "#E69F00"
         },
         "mode": "lines",
         "name": "35_janky_jank_helpless_jankier",
         "type": "scatter",
         "x": [
          "2019-03-30T05:15:38.800000",
          "2019-10-16T06:29:47",
          "2020-05-03T07:43:55.200000",
          "2020-11-19T08:58:03.400000",
          "2021-06-07T10:12:11.600000",
          "2021-12-24T11:26:19.800000",
          "2022-07-12T12:40:28",
          "2023-01-28T13:54:36.200000",
          "2023-08-16T15:08:44.400000",
          "2024-03-03T16:22:52.600000",
          "2024-09-19T17:37:00.800000"
         ],
         "y": [
          1,
          6,
          8,
          17,
          20,
          16,
          10,
          11,
          19,
          21,
          26
         ]
        },
        {
         "hoverinfo": "text",
         "hovertext": [
          "<b>Topic 36</b><br>Words: would, die, bladder, burst, pole",
          "<b>Topic 36</b><br>Words: would, rape, die, brilliant, ruuined",
          "<b>Topic 36</b><br>Words: genocide, would, die, commit, hollow",
          "<b>Topic 36</b><br>Words: would, somebody, die, stretch, asshole",
          "<b>Topic 36</b><br>Words: would, wizard, die, pussy, brutally",
          "<b>Topic 36</b><br>Words: humanity, would, lose, die, ruuined",
          "<b>Topic 36</b><br>Words: tenouttaten, would, die, ruuined, rape",
          "<b>Topic 36</b><br>Words: lose, would, die, ruuined, rape",
          "<b>Topic 36</b><br>Words: would, die, ruuined, rape, bladder",
          "<b>Topic 36</b><br>Words: would, die, lose, ruuined, rape",
          "<b>Topic 36</b><br>Words: would, die, ruuined, rape, bladder",
          "<b>Topic 36</b><br>Words: would, burn, effigy, human, die",
          "<b>Topic 36</b><br>Words: ruuined, would, die, save, rape",
          "<b>Topic 36</b><br>Words: ok, would, die, lot, ruuined",
          "<b>Topic 36</b><br>Words: would, die, ruuined, rape, bladder",
          "<b>Topic 36</b><br>Words: would, die, ruuined, rape, bladder",
          "<b>Topic 36</b><br>Words: would, die, ruuined, rape, bladder"
         ],
         "marker": {
          "color": "#56B4E9"
         },
         "mode": "lines",
         "name": "36_would_die_ruuined_rape",
         "type": "scatter",
         "x": [
          "2014-04-20T18:06:56.036000",
          "2014-11-10T19:22:33.200000",
          "2015-05-29T20:36:41.400000",
          "2015-12-15T21:50:49.600000",
          "2016-07-02T23:04:57.800000",
          "2017-01-19T00:19:06",
          "2017-08-07T01:33:14.200000",
          "2018-02-23T02:47:22.400000",
          "2018-09-11T04:01:30.600000",
          "2019-03-30T05:15:38.800000",
          "2019-10-16T06:29:47",
          "2020-05-03T07:43:55.200000",
          "2020-11-19T08:58:03.400000",
          "2021-06-07T10:12:11.600000",
          "2021-12-24T11:26:19.800000",
          "2022-07-12T12:40:28",
          "2024-09-19T17:37:00.800000"
         ],
         "y": [
          53,
          26,
          11,
          18,
          8,
          2,
          6,
          1,
          4,
          5,
          8,
          3,
          4,
          2,
          1,
          1,
          1
         ]
        },
        {
         "hoverinfo": "text",
         "hovertext": [
          "<b>Topic 37</b><br>Words: peak, midsouls, sebralo, tuah, peaksouls",
          "<b>Topic 37</b><br>Words: peak, midsouls, peaksouls, sebralo, tuah",
          "<b>Topic 37</b><br>Words: peak, midsouls, sebralo, tuah, video",
          "<b>Topic 37</b><br>Words: peak, sebralo, tuah, frfr, shi"
         ],
         "marker": {
          "color": "#009E73"
         },
         "mode": "lines",
         "name": "37_peak_sebralo_midsouls_tuah",
         "type": "scatter",
         "x": [
          "2023-01-28T13:54:36.200000",
          "2023-08-16T15:08:44.400000",
          "2024-03-03T16:22:52.600000",
          "2024-09-19T17:37:00.800000"
         ],
         "y": [
          1,
          5,
          45,
          102
         ]
        },
        {
         "hoverinfo": "text",
         "hovertext": [
          "<b>Topic 38</b><br>Words: bloodborne, inside, blood, atm, wait",
          "<b>Topic 38</b><br>Words: bloodborne, heee, learntojump, envolving, stench",
          "<b>Topic 38</b><br>Words: bloodborne, duuh, brotherhood, ypu, adapatbility",
          "<b>Topic 38</b><br>Words: bloodborne, blunderbuss, touched, insulting, edition",
          "<b>Topic 38</b><br>Words: bloodborne, fave, skil, fgts, battleborne",
          "<b>Topic 38</b><br>Words: bloodborne, oooohhhhhhh, nioh, scammed, aweful",
          "<b>Topic 38</b><br>Words: bloodborne, yet, buy, bloodborn, blood",
          "<b>Topic 38</b><br>Words: bloodborne, attribue, omegalul, bestestest, bloodborn",
          "<b>Topic 38</b><br>Words: bloodborn, bloodborne, superior, yeah, basically",
          "<b>Topic 38</b><br>Words: bloodborn, bloodborne, ahead, wish, frustrating",
          "<b>Topic 38</b><br>Words: bloodborne, palyed, bloodsouls, knockoff, league",
          "<b>Topic 38</b><br>Words: bloodborne, consul, kart, demonsouls, tradition",
          "<b>Topic 38</b><br>Words: bloodborne, bleedborned, kart, delicious, dumpster",
          "<b>Topic 38</b><br>Words: bloodborne, escenaries, kart, originally, disappoint",
          "<b>Topic 38</b><br>Words: bloodborne, freebloodborne, bloodbourne, slugish, dub",
          "<b>Topic 38</b><br>Words: downvote, bloodborne, fromsoftware, bloodborn, legacy",
          "<b>Topic 38</b><br>Words: bloodborne, perception, fs, sadist, public",
          "<b>Topic 38</b><br>Words: bloodborne, conservative, pls, ost, bring",
          "<b>Topic 38</b><br>Words: bloodborne, redittors, competitor, btw, depressing",
          "<b>Topic 38</b><br>Words: bloodborne, zur, kleine, bruder, ckgebliebene"
         ],
         "marker": {
          "color": "#F0E442"
         },
         "mode": "lines",
         "name": "38_bloodborne_bloodborn_blood_kart",
         "type": "scatter",
         "x": [
          "2014-04-20T18:06:56.036000",
          "2014-11-10T19:22:33.200000",
          "2015-05-29T20:36:41.400000",
          "2015-12-15T21:50:49.600000",
          "2016-07-02T23:04:57.800000",
          "2017-01-19T00:19:06",
          "2017-08-07T01:33:14.200000",
          "2018-02-23T02:47:22.400000",
          "2018-09-11T04:01:30.600000",
          "2019-03-30T05:15:38.800000",
          "2019-10-16T06:29:47",
          "2020-05-03T07:43:55.200000",
          "2020-11-19T08:58:03.400000",
          "2021-06-07T10:12:11.600000",
          "2021-12-24T11:26:19.800000",
          "2022-07-12T12:40:28",
          "2023-01-28T13:54:36.200000",
          "2023-08-16T15:08:44.400000",
          "2024-03-03T16:22:52.600000",
          "2024-09-19T17:37:00.800000"
         ],
         "y": [
          6,
          16,
          9,
          5,
          8,
          5,
          1,
          6,
          3,
          3,
          8,
          8,
          8,
          6,
          16,
          7,
          10,
          8,
          12,
          6
         ]
        },
        {
         "hoverinfo": "text",
         "hovertext": [
          "<b>Topic 39</b><br>Words: flaw, regeret, derped, petition, somone",
          "<b>Topic 39</b><br>Words: footnote, flaw, major, except, see",
          "<b>Topic 39</b><br>Words: rotten, flaw, core, none, value",
          "<b>Topic 39</b><br>Words: masterpiece, flaw, despite, astonishing, flawed",
          "<b>Topic 39</b><br>Words: inspection, replayable, flaw, forever, tho",
          "<b>Topic 39</b><br>Words: raime, flaws, flawed, flaw, anyway",
          "<b>Topic 39</b><br>Words: flaw, intricate, polished, horse, satisfying",
          "<b>Topic 39</b><br>Words: flaw, gimped, unfamiliar, crappy, resource",
          "<b>Topic 39</b><br>Words: flaw, tbf, arsed, drunk, boot",
          "<b>Topic 39</b><br>Words: flaw, nevertheless, nonetheless, numerous, date",
          "<b>Topic 39</b><br>Words: flaw, neato, flair, arguable, warrant",
          "<b>Topic 39</b><br>Words: flaw, incompetence, nearly, altough, trait",
          "<b>Topic 39</b><br>Words: flaw, outways, hater, listen, flawed",
          "<b>Topic 39</b><br>Words: flaw, unknowingly, dogsh, dam, happily",
          "<b>Topic 39</b><br>Words: flaw, debateably, agonize, exaggerated, flawed",
          "<b>Topic 39</b><br>Words: flaw, vides, issus, remasterd, unreasonable",
          "<b>Topic 39</b><br>Words: flaw, astonishing, unjustifiably, shill, portray",
          "<b>Topic 39</b><br>Words: flaw, reprobate, vitriol, undisputed, misunderstood",
          "<b>Topic 39</b><br>Words: flaw, charming, decant, ermmm, mylles"
         ],
         "marker": {
          "color": "#D55E00"
         },
         "mode": "lines",
         "name": "39_flaw_despite_masterpiece_astonishing",
         "type": "scatter",
         "x": [
          "2014-04-20T18:06:56.036000",
          "2015-05-29T20:36:41.400000",
          "2015-12-15T21:50:49.600000",
          "2016-07-02T23:04:57.800000",
          "2017-01-19T00:19:06",
          "2017-08-07T01:33:14.200000",
          "2018-02-23T02:47:22.400000",
          "2018-09-11T04:01:30.600000",
          "2019-03-30T05:15:38.800000",
          "2019-10-16T06:29:47",
          "2020-05-03T07:43:55.200000",
          "2020-11-19T08:58:03.400000",
          "2021-06-07T10:12:11.600000",
          "2021-12-24T11:26:19.800000",
          "2022-07-12T12:40:28",
          "2023-01-28T13:54:36.200000",
          "2023-08-16T15:08:44.400000",
          "2024-03-03T16:22:52.600000",
          "2024-09-19T17:37:00.800000"
         ],
         "y": [
          8,
          1,
          1,
          1,
          2,
          3,
          3,
          1,
          3,
          6,
          14,
          16,
          9,
          15,
          9,
          8,
          11,
          15,
          24
         ]
        },
        {
         "hoverinfo": "text",
         "hovertext": [
          "<b>Topic 40</b><br>Words: preparation, name, rest, ring, co",
          "<b>Topic 40</b><br>Words: doo, poggies, happ, shitboxes, ring",
          "<b>Topic 40</b><br>Words: exalted, rin, elden, ring, diying",
          "<b>Topic 40</b><br>Words: elden, ring, multiplayer, mistranslation, oooowweeee",
          "<b>Topic 40</b><br>Words: elden, ring, gabarge, whel, swug",
          "<b>Topic 40</b><br>Words: elden, ring, poo, lecture, cacophony",
          "<b>Topic 40</b><br>Words: elden, ring, bastards, horribly, dsr",
          "<b>Topic 40</b><br>Words: elden, ring, cirtical, elen, imright",
          "<b>Topic 40</b><br>Words: elden, ring, unlocker, dificultty, crode"
         ],
         "marker": {
          "color": "#0072B2"
         },
         "mode": "lines",
         "name": "40_elden_ring_doo_multiplayer",
         "type": "scatter",
         "x": [
          "2020-05-03T07:43:55.200000",
          "2020-11-19T08:58:03.400000",
          "2021-06-07T10:12:11.600000",
          "2021-12-24T11:26:19.800000",
          "2022-07-12T12:40:28",
          "2023-01-28T13:54:36.200000",
          "2023-08-16T15:08:44.400000",
          "2024-03-03T16:22:52.600000",
          "2024-09-19T17:37:00.800000"
         ],
         "y": [
          1,
          4,
          5,
          41,
          13,
          16,
          17,
          20,
          23
         ]
        },
        {
         "hoverinfo": "text",
         "hovertext": [
          "<b>Topic 41</b><br>Words: sequel, indirect, indirectly, ii, improve",
          "<b>Topic 41</b><br>Words: sequel, harmless, portal, translate, visuls",
          "<b>Topic 41</b><br>Words: sequel, latte, clearable, expresso, videoludic",
          "<b>Topic 41</b><br>Words: sequel, untoasted, develeoped, realm, aftertaste",
          "<b>Topic 41</b><br>Words: sequel, gamemakers, frater, perdurabo, cthonic",
          "<b>Topic 41</b><br>Words: stilll, aldias, strengthen, sequel, nearby",
          "<b>Topic 41</b><br>Words: benchmark, synonymous, expression, pulp, corpse",
          "<b>Topic 41</b><br>Words: sequel, olist, redesign, convenants, neverthless",
          "<b>Topic 41</b><br>Words: arkham, bioshock, origins, vega, backtrack",
          "<b>Topic 41</b><br>Words: differences, glitching, grinding, sadness, parrying",
          "<b>Topic 41</b><br>Words: espouse, souis, minimally, forewarn, opera",
          "<b>Topic 41</b><br>Words: addicitng, crackhead, senile, overdue, flush",
          "<b>Topic 41</b><br>Words: sequel, atnthe, writes, areabsurd, whie",
          "<b>Topic 41</b><br>Words: robocop, messier, interresting, geographically, sequel",
          "<b>Topic 41</b><br>Words: worker, exacting, presented, fascinate, sequel",
          "<b>Topic 41</b><br>Words: sequel, finality, contractually, keystone, influential",
          "<b>Topic 41</b><br>Words: formidable, sequel, establish, preferences, primarily",
          "<b>Topic 41</b><br>Words: sequel, formula, marmite, obscurely, shat",
          "<b>Topic 41</b><br>Words: unafraid, dweller, essayist, entries, scorn"
         ],
         "marker": {
          "color": "#CC79A7"
         },
         "mode": "lines",
         "name": "41_sequel_indirect_indirectly_ii",
         "type": "scatter",
         "x": [
          "2014-04-20T18:06:56.036000",
          "2014-11-10T19:22:33.200000",
          "2015-05-29T20:36:41.400000",
          "2015-12-15T21:50:49.600000",
          "2016-07-02T23:04:57.800000",
          "2017-01-19T00:19:06",
          "2017-08-07T01:33:14.200000",
          "2018-02-23T02:47:22.400000",
          "2018-09-11T04:01:30.600000",
          "2019-10-16T06:29:47",
          "2020-05-03T07:43:55.200000",
          "2020-11-19T08:58:03.400000",
          "2021-06-07T10:12:11.600000",
          "2021-12-24T11:26:19.800000",
          "2022-07-12T12:40:28",
          "2023-01-28T13:54:36.200000",
          "2023-08-16T15:08:44.400000",
          "2024-03-03T16:22:52.600000",
          "2024-09-19T17:37:00.800000"
         ],
         "y": [
          57,
          14,
          4,
          6,
          5,
          2,
          3,
          7,
          2,
          2,
          3,
          2,
          7,
          3,
          3,
          5,
          5,
          6,
          3
         ]
        },
        {
         "hoverinfo": "text",
         "hovertext": [
          "<b>Topic 42</b><br>Words: awesome, sweet, totally, bro, usual",
          "<b>Topic 42</b><br>Words: awesome, sweet, bro, usual, till",
          "<b>Topic 42</b><br>Words: awesome, till, sweet, wait, bro",
          "<b>Topic 42</b><br>Words: awesome, sweet, bro, usual, till",
          "<b>Topic 42</b><br>Words: awesome, sweet, bro, usual, till",
          "<b>Topic 42</b><br>Words: awesome, sweet, bro, usual, till",
          "<b>Topic 42</b><br>Words: awesome, sweet, bro, usual, till",
          "<b>Topic 42</b><br>Words: awesome, sweet, bro, usual, till",
          "<b>Topic 42</b><br>Words: awesome, sweet, bro, usual, till",
          "<b>Topic 42</b><br>Words: awesome, sweet, bro, usual, till",
          "<b>Topic 42</b><br>Words: awesome, sweet, bro, usual, till",
          "<b>Topic 42</b><br>Words: awesome, sweet, bro, usual, till",
          "<b>Topic 42</b><br>Words: awesome, sweet, bro, usual, till",
          "<b>Topic 42</b><br>Words: awesome, sweet, bro, usual, till",
          "<b>Topic 42</b><br>Words: awesome, sweet, bro, usual, till",
          "<b>Topic 42</b><br>Words: awesome, sweet, bro, usual, till",
          "<b>Topic 42</b><br>Words: awesome, usual, sweet, bro, till",
          "<b>Topic 42</b><br>Words: awesome, sweet, bro, usual, till",
          "<b>Topic 42</b><br>Words: awesome, sweet, bro, usual, till"
         ],
         "marker": {
          "color": "#E69F00"
         },
         "mode": "lines",
         "name": "42_awesome_sweet_bro_usual",
         "type": "scatter",
         "x": [
          "2014-04-20T18:06:56.036000",
          "2014-11-10T19:22:33.200000",
          "2015-05-29T20:36:41.400000",
          "2015-12-15T21:50:49.600000",
          "2016-07-02T23:04:57.800000",
          "2017-01-19T00:19:06",
          "2017-08-07T01:33:14.200000",
          "2018-09-11T04:01:30.600000",
          "2019-03-30T05:15:38.800000",
          "2019-10-16T06:29:47",
          "2020-05-03T07:43:55.200000",
          "2020-11-19T08:58:03.400000",
          "2021-06-07T10:12:11.600000",
          "2021-12-24T11:26:19.800000",
          "2022-07-12T12:40:28",
          "2023-01-28T13:54:36.200000",
          "2023-08-16T15:08:44.400000",
          "2024-03-03T16:22:52.600000",
          "2024-09-19T17:37:00.800000"
         ],
         "y": [
          38,
          16,
          12,
          7,
          6,
          1,
          6,
          1,
          2,
          7,
          8,
          6,
          6,
          2,
          5,
          4,
          4,
          3,
          5
         ]
        },
        {
         "hoverinfo": "text",
         "hovertext": [
          "<b>Topic 43</b><br>Words: replay, replayability, value, hadnle, replayable",
          "<b>Topic 43</b><br>Words: replay, value, replayability, replayable, potentcial",
          "<b>Topic 43</b><br>Words: replayability, replay, value, reccamend, maker",
          "<b>Topic 43</b><br>Words: simluator, reintroduction, replay, repeat, texture",
          "<b>Topic 43</b><br>Words: replayability, replay, huuge, assess, value",
          "<b>Topic 43</b><br>Words: derank, blooborne, replay, value, rebuy",
          "<b>Topic 43</b><br>Words: replay, value, replayability, replayable, aesthetically",
          "<b>Topic 43</b><br>Words: replay, rest, anyone, maybe, let",
          "<b>Topic 43</b><br>Words: higly, replay, replayable, replayability, flaws",
          "<b>Topic 43</b><br>Words: replayability, replay, hundredth, randomizer, label",
          "<b>Topic 43</b><br>Words: replay, value, replayability, replayeable, ruff",
          "<b>Topic 43</b><br>Words: replay, varity, value, replayable, rap",
          "<b>Topic 43</b><br>Words: replayability, replay, value, replayable, margin",
          "<b>Topic 43</b><br>Words: replayable, replay, replayability, value, groove",
          "<b>Topic 43</b><br>Words: replay, replayability, stupidly, value, boy",
          "<b>Topic 43</b><br>Words: replay, value, purely, child, replayability",
          "<b>Topic 43</b><br>Words: replay, value, repeatability, wayyy, replayability",
          "<b>Topic 43</b><br>Words: maturing, replayable, replayability, realize, hat",
          "<b>Topic 43</b><br>Words: replay, value, replayable, astmosphere, revo",
          "<b>Topic 43</b><br>Words: replay, refuse, replayability, masterpiece, literally"
         ],
         "marker": {
          "color": "#56B4E9"
         },
         "mode": "lines",
         "name": "43_replay_replayability_value_replayable",
         "type": "scatter",
         "x": [
          "2014-04-20T18:06:56.036000",
          "2014-11-10T19:22:33.200000",
          "2015-05-29T20:36:41.400000",
          "2015-12-15T21:50:49.600000",
          "2016-07-02T23:04:57.800000",
          "2017-01-19T00:19:06",
          "2017-08-07T01:33:14.200000",
          "2018-02-23T02:47:22.400000",
          "2018-09-11T04:01:30.600000",
          "2019-03-30T05:15:38.800000",
          "2019-10-16T06:29:47",
          "2020-05-03T07:43:55.200000",
          "2020-11-19T08:58:03.400000",
          "2021-06-07T10:12:11.600000",
          "2021-12-24T11:26:19.800000",
          "2022-07-12T12:40:28",
          "2023-01-28T13:54:36.200000",
          "2023-08-16T15:08:44.400000",
          "2024-03-03T16:22:52.600000",
          "2024-09-19T17:37:00.800000"
         ],
         "y": [
          23,
          13,
          8,
          4,
          5,
          2,
          8,
          1,
          3,
          5,
          10,
          5,
          7,
          8,
          6,
          3,
          7,
          2,
          8,
          6
         ]
        },
        {
         "hoverinfo": "text",
         "hovertext": [
          "<b>Topic 44</b><br>Words: ez, ezlife, egdes, ezgame, noobz",
          "<b>Topic 44</b><br>Words: ez, sik, jelly, coz, bitch",
          "<b>Topic 44</b><br>Words: ez, nsmkon, ftweq, eqr, poiq",
          "<b>Topic 44</b><br>Words: ez, rtz, awsom, nobodyever, gg",
          "<b>Topic 44</b><br>Words: ez, ezzz, gg, tooo, praisesun",
          "<b>Topic 44</b><br>Words: ez, boi, heh, totally, okay",
          "<b>Topic 44</b><br>Words: ez, gg, buy, pz, ztg",
          "<b>Topic 44</b><br>Words: ez, tbh, gg, pz, ztg",
          "<b>Topic 44</b><br>Words: ez, ever, gg, pz, ztg",
          "<b>Topic 44</b><br>Words: ez, tz, ztgrwestzgewrs, ezed, uz",
          "<b>Topic 44</b><br>Words: ez, ezz, ztg, ezpz, gg",
          "<b>Topic 44</b><br>Words: ez, lyef, ezy, gg, og",
          "<b>Topic 44</b><br>Words: ez, efsane, zor, ama, tbh",
          "<b>Topic 44</b><br>Words: ez, guzel, cok, gg, yawn",
          "<b>Topic 44</b><br>Words: ez, zzz, defo, gg, af",
          "<b>Topic 44</b><br>Words: ez, gane, gg, og, pz",
          "<b>Topic 44</b><br>Words: ez, zzzzzzzz, funz, gg, pz",
          "<b>Topic 44</b><br>Words: ez, meh, struggle, mode, gg",
          "<b>Topic 44</b><br>Words: ez, elmegy, goz, egynek, gg",
          "<b>Topic 44</b><br>Words: ez, pz, achieve, poison, achievement"
         ],
         "marker": {
          "color": "#009E73"
         },
         "mode": "lines",
         "name": "44_ez_gg_pz_ztg",
         "type": "scatter",
         "x": [
          "2014-04-20T18:06:56.036000",
          "2014-11-10T19:22:33.200000",
          "2015-05-29T20:36:41.400000",
          "2015-12-15T21:50:49.600000",
          "2016-07-02T23:04:57.800000",
          "2017-01-19T00:19:06",
          "2017-08-07T01:33:14.200000",
          "2018-02-23T02:47:22.400000",
          "2018-09-11T04:01:30.600000",
          "2019-03-30T05:15:38.800000",
          "2019-10-16T06:29:47",
          "2020-05-03T07:43:55.200000",
          "2020-11-19T08:58:03.400000",
          "2021-06-07T10:12:11.600000",
          "2021-12-24T11:26:19.800000",
          "2022-07-12T12:40:28",
          "2023-01-28T13:54:36.200000",
          "2023-08-16T15:08:44.400000",
          "2024-03-03T16:22:52.600000",
          "2024-09-19T17:37:00.800000"
         ],
         "y": [
          22,
          7,
          4,
          4,
          4,
          5,
          4,
          3,
          2,
          6,
          11,
          6,
          9,
          12,
          8,
          4,
          4,
          5,
          7,
          2
         ]
        },
        {
         "hoverinfo": "text",
         "hovertext": [
          "<b>Topic 45</b><br>Words: demon, eachother, satan, ride, arived",
          "<b>Topic 45</b><br>Words: demon, waist, aaa, fake, cash",
          "<b>Topic 45</b><br>Words: snowman, cult, demon, whats, follow",
          "<b>Topic 45</b><br>Words: demon, misleading, progressively, fake, stunning",
          "<b>Topic 45</b><br>Words: demon, satanist, satisify, inovative, hipster",
          "<b>Topic 45</b><br>Words: kuess, atlus, isent, blasphemy, dk",
          "<b>Topic 45</b><br>Words: demon, popular, inferior, played, ready",
          "<b>Topic 45</b><br>Words: soulbourne, demon, today, garbage, include",
          "<b>Topic 45</b><br>Words: sikero, reshuffle, changed, demon, bb",
          "<b>Topic 45</b><br>Words: waayyyy, demon, innovative, refine, opposite",
          "<b>Topic 45</b><br>Words: demon, pavement, fml, wonky, ground",
          "<b>Topic 45</b><br>Words: flack, capra, demon, call, real",
          "<b>Topic 45</b><br>Words: covidtest, demon, fantastic, enough, big",
          "<b>Topic 45</b><br>Words: server, finally, include, demon, favorite",
          "<b>Topic 45</b><br>Words: zeta, nov, sigma, cuck, demon",
          "<b>Topic 45</b><br>Words: demon, conventus, replaces, funky, tedium",
          "<b>Topic 45</b><br>Words: demon, reminiscent, undoubtedly, ambiance, market"
         ],
         "marker": {
          "color": "#F0E442"
         },
         "mode": "lines",
         "name": "45_demon_eachother_satan_ride",
         "type": "scatter",
         "x": [
          "2014-04-20T18:06:56.036000",
          "2014-11-10T19:22:33.200000",
          "2015-05-29T20:36:41.400000",
          "2015-12-15T21:50:49.600000",
          "2017-08-07T01:33:14.200000",
          "2018-02-23T02:47:22.400000",
          "2018-09-11T04:01:30.600000",
          "2019-03-30T05:15:38.800000",
          "2019-10-16T06:29:47",
          "2020-05-03T07:43:55.200000",
          "2020-11-19T08:58:03.400000",
          "2021-06-07T10:12:11.600000",
          "2021-12-24T11:26:19.800000",
          "2022-07-12T12:40:28",
          "2023-08-16T15:08:44.400000",
          "2024-03-03T16:22:52.600000",
          "2024-09-19T17:37:00.800000"
         ],
         "y": [
          49,
          8,
          4,
          6,
          6,
          4,
          4,
          3,
          3,
          7,
          8,
          3,
          3,
          1,
          4,
          10,
          5
         ]
        },
        {
         "hoverinfo": "text",
         "hovertext": [
          "<b>Topic 46</b><br>Words: as, enough, bad, say, good",
          "<b>Topic 46</b><br>Words: greedy, imho, isnt, bad, ding",
          "<b>Topic 46</b><br>Words: contorls, bad, ding, bading, tarkov",
          "<b>Topic 46</b><br>Words: every, way, bad, like, ding",
          "<b>Topic 46</b><br>Words: bumbling, ky, retard, bunch, bad",
          "<b>Topic 46</b><br>Words: general, cause, bad, worth, good",
          "<b>Topic 46</b><br>Words: salty, cuz, worse, honestly, real",
          "<b>Topic 46</b><br>Words: easily, bad, ding, bading, tarkov",
          "<b>Topic 46</b><br>Words: either, big, bad, great, ding",
          "<b>Topic 46</b><br>Words: twist, par, cheese, pure, mostly",
          "<b>Topic 46</b><br>Words: cute, girl, bad, enough, ding",
          "<b>Topic 46</b><br>Words: unwarranted, dreadful, rep, bad, plain",
          "<b>Topic 46</b><br>Words: plin, histroy, plon, bad, co",
          "<b>Topic 46</b><br>Words: oen, artificail, diffuculky, ideo, bad",
          "<b>Topic 46</b><br>Words: obscene, imitation, unbelievably, recognize, twist",
          "<b>Topic 46</b><br>Words: conceivable, elaborate, bad, extremely, certainly",
          "<b>Topic 46</b><br>Words: tarkov, terribleness, conceivable, irredeemable, bad",
          "<b>Topic 46</b><br>Words: lolo, lololololololol, durr, hurr, aint",
          "<b>Topic 46</b><br>Words: ding, bading, muuuuchhhhh, bootylicious, yappers",
          "<b>Topic 46</b><br>Words: dond, ith, snowy, liek, cmon"
         ],
         "marker": {
          "color": "#D55E00"
         },
         "mode": "lines",
         "name": "46_bad_ding_bading_tarkov",
         "type": "scatter",
         "x": [
          "2014-04-20T18:06:56.036000",
          "2014-11-10T19:22:33.200000",
          "2015-05-29T20:36:41.400000",
          "2015-12-15T21:50:49.600000",
          "2016-07-02T23:04:57.800000",
          "2017-01-19T00:19:06",
          "2017-08-07T01:33:14.200000",
          "2018-02-23T02:47:22.400000",
          "2018-09-11T04:01:30.600000",
          "2019-03-30T05:15:38.800000",
          "2019-10-16T06:29:47",
          "2020-05-03T07:43:55.200000",
          "2020-11-19T08:58:03.400000",
          "2021-06-07T10:12:11.600000",
          "2021-12-24T11:26:19.800000",
          "2022-07-12T12:40:28",
          "2023-01-28T13:54:36.200000",
          "2023-08-16T15:08:44.400000",
          "2024-03-03T16:22:52.600000",
          "2024-09-19T17:37:00.800000"
         ],
         "y": [
          2,
          2,
          1,
          1,
          2,
          3,
          2,
          1,
          2,
          4,
          4,
          9,
          4,
          14,
          11,
          8,
          14,
          10,
          20,
          14
         ]
        },
        {
         "hoverinfo": "text",
         "hovertext": [
          "<b>Topic 47</b><br>Words: exact, like, wow, idk, noise",
          "<b>Topic 47</b><br>Words: like, idk, noise, there, exact",
          "<b>Topic 47</b><br>Words: like, idk, noise, there, exact",
          "<b>Topic 47</b><br>Words: like, idk, noise, there, exact",
          "<b>Topic 47</b><br>Words: like, idk, noise, there, exact",
          "<b>Topic 47</b><br>Words: lol, like, idk, noise, there",
          "<b>Topic 47</b><br>Words: like, idk, noise, there, exact",
          "<b>Topic 47</b><br>Words: like, idk, noise, there, exact",
          "<b>Topic 47</b><br>Words: like, idk, noise, there, exact",
          "<b>Topic 47</b><br>Words: idk, like, simply, noise, there",
          "<b>Topic 47</b><br>Words: like, idk, noise, there, exact",
          "<b>Topic 47</b><br>Words: like, either, idk, noise, there",
          "<b>Topic 47</b><br>Words: like, idk, noise, there, exact",
          "<b>Topic 47</b><br>Words: like, idk, noise, there, exact",
          "<b>Topic 47</b><br>Words: like, idk, noise, there, exact",
          "<b>Topic 47</b><br>Words: noise, like, idk, there, exact",
          "<b>Topic 47</b><br>Words: like, shit, idk, noise, there",
          "<b>Topic 47</b><br>Words: grow, like, idk, noise, there",
          "<b>Topic 47</b><br>Words: like, idk, noise, there, exact"
         ],
         "marker": {
          "color": "#0072B2"
         },
         "mode": "lines",
         "name": "47_like_idk_noise_there",
         "type": "scatter",
         "x": [
          "2014-04-20T18:06:56.036000",
          "2014-11-10T19:22:33.200000",
          "2015-05-29T20:36:41.400000",
          "2015-12-15T21:50:49.600000",
          "2016-07-02T23:04:57.800000",
          "2017-08-07T01:33:14.200000",
          "2018-02-23T02:47:22.400000",
          "2018-09-11T04:01:30.600000",
          "2019-03-30T05:15:38.800000",
          "2019-10-16T06:29:47",
          "2020-05-03T07:43:55.200000",
          "2020-11-19T08:58:03.400000",
          "2021-06-07T10:12:11.600000",
          "2021-12-24T11:26:19.800000",
          "2022-07-12T12:40:28",
          "2023-01-28T13:54:36.200000",
          "2023-08-16T15:08:44.400000",
          "2024-03-03T16:22:52.600000",
          "2024-09-19T17:37:00.800000"
         ],
         "y": [
          11,
          6,
          2,
          3,
          4,
          3,
          1,
          5,
          4,
          4,
          3,
          10,
          13,
          7,
          6,
          11,
          9,
          10,
          12
         ]
        },
        {
         "hoverinfo": "text",
         "hovertext": [
          "<b>Topic 48</b><br>Words: ever, best, game, invention, tenouttaten",
          "<b>Topic 48</b><br>Words: ever, midway, ofcourse, best, game",
          "<b>Topic 48</b><br>Words: ever, best, third, game, one",
          "<b>Topic 48</b><br>Words: ever, trump, fave, best, game",
          "<b>Topic 48</b><br>Words: fav, period, ever, best, game",
          "<b>Topic 48</b><br>Words: ever, best, game, awesome, one",
          "<b>Topic 48</b><br>Words: ever, best, game, one, play",
          "<b>Topic 48</b><br>Words: challening, ever, best, game, one",
          "<b>Topic 48</b><br>Words: congrats, undoubtedly, ever, history, best",
          "<b>Topic 48</b><br>Words: best, even, game, one, ever",
          "<b>Topic 48</b><br>Words: arpgs, ever, star, satisfying, best",
          "<b>Topic 48</b><br>Words: ever, great, game, one, play",
          "<b>Topic 48</b><br>Words: fcking, ive, ever, best, game",
          "<b>Topic 48</b><br>Words: ever, best, game, one, think",
          "<b>Topic 48</b><br>Words: ever, god, entire, consider, best",
          "<b>Topic 48</b><br>Words: fav, ive, ever, game, best",
          "<b>Topic 48</b><br>Words: history, gaming, ever, create, top",
          "<b>Topic 48</b><br>Words: parkour, ever, best, game, around",
          "<b>Topic 48</b><br>Words: womp, oppressed, ever, fav, poop",
          "<b>Topic 48</b><br>Words: exile, pinnacle, ive, history, ever"
         ],
         "marker": {
          "color": "#CC79A7"
         },
         "mode": "lines",
         "name": "48_ever_best_game_one",
         "type": "scatter",
         "x": [
          "2014-04-20T18:06:56.036000",
          "2014-11-10T19:22:33.200000",
          "2015-05-29T20:36:41.400000",
          "2015-12-15T21:50:49.600000",
          "2016-07-02T23:04:57.800000",
          "2017-01-19T00:19:06",
          "2017-08-07T01:33:14.200000",
          "2018-02-23T02:47:22.400000",
          "2018-09-11T04:01:30.600000",
          "2019-03-30T05:15:38.800000",
          "2019-10-16T06:29:47",
          "2020-05-03T07:43:55.200000",
          "2020-11-19T08:58:03.400000",
          "2021-06-07T10:12:11.600000",
          "2021-12-24T11:26:19.800000",
          "2022-07-12T12:40:28",
          "2023-01-28T13:54:36.200000",
          "2023-08-16T15:08:44.400000",
          "2024-03-03T16:22:52.600000",
          "2024-09-19T17:37:00.800000"
         ],
         "y": [
          30,
          11,
          5,
          11,
          6,
          5,
          2,
          3,
          5,
          1,
          6,
          1,
          7,
          4,
          3,
          6,
          3,
          2,
          7,
          5
         ]
        },
        {
         "hoverinfo": "text",
         "hovertext": [
          "<b>Topic 49</b><br>Words: iron, keep, viagra, swathe, fiery",
          "<b>Topic 49</b><br>Words: iron, keep, fuckedd, lool, keepo",
          "<b>Topic 49</b><br>Words: whyyyy, iron, passage, keep, never",
          "<b>Topic 49</b><br>Words: iron, spent, keep, room, past",
          "<b>Topic 49</b><br>Words: iron, passage, keep, outskirt, frigid",
          "<b>Topic 49</b><br>Words: irrrronrn, iron, keep, big, never",
          "<b>Topic 49</b><br>Words: brume, iron, tower, keep, never",
          "<b>Topic 49</b><br>Words: iron, ahem, billion, keep, bastille",
          "<b>Topic 49</b><br>Words: iron, keep, tf, continuation, passage",
          "<b>Topic 49</b><br>Words: iron, keep, neglect, crime, harvest",
          "<b>Topic 49</b><br>Words: iron, keep, oponents, singular, ngl",
          "<b>Topic 49</b><br>Words: iron, earthen, keep, peak, hate",
          "<b>Topic 49</b><br>Words: iron, keep, gansta, hotlines, unspeakable",
          "<b>Topic 49</b><br>Words: iron, keep, thumbtack, jerry, ironkeep",
          "<b>Topic 49</b><br>Words: iron, keep, never, go, passage",
          "<b>Topic 49</b><br>Words: iron, keep, smd, farron, therapist"
         ],
         "marker": {
          "color": "#E69F00"
         },
         "mode": "lines",
         "name": "49_iron_keep_never_passage",
         "type": "scatter",
         "x": [
          "2014-04-20T18:06:56.036000",
          "2014-11-10T19:22:33.200000",
          "2015-05-29T20:36:41.400000",
          "2015-12-15T21:50:49.600000",
          "2016-07-02T23:04:57.800000",
          "2017-08-07T01:33:14.200000",
          "2019-03-30T05:15:38.800000",
          "2019-10-16T06:29:47",
          "2020-11-19T08:58:03.400000",
          "2021-06-07T10:12:11.600000",
          "2021-12-24T11:26:19.800000",
          "2022-07-12T12:40:28",
          "2023-01-28T13:54:36.200000",
          "2023-08-16T15:08:44.400000",
          "2024-03-03T16:22:52.600000",
          "2024-09-19T17:37:00.800000"
         ],
         "y": [
          3,
          3,
          1,
          2,
          2,
          1,
          1,
          1,
          7,
          7,
          10,
          3,
          17,
          17,
          24,
          22
         ]
        }
       ],
       "layout": {
        "height": 450,
        "hoverlabel": {
         "bgcolor": "white",
         "font": {
          "family": "Rockwell",
          "size": 16
         }
        },
        "legend": {
         "title": {
          "text": "<b>Global Topic Representation"
         }
        },
        "template": {
         "data": {
          "bar": [
           {
            "error_x": {
             "color": "rgb(36,36,36)"
            },
            "error_y": {
             "color": "rgb(36,36,36)"
            },
            "marker": {
             "line": {
              "color": "white",
              "width": 0.5
             },
             "pattern": {
              "fillmode": "overlay",
              "size": 10,
              "solidity": 0.2
             }
            },
            "type": "bar"
           }
          ],
          "barpolar": [
           {
            "marker": {
             "line": {
              "color": "white",
              "width": 0.5
             },
             "pattern": {
              "fillmode": "overlay",
              "size": 10,
              "solidity": 0.2
             }
            },
            "type": "barpolar"
           }
          ],
          "carpet": [
           {
            "aaxis": {
             "endlinecolor": "rgb(36,36,36)",
             "gridcolor": "white",
             "linecolor": "white",
             "minorgridcolor": "white",
             "startlinecolor": "rgb(36,36,36)"
            },
            "baxis": {
             "endlinecolor": "rgb(36,36,36)",
             "gridcolor": "white",
             "linecolor": "white",
             "minorgridcolor": "white",
             "startlinecolor": "rgb(36,36,36)"
            },
            "type": "carpet"
           }
          ],
          "choropleth": [
           {
            "colorbar": {
             "outlinewidth": 1,
             "tickcolor": "rgb(36,36,36)",
             "ticks": "outside"
            },
            "type": "choropleth"
           }
          ],
          "contour": [
           {
            "colorbar": {
             "outlinewidth": 1,
             "tickcolor": "rgb(36,36,36)",
             "ticks": "outside"
            },
            "colorscale": [
             [
              0,
              "#440154"
             ],
             [
              0.1111111111111111,
              "#482878"
             ],
             [
              0.2222222222222222,
              "#3e4989"
             ],
             [
              0.3333333333333333,
              "#31688e"
             ],
             [
              0.4444444444444444,
              "#26828e"
             ],
             [
              0.5555555555555556,
              "#1f9e89"
             ],
             [
              0.6666666666666666,
              "#35b779"
             ],
             [
              0.7777777777777778,
              "#6ece58"
             ],
             [
              0.8888888888888888,
              "#b5de2b"
             ],
             [
              1,
              "#fde725"
             ]
            ],
            "type": "contour"
           }
          ],
          "contourcarpet": [
           {
            "colorbar": {
             "outlinewidth": 1,
             "tickcolor": "rgb(36,36,36)",
             "ticks": "outside"
            },
            "type": "contourcarpet"
           }
          ],
          "heatmap": [
           {
            "colorbar": {
             "outlinewidth": 1,
             "tickcolor": "rgb(36,36,36)",
             "ticks": "outside"
            },
            "colorscale": [
             [
              0,
              "#440154"
             ],
             [
              0.1111111111111111,
              "#482878"
             ],
             [
              0.2222222222222222,
              "#3e4989"
             ],
             [
              0.3333333333333333,
              "#31688e"
             ],
             [
              0.4444444444444444,
              "#26828e"
             ],
             [
              0.5555555555555556,
              "#1f9e89"
             ],
             [
              0.6666666666666666,
              "#35b779"
             ],
             [
              0.7777777777777778,
              "#6ece58"
             ],
             [
              0.8888888888888888,
              "#b5de2b"
             ],
             [
              1,
              "#fde725"
             ]
            ],
            "type": "heatmap"
           }
          ],
          "heatmapgl": [
           {
            "colorbar": {
             "outlinewidth": 1,
             "tickcolor": "rgb(36,36,36)",
             "ticks": "outside"
            },
            "colorscale": [
             [
              0,
              "#440154"
             ],
             [
              0.1111111111111111,
              "#482878"
             ],
             [
              0.2222222222222222,
              "#3e4989"
             ],
             [
              0.3333333333333333,
              "#31688e"
             ],
             [
              0.4444444444444444,
              "#26828e"
             ],
             [
              0.5555555555555556,
              "#1f9e89"
             ],
             [
              0.6666666666666666,
              "#35b779"
             ],
             [
              0.7777777777777778,
              "#6ece58"
             ],
             [
              0.8888888888888888,
              "#b5de2b"
             ],
             [
              1,
              "#fde725"
             ]
            ],
            "type": "heatmapgl"
           }
          ],
          "histogram": [
           {
            "marker": {
             "line": {
              "color": "white",
              "width": 0.6
             }
            },
            "type": "histogram"
           }
          ],
          "histogram2d": [
           {
            "colorbar": {
             "outlinewidth": 1,
             "tickcolor": "rgb(36,36,36)",
             "ticks": "outside"
            },
            "colorscale": [
             [
              0,
              "#440154"
             ],
             [
              0.1111111111111111,
              "#482878"
             ],
             [
              0.2222222222222222,
              "#3e4989"
             ],
             [
              0.3333333333333333,
              "#31688e"
             ],
             [
              0.4444444444444444,
              "#26828e"
             ],
             [
              0.5555555555555556,
              "#1f9e89"
             ],
             [
              0.6666666666666666,
              "#35b779"
             ],
             [
              0.7777777777777778,
              "#6ece58"
             ],
             [
              0.8888888888888888,
              "#b5de2b"
             ],
             [
              1,
              "#fde725"
             ]
            ],
            "type": "histogram2d"
           }
          ],
          "histogram2dcontour": [
           {
            "colorbar": {
             "outlinewidth": 1,
             "tickcolor": "rgb(36,36,36)",
             "ticks": "outside"
            },
            "colorscale": [
             [
              0,
              "#440154"
             ],
             [
              0.1111111111111111,
              "#482878"
             ],
             [
              0.2222222222222222,
              "#3e4989"
             ],
             [
              0.3333333333333333,
              "#31688e"
             ],
             [
              0.4444444444444444,
              "#26828e"
             ],
             [
              0.5555555555555556,
              "#1f9e89"
             ],
             [
              0.6666666666666666,
              "#35b779"
             ],
             [
              0.7777777777777778,
              "#6ece58"
             ],
             [
              0.8888888888888888,
              "#b5de2b"
             ],
             [
              1,
              "#fde725"
             ]
            ],
            "type": "histogram2dcontour"
           }
          ],
          "mesh3d": [
           {
            "colorbar": {
             "outlinewidth": 1,
             "tickcolor": "rgb(36,36,36)",
             "ticks": "outside"
            },
            "type": "mesh3d"
           }
          ],
          "parcoords": [
           {
            "line": {
             "colorbar": {
              "outlinewidth": 1,
              "tickcolor": "rgb(36,36,36)",
              "ticks": "outside"
             }
            },
            "type": "parcoords"
           }
          ],
          "pie": [
           {
            "automargin": true,
            "type": "pie"
           }
          ],
          "scatter": [
           {
            "fillpattern": {
             "fillmode": "overlay",
             "size": 10,
             "solidity": 0.2
            },
            "type": "scatter"
           }
          ],
          "scatter3d": [
           {
            "line": {
             "colorbar": {
              "outlinewidth": 1,
              "tickcolor": "rgb(36,36,36)",
              "ticks": "outside"
             }
            },
            "marker": {
             "colorbar": {
              "outlinewidth": 1,
              "tickcolor": "rgb(36,36,36)",
              "ticks": "outside"
             }
            },
            "type": "scatter3d"
           }
          ],
          "scattercarpet": [
           {
            "marker": {
             "colorbar": {
              "outlinewidth": 1,
              "tickcolor": "rgb(36,36,36)",
              "ticks": "outside"
             }
            },
            "type": "scattercarpet"
           }
          ],
          "scattergeo": [
           {
            "marker": {
             "colorbar": {
              "outlinewidth": 1,
              "tickcolor": "rgb(36,36,36)",
              "ticks": "outside"
             }
            },
            "type": "scattergeo"
           }
          ],
          "scattergl": [
           {
            "marker": {
             "colorbar": {
              "outlinewidth": 1,
              "tickcolor": "rgb(36,36,36)",
              "ticks": "outside"
             }
            },
            "type": "scattergl"
           }
          ],
          "scattermapbox": [
           {
            "marker": {
             "colorbar": {
              "outlinewidth": 1,
              "tickcolor": "rgb(36,36,36)",
              "ticks": "outside"
             }
            },
            "type": "scattermapbox"
           }
          ],
          "scatterpolar": [
           {
            "marker": {
             "colorbar": {
              "outlinewidth": 1,
              "tickcolor": "rgb(36,36,36)",
              "ticks": "outside"
             }
            },
            "type": "scatterpolar"
           }
          ],
          "scatterpolargl": [
           {
            "marker": {
             "colorbar": {
              "outlinewidth": 1,
              "tickcolor": "rgb(36,36,36)",
              "ticks": "outside"
             }
            },
            "type": "scatterpolargl"
           }
          ],
          "scatterternary": [
           {
            "marker": {
             "colorbar": {
              "outlinewidth": 1,
              "tickcolor": "rgb(36,36,36)",
              "ticks": "outside"
             }
            },
            "type": "scatterternary"
           }
          ],
          "surface": [
           {
            "colorbar": {
             "outlinewidth": 1,
             "tickcolor": "rgb(36,36,36)",
             "ticks": "outside"
            },
            "colorscale": [
             [
              0,
              "#440154"
             ],
             [
              0.1111111111111111,
              "#482878"
             ],
             [
              0.2222222222222222,
              "#3e4989"
             ],
             [
              0.3333333333333333,
              "#31688e"
             ],
             [
              0.4444444444444444,
              "#26828e"
             ],
             [
              0.5555555555555556,
              "#1f9e89"
             ],
             [
              0.6666666666666666,
              "#35b779"
             ],
             [
              0.7777777777777778,
              "#6ece58"
             ],
             [
              0.8888888888888888,
              "#b5de2b"
             ],
             [
              1,
              "#fde725"
             ]
            ],
            "type": "surface"
           }
          ],
          "table": [
           {
            "cells": {
             "fill": {
              "color": "rgb(237,237,237)"
             },
             "line": {
              "color": "white"
             }
            },
            "header": {
             "fill": {
              "color": "rgb(217,217,217)"
             },
             "line": {
              "color": "white"
             }
            },
            "type": "table"
           }
          ]
         },
         "layout": {
          "annotationdefaults": {
           "arrowhead": 0,
           "arrowwidth": 1
          },
          "autotypenumbers": "strict",
          "coloraxis": {
           "colorbar": {
            "outlinewidth": 1,
            "tickcolor": "rgb(36,36,36)",
            "ticks": "outside"
           }
          },
          "colorscale": {
           "diverging": [
            [
             0,
             "rgb(103,0,31)"
            ],
            [
             0.1,
             "rgb(178,24,43)"
            ],
            [
             0.2,
             "rgb(214,96,77)"
            ],
            [
             0.3,
             "rgb(244,165,130)"
            ],
            [
             0.4,
             "rgb(253,219,199)"
            ],
            [
             0.5,
             "rgb(247,247,247)"
            ],
            [
             0.6,
             "rgb(209,229,240)"
            ],
            [
             0.7,
             "rgb(146,197,222)"
            ],
            [
             0.8,
             "rgb(67,147,195)"
            ],
            [
             0.9,
             "rgb(33,102,172)"
            ],
            [
             1,
             "rgb(5,48,97)"
            ]
           ],
           "sequential": [
            [
             0,
             "#440154"
            ],
            [
             0.1111111111111111,
             "#482878"
            ],
            [
             0.2222222222222222,
             "#3e4989"
            ],
            [
             0.3333333333333333,
             "#31688e"
            ],
            [
             0.4444444444444444,
             "#26828e"
            ],
            [
             0.5555555555555556,
             "#1f9e89"
            ],
            [
             0.6666666666666666,
             "#35b779"
            ],
            [
             0.7777777777777778,
             "#6ece58"
            ],
            [
             0.8888888888888888,
             "#b5de2b"
            ],
            [
             1,
             "#fde725"
            ]
           ],
           "sequentialminus": [
            [
             0,
             "#440154"
            ],
            [
             0.1111111111111111,
             "#482878"
            ],
            [
             0.2222222222222222,
             "#3e4989"
            ],
            [
             0.3333333333333333,
             "#31688e"
            ],
            [
             0.4444444444444444,
             "#26828e"
            ],
            [
             0.5555555555555556,
             "#1f9e89"
            ],
            [
             0.6666666666666666,
             "#35b779"
            ],
            [
             0.7777777777777778,
             "#6ece58"
            ],
            [
             0.8888888888888888,
             "#b5de2b"
            ],
            [
             1,
             "#fde725"
            ]
           ]
          },
          "colorway": [
           "#1F77B4",
           "#FF7F0E",
           "#2CA02C",
           "#D62728",
           "#9467BD",
           "#8C564B",
           "#E377C2",
           "#7F7F7F",
           "#BCBD22",
           "#17BECF"
          ],
          "font": {
           "color": "rgb(36,36,36)"
          },
          "geo": {
           "bgcolor": "white",
           "lakecolor": "white",
           "landcolor": "white",
           "showlakes": true,
           "showland": true,
           "subunitcolor": "white"
          },
          "hoverlabel": {
           "align": "left"
          },
          "hovermode": "closest",
          "mapbox": {
           "style": "light"
          },
          "paper_bgcolor": "white",
          "plot_bgcolor": "white",
          "polar": {
           "angularaxis": {
            "gridcolor": "rgb(232,232,232)",
            "linecolor": "rgb(36,36,36)",
            "showgrid": false,
            "showline": true,
            "ticks": "outside"
           },
           "bgcolor": "white",
           "radialaxis": {
            "gridcolor": "rgb(232,232,232)",
            "linecolor": "rgb(36,36,36)",
            "showgrid": false,
            "showline": true,
            "ticks": "outside"
           }
          },
          "scene": {
           "xaxis": {
            "backgroundcolor": "white",
            "gridcolor": "rgb(232,232,232)",
            "gridwidth": 2,
            "linecolor": "rgb(36,36,36)",
            "showbackground": true,
            "showgrid": false,
            "showline": true,
            "ticks": "outside",
            "zeroline": false,
            "zerolinecolor": "rgb(36,36,36)"
           },
           "yaxis": {
            "backgroundcolor": "white",
            "gridcolor": "rgb(232,232,232)",
            "gridwidth": 2,
            "linecolor": "rgb(36,36,36)",
            "showbackground": true,
            "showgrid": false,
            "showline": true,
            "ticks": "outside",
            "zeroline": false,
            "zerolinecolor": "rgb(36,36,36)"
           },
           "zaxis": {
            "backgroundcolor": "white",
            "gridcolor": "rgb(232,232,232)",
            "gridwidth": 2,
            "linecolor": "rgb(36,36,36)",
            "showbackground": true,
            "showgrid": false,
            "showline": true,
            "ticks": "outside",
            "zeroline": false,
            "zerolinecolor": "rgb(36,36,36)"
           }
          },
          "shapedefaults": {
           "fillcolor": "black",
           "line": {
            "width": 0
           },
           "opacity": 0.3
          },
          "ternary": {
           "aaxis": {
            "gridcolor": "rgb(232,232,232)",
            "linecolor": "rgb(36,36,36)",
            "showgrid": false,
            "showline": true,
            "ticks": "outside"
           },
           "baxis": {
            "gridcolor": "rgb(232,232,232)",
            "linecolor": "rgb(36,36,36)",
            "showgrid": false,
            "showline": true,
            "ticks": "outside"
           },
           "bgcolor": "white",
           "caxis": {
            "gridcolor": "rgb(232,232,232)",
            "linecolor": "rgb(36,36,36)",
            "showgrid": false,
            "showline": true,
            "ticks": "outside"
           }
          },
          "title": {
           "x": 0.05
          },
          "xaxis": {
           "automargin": true,
           "gridcolor": "rgb(232,232,232)",
           "linecolor": "rgb(36,36,36)",
           "showgrid": false,
           "showline": true,
           "ticks": "outside",
           "title": {
            "standoff": 15
           },
           "zeroline": false,
           "zerolinecolor": "rgb(36,36,36)"
          },
          "yaxis": {
           "automargin": true,
           "gridcolor": "rgb(232,232,232)",
           "linecolor": "rgb(36,36,36)",
           "showgrid": false,
           "showline": true,
           "ticks": "outside",
           "title": {
            "standoff": 15
           },
           "zeroline": false,
           "zerolinecolor": "rgb(36,36,36)"
          }
         }
        },
        "title": {
         "font": {
          "color": "Black",
          "size": 22
         },
         "text": "<b>Topics over Time</b>",
         "x": 0.4,
         "xanchor": "center",
         "y": 0.95,
         "yanchor": "top"
        },
        "width": 1250,
        "xaxis": {
         "showgrid": true
        },
        "yaxis": {
         "showgrid": true,
         "title": {
          "text": "Frequency"
         }
        }
       }
      }
     },
     "metadata": {},
     "output_type": "display_data"
    }
   ],
   "source": [
    "topic_model.visualize_topics_over_time(topics_over_time, top_n_topics=50)"
   ]
  },
  {
   "cell_type": "code",
   "execution_count": 12,
   "metadata": {},
   "outputs": [
    {
     "name": "stderr",
     "output_type": "stream",
     "text": [
      "5it [00:09,  1.97s/it]\n"
     ]
    }
   ],
   "source": [
    "topics_over_time = topic_model.topics_over_time(docs, extra_content_release, nr_bins=20)"
   ]
  },
  {
   "cell_type": "code",
   "execution_count": 13,
   "metadata": {},
   "outputs": [
    {
     "data": {
      "application/vnd.plotly.v1+json": {
       "config": {
        "plotlyServerURL": "https://plot.ly"
       },
       "data": [
        {
         "hoverinfo": "text",
         "hovertext": [
          "<b>Topic 0</b><br>Words: ow, show, till, , ",
          "<b>Topic 0</b><br>Words: ow, show, till, , ",
          "<b>Topic 0</b><br>Words: ow, show, till, , ",
          "<b>Topic 0</b><br>Words: ow, show, till, , ",
          "<b>Topic 0</b><br>Words: show, till, ow, , "
         ],
         "marker": {
          "color": "#E69F00"
         },
         "mode": "lines",
         "name": "0_ow_show_till_",
         "type": "scatter",
         "x": [
          "2014-03-10T14:44:09.600000",
          "2014-07-04T19:12:00",
          "2014-08-12T09:36:00",
          "2014-09-20T00:00:00",
          "2015-03-12T16:48:00"
         ],
         "y": [
          88,
          13,
          12,
          39,
          1847
         ]
        },
        {
         "hoverinfo": "text",
         "hovertext": [
          "<b>Topic 1</b><br>Words: covenant, player, bonfire, attack, weapon",
          "<b>Topic 1</b><br>Words: bursss, swag, shirt, takin, bur",
          "<b>Topic 1</b><br>Words: list, covenant, within, weapon, item",
          "<b>Topic 1</b><br>Words: matrixdll, character, fight, player, area",
          "<b>Topic 1</b><br>Words: attack, enemy, area, fight, player"
         ],
         "marker": {
          "color": "#56B4E9"
         },
         "mode": "lines",
         "name": "1_attack_area_enemy_player",
         "type": "scatter",
         "x": [
          "2014-03-10T14:44:09.600000",
          "2014-07-04T19:12:00",
          "2014-08-12T09:36:00",
          "2014-09-20T00:00:00",
          "2015-03-12T16:48:00"
         ],
         "y": [
          141,
          21,
          19,
          71,
          1108
         ]
        },
        {
         "hoverinfo": "text",
         "hovertext": [
          "<b>Topic 2</b><br>Words: good, as, goodin, uwu, lik",
          "<b>Topic 2</b><br>Words: good, goodin, uwu, lik, mm",
          "<b>Topic 2</b><br>Words: good, goodin, uwu, lik, mm",
          "<b>Topic 2</b><br>Words: good, pussy, goodin, uwu, lik",
          "<b>Topic 2</b><br>Words: good, goodin, uwu, lik, mm"
         ],
         "marker": {
          "color": "#009E73"
         },
         "mode": "lines",
         "name": "2_good_goodin_uwu_lik",
         "type": "scatter",
         "x": [
          "2014-03-10T14:44:09.600000",
          "2014-07-04T19:12:00",
          "2014-08-12T09:36:00",
          "2014-09-20T00:00:00",
          "2015-03-12T16:48:00"
         ],
         "y": [
          51,
          10,
          5,
          24,
          1216
         ]
        },
        {
         "hoverinfo": "text",
         "hovertext": [
          "<b>Topic 3</b><br>Words: que, de, jogo, primeiro, joc",
          "<b>Topic 3</b><br>Words: ohohohohohoho, humerus, nito, prepare, real",
          "<b>Topic 3</b><br>Words: desconhecido, difisil, chaooooo, misterioso, ajustar",
          "<b>Topic 3</b><br>Words: de, que, jogo, la, et",
          "<b>Topic 3</b><br>Words: de, que, jogo, el, la"
         ],
         "marker": {
          "color": "#F0E442"
         },
         "mode": "lines",
         "name": "3_de_que_jogo_el",
         "type": "scatter",
         "x": [
          "2014-03-10T14:44:09.600000",
          "2014-07-04T19:12:00",
          "2014-08-12T09:36:00",
          "2014-09-20T00:00:00",
          "2015-03-12T16:48:00"
         ],
         "y": [
          15,
          1,
          3,
          8,
          411
         ]
        },
        {
         "hoverinfo": "text",
         "hovertext": [
          "<b>Topic 4</b><br>Words: yes, nope, frog, yesn, yessir",
          "<b>Topic 4</b><br>Words: yes, nope, yesn, yessir, frog",
          "<b>Topic 4</b><br>Words: yes, nope, yesn, yessir, frog",
          "<b>Topic 4</b><br>Words: yes, nope, yesn, yessir, frog",
          "<b>Topic 4</b><br>Words: yes, nope, yesn, yessir, thank"
         ],
         "marker": {
          "color": "#D55E00"
         },
         "mode": "lines",
         "name": "4_yes_nope_yesn_yessir",
         "type": "scatter",
         "x": [
          "2014-03-10T14:44:09.600000",
          "2014-07-04T19:12:00",
          "2014-08-12T09:36:00",
          "2014-09-20T00:00:00",
          "2015-03-12T16:48:00"
         ],
         "y": [
          24,
          1,
          2,
          10,
          392
         ]
        },
        {
         "hoverinfo": "text",
         "hovertext": [
          "<b>Topic 5</b><br>Words: best, everrrrrrrrrrrrrrrrrrrrrrrrrrrrrrrrrrrrrrrrrrrrrrrrrrrrrrrrrrrrrrrrrrrrrrrrrrrrrrrrrrrrrrrrrrrrrrrrrrrrrrr, proper, job, lol",
          "<b>Topic 5</b><br>Words: best, everrrrrrrrrrrrrrrrrrrrrrrrrrrrrrrrrrrrrrrrrrrrrrrrrrrrrrrrrrrrrrrrrrrrrrrrrrrrrrrrrrrrrrrrrrrrrrrrrrrrrrr, proper, job, lol",
          "<b>Topic 5</b><br>Words: best, everrrrrrrrrrrrrrrrrrrrrrrrrrrrrrrrrrrrrrrrrrrrrrrrrrrrrrrrrrrrrrrrrrrrrrrrrrrrrrrrrrrrrrrrrrrrrrrrrrrrrrr, proper, job, lol",
          "<b>Topic 5</b><br>Words: best, everrrrrrrrrrrrrrrrrrrrrrrrrrrrrrrrrrrrrrrrrrrrrrrrrrrrrrrrrrrrrrrrrrrrrrrrrrrrrrrrrrrrrrrrrrrrrrrrrrrrrrr, lol, proper, job"
         ],
         "marker": {
          "color": "#0072B2"
         },
         "mode": "lines",
         "name": "5_best_everrrrrrrrrrrrrrrrrrrrrrrrrrrrrr...",
         "type": "scatter",
         "x": [
          "2014-03-10T14:44:09.600000",
          "2014-07-04T19:12:00",
          "2014-09-20T00:00:00",
          "2015-03-12T16:48:00"
         ],
         "y": [
          13,
          1,
          5,
          396
         ]
        },
        {
         "hoverinfo": "text",
         "hovertext": [
          "<b>Topic 6</b><br>Words: pvp, pve, decdicated, funnyer, servrs",
          "<b>Topic 6</b><br>Words: pvp, laggiest, moar, pve, gim",
          "<b>Topic 6</b><br>Words: deths, pvp, closet, lagger, pvping",
          "<b>Topic 6</b><br>Words: pvp, pve, ice, bugginess, slighly",
          "<b>Topic 6</b><br>Words: pvp, pve, best, hundo, singleplayer"
         ],
         "marker": {
          "color": "#CC79A7"
         },
         "mode": "lines",
         "name": "6_pvp_pve_best_hundo",
         "type": "scatter",
         "x": [
          "2014-03-10T14:44:09.600000",
          "2014-07-04T19:12:00",
          "2014-08-12T09:36:00",
          "2014-09-20T00:00:00",
          "2015-03-12T16:48:00"
         ],
         "y": [
          51,
          11,
          10,
          30,
          306
         ]
        },
        {
         "hoverinfo": "text",
         "hovertext": [
          "<b>Topic 7</b><br>Words: miyazaki, hidetaka, labrynth, solaire, director",
          "<b>Topic 7</b><br>Words: desing, overrunned, goodl, helicopter, exmaple",
          "<b>Topic 7</b><br>Words: burger, miyazaki, film, grease, team",
          "<b>Topic 7</b><br>Words: miyazaki, hidetaka, direct, director, team"
         ],
         "marker": {
          "color": "#E69F00"
         },
         "mode": "lines",
         "name": "7_miyazaki_hidetaka_direct_director",
         "type": "scatter",
         "x": [
          "2014-03-10T14:44:09.600000",
          "2014-07-04T19:12:00",
          "2014-09-20T00:00:00",
          "2015-03-12T16:48:00"
         ],
         "y": [
          13,
          3,
          6,
          364
         ]
        },
        {
         "hoverinfo": "text",
         "hovertext": [
          "<b>Topic 8</b><br>Words: challenge, challenging, eyesockets, mechancial, centry",
          "<b>Topic 8</b><br>Words: challenge, definently, challenging, handholding, ole",
          "<b>Topic 8</b><br>Words: challenge, pant, entertaining, prove, hype",
          "<b>Topic 8</b><br>Words: challenge, defenately, analytical, agrivating, unexperienced",
          "<b>Topic 8</b><br>Words: challenge, challenging, fun, enimies, amazing"
         ],
         "marker": {
          "color": "#56B4E9"
         },
         "mode": "lines",
         "name": "8_challenge_challenging_fun_amazing",
         "type": "scatter",
         "x": [
          "2014-03-10T14:44:09.600000",
          "2014-07-04T19:12:00",
          "2014-08-12T09:36:00",
          "2014-09-20T00:00:00",
          "2015-03-12T16:48:00"
         ],
         "y": [
          70,
          13,
          6,
          37,
          215
         ]
        },
        {
         "hoverinfo": "text",
         "hovertext": [
          "<b>Topic 9</b><br>Words: sun, praise, blah, hole, revengeance",
          "<b>Topic 9</b><br>Words: sun, praise, adherent, sunlight, bust",
          "<b>Topic 9</b><br>Words: sun, praise, weild, fist, dual",
          "<b>Topic 9</b><br>Words: sun, praise, praising, edit, blah",
          "<b>Topic 9</b><br>Words: sun, praise, blah, eighty, hole"
         ],
         "marker": {
          "color": "#009E73"
         },
         "mode": "lines",
         "name": "9_sun_praise_blah_hole",
         "type": "scatter",
         "x": [
          "2014-03-10T14:44:09.600000",
          "2014-07-04T19:12:00",
          "2014-08-12T09:36:00",
          "2014-09-20T00:00:00",
          "2015-03-12T16:48:00"
         ],
         "y": [
          83,
          10,
          6,
          18,
          196
         ]
        },
        {
         "hoverinfo": "text",
         "hovertext": [
          "<b>Topic 10</b><br>Words: darksouls, dark, darksoul, storybased, dissapontment",
          "<b>Topic 10</b><br>Words: darksoulsii, darksouls, exe, letdown, casual",
          "<b>Topic 10</b><br>Words: sorta, darksouls, wouldnt, unbalanced, hey",
          "<b>Topic 10</b><br>Words: darksouls, hgue, darkfog, dosent, scam",
          "<b>Topic 10</b><br>Words: darksouls, darksoul, dark, john, darks"
         ],
         "marker": {
          "color": "#F0E442"
         },
         "mode": "lines",
         "name": "10_darksouls_darksoul_dark_john",
         "type": "scatter",
         "x": [
          "2014-03-10T14:44:09.600000",
          "2014-07-04T19:12:00",
          "2014-08-12T09:36:00",
          "2014-09-20T00:00:00",
          "2015-03-12T16:48:00"
         ],
         "y": [
          31,
          3,
          1,
          9,
          265
         ]
        },
        {
         "hoverinfo": "text",
         "hovertext": [
          "<b>Topic 11</b><br>Words: great, fking, greattttt, greatttttt, outta",
          "<b>Topic 11</b><br>Words: great, fking, greattttt, greatttttt, outta",
          "<b>Topic 11</b><br>Words: great, fking, greattttt, greatttttt, outta",
          "<b>Topic 11</b><br>Words: great, everyone, fking, greattttt, greatttttt",
          "<b>Topic 11</b><br>Words: great, greattttt, greatttttt, fking, outta"
         ],
         "marker": {
          "color": "#D55E00"
         },
         "mode": "lines",
         "name": "11_great_fking_greatttttt_greattttt",
         "type": "scatter",
         "x": [
          "2014-03-10T14:44:09.600000",
          "2014-07-04T19:12:00",
          "2014-08-12T09:36:00",
          "2014-09-20T00:00:00",
          "2015-03-12T16:48:00"
         ],
         "y": [
          30,
          4,
          3,
          15,
          248
         ]
        },
        {
         "hoverinfo": "text",
         "hovertext": [
          "<b>Topic 12</b><br>Words: buy, sale, regret, fune, dotaa",
          "<b>Topic 12</b><br>Words: outrage, horny, awesomeness, angry, mad",
          "<b>Topic 12</b><br>Words: guyz, bought, sweet, twice, thats",
          "<b>Topic 12</b><br>Words: buy, twice, sale, amazoning, ike",
          "<b>Topic 12</b><br>Words: buy, sale, twice, bought, price"
         ],
         "marker": {
          "color": "#0072B2"
         },
         "mode": "lines",
         "name": "12_buy_sale_twice_bought",
         "type": "scatter",
         "x": [
          "2014-03-10T14:44:09.600000",
          "2014-07-04T19:12:00",
          "2014-08-12T09:36:00",
          "2014-09-20T00:00:00",
          "2015-03-12T16:48:00"
         ],
         "y": [
          53,
          3,
          2,
          21,
          213
         ]
        },
        {
         "hoverinfo": "text",
         "hovertext": [
          "<b>Topic 13</b><br>Words: die, willl, nutshell, owie, stuff",
          "<b>Topic 13</b><br>Words: die, owie, finna, willl, tire",
          "<b>Topic 13</b><br>Words: die, owie, finna, willl, tire",
          "<b>Topic 13</b><br>Words: die, slug, eat, massive, owie",
          "<b>Topic 13</b><br>Words: die, owie, finna, tire, yay"
         ],
         "marker": {
          "color": "#CC79A7"
         },
         "mode": "lines",
         "name": "13_die_owie_finna_willl",
         "type": "scatter",
         "x": [
          "2014-03-10T14:44:09.600000",
          "2014-07-04T19:12:00",
          "2014-08-12T09:36:00",
          "2014-09-20T00:00:00",
          "2015-03-12T16:48:00"
         ],
         "y": [
          53,
          6,
          8,
          22,
          196
         ]
        },
        {
         "hoverinfo": "text",
         "hovertext": [
          "<b>Topic 14</b><br>Words: sun, praise, sunlight, praising, ahead",
          "<b>Topic 14</b><br>Words: sun, praise, priase, sunbroing, wondrous",
          "<b>Topic 14</b><br>Words: sun, praise, suceed, adversity, bother",
          "<b>Topic 14</b><br>Words: sun, praise, consist, dontu, cry",
          "<b>Topic 14</b><br>Words: sun, praise, sunlight, sunbro, medal"
         ],
         "marker": {
          "color": "#E69F00"
         },
         "mode": "lines",
         "name": "14_sun_praise_sunlight_sunbro",
         "type": "scatter",
         "x": [
          "2014-03-10T14:44:09.600000",
          "2014-07-04T19:12:00",
          "2014-08-12T09:36:00",
          "2014-09-20T00:00:00",
          "2015-03-12T16:48:00"
         ],
         "y": [
          85,
          11,
          4,
          18,
          152
         ]
        },
        {
         "hoverinfo": "text",
         "hovertext": [
          "<b>Topic 15</b><br>Words: guerillimo, flims, toro, dlc, rekindle",
          "<b>Topic 15</b><br>Words: adition, recommand, trully, imagination, abuse",
          "<b>Topic 15</b><br>Words: hench, foreward, dlc, belt, casually",
          "<b>Topic 15</b><br>Words: dlc, fuffilling, puchase, deadlocked, omg",
          "<b>Topic 15</b><br>Words: dlc, dlcs, content, base, include"
         ],
         "marker": {
          "color": "#56B4E9"
         },
         "mode": "lines",
         "name": "15_dlc_dlcs_content_base",
         "type": "scatter",
         "x": [
          "2014-03-10T14:44:09.600000",
          "2014-07-04T19:12:00",
          "2014-08-12T09:36:00",
          "2014-09-20T00:00:00",
          "2015-03-12T16:48:00"
         ],
         "y": [
          7,
          2,
          7,
          16,
          235
         ]
        },
        {
         "hoverinfo": "text",
         "hovertext": [
          "<b>Topic 16</b><br>Words: hitboxes, erroneous, expiration, blisteringly, hitbox",
          "<b>Topic 16</b><br>Words: autotargeting, lagstabs, hitbox, glitch, hitboxes",
          "<b>Topic 16</b><br>Words: ok, biscuit, hitboxes, hitbox, wierd",
          "<b>Topic 16</b><br>Words: hitboxes, hitbox, box, hit, shitty"
         ],
         "marker": {
          "color": "#009E73"
         },
         "mode": "lines",
         "name": "16_hitboxes_hitbox_box_hit",
         "type": "scatter",
         "x": [
          "2014-03-10T14:44:09.600000",
          "2014-07-04T19:12:00",
          "2014-09-20T00:00:00",
          "2015-03-12T16:48:00"
         ],
         "y": [
          9,
          2,
          4,
          246
         ]
        },
        {
         "hoverinfo": "text",
         "hovertext": [
          "<b>Topic 17</b><br>Words: fun, crazy, know, people, cassual",
          "<b>Topic 17</b><br>Words: fun, cassual, funnn, ha, spambush",
          "<b>Topic 17</b><br>Words: fun, cassual, funnn, ha, spambush",
          "<b>Topic 17</b><br>Words: fun, cassual, funnn, ha, spambush",
          "<b>Topic 17</b><br>Words: fun, cassual, funnn, ha, spambush"
         ],
         "marker": {
          "color": "#F0E442"
         },
         "mode": "lines",
         "name": "17_fun_cassual_funnn_ha",
         "type": "scatter",
         "x": [
          "2014-03-10T14:44:09.600000",
          "2014-07-04T19:12:00",
          "2014-08-12T09:36:00",
          "2014-09-20T00:00:00",
          "2015-03-12T16:48:00"
         ],
         "y": [
          10,
          1,
          1,
          2,
          236
         ]
        },
        {
         "hoverinfo": "text",
         "hovertext": [
          "<b>Topic 18</b><br>Words: git, gud, dye, serwery, jihad",
          "<b>Topic 18</b><br>Words: git, gud, seperating, casuals, antimage",
          "<b>Topic 18</b><br>Words: git, gud, jihad, gitgud, read",
          "<b>Topic 18</b><br>Words: git, gud, gits, antimage, phag"
         ],
         "marker": {
          "color": "#D55E00"
         },
         "mode": "lines",
         "name": "18_git_gud_hreatest_gits",
         "type": "scatter",
         "x": [
          "2014-03-10T14:44:09.600000",
          "2014-07-04T19:12:00",
          "2014-09-20T00:00:00",
          "2015-03-12T16:48:00"
         ],
         "y": [
          16,
          3,
          4,
          221
         ]
        },
        {
         "hoverinfo": "text",
         "hovertext": [
          "<b>Topic 19</b><br>Words: nice, niceeeeeeeeeee, yi, yes, yeah",
          "<b>Topic 19</b><br>Words: nice, niceeeeeeeeeee, yi, yes, yeah",
          "<b>Topic 19</b><br>Words: nice, yeah, yes, niceeeeeeeeeee, yi",
          "<b>Topic 19</b><br>Words: nice, niceeeeeeeeeee, yi, yes, yeah"
         ],
         "marker": {
          "color": "#0072B2"
         },
         "mode": "lines",
         "name": "19_nice_niceeeeeeeeeee_yi_yes",
         "type": "scatter",
         "x": [
          "2014-03-10T14:44:09.600000",
          "2014-08-12T09:36:00",
          "2014-09-20T00:00:00",
          "2015-03-12T16:48:00"
         ],
         "y": [
          6,
          1,
          4,
          223
         ]
        },
        {
         "hoverinfo": "text",
         "hovertext": [
          "<b>Topic 20</b><br>Words: bad, scary, wasnt, sorry, meh",
          "<b>Topic 20</b><br>Words: bad, scary, wasnt, sorry, meh",
          "<b>Topic 20</b><br>Words: bad, scary, wasnt, sorry, meh"
         ],
         "marker": {
          "color": "#CC79A7"
         },
         "mode": "lines",
         "name": "20_bad_scary_wasnt_sorry",
         "type": "scatter",
         "x": [
          "2014-03-10T14:44:09.600000",
          "2014-09-20T00:00:00",
          "2015-03-12T16:48:00"
         ],
         "y": [
          3,
          2,
          229
         ]
        },
        {
         "hoverinfo": "text",
         "hovertext": [
          "<b>Topic 21</b><br>Words: port, pc, console, xbox, mouse",
          "<b>Topic 21</b><br>Words: port, joystick, menu, downward, pc",
          "<b>Topic 21</b><br>Words: window, live, port, decent, around",
          "<b>Topic 21</b><br>Words: port, console, pc, button, mouse",
          "<b>Topic 21</b><br>Words: port, pc, console, keyboard, mouse"
         ],
         "marker": {
          "color": "#E69F00"
         },
         "mode": "lines",
         "name": "21_port_pc_console_keyboard",
         "type": "scatter",
         "x": [
          "2014-03-10T14:44:09.600000",
          "2014-07-04T19:12:00",
          "2014-08-12T09:36:00",
          "2014-09-20T00:00:00",
          "2015-03-12T16:48:00"
         ],
         "y": [
          85,
          4,
          1,
          22,
          105
         ]
        },
        {
         "hoverinfo": "text",
         "hovertext": [
          "<b>Topic 22</b><br>Words: rage, anger, quit, induce, contiuned",
          "<b>Topic 22</b><br>Words: rage, tourette, uncountable, quits, esteem",
          "<b>Topic 22</b><br>Words: rage, conditon, squids, looks, uncontrollable",
          "<b>Topic 22</b><br>Words: rage, quit, anger, fury, angry",
          "<b>Topic 22</b><br>Words: rage, anger, quit, angry, induce"
         ],
         "marker": {
          "color": "#56B4E9"
         },
         "mode": "lines",
         "name": "22_rage_anger_quit_angry",
         "type": "scatter",
         "x": [
          "2014-03-10T14:44:09.600000",
          "2014-07-04T19:12:00",
          "2014-08-12T09:36:00",
          "2014-09-20T00:00:00",
          "2015-03-12T16:48:00"
         ],
         "y": [
          43,
          6,
          5,
          21,
          132
         ]
        },
        {
         "hoverinfo": "text",
         "hovertext": [
          "<b>Topic 23</b><br>Words: ever, best, bestes, category, xd",
          "<b>Topic 23</b><br>Words: ever, best, sombre, peev, foooooooorrrrrrrrr",
          "<b>Topic 23</b><br>Words: ever, everrrrrrrrrr, aloud, best, pussy",
          "<b>Topic 23</b><br>Words: ever, horry, shet, best, sombre",
          "<b>Topic 23</b><br>Words: ever, best, sombre, peev, greatt"
         ],
         "marker": {
          "color": "#009E73"
         },
         "mode": "lines",
         "name": "23_ever_best_sombre_shet",
         "type": "scatter",
         "x": [
          "2014-03-10T14:44:09.600000",
          "2014-07-04T19:12:00",
          "2014-08-12T09:36:00",
          "2014-09-20T00:00:00",
          "2015-03-12T16:48:00"
         ],
         "y": [
          49,
          3,
          9,
          18,
          126
         ]
        },
        {
         "hoverinfo": "text",
         "hovertext": [
          "<b>Topic 24</b><br>Words: rpg, rpgs, action, fantasy, best",
          "<b>Topic 24</b><br>Words: rpg, action, portuguese, sucked, brazilian",
          "<b>Topic 24</b><br>Words: rpg, action, fantasy, rpgs, ever",
          "<b>Topic 24</b><br>Words: rpg, action, broad, soe, olmost",
          "<b>Topic 24</b><br>Words: rpg, action, rpgs, fantasy, best"
         ],
         "marker": {
          "color": "#F0E442"
         },
         "mode": "lines",
         "name": "24_rpg_action_rpgs_fantasy",
         "type": "scatter",
         "x": [
          "2014-03-10T14:44:09.600000",
          "2014-07-04T19:12:00",
          "2014-08-12T09:36:00",
          "2014-09-20T00:00:00",
          "2015-03-12T16:48:00"
         ],
         "y": [
          54,
          10,
          6,
          23,
          104
         ]
        },
        {
         "hoverinfo": "text",
         "hovertext": [
          "<b>Topic 25</b><br>Words: soulsborne, soulsbourne, soulsgame, soulslike, soulsborn"
         ],
         "marker": {
          "color": "#D55E00"
         },
         "mode": "lines",
         "name": "25_soulsborne_soulsbourne_soulsgame_soul...",
         "type": "scatter",
         "x": [
          "2015-03-12T16:48:00"
         ],
         "y": [
          192
         ]
        },
        {
         "hoverinfo": "text",
         "hovertext": [
          "<b>Topic 26</b><br>Words: controller, vibrate, break, monitor, shit",
          "<b>Topic 26</b><br>Words: eng, aggravate, controller, pls, monitor",
          "<b>Topic 26</b><br>Words: moniters, controller, hype, rating, worthy",
          "<b>Topic 26</b><br>Words: controller, rocking, rager, nuff, brake",
          "<b>Topic 26</b><br>Words: controller, break, smash, bubble, wojak"
         ],
         "marker": {
          "color": "#0072B2"
         },
         "mode": "lines",
         "name": "26_controller_break_smash_bubble",
         "type": "scatter",
         "x": [
          "2014-03-10T14:44:09.600000",
          "2014-07-04T19:12:00",
          "2014-08-12T09:36:00",
          "2014-09-20T00:00:00",
          "2015-03-12T16:48:00"
         ],
         "y": [
          52,
          3,
          4,
          11,
          114
         ]
        },
        {
         "hoverinfo": "text",
         "hovertext": [
          "<b>Topic 27</b><br>Words: review, approves, uncasual, jong, kim",
          "<b>Topic 27</b><br>Words: review, negative, classy, robert, ginger",
          "<b>Topic 27</b><br>Words: review, negative, approve, write, rate"
         ],
         "marker": {
          "color": "#CC79A7"
         },
         "mode": "lines",
         "name": "27_review_negative_approves_approve",
         "type": "scatter",
         "x": [
          "2014-03-10T14:44:09.600000",
          "2014-09-20T00:00:00",
          "2015-03-12T16:48:00"
         ],
         "y": [
          15,
          13,
          154
         ]
        },
        {
         "hoverinfo": "text",
         "hovertext": [
          "<b>Topic 28</b><br>Words: hate, ing, thanks, homies, platinumed",
          "<b>Topic 28</b><br>Words: hate, ing, thanks, homies, platinumed",
          "<b>Topic 28</b><br>Words: hate, ing, thanks, homies, platinumed",
          "<b>Topic 28</b><br>Words: hate, ing, thanks, homies, platinumed",
          "<b>Topic 28</b><br>Words: hate, ing, thanks, homies, platinumed"
         ],
         "marker": {
          "color": "#E69F00"
         },
         "mode": "lines",
         "name": "28_hate_ing_thanks_homies",
         "type": "scatter",
         "x": [
          "2014-03-10T14:44:09.600000",
          "2014-07-04T19:12:00",
          "2014-08-12T09:36:00",
          "2014-09-20T00:00:00",
          "2015-03-12T16:48:00"
         ],
         "y": [
          7,
          1,
          2,
          1,
          166
         ]
        },
        {
         "hoverinfo": "text",
         "hovertext": [
          "<b>Topic 29</b><br>Words: ok, oka, wowcool, iz, ya",
          "<b>Topic 29</b><br>Words: ok, oka, wowcool, iz, ya",
          "<b>Topic 29</b><br>Words: ok, oka, wowcool, iz, ya",
          "<b>Topic 29</b><br>Words: ok, oka, wowcool, iz, ya",
          "<b>Topic 29</b><br>Words: ok, oka, wowcool, iz, ya"
         ],
         "marker": {
          "color": "#56B4E9"
         },
         "mode": "lines",
         "name": "29_ok_wowcool_oka_iz",
         "type": "scatter",
         "x": [
          "2014-03-10T14:44:09.600000",
          "2014-07-04T19:12:00",
          "2014-08-12T09:36:00",
          "2014-09-20T00:00:00",
          "2015-03-12T16:48:00"
         ],
         "y": [
          14,
          4,
          2,
          11,
          145
         ]
        },
        {
         "hoverinfo": "text",
         "hovertext": [
          "<b>Topic 30</b><br>Words: keyboard, mouse, control, controller, unplayable",
          "<b>Topic 30</b><br>Words: keyboard, mouse, literaly, insulting, satan",
          "<b>Topic 30</b><br>Words: mouse, keyboard, sani, dollers, print",
          "<b>Topic 30</b><br>Words: keyboard, mouse, control, unplayable, controller"
         ],
         "marker": {
          "color": "#009E73"
         },
         "mode": "lines",
         "name": "30_keyboard_mouse_control_unplayable",
         "type": "scatter",
         "x": [
          "2014-03-10T14:44:09.600000",
          "2014-07-04T19:12:00",
          "2014-09-20T00:00:00",
          "2015-03-12T16:48:00"
         ],
         "y": [
          48,
          4,
          6,
          116
         ]
        },
        {
         "hoverinfo": "text",
         "hovertext": [
          "<b>Topic 31</b><br>Words: gud, relly, gude, lief, gued",
          "<b>Topic 31</b><br>Words: gued, gud, super, gude, guwd",
          "<b>Topic 31</b><br>Words: ittttttttt, gud, gude, lief, gued",
          "<b>Topic 31</b><br>Words: gud, es, gude, gued, guwd",
          "<b>Topic 31</b><br>Words: gud, gude, lief, guwd, neckbeards"
         ],
         "marker": {
          "color": "#F0E442"
         },
         "mode": "lines",
         "name": "31_gud_gude_lief_gued",
         "type": "scatter",
         "x": [
          "2014-03-10T14:44:09.600000",
          "2014-07-04T19:12:00",
          "2014-08-12T09:36:00",
          "2014-09-20T00:00:00",
          "2015-03-12T16:48:00"
         ],
         "y": [
          4,
          2,
          1,
          3,
          160
         ]
        },
        {
         "hoverinfo": "text",
         "hovertext": [
          "<b>Topic 32</b><br>Words: recommend, gay, bcuz, recomended, highly",
          "<b>Topic 32</b><br>Words: solaire, recommend, would, highly, recommended",
          "<b>Topic 32</b><br>Words: recommend, highly, yes, would, give",
          "<b>Topic 32</b><br>Words: recommend, crazy, totally, yeah, ok",
          "<b>Topic 32</b><br>Words: recommend, highly, recommended, recomended, reef"
         ],
         "marker": {
          "color": "#D55E00"
         },
         "mode": "lines",
         "name": "32_recommend_highly_recommended_recomend...",
         "type": "scatter",
         "x": [
          "2014-03-10T14:44:09.600000",
          "2014-07-04T19:12:00",
          "2014-08-12T09:36:00",
          "2014-09-20T00:00:00",
          "2015-03-12T16:48:00"
         ],
         "y": [
          18,
          1,
          4,
          8,
          139
         ]
        },
        {
         "hoverinfo": "text",
         "hovertext": [
          "<b>Topic 33</b><br>Words: love, grrrrr, fkin, frist, geforce",
          "<b>Topic 33</b><br>Words: love, grrrrr, fkin, frist, geforce",
          "<b>Topic 33</b><br>Words: love, grrrrr, fkin, frist, geforce",
          "<b>Topic 33</b><br>Words: love, grrrrr, fkin, frist, geforce",
          "<b>Topic 33</b><br>Words: love, grrrrr, fkin, frist, geforce"
         ],
         "marker": {
          "color": "#0072B2"
         },
         "mode": "lines",
         "name": "33_love_grrrrr_frist_fkin",
         "type": "scatter",
         "x": [
          "2014-03-10T14:44:09.600000",
          "2014-07-04T19:12:00",
          "2014-08-12T09:36:00",
          "2014-09-20T00:00:00",
          "2015-03-12T16:48:00"
         ],
         "y": [
          14,
          3,
          2,
          11,
          132
         ]
        },
        {
         "hoverinfo": "text",
         "hovertext": [
          "<b>Topic 34</b><br>Words: soulless, dissapointing, merely, ever, apparently",
          "<b>Topic 34</b><br>Words: haha, xd, kick, plus, predecessor",
          "<b>Topic 34</b><br>Words: bad, ive, ever, displeasure, play"
         ],
         "marker": {
          "color": "#CC79A7"
         },
         "mode": "lines",
         "name": "34_bad_ever_ive_displeasure",
         "type": "scatter",
         "x": [
          "2014-03-10T14:44:09.600000",
          "2014-09-20T00:00:00",
          "2015-03-12T16:48:00"
         ],
         "y": [
          8,
          1,
          148
         ]
        },
        {
         "hoverinfo": "text",
         "hovertext": [
          "<b>Topic 35</b><br>Words: janky, jank, helpless, jankier, mile"
         ],
         "marker": {
          "color": "#E69F00"
         },
         "mode": "lines",
         "name": "35_janky_jank_helpless_jankier",
         "type": "scatter",
         "x": [
          "2015-03-12T16:48:00"
         ],
         "y": [
          155
         ]
        },
        {
         "hoverinfo": "text",
         "hovertext": [
          "<b>Topic 36</b><br>Words: would, die, pole, wash, definately",
          "<b>Topic 36</b><br>Words: would, cry, flask, die, ruuined",
          "<b>Topic 36</b><br>Words: would, die, ruuined, rape, bladder",
          "<b>Topic 36</b><br>Words: would, die, rape, bladder, burst",
          "<b>Topic 36</b><br>Words: would, die, ruuined, tenouttaten, somebody"
         ],
         "marker": {
          "color": "#56B4E9"
         },
         "mode": "lines",
         "name": "36_would_die_ruuined_rape",
         "type": "scatter",
         "x": [
          "2014-03-10T14:44:09.600000",
          "2014-07-04T19:12:00",
          "2014-08-12T09:36:00",
          "2014-09-20T00:00:00",
          "2015-03-12T16:48:00"
         ],
         "y": [
          41,
          4,
          4,
          23,
          82
         ]
        },
        {
         "hoverinfo": "text",
         "hovertext": [
          "<b>Topic 37</b><br>Words: peak, midsouls, sebralo, tuah, peaksouls"
         ],
         "marker": {
          "color": "#009E73"
         },
         "mode": "lines",
         "name": "37_peak_sebralo_midsouls_tuah",
         "type": "scatter",
         "x": [
          "2015-03-12T16:48:00"
         ],
         "y": [
          153
         ]
        },
        {
         "hoverinfo": "text",
         "hovertext": [
          "<b>Topic 38</b><br>Words: bloodborne, inside, blood, atm, wait",
          "<b>Topic 38</b><br>Words: bloodborne, bring, pc, well, bloodborn",
          "<b>Topic 38</b><br>Words: heee, bloodborne, stench, tee, headset",
          "<b>Topic 38</b><br>Words: bloodborne, bloodborn, kart, blood, pc"
         ],
         "marker": {
          "color": "#F0E442"
         },
         "mode": "lines",
         "name": "38_bloodborne_bloodborn_blood_kart",
         "type": "scatter",
         "x": [
          "2014-03-10T14:44:09.600000",
          "2014-07-04T19:12:00",
          "2014-09-20T00:00:00",
          "2015-03-12T16:48:00"
         ],
         "y": [
          5,
          1,
          3,
          142
         ]
        },
        {
         "hoverinfo": "text",
         "hovertext": [
          "<b>Topic 39</b><br>Words: flaw, regeret, derped, petition, wouldve",
          "<b>Topic 39</b><br>Words: recomending, somone, machanics, flaw, confuse",
          "<b>Topic 39</b><br>Words: flaw, despite, masterpiece, astonishing, flawed"
         ],
         "marker": {
          "color": "#D55E00"
         },
         "mode": "lines",
         "name": "39_flaw_despite_masterpiece_astonishing",
         "type": "scatter",
         "x": [
          "2014-03-10T14:44:09.600000",
          "2014-07-04T19:12:00",
          "2015-03-12T16:48:00"
         ],
         "y": [
          7,
          1,
          142
         ]
        },
        {
         "hoverinfo": "text",
         "hovertext": [
          "<b>Topic 40</b><br>Words: elden, ring, doo, multiplayer, remastered"
         ],
         "marker": {
          "color": "#0072B2"
         },
         "mode": "lines",
         "name": "40_elden_ring_doo_multiplayer",
         "type": "scatter",
         "x": [
          "2015-03-12T16:48:00"
         ],
         "y": [
          140
         ]
        },
        {
         "hoverinfo": "text",
         "hovertext": [
          "<b>Topic 41</b><br>Words: sequel, indirect, indirectly, ii, previous",
          "<b>Topic 41</b><br>Words: astonishin, buybuybuybuybuy, tightness, unite, slack",
          "<b>Topic 41</b><br>Words: sequel, tourism, preperation, unresolved, witcher",
          "<b>Topic 41</b><br>Words: sequel, harmless, portal, translate, plotting",
          "<b>Topic 41</b><br>Words: sequel, ii, unafraid, production, story"
         ],
         "marker": {
          "color": "#CC79A7"
         },
         "mode": "lines",
         "name": "41_sequel_indirect_indirectly_ii",
         "type": "scatter",
         "x": [
          "2014-03-10T14:44:09.600000",
          "2014-07-04T19:12:00",
          "2014-08-12T09:36:00",
          "2014-09-20T00:00:00",
          "2015-03-12T16:48:00"
         ],
         "y": [
          43,
          4,
          8,
          13,
          71
         ]
        },
        {
         "hoverinfo": "text",
         "hovertext": [
          "<b>Topic 42</b><br>Words: awesome, sweet, totally, bro, usual",
          "<b>Topic 42</b><br>Words: awesome, sweet, bro, usual, till",
          "<b>Topic 42</b><br>Words: awesome, sweet, bro, usual, till",
          "<b>Topic 42</b><br>Words: awesome, sweet, bro, usual, till",
          "<b>Topic 42</b><br>Words: awesome, sweet, usual, till, bro"
         ],
         "marker": {
          "color": "#E69F00"
         },
         "mode": "lines",
         "name": "42_awesome_sweet_bro_usual",
         "type": "scatter",
         "x": [
          "2014-03-10T14:44:09.600000",
          "2014-07-04T19:12:00",
          "2014-08-12T09:36:00",
          "2014-09-20T00:00:00",
          "2015-03-12T16:48:00"
         ],
         "y": [
          31,
          3,
          3,
          11,
          91
         ]
        },
        {
         "hoverinfo": "text",
         "hovertext": [
          "<b>Topic 43</b><br>Words: replay, value, replayability, hadnle, replayablity",
          "<b>Topic 43</b><br>Words: replayability, class, remember, replay, quite",
          "<b>Topic 43</b><br>Words: replay, replayability, value, potentcial, comining",
          "<b>Topic 43</b><br>Words: replay, replayability, value, replayable, derank"
         ],
         "marker": {
          "color": "#56B4E9"
         },
         "mode": "lines",
         "name": "43_replay_replayability_value_replayable",
         "type": "scatter",
         "x": [
          "2014-03-10T14:44:09.600000",
          "2014-07-04T19:12:00",
          "2014-09-20T00:00:00",
          "2015-03-12T16:48:00"
         ],
         "y": [
          18,
          2,
          11,
          103
         ]
        },
        {
         "hoverinfo": "text",
         "hovertext": [
          "<b>Topic 44</b><br>Words: ez, noobz, ezgame, ezlife, pwn",
          "<b>Topic 44</b><br>Words: ez, ezpz, life, gg, pz",
          "<b>Topic 44</b><br>Words: ez, egdes, pz, ftw, hidden",
          "<b>Topic 44</b><br>Words: ez, sik, coz, gg, pz",
          "<b>Topic 44</b><br>Words: ez, gg, pz, ztg, og"
         ],
         "marker": {
          "color": "#009E73"
         },
         "mode": "lines",
         "name": "44_ez_gg_pz_ztg",
         "type": "scatter",
         "x": [
          "2014-03-10T14:44:09.600000",
          "2014-07-04T19:12:00",
          "2014-08-12T09:36:00",
          "2014-09-20T00:00:00",
          "2015-03-12T16:48:00"
         ],
         "y": [
          15,
          4,
          3,
          6,
          101
         ]
        },
        {
         "hoverinfo": "text",
         "hovertext": [
          "<b>Topic 45</b><br>Words: demon, ghouls, loved, francise, ride",
          "<b>Topic 45</b><br>Words: molly, soil, whos, satan, demon",
          "<b>Topic 45</b><br>Words: eachother, demon, masterbated, challanging, differance",
          "<b>Topic 45</b><br>Words: demon, arived, waist, hmmm, campfire",
          "<b>Topic 45</b><br>Words: demon, zeta, kuess, satanist, waayyyy"
         ],
         "marker": {
          "color": "#F0E442"
         },
         "mode": "lines",
         "name": "45_demon_eachother_satan_ride",
         "type": "scatter",
         "x": [
          "2014-03-10T14:44:09.600000",
          "2014-07-04T19:12:00",
          "2014-08-12T09:36:00",
          "2014-09-20T00:00:00",
          "2015-03-12T16:48:00"
         ],
         "y": [
          32,
          6,
          7,
          10,
          73
         ]
        },
        {
         "hoverinfo": "text",
         "hovertext": [
          "<b>Topic 46</b><br>Words: bad, good, ding, bading, tarkov",
          "<b>Topic 46</b><br>Words: as, enough, bad, say, ding",
          "<b>Topic 46</b><br>Words: imho, isnt, bad, well, ding",
          "<b>Topic 46</b><br>Words: bad, ding, bading, tarkov, conceivable"
         ],
         "marker": {
          "color": "#D55E00"
         },
         "mode": "lines",
         "name": "46_bad_ding_bading_tarkov",
         "type": "scatter",
         "x": [
          "2014-03-10T14:44:09.600000",
          "2014-08-12T09:36:00",
          "2014-09-20T00:00:00",
          "2015-03-12T16:48:00"
         ],
         "y": [
          1,
          1,
          1,
          125
         ]
        },
        {
         "hoverinfo": "text",
         "hovertext": [
          "<b>Topic 47</b><br>Words: exact, like, idk, noise, there",
          "<b>Topic 47</b><br>Words: wow, like, idk, noise, there",
          "<b>Topic 47</b><br>Words: like, idk, noise, there, grow"
         ],
         "marker": {
          "color": "#0072B2"
         },
         "mode": "lines",
         "name": "47_like_idk_noise_there",
         "type": "scatter",
         "x": [
          "2014-03-10T14:44:09.600000",
          "2014-09-20T00:00:00",
          "2015-03-12T16:48:00"
         ],
         "y": [
          10,
          5,
          109
         ]
        },
        {
         "hoverinfo": "text",
         "hovertext": [
          "<b>Topic 48</b><br>Words: ever, best, invention, game, culminate",
          "<b>Topic 48</b><br>Words: relentless, awesome, ever, game, one",
          "<b>Topic 48</b><br>Words: tenouttaten, escape, ever, best, stick",
          "<b>Topic 48</b><br>Words: ever, midway, ofcourse, best, game",
          "<b>Topic 48</b><br>Words: ever, best, game, womp, one"
         ],
         "marker": {
          "color": "#CC79A7"
         },
         "mode": "lines",
         "name": "48_ever_best_game_one",
         "type": "scatter",
         "x": [
          "2014-03-10T14:44:09.600000",
          "2014-07-04T19:12:00",
          "2014-08-12T09:36:00",
          "2014-09-20T00:00:00",
          "2015-03-12T16:48:00"
         ],
         "y": [
          23,
          1,
          3,
          12,
          84
         ]
        },
        {
         "hoverinfo": "text",
         "hovertext": [
          "<b>Topic 49</b><br>Words: iron, keep, viagra, swathe, fiery",
          "<b>Topic 49</b><br>Words: iron, keep, never, passage, go"
         ],
         "marker": {
          "color": "#E69F00"
         },
         "mode": "lines",
         "name": "49_iron_keep_never_passage",
         "type": "scatter",
         "x": [
          "2014-03-10T14:44:09.600000",
          "2015-03-12T16:48:00"
         ],
         "y": [
          3,
          118
         ]
        }
       ],
       "layout": {
        "height": 450,
        "hoverlabel": {
         "bgcolor": "white",
         "font": {
          "family": "Rockwell",
          "size": 16
         }
        },
        "legend": {
         "title": {
          "text": "<b>Global Topic Representation"
         }
        },
        "template": {
         "data": {
          "bar": [
           {
            "error_x": {
             "color": "rgb(36,36,36)"
            },
            "error_y": {
             "color": "rgb(36,36,36)"
            },
            "marker": {
             "line": {
              "color": "white",
              "width": 0.5
             },
             "pattern": {
              "fillmode": "overlay",
              "size": 10,
              "solidity": 0.2
             }
            },
            "type": "bar"
           }
          ],
          "barpolar": [
           {
            "marker": {
             "line": {
              "color": "white",
              "width": 0.5
             },
             "pattern": {
              "fillmode": "overlay",
              "size": 10,
              "solidity": 0.2
             }
            },
            "type": "barpolar"
           }
          ],
          "carpet": [
           {
            "aaxis": {
             "endlinecolor": "rgb(36,36,36)",
             "gridcolor": "white",
             "linecolor": "white",
             "minorgridcolor": "white",
             "startlinecolor": "rgb(36,36,36)"
            },
            "baxis": {
             "endlinecolor": "rgb(36,36,36)",
             "gridcolor": "white",
             "linecolor": "white",
             "minorgridcolor": "white",
             "startlinecolor": "rgb(36,36,36)"
            },
            "type": "carpet"
           }
          ],
          "choropleth": [
           {
            "colorbar": {
             "outlinewidth": 1,
             "tickcolor": "rgb(36,36,36)",
             "ticks": "outside"
            },
            "type": "choropleth"
           }
          ],
          "contour": [
           {
            "colorbar": {
             "outlinewidth": 1,
             "tickcolor": "rgb(36,36,36)",
             "ticks": "outside"
            },
            "colorscale": [
             [
              0,
              "#440154"
             ],
             [
              0.1111111111111111,
              "#482878"
             ],
             [
              0.2222222222222222,
              "#3e4989"
             ],
             [
              0.3333333333333333,
              "#31688e"
             ],
             [
              0.4444444444444444,
              "#26828e"
             ],
             [
              0.5555555555555556,
              "#1f9e89"
             ],
             [
              0.6666666666666666,
              "#35b779"
             ],
             [
              0.7777777777777778,
              "#6ece58"
             ],
             [
              0.8888888888888888,
              "#b5de2b"
             ],
             [
              1,
              "#fde725"
             ]
            ],
            "type": "contour"
           }
          ],
          "contourcarpet": [
           {
            "colorbar": {
             "outlinewidth": 1,
             "tickcolor": "rgb(36,36,36)",
             "ticks": "outside"
            },
            "type": "contourcarpet"
           }
          ],
          "heatmap": [
           {
            "colorbar": {
             "outlinewidth": 1,
             "tickcolor": "rgb(36,36,36)",
             "ticks": "outside"
            },
            "colorscale": [
             [
              0,
              "#440154"
             ],
             [
              0.1111111111111111,
              "#482878"
             ],
             [
              0.2222222222222222,
              "#3e4989"
             ],
             [
              0.3333333333333333,
              "#31688e"
             ],
             [
              0.4444444444444444,
              "#26828e"
             ],
             [
              0.5555555555555556,
              "#1f9e89"
             ],
             [
              0.6666666666666666,
              "#35b779"
             ],
             [
              0.7777777777777778,
              "#6ece58"
             ],
             [
              0.8888888888888888,
              "#b5de2b"
             ],
             [
              1,
              "#fde725"
             ]
            ],
            "type": "heatmap"
           }
          ],
          "heatmapgl": [
           {
            "colorbar": {
             "outlinewidth": 1,
             "tickcolor": "rgb(36,36,36)",
             "ticks": "outside"
            },
            "colorscale": [
             [
              0,
              "#440154"
             ],
             [
              0.1111111111111111,
              "#482878"
             ],
             [
              0.2222222222222222,
              "#3e4989"
             ],
             [
              0.3333333333333333,
              "#31688e"
             ],
             [
              0.4444444444444444,
              "#26828e"
             ],
             [
              0.5555555555555556,
              "#1f9e89"
             ],
             [
              0.6666666666666666,
              "#35b779"
             ],
             [
              0.7777777777777778,
              "#6ece58"
             ],
             [
              0.8888888888888888,
              "#b5de2b"
             ],
             [
              1,
              "#fde725"
             ]
            ],
            "type": "heatmapgl"
           }
          ],
          "histogram": [
           {
            "marker": {
             "line": {
              "color": "white",
              "width": 0.6
             }
            },
            "type": "histogram"
           }
          ],
          "histogram2d": [
           {
            "colorbar": {
             "outlinewidth": 1,
             "tickcolor": "rgb(36,36,36)",
             "ticks": "outside"
            },
            "colorscale": [
             [
              0,
              "#440154"
             ],
             [
              0.1111111111111111,
              "#482878"
             ],
             [
              0.2222222222222222,
              "#3e4989"
             ],
             [
              0.3333333333333333,
              "#31688e"
             ],
             [
              0.4444444444444444,
              "#26828e"
             ],
             [
              0.5555555555555556,
              "#1f9e89"
             ],
             [
              0.6666666666666666,
              "#35b779"
             ],
             [
              0.7777777777777778,
              "#6ece58"
             ],
             [
              0.8888888888888888,
              "#b5de2b"
             ],
             [
              1,
              "#fde725"
             ]
            ],
            "type": "histogram2d"
           }
          ],
          "histogram2dcontour": [
           {
            "colorbar": {
             "outlinewidth": 1,
             "tickcolor": "rgb(36,36,36)",
             "ticks": "outside"
            },
            "colorscale": [
             [
              0,
              "#440154"
             ],
             [
              0.1111111111111111,
              "#482878"
             ],
             [
              0.2222222222222222,
              "#3e4989"
             ],
             [
              0.3333333333333333,
              "#31688e"
             ],
             [
              0.4444444444444444,
              "#26828e"
             ],
             [
              0.5555555555555556,
              "#1f9e89"
             ],
             [
              0.6666666666666666,
              "#35b779"
             ],
             [
              0.7777777777777778,
              "#6ece58"
             ],
             [
              0.8888888888888888,
              "#b5de2b"
             ],
             [
              1,
              "#fde725"
             ]
            ],
            "type": "histogram2dcontour"
           }
          ],
          "mesh3d": [
           {
            "colorbar": {
             "outlinewidth": 1,
             "tickcolor": "rgb(36,36,36)",
             "ticks": "outside"
            },
            "type": "mesh3d"
           }
          ],
          "parcoords": [
           {
            "line": {
             "colorbar": {
              "outlinewidth": 1,
              "tickcolor": "rgb(36,36,36)",
              "ticks": "outside"
             }
            },
            "type": "parcoords"
           }
          ],
          "pie": [
           {
            "automargin": true,
            "type": "pie"
           }
          ],
          "scatter": [
           {
            "fillpattern": {
             "fillmode": "overlay",
             "size": 10,
             "solidity": 0.2
            },
            "type": "scatter"
           }
          ],
          "scatter3d": [
           {
            "line": {
             "colorbar": {
              "outlinewidth": 1,
              "tickcolor": "rgb(36,36,36)",
              "ticks": "outside"
             }
            },
            "marker": {
             "colorbar": {
              "outlinewidth": 1,
              "tickcolor": "rgb(36,36,36)",
              "ticks": "outside"
             }
            },
            "type": "scatter3d"
           }
          ],
          "scattercarpet": [
           {
            "marker": {
             "colorbar": {
              "outlinewidth": 1,
              "tickcolor": "rgb(36,36,36)",
              "ticks": "outside"
             }
            },
            "type": "scattercarpet"
           }
          ],
          "scattergeo": [
           {
            "marker": {
             "colorbar": {
              "outlinewidth": 1,
              "tickcolor": "rgb(36,36,36)",
              "ticks": "outside"
             }
            },
            "type": "scattergeo"
           }
          ],
          "scattergl": [
           {
            "marker": {
             "colorbar": {
              "outlinewidth": 1,
              "tickcolor": "rgb(36,36,36)",
              "ticks": "outside"
             }
            },
            "type": "scattergl"
           }
          ],
          "scattermapbox": [
           {
            "marker": {
             "colorbar": {
              "outlinewidth": 1,
              "tickcolor": "rgb(36,36,36)",
              "ticks": "outside"
             }
            },
            "type": "scattermapbox"
           }
          ],
          "scatterpolar": [
           {
            "marker": {
             "colorbar": {
              "outlinewidth": 1,
              "tickcolor": "rgb(36,36,36)",
              "ticks": "outside"
             }
            },
            "type": "scatterpolar"
           }
          ],
          "scatterpolargl": [
           {
            "marker": {
             "colorbar": {
              "outlinewidth": 1,
              "tickcolor": "rgb(36,36,36)",
              "ticks": "outside"
             }
            },
            "type": "scatterpolargl"
           }
          ],
          "scatterternary": [
           {
            "marker": {
             "colorbar": {
              "outlinewidth": 1,
              "tickcolor": "rgb(36,36,36)",
              "ticks": "outside"
             }
            },
            "type": "scatterternary"
           }
          ],
          "surface": [
           {
            "colorbar": {
             "outlinewidth": 1,
             "tickcolor": "rgb(36,36,36)",
             "ticks": "outside"
            },
            "colorscale": [
             [
              0,
              "#440154"
             ],
             [
              0.1111111111111111,
              "#482878"
             ],
             [
              0.2222222222222222,
              "#3e4989"
             ],
             [
              0.3333333333333333,
              "#31688e"
             ],
             [
              0.4444444444444444,
              "#26828e"
             ],
             [
              0.5555555555555556,
              "#1f9e89"
             ],
             [
              0.6666666666666666,
              "#35b779"
             ],
             [
              0.7777777777777778,
              "#6ece58"
             ],
             [
              0.8888888888888888,
              "#b5de2b"
             ],
             [
              1,
              "#fde725"
             ]
            ],
            "type": "surface"
           }
          ],
          "table": [
           {
            "cells": {
             "fill": {
              "color": "rgb(237,237,237)"
             },
             "line": {
              "color": "white"
             }
            },
            "header": {
             "fill": {
              "color": "rgb(217,217,217)"
             },
             "line": {
              "color": "white"
             }
            },
            "type": "table"
           }
          ]
         },
         "layout": {
          "annotationdefaults": {
           "arrowhead": 0,
           "arrowwidth": 1
          },
          "autotypenumbers": "strict",
          "coloraxis": {
           "colorbar": {
            "outlinewidth": 1,
            "tickcolor": "rgb(36,36,36)",
            "ticks": "outside"
           }
          },
          "colorscale": {
           "diverging": [
            [
             0,
             "rgb(103,0,31)"
            ],
            [
             0.1,
             "rgb(178,24,43)"
            ],
            [
             0.2,
             "rgb(214,96,77)"
            ],
            [
             0.3,
             "rgb(244,165,130)"
            ],
            [
             0.4,
             "rgb(253,219,199)"
            ],
            [
             0.5,
             "rgb(247,247,247)"
            ],
            [
             0.6,
             "rgb(209,229,240)"
            ],
            [
             0.7,
             "rgb(146,197,222)"
            ],
            [
             0.8,
             "rgb(67,147,195)"
            ],
            [
             0.9,
             "rgb(33,102,172)"
            ],
            [
             1,
             "rgb(5,48,97)"
            ]
           ],
           "sequential": [
            [
             0,
             "#440154"
            ],
            [
             0.1111111111111111,
             "#482878"
            ],
            [
             0.2222222222222222,
             "#3e4989"
            ],
            [
             0.3333333333333333,
             "#31688e"
            ],
            [
             0.4444444444444444,
             "#26828e"
            ],
            [
             0.5555555555555556,
             "#1f9e89"
            ],
            [
             0.6666666666666666,
             "#35b779"
            ],
            [
             0.7777777777777778,
             "#6ece58"
            ],
            [
             0.8888888888888888,
             "#b5de2b"
            ],
            [
             1,
             "#fde725"
            ]
           ],
           "sequentialminus": [
            [
             0,
             "#440154"
            ],
            [
             0.1111111111111111,
             "#482878"
            ],
            [
             0.2222222222222222,
             "#3e4989"
            ],
            [
             0.3333333333333333,
             "#31688e"
            ],
            [
             0.4444444444444444,
             "#26828e"
            ],
            [
             0.5555555555555556,
             "#1f9e89"
            ],
            [
             0.6666666666666666,
             "#35b779"
            ],
            [
             0.7777777777777778,
             "#6ece58"
            ],
            [
             0.8888888888888888,
             "#b5de2b"
            ],
            [
             1,
             "#fde725"
            ]
           ]
          },
          "colorway": [
           "#1F77B4",
           "#FF7F0E",
           "#2CA02C",
           "#D62728",
           "#9467BD",
           "#8C564B",
           "#E377C2",
           "#7F7F7F",
           "#BCBD22",
           "#17BECF"
          ],
          "font": {
           "color": "rgb(36,36,36)"
          },
          "geo": {
           "bgcolor": "white",
           "lakecolor": "white",
           "landcolor": "white",
           "showlakes": true,
           "showland": true,
           "subunitcolor": "white"
          },
          "hoverlabel": {
           "align": "left"
          },
          "hovermode": "closest",
          "mapbox": {
           "style": "light"
          },
          "paper_bgcolor": "white",
          "plot_bgcolor": "white",
          "polar": {
           "angularaxis": {
            "gridcolor": "rgb(232,232,232)",
            "linecolor": "rgb(36,36,36)",
            "showgrid": false,
            "showline": true,
            "ticks": "outside"
           },
           "bgcolor": "white",
           "radialaxis": {
            "gridcolor": "rgb(232,232,232)",
            "linecolor": "rgb(36,36,36)",
            "showgrid": false,
            "showline": true,
            "ticks": "outside"
           }
          },
          "scene": {
           "xaxis": {
            "backgroundcolor": "white",
            "gridcolor": "rgb(232,232,232)",
            "gridwidth": 2,
            "linecolor": "rgb(36,36,36)",
            "showbackground": true,
            "showgrid": false,
            "showline": true,
            "ticks": "outside",
            "zeroline": false,
            "zerolinecolor": "rgb(36,36,36)"
           },
           "yaxis": {
            "backgroundcolor": "white",
            "gridcolor": "rgb(232,232,232)",
            "gridwidth": 2,
            "linecolor": "rgb(36,36,36)",
            "showbackground": true,
            "showgrid": false,
            "showline": true,
            "ticks": "outside",
            "zeroline": false,
            "zerolinecolor": "rgb(36,36,36)"
           },
           "zaxis": {
            "backgroundcolor": "white",
            "gridcolor": "rgb(232,232,232)",
            "gridwidth": 2,
            "linecolor": "rgb(36,36,36)",
            "showbackground": true,
            "showgrid": false,
            "showline": true,
            "ticks": "outside",
            "zeroline": false,
            "zerolinecolor": "rgb(36,36,36)"
           }
          },
          "shapedefaults": {
           "fillcolor": "black",
           "line": {
            "width": 0
           },
           "opacity": 0.3
          },
          "ternary": {
           "aaxis": {
            "gridcolor": "rgb(232,232,232)",
            "linecolor": "rgb(36,36,36)",
            "showgrid": false,
            "showline": true,
            "ticks": "outside"
           },
           "baxis": {
            "gridcolor": "rgb(232,232,232)",
            "linecolor": "rgb(36,36,36)",
            "showgrid": false,
            "showline": true,
            "ticks": "outside"
           },
           "bgcolor": "white",
           "caxis": {
            "gridcolor": "rgb(232,232,232)",
            "linecolor": "rgb(36,36,36)",
            "showgrid": false,
            "showline": true,
            "ticks": "outside"
           }
          },
          "title": {
           "x": 0.05
          },
          "xaxis": {
           "automargin": true,
           "gridcolor": "rgb(232,232,232)",
           "linecolor": "rgb(36,36,36)",
           "showgrid": false,
           "showline": true,
           "ticks": "outside",
           "title": {
            "standoff": 15
           },
           "zeroline": false,
           "zerolinecolor": "rgb(36,36,36)"
          },
          "yaxis": {
           "automargin": true,
           "gridcolor": "rgb(232,232,232)",
           "linecolor": "rgb(36,36,36)",
           "showgrid": false,
           "showline": true,
           "ticks": "outside",
           "title": {
            "standoff": 15
           },
           "zeroline": false,
           "zerolinecolor": "rgb(36,36,36)"
          }
         }
        },
        "title": {
         "font": {
          "color": "Black",
          "size": 22
         },
         "text": "<b>Topics over Time</b>",
         "x": 0.4,
         "xanchor": "center",
         "y": 0.95,
         "yanchor": "top"
        },
        "width": 1250,
        "xaxis": {
         "showgrid": true
        },
        "yaxis": {
         "showgrid": true,
         "title": {
          "text": "Frequency"
         }
        }
       }
      }
     },
     "metadata": {},
     "output_type": "display_data"
    }
   ],
   "source": [
    "topic_model.visualize_topics_over_time(topics_over_time, top_n_topics=50)"
   ]
  },
  {
   "cell_type": "markdown",
   "metadata": {},
   "source": [
    "### Positive reviews:"
   ]
  },
  {
   "cell_type": "code",
   "execution_count": 14,
   "metadata": {},
   "outputs": [],
   "source": [
    "pos_model = BERTopic.load(\"models/bertopic_pos_model\")"
   ]
  },
  {
   "cell_type": "code",
   "execution_count": 15,
   "metadata": {},
   "outputs": [
    {
     "name": "stderr",
     "output_type": "stream",
     "text": [
      "20it [00:34,  1.70s/it]\n"
     ]
    }
   ],
   "source": [
    "pos_topics_over_time = pos_model.topics_over_time(pos_docs, pos_timestamps, nr_bins=20)"
   ]
  },
  {
   "cell_type": "code",
   "execution_count": 16,
   "metadata": {},
   "outputs": [
    {
     "data": {
      "application/vnd.plotly.v1+json": {
       "config": {
        "plotlyServerURL": "https://plot.ly"
       },
       "data": [
        {
         "hoverinfo": "text",
         "hovertext": [
          "<b>Topic 0</b><br>Words: brolaire, ow, praise, umm, forgot",
          "<b>Topic 0</b><br>Words: praise, would, brolaire, ow, umm",
          "<b>Topic 0</b><br>Words: praise, would, brolaire, ow, umm",
          "<b>Topic 0</b><br>Words: brolaire, ow, umm, praise, forgot",
          "<b>Topic 0</b><br>Words: brolaire, ow, umm, praise, forgot",
          "<b>Topic 0</b><br>Words: brolaire, ow, umm, praise, forgot",
          "<b>Topic 0</b><br>Words: brolaire, ow, umm, praise, forgot",
          "<b>Topic 0</b><br>Words: brolaire, ow, umm, praise, forgot",
          "<b>Topic 0</b><br>Words: brolaire, ow, umm, praise, forgot",
          "<b>Topic 0</b><br>Words: brolaire, ow, umm, praise, forgot",
          "<b>Topic 0</b><br>Words: brolaire, ow, umm, praise, forgot",
          "<b>Topic 0</b><br>Words: umm, brolaire, ow, praise, forgot",
          "<b>Topic 0</b><br>Words: brolaire, ow, umm, praise, forgot",
          "<b>Topic 0</b><br>Words: brolaire, ow, umm, praise, forgot",
          "<b>Topic 0</b><br>Words: aaa, hello, brolaire, ow, umm",
          "<b>Topic 0</b><br>Words: forgot, brolaire, ow, umm, praise",
          "<b>Topic 0</b><br>Words: brolaire, ow, umm, praise, forgot",
          "<b>Topic 0</b><br>Words: brolaire, ow, umm, praise, forgot",
          "<b>Topic 0</b><br>Words: brolaire, ow, umm, praise, forgot",
          "<b>Topic 0</b><br>Words: last, brolaire, ow, umm, praise"
         ],
         "marker": {
          "color": "#E69F00"
         },
         "mode": "lines",
         "name": "0_brolaire_umm_ow_praise",
         "type": "scatter",
         "x": [
          "2014-04-20T18:07:07.316999",
          "2014-11-10T19:13:09.150000",
          "2015-05-29T20:17:53.300000",
          "2015-12-15T21:22:37.449999",
          "2016-07-02T22:27:21.600000",
          "2017-01-18T23:32:05.750000",
          "2017-08-07T00:36:49.900000",
          "2018-02-23T01:41:34.049999",
          "2018-09-11T02:46:18.200000",
          "2019-03-30T03:51:02.350000",
          "2019-10-16T04:55:46.500000",
          "2020-05-03T06:00:30.649999",
          "2020-11-19T07:05:14.800000",
          "2021-06-07T08:09:58.950000",
          "2021-12-24T09:14:43.100000",
          "2022-07-12T10:19:27.249999",
          "2023-01-28T11:24:11.400000",
          "2023-08-16T12:28:55.550000",
          "2024-03-03T13:33:39.700000",
          "2024-09-19T14:38:23.849999"
         ],
         "y": [
          116,
          51,
          41,
          43,
          32,
          22,
          24,
          22,
          29,
          43,
          100,
          102,
          134,
          143,
          139,
          105,
          105,
          130,
          135,
          153
         ]
        },
        {
         "hoverinfo": "text",
         "hovertext": [
          "<b>Topic 1</b><br>Words: good, as, mm, dat, ol",
          "<b>Topic 1</b><br>Words: good, dat, mm, ol, af",
          "<b>Topic 1</b><br>Words: good, mm, dat, ol, af",
          "<b>Topic 1</b><br>Words: good, mm, dat, ol, af",
          "<b>Topic 1</b><br>Words: good, mm, dat, ol, af",
          "<b>Topic 1</b><br>Words: good, mm, dat, ol, af",
          "<b>Topic 1</b><br>Words: good, mm, dat, ol, af",
          "<b>Topic 1</b><br>Words: good, mm, dat, ol, af",
          "<b>Topic 1</b><br>Words: good, mm, dat, ol, af",
          "<b>Topic 1</b><br>Words: good, mm, dat, ol, af",
          "<b>Topic 1</b><br>Words: good, mm, dat, ol, af",
          "<b>Topic 1</b><br>Words: good, mm, lol, dks, dat",
          "<b>Topic 1</b><br>Words: good, mm, dat, ol, af",
          "<b>Topic 1</b><br>Words: good, thats, mm, dat, ol",
          "<b>Topic 1</b><br>Words: good, please, sometimes, mm, dat",
          "<b>Topic 1</b><br>Words: good, mm, dat, ol, af",
          "<b>Topic 1</b><br>Words: good, mm, dat, ol, af",
          "<b>Topic 1</b><br>Words: good, af, mm, dat, ol",
          "<b>Topic 1</b><br>Words: good, ol, mm, dat, af",
          "<b>Topic 1</b><br>Words: good, mm, dat, ol, af"
         ],
         "marker": {
          "color": "#56B4E9"
         },
         "mode": "lines",
         "name": "1_good_mm_dat_ol",
         "type": "scatter",
         "x": [
          "2014-04-20T18:07:07.316999",
          "2014-11-10T19:13:09.150000",
          "2015-05-29T20:17:53.300000",
          "2015-12-15T21:22:37.449999",
          "2016-07-02T22:27:21.600000",
          "2017-01-18T23:32:05.750000",
          "2017-08-07T00:36:49.900000",
          "2018-02-23T01:41:34.049999",
          "2018-09-11T02:46:18.200000",
          "2019-03-30T03:51:02.350000",
          "2019-10-16T04:55:46.500000",
          "2020-05-03T06:00:30.649999",
          "2020-11-19T07:05:14.800000",
          "2021-06-07T08:09:58.950000",
          "2021-12-24T09:14:43.100000",
          "2022-07-12T10:19:27.249999",
          "2023-01-28T11:24:11.400000",
          "2023-08-16T12:28:55.550000",
          "2024-03-03T13:33:39.700000",
          "2024-09-19T14:38:23.849999"
         ],
         "y": [
          67,
          34,
          13,
          30,
          18,
          27,
          26,
          12,
          25,
          47,
          102,
          109,
          103,
          116,
          110,
          70,
          89,
          74,
          100,
          98
         ]
        },
        {
         "hoverinfo": "text",
         "hovertext": [
          "<b>Topic 2</b><br>Words: player, attack, covenant, item, area",
          "<b>Topic 2</b><br>Words: matrixdll, area, player, new, change",
          "<b>Topic 2</b><br>Words: enemy, dks, place, player, area",
          "<b>Topic 2</b><br>Words: katana, ice, chaos, rapier, player",
          "<b>Topic 2</b><br>Words: weapon, unlike, player, either, area",
          "<b>Topic 2</b><br>Words: list, find, enemy, fight, player",
          "<b>Topic 2</b><br>Words: stats, item, player, area, certain",
          "<b>Topic 2</b><br>Words: quote, player, area, certain, roll",
          "<b>Topic 2</b><br>Words: damage, attack, player, area, spoiler",
          "<b>Topic 2</b><br>Words: attack, enemy, fight, area, boss",
          "<b>Topic 2</b><br>Words: bean, estus, attack, area, heal",
          "<b>Topic 2</b><br>Words: area, weapon, early, enemy, npc",
          "<b>Topic 2</b><br>Words: tyrit, area, enemy, attack, weapon",
          "<b>Topic 2</b><br>Words: area, attack, movement, enemy, na",
          "<b>Topic 2</b><br>Words: iron, keep, hate, attack, fight",
          "<b>Topic 2</b><br>Words: hr, area, level, path, boss",
          "<b>Topic 2</b><br>Words: king, zone, enemy, attack, area",
          "<b>Topic 2</b><br>Words: ganked, poison, zone, dementia, attack",
          "<b>Topic 2</b><br>Words: area, enemy, attack, spoiler, player",
          "<b>Topic 2</b><br>Words: spoiler, area, enemy, king, world"
         ],
         "marker": {
          "color": "#009E73"
         },
         "mode": "lines",
         "name": "2_iron_area_player_attack",
         "type": "scatter",
         "x": [
          "2014-04-20T18:07:07.316999",
          "2014-11-10T19:13:09.150000",
          "2015-05-29T20:17:53.300000",
          "2015-12-15T21:22:37.449999",
          "2016-07-02T22:27:21.600000",
          "2017-01-18T23:32:05.750000",
          "2017-08-07T00:36:49.900000",
          "2018-02-23T01:41:34.049999",
          "2018-09-11T02:46:18.200000",
          "2019-03-30T03:51:02.350000",
          "2019-10-16T04:55:46.500000",
          "2020-05-03T06:00:30.649999",
          "2020-11-19T07:05:14.800000",
          "2021-06-07T08:09:58.950000",
          "2021-12-24T09:14:43.100000",
          "2022-07-12T10:19:27.249999",
          "2023-01-28T11:24:11.400000",
          "2023-08-16T12:28:55.550000",
          "2024-03-03T13:33:39.700000",
          "2024-09-19T14:38:23.849999"
         ],
         "y": [
          185,
          74,
          42,
          54,
          35,
          45,
          35,
          28,
          26,
          27,
          30,
          37,
          49,
          55,
          46,
          27,
          49,
          56,
          62,
          75
         ]
        },
        {
         "hoverinfo": "text",
         "hovertext": [
          "<b>Topic 3</b><br>Words: dlc, flims, handeling, drowned, guerillimo",
          "<b>Topic 3</b><br>Words: dx, dlc, upgrade, version, season",
          "<b>Topic 3</b><br>Words: dlc, version, original, upgrade, placement",
          "<b>Topic 3</b><br>Words: dlc, version, price, dx, season",
          "<b>Topic 3</b><br>Words: dlc, include, version, dks, dx",
          "<b>Topic 3</b><br>Words: dlc, version, dx, upgrade, original",
          "<b>Topic 3</b><br>Words: dlc, dlcs, march, downloable, deservingly",
          "<b>Topic 3</b><br>Words: dlc, version, deceased, bouhgt, backgroundstory",
          "<b>Topic 3</b><br>Words: version, dlc, yus, ddlc, changelog",
          "<b>Topic 3</b><br>Words: absoulte, seriers, dlc, themed, actully",
          "<b>Topic 3</b><br>Words: dlc, version, vaguer, dlcs, patch",
          "<b>Topic 3</b><br>Words: version, dlc, placement, dlcs, original",
          "<b>Topic 3</b><br>Words: dlcs, dlc, nerds, paywall, prepackaged",
          "<b>Topic 3</b><br>Words: dlc, dlcs, fullprice, designed, executive",
          "<b>Topic 3</b><br>Words: dlc, spacial, plateaus, silva, marty",
          "<b>Topic 3</b><br>Words: dlc, cod, gow, activision, softfs",
          "<b>Topic 3</b><br>Words: dlc, dmc, version, vanilla, babyy",
          "<b>Topic 3</b><br>Words: dlc, color, version, dlcs, pirated",
          "<b>Topic 3</b><br>Words: dlc, split, version, release, accusation",
          "<b>Topic 3</b><br>Words: dlcs, dlc, ahaaaaaaaaaaaaaaaaaaaaahhhhhhhhhghhh, resend, version"
         ],
         "marker": {
          "color": "#F0E442"
         },
         "mode": "lines",
         "name": "3_dlc_version_dx_upgrade",
         "type": "scatter",
         "x": [
          "2014-04-20T18:07:07.316999",
          "2014-11-10T19:13:09.150000",
          "2015-05-29T20:17:53.300000",
          "2015-12-15T21:22:37.449999",
          "2016-07-02T22:27:21.600000",
          "2017-01-18T23:32:05.750000",
          "2017-08-07T00:36:49.900000",
          "2018-02-23T01:41:34.049999",
          "2018-09-11T02:46:18.200000",
          "2019-03-30T03:51:02.350000",
          "2019-10-16T04:55:46.500000",
          "2020-05-03T06:00:30.649999",
          "2020-11-19T07:05:14.800000",
          "2021-06-07T08:09:58.950000",
          "2021-12-24T09:14:43.100000",
          "2022-07-12T10:19:27.249999",
          "2023-01-28T11:24:11.400000",
          "2023-08-16T12:28:55.550000",
          "2024-03-03T13:33:39.700000",
          "2024-09-19T14:38:23.849999"
         ],
         "y": [
          36,
          198,
          73,
          62,
          21,
          20,
          22,
          15,
          12,
          13,
          20,
          19,
          31,
          27,
          28,
          18,
          21,
          23,
          33,
          22
         ]
        },
        {
         "hoverinfo": "text",
         "hovertext": [
          "<b>Topic 4</b><br>Words: best, everrrrrrrrrrrrrrrrrrrrrrrrrrrrrrrrrrrrrrrrrrrrrrrrrrrrrrrrrrrrrrrrrrrrrrrrrrrrrrrrrrrrrrrrrrrrrrrrrrrrrrr, ah, wtf, btw",
          "<b>Topic 4</b><br>Words: best, everrrrrrrrrrrrrrrrrrrrrrrrrrrrrrrrrrrrrrrrrrrrrrrrrrrrrrrrrrrrrrrrrrrrrrrrrrrrrrrrrrrrrrrrrrrrrrrrrrrrrrr, ah, wtf, btw",
          "<b>Topic 4</b><br>Words: best, hey, last, everrrrrrrrrrrrrrrrrrrrrrrrrrrrrrrrrrrrrrrrrrrrrrrrrrrrrrrrrrrrrrrrrrrrrrrrrrrrrrrrrrrrrrrrrrrrrrrrrrrrrrr, ah",
          "<b>Topic 4</b><br>Words: best, everrrrrrrrrrrrrrrrrrrrrrrrrrrrrrrrrrrrrrrrrrrrrrrrrrrrrrrrrrrrrrrrrrrrrrrrrrrrrrrrrrrrrrrrrrrrrrrrrrrrrrr, ah, wtf, btw",
          "<b>Topic 4</b><br>Words: best, lol, everrrrrrrrrrrrrrrrrrrrrrrrrrrrrrrrrrrrrrrrrrrrrrrrrrrrrrrrrrrrrrrrrrrrrrrrrrrrrrrrrrrrrrrrrrrrrrrrrrrrrrr, ah, wtf",
          "<b>Topic 4</b><br>Words: best, everrrrrrrrrrrrrrrrrrrrrrrrrrrrrrrrrrrrrrrrrrrrrrrrrrrrrrrrrrrrrrrrrrrrrrrrrrrrrrrrrrrrrrrrrrrrrrrrrrrrrrr, ah, wtf, btw",
          "<b>Topic 4</b><br>Words: best, everrrrrrrrrrrrrrrrrrrrrrrrrrrrrrrrrrrrrrrrrrrrrrrrrrrrrrrrrrrrrrrrrrrrrrrrrrrrrrrrrrrrrrrrrrrrrrrrrrrrrrr, ah, wtf, btw",
          "<b>Topic 4</b><br>Words: best, everrrrrrrrrrrrrrrrrrrrrrrrrrrrrrrrrrrrrrrrrrrrrrrrrrrrrrrrrrrrrrrrrrrrrrrrrrrrrrrrrrrrrrrrrrrrrrrrrrrrrrr, ah, wtf, btw",
          "<b>Topic 4</b><br>Words: best, everrrrrrrrrrrrrrrrrrrrrrrrrrrrrrrrrrrrrrrrrrrrrrrrrrrrrrrrrrrrrrrrrrrrrrrrrrrrrrrrrrrrrrrrrrrrrrrrrrrrrrr, ah, wtf, btw",
          "<b>Topic 4</b><br>Words: best, btw, everrrrrrrrrrrrrrrrrrrrrrrrrrrrrrrrrrrrrrrrrrrrrrrrrrrrrrrrrrrrrrrrrrrrrrrrrrrrrrrrrrrrrrrrrrrrrrrrrrrrrrr, ah, wtf",
          "<b>Topic 4</b><br>Words: best, everrrrrrrrrrrrrrrrrrrrrrrrrrrrrrrrrrrrrrrrrrrrrrrrrrrrrrrrrrrrrrrrrrrrrrrrrrrrrrrrrrrrrrrrrrrrrrrrrrrrrrr, ah, wtf, btw",
          "<b>Topic 4</b><br>Words: best, everrrrrrrrrrrrrrrrrrrrrrrrrrrrrrrrrrrrrrrrrrrrrrrrrrrrrrrrrrrrrrrrrrrrrrrrrrrrrrrrrrrrrrrrrrrrrrrrrrrrrrr, ah, wtf, btw",
          "<b>Topic 4</b><br>Words: best, ah, everrrrrrrrrrrrrrrrrrrrrrrrrrrrrrrrrrrrrrrrrrrrrrrrrrrrrrrrrrrrrrrrrrrrrrrrrrrrrrrrrrrrrrrrrrrrrrrrrrrrrrr, wtf, btw",
          "<b>Topic 4</b><br>Words: best, everrrrrrrrrrrrrrrrrrrrrrrrrrrrrrrrrrrrrrrrrrrrrrrrrrrrrrrrrrrrrrrrrrrrrrrrrrrrrrrrrrrrrrrrrrrrrrrrrrrrrrr, ah, wtf, btw",
          "<b>Topic 4</b><br>Words: best, everrrrrrrrrrrrrrrrrrrrrrrrrrrrrrrrrrrrrrrrrrrrrrrrrrrrrrrrrrrrrrrrrrrrrrrrrrrrrrrrrrrrrrrrrrrrrrrrrrrrrrr, ah, wtf, btw",
          "<b>Topic 4</b><br>Words: best, everrrrrrrrrrrrrrrrrrrrrrrrrrrrrrrrrrrrrrrrrrrrrrrrrrrrrrrrrrrrrrrrrrrrrrrrrrrrrrrrrrrrrrrrrrrrrrrrrrrrrrr, ah, wtf, btw",
          "<b>Topic 4</b><br>Words: best, ah, yes, everrrrrrrrrrrrrrrrrrrrrrrrrrrrrrrrrrrrrrrrrrrrrrrrrrrrrrrrrrrrrrrrrrrrrrrrrrrrrrrrrrrrrrrrrrrrrrrrrrrrrrr, wtf",
          "<b>Topic 4</b><br>Words: best, right, everrrrrrrrrrrrrrrrrrrrrrrrrrrrrrrrrrrrrrrrrrrrrrrrrrrrrrrrrrrrrrrrrrrrrrrrrrrrrrrrrrrrrrrrrrrrrrrrrrrrrrr, ah, wtf",
          "<b>Topic 4</b><br>Words: best, everrrrrrrrrrrrrrrrrrrrrrrrrrrrrrrrrrrrrrrrrrrrrrrrrrrrrrrrrrrrrrrrrrrrrrrrrrrrrrrrrrrrrrrrrrrrrrrrrrrrrrr, ah, wtf, btw",
          "<b>Topic 4</b><br>Words: best, wtf, everrrrrrrrrrrrrrrrrrrrrrrrrrrrrrrrrrrrrrrrrrrrrrrrrrrrrrrrrrrrrrrrrrrrrrrrrrrrrrrrrrrrrrrrrrrrrrrrrrrrrrr, ah, btw"
         ],
         "marker": {
          "color": "#D55E00"
         },
         "mode": "lines",
         "name": "4_best_everrrrrrrrrrrrrrrrrrrrrrrrrrrrrr...",
         "type": "scatter",
         "x": [
          "2014-04-20T18:07:07.316999",
          "2014-11-10T19:13:09.150000",
          "2015-05-29T20:17:53.300000",
          "2015-12-15T21:22:37.449999",
          "2016-07-02T22:27:21.600000",
          "2017-01-18T23:32:05.750000",
          "2017-08-07T00:36:49.900000",
          "2018-02-23T01:41:34.049999",
          "2018-09-11T02:46:18.200000",
          "2019-03-30T03:51:02.350000",
          "2019-10-16T04:55:46.500000",
          "2020-05-03T06:00:30.649999",
          "2020-11-19T07:05:14.800000",
          "2021-06-07T08:09:58.950000",
          "2021-12-24T09:14:43.100000",
          "2022-07-12T10:19:27.249999",
          "2023-01-28T11:24:11.400000",
          "2023-08-16T12:28:55.550000",
          "2024-03-03T13:33:39.700000",
          "2024-09-19T14:38:23.849999"
         ],
         "y": [
          19,
          10,
          4,
          2,
          3,
          7,
          6,
          1,
          9,
          20,
          37,
          31,
          39,
          59,
          52,
          43,
          50,
          47,
          57,
          60
         ]
        },
        {
         "hoverinfo": "text",
         "hovertext": [
          "<b>Topic 5</b><br>Words: yes, nope, yesn, yessir, thank",
          "<b>Topic 5</b><br>Words: yes, nope, yesn, yessir, thank",
          "<b>Topic 5</b><br>Words: yes, yesn, nope, yessir, thank",
          "<b>Topic 5</b><br>Words: yes, yesn, nope, yessir, thank",
          "<b>Topic 5</b><br>Words: yes, yesn, nope, yessir, thank",
          "<b>Topic 5</b><br>Words: yes, yesn, nope, yessir, thank",
          "<b>Topic 5</b><br>Words: yes, yesn, nope, yessir, thank",
          "<b>Topic 5</b><br>Words: yes, yesn, nope, yessir, thank",
          "<b>Topic 5</b><br>Words: yes, yesn, nope, yessir, thank",
          "<b>Topic 5</b><br>Words: yes, yesn, nope, yessir, thank",
          "<b>Topic 5</b><br>Words: yes, yesn, nope, yessir, thank",
          "<b>Topic 5</b><br>Words: yes, yesn, nope, yessir, thank",
          "<b>Topic 5</b><br>Words: yes, yesn, nope, yessir, thank",
          "<b>Topic 5</b><br>Words: yes, thank, bro, sir, cool",
          "<b>Topic 5</b><br>Words: yes, yesn, nope, yessir, thank",
          "<b>Topic 5</b><br>Words: yes, yesn, nope, yessir, thank",
          "<b>Topic 5</b><br>Words: yes, yesn, nope, yessir, thank",
          "<b>Topic 5</b><br>Words: yes, yessir, yesn, nope, thank",
          "<b>Topic 5</b><br>Words: yes, yesn, nope, yessir, thank",
          "<b>Topic 5</b><br>Words: yes, yesn, nope, yessir, thank"
         ],
         "marker": {
          "color": "#0072B2"
         },
         "mode": "lines",
         "name": "5_yes_yesn_nope_yessir",
         "type": "scatter",
         "x": [
          "2014-04-20T18:07:07.316999",
          "2014-11-10T19:13:09.150000",
          "2015-05-29T20:17:53.300000",
          "2015-12-15T21:22:37.449999",
          "2016-07-02T22:27:21.600000",
          "2017-01-18T23:32:05.750000",
          "2017-08-07T00:36:49.900000",
          "2018-02-23T01:41:34.049999",
          "2018-09-11T02:46:18.200000",
          "2019-03-30T03:51:02.350000",
          "2019-10-16T04:55:46.500000",
          "2020-05-03T06:00:30.649999",
          "2020-11-19T07:05:14.800000",
          "2021-06-07T08:09:58.950000",
          "2021-12-24T09:14:43.100000",
          "2022-07-12T10:19:27.249999",
          "2023-01-28T11:24:11.400000",
          "2023-08-16T12:28:55.550000",
          "2024-03-03T13:33:39.700000",
          "2024-09-19T14:38:23.849999"
         ],
         "y": [
          25,
          13,
          5,
          6,
          4,
          1,
          3,
          2,
          5,
          9,
          50,
          50,
          49,
          45,
          40,
          26,
          15,
          24,
          23,
          23
         ]
        },
        {
         "hoverinfo": "text",
         "hovertext": [
          "<b>Topic 6</b><br>Words: keyboard, mouse, controller, control, key",
          "<b>Topic 6</b><br>Words: keyboard, mouse, controller, control, gamepad",
          "<b>Topic 6</b><br>Words: keyboard, mouse, controller, controlls, key",
          "<b>Topic 6</b><br>Words: keyboard, mouse, controller, click, control",
          "<b>Topic 6</b><br>Words: keyboard, mouse, controller, cokc, controels",
          "<b>Topic 6</b><br>Words: keyboard, mouse, controller, control, key",
          "<b>Topic 6</b><br>Words: keyboard, mouse, controler, paypal, insta",
          "<b>Topic 6</b><br>Words: sensitivity, mouse, binding, infurating, keyboard",
          "<b>Topic 6</b><br>Words: keyboard, keybindings, mouse, dualwielding, rejoice",
          "<b>Topic 6</b><br>Words: keyboard, mouse, waterboarded, control, temperature",
          "<b>Topic 6</b><br>Words: keyboard, control, mouse, controller, binding",
          "<b>Topic 6</b><br>Words: keyboard, mouse, control, bind, controller",
          "<b>Topic 6</b><br>Words: keyboard, mouse, prompt, hassel, awkwardness",
          "<b>Topic 6</b><br>Words: mouse, keyboard, autohotkey, controller, disable",
          "<b>Topic 6</b><br>Words: mouse, keyboard, downvote, bind, control",
          "<b>Topic 6</b><br>Words: keyboard, mouse, click, controller, disable",
          "<b>Topic 6</b><br>Words: keyboard, mouse, cotroller, control, bind",
          "<b>Topic 6</b><br>Words: keyboard, mouse, remap, longish, bind",
          "<b>Topic 6</b><br>Words: keyboard, mouse, clunkt, controller, steams",
          "<b>Topic 6</b><br>Words: keyboard, mouse, miyuzaki, rebind, controller"
         ],
         "marker": {
          "color": "#CC79A7"
         },
         "mode": "lines",
         "name": "6_keyboard_mouse_controller_control",
         "type": "scatter",
         "x": [
          "2014-04-20T18:07:07.316999",
          "2014-11-10T19:13:09.150000",
          "2015-05-29T20:17:53.300000",
          "2015-12-15T21:22:37.449999",
          "2016-07-02T22:27:21.600000",
          "2017-01-18T23:32:05.750000",
          "2017-08-07T00:36:49.900000",
          "2018-02-23T01:41:34.049999",
          "2018-09-11T02:46:18.200000",
          "2019-03-30T03:51:02.350000",
          "2019-10-16T04:55:46.500000",
          "2020-05-03T06:00:30.649999",
          "2020-11-19T07:05:14.800000",
          "2021-06-07T08:09:58.950000",
          "2021-12-24T09:14:43.100000",
          "2022-07-12T10:19:27.249999",
          "2023-01-28T11:24:11.400000",
          "2023-08-16T12:28:55.550000",
          "2024-03-03T13:33:39.700000",
          "2024-09-19T14:38:23.849999"
         ],
         "y": [
          128,
          19,
          17,
          23,
          8,
          12,
          9,
          2,
          5,
          9,
          15,
          19,
          12,
          13,
          10,
          9,
          9,
          9,
          12,
          13
         ]
        },
        {
         "hoverinfo": "text",
         "hovertext": [
          "<b>Topic 7</b><br>Words: que, de, jogo, el, muito",
          "<b>Topic 7</b><br>Words: de, que, jogo, le, la",
          "<b>Topic 7</b><br>Words: que, jogo, ncia, minhas, de",
          "<b>Topic 7</b><br>Words: que, jogo, de, se, muito",
          "<b>Topic 7</b><br>Words: que, de, el, en, la",
          "<b>Topic 7</b><br>Words: que, de, su, en, la",
          "<b>Topic 7</b><br>Words: que, la, el, se, de",
          "<b>Topic 7</b><br>Words: morrer, perfeito, matar, mais, se",
          "<b>Topic 7</b><br>Words: el, favorita, totales, tanti, rango",
          "<b>Topic 7</b><br>Words: de, jogo, que, el, lo",
          "<b>Topic 7</b><br>Words: que, juegazo, jogo, de, pero",
          "<b>Topic 7</b><br>Words: jogo, que, de, ma, um",
          "<b>Topic 7</b><br>Words: novo, de, que, el, um",
          "<b>Topic 7</b><br>Words: que, jogo, de, um, mais",
          "<b>Topic 7</b><br>Words: de, la, que, el, pero",
          "<b>Topic 7</b><br>Words: que, de, pra, jogo, voc",
          "<b>Topic 7</b><br>Words: que, de, jogo, el, la",
          "<b>Topic 7</b><br>Words: te, odeio, amo, que, de",
          "<b>Topic 7</b><br>Words: de, que, juego, la, el",
          "<b>Topic 7</b><br>Words: que, de, jogo, la, um"
         ],
         "marker": {
          "color": "#E69F00"
         },
         "mode": "lines",
         "name": "7_de_que_jogo_el",
         "type": "scatter",
         "x": [
          "2014-04-20T18:07:07.316999",
          "2014-11-10T19:13:09.150000",
          "2015-05-29T20:17:53.300000",
          "2015-12-15T21:22:37.449999",
          "2016-07-02T22:27:21.600000",
          "2017-01-18T23:32:05.750000",
          "2017-08-07T00:36:49.900000",
          "2018-02-23T01:41:34.049999",
          "2018-09-11T02:46:18.200000",
          "2019-03-30T03:51:02.350000",
          "2019-10-16T04:55:46.500000",
          "2020-05-03T06:00:30.649999",
          "2020-11-19T07:05:14.800000",
          "2021-06-07T08:09:58.950000",
          "2021-12-24T09:14:43.100000",
          "2022-07-12T10:19:27.249999",
          "2023-01-28T11:24:11.400000",
          "2023-08-16T12:28:55.550000",
          "2024-03-03T13:33:39.700000",
          "2024-09-19T14:38:23.849999"
         ],
         "y": [
          19,
          8,
          6,
          9,
          7,
          4,
          9,
          3,
          6,
          5,
          24,
          23,
          29,
          33,
          18,
          15,
          33,
          23,
          29,
          45
         ]
        },
        {
         "hoverinfo": "text",
         "hovertext": [
          "<b>Topic 8</b><br>Words: great, greattttt, greatttttt, wwwww, outta",
          "<b>Topic 8</b><br>Words: great, greattttt, greatttttt, wwwww, outta",
          "<b>Topic 8</b><br>Words: great, greattttt, greatttttt, wwwww, outta",
          "<b>Topic 8</b><br>Words: great, greattttt, greatttttt, wwwww, outta",
          "<b>Topic 8</b><br>Words: great, greattttt, greatttttt, wwwww, outta",
          "<b>Topic 8</b><br>Words: great, greattttt, greatttttt, wwwww, outta",
          "<b>Topic 8</b><br>Words: great, greattttt, greatttttt, wwwww, outta",
          "<b>Topic 8</b><br>Words: great, greattttt, greatttttt, wwwww, outta",
          "<b>Topic 8</b><br>Words: great, greattttt, greatttttt, wwwww, outta",
          "<b>Topic 8</b><br>Words: great, greattttt, greatttttt, wwwww, outta",
          "<b>Topic 8</b><br>Words: great, greattttt, greatttttt, outta, wwwww",
          "<b>Topic 8</b><br>Words: great, wwwww, greattttt, greatttttt, outta",
          "<b>Topic 8</b><br>Words: great, greattttt, greatttttt, wwwww, outta",
          "<b>Topic 8</b><br>Words: great, greattttt, greatttttt, wwwww, outta",
          "<b>Topic 8</b><br>Words: great, greattttt, greatttttt, wwwww, outta",
          "<b>Topic 8</b><br>Words: great, greattttt, greatttttt, wwwww, outta",
          "<b>Topic 8</b><br>Words: great, greattttt, greatttttt, wwwww, outta",
          "<b>Topic 8</b><br>Words: great, greattttt, greatttttt, wwwww, outta",
          "<b>Topic 8</b><br>Words: great, wonderful, greattttt, greatttttt, wwwww",
          "<b>Topic 8</b><br>Words: great, greattttt, greatttttt, wwwww, outta"
         ],
         "marker": {
          "color": "#56B4E9"
         },
         "mode": "lines",
         "name": "8_great_wwwww_greatttttt_greattttt",
         "type": "scatter",
         "x": [
          "2014-04-20T18:07:07.316999",
          "2014-11-10T19:13:09.150000",
          "2015-05-29T20:17:53.300000",
          "2015-12-15T21:22:37.449999",
          "2016-07-02T22:27:21.600000",
          "2017-01-18T23:32:05.750000",
          "2017-08-07T00:36:49.900000",
          "2018-02-23T01:41:34.049999",
          "2018-09-11T02:46:18.200000",
          "2019-03-30T03:51:02.350000",
          "2019-10-16T04:55:46.500000",
          "2020-05-03T06:00:30.649999",
          "2020-11-19T07:05:14.800000",
          "2021-06-07T08:09:58.950000",
          "2021-12-24T09:14:43.100000",
          "2022-07-12T10:19:27.249999",
          "2023-01-28T11:24:11.400000",
          "2023-08-16T12:28:55.550000",
          "2024-03-03T13:33:39.700000",
          "2024-09-19T14:38:23.849999"
         ],
         "y": [
          39,
          15,
          9,
          10,
          5,
          12,
          9,
          3,
          4,
          14,
          28,
          20,
          23,
          21,
          18,
          14,
          10,
          21,
          9,
          12
         ]
        },
        {
         "hoverinfo": "text",
         "hovertext": [
          "<b>Topic 9</b><br>Words: die, slug, nutshell, rip, hey",
          "<b>Topic 9</b><br>Words: die, sometimes, fuck, finna, tire",
          "<b>Topic 9</b><br>Words: die, lie, yeah, finna, tire",
          "<b>Topic 9</b><br>Words: die, shit, sometimes, finna, tire",
          "<b>Topic 9</b><br>Words: die, oh, finna, tire, slug",
          "<b>Topic 9</b><br>Words: die, finna, tire, slug, nutshell",
          "<b>Topic 9</b><br>Words: die, shit, finna, tire, slug",
          "<b>Topic 9</b><br>Words: die, sure, finna, tire, slug",
          "<b>Topic 9</b><br>Words: die, finna, tire, slug, nutshell",
          "<b>Topic 9</b><br>Words: die, finna, tire, slug, nutshell",
          "<b>Topic 9</b><br>Words: die, tire, thats, okay, never",
          "<b>Topic 9</b><br>Words: finna, die, tire, slug, nutshell",
          "<b>Topic 9</b><br>Words: die, inside, didnt, im, finna",
          "<b>Topic 9</b><br>Words: die, son, must, finna, tire",
          "<b>Topic 9</b><br>Words: die, may, finna, tire, slug",
          "<b>Topic 9</b><br>Words: die, finna, tire, slug, nutshell",
          "<b>Topic 9</b><br>Words: yay, die, finna, tire, slug",
          "<b>Topic 9</b><br>Words: die, finna, tire, slug, nutshell",
          "<b>Topic 9</b><br>Words: die, finna, tire, slug, nutshell",
          "<b>Topic 9</b><br>Words: die, finna, tire, slug, nutshell"
         ],
         "marker": {
          "color": "#009E73"
         },
         "mode": "lines",
         "name": "9_die_finna_tire_slug",
         "type": "scatter",
         "x": [
          "2014-04-20T18:07:07.316999",
          "2014-11-10T19:13:09.150000",
          "2015-05-29T20:17:53.300000",
          "2015-12-15T21:22:37.449999",
          "2016-07-02T22:27:21.600000",
          "2017-01-18T23:32:05.750000",
          "2017-08-07T00:36:49.900000",
          "2018-02-23T01:41:34.049999",
          "2018-09-11T02:46:18.200000",
          "2019-03-30T03:51:02.350000",
          "2019-10-16T04:55:46.500000",
          "2020-05-03T06:00:30.649999",
          "2020-11-19T07:05:14.800000",
          "2021-06-07T08:09:58.950000",
          "2021-12-24T09:14:43.100000",
          "2022-07-12T10:19:27.249999",
          "2023-01-28T11:24:11.400000",
          "2023-08-16T12:28:55.550000",
          "2024-03-03T13:33:39.700000",
          "2024-09-19T14:38:23.849999"
         ],
         "y": [
          76,
          24,
          13,
          25,
          16,
          14,
          12,
          6,
          7,
          11,
          16,
          12,
          11,
          10,
          9,
          9,
          4,
          7,
          3,
          4
         ]
        },
        {
         "hoverinfo": "text",
         "hovertext": [
          "<b>Topic 10</b><br>Words: git, gud, electric, boogaloo, jihad",
          "<b>Topic 10</b><br>Words: git, gud, xp, start, people",
          "<b>Topic 10</b><br>Words: git, gud, gits, electric, boogaloo",
          "<b>Topic 10</b><br>Words: git, gud, guded, ayyy, lmao",
          "<b>Topic 10</b><br>Words: git, gud, evry, rule, hr",
          "<b>Topic 10</b><br>Words: git, gud, gankers, creation, screen",
          "<b>Topic 10</b><br>Words: git, gud, phag, revamp, electric",
          "<b>Topic 10</b><br>Words: git, gud, winblade, danksouls, alternatively",
          "<b>Topic 10</b><br>Words: git, gud, fkin, electric, boogaloo",
          "<b>Topic 10</b><br>Words: git, gud, manage, unless, lose",
          "<b>Topic 10</b><br>Words: git, gud, intensifies, ta, darksouls",
          "<b>Topic 10</b><br>Words: git, gud, classic, begin, half",
          "<b>Topic 10</b><br>Words: git, gud, hreatest, givdeo, thaught",
          "<b>Topic 10</b><br>Words: git, gud, giood, mm, casuls",
          "<b>Topic 10</b><br>Words: git, gud, oddajcie, bd, bogaloo",
          "<b>Topic 10</b><br>Words: git, gud, curator, page, bow",
          "<b>Topic 10</b><br>Words: git, gud, electric, boogaloo, couldnt",
          "<b>Topic 10</b><br>Words: git, gud, something, electric, boogaloo",
          "<b>Topic 10</b><br>Words: git, gud, volume, electric, boogaloo",
          "<b>Topic 10</b><br>Words: git, gud, giid, electric, boogaloo"
         ],
         "marker": {
          "color": "#F0E442"
         },
         "mode": "lines",
         "name": "10_git_gud_electric_boogaloo",
         "type": "scatter",
         "x": [
          "2014-04-20T18:07:07.316999",
          "2014-11-10T19:13:09.150000",
          "2015-05-29T20:17:53.300000",
          "2015-12-15T21:22:37.449999",
          "2016-07-02T22:27:21.600000",
          "2017-01-18T23:32:05.750000",
          "2017-08-07T00:36:49.900000",
          "2018-02-23T01:41:34.049999",
          "2018-09-11T02:46:18.200000",
          "2019-03-30T03:51:02.350000",
          "2019-10-16T04:55:46.500000",
          "2020-05-03T06:00:30.649999",
          "2020-11-19T07:05:14.800000",
          "2021-06-07T08:09:58.950000",
          "2021-12-24T09:14:43.100000",
          "2022-07-12T10:19:27.249999",
          "2023-01-28T11:24:11.400000",
          "2023-08-16T12:28:55.550000",
          "2024-03-03T13:33:39.700000",
          "2024-09-19T14:38:23.849999"
         ],
         "y": [
          25,
          4,
          6,
          10,
          22,
          6,
          20,
          6,
          6,
          10,
          26,
          13,
          29,
          23,
          18,
          6,
          11,
          12,
          6,
          8
         ]
        },
        {
         "hoverinfo": "text",
         "hovertext": [
          "<b>Topic 11</b><br>Words: sun, praise, blah, hourra, adherent",
          "<b>Topic 11</b><br>Words: sun, praise, huraah, sunlight, infinite",
          "<b>Topic 11</b><br>Words: sun, praise, biatch, directx, enhance",
          "<b>Topic 11</b><br>Words: sun, praise, blah, huraah, hourra",
          "<b>Topic 11</b><br>Words: sun, praise, blah, find, huraah",
          "<b>Topic 11</b><br>Words: sun, praise, sunny, blah, huraah",
          "<b>Topic 11</b><br>Words: sun, praise, consume, wary, therefore",
          "<b>Topic 11</b><br>Words: sun, praise, blah, hourra, huraah",
          "<b>Topic 11</b><br>Words: sun, praise, blah, hourra, huraah",
          "<b>Topic 11</b><br>Words: sun, praise, glory, blah, hourra",
          "<b>Topic 11</b><br>Words: sun, praise, blah, hourra, huraah",
          "<b>Topic 11</b><br>Words: sun, praise, blah, hourra, huraah",
          "<b>Topic 11</b><br>Words: sun, praise, blah, hourra, huraah",
          "<b>Topic 11</b><br>Words: sun, praise, complete, must, blah",
          "<b>Topic 11</b><br>Words: sun, praise, blah, hourra, huraah",
          "<b>Topic 11</b><br>Words: sun, praise, blah, hourra, huraah",
          "<b>Topic 11</b><br>Words: sun, praise, blah, hourra, huraah",
          "<b>Topic 11</b><br>Words: sun, praise, salute, moon, therefore",
          "<b>Topic 11</b><br>Words: sun, praise, hoorah, swallow, bom",
          "<b>Topic 11</b><br>Words: sun, praise, blah, hourra, huraah"
         ],
         "marker": {
          "color": "#D55E00"
         },
         "mode": "lines",
         "name": "11_sun_praise_blah_hourra",
         "type": "scatter",
         "x": [
          "2014-04-20T18:07:07.316999",
          "2014-11-10T19:13:09.150000",
          "2015-05-29T20:17:53.300000",
          "2015-12-15T21:22:37.449999",
          "2016-07-02T22:27:21.600000",
          "2017-01-18T23:32:05.750000",
          "2017-08-07T00:36:49.900000",
          "2018-02-23T01:41:34.049999",
          "2018-09-11T02:46:18.200000",
          "2019-03-30T03:51:02.350000",
          "2019-10-16T04:55:46.500000",
          "2020-05-03T06:00:30.649999",
          "2020-11-19T07:05:14.800000",
          "2021-06-07T08:09:58.950000",
          "2021-12-24T09:14:43.100000",
          "2022-07-12T10:19:27.249999",
          "2023-01-28T11:24:11.400000",
          "2023-08-16T12:28:55.550000",
          "2024-03-03T13:33:39.700000",
          "2024-09-19T14:38:23.849999"
         ],
         "y": [
          97,
          19,
          12,
          13,
          15,
          9,
          12,
          3,
          3,
          7,
          9,
          9,
          8,
          11,
          7,
          5,
          4,
          8,
          9,
          6
         ]
        },
        {
         "hoverinfo": "text",
         "hovertext": [
          "<b>Topic 12</b><br>Words: darksouls, darksoulsii, dark, exe, beta",
          "<b>Topic 12</b><br>Words: darksouls, darker, sackschwer, hesitent, loosly",
          "<b>Topic 12</b><br>Words: darksouls, absurdly, dark, starved, noobed",
          "<b>Topic 12</b><br>Words: darksouls, xenoblade, chronicle, darksoul, okgamety",
          "<b>Topic 12</b><br>Words: darksouls, darkaum, squal, diffacult, poha",
          "<b>Topic 12</b><br>Words: darksouls, hunk, bsod, darksoulsii, compaired",
          "<b>Topic 12</b><br>Words: darksouls, cookie, endurence, darko, draksouls",
          "<b>Topic 12</b><br>Words: darksouls, objectivelly, darkouls, inspite, personaly",
          "<b>Topic 12</b><br>Words: darksouls, good, darksoul, john, dark",
          "<b>Topic 12</b><br>Words: darksouls, darkhorse, purists, silence, ngl",
          "<b>Topic 12</b><br>Words: darksouls, load, defentel, soloq, raipiers",
          "<b>Topic 12</b><br>Words: darksouls, blackpill, longtime, jrpg, greatsword",
          "<b>Topic 12</b><br>Words: darksouls, moonlight, prob, mom, darksoul",
          "<b>Topic 12</b><br>Words: darksouls, darksoul, john, issss, demondsouls",
          "<b>Topic 12</b><br>Words: darksouls, darksoul, darklurker, verbose, john",
          "<b>Topic 12</b><br>Words: darksouls, souliest, twoiest, darko, darksoul",
          "<b>Topic 12</b><br>Words: darksouls, darkdiver, dark, grandahl, sole",
          "<b>Topic 12</b><br>Words: john, darksoul, darksouls, wife, darkest",
          "<b>Topic 12</b><br>Words: darksouls, darks, darked, darksoul, erdtree",
          "<b>Topic 12</b><br>Words: darksouls, darksoul, darker, unresponsiveness, darkkiiih"
         ],
         "marker": {
          "color": "#0072B2"
         },
         "mode": "lines",
         "name": "12_darksouls_darksoul_john_dark",
         "type": "scatter",
         "x": [
          "2014-04-20T18:07:07.316999",
          "2014-11-10T19:13:09.150000",
          "2015-05-29T20:17:53.300000",
          "2015-12-15T21:22:37.449999",
          "2016-07-02T22:27:21.600000",
          "2017-01-18T23:32:05.750000",
          "2017-08-07T00:36:49.900000",
          "2018-02-23T01:41:34.049999",
          "2018-09-11T02:46:18.200000",
          "2019-03-30T03:51:02.350000",
          "2019-10-16T04:55:46.500000",
          "2020-05-03T06:00:30.649999",
          "2020-11-19T07:05:14.800000",
          "2021-06-07T08:09:58.950000",
          "2021-12-24T09:14:43.100000",
          "2022-07-12T10:19:27.249999",
          "2023-01-28T11:24:11.400000",
          "2023-08-16T12:28:55.550000",
          "2024-03-03T13:33:39.700000",
          "2024-09-19T14:38:23.849999"
         ],
         "y": [
          36,
          9,
          15,
          9,
          6,
          3,
          9,
          8,
          1,
          10,
          25,
          9,
          17,
          20,
          17,
          13,
          8,
          7,
          19,
          16
         ]
        },
        {
         "hoverinfo": "text",
         "hovertext": [
          "<b>Topic 13</b><br>Words: pc, xbox, gpu, console, card",
          "<b>Topic 13</b><br>Words: pc, minimum, console, crash, fps",
          "<b>Topic 13</b><br>Words: pc, fps, card, minimum, framerate",
          "<b>Topic 13</b><br>Words: pc, xbox, computer, transfer, spec",
          "<b>Topic 13</b><br>Words: dscm, desighed, chinses, laptop, chinises",
          "<b>Topic 13</b><br>Words: booting, preeeeeety, pc, xboxone, macbook",
          "<b>Topic 13</b><br>Words: gb, spec, os, ata, sandisk",
          "<b>Topic 13</b><br>Words: evironments, soooooooo, pentium, gt, pleased",
          "<b>Topic 13</b><br>Words: becuz, crappy, spec, card, laptop",
          "<b>Topic 13</b><br>Words: xbox, pc, fullscreen, optimized, passion",
          "<b>Topic 13</b><br>Words: pc, ubuntu, fond, hd, fibre",
          "<b>Topic 13</b><br>Words: aweare, aweassome, xbox, pc, infuriatingly",
          "<b>Topic 13</b><br>Words: laptop, pc, xbox, gb, ram",
          "<b>Topic 13</b><br>Words: xbox, pc, laptop, contruls, suporrt",
          "<b>Topic 13</b><br>Words: aghhh, pc, sadge, broke, nonstop",
          "<b>Topic 13</b><br>Words: fullcreen, utter, hundereds, pc, amass",
          "<b>Topic 13</b><br>Words: intead, eitherway, platform, unhappy, fullscreen",
          "<b>Topic 13</b><br>Words: xbox, hundred, another, put, black",
          "<b>Topic 13</b><br>Words: godpiece, implementation, runback, decade, pc",
          "<b>Topic 13</b><br>Words: minimize, monitor, pc, fullscreen, xbox"
         ],
         "marker": {
          "color": "#CC79A7"
         },
         "mode": "lines",
         "name": "13_pc_xbox_laptop_console",
         "type": "scatter",
         "x": [
          "2014-04-20T18:07:07.316999",
          "2014-11-10T19:13:09.150000",
          "2015-05-29T20:17:53.300000",
          "2015-12-15T21:22:37.449999",
          "2016-07-02T22:27:21.600000",
          "2017-01-18T23:32:05.750000",
          "2017-08-07T00:36:49.900000",
          "2018-02-23T01:41:34.049999",
          "2018-09-11T02:46:18.200000",
          "2019-03-30T03:51:02.350000",
          "2019-10-16T04:55:46.500000",
          "2020-05-03T06:00:30.649999",
          "2020-11-19T07:05:14.800000",
          "2021-06-07T08:09:58.950000",
          "2021-12-24T09:14:43.100000",
          "2022-07-12T10:19:27.249999",
          "2023-01-28T11:24:11.400000",
          "2023-08-16T12:28:55.550000",
          "2024-03-03T13:33:39.700000",
          "2024-09-19T14:38:23.849999"
         ],
         "y": [
          72,
          20,
          19,
          14,
          8,
          9,
          8,
          3,
          3,
          7,
          12,
          10,
          12,
          19,
          8,
          5,
          8,
          1,
          4,
          13
         ]
        },
        {
         "hoverinfo": "text",
         "hovertext": [
          "<b>Topic 14</b><br>Words: fun, crazy, know, cassual, ha",
          "<b>Topic 14</b><br>Words: gritty, fun, cassual, ha, spambush",
          "<b>Topic 14</b><br>Words: magical, fun, cassual, ha, spambush",
          "<b>Topic 14</b><br>Words: fun, cassual, ha, spambush, scuffed",
          "<b>Topic 14</b><br>Words: fun, cassual, ha, spambush, scuffed",
          "<b>Topic 14</b><br>Words: fun, nutshell, haha, last, cassual",
          "<b>Topic 14</b><br>Words: fun, cassual, ha, spambush, scuffed",
          "<b>Topic 14</b><br>Words: fun, cassual, ha, spambush, scuffed",
          "<b>Topic 14</b><br>Words: fun, sound, cassual, ha, spambush",
          "<b>Topic 14</b><br>Words: fun, long, cassual, ha, spambush",
          "<b>Topic 14</b><br>Words: fun, ha, interesting, cassual, spambush",
          "<b>Topic 14</b><br>Words: fun, stuff, cassual, ha, spambush",
          "<b>Topic 14</b><br>Words: fun, another, always, cassual, ha",
          "<b>Topic 14</b><br>Words: fun, scary, cassual, ha, spambush",
          "<b>Topic 14</b><br>Words: fun, even, cassual, ha, spambush",
          "<b>Topic 14</b><br>Words: fun, cassual, ha, spambush, scuffed",
          "<b>Topic 14</b><br>Words: fun, abuse, stupid, cassual, ha",
          "<b>Topic 14</b><br>Words: fun, cassual, spambush, scuffed, alot",
          "<b>Topic 14</b><br>Words: fun, hehe, cassual, ha, spambush"
         ],
         "marker": {
          "color": "#E69F00"
         },
         "mode": "lines",
         "name": "14_fun_cassual_ha_spambush",
         "type": "scatter",
         "x": [
          "2014-04-20T18:07:07.316999",
          "2014-11-10T19:13:09.150000",
          "2015-05-29T20:17:53.300000",
          "2015-12-15T21:22:37.449999",
          "2016-07-02T22:27:21.600000",
          "2017-01-18T23:32:05.750000",
          "2017-08-07T00:36:49.900000",
          "2018-09-11T02:46:18.200000",
          "2019-03-30T03:51:02.350000",
          "2019-10-16T04:55:46.500000",
          "2020-05-03T06:00:30.649999",
          "2020-11-19T07:05:14.800000",
          "2021-06-07T08:09:58.950000",
          "2021-12-24T09:14:43.100000",
          "2022-07-12T10:19:27.249999",
          "2023-01-28T11:24:11.400000",
          "2023-08-16T12:28:55.550000",
          "2024-03-03T13:33:39.700000",
          "2024-09-19T14:38:23.849999"
         ],
         "y": [
          12,
          3,
          3,
          3,
          2,
          8,
          3,
          4,
          11,
          22,
          19,
          26,
          28,
          15,
          10,
          13,
          14,
          21,
          18
         ]
        },
        {
         "hoverinfo": "text",
         "hovertext": [
          "<b>Topic 15</b><br>Words: nice, niceeeeeeeeeee, yi, yes, yeah",
          "<b>Topic 15</b><br>Words: nice, yeah, yes, niceeeeeeeeeee, yi",
          "<b>Topic 15</b><br>Words: nice, niceeeeeeeeeee, yi, yes, yeah",
          "<b>Topic 15</b><br>Words: nice, niceeeeeeeeeee, yi, yes, yeah",
          "<b>Topic 15</b><br>Words: nice, niceeeeeeeeeee, yi, yes, yeah",
          "<b>Topic 15</b><br>Words: nice, niceeeeeeeeeee, yi, yes, yeah",
          "<b>Topic 15</b><br>Words: nice, niceeeeeeeeeee, yi, yes, yeah",
          "<b>Topic 15</b><br>Words: nice, niceeeeeeeeeee, yi, yes, yeah",
          "<b>Topic 15</b><br>Words: nice, niceeeeeeeeeee, yi, yes, yeah",
          "<b>Topic 15</b><br>Words: nice, yi, niceeeeeeeeeee, yes, yeah",
          "<b>Topic 15</b><br>Words: nice, niceeeeeeeeeee, yi, yes, yeah",
          "<b>Topic 15</b><br>Words: nice, niceeeeeeeeeee, yi, yes, yeah",
          "<b>Topic 15</b><br>Words: nice, niceeeeeeeeeee, yes, yi, yeah",
          "<b>Topic 15</b><br>Words: nice, niceeeeeeeeeee, yi, yes, yeah",
          "<b>Topic 15</b><br>Words: nice, niceeeeeeeeeee, yi, yes, yeah",
          "<b>Topic 15</b><br>Words: nice, niceeeeeeeeeee, yi, yes, yeah",
          "<b>Topic 15</b><br>Words: nice, niceeeeeeeeeee, yi, yes, yeah",
          "<b>Topic 15</b><br>Words: nice, niceeeeeeeeeee, yi, yes, yeah",
          "<b>Topic 15</b><br>Words: nice, niceeeeeeeeeee, yi, yes, yeah",
          "<b>Topic 15</b><br>Words: nice, niceeeeeeeeeee, yi, yes, yeah"
         ],
         "marker": {
          "color": "#56B4E9"
         },
         "mode": "lines",
         "name": "15_nice_niceeeeeeeeeee_yi_yes",
         "type": "scatter",
         "x": [
          "2014-04-20T18:07:07.316999",
          "2014-11-10T19:13:09.150000",
          "2015-05-29T20:17:53.300000",
          "2015-12-15T21:22:37.449999",
          "2016-07-02T22:27:21.600000",
          "2017-01-18T23:32:05.750000",
          "2017-08-07T00:36:49.900000",
          "2018-02-23T01:41:34.049999",
          "2018-09-11T02:46:18.200000",
          "2019-03-30T03:51:02.350000",
          "2019-10-16T04:55:46.500000",
          "2020-05-03T06:00:30.649999",
          "2020-11-19T07:05:14.800000",
          "2021-06-07T08:09:58.950000",
          "2021-12-24T09:14:43.100000",
          "2022-07-12T10:19:27.249999",
          "2023-01-28T11:24:11.400000",
          "2023-08-16T12:28:55.550000",
          "2024-03-03T13:33:39.700000",
          "2024-09-19T14:38:23.849999"
         ],
         "y": [
          7,
          6,
          2,
          2,
          2,
          3,
          5,
          9,
          4,
          17,
          23,
          29,
          23,
          26,
          23,
          8,
          13,
          13,
          9,
          8
         ]
        },
        {
         "hoverinfo": "text",
         "hovertext": [
          "<b>Topic 16</b><br>Words: rpg, action, rpgs, fantasy, ever",
          "<b>Topic 16</b><br>Words: rpg, action, amanzingggggggg, contemplation, evaaaaah",
          "<b>Topic 16</b><br>Words: rpg, beatifull, action, fantasy, masterpeice",
          "<b>Topic 16</b><br>Words: rpg, action, rpgs, furthur, geewwwwddd",
          "<b>Topic 16</b><br>Words: rpg, dragons, educative, buttkicking, dogma",
          "<b>Topic 16</b><br>Words: rpg, beautyful, ga, kink, darksoul",
          "<b>Topic 16</b><br>Words: unic, salvation, rpg, arpg, af",
          "<b>Topic 16</b><br>Words: rpg, totally, adventure, action, light",
          "<b>Topic 16</b><br>Words: gamepaly, defect, rpg, action, rpgs",
          "<b>Topic 16</b><br>Words: goodness, fav, rpg, action, rpgs",
          "<b>Topic 16</b><br>Words: rpg, jrpg, action, fantasy, bb",
          "<b>Topic 16</b><br>Words: rpg, action, epitome, overshadow, meaningful",
          "<b>Topic 16</b><br>Words: rpg, integrity, fantasy, action, ingame",
          "<b>Topic 16</b><br>Words: rpg, polemic, challanger, rpgs, jewel",
          "<b>Topic 16</b><br>Words: rpg, action, footstep, ive, endlessly",
          "<b>Topic 16</b><br>Words: line, genre, hand, software, others",
          "<b>Topic 16</b><br>Words: tribulation, rpg, arpg, experimental, polished",
          "<b>Topic 16</b><br>Words: crpg, european, eastern, personal, rpg",
          "<b>Topic 16</b><br>Words: rpg, rpgs, traditionally, action, exceed",
          "<b>Topic 16</b><br>Words: rpg, victim, larping, unenviable, action"
         ],
         "marker": {
          "color": "#009E73"
         },
         "mode": "lines",
         "name": "16_rpg_action_rpgs_fantasy",
         "type": "scatter",
         "x": [
          "2014-04-20T18:07:07.316999",
          "2014-11-10T19:13:09.150000",
          "2015-05-29T20:17:53.300000",
          "2015-12-15T21:22:37.449999",
          "2016-07-02T22:27:21.600000",
          "2017-01-18T23:32:05.750000",
          "2017-08-07T00:36:49.900000",
          "2018-02-23T01:41:34.049999",
          "2018-09-11T02:46:18.200000",
          "2019-03-30T03:51:02.350000",
          "2019-10-16T04:55:46.500000",
          "2020-05-03T06:00:30.649999",
          "2020-11-19T07:05:14.800000",
          "2021-06-07T08:09:58.950000",
          "2021-12-24T09:14:43.100000",
          "2022-07-12T10:19:27.249999",
          "2023-01-28T11:24:11.400000",
          "2023-08-16T12:28:55.550000",
          "2024-03-03T13:33:39.700000",
          "2024-09-19T14:38:23.849999"
         ],
         "y": [
          80,
          16,
          13,
          18,
          8,
          6,
          4,
          2,
          2,
          4,
          8,
          5,
          12,
          10,
          6,
          1,
          4,
          1,
          6,
          7
         ]
        },
        {
         "hoverinfo": "text",
         "hovertext": [
          "<b>Topic 17</b><br>Words: challenge, challenging, centry, harcore, biting",
          "<b>Topic 17</b><br>Words: challenge, supah, worths, dosen, birthday",
          "<b>Topic 17</b><br>Words: challenge, realy, challenging, definetly, taste",
          "<b>Topic 17</b><br>Words: challenge, humility, litterally, goal, respect",
          "<b>Topic 17</b><br>Words: challenging, cking, challenge, awesome, real",
          "<b>Topic 17</b><br>Words: sophisticatioadawdw, awd, difficeurewlt, challenge, challenging",
          "<b>Topic 17</b><br>Words: regret, challenge, satisfy, iii, challenging",
          "<b>Topic 17</b><br>Words: lul, hungry, challenge, equally, minute",
          "<b>Topic 17</b><br>Words: grasp, timing, challenge, hop, ago",
          "<b>Topic 17</b><br>Words: challenge, aaaaaarrrrghhhh, adventurous, werent, challenging",
          "<b>Topic 17</b><br>Words: challenge, haaard, challenging, wrap, brilliant",
          "<b>Topic 17</b><br>Words: challenge, aaaaaaaaaaaaaaaaaaaaaaaaaaaaaaaaaaaaaaaaaaaaaaaaaaaaaaaaaaaaaahhhhhhhhhhhhhhhhhhhhhhhhhhhhhhhhhhhhhhhhhhhhhh, aaaaaaaaaaaaaaaaaaaaaaaaaaaaaaaaahhhhhhhhhhhhhhhhhhhhhhhhhhhhhhhhhhhhhhhhhhhhhhhhhhhhhhhh, legendary, challenging",
          "<b>Topic 17</b><br>Words: challenge, enimies, brilliantly, definitly, rag",
          "<b>Topic 17</b><br>Words: challenge, differently, challenging, overcome, playing",
          "<b>Topic 17</b><br>Words: challenge, trick, worthwhile, city, afraid",
          "<b>Topic 17</b><br>Words: extreme, numerous, challenge, ability, replay",
          "<b>Topic 17</b><br>Words: stressing, memed, challenge, challenging, super",
          "<b>Topic 17</b><br>Words: challenged, challenging, school, challenge, balance",
          "<b>Topic 17</b><br>Words: imo, damn, challenging, real, challenge",
          "<b>Topic 17</b><br>Words: challengeing, bid, challenge, hat, everyone"
         ],
         "marker": {
          "color": "#F0E442"
         },
         "mode": "lines",
         "name": "17_challenge_challenging_fun_aaaaaaaaaaa...",
         "type": "scatter",
         "x": [
          "2014-04-20T18:07:07.316999",
          "2014-11-10T19:13:09.150000",
          "2015-05-29T20:17:53.300000",
          "2015-12-15T21:22:37.449999",
          "2016-07-02T22:27:21.600000",
          "2017-01-18T23:32:05.750000",
          "2017-08-07T00:36:49.900000",
          "2018-02-23T01:41:34.049999",
          "2018-09-11T02:46:18.200000",
          "2019-03-30T03:51:02.350000",
          "2019-10-16T04:55:46.500000",
          "2020-05-03T06:00:30.649999",
          "2020-11-19T07:05:14.800000",
          "2021-06-07T08:09:58.950000",
          "2021-12-24T09:14:43.100000",
          "2022-07-12T10:19:27.249999",
          "2023-01-28T11:24:11.400000",
          "2023-08-16T12:28:55.550000",
          "2024-03-03T13:33:39.700000",
          "2024-09-19T14:38:23.849999"
         ],
         "y": [
          51,
          28,
          10,
          8,
          6,
          6,
          3,
          5,
          3,
          10,
          19,
          20,
          6,
          11,
          10,
          3,
          3,
          5,
          2,
          3
         ]
        },
        {
         "hoverinfo": "text",
         "hovertext": [
          "<b>Topic 18</b><br>Words: ever, best, everrrrrrrrrr, bestes, aloud",
          "<b>Topic 18</b><br>Words: ever, best, horry, shet, canser",
          "<b>Topic 18</b><br>Words: ever, freaking, best, lol, sombre",
          "<b>Topic 18</b><br>Words: ever, best, sombre, canser, peev",
          "<b>Topic 18</b><br>Words: ever, foooooooorrrrrrrrr, eeeeeeeeeeeevvvvvvvvvvveeeeeeeeerrrrrrr, best, possibly",
          "<b>Topic 18</b><br>Words: ever, best, sombre, canser, peev",
          "<b>Topic 18</b><br>Words: ever, reccomend, best, sombre, everrrrrrrrrr",
          "<b>Topic 18</b><br>Words: ever, best, sombre, canser, peev",
          "<b>Topic 18</b><br>Words: sombre, ever, best, fuck, everrrrrrrrrr",
          "<b>Topic 18</b><br>Words: ever, best, probably, sombre, everrrrrrrrrr",
          "<b>Topic 18</b><br>Words: ever, peev, best, part, sombre",
          "<b>Topic 18</b><br>Words: ever, indeed, best, fucking, shit",
          "<b>Topic 18</b><br>Words: ever, greatt, fcking, best, satisfied",
          "<b>Topic 18</b><br>Words: ever, omg, best, hey, sombre",
          "<b>Topic 18</b><br>Words: ever, best, sombre, canser, peev",
          "<b>Topic 18</b><br>Words: ever, best, since, sombre, everrrrrrrrrr",
          "<b>Topic 18</b><br>Words: ever, best, fuck, part, well",
          "<b>Topic 18</b><br>Words: ever, best, side, always, probably",
          "<b>Topic 18</b><br>Words: ever, best, ii, like, sombre",
          "<b>Topic 18</b><br>Words: ever, mura, ee, best, tony"
         ],
         "marker": {
          "color": "#D55E00"
         },
         "mode": "lines",
         "name": "18_ever_best_sombre_shet",
         "type": "scatter",
         "x": [
          "2014-04-20T18:07:07.316999",
          "2014-11-10T19:13:09.150000",
          "2015-05-29T20:17:53.300000",
          "2015-12-15T21:22:37.449999",
          "2016-07-02T22:27:21.600000",
          "2017-01-18T23:32:05.750000",
          "2017-08-07T00:36:49.900000",
          "2018-02-23T01:41:34.049999",
          "2018-09-11T02:46:18.200000",
          "2019-03-30T03:51:02.350000",
          "2019-10-16T04:55:46.500000",
          "2020-05-03T06:00:30.649999",
          "2020-11-19T07:05:14.800000",
          "2021-06-07T08:09:58.950000",
          "2021-12-24T09:14:43.100000",
          "2022-07-12T10:19:27.249999",
          "2023-01-28T11:24:11.400000",
          "2023-08-16T12:28:55.550000",
          "2024-03-03T13:33:39.700000",
          "2024-09-19T14:38:23.849999"
         ],
         "y": [
          63,
          26,
          8,
          13,
          9,
          5,
          4,
          1,
          3,
          5,
          10,
          6,
          7,
          9,
          5,
          3,
          7,
          7,
          8,
          11
         ]
        },
        {
         "hoverinfo": "text",
         "hovertext": [
          "<b>Topic 19</b><br>Words: controller, xbox, break, vibrate, monitor",
          "<b>Topic 19</b><br>Words: controller, xbox, vendricks, awhile, rager",
          "<b>Topic 19</b><br>Words: controller, arrive, becomming, window, cu",
          "<b>Topic 19</b><br>Words: controller, xboxone, wire, smash, brake",
          "<b>Topic 19</b><br>Words: controller, bubble, wrap, haate, defiently",
          "<b>Topic 19</b><br>Words: controller, window, cable, break, folder",
          "<b>Topic 19</b><br>Words: controller, offical, ahhh, xbox, smash",
          "<b>Topic 19</b><br>Words: camt, definitley, controller, window, worst",
          "<b>Topic 19</b><br>Words: controller, playstation, reborn, external, dualshock",
          "<b>Topic 19</b><br>Words: controller, broken, finally, control, fun",
          "<b>Topic 19</b><br>Words: controller, rec, bill, dice, configuration",
          "<b>Topic 19</b><br>Words: wojak, controller, smug, threw, plug",
          "<b>Topic 19</b><br>Words: controller, dependant, bossfight, break, legit",
          "<b>Topic 19</b><br>Words: controller, pulverize, electronic, break, dust",
          "<b>Topic 19</b><br>Words: controller, carpal, armin, smash, dang",
          "<b>Topic 19</b><br>Words: business, controller, joystick, controler, window",
          "<b>Topic 19</b><br>Words: controller, cant, xbox, work, buy",
          "<b>Topic 19</b><br>Words: controller, dualsense, baybeyy, angrily, disc",
          "<b>Topic 19</b><br>Words: urself, controller, well, get, xbox",
          "<b>Topic 19</b><br>Words: joystick, controller, break, support, wan"
         ],
         "marker": {
          "color": "#0072B2"
         },
         "mode": "lines",
         "name": "19_controller_xbox_break_window",
         "type": "scatter",
         "x": [
          "2014-04-20T18:07:07.316999",
          "2014-11-10T19:13:09.150000",
          "2015-05-29T20:17:53.300000",
          "2015-12-15T21:22:37.449999",
          "2016-07-02T22:27:21.600000",
          "2017-01-18T23:32:05.750000",
          "2017-08-07T00:36:49.900000",
          "2018-02-23T01:41:34.049999",
          "2018-09-11T02:46:18.200000",
          "2019-03-30T03:51:02.350000",
          "2019-10-16T04:55:46.500000",
          "2020-05-03T06:00:30.649999",
          "2020-11-19T07:05:14.800000",
          "2021-06-07T08:09:58.950000",
          "2021-12-24T09:14:43.100000",
          "2022-07-12T10:19:27.249999",
          "2023-01-28T11:24:11.400000",
          "2023-08-16T12:28:55.550000",
          "2024-03-03T13:33:39.700000",
          "2024-09-19T14:38:23.849999"
         ],
         "y": [
          73,
          23,
          8,
          10,
          8,
          11,
          10,
          2,
          3,
          3,
          11,
          5,
          4,
          8,
          7,
          5,
          2,
          8,
          1,
          4
         ]
        },
        {
         "hoverinfo": "text",
         "hovertext": [
          "<b>Topic 20</b><br>Words: buy, bought, sale, twice, hardley",
          "<b>Topic 20</b><br>Words: sale, buy, fcuk, solitude, twice",
          "<b>Topic 20</b><br>Words: sale, buy, plesant, bough, bought",
          "<b>Topic 20</b><br>Words: buy, bought, twice, grillfriend, musta",
          "<b>Topic 20</b><br>Words: circlejerker, hahahahahah, rhino, sale, buy",
          "<b>Topic 20</b><br>Words: bought, shgould, twice, sux, buy",
          "<b>Topic 20</b><br>Words: maldron, twice, asshole, price, buy",
          "<b>Topic 20</b><br>Words: remarble, whenever, twice, recomend, glad",
          "<b>Topic 20</b><br>Words: sale, lets, unjustified, summer, aint",
          "<b>Topic 20</b><br>Words: sale, aighyt, chuuni, cheapest, barley",
          "<b>Topic 20</b><br>Words: monki, preconceived, buy, sale, notion",
          "<b>Topic 20</b><br>Words: sale, fook, buy, fookin, bought",
          "<b>Topic 20</b><br>Words: admission, buy, sale, price, guy",
          "<b>Topic 20</b><br>Words: ye, buy, crazy, suggest, terrible",
          "<b>Topic 20</b><br>Words: fricking, hoe, yall, winter, sale",
          "<b>Topic 20</b><br>Words: eam, sale, bought, buy, noob",
          "<b>Topic 20</b><br>Words: hesitation, aint, buck, therefore, buy",
          "<b>Topic 20</b><br>Words: belive, yesterday, bought, buy, idk",
          "<b>Topic 20</b><br>Words: buyin, twice, belong, buy, merchant"
         ],
         "marker": {
          "color": "#CC79A7"
         },
         "mode": "lines",
         "name": "20_buy_sale_bought_twice",
         "type": "scatter",
         "x": [
          "2014-04-20T18:07:07.316999",
          "2014-11-10T19:13:09.150000",
          "2015-05-29T20:17:53.300000",
          "2015-12-15T21:22:37.449999",
          "2016-07-02T22:27:21.600000",
          "2017-01-18T23:32:05.750000",
          "2017-08-07T00:36:49.900000",
          "2018-02-23T01:41:34.049999",
          "2019-03-30T03:51:02.350000",
          "2019-10-16T04:55:46.500000",
          "2020-05-03T06:00:30.649999",
          "2020-11-19T07:05:14.800000",
          "2021-06-07T08:09:58.950000",
          "2021-12-24T09:14:43.100000",
          "2022-07-12T10:19:27.249999",
          "2023-01-28T11:24:11.400000",
          "2023-08-16T12:28:55.550000",
          "2024-03-03T13:33:39.700000",
          "2024-09-19T14:38:23.849999"
         ],
         "y": [
          51,
          12,
          15,
          16,
          9,
          10,
          5,
          3,
          8,
          10,
          8,
          11,
          4,
          5,
          5,
          9,
          4,
          6,
          8
         ]
        },
        {
         "hoverinfo": "text",
         "hovertext": [
          "<b>Topic 21</b><br>Words: sun, praise, priase, consist, solaire",
          "<b>Topic 21</b><br>Words: sun, praise, username, dontu, lagstabbing",
          "<b>Topic 21</b><br>Words: sun, praise, navigating, solare, gwynevere",
          "<b>Topic 21</b><br>Words: sun, praise, hummingbird, wretch, pummled",
          "<b>Topic 21</b><br>Words: sun, praise, praisethe, froom, selft",
          "<b>Topic 21</b><br>Words: rekt, sun, praise, bros, fulfil",
          "<b>Topic 21</b><br>Words: sun, praise, cuphead, allot, backstepped",
          "<b>Topic 21</b><br>Words: hurra, sun, glorify, hurray, praise",
          "<b>Topic 21</b><br>Words: wonderfull, beautifull, sun, praise, everywhere",
          "<b>Topic 21</b><br>Words: praiser, sun, praising, praise, beware",
          "<b>Topic 21</b><br>Words: sun, ether, sunbros, praise, definition",
          "<b>Topic 21</b><br>Words: sun, praise, approve, gorgeous, ive",
          "<b>Topic 21</b><br>Words: sun, praise, mercifully, brick, drangleics",
          "<b>Topic 21</b><br>Words: sun, praise, strat, diff, shenanigan",
          "<b>Topic 21</b><br>Words: receive, totally, underrated, sun, deserve",
          "<b>Topic 21</b><br>Words: sunbro, live, grab, sun, truly",
          "<b>Topic 21</b><br>Words: sunbro, chunk, dying, onto, sun",
          "<b>Topic 21</b><br>Words: stellar, sun, praise, priase, therefore",
          "<b>Topic 21</b><br>Words: chill, dungeon, vibe, sun, praise",
          "<b>Topic 21</b><br>Words: step, afterall, sun, praise, wasnt"
         ],
         "marker": {
          "color": "#E69F00"
         },
         "mode": "lines",
         "name": "21_sun_praise_priase_therefore",
         "type": "scatter",
         "x": [
          "2014-04-20T18:07:07.316999",
          "2014-11-10T19:13:09.150000",
          "2015-05-29T20:17:53.300000",
          "2015-12-15T21:22:37.449999",
          "2016-07-02T22:27:21.600000",
          "2017-01-18T23:32:05.750000",
          "2017-08-07T00:36:49.900000",
          "2018-02-23T01:41:34.049999",
          "2018-09-11T02:46:18.200000",
          "2019-03-30T03:51:02.350000",
          "2019-10-16T04:55:46.500000",
          "2020-05-03T06:00:30.649999",
          "2020-11-19T07:05:14.800000",
          "2021-06-07T08:09:58.950000",
          "2021-12-24T09:14:43.100000",
          "2022-07-12T10:19:27.249999",
          "2023-01-28T11:24:11.400000",
          "2023-08-16T12:28:55.550000",
          "2024-03-03T13:33:39.700000",
          "2024-09-19T14:38:23.849999"
         ],
         "y": [
          83,
          20,
          5,
          15,
          7,
          6,
          9,
          3,
          3,
          4,
          4,
          5,
          8,
          4,
          1,
          2,
          2,
          1,
          1,
          3
         ]
        },
        {
         "hoverinfo": "text",
         "hovertext": [
          "<b>Topic 22</b><br>Words: hitboxes, videojame, box, biscuit, gamplay",
          "<b>Topic 22</b><br>Words: hitbox, wierd, lag, wrong, prepare",
          "<b>Topic 22</b><br>Words: complane, sugest, exept, hitboxes, boat",
          "<b>Topic 22</b><br>Words: relate, hitboxes, expect, issue, hitbox",
          "<b>Topic 22</b><br>Words: hitbox, machine, cking, hitboxes, understandable",
          "<b>Topic 22</b><br>Words: balancing, detection, hitbox, ignore, small",
          "<b>Topic 22</b><br>Words: puzzle, hitboxes, replayability, often, break",
          "<b>Topic 22</b><br>Words: detection, hitboxes, fatty, anyways, hit",
          "<b>Topic 22</b><br>Words: hitboxes, redirect, awkward, hitbox, detach",
          "<b>Topic 22</b><br>Words: hitboxes, boxxes, hitboxs, pritty, hitbox",
          "<b>Topic 22</b><br>Words: hitboxes, hitbox, box, quebrada, bah",
          "<b>Topic 22</b><br>Words: hitboxes, hitbox, box, quirkiest, swagger",
          "<b>Topic 22</b><br>Words: hitboxes, hitbox, box, brrrrrrrrrrrrrrrrrrrrrrrrrr, shiitbox",
          "<b>Topic 22</b><br>Words: hitboxes, hitbox, box, rodeo, submit",
          "<b>Topic 22</b><br>Words: box, hitboxes, sleeper, hitbox, hit",
          "<b>Topic 22</b><br>Words: hitboxes, hitbox, box, hit, caetus",
          "<b>Topic 22</b><br>Words: hitbox, hitboxes, box, assin, dawgshi",
          "<b>Topic 22</b><br>Words: hitboxes, hitbox, box, hyperinflation, hungary"
         ],
         "marker": {
          "color": "#56B4E9"
         },
         "mode": "lines",
         "name": "22_hitboxes_hitbox_box_hit",
         "type": "scatter",
         "x": [
          "2014-04-20T18:07:07.316999",
          "2014-11-10T19:13:09.150000",
          "2015-12-15T21:22:37.449999",
          "2016-07-02T22:27:21.600000",
          "2017-01-18T23:32:05.750000",
          "2017-08-07T00:36:49.900000",
          "2018-09-11T02:46:18.200000",
          "2019-03-30T03:51:02.350000",
          "2019-10-16T04:55:46.500000",
          "2020-05-03T06:00:30.649999",
          "2020-11-19T07:05:14.800000",
          "2021-06-07T08:09:58.950000",
          "2021-12-24T09:14:43.100000",
          "2022-07-12T10:19:27.249999",
          "2023-01-28T11:24:11.400000",
          "2023-08-16T12:28:55.550000",
          "2024-03-03T13:33:39.700000",
          "2024-09-19T14:38:23.849999"
         ],
         "y": [
          9,
          2,
          4,
          1,
          3,
          1,
          2,
          3,
          7,
          8,
          21,
          21,
          14,
          19,
          9,
          23,
          17,
          22
         ]
        },
        {
         "hoverinfo": "text",
         "hovertext": [
          "<b>Topic 23</b><br>Words: soulsborne, souler, freshness, stoke, stronk",
          "<b>Topic 23</b><br>Words: soulsbourne, nonetheless, memorable, decent, soulsborne",
          "<b>Topic 23</b><br>Words: soulsborne, bologna, soulsborn, intro, equal",
          "<b>Topic 23</b><br>Words: soulsborne, especailly, hardes, romhack, dampen",
          "<b>Topic 23</b><br>Words: selection, soulsborne, opinion, favorite, pvp",
          "<b>Topic 23</b><br>Words: soulsborne, pfft, admiration, soulsborn, bliss",
          "<b>Topic 23</b><br>Words: soulsborne, unmistakably, inconic, soulsbourne, atomsphere",
          "<b>Topic 23</b><br>Words: soulsborne, soulsbourne, soulsky, codesouls, apotheosis",
          "<b>Topic 23</b><br>Words: soulsborne, soulsbourne, bourne, rumoured, ultimatum",
          "<b>Topic 23</b><br>Words: soulsborne, soulsbourne, aliexpress, soulslike, soulsgame",
          "<b>Topic 23</b><br>Words: soulsborne, soulsbourne, mortal, shell, soulslike",
          "<b>Topic 23</b><br>Words: soulsborne, outclasses, dinguses, soulsringborne, amogus",
          "<b>Topic 23</b><br>Words: soulsborne, soulser, trashy, revolutionize, analogy",
          "<b>Topic 23</b><br>Words: soulsborne, worst, soulborn, bop, soulsbourne",
          "<b>Topic 23</b><br>Words: soulsborne, soulsbourne, fr, soulsgame, aarg",
          "<b>Topic 23</b><br>Words: soulsborne, soulsbourne, soulslikes, fuzzies, ihatethisgame"
         ],
         "marker": {
          "color": "#009E73"
         },
         "mode": "lines",
         "name": "23_soulsborne_soulsbourne_soulsgame_soul...",
         "type": "scatter",
         "x": [
          "2016-07-02T22:27:21.600000",
          "2017-01-18T23:32:05.750000",
          "2017-08-07T00:36:49.900000",
          "2018-02-23T01:41:34.049999",
          "2018-09-11T02:46:18.200000",
          "2019-03-30T03:51:02.350000",
          "2019-10-16T04:55:46.500000",
          "2020-05-03T06:00:30.649999",
          "2020-11-19T07:05:14.800000",
          "2021-06-07T08:09:58.950000",
          "2021-12-24T09:14:43.100000",
          "2022-07-12T10:19:27.249999",
          "2023-01-28T11:24:11.400000",
          "2023-08-16T12:28:55.550000",
          "2024-03-03T13:33:39.700000",
          "2024-09-19T14:38:23.849999"
         ],
         "y": [
          3,
          1,
          4,
          3,
          1,
          9,
          14,
          18,
          11,
          17,
          18,
          8,
          12,
          13,
          22,
          19
         ]
        },
        {
         "hoverinfo": "text",
         "hovertext": [
          "<b>Topic 24</b><br>Words: ok, oka, wowcool, ya, ",
          "<b>Topic 24</b><br>Words: ok, oka, wowcool, ya, ",
          "<b>Topic 24</b><br>Words: ok, oka, wowcool, ya, ",
          "<b>Topic 24</b><br>Words: ok, oka, wowcool, ya, ",
          "<b>Topic 24</b><br>Words: ok, oka, wowcool, ya, ",
          "<b>Topic 24</b><br>Words: ok, oka, wowcool, ya, ",
          "<b>Topic 24</b><br>Words: ok, oka, wowcool, ya, ",
          "<b>Topic 24</b><br>Words: ok, oka, wowcool, ya, ",
          "<b>Topic 24</b><br>Words: ok, oka, wowcool, ya, ",
          "<b>Topic 24</b><br>Words: ok, oka, wowcool, ya, ",
          "<b>Topic 24</b><br>Words: ok, oka, wowcool, ya, ",
          "<b>Topic 24</b><br>Words: ok, wowcool, oka, ya, ",
          "<b>Topic 24</b><br>Words: ok, oka, wowcool, ya, ",
          "<b>Topic 24</b><br>Words: ok, oka, wowcool, ya, ",
          "<b>Topic 24</b><br>Words: ok, oka, wowcool, ya, ",
          "<b>Topic 24</b><br>Words: ok, ya, oka, wowcool, ",
          "<b>Topic 24</b><br>Words: ok, oka, wowcool, ya, ",
          "<b>Topic 24</b><br>Words: ok, oka, wowcool, ya, ",
          "<b>Topic 24</b><br>Words: ok, oka, wowcool, ya, "
         ],
         "marker": {
          "color": "#F0E442"
         },
         "mode": "lines",
         "name": "24_ok_wowcool_oka_ya",
         "type": "scatter",
         "x": [
          "2014-04-20T18:07:07.316999",
          "2014-11-10T19:13:09.150000",
          "2015-05-29T20:17:53.300000",
          "2015-12-15T21:22:37.449999",
          "2016-07-02T22:27:21.600000",
          "2017-01-18T23:32:05.750000",
          "2018-02-23T01:41:34.049999",
          "2018-09-11T02:46:18.200000",
          "2019-03-30T03:51:02.350000",
          "2019-10-16T04:55:46.500000",
          "2020-05-03T06:00:30.649999",
          "2020-11-19T07:05:14.800000",
          "2021-06-07T08:09:58.950000",
          "2021-12-24T09:14:43.100000",
          "2022-07-12T10:19:27.249999",
          "2023-01-28T11:24:11.400000",
          "2023-08-16T12:28:55.550000",
          "2024-03-03T13:33:39.700000",
          "2024-09-19T14:38:23.849999"
         ],
         "y": [
          23,
          9,
          4,
          10,
          2,
          2,
          7,
          6,
          7,
          12,
          13,
          8,
          11,
          10,
          9,
          8,
          13,
          8,
          5
         ]
        },
        {
         "hoverinfo": "text",
         "hovertext": [
          "<b>Topic 25</b><br>Words: love, grrrrr, fkin, frist, men",
          "<b>Topic 25</b><br>Words: love, grrrrr, fkin, frist, men",
          "<b>Topic 25</b><br>Words: love, grrrrr, fkin, frist, men",
          "<b>Topic 25</b><br>Words: love, grrrrr, fkin, frist, men",
          "<b>Topic 25</b><br>Words: love, grrrrr, fkin, frist, men",
          "<b>Topic 25</b><br>Words: love, grrrrr, fkin, frist, men",
          "<b>Topic 25</b><br>Words: fkin, love, grrrrr, frist, men",
          "<b>Topic 25</b><br>Words: love, grrrrr, fkin, frist, men",
          "<b>Topic 25</b><br>Words: love, grrrrr, fkin, frist, men",
          "<b>Topic 25</b><br>Words: grrrrr, love, fkin, frist, men",
          "<b>Topic 25</b><br>Words: love, grrrrr, fkin, frist, men",
          "<b>Topic 25</b><br>Words: love, grrrrr, fkin, frist, men",
          "<b>Topic 25</b><br>Words: love, simply, grrrrr, fkin, frist",
          "<b>Topic 25</b><br>Words: love, grrrrr, fkin, frist, men",
          "<b>Topic 25</b><br>Words: love, grrrrr, fkin, frist, men",
          "<b>Topic 25</b><br>Words: love, grrrrr, fkin, frist, men",
          "<b>Topic 25</b><br>Words: love, grrrrr, fkin, frist, men",
          "<b>Topic 25</b><br>Words: love, frist, grrrrr, fkin, men",
          "<b>Topic 25</b><br>Words: love, grrrrr, fkin, frist, men",
          "<b>Topic 25</b><br>Words: love, men, man, grrrrr, fkin"
         ],
         "marker": {
          "color": "#D55E00"
         },
         "mode": "lines",
         "name": "25_love_grrrrr_fkin_frist",
         "type": "scatter",
         "x": [
          "2014-04-20T18:07:07.316999",
          "2014-11-10T19:13:09.150000",
          "2015-05-29T20:17:53.300000",
          "2015-12-15T21:22:37.449999",
          "2016-07-02T22:27:21.600000",
          "2017-01-18T23:32:05.750000",
          "2017-08-07T00:36:49.900000",
          "2018-02-23T01:41:34.049999",
          "2018-09-11T02:46:18.200000",
          "2019-03-30T03:51:02.350000",
          "2019-10-16T04:55:46.500000",
          "2020-05-03T06:00:30.649999",
          "2020-11-19T07:05:14.800000",
          "2021-06-07T08:09:58.950000",
          "2021-12-24T09:14:43.100000",
          "2022-07-12T10:19:27.249999",
          "2023-01-28T11:24:11.400000",
          "2023-08-16T12:28:55.550000",
          "2024-03-03T13:33:39.700000",
          "2024-09-19T14:38:23.849999"
         ],
         "y": [
          21,
          12,
          4,
          10,
          1,
          3,
          5,
          2,
          1,
          6,
          6,
          10,
          8,
          16,
          2,
          8,
          6,
          11,
          10,
          16
         ]
        },
        {
         "hoverinfo": "text",
         "hovertext": [
          "<b>Topic 26</b><br>Words: hate, ing, homies, dennis, thanks",
          "<b>Topic 26</b><br>Words: hate, ing, homies, dennis, thanks",
          "<b>Topic 26</b><br>Words: hate, ing, homies, dennis, thanks",
          "<b>Topic 26</b><br>Words: hate, ing, homies, dennis, thanks",
          "<b>Topic 26</b><br>Words: hate, ing, homies, dennis, thanks",
          "<b>Topic 26</b><br>Words: hate, ing, homies, dennis, thanks",
          "<b>Topic 26</b><br>Words: hate, ing, homies, dennis, thanks",
          "<b>Topic 26</b><br>Words: hate, ing, homies, dennis, thanks",
          "<b>Topic 26</b><br>Words: hate, undeserved, edit, ing, homies",
          "<b>Topic 26</b><br>Words: cking, hate, ing, homies, dennis",
          "<b>Topic 26</b><br>Words: hate, ing, good, homies, dennis",
          "<b>Topic 26</b><br>Words: hate, homies, everyone, ing, dennis",
          "<b>Topic 26</b><br>Words: hate, ing, really, homies, dennis",
          "<b>Topic 26</b><br>Words: hate, ing, thanks, something, homies",
          "<b>Topic 26</b><br>Words: hate, ed, kinda, ing, homies",
          "<b>Topic 26</b><br>Words: hate, ing, homies, dennis, thanks",
          "<b>Topic 26</b><br>Words: hate, dennis, ing, video, homies",
          "<b>Topic 26</b><br>Words: hate, ill, ok, ing, homies",
          "<b>Topic 26</b><br>Words: hate, tbh, thanks, wrong, absolutely",
          "<b>Topic 26</b><br>Words: hate, dunno, cause, ing, homies"
         ],
         "marker": {
          "color": "#0072B2"
         },
         "mode": "lines",
         "name": "26_hate_ing_homies_dennis",
         "type": "scatter",
         "x": [
          "2014-04-20T18:07:07.316999",
          "2014-11-10T19:13:09.150000",
          "2015-05-29T20:17:53.300000",
          "2015-12-15T21:22:37.449999",
          "2016-07-02T22:27:21.600000",
          "2017-01-18T23:32:05.750000",
          "2017-08-07T00:36:49.900000",
          "2018-02-23T01:41:34.049999",
          "2018-09-11T02:46:18.200000",
          "2019-03-30T03:51:02.350000",
          "2019-10-16T04:55:46.500000",
          "2020-05-03T06:00:30.649999",
          "2020-11-19T07:05:14.800000",
          "2021-06-07T08:09:58.950000",
          "2021-12-24T09:14:43.100000",
          "2022-07-12T10:19:27.249999",
          "2023-01-28T11:24:11.400000",
          "2023-08-16T12:28:55.550000",
          "2024-03-03T13:33:39.700000",
          "2024-09-19T14:38:23.849999"
         ],
         "y": [
          10,
          2,
          1,
          2,
          2,
          1,
          3,
          1,
          2,
          2,
          4,
          4,
          12,
          26,
          27,
          4,
          12,
          21,
          11,
          10
         ]
        },
        {
         "hoverinfo": "text",
         "hovertext": [
          "<b>Topic 27</b><br>Words: would, die, smell, bladder, rustle",
          "<b>Topic 27</b><br>Words: would, die, rape, saltiness, ocean",
          "<b>Topic 27</b><br>Words: would, genocide, die, commit, lava",
          "<b>Topic 27</b><br>Words: would, somebody, die, asshole, stretch",
          "<b>Topic 27</b><br>Words: would, wizard, brutally, die, pussy",
          "<b>Topic 27</b><br>Words: outa, would, humanity, die, lose",
          "<b>Topic 27</b><br>Words: tenouttaten, would, die, smell, rape",
          "<b>Topic 27</b><br>Words: lose, would, die, smell, rape",
          "<b>Topic 27</b><br>Words: would, die, smell, rape, somebody",
          "<b>Topic 27</b><br>Words: would, die, lose, smell, rape",
          "<b>Topic 27</b><br>Words: would, die, smell, rape, somebody",
          "<b>Topic 27</b><br>Words: break, would, die, smell, rape",
          "<b>Topic 27</b><br>Words: would, die, smell, rape, somebody",
          "<b>Topic 27</b><br>Words: would, die, smell, rape, somebody",
          "<b>Topic 27</b><br>Words: would, die, smell, rape, somebody",
          "<b>Topic 27</b><br>Words: would, die, smell, rape, somebody",
          "<b>Topic 27</b><br>Words: would, die, smell, rape, somebody"
         ],
         "marker": {
          "color": "#CC79A7"
         },
         "mode": "lines",
         "name": "27_would_die_smell_rape",
         "type": "scatter",
         "x": [
          "2014-04-20T18:07:07.316999",
          "2014-11-10T19:13:09.150000",
          "2015-05-29T20:17:53.300000",
          "2015-12-15T21:22:37.449999",
          "2016-07-02T22:27:21.600000",
          "2017-01-18T23:32:05.750000",
          "2017-08-07T00:36:49.900000",
          "2018-02-23T01:41:34.049999",
          "2018-09-11T02:46:18.200000",
          "2019-03-30T03:51:02.350000",
          "2019-10-16T04:55:46.500000",
          "2020-05-03T06:00:30.649999",
          "2020-11-19T07:05:14.800000",
          "2021-06-07T08:09:58.950000",
          "2021-12-24T09:14:43.100000",
          "2022-07-12T10:19:27.249999",
          "2024-09-19T14:38:23.849999"
         ],
         "y": [
          55,
          28,
          11,
          18,
          8,
          3,
          6,
          1,
          4,
          5,
          8,
          2,
          3,
          1,
          1,
          1,
          1
         ]
        },
        {
         "hoverinfo": "text",
         "hovertext": [
          "<b>Topic 28</b><br>Words: sooding, beceuse, heaps, wrenching, boss",
          "<b>Topic 28</b><br>Words: arent, alot, vary, tho, human",
          "<b>Topic 28</b><br>Words: disposable, income, followup, forgetable, debatable",
          "<b>Topic 28</b><br>Words: majority, shit, overall, pretty, enjoy",
          "<b>Topic 28</b><br>Words: diffulty, appriciated, ins, negatively, recieved",
          "<b>Topic 28</b><br>Words: disappointin, bosses, concession, manus, partially",
          "<b>Topic 28</b><br>Words: inbetween, asshole, thinking, singleplayer, steal",
          "<b>Topic 28</b><br>Words: perseverence, litter, hone, substantial, reskins",
          "<b>Topic 28</b><br>Words: exp, abit, glitchy, grain, chariot",
          "<b>Topic 28</b><br>Words: sided, cheese, uninspiring, coin, unoriginal",
          "<b>Topic 28</b><br>Words: weaaaaponnnnnnns, bosssss, rewards, boss, bloat",
          "<b>Topic 28</b><br>Words: traveling, over, bloat, boss, werent",
          "<b>Topic 28</b><br>Words: boss, glitchy, loooooonnnngggggg, unninstalled, gagoyles",
          "<b>Topic 28</b><br>Words: dud, laughably, dense, st, filler",
          "<b>Topic 28</b><br>Words: prestige, grandiose, confess, joke, intentional",
          "<b>Topic 28</b><br>Words: weaponnssssssss, bossss, laughably, boss, ahh",
          "<b>Topic 28</b><br>Words: duo, painfully, boss, truly, crap",
          "<b>Topic 28</b><br>Words: def, runbacks, hearld, boss, bossruns",
          "<b>Topic 28</b><br>Words: weaapoonnnsssss, blt, bossss, cus, boss"
         ],
         "marker": {
          "color": "#E69F00"
         },
         "mode": "lines",
         "name": "28_boss_def_cheese_bossss",
         "type": "scatter",
         "x": [
          "2014-04-20T18:07:07.316999",
          "2014-11-10T19:13:09.150000",
          "2015-05-29T20:17:53.300000",
          "2015-12-15T21:22:37.449999",
          "2016-07-02T22:27:21.600000",
          "2017-01-18T23:32:05.750000",
          "2017-08-07T00:36:49.900000",
          "2018-02-23T01:41:34.049999",
          "2019-03-30T03:51:02.350000",
          "2019-10-16T04:55:46.500000",
          "2020-05-03T06:00:30.649999",
          "2020-11-19T07:05:14.800000",
          "2021-06-07T08:09:58.950000",
          "2021-12-24T09:14:43.100000",
          "2022-07-12T10:19:27.249999",
          "2023-01-28T11:24:11.400000",
          "2023-08-16T12:28:55.550000",
          "2024-03-03T13:33:39.700000",
          "2024-09-19T14:38:23.849999"
         ],
         "y": [
          15,
          1,
          6,
          1,
          5,
          4,
          3,
          3,
          6,
          9,
          13,
          10,
          20,
          11,
          3,
          13,
          7,
          12,
          12
         ]
        },
        {
         "hoverinfo": "text",
         "hovertext": [
          "<b>Topic 29</b><br>Words: pew, peak, tuah, peaksouls, frfr",
          "<b>Topic 29</b><br>Words: peak, pew, tuah, peaksouls, frfr",
          "<b>Topic 29</b><br>Words: peak, pew, tuah, peaksouls, frfr",
          "<b>Topic 29</b><br>Words: peak, voice, pew, head, video",
          "<b>Topic 29</b><br>Words: peak, tuah, peaksouls, frfr, absolute"
         ],
         "marker": {
          "color": "#56B4E9"
         },
         "mode": "lines",
         "name": "29_peak_pew_tuah_peaksouls",
         "type": "scatter",
         "x": [
          "2020-05-03T06:00:30.649999",
          "2023-01-28T11:24:11.400000",
          "2023-08-16T12:28:55.550000",
          "2024-03-03T13:33:39.700000",
          "2024-09-19T14:38:23.849999"
         ],
         "y": [
          1,
          1,
          5,
          42,
          105
         ]
        },
        {
         "hoverinfo": "text",
         "hovertext": [
          "<b>Topic 30</b><br>Words: gud, gued, ittttttttt, breddy, super",
          "<b>Topic 30</b><br>Words: gud, es, gude, gueass, lief",
          "<b>Topic 30</b><br>Words: gud, gude, gueass, lief, gued",
          "<b>Topic 30</b><br>Words: gud, vry, gude, gueass, lief",
          "<b>Topic 30</b><br>Words: gud, purty, gude, lief, gued",
          "<b>Topic 30</b><br>Words: gud, gude, gueass, lief, gued",
          "<b>Topic 30</b><br>Words: gud, gude, gueass, lief, gued",
          "<b>Topic 30</b><br>Words: gud, gude, gueass, lief, gued",
          "<b>Topic 30</b><br>Words: gud, gude, gueass, lief, gued",
          "<b>Topic 30</b><br>Words: gud, questionable, gude, yet, lief",
          "<b>Topic 30</b><br>Words: gud, gude, guwd, gamee, gueass",
          "<b>Topic 30</b><br>Words: gud, lief, gueass, itsok, gude",
          "<b>Topic 30</b><br>Words: gud, guds, ig, among, edit",
          "<b>Topic 30</b><br>Words: gud, gude, gueass, lief, gued",
          "<b>Topic 30</b><br>Words: gud, hat, gude, lief, gueass",
          "<b>Topic 30</b><br>Words: gud, gude, gueass, lief, gued",
          "<b>Topic 30</b><br>Words: gud, iit, gude, lief, gued",
          "<b>Topic 30</b><br>Words: gud, dbd, gude, lief, gueass",
          "<b>Topic 30</b><br>Words: gud, gude, gueass, lief, gued"
         ],
         "marker": {
          "color": "#009E73"
         },
         "mode": "lines",
         "name": "30_gud_gude_gued_lief",
         "type": "scatter",
         "x": [
          "2014-04-20T18:07:07.316999",
          "2014-11-10T19:13:09.150000",
          "2015-05-29T20:17:53.300000",
          "2015-12-15T21:22:37.449999",
          "2016-07-02T22:27:21.600000",
          "2017-01-18T23:32:05.750000",
          "2017-08-07T00:36:49.900000",
          "2018-09-11T02:46:18.200000",
          "2019-03-30T03:51:02.350000",
          "2019-10-16T04:55:46.500000",
          "2020-05-03T06:00:30.649999",
          "2020-11-19T07:05:14.800000",
          "2021-06-07T08:09:58.950000",
          "2021-12-24T09:14:43.100000",
          "2022-07-12T10:19:27.249999",
          "2023-01-28T11:24:11.400000",
          "2023-08-16T12:28:55.550000",
          "2024-03-03T13:33:39.700000",
          "2024-09-19T14:38:23.849999"
         ],
         "y": [
          7,
          4,
          2,
          9,
          4,
          4,
          5,
          1,
          4,
          15,
          22,
          18,
          12,
          12,
          5,
          8,
          3,
          8,
          4
         ]
        },
        {
         "hoverinfo": "text",
         "hovertext": [
          "<b>Topic 31</b><br>Words: bloodborne, inside, blood, atm, wait",
          "<b>Topic 31</b><br>Words: bloodborne, heee, learntojump, booger, greatgame",
          "<b>Topic 31</b><br>Words: bloodborne, duuh, brotherhood, ypu, adapatbility",
          "<b>Topic 31</b><br>Words: bloodborne, touched, delightfully, preparation, bloodstain",
          "<b>Topic 31</b><br>Words: bloodborne, fave, enternained, fgts, battleborne",
          "<b>Topic 31</b><br>Words: nioh, bloodborne, oooohhhhhhh, bloodbourne, demon",
          "<b>Topic 31</b><br>Words: bloodborne, yet, buy, blood, pc",
          "<b>Topic 31</b><br>Words: bloodborne, attribue, omegalul, bestestest, emulator",
          "<b>Topic 31</b><br>Words: bloodborne, armory, cherish, clumsy, bloodborn",
          "<b>Topic 31</b><br>Words: bloodborn, bloodborne, wish, frustrating, software",
          "<b>Topic 31</b><br>Words: bloodborne, palyed, knockoff, born, spamming",
          "<b>Topic 31</b><br>Words: bloodborne, consul, kart, demonsouls, blood",
          "<b>Topic 31</b><br>Words: bloodborne, kart, delicious, definitly, category",
          "<b>Topic 31</b><br>Words: bloodborne, escenaries, kart, nearby, bloodstain",
          "<b>Topic 31</b><br>Words: bloodborne, bloodbourne, freebloodborne, slugish, pc",
          "<b>Topic 31</b><br>Words: bloodborne, bloodborn, legacy, anytime, trade",
          "<b>Topic 31</b><br>Words: bloodborne, perception, fs, sadist, public",
          "<b>Topic 31</b><br>Words: bloodborne, conservative, pls, ost, bring",
          "<b>Topic 31</b><br>Words: bloodborne, redittors, competitor, btw, pc",
          "<b>Topic 31</b><br>Words: bloodborne, prince, fkn, sweet, blood"
         ],
         "marker": {
          "color": "#F0E442"
         },
         "mode": "lines",
         "name": "31_bloodborne_blood_pc_bloodborn",
         "type": "scatter",
         "x": [
          "2014-04-20T18:07:07.316999",
          "2014-11-10T19:13:09.150000",
          "2015-05-29T20:17:53.300000",
          "2015-12-15T21:22:37.449999",
          "2016-07-02T22:27:21.600000",
          "2017-01-18T23:32:05.750000",
          "2017-08-07T00:36:49.900000",
          "2018-02-23T01:41:34.049999",
          "2018-09-11T02:46:18.200000",
          "2019-03-30T03:51:02.350000",
          "2019-10-16T04:55:46.500000",
          "2020-05-03T06:00:30.649999",
          "2020-11-19T07:05:14.800000",
          "2021-06-07T08:09:58.950000",
          "2021-12-24T09:14:43.100000",
          "2022-07-12T10:19:27.249999",
          "2023-01-28T11:24:11.400000",
          "2023-08-16T12:28:55.550000",
          "2024-03-03T13:33:39.700000",
          "2024-09-19T14:38:23.849999"
         ],
         "y": [
          5,
          17,
          8,
          4,
          5,
          5,
          1,
          6,
          5,
          2,
          8,
          9,
          6,
          6,
          17,
          6,
          9,
          8,
          11,
          4
         ]
        },
        {
         "hoverinfo": "text",
         "hovertext": [
          "<b>Topic 32</b><br>Words: hate, hating, bloody, existence, deserve",
          "<b>Topic 32</b><br>Words: hate, mom, deserve, essentially, user",
          "<b>Topic 32</b><br>Words: vice, addict, hate, sure, deserve",
          "<b>Topic 32</b><br>Words: sabertooth, hate, tiger, tired, exhaust",
          "<b>Topic 32</b><br>Words: builder, dexterity, hate, fall, deserve",
          "<b>Topic 32</b><br>Words: deserves, following, tad, deserve, hate",
          "<b>Topic 32</b><br>Words: oblivious, racist, hate, xd, towards",
          "<b>Topic 32</b><br>Words: tiger, snow, hate, stupid, imo",
          "<b>Topic 32</b><br>Words: bligttown, deserve, hate, divide, explanation",
          "<b>Topic 32</b><br>Words: hexxer, deserve, hate, shouldnt, toxic",
          "<b>Topic 32</b><br>Words: deserve, sh, hate, sure, life",
          "<b>Topic 32</b><br>Words: deserve, hate, enthusiasm, curb, offend",
          "<b>Topic 32</b><br>Words: savage, hate, plying, deserve, disliked",
          "<b>Topic 32</b><br>Words: gratuitous, hate, penny, shame, satisfying",
          "<b>Topic 32</b><br>Words: hate, deserve, expierence, purist, surprised",
          "<b>Topic 32</b><br>Words: deserve, shenanigan, hate, enjoyable, form",
          "<b>Topic 32</b><br>Words: deserve, hate, anticipated, doesnt, never",
          "<b>Topic 32</b><br>Words: deserve, hate, doesnt, troons, igniter"
         ],
         "marker": {
          "color": "#D55E00"
         },
         "mode": "lines",
         "name": "32_deserve_hate_doesnt_hating",
         "type": "scatter",
         "x": [
          "2014-04-20T18:07:07.316999",
          "2014-11-10T19:13:09.150000",
          "2015-05-29T20:17:53.300000",
          "2016-07-02T22:27:21.600000",
          "2017-01-18T23:32:05.750000",
          "2017-08-07T00:36:49.900000",
          "2018-02-23T01:41:34.049999",
          "2019-03-30T03:51:02.350000",
          "2019-10-16T04:55:46.500000",
          "2020-05-03T06:00:30.649999",
          "2020-11-19T07:05:14.800000",
          "2021-06-07T08:09:58.950000",
          "2021-12-24T09:14:43.100000",
          "2022-07-12T10:19:27.249999",
          "2023-01-28T11:24:11.400000",
          "2023-08-16T12:28:55.550000",
          "2024-03-03T13:33:39.700000",
          "2024-09-19T14:38:23.849999"
         ],
         "y": [
          10,
          4,
          2,
          6,
          2,
          2,
          3,
          3,
          3,
          6,
          4,
          7,
          9,
          5,
          11,
          6,
          20,
          35
         ]
        },
        {
         "hoverinfo": "text",
         "hovertext": [
          "<b>Topic 33</b><br>Words: awesome, usual, good, , ",
          "<b>Topic 33</b><br>Words: awesome, usual, good, , ",
          "<b>Topic 33</b><br>Words: awesome, usual, good, , ",
          "<b>Topic 33</b><br>Words: awesome, usual, good, , ",
          "<b>Topic 33</b><br>Words: awesome, usual, good, , ",
          "<b>Topic 33</b><br>Words: awesome, usual, good, , ",
          "<b>Topic 33</b><br>Words: awesome, usual, good, , ",
          "<b>Topic 33</b><br>Words: awesome, usual, good, , ",
          "<b>Topic 33</b><br>Words: awesome, usual, good, , ",
          "<b>Topic 33</b><br>Words: awesome, usual, good, , ",
          "<b>Topic 33</b><br>Words: awesome, usual, good, , ",
          "<b>Topic 33</b><br>Words: awesome, usual, good, , ",
          "<b>Topic 33</b><br>Words: awesome, usual, good, , ",
          "<b>Topic 33</b><br>Words: awesome, usual, good, , ",
          "<b>Topic 33</b><br>Words: awesome, usual, good, , ",
          "<b>Topic 33</b><br>Words: awesome, good, usual, , ",
          "<b>Topic 33</b><br>Words: awesome, usual, good, , ",
          "<b>Topic 33</b><br>Words: awesome, usual, good, , ",
          "<b>Topic 33</b><br>Words: awesome, usual, good, , "
         ],
         "marker": {
          "color": "#0072B2"
         },
         "mode": "lines",
         "name": "33_awesome_usual_good_",
         "type": "scatter",
         "x": [
          "2014-04-20T18:07:07.316999",
          "2014-11-10T19:13:09.150000",
          "2015-05-29T20:17:53.300000",
          "2015-12-15T21:22:37.449999",
          "2016-07-02T22:27:21.600000",
          "2017-01-18T23:32:05.750000",
          "2017-08-07T00:36:49.900000",
          "2018-09-11T02:46:18.200000",
          "2019-03-30T03:51:02.350000",
          "2019-10-16T04:55:46.500000",
          "2020-05-03T06:00:30.649999",
          "2020-11-19T07:05:14.800000",
          "2021-06-07T08:09:58.950000",
          "2021-12-24T09:14:43.100000",
          "2022-07-12T10:19:27.249999",
          "2023-01-28T11:24:11.400000",
          "2023-08-16T12:28:55.550000",
          "2024-03-03T13:33:39.700000",
          "2024-09-19T14:38:23.849999"
         ],
         "y": [
          37,
          14,
          11,
          7,
          6,
          1,
          6,
          1,
          2,
          7,
          8,
          6,
          6,
          2,
          5,
          4,
          4,
          3,
          5
         ]
        },
        {
         "hoverinfo": "text",
         "hovertext": [
          "<b>Topic 34</b><br>Words: dissapointment, public, like, leg, exact",
          "<b>Topic 34</b><br>Words: like, confirmed, millon, wowy, juuuuust",
          "<b>Topic 34</b><br>Words: like, confirmed, millon, wowy, juuuuust",
          "<b>Topic 34</b><br>Words: like, confirmed, millon, wowy, juuuuust",
          "<b>Topic 34</b><br>Words: like, confirmed, millon, wowy, juuuuust",
          "<b>Topic 34</b><br>Words: cuphead, like, confirmed, millon, wowy",
          "<b>Topic 34</b><br>Words: like, confirmed, millon, wowy, juuuuust",
          "<b>Topic 34</b><br>Words: like, confirmed, millon, wowy, juuuuust",
          "<b>Topic 34</b><br>Words: like, confirmed, millon, wowy, juuuuust",
          "<b>Topic 34</b><br>Words: product, idk, like, matter, simply",
          "<b>Topic 34</b><br>Words: confirmed, duh, like, wowy, millon",
          "<b>Topic 34</b><br>Words: like, linear, either, millon, confirmed",
          "<b>Topic 34</b><br>Words: juuuuust, like, ok, everything, confirmed",
          "<b>Topic 34</b><br>Words: like, confirmed, millon, wowy, juuuuust",
          "<b>Topic 34</b><br>Words: like, yes, wowy, millon, confirmed",
          "<b>Topic 34</b><br>Words: there, like, confirmed, wowy, millon",
          "<b>Topic 34</b><br>Words: dig, ya, like, shit, confirmed",
          "<b>Topic 34</b><br>Words: like, without, confirmed, wowy, millon",
          "<b>Topic 34</b><br>Words: wowy, millon, like, confirmed, juuuuust"
         ],
         "marker": {
          "color": "#CC79A7"
         },
         "mode": "lines",
         "name": "34_like_wowy_millon_confirmed",
         "type": "scatter",
         "x": [
          "2014-04-20T18:07:07.316999",
          "2014-11-10T19:13:09.150000",
          "2015-05-29T20:17:53.300000",
          "2015-12-15T21:22:37.449999",
          "2016-07-02T22:27:21.600000",
          "2017-08-07T00:36:49.900000",
          "2018-02-23T01:41:34.049999",
          "2018-09-11T02:46:18.200000",
          "2019-03-30T03:51:02.350000",
          "2019-10-16T04:55:46.500000",
          "2020-05-03T06:00:30.649999",
          "2020-11-19T07:05:14.800000",
          "2021-06-07T08:09:58.950000",
          "2021-12-24T09:14:43.100000",
          "2022-07-12T10:19:27.249999",
          "2023-01-28T11:24:11.400000",
          "2023-08-16T12:28:55.550000",
          "2024-03-03T13:33:39.700000",
          "2024-09-19T14:38:23.849999"
         ],
         "y": [
          14,
          5,
          2,
          5,
          4,
          3,
          1,
          6,
          4,
          7,
          6,
          11,
          15,
          7,
          6,
          6,
          9,
          10,
          14
         ]
        },
        {
         "hoverinfo": "text",
         "hovertext": [
          "<b>Topic 35</b><br>Words: recommned, dks, fantastic, janky, jank",
          "<b>Topic 35</b><br>Words: playstation, jank, back, janky, want",
          "<b>Topic 35</b><br>Words: janky, jank, needlessly, treat, screw",
          "<b>Topic 35</b><br>Words: jank, janky, targetting, speedrunners, torture",
          "<b>Topic 35</b><br>Words: janky, jank, slush, omnidirectional, walking",
          "<b>Topic 35</b><br>Words: jank, janky, locate, fvckin, stylise",
          "<b>Topic 35</b><br>Words: janky, jank, helpless, directionalization, downtrodden",
          "<b>Topic 35</b><br>Words: janky, jank, outher, differntly, jankier",
          "<b>Topic 35</b><br>Words: janky, jank, shitty, backstabbing, dragonrider",
          "<b>Topic 35</b><br>Words: janky, jank, jankier, wack, hyperfixated",
          "<b>Topic 35</b><br>Words: janky, jank, entirety, consecrated, turnred",
          "<b>Topic 35</b><br>Words: jank, janky, jankiness, charming, dam"
         ],
         "marker": {
          "color": "#E69F00"
         },
         "mode": "lines",
         "name": "35_janky_jank_helpless_jankier",
         "type": "scatter",
         "x": [
          "2017-08-07T00:36:49.900000",
          "2019-03-30T03:51:02.350000",
          "2019-10-16T04:55:46.500000",
          "2020-05-03T06:00:30.649999",
          "2020-11-19T07:05:14.800000",
          "2021-06-07T08:09:58.950000",
          "2021-12-24T09:14:43.100000",
          "2022-07-12T10:19:27.249999",
          "2023-01-28T11:24:11.400000",
          "2023-08-16T12:28:55.550000",
          "2024-03-03T13:33:39.700000",
          "2024-09-19T14:38:23.849999"
         ],
         "y": [
          1,
          1,
          5,
          8,
          14,
          18,
          13,
          8,
          7,
          15,
          19,
          22
         ]
        },
        {
         "hoverinfo": "text",
         "hovertext": [
          "<b>Topic 36</b><br>Words: rage, anger, quit, induce, contiuned",
          "<b>Topic 36</b><br>Words: rage, quit, backstabbers, angermanagement, peed",
          "<b>Topic 36</b><br>Words: rage, ragequit, confident, occasional, quit",
          "<b>Topic 36</b><br>Words: rage, ragequit, anger, quit, sadista",
          "<b>Topic 36</b><br>Words: rage, singularity, disrupt, ragequit, anger",
          "<b>Topic 36</b><br>Words: unadultured, rage, cease, quit, gimmick",
          "<b>Topic 36</b><br>Words: yourselfs, rage, prepare, ball, straight",
          "<b>Topic 36</b><br>Words: extreamly, rage, past, enjoyable, sotfs",
          "<b>Topic 36</b><br>Words: rage, quitter, equation, pathetic, physically",
          "<b>Topic 36</b><br>Words: rage, anger, nicotine, self, burning",
          "<b>Topic 36</b><br>Words: rage, anger, gooood, brag, emotional",
          "<b>Topic 36</b><br>Words: rage, inducing, awesome, let, anger",
          "<b>Topic 36</b><br>Words: rage, quit, anger, massive, possible",
          "<b>Topic 36</b><br>Words: lajk, rage, unbelievably, dat, angry",
          "<b>Topic 36</b><br>Words: anger, therapy, rage, management, disdain",
          "<b>Topic 36</b><br>Words: rage, anger, burst, abled, isues",
          "<b>Topic 36</b><br>Words: rage, induce, quit, alot, anger",
          "<b>Topic 36</b><br>Words: ragebait, rage, quit, anger, would",
          "<b>Topic 36</b><br>Words: ragebait, righteous, fury, justified, rage"
         ],
         "marker": {
          "color": "#56B4E9"
         },
         "mode": "lines",
         "name": "36_rage_anger_quit_ragequit",
         "type": "scatter",
         "x": [
          "2014-04-20T18:07:07.316999",
          "2014-11-10T19:13:09.150000",
          "2015-05-29T20:17:53.300000",
          "2015-12-15T21:22:37.449999",
          "2016-07-02T22:27:21.600000",
          "2017-01-18T23:32:05.750000",
          "2017-08-07T00:36:49.900000",
          "2018-09-11T02:46:18.200000",
          "2019-03-30T03:51:02.350000",
          "2019-10-16T04:55:46.500000",
          "2020-05-03T06:00:30.649999",
          "2020-11-19T07:05:14.800000",
          "2021-06-07T08:09:58.950000",
          "2021-12-24T09:14:43.100000",
          "2022-07-12T10:19:27.249999",
          "2023-01-28T11:24:11.400000",
          "2023-08-16T12:28:55.550000",
          "2024-03-03T13:33:39.700000",
          "2024-09-19T14:38:23.849999"
         ],
         "y": [
          43,
          13,
          6,
          14,
          9,
          2,
          1,
          1,
          3,
          6,
          5,
          3,
          3,
          4,
          4,
          6,
          2,
          2,
          3
         ]
        },
        {
         "hoverinfo": "text",
         "hovertext": [
          "<b>Topic 37</b><br>Words: replay, value, replayability, hadnle, replayable",
          "<b>Topic 37</b><br>Words: replay, value, replayability, replayable, potentcial",
          "<b>Topic 37</b><br>Words: replayability, replay, value, reccamend, maker",
          "<b>Topic 37</b><br>Words: replay, waifu, gg, value, poorly",
          "<b>Topic 37</b><br>Words: huuge, replay, replayability, assess, breakdown",
          "<b>Topic 37</b><br>Words: derank, blooborne, replay, value, rebuy",
          "<b>Topic 37</b><br>Words: replay, value, replayability, replayable, aesthetically",
          "<b>Topic 37</b><br>Words: replay, rest, anyone, maybe, let",
          "<b>Topic 37</b><br>Words: replay, higly, recommened, replayability, value",
          "<b>Topic 37</b><br>Words: replayability, randomizer, replay, provide, opinion",
          "<b>Topic 37</b><br>Words: replay, value, replayability, replayeable, ruff",
          "<b>Topic 37</b><br>Words: replay, varity, value, replayable, rap",
          "<b>Topic 37</b><br>Words: replayability, replay, value, replayable, margin",
          "<b>Topic 37</b><br>Words: replayable, replay, groove, value, replayability",
          "<b>Topic 37</b><br>Words: replay, stupidly, replayability, value, boy",
          "<b>Topic 37</b><br>Words: replay, corrupt, data, value, delete",
          "<b>Topic 37</b><br>Words: replay, value, repeatability, replayability, wayyy",
          "<b>Topic 37</b><br>Words: maturing, replayable, realize, replay, value",
          "<b>Topic 37</b><br>Words: replay, value, replayable, scadutree, astmosphere",
          "<b>Topic 37</b><br>Words: replay, replayability, masterpiece, explore, cool"
         ],
         "marker": {
          "color": "#009E73"
         },
         "mode": "lines",
         "name": "37_replay_value_replayability_replayable",
         "type": "scatter",
         "x": [
          "2014-04-20T18:07:07.316999",
          "2014-11-10T19:13:09.150000",
          "2015-05-29T20:17:53.300000",
          "2015-12-15T21:22:37.449999",
          "2016-07-02T22:27:21.600000",
          "2017-01-18T23:32:05.750000",
          "2017-08-07T00:36:49.900000",
          "2018-02-23T01:41:34.049999",
          "2018-09-11T02:46:18.200000",
          "2019-03-30T03:51:02.350000",
          "2019-10-16T04:55:46.500000",
          "2020-05-03T06:00:30.649999",
          "2020-11-19T07:05:14.800000",
          "2021-06-07T08:09:58.950000",
          "2021-12-24T09:14:43.100000",
          "2022-07-12T10:19:27.249999",
          "2023-01-28T11:24:11.400000",
          "2023-08-16T12:28:55.550000",
          "2024-03-03T13:33:39.700000",
          "2024-09-19T14:38:23.849999"
         ],
         "y": [
          23,
          12,
          8,
          2,
          4,
          2,
          7,
          1,
          4,
          4,
          10,
          5,
          8,
          8,
          5,
          3,
          9,
          1,
          8,
          4
         ]
        },
        {
         "hoverinfo": "text",
         "hovertext": [
          "<b>Topic 38</b><br>Words: miyazaki, labrynth, hidetaka, solaire, smell",
          "<b>Topic 38</b><br>Words: burger, japan, miyazaki, grease, convincing",
          "<b>Topic 38</b><br>Words: miyazaki, hidetaka, produce, costumer, mainthing",
          "<b>Topic 38</b><br>Words: miyazaki, sparse, cryptic, hidetaka, team",
          "<b>Topic 38</b><br>Words: miyazaki, etz, compaints, wahhhh, becuaze",
          "<b>Topic 38</b><br>Words: miyazaki, achilles, insecure, intervention, enought",
          "<b>Topic 38</b><br>Words: poisonious, miyazaki, predesessor, direct, elegant",
          "<b>Topic 38</b><br>Words: miyazaki, erudite, tagline, cramming, sophistication",
          "<b>Topic 38</b><br>Words: bloodborn, miyazaki, alot, gem, colour",
          "<b>Topic 38</b><br>Words: miyazaki, critique, iframes, unexplained, familiar",
          "<b>Topic 38</b><br>Words: bossfight, coldn, lost, veterans, sinner",
          "<b>Topic 38</b><br>Words: miyazaki, direct, miazaki, impact, director",
          "<b>Topic 38</b><br>Words: miyazaki, boulder, poop, dissatisfaction, gnashgab",
          "<b>Topic 38</b><br>Words: miyazaki, direct, enormous, beguile, track",
          "<b>Topic 38</b><br>Words: miyazaki, url, intention, botch, direct",
          "<b>Topic 38</b><br>Words: miyazaki, ai, lopsided, development, fatal",
          "<b>Topic 38</b><br>Words: miyazaki, virtue, asset, ava, aegis",
          "<b>Topic 38</b><br>Words: miyazaki, hidetaka, periodt, xoxo, bellend",
          "<b>Topic 38</b><br>Words: miyazaki, heaviness, masterclass, hidetaka, emptiness",
          "<b>Topic 38</b><br>Words: miyazaki, direct, hidetaka, solve, michael"
         ],
         "marker": {
          "color": "#F0E442"
         },
         "mode": "lines",
         "name": "38_miyazaki_hidetaka_direct_development",
         "type": "scatter",
         "x": [
          "2014-04-20T18:07:07.316999",
          "2014-11-10T19:13:09.150000",
          "2015-05-29T20:17:53.300000",
          "2015-12-15T21:22:37.449999",
          "2016-07-02T22:27:21.600000",
          "2017-01-18T23:32:05.750000",
          "2017-08-07T00:36:49.900000",
          "2018-02-23T01:41:34.049999",
          "2018-09-11T02:46:18.200000",
          "2019-03-30T03:51:02.350000",
          "2019-10-16T04:55:46.500000",
          "2020-05-03T06:00:30.649999",
          "2020-11-19T07:05:14.800000",
          "2021-06-07T08:09:58.950000",
          "2021-12-24T09:14:43.100000",
          "2022-07-12T10:19:27.249999",
          "2023-01-28T11:24:11.400000",
          "2023-08-16T12:28:55.550000",
          "2024-03-03T13:33:39.700000",
          "2024-09-19T14:38:23.849999"
         ],
         "y": [
          7,
          5,
          4,
          7,
          2,
          2,
          3,
          3,
          2,
          4,
          2,
          11,
          8,
          11,
          10,
          6,
          6,
          8,
          8,
          13
         ]
        },
        {
         "hoverinfo": "text",
         "hovertext": [
          "<b>Topic 39</b><br>Words: flaw, petition, loveable, wouldve, removal",
          "<b>Topic 39</b><br>Words: footnote, flaw, major, except, see",
          "<b>Topic 39</b><br>Words: sucker, flaw, punch, woman, imagine",
          "<b>Topic 39</b><br>Words: masterpiece, flaw, despite, astonishing, charming",
          "<b>Topic 39</b><br>Words: inspection, flaw, replayable, forever, tho",
          "<b>Topic 39</b><br>Words: raime, flaws, flawed, flaw, anyway",
          "<b>Topic 39</b><br>Words: flaw, creative, perhaps, price, despite",
          "<b>Topic 39</b><br>Words: flaw, gimped, unfamiliar, crappy, pay",
          "<b>Topic 39</b><br>Words: flaw, arsed, stile, tbf, buuuut",
          "<b>Topic 39</b><br>Words: flaw, nevertheless, date, numerous, nonetheless",
          "<b>Topic 39</b><br>Words: flaw, neato, flair, arguable, despite",
          "<b>Topic 39</b><br>Words: flaw, rushed, altough, flaws, fake",
          "<b>Topic 39</b><br>Words: flaw, outways, hater, league, flawed",
          "<b>Topic 39</b><br>Words: flaw, dogsh, unknowingly, overwhelmingly, dam",
          "<b>Topic 39</b><br>Words: flaw, completion, genuinely, grow, incredibly",
          "<b>Topic 39</b><br>Words: flaw, issus, remasterd, seriousness, studio",
          "<b>Topic 39</b><br>Words: flaw, astonishing, unjustifiably, shill, portray",
          "<b>Topic 39</b><br>Words: flaw, undisputed, misunderstood, inflict, pinnacle",
          "<b>Topic 39</b><br>Words: flaw, charming, decant, genuenly, fye"
         ],
         "marker": {
          "color": "#D55E00"
         },
         "mode": "lines",
         "name": "39_flaw_despite_masterpiece_astonishing",
         "type": "scatter",
         "x": [
          "2014-04-20T18:07:07.316999",
          "2015-05-29T20:17:53.300000",
          "2015-12-15T21:22:37.449999",
          "2016-07-02T22:27:21.600000",
          "2017-01-18T23:32:05.750000",
          "2017-08-07T00:36:49.900000",
          "2018-02-23T01:41:34.049999",
          "2018-09-11T02:46:18.200000",
          "2019-03-30T03:51:02.350000",
          "2019-10-16T04:55:46.500000",
          "2020-05-03T06:00:30.649999",
          "2020-11-19T07:05:14.800000",
          "2021-06-07T08:09:58.950000",
          "2021-12-24T09:14:43.100000",
          "2022-07-12T10:19:27.249999",
          "2023-01-28T11:24:11.400000",
          "2023-08-16T12:28:55.550000",
          "2024-03-03T13:33:39.700000",
          "2024-09-19T14:38:23.849999"
         ],
         "y": [
          3,
          1,
          1,
          1,
          2,
          3,
          2,
          1,
          3,
          6,
          11,
          14,
          9,
          13,
          7,
          7,
          9,
          12,
          17
         ]
        },
        {
         "hoverinfo": "text",
         "hovertext": [
          "<b>Topic 40</b><br>Words: review, uncasual, fin, metacritic, achievment",
          "<b>Topic 40</b><br>Words: review, classy, ill, derp, invalid",
          "<b>Topic 40</b><br>Words: review, pewds, skimming, prety, happily",
          "<b>Topic 40</b><br>Words: review, rate, confirm, myt, vist",
          "<b>Topic 40</b><br>Words: upvote, review, cmon, dumb, check",
          "<b>Topic 40</b><br>Words: blame, write, ciao, review, reccomended",
          "<b>Topic 40</b><br>Words: reviewer, ign, illusory, impression, buying",
          "<b>Topic 40</b><br>Words: metric, purpose, fulfill, fulfil, review",
          "<b>Topic 40</b><br>Words: omegalul, cue, review, pop, negative",
          "<b>Topic 40</b><br>Words: liar, wary, positive, ahead, review",
          "<b>Topic 40</b><br>Words: dio, review, debunk, anybody, minded",
          "<b>Topic 40</b><br>Words: historical, review, score, disclaimer, proper",
          "<b>Topic 40</b><br>Words: uncharacteristic, review, soft, funny, ignore",
          "<b>Topic 40</b><br>Words: review, gifted, unhelpful, angry, therefore",
          "<b>Topic 40</b><br>Words: review, september, historical, score, visibility",
          "<b>Topic 40</b><br>Words: review, foks, humour, drench, deserves",
          "<b>Topic 40</b><br>Words: review, brotha, unplayaable, transgender, vodka",
          "<b>Topic 40</b><br>Words: gay, review, ill, write, read",
          "<b>Topic 40</b><br>Words: aparently, review, domo, positive, gay",
          "<b>Topic 40</b><br>Words: review, refference, glazing, knacksterpiece, avdol"
         ],
         "marker": {
          "color": "#0072B2"
         },
         "mode": "lines",
         "name": "40_review_write_negative_dio",
         "type": "scatter",
         "x": [
          "2014-04-20T18:07:07.316999",
          "2014-11-10T19:13:09.150000",
          "2015-05-29T20:17:53.300000",
          "2015-12-15T21:22:37.449999",
          "2016-07-02T22:27:21.600000",
          "2017-01-18T23:32:05.750000",
          "2017-08-07T00:36:49.900000",
          "2018-02-23T01:41:34.049999",
          "2018-09-11T02:46:18.200000",
          "2019-03-30T03:51:02.350000",
          "2019-10-16T04:55:46.500000",
          "2020-05-03T06:00:30.649999",
          "2020-11-19T07:05:14.800000",
          "2021-06-07T08:09:58.950000",
          "2021-12-24T09:14:43.100000",
          "2022-07-12T10:19:27.249999",
          "2023-01-28T11:24:11.400000",
          "2023-08-16T12:28:55.550000",
          "2024-03-03T13:33:39.700000",
          "2024-09-19T14:38:23.849999"
         ],
         "y": [
          11,
          7,
          10,
          8,
          4,
          4,
          4,
          2,
          4,
          1,
          6,
          3,
          4,
          8,
          9,
          10,
          5,
          5,
          6,
          10
         ]
        },
        {
         "hoverinfo": "text",
         "hovertext": [
          "<b>Topic 41</b><br>Words: ez, nahw, ezlife, ezgame, egdes",
          "<b>Topic 41</b><br>Words: ez, sik, jelly, coz, bitch",
          "<b>Topic 41</b><br>Words: ez, eqr, ftweq, oae, poiq",
          "<b>Topic 41</b><br>Words: ez, nobodyever, rtz, gg, pz",
          "<b>Topic 41</b><br>Words: ez, gg, praisesun, lmao, seriously",
          "<b>Topic 41</b><br>Words: ez, ey, boi, heh, totally",
          "<b>Topic 41</b><br>Words: ez, gg, buy, pz, ztg",
          "<b>Topic 41</b><br>Words: ez, edgy, tbh, boy, gg",
          "<b>Topic 41</b><br>Words: ez, ever, gg, pz, like",
          "<b>Topic 41</b><br>Words: ez, ztgrwestzgewrs, uz, ezed, tz",
          "<b>Topic 41</b><br>Words: ez, ezz, ztg, ezpz, gg",
          "<b>Topic 41</b><br>Words: ez, lyef, ezy, gg, pz",
          "<b>Topic 41</b><br>Words: ez, efsane, zor, ama, tbh",
          "<b>Topic 41</b><br>Words: ez, gg, yawn, win, super",
          "<b>Topic 41</b><br>Words: ez, zzz, defo, gg, af",
          "<b>Topic 41</b><br>Words: ez, gane, gg, pz, ztg",
          "<b>Topic 41</b><br>Words: ez, dmns, funz, iii, awful",
          "<b>Topic 41</b><br>Words: ez, meh, struggle, gg, definitely",
          "<b>Topic 41</b><br>Words: ez, goz, egynek, elmegy, gg",
          "<b>Topic 41</b><br>Words: ez, pz, achieve, poison, achievement"
         ],
         "marker": {
          "color": "#CC79A7"
         },
         "mode": "lines",
         "name": "41_ez_gg_pz_ztg",
         "type": "scatter",
         "x": [
          "2014-04-20T18:07:07.316999",
          "2014-11-10T19:13:09.150000",
          "2015-05-29T20:17:53.300000",
          "2015-12-15T21:22:37.449999",
          "2016-07-02T22:27:21.600000",
          "2017-01-18T23:32:05.750000",
          "2017-08-07T00:36:49.900000",
          "2018-02-23T01:41:34.049999",
          "2018-09-11T02:46:18.200000",
          "2019-03-30T03:51:02.350000",
          "2019-10-16T04:55:46.500000",
          "2020-05-03T06:00:30.649999",
          "2020-11-19T07:05:14.800000",
          "2021-06-07T08:09:58.950000",
          "2021-12-24T09:14:43.100000",
          "2022-07-12T10:19:27.249999",
          "2023-01-28T11:24:11.400000",
          "2023-08-16T12:28:55.550000",
          "2024-03-03T13:33:39.700000",
          "2024-09-19T14:38:23.849999"
         ],
         "y": [
          22,
          7,
          4,
          3,
          3,
          6,
          4,
          4,
          2,
          6,
          10,
          5,
          7,
          10,
          8,
          3,
          4,
          4,
          6,
          2
         ]
        },
        {
         "hoverinfo": "text",
         "hovertext": [
          "<b>Topic 42</b><br>Words: sequel, worthy, improve, ii, world",
          "<b>Topic 42</b><br>Words: sequel, harmless, translate, disatisfaction, visuls",
          "<b>Topic 42</b><br>Words: latte, expresso, amusement, astonishing, drift",
          "<b>Topic 42</b><br>Words: sequel, informs, untoasted, unfinished, unerring",
          "<b>Topic 42</b><br>Words: sequel, bettween, cthonic, solarie, attn",
          "<b>Topic 42</b><br>Words: recollect, druid, ignoramus, intrinscally, memetic",
          "<b>Topic 42</b><br>Words: distant, ths, brush, heartbeat, sequel",
          "<b>Topic 42</b><br>Words: convenants, expeiernce, unfavourble, neverthless, prefected",
          "<b>Topic 42</b><br>Words: bioshock, arkham, tailoring, origins, precise",
          "<b>Topic 42</b><br>Words: heartbeat, cram, glue, arpgs, hugely",
          "<b>Topic 42</b><br>Words: fulfill, invetory, apprehensive, sequel, glitching",
          "<b>Topic 42</b><br>Words: espouse, delightful, mastery, addict, element",
          "<b>Topic 42</b><br>Words: addicitng, weaken, production, afford, captivate",
          "<b>Topic 42</b><br>Words: areabsurd, whie, writes, atnthe, indifference",
          "<b>Topic 42</b><br>Words: messier, robocop, unappealing, choke, sequel",
          "<b>Topic 42</b><br>Words: worker, sequel, engagement, infuriating, capable",
          "<b>Topic 42</b><br>Words: finality, keystone, contractually, richness, sequel",
          "<b>Topic 42</b><br>Words: formidable, sequel, establish, primarily, preferences",
          "<b>Topic 42</b><br>Words: sequel, obscurely, marmite, misguided, shat",
          "<b>Topic 42</b><br>Words: unafraid, dweller, sludge, essayist, entries"
         ],
         "marker": {
          "color": "#E69F00"
         },
         "mode": "lines",
         "name": "42_sequel_ii_production_predecessor",
         "type": "scatter",
         "x": [
          "2014-04-20T18:07:07.316999",
          "2014-11-10T19:13:09.150000",
          "2015-05-29T20:17:53.300000",
          "2015-12-15T21:22:37.449999",
          "2016-07-02T22:27:21.600000",
          "2017-01-18T23:32:05.750000",
          "2017-08-07T00:36:49.900000",
          "2018-02-23T01:41:34.049999",
          "2018-09-11T02:46:18.200000",
          "2019-03-30T03:51:02.350000",
          "2019-10-16T04:55:46.500000",
          "2020-05-03T06:00:30.649999",
          "2020-11-19T07:05:14.800000",
          "2021-06-07T08:09:58.950000",
          "2021-12-24T09:14:43.100000",
          "2022-07-12T10:19:27.249999",
          "2023-01-28T11:24:11.400000",
          "2023-08-16T12:28:55.550000",
          "2024-03-03T13:33:39.700000",
          "2024-09-19T14:38:23.849999"
         ],
         "y": [
          50,
          12,
          2,
          4,
          6,
          3,
          5,
          3,
          3,
          2,
          3,
          1,
          1,
          4,
          3,
          3,
          3,
          4,
          5,
          3
         ]
        },
        {
         "hoverinfo": "text",
         "hovertext": [
          "<b>Topic 43</b><br>Words: sword, katana, mustached, wipped, zweihandered",
          "<b>Topic 43</b><br>Words: mammoth, bumhole, weeaboos, sword, rock",
          "<b>Topic 43</b><br>Words: katana, sword, steel, wistfully, nippon",
          "<b>Topic 43</b><br>Words: chick, sword, six, mace, netcode",
          "<b>Topic 43</b><br>Words: blacksteel, buffed, katana, naked, sword",
          "<b>Topic 43</b><br>Words: ebut, gam, sword, fist, th",
          "<b>Topic 43</b><br>Words: disrespect, blade, weebs, edgy, cosplay",
          "<b>Topic 43</b><br>Words: smash, sword, hollow, big, katana",
          "<b>Topic 43</b><br>Words: smash, satisfy, sword, big, recommend",
          "<b>Topic 43</b><br>Words: sword, steel, flick, swish, km",
          "<b>Topic 43</b><br>Words: sword, betwix, swshhh, swong, ooooooo",
          "<b>Topic 43</b><br>Words: sword, mace, ahtet, cleric, swing",
          "<b>Topic 43</b><br>Words: sword, studdf, jharsd, an, fgo",
          "<b>Topic 43</b><br>Words: sword, bonk, smash, big, magic",
          "<b>Topic 43</b><br>Words: sword, wacking, reindeer, land, stupid",
          "<b>Topic 43</b><br>Words: pew, swingaloo, electric, sword, katana",
          "<b>Topic 43</b><br>Words: sword, fosho, burr, buttfucking, pokey",
          "<b>Topic 43</b><br>Words: sword, lightyear, bewitch, swing, gif",
          "<b>Topic 43</b><br>Words: verse, sword, baddie, mace, smash"
         ],
         "marker": {
          "color": "#56B4E9"
         },
         "mode": "lines",
         "name": "43_sword_katana_swing_smash",
         "type": "scatter",
         "x": [
          "2014-04-20T18:07:07.316999",
          "2014-11-10T19:13:09.150000",
          "2015-05-29T20:17:53.300000",
          "2015-12-15T21:22:37.449999",
          "2016-07-02T22:27:21.600000",
          "2017-01-18T23:32:05.750000",
          "2018-02-23T01:41:34.049999",
          "2018-09-11T02:46:18.200000",
          "2019-03-30T03:51:02.350000",
          "2019-10-16T04:55:46.500000",
          "2020-05-03T06:00:30.649999",
          "2020-11-19T07:05:14.800000",
          "2021-06-07T08:09:58.950000",
          "2021-12-24T09:14:43.100000",
          "2022-07-12T10:19:27.249999",
          "2023-01-28T11:24:11.400000",
          "2023-08-16T12:28:55.550000",
          "2024-03-03T13:33:39.700000",
          "2024-09-19T14:38:23.849999"
         ],
         "y": [
          21,
          5,
          7,
          3,
          2,
          2,
          3,
          1,
          1,
          5,
          8,
          14,
          15,
          4,
          4,
          3,
          8,
          10,
          4
         ]
        },
        {
         "hoverinfo": "text",
         "hovertext": [
          "<b>Topic 44</b><br>Words: bos, triedto, drakeepers, carresing, junkie",
          "<b>Topic 44</b><br>Words: sht, rek, backside, beutiful, bos",
          "<b>Topic 44</b><br>Words: bos, cheese, dog, rip, apart",
          "<b>Topic 44</b><br>Words: gasm, bedda, neighborhood, reminisce, bos",
          "<b>Topic 44</b><br>Words: marry, persuer, bos, bitch, baby",
          "<b>Topic 44</b><br>Words: cant, past, bos, hour, beat",
          "<b>Topic 44</b><br>Words: whoop, trivial, butt, accomplishment, spend",
          "<b>Topic 44</b><br>Words: manikin, twin, complain, except, bos",
          "<b>Topic 44</b><br>Words: mothersucker, armourer, dennis, defeat, bos",
          "<b>Topic 44</b><br>Words: boes, executioner, chariot, defeat, bos",
          "<b>Topic 44</b><br>Words: cock, cheese, rd, st, memorable",
          "<b>Topic 44</b><br>Words: fnnuy, wolnir, erect, bos, orange",
          "<b>Topic 44</b><br>Words: azaroth, yall, bos, gravity, sacrifice",
          "<b>Topic 44</b><br>Words: gravity, prowl, sooo, magus, refuse",
          "<b>Topic 44</b><br>Words: thang, ocelot, revolver, grapple, insane",
          "<b>Topic 44</b><br>Words: py, pregnant, bos, tire, npc",
          "<b>Topic 44</b><br>Words: tism, penus, runbacks, fought, bos",
          "<b>Topic 44</b><br>Words: runbacks, recede, weaponssssss, bos, hairline",
          "<b>Topic 44</b><br>Words: huh, disgust, tree, runbacks, bos"
         ],
         "marker": {
          "color": "#009E73"
         },
         "mode": "lines",
         "name": "44_bos_runbacks_gravity_thang",
         "type": "scatter",
         "x": [
          "2014-04-20T18:07:07.316999",
          "2014-11-10T19:13:09.150000",
          "2015-05-29T20:17:53.300000",
          "2015-12-15T21:22:37.449999",
          "2016-07-02T22:27:21.600000",
          "2017-01-18T23:32:05.750000",
          "2017-08-07T00:36:49.900000",
          "2018-09-11T02:46:18.200000",
          "2019-03-30T03:51:02.350000",
          "2019-10-16T04:55:46.500000",
          "2020-05-03T06:00:30.649999",
          "2020-11-19T07:05:14.800000",
          "2021-06-07T08:09:58.950000",
          "2021-12-24T09:14:43.100000",
          "2022-07-12T10:19:27.249999",
          "2023-01-28T11:24:11.400000",
          "2023-08-16T12:28:55.550000",
          "2024-03-03T13:33:39.700000",
          "2024-09-19T14:38:23.849999"
         ],
         "y": [
          23,
          7,
          6,
          6,
          5,
          2,
          3,
          2,
          1,
          3,
          2,
          10,
          7,
          6,
          6,
          4,
          8,
          13,
          4
         ]
        },
        {
         "hoverinfo": "text",
         "hovertext": [
          "<b>Topic 45</b><br>Words: bad, half, wasnt, slightly, meh",
          "<b>Topic 45</b><br>Words: bad, half, wasnt, slightly, meh",
          "<b>Topic 45</b><br>Words: bad, half, wasnt, slightly, meh",
          "<b>Topic 45</b><br>Words: bad, half, wasnt, slightly, meh",
          "<b>Topic 45</b><br>Words: bad, half, wasnt, slightly, meh",
          "<b>Topic 45</b><br>Words: somehow, bad, half, wasnt, slightly",
          "<b>Topic 45</b><br>Words: bad, easily, half, wasnt, slightly",
          "<b>Topic 45</b><br>Words: meh, bad, half, wasnt, slightly",
          "<b>Topic 45</b><br>Words: bad, half, wasnt, slightly, meh",
          "<b>Topic 45</b><br>Words: bad, half, wasnt, slightly, meh",
          "<b>Topic 45</b><br>Words: bad, half, wasnt, slightly, meh",
          "<b>Topic 45</b><br>Words: bad, half, wasnt, slightly, meh",
          "<b>Topic 45</b><br>Words: bad, slightly, could, half, wasnt",
          "<b>Topic 45</b><br>Words: bad, kinda, half, wasnt, slightly",
          "<b>Topic 45</b><br>Words: bad, half, wasnt, slightly, meh",
          "<b>Topic 45</b><br>Words: bad, slightly, half, wasnt, meh",
          "<b>Topic 45</b><br>Words: bad, wasnt, half, slightly, meh",
          "<b>Topic 45</b><br>Words: bad, half, wasnt, slightly, meh"
         ],
         "marker": {
          "color": "#F0E442"
         },
         "mode": "lines",
         "name": "45_bad_half_wasnt_slightly",
         "type": "scatter",
         "x": [
          "2014-04-20T18:07:07.316999",
          "2014-11-10T19:13:09.150000",
          "2015-05-29T20:17:53.300000",
          "2015-12-15T21:22:37.449999",
          "2016-07-02T22:27:21.600000",
          "2017-01-18T23:32:05.750000",
          "2018-02-23T01:41:34.049999",
          "2019-03-30T03:51:02.350000",
          "2019-10-16T04:55:46.500000",
          "2020-05-03T06:00:30.649999",
          "2020-11-19T07:05:14.800000",
          "2021-06-07T08:09:58.950000",
          "2021-12-24T09:14:43.100000",
          "2022-07-12T10:19:27.249999",
          "2023-01-28T11:24:11.400000",
          "2023-08-16T12:28:55.550000",
          "2024-03-03T13:33:39.700000",
          "2024-09-19T14:38:23.849999"
         ],
         "y": [
          2,
          1,
          2,
          1,
          2,
          1,
          3,
          3,
          7,
          4,
          15,
          17,
          17,
          3,
          9,
          10,
          10,
          9
         ]
        },
        {
         "hoverinfo": "text",
         "hovertext": [
          "<b>Topic 46</b><br>Words: eyelid, scalpel, amana, hq, shrine",
          "<b>Topic 46</b><br>Words: amana, shrine, enchanced, varies, logically",
          "<b>Topic 46</b><br>Words: amana, shrine, would, die, fuck",
          "<b>Topic 46</b><br>Words: ameno, shrine, amana, fuck, nashandra",
          "<b>Topic 46</b><br>Words: hippo, amana, shrine, ten, arrow",
          "<b>Topic 46</b><br>Words: nashandra, amana, bell, shrine, honestly",
          "<b>Topic 46</b><br>Words: shrine, amana, forsaken, blight, lever",
          "<b>Topic 46</b><br>Words: amana, shrine, nuke, fk, pharos",
          "<b>Topic 46</b><br>Words: amana, shrine, literal, whoever, shoutouts",
          "<b>Topic 46</b><br>Words: amana, shrine, astora, silence, remixed",
          "<b>Topic 46</b><br>Words: amana, shrine, seeketh, dredge, scarcely",
          "<b>Topic 46</b><br>Words: shrine, amana, armana, aww, mhm",
          "<b>Topic 46</b><br>Words: amana, shrine, responds, wrtiyting, vine",
          "<b>Topic 46</b><br>Words: amana, shrine, freeeeeeeee, goiing, masocist",
          "<b>Topic 46</b><br>Words: amana, shrine, floyd, amanashrine, fagg",
          "<b>Topic 46</b><br>Words: amana, shrine, dunno, idna, giligan",
          "<b>Topic 46</b><br>Words: amana, shrine, osama, chihuahua, brawling",
          "<b>Topic 46</b><br>Words: amana, shrine, nashandra, bruise, cutscene",
          "<b>Topic 46</b><br>Words: amana, shrine, fuck, amanna, vibed"
         ],
         "marker": {
          "color": "#D55E00"
         },
         "mode": "lines",
         "name": "46_amana_shrine_fuck_nashandra",
         "type": "scatter",
         "x": [
          "2014-04-20T18:07:07.316999",
          "2014-11-10T19:13:09.150000",
          "2015-05-29T20:17:53.300000",
          "2015-12-15T21:22:37.449999",
          "2016-07-02T22:27:21.600000",
          "2017-01-18T23:32:05.750000",
          "2017-08-07T00:36:49.900000",
          "2018-09-11T02:46:18.200000",
          "2019-03-30T03:51:02.350000",
          "2019-10-16T04:55:46.500000",
          "2020-05-03T06:00:30.649999",
          "2020-11-19T07:05:14.800000",
          "2021-06-07T08:09:58.950000",
          "2021-12-24T09:14:43.100000",
          "2022-07-12T10:19:27.249999",
          "2023-01-28T11:24:11.400000",
          "2023-08-16T12:28:55.550000",
          "2024-03-03T13:33:39.700000",
          "2024-09-19T14:38:23.849999"
         ],
         "y": [
          1,
          4,
          1,
          3,
          1,
          2,
          1,
          4,
          5,
          7,
          8,
          7,
          3,
          7,
          8,
          10,
          12,
          16,
          15
         ]
        },
        {
         "hoverinfo": "text",
         "hovertext": [
          "<b>Topic 47</b><br>Words: amaze, erhmagawd, amazeballz, omg, sooooooo",
          "<b>Topic 47</b><br>Words: amaze, kappa, female, absolutly, dog",
          "<b>Topic 47</b><br>Words: amaze, em, tho, simply, absolutely",
          "<b>Topic 47</b><br>Words: amaze, wao, casual, erhmagawd, amazeballz",
          "<b>Topic 47</b><br>Words: amaze, erhmagawd, wao, amazeballz, amazin",
          "<b>Topic 47</b><br>Words: amaze, erhmagawd, wao, amazeballz, amazin",
          "<b>Topic 47</b><br>Words: amaze, absolutely, favorite, amazeballz, erhmagawd",
          "<b>Topic 47</b><br>Words: amaze, absolutely, erhmagawd, wao, amazeballz",
          "<b>Topic 47</b><br>Words: amaze, erhmagawd, wao, amazeballz, amazin",
          "<b>Topic 47</b><br>Words: amaze, box, turn, erhmagawd, wao",
          "<b>Topic 47</b><br>Words: amaze, erhmagawd, wao, amazeballz, amazin",
          "<b>Topic 47</b><br>Words: amaze, amazin, erhmagawd, wao, amazeballz",
          "<b>Topic 47</b><br>Words: amaze, def, buy, easy, amazeballz",
          "<b>Topic 47</b><br>Words: amaze, erhmagawd, wao, amazeballz, amazin",
          "<b>Topic 47</b><br>Words: amaze, suck, old, mechanic, wao",
          "<b>Topic 47</b><br>Words: amaze, box, turn, know, experience",
          "<b>Topic 47</b><br>Words: amaze, lie, erhmagawd, wao, amazeballz",
          "<b>Topic 47</b><br>Words: amaze, recommendation, massive, wao, amazeballz",
          "<b>Topic 47</b><br>Words: amaze, ahead, cool, friend, experience",
          "<b>Topic 47</b><br>Words: amaze, enormous, erhmagawd, wao, amazeballz"
         ],
         "marker": {
          "color": "#0072B2"
         },
         "mode": "lines",
         "name": "47_amaze_amazeballz_wao_erhmagawd",
         "type": "scatter",
         "x": [
          "2014-04-20T18:07:07.316999",
          "2014-11-10T19:13:09.150000",
          "2015-05-29T20:17:53.300000",
          "2015-12-15T21:22:37.449999",
          "2016-07-02T22:27:21.600000",
          "2017-01-18T23:32:05.750000",
          "2017-08-07T00:36:49.900000",
          "2018-02-23T01:41:34.049999",
          "2018-09-11T02:46:18.200000",
          "2019-03-30T03:51:02.350000",
          "2019-10-16T04:55:46.500000",
          "2020-05-03T06:00:30.649999",
          "2020-11-19T07:05:14.800000",
          "2021-06-07T08:09:58.950000",
          "2021-12-24T09:14:43.100000",
          "2022-07-12T10:19:27.249999",
          "2023-01-28T11:24:11.400000",
          "2023-08-16T12:28:55.550000",
          "2024-03-03T13:33:39.700000",
          "2024-09-19T14:38:23.849999"
         ],
         "y": [
          35,
          11,
          5,
          7,
          1,
          2,
          3,
          2,
          1,
          1,
          5,
          5,
          4,
          4,
          4,
          3,
          2,
          5,
          7,
          8
         ]
        },
        {
         "hoverinfo": "text",
         "hovertext": [
          "<b>Topic 48</b><br>Words: port, pc, job, console, fps",
          "<b>Topic 48</b><br>Words: port, unsupported, horrible, mood, pc",
          "<b>Topic 48</b><br>Words: port, modding, functionality, dks, resolution",
          "<b>Topic 48</b><br>Words: port, coudnt, iets, everthing, ot",
          "<b>Topic 48</b><br>Words: secretley, port, st, everybody, inferior",
          "<b>Topic 48</b><br>Words: port, amazingly, replayable, imo, except",
          "<b>Topic 48</b><br>Words: applies, source, material, port, potato",
          "<b>Topic 48</b><br>Words: becasue, abit, port, didnt, either",
          "<b>Topic 48</b><br>Words: honeslty, conttoller, port, fundamentally, painful",
          "<b>Topic 48</b><br>Words: emulator, offhand, port, letter, disable",
          "<b>Topic 48</b><br>Words: port, preform, scuffed, clumsy, irrelevant",
          "<b>Topic 48</b><br>Words: doodoo, port, alright, tho, kinda",
          "<b>Topic 48</b><br>Words: rough, port, super, pc, work",
          "<b>Topic 48</b><br>Words: reset, port, format, miserable, valid",
          "<b>Topic 48</b><br>Words: geppo, fuckin, port, awfully, fromsofts",
          "<b>Topic 48</b><br>Words: port, best, version, pc, job"
         ],
         "marker": {
          "color": "#CC79A7"
         },
         "mode": "lines",
         "name": "48_port_pc_job_console",
         "type": "scatter",
         "x": [
          "2014-04-20T18:07:07.316999",
          "2014-11-10T19:13:09.150000",
          "2015-05-29T20:17:53.300000",
          "2015-12-15T21:22:37.449999",
          "2016-07-02T22:27:21.600000",
          "2017-01-18T23:32:05.750000",
          "2017-08-07T00:36:49.900000",
          "2018-09-11T02:46:18.200000",
          "2019-10-16T04:55:46.500000",
          "2020-11-19T07:05:14.800000",
          "2021-06-07T08:09:58.950000",
          "2021-12-24T09:14:43.100000",
          "2022-07-12T10:19:27.249999",
          "2023-08-16T12:28:55.550000",
          "2024-03-03T13:33:39.700000",
          "2024-09-19T14:38:23.849999"
         ],
         "y": [
          81,
          6,
          2,
          4,
          3,
          3,
          1,
          1,
          2,
          2,
          2,
          2,
          1,
          1,
          1,
          1
         ]
        },
        {
         "hoverinfo": "text",
         "hovertext": [
          "<b>Topic 49</b><br>Words: demon, satan, eachother, loved, challanging",
          "<b>Topic 49</b><br>Words: demon, aaa, par, engage, average",
          "<b>Topic 49</b><br>Words: snowman, demon, cult, whats, director",
          "<b>Topic 49</b><br>Words: argonaut, jason, demon, nope, stunning",
          "<b>Topic 49</b><br>Words: devil, whole, demon, new, level",
          "<b>Topic 49</b><br>Words: satanist, hunter, demon, hipster, shortly",
          "<b>Topic 49</b><br>Words: kuess, atlus, isent, demon, active",
          "<b>Topic 49</b><br>Words: popular, demon, care, similar, imo",
          "<b>Topic 49</b><br>Words: today, garbage, demon, include, franchise",
          "<b>Topic 49</b><br>Words: sikero, demon, reshuffle, changed, bb",
          "<b>Topic 49</b><br>Words: waayyyy, demon, close, og, remake",
          "<b>Topic 49</b><br>Words: demon, fml, food, debate, chain",
          "<b>Topic 49</b><br>Words: ezekiel, flack, loose, demon, fly",
          "<b>Topic 49</b><br>Words: demon, fantastic, enough, big, kill",
          "<b>Topic 49</b><br>Words: server, include, finally, demon, favorite",
          "<b>Topic 49</b><br>Words: remake, demon, hidetaka, originally, answer",
          "<b>Topic 49</b><br>Words: conventus, demon, funky, bb, song",
          "<b>Topic 49</b><br>Words: demon, cirlce, inferno, dante, reminiscent"
         ],
         "marker": {
          "color": "#E69F00"
         },
         "mode": "lines",
         "name": "49_demon_satan_eachother_jason",
         "type": "scatter",
         "x": [
          "2014-04-20T18:07:07.316999",
          "2014-11-10T19:13:09.150000",
          "2015-05-29T20:17:53.300000",
          "2015-12-15T21:22:37.449999",
          "2017-01-18T23:32:05.750000",
          "2017-08-07T00:36:49.900000",
          "2018-02-23T01:41:34.049999",
          "2018-09-11T02:46:18.200000",
          "2019-03-30T03:51:02.350000",
          "2019-10-16T04:55:46.500000",
          "2020-05-03T06:00:30.649999",
          "2020-11-19T07:05:14.800000",
          "2021-06-07T08:09:58.950000",
          "2021-12-24T09:14:43.100000",
          "2022-07-12T10:19:27.249999",
          "2023-08-16T12:28:55.550000",
          "2024-03-03T13:33:39.700000",
          "2024-09-19T14:38:23.849999"
         ],
         "y": [
          41,
          7,
          5,
          4,
          1,
          4,
          3,
          2,
          1,
          4,
          5,
          7,
          3,
          2,
          1,
          3,
          7,
          9
         ]
        }
       ],
       "layout": {
        "height": 450,
        "hoverlabel": {
         "bgcolor": "white",
         "font": {
          "family": "Rockwell",
          "size": 16
         }
        },
        "legend": {
         "title": {
          "text": "<b>Global Topic Representation"
         }
        },
        "template": {
         "data": {
          "bar": [
           {
            "error_x": {
             "color": "rgb(36,36,36)"
            },
            "error_y": {
             "color": "rgb(36,36,36)"
            },
            "marker": {
             "line": {
              "color": "white",
              "width": 0.5
             },
             "pattern": {
              "fillmode": "overlay",
              "size": 10,
              "solidity": 0.2
             }
            },
            "type": "bar"
           }
          ],
          "barpolar": [
           {
            "marker": {
             "line": {
              "color": "white",
              "width": 0.5
             },
             "pattern": {
              "fillmode": "overlay",
              "size": 10,
              "solidity": 0.2
             }
            },
            "type": "barpolar"
           }
          ],
          "carpet": [
           {
            "aaxis": {
             "endlinecolor": "rgb(36,36,36)",
             "gridcolor": "white",
             "linecolor": "white",
             "minorgridcolor": "white",
             "startlinecolor": "rgb(36,36,36)"
            },
            "baxis": {
             "endlinecolor": "rgb(36,36,36)",
             "gridcolor": "white",
             "linecolor": "white",
             "minorgridcolor": "white",
             "startlinecolor": "rgb(36,36,36)"
            },
            "type": "carpet"
           }
          ],
          "choropleth": [
           {
            "colorbar": {
             "outlinewidth": 1,
             "tickcolor": "rgb(36,36,36)",
             "ticks": "outside"
            },
            "type": "choropleth"
           }
          ],
          "contour": [
           {
            "colorbar": {
             "outlinewidth": 1,
             "tickcolor": "rgb(36,36,36)",
             "ticks": "outside"
            },
            "colorscale": [
             [
              0,
              "#440154"
             ],
             [
              0.1111111111111111,
              "#482878"
             ],
             [
              0.2222222222222222,
              "#3e4989"
             ],
             [
              0.3333333333333333,
              "#31688e"
             ],
             [
              0.4444444444444444,
              "#26828e"
             ],
             [
              0.5555555555555556,
              "#1f9e89"
             ],
             [
              0.6666666666666666,
              "#35b779"
             ],
             [
              0.7777777777777778,
              "#6ece58"
             ],
             [
              0.8888888888888888,
              "#b5de2b"
             ],
             [
              1,
              "#fde725"
             ]
            ],
            "type": "contour"
           }
          ],
          "contourcarpet": [
           {
            "colorbar": {
             "outlinewidth": 1,
             "tickcolor": "rgb(36,36,36)",
             "ticks": "outside"
            },
            "type": "contourcarpet"
           }
          ],
          "heatmap": [
           {
            "colorbar": {
             "outlinewidth": 1,
             "tickcolor": "rgb(36,36,36)",
             "ticks": "outside"
            },
            "colorscale": [
             [
              0,
              "#440154"
             ],
             [
              0.1111111111111111,
              "#482878"
             ],
             [
              0.2222222222222222,
              "#3e4989"
             ],
             [
              0.3333333333333333,
              "#31688e"
             ],
             [
              0.4444444444444444,
              "#26828e"
             ],
             [
              0.5555555555555556,
              "#1f9e89"
             ],
             [
              0.6666666666666666,
              "#35b779"
             ],
             [
              0.7777777777777778,
              "#6ece58"
             ],
             [
              0.8888888888888888,
              "#b5de2b"
             ],
             [
              1,
              "#fde725"
             ]
            ],
            "type": "heatmap"
           }
          ],
          "heatmapgl": [
           {
            "colorbar": {
             "outlinewidth": 1,
             "tickcolor": "rgb(36,36,36)",
             "ticks": "outside"
            },
            "colorscale": [
             [
              0,
              "#440154"
             ],
             [
              0.1111111111111111,
              "#482878"
             ],
             [
              0.2222222222222222,
              "#3e4989"
             ],
             [
              0.3333333333333333,
              "#31688e"
             ],
             [
              0.4444444444444444,
              "#26828e"
             ],
             [
              0.5555555555555556,
              "#1f9e89"
             ],
             [
              0.6666666666666666,
              "#35b779"
             ],
             [
              0.7777777777777778,
              "#6ece58"
             ],
             [
              0.8888888888888888,
              "#b5de2b"
             ],
             [
              1,
              "#fde725"
             ]
            ],
            "type": "heatmapgl"
           }
          ],
          "histogram": [
           {
            "marker": {
             "line": {
              "color": "white",
              "width": 0.6
             }
            },
            "type": "histogram"
           }
          ],
          "histogram2d": [
           {
            "colorbar": {
             "outlinewidth": 1,
             "tickcolor": "rgb(36,36,36)",
             "ticks": "outside"
            },
            "colorscale": [
             [
              0,
              "#440154"
             ],
             [
              0.1111111111111111,
              "#482878"
             ],
             [
              0.2222222222222222,
              "#3e4989"
             ],
             [
              0.3333333333333333,
              "#31688e"
             ],
             [
              0.4444444444444444,
              "#26828e"
             ],
             [
              0.5555555555555556,
              "#1f9e89"
             ],
             [
              0.6666666666666666,
              "#35b779"
             ],
             [
              0.7777777777777778,
              "#6ece58"
             ],
             [
              0.8888888888888888,
              "#b5de2b"
             ],
             [
              1,
              "#fde725"
             ]
            ],
            "type": "histogram2d"
           }
          ],
          "histogram2dcontour": [
           {
            "colorbar": {
             "outlinewidth": 1,
             "tickcolor": "rgb(36,36,36)",
             "ticks": "outside"
            },
            "colorscale": [
             [
              0,
              "#440154"
             ],
             [
              0.1111111111111111,
              "#482878"
             ],
             [
              0.2222222222222222,
              "#3e4989"
             ],
             [
              0.3333333333333333,
              "#31688e"
             ],
             [
              0.4444444444444444,
              "#26828e"
             ],
             [
              0.5555555555555556,
              "#1f9e89"
             ],
             [
              0.6666666666666666,
              "#35b779"
             ],
             [
              0.7777777777777778,
              "#6ece58"
             ],
             [
              0.8888888888888888,
              "#b5de2b"
             ],
             [
              1,
              "#fde725"
             ]
            ],
            "type": "histogram2dcontour"
           }
          ],
          "mesh3d": [
           {
            "colorbar": {
             "outlinewidth": 1,
             "tickcolor": "rgb(36,36,36)",
             "ticks": "outside"
            },
            "type": "mesh3d"
           }
          ],
          "parcoords": [
           {
            "line": {
             "colorbar": {
              "outlinewidth": 1,
              "tickcolor": "rgb(36,36,36)",
              "ticks": "outside"
             }
            },
            "type": "parcoords"
           }
          ],
          "pie": [
           {
            "automargin": true,
            "type": "pie"
           }
          ],
          "scatter": [
           {
            "fillpattern": {
             "fillmode": "overlay",
             "size": 10,
             "solidity": 0.2
            },
            "type": "scatter"
           }
          ],
          "scatter3d": [
           {
            "line": {
             "colorbar": {
              "outlinewidth": 1,
              "tickcolor": "rgb(36,36,36)",
              "ticks": "outside"
             }
            },
            "marker": {
             "colorbar": {
              "outlinewidth": 1,
              "tickcolor": "rgb(36,36,36)",
              "ticks": "outside"
             }
            },
            "type": "scatter3d"
           }
          ],
          "scattercarpet": [
           {
            "marker": {
             "colorbar": {
              "outlinewidth": 1,
              "tickcolor": "rgb(36,36,36)",
              "ticks": "outside"
             }
            },
            "type": "scattercarpet"
           }
          ],
          "scattergeo": [
           {
            "marker": {
             "colorbar": {
              "outlinewidth": 1,
              "tickcolor": "rgb(36,36,36)",
              "ticks": "outside"
             }
            },
            "type": "scattergeo"
           }
          ],
          "scattergl": [
           {
            "marker": {
             "colorbar": {
              "outlinewidth": 1,
              "tickcolor": "rgb(36,36,36)",
              "ticks": "outside"
             }
            },
            "type": "scattergl"
           }
          ],
          "scattermapbox": [
           {
            "marker": {
             "colorbar": {
              "outlinewidth": 1,
              "tickcolor": "rgb(36,36,36)",
              "ticks": "outside"
             }
            },
            "type": "scattermapbox"
           }
          ],
          "scatterpolar": [
           {
            "marker": {
             "colorbar": {
              "outlinewidth": 1,
              "tickcolor": "rgb(36,36,36)",
              "ticks": "outside"
             }
            },
            "type": "scatterpolar"
           }
          ],
          "scatterpolargl": [
           {
            "marker": {
             "colorbar": {
              "outlinewidth": 1,
              "tickcolor": "rgb(36,36,36)",
              "ticks": "outside"
             }
            },
            "type": "scatterpolargl"
           }
          ],
          "scatterternary": [
           {
            "marker": {
             "colorbar": {
              "outlinewidth": 1,
              "tickcolor": "rgb(36,36,36)",
              "ticks": "outside"
             }
            },
            "type": "scatterternary"
           }
          ],
          "surface": [
           {
            "colorbar": {
             "outlinewidth": 1,
             "tickcolor": "rgb(36,36,36)",
             "ticks": "outside"
            },
            "colorscale": [
             [
              0,
              "#440154"
             ],
             [
              0.1111111111111111,
              "#482878"
             ],
             [
              0.2222222222222222,
              "#3e4989"
             ],
             [
              0.3333333333333333,
              "#31688e"
             ],
             [
              0.4444444444444444,
              "#26828e"
             ],
             [
              0.5555555555555556,
              "#1f9e89"
             ],
             [
              0.6666666666666666,
              "#35b779"
             ],
             [
              0.7777777777777778,
              "#6ece58"
             ],
             [
              0.8888888888888888,
              "#b5de2b"
             ],
             [
              1,
              "#fde725"
             ]
            ],
            "type": "surface"
           }
          ],
          "table": [
           {
            "cells": {
             "fill": {
              "color": "rgb(237,237,237)"
             },
             "line": {
              "color": "white"
             }
            },
            "header": {
             "fill": {
              "color": "rgb(217,217,217)"
             },
             "line": {
              "color": "white"
             }
            },
            "type": "table"
           }
          ]
         },
         "layout": {
          "annotationdefaults": {
           "arrowhead": 0,
           "arrowwidth": 1
          },
          "autotypenumbers": "strict",
          "coloraxis": {
           "colorbar": {
            "outlinewidth": 1,
            "tickcolor": "rgb(36,36,36)",
            "ticks": "outside"
           }
          },
          "colorscale": {
           "diverging": [
            [
             0,
             "rgb(103,0,31)"
            ],
            [
             0.1,
             "rgb(178,24,43)"
            ],
            [
             0.2,
             "rgb(214,96,77)"
            ],
            [
             0.3,
             "rgb(244,165,130)"
            ],
            [
             0.4,
             "rgb(253,219,199)"
            ],
            [
             0.5,
             "rgb(247,247,247)"
            ],
            [
             0.6,
             "rgb(209,229,240)"
            ],
            [
             0.7,
             "rgb(146,197,222)"
            ],
            [
             0.8,
             "rgb(67,147,195)"
            ],
            [
             0.9,
             "rgb(33,102,172)"
            ],
            [
             1,
             "rgb(5,48,97)"
            ]
           ],
           "sequential": [
            [
             0,
             "#440154"
            ],
            [
             0.1111111111111111,
             "#482878"
            ],
            [
             0.2222222222222222,
             "#3e4989"
            ],
            [
             0.3333333333333333,
             "#31688e"
            ],
            [
             0.4444444444444444,
             "#26828e"
            ],
            [
             0.5555555555555556,
             "#1f9e89"
            ],
            [
             0.6666666666666666,
             "#35b779"
            ],
            [
             0.7777777777777778,
             "#6ece58"
            ],
            [
             0.8888888888888888,
             "#b5de2b"
            ],
            [
             1,
             "#fde725"
            ]
           ],
           "sequentialminus": [
            [
             0,
             "#440154"
            ],
            [
             0.1111111111111111,
             "#482878"
            ],
            [
             0.2222222222222222,
             "#3e4989"
            ],
            [
             0.3333333333333333,
             "#31688e"
            ],
            [
             0.4444444444444444,
             "#26828e"
            ],
            [
             0.5555555555555556,
             "#1f9e89"
            ],
            [
             0.6666666666666666,
             "#35b779"
            ],
            [
             0.7777777777777778,
             "#6ece58"
            ],
            [
             0.8888888888888888,
             "#b5de2b"
            ],
            [
             1,
             "#fde725"
            ]
           ]
          },
          "colorway": [
           "#1F77B4",
           "#FF7F0E",
           "#2CA02C",
           "#D62728",
           "#9467BD",
           "#8C564B",
           "#E377C2",
           "#7F7F7F",
           "#BCBD22",
           "#17BECF"
          ],
          "font": {
           "color": "rgb(36,36,36)"
          },
          "geo": {
           "bgcolor": "white",
           "lakecolor": "white",
           "landcolor": "white",
           "showlakes": true,
           "showland": true,
           "subunitcolor": "white"
          },
          "hoverlabel": {
           "align": "left"
          },
          "hovermode": "closest",
          "mapbox": {
           "style": "light"
          },
          "paper_bgcolor": "white",
          "plot_bgcolor": "white",
          "polar": {
           "angularaxis": {
            "gridcolor": "rgb(232,232,232)",
            "linecolor": "rgb(36,36,36)",
            "showgrid": false,
            "showline": true,
            "ticks": "outside"
           },
           "bgcolor": "white",
           "radialaxis": {
            "gridcolor": "rgb(232,232,232)",
            "linecolor": "rgb(36,36,36)",
            "showgrid": false,
            "showline": true,
            "ticks": "outside"
           }
          },
          "scene": {
           "xaxis": {
            "backgroundcolor": "white",
            "gridcolor": "rgb(232,232,232)",
            "gridwidth": 2,
            "linecolor": "rgb(36,36,36)",
            "showbackground": true,
            "showgrid": false,
            "showline": true,
            "ticks": "outside",
            "zeroline": false,
            "zerolinecolor": "rgb(36,36,36)"
           },
           "yaxis": {
            "backgroundcolor": "white",
            "gridcolor": "rgb(232,232,232)",
            "gridwidth": 2,
            "linecolor": "rgb(36,36,36)",
            "showbackground": true,
            "showgrid": false,
            "showline": true,
            "ticks": "outside",
            "zeroline": false,
            "zerolinecolor": "rgb(36,36,36)"
           },
           "zaxis": {
            "backgroundcolor": "white",
            "gridcolor": "rgb(232,232,232)",
            "gridwidth": 2,
            "linecolor": "rgb(36,36,36)",
            "showbackground": true,
            "showgrid": false,
            "showline": true,
            "ticks": "outside",
            "zeroline": false,
            "zerolinecolor": "rgb(36,36,36)"
           }
          },
          "shapedefaults": {
           "fillcolor": "black",
           "line": {
            "width": 0
           },
           "opacity": 0.3
          },
          "ternary": {
           "aaxis": {
            "gridcolor": "rgb(232,232,232)",
            "linecolor": "rgb(36,36,36)",
            "showgrid": false,
            "showline": true,
            "ticks": "outside"
           },
           "baxis": {
            "gridcolor": "rgb(232,232,232)",
            "linecolor": "rgb(36,36,36)",
            "showgrid": false,
            "showline": true,
            "ticks": "outside"
           },
           "bgcolor": "white",
           "caxis": {
            "gridcolor": "rgb(232,232,232)",
            "linecolor": "rgb(36,36,36)",
            "showgrid": false,
            "showline": true,
            "ticks": "outside"
           }
          },
          "title": {
           "x": 0.05
          },
          "xaxis": {
           "automargin": true,
           "gridcolor": "rgb(232,232,232)",
           "linecolor": "rgb(36,36,36)",
           "showgrid": false,
           "showline": true,
           "ticks": "outside",
           "title": {
            "standoff": 15
           },
           "zeroline": false,
           "zerolinecolor": "rgb(36,36,36)"
          },
          "yaxis": {
           "automargin": true,
           "gridcolor": "rgb(232,232,232)",
           "linecolor": "rgb(36,36,36)",
           "showgrid": false,
           "showline": true,
           "ticks": "outside",
           "title": {
            "standoff": 15
           },
           "zeroline": false,
           "zerolinecolor": "rgb(36,36,36)"
          }
         }
        },
        "title": {
         "font": {
          "color": "Black",
          "size": 22
         },
         "text": "<b>Topics over Time</b>",
         "x": 0.4,
         "xanchor": "center",
         "y": 0.95,
         "yanchor": "top"
        },
        "width": 1250,
        "xaxis": {
         "showgrid": true
        },
        "yaxis": {
         "showgrid": true,
         "title": {
          "text": "Frequency"
         }
        }
       }
      }
     },
     "metadata": {},
     "output_type": "display_data"
    }
   ],
   "source": [
    "pos_model.visualize_topics_over_time(pos_topics_over_time, top_n_topics=50)"
   ]
  },
  {
   "cell_type": "code",
   "execution_count": 17,
   "metadata": {},
   "outputs": [
    {
     "name": "stderr",
     "output_type": "stream",
     "text": [
      "5it [00:08,  1.65s/it]\n"
     ]
    }
   ],
   "source": [
    "pos_topics_over_time = pos_model.topics_over_time(pos_docs, pos_extra_content_release, nr_bins=20)"
   ]
  },
  {
   "cell_type": "code",
   "execution_count": 18,
   "metadata": {},
   "outputs": [
    {
     "data": {
      "application/vnd.plotly.v1+json": {
       "config": {
        "plotlyServerURL": "https://plot.ly"
       },
       "data": [
        {
         "hoverinfo": "text",
         "hovertext": [
          "<b>Topic 0</b><br>Words: ow, praise, brolaire, umm, would",
          "<b>Topic 0</b><br>Words: brolaire, praise, ow, umm, forgot",
          "<b>Topic 0</b><br>Words: brolaire, ow, umm, praise, forgot",
          "<b>Topic 0</b><br>Words: praise, would, brolaire, ow, umm",
          "<b>Topic 0</b><br>Words: umm, forgot, aaa, hello, brolaire"
         ],
         "marker": {
          "color": "#E69F00"
         },
         "mode": "lines",
         "name": "0_brolaire_umm_ow_praise",
         "type": "scatter",
         "x": [
          "2014-03-10T14:44:09.600000",
          "2014-07-04T19:12:00",
          "2014-08-12T09:36:00",
          "2014-09-20T00:00:00",
          "2015-03-12T16:48:00"
         ],
         "y": [
          85,
          13,
          12,
          37,
          1522
         ]
        },
        {
         "hoverinfo": "text",
         "hovertext": [
          "<b>Topic 1</b><br>Words: good, as, mm, dat, ol",
          "<b>Topic 1</b><br>Words: good, mm, dat, ol, af",
          "<b>Topic 1</b><br>Words: good, mm, dat, ol, af",
          "<b>Topic 1</b><br>Words: good, mm, dat, ol, af",
          "<b>Topic 1</b><br>Words: good, mm, dat, ol, af"
         ],
         "marker": {
          "color": "#56B4E9"
         },
         "mode": "lines",
         "name": "1_good_mm_dat_ol",
         "type": "scatter",
         "x": [
          "2014-03-10T14:44:09.600000",
          "2014-07-04T19:12:00",
          "2014-08-12T09:36:00",
          "2014-09-20T00:00:00",
          "2015-03-12T16:48:00"
         ],
         "y": [
          51,
          10,
          4,
          23,
          1182
         ]
        },
        {
         "hoverinfo": "text",
         "hovertext": [
          "<b>Topic 2</b><br>Words: player, covenant, attack, area, item",
          "<b>Topic 2</b><br>Words: navlaan, sooner, undead, shield, possible",
          "<b>Topic 2</b><br>Words: list, player, item, weapon, ii",
          "<b>Topic 2</b><br>Words: matrixdll, area, character, player, peberro",
          "<b>Topic 2</b><br>Words: iron, area, enemy, attack, player"
         ],
         "marker": {
          "color": "#009E73"
         },
         "mode": "lines",
         "name": "2_iron_area_player_attack",
         "type": "scatter",
         "x": [
          "2014-03-10T14:44:09.600000",
          "2014-07-04T19:12:00",
          "2014-08-12T09:36:00",
          "2014-09-20T00:00:00",
          "2015-03-12T16:48:00"
         ],
         "y": [
          138,
          17,
          20,
          51,
          811
         ]
        },
        {
         "hoverinfo": "text",
         "hovertext": [
          "<b>Topic 3</b><br>Words: dlc, flims, handeling, dewrk, toro",
          "<b>Topic 3</b><br>Words: cnt, adition, recommand, trully, imagination",
          "<b>Topic 3</b><br>Words: goggle, hench, foreward, playability, dlc",
          "<b>Topic 3</b><br>Words: directx, dlc, owner, version, dx",
          "<b>Topic 3</b><br>Words: dlc, version, dx, upgrade, dlcs"
         ],
         "marker": {
          "color": "#F0E442"
         },
         "mode": "lines",
         "name": "3_dlc_version_dx_upgrade",
         "type": "scatter",
         "x": [
          "2014-03-10T14:44:09.600000",
          "2014-07-04T19:12:00",
          "2014-08-12T09:36:00",
          "2014-09-20T00:00:00",
          "2015-03-12T16:48:00"
         ],
         "y": [
          16,
          3,
          8,
          53,
          634
         ]
        },
        {
         "hoverinfo": "text",
         "hovertext": [
          "<b>Topic 4</b><br>Words: best, everrrrrrrrrrrrrrrrrrrrrrrrrrrrrrrrrrrrrrrrrrrrrrrrrrrrrrrrrrrrrrrrrrrrrrrrrrrrrrrrrrrrrrrrrrrrrrrrrrrrrrr, ah, wtf, btw",
          "<b>Topic 4</b><br>Words: best, everrrrrrrrrrrrrrrrrrrrrrrrrrrrrrrrrrrrrrrrrrrrrrrrrrrrrrrrrrrrrrrrrrrrrrrrrrrrrrrrrrrrrrrrrrrrrrrrrrrrrrr, ah, wtf, btw",
          "<b>Topic 4</b><br>Words: best, everrrrrrrrrrrrrrrrrrrrrrrrrrrrrrrrrrrrrrrrrrrrrrrrrrrrrrrrrrrrrrrrrrrrrrrrrrrrrrrrrrrrrrrrrrrrrrrrrrrrrrr, ah, wtf, btw",
          "<b>Topic 4</b><br>Words: best, ah, everrrrrrrrrrrrrrrrrrrrrrrrrrrrrrrrrrrrrrrrrrrrrrrrrrrrrrrrrrrrrrrrrrrrrrrrrrrrrrrrrrrrrrrrrrrrrrrrrrrrrrr, wtf, btw"
         ],
         "marker": {
          "color": "#D55E00"
         },
         "mode": "lines",
         "name": "4_best_everrrrrrrrrrrrrrrrrrrrrrrrrrrrrr...",
         "type": "scatter",
         "x": [
          "2014-03-10T14:44:09.600000",
          "2014-07-04T19:12:00",
          "2014-09-20T00:00:00",
          "2015-03-12T16:48:00"
         ],
         "y": [
          18,
          1,
          6,
          531
         ]
        },
        {
         "hoverinfo": "text",
         "hovertext": [
          "<b>Topic 5</b><br>Words: yes, nope, yesn, yessir, thank",
          "<b>Topic 5</b><br>Words: yes, yesn, nope, yessir, thank",
          "<b>Topic 5</b><br>Words: yes, yesn, nope, yessir, thank",
          "<b>Topic 5</b><br>Words: yes, nope, yesn, yessir, thank",
          "<b>Topic 5</b><br>Words: yes, yesn, yessir, thank, nope"
         ],
         "marker": {
          "color": "#0072B2"
         },
         "mode": "lines",
         "name": "5_yes_yesn_nope_yessir",
         "type": "scatter",
         "x": [
          "2014-03-10T14:44:09.600000",
          "2014-07-04T19:12:00",
          "2014-08-12T09:36:00",
          "2014-09-20T00:00:00",
          "2015-03-12T16:48:00"
         ],
         "y": [
          22,
          1,
          2,
          10,
          383
         ]
        },
        {
         "hoverinfo": "text",
         "hovertext": [
          "<b>Topic 6</b><br>Words: keyboard, mouse, controller, control, key",
          "<b>Topic 6</b><br>Words: literaly, cursor, keyboard, satan, conversation",
          "<b>Topic 6</b><br>Words: keyboard, mouse, brutaaaal, amaaazing, coooooo",
          "<b>Topic 6</b><br>Words: mouse, keyboard, autohotkey, controller, control",
          "<b>Topic 6</b><br>Words: keyboard, mouse, controller, control, click"
         ],
         "marker": {
          "color": "#CC79A7"
         },
         "mode": "lines",
         "name": "6_keyboard_mouse_controller_control",
         "type": "scatter",
         "x": [
          "2014-03-10T14:44:09.600000",
          "2014-07-04T19:12:00",
          "2014-08-12T09:36:00",
          "2014-09-20T00:00:00",
          "2015-03-12T16:48:00"
         ],
         "y": [
          111,
          5,
          6,
          15,
          216
         ]
        },
        {
         "hoverinfo": "text",
         "hovertext": [
          "<b>Topic 7</b><br>Words: que, de, jogo, joc, el",
          "<b>Topic 7</b><br>Words: chaooooo, ajustar, mira, misterioso, desconhecido",
          "<b>Topic 7</b><br>Words: de, que, jogo, le, et",
          "<b>Topic 7</b><br>Words: de, que, jogo, el, la"
         ],
         "marker": {
          "color": "#E69F00"
         },
         "mode": "lines",
         "name": "7_de_que_jogo_el",
         "type": "scatter",
         "x": [
          "2014-03-10T14:44:09.600000",
          "2014-08-12T09:36:00",
          "2014-09-20T00:00:00",
          "2015-03-12T16:48:00"
         ],
         "y": [
          14,
          3,
          8,
          323
         ]
        },
        {
         "hoverinfo": "text",
         "hovertext": [
          "<b>Topic 8</b><br>Words: great, greattttt, greatttttt, wwwww, outta",
          "<b>Topic 8</b><br>Words: great, greattttt, greatttttt, wwwww, outta",
          "<b>Topic 8</b><br>Words: great, greattttt, greatttttt, wwwww, outta",
          "<b>Topic 8</b><br>Words: great, greattttt, greatttttt, wwwww, outta",
          "<b>Topic 8</b><br>Words: great, greattttt, greatttttt, wwwww, outta"
         ],
         "marker": {
          "color": "#56B4E9"
         },
         "mode": "lines",
         "name": "8_great_wwwww_greatttttt_greattttt",
         "type": "scatter",
         "x": [
          "2014-03-10T14:44:09.600000",
          "2014-07-04T19:12:00",
          "2014-08-12T09:36:00",
          "2014-09-20T00:00:00",
          "2015-03-12T16:48:00"
         ],
         "y": [
          29,
          4,
          3,
          13,
          247
         ]
        },
        {
         "hoverinfo": "text",
         "hovertext": [
          "<b>Topic 9</b><br>Words: die, nutshell, rip, hey, guy",
          "<b>Topic 9</b><br>Words: die, finna, tire, slug, nutshell",
          "<b>Topic 9</b><br>Words: die, fuck, finna, tire, slug",
          "<b>Topic 9</b><br>Words: die, slug, eat, massive, fuck",
          "<b>Topic 9</b><br>Words: die, finna, tire, yay, inside"
         ],
         "marker": {
          "color": "#009E73"
         },
         "mode": "lines",
         "name": "9_die_finna_tire_slug",
         "type": "scatter",
         "x": [
          "2014-03-10T14:44:09.600000",
          "2014-07-04T19:12:00",
          "2014-08-12T09:36:00",
          "2014-09-20T00:00:00",
          "2015-03-12T16:48:00"
         ],
         "y": [
          55,
          5,
          8,
          23,
          198
         ]
        },
        {
         "hoverinfo": "text",
         "hovertext": [
          "<b>Topic 10</b><br>Words: git, gud, dye, electric, boogaloo",
          "<b>Topic 10</b><br>Words: git, gud, seperating, casuals, electric",
          "<b>Topic 10</b><br>Words: git, gud, jihad, electric, boogaloo",
          "<b>Topic 10</b><br>Words: git, gud, electric, boogaloo, oddajcie"
         ],
         "marker": {
          "color": "#F0E442"
         },
         "mode": "lines",
         "name": "10_git_gud_electric_boogaloo",
         "type": "scatter",
         "x": [
          "2014-03-10T14:44:09.600000",
          "2014-07-04T19:12:00",
          "2014-09-20T00:00:00",
          "2015-03-12T16:48:00"
         ],
         "y": [
          18,
          4,
          6,
          239
         ]
        },
        {
         "hoverinfo": "text",
         "hovertext": [
          "<b>Topic 11</b><br>Words: sun, praise, blah, hourra, gtfo",
          "<b>Topic 11</b><br>Words: sun, praise, adherent, sunlight, bust",
          "<b>Topic 11</b><br>Words: sun, praise, weild, fist, dual",
          "<b>Topic 11</b><br>Words: sun, praise, praising, edit, blah",
          "<b>Topic 11</b><br>Words: sun, praise, huraah, hoorah, biatch"
         ],
         "marker": {
          "color": "#D55E00"
         },
         "mode": "lines",
         "name": "11_sun_praise_blah_hourra",
         "type": "scatter",
         "x": [
          "2014-03-10T14:44:09.600000",
          "2014-07-04T19:12:00",
          "2014-08-12T09:36:00",
          "2014-09-20T00:00:00",
          "2015-03-12T16:48:00"
         ],
         "y": [
          77,
          8,
          6,
          18,
          157
         ]
        },
        {
         "hoverinfo": "text",
         "hovertext": [
          "<b>Topic 12</b><br>Words: darksouls, dark, beta, darkness, storybased",
          "<b>Topic 12</b><br>Words: darksoulsii, darksouls, exe, letdown, casual",
          "<b>Topic 12</b><br>Words: sorta, darksouls, wouldnt, unbalanced, hey",
          "<b>Topic 12</b><br>Words: darksouls, hgue, darkfog, dosent, darker",
          "<b>Topic 12</b><br>Words: darksouls, darksoul, john, dark, darklurker"
         ],
         "marker": {
          "color": "#0072B2"
         },
         "mode": "lines",
         "name": "12_darksouls_darksoul_john_dark",
         "type": "scatter",
         "x": [
          "2014-03-10T14:44:09.600000",
          "2014-07-04T19:12:00",
          "2014-08-12T09:36:00",
          "2014-09-20T00:00:00",
          "2015-03-12T16:48:00"
         ],
         "y": [
          31,
          3,
          1,
          6,
          216
         ]
        },
        {
         "hoverinfo": "text",
         "hovertext": [
          "<b>Topic 13</b><br>Words: pc, gpu, xbox, console, card",
          "<b>Topic 13</b><br>Words: orginally, youve, seamless, rig, specially",
          "<b>Topic 13</b><br>Words: sho, fo, pc, send, slot",
          "<b>Topic 13</b><br>Words: pc, commuinity, isd, leading, alaready",
          "<b>Topic 13</b><br>Words: pc, xbox, laptop, console, fps"
         ],
         "marker": {
          "color": "#CC79A7"
         },
         "mode": "lines",
         "name": "13_pc_xbox_laptop_console",
         "type": "scatter",
         "x": [
          "2014-03-10T14:44:09.600000",
          "2014-07-04T19:12:00",
          "2014-08-12T09:36:00",
          "2014-09-20T00:00:00",
          "2015-03-12T16:48:00"
         ],
         "y": [
          61,
          3,
          5,
          9,
          177
         ]
        },
        {
         "hoverinfo": "text",
         "hovertext": [
          "<b>Topic 14</b><br>Words: fun, crazy, know, people, cassual",
          "<b>Topic 14</b><br>Words: fun, cassual, ha, spambush, scuffed",
          "<b>Topic 14</b><br>Words: fun, cassual, ha, spambush, scuffed",
          "<b>Topic 14</b><br>Words: gritty, fun, cassual, ha, spambush",
          "<b>Topic 14</b><br>Words: fun, cassual, ha, spambush, scuffed"
         ],
         "marker": {
          "color": "#E69F00"
         },
         "mode": "lines",
         "name": "14_fun_cassual_ha_spambush",
         "type": "scatter",
         "x": [
          "2014-03-10T14:44:09.600000",
          "2014-07-04T19:12:00",
          "2014-08-12T09:36:00",
          "2014-09-20T00:00:00",
          "2015-03-12T16:48:00"
         ],
         "y": [
          10,
          1,
          1,
          3,
          220
         ]
        },
        {
         "hoverinfo": "text",
         "hovertext": [
          "<b>Topic 15</b><br>Words: nice, niceeeeeeeeeee, yi, yes, yeah",
          "<b>Topic 15</b><br>Words: nice, niceeeeeeeeeee, yi, yes, yeah",
          "<b>Topic 15</b><br>Words: nice, yeah, yes, niceeeeeeeeeee, yi",
          "<b>Topic 15</b><br>Words: nice, niceeeeeeeeeee, yi, yes, yeah"
         ],
         "marker": {
          "color": "#56B4E9"
         },
         "mode": "lines",
         "name": "15_nice_niceeeeeeeeeee_yi_yes",
         "type": "scatter",
         "x": [
          "2014-03-10T14:44:09.600000",
          "2014-08-12T09:36:00",
          "2014-09-20T00:00:00",
          "2015-03-12T16:48:00"
         ],
         "y": [
          6,
          1,
          4,
          221
         ]
        },
        {
         "hoverinfo": "text",
         "hovertext": [
          "<b>Topic 16</b><br>Words: rpg, rpgs, action, fantasy, ever",
          "<b>Topic 16</b><br>Words: rpg, amalur, reckoning, action, sucked",
          "<b>Topic 16</b><br>Words: rpg, action, enigmatic, fantasy, rly",
          "<b>Topic 16</b><br>Words: rpg, action, rpgs, rezolution, contemplation",
          "<b>Topic 16</b><br>Words: rpg, action, rpgs, fantasy, best"
         ],
         "marker": {
          "color": "#009E73"
         },
         "mode": "lines",
         "name": "16_rpg_action_rpgs_fantasy",
         "type": "scatter",
         "x": [
          "2014-03-10T14:44:09.600000",
          "2014-07-04T19:12:00",
          "2014-08-12T09:36:00",
          "2014-09-20T00:00:00",
          "2015-03-12T16:48:00"
         ],
         "y": [
          52,
          10,
          8,
          23,
          120
         ]
        },
        {
         "hoverinfo": "text",
         "hovertext": [
          "<b>Topic 17</b><br>Words: challenge, challenging, centry, harcore, biting",
          "<b>Topic 17</b><br>Words: definently, funnest, challenge, object, length",
          "<b>Topic 17</b><br>Words: challenge, didnt, real, definitely, could",
          "<b>Topic 17</b><br>Words: challenge, worths, birthday, funny, definately",
          "<b>Topic 17</b><br>Words: challenge, challenging, fun, aaaaaaaaaaaaaaaaaaaaaaaaaaaaaaaaaaaaaaaaaaaaaaaaaaaaaaaaaaaaaahhhhhhhhhhhhhhhhhhhhhhhhhhhhhhhhhhhhhhhhhhhhhh, aaaaaarrrrghhhh"
         ],
         "marker": {
          "color": "#F0E442"
         },
         "mode": "lines",
         "name": "17_challenge_challenging_fun_aaaaaaaaaaa...",
         "type": "scatter",
         "x": [
          "2014-03-10T14:44:09.600000",
          "2014-07-04T19:12:00",
          "2014-08-12T09:36:00",
          "2014-09-20T00:00:00",
          "2015-03-12T16:48:00"
         ],
         "y": [
          40,
          6,
          4,
          23,
          139
         ]
        },
        {
         "hoverinfo": "text",
         "hovertext": [
          "<b>Topic 18</b><br>Words: ever, best, bestes, category, xd",
          "<b>Topic 18</b><br>Words: ever, best, sombre, canser, peev",
          "<b>Topic 18</b><br>Words: ever, everrrrrrrrrr, aloud, best, fuckin",
          "<b>Topic 18</b><br>Words: ever, best, shet, horry, canser",
          "<b>Topic 18</b><br>Words: ever, best, sombre, greatt, eeeeeeeeeeeevvvvvvvvvvveeeeeeeeerrrrrrr"
         ],
         "marker": {
          "color": "#D55E00"
         },
         "mode": "lines",
         "name": "18_ever_best_sombre_shet",
         "type": "scatter",
         "x": [
          "2014-03-10T14:44:09.600000",
          "2014-07-04T19:12:00",
          "2014-08-12T09:36:00",
          "2014-09-20T00:00:00",
          "2015-03-12T16:48:00"
         ],
         "y": [
          49,
          3,
          9,
          20,
          129
         ]
        },
        {
         "hoverinfo": "text",
         "hovertext": [
          "<b>Topic 19</b><br>Words: controller, xbox, break, vibrate, wire",
          "<b>Topic 19</b><br>Words: eng, controller, aggravate, pls, monitor",
          "<b>Topic 19</b><br>Words: moniters, controller, hype, broken, worthy",
          "<b>Topic 19</b><br>Words: controller, vendricks, rocking, rager, nuff",
          "<b>Topic 19</b><br>Words: controller, break, window, xbox, smash"
         ],
         "marker": {
          "color": "#0072B2"
         },
         "mode": "lines",
         "name": "19_controller_xbox_break_window",
         "type": "scatter",
         "x": [
          "2014-03-10T14:44:09.600000",
          "2014-07-04T19:12:00",
          "2014-08-12T09:36:00",
          "2014-09-20T00:00:00",
          "2015-03-12T16:48:00"
         ],
         "y": [
          64,
          4,
          3,
          16,
          119
         ]
        },
        {
         "hoverinfo": "text",
         "hovertext": [
          "<b>Topic 20</b><br>Words: buy, sale, bought, annal, deux",
          "<b>Topic 20</b><br>Words: frigin, yolo, blaze, awesomeness, buy",
          "<b>Topic 20</b><br>Words: guyz, bought, sweet, twice, thats",
          "<b>Topic 20</b><br>Words: amazoning, ike, buy, sale, fcuk",
          "<b>Topic 20</b><br>Words: buy, sale, bought, twice, wait"
         ],
         "marker": {
          "color": "#CC79A7"
         },
         "mode": "lines",
         "name": "20_buy_sale_bought_twice",
         "type": "scatter",
         "x": [
          "2014-03-10T14:44:09.600000",
          "2014-07-04T19:12:00",
          "2014-08-12T09:36:00",
          "2014-09-20T00:00:00",
          "2015-03-12T16:48:00"
         ],
         "y": [
          43,
          3,
          2,
          12,
          139
         ]
        },
        {
         "hoverinfo": "text",
         "hovertext": [
          "<b>Topic 21</b><br>Words: sun, praise, solaire, praising, die",
          "<b>Topic 21</b><br>Words: priase, sun, praise, sunbroing, youve",
          "<b>Topic 21</b><br>Words: sun, priase, praise, bother, penny",
          "<b>Topic 21</b><br>Words: sun, praise, consist, dontu, mutha",
          "<b>Topic 21</b><br>Words: sun, praise, therefore, praising, sunbro"
         ],
         "marker": {
          "color": "#E69F00"
         },
         "mode": "lines",
         "name": "21_sun_praise_priase_therefore",
         "type": "scatter",
         "x": [
          "2014-03-10T14:44:09.600000",
          "2014-07-04T19:12:00",
          "2014-08-12T09:36:00",
          "2014-09-20T00:00:00",
          "2015-03-12T16:48:00"
         ],
         "y": [
          69,
          6,
          4,
          17,
          90
         ]
        },
        {
         "hoverinfo": "text",
         "hovertext": [
          "<b>Topic 22</b><br>Words: hitboxes, videojame, gamplay, box, da",
          "<b>Topic 22</b><br>Words: hitboxes, hitbox, box, hit, shitty",
          "<b>Topic 22</b><br>Words: biscuit, wierd, tea, hitbox, box",
          "<b>Topic 22</b><br>Words: hitboxes, hitbox, box, hit, shitty"
         ],
         "marker": {
          "color": "#56B4E9"
         },
         "mode": "lines",
         "name": "22_hitboxes_hitbox_box_hit",
         "type": "scatter",
         "x": [
          "2014-03-10T14:44:09.600000",
          "2014-07-04T19:12:00",
          "2014-09-20T00:00:00",
          "2015-03-12T16:48:00"
         ],
         "y": [
          7,
          1,
          2,
          176
         ]
        },
        {
         "hoverinfo": "text",
         "hovertext": [
          "<b>Topic 23</b><br>Words: soulsborne, soulsbourne, soulsgame, soulslikes, soulslike"
         ],
         "marker": {
          "color": "#009E73"
         },
         "mode": "lines",
         "name": "23_soulsborne_soulsbourne_soulsgame_soul...",
         "type": "scatter",
         "x": [
          "2015-03-12T16:48:00"
         ],
         "y": [
          173
         ]
        },
        {
         "hoverinfo": "text",
         "hovertext": [
          "<b>Topic 24</b><br>Words: ok, oka, wowcool, ya, ",
          "<b>Topic 24</b><br>Words: ok, oka, wowcool, ya, ",
          "<b>Topic 24</b><br>Words: ok, oka, wowcool, ya, ",
          "<b>Topic 24</b><br>Words: ok, oka, wowcool, ya, ",
          "<b>Topic 24</b><br>Words: ok, oka, wowcool, ya, "
         ],
         "marker": {
          "color": "#F0E442"
         },
         "mode": "lines",
         "name": "24_ok_wowcool_oka_ya",
         "type": "scatter",
         "x": [
          "2014-03-10T14:44:09.600000",
          "2014-07-04T19:12:00",
          "2014-08-12T09:36:00",
          "2014-09-20T00:00:00",
          "2015-03-12T16:48:00"
         ],
         "y": [
          14,
          4,
          1,
          11,
          137
         ]
        },
        {
         "hoverinfo": "text",
         "hovertext": [
          "<b>Topic 25</b><br>Words: love, grrrrr, fkin, frist, men",
          "<b>Topic 25</b><br>Words: love, grrrrr, fkin, frist, men",
          "<b>Topic 25</b><br>Words: love, grrrrr, fkin, frist, men",
          "<b>Topic 25</b><br>Words: love, grrrrr, fkin, frist, men",
          "<b>Topic 25</b><br>Words: love, grrrrr, fkin, frist, men"
         ],
         "marker": {
          "color": "#D55E00"
         },
         "mode": "lines",
         "name": "25_love_grrrrr_fkin_frist",
         "type": "scatter",
         "x": [
          "2014-03-10T14:44:09.600000",
          "2014-07-04T19:12:00",
          "2014-08-12T09:36:00",
          "2014-09-20T00:00:00",
          "2015-03-12T16:48:00"
         ],
         "y": [
          14,
          3,
          2,
          11,
          128
         ]
        },
        {
         "hoverinfo": "text",
         "hovertext": [
          "<b>Topic 26</b><br>Words: hate, ing, homies, dennis, thanks",
          "<b>Topic 26</b><br>Words: hate, ing, homies, dennis, thanks",
          "<b>Topic 26</b><br>Words: hate, ing, homies, dennis, thanks",
          "<b>Topic 26</b><br>Words: hate, ing, homies, dennis, thanks",
          "<b>Topic 26</b><br>Words: hate, ing, homies, dennis, thanks"
         ],
         "marker": {
          "color": "#0072B2"
         },
         "mode": "lines",
         "name": "26_hate_ing_homies_dennis",
         "type": "scatter",
         "x": [
          "2014-03-10T14:44:09.600000",
          "2014-07-04T19:12:00",
          "2014-08-12T09:36:00",
          "2014-09-20T00:00:00",
          "2015-03-12T16:48:00"
         ],
         "y": [
          7,
          1,
          2,
          1,
          146
         ]
        },
        {
         "hoverinfo": "text",
         "hovertext": [
          "<b>Topic 27</b><br>Words: would, smell, die, rustle, jimmy",
          "<b>Topic 27</b><br>Words: would, flask, cry, die, smell",
          "<b>Topic 27</b><br>Words: would, die, smell, rape, somebody",
          "<b>Topic 27</b><br>Words: would, rape, die, bladder, burst",
          "<b>Topic 27</b><br>Words: would, die, somebody, saltiness, tenouttaten"
         ],
         "marker": {
          "color": "#CC79A7"
         },
         "mode": "lines",
         "name": "27_would_die_smell_rape",
         "type": "scatter",
         "x": [
          "2014-03-10T14:44:09.600000",
          "2014-07-04T19:12:00",
          "2014-08-12T09:36:00",
          "2014-09-20T00:00:00",
          "2015-03-12T16:48:00"
         ],
         "y": [
          43,
          4,
          4,
          23,
          82
         ]
        },
        {
         "hoverinfo": "text",
         "hovertext": [
          "<b>Topic 28</b><br>Words: heaps, sooding, beceuse, boss, verry",
          "<b>Topic 28</b><br>Words: wrenching, dificult, seat, gut, shadow",
          "<b>Topic 28</b><br>Words: monstrous, arent, possibility, alot, true",
          "<b>Topic 28</b><br>Words: boss, def, cheese, bossss, glitchy"
         ],
         "marker": {
          "color": "#E69F00"
         },
         "mode": "lines",
         "name": "28_boss_def_cheese_bossss",
         "type": "scatter",
         "x": [
          "2014-03-10T14:44:09.600000",
          "2014-08-12T09:36:00",
          "2014-09-20T00:00:00",
          "2015-03-12T16:48:00"
         ],
         "y": [
          11,
          3,
          2,
          138
         ]
        },
        {
         "hoverinfo": "text",
         "hovertext": [
          "<b>Topic 29</b><br>Words: peak, pew, tuah, peaksouls, frfr"
         ],
         "marker": {
          "color": "#56B4E9"
         },
         "mode": "lines",
         "name": "29_peak_pew_tuah_peaksouls",
         "type": "scatter",
         "x": [
          "2015-03-12T16:48:00"
         ],
         "y": [
          154
         ]
        },
        {
         "hoverinfo": "text",
         "hovertext": [
          "<b>Topic 30</b><br>Words: gud, breddy, gude, gueass, lief",
          "<b>Topic 30</b><br>Words: gued, gud, super, gude, lief",
          "<b>Topic 30</b><br>Words: ittttttttt, gud, gude, gueass, lief",
          "<b>Topic 30</b><br>Words: gud, es, gude, gueass, lief",
          "<b>Topic 30</b><br>Words: gud, gude, gueass, lief, guwd"
         ],
         "marker": {
          "color": "#009E73"
         },
         "mode": "lines",
         "name": "30_gud_gude_gued_lief",
         "type": "scatter",
         "x": [
          "2014-03-10T14:44:09.600000",
          "2014-07-04T19:12:00",
          "2014-08-12T09:36:00",
          "2014-09-20T00:00:00",
          "2015-03-12T16:48:00"
         ],
         "y": [
          4,
          2,
          1,
          4,
          136
         ]
        },
        {
         "hoverinfo": "text",
         "hovertext": [
          "<b>Topic 31</b><br>Words: bloodborne, inside, blood, atm, wait",
          "<b>Topic 31</b><br>Words: bloodborne, bring, pc, well, blood",
          "<b>Topic 31</b><br>Words: heee, bloodborne, booger, greatgame, stench",
          "<b>Topic 31</b><br>Words: bloodborne, pc, blood, bloodborn, kart"
         ],
         "marker": {
          "color": "#F0E442"
         },
         "mode": "lines",
         "name": "31_bloodborne_blood_pc_bloodborn",
         "type": "scatter",
         "x": [
          "2014-03-10T14:44:09.600000",
          "2014-07-04T19:12:00",
          "2014-09-20T00:00:00",
          "2015-03-12T16:48:00"
         ],
         "y": [
          4,
          1,
          5,
          132
         ]
        },
        {
         "hoverinfo": "text",
         "hovertext": [
          "<b>Topic 32</b><br>Words: hating, hate, bloody, existence, deserve",
          "<b>Topic 32</b><br>Words: teach, hate, people, deserve, doesnt",
          "<b>Topic 32</b><br>Words: essentially, disappoint, comparison, hate, bring",
          "<b>Topic 32</b><br>Words: deserve, hate, doesnt, savage, understand"
         ],
         "marker": {
          "color": "#D55E00"
         },
         "mode": "lines",
         "name": "32_deserve_hate_doesnt_hating",
         "type": "scatter",
         "x": [
          "2014-03-10T14:44:09.600000",
          "2014-07-04T19:12:00",
          "2014-09-20T00:00:00",
          "2015-03-12T16:48:00"
         ],
         "y": [
          8,
          1,
          2,
          127
         ]
        },
        {
         "hoverinfo": "text",
         "hovertext": [
          "<b>Topic 33</b><br>Words: awesome, usual, good, , ",
          "<b>Topic 33</b><br>Words: awesome, usual, good, , ",
          "<b>Topic 33</b><br>Words: awesome, usual, good, , ",
          "<b>Topic 33</b><br>Words: awesome, usual, good, , ",
          "<b>Topic 33</b><br>Words: awesome, usual, good, , "
         ],
         "marker": {
          "color": "#0072B2"
         },
         "mode": "lines",
         "name": "33_awesome_usual_good_",
         "type": "scatter",
         "x": [
          "2014-03-10T14:44:09.600000",
          "2014-07-04T19:12:00",
          "2014-08-12T09:36:00",
          "2014-09-20T00:00:00",
          "2015-03-12T16:48:00"
         ],
         "y": [
          30,
          3,
          3,
          9,
          90
         ]
        },
        {
         "hoverinfo": "text",
         "hovertext": [
          "<b>Topic 34</b><br>Words: dissapointment, exact, like, else, millon",
          "<b>Topic 34</b><br>Words: public, leg, like, shit, confirmed",
          "<b>Topic 34</b><br>Words: wow, like, confirmed, millon, wowy",
          "<b>Topic 34</b><br>Words: like, confirmed, wowy, millon, juuuuust"
         ],
         "marker": {
          "color": "#CC79A7"
         },
         "mode": "lines",
         "name": "34_like_wowy_millon_confirmed",
         "type": "scatter",
         "x": [
          "2014-03-10T14:44:09.600000",
          "2014-07-04T19:12:00",
          "2014-09-20T00:00:00",
          "2015-03-12T16:48:00"
         ],
         "y": [
          12,
          1,
          4,
          118
         ]
        },
        {
         "hoverinfo": "text",
         "hovertext": [
          "<b>Topic 35</b><br>Words: janky, jank, helpless, jankier, entirety"
         ],
         "marker": {
          "color": "#E69F00"
         },
         "mode": "lines",
         "name": "35_janky_jank_helpless_jankier",
         "type": "scatter",
         "x": [
          "2015-03-12T16:48:00"
         ],
         "y": [
          131
         ]
        },
        {
         "hoverinfo": "text",
         "hovertext": [
          "<b>Topic 36</b><br>Words: rage, anger, induce, quit, contiuned",
          "<b>Topic 36</b><br>Words: rage, tourette, uncountable, aggravating, quits",
          "<b>Topic 36</b><br>Words: squids, conditon, rage, looks, uncontrollable",
          "<b>Topic 36</b><br>Words: rage, quit, backstabbers, peed, angermanagement",
          "<b>Topic 36</b><br>Words: rage, anger, quit, ragequit, angry"
         ],
         "marker": {
          "color": "#56B4E9"
         },
         "mode": "lines",
         "name": "36_rage_anger_quit_ragequit",
         "type": "scatter",
         "x": [
          "2014-03-10T14:44:09.600000",
          "2014-07-04T19:12:00",
          "2014-08-12T09:36:00",
          "2014-09-20T00:00:00",
          "2015-03-12T16:48:00"
         ],
         "y": [
          33,
          5,
          2,
          11,
          79
         ]
        },
        {
         "hoverinfo": "text",
         "hovertext": [
          "<b>Topic 37</b><br>Words: replay, value, replayability, hadnle, replayablity",
          "<b>Topic 37</b><br>Words: replayability, class, remember, add, replay",
          "<b>Topic 37</b><br>Words: replay, replayability, value, comining, potentcial",
          "<b>Topic 37</b><br>Words: replay, value, replayability, replayable, revo"
         ],
         "marker": {
          "color": "#009E73"
         },
         "mode": "lines",
         "name": "37_replay_value_replayability_replayable",
         "type": "scatter",
         "x": [
          "2014-03-10T14:44:09.600000",
          "2014-07-04T19:12:00",
          "2014-09-20T00:00:00",
          "2015-03-12T16:48:00"
         ],
         "y": [
          18,
          2,
          10,
          98
         ]
        },
        {
         "hoverinfo": "text",
         "hovertext": [
          "<b>Topic 38</b><br>Words: miyazaki, labrynth, hidetaka, solaire, smell",
          "<b>Topic 38</b><br>Words: burger, grease, casualize, clean, greasy",
          "<b>Topic 38</b><br>Words: miyazaki, direct, hidetaka, development, lead"
         ],
         "marker": {
          "color": "#F0E442"
         },
         "mode": "lines",
         "name": "38_miyazaki_hidetaka_direct_development",
         "type": "scatter",
         "x": [
          "2014-03-10T14:44:09.600000",
          "2014-09-20T00:00:00",
          "2015-03-12T16:48:00"
         ],
         "y": [
          7,
          2,
          113
         ]
        },
        {
         "hoverinfo": "text",
         "hovertext": [
          "<b>Topic 39</b><br>Words: flaw, petition, loveable, wouldve, removal",
          "<b>Topic 39</b><br>Words: flaw, despite, masterpiece, astonishing, charming"
         ],
         "marker": {
          "color": "#D55E00"
         },
         "mode": "lines",
         "name": "39_flaw_despite_masterpiece_astonishing",
         "type": "scatter",
         "x": [
          "2014-03-10T14:44:09.600000",
          "2015-03-12T16:48:00"
         ],
         "y": [
          3,
          119
         ]
        },
        {
         "hoverinfo": "text",
         "hovertext": [
          "<b>Topic 40</b><br>Words: review, uncasual, fin, metacritic, achievment",
          "<b>Topic 40</b><br>Words: classy, review, dio, consult, reviewer",
          "<b>Topic 40</b><br>Words: review, write, negative, positive, dio"
         ],
         "marker": {
          "color": "#0072B2"
         },
         "mode": "lines",
         "name": "40_review_write_negative_dio",
         "type": "scatter",
         "x": [
          "2014-03-10T14:44:09.600000",
          "2014-09-20T00:00:00",
          "2015-03-12T16:48:00"
         ],
         "y": [
          11,
          5,
          105
         ]
        },
        {
         "hoverinfo": "text",
         "hovertext": [
          "<b>Topic 41</b><br>Words: ez, nahw, ezgame, ezlife, zz",
          "<b>Topic 41</b><br>Words: ez, ezpz, life, gg, pz",
          "<b>Topic 41</b><br>Words: ez, egdes, pz, ftw, hidden",
          "<b>Topic 41</b><br>Words: ez, sik, coz, gg, pz",
          "<b>Topic 41</b><br>Words: ez, gg, pz, ztg, edgy"
         ],
         "marker": {
          "color": "#CC79A7"
         },
         "mode": "lines",
         "name": "41_ez_gg_pz_ztg",
         "type": "scatter",
         "x": [
          "2014-03-10T14:44:09.600000",
          "2014-07-04T19:12:00",
          "2014-08-12T09:36:00",
          "2014-09-20T00:00:00",
          "2015-03-12T16:48:00"
         ],
         "y": [
          15,
          4,
          3,
          6,
          92
         ]
        },
        {
         "hoverinfo": "text",
         "hovertext": [
          "<b>Topic 42</b><br>Words: sequel, worthy, ii, consol, refined",
          "<b>Topic 42</b><br>Words: astonishin, tightness, unite, slack, quit",
          "<b>Topic 42</b><br>Words: sequel, risen, tourism, witcher, forbear",
          "<b>Topic 42</b><br>Words: sequel, harmless, translate, mechaniks, altrough",
          "<b>Topic 42</b><br>Words: sequel, unafraid, ii, production, predecessor"
         ],
         "marker": {
          "color": "#E69F00"
         },
         "mode": "lines",
         "name": "42_sequel_ii_production_predecessor",
         "type": "scatter",
         "x": [
          "2014-03-10T14:44:09.600000",
          "2014-07-04T19:12:00",
          "2014-08-12T09:36:00",
          "2014-09-20T00:00:00",
          "2015-03-12T16:48:00"
         ],
         "y": [
          39,
          2,
          7,
          13,
          59
         ]
        },
        {
         "hoverinfo": "text",
         "hovertext": [
          "<b>Topic 43</b><br>Words: sword, katana, scabbard, wipped, mustached",
          "<b>Topic 43</b><br>Words: zweihandered, squad, bridge, swing, gank",
          "<b>Topic 43</b><br>Words: sized, sword, bought, duel, win",
          "<b>Topic 43</b><br>Words: mammoth, bumhole, weeaboos, sword, rock",
          "<b>Topic 43</b><br>Words: sword, katana, swing, smash, big"
         ],
         "marker": {
          "color": "#56B4E9"
         },
         "mode": "lines",
         "name": "43_sword_katana_swing_smash",
         "type": "scatter",
         "x": [
          "2014-03-10T14:44:09.600000",
          "2014-07-04T19:12:00",
          "2014-08-12T09:36:00",
          "2014-09-20T00:00:00",
          "2015-03-12T16:48:00"
         ],
         "y": [
          18,
          1,
          2,
          5,
          94
         ]
        },
        {
         "hoverinfo": "text",
         "hovertext": [
          "<b>Topic 44</b><br>Words: bos, triedto, junkie, waited, belly",
          "<b>Topic 44</b><br>Words: carresing, drakeepers, greathammer, needle, butterfly",
          "<b>Topic 44</b><br>Words: retry, fell, arena, actual, bos",
          "<b>Topic 44</b><br>Words: proceded, gotten, bos, grand, havent",
          "<b>Topic 44</b><br>Words: bos, runbacks, thang, gravity, cheese"
         ],
         "marker": {
          "color": "#009E73"
         },
         "mode": "lines",
         "name": "44_bos_runbacks_gravity_thang",
         "type": "scatter",
         "x": [
          "2014-03-10T14:44:09.600000",
          "2014-07-04T19:12:00",
          "2014-08-12T09:36:00",
          "2014-09-20T00:00:00",
          "2015-03-12T16:48:00"
         ],
         "y": [
          15,
          3,
          2,
          6,
          92
         ]
        },
        {
         "hoverinfo": "text",
         "hovertext": [
          "<b>Topic 45</b><br>Words: bad, half, wasnt, slightly, meh",
          "<b>Topic 45</b><br>Words: bad, half, wasnt, slightly, meh",
          "<b>Topic 45</b><br>Words: bad, half, wasnt, slightly, meh"
         ],
         "marker": {
          "color": "#F0E442"
         },
         "mode": "lines",
         "name": "45_bad_half_wasnt_slightly",
         "type": "scatter",
         "x": [
          "2014-03-10T14:44:09.600000",
          "2014-09-20T00:00:00",
          "2015-03-12T16:48:00"
         ],
         "y": [
          2,
          1,
          113
         ]
        },
        {
         "hoverinfo": "text",
         "hovertext": [
          "<b>Topic 46</b><br>Words: amana, shrine, scalpel, eyelid, hq",
          "<b>Topic 46</b><br>Words: amana, shrine, fuck, nashandra, armana"
         ],
         "marker": {
          "color": "#D55E00"
         },
         "mode": "lines",
         "name": "46_amana_shrine_fuck_nashandra",
         "type": "scatter",
         "x": [
          "2014-09-20T00:00:00",
          "2015-03-12T16:48:00"
         ],
         "y": [
          3,
          112
         ]
        },
        {
         "hoverinfo": "text",
         "hovertext": [
          "<b>Topic 47</b><br>Words: amaze, erhmagawd, amazeballz, billion, dare",
          "<b>Topic 47</b><br>Words: amaze, fuck, still, wao, amazeballz",
          "<b>Topic 47</b><br>Words: amaze, omg, sooooooo, hell, anything",
          "<b>Topic 47</b><br>Words: amaze, female, absolutly, dog, erhmagawd",
          "<b>Topic 47</b><br>Words: amaze, wao, amazin, kappa, enormous"
         ],
         "marker": {
          "color": "#0072B2"
         },
         "mode": "lines",
         "name": "47_amaze_amazeballz_wao_erhmagawd",
         "type": "scatter",
         "x": [
          "2014-03-10T14:44:09.600000",
          "2014-07-04T19:12:00",
          "2014-08-12T09:36:00",
          "2014-09-20T00:00:00",
          "2015-03-12T16:48:00"
         ],
         "y": [
          25,
          4,
          5,
          8,
          73
         ]
        },
        {
         "hoverinfo": "text",
         "hovertext": [
          "<b>Topic 48</b><br>Words: port, pc, job, console, hdd",
          "<b>Topic 48</b><br>Words: port, workable, abit, dsfix, instal",
          "<b>Topic 48</b><br>Words: port, crawler, overshadow, technically, necessarily",
          "<b>Topic 48</b><br>Words: port, loots, ppor, unsupported, pc",
          "<b>Topic 48</b><br>Words: port, pc, secretley, honeslty, coudnt"
         ],
         "marker": {
          "color": "#CC79A7"
         },
         "mode": "lines",
         "name": "48_port_pc_job_console",
         "type": "scatter",
         "x": [
          "2014-03-10T14:44:09.600000",
          "2014-07-04T19:12:00",
          "2014-08-12T09:36:00",
          "2014-09-20T00:00:00",
          "2015-03-12T16:48:00"
         ],
         "y": [
          74,
          3,
          2,
          7,
          27
         ]
        },
        {
         "hoverinfo": "text",
         "hovertext": [
          "<b>Topic 49</b><br>Words: demon, loved, ghouls, satan, jason",
          "<b>Topic 49</b><br>Words: molly, soil, whos, devil, demon",
          "<b>Topic 49</b><br>Words: eachother, demon, challanging, masterbated, differance",
          "<b>Topic 49</b><br>Words: satan, demon, novel, aaa, aside",
          "<b>Topic 49</b><br>Words: demon, remake, jason, cirlce, waayyyy"
         ],
         "marker": {
          "color": "#E69F00"
         },
         "mode": "lines",
         "name": "49_demon_satan_eachother_jason",
         "type": "scatter",
         "x": [
          "2014-03-10T14:44:09.600000",
          "2014-07-04T19:12:00",
          "2014-08-12T09:36:00",
          "2014-09-20T00:00:00",
          "2015-03-12T16:48:00"
         ],
         "y": [
          26,
          5,
          6,
          8,
          64
         ]
        }
       ],
       "layout": {
        "height": 450,
        "hoverlabel": {
         "bgcolor": "white",
         "font": {
          "family": "Rockwell",
          "size": 16
         }
        },
        "legend": {
         "title": {
          "text": "<b>Global Topic Representation"
         }
        },
        "template": {
         "data": {
          "bar": [
           {
            "error_x": {
             "color": "rgb(36,36,36)"
            },
            "error_y": {
             "color": "rgb(36,36,36)"
            },
            "marker": {
             "line": {
              "color": "white",
              "width": 0.5
             },
             "pattern": {
              "fillmode": "overlay",
              "size": 10,
              "solidity": 0.2
             }
            },
            "type": "bar"
           }
          ],
          "barpolar": [
           {
            "marker": {
             "line": {
              "color": "white",
              "width": 0.5
             },
             "pattern": {
              "fillmode": "overlay",
              "size": 10,
              "solidity": 0.2
             }
            },
            "type": "barpolar"
           }
          ],
          "carpet": [
           {
            "aaxis": {
             "endlinecolor": "rgb(36,36,36)",
             "gridcolor": "white",
             "linecolor": "white",
             "minorgridcolor": "white",
             "startlinecolor": "rgb(36,36,36)"
            },
            "baxis": {
             "endlinecolor": "rgb(36,36,36)",
             "gridcolor": "white",
             "linecolor": "white",
             "minorgridcolor": "white",
             "startlinecolor": "rgb(36,36,36)"
            },
            "type": "carpet"
           }
          ],
          "choropleth": [
           {
            "colorbar": {
             "outlinewidth": 1,
             "tickcolor": "rgb(36,36,36)",
             "ticks": "outside"
            },
            "type": "choropleth"
           }
          ],
          "contour": [
           {
            "colorbar": {
             "outlinewidth": 1,
             "tickcolor": "rgb(36,36,36)",
             "ticks": "outside"
            },
            "colorscale": [
             [
              0,
              "#440154"
             ],
             [
              0.1111111111111111,
              "#482878"
             ],
             [
              0.2222222222222222,
              "#3e4989"
             ],
             [
              0.3333333333333333,
              "#31688e"
             ],
             [
              0.4444444444444444,
              "#26828e"
             ],
             [
              0.5555555555555556,
              "#1f9e89"
             ],
             [
              0.6666666666666666,
              "#35b779"
             ],
             [
              0.7777777777777778,
              "#6ece58"
             ],
             [
              0.8888888888888888,
              "#b5de2b"
             ],
             [
              1,
              "#fde725"
             ]
            ],
            "type": "contour"
           }
          ],
          "contourcarpet": [
           {
            "colorbar": {
             "outlinewidth": 1,
             "tickcolor": "rgb(36,36,36)",
             "ticks": "outside"
            },
            "type": "contourcarpet"
           }
          ],
          "heatmap": [
           {
            "colorbar": {
             "outlinewidth": 1,
             "tickcolor": "rgb(36,36,36)",
             "ticks": "outside"
            },
            "colorscale": [
             [
              0,
              "#440154"
             ],
             [
              0.1111111111111111,
              "#482878"
             ],
             [
              0.2222222222222222,
              "#3e4989"
             ],
             [
              0.3333333333333333,
              "#31688e"
             ],
             [
              0.4444444444444444,
              "#26828e"
             ],
             [
              0.5555555555555556,
              "#1f9e89"
             ],
             [
              0.6666666666666666,
              "#35b779"
             ],
             [
              0.7777777777777778,
              "#6ece58"
             ],
             [
              0.8888888888888888,
              "#b5de2b"
             ],
             [
              1,
              "#fde725"
             ]
            ],
            "type": "heatmap"
           }
          ],
          "heatmapgl": [
           {
            "colorbar": {
             "outlinewidth": 1,
             "tickcolor": "rgb(36,36,36)",
             "ticks": "outside"
            },
            "colorscale": [
             [
              0,
              "#440154"
             ],
             [
              0.1111111111111111,
              "#482878"
             ],
             [
              0.2222222222222222,
              "#3e4989"
             ],
             [
              0.3333333333333333,
              "#31688e"
             ],
             [
              0.4444444444444444,
              "#26828e"
             ],
             [
              0.5555555555555556,
              "#1f9e89"
             ],
             [
              0.6666666666666666,
              "#35b779"
             ],
             [
              0.7777777777777778,
              "#6ece58"
             ],
             [
              0.8888888888888888,
              "#b5de2b"
             ],
             [
              1,
              "#fde725"
             ]
            ],
            "type": "heatmapgl"
           }
          ],
          "histogram": [
           {
            "marker": {
             "line": {
              "color": "white",
              "width": 0.6
             }
            },
            "type": "histogram"
           }
          ],
          "histogram2d": [
           {
            "colorbar": {
             "outlinewidth": 1,
             "tickcolor": "rgb(36,36,36)",
             "ticks": "outside"
            },
            "colorscale": [
             [
              0,
              "#440154"
             ],
             [
              0.1111111111111111,
              "#482878"
             ],
             [
              0.2222222222222222,
              "#3e4989"
             ],
             [
              0.3333333333333333,
              "#31688e"
             ],
             [
              0.4444444444444444,
              "#26828e"
             ],
             [
              0.5555555555555556,
              "#1f9e89"
             ],
             [
              0.6666666666666666,
              "#35b779"
             ],
             [
              0.7777777777777778,
              "#6ece58"
             ],
             [
              0.8888888888888888,
              "#b5de2b"
             ],
             [
              1,
              "#fde725"
             ]
            ],
            "type": "histogram2d"
           }
          ],
          "histogram2dcontour": [
           {
            "colorbar": {
             "outlinewidth": 1,
             "tickcolor": "rgb(36,36,36)",
             "ticks": "outside"
            },
            "colorscale": [
             [
              0,
              "#440154"
             ],
             [
              0.1111111111111111,
              "#482878"
             ],
             [
              0.2222222222222222,
              "#3e4989"
             ],
             [
              0.3333333333333333,
              "#31688e"
             ],
             [
              0.4444444444444444,
              "#26828e"
             ],
             [
              0.5555555555555556,
              "#1f9e89"
             ],
             [
              0.6666666666666666,
              "#35b779"
             ],
             [
              0.7777777777777778,
              "#6ece58"
             ],
             [
              0.8888888888888888,
              "#b5de2b"
             ],
             [
              1,
              "#fde725"
             ]
            ],
            "type": "histogram2dcontour"
           }
          ],
          "mesh3d": [
           {
            "colorbar": {
             "outlinewidth": 1,
             "tickcolor": "rgb(36,36,36)",
             "ticks": "outside"
            },
            "type": "mesh3d"
           }
          ],
          "parcoords": [
           {
            "line": {
             "colorbar": {
              "outlinewidth": 1,
              "tickcolor": "rgb(36,36,36)",
              "ticks": "outside"
             }
            },
            "type": "parcoords"
           }
          ],
          "pie": [
           {
            "automargin": true,
            "type": "pie"
           }
          ],
          "scatter": [
           {
            "fillpattern": {
             "fillmode": "overlay",
             "size": 10,
             "solidity": 0.2
            },
            "type": "scatter"
           }
          ],
          "scatter3d": [
           {
            "line": {
             "colorbar": {
              "outlinewidth": 1,
              "tickcolor": "rgb(36,36,36)",
              "ticks": "outside"
             }
            },
            "marker": {
             "colorbar": {
              "outlinewidth": 1,
              "tickcolor": "rgb(36,36,36)",
              "ticks": "outside"
             }
            },
            "type": "scatter3d"
           }
          ],
          "scattercarpet": [
           {
            "marker": {
             "colorbar": {
              "outlinewidth": 1,
              "tickcolor": "rgb(36,36,36)",
              "ticks": "outside"
             }
            },
            "type": "scattercarpet"
           }
          ],
          "scattergeo": [
           {
            "marker": {
             "colorbar": {
              "outlinewidth": 1,
              "tickcolor": "rgb(36,36,36)",
              "ticks": "outside"
             }
            },
            "type": "scattergeo"
           }
          ],
          "scattergl": [
           {
            "marker": {
             "colorbar": {
              "outlinewidth": 1,
              "tickcolor": "rgb(36,36,36)",
              "ticks": "outside"
             }
            },
            "type": "scattergl"
           }
          ],
          "scattermapbox": [
           {
            "marker": {
             "colorbar": {
              "outlinewidth": 1,
              "tickcolor": "rgb(36,36,36)",
              "ticks": "outside"
             }
            },
            "type": "scattermapbox"
           }
          ],
          "scatterpolar": [
           {
            "marker": {
             "colorbar": {
              "outlinewidth": 1,
              "tickcolor": "rgb(36,36,36)",
              "ticks": "outside"
             }
            },
            "type": "scatterpolar"
           }
          ],
          "scatterpolargl": [
           {
            "marker": {
             "colorbar": {
              "outlinewidth": 1,
              "tickcolor": "rgb(36,36,36)",
              "ticks": "outside"
             }
            },
            "type": "scatterpolargl"
           }
          ],
          "scatterternary": [
           {
            "marker": {
             "colorbar": {
              "outlinewidth": 1,
              "tickcolor": "rgb(36,36,36)",
              "ticks": "outside"
             }
            },
            "type": "scatterternary"
           }
          ],
          "surface": [
           {
            "colorbar": {
             "outlinewidth": 1,
             "tickcolor": "rgb(36,36,36)",
             "ticks": "outside"
            },
            "colorscale": [
             [
              0,
              "#440154"
             ],
             [
              0.1111111111111111,
              "#482878"
             ],
             [
              0.2222222222222222,
              "#3e4989"
             ],
             [
              0.3333333333333333,
              "#31688e"
             ],
             [
              0.4444444444444444,
              "#26828e"
             ],
             [
              0.5555555555555556,
              "#1f9e89"
             ],
             [
              0.6666666666666666,
              "#35b779"
             ],
             [
              0.7777777777777778,
              "#6ece58"
             ],
             [
              0.8888888888888888,
              "#b5de2b"
             ],
             [
              1,
              "#fde725"
             ]
            ],
            "type": "surface"
           }
          ],
          "table": [
           {
            "cells": {
             "fill": {
              "color": "rgb(237,237,237)"
             },
             "line": {
              "color": "white"
             }
            },
            "header": {
             "fill": {
              "color": "rgb(217,217,217)"
             },
             "line": {
              "color": "white"
             }
            },
            "type": "table"
           }
          ]
         },
         "layout": {
          "annotationdefaults": {
           "arrowhead": 0,
           "arrowwidth": 1
          },
          "autotypenumbers": "strict",
          "coloraxis": {
           "colorbar": {
            "outlinewidth": 1,
            "tickcolor": "rgb(36,36,36)",
            "ticks": "outside"
           }
          },
          "colorscale": {
           "diverging": [
            [
             0,
             "rgb(103,0,31)"
            ],
            [
             0.1,
             "rgb(178,24,43)"
            ],
            [
             0.2,
             "rgb(214,96,77)"
            ],
            [
             0.3,
             "rgb(244,165,130)"
            ],
            [
             0.4,
             "rgb(253,219,199)"
            ],
            [
             0.5,
             "rgb(247,247,247)"
            ],
            [
             0.6,
             "rgb(209,229,240)"
            ],
            [
             0.7,
             "rgb(146,197,222)"
            ],
            [
             0.8,
             "rgb(67,147,195)"
            ],
            [
             0.9,
             "rgb(33,102,172)"
            ],
            [
             1,
             "rgb(5,48,97)"
            ]
           ],
           "sequential": [
            [
             0,
             "#440154"
            ],
            [
             0.1111111111111111,
             "#482878"
            ],
            [
             0.2222222222222222,
             "#3e4989"
            ],
            [
             0.3333333333333333,
             "#31688e"
            ],
            [
             0.4444444444444444,
             "#26828e"
            ],
            [
             0.5555555555555556,
             "#1f9e89"
            ],
            [
             0.6666666666666666,
             "#35b779"
            ],
            [
             0.7777777777777778,
             "#6ece58"
            ],
            [
             0.8888888888888888,
             "#b5de2b"
            ],
            [
             1,
             "#fde725"
            ]
           ],
           "sequentialminus": [
            [
             0,
             "#440154"
            ],
            [
             0.1111111111111111,
             "#482878"
            ],
            [
             0.2222222222222222,
             "#3e4989"
            ],
            [
             0.3333333333333333,
             "#31688e"
            ],
            [
             0.4444444444444444,
             "#26828e"
            ],
            [
             0.5555555555555556,
             "#1f9e89"
            ],
            [
             0.6666666666666666,
             "#35b779"
            ],
            [
             0.7777777777777778,
             "#6ece58"
            ],
            [
             0.8888888888888888,
             "#b5de2b"
            ],
            [
             1,
             "#fde725"
            ]
           ]
          },
          "colorway": [
           "#1F77B4",
           "#FF7F0E",
           "#2CA02C",
           "#D62728",
           "#9467BD",
           "#8C564B",
           "#E377C2",
           "#7F7F7F",
           "#BCBD22",
           "#17BECF"
          ],
          "font": {
           "color": "rgb(36,36,36)"
          },
          "geo": {
           "bgcolor": "white",
           "lakecolor": "white",
           "landcolor": "white",
           "showlakes": true,
           "showland": true,
           "subunitcolor": "white"
          },
          "hoverlabel": {
           "align": "left"
          },
          "hovermode": "closest",
          "mapbox": {
           "style": "light"
          },
          "paper_bgcolor": "white",
          "plot_bgcolor": "white",
          "polar": {
           "angularaxis": {
            "gridcolor": "rgb(232,232,232)",
            "linecolor": "rgb(36,36,36)",
            "showgrid": false,
            "showline": true,
            "ticks": "outside"
           },
           "bgcolor": "white",
           "radialaxis": {
            "gridcolor": "rgb(232,232,232)",
            "linecolor": "rgb(36,36,36)",
            "showgrid": false,
            "showline": true,
            "ticks": "outside"
           }
          },
          "scene": {
           "xaxis": {
            "backgroundcolor": "white",
            "gridcolor": "rgb(232,232,232)",
            "gridwidth": 2,
            "linecolor": "rgb(36,36,36)",
            "showbackground": true,
            "showgrid": false,
            "showline": true,
            "ticks": "outside",
            "zeroline": false,
            "zerolinecolor": "rgb(36,36,36)"
           },
           "yaxis": {
            "backgroundcolor": "white",
            "gridcolor": "rgb(232,232,232)",
            "gridwidth": 2,
            "linecolor": "rgb(36,36,36)",
            "showbackground": true,
            "showgrid": false,
            "showline": true,
            "ticks": "outside",
            "zeroline": false,
            "zerolinecolor": "rgb(36,36,36)"
           },
           "zaxis": {
            "backgroundcolor": "white",
            "gridcolor": "rgb(232,232,232)",
            "gridwidth": 2,
            "linecolor": "rgb(36,36,36)",
            "showbackground": true,
            "showgrid": false,
            "showline": true,
            "ticks": "outside",
            "zeroline": false,
            "zerolinecolor": "rgb(36,36,36)"
           }
          },
          "shapedefaults": {
           "fillcolor": "black",
           "line": {
            "width": 0
           },
           "opacity": 0.3
          },
          "ternary": {
           "aaxis": {
            "gridcolor": "rgb(232,232,232)",
            "linecolor": "rgb(36,36,36)",
            "showgrid": false,
            "showline": true,
            "ticks": "outside"
           },
           "baxis": {
            "gridcolor": "rgb(232,232,232)",
            "linecolor": "rgb(36,36,36)",
            "showgrid": false,
            "showline": true,
            "ticks": "outside"
           },
           "bgcolor": "white",
           "caxis": {
            "gridcolor": "rgb(232,232,232)",
            "linecolor": "rgb(36,36,36)",
            "showgrid": false,
            "showline": true,
            "ticks": "outside"
           }
          },
          "title": {
           "x": 0.05
          },
          "xaxis": {
           "automargin": true,
           "gridcolor": "rgb(232,232,232)",
           "linecolor": "rgb(36,36,36)",
           "showgrid": false,
           "showline": true,
           "ticks": "outside",
           "title": {
            "standoff": 15
           },
           "zeroline": false,
           "zerolinecolor": "rgb(36,36,36)"
          },
          "yaxis": {
           "automargin": true,
           "gridcolor": "rgb(232,232,232)",
           "linecolor": "rgb(36,36,36)",
           "showgrid": false,
           "showline": true,
           "ticks": "outside",
           "title": {
            "standoff": 15
           },
           "zeroline": false,
           "zerolinecolor": "rgb(36,36,36)"
          }
         }
        },
        "title": {
         "font": {
          "color": "Black",
          "size": 22
         },
         "text": "<b>Topics over Time</b>",
         "x": 0.4,
         "xanchor": "center",
         "y": 0.95,
         "yanchor": "top"
        },
        "width": 1250,
        "xaxis": {
         "showgrid": true
        },
        "yaxis": {
         "showgrid": true,
         "title": {
          "text": "Frequency"
         }
        }
       }
      }
     },
     "metadata": {},
     "output_type": "display_data"
    }
   ],
   "source": [
    "pos_model.visualize_topics_over_time(pos_topics_over_time, top_n_topics=50)"
   ]
  },
  {
   "cell_type": "markdown",
   "metadata": {},
   "source": [
    "### Negative reviews:"
   ]
  },
  {
   "cell_type": "code",
   "execution_count": 19,
   "metadata": {},
   "outputs": [],
   "source": [
    "neg_model = BERTopic.load(\"models/bertopic_neg_model\")"
   ]
  },
  {
   "cell_type": "code",
   "execution_count": 20,
   "metadata": {},
   "outputs": [
    {
     "name": "stderr",
     "output_type": "stream",
     "text": [
      "20it [00:07,  2.80it/s]\n"
     ]
    }
   ],
   "source": [
    "neg_topics_over_time = neg_model.topics_over_time(neg_docs, neg_timestamps, nr_bins=20)"
   ]
  },
  {
   "cell_type": "code",
   "execution_count": 21,
   "metadata": {},
   "outputs": [
    {
     "data": {
      "application/vnd.plotly.v1+json": {
       "config": {
        "plotlyServerURL": "https://plot.ly"
       },
       "data": [
        {
         "hoverinfo": "text",
         "hovertext": [
          "<b>Topic 0</b><br>Words: pc, controller, mouse, port, keyboard",
          "<b>Topic 0</b><br>Words: pc, controller, port, keyboard, mouse",
          "<b>Topic 0</b><br>Words: controller, pc, keyboard, xbox, port",
          "<b>Topic 0</b><br>Words: pc, controller, port, keyboard, xbox",
          "<b>Topic 0</b><br>Words: controller, keyboard, pc, port, mouse",
          "<b>Topic 0</b><br>Words: pc, control, port, controller, keyboard",
          "<b>Topic 0</b><br>Words: controller, pc, port, keyboard, xbox",
          "<b>Topic 0</b><br>Words: mouse, pc, controller, keyboard, port",
          "<b>Topic 0</b><br>Words: pc, controller, port, xbox, mouse",
          "<b>Topic 0</b><br>Words: controller, keyboard, pc, control, mouse",
          "<b>Topic 0</b><br>Words: controller, keyboard, mouse, port, pc",
          "<b>Topic 0</b><br>Words: controller, pc, console, port, keyboard",
          "<b>Topic 0</b><br>Words: controller, pc, keyboard, mouse, xbox",
          "<b>Topic 0</b><br>Words: controller, keyboard, mouse, pc, control",
          "<b>Topic 0</b><br>Words: pc, port, keyboard, control, mouse",
          "<b>Topic 0</b><br>Words: keyboard, controller, mouse, button, pc",
          "<b>Topic 0</b><br>Words: mouse, keyboard, controller, pc, button",
          "<b>Topic 0</b><br>Words: pc, controller, mouse, keyboard, port",
          "<b>Topic 0</b><br>Words: controller, port, pc, mouse, keyboard",
          "<b>Topic 0</b><br>Words: controller, keyboard, pc, port, mouse"
         ],
         "marker": {
          "color": "#E69F00"
         },
         "mode": "lines",
         "name": "0_controller_pc_keyboard_mouse",
         "type": "scatter",
         "x": [
          "2014-04-20T22:58:39.521999",
          "2014-11-10T23:59:24.900000",
          "2015-05-30T00:58:58.800000",
          "2015-12-16T01:58:32.700000",
          "2016-07-03T02:58:06.600000",
          "2017-01-19T03:57:40.500000",
          "2017-08-07T04:57:14.400000",
          "2018-02-23T05:56:48.300000",
          "2018-09-11T06:56:22.200000",
          "2019-03-30T07:55:56.100000",
          "2019-10-16T08:55:30",
          "2020-05-03T09:55:03.900000",
          "2020-11-19T10:54:37.800000",
          "2021-06-07T11:54:11.700000",
          "2021-12-24T12:53:45.600000",
          "2022-07-12T13:53:19.500000",
          "2023-01-28T14:52:53.400000",
          "2023-08-16T15:52:27.300000",
          "2024-03-03T16:52:01.200000",
          "2024-09-19T17:51:35.100000"
         ],
         "y": [
          320,
          115,
          54,
          72,
          23,
          57,
          29,
          26,
          27,
          17,
          30,
          31,
          34,
          35,
          37,
          21,
          27,
          28,
          32,
          36
         ]
        },
        {
         "hoverinfo": "text",
         "hovertext": [
          "<b>Topic 1</b><br>Words: pvp, player, one, weapon, area",
          "<b>Topic 1</b><br>Words: fight, time, player, weapon, ii",
          "<b>Topic 1</b><br>Words: enemy, attack, player, difficulty, area",
          "<b>Topic 1</b><br>Words: enemy, area, make, weapon, time",
          "<b>Topic 1</b><br>Words: area, player, enemy, one, attack",
          "<b>Topic 1</b><br>Words: player, enemy, area, attack, item",
          "<b>Topic 1</b><br>Words: enemy, area, make, feel, attack",
          "<b>Topic 1</b><br>Words: enemy, time, attack, bos, get",
          "<b>Topic 1</b><br>Words: enemy, fight, hit, attack, get",
          "<b>Topic 1</b><br>Words: enemy, area, level, way, use",
          "<b>Topic 1</b><br>Words: enemy, area, player, bos, fight",
          "<b>Topic 1</b><br>Words: enemy, attack, bos, boss, area",
          "<b>Topic 1</b><br>Words: enemy, bos, area, boss, fight",
          "<b>Topic 1</b><br>Words: bos, enemy, area, fight, boss",
          "<b>Topic 1</b><br>Words: attack, enemy, area, bos, player",
          "<b>Topic 1</b><br>Words: enemy, bos, boss, player, time",
          "<b>Topic 1</b><br>Words: attack, level, enemy, bos, design",
          "<b>Topic 1</b><br>Words: bos, enemy, boss, area, fight",
          "<b>Topic 1</b><br>Words: tyler, creator, enemy, bos, area",
          "<b>Topic 1</b><br>Words: feel, enemy, fight, bos, area"
         ],
         "marker": {
          "color": "#56B4E9"
         },
         "mode": "lines",
         "name": "1_enemy_area_bos_player",
         "type": "scatter",
         "x": [
          "2014-04-20T22:58:39.521999",
          "2014-11-10T23:59:24.900000",
          "2015-05-30T00:58:58.800000",
          "2015-12-16T01:58:32.700000",
          "2016-07-03T02:58:06.600000",
          "2017-01-19T03:57:40.500000",
          "2017-08-07T04:57:14.400000",
          "2018-02-23T05:56:48.300000",
          "2018-09-11T06:56:22.200000",
          "2019-03-30T07:55:56.100000",
          "2019-10-16T08:55:30",
          "2020-05-03T09:55:03.900000",
          "2020-11-19T10:54:37.800000",
          "2021-06-07T11:54:11.700000",
          "2021-12-24T12:53:45.600000",
          "2022-07-12T13:53:19.500000",
          "2023-01-28T14:52:53.400000",
          "2023-08-16T15:52:27.300000",
          "2024-03-03T16:52:01.200000",
          "2024-09-19T17:51:35.100000"
         ],
         "y": [
          59,
          42,
          14,
          23,
          22,
          28,
          25,
          24,
          16,
          16,
          36,
          33,
          39,
          36,
          47,
          28,
          29,
          37,
          43,
          42
         ]
        },
        {
         "hoverinfo": "text",
         "hovertext": [
          "<b>Topic 2</b><br>Words: burh, ahhhhhhhhhhhhhhhhhhhhhhhhhhhhhhhhhhhhhhhhhhhhhhhhhhhhhhhhhhhhhhhhhhhhhhhhhhhhhhhhhhhhhhhhhhhhhhhhhhhhhhhhhhhhhhhhhhhhhhhhhhhhhhhhhhhhhhhhhhhhhhhhhhhhhhhhhhhhhhhhhhhhhhhhhhhhhhhhhhhhhhhhhhhhhhhhhhhhhhhhhhhhhhhhhhhhhhhhhhhhhhhhhhhhhhhhhhhhhhhhhhhhhhhhhhhhhhhhhhhhhhhh, werty, xddddddddddddddddddddddddddddddddddddddddddddddddddddddddddddddddddddddddddddddddddddddddddddddddddddddddddddddddddddddddddddddddddddddddddddddddddddddddddddddddddddddddddddddddddddddddddddddddddddddddddddddddddddddddddddddddddddddddddddddddddddddddddddddddddddddddddddddddddddddddddddddddddddddddddddddddddddddddddddddddddddddddddddddddddddddddddddddddddddddddddddddddddddddddddddddddddddddddddddddddddddddddddddddddddddddddddddddddddd, xy",
          "<b>Topic 2</b><br>Words: burh, ahhhhhhhhhhhhhhhhhhhhhhhhhhhhhhhhhhhhhhhhhhhhhhhhhhhhhhhhhhhhhhhhhhhhhhhhhhhhhhhhhhhhhhhhhhhhhhhhhhhhhhhhhhhhhhhhhhhhhhhhhhhhhhhhhhhhhhhhhhhhhhhhhhhhhhhhhhhhhhhhhhhhhhhhhhhhhhhhhhhhhhhhhhhhhhhhhhhhhhhhhhhhhhhhhhhhhhhhhhhhhhhhhhhhhhhhhhhhhhhhhhhhhhhhhhhhhhhhhhhhhhhh, werty, xddddddddddddddddddddddddddddddddddddddddddddddddddddddddddddddddddddddddddddddddddddddddddddddddddddddddddddddddddddddddddddddddddddddddddddddddddddddddddddddddddddddddddddddddddddddddddddddddddddddddddddddddddddddddddddddddddddddddddddddddddddddddddddddddddddddddddddddddddddddddddddddddddddddddddddddddddddddddddddddddddddddddddddddddddddddddddddddddddddddddddddddddddddddddddddddddddddddddddddddddddddddddddddddddddddddddddddddddddd, xy",
          "<b>Topic 2</b><br>Words: burh, ahhhhhhhhhhhhhhhhhhhhhhhhhhhhhhhhhhhhhhhhhhhhhhhhhhhhhhhhhhhhhhhhhhhhhhhhhhhhhhhhhhhhhhhhhhhhhhhhhhhhhhhhhhhhhhhhhhhhhhhhhhhhhhhhhhhhhhhhhhhhhhhhhhhhhhhhhhhhhhhhhhhhhhhhhhhhhhhhhhhhhhhhhhhhhhhhhhhhhhhhhhhhhhhhhhhhhhhhhhhhhhhhhhhhhhhhhhhhhhhhhhhhhhhhhhhhhhhhhhhhhhhh, werty, xddddddddddddddddddddddddddddddddddddddddddddddddddddddddddddddddddddddddddddddddddddddddddddddddddddddddddddddddddddddddddddddddddddddddddddddddddddddddddddddddddddddddddddddddddddddddddddddddddddddddddddddddddddddddddddddddddddddddddddddddddddddddddddddddddddddddddddddddddddddddddddddddddddddddddddddddddddddddddddddddddddddddddddddddddddddddddddddddddddddddddddddddddddddddddddddddddddddddddddddddddddddddddddddddddddddddddddddddddd, xy",
          "<b>Topic 2</b><br>Words: burh, ahhhhhhhhhhhhhhhhhhhhhhhhhhhhhhhhhhhhhhhhhhhhhhhhhhhhhhhhhhhhhhhhhhhhhhhhhhhhhhhhhhhhhhhhhhhhhhhhhhhhhhhhhhhhhhhhhhhhhhhhhhhhhhhhhhhhhhhhhhhhhhhhhhhhhhhhhhhhhhhhhhhhhhhhhhhhhhhhhhhhhhhhhhhhhhhhhhhhhhhhhhhhhhhhhhhhhhhhhhhhhhhhhhhhhhhhhhhhhhhhhhhhhhhhhhhhhhhhhhhhhhhh, werty, xddddddddddddddddddddddddddddddddddddddddddddddddddddddddddddddddddddddddddddddddddddddddddddddddddddddddddddddddddddddddddddddddddddddddddddddddddddddddddddddddddddddddddddddddddddddddddddddddddddddddddddddddddddddddddddddddddddddddddddddddddddddddddddddddddddddddddddddddddddddddddddddddddddddddddddddddddddddddddddddddddddddddddddddddddddddddddddddddddddddddddddddddddddddddddddddddddddddddddddddddddddddddddddddddddddddddddddddddddd, xy",
          "<b>Topic 2</b><br>Words: burh, ahhhhhhhhhhhhhhhhhhhhhhhhhhhhhhhhhhhhhhhhhhhhhhhhhhhhhhhhhhhhhhhhhhhhhhhhhhhhhhhhhhhhhhhhhhhhhhhhhhhhhhhhhhhhhhhhhhhhhhhhhhhhhhhhhhhhhhhhhhhhhhhhhhhhhhhhhhhhhhhhhhhhhhhhhhhhhhhhhhhhhhhhhhhhhhhhhhhhhhhhhhhhhhhhhhhhhhhhhhhhhhhhhhhhhhhhhhhhhhhhhhhhhhhhhhhhhhhhhhhhhhhh, werty, xddddddddddddddddddddddddddddddddddddddddddddddddddddddddddddddddddddddddddddddddddddddddddddddddddddddddddddddddddddddddddddddddddddddddddddddddddddddddddddddddddddddddddddddddddddddddddddddddddddddddddddddddddddddddddddddddddddddddddddddddddddddddddddddddddddddddddddddddddddddddddddddddddddddddddddddddddddddddddddddddddddddddddddddddddddddddddddddddddddddddddddddddddddddddddddddddddddddddddddddddddddddddddddddddddddddddddddddddddd, xy",
          "<b>Topic 2</b><br>Words: burh, ahhhhhhhhhhhhhhhhhhhhhhhhhhhhhhhhhhhhhhhhhhhhhhhhhhhhhhhhhhhhhhhhhhhhhhhhhhhhhhhhhhhhhhhhhhhhhhhhhhhhhhhhhhhhhhhhhhhhhhhhhhhhhhhhhhhhhhhhhhhhhhhhhhhhhhhhhhhhhhhhhhhhhhhhhhhhhhhhhhhhhhhhhhhhhhhhhhhhhhhhhhhhhhhhhhhhhhhhhhhhhhhhhhhhhhhhhhhhhhhhhhhhhhhhhhhhhhhhhhhhhhhh, werty, xddddddddddddddddddddddddddddddddddddddddddddddddddddddddddddddddddddddddddddddddddddddddddddddddddddddddddddddddddddddddddddddddddddddddddddddddddddddddddddddddddddddddddddddddddddddddddddddddddddddddddddddddddddddddddddddddddddddddddddddddddddddddddddddddddddddddddddddddddddddddddddddddddddddddddddddddddddddddddddddddddddddddddddddddddddddddddddddddddddddddddddddddddddddddddddddddddddddddddddddddddddddddddddddddddddddddddddddddddd, xy",
          "<b>Topic 2</b><br>Words: burh, ahhhhhhhhhhhhhhhhhhhhhhhhhhhhhhhhhhhhhhhhhhhhhhhhhhhhhhhhhhhhhhhhhhhhhhhhhhhhhhhhhhhhhhhhhhhhhhhhhhhhhhhhhhhhhhhhhhhhhhhhhhhhhhhhhhhhhhhhhhhhhhhhhhhhhhhhhhhhhhhhhhhhhhhhhhhhhhhhhhhhhhhhhhhhhhhhhhhhhhhhhhhhhhhhhhhhhhhhhhhhhhhhhhhhhhhhhhhhhhhhhhhhhhhhhhhhhhhhhhhhhhhh, werty, xddddddddddddddddddddddddddddddddddddddddddddddddddddddddddddddddddddddddddddddddddddddddddddddddddddddddddddddddddddddddddddddddddddddddddddddddddddddddddddddddddddddddddddddddddddddddddddddddddddddddddddddddddddddddddddddddddddddddddddddddddddddddddddddddddddddddddddddddddddddddddddddddddddddddddddddddddddddddddddddddddddddddddddddddddddddddddddddddddddddddddddddddddddddddddddddddddddddddddddddddddddddddddddddddddddddddddddddddddd, xy",
          "<b>Topic 2</b><br>Words: burh, ahhhhhhhhhhhhhhhhhhhhhhhhhhhhhhhhhhhhhhhhhhhhhhhhhhhhhhhhhhhhhhhhhhhhhhhhhhhhhhhhhhhhhhhhhhhhhhhhhhhhhhhhhhhhhhhhhhhhhhhhhhhhhhhhhhhhhhhhhhhhhhhhhhhhhhhhhhhhhhhhhhhhhhhhhhhhhhhhhhhhhhhhhhhhhhhhhhhhhhhhhhhhhhhhhhhhhhhhhhhhhhhhhhhhhhhhhhhhhhhhhhhhhhhhhhhhhhhhhhhhhhhh, werty, xddddddddddddddddddddddddddddddddddddddddddddddddddddddddddddddddddddddddddddddddddddddddddddddddddddddddddddddddddddddddddddddddddddddddddddddddddddddddddddddddddddddddddddddddddddddddddddddddddddddddddddddddddddddddddddddddddddddddddddddddddddddddddddddddddddddddddddddddddddddddddddddddddddddddddddddddddddddddddddddddddddddddddddddddddddddddddddddddddddddddddddddddddddddddddddddddddddddddddddddddddddddddddddddddddddddddddddddddddd, xy",
          "<b>Topic 2</b><br>Words: burh, ahhhhhhhhhhhhhhhhhhhhhhhhhhhhhhhhhhhhhhhhhhhhhhhhhhhhhhhhhhhhhhhhhhhhhhhhhhhhhhhhhhhhhhhhhhhhhhhhhhhhhhhhhhhhhhhhhhhhhhhhhhhhhhhhhhhhhhhhhhhhhhhhhhhhhhhhhhhhhhhhhhhhhhhhhhhhhhhhhhhhhhhhhhhhhhhhhhhhhhhhhhhhhhhhhhhhhhhhhhhhhhhhhhhhhhhhhhhhhhhhhhhhhhhhhhhhhhhhhhhhhhhh, werty, xddddddddddddddddddddddddddddddddddddddddddddddddddddddddddddddddddddddddddddddddddddddddddddddddddddddddddddddddddddddddddddddddddddddddddddddddddddddddddddddddddddddddddddddddddddddddddddddddddddddddddddddddddddddddddddddddddddddddddddddddddddddddddddddddddddddddddddddddddddddddddddddddddddddddddddddddddddddddddddddddddddddddddddddddddddddddddddddddddddddddddddddddddddddddddddddddddddddddddddddddddddddddddddddddddddddddddddddddddd, xy",
          "<b>Topic 2</b><br>Words: burh, ahhhhhhhhhhhhhhhhhhhhhhhhhhhhhhhhhhhhhhhhhhhhhhhhhhhhhhhhhhhhhhhhhhhhhhhhhhhhhhhhhhhhhhhhhhhhhhhhhhhhhhhhhhhhhhhhhhhhhhhhhhhhhhhhhhhhhhhhhhhhhhhhhhhhhhhhhhhhhhhhhhhhhhhhhhhhhhhhhhhhhhhhhhhhhhhhhhhhhhhhhhhhhhhhhhhhhhhhhhhhhhhhhhhhhhhhhhhhhhhhhhhhhhhhhhhhhhhhhhhhhhhh, werty, xddddddddddddddddddddddddddddddddddddddddddddddddddddddddddddddddddddddddddddddddddddddddddddddddddddddddddddddddddddddddddddddddddddddddddddddddddddddddddddddddddddddddddddddddddddddddddddddddddddddddddddddddddddddddddddddddddddddddddddddddddddddddddddddddddddddddddddddddddddddddddddddddddddddddddddddddddddddddddddddddddddddddddddddddddddddddddddddddddddddddddddddddddddddddddddddddddddddddddddddddddddddddddddddddddddddddddddddddddd, xy",
          "<b>Topic 2</b><br>Words: werty, burh, ahhhhhhhhhhhhhhhhhhhhhhhhhhhhhhhhhhhhhhhhhhhhhhhhhhhhhhhhhhhhhhhhhhhhhhhhhhhhhhhhhhhhhhhhhhhhhhhhhhhhhhhhhhhhhhhhhhhhhhhhhhhhhhhhhhhhhhhhhhhhhhhhhhhhhhhhhhhhhhhhhhhhhhhhhhhhhhhhhhhhhhhhhhhhhhhhhhhhhhhhhhhhhhhhhhhhhhhhhhhhhhhhhhhhhhhhhhhhhhhhhhhhhhhhhhhhhhhhhhhhhhhh, xddddddddddddddddddddddddddddddddddddddddddddddddddddddddddddddddddddddddddddddddddddddddddddddddddddddddddddddddddddddddddddddddddddddddddddddddddddddddddddddddddddddddddddddddddddddddddddddddddddddddddddddddddddddddddddddddddddddddddddddddddddddddddddddddddddddddddddddddddddddddddddddddddddddddddddddddddddddddddddddddddddddddddddddddddddddddddddddddddddddddddddddddddddddddddddddddddddddddddddddddddddddddddddddddddddddddddddddddddd, xy",
          "<b>Topic 2</b><br>Words: burh, ahhhhhhhhhhhhhhhhhhhhhhhhhhhhhhhhhhhhhhhhhhhhhhhhhhhhhhhhhhhhhhhhhhhhhhhhhhhhhhhhhhhhhhhhhhhhhhhhhhhhhhhhhhhhhhhhhhhhhhhhhhhhhhhhhhhhhhhhhhhhhhhhhhhhhhhhhhhhhhhhhhhhhhhhhhhhhhhhhhhhhhhhhhhhhhhhhhhhhhhhhhhhhhhhhhhhhhhhhhhhhhhhhhhhhhhhhhhhhhhhhhhhhhhhhhhhhhhhhhhhhhhh, werty, xddddddddddddddddddddddddddddddddddddddddddddddddddddddddddddddddddddddddddddddddddddddddddddddddddddddddddddddddddddddddddddddddddddddddddddddddddddddddddddddddddddddddddddddddddddddddddddddddddddddddddddddddddddddddddddddddddddddddddddddddddddddddddddddddddddddddddddddddddddddddddddddddddddddddddddddddddddddddddddddddddddddddddddddddddddddddddddddddddddddddddddddddddddddddddddddddddddddddddddddddddddddddddddddddddddddddddddddddddd, xy",
          "<b>Topic 2</b><br>Words: last, burh, werty, xddddddddddddddddddddddddddddddddddddddddddddddddddddddddddddddddddddddddddddddddddddddddddddddddddddddddddddddddddddddddddddddddddddddddddddddddddddddddddddddddddddddddddddddddddddddddddddddddddddddddddddddddddddddddddddddddddddddddddddddddddddddddddddddddddddddddddddddddddddddddddddddddddddddddddddddddddddddddddddddddddddddddddddddddddddddddddddddddddddddddddddddddddddddddddddddddddddddddddddddddddddddddddddddddddddddddddddddddddd, ahhhhhhhhhhhhhhhhhhhhhhhhhhhhhhhhhhhhhhhhhhhhhhhhhhhhhhhhhhhhhhhhhhhhhhhhhhhhhhhhhhhhhhhhhhhhhhhhhhhhhhhhhhhhhhhhhhhhhhhhhhhhhhhhhhhhhhhhhhhhhhhhhhhhhhhhhhhhhhhhhhhhhhhhhhhhhhhhhhhhhhhhhhhhhhhhhhhhhhhhhhhhhhhhhhhhhhhhhhhhhhhhhhhhhhhhhhhhhhhhhhhhhhhhhhhhhhhhhhhhhhhh",
          "<b>Topic 2</b><br>Words: burh, ahhhhhhhhhhhhhhhhhhhhhhhhhhhhhhhhhhhhhhhhhhhhhhhhhhhhhhhhhhhhhhhhhhhhhhhhhhhhhhhhhhhhhhhhhhhhhhhhhhhhhhhhhhhhhhhhhhhhhhhhhhhhhhhhhhhhhhhhhhhhhhhhhhhhhhhhhhhhhhhhhhhhhhhhhhhhhhhhhhhhhhhhhhhhhhhhhhhhhhhhhhhhhhhhhhhhhhhhhhhhhhhhhhhhhhhhhhhhhhhhhhhhhhhhhhhhhhhhhhhhhhhh, werty, xddddddddddddddddddddddddddddddddddddddddddddddddddddddddddddddddddddddddddddddddddddddddddddddddddddddddddddddddddddddddddddddddddddddddddddddddddddddddddddddddddddddddddddddddddddddddddddddddddddddddddddddddddddddddddddddddddddddddddddddddddddddddddddddddddddddddddddddddddddddddddddddddddddddddddddddddddddddddddddddddddddddddddddddddddddddddddddddddddddddddddddddddddddddddddddddddddddddddddddddddddddddddddddddddddddddddddddddddddd, xy",
          "<b>Topic 2</b><br>Words: burh, xddddddddddddddddddddddddddddddddddddddddddddddddddddddddddddddddddddddddddddddddddddddddddddddddddddddddddddddddddddddddddddddddddddddddddddddddddddddddddddddddddddddddddddddddddddddddddddddddddddddddddddddddddddddddddddddddddddddddddddddddddddddddddddddddddddddddddddddddddddddddddddddddddddddddddddddddddddddddddddddddddddddddddddddddddddddddddddddddddddddddddddddddddddddddddddddddddddddddddddddddddddddddddddddddddddddddddddddddddd, ahhhhhhhhhhhhhhhhhhhhhhhhhhhhhhhhhhhhhhhhhhhhhhhhhhhhhhhhhhhhhhhhhhhhhhhhhhhhhhhhhhhhhhhhhhhhhhhhhhhhhhhhhhhhhhhhhhhhhhhhhhhhhhhhhhhhhhhhhhhhhhhhhhhhhhhhhhhhhhhhhhhhhhhhhhhhhhhhhhhhhhhhhhhhhhhhhhhhhhhhhhhhhhhhhhhhhhhhhhhhhhhhhhhhhhhhhhhhhhhhhhhhhhhhhhhhhhhhhhhhhhhh, werty, xy",
          "<b>Topic 2</b><br>Words: burh, ahhhhhhhhhhhhhhhhhhhhhhhhhhhhhhhhhhhhhhhhhhhhhhhhhhhhhhhhhhhhhhhhhhhhhhhhhhhhhhhhhhhhhhhhhhhhhhhhhhhhhhhhhhhhhhhhhhhhhhhhhhhhhhhhhhhhhhhhhhhhhhhhhhhhhhhhhhhhhhhhhhhhhhhhhhhhhhhhhhhhhhhhhhhhhhhhhhhhhhhhhhhhhhhhhhhhhhhhhhhhhhhhhhhhhhhhhhhhhhhhhhhhhhhhhhhhhhhhhhhhhhhh, werty, xddddddddddddddddddddddddddddddddddddddddddddddddddddddddddddddddddddddddddddddddddddddddddddddddddddddddddddddddddddddddddddddddddddddddddddddddddddddddddddddddddddddddddddddddddddddddddddddddddddddddddddddddddddddddddddddddddddddddddddddddddddddddddddddddddddddddddddddddddddddddddddddddddddddddddddddddddddddddddddddddddddddddddddddddddddddddddddddddddddddddddddddddddddddddddddddddddddddddddddddddddddddddddddddddddddddddddddddddddd, xy",
          "<b>Topic 2</b><br>Words: ahhhhhhhhhhhhhhhhhhhhhhhhhhhhhhhhhhhhhhhhhhhhhhhhhhhhhhhhhhhhhhhhhhhhhhhhhhhhhhhhhhhhhhhhhhhhhhhhhhhhhhhhhhhhhhhhhhhhhhhhhhhhhhhhhhhhhhhhhhhhhhhhhhhhhhhhhhhhhhhhhhhhhhhhhhhhhhhhhhhhhhhhhhhhhhhhhhhhhhhhhhhhhhhhhhhhhhhhhhhhhhhhhhhhhhhhhhhhhhhhhhhhhhhhhhhhhhhhhhhhhhhh, burh, werty, xddddddddddddddddddddddddddddddddddddddddddddddddddddddddddddddddddddddddddddddddddddddddddddddddddddddddddddddddddddddddddddddddddddddddddddddddddddddddddddddddddddddddddddddddddddddddddddddddddddddddddddddddddddddddddddddddddddddddddddddddddddddddddddddddddddddddddddddddddddddddddddddddddddddddddddddddddddddddddddddddddddddddddddddddddddddddddddddddddddddddddddddddddddddddddddddddddddddddddddddddddddddddddddddddddddddddddddddddddd, xy",
          "<b>Topic 2</b><br>Words: burh, ahhhhhhhhhhhhhhhhhhhhhhhhhhhhhhhhhhhhhhhhhhhhhhhhhhhhhhhhhhhhhhhhhhhhhhhhhhhhhhhhhhhhhhhhhhhhhhhhhhhhhhhhhhhhhhhhhhhhhhhhhhhhhhhhhhhhhhhhhhhhhhhhhhhhhhhhhhhhhhhhhhhhhhhhhhhhhhhhhhhhhhhhhhhhhhhhhhhhhhhhhhhhhhhhhhhhhhhhhhhhhhhhhhhhhhhhhhhhhhhhhhhhhhhhhhhhhhhhhhhhhhhh, werty, xddddddddddddddddddddddddddddddddddddddddddddddddddddddddddddddddddddddddddddddddddddddddddddddddddddddddddddddddddddddddddddddddddddddddddddddddddddddddddddddddddddddddddddddddddddddddddddddddddddddddddddddddddddddddddddddddddddddddddddddddddddddddddddddddddddddddddddddddddddddddddddddddddddddddddddddddddddddddddddddddddddddddddddddddddddddddddddddddddddddddddddddddddddddddddddddddddddddddddddddddddddddddddddddddddddddddddddddddddd, xy",
          "<b>Topic 2</b><br>Words: burh, ahhhhhhhhhhhhhhhhhhhhhhhhhhhhhhhhhhhhhhhhhhhhhhhhhhhhhhhhhhhhhhhhhhhhhhhhhhhhhhhhhhhhhhhhhhhhhhhhhhhhhhhhhhhhhhhhhhhhhhhhhhhhhhhhhhhhhhhhhhhhhhhhhhhhhhhhhhhhhhhhhhhhhhhhhhhhhhhhhhhhhhhhhhhhhhhhhhhhhhhhhhhhhhhhhhhhhhhhhhhhhhhhhhhhhhhhhhhhhhhhhhhhhhhhhhhhhhhhhhhhhhhh, werty, xddddddddddddddddddddddddddddddddddddddddddddddddddddddddddddddddddddddddddddddddddddddddddddddddddddddddddddddddddddddddddddddddddddddddddddddddddddddddddddddddddddddddddddddddddddddddddddddddddddddddddddddddddddddddddddddddddddddddddddddddddddddddddddddddddddddddddddddddddddddddddddddddddddddddddddddddddddddddddddddddddddddddddddddddddddddddddddddddddddddddddddddddddddddddddddddddddddddddddddddddddddddddddddddddddddddddddddddddddd, xy",
          "<b>Topic 2</b><br>Words: xy, burh, ahhhhhhhhhhhhhhhhhhhhhhhhhhhhhhhhhhhhhhhhhhhhhhhhhhhhhhhhhhhhhhhhhhhhhhhhhhhhhhhhhhhhhhhhhhhhhhhhhhhhhhhhhhhhhhhhhhhhhhhhhhhhhhhhhhhhhhhhhhhhhhhhhhhhhhhhhhhhhhhhhhhhhhhhhhhhhhhhhhhhhhhhhhhhhhhhhhhhhhhhhhhhhhhhhhhhhhhhhhhhhhhhhhhhhhhhhhhhhhhhhhhhhhhhhhhhhhhhhhhhhhhh, werty, xddddddddddddddddddddddddddddddddddddddddddddddddddddddddddddddddddddddddddddddddddddddddddddddddddddddddddddddddddddddddddddddddddddddddddddddddddddddddddddddddddddddddddddddddddddddddddddddddddddddddddddddddddddddddddddddddddddddddddddddddddddddddddddddddddddddddddddddddddddddddddddddddddddddddddddddddddddddddddddddddddddddddddddddddddddddddddddddddddddddddddddddddddddddddddddddddddddddddddddddddddddddddddddddddddddddddddddddddddd"
         ],
         "marker": {
          "color": "#009E73"
         },
         "mode": "lines",
         "name": "2_xddddddddddddddddddddddddddddddddddddd...",
         "type": "scatter",
         "x": [
          "2014-04-20T22:58:39.521999",
          "2014-11-10T23:59:24.900000",
          "2015-05-30T00:58:58.800000",
          "2015-12-16T01:58:32.700000",
          "2016-07-03T02:58:06.600000",
          "2017-01-19T03:57:40.500000",
          "2017-08-07T04:57:14.400000",
          "2018-02-23T05:56:48.300000",
          "2018-09-11T06:56:22.200000",
          "2019-03-30T07:55:56.100000",
          "2019-10-16T08:55:30",
          "2020-05-03T09:55:03.900000",
          "2020-11-19T10:54:37.800000",
          "2021-06-07T11:54:11.700000",
          "2021-12-24T12:53:45.600000",
          "2022-07-12T13:53:19.500000",
          "2023-01-28T14:52:53.400000",
          "2023-08-16T15:52:27.300000",
          "2024-03-03T16:52:01.200000",
          "2024-09-19T17:51:35.100000"
         ],
         "y": [
          7,
          6,
          2,
          6,
          5,
          3,
          2,
          1,
          4,
          9,
          14,
          22,
          22,
          35,
          48,
          17,
          26,
          31,
          43,
          40
         ]
        },
        {
         "hoverinfo": "text",
         "hovertext": [
          "<b>Topic 3</b><br>Words: terrible, one, like, bad, ever",
          "<b>Topic 3</b><br>Words: heroin, report, bad, destroy, poorly",
          "<b>Topic 3</b><br>Words: contorls, bad, ever, far, terrible",
          "<b>Topic 3</b><br>Words: slashy, marginally, bad, base, ever",
          "<b>Topic 3</b><br>Words: bumbling, retard, bunch, bad, every",
          "<b>Topic 3</b><br>Words: significantly, bad, joke, press, previous",
          "<b>Topic 3</b><br>Words: classify, bad, art, anymore, joke",
          "<b>Topic 3</b><br>Words: ss, seires, bad, poor, pretty",
          "<b>Topic 3</b><br>Words: civilization, bad, already, big, take",
          "<b>Topic 3</b><br>Words: aid, bad, like, ever, far",
          "<b>Topic 3</b><br>Words: bad, crucify, cute, girl, oppose",
          "<b>Topic 3</b><br>Words: bad, aight, knockoff, bitch, dreadful",
          "<b>Topic 3</b><br>Words: bad, histroy, fack, mom, dsi",
          "<b>Topic 3</b><br>Words: bad, artificail, diffuculky, hipster, cannon",
          "<b>Topic 3</b><br>Words: bad, crank, infinitely, worse, everything",
          "<b>Topic 3</b><br>Words: bad, conceivable, elaborate, significantly, per",
          "<b>Topic 3</b><br>Words: bad, tarkov, irredeemable, candidate, terribleness",
          "<b>Topic 3</b><br>Words: bad, ever, lololololololol, charcter, lunch",
          "<b>Topic 3</b><br>Words: bad, ever, loser, general, theyve",
          "<b>Topic 3</b><br>Words: bad, dond, ith, elmer, furthest"
         ],
         "marker": {
          "color": "#F0E442"
         },
         "mode": "lines",
         "name": "3_bad_ever_far_terrible",
         "type": "scatter",
         "x": [
          "2014-04-20T22:58:39.521999",
          "2014-11-10T23:59:24.900000",
          "2015-05-30T00:58:58.800000",
          "2015-12-16T01:58:32.700000",
          "2016-07-03T02:58:06.600000",
          "2017-01-19T03:57:40.500000",
          "2017-08-07T04:57:14.400000",
          "2018-02-23T05:56:48.300000",
          "2018-09-11T06:56:22.200000",
          "2019-03-30T07:55:56.100000",
          "2019-10-16T08:55:30",
          "2020-05-03T09:55:03.900000",
          "2020-11-19T10:54:37.800000",
          "2021-06-07T11:54:11.700000",
          "2021-12-24T12:53:45.600000",
          "2022-07-12T13:53:19.500000",
          "2023-01-28T14:52:53.400000",
          "2023-08-16T15:52:27.300000",
          "2024-03-03T16:52:01.200000",
          "2024-09-19T17:51:35.100000"
         ],
         "y": [
          1,
          3,
          2,
          4,
          1,
          3,
          5,
          3,
          3,
          2,
          6,
          10,
          7,
          11,
          6,
          7,
          18,
          20,
          31,
          17
         ]
        },
        {
         "hoverinfo": "text",
         "hovertext": [
          "<b>Topic 4</b><br>Words: pvp, pve, lag, co, op",
          "<b>Topic 4</b><br>Words: pvp, pve, lagger, laggy, multiplayer",
          "<b>Topic 4</b><br>Words: pvp, pve, lag, annoying, multi",
          "<b>Topic 4</b><br>Words: pvp, pve, scotf, though, render",
          "<b>Topic 4</b><br>Words: pvp, intrest, graveyard, catacomb, confidently",
          "<b>Topic 4</b><br>Words: pvp, pve, weighted, weight, improve",
          "<b>Topic 4</b><br>Words: pvp, lvl, meter, contack, replayabylity",
          "<b>Topic 4</b><br>Words: pvp, limit, total, crowd, pve",
          "<b>Topic 4</b><br>Words: pvp, desynchronization, handedly, medal, oftentimes",
          "<b>Topic 4</b><br>Words: nitpick, pvm, hatemail, sweaty, pvp",
          "<b>Topic 4</b><br>Words: pvp, humans, inst, optional, involuntary",
          "<b>Topic 4</b><br>Words: pvp, player, playtime, spurg, sadly",
          "<b>Topic 4</b><br>Words: pvp, exilerating, disgrase, terribble, pve",
          "<b>Topic 4</b><br>Words: pvp, hundo, coop, memory, rule",
          "<b>Topic 4</b><br>Words: pvp, afwul, pve, host, multiplayer",
          "<b>Topic 4</b><br>Words: fromsofware, integral, aspects, ashamed, treat",
          "<b>Topic 4</b><br>Words: beg, pvp, nadir, franchise, embodiment",
          "<b>Topic 4</b><br>Words: pvp, noobslayer, fashionsouls, kitted, sweaty",
          "<b>Topic 4</b><br>Words: lordvessel, tailor, roadblock, detriment, fodder",
          "<b>Topic 4</b><br>Words: pvp, hord, boo, platinumed, stale"
         ],
         "marker": {
          "color": "#D55E00"
         },
         "mode": "lines",
         "name": "4_pvp_pve_lag_player",
         "type": "scatter",
         "x": [
          "2014-04-20T22:58:39.521999",
          "2014-11-10T23:59:24.900000",
          "2015-05-30T00:58:58.800000",
          "2015-12-16T01:58:32.700000",
          "2016-07-03T02:58:06.600000",
          "2017-01-19T03:57:40.500000",
          "2017-08-07T04:57:14.400000",
          "2018-02-23T05:56:48.300000",
          "2018-09-11T06:56:22.200000",
          "2019-03-30T07:55:56.100000",
          "2019-10-16T08:55:30",
          "2020-05-03T09:55:03.900000",
          "2020-11-19T10:54:37.800000",
          "2021-06-07T11:54:11.700000",
          "2021-12-24T12:53:45.600000",
          "2022-07-12T13:53:19.500000",
          "2023-01-28T14:52:53.400000",
          "2023-08-16T15:52:27.300000",
          "2024-03-03T16:52:01.200000",
          "2024-09-19T17:51:35.100000"
         ],
         "y": [
          41,
          21,
          10,
          6,
          3,
          5,
          3,
          8,
          4,
          2,
          4,
          9,
          5,
          9,
          7,
          1,
          4,
          4,
          2,
          3
         ]
        },
        {
         "hoverinfo": "text",
         "hovertext": [
          "<b>Topic 5</b><br>Words: buy, netcote, awful, disgrace, cking",
          "<b>Topic 5</b><br>Words: buy, twice, grahics, ecspect, ptd",
          "<b>Topic 5</b><br>Words: buy, hemorrhoids, booooring, tard, upd",
          "<b>Topic 5</b><br>Words: buy, mad, placements, twice, uncanny",
          "<b>Topic 5</b><br>Words: twice, buy, nice, literally, point",
          "<b>Topic 5</b><br>Words: orignal, buy, imitation, st, realize",
          "<b>Topic 5</b><br>Words: unsubscribe, walmart, forgot, humble, buy",
          "<b>Topic 5</b><br>Words: diehard, incomplete, buy, beginning, piece",
          "<b>Topic 5</b><br>Words: purchase, godrays, buy, watch, believe",
          "<b>Topic 5</b><br>Words: overrated, market, horse, shit, buy",
          "<b>Topic 5</b><br>Words: buy, ths, fuckk, peopol, warn",
          "<b>Topic 5</b><br>Words: buy, posibly, catalogue, dsr, ing",
          "<b>Topic 5</b><br>Words: buy, inevitable, dont, suck, purchase",
          "<b>Topic 5</b><br>Words: buy, unfear, financial, sale, oops",
          "<b>Topic 5</b><br>Words: buy, lmao, cuz, plimplimplim, banana",
          "<b>Topic 5</b><br>Words: celeste, buy, walmart, po, decade",
          "<b>Topic 5</b><br>Words: buy, sale, highway, robbery, fuckery",
          "<b>Topic 5</b><br>Words: buy, aliexpress, plz, bought, commit",
          "<b>Topic 5</b><br>Words: buy, shi, sanity, logic, videogame",
          "<b>Topic 5</b><br>Words: buy, originl, sex, gavlan, po"
         ],
         "marker": {
          "color": "#0072B2"
         },
         "mode": "lines",
         "name": "5_buy_purchase_dont_instead",
         "type": "scatter",
         "x": [
          "2014-04-20T22:58:39.521999",
          "2014-11-10T23:59:24.900000",
          "2015-05-30T00:58:58.800000",
          "2015-12-16T01:58:32.700000",
          "2016-07-03T02:58:06.600000",
          "2017-01-19T03:57:40.500000",
          "2017-08-07T04:57:14.400000",
          "2018-02-23T05:56:48.300000",
          "2018-09-11T06:56:22.200000",
          "2019-03-30T07:55:56.100000",
          "2019-10-16T08:55:30",
          "2020-05-03T09:55:03.900000",
          "2020-11-19T10:54:37.800000",
          "2021-06-07T11:54:11.700000",
          "2021-12-24T12:53:45.600000",
          "2022-07-12T13:53:19.500000",
          "2023-01-28T14:52:53.400000",
          "2023-08-16T15:52:27.300000",
          "2024-03-03T16:52:01.200000",
          "2024-09-19T17:51:35.100000"
         ],
         "y": [
          9,
          18,
          6,
          7,
          2,
          4,
          2,
          3,
          3,
          1,
          7,
          7,
          9,
          9,
          5,
          6,
          11,
          11,
          8,
          9
         ]
        },
        {
         "hoverinfo": "text",
         "hovertext": [
          "<b>Topic 6</b><br>Words: bad, haha, sorry, yeah, somehow",
          "<b>Topic 6</b><br>Words: bad, haha, sorry, yeah, somehow",
          "<b>Topic 6</b><br>Words: bad, haha, sorry, yeah, somehow",
          "<b>Topic 6</b><br>Words: bad, haha, sorry, yeah, somehow",
          "<b>Topic 6</b><br>Words: bad, haha, sorry, yeah, somehow",
          "<b>Topic 6</b><br>Words: bad, haha, sorry, yeah, somehow",
          "<b>Topic 6</b><br>Words: bad, haha, sorry, yeah, somehow",
          "<b>Topic 6</b><br>Words: bad, somehow, haha, sorry, yeah",
          "<b>Topic 6</b><br>Words: bad, haha, one, sorry, yeah",
          "<b>Topic 6</b><br>Words: bad, haha, sorry, yeah, somehow",
          "<b>Topic 6</b><br>Words: bad, haha, sorry, yeah, somehow",
          "<b>Topic 6</b><br>Words: bad, sorry, haha, yeah, somehow",
          "<b>Topic 6</b><br>Words: bad, haha, sorry, yeah, somehow",
          "<b>Topic 6</b><br>Words: bad, fuck, haha, sorry, yeah",
          "<b>Topic 6</b><br>Words: bad, haha, say, much, really",
          "<b>Topic 6</b><br>Words: bad, yeah, still, haha, sorry"
         ],
         "marker": {
          "color": "#CC79A7"
         },
         "mode": "lines",
         "name": "6_bad_haha_sorry_yeah",
         "type": "scatter",
         "x": [
          "2014-04-20T22:58:39.521999",
          "2016-07-03T02:58:06.600000",
          "2017-01-19T03:57:40.500000",
          "2017-08-07T04:57:14.400000",
          "2018-02-23T05:56:48.300000",
          "2019-03-30T07:55:56.100000",
          "2019-10-16T08:55:30",
          "2020-05-03T09:55:03.900000",
          "2020-11-19T10:54:37.800000",
          "2021-06-07T11:54:11.700000",
          "2021-12-24T12:53:45.600000",
          "2022-07-12T13:53:19.500000",
          "2023-01-28T14:52:53.400000",
          "2023-08-16T15:52:27.300000",
          "2024-03-03T16:52:01.200000",
          "2024-09-19T17:51:35.100000"
         ],
         "y": [
          2,
          1,
          2,
          3,
          1,
          4,
          7,
          8,
          10,
          20,
          14,
          4,
          12,
          7,
          21,
          12
         ]
        },
        {
         "hoverinfo": "text",
         "hovertext": [
          "<b>Topic 7</b><br>Words: ever, play, bad, soulless, dissapointing",
          "<b>Topic 7</b><br>Words: suck, game, ever, bad, play",
          "<b>Topic 7</b><br>Words: immesly, ea, bs, hopefully, alot",
          "<b>Topic 7</b><br>Words: cant, say, sure, play, want",
          "<b>Topic 7</b><br>Words: worst, third, believe, ever, horrible",
          "<b>Topic 7</b><br>Words: nope, across, game, bad, life",
          "<b>Topic 7</b><br>Words: tread, unpolished, game, lot, bad",
          "<b>Topic 7</b><br>Words: forgetable, merit, obnoxious, ever, suppose",
          "<b>Topic 7</b><br>Words: pathetic, joke, far, slow, everything",
          "<b>Topic 7</b><br>Words: mald, tragedy, ever, far, bad",
          "<b>Topic 7</b><br>Words: damn, ever, raff, wrld, suffered",
          "<b>Topic 7</b><br>Words: becouse, bad, legend, league, play",
          "<b>Topic 7</b><br>Words: ever, fucking, depression, severe, havent",
          "<b>Topic 7</b><br>Words: ever, thjis, bad, play, atrocity",
          "<b>Topic 7</b><br>Words: ever, bad, sarcastic, play, politics",
          "<b>Topic 7</b><br>Words: displeasure, ever, kalle, ranger, imagine",
          "<b>Topic 7</b><br>Words: ever, bad, play, ga, fk",
          "<b>Topic 7</b><br>Words: ever, worst, play, bad, axis",
          "<b>Topic 7</b><br>Words: ever, bad, play, worst, game",
          "<b>Topic 7</b><br>Words: ever, worst, bad, play, hypodermic"
         ],
         "marker": {
          "color": "#E69F00"
         },
         "mode": "lines",
         "name": "7_ever_bad_play_game",
         "type": "scatter",
         "x": [
          "2014-04-20T22:58:39.521999",
          "2014-11-10T23:59:24.900000",
          "2015-05-30T00:58:58.800000",
          "2015-12-16T01:58:32.700000",
          "2016-07-03T02:58:06.600000",
          "2017-01-19T03:57:40.500000",
          "2017-08-07T04:57:14.400000",
          "2018-02-23T05:56:48.300000",
          "2018-09-11T06:56:22.200000",
          "2019-03-30T07:55:56.100000",
          "2019-10-16T08:55:30",
          "2020-05-03T09:55:03.900000",
          "2020-11-19T10:54:37.800000",
          "2021-06-07T11:54:11.700000",
          "2021-12-24T12:53:45.600000",
          "2022-07-12T13:53:19.500000",
          "2023-01-28T14:52:53.400000",
          "2023-08-16T15:52:27.300000",
          "2024-03-03T16:52:01.200000",
          "2024-09-19T17:51:35.100000"
         ],
         "y": [
          7,
          1,
          2,
          1,
          2,
          3,
          2,
          3,
          2,
          1,
          3,
          7,
          6,
          14,
          8,
          7,
          10,
          11,
          21,
          15
         ]
        },
        {
         "hoverinfo": "text",
         "hovertext": [
          "<b>Topic 8</b><br>Words: design, cod, poorly, edied, downie",
          "<b>Topic 8</b><br>Words: cetain, pacements, unchanged, inadequate, base",
          "<b>Topic 8</b><br>Words: leashing, processing, aggro, aggravating, massively",
          "<b>Topic 8</b><br>Words: gip, railroad, endedness, design, quarter",
          "<b>Topic 8</b><br>Words: embarresment, enviornments, soft, stereotypical, geez",
          "<b>Topic 8</b><br>Words: design, level, leveling, boring, zzzzz",
          "<b>Topic 8</b><br>Words: fetus, autistic, puke, brain, atmosphere",
          "<b>Topic 8</b><br>Words: installment, zone, clunky, terrible, series",
          "<b>Topic 8</b><br>Words: fvcking, mechanism, link, previous, stupid",
          "<b>Topic 8</b><br>Words: design, as, level, porbably, lvling",
          "<b>Topic 8</b><br>Words: design, thoses, ooooof, kilometers, level",
          "<b>Topic 8</b><br>Words: design, aid, level, primal, aroung",
          "<b>Topic 8</b><br>Words: design, level, boring, hexxing, bofyh",
          "<b>Topic 8</b><br>Words: tweezer, adaptibilty, astonish, pubes, design",
          "<b>Topic 8</b><br>Words: design, stage, monkie, supreme, squad",
          "<b>Topic 8</b><br>Words: design, inhumanely, terry, sadistically, testicle",
          "<b>Topic 8</b><br>Words: design, level, boring, poorly, jankiness",
          "<b>Topic 8</b><br>Words: design, couldnt, level, reprobate, unpatched",
          "<b>Topic 8</b><br>Words: design, level, mecahnics, surreal, everywhere"
         ],
         "marker": {
          "color": "#56B4E9"
         },
         "mode": "lines",
         "name": "8_design_level_boring_boss",
         "type": "scatter",
         "x": [
          "2014-04-20T22:58:39.521999",
          "2014-11-10T23:59:24.900000",
          "2015-05-30T00:58:58.800000",
          "2015-12-16T01:58:32.700000",
          "2016-07-03T02:58:06.600000",
          "2017-08-07T04:57:14.400000",
          "2018-02-23T05:56:48.300000",
          "2018-09-11T06:56:22.200000",
          "2019-03-30T07:55:56.100000",
          "2019-10-16T08:55:30",
          "2020-05-03T09:55:03.900000",
          "2020-11-19T10:54:37.800000",
          "2021-06-07T11:54:11.700000",
          "2021-12-24T12:53:45.600000",
          "2022-07-12T13:53:19.500000",
          "2023-01-28T14:52:53.400000",
          "2023-08-16T15:52:27.300000",
          "2024-03-03T16:52:01.200000",
          "2024-09-19T17:51:35.100000"
         ],
         "y": [
          8,
          4,
          1,
          3,
          5,
          8,
          2,
          1,
          1,
          5,
          6,
          9,
          11,
          5,
          6,
          8,
          16,
          13,
          11
         ]
        },
        {
         "hoverinfo": "text",
         "hovertext": [
          "<b>Topic 9</b><br>Words: microphone, rockabnd, shameful, support, elden",
          "<b>Topic 9</b><br>Words: elden, ring, already, finish, bad",
          "<b>Topic 9</b><br>Words: doo, eldin, ring, elden, evil",
          "<b>Topic 9</b><br>Words: elden, ring, alva, helmet, lean",
          "<b>Topic 9</b><br>Words: elden, ring, multiplayer, server, back",
          "<b>Topic 9</b><br>Words: elden, ring, company, albanian, widen",
          "<b>Topic 9</b><br>Words: elden, ring, lost, sinner, attend",
          "<b>Topic 9</b><br>Words: elden, ring, newfound, enjoyable, electric",
          "<b>Topic 9</b><br>Words: elden, ring, lego, imright, masterclasses",
          "<b>Topic 9</b><br>Words: elden, ring, ctrl, clinically, ii"
         ],
         "marker": {
          "color": "#009E73"
         },
         "mode": "lines",
         "name": "9_elden_ring_play_ctrl",
         "type": "scatter",
         "x": [
          "2018-02-23T05:56:48.300000",
          "2019-10-16T08:55:30",
          "2020-11-19T10:54:37.800000",
          "2021-06-07T11:54:11.700000",
          "2021-12-24T12:53:45.600000",
          "2022-07-12T13:53:19.500000",
          "2023-01-28T14:52:53.400000",
          "2023-08-16T15:52:27.300000",
          "2024-03-03T16:52:01.200000",
          "2024-09-19T17:51:35.100000"
         ],
         "y": [
          1,
          1,
          2,
          3,
          30,
          10,
          9,
          14,
          17,
          12
         ]
        },
        {
         "hoverinfo": "text",
         "hovertext": [
          "<b>Topic 10</b><br>Words: version, dx, buy, release, new",
          "<b>Topic 10</b><br>Words: version, upgrade, dx, new, price",
          "<b>Topic 10</b><br>Words: software, version, release, eddition, optimized",
          "<b>Topic 10</b><br>Words: version, support, software, metareview, extorsion",
          "<b>Topic 10</b><br>Words: starbucks, sudoku, squeeze, cent, loyal",
          "<b>Topic 10</b><br>Words: bandai, season, pas, improvment, patch",
          "<b>Topic 10</b><br>Words: compilation, sotfs, advanced, purchase, remastered",
          "<b>Topic 10</b><br>Words: registration, opinion, come, hit, version",
          "<b>Topic 10</b><br>Words: agent, undeniable, convince, recently, otherwise",
          "<b>Topic 10</b><br>Words: dx, split, eerier, targeted, community"
         ],
         "marker": {
          "color": "#F0E442"
         },
         "mode": "lines",
         "name": "10_version_dx_release_buy",
         "type": "scatter",
         "x": [
          "2014-11-10T23:59:24.900000",
          "2015-05-30T00:58:58.800000",
          "2015-12-16T01:58:32.700000",
          "2016-07-03T02:58:06.600000",
          "2018-02-23T05:56:48.300000",
          "2018-09-11T06:56:22.200000",
          "2020-11-19T10:54:37.800000",
          "2021-06-07T11:54:11.700000",
          "2022-07-12T13:53:19.500000",
          "2023-08-16T15:52:27.300000"
         ],
         "y": [
          72,
          10,
          4,
          2,
          1,
          1,
          1,
          1,
          1,
          2
         ]
        },
        {
         "hoverinfo": "text",
         "hovertext": [
          "<b>Topic 11</b><br>Words: challenge, flaw, certain, button, kill",
          "<b>Topic 11</b><br>Words: random, quit, chariot, overwhelm, consume",
          "<b>Topic 11</b><br>Words: clearly, punishment, found, continue, awfully",
          "<b>Topic 11</b><br>Words: die, difficult, hit, dodge, enemy",
          "<b>Topic 11</b><br>Words: loss, permanent, die, semi, visible",
          "<b>Topic 11</b><br>Words: forgive, chain, advantage, bode, danage",
          "<b>Topic 11</b><br>Words: guysss, disc, compensation, hard, imitate",
          "<b>Topic 11</b><br>Words: ambush, powerstancing, oneshoted, moments, sap",
          "<b>Topic 11</b><br>Words: mistake, invincible, kill, second, chests",
          "<b>Topic 11</b><br>Words: absurd, stagnate, reveals, gultch, slow",
          "<b>Topic 11</b><br>Words: detection, mist, ight, chase, awful",
          "<b>Topic 11</b><br>Words: combo, dodge, die, weapon, enemy",
          "<b>Topic 11</b><br>Words: damage, dig, regular, could, opportunity",
          "<b>Topic 11</b><br>Words: vit, shield, isnt, ganked, pit",
          "<b>Topic 11</b><br>Words: health, die, skill, dodge, enemy",
          "<b>Topic 11</b><br>Words: gear, orange, behind, random, break",
          "<b>Topic 11</b><br>Words: starting, class, lack, loadouts, ragdolls",
          "<b>Topic 11</b><br>Words: skill, patience, wich, define, health",
          "<b>Topic 11</b><br>Words: flask, skill, irritation, guide, compliment",
          "<b>Topic 11</b><br>Words: health, ridiculous, stat, terrible, healing"
         ],
         "marker": {
          "color": "#D55E00"
         },
         "mode": "lines",
         "name": "11_die_enemy_hit_dodge",
         "type": "scatter",
         "x": [
          "2014-04-20T22:58:39.521999",
          "2014-11-10T23:59:24.900000",
          "2015-05-30T00:58:58.800000",
          "2015-12-16T01:58:32.700000",
          "2016-07-03T02:58:06.600000",
          "2017-01-19T03:57:40.500000",
          "2017-08-07T04:57:14.400000",
          "2018-02-23T05:56:48.300000",
          "2018-09-11T06:56:22.200000",
          "2019-03-30T07:55:56.100000",
          "2019-10-16T08:55:30",
          "2020-05-03T09:55:03.900000",
          "2020-11-19T10:54:37.800000",
          "2021-06-07T11:54:11.700000",
          "2021-12-24T12:53:45.600000",
          "2022-07-12T13:53:19.500000",
          "2023-01-28T14:52:53.400000",
          "2023-08-16T15:52:27.300000",
          "2024-03-03T16:52:01.200000",
          "2024-09-19T17:51:35.100000"
         ],
         "y": [
          5,
          2,
          1,
          11,
          1,
          4,
          3,
          3,
          2,
          3,
          4,
          6,
          6,
          5,
          8,
          3,
          8,
          4,
          8,
          7
         ]
        },
        {
         "hoverinfo": "text",
         "hovertext": [
          "<b>Topic 12</b><br>Words: dont, play, free, minute, one",
          "<b>Topic 12</b><br>Words: dont, peice, naked, finger, casual",
          "<b>Topic 12</b><br>Words: desperation, dont, generator, heart, play",
          "<b>Topic 12</b><br>Words: gash, dont, ng, play, id",
          "<b>Topic 12</b><br>Words: one, play, dont, id, else",
          "<b>Topic 12</b><br>Words: play, dont, go, feel, good",
          "<b>Topic 12</b><br>Words: dont, gray, chinese, play, color",
          "<b>Topic 12</b><br>Words: dont, grater, play, shred, id",
          "<b>Topic 12</b><br>Words: play, dont, id, else, grater",
          "<b>Topic 12</b><br>Words: seek, dont, play, know, fun",
          "<b>Topic 12</b><br>Words: dont, play, hbomberguy, nerd, optimal",
          "<b>Topic 12</b><br>Words: dont, play, heck, actual, else",
          "<b>Topic 12</b><br>Words: dont, play, scenery, chore, downgrade",
          "<b>Topic 12</b><br>Words: dont, thank, play, playing, stop",
          "<b>Topic 12</b><br>Words: dont, play, caress, else, grater",
          "<b>Topic 12</b><br>Words: dont, play, youve, platinumed, retard",
          "<b>Topic 12</b><br>Words: dont, play, pearly, genitals, blender"
         ],
         "marker": {
          "color": "#0072B2"
         },
         "mode": "lines",
         "name": "12_dont_play_id_else",
         "type": "scatter",
         "x": [
          "2014-04-20T22:58:39.521999",
          "2014-11-10T23:59:24.900000",
          "2015-12-16T01:58:32.700000",
          "2016-07-03T02:58:06.600000",
          "2017-08-07T04:57:14.400000",
          "2018-09-11T06:56:22.200000",
          "2019-03-30T07:55:56.100000",
          "2019-10-16T08:55:30",
          "2020-05-03T09:55:03.900000",
          "2020-11-19T10:54:37.800000",
          "2021-06-07T11:54:11.700000",
          "2021-12-24T12:53:45.600000",
          "2022-07-12T13:53:19.500000",
          "2023-01-28T14:52:53.400000",
          "2023-08-16T15:52:27.300000",
          "2024-03-03T16:52:01.200000",
          "2024-09-19T17:51:35.100000"
         ],
         "y": [
          4,
          1,
          3,
          1,
          1,
          2,
          4,
          4,
          1,
          3,
          12,
          9,
          5,
          5,
          13,
          10,
          10
         ]
        },
        {
         "hoverinfo": "text",
         "hovertext": [
          "<b>Topic 13</b><br>Words: trash, actually, go, bin, muk",
          "<b>Topic 13</b><br>Words: trash, mob, ever, bin, muk",
          "<b>Topic 13</b><br>Words: trash, bin, muk, whacanisay, schholar",
          "<b>Topic 13</b><br>Words: trash, bb, plain, simple, core",
          "<b>Topic 13</b><br>Words: trash, bargain, bin, rot, let",
          "<b>Topic 13</b><br>Words: trash, bin, muk, whacanisay, schholar",
          "<b>Topic 13</b><br>Words: trash, bin, muk, whacanisay, schholar",
          "<b>Topic 13</b><br>Words: trash, whacanisay, disgust, bin, muk",
          "<b>Topic 13</b><br>Words: trash, bin, muk, whacanisay, schholar",
          "<b>Topic 13</b><br>Words: trash, bin, life, garbage, waste",
          "<b>Topic 13</b><br>Words: trash, actual, bin, muk, gatekeeping",
          "<b>Topic 13</b><br>Words: trash, bin, rex, dino, muk",
          "<b>Topic 13</b><br>Words: trash, iii, bug, full, break",
          "<b>Topic 13</b><br>Words: trash, iii, rush, absolutely, compare",
          "<b>Topic 13</b><br>Words: trash, muk, bin, whacanisay, schholar",
          "<b>Topic 13</b><br>Words: trash, schholar, bin, tl, dr",
          "<b>Topic 13</b><br>Words: trash, fcking, as, stupid, far",
          "<b>Topic 13</b><br>Words: trash, dogpile, gatekeeping, glencour, masterlass",
          "<b>Topic 13</b><br>Words: trash, hella, thank, literally, experience"
         ],
         "marker": {
          "color": "#CC79A7"
         },
         "mode": "lines",
         "name": "13_trash_bin_muk_whacanisay",
         "type": "scatter",
         "x": [
          "2014-04-20T22:58:39.521999",
          "2014-11-10T23:59:24.900000",
          "2015-12-16T01:58:32.700000",
          "2016-07-03T02:58:06.600000",
          "2017-01-19T03:57:40.500000",
          "2017-08-07T04:57:14.400000",
          "2018-02-23T05:56:48.300000",
          "2018-09-11T06:56:22.200000",
          "2019-03-30T07:55:56.100000",
          "2019-10-16T08:55:30",
          "2020-05-03T09:55:03.900000",
          "2020-11-19T10:54:37.800000",
          "2021-06-07T11:54:11.700000",
          "2021-12-24T12:53:45.600000",
          "2022-07-12T13:53:19.500000",
          "2023-01-28T14:52:53.400000",
          "2023-08-16T15:52:27.300000",
          "2024-03-03T16:52:01.200000",
          "2024-09-19T17:51:35.100000"
         ],
         "y": [
          3,
          1,
          1,
          1,
          2,
          1,
          5,
          2,
          2,
          4,
          4,
          5,
          10,
          7,
          3,
          11,
          3,
          13,
          8
         ]
        },
        {
         "hoverinfo": "text",
         "hovertext": [
          "<b>Topic 14</b><br>Words: vac, ban, cheater, hacker, cheat",
          "<b>Topic 14</b><br>Words: ban, softbanned, cheater, soft, hacker",
          "<b>Topic 14</b><br>Words: ban, softbanned, mod, hacker, banwave",
          "<b>Topic 14</b><br>Words: ban, softbanned, hacker, boxed, wti",
          "<b>Topic 14</b><br>Words: ban, dxtory, mod, cheat, soft",
          "<b>Topic 14</b><br>Words: ban, automated, malformed, wrongly, fromsoftware",
          "<b>Topic 14</b><br>Words: ban, cheater, mod, enhancement, software",
          "<b>Topic 14</b><br>Words: hacker, revive, merchant, herald, emerald",
          "<b>Topic 14</b><br>Words: ban, cheater, secound, banco, amok",
          "<b>Topic 14</b><br>Words: permanently, unjustifiable, year, reply, softban",
          "<b>Topic 14</b><br>Words: softbanned, anybody, online, realize, prepare",
          "<b>Topic 14</b><br>Words: ban, hacker, kekw, weapin, continiue",
          "<b>Topic 14</b><br>Words: cheater, ban, hacker, profile, soft",
          "<b>Topic 14</b><br>Words: security, ban, rce, exploit, computer",
          "<b>Topic 14</b><br>Words: vulnerability, fraud, rampant, ban, ptde",
          "<b>Topic 14</b><br>Words: ban, reshade, who, deserve, sicken",
          "<b>Topic 14</b><br>Words: ban, cheater, bricked, anticheat, soft",
          "<b>Topic 14</b><br>Words: scum, ban, inventory, nsfw, nude"
         ],
         "marker": {
          "color": "#E69F00"
         },
         "mode": "lines",
         "name": "14_ban_cheater_vac_hacker",
         "type": "scatter",
         "x": [
          "2014-04-20T22:58:39.521999",
          "2014-11-10T23:59:24.900000",
          "2015-05-30T00:58:58.800000",
          "2015-12-16T01:58:32.700000",
          "2016-07-03T02:58:06.600000",
          "2017-01-19T03:57:40.500000",
          "2017-08-07T04:57:14.400000",
          "2018-02-23T05:56:48.300000",
          "2018-09-11T06:56:22.200000",
          "2019-03-30T07:55:56.100000",
          "2020-05-03T09:55:03.900000",
          "2020-11-19T10:54:37.800000",
          "2021-06-07T11:54:11.700000",
          "2021-12-24T12:53:45.600000",
          "2022-07-12T13:53:19.500000",
          "2023-01-28T14:52:53.400000",
          "2024-03-03T16:52:01.200000",
          "2024-09-19T17:51:35.100000"
         ],
         "y": [
          16,
          8,
          9,
          7,
          3,
          2,
          3,
          2,
          3,
          1,
          1,
          5,
          6,
          6,
          2,
          1,
          6,
          3
         ]
        },
        {
         "hoverinfo": "text",
         "hovertext": [
          "<b>Topic 15</b><br>Words: hitboxes, blisteringly, expiration, erroneous, element",
          "<b>Topic 15</b><br>Words: ok, netcode, hitboxes, word, shitty",
          "<b>Topic 15</b><br>Words: responsiveness, collision, physic, detection, hitbox",
          "<b>Topic 15</b><br>Words: hitboxes, phantom, terrible, ever, see",
          "<b>Topic 15</b><br>Words: cake, row, eat, slap, imagine",
          "<b>Topic 15</b><br>Words: supplement, cardboard, hitbox, box, hacker",
          "<b>Topic 15</b><br>Words: hitboxes, thing, box, hitbox, hit",
          "<b>Topic 15</b><br>Words: hitboxes, doubleclick, input, attacking, remaster",
          "<b>Topic 15</b><br>Words: hitboxes, unresponsive, shitty, super, spam",
          "<b>Topic 15</b><br>Words: hitboxes, hurtboxes, blank, dagger, history",
          "<b>Topic 15</b><br>Words: hitboxes, disso, brincadera, funciona, box",
          "<b>Topic 15</b><br>Words: hitboxes, size, hitbox, box, pisspoor",
          "<b>Topic 15</b><br>Words: hitboxes, hotness, bust, shortsword, lelelelel",
          "<b>Topic 15</b><br>Words: hitboxes, shitty, hitbox, box, kruisers",
          "<b>Topic 15</b><br>Words: ah, goofy, hitbox, hitboxes, box",
          "<b>Topic 15</b><br>Words: whack, lol, box, hitboxes, man",
          "<b>Topic 15</b><br>Words: hitboxes, throb, desk, ceiling, headache",
          "<b>Topic 15</b><br>Words: hitboxes, terriuble, marketplace, box, asf",
          "<b>Topic 15</b><br>Words: hitboxes, hitbox, commisions, pyrocynicals, disable"
         ],
         "marker": {
          "color": "#56B4E9"
         },
         "mode": "lines",
         "name": "15_hitboxes_box_hitbox_hit",
         "type": "scatter",
         "x": [
          "2014-04-20T22:58:39.521999",
          "2014-11-10T23:59:24.900000",
          "2015-12-16T01:58:32.700000",
          "2016-07-03T02:58:06.600000",
          "2017-01-19T03:57:40.500000",
          "2017-08-07T04:57:14.400000",
          "2018-02-23T05:56:48.300000",
          "2018-09-11T06:56:22.200000",
          "2019-03-30T07:55:56.100000",
          "2019-10-16T08:55:30",
          "2020-05-03T09:55:03.900000",
          "2020-11-19T10:54:37.800000",
          "2021-06-07T11:54:11.700000",
          "2021-12-24T12:53:45.600000",
          "2022-07-12T13:53:19.500000",
          "2023-01-28T14:52:53.400000",
          "2023-08-16T15:52:27.300000",
          "2024-03-03T16:52:01.200000",
          "2024-09-19T17:51:35.100000"
         ],
         "y": [
          3,
          1,
          1,
          2,
          1,
          2,
          1,
          2,
          3,
          3,
          5,
          7,
          10,
          12,
          3,
          2,
          5,
          8,
          7
         ]
        },
        {
         "hoverinfo": "text",
         "hovertext": [
          "<b>Topic 16</b><br>Words: step, huge, original, back, take",
          "<b>Topic 16</b><br>Words: firelink, miss, skip, one, walk",
          "<b>Topic 16</b><br>Words: skip, holy, third, ok, miss",
          "<b>Topic 16</b><br>Words: skip, conceivable, definite, misstep, firelink",
          "<b>Topic 16</b><br>Words: skip, third, fuck, second, suck",
          "<b>Topic 16</b><br>Words: skip, shit, one, walk, third",
          "<b>Topic 16</b><br>Words: skip, three, disconnect, two, third",
          "<b>Topic 16</b><br>Words: skip, dsiii, imitation, pile, within",
          "<b>Topic 16</b><br>Words: skip, sixteen, iii, tho, walk",
          "<b>Topic 16</b><br>Words: skip, advice, wind, iii, walk",
          "<b>Topic 16</b><br>Words: skip, guy, one, walk, third",
          "<b>Topic 16</b><br>Words: skip, marathon, aweful, saga, thru",
          "<b>Topic 16</b><br>Words: skip, third, artistic, fist, slog",
          "<b>Topic 16</b><br>Words: skip, forlorn, spirit, cheetah, foot",
          "<b>Topic 16</b><br>Words: skip, gettin, firelink, spare, fuckin",
          "<b>Topic 16</b><br>Words: skip, unabomber, dw, bearable, prevent",
          "<b>Topic 16</b><br>Words: skip, douls, postioning, wall, sim",
          "<b>Topic 16</b><br>Words: skip, zaki, michael, cook, directional"
         ],
         "marker": {
          "color": "#009E73"
         },
         "mode": "lines",
         "name": "16_skip_one_walk_third",
         "type": "scatter",
         "x": [
          "2014-04-20T22:58:39.521999",
          "2014-11-10T23:59:24.900000",
          "2015-05-30T00:58:58.800000",
          "2015-12-16T01:58:32.700000",
          "2016-07-03T02:58:06.600000",
          "2017-01-19T03:57:40.500000",
          "2018-02-23T05:56:48.300000",
          "2018-09-11T06:56:22.200000",
          "2019-10-16T08:55:30",
          "2020-05-03T09:55:03.900000",
          "2020-11-19T10:54:37.800000",
          "2021-06-07T11:54:11.700000",
          "2021-12-24T12:53:45.600000",
          "2022-07-12T13:53:19.500000",
          "2023-01-28T14:52:53.400000",
          "2023-08-16T15:52:27.300000",
          "2024-03-03T16:52:01.200000",
          "2024-09-19T17:51:35.100000"
         ],
         "y": [
          1,
          1,
          3,
          3,
          3,
          1,
          4,
          4,
          4,
          8,
          2,
          5,
          6,
          3,
          5,
          7,
          9,
          7
         ]
        },
        {
         "hoverinfo": "text",
         "hovertext": [
          "<b>Topic 17</b><br>Words: star, series, zero, insane, wish",
          "<b>Topic 17</b><br>Words: abortion, failed, pls, series, live",
          "<b>Topic 17</b><br>Words: tv, season, show, series, really",
          "<b>Topic 17</b><br>Words: weak, series, bad, worst, far",
          "<b>Topic 17</b><br>Words: trilogy, easy, series, bad, worst",
          "<b>Topic 17</b><br>Words: peak, favor, dead, sotfs, right",
          "<b>Topic 17</b><br>Words: bore, simply, series, slow, terrible",
          "<b>Topic 17</b><br>Words: series, anecdotal, obnoxiously, billion, evidence",
          "<b>Topic 17</b><br>Words: ebanoe, pozoriwe, series, bad, worst",
          "<b>Topic 17</b><br>Words: series, unrefined, diehard, others, solve",
          "<b>Topic 17</b><br>Words: series, renowned, submit, stain, bad",
          "<b>Topic 17</b><br>Words: series, society, forsake, prison, stain",
          "<b>Topic 17</b><br>Words: series, masochistic, disaster, meme, kid",
          "<b>Topic 17</b><br>Words: series, godfather, jankiest, far, margin",
          "<b>Topic 17</b><br>Words: series, accomplishment, safely, installment, doubt",
          "<b>Topic 17</b><br>Words: series, longman, milestone, undeniably, unforgettable",
          "<b>Topic 17</b><br>Words: series, quirky, yep, desperately, worst",
          "<b>Topic 17</b><br>Words: series, deserving, molest, contentious, consider",
          "<b>Topic 17</b><br>Words: series, sicken, prison, truly, parent"
         ],
         "marker": {
          "color": "#F0E442"
         },
         "mode": "lines",
         "name": "17_series_bad_worst_far",
         "type": "scatter",
         "x": [
          "2014-04-20T22:58:39.521999",
          "2014-11-10T23:59:24.900000",
          "2015-12-16T01:58:32.700000",
          "2016-07-03T02:58:06.600000",
          "2017-01-19T03:57:40.500000",
          "2017-08-07T04:57:14.400000",
          "2018-02-23T05:56:48.300000",
          "2018-09-11T06:56:22.200000",
          "2019-03-30T07:55:56.100000",
          "2019-10-16T08:55:30",
          "2020-05-03T09:55:03.900000",
          "2020-11-19T10:54:37.800000",
          "2021-06-07T11:54:11.700000",
          "2021-12-24T12:53:45.600000",
          "2022-07-12T13:53:19.500000",
          "2023-01-28T14:52:53.400000",
          "2023-08-16T15:52:27.300000",
          "2024-03-03T16:52:01.200000",
          "2024-09-19T17:51:35.100000"
         ],
         "y": [
          2,
          2,
          1,
          1,
          1,
          1,
          1,
          4,
          1,
          5,
          8,
          6,
          5,
          8,
          3,
          8,
          7,
          6,
          5
         ]
        },
        {
         "hoverinfo": "text",
         "hovertext": [
          "<b>Topic 18</b><br>Words: control, controlls, suck, year, unplayable",
          "<b>Topic 18</b><br>Words: awful, control, horrid, storyline, appeal",
          "<b>Topic 18</b><br>Words: emotionally, control, shitty, modern, pull",
          "<b>Topic 18</b><br>Words: control, wow, controlls, horrible, unintuitive",
          "<b>Topic 18</b><br>Words: goddamned, disastrous, control, unusable, controler",
          "<b>Topic 18</b><br>Words: control, masive, irrational, backspace, backstep",
          "<b>Topic 18</b><br>Words: control, tight, smh, unplayable, lord",
          "<b>Topic 18</b><br>Words: klabi, meh, control, terrible, shit",
          "<b>Topic 18</b><br>Words: control, controlling, alphabet, scuffed, invent",
          "<b>Topic 18</b><br>Words: control, marriage, reliant, respond, response",
          "<b>Topic 18</b><br>Words: control, unplayable, horrible, making, suck",
          "<b>Topic 18</b><br>Words: control, djt, nh, dizzy, eve",
          "<b>Topic 18</b><br>Words: nice, control, look, well, like",
          "<b>Topic 18</b><br>Words: unplayable, sensitive, control, camera, sensitivity",
          "<b>Topic 18</b><br>Words: control, binding, hitbox, as, horrible",
          "<b>Topic 18</b><br>Words: insufferable, control, tho, badly, amaze",
          "<b>Topic 18</b><br>Words: awesome, amazing, crap, absolute, control",
          "<b>Topic 18</b><br>Words: awful, control, incredible, horrendous, optional",
          "<b>Topic 18</b><br>Words: control, annoying, dog, limited, shit"
         ],
         "marker": {
          "color": "#D55E00"
         },
         "mode": "lines",
         "name": "18_control_unplayable_horrible_controlls",
         "type": "scatter",
         "x": [
          "2014-04-20T22:58:39.521999",
          "2014-11-10T23:59:24.900000",
          "2015-05-30T00:58:58.800000",
          "2015-12-16T01:58:32.700000",
          "2016-07-03T02:58:06.600000",
          "2017-08-07T04:57:14.400000",
          "2018-02-23T05:56:48.300000",
          "2018-09-11T06:56:22.200000",
          "2019-03-30T07:55:56.100000",
          "2019-10-16T08:55:30",
          "2020-05-03T09:55:03.900000",
          "2020-11-19T10:54:37.800000",
          "2021-06-07T11:54:11.700000",
          "2021-12-24T12:53:45.600000",
          "2022-07-12T13:53:19.500000",
          "2023-01-28T14:52:53.400000",
          "2023-08-16T15:52:27.300000",
          "2024-03-03T16:52:01.200000",
          "2024-09-19T17:51:35.100000"
         ],
         "y": [
          16,
          3,
          2,
          4,
          3,
          4,
          3,
          2,
          7,
          4,
          6,
          4,
          1,
          3,
          3,
          2,
          1,
          3,
          3
         ]
        },
        {
         "hoverinfo": "text",
         "hovertext": [
          "<b>Topic 19</b><br>Words: screen, black, white, crash, monitor",
          "<b>Topic 19</b><br>Words: screen, laptop, image, issue, selection",
          "<b>Topic 19</b><br>Words: screen, hz, windowed, mode, full",
          "<b>Topic 19</b><br>Words: screen, fps, model, hz, mode",
          "<b>Topic 19</b><br>Words: screen, hz, zbook, fullscreen, fixes",
          "<b>Topic 19</b><br>Words: screen, fullscreen, program, monitor, qlitchin",
          "<b>Topic 19</b><br>Words: screen, tear, gsync, hz, work",
          "<b>Topic 19</b><br>Words: monitor, understanable, dropbox, asus, crash",
          "<b>Topic 19</b><br>Words: external, tired, fullscreen, monitor, none",
          "<b>Topic 19</b><br>Words: fullscreen, hz, fix, thousand, lame",
          "<b>Topic 19</b><br>Words: screen, hz, refresh, display, bug",
          "<b>Topic 19</b><br>Words: ultrawide, resolution, proper, support, good",
          "<b>Topic 19</b><br>Words: fps, screen, hz, cap, monitor",
          "<b>Topic 19</b><br>Words: fullscreen, hz, restart, screen, fix",
          "<b>Topic 19</b><br>Words: fullscreen, driver, screen, refresh, hz",
          "<b>Topic 19</b><br>Words: fullscreen, hz, screen, mode, amazing",
          "<b>Topic 19</b><br>Words: fullscreen, mode, desktop, screen, steamdeck",
          "<b>Topic 19</b><br>Words: screen, deck, desktop, hz, mode",
          "<b>Topic 19</b><br>Words: doesen, monitor, startup, reinstall, tv",
          "<b>Topic 19</b><br>Words: screen, fullscreen, inifinite, taskbar, capped"
         ],
         "marker": {
          "color": "#0072B2"
         },
         "mode": "lines",
         "name": "19_screen_fullscreen_hz_monitor",
         "type": "scatter",
         "x": [
          "2014-04-20T22:58:39.521999",
          "2014-11-10T23:59:24.900000",
          "2015-05-30T00:58:58.800000",
          "2015-12-16T01:58:32.700000",
          "2016-07-03T02:58:06.600000",
          "2017-01-19T03:57:40.500000",
          "2017-08-07T04:57:14.400000",
          "2018-02-23T05:56:48.300000",
          "2018-09-11T06:56:22.200000",
          "2019-03-30T07:55:56.100000",
          "2019-10-16T08:55:30",
          "2020-05-03T09:55:03.900000",
          "2020-11-19T10:54:37.800000",
          "2021-06-07T11:54:11.700000",
          "2021-12-24T12:53:45.600000",
          "2022-07-12T13:53:19.500000",
          "2023-01-28T14:52:53.400000",
          "2023-08-16T15:52:27.300000",
          "2024-03-03T16:52:01.200000",
          "2024-09-19T17:51:35.100000"
         ],
         "y": [
          8,
          7,
          1,
          3,
          4,
          4,
          6,
          2,
          1,
          5,
          4,
          1,
          4,
          4,
          4,
          2,
          6,
          4,
          1,
          3
         ]
        },
        {
         "hoverinfo": "text",
         "hovertext": [
          "<b>Topic 20</b><br>Words: shit, crap, utter, wtf, dis",
          "<b>Topic 20</b><br>Words: shit, crap, could, much, wtf",
          "<b>Topic 20</b><br>Words: shit, crap, wtf, dis, mom",
          "<b>Topic 20</b><br>Words: shit, crap, wtf, dis, mom",
          "<b>Topic 20</b><br>Words: shit, crap, wtf, dis, mom",
          "<b>Topic 20</b><br>Words: crap, shit, wtf, dis, mom",
          "<b>Topic 20</b><br>Words: shit, honestly, say, crap, wtf",
          "<b>Topic 20</b><br>Words: shit, crap, wtf, dis, mom",
          "<b>Topic 20</b><br>Words: shit, crap, wtf, dis, mom",
          "<b>Topic 20</b><br>Words: shit, crap, wtf, dis, mom",
          "<b>Topic 20</b><br>Words: shit, mom, ur, wtf, crap",
          "<b>Topic 20</b><br>Words: shit, crap, wtf, dis, mom",
          "<b>Topic 20</b><br>Words: shit, wtf, pure, kinda, crap",
          "<b>Topic 20</b><br>Words: shit, lmao, epic, literally, actually",
          "<b>Topic 20</b><br>Words: shit, totally, crap, wtf, dis",
          "<b>Topic 20</b><br>Words: shit, crap, wtf, dis, mom",
          "<b>Topic 20</b><br>Words: shit, else, nothing, say, crap",
          "<b>Topic 20</b><br>Words: shit, ii, crap, wtf, dis",
          "<b>Topic 20</b><br>Words: shit, dis, crappy, as, crap",
          "<b>Topic 20</b><br>Words: shit, crap, wtf, dis, mom"
         ],
         "marker": {
          "color": "#CC79A7"
         },
         "mode": "lines",
         "name": "20_shit_crap_wtf_dis",
         "type": "scatter",
         "x": [
          "2014-04-20T22:58:39.521999",
          "2014-11-10T23:59:24.900000",
          "2015-05-30T00:58:58.800000",
          "2015-12-16T01:58:32.700000",
          "2016-07-03T02:58:06.600000",
          "2017-01-19T03:57:40.500000",
          "2017-08-07T04:57:14.400000",
          "2018-02-23T05:56:48.300000",
          "2018-09-11T06:56:22.200000",
          "2019-03-30T07:55:56.100000",
          "2019-10-16T08:55:30",
          "2020-05-03T09:55:03.900000",
          "2020-11-19T10:54:37.800000",
          "2021-06-07T11:54:11.700000",
          "2021-12-24T12:53:45.600000",
          "2022-07-12T13:53:19.500000",
          "2023-01-28T14:52:53.400000",
          "2023-08-16T15:52:27.300000",
          "2024-03-03T16:52:01.200000",
          "2024-09-19T17:51:35.100000"
         ],
         "y": [
          4,
          2,
          1,
          1,
          2,
          1,
          1,
          1,
          1,
          1,
          3,
          2,
          6,
          5,
          5,
          5,
          5,
          6,
          13,
          4
         ]
        },
        {
         "hoverinfo": "text",
         "hovertext": [
          "<b>Topic 21</b><br>Words: soulsy, soulborne, dire, goodness, prequel",
          "<b>Topic 21</b><br>Words: exponentially, garbage, soulsborne, bother, rest",
          "<b>Topic 21</b><br>Words: thuroughly, woth, presumably, soulsborne, shot",
          "<b>Topic 21</b><br>Words: soulsborne, response, characater, bloodborne, agonize",
          "<b>Topic 21</b><br>Words: soulsborne, unpleyeable, vissualy, somewhow, previouse",
          "<b>Topic 21</b><br>Words: remembered, soulsborne, manage, dead, help",
          "<b>Topic 21</b><br>Words: soulsborne, sekiro, game, oppose, qi",
          "<b>Topic 21</b><br>Words: soulsborne, forgetable, glitch, overlook, bunch",
          "<b>Topic 21</b><br>Words: soulsborne, sekiro, game, franchise, reuse",
          "<b>Topic 21</b><br>Words: soulsborne, social, sotfs, veteran, game",
          "<b>Topic 21</b><br>Words: soulsborne, dice, else, screwy, decision",
          "<b>Topic 21</b><br>Words: soulsborne, weeb, whilst, stripper, plonk",
          "<b>Topic 21</b><br>Words: soulsborne, brown, hold, kill, every",
          "<b>Topic 21</b><br>Words: soulsborne, soulslike, ironkeep, uniqueness, bane",
          "<b>Topic 21</b><br>Words: soulsborne, replay, couldve, fully, teleports"
         ],
         "marker": {
          "color": "#E69F00"
         },
         "mode": "lines",
         "name": "21_soulsborne_game_sekiro_play",
         "type": "scatter",
         "x": [
          "2017-01-19T03:57:40.500000",
          "2017-08-07T04:57:14.400000",
          "2018-02-23T05:56:48.300000",
          "2018-09-11T06:56:22.200000",
          "2019-03-30T07:55:56.100000",
          "2019-10-16T08:55:30",
          "2020-05-03T09:55:03.900000",
          "2020-11-19T10:54:37.800000",
          "2021-06-07T11:54:11.700000",
          "2021-12-24T12:53:45.600000",
          "2022-07-12T13:53:19.500000",
          "2023-01-28T14:52:53.400000",
          "2023-08-16T15:52:27.300000",
          "2024-03-03T16:52:01.200000",
          "2024-09-19T17:51:35.100000"
         ],
         "y": [
          2,
          1,
          1,
          3,
          3,
          1,
          9,
          4,
          7,
          7,
          5,
          7,
          9,
          4,
          6
         ]
        },
        {
         "hoverinfo": "text",
         "hovertext": [
          "<b>Topic 22</b><br>Words: buying, durrrrrr, derk, serls, lewk",
          "<b>Topic 22</b><br>Words: lol, suprised, hidetaka, dissapointment, blood",
          "<b>Topic 22</b><br>Words: miyazaki, challanage, release, hidetaka, incredible",
          "<b>Topic 22</b><br>Words: miyazaki, ect, director, envirnonments, cohere",
          "<b>Topic 22</b><br>Words: miyazaki, leadership, fluster, twofold, marathoned",
          "<b>Topic 22</b><br>Words: novel, english, depression, japanese, possibilities",
          "<b>Topic 22</b><br>Words: miyazaki, sacraficed, descrips, safetly, bullsth",
          "<b>Topic 22</b><br>Words: tattoo, series, weight, phenomenal, genuinely",
          "<b>Topic 22</b><br>Words: miyazaki, tty, bake, direct, ck",
          "<b>Topic 22</b><br>Words: sequel, miyazaki, destine, exp, understandable",
          "<b>Topic 22</b><br>Words: miyazaki, hidetaka, sinner, succeded, pooped",
          "<b>Topic 22</b><br>Words: unimaginitive, miyazaki, novelty, sentiment, glaringly",
          "<b>Topic 22</b><br>Words: miyazaki, cozy, berzerk, lmaoo, vagueness",
          "<b>Topic 22</b><br>Words: miyazaki, self, exclude, direct, directed",
          "<b>Topic 22</b><br>Words: miyazaki, miraculous, inordinate, slaps, bong",
          "<b>Topic 22</b><br>Words: miyazaki, abvious, unnecesary, freddy, anthill",
          "<b>Topic 22</b><br>Words: miyazaki, avatar, meter, piece, masterpiece",
          "<b>Topic 22</b><br>Words: miyazaki, direct, hidetaka, series, polish",
          "<b>Topic 22</b><br>Words: miyazaki, bbc, clearly, masterpiece, masterwork"
         ],
         "marker": {
          "color": "#56B4E9"
         },
         "mode": "lines",
         "name": "22_miyazaki_hidetaka_direct_series",
         "type": "scatter",
         "x": [
          "2014-04-20T22:58:39.521999",
          "2014-11-10T23:59:24.900000",
          "2015-05-30T00:58:58.800000",
          "2015-12-16T01:58:32.700000",
          "2016-07-03T02:58:06.600000",
          "2017-08-07T04:57:14.400000",
          "2018-02-23T05:56:48.300000",
          "2018-09-11T06:56:22.200000",
          "2019-03-30T07:55:56.100000",
          "2019-10-16T08:55:30",
          "2020-05-03T09:55:03.900000",
          "2020-11-19T10:54:37.800000",
          "2021-06-07T11:54:11.700000",
          "2021-12-24T12:53:45.600000",
          "2022-07-12T13:53:19.500000",
          "2023-01-28T14:52:53.400000",
          "2023-08-16T15:52:27.300000",
          "2024-03-03T16:52:01.200000",
          "2024-09-19T17:51:35.100000"
         ],
         "y": [
          1,
          1,
          4,
          4,
          1,
          3,
          1,
          1,
          3,
          2,
          4,
          1,
          4,
          3,
          2,
          4,
          7,
          12,
          5
         ]
        },
        {
         "hoverinfo": "text",
         "hovertext": [
          "<b>Topic 23</b><br>Words: suck, bravo, heaven, team, high",
          "<b>Topic 23</b><br>Words: suck, bravo, sucker, heaven, salty",
          "<b>Topic 23</b><br>Words: suck, bravo, sucker, heaven, salty",
          "<b>Topic 23</b><br>Words: suck, bravo, sucker, heaven, salty",
          "<b>Topic 23</b><br>Words: suck, xd, bravo, sucker, heaven",
          "<b>Topic 23</b><br>Words: suck, bravo, sucker, heaven, salty",
          "<b>Topic 23</b><br>Words: suck, bed, go, bravo, sucker",
          "<b>Topic 23</b><br>Words: suck, bravo, sucker, heaven, salty",
          "<b>Topic 23</b><br>Words: suck, fucking, hard, bravo, sucker",
          "<b>Topic 23</b><br>Words: suck, salty, nut, dare, bravo",
          "<b>Topic 23</b><br>Words: suck, right, ii, people, bravo",
          "<b>Topic 23</b><br>Words: suck, sucker, lmao, major, pain",
          "<b>Topic 23</b><br>Words: suck, bravo, sucker, heaven, salty",
          "<b>Topic 23</b><br>Words: suck, bravo, sucker, heaven, salty",
          "<b>Topic 23</b><br>Words: suck, horse, lie, actual, stop",
          "<b>Topic 23</b><br>Words: suck, one, bravo, sucker, heaven",
          "<b>Topic 23</b><br>Words: suck, hear, already, bravo, sucker",
          "<b>Topic 23</b><br>Words: suck, attention, man, pay, someone"
         ],
         "marker": {
          "color": "#009E73"
         },
         "mode": "lines",
         "name": "23_suck_bravo_sucker_heaven",
         "type": "scatter",
         "x": [
          "2014-04-20T22:58:39.521999",
          "2014-11-10T23:59:24.900000",
          "2015-12-16T01:58:32.700000",
          "2016-07-03T02:58:06.600000",
          "2017-01-19T03:57:40.500000",
          "2017-08-07T04:57:14.400000",
          "2018-02-23T05:56:48.300000",
          "2018-09-11T06:56:22.200000",
          "2019-03-30T07:55:56.100000",
          "2020-05-03T09:55:03.900000",
          "2020-11-19T10:54:37.800000",
          "2021-06-07T11:54:11.700000",
          "2021-12-24T12:53:45.600000",
          "2022-07-12T13:53:19.500000",
          "2023-01-28T14:52:53.400000",
          "2023-08-16T15:52:27.300000",
          "2024-03-03T16:52:01.200000",
          "2024-09-19T17:51:35.100000"
         ],
         "y": [
          4,
          1,
          1,
          1,
          1,
          2,
          3,
          1,
          2,
          5,
          3,
          9,
          3,
          2,
          7,
          2,
          8,
          7
         ]
        },
        {
         "hoverinfo": "text",
         "hovertext": [
          "<b>Topic 24</b><br>Words: horrrible, garbage, retarded, pile, ass",
          "<b>Topic 24</b><br>Words: challange, garbage, cost, avoid, skill",
          "<b>Topic 24</b><br>Words: replay, garbage, trash, instead, buy",
          "<b>Topic 24</b><br>Words: mad, spent, trash, piss, super",
          "<b>Topic 24</b><br>Words: garbage, appreciate, compare, two, gameplay",
          "<b>Topic 24</b><br>Words: garbage, compare, well, game, time",
          "<b>Topic 24</b><br>Words: rubbish, riches, beholder, utility, man",
          "<b>Topic 24</b><br>Words: trash, game, good, like, garbage",
          "<b>Topic 24</b><br>Words: dont, trash, buy, garbage, rubbish",
          "<b>Topic 24</b><br>Words: sicne, trash, comparing, chaotic, ist",
          "<b>Topic 24</b><br>Words: trash, garbage, originality, baby, freak",
          "<b>Topic 24</b><br>Words: truly, garbage, god, trash, terrible",
          "<b>Topic 24</b><br>Words: trash, garbage, crap, juice, truck",
          "<b>Topic 24</b><br>Words: junky, garbage, corporate, trash, compare",
          "<b>Topic 24</b><br>Words: absolute, trash, control, fun, garbage",
          "<b>Topic 24</b><br>Words: garbage, hello, please, intuitive, hot",
          "<b>Topic 24</b><br>Words: trash, garbage, heap, pile, updated",
          "<b>Topic 24</b><br>Words: garbage, wost, trash, platinumed, genuine",
          "<b>Topic 24</b><br>Words: garbage, trash, rubbish, satire, odious"
         ],
         "marker": {
          "color": "#F0E442"
         },
         "mode": "lines",
         "name": "24_garbage_trash_rubbish_pile",
         "type": "scatter",
         "x": [
          "2014-04-20T22:58:39.521999",
          "2014-11-10T23:59:24.900000",
          "2015-12-16T01:58:32.700000",
          "2016-07-03T02:58:06.600000",
          "2017-01-19T03:57:40.500000",
          "2017-08-07T04:57:14.400000",
          "2018-02-23T05:56:48.300000",
          "2018-09-11T06:56:22.200000",
          "2019-03-30T07:55:56.100000",
          "2019-10-16T08:55:30",
          "2020-05-03T09:55:03.900000",
          "2020-11-19T10:54:37.800000",
          "2021-06-07T11:54:11.700000",
          "2021-12-24T12:53:45.600000",
          "2022-07-12T13:53:19.500000",
          "2023-01-28T14:52:53.400000",
          "2023-08-16T15:52:27.300000",
          "2024-03-03T16:52:01.200000",
          "2024-09-19T17:51:35.100000"
         ],
         "y": [
          2,
          2,
          2,
          1,
          2,
          1,
          3,
          1,
          1,
          4,
          4,
          2,
          7,
          6,
          1,
          3,
          6,
          6,
          8
         ]
        },
        {
         "hoverinfo": "text",
         "hovertext": [
          "<b>Topic 25</b><br>Words: st, unhelpful, recomend, log, stiff",
          "<b>Topic 25</b><br>Words: multimob, ememies, gfx, hassle, added",
          "<b>Topic 25</b><br>Words: tough, groundbreaking, called, strict, attitude",
          "<b>Topic 25</b><br>Words: compareable, creepy, link, atmosphere, love",
          "<b>Topic 25</b><br>Words: series, delusion, trump, comparison, enviroments",
          "<b>Topic 25</b><br>Words: series, fight, constantly, jackson, backhits",
          "<b>Topic 25</b><br>Words: ponderous, tiresome, register, comparison, uninspired",
          "<b>Topic 25</b><br>Words: series, least, bad, artificially, counter",
          "<b>Topic 25</b><br>Words: series, doubtful, atmosphere, cesspool, integrity",
          "<b>Topic 25</b><br>Words: series, overpopulated, shitload, dable, simulate",
          "<b>Topic 25</b><br>Words: series, absurd, romp, fluidity, simple",
          "<b>Topic 25</b><br>Words: series, fire, incomparably, fluke, bad",
          "<b>Topic 25</b><br>Words: stunlocked, spending, hr, explore, god",
          "<b>Topic 25</b><br>Words: series, fight, cheeks, ezclap, snooze",
          "<b>Topic 25</b><br>Words: unusually, til, rough, forgettable, environment",
          "<b>Topic 25</b><br>Words: acrobat, hotdog, eaten, raccoon, yarn",
          "<b>Topic 25</b><br>Words: nostalgic, witness, seven, rape, inflate"
         ],
         "marker": {
          "color": "#D55E00"
         },
         "mode": "lines",
         "name": "25_series_bad_fight_st",
         "type": "scatter",
         "x": [
          "2015-05-30T00:58:58.800000",
          "2015-12-16T01:58:32.700000",
          "2016-07-03T02:58:06.600000",
          "2017-01-19T03:57:40.500000",
          "2018-02-23T05:56:48.300000",
          "2018-09-11T06:56:22.200000",
          "2019-03-30T07:55:56.100000",
          "2019-10-16T08:55:30",
          "2020-05-03T09:55:03.900000",
          "2020-11-19T10:54:37.800000",
          "2021-06-07T11:54:11.700000",
          "2021-12-24T12:53:45.600000",
          "2022-07-12T13:53:19.500000",
          "2023-01-28T14:52:53.400000",
          "2023-08-16T15:52:27.300000",
          "2024-03-03T16:52:01.200000",
          "2024-09-19T17:51:35.100000"
         ],
         "y": [
          2,
          2,
          2,
          1,
          3,
          5,
          1,
          6,
          3,
          7,
          8,
          7,
          1,
          6,
          1,
          1,
          2
         ]
        },
        {
         "hoverinfo": "text",
         "hovertext": [
          "<b>Topic 26</b><br>Words: version, hd, release, buy, wait",
          "<b>Topic 26</b><br>Words: version, buy, release, fool, download",
          "<b>Topic 26</b><br>Words: rerelease, hd, sale, buy, price",
          "<b>Topic 26</b><br>Words: caution, version, buy, word, twice",
          "<b>Topic 26</b><br>Words: premium, version, release, superior, edit",
          "<b>Topic 26</b><br>Words: obsolete, version, buy, one, release",
          "<b>Topic 26</b><br>Words: april, st, release, appropriate, joke",
          "<b>Topic 26</b><br>Words: exactly, release, unless, instead, experience"
         ],
         "marker": {
          "color": "#0072B2"
         },
         "mode": "lines",
         "name": "26_version_release_hd_buy",
         "type": "scatter",
         "x": [
          "2014-11-10T23:59:24.900000",
          "2015-12-16T01:58:32.700000",
          "2016-07-03T02:58:06.600000",
          "2018-02-23T05:56:48.300000",
          "2019-10-16T08:55:30",
          "2020-05-03T09:55:03.900000",
          "2021-06-07T11:54:11.700000",
          "2021-12-24T12:53:45.600000"
         ],
         "y": [
          46,
          4,
          2,
          1,
          1,
          1,
          2,
          1
         ]
        },
        {
         "hoverinfo": "text",
         "hovertext": [
          "<b>Topic 27</b><br>Words: strange, awkward, frustrating, extremely, terrible",
          "<b>Topic 27</b><br>Words: fite, awful, terrible, horrible, fuck",
          "<b>Topic 27</b><br>Words: awful, terrible, half, horrible, good",
          "<b>Topic 27</b><br>Words: horrible, terrible, awful, absolutely, fing",
          "<b>Topic 27</b><br>Words: horrible, terrible, actual, attempt, awful",
          "<b>Topic 27</b><br>Words: horrible, awful, terrible, absolutely, fing",
          "<b>Topic 27</b><br>Words: travesty, terrible, horrible, awful, sorry",
          "<b>Topic 27</b><br>Words: atrocious, absolutely, terrible, awful, horrible",
          "<b>Topic 27</b><br>Words: terrible, horrible, awful, lol, god",
          "<b>Topic 27</b><br>Words: awful, fing, terrible, horrible, parent",
          "<b>Topic 27</b><br>Words: terrible, ass, actually, shit, awful",
          "<b>Topic 27</b><br>Words: mechanically, terrible, awful, absolutely, horrible",
          "<b>Topic 27</b><br>Words: terrible, horrible, atrocious, awful, excuse",
          "<b>Topic 27</b><br>Words: terrible, awful, horrible, dissapointing, horrendous",
          "<b>Topic 27</b><br>Words: terrible, horrible, absolutely, awful, fing"
         ],
         "marker": {
          "color": "#CC79A7"
         },
         "mode": "lines",
         "name": "27_terrible_awful_horrible_absolutely",
         "type": "scatter",
         "x": [
          "2014-11-10T23:59:24.900000",
          "2015-12-16T01:58:32.700000",
          "2016-07-03T02:58:06.600000",
          "2018-02-23T05:56:48.300000",
          "2019-03-30T07:55:56.100000",
          "2019-10-16T08:55:30",
          "2020-05-03T09:55:03.900000",
          "2020-11-19T10:54:37.800000",
          "2021-06-07T11:54:11.700000",
          "2021-12-24T12:53:45.600000",
          "2022-07-12T13:53:19.500000",
          "2023-01-28T14:52:53.400000",
          "2023-08-16T15:52:27.300000",
          "2024-03-03T16:52:01.200000",
          "2024-09-19T17:51:35.100000"
         ],
         "y": [
          2,
          1,
          2,
          1,
          2,
          2,
          5,
          1,
          5,
          7,
          3,
          2,
          4,
          10,
          8
         ]
        },
        {
         "hoverinfo": "text",
         "hovertext": [
          "<b>Topic 28</b><br>Words: censor, incredibly, sound, tin, enchant",
          "<b>Topic 28</b><br>Words: dawn, menues, indication, intro, overcomable",
          "<b>Topic 28</b><br>Words: couldnt, thats, japanese, publisher, reoccuring",
          "<b>Topic 28</b><br>Words: stard, vas, barrel, manage, coating",
          "<b>Topic 28</b><br>Words: lack, everythig, massiive, afar, dificulty",
          "<b>Topic 28</b><br>Words: climax, surface, gripe, satisfy, remind",
          "<b>Topic 28</b><br>Words: moderately, aggroed, stitch, complex, interconnected",
          "<b>Topic 28</b><br>Words: punishes, estus, health, nihilism, toooooooo",
          "<b>Topic 28</b><br>Words: combat, quality, bare, feel, design",
          "<b>Topic 28</b><br>Words: dante, inferno, builder, generic, clunky",
          "<b>Topic 28</b><br>Words: team, quality, element, metapod, animation",
          "<b>Topic 28</b><br>Words: lame, travel, unbalance, final, sharp",
          "<b>Topic 28</b><br>Words: audio, attacker, seem, sound, placeholder",
          "<b>Topic 28</b><br>Words: continuity, path, movement, exploration, also",
          "<b>Topic 28</b><br>Words: mechanically, obnoxious, ambush, slow, combat",
          "<b>Topic 28</b><br>Words: annoy, gameplay, idea, emerald, core"
         ],
         "marker": {
          "color": "#E69F00"
         },
         "mode": "lines",
         "name": "28_combat_animation_make_feel",
         "type": "scatter",
         "x": [
          "2014-04-20T22:58:39.521999",
          "2014-11-10T23:59:24.900000",
          "2015-05-30T00:58:58.800000",
          "2017-01-19T03:57:40.500000",
          "2017-08-07T04:57:14.400000",
          "2018-09-11T06:56:22.200000",
          "2019-10-16T08:55:30",
          "2020-05-03T09:55:03.900000",
          "2020-11-19T10:54:37.800000",
          "2021-06-07T11:54:11.700000",
          "2021-12-24T12:53:45.600000",
          "2022-07-12T13:53:19.500000",
          "2023-01-28T14:52:53.400000",
          "2023-08-16T15:52:27.300000",
          "2024-03-03T16:52:01.200000",
          "2024-09-19T17:51:35.100000"
         ],
         "y": [
          7,
          2,
          2,
          3,
          1,
          1,
          1,
          3,
          8,
          1,
          6,
          1,
          3,
          5,
          5,
          5
         ]
        },
        {
         "hoverinfo": "text",
         "hovertext": [
          "<b>Topic 29</b><br>Words: predeccesor, tragically, league, reputation, highly",
          "<b>Topic 29</b><br>Words: series, paywall, visceral, framerates, reveiw",
          "<b>Topic 29</b><br>Words: shortly, bloodborne, absent, busy, creativity",
          "<b>Topic 29</b><br>Words: bloodborne, series, olist, lp, installment",
          "<b>Topic 29</b><br>Words: drumroll, umemeorable, fanatic, downvoting, lorethrough",
          "<b>Topic 29</b><br>Words: plaus, exept, beginner, dissapointment, recomend",
          "<b>Topic 29</b><br>Words: bloodborne, series, anooying, eforced, uninsipiring",
          "<b>Topic 29</b><br>Words: series, entry, game, shortbus, homunculus",
          "<b>Topic 29</b><br>Words: series, bloodborne, maybe, recommend, dsii",
          "<b>Topic 29</b><br>Words: excellence, series, harder, skeptical, overreact",
          "<b>Topic 29</b><br>Words: bloodborne, series, game, recommend, sixty",
          "<b>Topic 29</b><br>Words: series, bloodborne, new, remake, sup",
          "<b>Topic 29</b><br>Words: ee, trilogy, recommend, deepen, early",
          "<b>Topic 29</b><br>Words: incredible, series, bloodbore, outlier, downtime",
          "<b>Topic 29</b><br>Words: series, avidly, stubbornly, undoes, speedometer",
          "<b>Topic 29</b><br>Words: catalog, game, attacking, fanboy, fairness",
          "<b>Topic 29</b><br>Words: conscious, listen, visuals, genuinely, placement",
          "<b>Topic 29</b><br>Words: series, bloodborne, trilogy, game, determine"
         ],
         "marker": {
          "color": "#56B4E9"
         },
         "mode": "lines",
         "name": "29_series_bloodborne_game_recommend",
         "type": "scatter",
         "x": [
          "2014-04-20T22:58:39.521999",
          "2014-11-10T23:59:24.900000",
          "2015-05-30T00:58:58.800000",
          "2015-12-16T01:58:32.700000",
          "2017-01-19T03:57:40.500000",
          "2017-08-07T04:57:14.400000",
          "2018-02-23T05:56:48.300000",
          "2019-03-30T07:55:56.100000",
          "2019-10-16T08:55:30",
          "2020-05-03T09:55:03.900000",
          "2020-11-19T10:54:37.800000",
          "2021-06-07T11:54:11.700000",
          "2021-12-24T12:53:45.600000",
          "2022-07-12T13:53:19.500000",
          "2023-01-28T14:52:53.400000",
          "2023-08-16T15:52:27.300000",
          "2024-03-03T16:52:01.200000",
          "2024-09-19T17:51:35.100000"
         ],
         "y": [
          1,
          3,
          2,
          4,
          2,
          1,
          4,
          3,
          4,
          2,
          5,
          5,
          3,
          2,
          4,
          2,
          1,
          5
         ]
        },
        {
         "hoverinfo": "text",
         "hovertext": [
          "<b>Topic 30</b><br>Words: good, one, uh, nice, happy",
          "<b>Topic 30</b><br>Words: great, good, one, uh, nice",
          "<b>Topic 30</b><br>Words: wow, good, uh, nice, happy",
          "<b>Topic 30</b><br>Words: good, uh, nice, happy, glad",
          "<b>Topic 30</b><br>Words: good, uh, nice, happy, glad",
          "<b>Topic 30</b><br>Words: thank, amazing, good, uh, nice",
          "<b>Topic 30</b><br>Words: good, nice, uh, happy, glad",
          "<b>Topic 30</b><br>Words: good, one, uh, nice, happy",
          "<b>Topic 30</b><br>Words: good, probably, well, get, uh",
          "<b>Topic 30</b><br>Words: good, one, uh, nice, happy",
          "<b>Topic 30</b><br>Words: good, thanks, two, uh, nice",
          "<b>Topic 30</b><br>Words: meh, good, nice, uh, happy",
          "<b>Topic 30</b><br>Words: good, uh, happy, do, nice",
          "<b>Topic 30</b><br>Words: good, perfect, fair, story, uh",
          "<b>Topic 30</b><br>Words: glad, good, great, uh, nice"
         ],
         "marker": {
          "color": "#009E73"
         },
         "mode": "lines",
         "name": "30_good_uh_nice_happy",
         "type": "scatter",
         "x": [
          "2014-04-20T22:58:39.521999",
          "2014-11-10T23:59:24.900000",
          "2015-12-16T01:58:32.700000",
          "2016-07-03T02:58:06.600000",
          "2017-01-19T03:57:40.500000",
          "2018-02-23T05:56:48.300000",
          "2019-10-16T08:55:30",
          "2020-05-03T09:55:03.900000",
          "2020-11-19T10:54:37.800000",
          "2021-06-07T11:54:11.700000",
          "2021-12-24T12:53:45.600000",
          "2023-01-28T14:52:53.400000",
          "2023-08-16T15:52:27.300000",
          "2024-03-03T16:52:01.200000",
          "2024-09-19T17:51:35.100000"
         ],
         "y": [
          3,
          2,
          2,
          1,
          2,
          2,
          3,
          2,
          5,
          4,
          6,
          3,
          6,
          6,
          4
         ]
        },
        {
         "hoverinfo": "text",
         "hovertext": [
          "<b>Topic 31</b><br>Words: fromsoft, unforgivingness, server, turn, fromsoftware",
          "<b>Topic 31</b><br>Words: alienate, fromsoft, server, turn, owner",
          "<b>Topic 31</b><br>Words: fromsoft, server, plaster, turn, pirate",
          "<b>Topic 31</b><br>Words: fromsoft, server, typical, turn, patch",
          "<b>Topic 31</b><br>Words: fromsoft, server, turn, delit, shitties",
          "<b>Topic 31</b><br>Words: ripoff, fromsoftware, fromsoft, server, turn",
          "<b>Topic 31</b><br>Words: fromsoft, please, server, turn, get",
          "<b>Topic 31</b><br>Words: fromsoft, server, turn, develepor, hr",
          "<b>Topic 31</b><br>Words: server, fromsoft, turn, fromsoftware, worst",
          "<b>Topic 31</b><br>Words: wrap, fromsoft, server, turn, head",
          "<b>Topic 31</b><br>Words: fromsoft, fromslop, server, turn, fromsoftware",
          "<b>Topic 31</b><br>Words: fromsoft, server, turn, fromsoftware, kusoge",
          "<b>Topic 31</b><br>Words: fromsoft, server, turn, fromsoftw, fromsoftwares"
         ],
         "marker": {
          "color": "#F0E442"
         },
         "mode": "lines",
         "name": "31_fromsoft_server_turn_fromsoftware",
         "type": "scatter",
         "x": [
          "2014-11-10T23:59:24.900000",
          "2016-07-03T02:58:06.600000",
          "2018-02-23T05:56:48.300000",
          "2019-10-16T08:55:30",
          "2020-05-03T09:55:03.900000",
          "2020-11-19T10:54:37.800000",
          "2021-06-07T11:54:11.700000",
          "2021-12-24T12:53:45.600000",
          "2022-07-12T13:53:19.500000",
          "2023-01-28T14:52:53.400000",
          "2023-08-16T15:52:27.300000",
          "2024-03-03T16:52:01.200000",
          "2024-09-19T17:51:35.100000"
         ],
         "y": [
          2,
          1,
          1,
          2,
          2,
          2,
          1,
          6,
          4,
          1,
          7,
          9,
          10
         ]
        },
        {
         "hoverinfo": "text",
         "hovertext": [
          "<b>Topic 32</b><br>Words: hate, da, gamei, trend, polish",
          "<b>Topic 32</b><br>Words: recomend, hate, gamei, many, love",
          "<b>Topic 32</b><br>Words: hate, gamei, dislike, elsre, bullshish",
          "<b>Topic 32</b><br>Words: hate, japan, thanks, gamei, dislike",
          "<b>Topic 32</b><br>Words: throught, hate, gamei, never, much",
          "<b>Topic 32</b><br>Words: hate, thank, gamei, god, dislike",
          "<b>Topic 32</b><br>Words: hate, gamei, belive, wagon, got",
          "<b>Topic 32</b><br>Words: hate, gamei, somebody, dislike, man",
          "<b>Topic 32</b><br>Words: hate, dislike, gamei, bullshish, immeasurable",
          "<b>Topic 32</b><br>Words: gamei, hate, nvm, dislike, sorry",
          "<b>Topic 32</b><br>Words: hate, cell, gamei, body, cause",
          "<b>Topic 32</b><br>Words: hate, god, gamei, dislike, elsre",
          "<b>Topic 32</b><br>Words: hate, gamei, dislike, elsre, gameit",
          "<b>Topic 32</b><br>Words: hate, hater, gamei, live, right"
         ],
         "marker": {
          "color": "#D55E00"
         },
         "mode": "lines",
         "name": "32_gamei_hate_dislike_gameit",
         "type": "scatter",
         "x": [
          "2014-11-10T23:59:24.900000",
          "2016-07-03T02:58:06.600000",
          "2017-08-07T04:57:14.400000",
          "2018-02-23T05:56:48.300000",
          "2019-03-30T07:55:56.100000",
          "2020-05-03T09:55:03.900000",
          "2020-11-19T10:54:37.800000",
          "2021-06-07T11:54:11.700000",
          "2021-12-24T12:53:45.600000",
          "2022-07-12T13:53:19.500000",
          "2023-01-28T14:52:53.400000",
          "2023-08-16T15:52:27.300000",
          "2024-03-03T16:52:01.200000",
          "2024-09-19T17:51:35.100000"
         ],
         "y": [
          2,
          1,
          1,
          2,
          1,
          3,
          1,
          5,
          8,
          4,
          3,
          2,
          9,
          6
         ]
        },
        {
         "hoverinfo": "text",
         "hovertext": [
          "<b>Topic 33</b><br>Words: fecal, matter, poo, fart, poopoo",
          "<b>Topic 33</b><br>Words: poopy, binding, clunky, poo, fart",
          "<b>Topic 33</b><br>Words: poo, poopies, fart, mighty, church",
          "<b>Topic 33</b><br>Words: morphine, wad, swamp, poo, fart",
          "<b>Topic 33</b><br>Words: pee, poo, poopy, fart, poopoo",
          "<b>Topic 33</b><br>Words: gollum, baby, poo, fart, poopoo",
          "<b>Topic 33</b><br>Words: poopoo, poo, fart, poop, poopy",
          "<b>Topic 33</b><br>Words: poopoo, anthem, unbiased, poggers, sewage",
          "<b>Topic 33</b><br>Words: poopoo, poo, fart, poopy, sewage",
          "<b>Topic 33</b><br>Words: fart, poo, poopoo, un, cuckoldry",
          "<b>Topic 33</b><br>Words: poo, poopoo, fart, matter, poop",
          "<b>Topic 33</b><br>Words: poo, fart, dwayne, fartbox, johnson",
          "<b>Topic 33</b><br>Words: poopoo, poop, stinky, poo, fart",
          "<b>Topic 33</b><br>Words: poo, butt, fart, poopoo, poop",
          "<b>Topic 33</b><br>Words: poo, fart, ballsack, buns, lowkey"
         ],
         "marker": {
          "color": "#0072B2"
         },
         "mode": "lines",
         "name": "33_poo_fart_poopoo_poop",
         "type": "scatter",
         "x": [
          "2014-04-20T22:58:39.521999",
          "2015-12-16T01:58:32.700000",
          "2017-01-19T03:57:40.500000",
          "2018-09-11T06:56:22.200000",
          "2019-03-30T07:55:56.100000",
          "2019-10-16T08:55:30",
          "2020-05-03T09:55:03.900000",
          "2020-11-19T10:54:37.800000",
          "2021-06-07T11:54:11.700000",
          "2021-12-24T12:53:45.600000",
          "2022-07-12T13:53:19.500000",
          "2023-01-28T14:52:53.400000",
          "2023-08-16T15:52:27.300000",
          "2024-03-03T16:52:01.200000",
          "2024-09-19T17:51:35.100000"
         ],
         "y": [
          1,
          1,
          4,
          1,
          2,
          1,
          1,
          4,
          12,
          3,
          5,
          4,
          2,
          1,
          6
         ]
        },
        {
         "hoverinfo": "text",
         "hovertext": [
          "<b>Topic 34</b><br>Words: server, month, fix, bring, back",
          "<b>Topic 34</b><br>Words: server, fix, back, shitheads, bootlicker",
          "<b>Topic 34</b><br>Words: logging, server, tire, everytime, quit"
         ],
         "marker": {
          "color": "#CC79A7"
         },
         "mode": "lines",
         "name": "34_server_month_fix_bring",
         "type": "scatter",
         "x": [
          "2021-12-24T12:53:45.600000",
          "2022-07-12T13:53:19.500000",
          "2024-09-19T17:51:35.100000"
         ],
         "y": [
          37,
          9,
          1
         ]
        },
        {
         "hoverinfo": "text",
         "hovertext": [
          "<b>Topic 35</b><br>Words: ich, da, ist, bin, zum",
          "<b>Topic 35</b><br>Words: vraiment, tu, que, de, danni",
          "<b>Topic 35</b><br>Words: peor, el, juego, haber, pude",
          "<b>Topic 35</b><br>Words: il, problema, di, la, salvare",
          "<b>Topic 35</b><br>Words: ist, da, denke, sich, kampfsystem",
          "<b>Topic 35</b><br>Words: mierda, juego, que, de, jogo",
          "<b>Topic 35</b><br>Words: que, se, jogo, de, curte",
          "<b>Topic 35</b><br>Words: que, en, por, una, de",
          "<b>Topic 35</b><br>Words: de, el, molinete, febrero, desde",
          "<b>Topic 35</b><br>Words: jogo, de, uma, frr, ceux",
          "<b>Topic 35</b><br>Words: de, jogo, que, mais, merda",
          "<b>Topic 35</b><br>Words: jogo, de, por, voc, ele",
          "<b>Topic 35</b><br>Words: vel, que, de, el, jogo",
          "<b>Topic 35</b><br>Words: jogo, de, pior, que, vida"
         ],
         "marker": {
          "color": "#E69F00"
         },
         "mode": "lines",
         "name": "35_de_jogo_que_el",
         "type": "scatter",
         "x": [
          "2014-04-20T22:58:39.521999",
          "2015-12-16T01:58:32.700000",
          "2016-07-03T02:58:06.600000",
          "2017-08-07T04:57:14.400000",
          "2018-02-23T05:56:48.300000",
          "2019-10-16T08:55:30",
          "2020-11-19T10:54:37.800000",
          "2021-06-07T11:54:11.700000",
          "2021-12-24T12:53:45.600000",
          "2022-07-12T13:53:19.500000",
          "2023-01-28T14:52:53.400000",
          "2023-08-16T15:52:27.300000",
          "2024-03-03T16:52:01.200000",
          "2024-09-19T17:51:35.100000"
         ],
         "y": [
          1,
          2,
          1,
          2,
          1,
          1,
          3,
          3,
          2,
          4,
          7,
          4,
          9,
          7
         ]
        },
        {
         "hoverinfo": "text",
         "hovertext": [
          "<b>Topic 36</b><br>Words: murder, windows, corrupt, file, download",
          "<b>Topic 36</b><br>Words: solution, unable, save, search, saddening",
          "<b>Topic 36</b><br>Words: save, butt, download, ass, cash",
          "<b>Topic 36</b><br>Words: save, repetative, file, reccommend, configure",
          "<b>Topic 36</b><br>Words: save, happen, doeas, file, charachter",
          "<b>Topic 36</b><br>Words: improperly, minutesthe, save, data, exit",
          "<b>Topic 36</b><br>Words: save, error, plss, file, menu",
          "<b>Topic 36</b><br>Words: transfer, didnt, save, fuck, file",
          "<b>Topic 36</b><br>Words: save, error, boot, resolution, kick",
          "<b>Topic 36</b><br>Words: save, data, message, file, cancel",
          "<b>Topic 36</b><br>Words: save, corrupt, file, error, sort",
          "<b>Topic 36</b><br>Words: cleanseal, recon, save, strike, file",
          "<b>Topic 36</b><br>Words: save, delete, corrupted, data, corrupt",
          "<b>Topic 36</b><br>Words: save, progress, request, cancel, cuz",
          "<b>Topic 36</b><br>Words: step, delete, cant, save, promptly",
          "<b>Topic 36</b><br>Words: data, mulu, thanfully, asu, save"
         ],
         "marker": {
          "color": "#56B4E9"
         },
         "mode": "lines",
         "name": "36_save_file_data_delete",
         "type": "scatter",
         "x": [
          "2014-04-20T22:58:39.521999",
          "2014-11-10T23:59:24.900000",
          "2015-05-30T00:58:58.800000",
          "2016-07-03T02:58:06.600000",
          "2018-02-23T05:56:48.300000",
          "2018-09-11T06:56:22.200000",
          "2019-10-16T08:55:30",
          "2020-05-03T09:55:03.900000",
          "2020-11-19T10:54:37.800000",
          "2021-06-07T11:54:11.700000",
          "2021-12-24T12:53:45.600000",
          "2022-07-12T13:53:19.500000",
          "2023-01-28T14:52:53.400000",
          "2023-08-16T15:52:27.300000",
          "2024-03-03T16:52:01.200000",
          "2024-09-19T17:51:35.100000"
         ],
         "y": [
          1,
          2,
          2,
          2,
          2,
          3,
          6,
          1,
          3,
          5,
          2,
          2,
          4,
          4,
          3,
          3
         ]
        },
        {
         "hoverinfo": "text",
         "hovertext": [
          "<b>Topic 37</b><br>Words: fluffy, tail, dog, nigger, shit",
          "<b>Topic 37</b><br>Words: fish, ign, ai, dog, year",
          "<b>Topic 37</b><br>Words: spider, dog, nigger, shit, water",
          "<b>Topic 37</b><br>Words: dog, shit, nigger, water, dogwater",
          "<b>Topic 37</b><br>Words: dog, fucknig, gook, cloak, smelly",
          "<b>Topic 37</b><br>Words: dog, proper, shit, actual, nigger",
          "<b>Topic 37</b><br>Words: castrate, dog, shit, nigger, make",
          "<b>Topic 37</b><br>Words: dogwater, dog, video, shit, complete",
          "<b>Topic 37</b><br>Words: dog, shit, nigger, water, kish",
          "<b>Topic 37</b><br>Words: dog, water, nigger, shit, dogwater",
          "<b>Topic 37</b><br>Words: dog, pisser, redditors, shit, water",
          "<b>Topic 37</b><br>Words: nigger, dog, shit, water, niotvh",
          "<b>Topic 37</b><br>Words: dog, water, shit, nigger, actual",
          "<b>Topic 37</b><br>Words: dog, ayo, shit, vote, mandatory"
         ],
         "marker": {
          "color": "#009E73"
         },
         "mode": "lines",
         "name": "37_dog_nigger_shit_water",
         "type": "scatter",
         "x": [
          "2014-04-20T22:58:39.521999",
          "2015-05-30T00:58:58.800000",
          "2015-12-16T01:58:32.700000",
          "2018-09-11T06:56:22.200000",
          "2019-03-30T07:55:56.100000",
          "2020-05-03T09:55:03.900000",
          "2020-11-19T10:54:37.800000",
          "2021-06-07T11:54:11.700000",
          "2021-12-24T12:53:45.600000",
          "2022-07-12T13:53:19.500000",
          "2023-01-28T14:52:53.400000",
          "2023-08-16T15:52:27.300000",
          "2024-03-03T16:52:01.200000",
          "2024-09-19T17:51:35.100000"
         ],
         "y": [
          1,
          1,
          1,
          1,
          1,
          1,
          1,
          2,
          8,
          1,
          5,
          9,
          7,
          6
         ]
        },
        {
         "hoverinfo": "text",
         "hovertext": [
          "<b>Topic 38</b><br>Words: successor, sky, exepect, preceeds, retool",
          "<b>Topic 38</b><br>Words: zombie, pennys, da, shadows, ment",
          "<b>Topic 38</b><br>Words: creative, rain, unforgettable, discovery, reach",
          "<b>Topic 38</b><br>Words: replace, dissapointing, aka, metaphorical, spoke",
          "<b>Topic 38</b><br>Words: skulltulas, lue, arsed, comparing, homicidal",
          "<b>Topic 38</b><br>Words: fandom, walkthroughs, bundle, registred, ejoyable",
          "<b>Topic 38</b><br>Words: atmosphere, redesign, dislike, original, variety",
          "<b>Topic 38</b><br>Words: dry, consedered, mmorpg, breathing, focus",
          "<b>Topic 38</b><br>Words: occupied, irrationally, superfans, asian, tale",
          "<b>Topic 38</b><br>Words: lore, runescape, midair, reliably, immediate",
          "<b>Topic 38</b><br>Words: lore, series, iii, vibe, backstabbing",
          "<b>Topic 38</b><br>Words: navigation, interresting, hordes, geographically, confuse",
          "<b>Topic 38</b><br>Words: building, fluff, scattershot, pathos, pastiche",
          "<b>Topic 38</b><br>Words: video, tf, soulslikes, agony, admittedly",
          "<b>Topic 38</b><br>Words: blighttown, game, storytelling, mind, exception",
          "<b>Topic 38</b><br>Words: dogshit, hype, quaalag, mansion, intellivision",
          "<b>Topic 38</b><br>Words: repeat, gained, glad, sloppily, outclass"
         ],
         "marker": {
          "color": "#F0E442"
         },
         "mode": "lines",
         "name": "38_lore_world_gameplay_series",
         "type": "scatter",
         "x": [
          "2014-04-20T22:58:39.521999",
          "2014-11-10T23:59:24.900000",
          "2015-05-30T00:58:58.800000",
          "2015-12-16T01:58:32.700000",
          "2016-07-03T02:58:06.600000",
          "2017-01-19T03:57:40.500000",
          "2018-02-23T05:56:48.300000",
          "2018-09-11T06:56:22.200000",
          "2019-10-16T08:55:30",
          "2020-11-19T10:54:37.800000",
          "2021-06-07T11:54:11.700000",
          "2021-12-24T12:53:45.600000",
          "2022-07-12T13:53:19.500000",
          "2023-01-28T14:52:53.400000",
          "2023-08-16T15:52:27.300000",
          "2024-03-03T16:52:01.200000",
          "2024-09-19T17:51:35.100000"
         ],
         "y": [
          4,
          2,
          1,
          2,
          2,
          1,
          3,
          2,
          2,
          2,
          7,
          2,
          1,
          5,
          4,
          3,
          2
         ]
        },
        {
         "hoverinfo": "text",
         "hovertext": [
          "<b>Topic 39</b><br>Words: big, let, like, look, hat",
          "<b>Topic 39</b><br>Words: pretty, much, like, hat, skunk",
          "<b>Topic 39</b><br>Words: dork, like, hat, tittty, skunk",
          "<b>Topic 39</b><br>Words: understand, people, like, hat, tittty",
          "<b>Topic 39</b><br>Words: lol, like, hat, skunk, tittty",
          "<b>Topic 39</b><br>Words: tittty, wank, lady, doesnt, big",
          "<b>Topic 39</b><br>Words: product, like, hat, skunk, tittty",
          "<b>Topic 39</b><br>Words: large, as, probably, like, hat",
          "<b>Topic 39</b><br>Words: bluntly, moment, try, different, long",
          "<b>Topic 39</b><br>Words: earth, hat, ass, try, longer",
          "<b>Topic 39</b><br>Words: sized, pyromancy, hat, whoever, head",
          "<b>Topic 39</b><br>Words: like, hat, skunk, tittty, try",
          "<b>Topic 39</b><br>Words: skunk, dare, people, short, like",
          "<b>Topic 39</b><br>Words: examine, cbt, ur, head, like",
          "<b>Topic 39</b><br>Words: monkey, hat, large, human, like"
         ],
         "marker": {
          "color": "#D55E00"
         },
         "mode": "lines",
         "name": "39_like_hat_skunk_tittty",
         "type": "scatter",
         "x": [
          "2014-04-20T22:58:39.521999",
          "2014-11-10T23:59:24.900000",
          "2016-07-03T02:58:06.600000",
          "2017-01-19T03:57:40.500000",
          "2017-08-07T04:57:14.400000",
          "2018-02-23T05:56:48.300000",
          "2019-10-16T08:55:30",
          "2020-11-19T10:54:37.800000",
          "2021-06-07T11:54:11.700000",
          "2021-12-24T12:53:45.600000",
          "2022-07-12T13:53:19.500000",
          "2023-01-28T14:52:53.400000",
          "2023-08-16T15:52:27.300000",
          "2024-03-03T16:52:01.200000",
          "2024-09-19T17:51:35.100000"
         ],
         "y": [
          2,
          1,
          1,
          1,
          1,
          1,
          1,
          3,
          4,
          6,
          5,
          3,
          6,
          4,
          5
         ]
        },
        {
         "hoverinfo": "text",
         "hovertext": [
          "<b>Topic 40</b><br>Words: budy, goose, campagin, co, op",
          "<b>Topic 40</b><br>Words: summon, coop, co, op, phantom",
          "<b>Topic 40</b><br>Words: pairing, largely, coop, imo, update",
          "<b>Topic 40</b><br>Words: co, summon, op, friend, illegal",
          "<b>Topic 40</b><br>Words: summon, sign, co, freeze, op",
          "<b>Topic 40</b><br>Words: summon, friend, vanila, relitivly, embarassed",
          "<b>Topic 40</b><br>Words: summon, fiix, co, op, doesnt",
          "<b>Topic 40</b><br>Words: summon, account, friend, bandai, trouble",
          "<b>Topic 40</b><br>Words: friend, summon, multiplayer, cant, matter",
          "<b>Topic 40</b><br>Words: co, whatever, op, offer, literally",
          "<b>Topic 40</b><br>Words: bandico, ight, fucked, remasterd, summoning",
          "<b>Topic 40</b><br>Words: friend, multiplayer, summon, mine, altered",
          "<b>Topic 40</b><br>Words: matchmaking, wheres, co, op, ptd",
          "<b>Topic 40</b><br>Words: friend, info, crap, co, op",
          "<b>Topic 40</b><br>Words: nat, infrastructure, summon, coc, progressively"
         ],
         "marker": {
          "color": "#0072B2"
         },
         "mode": "lines",
         "name": "40_summon_friend_co_op",
         "type": "scatter",
         "x": [
          "2014-04-20T22:58:39.521999",
          "2014-11-10T23:59:24.900000",
          "2015-05-30T00:58:58.800000",
          "2015-12-16T01:58:32.700000",
          "2016-07-03T02:58:06.600000",
          "2017-01-19T03:57:40.500000",
          "2017-08-07T04:57:14.400000",
          "2018-02-23T05:56:48.300000",
          "2019-10-16T08:55:30",
          "2020-05-03T09:55:03.900000",
          "2020-11-19T10:54:37.800000",
          "2021-06-07T11:54:11.700000",
          "2021-12-24T12:53:45.600000",
          "2023-01-28T14:52:53.400000",
          "2024-09-19T17:51:35.100000"
         ],
         "y": [
          2,
          6,
          1,
          4,
          3,
          4,
          3,
          2,
          2,
          1,
          2,
          3,
          5,
          3,
          2
         ]
        },
        {
         "hoverinfo": "text",
         "hovertext": [
          "<b>Topic 41</b><br>Words: fuck, ahhhhhhhhhhhhhhhhh, canonical, aahhhhhhhhhhhhhhhhhhhhhhhhhhhhhhhhhhhhhhhhhhhhhhhhhhhhhhhhhhhhhhhhhhhhhhhhhhhhhhhhhhhhhhhhhhhhhhhhhhhhhhhhhhhhhhhhhhhhhhhhhhhhhhhhhhhhhhhhhhhhhhhhhhhhhhhhhhhhhhhhhhhhhhhhhhhhhhhhhhhhhhhhhhhhhhhhhhhhhhhaddghhhhhhhhhhhhhhh, fuckinfg",
          "<b>Topic 41</b><br>Words: fuck, team, ahhhhhhhhhhhhhhhhh, canonical, aahhhhhhhhhhhhhhhhhhhhhhhhhhhhhhhhhhhhhhhhhhhhhhhhhhhhhhhhhhhhhhhhhhhhhhhhhhhhhhhhhhhhhhhhhhhhhhhhhhhhhhhhhhhhhhhhhhhhhhhhhhhhhhhhhhhhhhhhhhhhhhhhhhhhhhhhhhhhhhhhhhhhhhhhhhhhhhhhhhhhhhhhhhhhhhhhhhhhhhhaddghhhhhhhhhhhhhhh",
          "<b>Topic 41</b><br>Words: fuck, canonical, fuckinfg, ahhhhhhhhhhhhhhhhh, aahhhhhhhhhhhhhhhhhhhhhhhhhhhhhhhhhhhhhhhhhhhhhhhhhhhhhhhhhhhhhhhhhhhhhhhhhhhhhhhhhhhhhhhhhhhhhhhhhhhhhhhhhhhhhhhhhhhhhhhhhhhhhhhhhhhhhhhhhhhhhhhhhhhhhhhhhhhhhhhhhhhhhhhhhhhhhhhhhhhhhhhhhhhhhhhhhhhhhhhaddghhhhhhhhhhhhhhh",
          "<b>Topic 41</b><br>Words: aid, fuck, fucking, ahhhhhhhhhhhhhhhhh, canonical",
          "<b>Topic 41</b><br>Words: shut, fuck, ahhhhhhhhhhhhhhhhh, canonical, aahhhhhhhhhhhhhhhhhhhhhhhhhhhhhhhhhhhhhhhhhhhhhhhhhhhhhhhhhhhhhhhhhhhhhhhhhhhhhhhhhhhhhhhhhhhhhhhhhhhhhhhhhhhhhhhhhhhhhhhhhhhhhhhhhhhhhhhhhhhhhhhhhhhhhhhhhhhhhhhhhhhhhhhhhhhhhhhhhhhhhhhhhhhhhhhhhhhhhhhaddghhhhhhhhhhhhhhh",
          "<b>Topic 41</b><br>Words: sentinels, fuck, ahhhhhhhhhhhhhhhhh, canonical, aahhhhhhhhhhhhhhhhhhhhhhhhhhhhhhhhhhhhhhhhhhhhhhhhhhhhhhhhhhhhhhhhhhhhhhhhhhhhhhhhhhhhhhhhhhhhhhhhhhhhhhhhhhhhhhhhhhhhhhhhhhhhhhhhhhhhhhhhhhhhhhhhhhhhhhhhhhhhhhhhhhhhhhhhhhhhhhhhhhhhhhhhhhhhhhhhhhhhhhhaddghhhhhhhhhhhhhhh",
          "<b>Topic 41</b><br>Words: fuck, ahhhhhhhhhhhhhhhhh, canonical, aahhhhhhhhhhhhhhhhhhhhhhhhhhhhhhhhhhhhhhhhhhhhhhhhhhhhhhhhhhhhhhhhhhhhhhhhhhhhhhhhhhhhhhhhhhhhhhhhhhhhhhhhhhhhhhhhhhhhhhhhhhhhhhhhhhhhhhhhhhhhhhhhhhhhhhhhhhhhhhhhhhhhhhhhhhhhhhhhhhhhhhhhhhhhhhhhhhhhhhhaddghhhhhhhhhhhhhhh, fuckinfg",
          "<b>Topic 41</b><br>Words: fuck, platforming, fucking, ahhhhhhhhhhhhhhhhh, canonical",
          "<b>Topic 41</b><br>Words: fuck, shit, ahhhhhhhhhhhhhhhhh, canonical, aahhhhhhhhhhhhhhhhhhhhhhhhhhhhhhhhhhhhhhhhhhhhhhhhhhhhhhhhhhhhhhhhhhhhhhhhhhhhhhhhhhhhhhhhhhhhhhhhhhhhhhhhhhhhhhhhhhhhhhhhhhhhhhhhhhhhhhhhhhhhhhhhhhhhhhhhhhhhhhhhhhhhhhhhhhhhhhhhhhhhhhhhhhhhhhhhhhhhhhhaddghhhhhhhhhhhhhhh",
          "<b>Topic 41</b><br>Words: aahhhhhhhhhhhhhhhhhhhhhhhhhhhhhhhhhhhhhhhhhhhhhhhhhhhhhhhhhhhhhhhhhhhhhhhhhhhhhhhhhhhhhhhhhhhhhhhhhhhhhhhhhhhhhhhhhhhhhhhhhhhhhhhhhhhhhhhhhhhhhhhhhhhhhhhhhhhhhhhhhhhhhhhhhhhhhhhhhhhhhhhhhhhhhhhhhhhhhhhaddghhhhhhhhhhhhhhh, fuck, veer, ahhhhhhhhhhhhhhhhh, canonical",
          "<b>Topic 41</b><br>Words: ahhhhhhhhhhhhhhhhh, fuck, yea, shit, canonical",
          "<b>Topic 41</b><br>Words: fuck, ahhhhhhhhhhhhhhhhh, canonical, aahhhhhhhhhhhhhhhhhhhhhhhhhhhhhhhhhhhhhhhhhhhhhhhhhhhhhhhhhhhhhhhhhhhhhhhhhhhhhhhhhhhhhhhhhhhhhhhhhhhhhhhhhhhhhhhhhhhhhhhhhhhhhhhhhhhhhhhhhhhhhhhhhhhhhhhhhhhhhhhhhhhhhhhhhhhhhhhhhhhhhhhhhhhhhhhhhhhhhhhaddghhhhhhhhhhhhhhh, fuckinfg",
          "<b>Topic 41</b><br>Words: fuck, ahhhhhhhhhhhhhhhhh, canonical, aahhhhhhhhhhhhhhhhhhhhhhhhhhhhhhhhhhhhhhhhhhhhhhhhhhhhhhhhhhhhhhhhhhhhhhhhhhhhhhhhhhhhhhhhhhhhhhhhhhhhhhhhhhhhhhhhhhhhhhhhhhhhhhhhhhhhhhhhhhhhhhhhhhhhhhhhhhhhhhhhhhhhhhhhhhhhhhhhhhhhhhhhhhhhhhhhhhhhhhhaddghhhhhhhhhhhhhhh, fuckinfg",
          "<b>Topic 41</b><br>Words: fuck, mess, ahhhhhhhhhhhhhhhhh, canonical, aahhhhhhhhhhhhhhhhhhhhhhhhhhhhhhhhhhhhhhhhhhhhhhhhhhhhhhhhhhhhhhhhhhhhhhhhhhhhhhhhhhhhhhhhhhhhhhhhhhhhhhhhhhhhhhhhhhhhhhhhhhhhhhhhhhhhhhhhhhhhhhhhhhhhhhhhhhhhhhhhhhhhhhhhhhhhhhhhhhhhhhhhhhhhhhhhhhhhhhhaddghhhhhhhhhhhhhhh",
          "<b>Topic 41</b><br>Words: fuck, man, enough, ahhhhhhhhhhhhhhhhh, canonical",
          "<b>Topic 41</b><br>Words: fuck, lol, ahhhhhhhhhhhhhhhhh, canonical, aahhhhhhhhhhhhhhhhhhhhhhhhhhhhhhhhhhhhhhhhhhhhhhhhhhhhhhhhhhhhhhhhhhhhhhhhhhhhhhhhhhhhhhhhhhhhhhhhhhhhhhhhhhhhhhhhhhhhhhhhhhhhhhhhhhhhhhhhhhhhhhhhhhhhhhhhhhhhhhhhhhhhhhhhhhhhhhhhhhhhhhhhhhhhhhhhhhhhhhhaddghhhhhhhhhhhhhhh",
          "<b>Topic 41</b><br>Words: fuck, na, ahhhhhhhhhhhhhhhhh, canonical, aahhhhhhhhhhhhhhhhhhhhhhhhhhhhhhhhhhhhhhhhhhhhhhhhhhhhhhhhhhhhhhhhhhhhhhhhhhhhhhhhhhhhhhhhhhhhhhhhhhhhhhhhhhhhhhhhhhhhhhhhhhhhhhhhhhhhhhhhhhhhhhhhhhhhhhhhhhhhhhhhhhhhhhhhhhhhhhhhhhhhhhhhhhhhhhhhhhhhhhhaddghhhhhhhhhhhhhhh"
         ],
         "marker": {
          "color": "#CC79A7"
         },
         "mode": "lines",
         "name": "41_fuck_fuckinfg_canonical_ahhhhhhhhhhhh...",
         "type": "scatter",
         "x": [
          "2014-04-20T22:58:39.521999",
          "2014-11-10T23:59:24.900000",
          "2015-12-16T01:58:32.700000",
          "2017-01-19T03:57:40.500000",
          "2017-08-07T04:57:14.400000",
          "2018-02-23T05:56:48.300000",
          "2019-03-30T07:55:56.100000",
          "2019-10-16T08:55:30",
          "2020-05-03T09:55:03.900000",
          "2020-11-19T10:54:37.800000",
          "2021-06-07T11:54:11.700000",
          "2021-12-24T12:53:45.600000",
          "2022-07-12T13:53:19.500000",
          "2023-01-28T14:52:53.400000",
          "2023-08-16T15:52:27.300000",
          "2024-03-03T16:52:01.200000",
          "2024-09-19T17:51:35.100000"
         ],
         "y": [
          1,
          3,
          5,
          2,
          2,
          2,
          1,
          3,
          2,
          3,
          2,
          1,
          1,
          2,
          2,
          8,
          3
         ]
        },
        {
         "hoverinfo": "text",
         "hovertext": [
          "<b>Topic 42</b><br>Words: napster, distress, interesing, pasty, describes",
          "<b>Topic 42</b><br>Words: predictable, ii, skeleton, comparrison, expect",
          "<b>Topic 42</b><br>Words: imho, brand, slogan, nuts, lightyears",
          "<b>Topic 42</b><br>Words: funner, defined, unlike, well, talent",
          "<b>Topic 42</b><br>Words: baaaad, hd, vanilla, skybox, warf",
          "<b>Topic 42</b><br>Words: memetic, purchsed, scholler, tht, starvation",
          "<b>Topic 42</b><br>Words: ip, outright, wanton, repetitive, pasting",
          "<b>Topic 42</b><br>Words: anticheat, canon, render, spent, questionable",
          "<b>Topic 42</b><br>Words: keybinding, fix, maybe, shit, feel",
          "<b>Topic 42</b><br>Words: overload, anybody, pathetic, disfigure, millennium",
          "<b>Topic 42</b><br>Words: curious, afternoon, purchasing, room, unfair",
          "<b>Topic 42</b><br>Words: instagram, redditors, twitter, user, facebookers",
          "<b>Topic 42</b><br>Words: definitive, event, shitty, hundred, whoever",
          "<b>Topic 42</b><br>Words: twenty, scape, dried, nentendo, loaded",
          "<b>Topic 42</b><br>Words: soup, scolding, cost, version, hi",
          "<b>Topic 42</b><br>Words: dlcs, empty, le, home, sote",
          "<b>Topic 42</b><br>Words: trophy, percent, pukestain, seki, overlarge"
         ],
         "marker": {
          "color": "#E69F00"
         },
         "mode": "lines",
         "name": "42_dlc_original_dlcs_soup",
         "type": "scatter",
         "x": [
          "2014-11-10T23:59:24.900000",
          "2015-05-30T00:58:58.800000",
          "2015-12-16T01:58:32.700000",
          "2017-01-19T03:57:40.500000",
          "2017-08-07T04:57:14.400000",
          "2018-02-23T05:56:48.300000",
          "2018-09-11T06:56:22.200000",
          "2019-10-16T08:55:30",
          "2020-05-03T09:55:03.900000",
          "2020-11-19T10:54:37.800000",
          "2021-06-07T11:54:11.700000",
          "2021-12-24T12:53:45.600000",
          "2022-07-12T13:53:19.500000",
          "2023-01-28T14:52:53.400000",
          "2023-08-16T15:52:27.300000",
          "2024-03-03T16:52:01.200000",
          "2024-09-19T17:51:35.100000"
         ],
         "y": [
          3,
          2,
          2,
          1,
          1,
          2,
          3,
          1,
          3,
          4,
          2,
          4,
          2,
          3,
          1,
          4,
          4
         ]
        },
        {
         "hoverinfo": "text",
         "hovertext": [
          "<b>Topic 43</b><br>Words: hard, homosexual, notlikedarksouls, hardness, rock",
          "<b>Topic 43</b><br>Words: mlg, hard, hat, way, soft",
          "<b>Topic 43</b><br>Words: gun, realy, hard, dont, soft",
          "<b>Topic 43</b><br>Words: hard, doesnt, farm, easy, tell",
          "<b>Topic 43</b><br>Words: hard, impossible, cant, fair, literally",
          "<b>Topic 43</b><br>Words: hard, soft, easy, homosexual, notlikedarksouls",
          "<b>Topic 43</b><br>Words: bloodborn, hard, lol, paste, copy",
          "<b>Topic 43</b><br>Words: hard, soft, easy, homosexual, notlikedarksouls",
          "<b>Topic 43</b><br>Words: garfield, harder, hard, soft, easy",
          "<b>Topic 43</b><br>Words: catz, mad, hard, easy, shit",
          "<b>Topic 43</b><br>Words: hard, soft, easy, homosexual, notlikedarksouls",
          "<b>Topic 43</b><br>Words: literally, hard, bad, soft, easy",
          "<b>Topic 43</b><br>Words: soft, let, hard, help, fuck",
          "<b>Topic 43</b><br>Words: easy, hard, soft, homosexual, notlikedarksouls",
          "<b>Topic 43</b><br>Words: subpar, scene, stupidly, soft, hard",
          "<b>Topic 43</b><br>Words: title, easy, hard, soft, homosexual",
          "<b>Topic 43</b><br>Words: chakan, hard, forever, man, easy",
          "<b>Topic 43</b><br>Words: hard, soft, easy, homosexual, notlikedarksouls"
         ],
         "marker": {
          "color": "#56B4E9"
         },
         "mode": "lines",
         "name": "43_hard_soft_easy_homosexual",
         "type": "scatter",
         "x": [
          "2014-04-20T22:58:39.521999",
          "2014-11-10T23:59:24.900000",
          "2015-05-30T00:58:58.800000",
          "2015-12-16T01:58:32.700000",
          "2016-07-03T02:58:06.600000",
          "2017-01-19T03:57:40.500000",
          "2018-02-23T05:56:48.300000",
          "2018-09-11T06:56:22.200000",
          "2019-10-16T08:55:30",
          "2020-05-03T09:55:03.900000",
          "2020-11-19T10:54:37.800000",
          "2021-06-07T11:54:11.700000",
          "2021-12-24T12:53:45.600000",
          "2022-07-12T13:53:19.500000",
          "2023-01-28T14:52:53.400000",
          "2023-08-16T15:52:27.300000",
          "2024-03-03T16:52:01.200000",
          "2024-09-19T17:51:35.100000"
         ],
         "y": [
          4,
          4,
          1,
          4,
          3,
          1,
          3,
          1,
          2,
          2,
          1,
          1,
          4,
          1,
          3,
          2,
          3,
          1
         ]
        },
        {
         "hoverinfo": "text",
         "hovertext": [
          "<b>Topic 44</b><br>Words: suck, still, fuck, fuckin, shit",
          "<b>Topic 44</b><br>Words: suck, still, fuck, fuckin, shit",
          "<b>Topic 44</b><br>Words: suck, fuck, since, shit, great",
          "<b>Topic 44</b><br>Words: suck, dong, donkey, fuckin, wow",
          "<b>Topic 44</b><br>Words: suck, fuck, fuckin, shit, wow",
          "<b>Topic 44</b><br>Words: suck, fuck, fuckin, shit, wow",
          "<b>Topic 44</b><br>Words: suck, fuckin, contrarian, fuck, tbh",
          "<b>Topic 44</b><br>Words: suck, fuck, fuckin, shit, wow",
          "<b>Topic 44</b><br>Words: suck, fuck, ngl, fr, shit",
          "<b>Topic 44</b><br>Words: suck, fuck, yeah, shit, fuckin",
          "<b>Topic 44</b><br>Words: suck, fuck, lmao, wow, shit",
          "<b>Topic 44</b><br>Words: suck, bc, fuck, shitty, shit"
         ],
         "marker": {
          "color": "#009E73"
         },
         "mode": "lines",
         "name": "44_suck_fuck_fuckin_shit",
         "type": "scatter",
         "x": [
          "2015-12-16T01:58:32.700000",
          "2018-09-11T06:56:22.200000",
          "2019-10-16T08:55:30",
          "2020-05-03T09:55:03.900000",
          "2020-11-19T10:54:37.800000",
          "2021-06-07T11:54:11.700000",
          "2021-12-24T12:53:45.600000",
          "2022-07-12T13:53:19.500000",
          "2023-01-28T14:52:53.400000",
          "2023-08-16T15:52:27.300000",
          "2024-03-03T16:52:01.200000",
          "2024-09-19T17:51:35.100000"
         ],
         "y": [
          1,
          1,
          2,
          2,
          4,
          1,
          4,
          1,
          8,
          5,
          5,
          4
         ]
        },
        {
         "hoverinfo": "text",
         "hovertext": [
          "<b>Topic 45</b><br>Words: gay, ass, butt, straight, cheek",
          "<b>Topic 45</b><br>Words: gay, tbh, hope, ass, pretty",
          "<b>Topic 45</b><br>Words: straight, as, ass, gay, butt",
          "<b>Topic 45</b><br>Words: ass, gay, butt, gameplay, straight",
          "<b>Topic 45</b><br>Words: butt, ass, gay, straight, cheek",
          "<b>Topic 45</b><br>Words: ass, buttcheeks, bc, bro, straight",
          "<b>Topic 45</b><br>Words: gay, sex, butt, ass, funny",
          "<b>Topic 45</b><br>Words: ass, lmao, gay, butt, straight",
          "<b>Topic 45</b><br>Words: ass, gay, cheek, butt, straight",
          "<b>Topic 45</b><br>Words: ass, butt, cock, hair, heart",
          "<b>Topic 45</b><br>Words: ass, bravely, gayass, aidsssssss, straight",
          "<b>Topic 45</b><br>Words: ass, buttcheeks, straight, cheek, booty"
         ],
         "marker": {
          "color": "#F0E442"
         },
         "mode": "lines",
         "name": "45_ass_gay_butt_straight",
         "type": "scatter",
         "x": [
          "2014-04-20T22:58:39.521999",
          "2017-01-19T03:57:40.500000",
          "2018-02-23T05:56:48.300000",
          "2018-09-11T06:56:22.200000",
          "2020-11-19T10:54:37.800000",
          "2021-06-07T11:54:11.700000",
          "2021-12-24T12:53:45.600000",
          "2022-07-12T13:53:19.500000",
          "2023-01-28T14:52:53.400000",
          "2023-08-16T15:52:27.300000",
          "2024-03-03T16:52:01.200000",
          "2024-09-19T17:51:35.100000"
         ],
         "y": [
          1,
          1,
          1,
          3,
          1,
          2,
          4,
          1,
          6,
          4,
          8,
          6
         ]
        },
        {
         "hoverinfo": "text",
         "hovertext": [
          "<b>Topic 46</b><br>Words: hour, school, pan, portray, nt",
          "<b>Topic 46</b><br>Words: plebians, reccommend, artorias, cuz, hour",
          "<b>Topic 46</b><br>Words: pale, shadow, tried, imo, hour",
          "<b>Topic 46</b><br>Words: unistall, glad, finally, beat, hour",
          "<b>Topic 46</b><br>Words: rn, later, hour, leave, almost",
          "<b>Topic 46</b><br>Words: objectivly, dont, hour, care, bit",
          "<b>Topic 46</b><br>Words: duck, diying, frustating, hour, return",
          "<b>Topic 46</b><br>Words: hour, cant, terrible, honestly, interesting",
          "<b>Topic 46</b><br>Words: dsfix, hour, sum, prefer, prepare",
          "<b>Topic 46</b><br>Words: hour, fable, ost, asleep, life",
          "<b>Topic 46</b><br>Words: hour, blowing, quit, nut, holy",
          "<b>Topic 46</b><br>Words: torturous, succeed, hour, fill, figure",
          "<b>Topic 46</b><br>Words: hr, rip, match, offline, track",
          "<b>Topic 46</b><br>Words: hooked, hour, unappealing, ost, latter",
          "<b>Topic 46</b><br>Words: hour, reallly, homeless, fee, captivate",
          "<b>Topic 46</b><br>Words: glaze, hour, penalty, solid, hate"
         ],
         "marker": {
          "color": "#D55E00"
         },
         "mode": "lines",
         "name": "46_hour_duck_play_cant",
         "type": "scatter",
         "x": [
          "2014-04-20T22:58:39.521999",
          "2014-11-10T23:59:24.900000",
          "2015-12-16T01:58:32.700000",
          "2016-07-03T02:58:06.600000",
          "2017-01-19T03:57:40.500000",
          "2018-02-23T05:56:48.300000",
          "2018-09-11T06:56:22.200000",
          "2020-05-03T09:55:03.900000",
          "2020-11-19T10:54:37.800000",
          "2021-06-07T11:54:11.700000",
          "2021-12-24T12:53:45.600000",
          "2022-07-12T13:53:19.500000",
          "2023-01-28T14:52:53.400000",
          "2023-08-16T15:52:27.300000",
          "2024-03-03T16:52:01.200000",
          "2024-09-19T17:51:35.100000"
         ],
         "y": [
          4,
          1,
          1,
          1,
          1,
          1,
          2,
          2,
          2,
          5,
          4,
          2,
          1,
          4,
          4,
          2
         ]
        },
        {
         "hoverinfo": "text",
         "hovertext": [
          "<b>Topic 47</b><br>Words: elswhur, enumies, taek, cumplitli, hurr",
          "<b>Topic 47</b><br>Words: kawaii, enough, bir, bu, bosslar",
          "<b>Topic 47</b><br>Words: aburrido, bir, bu, bosslar, gibi",
          "<b>Topic 47</b><br>Words: ik, wel, mij, erg, heel",
          "<b>Topic 47</b><br>Words: mala, wea, basura, mu, bok",
          "<b>Topic 47</b><br>Words: egy, nlom, foskula, aj, mert",
          "<b>Topic 47</b><br>Words: paska, tosco, vitun, ihan, przesta",
          "<b>Topic 47</b><br>Words: bir, bosslar, oyunu, bu, gibi",
          "<b>Topic 47</b><br>Words: oyun, boktan, bir, en, maut",
          "<b>Topic 47</b><br>Words: bir, sadece, iyi, ki, bile",
          "<b>Topic 47</b><br>Words: bir, bu, daha, peli, ytt",
          "<b>Topic 47</b><br>Words: ne, bir, bu, koim, hakl"
         ],
         "marker": {
          "color": "#0072B2"
         },
         "mode": "lines",
         "name": "47_bir_bu_bosslar_oyunu",
         "type": "scatter",
         "x": [
          "2015-05-30T00:58:58.800000",
          "2015-12-16T01:58:32.700000",
          "2017-08-07T04:57:14.400000",
          "2020-05-03T09:55:03.900000",
          "2020-11-19T10:54:37.800000",
          "2021-06-07T11:54:11.700000",
          "2021-12-24T12:53:45.600000",
          "2022-07-12T13:53:19.500000",
          "2023-01-28T14:52:53.400000",
          "2023-08-16T15:52:27.300000",
          "2024-03-03T16:52:01.200000",
          "2024-09-19T17:51:35.100000"
         ],
         "y": [
          1,
          1,
          1,
          3,
          3,
          1,
          3,
          2,
          5,
          4,
          9,
          3
         ]
        },
        {
         "hoverinfo": "text",
         "hovertext": [
          "<b>Topic 48</b><br>Words: dogshit, wtfffffffffffff, dogass, pioece, predator",
          "<b>Topic 48</b><br>Words: dogshit, predator, shiettttttttttttttttt, cowabunga, wtfffffffffffff",
          "<b>Topic 48</b><br>Words: dogshit, everyother, mechanic, fuck, still",
          "<b>Topic 48</b><br>Words: dogshit, actual, compare, doesnt, even",
          "<b>Topic 48</b><br>Words: dogshit, fucking, dont, buy, wtfffffffffffff",
          "<b>Topic 48</b><br>Words: dogshit, im, beat, know, fuck",
          "<b>Topic 48</b><br>Words: dogshit, could, incredibly, frustrate, good",
          "<b>Topic 48</b><br>Words: dogshit, pioece, serious, cartel, enjoyer",
          "<b>Topic 48</b><br>Words: dogshit, ahahahahahahahahahahahahahahahahahahahahahahahahahhahhaahjhahahhaahhahahahahahahhahahhahahhahahhaa, petrifyingly, horrifyingly, dogass"
         ],
         "marker": {
          "color": "#CC79A7"
         },
         "mode": "lines",
         "name": "48_dogshit_wtfffffffffffff_horrifyingly_...",
         "type": "scatter",
         "x": [
          "2019-10-16T08:55:30",
          "2020-05-03T09:55:03.900000",
          "2020-11-19T10:54:37.800000",
          "2021-06-07T11:54:11.700000",
          "2021-12-24T12:53:45.600000",
          "2023-01-28T14:52:53.400000",
          "2023-08-16T15:52:27.300000",
          "2024-03-03T16:52:01.200000",
          "2024-09-19T17:51:35.100000"
         ],
         "y": [
          1,
          2,
          4,
          2,
          2,
          4,
          3,
          11,
          7
         ]
        },
        {
         "hoverinfo": "text",
         "hovertext": [
          "<b>Topic 49</b><br>Words: refund, amuse, synch, fifty, money",
          "<b>Topic 49</b><br>Words: grab, patch, money, refund, cash",
          "<b>Topic 49</b><br>Words: cash, grab, refund, money, free",
          "<b>Topic 49</b><br>Words: refund, gim, male, becasue, weed",
          "<b>Topic 49</b><br>Words: refund, week, purchase, wish, minute",
          "<b>Topic 49</b><br>Words: refund, money, grab, free, back",
          "<b>Topic 49</b><br>Words: refund, vomit, bamco, dog, call",
          "<b>Topic 49</b><br>Words: refund, demand, bro, service, garbage",
          "<b>Topic 49</b><br>Words: amp, refund, cu, money, atleast",
          "<b>Topic 49</b><br>Words: refund, heckin, flight, penis, sleep",
          "<b>Topic 49</b><br>Words: refund, policy, remind, realize, hour"
         ],
         "marker": {
          "color": "#E69F00"
         },
         "mode": "lines",
         "name": "49_refund_money_grab_cash",
         "type": "scatter",
         "x": [
          "2014-04-20T22:58:39.521999",
          "2014-11-10T23:59:24.900000",
          "2015-05-30T00:58:58.800000",
          "2015-12-16T01:58:32.700000",
          "2020-05-03T09:55:03.900000",
          "2020-11-19T10:54:37.800000",
          "2021-06-07T11:54:11.700000",
          "2021-12-24T12:53:45.600000",
          "2023-01-28T14:52:53.400000",
          "2024-03-03T16:52:01.200000",
          "2024-09-19T17:51:35.100000"
         ],
         "y": [
          8,
          1,
          1,
          6,
          3,
          3,
          2,
          4,
          2,
          4,
          2
         ]
        }
       ],
       "layout": {
        "height": 450,
        "hoverlabel": {
         "bgcolor": "white",
         "font": {
          "family": "Rockwell",
          "size": 16
         }
        },
        "legend": {
         "title": {
          "text": "<b>Global Topic Representation"
         }
        },
        "template": {
         "data": {
          "bar": [
           {
            "error_x": {
             "color": "rgb(36,36,36)"
            },
            "error_y": {
             "color": "rgb(36,36,36)"
            },
            "marker": {
             "line": {
              "color": "white",
              "width": 0.5
             },
             "pattern": {
              "fillmode": "overlay",
              "size": 10,
              "solidity": 0.2
             }
            },
            "type": "bar"
           }
          ],
          "barpolar": [
           {
            "marker": {
             "line": {
              "color": "white",
              "width": 0.5
             },
             "pattern": {
              "fillmode": "overlay",
              "size": 10,
              "solidity": 0.2
             }
            },
            "type": "barpolar"
           }
          ],
          "carpet": [
           {
            "aaxis": {
             "endlinecolor": "rgb(36,36,36)",
             "gridcolor": "white",
             "linecolor": "white",
             "minorgridcolor": "white",
             "startlinecolor": "rgb(36,36,36)"
            },
            "baxis": {
             "endlinecolor": "rgb(36,36,36)",
             "gridcolor": "white",
             "linecolor": "white",
             "minorgridcolor": "white",
             "startlinecolor": "rgb(36,36,36)"
            },
            "type": "carpet"
           }
          ],
          "choropleth": [
           {
            "colorbar": {
             "outlinewidth": 1,
             "tickcolor": "rgb(36,36,36)",
             "ticks": "outside"
            },
            "type": "choropleth"
           }
          ],
          "contour": [
           {
            "colorbar": {
             "outlinewidth": 1,
             "tickcolor": "rgb(36,36,36)",
             "ticks": "outside"
            },
            "colorscale": [
             [
              0,
              "#440154"
             ],
             [
              0.1111111111111111,
              "#482878"
             ],
             [
              0.2222222222222222,
              "#3e4989"
             ],
             [
              0.3333333333333333,
              "#31688e"
             ],
             [
              0.4444444444444444,
              "#26828e"
             ],
             [
              0.5555555555555556,
              "#1f9e89"
             ],
             [
              0.6666666666666666,
              "#35b779"
             ],
             [
              0.7777777777777778,
              "#6ece58"
             ],
             [
              0.8888888888888888,
              "#b5de2b"
             ],
             [
              1,
              "#fde725"
             ]
            ],
            "type": "contour"
           }
          ],
          "contourcarpet": [
           {
            "colorbar": {
             "outlinewidth": 1,
             "tickcolor": "rgb(36,36,36)",
             "ticks": "outside"
            },
            "type": "contourcarpet"
           }
          ],
          "heatmap": [
           {
            "colorbar": {
             "outlinewidth": 1,
             "tickcolor": "rgb(36,36,36)",
             "ticks": "outside"
            },
            "colorscale": [
             [
              0,
              "#440154"
             ],
             [
              0.1111111111111111,
              "#482878"
             ],
             [
              0.2222222222222222,
              "#3e4989"
             ],
             [
              0.3333333333333333,
              "#31688e"
             ],
             [
              0.4444444444444444,
              "#26828e"
             ],
             [
              0.5555555555555556,
              "#1f9e89"
             ],
             [
              0.6666666666666666,
              "#35b779"
             ],
             [
              0.7777777777777778,
              "#6ece58"
             ],
             [
              0.8888888888888888,
              "#b5de2b"
             ],
             [
              1,
              "#fde725"
             ]
            ],
            "type": "heatmap"
           }
          ],
          "heatmapgl": [
           {
            "colorbar": {
             "outlinewidth": 1,
             "tickcolor": "rgb(36,36,36)",
             "ticks": "outside"
            },
            "colorscale": [
             [
              0,
              "#440154"
             ],
             [
              0.1111111111111111,
              "#482878"
             ],
             [
              0.2222222222222222,
              "#3e4989"
             ],
             [
              0.3333333333333333,
              "#31688e"
             ],
             [
              0.4444444444444444,
              "#26828e"
             ],
             [
              0.5555555555555556,
              "#1f9e89"
             ],
             [
              0.6666666666666666,
              "#35b779"
             ],
             [
              0.7777777777777778,
              "#6ece58"
             ],
             [
              0.8888888888888888,
              "#b5de2b"
             ],
             [
              1,
              "#fde725"
             ]
            ],
            "type": "heatmapgl"
           }
          ],
          "histogram": [
           {
            "marker": {
             "line": {
              "color": "white",
              "width": 0.6
             }
            },
            "type": "histogram"
           }
          ],
          "histogram2d": [
           {
            "colorbar": {
             "outlinewidth": 1,
             "tickcolor": "rgb(36,36,36)",
             "ticks": "outside"
            },
            "colorscale": [
             [
              0,
              "#440154"
             ],
             [
              0.1111111111111111,
              "#482878"
             ],
             [
              0.2222222222222222,
              "#3e4989"
             ],
             [
              0.3333333333333333,
              "#31688e"
             ],
             [
              0.4444444444444444,
              "#26828e"
             ],
             [
              0.5555555555555556,
              "#1f9e89"
             ],
             [
              0.6666666666666666,
              "#35b779"
             ],
             [
              0.7777777777777778,
              "#6ece58"
             ],
             [
              0.8888888888888888,
              "#b5de2b"
             ],
             [
              1,
              "#fde725"
             ]
            ],
            "type": "histogram2d"
           }
          ],
          "histogram2dcontour": [
           {
            "colorbar": {
             "outlinewidth": 1,
             "tickcolor": "rgb(36,36,36)",
             "ticks": "outside"
            },
            "colorscale": [
             [
              0,
              "#440154"
             ],
             [
              0.1111111111111111,
              "#482878"
             ],
             [
              0.2222222222222222,
              "#3e4989"
             ],
             [
              0.3333333333333333,
              "#31688e"
             ],
             [
              0.4444444444444444,
              "#26828e"
             ],
             [
              0.5555555555555556,
              "#1f9e89"
             ],
             [
              0.6666666666666666,
              "#35b779"
             ],
             [
              0.7777777777777778,
              "#6ece58"
             ],
             [
              0.8888888888888888,
              "#b5de2b"
             ],
             [
              1,
              "#fde725"
             ]
            ],
            "type": "histogram2dcontour"
           }
          ],
          "mesh3d": [
           {
            "colorbar": {
             "outlinewidth": 1,
             "tickcolor": "rgb(36,36,36)",
             "ticks": "outside"
            },
            "type": "mesh3d"
           }
          ],
          "parcoords": [
           {
            "line": {
             "colorbar": {
              "outlinewidth": 1,
              "tickcolor": "rgb(36,36,36)",
              "ticks": "outside"
             }
            },
            "type": "parcoords"
           }
          ],
          "pie": [
           {
            "automargin": true,
            "type": "pie"
           }
          ],
          "scatter": [
           {
            "fillpattern": {
             "fillmode": "overlay",
             "size": 10,
             "solidity": 0.2
            },
            "type": "scatter"
           }
          ],
          "scatter3d": [
           {
            "line": {
             "colorbar": {
              "outlinewidth": 1,
              "tickcolor": "rgb(36,36,36)",
              "ticks": "outside"
             }
            },
            "marker": {
             "colorbar": {
              "outlinewidth": 1,
              "tickcolor": "rgb(36,36,36)",
              "ticks": "outside"
             }
            },
            "type": "scatter3d"
           }
          ],
          "scattercarpet": [
           {
            "marker": {
             "colorbar": {
              "outlinewidth": 1,
              "tickcolor": "rgb(36,36,36)",
              "ticks": "outside"
             }
            },
            "type": "scattercarpet"
           }
          ],
          "scattergeo": [
           {
            "marker": {
             "colorbar": {
              "outlinewidth": 1,
              "tickcolor": "rgb(36,36,36)",
              "ticks": "outside"
             }
            },
            "type": "scattergeo"
           }
          ],
          "scattergl": [
           {
            "marker": {
             "colorbar": {
              "outlinewidth": 1,
              "tickcolor": "rgb(36,36,36)",
              "ticks": "outside"
             }
            },
            "type": "scattergl"
           }
          ],
          "scattermapbox": [
           {
            "marker": {
             "colorbar": {
              "outlinewidth": 1,
              "tickcolor": "rgb(36,36,36)",
              "ticks": "outside"
             }
            },
            "type": "scattermapbox"
           }
          ],
          "scatterpolar": [
           {
            "marker": {
             "colorbar": {
              "outlinewidth": 1,
              "tickcolor": "rgb(36,36,36)",
              "ticks": "outside"
             }
            },
            "type": "scatterpolar"
           }
          ],
          "scatterpolargl": [
           {
            "marker": {
             "colorbar": {
              "outlinewidth": 1,
              "tickcolor": "rgb(36,36,36)",
              "ticks": "outside"
             }
            },
            "type": "scatterpolargl"
           }
          ],
          "scatterternary": [
           {
            "marker": {
             "colorbar": {
              "outlinewidth": 1,
              "tickcolor": "rgb(36,36,36)",
              "ticks": "outside"
             }
            },
            "type": "scatterternary"
           }
          ],
          "surface": [
           {
            "colorbar": {
             "outlinewidth": 1,
             "tickcolor": "rgb(36,36,36)",
             "ticks": "outside"
            },
            "colorscale": [
             [
              0,
              "#440154"
             ],
             [
              0.1111111111111111,
              "#482878"
             ],
             [
              0.2222222222222222,
              "#3e4989"
             ],
             [
              0.3333333333333333,
              "#31688e"
             ],
             [
              0.4444444444444444,
              "#26828e"
             ],
             [
              0.5555555555555556,
              "#1f9e89"
             ],
             [
              0.6666666666666666,
              "#35b779"
             ],
             [
              0.7777777777777778,
              "#6ece58"
             ],
             [
              0.8888888888888888,
              "#b5de2b"
             ],
             [
              1,
              "#fde725"
             ]
            ],
            "type": "surface"
           }
          ],
          "table": [
           {
            "cells": {
             "fill": {
              "color": "rgb(237,237,237)"
             },
             "line": {
              "color": "white"
             }
            },
            "header": {
             "fill": {
              "color": "rgb(217,217,217)"
             },
             "line": {
              "color": "white"
             }
            },
            "type": "table"
           }
          ]
         },
         "layout": {
          "annotationdefaults": {
           "arrowhead": 0,
           "arrowwidth": 1
          },
          "autotypenumbers": "strict",
          "coloraxis": {
           "colorbar": {
            "outlinewidth": 1,
            "tickcolor": "rgb(36,36,36)",
            "ticks": "outside"
           }
          },
          "colorscale": {
           "diverging": [
            [
             0,
             "rgb(103,0,31)"
            ],
            [
             0.1,
             "rgb(178,24,43)"
            ],
            [
             0.2,
             "rgb(214,96,77)"
            ],
            [
             0.3,
             "rgb(244,165,130)"
            ],
            [
             0.4,
             "rgb(253,219,199)"
            ],
            [
             0.5,
             "rgb(247,247,247)"
            ],
            [
             0.6,
             "rgb(209,229,240)"
            ],
            [
             0.7,
             "rgb(146,197,222)"
            ],
            [
             0.8,
             "rgb(67,147,195)"
            ],
            [
             0.9,
             "rgb(33,102,172)"
            ],
            [
             1,
             "rgb(5,48,97)"
            ]
           ],
           "sequential": [
            [
             0,
             "#440154"
            ],
            [
             0.1111111111111111,
             "#482878"
            ],
            [
             0.2222222222222222,
             "#3e4989"
            ],
            [
             0.3333333333333333,
             "#31688e"
            ],
            [
             0.4444444444444444,
             "#26828e"
            ],
            [
             0.5555555555555556,
             "#1f9e89"
            ],
            [
             0.6666666666666666,
             "#35b779"
            ],
            [
             0.7777777777777778,
             "#6ece58"
            ],
            [
             0.8888888888888888,
             "#b5de2b"
            ],
            [
             1,
             "#fde725"
            ]
           ],
           "sequentialminus": [
            [
             0,
             "#440154"
            ],
            [
             0.1111111111111111,
             "#482878"
            ],
            [
             0.2222222222222222,
             "#3e4989"
            ],
            [
             0.3333333333333333,
             "#31688e"
            ],
            [
             0.4444444444444444,
             "#26828e"
            ],
            [
             0.5555555555555556,
             "#1f9e89"
            ],
            [
             0.6666666666666666,
             "#35b779"
            ],
            [
             0.7777777777777778,
             "#6ece58"
            ],
            [
             0.8888888888888888,
             "#b5de2b"
            ],
            [
             1,
             "#fde725"
            ]
           ]
          },
          "colorway": [
           "#1F77B4",
           "#FF7F0E",
           "#2CA02C",
           "#D62728",
           "#9467BD",
           "#8C564B",
           "#E377C2",
           "#7F7F7F",
           "#BCBD22",
           "#17BECF"
          ],
          "font": {
           "color": "rgb(36,36,36)"
          },
          "geo": {
           "bgcolor": "white",
           "lakecolor": "white",
           "landcolor": "white",
           "showlakes": true,
           "showland": true,
           "subunitcolor": "white"
          },
          "hoverlabel": {
           "align": "left"
          },
          "hovermode": "closest",
          "mapbox": {
           "style": "light"
          },
          "paper_bgcolor": "white",
          "plot_bgcolor": "white",
          "polar": {
           "angularaxis": {
            "gridcolor": "rgb(232,232,232)",
            "linecolor": "rgb(36,36,36)",
            "showgrid": false,
            "showline": true,
            "ticks": "outside"
           },
           "bgcolor": "white",
           "radialaxis": {
            "gridcolor": "rgb(232,232,232)",
            "linecolor": "rgb(36,36,36)",
            "showgrid": false,
            "showline": true,
            "ticks": "outside"
           }
          },
          "scene": {
           "xaxis": {
            "backgroundcolor": "white",
            "gridcolor": "rgb(232,232,232)",
            "gridwidth": 2,
            "linecolor": "rgb(36,36,36)",
            "showbackground": true,
            "showgrid": false,
            "showline": true,
            "ticks": "outside",
            "zeroline": false,
            "zerolinecolor": "rgb(36,36,36)"
           },
           "yaxis": {
            "backgroundcolor": "white",
            "gridcolor": "rgb(232,232,232)",
            "gridwidth": 2,
            "linecolor": "rgb(36,36,36)",
            "showbackground": true,
            "showgrid": false,
            "showline": true,
            "ticks": "outside",
            "zeroline": false,
            "zerolinecolor": "rgb(36,36,36)"
           },
           "zaxis": {
            "backgroundcolor": "white",
            "gridcolor": "rgb(232,232,232)",
            "gridwidth": 2,
            "linecolor": "rgb(36,36,36)",
            "showbackground": true,
            "showgrid": false,
            "showline": true,
            "ticks": "outside",
            "zeroline": false,
            "zerolinecolor": "rgb(36,36,36)"
           }
          },
          "shapedefaults": {
           "fillcolor": "black",
           "line": {
            "width": 0
           },
           "opacity": 0.3
          },
          "ternary": {
           "aaxis": {
            "gridcolor": "rgb(232,232,232)",
            "linecolor": "rgb(36,36,36)",
            "showgrid": false,
            "showline": true,
            "ticks": "outside"
           },
           "baxis": {
            "gridcolor": "rgb(232,232,232)",
            "linecolor": "rgb(36,36,36)",
            "showgrid": false,
            "showline": true,
            "ticks": "outside"
           },
           "bgcolor": "white",
           "caxis": {
            "gridcolor": "rgb(232,232,232)",
            "linecolor": "rgb(36,36,36)",
            "showgrid": false,
            "showline": true,
            "ticks": "outside"
           }
          },
          "title": {
           "x": 0.05
          },
          "xaxis": {
           "automargin": true,
           "gridcolor": "rgb(232,232,232)",
           "linecolor": "rgb(36,36,36)",
           "showgrid": false,
           "showline": true,
           "ticks": "outside",
           "title": {
            "standoff": 15
           },
           "zeroline": false,
           "zerolinecolor": "rgb(36,36,36)"
          },
          "yaxis": {
           "automargin": true,
           "gridcolor": "rgb(232,232,232)",
           "linecolor": "rgb(36,36,36)",
           "showgrid": false,
           "showline": true,
           "ticks": "outside",
           "title": {
            "standoff": 15
           },
           "zeroline": false,
           "zerolinecolor": "rgb(36,36,36)"
          }
         }
        },
        "title": {
         "font": {
          "color": "Black",
          "size": 22
         },
         "text": "<b>Topics over Time</b>",
         "x": 0.4,
         "xanchor": "center",
         "y": 0.95,
         "yanchor": "top"
        },
        "width": 1250,
        "xaxis": {
         "showgrid": true
        },
        "yaxis": {
         "showgrid": true,
         "title": {
          "text": "Frequency"
         }
        }
       }
      }
     },
     "metadata": {},
     "output_type": "display_data"
    }
   ],
   "source": [
    "neg_model.visualize_topics_over_time(neg_topics_over_time, top_n_topics=50)"
   ]
  },
  {
   "cell_type": "code",
   "execution_count": 22,
   "metadata": {},
   "outputs": [
    {
     "name": "stderr",
     "output_type": "stream",
     "text": [
      "5it [00:01,  3.03it/s]\n"
     ]
    }
   ],
   "source": [
    "neg_topics_over_time = neg_model.topics_over_time(neg_docs, neg_extra_content_release, nr_bins=20)"
   ]
  },
  {
   "cell_type": "code",
   "execution_count": 23,
   "metadata": {},
   "outputs": [
    {
     "data": {
      "application/vnd.plotly.v1+json": {
       "config": {
        "plotlyServerURL": "https://plot.ly"
       },
       "data": [
        {
         "hoverinfo": "text",
         "hovertext": [
          "<b>Topic 0</b><br>Words: pc, controller, mouse, port, keyboard",
          "<b>Topic 0</b><br>Words: pc, xbox, controller, keyboard, mouse",
          "<b>Topic 0</b><br>Words: pc, controller, control, keyboard, xbox",
          "<b>Topic 0</b><br>Words: pc, port, mouse, controller, keyboard",
          "<b>Topic 0</b><br>Words: controller, pc, keyboard, port, mouse"
         ],
         "marker": {
          "color": "#E69F00"
         },
         "mode": "lines",
         "name": "0_controller_pc_keyboard_mouse",
         "type": "scatter",
         "x": [
          "2014-03-10T14:44:09.600000",
          "2014-07-04T19:12:00",
          "2014-08-12T09:36:00",
          "2014-09-20T00:00:00",
          "2015-03-12T16:48:00"
         ],
         "y": [
          270,
          19,
          17,
          92,
          653
         ]
        },
        {
         "hoverinfo": "text",
         "hovertext": [
          "<b>Topic 1</b><br>Words: pvp, one, player, weapon, area",
          "<b>Topic 1</b><br>Words: weapon, player, die, lose, level",
          "<b>Topic 1</b><br>Words: covenant, within, plus, well, sky",
          "<b>Topic 1</b><br>Words: world, player, kill, time, fight",
          "<b>Topic 1</b><br>Words: enemy, bos, area, attack, fight"
         ],
         "marker": {
          "color": "#56B4E9"
         },
         "mode": "lines",
         "name": "1_enemy_area_bos_player",
         "type": "scatter",
         "x": [
          "2014-03-10T14:44:09.600000",
          "2014-07-04T19:12:00",
          "2014-08-12T09:36:00",
          "2014-09-20T00:00:00",
          "2015-03-12T16:48:00"
         ],
         "y": [
          41,
          8,
          5,
          33,
          552
         ]
        },
        {
         "hoverinfo": "text",
         "hovertext": [
          "<b>Topic 2</b><br>Words: burh, ahhhhhhhhhhhhhhhhhhhhhhhhhhhhhhhhhhhhhhhhhhhhhhhhhhhhhhhhhhhhhhhhhhhhhhhhhhhhhhhhhhhhhhhhhhhhhhhhhhhhhhhhhhhhhhhhhhhhhhhhhhhhhhhhhhhhhhhhhhhhhhhhhhhhhhhhhhhhhhhhhhhhhhhhhhhhhhhhhhhhhhhhhhhhhhhhhhhhhhhhhhhhhhhhhhhhhhhhhhhhhhhhhhhhhhhhhhhhhhhhhhhhhhhhhhhhhhhhhhhhhhhh, werty, xddddddddddddddddddddddddddddddddddddddddddddddddddddddddddddddddddddddddddddddddddddddddddddddddddddddddddddddddddddddddddddddddddddddddddddddddddddddddddddddddddddddddddddddddddddddddddddddddddddddddddddddddddddddddddddddddddddddddddddddddddddddddddddddddddddddddddddddddddddddddddddddddddddddddddddddddddddddddddddddddddddddddddddddddddddddddddddddddddddddddddddddddddddddddddddddddddddddddddddddddddddddddddddddddddddddddddddddddddd, xy",
          "<b>Topic 2</b><br>Words: burh, ahhhhhhhhhhhhhhhhhhhhhhhhhhhhhhhhhhhhhhhhhhhhhhhhhhhhhhhhhhhhhhhhhhhhhhhhhhhhhhhhhhhhhhhhhhhhhhhhhhhhhhhhhhhhhhhhhhhhhhhhhhhhhhhhhhhhhhhhhhhhhhhhhhhhhhhhhhhhhhhhhhhhhhhhhhhhhhhhhhhhhhhhhhhhhhhhhhhhhhhhhhhhhhhhhhhhhhhhhhhhhhhhhhhhhhhhhhhhhhhhhhhhhhhhhhhhhhhhhhhhhhhh, werty, xddddddddddddddddddddddddddddddddddddddddddddddddddddddddddddddddddddddddddddddddddddddddddddddddddddddddddddddddddddddddddddddddddddddddddddddddddddddddddddddddddddddddddddddddddddddddddddddddddddddddddddddddddddddddddddddddddddddddddddddddddddddddddddddddddddddddddddddddddddddddddddddddddddddddddddddddddddddddddddddddddddddddddddddddddddddddddddddddddddddddddddddddddddddddddddddddddddddddddddddddddddddddddddddddddddddddddddddddddd, xy",
          "<b>Topic 2</b><br>Words: burh, ahhhhhhhhhhhhhhhhhhhhhhhhhhhhhhhhhhhhhhhhhhhhhhhhhhhhhhhhhhhhhhhhhhhhhhhhhhhhhhhhhhhhhhhhhhhhhhhhhhhhhhhhhhhhhhhhhhhhhhhhhhhhhhhhhhhhhhhhhhhhhhhhhhhhhhhhhhhhhhhhhhhhhhhhhhhhhhhhhhhhhhhhhhhhhhhhhhhhhhhhhhhhhhhhhhhhhhhhhhhhhhhhhhhhhhhhhhhhhhhhhhhhhhhhhhhhhhhhhhhhhhhh, werty, xddddddddddddddddddddddddddddddddddddddddddddddddddddddddddddddddddddddddddddddddddddddddddddddddddddddddddddddddddddddddddddddddddddddddddddddddddddddddddddddddddddddddddddddddddddddddddddddddddddddddddddddddddddddddddddddddddddddddddddddddddddddddddddddddddddddddddddddddddddddddddddddddddddddddddddddddddddddddddddddddddddddddddddddddddddddddddddddddddddddddddddddddddddddddddddddddddddddddddddddddddddddddddddddddddddddddddddddddddd, xy",
          "<b>Topic 2</b><br>Words: burh, ahhhhhhhhhhhhhhhhhhhhhhhhhhhhhhhhhhhhhhhhhhhhhhhhhhhhhhhhhhhhhhhhhhhhhhhhhhhhhhhhhhhhhhhhhhhhhhhhhhhhhhhhhhhhhhhhhhhhhhhhhhhhhhhhhhhhhhhhhhhhhhhhhhhhhhhhhhhhhhhhhhhhhhhhhhhhhhhhhhhhhhhhhhhhhhhhhhhhhhhhhhhhhhhhhhhhhhhhhhhhhhhhhhhhhhhhhhhhhhhhhhhhhhhhhhhhhhhhhhhhhhhh, werty, xddddddddddddddddddddddddddddddddddddddddddddddddddddddddddddddddddddddddddddddddddddddddddddddddddddddddddddddddddddddddddddddddddddddddddddddddddddddddddddddddddddddddddddddddddddddddddddddddddddddddddddddddddddddddddddddddddddddddddddddddddddddddddddddddddddddddddddddddddddddddddddddddddddddddddddddddddddddddddddddddddddddddddddddddddddddddddddddddddddddddddddddddddddddddddddddddddddddddddddddddddddddddddddddddddddddddddddddddddd, xy"
         ],
         "marker": {
          "color": "#009E73"
         },
         "mode": "lines",
         "name": "2_xddddddddddddddddddddddddddddddddddddd...",
         "type": "scatter",
         "x": [
          "2014-03-10T14:44:09.600000",
          "2014-07-04T19:12:00",
          "2014-09-20T00:00:00",
          "2015-03-12T16:48:00"
         ],
         "y": [
          6,
          1,
          3,
          333
         ]
        },
        {
         "hoverinfo": "text",
         "hovertext": [
          "<b>Topic 3</b><br>Words: report, destroy, bad, poorly, horrible",
          "<b>Topic 3</b><br>Words: bad, ever, far, terrible, tarkov"
         ],
         "marker": {
          "color": "#F0E442"
         },
         "mode": "lines",
         "name": "3_bad_ever_far_terrible",
         "type": "scatter",
         "x": [
          "2014-09-20T00:00:00",
          "2015-03-12T16:48:00"
         ],
         "y": [
          3,
          157
         ]
        },
        {
         "hoverinfo": "text",
         "hovertext": [
          "<b>Topic 4</b><br>Words: pvp, pve, lag, multiplayer, co",
          "<b>Topic 4</b><br>Words: pvp, bye, forum, rpgs, exit",
          "<b>Topic 4</b><br>Words: pvp, hacker, pve, reward, severs",
          "<b>Topic 4</b><br>Words: pvp, pve, lagger, lag, fun",
          "<b>Topic 4</b><br>Words: pvp, pve, player, memory, fun"
         ],
         "marker": {
          "color": "#D55E00"
         },
         "mode": "lines",
         "name": "4_pvp_pve_lag_player",
         "type": "scatter",
         "x": [
          "2014-03-10T14:44:09.600000",
          "2014-07-04T19:12:00",
          "2014-08-12T09:36:00",
          "2014-09-20T00:00:00",
          "2015-03-12T16:48:00"
         ],
         "y": [
          29,
          3,
          5,
          19,
          95
         ]
        },
        {
         "hoverinfo": "text",
         "hovertext": [
          "<b>Topic 5</b><br>Words: buy, netcote, awful, disgrace, cking",
          "<b>Topic 5</b><br>Words: expect, save, money, good, buy",
          "<b>Topic 5</b><br>Words: buy, twice, ecspect, ptd, nice",
          "<b>Topic 5</b><br>Words: buy, purchase, instead, dont, sale"
         ],
         "marker": {
          "color": "#0072B2"
         },
         "mode": "lines",
         "name": "5_buy_purchase_dont_instead",
         "type": "scatter",
         "x": [
          "2014-03-10T14:44:09.600000",
          "2014-08-12T09:36:00",
          "2014-09-20T00:00:00",
          "2015-03-12T16:48:00"
         ],
         "y": [
          8,
          1,
          11,
          117
         ]
        },
        {
         "hoverinfo": "text",
         "hovertext": [
          "<b>Topic 6</b><br>Words: bad, haha, sorry, yeah, somehow",
          "<b>Topic 6</b><br>Words: bad, haha, sorry, yeah, somehow",
          "<b>Topic 6</b><br>Words: bad, haha, sorry, yeah, somehow"
         ],
         "marker": {
          "color": "#CC79A7"
         },
         "mode": "lines",
         "name": "6_bad_haha_sorry_yeah",
         "type": "scatter",
         "x": [
          "2014-03-10T14:44:09.600000",
          "2014-09-20T00:00:00",
          "2015-03-12T16:48:00"
         ],
         "y": [
          1,
          1,
          126
         ]
        },
        {
         "hoverinfo": "text",
         "hovertext": [
          "<b>Topic 7</b><br>Words: ever, bad, play, soulless, dissapointing",
          "<b>Topic 7</b><br>Words: horrid, predecessor, let, great, play",
          "<b>Topic 7</b><br>Words: ever, bad, play, game, worst"
         ],
         "marker": {
          "color": "#E69F00"
         },
         "mode": "lines",
         "name": "7_ever_bad_play_game",
         "type": "scatter",
         "x": [
          "2014-03-10T14:44:09.600000",
          "2014-08-12T09:36:00",
          "2015-03-12T16:48:00"
         ],
         "y": [
          6,
          1,
          119
         ]
        },
        {
         "hoverinfo": "text",
         "hovertext": [
          "<b>Topic 8</b><br>Words: design, sculpture, edied, downie, yer",
          "<b>Topic 8</b><br>Words: brances, justice, wave, equal, warp",
          "<b>Topic 8</b><br>Words: poorly, inadequate, thoroughly, pair, vision",
          "<b>Topic 8</b><br>Words: design, level, boring, boss, bad"
         ],
         "marker": {
          "color": "#56B4E9"
         },
         "mode": "lines",
         "name": "8_design_level_boring_boss",
         "type": "scatter",
         "x": [
          "2014-03-10T14:44:09.600000",
          "2014-07-04T19:12:00",
          "2014-09-20T00:00:00",
          "2015-03-12T16:48:00"
         ],
         "y": [
          6,
          1,
          2,
          114
         ]
        },
        {
         "hoverinfo": "text",
         "hovertext": [
          "<b>Topic 9</b><br>Words: elden, ring, play, ctrl, multiplayer"
         ],
         "marker": {
          "color": "#009E73"
         },
         "mode": "lines",
         "name": "9_elden_ring_play_ctrl",
         "type": "scatter",
         "x": [
          "2015-03-12T16:48:00"
         ],
         "y": [
          99
         ]
        },
        {
         "hoverinfo": "text",
         "hovertext": [
          "<b>Topic 10</b><br>Words: version, dx, new, buy, release",
          "<b>Topic 10</b><br>Words: version, release, dx, buy, upgrade"
         ],
         "marker": {
          "color": "#F0E442"
         },
         "mode": "lines",
         "name": "10_version_dx_release_buy",
         "type": "scatter",
         "x": [
          "2014-09-20T00:00:00",
          "2015-03-12T16:48:00"
         ],
         "y": [
          52,
          43
         ]
        },
        {
         "hoverinfo": "text",
         "hovertext": [
          "<b>Topic 11</b><br>Words: challenge, flaw, button, certain, kill",
          "<b>Topic 11</b><br>Words: blizzard, sustituting, cunty, goodjob, cumming",
          "<b>Topic 11</b><br>Words: quit, worthless, missiles, lighter, costly",
          "<b>Topic 11</b><br>Words: die, enemy, hit, dodge, health"
         ],
         "marker": {
          "color": "#D55E00"
         },
         "mode": "lines",
         "name": "11_die_enemy_hit_dodge",
         "type": "scatter",
         "x": [
          "2014-03-10T14:44:09.600000",
          "2014-08-12T09:36:00",
          "2014-09-20T00:00:00",
          "2015-03-12T16:48:00"
         ],
         "y": [
          4,
          1,
          1,
          88
         ]
        },
        {
         "hoverinfo": "text",
         "hovertext": [
          "<b>Topic 12</b><br>Words: dont, minute, play, fun, way",
          "<b>Topic 12</b><br>Words: free, dont, play, one, feel",
          "<b>Topic 12</b><br>Words: dont, peice, naked, finger, casual",
          "<b>Topic 12</b><br>Words: dont, play, id, else, grater"
         ],
         "marker": {
          "color": "#0072B2"
         },
         "mode": "lines",
         "name": "12_dont_play_id_else",
         "type": "scatter",
         "x": [
          "2014-03-10T14:44:09.600000",
          "2014-07-04T19:12:00",
          "2014-09-20T00:00:00",
          "2015-03-12T16:48:00"
         ],
         "y": [
          3,
          1,
          1,
          83
         ]
        },
        {
         "hoverinfo": "text",
         "hovertext": [
          "<b>Topic 13</b><br>Words: trash, actually, go, bin, muk",
          "<b>Topic 13</b><br>Words: trash, bin, muk, whacanisay, schholar"
         ],
         "marker": {
          "color": "#CC79A7"
         },
         "mode": "lines",
         "name": "13_trash_bin_muk_whacanisay",
         "type": "scatter",
         "x": [
          "2014-03-10T14:44:09.600000",
          "2015-03-12T16:48:00"
         ],
         "y": [
          3,
          83
         ]
        },
        {
         "hoverinfo": "text",
         "hovertext": [
          "<b>Topic 14</b><br>Words: vac, ban, cheater, hacker, cheat",
          "<b>Topic 14</b><br>Words: valve, ban, cheat, soft, invasion",
          "<b>Topic 14</b><br>Words: ban, legitimate, hacker, corrupt, posibility",
          "<b>Topic 14</b><br>Words: softbanned, ban, cheater, hacker, soft",
          "<b>Topic 14</b><br>Words: ban, hacker, cheater, softbanned, mod"
         ],
         "marker": {
          "color": "#E69F00"
         },
         "mode": "lines",
         "name": "14_ban_cheater_vac_hacker",
         "type": "scatter",
         "x": [
          "2014-03-10T14:44:09.600000",
          "2014-07-04T19:12:00",
          "2014-08-12T09:36:00",
          "2014-09-20T00:00:00",
          "2015-03-12T16:48:00"
         ],
         "y": [
          11,
          1,
          4,
          6,
          62
         ]
        },
        {
         "hoverinfo": "text",
         "hovertext": [
          "<b>Topic 15</b><br>Words: hitboxes, expiration, erroneous, blisteringly, element",
          "<b>Topic 15</b><br>Words: ok, hitboxes, em, teach, netcode",
          "<b>Topic 15</b><br>Words: hitboxes, box, hitbox, hit, size"
         ],
         "marker": {
          "color": "#56B4E9"
         },
         "mode": "lines",
         "name": "15_hitboxes_box_hitbox_hit",
         "type": "scatter",
         "x": [
          "2014-03-10T14:44:09.600000",
          "2014-09-20T00:00:00",
          "2015-03-12T16:48:00"
         ],
         "y": [
          2,
          2,
          74
         ]
        },
        {
         "hoverinfo": "text",
         "hovertext": [
          "<b>Topic 16</b><br>Words: step, huge, original, back, take",
          "<b>Topic 16</b><br>Words: firelink, miss, skip, one, walk",
          "<b>Topic 16</b><br>Words: skip, one, walk, third, iii"
         ],
         "marker": {
          "color": "#009E73"
         },
         "mode": "lines",
         "name": "16_skip_one_walk_third",
         "type": "scatter",
         "x": [
          "2014-03-10T14:44:09.600000",
          "2014-09-20T00:00:00",
          "2015-03-12T16:48:00"
         ],
         "y": [
          1,
          1,
          74
         ]
        },
        {
         "hoverinfo": "text",
         "hovertext": [
          "<b>Topic 17</b><br>Words: away, series, come, new, go",
          "<b>Topic 17</b><br>Words: star, zero, insane, series, wish",
          "<b>Topic 17</b><br>Words: abortion, failed, pls, series, live",
          "<b>Topic 17</b><br>Words: series, bad, worst, far, stain"
         ],
         "marker": {
          "color": "#F0E442"
         },
         "mode": "lines",
         "name": "17_series_bad_worst_far",
         "type": "scatter",
         "x": [
          "2014-03-10T14:44:09.600000",
          "2014-07-04T19:12:00",
          "2014-09-20T00:00:00",
          "2015-03-12T16:48:00"
         ],
         "y": [
          1,
          1,
          2,
          71
         ]
        },
        {
         "hoverinfo": "text",
         "hovertext": [
          "<b>Topic 18</b><br>Words: control, controlls, year, storyless, shit",
          "<b>Topic 18</b><br>Words: storyline, control, unplayable, community, awful",
          "<b>Topic 18</b><br>Words: control, unplayable, horrible, awful, controlls"
         ],
         "marker": {
          "color": "#D55E00"
         },
         "mode": "lines",
         "name": "18_control_unplayable_horrible_controlls",
         "type": "scatter",
         "x": [
          "2014-03-10T14:44:09.600000",
          "2014-09-20T00:00:00",
          "2015-03-12T16:48:00"
         ],
         "y": [
          15,
          2,
          57
         ]
        },
        {
         "hoverinfo": "text",
         "hovertext": [
          "<b>Topic 19</b><br>Words: screen, black, white, crash, varifying",
          "<b>Topic 19</b><br>Words: overheat, crysis, laptop, puzzle, setting",
          "<b>Topic 19</b><br>Words: framerate, tie, bug, copy, update",
          "<b>Topic 19</b><br>Words: screen, fullscreen, hz, monitor, fix"
         ],
         "marker": {
          "color": "#0072B2"
         },
         "mode": "lines",
         "name": "19_screen_fullscreen_hz_monitor",
         "type": "scatter",
         "x": [
          "2014-03-10T14:44:09.600000",
          "2014-07-04T19:12:00",
          "2014-09-20T00:00:00",
          "2015-03-12T16:48:00"
         ],
         "y": [
          7,
          1,
          1,
          65
         ]
        },
        {
         "hoverinfo": "text",
         "hovertext": [
          "<b>Topic 20</b><br>Words: shit, crap, wtf, dis, mom",
          "<b>Topic 20</b><br>Words: crap, shit, utter, wtf, dis",
          "<b>Topic 20</b><br>Words: shit, crap, wtf, dis, mom"
         ],
         "marker": {
          "color": "#CC79A7"
         },
         "mode": "lines",
         "name": "20_shit_crap_wtf_dis",
         "type": "scatter",
         "x": [
          "2014-03-10T14:44:09.600000",
          "2014-08-12T09:36:00",
          "2015-03-12T16:48:00"
         ],
         "y": [
          3,
          1,
          65
         ]
        },
        {
         "hoverinfo": "text",
         "hovertext": [
          "<b>Topic 21</b><br>Words: soulsborne, game, sekiro, play, bloodborne"
         ],
         "marker": {
          "color": "#E69F00"
         },
         "mode": "lines",
         "name": "21_soulsborne_game_sekiro_play",
         "type": "scatter",
         "x": [
          "2015-03-12T16:48:00"
         ],
         "y": [
          69
         ]
        },
        {
         "hoverinfo": "text",
         "hovertext": [
          "<b>Topic 22</b><br>Words: buying, durrrrrr, derk, serls, lewk",
          "<b>Topic 22</b><br>Words: miyazaki, hidetaka, direct, series, make"
         ],
         "marker": {
          "color": "#56B4E9"
         },
         "mode": "lines",
         "name": "22_miyazaki_hidetaka_direct_series",
         "type": "scatter",
         "x": [
          "2014-03-10T14:44:09.600000",
          "2015-03-12T16:48:00"
         ],
         "y": [
          1,
          62
         ]
        },
        {
         "hoverinfo": "text",
         "hovertext": [
          "<b>Topic 23</b><br>Words: suck, heaven, high, bravo, sucker",
          "<b>Topic 23</b><br>Words: suck, bravo, team, sucker, heaven",
          "<b>Topic 23</b><br>Words: suck, bravo, sucker, heaven, salty",
          "<b>Topic 23</b><br>Words: suck, sucker, salty, xd, nut"
         ],
         "marker": {
          "color": "#009E73"
         },
         "mode": "lines",
         "name": "23_suck_bravo_sucker_heaven",
         "type": "scatter",
         "x": [
          "2014-03-10T14:44:09.600000",
          "2014-07-04T19:12:00",
          "2014-08-12T09:36:00",
          "2015-03-12T16:48:00"
         ],
         "y": [
          2,
          1,
          1,
          58
         ]
        },
        {
         "hoverinfo": "text",
         "hovertext": [
          "<b>Topic 24</b><br>Words: horrrible, garbage, retarded, pile, ass",
          "<b>Topic 24</b><br>Words: challange, garbage, cost, avoid, skill",
          "<b>Topic 24</b><br>Words: garbage, trash, rubbish, pile, compare"
         ],
         "marker": {
          "color": "#F0E442"
         },
         "mode": "lines",
         "name": "24_garbage_trash_rubbish_pile",
         "type": "scatter",
         "x": [
          "2014-03-10T14:44:09.600000",
          "2014-09-20T00:00:00",
          "2015-03-12T16:48:00"
         ],
         "y": [
          2,
          2,
          58
         ]
        },
        {
         "hoverinfo": "text",
         "hovertext": [
          "<b>Topic 25</b><br>Words: series, bad, fight, st, level"
         ],
         "marker": {
          "color": "#D55E00"
         },
         "mode": "lines",
         "name": "25_series_bad_fight_st",
         "type": "scatter",
         "x": [
          "2015-03-12T16:48:00"
         ],
         "y": [
          58
         ]
        },
        {
         "hoverinfo": "text",
         "hovertext": [
          "<b>Topic 26</b><br>Words: version, hd, release, buy, wait",
          "<b>Topic 26</b><br>Words: version, release, buy, april, hd"
         ],
         "marker": {
          "color": "#0072B2"
         },
         "mode": "lines",
         "name": "26_version_release_hd_buy",
         "type": "scatter",
         "x": [
          "2014-09-20T00:00:00",
          "2015-03-12T16:48:00"
         ],
         "y": [
          40,
          18
         ]
        },
        {
         "hoverinfo": "text",
         "hovertext": [
          "<b>Topic 27</b><br>Words: strange, awkward, quite, terrible, awful",
          "<b>Topic 27</b><br>Words: terrible, awful, horrible, absolutely, fing"
         ],
         "marker": {
          "color": "#CC79A7"
         },
         "mode": "lines",
         "name": "27_terrible_awful_horrible_absolutely",
         "type": "scatter",
         "x": [
          "2014-09-20T00:00:00",
          "2015-03-12T16:48:00"
         ],
         "y": [
          1,
          54
         ]
        },
        {
         "hoverinfo": "text",
         "hovertext": [
          "<b>Topic 28</b><br>Words: censor, incredibly, sound, tin, enchant",
          "<b>Topic 28</b><br>Words: daren, distate, predicatle, wham, abject",
          "<b>Topic 28</b><br>Words: dawn, menues, indication, intro, overcomable",
          "<b>Topic 28</b><br>Words: combat, animation, make, feel, design"
         ],
         "marker": {
          "color": "#E69F00"
         },
         "mode": "lines",
         "name": "28_combat_animation_make_feel",
         "type": "scatter",
         "x": [
          "2014-03-10T14:44:09.600000",
          "2014-08-12T09:36:00",
          "2014-09-20T00:00:00",
          "2015-03-12T16:48:00"
         ],
         "y": [
          6,
          1,
          2,
          45
         ]
        },
        {
         "hoverinfo": "text",
         "hovertext": [
          "<b>Topic 29</b><br>Words: predeccesor, tragically, league, reputation, highly",
          "<b>Topic 29</b><br>Words: paywall, visceral, screwing, reveiw, improvments",
          "<b>Topic 29</b><br>Words: series, bloodborne, game, recommend, trilogy"
         ],
         "marker": {
          "color": "#56B4E9"
         },
         "mode": "lines",
         "name": "29_series_bloodborne_game_recommend",
         "type": "scatter",
         "x": [
          "2014-03-10T14:44:09.600000",
          "2014-09-20T00:00:00",
          "2015-03-12T16:48:00"
         ],
         "y": [
          1,
          2,
          50
         ]
        },
        {
         "hoverinfo": "text",
         "hovertext": [
          "<b>Topic 30</b><br>Words: good, one, uh, nice, happy",
          "<b>Topic 30</b><br>Words: good, one, uh, nice, happy",
          "<b>Topic 30</b><br>Words: great, good, uh, nice, happy",
          "<b>Topic 30</b><br>Words: good, uh, nice, happy, glad"
         ],
         "marker": {
          "color": "#009E73"
         },
         "mode": "lines",
         "name": "30_good_uh_nice_happy",
         "type": "scatter",
         "x": [
          "2014-03-10T14:44:09.600000",
          "2014-08-12T09:36:00",
          "2014-09-20T00:00:00",
          "2015-03-12T16:48:00"
         ],
         "y": [
          1,
          2,
          1,
          47
         ]
        },
        {
         "hoverinfo": "text",
         "hovertext": [
          "<b>Topic 31</b><br>Words: fromsoft, waste, server, money, turn",
          "<b>Topic 31</b><br>Words: fromsoft, server, turn, fromsoftware, fromslop"
         ],
         "marker": {
          "color": "#F0E442"
         },
         "mode": "lines",
         "name": "31_fromsoft_server_turn_fromsoftware",
         "type": "scatter",
         "x": [
          "2014-09-20T00:00:00",
          "2015-03-12T16:48:00"
         ],
         "y": [
          1,
          47
         ]
        },
        {
         "hoverinfo": "text",
         "hovertext": [
          "<b>Topic 32</b><br>Words: trend, hate, follow, gamei, dislike",
          "<b>Topic 32</b><br>Words: gamei, hate, dislike, gameit, bullshish"
         ],
         "marker": {
          "color": "#D55E00"
         },
         "mode": "lines",
         "name": "32_gamei_hate_dislike_gameit",
         "type": "scatter",
         "x": [
          "2014-09-20T00:00:00",
          "2015-03-12T16:48:00"
         ],
         "y": [
          1,
          47
         ]
        },
        {
         "hoverinfo": "text",
         "hovertext": [
          "<b>Topic 33</b><br>Words: fecal, matter, poo, fart, poopoo",
          "<b>Topic 33</b><br>Words: poo, fart, poopoo, poop, poopy"
         ],
         "marker": {
          "color": "#0072B2"
         },
         "mode": "lines",
         "name": "33_poo_fart_poopoo_poop",
         "type": "scatter",
         "x": [
          "2014-03-10T14:44:09.600000",
          "2015-03-12T16:48:00"
         ],
         "y": [
          1,
          47
         ]
        },
        {
         "hoverinfo": "text",
         "hovertext": [
          "<b>Topic 34</b><br>Words: server, month, fix, bring, back"
         ],
         "marker": {
          "color": "#CC79A7"
         },
         "mode": "lines",
         "name": "34_server_month_fix_bring",
         "type": "scatter",
         "x": [
          "2015-03-12T16:48:00"
         ],
         "y": [
          47
         ]
        },
        {
         "hoverinfo": "text",
         "hovertext": [
          "<b>Topic 35</b><br>Words: ich, da, ist, bin, zum",
          "<b>Topic 35</b><br>Words: de, jogo, que, el, la"
         ],
         "marker": {
          "color": "#E69F00"
         },
         "mode": "lines",
         "name": "35_de_jogo_que_el",
         "type": "scatter",
         "x": [
          "2014-03-10T14:44:09.600000",
          "2015-03-12T16:48:00"
         ],
         "y": [
          1,
          46
         ]
        },
        {
         "hoverinfo": "text",
         "hovertext": [
          "<b>Topic 36</b><br>Words: murder, windows, corrupt, file, download",
          "<b>Topic 36</b><br>Words: respon, monsteres, horible, saving, partner",
          "<b>Topic 36</b><br>Words: save, file, data, delete, error"
         ],
         "marker": {
          "color": "#56B4E9"
         },
         "mode": "lines",
         "name": "36_save_file_data_delete",
         "type": "scatter",
         "x": [
          "2014-03-10T14:44:09.600000",
          "2014-09-20T00:00:00",
          "2015-03-12T16:48:00"
         ],
         "y": [
          1,
          1,
          43
         ]
        },
        {
         "hoverinfo": "text",
         "hovertext": [
          "<b>Topic 37</b><br>Words: fluffy, tail, dog, nigger, shit",
          "<b>Topic 37</b><br>Words: dog, nigger, shit, water, dogwater"
         ],
         "marker": {
          "color": "#009E73"
         },
         "mode": "lines",
         "name": "37_dog_nigger_shit_water",
         "type": "scatter",
         "x": [
          "2014-08-12T09:36:00",
          "2015-03-12T16:48:00"
         ],
         "y": [
          1,
          44
         ]
        },
        {
         "hoverinfo": "text",
         "hovertext": [
          "<b>Topic 38</b><br>Words: successor, sky, fukll, exepect, preceeds",
          "<b>Topic 38</b><br>Words: cartoon, emperor, rpg, anime, backdrop",
          "<b>Topic 38</b><br>Words: zombie, pennys, shadows, ment, brainless",
          "<b>Topic 38</b><br>Words: lore, world, series, gameplay, atmosphere"
         ],
         "marker": {
          "color": "#F0E442"
         },
         "mode": "lines",
         "name": "38_lore_world_gameplay_series",
         "type": "scatter",
         "x": [
          "2014-03-10T14:44:09.600000",
          "2014-08-12T09:36:00",
          "2014-09-20T00:00:00",
          "2015-03-12T16:48:00"
         ],
         "y": [
          3,
          1,
          1,
          40
         ]
        },
        {
         "hoverinfo": "text",
         "hovertext": [
          "<b>Topic 39</b><br>Words: big, let, look, like, hat",
          "<b>Topic 39</b><br>Words: like, hat, skunk, tittty, try",
          "<b>Topic 39</b><br>Words: like, hat, skunk, tittty, try"
         ],
         "marker": {
          "color": "#D55E00"
         },
         "mode": "lines",
         "name": "39_like_hat_skunk_tittty",
         "type": "scatter",
         "x": [
          "2014-03-10T14:44:09.600000",
          "2014-09-20T00:00:00",
          "2015-03-12T16:48:00"
         ],
         "y": [
          1,
          1,
          42
         ]
        },
        {
         "hoverinfo": "text",
         "hovertext": [
          "<b>Topic 40</b><br>Words: budy, goose, campagin, co, op",
          "<b>Topic 40</b><br>Words: coop, co, op, atall, assistance",
          "<b>Topic 40</b><br>Words: summon, friend, co, op, coop"
         ],
         "marker": {
          "color": "#0072B2"
         },
         "mode": "lines",
         "name": "40_summon_friend_co_op",
         "type": "scatter",
         "x": [
          "2014-03-10T14:44:09.600000",
          "2014-09-20T00:00:00",
          "2015-03-12T16:48:00"
         ],
         "y": [
          2,
          2,
          39
         ]
        },
        {
         "hoverinfo": "text",
         "hovertext": [
          "<b>Topic 41</b><br>Words: fuck, ahhhhhhhhhhhhhhhhh, canonical, aahhhhhhhhhhhhhhhhhhhhhhhhhhhhhhhhhhhhhhhhhhhhhhhhhhhhhhhhhhhhhhhhhhhhhhhhhhhhhhhhhhhhhhhhhhhhhhhhhhhhhhhhhhhhhhhhhhhhhhhhhhhhhhhhhhhhhhhhhhhhhhhhhhhhhhhhhhhhhhhhhhhhhhhhhhhhhhhhhhhhhhhhhhhhhhhhhhhhhhhaddghhhhhhhhhhhhhhh, fuckinfg",
          "<b>Topic 41</b><br>Words: fuck, team, ahhhhhhhhhhhhhhhhh, canonical, aahhhhhhhhhhhhhhhhhhhhhhhhhhhhhhhhhhhhhhhhhhhhhhhhhhhhhhhhhhhhhhhhhhhhhhhhhhhhhhhhhhhhhhhhhhhhhhhhhhhhhhhhhhhhhhhhhhhhhhhhhhhhhhhhhhhhhhhhhhhhhhhhhhhhhhhhhhhhhhhhhhhhhhhhhhhhhhhhhhhhhhhhhhhhhhhhhhhhhhhaddghhhhhhhhhhhhhhh",
          "<b>Topic 41</b><br>Words: fuck, ahhhhhhhhhhhhhhhhh, canonical, fuckinfg, aahhhhhhhhhhhhhhhhhhhhhhhhhhhhhhhhhhhhhhhhhhhhhhhhhhhhhhhhhhhhhhhhhhhhhhhhhhhhhhhhhhhhhhhhhhhhhhhhhhhhhhhhhhhhhhhhhhhhhhhhhhhhhhhhhhhhhhhhhhhhhhhhhhhhhhhhhhhhhhhhhhhhhhhhhhhhhhhhhhhhhhhhhhhhhhhhhhhhhhhaddghhhhhhhhhhhhhhh"
         ],
         "marker": {
          "color": "#CC79A7"
         },
         "mode": "lines",
         "name": "41_fuck_fuckinfg_canonical_ahhhhhhhhhhhh...",
         "type": "scatter",
         "x": [
          "2014-03-10T14:44:09.600000",
          "2014-09-20T00:00:00",
          "2015-03-12T16:48:00"
         ],
         "y": [
          1,
          2,
          40
         ]
        },
        {
         "hoverinfo": "text",
         "hovertext": [
          "<b>Topic 42</b><br>Words: describes, distress, riaa, interesing, inconveniently",
          "<b>Topic 42</b><br>Words: dlc, original, dlcs, soup, feel"
         ],
         "marker": {
          "color": "#E69F00"
         },
         "mode": "lines",
         "name": "42_dlc_original_dlcs_soup",
         "type": "scatter",
         "x": [
          "2014-09-20T00:00:00",
          "2015-03-12T16:48:00"
         ],
         "y": [
          2,
          40
         ]
        },
        {
         "hoverinfo": "text",
         "hovertext": [
          "<b>Topic 43</b><br>Words: challenge, hard, soft, easy, homosexual",
          "<b>Topic 43</b><br>Words: im, cant, anything, hard, level",
          "<b>Topic 43</b><br>Words: hard, homosexual, notlikedarksouls, hardness, rock",
          "<b>Topic 43</b><br>Words: hard, soft, easy, catz, chakan"
         ],
         "marker": {
          "color": "#56B4E9"
         },
         "mode": "lines",
         "name": "43_hard_soft_easy_homosexual",
         "type": "scatter",
         "x": [
          "2014-03-10T14:44:09.600000",
          "2014-08-12T09:36:00",
          "2014-09-20T00:00:00",
          "2015-03-12T16:48:00"
         ],
         "y": [
          1,
          1,
          4,
          35
         ]
        },
        {
         "hoverinfo": "text",
         "hovertext": [
          "<b>Topic 44</b><br>Words: suck, fuck, fuckin, shit, wow"
         ],
         "marker": {
          "color": "#009E73"
         },
         "mode": "lines",
         "name": "44_suck_fuck_fuckin_shit",
         "type": "scatter",
         "x": [
          "2015-03-12T16:48:00"
         ],
         "y": [
          38
         ]
        },
        {
         "hoverinfo": "text",
         "hovertext": [
          "<b>Topic 45</b><br>Words: gay, ass, butt, straight, cheek",
          "<b>Topic 45</b><br>Words: ass, gay, butt, straight, cheek"
         ],
         "marker": {
          "color": "#F0E442"
         },
         "mode": "lines",
         "name": "45_ass_gay_butt_straight",
         "type": "scatter",
         "x": [
          "2014-03-10T14:44:09.600000",
          "2015-03-12T16:48:00"
         ],
         "y": [
          1,
          37
         ]
        },
        {
         "hoverinfo": "text",
         "hovertext": [
          "<b>Topic 46</b><br>Words: school, hour, portray, pan, nt",
          "<b>Topic 46</b><br>Words: honestly, hour, waste, money, dont",
          "<b>Topic 46</b><br>Words: plebians, reccommend, artorias, cuz, hour",
          "<b>Topic 46</b><br>Words: hour, duck, play, cant, ost"
         ],
         "marker": {
          "color": "#D55E00"
         },
         "mode": "lines",
         "name": "46_hour_duck_play_cant",
         "type": "scatter",
         "x": [
          "2014-03-10T14:44:09.600000",
          "2014-08-12T09:36:00",
          "2014-09-20T00:00:00",
          "2015-03-12T16:48:00"
         ],
         "y": [
          3,
          1,
          1,
          32
         ]
        },
        {
         "hoverinfo": "text",
         "hovertext": [
          "<b>Topic 47</b><br>Words: bir, bu, bosslar, oyunu, gibi"
         ],
         "marker": {
          "color": "#0072B2"
         },
         "mode": "lines",
         "name": "47_bir_bu_bosslar_oyunu",
         "type": "scatter",
         "x": [
          "2015-03-12T16:48:00"
         ],
         "y": [
          36
         ]
        },
        {
         "hoverinfo": "text",
         "hovertext": [
          "<b>Topic 48</b><br>Words: dogshit, wtfffffffffffff, dogass, pioece, predator"
         ],
         "marker": {
          "color": "#CC79A7"
         },
         "mode": "lines",
         "name": "48_dogshit_wtfffffffffffff_horrifyingly_...",
         "type": "scatter",
         "x": [
          "2015-03-12T16:48:00"
         ],
         "y": [
          36
         ]
        },
        {
         "hoverinfo": "text",
         "hovertext": [
          "<b>Topic 49</b><br>Words: refund, synch, jerky, clip, holy",
          "<b>Topic 49</b><br>Words: refund, amuse, fifty, awhile, elaborate",
          "<b>Topic 49</b><br>Words: yellow, refund, white, actually, want",
          "<b>Topic 49</b><br>Words: refund, engine, cheat, screw, part",
          "<b>Topic 49</b><br>Words: refund, grab, money, cash, free"
         ],
         "marker": {
          "color": "#E69F00"
         },
         "mode": "lines",
         "name": "49_refund_money_grab_cash",
         "type": "scatter",
         "x": [
          "2014-03-10T14:44:09.600000",
          "2014-07-04T19:12:00",
          "2014-08-12T09:36:00",
          "2014-09-20T00:00:00",
          "2015-03-12T16:48:00"
         ],
         "y": [
          4,
          2,
          1,
          1,
          28
         ]
        }
       ],
       "layout": {
        "height": 450,
        "hoverlabel": {
         "bgcolor": "white",
         "font": {
          "family": "Rockwell",
          "size": 16
         }
        },
        "legend": {
         "title": {
          "text": "<b>Global Topic Representation"
         }
        },
        "template": {
         "data": {
          "bar": [
           {
            "error_x": {
             "color": "rgb(36,36,36)"
            },
            "error_y": {
             "color": "rgb(36,36,36)"
            },
            "marker": {
             "line": {
              "color": "white",
              "width": 0.5
             },
             "pattern": {
              "fillmode": "overlay",
              "size": 10,
              "solidity": 0.2
             }
            },
            "type": "bar"
           }
          ],
          "barpolar": [
           {
            "marker": {
             "line": {
              "color": "white",
              "width": 0.5
             },
             "pattern": {
              "fillmode": "overlay",
              "size": 10,
              "solidity": 0.2
             }
            },
            "type": "barpolar"
           }
          ],
          "carpet": [
           {
            "aaxis": {
             "endlinecolor": "rgb(36,36,36)",
             "gridcolor": "white",
             "linecolor": "white",
             "minorgridcolor": "white",
             "startlinecolor": "rgb(36,36,36)"
            },
            "baxis": {
             "endlinecolor": "rgb(36,36,36)",
             "gridcolor": "white",
             "linecolor": "white",
             "minorgridcolor": "white",
             "startlinecolor": "rgb(36,36,36)"
            },
            "type": "carpet"
           }
          ],
          "choropleth": [
           {
            "colorbar": {
             "outlinewidth": 1,
             "tickcolor": "rgb(36,36,36)",
             "ticks": "outside"
            },
            "type": "choropleth"
           }
          ],
          "contour": [
           {
            "colorbar": {
             "outlinewidth": 1,
             "tickcolor": "rgb(36,36,36)",
             "ticks": "outside"
            },
            "colorscale": [
             [
              0,
              "#440154"
             ],
             [
              0.1111111111111111,
              "#482878"
             ],
             [
              0.2222222222222222,
              "#3e4989"
             ],
             [
              0.3333333333333333,
              "#31688e"
             ],
             [
              0.4444444444444444,
              "#26828e"
             ],
             [
              0.5555555555555556,
              "#1f9e89"
             ],
             [
              0.6666666666666666,
              "#35b779"
             ],
             [
              0.7777777777777778,
              "#6ece58"
             ],
             [
              0.8888888888888888,
              "#b5de2b"
             ],
             [
              1,
              "#fde725"
             ]
            ],
            "type": "contour"
           }
          ],
          "contourcarpet": [
           {
            "colorbar": {
             "outlinewidth": 1,
             "tickcolor": "rgb(36,36,36)",
             "ticks": "outside"
            },
            "type": "contourcarpet"
           }
          ],
          "heatmap": [
           {
            "colorbar": {
             "outlinewidth": 1,
             "tickcolor": "rgb(36,36,36)",
             "ticks": "outside"
            },
            "colorscale": [
             [
              0,
              "#440154"
             ],
             [
              0.1111111111111111,
              "#482878"
             ],
             [
              0.2222222222222222,
              "#3e4989"
             ],
             [
              0.3333333333333333,
              "#31688e"
             ],
             [
              0.4444444444444444,
              "#26828e"
             ],
             [
              0.5555555555555556,
              "#1f9e89"
             ],
             [
              0.6666666666666666,
              "#35b779"
             ],
             [
              0.7777777777777778,
              "#6ece58"
             ],
             [
              0.8888888888888888,
              "#b5de2b"
             ],
             [
              1,
              "#fde725"
             ]
            ],
            "type": "heatmap"
           }
          ],
          "heatmapgl": [
           {
            "colorbar": {
             "outlinewidth": 1,
             "tickcolor": "rgb(36,36,36)",
             "ticks": "outside"
            },
            "colorscale": [
             [
              0,
              "#440154"
             ],
             [
              0.1111111111111111,
              "#482878"
             ],
             [
              0.2222222222222222,
              "#3e4989"
             ],
             [
              0.3333333333333333,
              "#31688e"
             ],
             [
              0.4444444444444444,
              "#26828e"
             ],
             [
              0.5555555555555556,
              "#1f9e89"
             ],
             [
              0.6666666666666666,
              "#35b779"
             ],
             [
              0.7777777777777778,
              "#6ece58"
             ],
             [
              0.8888888888888888,
              "#b5de2b"
             ],
             [
              1,
              "#fde725"
             ]
            ],
            "type": "heatmapgl"
           }
          ],
          "histogram": [
           {
            "marker": {
             "line": {
              "color": "white",
              "width": 0.6
             }
            },
            "type": "histogram"
           }
          ],
          "histogram2d": [
           {
            "colorbar": {
             "outlinewidth": 1,
             "tickcolor": "rgb(36,36,36)",
             "ticks": "outside"
            },
            "colorscale": [
             [
              0,
              "#440154"
             ],
             [
              0.1111111111111111,
              "#482878"
             ],
             [
              0.2222222222222222,
              "#3e4989"
             ],
             [
              0.3333333333333333,
              "#31688e"
             ],
             [
              0.4444444444444444,
              "#26828e"
             ],
             [
              0.5555555555555556,
              "#1f9e89"
             ],
             [
              0.6666666666666666,
              "#35b779"
             ],
             [
              0.7777777777777778,
              "#6ece58"
             ],
             [
              0.8888888888888888,
              "#b5de2b"
             ],
             [
              1,
              "#fde725"
             ]
            ],
            "type": "histogram2d"
           }
          ],
          "histogram2dcontour": [
           {
            "colorbar": {
             "outlinewidth": 1,
             "tickcolor": "rgb(36,36,36)",
             "ticks": "outside"
            },
            "colorscale": [
             [
              0,
              "#440154"
             ],
             [
              0.1111111111111111,
              "#482878"
             ],
             [
              0.2222222222222222,
              "#3e4989"
             ],
             [
              0.3333333333333333,
              "#31688e"
             ],
             [
              0.4444444444444444,
              "#26828e"
             ],
             [
              0.5555555555555556,
              "#1f9e89"
             ],
             [
              0.6666666666666666,
              "#35b779"
             ],
             [
              0.7777777777777778,
              "#6ece58"
             ],
             [
              0.8888888888888888,
              "#b5de2b"
             ],
             [
              1,
              "#fde725"
             ]
            ],
            "type": "histogram2dcontour"
           }
          ],
          "mesh3d": [
           {
            "colorbar": {
             "outlinewidth": 1,
             "tickcolor": "rgb(36,36,36)",
             "ticks": "outside"
            },
            "type": "mesh3d"
           }
          ],
          "parcoords": [
           {
            "line": {
             "colorbar": {
              "outlinewidth": 1,
              "tickcolor": "rgb(36,36,36)",
              "ticks": "outside"
             }
            },
            "type": "parcoords"
           }
          ],
          "pie": [
           {
            "automargin": true,
            "type": "pie"
           }
          ],
          "scatter": [
           {
            "fillpattern": {
             "fillmode": "overlay",
             "size": 10,
             "solidity": 0.2
            },
            "type": "scatter"
           }
          ],
          "scatter3d": [
           {
            "line": {
             "colorbar": {
              "outlinewidth": 1,
              "tickcolor": "rgb(36,36,36)",
              "ticks": "outside"
             }
            },
            "marker": {
             "colorbar": {
              "outlinewidth": 1,
              "tickcolor": "rgb(36,36,36)",
              "ticks": "outside"
             }
            },
            "type": "scatter3d"
           }
          ],
          "scattercarpet": [
           {
            "marker": {
             "colorbar": {
              "outlinewidth": 1,
              "tickcolor": "rgb(36,36,36)",
              "ticks": "outside"
             }
            },
            "type": "scattercarpet"
           }
          ],
          "scattergeo": [
           {
            "marker": {
             "colorbar": {
              "outlinewidth": 1,
              "tickcolor": "rgb(36,36,36)",
              "ticks": "outside"
             }
            },
            "type": "scattergeo"
           }
          ],
          "scattergl": [
           {
            "marker": {
             "colorbar": {
              "outlinewidth": 1,
              "tickcolor": "rgb(36,36,36)",
              "ticks": "outside"
             }
            },
            "type": "scattergl"
           }
          ],
          "scattermapbox": [
           {
            "marker": {
             "colorbar": {
              "outlinewidth": 1,
              "tickcolor": "rgb(36,36,36)",
              "ticks": "outside"
             }
            },
            "type": "scattermapbox"
           }
          ],
          "scatterpolar": [
           {
            "marker": {
             "colorbar": {
              "outlinewidth": 1,
              "tickcolor": "rgb(36,36,36)",
              "ticks": "outside"
             }
            },
            "type": "scatterpolar"
           }
          ],
          "scatterpolargl": [
           {
            "marker": {
             "colorbar": {
              "outlinewidth": 1,
              "tickcolor": "rgb(36,36,36)",
              "ticks": "outside"
             }
            },
            "type": "scatterpolargl"
           }
          ],
          "scatterternary": [
           {
            "marker": {
             "colorbar": {
              "outlinewidth": 1,
              "tickcolor": "rgb(36,36,36)",
              "ticks": "outside"
             }
            },
            "type": "scatterternary"
           }
          ],
          "surface": [
           {
            "colorbar": {
             "outlinewidth": 1,
             "tickcolor": "rgb(36,36,36)",
             "ticks": "outside"
            },
            "colorscale": [
             [
              0,
              "#440154"
             ],
             [
              0.1111111111111111,
              "#482878"
             ],
             [
              0.2222222222222222,
              "#3e4989"
             ],
             [
              0.3333333333333333,
              "#31688e"
             ],
             [
              0.4444444444444444,
              "#26828e"
             ],
             [
              0.5555555555555556,
              "#1f9e89"
             ],
             [
              0.6666666666666666,
              "#35b779"
             ],
             [
              0.7777777777777778,
              "#6ece58"
             ],
             [
              0.8888888888888888,
              "#b5de2b"
             ],
             [
              1,
              "#fde725"
             ]
            ],
            "type": "surface"
           }
          ],
          "table": [
           {
            "cells": {
             "fill": {
              "color": "rgb(237,237,237)"
             },
             "line": {
              "color": "white"
             }
            },
            "header": {
             "fill": {
              "color": "rgb(217,217,217)"
             },
             "line": {
              "color": "white"
             }
            },
            "type": "table"
           }
          ]
         },
         "layout": {
          "annotationdefaults": {
           "arrowhead": 0,
           "arrowwidth": 1
          },
          "autotypenumbers": "strict",
          "coloraxis": {
           "colorbar": {
            "outlinewidth": 1,
            "tickcolor": "rgb(36,36,36)",
            "ticks": "outside"
           }
          },
          "colorscale": {
           "diverging": [
            [
             0,
             "rgb(103,0,31)"
            ],
            [
             0.1,
             "rgb(178,24,43)"
            ],
            [
             0.2,
             "rgb(214,96,77)"
            ],
            [
             0.3,
             "rgb(244,165,130)"
            ],
            [
             0.4,
             "rgb(253,219,199)"
            ],
            [
             0.5,
             "rgb(247,247,247)"
            ],
            [
             0.6,
             "rgb(209,229,240)"
            ],
            [
             0.7,
             "rgb(146,197,222)"
            ],
            [
             0.8,
             "rgb(67,147,195)"
            ],
            [
             0.9,
             "rgb(33,102,172)"
            ],
            [
             1,
             "rgb(5,48,97)"
            ]
           ],
           "sequential": [
            [
             0,
             "#440154"
            ],
            [
             0.1111111111111111,
             "#482878"
            ],
            [
             0.2222222222222222,
             "#3e4989"
            ],
            [
             0.3333333333333333,
             "#31688e"
            ],
            [
             0.4444444444444444,
             "#26828e"
            ],
            [
             0.5555555555555556,
             "#1f9e89"
            ],
            [
             0.6666666666666666,
             "#35b779"
            ],
            [
             0.7777777777777778,
             "#6ece58"
            ],
            [
             0.8888888888888888,
             "#b5de2b"
            ],
            [
             1,
             "#fde725"
            ]
           ],
           "sequentialminus": [
            [
             0,
             "#440154"
            ],
            [
             0.1111111111111111,
             "#482878"
            ],
            [
             0.2222222222222222,
             "#3e4989"
            ],
            [
             0.3333333333333333,
             "#31688e"
            ],
            [
             0.4444444444444444,
             "#26828e"
            ],
            [
             0.5555555555555556,
             "#1f9e89"
            ],
            [
             0.6666666666666666,
             "#35b779"
            ],
            [
             0.7777777777777778,
             "#6ece58"
            ],
            [
             0.8888888888888888,
             "#b5de2b"
            ],
            [
             1,
             "#fde725"
            ]
           ]
          },
          "colorway": [
           "#1F77B4",
           "#FF7F0E",
           "#2CA02C",
           "#D62728",
           "#9467BD",
           "#8C564B",
           "#E377C2",
           "#7F7F7F",
           "#BCBD22",
           "#17BECF"
          ],
          "font": {
           "color": "rgb(36,36,36)"
          },
          "geo": {
           "bgcolor": "white",
           "lakecolor": "white",
           "landcolor": "white",
           "showlakes": true,
           "showland": true,
           "subunitcolor": "white"
          },
          "hoverlabel": {
           "align": "left"
          },
          "hovermode": "closest",
          "mapbox": {
           "style": "light"
          },
          "paper_bgcolor": "white",
          "plot_bgcolor": "white",
          "polar": {
           "angularaxis": {
            "gridcolor": "rgb(232,232,232)",
            "linecolor": "rgb(36,36,36)",
            "showgrid": false,
            "showline": true,
            "ticks": "outside"
           },
           "bgcolor": "white",
           "radialaxis": {
            "gridcolor": "rgb(232,232,232)",
            "linecolor": "rgb(36,36,36)",
            "showgrid": false,
            "showline": true,
            "ticks": "outside"
           }
          },
          "scene": {
           "xaxis": {
            "backgroundcolor": "white",
            "gridcolor": "rgb(232,232,232)",
            "gridwidth": 2,
            "linecolor": "rgb(36,36,36)",
            "showbackground": true,
            "showgrid": false,
            "showline": true,
            "ticks": "outside",
            "zeroline": false,
            "zerolinecolor": "rgb(36,36,36)"
           },
           "yaxis": {
            "backgroundcolor": "white",
            "gridcolor": "rgb(232,232,232)",
            "gridwidth": 2,
            "linecolor": "rgb(36,36,36)",
            "showbackground": true,
            "showgrid": false,
            "showline": true,
            "ticks": "outside",
            "zeroline": false,
            "zerolinecolor": "rgb(36,36,36)"
           },
           "zaxis": {
            "backgroundcolor": "white",
            "gridcolor": "rgb(232,232,232)",
            "gridwidth": 2,
            "linecolor": "rgb(36,36,36)",
            "showbackground": true,
            "showgrid": false,
            "showline": true,
            "ticks": "outside",
            "zeroline": false,
            "zerolinecolor": "rgb(36,36,36)"
           }
          },
          "shapedefaults": {
           "fillcolor": "black",
           "line": {
            "width": 0
           },
           "opacity": 0.3
          },
          "ternary": {
           "aaxis": {
            "gridcolor": "rgb(232,232,232)",
            "linecolor": "rgb(36,36,36)",
            "showgrid": false,
            "showline": true,
            "ticks": "outside"
           },
           "baxis": {
            "gridcolor": "rgb(232,232,232)",
            "linecolor": "rgb(36,36,36)",
            "showgrid": false,
            "showline": true,
            "ticks": "outside"
           },
           "bgcolor": "white",
           "caxis": {
            "gridcolor": "rgb(232,232,232)",
            "linecolor": "rgb(36,36,36)",
            "showgrid": false,
            "showline": true,
            "ticks": "outside"
           }
          },
          "title": {
           "x": 0.05
          },
          "xaxis": {
           "automargin": true,
           "gridcolor": "rgb(232,232,232)",
           "linecolor": "rgb(36,36,36)",
           "showgrid": false,
           "showline": true,
           "ticks": "outside",
           "title": {
            "standoff": 15
           },
           "zeroline": false,
           "zerolinecolor": "rgb(36,36,36)"
          },
          "yaxis": {
           "automargin": true,
           "gridcolor": "rgb(232,232,232)",
           "linecolor": "rgb(36,36,36)",
           "showgrid": false,
           "showline": true,
           "ticks": "outside",
           "title": {
            "standoff": 15
           },
           "zeroline": false,
           "zerolinecolor": "rgb(36,36,36)"
          }
         }
        },
        "title": {
         "font": {
          "color": "Black",
          "size": 22
         },
         "text": "<b>Topics over Time</b>",
         "x": 0.4,
         "xanchor": "center",
         "y": 0.95,
         "yanchor": "top"
        },
        "width": 1250,
        "xaxis": {
         "showgrid": true
        },
        "yaxis": {
         "showgrid": true,
         "title": {
          "text": "Frequency"
         }
        }
       }
      }
     },
     "metadata": {},
     "output_type": "display_data"
    }
   ],
   "source": [
    "neg_model.visualize_topics_over_time(neg_topics_over_time, top_n_topics=50)"
   ]
  }
 ],
 "metadata": {
  "kernelspec": {
   "display_name": "base",
   "language": "python",
   "name": "python3"
  },
  "language_info": {
   "codemirror_mode": {
    "name": "ipython",
    "version": 3
   },
   "file_extension": ".py",
   "mimetype": "text/x-python",
   "name": "python",
   "nbconvert_exporter": "python",
   "pygments_lexer": "ipython3",
   "version": "3.11.4"
  }
 },
 "nbformat": 4,
 "nbformat_minor": 2
}
