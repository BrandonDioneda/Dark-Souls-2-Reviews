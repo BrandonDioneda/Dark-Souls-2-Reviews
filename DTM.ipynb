{
 "cells": [
  {
   "cell_type": "markdown",
   "metadata": {},
   "source": [
    "# Dark Souls II Reviews (2025)"
   ]
  },
  {
   "cell_type": "code",
   "execution_count": 1,
   "metadata": {},
   "outputs": [
    {
     "name": "stdout",
     "output_type": "stream",
     "text": [
      "WARNING:tensorflow:From C:\\Users\\bdion\\AppData\\Roaming\\Python\\Python311\\site-packages\\tf_keras\\src\\losses.py:2976: The name tf.losses.sparse_softmax_cross_entropy is deprecated. Please use tf.compat.v1.losses.sparse_softmax_cross_entropy instead.\n",
      "\n"
     ]
    }
   ],
   "source": [
    "from get_data import *\n",
    "from bertopic import BERTopic"
   ]
  },
  {
   "cell_type": "code",
   "execution_count": 2,
   "metadata": {},
   "outputs": [],
   "source": [
    "reviews = get_data()"
   ]
  },
  {
   "cell_type": "markdown",
   "metadata": {},
   "source": [
    "## Topic Modeling:\n",
    "- Exploring certain aspects on why people like the game\n",
    "    - Also get critiques of the game in positive reviews (if any but there sure is considering DS2's reputation in the community)\n",
    "\n",
    "- Exploring why people don't like the game:\n",
    "    - Also get positive aspects within this subset of the reviews"
   ]
  },
  {
   "cell_type": "markdown",
   "metadata": {},
   "source": [
    "Splitting the reviews by how many do and don't recommend buying the game:"
   ]
  },
  {
   "cell_type": "code",
   "execution_count": 3,
   "metadata": {},
   "outputs": [],
   "source": [
    "pos_reviews = reviews[reviews['voted_up'] == True]\n",
    "neg_reviews = reviews[reviews['voted_up'] == False]"
   ]
  },
  {
   "cell_type": "code",
   "execution_count": 4,
   "metadata": {},
   "outputs": [
    {
     "data": {
      "text/plain": [
       "((55777, 6), (11222, 6))"
      ]
     },
     "execution_count": 4,
     "metadata": {},
     "output_type": "execute_result"
    }
   ],
   "source": [
    "pos_reviews.shape, neg_reviews.shape"
   ]
  },
  {
   "cell_type": "markdown",
   "metadata": {},
   "source": [
    "### DTM:"
   ]
  },
  {
   "cell_type": "markdown",
   "metadata": {},
   "source": [
    "- Useful for analyzing trends in text over long periods"
   ]
  },
  {
   "cell_type": "code",
   "execution_count": 5,
   "metadata": {},
   "outputs": [],
   "source": [
    "docs = reviews.review.to_list()\n",
    "pos_docs = pos_reviews.review.to_list()\n",
    "neg_docs = neg_reviews.review.to_list()"
   ]
  },
  {
   "cell_type": "code",
   "execution_count": 6,
   "metadata": {},
   "outputs": [],
   "source": [
    "timestamps = pd.to_datetime(reviews.update_date, unit='s').values\n",
    "pos_timestamps = pd.to_datetime(pos_reviews.update_date, unit='s').values\n",
    "neg_timestamps = pd.to_datetime(neg_reviews.update_date, unit='s').values"
   ]
  },
  {
   "cell_type": "code",
   "execution_count": 7,
   "metadata": {},
   "outputs": [],
   "source": [
    "topic_model = BERTopic.load(\"models/bertopic_model\")"
   ]
  },
  {
   "cell_type": "code",
   "execution_count": 8,
   "metadata": {},
   "outputs": [
    {
     "name": "stderr",
     "output_type": "stream",
     "text": [
      "20it [00:32,  1.63s/it]\n"
     ]
    }
   ],
   "source": [
    "topics_over_time = topic_model.topics_over_time(docs, timestamps, nr_bins=20)"
   ]
  },
  {
   "cell_type": "code",
   "execution_count": 9,
   "metadata": {},
   "outputs": [
    {
     "data": {
      "application/vnd.plotly.v1+json": {
       "config": {
        "plotlyServerURL": "https://plot.ly"
       },
       "data": [
        {
         "hoverinfo": "text",
         "hovertext": [
          "<b>Topic 0</b><br>Words: ow, show, till, , ",
          "<b>Topic 0</b><br>Words: ow, show, till, , ",
          "<b>Topic 0</b><br>Words: ow, show, till, , ",
          "<b>Topic 0</b><br>Words: ow, show, till, , ",
          "<b>Topic 0</b><br>Words: ow, show, till, , ",
          "<b>Topic 0</b><br>Words: ow, show, till, , ",
          "<b>Topic 0</b><br>Words: ow, show, till, , ",
          "<b>Topic 0</b><br>Words: ow, show, till, , ",
          "<b>Topic 0</b><br>Words: show, ow, till, , ",
          "<b>Topic 0</b><br>Words: ow, show, till, , ",
          "<b>Topic 0</b><br>Words: ow, show, till, , ",
          "<b>Topic 0</b><br>Words: ow, show, till, , ",
          "<b>Topic 0</b><br>Words: ow, show, till, , ",
          "<b>Topic 0</b><br>Words: show, ow, till, , ",
          "<b>Topic 0</b><br>Words: ow, show, till, , ",
          "<b>Topic 0</b><br>Words: ow, show, till, , ",
          "<b>Topic 0</b><br>Words: ow, show, till, , ",
          "<b>Topic 0</b><br>Words: ow, show, till, , ",
          "<b>Topic 0</b><br>Words: till, ow, show, , ",
          "<b>Topic 0</b><br>Words: ow, show, till, , "
         ],
         "marker": {
          "color": "#E69F00"
         },
         "mode": "lines",
         "name": "0_ow_show_till_",
         "type": "scatter",
         "x": [
          "2014-04-20T18:06:56.036000",
          "2014-11-10T19:22:33.200000",
          "2015-05-29T20:36:41.400000",
          "2015-12-15T21:50:49.600000",
          "2016-07-02T23:04:57.800000",
          "2017-01-19T00:19:06",
          "2017-08-07T01:33:14.200000",
          "2018-02-23T02:47:22.400000",
          "2018-09-11T04:01:30.600000",
          "2019-03-30T05:15:38.800000",
          "2019-10-16T06:29:47",
          "2020-05-03T07:43:55.200000",
          "2020-11-19T08:58:03.400000",
          "2021-06-07T10:12:11.600000",
          "2021-12-24T11:26:19.800000",
          "2022-07-12T12:40:28",
          "2023-01-28T13:54:36.200000",
          "2023-08-16T15:08:44.400000",
          "2024-03-03T16:22:52.600000",
          "2024-09-19T17:37:00.800000"
         ],
         "y": [
          119,
          56,
          42,
          49,
          37,
          25,
          26,
          23,
          34,
          52,
          113,
          123,
          156,
          179,
          183,
          121,
          130,
          161,
          179,
          191
         ]
        },
        {
         "hoverinfo": "text",
         "hovertext": [
          "<b>Topic 1</b><br>Words: covenant, bursss, player, weapon, bonfire",
          "<b>Topic 1</b><br>Words: matrixdll, player, new, area, fight",
          "<b>Topic 1</b><br>Words: dks, das, da, enemy, item",
          "<b>Topic 1</b><br>Words: katana, chaos, rapier, ice, havel",
          "<b>Topic 1</b><br>Words: area, player, attack, weapon, enemy",
          "<b>Topic 1</b><br>Words: attack, bonfire, item, weapon, damage",
          "<b>Topic 1</b><br>Words: area, covenant, attack, item, enemy",
          "<b>Topic 1</b><br>Words: attack, player, damage, enemy, certain",
          "<b>Topic 1</b><br>Words: attack, area, player, damage, enemy",
          "<b>Topic 1</b><br>Words: enemy, area, damage, fight, stats",
          "<b>Topic 1</b><br>Words: bean, enemy, area, attack, fight",
          "<b>Topic 1</b><br>Words: attack, roll, area, enemy, animation",
          "<b>Topic 1</b><br>Words: attack, enemy, area, roll, damage",
          "<b>Topic 1</b><br>Words: attack, heal, area, enemy, frame",
          "<b>Topic 1</b><br>Words: iron, keep, hate, attack, fight",
          "<b>Topic 1</b><br>Words: enemy, estus, url, level, certain",
          "<b>Topic 1</b><br>Words: attack, animation, enemy, king, bos",
          "<b>Topic 1</b><br>Words: dementia, attack, bos, fight, enemy",
          "<b>Topic 1</b><br>Words: tyler, creator, enemy, area, attack",
          "<b>Topic 1</b><br>Words: spoiler, enemy, area, damage, feel"
         ],
         "marker": {
          "color": "#56B4E9"
         },
         "mode": "lines",
         "name": "1_attack_area_enemy_player",
         "type": "scatter",
         "x": [
          "2014-04-20T18:06:56.036000",
          "2014-11-10T19:22:33.200000",
          "2015-05-29T20:36:41.400000",
          "2015-12-15T21:50:49.600000",
          "2016-07-02T23:04:57.800000",
          "2017-01-19T00:19:06",
          "2017-08-07T01:33:14.200000",
          "2018-02-23T02:47:22.400000",
          "2018-09-11T04:01:30.600000",
          "2019-03-30T05:15:38.800000",
          "2019-10-16T06:29:47",
          "2020-05-03T07:43:55.200000",
          "2020-11-19T08:58:03.400000",
          "2021-06-07T10:12:11.600000",
          "2021-12-24T11:26:19.800000",
          "2022-07-12T12:40:28",
          "2023-01-28T13:54:36.200000",
          "2023-08-16T15:08:44.400000",
          "2024-03-03T16:22:52.600000",
          "2024-09-19T17:37:00.800000"
         ],
         "y": [
          193,
          102,
          42,
          67,
          44,
          64,
          50,
          39,
          32,
          38,
          48,
          57,
          73,
          79,
          77,
          43,
          64,
          65,
          88,
          95
         ]
        },
        {
         "hoverinfo": "text",
         "hovertext": [
          "<b>Topic 2</b><br>Words: good, as, goodin, uwu, lik",
          "<b>Topic 2</b><br>Words: good, dat, pussy, goodin, uwu",
          "<b>Topic 2</b><br>Words: good, goodin, uwu, lik, mm",
          "<b>Topic 2</b><br>Words: good, goodin, uwu, lik, mm",
          "<b>Topic 2</b><br>Words: good, goodin, uwu, lik, mm",
          "<b>Topic 2</b><br>Words: good, goodin, uwu, lik, mm",
          "<b>Topic 2</b><br>Words: good, goodin, uwu, lik, mm",
          "<b>Topic 2</b><br>Words: good, goodin, uwu, lik, mm",
          "<b>Topic 2</b><br>Words: good, goodin, uwu, lik, mm",
          "<b>Topic 2</b><br>Words: good, noice, goodin, uwu, lik",
          "<b>Topic 2</b><br>Words: good, lik, goodin, uwu, mm",
          "<b>Topic 2</b><br>Words: good, mm, lol, dks, goodin",
          "<b>Topic 2</b><br>Words: good, goodin, uwu, lik, mm",
          "<b>Topic 2</b><br>Words: good, thats, goodin, uwu, lik",
          "<b>Topic 2</b><br>Words: good, er, please, goodin, uwu",
          "<b>Topic 2</b><br>Words: good, goodin, uwu, lik, mm",
          "<b>Topic 2</b><br>Words: good, goodin, uwu, lik, mm",
          "<b>Topic 2</b><br>Words: good, goodin, uh, nioh, af",
          "<b>Topic 2</b><br>Words: good, ol, goodin, uwu, lik",
          "<b>Topic 2</b><br>Words: good, uwu, goodin, lik, mm"
         ],
         "marker": {
          "color": "#009E73"
         },
         "mode": "lines",
         "name": "2_good_goodin_uwu_lik",
         "type": "scatter",
         "x": [
          "2014-04-20T18:06:56.036000",
          "2014-11-10T19:22:33.200000",
          "2015-05-29T20:36:41.400000",
          "2015-12-15T21:50:49.600000",
          "2016-07-02T23:04:57.800000",
          "2017-01-19T00:19:06",
          "2017-08-07T01:33:14.200000",
          "2018-02-23T02:47:22.400000",
          "2018-09-11T04:01:30.600000",
          "2019-03-30T05:15:38.800000",
          "2019-10-16T06:29:47",
          "2020-05-03T07:43:55.200000",
          "2020-11-19T08:58:03.400000",
          "2021-06-07T10:12:11.600000",
          "2021-12-24T11:26:19.800000",
          "2022-07-12T12:40:28",
          "2023-01-28T13:54:36.200000",
          "2023-08-16T15:08:44.400000",
          "2024-03-03T16:22:52.600000",
          "2024-09-19T17:37:00.800000"
         ],
         "y": [
          68,
          35,
          13,
          31,
          19,
          29,
          26,
          12,
          25,
          48,
          104,
          110,
          107,
          119,
          114,
          70,
          90,
          81,
          104,
          101
         ]
        },
        {
         "hoverinfo": "text",
         "hovertext": [
          "<b>Topic 3</b><br>Words: que, jogo, de, el, primeiro",
          "<b>Topic 3</b><br>Words: de, que, jogo, la, et",
          "<b>Topic 3</b><br>Words: que, el, jogo, ncia, de",
          "<b>Topic 3</b><br>Words: que, jogo, de, se, morrer",
          "<b>Topic 3</b><br>Words: de, el, que, la, en",
          "<b>Topic 3</b><br>Words: que, de, su, la, en",
          "<b>Topic 3</b><br>Words: que, la, se, el, de",
          "<b>Topic 3</b><br>Words: morrer, perfeito, matar, mais, se",
          "<b>Topic 3</b><br>Words: el, de, favorita, mentale, castigara",
          "<b>Topic 3</b><br>Words: jogo, que, para, de, jogar",
          "<b>Topic 3</b><br>Words: que, jogo, juegazo, de, pero",
          "<b>Topic 3</b><br>Words: jogo, que, de, ma, um",
          "<b>Topic 3</b><br>Words: novo, de, que, el, jogo",
          "<b>Topic 3</b><br>Words: que, de, jogo, juego, um",
          "<b>Topic 3</b><br>Words: de, la, que, el, juego",
          "<b>Topic 3</b><br>Words: que, de, pra, jogo, voc",
          "<b>Topic 3</b><br>Words: que, de, jogo, um, el",
          "<b>Topic 3</b><br>Words: te, odeio, amo, de, que",
          "<b>Topic 3</b><br>Words: de, que, el, juego, jogo",
          "<b>Topic 3</b><br>Words: que, de, jogo, la, el"
         ],
         "marker": {
          "color": "#F0E442"
         },
         "mode": "lines",
         "name": "3_de_que_jogo_el",
         "type": "scatter",
         "x": [
          "2014-04-20T18:06:56.036000",
          "2014-11-10T19:22:33.200000",
          "2015-05-29T20:36:41.400000",
          "2015-12-15T21:50:49.600000",
          "2016-07-02T23:04:57.800000",
          "2017-01-19T00:19:06",
          "2017-08-07T01:33:14.200000",
          "2018-02-23T02:47:22.400000",
          "2018-09-11T04:01:30.600000",
          "2019-03-30T05:15:38.800000",
          "2019-10-16T06:29:47",
          "2020-05-03T07:43:55.200000",
          "2020-11-19T08:58:03.400000",
          "2021-06-07T10:12:11.600000",
          "2021-12-24T11:26:19.800000",
          "2022-07-12T12:40:28",
          "2023-01-28T13:54:36.200000",
          "2023-08-16T15:08:44.400000",
          "2024-03-03T16:22:52.600000",
          "2024-09-19T17:37:00.800000"
         ],
         "y": [
          21,
          8,
          8,
          12,
          10,
          4,
          10,
          4,
          6,
          6,
          31,
          24,
          33,
          39,
          25,
          21,
          43,
          33,
          44,
          56
         ]
        },
        {
         "hoverinfo": "text",
         "hovertext": [
          "<b>Topic 4</b><br>Words: yes, nope, frog, yesn, yessir",
          "<b>Topic 4</b><br>Words: yes, nope, yesn, yessir, frog",
          "<b>Topic 4</b><br>Words: yes, nope, yesn, yessir, frog",
          "<b>Topic 4</b><br>Words: yes, nope, yesn, yessir, frog",
          "<b>Topic 4</b><br>Words: yes, nope, yesn, yessir, frog",
          "<b>Topic 4</b><br>Words: yes, nope, yesn, yessir, frog",
          "<b>Topic 4</b><br>Words: yes, nope, yesn, yessir, frog",
          "<b>Topic 4</b><br>Words: yes, nope, yesn, yessir, frog",
          "<b>Topic 4</b><br>Words: yes, nope, yesn, yessir, frog",
          "<b>Topic 4</b><br>Words: yes, nope, yesn, yessir, frog",
          "<b>Topic 4</b><br>Words: yes, nope, yesn, yessir, frog",
          "<b>Topic 4</b><br>Words: yes, nope, yesn, yessir, frog",
          "<b>Topic 4</b><br>Words: yes, nope, yesn, yessir, frog",
          "<b>Topic 4</b><br>Words: yes, thank, nope, bro, sir",
          "<b>Topic 4</b><br>Words: yes, nope, yesn, yessir, frog",
          "<b>Topic 4</b><br>Words: yes, nope, yesn, yessir, frog",
          "<b>Topic 4</b><br>Words: yes, nope, yesn, yessir, frog",
          "<b>Topic 4</b><br>Words: yes, yessir, nope, yesn, frog",
          "<b>Topic 4</b><br>Words: yes, nope, yesn, yessir, frog",
          "<b>Topic 4</b><br>Words: yes, nope, yesn, yessir, frog"
         ],
         "marker": {
          "color": "#D55E00"
         },
         "mode": "lines",
         "name": "4_yes_nope_yesn_yessir",
         "type": "scatter",
         "x": [
          "2014-04-20T18:06:56.036000",
          "2014-11-10T19:22:33.200000",
          "2015-05-29T20:36:41.400000",
          "2015-12-15T21:50:49.600000",
          "2016-07-02T23:04:57.800000",
          "2017-01-19T00:19:06",
          "2017-08-07T01:33:14.200000",
          "2018-02-23T02:47:22.400000",
          "2018-09-11T04:01:30.600000",
          "2019-03-30T05:15:38.800000",
          "2019-10-16T06:29:47",
          "2020-05-03T07:43:55.200000",
          "2020-11-19T08:58:03.400000",
          "2021-06-07T10:12:11.600000",
          "2021-12-24T11:26:19.800000",
          "2022-07-12T12:40:28",
          "2023-01-28T13:54:36.200000",
          "2023-08-16T15:08:44.400000",
          "2024-03-03T16:22:52.600000",
          "2024-09-19T17:37:00.800000"
         ],
         "y": [
          27,
          13,
          6,
          7,
          4,
          1,
          3,
          2,
          5,
          9,
          51,
          51,
          51,
          45,
          40,
          26,
          15,
          25,
          25,
          23
         ]
        },
        {
         "hoverinfo": "text",
         "hovertext": [
          "<b>Topic 5</b><br>Words: best, everrrrrrrrrrrrrrrrrrrrrrrrrrrrrrrrrrrrrrrrrrrrrrrrrrrrrrrrrrrrrrrrrrrrrrrrrrrrrrrrrrrrrrrrrrrrrrrrrrrrrrr, proper, job, lol",
          "<b>Topic 5</b><br>Words: best, everrrrrrrrrrrrrrrrrrrrrrrrrrrrrrrrrrrrrrrrrrrrrrrrrrrrrrrrrrrrrrrrrrrrrrrrrrrrrrrrrrrrrrrrrrrrrrrrrrrrrrr, proper, job, lol",
          "<b>Topic 5</b><br>Words: best, everrrrrrrrrrrrrrrrrrrrrrrrrrrrrrrrrrrrrrrrrrrrrrrrrrrrrrrrrrrrrrrrrrrrrrrrrrrrrrrrrrrrrrrrrrrrrrrrrrrrrrr, proper, job, lol",
          "<b>Topic 5</b><br>Words: best, everrrrrrrrrrrrrrrrrrrrrrrrrrrrrrrrrrrrrrrrrrrrrrrrrrrrrrrrrrrrrrrrrrrrrrrrrrrrrrrrrrrrrrrrrrrrrrrrrrrrrrr, proper, job, lol",
          "<b>Topic 5</b><br>Words: best, lol, everrrrrrrrrrrrrrrrrrrrrrrrrrrrrrrrrrrrrrrrrrrrrrrrrrrrrrrrrrrrrrrrrrrrrrrrrrrrrrrrrrrrrrrrrrrrrrrrrrrrrrr, proper, job",
          "<b>Topic 5</b><br>Words: best, everrrrrrrrrrrrrrrrrrrrrrrrrrrrrrrrrrrrrrrrrrrrrrrrrrrrrrrrrrrrrrrrrrrrrrrrrrrrrrrrrrrrrrrrrrrrrrrrrrrrrrr, proper, job, lol",
          "<b>Topic 5</b><br>Words: best, everrrrrrrrrrrrrrrrrrrrrrrrrrrrrrrrrrrrrrrrrrrrrrrrrrrrrrrrrrrrrrrrrrrrrrrrrrrrrrrrrrrrrrrrrrrrrrrrrrrrrrr, proper, job, lol",
          "<b>Topic 5</b><br>Words: best, everrrrrrrrrrrrrrrrrrrrrrrrrrrrrrrrrrrrrrrrrrrrrrrrrrrrrrrrrrrrrrrrrrrrrrrrrrrrrrrrrrrrrrrrrrrrrrrrrrrrrrr, proper, job, lol",
          "<b>Topic 5</b><br>Words: best, everrrrrrrrrrrrrrrrrrrrrrrrrrrrrrrrrrrrrrrrrrrrrrrrrrrrrrrrrrrrrrrrrrrrrrrrrrrrrrrrrrrrrrrrrrrrrrrrrrrrrrr, proper, job, lol",
          "<b>Topic 5</b><br>Words: best, everrrrrrrrrrrrrrrrrrrrrrrrrrrrrrrrrrrrrrrrrrrrrrrrrrrrrrrrrrrrrrrrrrrrrrrrrrrrrrrrrrrrrrrrrrrrrrrrrrrrrrr, proper, job, lol",
          "<b>Topic 5</b><br>Words: best, everrrrrrrrrrrrrrrrrrrrrrrrrrrrrrrrrrrrrrrrrrrrrrrrrrrrrrrrrrrrrrrrrrrrrrrrrrrrrrrrrrrrrrrrrrrrrrrrrrrrrrr, proper, job, lol",
          "<b>Topic 5</b><br>Words: best, everrrrrrrrrrrrrrrrrrrrrrrrrrrrrrrrrrrrrrrrrrrrrrrrrrrrrrrrrrrrrrrrrrrrrrrrrrrrrrrrrrrrrrrrrrrrrrrrrrrrrrr, proper, job, lol",
          "<b>Topic 5</b><br>Words: best, everrrrrrrrrrrrrrrrrrrrrrrrrrrrrrrrrrrrrrrrrrrrrrrrrrrrrrrrrrrrrrrrrrrrrrrrrrrrrrrrrrrrrrrrrrrrrrrrrrrrrrr, proper, job, lol",
          "<b>Topic 5</b><br>Words: best, everrrrrrrrrrrrrrrrrrrrrrrrrrrrrrrrrrrrrrrrrrrrrrrrrrrrrrrrrrrrrrrrrrrrrrrrrrrrrrrrrrrrrrrrrrrrrrrrrrrrrrr, proper, job, lol",
          "<b>Topic 5</b><br>Words: best, everrrrrrrrrrrrrrrrrrrrrrrrrrrrrrrrrrrrrrrrrrrrrrrrrrrrrrrrrrrrrrrrrrrrrrrrrrrrrrrrrrrrrrrrrrrrrrrrrrrrrrr, proper, job, lol",
          "<b>Topic 5</b><br>Words: best, since, everrrrrrrrrrrrrrrrrrrrrrrrrrrrrrrrrrrrrrrrrrrrrrrrrrrrrrrrrrrrrrrrrrrrrrrrrrrrrrrrrrrrrrrrrrrrrrrrrrrrrrr, proper, job",
          "<b>Topic 5</b><br>Words: best, everrrrrrrrrrrrrrrrrrrrrrrrrrrrrrrrrrrrrrrrrrrrrrrrrrrrrrrrrrrrrrrrrrrrrrrrrrrrrrrrrrrrrrrrrrrrrrrrrrrrrrr, proper, job, lol",
          "<b>Topic 5</b><br>Words: best, right, everrrrrrrrrrrrrrrrrrrrrrrrrrrrrrrrrrrrrrrrrrrrrrrrrrrrrrrrrrrrrrrrrrrrrrrrrrrrrrrrrrrrrrrrrrrrrrrrrrrrrrr, proper, job",
          "<b>Topic 5</b><br>Words: best, everrrrrrrrrrrrrrrrrrrrrrrrrrrrrrrrrrrrrrrrrrrrrrrrrrrrrrrrrrrrrrrrrrrrrrrrrrrrrrrrrrrrrrrrrrrrrrrrrrrrrrr, proper, job, lol",
          "<b>Topic 5</b><br>Words: best, everrrrrrrrrrrrrrrrrrrrrrrrrrrrrrrrrrrrrrrrrrrrrrrrrrrrrrrrrrrrrrrrrrrrrrrrrrrrrrrrrrrrrrrrrrrrrrrrrrrrrrr, proper, job, lol"
         ],
         "marker": {
          "color": "#0072B2"
         },
         "mode": "lines",
         "name": "5_best_everrrrrrrrrrrrrrrrrrrrrrrrrrrrrr...",
         "type": "scatter",
         "x": [
          "2014-04-20T18:06:56.036000",
          "2014-11-10T19:22:33.200000",
          "2015-05-29T20:36:41.400000",
          "2015-12-15T21:50:49.600000",
          "2016-07-02T23:04:57.800000",
          "2017-01-19T00:19:06",
          "2017-08-07T01:33:14.200000",
          "2018-02-23T02:47:22.400000",
          "2018-09-11T04:01:30.600000",
          "2019-03-30T05:15:38.800000",
          "2019-10-16T06:29:47",
          "2020-05-03T07:43:55.200000",
          "2020-11-19T08:58:03.400000",
          "2021-06-07T10:12:11.600000",
          "2021-12-24T11:26:19.800000",
          "2022-07-12T12:40:28",
          "2023-01-28T13:54:36.200000",
          "2023-08-16T15:08:44.400000",
          "2024-03-03T16:22:52.600000",
          "2024-09-19T17:37:00.800000"
         ],
         "y": [
          14,
          8,
          2,
          1,
          2,
          4,
          3,
          1,
          7,
          15,
          33,
          22,
          31,
          43,
          43,
          36,
          36,
          36,
          37,
          41
         ]
        },
        {
         "hoverinfo": "text",
         "hovertext": [
          "<b>Topic 6</b><br>Words: pvp, pve, deths, servrs, slighly",
          "<b>Topic 6</b><br>Words: pvp, ice, raipers, againsts, bugginess",
          "<b>Topic 6</b><br>Words: stunlock, pvp, pve, zuck, bellbro",
          "<b>Topic 6</b><br>Words: pvp, pve, havemybabies, tstorm, infinetly",
          "<b>Topic 6</b><br>Words: pvp, pve, female, anillo, soluborne",
          "<b>Topic 6</b><br>Words: pvp, pve, unbelievable, prefere, ham",
          "<b>Topic 6</b><br>Words: pvp, neato, forced, ping, pve",
          "<b>Topic 6</b><br>Words: pvp, noxious, spends, gamedesign, pve",
          "<b>Topic 6</b><br>Words: actuall, pussy, ton, pvp, count",
          "<b>Topic 6</b><br>Words: pvp, pve, tipper, fedora, hatemail",
          "<b>Topic 6</b><br>Words: pvp, pve, litreally, dankest, lp",
          "<b>Topic 6</b><br>Words: pvp, pve, spurg, campaing, refuge",
          "<b>Topic 6</b><br>Words: pvp, pve, matchmacking, casulz, simillar",
          "<b>Topic 6</b><br>Words: pvp, hundo, pve, estoc, pagchomp",
          "<b>Topic 6</b><br>Words: pvp, pve, crazi, brst, emoticon",
          "<b>Topic 6</b><br>Words: pvp, ideology, spammer, acolyte, unknown",
          "<b>Topic 6</b><br>Words: beg, embodiment, griefers, pvp, raid",
          "<b>Topic 6</b><br>Words: cosmetic, navigation, sol, medieval, pvp",
          "<b>Topic 6</b><br>Words: ole, pve, pvp, experimentally, vip",
          "<b>Topic 6</b><br>Words: pvp, comp, swordplay, boo, cringe"
         ],
         "marker": {
          "color": "#CC79A7"
         },
         "mode": "lines",
         "name": "6_pvp_pve_best_hundo",
         "type": "scatter",
         "x": [
          "2014-04-20T18:06:56.036000",
          "2014-11-10T19:22:33.200000",
          "2015-05-29T20:36:41.400000",
          "2015-12-15T21:50:49.600000",
          "2016-07-02T23:04:57.800000",
          "2017-01-19T00:19:06",
          "2017-08-07T01:33:14.200000",
          "2018-02-23T02:47:22.400000",
          "2018-09-11T04:01:30.600000",
          "2019-03-30T05:15:38.800000",
          "2019-10-16T06:29:47",
          "2020-05-03T07:43:55.200000",
          "2020-11-19T08:58:03.400000",
          "2021-06-07T10:12:11.600000",
          "2021-12-24T11:26:19.800000",
          "2022-07-12T12:40:28",
          "2023-01-28T13:54:36.200000",
          "2023-08-16T15:08:44.400000",
          "2024-03-03T16:22:52.600000",
          "2024-09-19T17:37:00.800000"
         ],
         "y": [
          85,
          21,
          17,
          29,
          28,
          12,
          14,
          16,
          4,
          20,
          28,
          19,
          18,
          26,
          20,
          13,
          8,
          5,
          16,
          9
         ]
        },
        {
         "hoverinfo": "text",
         "hovertext": [
          "<b>Topic 7</b><br>Words: miyazaki, hidetaka, director, labrynth, solaire",
          "<b>Topic 7</b><br>Words: miyazaki, burger, film, director, hidetaka",
          "<b>Topic 7</b><br>Words: miyazaki, hidetaka, queen, challanage, golem",
          "<b>Topic 7</b><br>Words: miyazaki, hidetaka, sparse, director, figurine",
          "<b>Topic 7</b><br>Words: dat, miyazaki, wahhhh, semblence, opininon",
          "<b>Topic 7</b><br>Words: dksi, miyazaki, writer, section, iic",
          "<b>Topic 7</b><br>Words: miyazaki, hidetaka, cover, direct, novel",
          "<b>Topic 7</b><br>Words: miyazaki, initially, unknowing, intensity, lovecraft",
          "<b>Topic 7</b><br>Words: miyazaki, bloodborn, tattoo, alot, gem",
          "<b>Topic 7</b><br>Words: miyazaki, critique, iframes, familiar, unexplained",
          "<b>Topic 7</b><br>Words: miyazaki, absence, controversy, ornstein, hidetaka",
          "<b>Topic 7</b><br>Words: miyazaki, direct, hidetaka, miazaki, director",
          "<b>Topic 7</b><br>Words: miyazaki, hidetaka, tomohiro, shibuya, direct",
          "<b>Topic 7</b><br>Words: miyazaki, direct, absence, hidetaka, enormous",
          "<b>Topic 7</b><br>Words: miyazaki, hidetaka, direct, url, intention",
          "<b>Topic 7</b><br>Words: miyazaki, hidetaka, development, lopsided, ai",
          "<b>Topic 7</b><br>Words: miyazaki, emoji, hidetaka, soulslike, trevor",
          "<b>Topic 7</b><br>Words: miyazaki, hidetaka, spoiler, thank, tanimura",
          "<b>Topic 7</b><br>Words: miyazaki, hidetaka, direct, director, tedium",
          "<b>Topic 7</b><br>Words: miyazaki, hidetaka, direct, director, round"
         ],
         "marker": {
          "color": "#E69F00"
         },
         "mode": "lines",
         "name": "7_miyazaki_hidetaka_direct_director",
         "type": "scatter",
         "x": [
          "2014-04-20T18:06:56.036000",
          "2014-11-10T19:22:33.200000",
          "2015-05-29T20:36:41.400000",
          "2015-12-15T21:50:49.600000",
          "2016-07-02T23:04:57.800000",
          "2017-01-19T00:19:06",
          "2017-08-07T01:33:14.200000",
          "2018-02-23T02:47:22.400000",
          "2018-09-11T04:01:30.600000",
          "2019-03-30T05:15:38.800000",
          "2019-10-16T06:29:47",
          "2020-05-03T07:43:55.200000",
          "2020-11-19T08:58:03.400000",
          "2021-06-07T10:12:11.600000",
          "2021-12-24T11:26:19.800000",
          "2022-07-12T12:40:28",
          "2023-01-28T13:54:36.200000",
          "2023-08-16T15:08:44.400000",
          "2024-03-03T16:22:52.600000",
          "2024-09-19T17:37:00.800000"
         ],
         "y": [
          16,
          14,
          14,
          18,
          7,
          6,
          14,
          14,
          8,
          15,
          12,
          18,
          16,
          28,
          26,
          16,
          23,
          33,
          42,
          46
         ]
        },
        {
         "hoverinfo": "text",
         "hovertext": [
          "<b>Topic 8</b><br>Words: challenge, challenging, fun, eyesockets, centry",
          "<b>Topic 8</b><br>Words: challenge, defenately, supah, challenging, agrivating",
          "<b>Topic 8</b><br>Words: challenge, messing, challenging, sole, starter",
          "<b>Topic 8</b><br>Words: challenge, reccomendo, versus, challenging, enimies",
          "<b>Topic 8</b><br>Words: challenge, squooshed, whale, challenging, ver",
          "<b>Topic 8</b><br>Words: difficeurewlt, sophisticatioadawdw, awd, challenge, gift",
          "<b>Topic 8</b><br>Words: daily, challenge, affect, regret, satisfy",
          "<b>Topic 8</b><br>Words: littt, lul, challenge, race, thru",
          "<b>Topic 8</b><br>Words: grasp, timing, hop, challenge, ago",
          "<b>Topic 8</b><br>Words: challenge, aaaaaarrrrghhhh, grapchical, mutant, adventurous",
          "<b>Topic 8</b><br>Words: challenge, challenging, pastime, haaard, awesomely",
          "<b>Topic 8</b><br>Words: challenge, aaaaaaaaaaaaaaaaaaaaaaaaaaaaaaaaaaaaaaaaaaaaaaaaaaaaaaaaaaaaaahhhhhhhhhhhhhhhhhhhhhhhhhhhhhhhhhhhhhhhhhhhhhh, aaaaaaaaaaaaaaaaaaaaaaaaaaaaaaaaahhhhhhhhhhhhhhhhhhhhhhhhhhhhhhhhhhhhhhhhhhhhhhhhhhhhhhhh, legendary, success",
          "<b>Topic 8</b><br>Words: challenge, challenging, finnished, enimies, gratify",
          "<b>Topic 8</b><br>Words: challenge, tad, overcome, challenging, hair",
          "<b>Topic 8</b><br>Words: challenge, shady, obtuse, reveal, worthwhile",
          "<b>Topic 8</b><br>Words: amazing, challenge, would, pretty, fun",
          "<b>Topic 8</b><br>Words: stressing, memed, challenge, challenging, eh",
          "<b>Topic 8</b><br>Words: scrabble, bringer, goldfish, certify, challenged",
          "<b>Topic 8</b><br>Words: understnad, ounce, challenge, buggy, challenging",
          "<b>Topic 8</b><br>Words: challengeing, bid, colorful, challenge, frustrated"
         ],
         "marker": {
          "color": "#56B4E9"
         },
         "mode": "lines",
         "name": "8_challenge_challenging_fun_amazing",
         "type": "scatter",
         "x": [
          "2014-04-20T18:06:56.036000",
          "2014-11-10T19:22:33.200000",
          "2015-05-29T20:36:41.400000",
          "2015-12-15T21:50:49.600000",
          "2016-07-02T23:04:57.800000",
          "2017-01-19T00:19:06",
          "2017-08-07T01:33:14.200000",
          "2018-02-23T02:47:22.400000",
          "2018-09-11T04:01:30.600000",
          "2019-03-30T05:15:38.800000",
          "2019-10-16T06:29:47",
          "2020-05-03T07:43:55.200000",
          "2020-11-19T08:58:03.400000",
          "2021-06-07T10:12:11.600000",
          "2021-12-24T11:26:19.800000",
          "2022-07-12T12:40:28",
          "2023-01-28T13:54:36.200000",
          "2023-08-16T15:08:44.400000",
          "2024-03-03T16:22:52.600000",
          "2024-09-19T17:37:00.800000"
         ],
         "y": [
          92,
          43,
          16,
          16,
          12,
          9,
          4,
          6,
          3,
          14,
          29,
          26,
          15,
          16,
          11,
          3,
          7,
          8,
          6,
          5
         ]
        },
        {
         "hoverinfo": "text",
         "hovertext": [
          "<b>Topic 9</b><br>Words: sun, praise, blah, hole, adherent",
          "<b>Topic 9</b><br>Words: sun, praise, bangt, huraah, bloom",
          "<b>Topic 9</b><br>Words: sun, praise, eighty, matey, biatch",
          "<b>Topic 9</b><br>Words: sun, praise, energy, goty, addict",
          "<b>Topic 9</b><br>Words: sun, praise, toast, hole, blah",
          "<b>Topic 9</b><br>Words: sun, praise, sunny, blah, hole",
          "<b>Topic 9</b><br>Words: sun, praise, dat, gravity, ign",
          "<b>Topic 9</b><br>Words: sun, blah, praise, meme, tongue",
          "<b>Topic 9</b><br>Words: sun, praise, dark, extra, content",
          "<b>Topic 9</b><br>Words: sun, praise, sunnnnnnnnnn, uncle, creepy",
          "<b>Topic 9</b><br>Words: sun, praise, blah, hole, eighty",
          "<b>Topic 9</b><br>Words: sun, praise, paise, blah, hole",
          "<b>Topic 9</b><br>Words: sun, praise, suck, blah, hole",
          "<b>Topic 9</b><br>Words: sun, praise, odball, ok, blah",
          "<b>Topic 9</b><br>Words: sun, praise, completion, difficulty, blah",
          "<b>Topic 9</b><br>Words: sun, praise, server, back, blah",
          "<b>Topic 9</b><br>Words: sun, praise, blah, hole, eighty",
          "<b>Topic 9</b><br>Words: sun, praise, introspection, therefore, require",
          "<b>Topic 9</b><br>Words: sun, praise, hoorah, swallow, bom",
          "<b>Topic 9</b><br>Words: sun, praise, luv, pray, dis"
         ],
         "marker": {
          "color": "#009E73"
         },
         "mode": "lines",
         "name": "9_sun_praise_blah_hole",
         "type": "scatter",
         "x": [
          "2014-04-20T18:06:56.036000",
          "2014-11-10T19:22:33.200000",
          "2015-05-29T20:36:41.400000",
          "2015-12-15T21:50:49.600000",
          "2016-07-02T23:04:57.800000",
          "2017-01-19T00:19:06",
          "2017-08-07T01:33:14.200000",
          "2018-02-23T02:47:22.400000",
          "2018-09-11T04:01:30.600000",
          "2019-03-30T05:15:38.800000",
          "2019-10-16T06:29:47",
          "2020-05-03T07:43:55.200000",
          "2020-11-19T08:58:03.400000",
          "2021-06-07T10:12:11.600000",
          "2021-12-24T11:26:19.800000",
          "2022-07-12T12:40:28",
          "2023-01-28T13:54:36.200000",
          "2023-08-16T15:08:44.400000",
          "2024-03-03T16:22:52.600000",
          "2024-09-19T17:37:00.800000"
         ],
         "y": [
          105,
          24,
          14,
          18,
          17,
          12,
          16,
          4,
          5,
          9,
          9,
          10,
          8,
          15,
          9,
          5,
          5,
          10,
          10,
          8
         ]
        },
        {
         "hoverinfo": "text",
         "hovertext": [
          "<b>Topic 10</b><br>Words: darksouls, darksoulsii, dark, exe, darksoul",
          "<b>Topic 10</b><br>Words: darksouls, hgue, hesitent, darker, downloading",
          "<b>Topic 10</b><br>Words: darksouls, dark, absurdly, thoue, starved",
          "<b>Topic 10</b><br>Words: darksouls, xenoblade, chronicle, darksoul, okgamety",
          "<b>Topic 10</b><br>Words: darksouls, darkosuls, darkaum, poha, soz",
          "<b>Topic 10</b><br>Words: darksouls, bsod, maple, hunk, sticky",
          "<b>Topic 10</b><br>Words: darksouls, cookie, buggyier, endurence, darko",
          "<b>Topic 10</b><br>Words: darksouls, objectivelly, darkouls, inspite, personaly",
          "<b>Topic 10</b><br>Words: darksouls, sht, casuls, happens, respond",
          "<b>Topic 10</b><br>Words: darksouls, darkhorse, purists, silence, shittiest",
          "<b>Topic 10</b><br>Words: darksouls, traaaaaaaash, beatplayers, defentel, raipiers",
          "<b>Topic 10</b><br>Words: darksouls, blackpill, unesssicasry, check, longtime",
          "<b>Topic 10</b><br>Words: darksouls, moonlight, darks, unrefined, prob",
          "<b>Topic 10</b><br>Words: darksouls, darksoul, john, flank, demondsouls",
          "<b>Topic 10</b><br>Words: darksouls, darksoul, darklurker, verbose, deve",
          "<b>Topic 10</b><br>Words: darksouls, souliest, twoiest, darko, darksoul",
          "<b>Topic 10</b><br>Words: darksouls, dark, lakewood, janksouls, lisa",
          "<b>Topic 10</b><br>Words: john, darksoul, darksouls, wife, darkest",
          "<b>Topic 10</b><br>Words: darksouls, darksoul, darks, hater, darked",
          "<b>Topic 10</b><br>Words: darksouls, darksoul, darker, darketosoudos, tremendo"
         ],
         "marker": {
          "color": "#F0E442"
         },
         "mode": "lines",
         "name": "10_darksouls_darksoul_dark_john",
         "type": "scatter",
         "x": [
          "2014-04-20T18:06:56.036000",
          "2014-11-10T19:22:33.200000",
          "2015-05-29T20:36:41.400000",
          "2015-12-15T21:50:49.600000",
          "2016-07-02T23:04:57.800000",
          "2017-01-19T00:19:06",
          "2017-08-07T01:33:14.200000",
          "2018-02-23T02:47:22.400000",
          "2018-09-11T04:01:30.600000",
          "2019-03-30T05:15:38.800000",
          "2019-10-16T06:29:47",
          "2020-05-03T07:43:55.200000",
          "2020-11-19T08:58:03.400000",
          "2021-06-07T10:12:11.600000",
          "2021-12-24T11:26:19.800000",
          "2022-07-12T12:40:28",
          "2023-01-28T13:54:36.200000",
          "2023-08-16T15:08:44.400000",
          "2024-03-03T16:22:52.600000",
          "2024-09-19T17:37:00.800000"
         ],
         "y": [
          37,
          12,
          18,
          12,
          11,
          4,
          11,
          8,
          5,
          11,
          25,
          12,
          23,
          25,
          23,
          13,
          13,
          9,
          19,
          18
         ]
        },
        {
         "hoverinfo": "text",
         "hovertext": [
          "<b>Topic 11</b><br>Words: great, fking, greattttt, greatttttt, everyone",
          "<b>Topic 11</b><br>Words: great, fking, greattttt, greatttttt, outta",
          "<b>Topic 11</b><br>Words: great, fking, greattttt, greatttttt, outta",
          "<b>Topic 11</b><br>Words: great, fking, greattttt, greatttttt, outta",
          "<b>Topic 11</b><br>Words: great, fking, greattttt, greatttttt, outta",
          "<b>Topic 11</b><br>Words: great, fking, greattttt, greatttttt, outta",
          "<b>Topic 11</b><br>Words: great, fking, greattttt, greatttttt, outta",
          "<b>Topic 11</b><br>Words: great, fking, greattttt, greatttttt, outta",
          "<b>Topic 11</b><br>Words: great, fking, greattttt, greatttttt, outta",
          "<b>Topic 11</b><br>Words: great, fking, greattttt, greatttttt, outta",
          "<b>Topic 11</b><br>Words: great, greattttt, greatttttt, outta, fking",
          "<b>Topic 11</b><br>Words: great, fking, greattttt, greatttttt, outta",
          "<b>Topic 11</b><br>Words: great, fking, greattttt, greatttttt, outta",
          "<b>Topic 11</b><br>Words: great, fking, greattttt, greatttttt, outta",
          "<b>Topic 11</b><br>Words: great, fking, greattttt, greatttttt, outta",
          "<b>Topic 11</b><br>Words: great, fking, greattttt, greatttttt, outta",
          "<b>Topic 11</b><br>Words: great, fking, greattttt, greatttttt, outta",
          "<b>Topic 11</b><br>Words: great, fking, greattttt, greatttttt, outta",
          "<b>Topic 11</b><br>Words: great, wonderful, fking, greattttt, greatttttt",
          "<b>Topic 11</b><br>Words: great, fking, greattttt, greatttttt, outta"
         ],
         "marker": {
          "color": "#D55E00"
         },
         "mode": "lines",
         "name": "11_great_fking_greatttttt_greattttt",
         "type": "scatter",
         "x": [
          "2014-04-20T18:06:56.036000",
          "2014-11-10T19:22:33.200000",
          "2015-05-29T20:36:41.400000",
          "2015-12-15T21:50:49.600000",
          "2016-07-02T23:04:57.800000",
          "2017-01-19T00:19:06",
          "2017-08-07T01:33:14.200000",
          "2018-02-23T02:47:22.400000",
          "2018-09-11T04:01:30.600000",
          "2019-03-30T05:15:38.800000",
          "2019-10-16T06:29:47",
          "2020-05-03T07:43:55.200000",
          "2020-11-19T08:58:03.400000",
          "2021-06-07T10:12:11.600000",
          "2021-12-24T11:26:19.800000",
          "2022-07-12T12:40:28",
          "2023-01-28T13:54:36.200000",
          "2023-08-16T15:08:44.400000",
          "2024-03-03T16:22:52.600000",
          "2024-09-19T17:37:00.800000"
         ],
         "y": [
          41,
          16,
          9,
          10,
          5,
          12,
          9,
          3,
          4,
          14,
          28,
          19,
          24,
          21,
          18,
          14,
          10,
          21,
          9,
          13
         ]
        },
        {
         "hoverinfo": "text",
         "hovertext": [
          "<b>Topic 12</b><br>Words: buy, bought, sale, regret, funfunfun",
          "<b>Topic 12</b><br>Words: buy, sale, twice, winter, confuced",
          "<b>Topic 12</b><br>Words: sale, buy, hemorrhoids, plesant, booooring",
          "<b>Topic 12</b><br>Words: buy, bought, nowwwwwwwwwwwww, grillfriend, musta",
          "<b>Topic 12</b><br>Words: circlejerker, sale, hahahahahah, rhino, apperently",
          "<b>Topic 12</b><br>Words: shgould, bought, twice, sux, buy",
          "<b>Topic 12</b><br>Words: kurisu, screaming, weeb, twitch, maldron",
          "<b>Topic 12</b><br>Words: incomplete, diehard, buy, glad, twice",
          "<b>Topic 12</b><br>Words: godrays, buy, sale, twice, bought",
          "<b>Topic 12</b><br>Words: unimaginative, sale, lets, buy, unjustified",
          "<b>Topic 12</b><br>Words: chuuni, cheapest, sale, withstand, buy",
          "<b>Topic 12</b><br>Words: monki, buy, doodoo, catalogue, stinky",
          "<b>Topic 12</b><br>Words: sale, fook, buy, fookin, estate",
          "<b>Topic 12</b><br>Words: oops, admission, sale, chip, buy",
          "<b>Topic 12</b><br>Words: plimplimplim, lmao, sucks, cuz, buy",
          "<b>Topic 12</b><br>Words: norbert, celeste, hoe, sale, yall",
          "<b>Topic 12</b><br>Words: sale, buy, eam, discount, fuckery",
          "<b>Topic 12</b><br>Words: osama, aliexpress, wort, laden, buy",
          "<b>Topic 12</b><br>Words: craigslist, gatekeep, sadomasochism, buy, fam",
          "<b>Topic 12</b><br>Words: originl, buyin, buy, twice, listen"
         ],
         "marker": {
          "color": "#0072B2"
         },
         "mode": "lines",
         "name": "12_buy_sale_twice_bought",
         "type": "scatter",
         "x": [
          "2014-04-20T18:06:56.036000",
          "2014-11-10T19:22:33.200000",
          "2015-05-29T20:36:41.400000",
          "2015-12-15T21:50:49.600000",
          "2016-07-02T23:04:57.800000",
          "2017-01-19T00:19:06",
          "2017-08-07T01:33:14.200000",
          "2018-02-23T02:47:22.400000",
          "2018-09-11T04:01:30.600000",
          "2019-03-30T05:15:38.800000",
          "2019-10-16T06:29:47",
          "2020-05-03T07:43:55.200000",
          "2020-11-19T08:58:03.400000",
          "2021-06-07T10:12:11.600000",
          "2021-12-24T11:26:19.800000",
          "2022-07-12T12:40:28",
          "2023-01-28T13:54:36.200000",
          "2023-08-16T15:08:44.400000",
          "2024-03-03T16:22:52.600000",
          "2024-09-19T17:37:00.800000"
         ],
         "y": [
          62,
          21,
          20,
          22,
          12,
          11,
          9,
          5,
          1,
          12,
          13,
          11,
          17,
          7,
          10,
          9,
          17,
          10,
          10,
          13
         ]
        },
        {
         "hoverinfo": "text",
         "hovertext": [
          "<b>Topic 13</b><br>Words: die, willl, slug, nutshell, eat",
          "<b>Topic 13</b><br>Words: die, sometimes, owie, finna, willl",
          "<b>Topic 13</b><br>Words: die, lie, yeah, owie, finna",
          "<b>Topic 13</b><br>Words: die, sometimes, owie, finna, willl",
          "<b>Topic 13</b><br>Words: die, oh, owie, finna, willl",
          "<b>Topic 13</b><br>Words: die, owie, finna, willl, tire",
          "<b>Topic 13</b><br>Words: die, owie, finna, willl, tire",
          "<b>Topic 13</b><br>Words: die, sure, owie, finna, willl",
          "<b>Topic 13</b><br>Words: die, owie, finna, willl, tire",
          "<b>Topic 13</b><br>Words: die, owie, finna, willl, tire",
          "<b>Topic 13</b><br>Words: die, tire, thats, okay, never",
          "<b>Topic 13</b><br>Words: finna, die, owie, willl, tire",
          "<b>Topic 13</b><br>Words: die, owie, pointless, didnt, finna",
          "<b>Topic 13</b><br>Words: die, son, must, owie, finna",
          "<b>Topic 13</b><br>Words: die, yes, owie, finna, willl",
          "<b>Topic 13</b><br>Words: die, owie, finna, willl, tire",
          "<b>Topic 13</b><br>Words: yay, die, owie, finna, willl",
          "<b>Topic 13</b><br>Words: die, owie, finna, willl, tire",
          "<b>Topic 13</b><br>Words: die, owie, finna, willl, tire",
          "<b>Topic 13</b><br>Words: die, owie, finna, willl, tire"
         ],
         "marker": {
          "color": "#CC79A7"
         },
         "mode": "lines",
         "name": "13_die_owie_finna_willl",
         "type": "scatter",
         "x": [
          "2014-04-20T18:06:56.036000",
          "2014-11-10T19:22:33.200000",
          "2015-05-29T20:36:41.400000",
          "2015-12-15T21:50:49.600000",
          "2016-07-02T23:04:57.800000",
          "2017-01-19T00:19:06",
          "2017-08-07T01:33:14.200000",
          "2018-02-23T02:47:22.400000",
          "2018-09-11T04:01:30.600000",
          "2019-03-30T05:15:38.800000",
          "2019-10-16T06:29:47",
          "2020-05-03T07:43:55.200000",
          "2020-11-19T08:58:03.400000",
          "2021-06-07T10:12:11.600000",
          "2021-12-24T11:26:19.800000",
          "2022-07-12T12:40:28",
          "2023-01-28T13:54:36.200000",
          "2023-08-16T15:08:44.400000",
          "2024-03-03T16:22:52.600000",
          "2024-09-19T17:37:00.800000"
         ],
         "y": [
          75,
          23,
          13,
          24,
          16,
          14,
          11,
          6,
          7,
          11,
          16,
          12,
          11,
          10,
          9,
          9,
          4,
          7,
          3,
          4
         ]
        },
        {
         "hoverinfo": "text",
         "hovertext": [
          "<b>Topic 14</b><br>Words: sun, praise, sunlight, priase, cry",
          "<b>Topic 14</b><br>Words: sun, praise, dontu, lagstabbing, username",
          "<b>Topic 14</b><br>Words: sun, praise, ghul, solare, navigating",
          "<b>Topic 14</b><br>Words: sun, praise, sunbro, bros, sunsword",
          "<b>Topic 14</b><br>Words: sun, praise, cryyyyyyyyyyyyyyyyyyyyyy, praisethe, praising",
          "<b>Topic 14</b><br>Words: sun, praise, rekt, sunlight, bros",
          "<b>Topic 14</b><br>Words: sun, praise, cuphead, allot, backstepped",
          "<b>Topic 14</b><br>Words: sun, hurra, praise, heresy, hurray",
          "<b>Topic 14</b><br>Words: wonderfull, sun, praise, ing, coop",
          "<b>Topic 14</b><br>Words: sun, praiser, barrer, praising, praise",
          "<b>Topic 14</b><br>Words: sun, praise, ether, sunbros, deprive",
          "<b>Topic 14</b><br>Words: sun, praise, neil, armstrong, rose",
          "<b>Topic 14</b><br>Words: sun, praise, drangleics, mercifully, uphold",
          "<b>Topic 14</b><br>Words: sun, praise, wrekd, strat, diff",
          "<b>Topic 14</b><br>Words: sun, solaire, praise, receive, underrated",
          "<b>Topic 14</b><br>Words: sunbro, sun, live, praise, grab",
          "<b>Topic 14</b><br>Words: sunbro, sun, dying, chunk, praise",
          "<b>Topic 14</b><br>Words: sun, praise, shay, cur, grill",
          "<b>Topic 14</b><br>Words: medal, sunlight, chill, sun, praise",
          "<b>Topic 14</b><br>Words: sun, praise, step, afterall, medal"
         ],
         "marker": {
          "color": "#E69F00"
         },
         "mode": "lines",
         "name": "14_sun_praise_sunlight_sunbro",
         "type": "scatter",
         "x": [
          "2014-04-20T18:06:56.036000",
          "2014-11-10T19:22:33.200000",
          "2015-05-29T20:36:41.400000",
          "2015-12-15T21:50:49.600000",
          "2016-07-02T23:04:57.800000",
          "2017-01-19T00:19:06",
          "2017-08-07T01:33:14.200000",
          "2018-02-23T02:47:22.400000",
          "2018-09-11T04:01:30.600000",
          "2019-03-30T05:15:38.800000",
          "2019-10-16T06:29:47",
          "2020-05-03T07:43:55.200000",
          "2020-11-19T08:58:03.400000",
          "2021-06-07T10:12:11.600000",
          "2021-12-24T11:26:19.800000",
          "2022-07-12T12:40:28",
          "2023-01-28T13:54:36.200000",
          "2023-08-16T15:08:44.400000",
          "2024-03-03T16:22:52.600000",
          "2024-09-19T17:37:00.800000"
         ],
         "y": [
          105,
          25,
          14,
          20,
          15,
          13,
          12,
          4,
          3,
          4,
          11,
          6,
          9,
          7,
          2,
          3,
          2,
          7,
          3,
          5
         ]
        }
       ],
       "layout": {
        "height": 450,
        "hoverlabel": {
         "bgcolor": "white",
         "font": {
          "family": "Rockwell",
          "size": 16
         }
        },
        "legend": {
         "title": {
          "text": "<b>Global Topic Representation"
         }
        },
        "template": {
         "data": {
          "bar": [
           {
            "error_x": {
             "color": "rgb(36,36,36)"
            },
            "error_y": {
             "color": "rgb(36,36,36)"
            },
            "marker": {
             "line": {
              "color": "white",
              "width": 0.5
             },
             "pattern": {
              "fillmode": "overlay",
              "size": 10,
              "solidity": 0.2
             }
            },
            "type": "bar"
           }
          ],
          "barpolar": [
           {
            "marker": {
             "line": {
              "color": "white",
              "width": 0.5
             },
             "pattern": {
              "fillmode": "overlay",
              "size": 10,
              "solidity": 0.2
             }
            },
            "type": "barpolar"
           }
          ],
          "carpet": [
           {
            "aaxis": {
             "endlinecolor": "rgb(36,36,36)",
             "gridcolor": "white",
             "linecolor": "white",
             "minorgridcolor": "white",
             "startlinecolor": "rgb(36,36,36)"
            },
            "baxis": {
             "endlinecolor": "rgb(36,36,36)",
             "gridcolor": "white",
             "linecolor": "white",
             "minorgridcolor": "white",
             "startlinecolor": "rgb(36,36,36)"
            },
            "type": "carpet"
           }
          ],
          "choropleth": [
           {
            "colorbar": {
             "outlinewidth": 1,
             "tickcolor": "rgb(36,36,36)",
             "ticks": "outside"
            },
            "type": "choropleth"
           }
          ],
          "contour": [
           {
            "colorbar": {
             "outlinewidth": 1,
             "tickcolor": "rgb(36,36,36)",
             "ticks": "outside"
            },
            "colorscale": [
             [
              0,
              "#440154"
             ],
             [
              0.1111111111111111,
              "#482878"
             ],
             [
              0.2222222222222222,
              "#3e4989"
             ],
             [
              0.3333333333333333,
              "#31688e"
             ],
             [
              0.4444444444444444,
              "#26828e"
             ],
             [
              0.5555555555555556,
              "#1f9e89"
             ],
             [
              0.6666666666666666,
              "#35b779"
             ],
             [
              0.7777777777777778,
              "#6ece58"
             ],
             [
              0.8888888888888888,
              "#b5de2b"
             ],
             [
              1,
              "#fde725"
             ]
            ],
            "type": "contour"
           }
          ],
          "contourcarpet": [
           {
            "colorbar": {
             "outlinewidth": 1,
             "tickcolor": "rgb(36,36,36)",
             "ticks": "outside"
            },
            "type": "contourcarpet"
           }
          ],
          "heatmap": [
           {
            "colorbar": {
             "outlinewidth": 1,
             "tickcolor": "rgb(36,36,36)",
             "ticks": "outside"
            },
            "colorscale": [
             [
              0,
              "#440154"
             ],
             [
              0.1111111111111111,
              "#482878"
             ],
             [
              0.2222222222222222,
              "#3e4989"
             ],
             [
              0.3333333333333333,
              "#31688e"
             ],
             [
              0.4444444444444444,
              "#26828e"
             ],
             [
              0.5555555555555556,
              "#1f9e89"
             ],
             [
              0.6666666666666666,
              "#35b779"
             ],
             [
              0.7777777777777778,
              "#6ece58"
             ],
             [
              0.8888888888888888,
              "#b5de2b"
             ],
             [
              1,
              "#fde725"
             ]
            ],
            "type": "heatmap"
           }
          ],
          "heatmapgl": [
           {
            "colorbar": {
             "outlinewidth": 1,
             "tickcolor": "rgb(36,36,36)",
             "ticks": "outside"
            },
            "colorscale": [
             [
              0,
              "#440154"
             ],
             [
              0.1111111111111111,
              "#482878"
             ],
             [
              0.2222222222222222,
              "#3e4989"
             ],
             [
              0.3333333333333333,
              "#31688e"
             ],
             [
              0.4444444444444444,
              "#26828e"
             ],
             [
              0.5555555555555556,
              "#1f9e89"
             ],
             [
              0.6666666666666666,
              "#35b779"
             ],
             [
              0.7777777777777778,
              "#6ece58"
             ],
             [
              0.8888888888888888,
              "#b5de2b"
             ],
             [
              1,
              "#fde725"
             ]
            ],
            "type": "heatmapgl"
           }
          ],
          "histogram": [
           {
            "marker": {
             "line": {
              "color": "white",
              "width": 0.6
             }
            },
            "type": "histogram"
           }
          ],
          "histogram2d": [
           {
            "colorbar": {
             "outlinewidth": 1,
             "tickcolor": "rgb(36,36,36)",
             "ticks": "outside"
            },
            "colorscale": [
             [
              0,
              "#440154"
             ],
             [
              0.1111111111111111,
              "#482878"
             ],
             [
              0.2222222222222222,
              "#3e4989"
             ],
             [
              0.3333333333333333,
              "#31688e"
             ],
             [
              0.4444444444444444,
              "#26828e"
             ],
             [
              0.5555555555555556,
              "#1f9e89"
             ],
             [
              0.6666666666666666,
              "#35b779"
             ],
             [
              0.7777777777777778,
              "#6ece58"
             ],
             [
              0.8888888888888888,
              "#b5de2b"
             ],
             [
              1,
              "#fde725"
             ]
            ],
            "type": "histogram2d"
           }
          ],
          "histogram2dcontour": [
           {
            "colorbar": {
             "outlinewidth": 1,
             "tickcolor": "rgb(36,36,36)",
             "ticks": "outside"
            },
            "colorscale": [
             [
              0,
              "#440154"
             ],
             [
              0.1111111111111111,
              "#482878"
             ],
             [
              0.2222222222222222,
              "#3e4989"
             ],
             [
              0.3333333333333333,
              "#31688e"
             ],
             [
              0.4444444444444444,
              "#26828e"
             ],
             [
              0.5555555555555556,
              "#1f9e89"
             ],
             [
              0.6666666666666666,
              "#35b779"
             ],
             [
              0.7777777777777778,
              "#6ece58"
             ],
             [
              0.8888888888888888,
              "#b5de2b"
             ],
             [
              1,
              "#fde725"
             ]
            ],
            "type": "histogram2dcontour"
           }
          ],
          "mesh3d": [
           {
            "colorbar": {
             "outlinewidth": 1,
             "tickcolor": "rgb(36,36,36)",
             "ticks": "outside"
            },
            "type": "mesh3d"
           }
          ],
          "parcoords": [
           {
            "line": {
             "colorbar": {
              "outlinewidth": 1,
              "tickcolor": "rgb(36,36,36)",
              "ticks": "outside"
             }
            },
            "type": "parcoords"
           }
          ],
          "pie": [
           {
            "automargin": true,
            "type": "pie"
           }
          ],
          "scatter": [
           {
            "fillpattern": {
             "fillmode": "overlay",
             "size": 10,
             "solidity": 0.2
            },
            "type": "scatter"
           }
          ],
          "scatter3d": [
           {
            "line": {
             "colorbar": {
              "outlinewidth": 1,
              "tickcolor": "rgb(36,36,36)",
              "ticks": "outside"
             }
            },
            "marker": {
             "colorbar": {
              "outlinewidth": 1,
              "tickcolor": "rgb(36,36,36)",
              "ticks": "outside"
             }
            },
            "type": "scatter3d"
           }
          ],
          "scattercarpet": [
           {
            "marker": {
             "colorbar": {
              "outlinewidth": 1,
              "tickcolor": "rgb(36,36,36)",
              "ticks": "outside"
             }
            },
            "type": "scattercarpet"
           }
          ],
          "scattergeo": [
           {
            "marker": {
             "colorbar": {
              "outlinewidth": 1,
              "tickcolor": "rgb(36,36,36)",
              "ticks": "outside"
             }
            },
            "type": "scattergeo"
           }
          ],
          "scattergl": [
           {
            "marker": {
             "colorbar": {
              "outlinewidth": 1,
              "tickcolor": "rgb(36,36,36)",
              "ticks": "outside"
             }
            },
            "type": "scattergl"
           }
          ],
          "scattermapbox": [
           {
            "marker": {
             "colorbar": {
              "outlinewidth": 1,
              "tickcolor": "rgb(36,36,36)",
              "ticks": "outside"
             }
            },
            "type": "scattermapbox"
           }
          ],
          "scatterpolar": [
           {
            "marker": {
             "colorbar": {
              "outlinewidth": 1,
              "tickcolor": "rgb(36,36,36)",
              "ticks": "outside"
             }
            },
            "type": "scatterpolar"
           }
          ],
          "scatterpolargl": [
           {
            "marker": {
             "colorbar": {
              "outlinewidth": 1,
              "tickcolor": "rgb(36,36,36)",
              "ticks": "outside"
             }
            },
            "type": "scatterpolargl"
           }
          ],
          "scatterternary": [
           {
            "marker": {
             "colorbar": {
              "outlinewidth": 1,
              "tickcolor": "rgb(36,36,36)",
              "ticks": "outside"
             }
            },
            "type": "scatterternary"
           }
          ],
          "surface": [
           {
            "colorbar": {
             "outlinewidth": 1,
             "tickcolor": "rgb(36,36,36)",
             "ticks": "outside"
            },
            "colorscale": [
             [
              0,
              "#440154"
             ],
             [
              0.1111111111111111,
              "#482878"
             ],
             [
              0.2222222222222222,
              "#3e4989"
             ],
             [
              0.3333333333333333,
              "#31688e"
             ],
             [
              0.4444444444444444,
              "#26828e"
             ],
             [
              0.5555555555555556,
              "#1f9e89"
             ],
             [
              0.6666666666666666,
              "#35b779"
             ],
             [
              0.7777777777777778,
              "#6ece58"
             ],
             [
              0.8888888888888888,
              "#b5de2b"
             ],
             [
              1,
              "#fde725"
             ]
            ],
            "type": "surface"
           }
          ],
          "table": [
           {
            "cells": {
             "fill": {
              "color": "rgb(237,237,237)"
             },
             "line": {
              "color": "white"
             }
            },
            "header": {
             "fill": {
              "color": "rgb(217,217,217)"
             },
             "line": {
              "color": "white"
             }
            },
            "type": "table"
           }
          ]
         },
         "layout": {
          "annotationdefaults": {
           "arrowhead": 0,
           "arrowwidth": 1
          },
          "autotypenumbers": "strict",
          "coloraxis": {
           "colorbar": {
            "outlinewidth": 1,
            "tickcolor": "rgb(36,36,36)",
            "ticks": "outside"
           }
          },
          "colorscale": {
           "diverging": [
            [
             0,
             "rgb(103,0,31)"
            ],
            [
             0.1,
             "rgb(178,24,43)"
            ],
            [
             0.2,
             "rgb(214,96,77)"
            ],
            [
             0.3,
             "rgb(244,165,130)"
            ],
            [
             0.4,
             "rgb(253,219,199)"
            ],
            [
             0.5,
             "rgb(247,247,247)"
            ],
            [
             0.6,
             "rgb(209,229,240)"
            ],
            [
             0.7,
             "rgb(146,197,222)"
            ],
            [
             0.8,
             "rgb(67,147,195)"
            ],
            [
             0.9,
             "rgb(33,102,172)"
            ],
            [
             1,
             "rgb(5,48,97)"
            ]
           ],
           "sequential": [
            [
             0,
             "#440154"
            ],
            [
             0.1111111111111111,
             "#482878"
            ],
            [
             0.2222222222222222,
             "#3e4989"
            ],
            [
             0.3333333333333333,
             "#31688e"
            ],
            [
             0.4444444444444444,
             "#26828e"
            ],
            [
             0.5555555555555556,
             "#1f9e89"
            ],
            [
             0.6666666666666666,
             "#35b779"
            ],
            [
             0.7777777777777778,
             "#6ece58"
            ],
            [
             0.8888888888888888,
             "#b5de2b"
            ],
            [
             1,
             "#fde725"
            ]
           ],
           "sequentialminus": [
            [
             0,
             "#440154"
            ],
            [
             0.1111111111111111,
             "#482878"
            ],
            [
             0.2222222222222222,
             "#3e4989"
            ],
            [
             0.3333333333333333,
             "#31688e"
            ],
            [
             0.4444444444444444,
             "#26828e"
            ],
            [
             0.5555555555555556,
             "#1f9e89"
            ],
            [
             0.6666666666666666,
             "#35b779"
            ],
            [
             0.7777777777777778,
             "#6ece58"
            ],
            [
             0.8888888888888888,
             "#b5de2b"
            ],
            [
             1,
             "#fde725"
            ]
           ]
          },
          "colorway": [
           "#1F77B4",
           "#FF7F0E",
           "#2CA02C",
           "#D62728",
           "#9467BD",
           "#8C564B",
           "#E377C2",
           "#7F7F7F",
           "#BCBD22",
           "#17BECF"
          ],
          "font": {
           "color": "rgb(36,36,36)"
          },
          "geo": {
           "bgcolor": "white",
           "lakecolor": "white",
           "landcolor": "white",
           "showlakes": true,
           "showland": true,
           "subunitcolor": "white"
          },
          "hoverlabel": {
           "align": "left"
          },
          "hovermode": "closest",
          "mapbox": {
           "style": "light"
          },
          "paper_bgcolor": "white",
          "plot_bgcolor": "white",
          "polar": {
           "angularaxis": {
            "gridcolor": "rgb(232,232,232)",
            "linecolor": "rgb(36,36,36)",
            "showgrid": false,
            "showline": true,
            "ticks": "outside"
           },
           "bgcolor": "white",
           "radialaxis": {
            "gridcolor": "rgb(232,232,232)",
            "linecolor": "rgb(36,36,36)",
            "showgrid": false,
            "showline": true,
            "ticks": "outside"
           }
          },
          "scene": {
           "xaxis": {
            "backgroundcolor": "white",
            "gridcolor": "rgb(232,232,232)",
            "gridwidth": 2,
            "linecolor": "rgb(36,36,36)",
            "showbackground": true,
            "showgrid": false,
            "showline": true,
            "ticks": "outside",
            "zeroline": false,
            "zerolinecolor": "rgb(36,36,36)"
           },
           "yaxis": {
            "backgroundcolor": "white",
            "gridcolor": "rgb(232,232,232)",
            "gridwidth": 2,
            "linecolor": "rgb(36,36,36)",
            "showbackground": true,
            "showgrid": false,
            "showline": true,
            "ticks": "outside",
            "zeroline": false,
            "zerolinecolor": "rgb(36,36,36)"
           },
           "zaxis": {
            "backgroundcolor": "white",
            "gridcolor": "rgb(232,232,232)",
            "gridwidth": 2,
            "linecolor": "rgb(36,36,36)",
            "showbackground": true,
            "showgrid": false,
            "showline": true,
            "ticks": "outside",
            "zeroline": false,
            "zerolinecolor": "rgb(36,36,36)"
           }
          },
          "shapedefaults": {
           "fillcolor": "black",
           "line": {
            "width": 0
           },
           "opacity": 0.3
          },
          "ternary": {
           "aaxis": {
            "gridcolor": "rgb(232,232,232)",
            "linecolor": "rgb(36,36,36)",
            "showgrid": false,
            "showline": true,
            "ticks": "outside"
           },
           "baxis": {
            "gridcolor": "rgb(232,232,232)",
            "linecolor": "rgb(36,36,36)",
            "showgrid": false,
            "showline": true,
            "ticks": "outside"
           },
           "bgcolor": "white",
           "caxis": {
            "gridcolor": "rgb(232,232,232)",
            "linecolor": "rgb(36,36,36)",
            "showgrid": false,
            "showline": true,
            "ticks": "outside"
           }
          },
          "title": {
           "x": 0.05
          },
          "xaxis": {
           "automargin": true,
           "gridcolor": "rgb(232,232,232)",
           "linecolor": "rgb(36,36,36)",
           "showgrid": false,
           "showline": true,
           "ticks": "outside",
           "title": {
            "standoff": 15
           },
           "zeroline": false,
           "zerolinecolor": "rgb(36,36,36)"
          },
          "yaxis": {
           "automargin": true,
           "gridcolor": "rgb(232,232,232)",
           "linecolor": "rgb(36,36,36)",
           "showgrid": false,
           "showline": true,
           "ticks": "outside",
           "title": {
            "standoff": 15
           },
           "zeroline": false,
           "zerolinecolor": "rgb(36,36,36)"
          }
         }
        },
        "title": {
         "font": {
          "color": "Black",
          "size": 22
         },
         "text": "<b>Topics over Time</b>",
         "x": 0.4,
         "xanchor": "center",
         "y": 0.95,
         "yanchor": "top"
        },
        "width": 1250,
        "xaxis": {
         "showgrid": true
        },
        "yaxis": {
         "showgrid": true,
         "title": {
          "text": "Frequency"
         }
        }
       }
      }
     },
     "metadata": {},
     "output_type": "display_data"
    }
   ],
   "source": [
    "topic_model.visualize_topics_over_time(topics_over_time, top_n_topics=15)"
   ]
  },
  {
   "cell_type": "markdown",
   "metadata": {},
   "source": [
    "### Positive reviews:"
   ]
  },
  {
   "cell_type": "code",
   "execution_count": 10,
   "metadata": {},
   "outputs": [],
   "source": [
    "pos_model = BERTopic.load(\"models/bertopic_pos_model\")"
   ]
  },
  {
   "cell_type": "code",
   "execution_count": 11,
   "metadata": {},
   "outputs": [
    {
     "name": "stderr",
     "output_type": "stream",
     "text": [
      "20it [00:23,  1.18s/it]\n"
     ]
    }
   ],
   "source": [
    "pos_topics_over_time = pos_model.topics_over_time(pos_docs, pos_timestamps, nr_bins=20)"
   ]
  },
  {
   "cell_type": "code",
   "execution_count": 12,
   "metadata": {},
   "outputs": [
    {
     "data": {
      "application/vnd.plotly.v1+json": {
       "config": {
        "plotlyServerURL": "https://plot.ly"
       },
       "data": [
        {
         "hoverinfo": "text",
         "hovertext": [
          "<b>Topic 0</b><br>Words: brolaire, ow, praise, umm, forgot",
          "<b>Topic 0</b><br>Words: praise, would, brolaire, ow, umm",
          "<b>Topic 0</b><br>Words: praise, would, brolaire, ow, umm",
          "<b>Topic 0</b><br>Words: brolaire, ow, umm, praise, forgot",
          "<b>Topic 0</b><br>Words: brolaire, ow, umm, praise, forgot",
          "<b>Topic 0</b><br>Words: brolaire, ow, umm, praise, forgot",
          "<b>Topic 0</b><br>Words: brolaire, ow, umm, praise, forgot",
          "<b>Topic 0</b><br>Words: brolaire, ow, umm, praise, forgot",
          "<b>Topic 0</b><br>Words: brolaire, ow, umm, praise, forgot",
          "<b>Topic 0</b><br>Words: brolaire, ow, umm, praise, forgot",
          "<b>Topic 0</b><br>Words: brolaire, ow, umm, praise, forgot",
          "<b>Topic 0</b><br>Words: umm, brolaire, ow, praise, forgot",
          "<b>Topic 0</b><br>Words: brolaire, ow, umm, praise, forgot",
          "<b>Topic 0</b><br>Words: brolaire, ow, umm, praise, forgot",
          "<b>Topic 0</b><br>Words: aaa, hello, brolaire, ow, umm",
          "<b>Topic 0</b><br>Words: forgot, brolaire, ow, umm, praise",
          "<b>Topic 0</b><br>Words: brolaire, ow, umm, praise, forgot",
          "<b>Topic 0</b><br>Words: brolaire, ow, umm, praise, forgot",
          "<b>Topic 0</b><br>Words: brolaire, ow, umm, praise, forgot",
          "<b>Topic 0</b><br>Words: last, brolaire, ow, umm, praise"
         ],
         "marker": {
          "color": "#E69F00"
         },
         "mode": "lines",
         "name": "0_brolaire_umm_ow_praise",
         "type": "scatter",
         "x": [
          "2014-04-20T18:07:07.316999",
          "2014-11-10T19:13:09.150000",
          "2015-05-29T20:17:53.300000",
          "2015-12-15T21:22:37.449999",
          "2016-07-02T22:27:21.600000",
          "2017-01-18T23:32:05.750000",
          "2017-08-07T00:36:49.900000",
          "2018-02-23T01:41:34.049999",
          "2018-09-11T02:46:18.200000",
          "2019-03-30T03:51:02.350000",
          "2019-10-16T04:55:46.500000",
          "2020-05-03T06:00:30.649999",
          "2020-11-19T07:05:14.800000",
          "2021-06-07T08:09:58.950000",
          "2021-12-24T09:14:43.100000",
          "2022-07-12T10:19:27.249999",
          "2023-01-28T11:24:11.400000",
          "2023-08-16T12:28:55.550000",
          "2024-03-03T13:33:39.700000",
          "2024-09-19T14:38:23.849999"
         ],
         "y": [
          116,
          51,
          41,
          43,
          32,
          22,
          24,
          22,
          29,
          43,
          100,
          102,
          134,
          143,
          139,
          105,
          105,
          130,
          135,
          153
         ]
        },
        {
         "hoverinfo": "text",
         "hovertext": [
          "<b>Topic 1</b><br>Words: good, as, mm, dat, ol",
          "<b>Topic 1</b><br>Words: good, dat, mm, ol, af",
          "<b>Topic 1</b><br>Words: good, mm, dat, ol, af",
          "<b>Topic 1</b><br>Words: good, mm, dat, ol, af",
          "<b>Topic 1</b><br>Words: good, mm, dat, ol, af",
          "<b>Topic 1</b><br>Words: good, mm, dat, ol, af",
          "<b>Topic 1</b><br>Words: good, mm, dat, ol, af",
          "<b>Topic 1</b><br>Words: good, mm, dat, ol, af",
          "<b>Topic 1</b><br>Words: good, mm, dat, ol, af",
          "<b>Topic 1</b><br>Words: good, mm, dat, ol, af",
          "<b>Topic 1</b><br>Words: good, mm, dat, ol, af",
          "<b>Topic 1</b><br>Words: good, mm, lol, dks, dat",
          "<b>Topic 1</b><br>Words: good, mm, dat, ol, af",
          "<b>Topic 1</b><br>Words: good, thats, mm, dat, ol",
          "<b>Topic 1</b><br>Words: good, please, sometimes, mm, dat",
          "<b>Topic 1</b><br>Words: good, mm, dat, ol, af",
          "<b>Topic 1</b><br>Words: good, mm, dat, ol, af",
          "<b>Topic 1</b><br>Words: good, af, mm, dat, ol",
          "<b>Topic 1</b><br>Words: good, ol, mm, dat, af",
          "<b>Topic 1</b><br>Words: good, mm, dat, ol, af"
         ],
         "marker": {
          "color": "#56B4E9"
         },
         "mode": "lines",
         "name": "1_good_mm_dat_ol",
         "type": "scatter",
         "x": [
          "2014-04-20T18:07:07.316999",
          "2014-11-10T19:13:09.150000",
          "2015-05-29T20:17:53.300000",
          "2015-12-15T21:22:37.449999",
          "2016-07-02T22:27:21.600000",
          "2017-01-18T23:32:05.750000",
          "2017-08-07T00:36:49.900000",
          "2018-02-23T01:41:34.049999",
          "2018-09-11T02:46:18.200000",
          "2019-03-30T03:51:02.350000",
          "2019-10-16T04:55:46.500000",
          "2020-05-03T06:00:30.649999",
          "2020-11-19T07:05:14.800000",
          "2021-06-07T08:09:58.950000",
          "2021-12-24T09:14:43.100000",
          "2022-07-12T10:19:27.249999",
          "2023-01-28T11:24:11.400000",
          "2023-08-16T12:28:55.550000",
          "2024-03-03T13:33:39.700000",
          "2024-09-19T14:38:23.849999"
         ],
         "y": [
          67,
          34,
          13,
          30,
          18,
          27,
          26,
          12,
          25,
          47,
          102,
          109,
          103,
          116,
          110,
          70,
          89,
          74,
          100,
          98
         ]
        },
        {
         "hoverinfo": "text",
         "hovertext": [
          "<b>Topic 2</b><br>Words: player, attack, covenant, item, area",
          "<b>Topic 2</b><br>Words: matrixdll, area, player, new, change",
          "<b>Topic 2</b><br>Words: enemy, dks, place, player, area",
          "<b>Topic 2</b><br>Words: katana, ice, chaos, rapier, player",
          "<b>Topic 2</b><br>Words: weapon, unlike, player, either, area",
          "<b>Topic 2</b><br>Words: list, find, enemy, fight, player",
          "<b>Topic 2</b><br>Words: stats, item, player, area, certain",
          "<b>Topic 2</b><br>Words: quote, player, area, certain, roll",
          "<b>Topic 2</b><br>Words: damage, attack, player, area, spoiler",
          "<b>Topic 2</b><br>Words: attack, enemy, fight, area, boss",
          "<b>Topic 2</b><br>Words: bean, estus, attack, area, heal",
          "<b>Topic 2</b><br>Words: area, weapon, early, enemy, npc",
          "<b>Topic 2</b><br>Words: tyrit, area, enemy, attack, weapon",
          "<b>Topic 2</b><br>Words: area, attack, movement, enemy, na",
          "<b>Topic 2</b><br>Words: iron, keep, hate, attack, fight",
          "<b>Topic 2</b><br>Words: hr, area, level, path, boss",
          "<b>Topic 2</b><br>Words: king, zone, enemy, attack, area",
          "<b>Topic 2</b><br>Words: ganked, poison, zone, dementia, attack",
          "<b>Topic 2</b><br>Words: area, enemy, attack, spoiler, player",
          "<b>Topic 2</b><br>Words: spoiler, area, enemy, king, world"
         ],
         "marker": {
          "color": "#009E73"
         },
         "mode": "lines",
         "name": "2_iron_area_player_attack",
         "type": "scatter",
         "x": [
          "2014-04-20T18:07:07.316999",
          "2014-11-10T19:13:09.150000",
          "2015-05-29T20:17:53.300000",
          "2015-12-15T21:22:37.449999",
          "2016-07-02T22:27:21.600000",
          "2017-01-18T23:32:05.750000",
          "2017-08-07T00:36:49.900000",
          "2018-02-23T01:41:34.049999",
          "2018-09-11T02:46:18.200000",
          "2019-03-30T03:51:02.350000",
          "2019-10-16T04:55:46.500000",
          "2020-05-03T06:00:30.649999",
          "2020-11-19T07:05:14.800000",
          "2021-06-07T08:09:58.950000",
          "2021-12-24T09:14:43.100000",
          "2022-07-12T10:19:27.249999",
          "2023-01-28T11:24:11.400000",
          "2023-08-16T12:28:55.550000",
          "2024-03-03T13:33:39.700000",
          "2024-09-19T14:38:23.849999"
         ],
         "y": [
          185,
          74,
          42,
          54,
          35,
          45,
          35,
          28,
          26,
          27,
          30,
          37,
          49,
          55,
          46,
          27,
          49,
          56,
          62,
          75
         ]
        },
        {
         "hoverinfo": "text",
         "hovertext": [
          "<b>Topic 3</b><br>Words: dlc, flims, handeling, drowned, guerillimo",
          "<b>Topic 3</b><br>Words: dx, dlc, upgrade, version, season",
          "<b>Topic 3</b><br>Words: dlc, version, original, upgrade, placement",
          "<b>Topic 3</b><br>Words: dlc, version, price, dx, season",
          "<b>Topic 3</b><br>Words: dlc, include, version, dks, dx",
          "<b>Topic 3</b><br>Words: dlc, version, dx, upgrade, original",
          "<b>Topic 3</b><br>Words: dlc, dlcs, march, downloable, deservingly",
          "<b>Topic 3</b><br>Words: dlc, version, deceased, bouhgt, backgroundstory",
          "<b>Topic 3</b><br>Words: version, dlc, yus, ddlc, changelog",
          "<b>Topic 3</b><br>Words: absoulte, seriers, dlc, themed, actully",
          "<b>Topic 3</b><br>Words: dlc, version, vaguer, dlcs, patch",
          "<b>Topic 3</b><br>Words: version, dlc, placement, dlcs, original",
          "<b>Topic 3</b><br>Words: dlcs, dlc, nerds, paywall, prepackaged",
          "<b>Topic 3</b><br>Words: dlc, dlcs, fullprice, designed, executive",
          "<b>Topic 3</b><br>Words: dlc, spacial, plateaus, silva, marty",
          "<b>Topic 3</b><br>Words: dlc, cod, gow, activision, softfs",
          "<b>Topic 3</b><br>Words: dlc, dmc, version, vanilla, babyy",
          "<b>Topic 3</b><br>Words: dlc, color, version, dlcs, pirated",
          "<b>Topic 3</b><br>Words: dlc, split, version, release, accusation",
          "<b>Topic 3</b><br>Words: dlcs, dlc, ahaaaaaaaaaaaaaaaaaaaaahhhhhhhhhghhh, resend, version"
         ],
         "marker": {
          "color": "#F0E442"
         },
         "mode": "lines",
         "name": "3_dlc_version_dx_upgrade",
         "type": "scatter",
         "x": [
          "2014-04-20T18:07:07.316999",
          "2014-11-10T19:13:09.150000",
          "2015-05-29T20:17:53.300000",
          "2015-12-15T21:22:37.449999",
          "2016-07-02T22:27:21.600000",
          "2017-01-18T23:32:05.750000",
          "2017-08-07T00:36:49.900000",
          "2018-02-23T01:41:34.049999",
          "2018-09-11T02:46:18.200000",
          "2019-03-30T03:51:02.350000",
          "2019-10-16T04:55:46.500000",
          "2020-05-03T06:00:30.649999",
          "2020-11-19T07:05:14.800000",
          "2021-06-07T08:09:58.950000",
          "2021-12-24T09:14:43.100000",
          "2022-07-12T10:19:27.249999",
          "2023-01-28T11:24:11.400000",
          "2023-08-16T12:28:55.550000",
          "2024-03-03T13:33:39.700000",
          "2024-09-19T14:38:23.849999"
         ],
         "y": [
          36,
          198,
          73,
          62,
          21,
          20,
          22,
          15,
          12,
          13,
          20,
          19,
          31,
          27,
          28,
          18,
          21,
          23,
          33,
          22
         ]
        },
        {
         "hoverinfo": "text",
         "hovertext": [
          "<b>Topic 4</b><br>Words: best, everrrrrrrrrrrrrrrrrrrrrrrrrrrrrrrrrrrrrrrrrrrrrrrrrrrrrrrrrrrrrrrrrrrrrrrrrrrrrrrrrrrrrrrrrrrrrrrrrrrrrrr, ah, wtf, btw",
          "<b>Topic 4</b><br>Words: best, everrrrrrrrrrrrrrrrrrrrrrrrrrrrrrrrrrrrrrrrrrrrrrrrrrrrrrrrrrrrrrrrrrrrrrrrrrrrrrrrrrrrrrrrrrrrrrrrrrrrrrr, ah, wtf, btw",
          "<b>Topic 4</b><br>Words: best, hey, last, everrrrrrrrrrrrrrrrrrrrrrrrrrrrrrrrrrrrrrrrrrrrrrrrrrrrrrrrrrrrrrrrrrrrrrrrrrrrrrrrrrrrrrrrrrrrrrrrrrrrrrr, ah",
          "<b>Topic 4</b><br>Words: best, everrrrrrrrrrrrrrrrrrrrrrrrrrrrrrrrrrrrrrrrrrrrrrrrrrrrrrrrrrrrrrrrrrrrrrrrrrrrrrrrrrrrrrrrrrrrrrrrrrrrrrr, ah, wtf, btw",
          "<b>Topic 4</b><br>Words: best, lol, everrrrrrrrrrrrrrrrrrrrrrrrrrrrrrrrrrrrrrrrrrrrrrrrrrrrrrrrrrrrrrrrrrrrrrrrrrrrrrrrrrrrrrrrrrrrrrrrrrrrrrr, ah, wtf",
          "<b>Topic 4</b><br>Words: best, everrrrrrrrrrrrrrrrrrrrrrrrrrrrrrrrrrrrrrrrrrrrrrrrrrrrrrrrrrrrrrrrrrrrrrrrrrrrrrrrrrrrrrrrrrrrrrrrrrrrrrr, ah, wtf, btw",
          "<b>Topic 4</b><br>Words: best, everrrrrrrrrrrrrrrrrrrrrrrrrrrrrrrrrrrrrrrrrrrrrrrrrrrrrrrrrrrrrrrrrrrrrrrrrrrrrrrrrrrrrrrrrrrrrrrrrrrrrrr, ah, wtf, btw",
          "<b>Topic 4</b><br>Words: best, everrrrrrrrrrrrrrrrrrrrrrrrrrrrrrrrrrrrrrrrrrrrrrrrrrrrrrrrrrrrrrrrrrrrrrrrrrrrrrrrrrrrrrrrrrrrrrrrrrrrrrr, ah, wtf, btw",
          "<b>Topic 4</b><br>Words: best, everrrrrrrrrrrrrrrrrrrrrrrrrrrrrrrrrrrrrrrrrrrrrrrrrrrrrrrrrrrrrrrrrrrrrrrrrrrrrrrrrrrrrrrrrrrrrrrrrrrrrrr, ah, wtf, btw",
          "<b>Topic 4</b><br>Words: best, btw, everrrrrrrrrrrrrrrrrrrrrrrrrrrrrrrrrrrrrrrrrrrrrrrrrrrrrrrrrrrrrrrrrrrrrrrrrrrrrrrrrrrrrrrrrrrrrrrrrrrrrrr, ah, wtf",
          "<b>Topic 4</b><br>Words: best, everrrrrrrrrrrrrrrrrrrrrrrrrrrrrrrrrrrrrrrrrrrrrrrrrrrrrrrrrrrrrrrrrrrrrrrrrrrrrrrrrrrrrrrrrrrrrrrrrrrrrrr, ah, wtf, btw",
          "<b>Topic 4</b><br>Words: best, everrrrrrrrrrrrrrrrrrrrrrrrrrrrrrrrrrrrrrrrrrrrrrrrrrrrrrrrrrrrrrrrrrrrrrrrrrrrrrrrrrrrrrrrrrrrrrrrrrrrrrr, ah, wtf, btw",
          "<b>Topic 4</b><br>Words: best, ah, everrrrrrrrrrrrrrrrrrrrrrrrrrrrrrrrrrrrrrrrrrrrrrrrrrrrrrrrrrrrrrrrrrrrrrrrrrrrrrrrrrrrrrrrrrrrrrrrrrrrrrr, wtf, btw",
          "<b>Topic 4</b><br>Words: best, everrrrrrrrrrrrrrrrrrrrrrrrrrrrrrrrrrrrrrrrrrrrrrrrrrrrrrrrrrrrrrrrrrrrrrrrrrrrrrrrrrrrrrrrrrrrrrrrrrrrrrr, ah, wtf, btw",
          "<b>Topic 4</b><br>Words: best, everrrrrrrrrrrrrrrrrrrrrrrrrrrrrrrrrrrrrrrrrrrrrrrrrrrrrrrrrrrrrrrrrrrrrrrrrrrrrrrrrrrrrrrrrrrrrrrrrrrrrrr, ah, wtf, btw",
          "<b>Topic 4</b><br>Words: best, everrrrrrrrrrrrrrrrrrrrrrrrrrrrrrrrrrrrrrrrrrrrrrrrrrrrrrrrrrrrrrrrrrrrrrrrrrrrrrrrrrrrrrrrrrrrrrrrrrrrrrr, ah, wtf, btw",
          "<b>Topic 4</b><br>Words: best, ah, yes, everrrrrrrrrrrrrrrrrrrrrrrrrrrrrrrrrrrrrrrrrrrrrrrrrrrrrrrrrrrrrrrrrrrrrrrrrrrrrrrrrrrrrrrrrrrrrrrrrrrrrrr, wtf",
          "<b>Topic 4</b><br>Words: best, right, everrrrrrrrrrrrrrrrrrrrrrrrrrrrrrrrrrrrrrrrrrrrrrrrrrrrrrrrrrrrrrrrrrrrrrrrrrrrrrrrrrrrrrrrrrrrrrrrrrrrrrr, ah, wtf",
          "<b>Topic 4</b><br>Words: best, everrrrrrrrrrrrrrrrrrrrrrrrrrrrrrrrrrrrrrrrrrrrrrrrrrrrrrrrrrrrrrrrrrrrrrrrrrrrrrrrrrrrrrrrrrrrrrrrrrrrrrr, ah, wtf, btw",
          "<b>Topic 4</b><br>Words: best, wtf, everrrrrrrrrrrrrrrrrrrrrrrrrrrrrrrrrrrrrrrrrrrrrrrrrrrrrrrrrrrrrrrrrrrrrrrrrrrrrrrrrrrrrrrrrrrrrrrrrrrrrrr, ah, btw"
         ],
         "marker": {
          "color": "#D55E00"
         },
         "mode": "lines",
         "name": "4_best_everrrrrrrrrrrrrrrrrrrrrrrrrrrrrr...",
         "type": "scatter",
         "x": [
          "2014-04-20T18:07:07.316999",
          "2014-11-10T19:13:09.150000",
          "2015-05-29T20:17:53.300000",
          "2015-12-15T21:22:37.449999",
          "2016-07-02T22:27:21.600000",
          "2017-01-18T23:32:05.750000",
          "2017-08-07T00:36:49.900000",
          "2018-02-23T01:41:34.049999",
          "2018-09-11T02:46:18.200000",
          "2019-03-30T03:51:02.350000",
          "2019-10-16T04:55:46.500000",
          "2020-05-03T06:00:30.649999",
          "2020-11-19T07:05:14.800000",
          "2021-06-07T08:09:58.950000",
          "2021-12-24T09:14:43.100000",
          "2022-07-12T10:19:27.249999",
          "2023-01-28T11:24:11.400000",
          "2023-08-16T12:28:55.550000",
          "2024-03-03T13:33:39.700000",
          "2024-09-19T14:38:23.849999"
         ],
         "y": [
          19,
          10,
          4,
          2,
          3,
          7,
          6,
          1,
          9,
          20,
          37,
          31,
          39,
          59,
          52,
          43,
          50,
          47,
          57,
          60
         ]
        },
        {
         "hoverinfo": "text",
         "hovertext": [
          "<b>Topic 5</b><br>Words: yes, nope, yesn, yessir, thank",
          "<b>Topic 5</b><br>Words: yes, nope, yesn, yessir, thank",
          "<b>Topic 5</b><br>Words: yes, yesn, nope, yessir, thank",
          "<b>Topic 5</b><br>Words: yes, yesn, nope, yessir, thank",
          "<b>Topic 5</b><br>Words: yes, yesn, nope, yessir, thank",
          "<b>Topic 5</b><br>Words: yes, yesn, nope, yessir, thank",
          "<b>Topic 5</b><br>Words: yes, yesn, nope, yessir, thank",
          "<b>Topic 5</b><br>Words: yes, yesn, nope, yessir, thank",
          "<b>Topic 5</b><br>Words: yes, yesn, nope, yessir, thank",
          "<b>Topic 5</b><br>Words: yes, yesn, nope, yessir, thank",
          "<b>Topic 5</b><br>Words: yes, yesn, nope, yessir, thank",
          "<b>Topic 5</b><br>Words: yes, yesn, nope, yessir, thank",
          "<b>Topic 5</b><br>Words: yes, yesn, nope, yessir, thank",
          "<b>Topic 5</b><br>Words: yes, thank, bro, sir, cool",
          "<b>Topic 5</b><br>Words: yes, yesn, nope, yessir, thank",
          "<b>Topic 5</b><br>Words: yes, yesn, nope, yessir, thank",
          "<b>Topic 5</b><br>Words: yes, yesn, nope, yessir, thank",
          "<b>Topic 5</b><br>Words: yes, yessir, yesn, nope, thank",
          "<b>Topic 5</b><br>Words: yes, yesn, nope, yessir, thank",
          "<b>Topic 5</b><br>Words: yes, yesn, nope, yessir, thank"
         ],
         "marker": {
          "color": "#0072B2"
         },
         "mode": "lines",
         "name": "5_yes_yesn_nope_yessir",
         "type": "scatter",
         "x": [
          "2014-04-20T18:07:07.316999",
          "2014-11-10T19:13:09.150000",
          "2015-05-29T20:17:53.300000",
          "2015-12-15T21:22:37.449999",
          "2016-07-02T22:27:21.600000",
          "2017-01-18T23:32:05.750000",
          "2017-08-07T00:36:49.900000",
          "2018-02-23T01:41:34.049999",
          "2018-09-11T02:46:18.200000",
          "2019-03-30T03:51:02.350000",
          "2019-10-16T04:55:46.500000",
          "2020-05-03T06:00:30.649999",
          "2020-11-19T07:05:14.800000",
          "2021-06-07T08:09:58.950000",
          "2021-12-24T09:14:43.100000",
          "2022-07-12T10:19:27.249999",
          "2023-01-28T11:24:11.400000",
          "2023-08-16T12:28:55.550000",
          "2024-03-03T13:33:39.700000",
          "2024-09-19T14:38:23.849999"
         ],
         "y": [
          25,
          13,
          5,
          6,
          4,
          1,
          3,
          2,
          5,
          9,
          50,
          50,
          49,
          45,
          40,
          26,
          15,
          24,
          23,
          23
         ]
        },
        {
         "hoverinfo": "text",
         "hovertext": [
          "<b>Topic 6</b><br>Words: keyboard, mouse, controller, control, key",
          "<b>Topic 6</b><br>Words: keyboard, mouse, controller, control, gamepad",
          "<b>Topic 6</b><br>Words: keyboard, mouse, controller, controlls, key",
          "<b>Topic 6</b><br>Words: keyboard, mouse, controller, click, control",
          "<b>Topic 6</b><br>Words: keyboard, mouse, controller, cokc, controels",
          "<b>Topic 6</b><br>Words: keyboard, mouse, controller, control, key",
          "<b>Topic 6</b><br>Words: keyboard, mouse, controler, paypal, insta",
          "<b>Topic 6</b><br>Words: sensitivity, mouse, binding, infurating, keyboard",
          "<b>Topic 6</b><br>Words: keyboard, keybindings, mouse, dualwielding, rejoice",
          "<b>Topic 6</b><br>Words: keyboard, mouse, waterboarded, control, temperature",
          "<b>Topic 6</b><br>Words: keyboard, control, mouse, controller, binding",
          "<b>Topic 6</b><br>Words: keyboard, mouse, control, bind, controller",
          "<b>Topic 6</b><br>Words: keyboard, mouse, prompt, hassel, awkwardness",
          "<b>Topic 6</b><br>Words: mouse, keyboard, autohotkey, controller, disable",
          "<b>Topic 6</b><br>Words: mouse, keyboard, downvote, bind, control",
          "<b>Topic 6</b><br>Words: keyboard, mouse, click, controller, disable",
          "<b>Topic 6</b><br>Words: keyboard, mouse, cotroller, control, bind",
          "<b>Topic 6</b><br>Words: keyboard, mouse, remap, longish, bind",
          "<b>Topic 6</b><br>Words: keyboard, mouse, clunkt, controller, steams",
          "<b>Topic 6</b><br>Words: keyboard, mouse, miyuzaki, rebind, controller"
         ],
         "marker": {
          "color": "#CC79A7"
         },
         "mode": "lines",
         "name": "6_keyboard_mouse_controller_control",
         "type": "scatter",
         "x": [
          "2014-04-20T18:07:07.316999",
          "2014-11-10T19:13:09.150000",
          "2015-05-29T20:17:53.300000",
          "2015-12-15T21:22:37.449999",
          "2016-07-02T22:27:21.600000",
          "2017-01-18T23:32:05.750000",
          "2017-08-07T00:36:49.900000",
          "2018-02-23T01:41:34.049999",
          "2018-09-11T02:46:18.200000",
          "2019-03-30T03:51:02.350000",
          "2019-10-16T04:55:46.500000",
          "2020-05-03T06:00:30.649999",
          "2020-11-19T07:05:14.800000",
          "2021-06-07T08:09:58.950000",
          "2021-12-24T09:14:43.100000",
          "2022-07-12T10:19:27.249999",
          "2023-01-28T11:24:11.400000",
          "2023-08-16T12:28:55.550000",
          "2024-03-03T13:33:39.700000",
          "2024-09-19T14:38:23.849999"
         ],
         "y": [
          128,
          19,
          17,
          23,
          8,
          12,
          9,
          2,
          5,
          9,
          15,
          19,
          12,
          13,
          10,
          9,
          9,
          9,
          12,
          13
         ]
        },
        {
         "hoverinfo": "text",
         "hovertext": [
          "<b>Topic 7</b><br>Words: que, de, jogo, el, muito",
          "<b>Topic 7</b><br>Words: de, que, jogo, le, la",
          "<b>Topic 7</b><br>Words: que, jogo, ncia, minhas, de",
          "<b>Topic 7</b><br>Words: que, jogo, de, se, muito",
          "<b>Topic 7</b><br>Words: que, de, el, en, la",
          "<b>Topic 7</b><br>Words: que, de, su, en, la",
          "<b>Topic 7</b><br>Words: que, la, el, se, de",
          "<b>Topic 7</b><br>Words: morrer, perfeito, matar, mais, se",
          "<b>Topic 7</b><br>Words: el, favorita, totales, tanti, rango",
          "<b>Topic 7</b><br>Words: de, jogo, que, el, lo",
          "<b>Topic 7</b><br>Words: que, juegazo, jogo, de, pero",
          "<b>Topic 7</b><br>Words: jogo, que, de, ma, um",
          "<b>Topic 7</b><br>Words: novo, de, que, el, um",
          "<b>Topic 7</b><br>Words: que, jogo, de, um, mais",
          "<b>Topic 7</b><br>Words: de, la, que, el, pero",
          "<b>Topic 7</b><br>Words: que, de, pra, jogo, voc",
          "<b>Topic 7</b><br>Words: que, de, jogo, el, la",
          "<b>Topic 7</b><br>Words: te, odeio, amo, que, de",
          "<b>Topic 7</b><br>Words: de, que, juego, la, el",
          "<b>Topic 7</b><br>Words: que, de, jogo, la, um"
         ],
         "marker": {
          "color": "#E69F00"
         },
         "mode": "lines",
         "name": "7_de_que_jogo_el",
         "type": "scatter",
         "x": [
          "2014-04-20T18:07:07.316999",
          "2014-11-10T19:13:09.150000",
          "2015-05-29T20:17:53.300000",
          "2015-12-15T21:22:37.449999",
          "2016-07-02T22:27:21.600000",
          "2017-01-18T23:32:05.750000",
          "2017-08-07T00:36:49.900000",
          "2018-02-23T01:41:34.049999",
          "2018-09-11T02:46:18.200000",
          "2019-03-30T03:51:02.350000",
          "2019-10-16T04:55:46.500000",
          "2020-05-03T06:00:30.649999",
          "2020-11-19T07:05:14.800000",
          "2021-06-07T08:09:58.950000",
          "2021-12-24T09:14:43.100000",
          "2022-07-12T10:19:27.249999",
          "2023-01-28T11:24:11.400000",
          "2023-08-16T12:28:55.550000",
          "2024-03-03T13:33:39.700000",
          "2024-09-19T14:38:23.849999"
         ],
         "y": [
          19,
          8,
          6,
          9,
          7,
          4,
          9,
          3,
          6,
          5,
          24,
          23,
          29,
          33,
          18,
          15,
          33,
          23,
          29,
          45
         ]
        },
        {
         "hoverinfo": "text",
         "hovertext": [
          "<b>Topic 8</b><br>Words: great, greattttt, greatttttt, wwwww, outta",
          "<b>Topic 8</b><br>Words: great, greattttt, greatttttt, wwwww, outta",
          "<b>Topic 8</b><br>Words: great, greattttt, greatttttt, wwwww, outta",
          "<b>Topic 8</b><br>Words: great, greattttt, greatttttt, wwwww, outta",
          "<b>Topic 8</b><br>Words: great, greattttt, greatttttt, wwwww, outta",
          "<b>Topic 8</b><br>Words: great, greattttt, greatttttt, wwwww, outta",
          "<b>Topic 8</b><br>Words: great, greattttt, greatttttt, wwwww, outta",
          "<b>Topic 8</b><br>Words: great, greattttt, greatttttt, wwwww, outta",
          "<b>Topic 8</b><br>Words: great, greattttt, greatttttt, wwwww, outta",
          "<b>Topic 8</b><br>Words: great, greattttt, greatttttt, wwwww, outta",
          "<b>Topic 8</b><br>Words: great, greattttt, greatttttt, outta, wwwww",
          "<b>Topic 8</b><br>Words: great, wwwww, greattttt, greatttttt, outta",
          "<b>Topic 8</b><br>Words: great, greattttt, greatttttt, wwwww, outta",
          "<b>Topic 8</b><br>Words: great, greattttt, greatttttt, wwwww, outta",
          "<b>Topic 8</b><br>Words: great, greattttt, greatttttt, wwwww, outta",
          "<b>Topic 8</b><br>Words: great, greattttt, greatttttt, wwwww, outta",
          "<b>Topic 8</b><br>Words: great, greattttt, greatttttt, wwwww, outta",
          "<b>Topic 8</b><br>Words: great, greattttt, greatttttt, wwwww, outta",
          "<b>Topic 8</b><br>Words: great, wonderful, greattttt, greatttttt, wwwww",
          "<b>Topic 8</b><br>Words: great, greattttt, greatttttt, wwwww, outta"
         ],
         "marker": {
          "color": "#56B4E9"
         },
         "mode": "lines",
         "name": "8_great_wwwww_greatttttt_greattttt",
         "type": "scatter",
         "x": [
          "2014-04-20T18:07:07.316999",
          "2014-11-10T19:13:09.150000",
          "2015-05-29T20:17:53.300000",
          "2015-12-15T21:22:37.449999",
          "2016-07-02T22:27:21.600000",
          "2017-01-18T23:32:05.750000",
          "2017-08-07T00:36:49.900000",
          "2018-02-23T01:41:34.049999",
          "2018-09-11T02:46:18.200000",
          "2019-03-30T03:51:02.350000",
          "2019-10-16T04:55:46.500000",
          "2020-05-03T06:00:30.649999",
          "2020-11-19T07:05:14.800000",
          "2021-06-07T08:09:58.950000",
          "2021-12-24T09:14:43.100000",
          "2022-07-12T10:19:27.249999",
          "2023-01-28T11:24:11.400000",
          "2023-08-16T12:28:55.550000",
          "2024-03-03T13:33:39.700000",
          "2024-09-19T14:38:23.849999"
         ],
         "y": [
          39,
          15,
          9,
          10,
          5,
          12,
          9,
          3,
          4,
          14,
          28,
          20,
          23,
          21,
          18,
          14,
          10,
          21,
          9,
          12
         ]
        },
        {
         "hoverinfo": "text",
         "hovertext": [
          "<b>Topic 9</b><br>Words: die, slug, nutshell, rip, hey",
          "<b>Topic 9</b><br>Words: die, sometimes, fuck, finna, tire",
          "<b>Topic 9</b><br>Words: die, lie, yeah, finna, tire",
          "<b>Topic 9</b><br>Words: die, shit, sometimes, finna, tire",
          "<b>Topic 9</b><br>Words: die, oh, finna, tire, slug",
          "<b>Topic 9</b><br>Words: die, finna, tire, slug, nutshell",
          "<b>Topic 9</b><br>Words: die, shit, finna, tire, slug",
          "<b>Topic 9</b><br>Words: die, sure, finna, tire, slug",
          "<b>Topic 9</b><br>Words: die, finna, tire, slug, nutshell",
          "<b>Topic 9</b><br>Words: die, finna, tire, slug, nutshell",
          "<b>Topic 9</b><br>Words: die, tire, thats, okay, never",
          "<b>Topic 9</b><br>Words: finna, die, tire, slug, nutshell",
          "<b>Topic 9</b><br>Words: die, inside, didnt, im, finna",
          "<b>Topic 9</b><br>Words: die, son, must, finna, tire",
          "<b>Topic 9</b><br>Words: die, may, finna, tire, slug",
          "<b>Topic 9</b><br>Words: die, finna, tire, slug, nutshell",
          "<b>Topic 9</b><br>Words: yay, die, finna, tire, slug",
          "<b>Topic 9</b><br>Words: die, finna, tire, slug, nutshell",
          "<b>Topic 9</b><br>Words: die, finna, tire, slug, nutshell",
          "<b>Topic 9</b><br>Words: die, finna, tire, slug, nutshell"
         ],
         "marker": {
          "color": "#009E73"
         },
         "mode": "lines",
         "name": "9_die_finna_tire_slug",
         "type": "scatter",
         "x": [
          "2014-04-20T18:07:07.316999",
          "2014-11-10T19:13:09.150000",
          "2015-05-29T20:17:53.300000",
          "2015-12-15T21:22:37.449999",
          "2016-07-02T22:27:21.600000",
          "2017-01-18T23:32:05.750000",
          "2017-08-07T00:36:49.900000",
          "2018-02-23T01:41:34.049999",
          "2018-09-11T02:46:18.200000",
          "2019-03-30T03:51:02.350000",
          "2019-10-16T04:55:46.500000",
          "2020-05-03T06:00:30.649999",
          "2020-11-19T07:05:14.800000",
          "2021-06-07T08:09:58.950000",
          "2021-12-24T09:14:43.100000",
          "2022-07-12T10:19:27.249999",
          "2023-01-28T11:24:11.400000",
          "2023-08-16T12:28:55.550000",
          "2024-03-03T13:33:39.700000",
          "2024-09-19T14:38:23.849999"
         ],
         "y": [
          76,
          24,
          13,
          25,
          16,
          14,
          12,
          6,
          7,
          11,
          16,
          12,
          11,
          10,
          9,
          9,
          4,
          7,
          3,
          4
         ]
        },
        {
         "hoverinfo": "text",
         "hovertext": [
          "<b>Topic 10</b><br>Words: git, gud, electric, boogaloo, jihad",
          "<b>Topic 10</b><br>Words: git, gud, xp, start, people",
          "<b>Topic 10</b><br>Words: git, gud, gits, electric, boogaloo",
          "<b>Topic 10</b><br>Words: git, gud, guded, ayyy, lmao",
          "<b>Topic 10</b><br>Words: git, gud, evry, rule, hr",
          "<b>Topic 10</b><br>Words: git, gud, gankers, creation, screen",
          "<b>Topic 10</b><br>Words: git, gud, phag, revamp, electric",
          "<b>Topic 10</b><br>Words: git, gud, winblade, danksouls, alternatively",
          "<b>Topic 10</b><br>Words: git, gud, fkin, electric, boogaloo",
          "<b>Topic 10</b><br>Words: git, gud, manage, unless, lose",
          "<b>Topic 10</b><br>Words: git, gud, intensifies, ta, darksouls",
          "<b>Topic 10</b><br>Words: git, gud, classic, begin, half",
          "<b>Topic 10</b><br>Words: git, gud, hreatest, givdeo, thaught",
          "<b>Topic 10</b><br>Words: git, gud, giood, mm, casuls",
          "<b>Topic 10</b><br>Words: git, gud, oddajcie, bd, bogaloo",
          "<b>Topic 10</b><br>Words: git, gud, curator, page, bow",
          "<b>Topic 10</b><br>Words: git, gud, electric, boogaloo, couldnt",
          "<b>Topic 10</b><br>Words: git, gud, something, electric, boogaloo",
          "<b>Topic 10</b><br>Words: git, gud, volume, electric, boogaloo",
          "<b>Topic 10</b><br>Words: git, gud, giid, electric, boogaloo"
         ],
         "marker": {
          "color": "#F0E442"
         },
         "mode": "lines",
         "name": "10_git_gud_electric_boogaloo",
         "type": "scatter",
         "x": [
          "2014-04-20T18:07:07.316999",
          "2014-11-10T19:13:09.150000",
          "2015-05-29T20:17:53.300000",
          "2015-12-15T21:22:37.449999",
          "2016-07-02T22:27:21.600000",
          "2017-01-18T23:32:05.750000",
          "2017-08-07T00:36:49.900000",
          "2018-02-23T01:41:34.049999",
          "2018-09-11T02:46:18.200000",
          "2019-03-30T03:51:02.350000",
          "2019-10-16T04:55:46.500000",
          "2020-05-03T06:00:30.649999",
          "2020-11-19T07:05:14.800000",
          "2021-06-07T08:09:58.950000",
          "2021-12-24T09:14:43.100000",
          "2022-07-12T10:19:27.249999",
          "2023-01-28T11:24:11.400000",
          "2023-08-16T12:28:55.550000",
          "2024-03-03T13:33:39.700000",
          "2024-09-19T14:38:23.849999"
         ],
         "y": [
          25,
          4,
          6,
          10,
          22,
          6,
          20,
          6,
          6,
          10,
          26,
          13,
          29,
          23,
          18,
          6,
          11,
          12,
          6,
          8
         ]
        },
        {
         "hoverinfo": "text",
         "hovertext": [
          "<b>Topic 11</b><br>Words: sun, praise, blah, hourra, adherent",
          "<b>Topic 11</b><br>Words: sun, praise, huraah, sunlight, infinite",
          "<b>Topic 11</b><br>Words: sun, praise, biatch, directx, enhance",
          "<b>Topic 11</b><br>Words: sun, praise, blah, huraah, hourra",
          "<b>Topic 11</b><br>Words: sun, praise, blah, find, huraah",
          "<b>Topic 11</b><br>Words: sun, praise, sunny, blah, huraah",
          "<b>Topic 11</b><br>Words: sun, praise, consume, wary, therefore",
          "<b>Topic 11</b><br>Words: sun, praise, blah, hourra, huraah",
          "<b>Topic 11</b><br>Words: sun, praise, blah, hourra, huraah",
          "<b>Topic 11</b><br>Words: sun, praise, glory, blah, hourra",
          "<b>Topic 11</b><br>Words: sun, praise, blah, hourra, huraah",
          "<b>Topic 11</b><br>Words: sun, praise, blah, hourra, huraah",
          "<b>Topic 11</b><br>Words: sun, praise, blah, hourra, huraah",
          "<b>Topic 11</b><br>Words: sun, praise, complete, must, blah",
          "<b>Topic 11</b><br>Words: sun, praise, blah, hourra, huraah",
          "<b>Topic 11</b><br>Words: sun, praise, blah, hourra, huraah",
          "<b>Topic 11</b><br>Words: sun, praise, blah, hourra, huraah",
          "<b>Topic 11</b><br>Words: sun, praise, salute, moon, therefore",
          "<b>Topic 11</b><br>Words: sun, praise, hoorah, swallow, bom",
          "<b>Topic 11</b><br>Words: sun, praise, blah, hourra, huraah"
         ],
         "marker": {
          "color": "#D55E00"
         },
         "mode": "lines",
         "name": "11_sun_praise_blah_hourra",
         "type": "scatter",
         "x": [
          "2014-04-20T18:07:07.316999",
          "2014-11-10T19:13:09.150000",
          "2015-05-29T20:17:53.300000",
          "2015-12-15T21:22:37.449999",
          "2016-07-02T22:27:21.600000",
          "2017-01-18T23:32:05.750000",
          "2017-08-07T00:36:49.900000",
          "2018-02-23T01:41:34.049999",
          "2018-09-11T02:46:18.200000",
          "2019-03-30T03:51:02.350000",
          "2019-10-16T04:55:46.500000",
          "2020-05-03T06:00:30.649999",
          "2020-11-19T07:05:14.800000",
          "2021-06-07T08:09:58.950000",
          "2021-12-24T09:14:43.100000",
          "2022-07-12T10:19:27.249999",
          "2023-01-28T11:24:11.400000",
          "2023-08-16T12:28:55.550000",
          "2024-03-03T13:33:39.700000",
          "2024-09-19T14:38:23.849999"
         ],
         "y": [
          97,
          19,
          12,
          13,
          15,
          9,
          12,
          3,
          3,
          7,
          9,
          9,
          8,
          11,
          7,
          5,
          4,
          8,
          9,
          6
         ]
        },
        {
         "hoverinfo": "text",
         "hovertext": [
          "<b>Topic 12</b><br>Words: darksouls, darksoulsii, dark, exe, beta",
          "<b>Topic 12</b><br>Words: darksouls, darker, sackschwer, hesitent, loosly",
          "<b>Topic 12</b><br>Words: darksouls, absurdly, dark, starved, noobed",
          "<b>Topic 12</b><br>Words: darksouls, xenoblade, chronicle, darksoul, okgamety",
          "<b>Topic 12</b><br>Words: darksouls, darkaum, squal, diffacult, poha",
          "<b>Topic 12</b><br>Words: darksouls, hunk, bsod, darksoulsii, compaired",
          "<b>Topic 12</b><br>Words: darksouls, cookie, endurence, darko, draksouls",
          "<b>Topic 12</b><br>Words: darksouls, objectivelly, darkouls, inspite, personaly",
          "<b>Topic 12</b><br>Words: darksouls, good, darksoul, john, dark",
          "<b>Topic 12</b><br>Words: darksouls, darkhorse, purists, silence, ngl",
          "<b>Topic 12</b><br>Words: darksouls, load, defentel, soloq, raipiers",
          "<b>Topic 12</b><br>Words: darksouls, blackpill, longtime, jrpg, greatsword",
          "<b>Topic 12</b><br>Words: darksouls, moonlight, prob, mom, darksoul",
          "<b>Topic 12</b><br>Words: darksouls, darksoul, john, issss, demondsouls",
          "<b>Topic 12</b><br>Words: darksouls, darksoul, darklurker, verbose, john",
          "<b>Topic 12</b><br>Words: darksouls, souliest, twoiest, darko, darksoul",
          "<b>Topic 12</b><br>Words: darksouls, darkdiver, dark, grandahl, sole",
          "<b>Topic 12</b><br>Words: john, darksoul, darksouls, wife, darkest",
          "<b>Topic 12</b><br>Words: darksouls, darks, darked, darksoul, erdtree",
          "<b>Topic 12</b><br>Words: darksouls, darksoul, darker, unresponsiveness, darkkiiih"
         ],
         "marker": {
          "color": "#0072B2"
         },
         "mode": "lines",
         "name": "12_darksouls_darksoul_john_dark",
         "type": "scatter",
         "x": [
          "2014-04-20T18:07:07.316999",
          "2014-11-10T19:13:09.150000",
          "2015-05-29T20:17:53.300000",
          "2015-12-15T21:22:37.449999",
          "2016-07-02T22:27:21.600000",
          "2017-01-18T23:32:05.750000",
          "2017-08-07T00:36:49.900000",
          "2018-02-23T01:41:34.049999",
          "2018-09-11T02:46:18.200000",
          "2019-03-30T03:51:02.350000",
          "2019-10-16T04:55:46.500000",
          "2020-05-03T06:00:30.649999",
          "2020-11-19T07:05:14.800000",
          "2021-06-07T08:09:58.950000",
          "2021-12-24T09:14:43.100000",
          "2022-07-12T10:19:27.249999",
          "2023-01-28T11:24:11.400000",
          "2023-08-16T12:28:55.550000",
          "2024-03-03T13:33:39.700000",
          "2024-09-19T14:38:23.849999"
         ],
         "y": [
          36,
          9,
          15,
          9,
          6,
          3,
          9,
          8,
          1,
          10,
          25,
          9,
          17,
          20,
          17,
          13,
          8,
          7,
          19,
          16
         ]
        },
        {
         "hoverinfo": "text",
         "hovertext": [
          "<b>Topic 13</b><br>Words: pc, xbox, gpu, console, card",
          "<b>Topic 13</b><br>Words: pc, minimum, console, crash, fps",
          "<b>Topic 13</b><br>Words: pc, fps, card, minimum, framerate",
          "<b>Topic 13</b><br>Words: pc, xbox, computer, transfer, spec",
          "<b>Topic 13</b><br>Words: dscm, desighed, chinses, laptop, chinises",
          "<b>Topic 13</b><br>Words: booting, preeeeeety, pc, xboxone, macbook",
          "<b>Topic 13</b><br>Words: gb, spec, os, ata, sandisk",
          "<b>Topic 13</b><br>Words: evironments, soooooooo, pentium, gt, pleased",
          "<b>Topic 13</b><br>Words: becuz, crappy, spec, card, laptop",
          "<b>Topic 13</b><br>Words: xbox, pc, fullscreen, optimized, passion",
          "<b>Topic 13</b><br>Words: pc, ubuntu, fond, hd, fibre",
          "<b>Topic 13</b><br>Words: aweare, aweassome, xbox, pc, infuriatingly",
          "<b>Topic 13</b><br>Words: laptop, pc, xbox, gb, ram",
          "<b>Topic 13</b><br>Words: xbox, pc, laptop, contruls, suporrt",
          "<b>Topic 13</b><br>Words: aghhh, pc, sadge, broke, nonstop",
          "<b>Topic 13</b><br>Words: fullcreen, utter, hundereds, pc, amass",
          "<b>Topic 13</b><br>Words: intead, eitherway, platform, unhappy, fullscreen",
          "<b>Topic 13</b><br>Words: xbox, hundred, another, put, black",
          "<b>Topic 13</b><br>Words: godpiece, implementation, runback, decade, pc",
          "<b>Topic 13</b><br>Words: minimize, monitor, pc, fullscreen, xbox"
         ],
         "marker": {
          "color": "#CC79A7"
         },
         "mode": "lines",
         "name": "13_pc_xbox_laptop_console",
         "type": "scatter",
         "x": [
          "2014-04-20T18:07:07.316999",
          "2014-11-10T19:13:09.150000",
          "2015-05-29T20:17:53.300000",
          "2015-12-15T21:22:37.449999",
          "2016-07-02T22:27:21.600000",
          "2017-01-18T23:32:05.750000",
          "2017-08-07T00:36:49.900000",
          "2018-02-23T01:41:34.049999",
          "2018-09-11T02:46:18.200000",
          "2019-03-30T03:51:02.350000",
          "2019-10-16T04:55:46.500000",
          "2020-05-03T06:00:30.649999",
          "2020-11-19T07:05:14.800000",
          "2021-06-07T08:09:58.950000",
          "2021-12-24T09:14:43.100000",
          "2022-07-12T10:19:27.249999",
          "2023-01-28T11:24:11.400000",
          "2023-08-16T12:28:55.550000",
          "2024-03-03T13:33:39.700000",
          "2024-09-19T14:38:23.849999"
         ],
         "y": [
          72,
          20,
          19,
          14,
          8,
          9,
          8,
          3,
          3,
          7,
          12,
          10,
          12,
          19,
          8,
          5,
          8,
          1,
          4,
          13
         ]
        },
        {
         "hoverinfo": "text",
         "hovertext": [
          "<b>Topic 14</b><br>Words: fun, crazy, know, cassual, ha",
          "<b>Topic 14</b><br>Words: gritty, fun, cassual, ha, spambush",
          "<b>Topic 14</b><br>Words: magical, fun, cassual, ha, spambush",
          "<b>Topic 14</b><br>Words: fun, cassual, ha, spambush, scuffed",
          "<b>Topic 14</b><br>Words: fun, cassual, ha, spambush, scuffed",
          "<b>Topic 14</b><br>Words: fun, nutshell, haha, last, cassual",
          "<b>Topic 14</b><br>Words: fun, cassual, ha, spambush, scuffed",
          "<b>Topic 14</b><br>Words: fun, cassual, ha, spambush, scuffed",
          "<b>Topic 14</b><br>Words: fun, sound, cassual, ha, spambush",
          "<b>Topic 14</b><br>Words: fun, long, cassual, ha, spambush",
          "<b>Topic 14</b><br>Words: fun, ha, interesting, cassual, spambush",
          "<b>Topic 14</b><br>Words: fun, stuff, cassual, ha, spambush",
          "<b>Topic 14</b><br>Words: fun, another, always, cassual, ha",
          "<b>Topic 14</b><br>Words: fun, scary, cassual, ha, spambush",
          "<b>Topic 14</b><br>Words: fun, even, cassual, ha, spambush",
          "<b>Topic 14</b><br>Words: fun, cassual, ha, spambush, scuffed",
          "<b>Topic 14</b><br>Words: fun, abuse, stupid, cassual, ha",
          "<b>Topic 14</b><br>Words: fun, cassual, spambush, scuffed, alot",
          "<b>Topic 14</b><br>Words: fun, hehe, cassual, ha, spambush"
         ],
         "marker": {
          "color": "#E69F00"
         },
         "mode": "lines",
         "name": "14_fun_cassual_ha_spambush",
         "type": "scatter",
         "x": [
          "2014-04-20T18:07:07.316999",
          "2014-11-10T19:13:09.150000",
          "2015-05-29T20:17:53.300000",
          "2015-12-15T21:22:37.449999",
          "2016-07-02T22:27:21.600000",
          "2017-01-18T23:32:05.750000",
          "2017-08-07T00:36:49.900000",
          "2018-09-11T02:46:18.200000",
          "2019-03-30T03:51:02.350000",
          "2019-10-16T04:55:46.500000",
          "2020-05-03T06:00:30.649999",
          "2020-11-19T07:05:14.800000",
          "2021-06-07T08:09:58.950000",
          "2021-12-24T09:14:43.100000",
          "2022-07-12T10:19:27.249999",
          "2023-01-28T11:24:11.400000",
          "2023-08-16T12:28:55.550000",
          "2024-03-03T13:33:39.700000",
          "2024-09-19T14:38:23.849999"
         ],
         "y": [
          12,
          3,
          3,
          3,
          2,
          8,
          3,
          4,
          11,
          22,
          19,
          26,
          28,
          15,
          10,
          13,
          14,
          21,
          18
         ]
        }
       ],
       "layout": {
        "height": 450,
        "hoverlabel": {
         "bgcolor": "white",
         "font": {
          "family": "Rockwell",
          "size": 16
         }
        },
        "legend": {
         "title": {
          "text": "<b>Global Topic Representation"
         }
        },
        "template": {
         "data": {
          "bar": [
           {
            "error_x": {
             "color": "rgb(36,36,36)"
            },
            "error_y": {
             "color": "rgb(36,36,36)"
            },
            "marker": {
             "line": {
              "color": "white",
              "width": 0.5
             },
             "pattern": {
              "fillmode": "overlay",
              "size": 10,
              "solidity": 0.2
             }
            },
            "type": "bar"
           }
          ],
          "barpolar": [
           {
            "marker": {
             "line": {
              "color": "white",
              "width": 0.5
             },
             "pattern": {
              "fillmode": "overlay",
              "size": 10,
              "solidity": 0.2
             }
            },
            "type": "barpolar"
           }
          ],
          "carpet": [
           {
            "aaxis": {
             "endlinecolor": "rgb(36,36,36)",
             "gridcolor": "white",
             "linecolor": "white",
             "minorgridcolor": "white",
             "startlinecolor": "rgb(36,36,36)"
            },
            "baxis": {
             "endlinecolor": "rgb(36,36,36)",
             "gridcolor": "white",
             "linecolor": "white",
             "minorgridcolor": "white",
             "startlinecolor": "rgb(36,36,36)"
            },
            "type": "carpet"
           }
          ],
          "choropleth": [
           {
            "colorbar": {
             "outlinewidth": 1,
             "tickcolor": "rgb(36,36,36)",
             "ticks": "outside"
            },
            "type": "choropleth"
           }
          ],
          "contour": [
           {
            "colorbar": {
             "outlinewidth": 1,
             "tickcolor": "rgb(36,36,36)",
             "ticks": "outside"
            },
            "colorscale": [
             [
              0,
              "#440154"
             ],
             [
              0.1111111111111111,
              "#482878"
             ],
             [
              0.2222222222222222,
              "#3e4989"
             ],
             [
              0.3333333333333333,
              "#31688e"
             ],
             [
              0.4444444444444444,
              "#26828e"
             ],
             [
              0.5555555555555556,
              "#1f9e89"
             ],
             [
              0.6666666666666666,
              "#35b779"
             ],
             [
              0.7777777777777778,
              "#6ece58"
             ],
             [
              0.8888888888888888,
              "#b5de2b"
             ],
             [
              1,
              "#fde725"
             ]
            ],
            "type": "contour"
           }
          ],
          "contourcarpet": [
           {
            "colorbar": {
             "outlinewidth": 1,
             "tickcolor": "rgb(36,36,36)",
             "ticks": "outside"
            },
            "type": "contourcarpet"
           }
          ],
          "heatmap": [
           {
            "colorbar": {
             "outlinewidth": 1,
             "tickcolor": "rgb(36,36,36)",
             "ticks": "outside"
            },
            "colorscale": [
             [
              0,
              "#440154"
             ],
             [
              0.1111111111111111,
              "#482878"
             ],
             [
              0.2222222222222222,
              "#3e4989"
             ],
             [
              0.3333333333333333,
              "#31688e"
             ],
             [
              0.4444444444444444,
              "#26828e"
             ],
             [
              0.5555555555555556,
              "#1f9e89"
             ],
             [
              0.6666666666666666,
              "#35b779"
             ],
             [
              0.7777777777777778,
              "#6ece58"
             ],
             [
              0.8888888888888888,
              "#b5de2b"
             ],
             [
              1,
              "#fde725"
             ]
            ],
            "type": "heatmap"
           }
          ],
          "heatmapgl": [
           {
            "colorbar": {
             "outlinewidth": 1,
             "tickcolor": "rgb(36,36,36)",
             "ticks": "outside"
            },
            "colorscale": [
             [
              0,
              "#440154"
             ],
             [
              0.1111111111111111,
              "#482878"
             ],
             [
              0.2222222222222222,
              "#3e4989"
             ],
             [
              0.3333333333333333,
              "#31688e"
             ],
             [
              0.4444444444444444,
              "#26828e"
             ],
             [
              0.5555555555555556,
              "#1f9e89"
             ],
             [
              0.6666666666666666,
              "#35b779"
             ],
             [
              0.7777777777777778,
              "#6ece58"
             ],
             [
              0.8888888888888888,
              "#b5de2b"
             ],
             [
              1,
              "#fde725"
             ]
            ],
            "type": "heatmapgl"
           }
          ],
          "histogram": [
           {
            "marker": {
             "line": {
              "color": "white",
              "width": 0.6
             }
            },
            "type": "histogram"
           }
          ],
          "histogram2d": [
           {
            "colorbar": {
             "outlinewidth": 1,
             "tickcolor": "rgb(36,36,36)",
             "ticks": "outside"
            },
            "colorscale": [
             [
              0,
              "#440154"
             ],
             [
              0.1111111111111111,
              "#482878"
             ],
             [
              0.2222222222222222,
              "#3e4989"
             ],
             [
              0.3333333333333333,
              "#31688e"
             ],
             [
              0.4444444444444444,
              "#26828e"
             ],
             [
              0.5555555555555556,
              "#1f9e89"
             ],
             [
              0.6666666666666666,
              "#35b779"
             ],
             [
              0.7777777777777778,
              "#6ece58"
             ],
             [
              0.8888888888888888,
              "#b5de2b"
             ],
             [
              1,
              "#fde725"
             ]
            ],
            "type": "histogram2d"
           }
          ],
          "histogram2dcontour": [
           {
            "colorbar": {
             "outlinewidth": 1,
             "tickcolor": "rgb(36,36,36)",
             "ticks": "outside"
            },
            "colorscale": [
             [
              0,
              "#440154"
             ],
             [
              0.1111111111111111,
              "#482878"
             ],
             [
              0.2222222222222222,
              "#3e4989"
             ],
             [
              0.3333333333333333,
              "#31688e"
             ],
             [
              0.4444444444444444,
              "#26828e"
             ],
             [
              0.5555555555555556,
              "#1f9e89"
             ],
             [
              0.6666666666666666,
              "#35b779"
             ],
             [
              0.7777777777777778,
              "#6ece58"
             ],
             [
              0.8888888888888888,
              "#b5de2b"
             ],
             [
              1,
              "#fde725"
             ]
            ],
            "type": "histogram2dcontour"
           }
          ],
          "mesh3d": [
           {
            "colorbar": {
             "outlinewidth": 1,
             "tickcolor": "rgb(36,36,36)",
             "ticks": "outside"
            },
            "type": "mesh3d"
           }
          ],
          "parcoords": [
           {
            "line": {
             "colorbar": {
              "outlinewidth": 1,
              "tickcolor": "rgb(36,36,36)",
              "ticks": "outside"
             }
            },
            "type": "parcoords"
           }
          ],
          "pie": [
           {
            "automargin": true,
            "type": "pie"
           }
          ],
          "scatter": [
           {
            "fillpattern": {
             "fillmode": "overlay",
             "size": 10,
             "solidity": 0.2
            },
            "type": "scatter"
           }
          ],
          "scatter3d": [
           {
            "line": {
             "colorbar": {
              "outlinewidth": 1,
              "tickcolor": "rgb(36,36,36)",
              "ticks": "outside"
             }
            },
            "marker": {
             "colorbar": {
              "outlinewidth": 1,
              "tickcolor": "rgb(36,36,36)",
              "ticks": "outside"
             }
            },
            "type": "scatter3d"
           }
          ],
          "scattercarpet": [
           {
            "marker": {
             "colorbar": {
              "outlinewidth": 1,
              "tickcolor": "rgb(36,36,36)",
              "ticks": "outside"
             }
            },
            "type": "scattercarpet"
           }
          ],
          "scattergeo": [
           {
            "marker": {
             "colorbar": {
              "outlinewidth": 1,
              "tickcolor": "rgb(36,36,36)",
              "ticks": "outside"
             }
            },
            "type": "scattergeo"
           }
          ],
          "scattergl": [
           {
            "marker": {
             "colorbar": {
              "outlinewidth": 1,
              "tickcolor": "rgb(36,36,36)",
              "ticks": "outside"
             }
            },
            "type": "scattergl"
           }
          ],
          "scattermapbox": [
           {
            "marker": {
             "colorbar": {
              "outlinewidth": 1,
              "tickcolor": "rgb(36,36,36)",
              "ticks": "outside"
             }
            },
            "type": "scattermapbox"
           }
          ],
          "scatterpolar": [
           {
            "marker": {
             "colorbar": {
              "outlinewidth": 1,
              "tickcolor": "rgb(36,36,36)",
              "ticks": "outside"
             }
            },
            "type": "scatterpolar"
           }
          ],
          "scatterpolargl": [
           {
            "marker": {
             "colorbar": {
              "outlinewidth": 1,
              "tickcolor": "rgb(36,36,36)",
              "ticks": "outside"
             }
            },
            "type": "scatterpolargl"
           }
          ],
          "scatterternary": [
           {
            "marker": {
             "colorbar": {
              "outlinewidth": 1,
              "tickcolor": "rgb(36,36,36)",
              "ticks": "outside"
             }
            },
            "type": "scatterternary"
           }
          ],
          "surface": [
           {
            "colorbar": {
             "outlinewidth": 1,
             "tickcolor": "rgb(36,36,36)",
             "ticks": "outside"
            },
            "colorscale": [
             [
              0,
              "#440154"
             ],
             [
              0.1111111111111111,
              "#482878"
             ],
             [
              0.2222222222222222,
              "#3e4989"
             ],
             [
              0.3333333333333333,
              "#31688e"
             ],
             [
              0.4444444444444444,
              "#26828e"
             ],
             [
              0.5555555555555556,
              "#1f9e89"
             ],
             [
              0.6666666666666666,
              "#35b779"
             ],
             [
              0.7777777777777778,
              "#6ece58"
             ],
             [
              0.8888888888888888,
              "#b5de2b"
             ],
             [
              1,
              "#fde725"
             ]
            ],
            "type": "surface"
           }
          ],
          "table": [
           {
            "cells": {
             "fill": {
              "color": "rgb(237,237,237)"
             },
             "line": {
              "color": "white"
             }
            },
            "header": {
             "fill": {
              "color": "rgb(217,217,217)"
             },
             "line": {
              "color": "white"
             }
            },
            "type": "table"
           }
          ]
         },
         "layout": {
          "annotationdefaults": {
           "arrowhead": 0,
           "arrowwidth": 1
          },
          "autotypenumbers": "strict",
          "coloraxis": {
           "colorbar": {
            "outlinewidth": 1,
            "tickcolor": "rgb(36,36,36)",
            "ticks": "outside"
           }
          },
          "colorscale": {
           "diverging": [
            [
             0,
             "rgb(103,0,31)"
            ],
            [
             0.1,
             "rgb(178,24,43)"
            ],
            [
             0.2,
             "rgb(214,96,77)"
            ],
            [
             0.3,
             "rgb(244,165,130)"
            ],
            [
             0.4,
             "rgb(253,219,199)"
            ],
            [
             0.5,
             "rgb(247,247,247)"
            ],
            [
             0.6,
             "rgb(209,229,240)"
            ],
            [
             0.7,
             "rgb(146,197,222)"
            ],
            [
             0.8,
             "rgb(67,147,195)"
            ],
            [
             0.9,
             "rgb(33,102,172)"
            ],
            [
             1,
             "rgb(5,48,97)"
            ]
           ],
           "sequential": [
            [
             0,
             "#440154"
            ],
            [
             0.1111111111111111,
             "#482878"
            ],
            [
             0.2222222222222222,
             "#3e4989"
            ],
            [
             0.3333333333333333,
             "#31688e"
            ],
            [
             0.4444444444444444,
             "#26828e"
            ],
            [
             0.5555555555555556,
             "#1f9e89"
            ],
            [
             0.6666666666666666,
             "#35b779"
            ],
            [
             0.7777777777777778,
             "#6ece58"
            ],
            [
             0.8888888888888888,
             "#b5de2b"
            ],
            [
             1,
             "#fde725"
            ]
           ],
           "sequentialminus": [
            [
             0,
             "#440154"
            ],
            [
             0.1111111111111111,
             "#482878"
            ],
            [
             0.2222222222222222,
             "#3e4989"
            ],
            [
             0.3333333333333333,
             "#31688e"
            ],
            [
             0.4444444444444444,
             "#26828e"
            ],
            [
             0.5555555555555556,
             "#1f9e89"
            ],
            [
             0.6666666666666666,
             "#35b779"
            ],
            [
             0.7777777777777778,
             "#6ece58"
            ],
            [
             0.8888888888888888,
             "#b5de2b"
            ],
            [
             1,
             "#fde725"
            ]
           ]
          },
          "colorway": [
           "#1F77B4",
           "#FF7F0E",
           "#2CA02C",
           "#D62728",
           "#9467BD",
           "#8C564B",
           "#E377C2",
           "#7F7F7F",
           "#BCBD22",
           "#17BECF"
          ],
          "font": {
           "color": "rgb(36,36,36)"
          },
          "geo": {
           "bgcolor": "white",
           "lakecolor": "white",
           "landcolor": "white",
           "showlakes": true,
           "showland": true,
           "subunitcolor": "white"
          },
          "hoverlabel": {
           "align": "left"
          },
          "hovermode": "closest",
          "mapbox": {
           "style": "light"
          },
          "paper_bgcolor": "white",
          "plot_bgcolor": "white",
          "polar": {
           "angularaxis": {
            "gridcolor": "rgb(232,232,232)",
            "linecolor": "rgb(36,36,36)",
            "showgrid": false,
            "showline": true,
            "ticks": "outside"
           },
           "bgcolor": "white",
           "radialaxis": {
            "gridcolor": "rgb(232,232,232)",
            "linecolor": "rgb(36,36,36)",
            "showgrid": false,
            "showline": true,
            "ticks": "outside"
           }
          },
          "scene": {
           "xaxis": {
            "backgroundcolor": "white",
            "gridcolor": "rgb(232,232,232)",
            "gridwidth": 2,
            "linecolor": "rgb(36,36,36)",
            "showbackground": true,
            "showgrid": false,
            "showline": true,
            "ticks": "outside",
            "zeroline": false,
            "zerolinecolor": "rgb(36,36,36)"
           },
           "yaxis": {
            "backgroundcolor": "white",
            "gridcolor": "rgb(232,232,232)",
            "gridwidth": 2,
            "linecolor": "rgb(36,36,36)",
            "showbackground": true,
            "showgrid": false,
            "showline": true,
            "ticks": "outside",
            "zeroline": false,
            "zerolinecolor": "rgb(36,36,36)"
           },
           "zaxis": {
            "backgroundcolor": "white",
            "gridcolor": "rgb(232,232,232)",
            "gridwidth": 2,
            "linecolor": "rgb(36,36,36)",
            "showbackground": true,
            "showgrid": false,
            "showline": true,
            "ticks": "outside",
            "zeroline": false,
            "zerolinecolor": "rgb(36,36,36)"
           }
          },
          "shapedefaults": {
           "fillcolor": "black",
           "line": {
            "width": 0
           },
           "opacity": 0.3
          },
          "ternary": {
           "aaxis": {
            "gridcolor": "rgb(232,232,232)",
            "linecolor": "rgb(36,36,36)",
            "showgrid": false,
            "showline": true,
            "ticks": "outside"
           },
           "baxis": {
            "gridcolor": "rgb(232,232,232)",
            "linecolor": "rgb(36,36,36)",
            "showgrid": false,
            "showline": true,
            "ticks": "outside"
           },
           "bgcolor": "white",
           "caxis": {
            "gridcolor": "rgb(232,232,232)",
            "linecolor": "rgb(36,36,36)",
            "showgrid": false,
            "showline": true,
            "ticks": "outside"
           }
          },
          "title": {
           "x": 0.05
          },
          "xaxis": {
           "automargin": true,
           "gridcolor": "rgb(232,232,232)",
           "linecolor": "rgb(36,36,36)",
           "showgrid": false,
           "showline": true,
           "ticks": "outside",
           "title": {
            "standoff": 15
           },
           "zeroline": false,
           "zerolinecolor": "rgb(36,36,36)"
          },
          "yaxis": {
           "automargin": true,
           "gridcolor": "rgb(232,232,232)",
           "linecolor": "rgb(36,36,36)",
           "showgrid": false,
           "showline": true,
           "ticks": "outside",
           "title": {
            "standoff": 15
           },
           "zeroline": false,
           "zerolinecolor": "rgb(36,36,36)"
          }
         }
        },
        "title": {
         "font": {
          "color": "Black",
          "size": 22
         },
         "text": "<b>Topics over Time</b>",
         "x": 0.4,
         "xanchor": "center",
         "y": 0.95,
         "yanchor": "top"
        },
        "width": 1250,
        "xaxis": {
         "showgrid": true
        },
        "yaxis": {
         "showgrid": true,
         "title": {
          "text": "Frequency"
         }
        }
       }
      }
     },
     "metadata": {},
     "output_type": "display_data"
    }
   ],
   "source": [
    "pos_model.visualize_topics_over_time(pos_topics_over_time, top_n_topics=15)"
   ]
  },
  {
   "cell_type": "markdown",
   "metadata": {},
   "source": [
    "### Negative reviews:"
   ]
  },
  {
   "cell_type": "code",
   "execution_count": 13,
   "metadata": {},
   "outputs": [],
   "source": [
    "neg_model = BERTopic.load(\"models/bertopic_neg_model\")"
   ]
  },
  {
   "cell_type": "code",
   "execution_count": 14,
   "metadata": {},
   "outputs": [
    {
     "name": "stderr",
     "output_type": "stream",
     "text": [
      "20it [00:04,  4.63it/s]\n"
     ]
    }
   ],
   "source": [
    "neg_topics_over_time = neg_model.topics_over_time(neg_docs, neg_timestamps, nr_bins=20)"
   ]
  },
  {
   "cell_type": "code",
   "execution_count": 15,
   "metadata": {},
   "outputs": [
    {
     "data": {
      "application/vnd.plotly.v1+json": {
       "config": {
        "plotlyServerURL": "https://plot.ly"
       },
       "data": [
        {
         "hoverinfo": "text",
         "hovertext": [
          "<b>Topic 0</b><br>Words: pc, controller, mouse, port, keyboard",
          "<b>Topic 0</b><br>Words: pc, controller, port, keyboard, mouse",
          "<b>Topic 0</b><br>Words: controller, pc, keyboard, xbox, port",
          "<b>Topic 0</b><br>Words: pc, controller, port, keyboard, xbox",
          "<b>Topic 0</b><br>Words: controller, keyboard, pc, port, mouse",
          "<b>Topic 0</b><br>Words: pc, control, port, controller, keyboard",
          "<b>Topic 0</b><br>Words: controller, pc, port, keyboard, xbox",
          "<b>Topic 0</b><br>Words: mouse, pc, controller, keyboard, port",
          "<b>Topic 0</b><br>Words: pc, controller, port, xbox, mouse",
          "<b>Topic 0</b><br>Words: controller, keyboard, pc, control, mouse",
          "<b>Topic 0</b><br>Words: controller, keyboard, mouse, port, pc",
          "<b>Topic 0</b><br>Words: controller, pc, console, port, keyboard",
          "<b>Topic 0</b><br>Words: controller, pc, keyboard, mouse, xbox",
          "<b>Topic 0</b><br>Words: controller, keyboard, mouse, pc, control",
          "<b>Topic 0</b><br>Words: pc, port, keyboard, control, mouse",
          "<b>Topic 0</b><br>Words: keyboard, controller, mouse, button, pc",
          "<b>Topic 0</b><br>Words: mouse, keyboard, controller, pc, button",
          "<b>Topic 0</b><br>Words: pc, controller, mouse, keyboard, port",
          "<b>Topic 0</b><br>Words: controller, port, pc, mouse, keyboard",
          "<b>Topic 0</b><br>Words: controller, keyboard, pc, port, mouse"
         ],
         "marker": {
          "color": "#E69F00"
         },
         "mode": "lines",
         "name": "0_controller_pc_keyboard_mouse",
         "type": "scatter",
         "x": [
          "2014-04-20T22:58:39.521999",
          "2014-11-10T23:59:24.900000",
          "2015-05-30T00:58:58.800000",
          "2015-12-16T01:58:32.700000",
          "2016-07-03T02:58:06.600000",
          "2017-01-19T03:57:40.500000",
          "2017-08-07T04:57:14.400000",
          "2018-02-23T05:56:48.300000",
          "2018-09-11T06:56:22.200000",
          "2019-03-30T07:55:56.100000",
          "2019-10-16T08:55:30",
          "2020-05-03T09:55:03.900000",
          "2020-11-19T10:54:37.800000",
          "2021-06-07T11:54:11.700000",
          "2021-12-24T12:53:45.600000",
          "2022-07-12T13:53:19.500000",
          "2023-01-28T14:52:53.400000",
          "2023-08-16T15:52:27.300000",
          "2024-03-03T16:52:01.200000",
          "2024-09-19T17:51:35.100000"
         ],
         "y": [
          320,
          115,
          54,
          72,
          23,
          57,
          29,
          26,
          27,
          17,
          30,
          31,
          34,
          35,
          37,
          21,
          27,
          28,
          32,
          36
         ]
        },
        {
         "hoverinfo": "text",
         "hovertext": [
          "<b>Topic 1</b><br>Words: pvp, player, one, weapon, area",
          "<b>Topic 1</b><br>Words: fight, time, player, weapon, ii",
          "<b>Topic 1</b><br>Words: enemy, attack, player, difficulty, area",
          "<b>Topic 1</b><br>Words: enemy, area, make, weapon, time",
          "<b>Topic 1</b><br>Words: area, player, enemy, one, attack",
          "<b>Topic 1</b><br>Words: player, enemy, area, attack, item",
          "<b>Topic 1</b><br>Words: enemy, area, make, feel, attack",
          "<b>Topic 1</b><br>Words: enemy, time, attack, bos, get",
          "<b>Topic 1</b><br>Words: enemy, fight, hit, attack, get",
          "<b>Topic 1</b><br>Words: enemy, area, level, way, use",
          "<b>Topic 1</b><br>Words: enemy, area, player, bos, fight",
          "<b>Topic 1</b><br>Words: enemy, attack, bos, boss, area",
          "<b>Topic 1</b><br>Words: enemy, bos, area, boss, fight",
          "<b>Topic 1</b><br>Words: bos, enemy, area, fight, boss",
          "<b>Topic 1</b><br>Words: attack, enemy, area, bos, player",
          "<b>Topic 1</b><br>Words: enemy, bos, boss, player, time",
          "<b>Topic 1</b><br>Words: attack, level, enemy, bos, design",
          "<b>Topic 1</b><br>Words: bos, enemy, boss, area, fight",
          "<b>Topic 1</b><br>Words: tyler, creator, enemy, bos, area",
          "<b>Topic 1</b><br>Words: feel, enemy, fight, bos, area"
         ],
         "marker": {
          "color": "#56B4E9"
         },
         "mode": "lines",
         "name": "1_enemy_area_bos_player",
         "type": "scatter",
         "x": [
          "2014-04-20T22:58:39.521999",
          "2014-11-10T23:59:24.900000",
          "2015-05-30T00:58:58.800000",
          "2015-12-16T01:58:32.700000",
          "2016-07-03T02:58:06.600000",
          "2017-01-19T03:57:40.500000",
          "2017-08-07T04:57:14.400000",
          "2018-02-23T05:56:48.300000",
          "2018-09-11T06:56:22.200000",
          "2019-03-30T07:55:56.100000",
          "2019-10-16T08:55:30",
          "2020-05-03T09:55:03.900000",
          "2020-11-19T10:54:37.800000",
          "2021-06-07T11:54:11.700000",
          "2021-12-24T12:53:45.600000",
          "2022-07-12T13:53:19.500000",
          "2023-01-28T14:52:53.400000",
          "2023-08-16T15:52:27.300000",
          "2024-03-03T16:52:01.200000",
          "2024-09-19T17:51:35.100000"
         ],
         "y": [
          59,
          42,
          14,
          23,
          22,
          28,
          25,
          24,
          16,
          16,
          36,
          33,
          39,
          36,
          47,
          28,
          29,
          37,
          43,
          42
         ]
        },
        {
         "hoverinfo": "text",
         "hovertext": [
          "<b>Topic 2</b><br>Words: burh, ahhhhhhhhhhhhhhhhhhhhhhhhhhhhhhhhhhhhhhhhhhhhhhhhhhhhhhhhhhhhhhhhhhhhhhhhhhhhhhhhhhhhhhhhhhhhhhhhhhhhhhhhhhhhhhhhhhhhhhhhhhhhhhhhhhhhhhhhhhhhhhhhhhhhhhhhhhhhhhhhhhhhhhhhhhhhhhhhhhhhhhhhhhhhhhhhhhhhhhhhhhhhhhhhhhhhhhhhhhhhhhhhhhhhhhhhhhhhhhhhhhhhhhhhhhhhhhhhhhhhhhhh, werty, xddddddddddddddddddddddddddddddddddddddddddddddddddddddddddddddddddddddddddddddddddddddddddddddddddddddddddddddddddddddddddddddddddddddddddddddddddddddddddddddddddddddddddddddddddddddddddddddddddddddddddddddddddddddddddddddddddddddddddddddddddddddddddddddddddddddddddddddddddddddddddddddddddddddddddddddddddddddddddddddddddddddddddddddddddddddddddddddddddddddddddddddddddddddddddddddddddddddddddddddddddddddddddddddddddddddddddddddddddd, xy",
          "<b>Topic 2</b><br>Words: burh, ahhhhhhhhhhhhhhhhhhhhhhhhhhhhhhhhhhhhhhhhhhhhhhhhhhhhhhhhhhhhhhhhhhhhhhhhhhhhhhhhhhhhhhhhhhhhhhhhhhhhhhhhhhhhhhhhhhhhhhhhhhhhhhhhhhhhhhhhhhhhhhhhhhhhhhhhhhhhhhhhhhhhhhhhhhhhhhhhhhhhhhhhhhhhhhhhhhhhhhhhhhhhhhhhhhhhhhhhhhhhhhhhhhhhhhhhhhhhhhhhhhhhhhhhhhhhhhhhhhhhhhhh, werty, xddddddddddddddddddddddddddddddddddddddddddddddddddddddddddddddddddddddddddddddddddddddddddddddddddddddddddddddddddddddddddddddddddddddddddddddddddddddddddddddddddddddddddddddddddddddddddddddddddddddddddddddddddddddddddddddddddddddddddddddddddddddddddddddddddddddddddddddddddddddddddddddddddddddddddddddddddddddddddddddddddddddddddddddddddddddddddddddddddddddddddddddddddddddddddddddddddddddddddddddddddddddddddddddddddddddddddddddddddd, xy",
          "<b>Topic 2</b><br>Words: burh, ahhhhhhhhhhhhhhhhhhhhhhhhhhhhhhhhhhhhhhhhhhhhhhhhhhhhhhhhhhhhhhhhhhhhhhhhhhhhhhhhhhhhhhhhhhhhhhhhhhhhhhhhhhhhhhhhhhhhhhhhhhhhhhhhhhhhhhhhhhhhhhhhhhhhhhhhhhhhhhhhhhhhhhhhhhhhhhhhhhhhhhhhhhhhhhhhhhhhhhhhhhhhhhhhhhhhhhhhhhhhhhhhhhhhhhhhhhhhhhhhhhhhhhhhhhhhhhhhhhhhhhhh, werty, xddddddddddddddddddddddddddddddddddddddddddddddddddddddddddddddddddddddddddddddddddddddddddddddddddddddddddddddddddddddddddddddddddddddddddddddddddddddddddddddddddddddddddddddddddddddddddddddddddddddddddddddddddddddddddddddddddddddddddddddddddddddddddddddddddddddddddddddddddddddddddddddddddddddddddddddddddddddddddddddddddddddddddddddddddddddddddddddddddddddddddddddddddddddddddddddddddddddddddddddddddddddddddddddddddddddddddddddddddd, xy",
          "<b>Topic 2</b><br>Words: burh, ahhhhhhhhhhhhhhhhhhhhhhhhhhhhhhhhhhhhhhhhhhhhhhhhhhhhhhhhhhhhhhhhhhhhhhhhhhhhhhhhhhhhhhhhhhhhhhhhhhhhhhhhhhhhhhhhhhhhhhhhhhhhhhhhhhhhhhhhhhhhhhhhhhhhhhhhhhhhhhhhhhhhhhhhhhhhhhhhhhhhhhhhhhhhhhhhhhhhhhhhhhhhhhhhhhhhhhhhhhhhhhhhhhhhhhhhhhhhhhhhhhhhhhhhhhhhhhhhhhhhhhhh, werty, xddddddddddddddddddddddddddddddddddddddddddddddddddddddddddddddddddddddddddddddddddddddddddddddddddddddddddddddddddddddddddddddddddddddddddddddddddddddddddddddddddddddddddddddddddddddddddddddddddddddddddddddddddddddddddddddddddddddddddddddddddddddddddddddddddddddddddddddddddddddddddddddddddddddddddddddddddddddddddddddddddddddddddddddddddddddddddddddddddddddddddddddddddddddddddddddddddddddddddddddddddddddddddddddddddddddddddddddddddd, xy",
          "<b>Topic 2</b><br>Words: burh, ahhhhhhhhhhhhhhhhhhhhhhhhhhhhhhhhhhhhhhhhhhhhhhhhhhhhhhhhhhhhhhhhhhhhhhhhhhhhhhhhhhhhhhhhhhhhhhhhhhhhhhhhhhhhhhhhhhhhhhhhhhhhhhhhhhhhhhhhhhhhhhhhhhhhhhhhhhhhhhhhhhhhhhhhhhhhhhhhhhhhhhhhhhhhhhhhhhhhhhhhhhhhhhhhhhhhhhhhhhhhhhhhhhhhhhhhhhhhhhhhhhhhhhhhhhhhhhhhhhhhhhhh, werty, xddddddddddddddddddddddddddddddddddddddddddddddddddddddddddddddddddddddddddddddddddddddddddddddddddddddddddddddddddddddddddddddddddddddddddddddddddddddddddddddddddddddddddddddddddddddddddddddddddddddddddddddddddddddddddddddddddddddddddddddddddddddddddddddddddddddddddddddddddddddddddddddddddddddddddddddddddddddddddddddddddddddddddddddddddddddddddddddddddddddddddddddddddddddddddddddddddddddddddddddddddddddddddddddddddddddddddddddddddd, xy",
          "<b>Topic 2</b><br>Words: burh, ahhhhhhhhhhhhhhhhhhhhhhhhhhhhhhhhhhhhhhhhhhhhhhhhhhhhhhhhhhhhhhhhhhhhhhhhhhhhhhhhhhhhhhhhhhhhhhhhhhhhhhhhhhhhhhhhhhhhhhhhhhhhhhhhhhhhhhhhhhhhhhhhhhhhhhhhhhhhhhhhhhhhhhhhhhhhhhhhhhhhhhhhhhhhhhhhhhhhhhhhhhhhhhhhhhhhhhhhhhhhhhhhhhhhhhhhhhhhhhhhhhhhhhhhhhhhhhhhhhhhhhhh, werty, xddddddddddddddddddddddddddddddddddddddddddddddddddddddddddddddddddddddddddddddddddddddddddddddddddddddddddddddddddddddddddddddddddddddddddddddddddddddddddddddddddddddddddddddddddddddddddddddddddddddddddddddddddddddddddddddddddddddddddddddddddddddddddddddddddddddddddddddddddddddddddddddddddddddddddddddddddddddddddddddddddddddddddddddddddddddddddddddddddddddddddddddddddddddddddddddddddddddddddddddddddddddddddddddddddddddddddddddddddd, xy",
          "<b>Topic 2</b><br>Words: burh, ahhhhhhhhhhhhhhhhhhhhhhhhhhhhhhhhhhhhhhhhhhhhhhhhhhhhhhhhhhhhhhhhhhhhhhhhhhhhhhhhhhhhhhhhhhhhhhhhhhhhhhhhhhhhhhhhhhhhhhhhhhhhhhhhhhhhhhhhhhhhhhhhhhhhhhhhhhhhhhhhhhhhhhhhhhhhhhhhhhhhhhhhhhhhhhhhhhhhhhhhhhhhhhhhhhhhhhhhhhhhhhhhhhhhhhhhhhhhhhhhhhhhhhhhhhhhhhhhhhhhhhhh, werty, xddddddddddddddddddddddddddddddddddddddddddddddddddddddddddddddddddddddddddddddddddddddddddddddddddddddddddddddddddddddddddddddddddddddddddddddddddddddddddddddddddddddddddddddddddddddddddddddddddddddddddddddddddddddddddddddddddddddddddddddddddddddddddddddddddddddddddddddddddddddddddddddddddddddddddddddddddddddddddddddddddddddddddddddddddddddddddddddddddddddddddddddddddddddddddddddddddddddddddddddddddddddddddddddddddddddddddddddddddd, xy",
          "<b>Topic 2</b><br>Words: burh, ahhhhhhhhhhhhhhhhhhhhhhhhhhhhhhhhhhhhhhhhhhhhhhhhhhhhhhhhhhhhhhhhhhhhhhhhhhhhhhhhhhhhhhhhhhhhhhhhhhhhhhhhhhhhhhhhhhhhhhhhhhhhhhhhhhhhhhhhhhhhhhhhhhhhhhhhhhhhhhhhhhhhhhhhhhhhhhhhhhhhhhhhhhhhhhhhhhhhhhhhhhhhhhhhhhhhhhhhhhhhhhhhhhhhhhhhhhhhhhhhhhhhhhhhhhhhhhhhhhhhhhhh, werty, xddddddddddddddddddddddddddddddddddddddddddddddddddddddddddddddddddddddddddddddddddddddddddddddddddddddddddddddddddddddddddddddddddddddddddddddddddddddddddddddddddddddddddddddddddddddddddddddddddddddddddddddddddddddddddddddddddddddddddddddddddddddddddddddddddddddddddddddddddddddddddddddddddddddddddddddddddddddddddddddddddddddddddddddddddddddddddddddddddddddddddddddddddddddddddddddddddddddddddddddddddddddddddddddddddddddddddddddddddd, xy",
          "<b>Topic 2</b><br>Words: burh, ahhhhhhhhhhhhhhhhhhhhhhhhhhhhhhhhhhhhhhhhhhhhhhhhhhhhhhhhhhhhhhhhhhhhhhhhhhhhhhhhhhhhhhhhhhhhhhhhhhhhhhhhhhhhhhhhhhhhhhhhhhhhhhhhhhhhhhhhhhhhhhhhhhhhhhhhhhhhhhhhhhhhhhhhhhhhhhhhhhhhhhhhhhhhhhhhhhhhhhhhhhhhhhhhhhhhhhhhhhhhhhhhhhhhhhhhhhhhhhhhhhhhhhhhhhhhhhhhhhhhhhhh, werty, xddddddddddddddddddddddddddddddddddddddddddddddddddddddddddddddddddddddddddddddddddddddddddddddddddddddddddddddddddddddddddddddddddddddddddddddddddddddddddddddddddddddddddddddddddddddddddddddddddddddddddddddddddddddddddddddddddddddddddddddddddddddddddddddddddddddddddddddddddddddddddddddddddddddddddddddddddddddddddddddddddddddddddddddddddddddddddddddddddddddddddddddddddddddddddddddddddddddddddddddddddddddddddddddddddddddddddddddddddd, xy",
          "<b>Topic 2</b><br>Words: burh, ahhhhhhhhhhhhhhhhhhhhhhhhhhhhhhhhhhhhhhhhhhhhhhhhhhhhhhhhhhhhhhhhhhhhhhhhhhhhhhhhhhhhhhhhhhhhhhhhhhhhhhhhhhhhhhhhhhhhhhhhhhhhhhhhhhhhhhhhhhhhhhhhhhhhhhhhhhhhhhhhhhhhhhhhhhhhhhhhhhhhhhhhhhhhhhhhhhhhhhhhhhhhhhhhhhhhhhhhhhhhhhhhhhhhhhhhhhhhhhhhhhhhhhhhhhhhhhhhhhhhhhhh, werty, xddddddddddddddddddddddddddddddddddddddddddddddddddddddddddddddddddddddddddddddddddddddddddddddddddddddddddddddddddddddddddddddddddddddddddddddddddddddddddddddddddddddddddddddddddddddddddddddddddddddddddddddddddddddddddddddddddddddddddddddddddddddddddddddddddddddddddddddddddddddddddddddddddddddddddddddddddddddddddddddddddddddddddddddddddddddddddddddddddddddddddddddddddddddddddddddddddddddddddddddddddddddddddddddddddddddddddddddddddd, xy",
          "<b>Topic 2</b><br>Words: werty, burh, ahhhhhhhhhhhhhhhhhhhhhhhhhhhhhhhhhhhhhhhhhhhhhhhhhhhhhhhhhhhhhhhhhhhhhhhhhhhhhhhhhhhhhhhhhhhhhhhhhhhhhhhhhhhhhhhhhhhhhhhhhhhhhhhhhhhhhhhhhhhhhhhhhhhhhhhhhhhhhhhhhhhhhhhhhhhhhhhhhhhhhhhhhhhhhhhhhhhhhhhhhhhhhhhhhhhhhhhhhhhhhhhhhhhhhhhhhhhhhhhhhhhhhhhhhhhhhhhhhhhhhhhh, xddddddddddddddddddddddddddddddddddddddddddddddddddddddddddddddddddddddddddddddddddddddddddddddddddddddddddddddddddddddddddddddddddddddddddddddddddddddddddddddddddddddddddddddddddddddddddddddddddddddddddddddddddddddddddddddddddddddddddddddddddddddddddddddddddddddddddddddddddddddddddddddddddddddddddddddddddddddddddddddddddddddddddddddddddddddddddddddddddddddddddddddddddddddddddddddddddddddddddddddddddddddddddddddddddddddddddddddddddd, xy",
          "<b>Topic 2</b><br>Words: burh, ahhhhhhhhhhhhhhhhhhhhhhhhhhhhhhhhhhhhhhhhhhhhhhhhhhhhhhhhhhhhhhhhhhhhhhhhhhhhhhhhhhhhhhhhhhhhhhhhhhhhhhhhhhhhhhhhhhhhhhhhhhhhhhhhhhhhhhhhhhhhhhhhhhhhhhhhhhhhhhhhhhhhhhhhhhhhhhhhhhhhhhhhhhhhhhhhhhhhhhhhhhhhhhhhhhhhhhhhhhhhhhhhhhhhhhhhhhhhhhhhhhhhhhhhhhhhhhhhhhhhhhhh, werty, xddddddddddddddddddddddddddddddddddddddddddddddddddddddddddddddddddddddddddddddddddddddddddddddddddddddddddddddddddddddddddddddddddddddddddddddddddddddddddddddddddddddddddddddddddddddddddddddddddddddddddddddddddddddddddddddddddddddddddddddddddddddddddddddddddddddddddddddddddddddddddddddddddddddddddddddddddddddddddddddddddddddddddddddddddddddddddddddddddddddddddddddddddddddddddddddddddddddddddddddddddddddddddddddddddddddddddddddddddd, xy",
          "<b>Topic 2</b><br>Words: last, burh, werty, xddddddddddddddddddddddddddddddddddddddddddddddddddddddddddddddddddddddddddddddddddddddddddddddddddddddddddddddddddddddddddddddddddddddddddddddddddddddddddddddddddddddddddddddddddddddddddddddddddddddddddddddddddddddddddddddddddddddddddddddddddddddddddddddddddddddddddddddddddddddddddddddddddddddddddddddddddddddddddddddddddddddddddddddddddddddddddddddddddddddddddddddddddddddddddddddddddddddddddddddddddddddddddddddddddddddddddddddddddd, ahhhhhhhhhhhhhhhhhhhhhhhhhhhhhhhhhhhhhhhhhhhhhhhhhhhhhhhhhhhhhhhhhhhhhhhhhhhhhhhhhhhhhhhhhhhhhhhhhhhhhhhhhhhhhhhhhhhhhhhhhhhhhhhhhhhhhhhhhhhhhhhhhhhhhhhhhhhhhhhhhhhhhhhhhhhhhhhhhhhhhhhhhhhhhhhhhhhhhhhhhhhhhhhhhhhhhhhhhhhhhhhhhhhhhhhhhhhhhhhhhhhhhhhhhhhhhhhhhhhhhhhh",
          "<b>Topic 2</b><br>Words: burh, ahhhhhhhhhhhhhhhhhhhhhhhhhhhhhhhhhhhhhhhhhhhhhhhhhhhhhhhhhhhhhhhhhhhhhhhhhhhhhhhhhhhhhhhhhhhhhhhhhhhhhhhhhhhhhhhhhhhhhhhhhhhhhhhhhhhhhhhhhhhhhhhhhhhhhhhhhhhhhhhhhhhhhhhhhhhhhhhhhhhhhhhhhhhhhhhhhhhhhhhhhhhhhhhhhhhhhhhhhhhhhhhhhhhhhhhhhhhhhhhhhhhhhhhhhhhhhhhhhhhhhhhh, werty, xddddddddddddddddddddddddddddddddddddddddddddddddddddddddddddddddddddddddddddddddddddddddddddddddddddddddddddddddddddddddddddddddddddddddddddddddddddddddddddddddddddddddddddddddddddddddddddddddddddddddddddddddddddddddddddddddddddddddddddddddddddddddddddddddddddddddddddddddddddddddddddddddddddddddddddddddddddddddddddddddddddddddddddddddddddddddddddddddddddddddddddddddddddddddddddddddddddddddddddddddddddddddddddddddddddddddddddddddddd, xy",
          "<b>Topic 2</b><br>Words: burh, xddddddddddddddddddddddddddddddddddddddddddddddddddddddddddddddddddddddddddddddddddddddddddddddddddddddddddddddddddddddddddddddddddddddddddddddddddddddddddddddddddddddddddddddddddddddddddddddddddddddddddddddddddddddddddddddddddddddddddddddddddddddddddddddddddddddddddddddddddddddddddddddddddddddddddddddddddddddddddddddddddddddddddddddddddddddddddddddddddddddddddddddddddddddddddddddddddddddddddddddddddddddddddddddddddddddddddddddddddd, ahhhhhhhhhhhhhhhhhhhhhhhhhhhhhhhhhhhhhhhhhhhhhhhhhhhhhhhhhhhhhhhhhhhhhhhhhhhhhhhhhhhhhhhhhhhhhhhhhhhhhhhhhhhhhhhhhhhhhhhhhhhhhhhhhhhhhhhhhhhhhhhhhhhhhhhhhhhhhhhhhhhhhhhhhhhhhhhhhhhhhhhhhhhhhhhhhhhhhhhhhhhhhhhhhhhhhhhhhhhhhhhhhhhhhhhhhhhhhhhhhhhhhhhhhhhhhhhhhhhhhhhh, werty, xy",
          "<b>Topic 2</b><br>Words: burh, ahhhhhhhhhhhhhhhhhhhhhhhhhhhhhhhhhhhhhhhhhhhhhhhhhhhhhhhhhhhhhhhhhhhhhhhhhhhhhhhhhhhhhhhhhhhhhhhhhhhhhhhhhhhhhhhhhhhhhhhhhhhhhhhhhhhhhhhhhhhhhhhhhhhhhhhhhhhhhhhhhhhhhhhhhhhhhhhhhhhhhhhhhhhhhhhhhhhhhhhhhhhhhhhhhhhhhhhhhhhhhhhhhhhhhhhhhhhhhhhhhhhhhhhhhhhhhhhhhhhhhhhh, werty, xddddddddddddddddddddddddddddddddddddddddddddddddddddddddddddddddddddddddddddddddddddddddddddddddddddddddddddddddddddddddddddddddddddddddddddddddddddddddddddddddddddddddddddddddddddddddddddddddddddddddddddddddddddddddddddddddddddddddddddddddddddddddddddddddddddddddddddddddddddddddddddddddddddddddddddddddddddddddddddddddddddddddddddddddddddddddddddddddddddddddddddddddddddddddddddddddddddddddddddddddddddddddddddddddddddddddddddddddddd, xy",
          "<b>Topic 2</b><br>Words: ahhhhhhhhhhhhhhhhhhhhhhhhhhhhhhhhhhhhhhhhhhhhhhhhhhhhhhhhhhhhhhhhhhhhhhhhhhhhhhhhhhhhhhhhhhhhhhhhhhhhhhhhhhhhhhhhhhhhhhhhhhhhhhhhhhhhhhhhhhhhhhhhhhhhhhhhhhhhhhhhhhhhhhhhhhhhhhhhhhhhhhhhhhhhhhhhhhhhhhhhhhhhhhhhhhhhhhhhhhhhhhhhhhhhhhhhhhhhhhhhhhhhhhhhhhhhhhhhhhhhhhhh, burh, werty, xddddddddddddddddddddddddddddddddddddddddddddddddddddddddddddddddddddddddddddddddddddddddddddddddddddddddddddddddddddddddddddddddddddddddddddddddddddddddddddddddddddddddddddddddddddddddddddddddddddddddddddddddddddddddddddddddddddddddddddddddddddddddddddddddddddddddddddddddddddddddddddddddddddddddddddddddddddddddddddddddddddddddddddddddddddddddddddddddddddddddddddddddddddddddddddddddddddddddddddddddddddddddddddddddddddddddddddddddddd, xy",
          "<b>Topic 2</b><br>Words: burh, ahhhhhhhhhhhhhhhhhhhhhhhhhhhhhhhhhhhhhhhhhhhhhhhhhhhhhhhhhhhhhhhhhhhhhhhhhhhhhhhhhhhhhhhhhhhhhhhhhhhhhhhhhhhhhhhhhhhhhhhhhhhhhhhhhhhhhhhhhhhhhhhhhhhhhhhhhhhhhhhhhhhhhhhhhhhhhhhhhhhhhhhhhhhhhhhhhhhhhhhhhhhhhhhhhhhhhhhhhhhhhhhhhhhhhhhhhhhhhhhhhhhhhhhhhhhhhhhhhhhhhhhh, werty, xddddddddddddddddddddddddddddddddddddddddddddddddddddddddddddddddddddddddddddddddddddddddddddddddddddddddddddddddddddddddddddddddddddddddddddddddddddddddddddddddddddddddddddddddddddddddddddddddddddddddddddddddddddddddddddddddddddddddddddddddddddddddddddddddddddddddddddddddddddddddddddddddddddddddddddddddddddddddddddddddddddddddddddddddddddddddddddddddddddddddddddddddddddddddddddddddddddddddddddddddddddddddddddddddddddddddddddddddddd, xy",
          "<b>Topic 2</b><br>Words: burh, ahhhhhhhhhhhhhhhhhhhhhhhhhhhhhhhhhhhhhhhhhhhhhhhhhhhhhhhhhhhhhhhhhhhhhhhhhhhhhhhhhhhhhhhhhhhhhhhhhhhhhhhhhhhhhhhhhhhhhhhhhhhhhhhhhhhhhhhhhhhhhhhhhhhhhhhhhhhhhhhhhhhhhhhhhhhhhhhhhhhhhhhhhhhhhhhhhhhhhhhhhhhhhhhhhhhhhhhhhhhhhhhhhhhhhhhhhhhhhhhhhhhhhhhhhhhhhhhhhhhhhhhh, werty, xddddddddddddddddddddddddddddddddddddddddddddddddddddddddddddddddddddddddddddddddddddddddddddddddddddddddddddddddddddddddddddddddddddddddddddddddddddddddddddddddddddddddddddddddddddddddddddddddddddddddddddddddddddddddddddddddddddddddddddddddddddddddddddddddddddddddddddddddddddddddddddddddddddddddddddddddddddddddddddddddddddddddddddddddddddddddddddddddddddddddddddddddddddddddddddddddddddddddddddddddddddddddddddddddddddddddddddddddddd, xy",
          "<b>Topic 2</b><br>Words: xy, burh, ahhhhhhhhhhhhhhhhhhhhhhhhhhhhhhhhhhhhhhhhhhhhhhhhhhhhhhhhhhhhhhhhhhhhhhhhhhhhhhhhhhhhhhhhhhhhhhhhhhhhhhhhhhhhhhhhhhhhhhhhhhhhhhhhhhhhhhhhhhhhhhhhhhhhhhhhhhhhhhhhhhhhhhhhhhhhhhhhhhhhhhhhhhhhhhhhhhhhhhhhhhhhhhhhhhhhhhhhhhhhhhhhhhhhhhhhhhhhhhhhhhhhhhhhhhhhhhhhhhhhhhhh, werty, xddddddddddddddddddddddddddddddddddddddddddddddddddddddddddddddddddddddddddddddddddddddddddddddddddddddddddddddddddddddddddddddddddddddddddddddddddddddddddddddddddddddddddddddddddddddddddddddddddddddddddddddddddddddddddddddddddddddddddddddddddddddddddddddddddddddddddddddddddddddddddddddddddddddddddddddddddddddddddddddddddddddddddddddddddddddddddddddddddddddddddddddddddddddddddddddddddddddddddddddddddddddddddddddddddddddddddddddddddd"
         ],
         "marker": {
          "color": "#009E73"
         },
         "mode": "lines",
         "name": "2_xddddddddddddddddddddddddddddddddddddd...",
         "type": "scatter",
         "x": [
          "2014-04-20T22:58:39.521999",
          "2014-11-10T23:59:24.900000",
          "2015-05-30T00:58:58.800000",
          "2015-12-16T01:58:32.700000",
          "2016-07-03T02:58:06.600000",
          "2017-01-19T03:57:40.500000",
          "2017-08-07T04:57:14.400000",
          "2018-02-23T05:56:48.300000",
          "2018-09-11T06:56:22.200000",
          "2019-03-30T07:55:56.100000",
          "2019-10-16T08:55:30",
          "2020-05-03T09:55:03.900000",
          "2020-11-19T10:54:37.800000",
          "2021-06-07T11:54:11.700000",
          "2021-12-24T12:53:45.600000",
          "2022-07-12T13:53:19.500000",
          "2023-01-28T14:52:53.400000",
          "2023-08-16T15:52:27.300000",
          "2024-03-03T16:52:01.200000",
          "2024-09-19T17:51:35.100000"
         ],
         "y": [
          7,
          6,
          2,
          6,
          5,
          3,
          2,
          1,
          4,
          9,
          14,
          22,
          22,
          35,
          48,
          17,
          26,
          31,
          43,
          40
         ]
        },
        {
         "hoverinfo": "text",
         "hovertext": [
          "<b>Topic 3</b><br>Words: terrible, one, like, bad, ever",
          "<b>Topic 3</b><br>Words: heroin, report, bad, destroy, poorly",
          "<b>Topic 3</b><br>Words: contorls, bad, ever, far, terrible",
          "<b>Topic 3</b><br>Words: slashy, marginally, bad, base, ever",
          "<b>Topic 3</b><br>Words: bumbling, retard, bunch, bad, every",
          "<b>Topic 3</b><br>Words: significantly, bad, joke, press, previous",
          "<b>Topic 3</b><br>Words: classify, bad, art, anymore, joke",
          "<b>Topic 3</b><br>Words: ss, seires, bad, poor, pretty",
          "<b>Topic 3</b><br>Words: civilization, bad, already, big, take",
          "<b>Topic 3</b><br>Words: aid, bad, like, ever, far",
          "<b>Topic 3</b><br>Words: bad, crucify, cute, girl, oppose",
          "<b>Topic 3</b><br>Words: bad, aight, knockoff, bitch, dreadful",
          "<b>Topic 3</b><br>Words: bad, histroy, fack, mom, dsi",
          "<b>Topic 3</b><br>Words: bad, artificail, diffuculky, hipster, cannon",
          "<b>Topic 3</b><br>Words: bad, crank, infinitely, worse, everything",
          "<b>Topic 3</b><br>Words: bad, conceivable, elaborate, significantly, per",
          "<b>Topic 3</b><br>Words: bad, tarkov, irredeemable, candidate, terribleness",
          "<b>Topic 3</b><br>Words: bad, ever, lololololololol, charcter, lunch",
          "<b>Topic 3</b><br>Words: bad, ever, loser, general, theyve",
          "<b>Topic 3</b><br>Words: bad, dond, ith, elmer, furthest"
         ],
         "marker": {
          "color": "#F0E442"
         },
         "mode": "lines",
         "name": "3_bad_ever_far_terrible",
         "type": "scatter",
         "x": [
          "2014-04-20T22:58:39.521999",
          "2014-11-10T23:59:24.900000",
          "2015-05-30T00:58:58.800000",
          "2015-12-16T01:58:32.700000",
          "2016-07-03T02:58:06.600000",
          "2017-01-19T03:57:40.500000",
          "2017-08-07T04:57:14.400000",
          "2018-02-23T05:56:48.300000",
          "2018-09-11T06:56:22.200000",
          "2019-03-30T07:55:56.100000",
          "2019-10-16T08:55:30",
          "2020-05-03T09:55:03.900000",
          "2020-11-19T10:54:37.800000",
          "2021-06-07T11:54:11.700000",
          "2021-12-24T12:53:45.600000",
          "2022-07-12T13:53:19.500000",
          "2023-01-28T14:52:53.400000",
          "2023-08-16T15:52:27.300000",
          "2024-03-03T16:52:01.200000",
          "2024-09-19T17:51:35.100000"
         ],
         "y": [
          1,
          3,
          2,
          4,
          1,
          3,
          5,
          3,
          3,
          2,
          6,
          10,
          7,
          11,
          6,
          7,
          18,
          20,
          31,
          17
         ]
        },
        {
         "hoverinfo": "text",
         "hovertext": [
          "<b>Topic 4</b><br>Words: pvp, pve, lag, co, op",
          "<b>Topic 4</b><br>Words: pvp, pve, lagger, laggy, multiplayer",
          "<b>Topic 4</b><br>Words: pvp, pve, lag, annoying, multi",
          "<b>Topic 4</b><br>Words: pvp, pve, scotf, though, render",
          "<b>Topic 4</b><br>Words: pvp, intrest, graveyard, catacomb, confidently",
          "<b>Topic 4</b><br>Words: pvp, pve, weighted, weight, improve",
          "<b>Topic 4</b><br>Words: pvp, lvl, meter, contack, replayabylity",
          "<b>Topic 4</b><br>Words: pvp, limit, total, crowd, pve",
          "<b>Topic 4</b><br>Words: pvp, desynchronization, handedly, medal, oftentimes",
          "<b>Topic 4</b><br>Words: nitpick, pvm, hatemail, sweaty, pvp",
          "<b>Topic 4</b><br>Words: pvp, humans, inst, optional, involuntary",
          "<b>Topic 4</b><br>Words: pvp, player, playtime, spurg, sadly",
          "<b>Topic 4</b><br>Words: pvp, exilerating, disgrase, terribble, pve",
          "<b>Topic 4</b><br>Words: pvp, hundo, coop, memory, rule",
          "<b>Topic 4</b><br>Words: pvp, afwul, pve, host, multiplayer",
          "<b>Topic 4</b><br>Words: fromsofware, integral, aspects, ashamed, treat",
          "<b>Topic 4</b><br>Words: beg, pvp, nadir, franchise, embodiment",
          "<b>Topic 4</b><br>Words: pvp, noobslayer, fashionsouls, kitted, sweaty",
          "<b>Topic 4</b><br>Words: lordvessel, tailor, roadblock, detriment, fodder",
          "<b>Topic 4</b><br>Words: pvp, hord, boo, platinumed, stale"
         ],
         "marker": {
          "color": "#D55E00"
         },
         "mode": "lines",
         "name": "4_pvp_pve_lag_player",
         "type": "scatter",
         "x": [
          "2014-04-20T22:58:39.521999",
          "2014-11-10T23:59:24.900000",
          "2015-05-30T00:58:58.800000",
          "2015-12-16T01:58:32.700000",
          "2016-07-03T02:58:06.600000",
          "2017-01-19T03:57:40.500000",
          "2017-08-07T04:57:14.400000",
          "2018-02-23T05:56:48.300000",
          "2018-09-11T06:56:22.200000",
          "2019-03-30T07:55:56.100000",
          "2019-10-16T08:55:30",
          "2020-05-03T09:55:03.900000",
          "2020-11-19T10:54:37.800000",
          "2021-06-07T11:54:11.700000",
          "2021-12-24T12:53:45.600000",
          "2022-07-12T13:53:19.500000",
          "2023-01-28T14:52:53.400000",
          "2023-08-16T15:52:27.300000",
          "2024-03-03T16:52:01.200000",
          "2024-09-19T17:51:35.100000"
         ],
         "y": [
          41,
          21,
          10,
          6,
          3,
          5,
          3,
          8,
          4,
          2,
          4,
          9,
          5,
          9,
          7,
          1,
          4,
          4,
          2,
          3
         ]
        },
        {
         "hoverinfo": "text",
         "hovertext": [
          "<b>Topic 5</b><br>Words: buy, netcote, awful, disgrace, cking",
          "<b>Topic 5</b><br>Words: buy, twice, grahics, ecspect, ptd",
          "<b>Topic 5</b><br>Words: buy, hemorrhoids, booooring, tard, upd",
          "<b>Topic 5</b><br>Words: buy, mad, placements, twice, uncanny",
          "<b>Topic 5</b><br>Words: twice, buy, nice, literally, point",
          "<b>Topic 5</b><br>Words: orignal, buy, imitation, st, realize",
          "<b>Topic 5</b><br>Words: unsubscribe, walmart, forgot, humble, buy",
          "<b>Topic 5</b><br>Words: diehard, incomplete, buy, beginning, piece",
          "<b>Topic 5</b><br>Words: purchase, godrays, buy, watch, believe",
          "<b>Topic 5</b><br>Words: overrated, market, horse, shit, buy",
          "<b>Topic 5</b><br>Words: buy, ths, fuckk, peopol, warn",
          "<b>Topic 5</b><br>Words: buy, posibly, catalogue, dsr, ing",
          "<b>Topic 5</b><br>Words: buy, inevitable, dont, suck, purchase",
          "<b>Topic 5</b><br>Words: buy, unfear, financial, sale, oops",
          "<b>Topic 5</b><br>Words: buy, lmao, cuz, plimplimplim, banana",
          "<b>Topic 5</b><br>Words: celeste, buy, walmart, po, decade",
          "<b>Topic 5</b><br>Words: buy, sale, highway, robbery, fuckery",
          "<b>Topic 5</b><br>Words: buy, aliexpress, plz, bought, commit",
          "<b>Topic 5</b><br>Words: buy, shi, sanity, logic, videogame",
          "<b>Topic 5</b><br>Words: buy, originl, sex, gavlan, po"
         ],
         "marker": {
          "color": "#0072B2"
         },
         "mode": "lines",
         "name": "5_buy_purchase_dont_instead",
         "type": "scatter",
         "x": [
          "2014-04-20T22:58:39.521999",
          "2014-11-10T23:59:24.900000",
          "2015-05-30T00:58:58.800000",
          "2015-12-16T01:58:32.700000",
          "2016-07-03T02:58:06.600000",
          "2017-01-19T03:57:40.500000",
          "2017-08-07T04:57:14.400000",
          "2018-02-23T05:56:48.300000",
          "2018-09-11T06:56:22.200000",
          "2019-03-30T07:55:56.100000",
          "2019-10-16T08:55:30",
          "2020-05-03T09:55:03.900000",
          "2020-11-19T10:54:37.800000",
          "2021-06-07T11:54:11.700000",
          "2021-12-24T12:53:45.600000",
          "2022-07-12T13:53:19.500000",
          "2023-01-28T14:52:53.400000",
          "2023-08-16T15:52:27.300000",
          "2024-03-03T16:52:01.200000",
          "2024-09-19T17:51:35.100000"
         ],
         "y": [
          9,
          18,
          6,
          7,
          2,
          4,
          2,
          3,
          3,
          1,
          7,
          7,
          9,
          9,
          5,
          6,
          11,
          11,
          8,
          9
         ]
        },
        {
         "hoverinfo": "text",
         "hovertext": [
          "<b>Topic 6</b><br>Words: bad, haha, sorry, yeah, somehow",
          "<b>Topic 6</b><br>Words: bad, haha, sorry, yeah, somehow",
          "<b>Topic 6</b><br>Words: bad, haha, sorry, yeah, somehow",
          "<b>Topic 6</b><br>Words: bad, haha, sorry, yeah, somehow",
          "<b>Topic 6</b><br>Words: bad, haha, sorry, yeah, somehow",
          "<b>Topic 6</b><br>Words: bad, haha, sorry, yeah, somehow",
          "<b>Topic 6</b><br>Words: bad, haha, sorry, yeah, somehow",
          "<b>Topic 6</b><br>Words: bad, somehow, haha, sorry, yeah",
          "<b>Topic 6</b><br>Words: bad, haha, one, sorry, yeah",
          "<b>Topic 6</b><br>Words: bad, haha, sorry, yeah, somehow",
          "<b>Topic 6</b><br>Words: bad, haha, sorry, yeah, somehow",
          "<b>Topic 6</b><br>Words: bad, sorry, haha, yeah, somehow",
          "<b>Topic 6</b><br>Words: bad, haha, sorry, yeah, somehow",
          "<b>Topic 6</b><br>Words: bad, fuck, haha, sorry, yeah",
          "<b>Topic 6</b><br>Words: bad, haha, say, much, really",
          "<b>Topic 6</b><br>Words: bad, yeah, still, haha, sorry"
         ],
         "marker": {
          "color": "#CC79A7"
         },
         "mode": "lines",
         "name": "6_bad_haha_sorry_yeah",
         "type": "scatter",
         "x": [
          "2014-04-20T22:58:39.521999",
          "2016-07-03T02:58:06.600000",
          "2017-01-19T03:57:40.500000",
          "2017-08-07T04:57:14.400000",
          "2018-02-23T05:56:48.300000",
          "2019-03-30T07:55:56.100000",
          "2019-10-16T08:55:30",
          "2020-05-03T09:55:03.900000",
          "2020-11-19T10:54:37.800000",
          "2021-06-07T11:54:11.700000",
          "2021-12-24T12:53:45.600000",
          "2022-07-12T13:53:19.500000",
          "2023-01-28T14:52:53.400000",
          "2023-08-16T15:52:27.300000",
          "2024-03-03T16:52:01.200000",
          "2024-09-19T17:51:35.100000"
         ],
         "y": [
          2,
          1,
          2,
          3,
          1,
          4,
          7,
          8,
          10,
          20,
          14,
          4,
          12,
          7,
          21,
          12
         ]
        },
        {
         "hoverinfo": "text",
         "hovertext": [
          "<b>Topic 7</b><br>Words: ever, play, bad, soulless, dissapointing",
          "<b>Topic 7</b><br>Words: suck, game, ever, bad, play",
          "<b>Topic 7</b><br>Words: immesly, ea, bs, hopefully, alot",
          "<b>Topic 7</b><br>Words: cant, say, sure, play, want",
          "<b>Topic 7</b><br>Words: worst, third, believe, ever, horrible",
          "<b>Topic 7</b><br>Words: nope, across, game, bad, life",
          "<b>Topic 7</b><br>Words: tread, unpolished, game, lot, bad",
          "<b>Topic 7</b><br>Words: forgetable, merit, obnoxious, ever, suppose",
          "<b>Topic 7</b><br>Words: pathetic, joke, far, slow, everything",
          "<b>Topic 7</b><br>Words: mald, tragedy, ever, far, bad",
          "<b>Topic 7</b><br>Words: damn, ever, raff, wrld, suffered",
          "<b>Topic 7</b><br>Words: becouse, bad, legend, league, play",
          "<b>Topic 7</b><br>Words: ever, fucking, depression, severe, havent",
          "<b>Topic 7</b><br>Words: ever, thjis, bad, play, atrocity",
          "<b>Topic 7</b><br>Words: ever, bad, sarcastic, play, politics",
          "<b>Topic 7</b><br>Words: displeasure, ever, kalle, ranger, imagine",
          "<b>Topic 7</b><br>Words: ever, bad, play, ga, fk",
          "<b>Topic 7</b><br>Words: ever, worst, play, bad, axis",
          "<b>Topic 7</b><br>Words: ever, bad, play, worst, game",
          "<b>Topic 7</b><br>Words: ever, worst, bad, play, hypodermic"
         ],
         "marker": {
          "color": "#E69F00"
         },
         "mode": "lines",
         "name": "7_ever_bad_play_game",
         "type": "scatter",
         "x": [
          "2014-04-20T22:58:39.521999",
          "2014-11-10T23:59:24.900000",
          "2015-05-30T00:58:58.800000",
          "2015-12-16T01:58:32.700000",
          "2016-07-03T02:58:06.600000",
          "2017-01-19T03:57:40.500000",
          "2017-08-07T04:57:14.400000",
          "2018-02-23T05:56:48.300000",
          "2018-09-11T06:56:22.200000",
          "2019-03-30T07:55:56.100000",
          "2019-10-16T08:55:30",
          "2020-05-03T09:55:03.900000",
          "2020-11-19T10:54:37.800000",
          "2021-06-07T11:54:11.700000",
          "2021-12-24T12:53:45.600000",
          "2022-07-12T13:53:19.500000",
          "2023-01-28T14:52:53.400000",
          "2023-08-16T15:52:27.300000",
          "2024-03-03T16:52:01.200000",
          "2024-09-19T17:51:35.100000"
         ],
         "y": [
          7,
          1,
          2,
          1,
          2,
          3,
          2,
          3,
          2,
          1,
          3,
          7,
          6,
          14,
          8,
          7,
          10,
          11,
          21,
          15
         ]
        },
        {
         "hoverinfo": "text",
         "hovertext": [
          "<b>Topic 8</b><br>Words: design, cod, poorly, edied, downie",
          "<b>Topic 8</b><br>Words: cetain, pacements, unchanged, inadequate, base",
          "<b>Topic 8</b><br>Words: leashing, processing, aggro, aggravating, massively",
          "<b>Topic 8</b><br>Words: gip, railroad, endedness, design, quarter",
          "<b>Topic 8</b><br>Words: embarresment, enviornments, soft, stereotypical, geez",
          "<b>Topic 8</b><br>Words: design, level, leveling, boring, zzzzz",
          "<b>Topic 8</b><br>Words: fetus, autistic, puke, brain, atmosphere",
          "<b>Topic 8</b><br>Words: installment, zone, clunky, terrible, series",
          "<b>Topic 8</b><br>Words: fvcking, mechanism, link, previous, stupid",
          "<b>Topic 8</b><br>Words: design, as, level, porbably, lvling",
          "<b>Topic 8</b><br>Words: design, thoses, ooooof, kilometers, level",
          "<b>Topic 8</b><br>Words: design, aid, level, primal, aroung",
          "<b>Topic 8</b><br>Words: design, level, boring, hexxing, bofyh",
          "<b>Topic 8</b><br>Words: tweezer, adaptibilty, astonish, pubes, design",
          "<b>Topic 8</b><br>Words: design, stage, monkie, supreme, squad",
          "<b>Topic 8</b><br>Words: design, inhumanely, terry, sadistically, testicle",
          "<b>Topic 8</b><br>Words: design, level, boring, poorly, jankiness",
          "<b>Topic 8</b><br>Words: design, couldnt, level, reprobate, unpatched",
          "<b>Topic 8</b><br>Words: design, level, mecahnics, surreal, everywhere"
         ],
         "marker": {
          "color": "#56B4E9"
         },
         "mode": "lines",
         "name": "8_design_level_boring_boss",
         "type": "scatter",
         "x": [
          "2014-04-20T22:58:39.521999",
          "2014-11-10T23:59:24.900000",
          "2015-05-30T00:58:58.800000",
          "2015-12-16T01:58:32.700000",
          "2016-07-03T02:58:06.600000",
          "2017-08-07T04:57:14.400000",
          "2018-02-23T05:56:48.300000",
          "2018-09-11T06:56:22.200000",
          "2019-03-30T07:55:56.100000",
          "2019-10-16T08:55:30",
          "2020-05-03T09:55:03.900000",
          "2020-11-19T10:54:37.800000",
          "2021-06-07T11:54:11.700000",
          "2021-12-24T12:53:45.600000",
          "2022-07-12T13:53:19.500000",
          "2023-01-28T14:52:53.400000",
          "2023-08-16T15:52:27.300000",
          "2024-03-03T16:52:01.200000",
          "2024-09-19T17:51:35.100000"
         ],
         "y": [
          8,
          4,
          1,
          3,
          5,
          8,
          2,
          1,
          1,
          5,
          6,
          9,
          11,
          5,
          6,
          8,
          16,
          13,
          11
         ]
        },
        {
         "hoverinfo": "text",
         "hovertext": [
          "<b>Topic 9</b><br>Words: microphone, rockabnd, shameful, support, elden",
          "<b>Topic 9</b><br>Words: elden, ring, already, finish, bad",
          "<b>Topic 9</b><br>Words: doo, eldin, ring, elden, evil",
          "<b>Topic 9</b><br>Words: elden, ring, alva, helmet, lean",
          "<b>Topic 9</b><br>Words: elden, ring, multiplayer, server, back",
          "<b>Topic 9</b><br>Words: elden, ring, company, albanian, widen",
          "<b>Topic 9</b><br>Words: elden, ring, lost, sinner, attend",
          "<b>Topic 9</b><br>Words: elden, ring, newfound, enjoyable, electric",
          "<b>Topic 9</b><br>Words: elden, ring, lego, imright, masterclasses",
          "<b>Topic 9</b><br>Words: elden, ring, ctrl, clinically, ii"
         ],
         "marker": {
          "color": "#009E73"
         },
         "mode": "lines",
         "name": "9_elden_ring_play_ctrl",
         "type": "scatter",
         "x": [
          "2018-02-23T05:56:48.300000",
          "2019-10-16T08:55:30",
          "2020-11-19T10:54:37.800000",
          "2021-06-07T11:54:11.700000",
          "2021-12-24T12:53:45.600000",
          "2022-07-12T13:53:19.500000",
          "2023-01-28T14:52:53.400000",
          "2023-08-16T15:52:27.300000",
          "2024-03-03T16:52:01.200000",
          "2024-09-19T17:51:35.100000"
         ],
         "y": [
          1,
          1,
          2,
          3,
          30,
          10,
          9,
          14,
          17,
          12
         ]
        },
        {
         "hoverinfo": "text",
         "hovertext": [
          "<b>Topic 10</b><br>Words: version, dx, buy, release, new",
          "<b>Topic 10</b><br>Words: version, upgrade, dx, new, price",
          "<b>Topic 10</b><br>Words: software, version, release, eddition, optimized",
          "<b>Topic 10</b><br>Words: version, support, software, metareview, extorsion",
          "<b>Topic 10</b><br>Words: starbucks, sudoku, squeeze, cent, loyal",
          "<b>Topic 10</b><br>Words: bandai, season, pas, improvment, patch",
          "<b>Topic 10</b><br>Words: compilation, sotfs, advanced, purchase, remastered",
          "<b>Topic 10</b><br>Words: registration, opinion, come, hit, version",
          "<b>Topic 10</b><br>Words: agent, undeniable, convince, recently, otherwise",
          "<b>Topic 10</b><br>Words: dx, split, eerier, targeted, community"
         ],
         "marker": {
          "color": "#F0E442"
         },
         "mode": "lines",
         "name": "10_version_dx_release_buy",
         "type": "scatter",
         "x": [
          "2014-11-10T23:59:24.900000",
          "2015-05-30T00:58:58.800000",
          "2015-12-16T01:58:32.700000",
          "2016-07-03T02:58:06.600000",
          "2018-02-23T05:56:48.300000",
          "2018-09-11T06:56:22.200000",
          "2020-11-19T10:54:37.800000",
          "2021-06-07T11:54:11.700000",
          "2022-07-12T13:53:19.500000",
          "2023-08-16T15:52:27.300000"
         ],
         "y": [
          72,
          10,
          4,
          2,
          1,
          1,
          1,
          1,
          1,
          2
         ]
        },
        {
         "hoverinfo": "text",
         "hovertext": [
          "<b>Topic 11</b><br>Words: challenge, flaw, certain, button, kill",
          "<b>Topic 11</b><br>Words: random, quit, chariot, overwhelm, consume",
          "<b>Topic 11</b><br>Words: clearly, punishment, found, continue, awfully",
          "<b>Topic 11</b><br>Words: die, difficult, hit, dodge, enemy",
          "<b>Topic 11</b><br>Words: loss, permanent, die, semi, visible",
          "<b>Topic 11</b><br>Words: forgive, chain, advantage, bode, danage",
          "<b>Topic 11</b><br>Words: guysss, disc, compensation, hard, imitate",
          "<b>Topic 11</b><br>Words: ambush, powerstancing, oneshoted, moments, sap",
          "<b>Topic 11</b><br>Words: mistake, invincible, kill, second, chests",
          "<b>Topic 11</b><br>Words: absurd, stagnate, reveals, gultch, slow",
          "<b>Topic 11</b><br>Words: detection, mist, ight, chase, awful",
          "<b>Topic 11</b><br>Words: combo, dodge, die, weapon, enemy",
          "<b>Topic 11</b><br>Words: damage, dig, regular, could, opportunity",
          "<b>Topic 11</b><br>Words: vit, shield, isnt, ganked, pit",
          "<b>Topic 11</b><br>Words: health, die, skill, dodge, enemy",
          "<b>Topic 11</b><br>Words: gear, orange, behind, random, break",
          "<b>Topic 11</b><br>Words: starting, class, lack, loadouts, ragdolls",
          "<b>Topic 11</b><br>Words: skill, patience, wich, define, health",
          "<b>Topic 11</b><br>Words: flask, skill, irritation, guide, compliment",
          "<b>Topic 11</b><br>Words: health, ridiculous, stat, terrible, healing"
         ],
         "marker": {
          "color": "#D55E00"
         },
         "mode": "lines",
         "name": "11_die_enemy_hit_dodge",
         "type": "scatter",
         "x": [
          "2014-04-20T22:58:39.521999",
          "2014-11-10T23:59:24.900000",
          "2015-05-30T00:58:58.800000",
          "2015-12-16T01:58:32.700000",
          "2016-07-03T02:58:06.600000",
          "2017-01-19T03:57:40.500000",
          "2017-08-07T04:57:14.400000",
          "2018-02-23T05:56:48.300000",
          "2018-09-11T06:56:22.200000",
          "2019-03-30T07:55:56.100000",
          "2019-10-16T08:55:30",
          "2020-05-03T09:55:03.900000",
          "2020-11-19T10:54:37.800000",
          "2021-06-07T11:54:11.700000",
          "2021-12-24T12:53:45.600000",
          "2022-07-12T13:53:19.500000",
          "2023-01-28T14:52:53.400000",
          "2023-08-16T15:52:27.300000",
          "2024-03-03T16:52:01.200000",
          "2024-09-19T17:51:35.100000"
         ],
         "y": [
          5,
          2,
          1,
          11,
          1,
          4,
          3,
          3,
          2,
          3,
          4,
          6,
          6,
          5,
          8,
          3,
          8,
          4,
          8,
          7
         ]
        },
        {
         "hoverinfo": "text",
         "hovertext": [
          "<b>Topic 12</b><br>Words: dont, play, free, minute, one",
          "<b>Topic 12</b><br>Words: dont, peice, naked, finger, casual",
          "<b>Topic 12</b><br>Words: desperation, dont, generator, heart, play",
          "<b>Topic 12</b><br>Words: gash, dont, ng, play, id",
          "<b>Topic 12</b><br>Words: one, play, dont, id, else",
          "<b>Topic 12</b><br>Words: play, dont, go, feel, good",
          "<b>Topic 12</b><br>Words: dont, gray, chinese, play, color",
          "<b>Topic 12</b><br>Words: dont, grater, play, shred, id",
          "<b>Topic 12</b><br>Words: play, dont, id, else, grater",
          "<b>Topic 12</b><br>Words: seek, dont, play, know, fun",
          "<b>Topic 12</b><br>Words: dont, play, hbomberguy, nerd, optimal",
          "<b>Topic 12</b><br>Words: dont, play, heck, actual, else",
          "<b>Topic 12</b><br>Words: dont, play, scenery, chore, downgrade",
          "<b>Topic 12</b><br>Words: dont, thank, play, playing, stop",
          "<b>Topic 12</b><br>Words: dont, play, caress, else, grater",
          "<b>Topic 12</b><br>Words: dont, play, youve, platinumed, retard",
          "<b>Topic 12</b><br>Words: dont, play, pearly, genitals, blender"
         ],
         "marker": {
          "color": "#0072B2"
         },
         "mode": "lines",
         "name": "12_dont_play_id_else",
         "type": "scatter",
         "x": [
          "2014-04-20T22:58:39.521999",
          "2014-11-10T23:59:24.900000",
          "2015-12-16T01:58:32.700000",
          "2016-07-03T02:58:06.600000",
          "2017-08-07T04:57:14.400000",
          "2018-09-11T06:56:22.200000",
          "2019-03-30T07:55:56.100000",
          "2019-10-16T08:55:30",
          "2020-05-03T09:55:03.900000",
          "2020-11-19T10:54:37.800000",
          "2021-06-07T11:54:11.700000",
          "2021-12-24T12:53:45.600000",
          "2022-07-12T13:53:19.500000",
          "2023-01-28T14:52:53.400000",
          "2023-08-16T15:52:27.300000",
          "2024-03-03T16:52:01.200000",
          "2024-09-19T17:51:35.100000"
         ],
         "y": [
          4,
          1,
          3,
          1,
          1,
          2,
          4,
          4,
          1,
          3,
          12,
          9,
          5,
          5,
          13,
          10,
          10
         ]
        },
        {
         "hoverinfo": "text",
         "hovertext": [
          "<b>Topic 13</b><br>Words: trash, actually, go, bin, muk",
          "<b>Topic 13</b><br>Words: trash, mob, ever, bin, muk",
          "<b>Topic 13</b><br>Words: trash, bin, muk, whacanisay, schholar",
          "<b>Topic 13</b><br>Words: trash, bb, plain, simple, core",
          "<b>Topic 13</b><br>Words: trash, bargain, bin, rot, let",
          "<b>Topic 13</b><br>Words: trash, bin, muk, whacanisay, schholar",
          "<b>Topic 13</b><br>Words: trash, bin, muk, whacanisay, schholar",
          "<b>Topic 13</b><br>Words: trash, whacanisay, disgust, bin, muk",
          "<b>Topic 13</b><br>Words: trash, bin, muk, whacanisay, schholar",
          "<b>Topic 13</b><br>Words: trash, bin, life, garbage, waste",
          "<b>Topic 13</b><br>Words: trash, actual, bin, muk, gatekeeping",
          "<b>Topic 13</b><br>Words: trash, bin, rex, dino, muk",
          "<b>Topic 13</b><br>Words: trash, iii, bug, full, break",
          "<b>Topic 13</b><br>Words: trash, iii, rush, absolutely, compare",
          "<b>Topic 13</b><br>Words: trash, muk, bin, whacanisay, schholar",
          "<b>Topic 13</b><br>Words: trash, schholar, bin, tl, dr",
          "<b>Topic 13</b><br>Words: trash, fcking, as, stupid, far",
          "<b>Topic 13</b><br>Words: trash, dogpile, gatekeeping, glencour, masterlass",
          "<b>Topic 13</b><br>Words: trash, hella, thank, literally, experience"
         ],
         "marker": {
          "color": "#CC79A7"
         },
         "mode": "lines",
         "name": "13_trash_bin_muk_whacanisay",
         "type": "scatter",
         "x": [
          "2014-04-20T22:58:39.521999",
          "2014-11-10T23:59:24.900000",
          "2015-12-16T01:58:32.700000",
          "2016-07-03T02:58:06.600000",
          "2017-01-19T03:57:40.500000",
          "2017-08-07T04:57:14.400000",
          "2018-02-23T05:56:48.300000",
          "2018-09-11T06:56:22.200000",
          "2019-03-30T07:55:56.100000",
          "2019-10-16T08:55:30",
          "2020-05-03T09:55:03.900000",
          "2020-11-19T10:54:37.800000",
          "2021-06-07T11:54:11.700000",
          "2021-12-24T12:53:45.600000",
          "2022-07-12T13:53:19.500000",
          "2023-01-28T14:52:53.400000",
          "2023-08-16T15:52:27.300000",
          "2024-03-03T16:52:01.200000",
          "2024-09-19T17:51:35.100000"
         ],
         "y": [
          3,
          1,
          1,
          1,
          2,
          1,
          5,
          2,
          2,
          4,
          4,
          5,
          10,
          7,
          3,
          11,
          3,
          13,
          8
         ]
        },
        {
         "hoverinfo": "text",
         "hovertext": [
          "<b>Topic 14</b><br>Words: vac, ban, cheater, hacker, cheat",
          "<b>Topic 14</b><br>Words: ban, softbanned, cheater, soft, hacker",
          "<b>Topic 14</b><br>Words: ban, softbanned, mod, hacker, banwave",
          "<b>Topic 14</b><br>Words: ban, softbanned, hacker, boxed, wti",
          "<b>Topic 14</b><br>Words: ban, dxtory, mod, cheat, soft",
          "<b>Topic 14</b><br>Words: ban, automated, malformed, wrongly, fromsoftware",
          "<b>Topic 14</b><br>Words: ban, cheater, mod, enhancement, software",
          "<b>Topic 14</b><br>Words: hacker, revive, merchant, herald, emerald",
          "<b>Topic 14</b><br>Words: ban, cheater, secound, banco, amok",
          "<b>Topic 14</b><br>Words: permanently, unjustifiable, year, reply, softban",
          "<b>Topic 14</b><br>Words: softbanned, anybody, online, realize, prepare",
          "<b>Topic 14</b><br>Words: ban, hacker, kekw, weapin, continiue",
          "<b>Topic 14</b><br>Words: cheater, ban, hacker, profile, soft",
          "<b>Topic 14</b><br>Words: security, ban, rce, exploit, computer",
          "<b>Topic 14</b><br>Words: vulnerability, fraud, rampant, ban, ptde",
          "<b>Topic 14</b><br>Words: ban, reshade, who, deserve, sicken",
          "<b>Topic 14</b><br>Words: ban, cheater, bricked, anticheat, soft",
          "<b>Topic 14</b><br>Words: scum, ban, inventory, nsfw, nude"
         ],
         "marker": {
          "color": "#E69F00"
         },
         "mode": "lines",
         "name": "14_ban_cheater_vac_hacker",
         "type": "scatter",
         "x": [
          "2014-04-20T22:58:39.521999",
          "2014-11-10T23:59:24.900000",
          "2015-05-30T00:58:58.800000",
          "2015-12-16T01:58:32.700000",
          "2016-07-03T02:58:06.600000",
          "2017-01-19T03:57:40.500000",
          "2017-08-07T04:57:14.400000",
          "2018-02-23T05:56:48.300000",
          "2018-09-11T06:56:22.200000",
          "2019-03-30T07:55:56.100000",
          "2020-05-03T09:55:03.900000",
          "2020-11-19T10:54:37.800000",
          "2021-06-07T11:54:11.700000",
          "2021-12-24T12:53:45.600000",
          "2022-07-12T13:53:19.500000",
          "2023-01-28T14:52:53.400000",
          "2024-03-03T16:52:01.200000",
          "2024-09-19T17:51:35.100000"
         ],
         "y": [
          16,
          8,
          9,
          7,
          3,
          2,
          3,
          2,
          3,
          1,
          1,
          5,
          6,
          6,
          2,
          1,
          6,
          3
         ]
        }
       ],
       "layout": {
        "height": 450,
        "hoverlabel": {
         "bgcolor": "white",
         "font": {
          "family": "Rockwell",
          "size": 16
         }
        },
        "legend": {
         "title": {
          "text": "<b>Global Topic Representation"
         }
        },
        "template": {
         "data": {
          "bar": [
           {
            "error_x": {
             "color": "rgb(36,36,36)"
            },
            "error_y": {
             "color": "rgb(36,36,36)"
            },
            "marker": {
             "line": {
              "color": "white",
              "width": 0.5
             },
             "pattern": {
              "fillmode": "overlay",
              "size": 10,
              "solidity": 0.2
             }
            },
            "type": "bar"
           }
          ],
          "barpolar": [
           {
            "marker": {
             "line": {
              "color": "white",
              "width": 0.5
             },
             "pattern": {
              "fillmode": "overlay",
              "size": 10,
              "solidity": 0.2
             }
            },
            "type": "barpolar"
           }
          ],
          "carpet": [
           {
            "aaxis": {
             "endlinecolor": "rgb(36,36,36)",
             "gridcolor": "white",
             "linecolor": "white",
             "minorgridcolor": "white",
             "startlinecolor": "rgb(36,36,36)"
            },
            "baxis": {
             "endlinecolor": "rgb(36,36,36)",
             "gridcolor": "white",
             "linecolor": "white",
             "minorgridcolor": "white",
             "startlinecolor": "rgb(36,36,36)"
            },
            "type": "carpet"
           }
          ],
          "choropleth": [
           {
            "colorbar": {
             "outlinewidth": 1,
             "tickcolor": "rgb(36,36,36)",
             "ticks": "outside"
            },
            "type": "choropleth"
           }
          ],
          "contour": [
           {
            "colorbar": {
             "outlinewidth": 1,
             "tickcolor": "rgb(36,36,36)",
             "ticks": "outside"
            },
            "colorscale": [
             [
              0,
              "#440154"
             ],
             [
              0.1111111111111111,
              "#482878"
             ],
             [
              0.2222222222222222,
              "#3e4989"
             ],
             [
              0.3333333333333333,
              "#31688e"
             ],
             [
              0.4444444444444444,
              "#26828e"
             ],
             [
              0.5555555555555556,
              "#1f9e89"
             ],
             [
              0.6666666666666666,
              "#35b779"
             ],
             [
              0.7777777777777778,
              "#6ece58"
             ],
             [
              0.8888888888888888,
              "#b5de2b"
             ],
             [
              1,
              "#fde725"
             ]
            ],
            "type": "contour"
           }
          ],
          "contourcarpet": [
           {
            "colorbar": {
             "outlinewidth": 1,
             "tickcolor": "rgb(36,36,36)",
             "ticks": "outside"
            },
            "type": "contourcarpet"
           }
          ],
          "heatmap": [
           {
            "colorbar": {
             "outlinewidth": 1,
             "tickcolor": "rgb(36,36,36)",
             "ticks": "outside"
            },
            "colorscale": [
             [
              0,
              "#440154"
             ],
             [
              0.1111111111111111,
              "#482878"
             ],
             [
              0.2222222222222222,
              "#3e4989"
             ],
             [
              0.3333333333333333,
              "#31688e"
             ],
             [
              0.4444444444444444,
              "#26828e"
             ],
             [
              0.5555555555555556,
              "#1f9e89"
             ],
             [
              0.6666666666666666,
              "#35b779"
             ],
             [
              0.7777777777777778,
              "#6ece58"
             ],
             [
              0.8888888888888888,
              "#b5de2b"
             ],
             [
              1,
              "#fde725"
             ]
            ],
            "type": "heatmap"
           }
          ],
          "heatmapgl": [
           {
            "colorbar": {
             "outlinewidth": 1,
             "tickcolor": "rgb(36,36,36)",
             "ticks": "outside"
            },
            "colorscale": [
             [
              0,
              "#440154"
             ],
             [
              0.1111111111111111,
              "#482878"
             ],
             [
              0.2222222222222222,
              "#3e4989"
             ],
             [
              0.3333333333333333,
              "#31688e"
             ],
             [
              0.4444444444444444,
              "#26828e"
             ],
             [
              0.5555555555555556,
              "#1f9e89"
             ],
             [
              0.6666666666666666,
              "#35b779"
             ],
             [
              0.7777777777777778,
              "#6ece58"
             ],
             [
              0.8888888888888888,
              "#b5de2b"
             ],
             [
              1,
              "#fde725"
             ]
            ],
            "type": "heatmapgl"
           }
          ],
          "histogram": [
           {
            "marker": {
             "line": {
              "color": "white",
              "width": 0.6
             }
            },
            "type": "histogram"
           }
          ],
          "histogram2d": [
           {
            "colorbar": {
             "outlinewidth": 1,
             "tickcolor": "rgb(36,36,36)",
             "ticks": "outside"
            },
            "colorscale": [
             [
              0,
              "#440154"
             ],
             [
              0.1111111111111111,
              "#482878"
             ],
             [
              0.2222222222222222,
              "#3e4989"
             ],
             [
              0.3333333333333333,
              "#31688e"
             ],
             [
              0.4444444444444444,
              "#26828e"
             ],
             [
              0.5555555555555556,
              "#1f9e89"
             ],
             [
              0.6666666666666666,
              "#35b779"
             ],
             [
              0.7777777777777778,
              "#6ece58"
             ],
             [
              0.8888888888888888,
              "#b5de2b"
             ],
             [
              1,
              "#fde725"
             ]
            ],
            "type": "histogram2d"
           }
          ],
          "histogram2dcontour": [
           {
            "colorbar": {
             "outlinewidth": 1,
             "tickcolor": "rgb(36,36,36)",
             "ticks": "outside"
            },
            "colorscale": [
             [
              0,
              "#440154"
             ],
             [
              0.1111111111111111,
              "#482878"
             ],
             [
              0.2222222222222222,
              "#3e4989"
             ],
             [
              0.3333333333333333,
              "#31688e"
             ],
             [
              0.4444444444444444,
              "#26828e"
             ],
             [
              0.5555555555555556,
              "#1f9e89"
             ],
             [
              0.6666666666666666,
              "#35b779"
             ],
             [
              0.7777777777777778,
              "#6ece58"
             ],
             [
              0.8888888888888888,
              "#b5de2b"
             ],
             [
              1,
              "#fde725"
             ]
            ],
            "type": "histogram2dcontour"
           }
          ],
          "mesh3d": [
           {
            "colorbar": {
             "outlinewidth": 1,
             "tickcolor": "rgb(36,36,36)",
             "ticks": "outside"
            },
            "type": "mesh3d"
           }
          ],
          "parcoords": [
           {
            "line": {
             "colorbar": {
              "outlinewidth": 1,
              "tickcolor": "rgb(36,36,36)",
              "ticks": "outside"
             }
            },
            "type": "parcoords"
           }
          ],
          "pie": [
           {
            "automargin": true,
            "type": "pie"
           }
          ],
          "scatter": [
           {
            "fillpattern": {
             "fillmode": "overlay",
             "size": 10,
             "solidity": 0.2
            },
            "type": "scatter"
           }
          ],
          "scatter3d": [
           {
            "line": {
             "colorbar": {
              "outlinewidth": 1,
              "tickcolor": "rgb(36,36,36)",
              "ticks": "outside"
             }
            },
            "marker": {
             "colorbar": {
              "outlinewidth": 1,
              "tickcolor": "rgb(36,36,36)",
              "ticks": "outside"
             }
            },
            "type": "scatter3d"
           }
          ],
          "scattercarpet": [
           {
            "marker": {
             "colorbar": {
              "outlinewidth": 1,
              "tickcolor": "rgb(36,36,36)",
              "ticks": "outside"
             }
            },
            "type": "scattercarpet"
           }
          ],
          "scattergeo": [
           {
            "marker": {
             "colorbar": {
              "outlinewidth": 1,
              "tickcolor": "rgb(36,36,36)",
              "ticks": "outside"
             }
            },
            "type": "scattergeo"
           }
          ],
          "scattergl": [
           {
            "marker": {
             "colorbar": {
              "outlinewidth": 1,
              "tickcolor": "rgb(36,36,36)",
              "ticks": "outside"
             }
            },
            "type": "scattergl"
           }
          ],
          "scattermapbox": [
           {
            "marker": {
             "colorbar": {
              "outlinewidth": 1,
              "tickcolor": "rgb(36,36,36)",
              "ticks": "outside"
             }
            },
            "type": "scattermapbox"
           }
          ],
          "scatterpolar": [
           {
            "marker": {
             "colorbar": {
              "outlinewidth": 1,
              "tickcolor": "rgb(36,36,36)",
              "ticks": "outside"
             }
            },
            "type": "scatterpolar"
           }
          ],
          "scatterpolargl": [
           {
            "marker": {
             "colorbar": {
              "outlinewidth": 1,
              "tickcolor": "rgb(36,36,36)",
              "ticks": "outside"
             }
            },
            "type": "scatterpolargl"
           }
          ],
          "scatterternary": [
           {
            "marker": {
             "colorbar": {
              "outlinewidth": 1,
              "tickcolor": "rgb(36,36,36)",
              "ticks": "outside"
             }
            },
            "type": "scatterternary"
           }
          ],
          "surface": [
           {
            "colorbar": {
             "outlinewidth": 1,
             "tickcolor": "rgb(36,36,36)",
             "ticks": "outside"
            },
            "colorscale": [
             [
              0,
              "#440154"
             ],
             [
              0.1111111111111111,
              "#482878"
             ],
             [
              0.2222222222222222,
              "#3e4989"
             ],
             [
              0.3333333333333333,
              "#31688e"
             ],
             [
              0.4444444444444444,
              "#26828e"
             ],
             [
              0.5555555555555556,
              "#1f9e89"
             ],
             [
              0.6666666666666666,
              "#35b779"
             ],
             [
              0.7777777777777778,
              "#6ece58"
             ],
             [
              0.8888888888888888,
              "#b5de2b"
             ],
             [
              1,
              "#fde725"
             ]
            ],
            "type": "surface"
           }
          ],
          "table": [
           {
            "cells": {
             "fill": {
              "color": "rgb(237,237,237)"
             },
             "line": {
              "color": "white"
             }
            },
            "header": {
             "fill": {
              "color": "rgb(217,217,217)"
             },
             "line": {
              "color": "white"
             }
            },
            "type": "table"
           }
          ]
         },
         "layout": {
          "annotationdefaults": {
           "arrowhead": 0,
           "arrowwidth": 1
          },
          "autotypenumbers": "strict",
          "coloraxis": {
           "colorbar": {
            "outlinewidth": 1,
            "tickcolor": "rgb(36,36,36)",
            "ticks": "outside"
           }
          },
          "colorscale": {
           "diverging": [
            [
             0,
             "rgb(103,0,31)"
            ],
            [
             0.1,
             "rgb(178,24,43)"
            ],
            [
             0.2,
             "rgb(214,96,77)"
            ],
            [
             0.3,
             "rgb(244,165,130)"
            ],
            [
             0.4,
             "rgb(253,219,199)"
            ],
            [
             0.5,
             "rgb(247,247,247)"
            ],
            [
             0.6,
             "rgb(209,229,240)"
            ],
            [
             0.7,
             "rgb(146,197,222)"
            ],
            [
             0.8,
             "rgb(67,147,195)"
            ],
            [
             0.9,
             "rgb(33,102,172)"
            ],
            [
             1,
             "rgb(5,48,97)"
            ]
           ],
           "sequential": [
            [
             0,
             "#440154"
            ],
            [
             0.1111111111111111,
             "#482878"
            ],
            [
             0.2222222222222222,
             "#3e4989"
            ],
            [
             0.3333333333333333,
             "#31688e"
            ],
            [
             0.4444444444444444,
             "#26828e"
            ],
            [
             0.5555555555555556,
             "#1f9e89"
            ],
            [
             0.6666666666666666,
             "#35b779"
            ],
            [
             0.7777777777777778,
             "#6ece58"
            ],
            [
             0.8888888888888888,
             "#b5de2b"
            ],
            [
             1,
             "#fde725"
            ]
           ],
           "sequentialminus": [
            [
             0,
             "#440154"
            ],
            [
             0.1111111111111111,
             "#482878"
            ],
            [
             0.2222222222222222,
             "#3e4989"
            ],
            [
             0.3333333333333333,
             "#31688e"
            ],
            [
             0.4444444444444444,
             "#26828e"
            ],
            [
             0.5555555555555556,
             "#1f9e89"
            ],
            [
             0.6666666666666666,
             "#35b779"
            ],
            [
             0.7777777777777778,
             "#6ece58"
            ],
            [
             0.8888888888888888,
             "#b5de2b"
            ],
            [
             1,
             "#fde725"
            ]
           ]
          },
          "colorway": [
           "#1F77B4",
           "#FF7F0E",
           "#2CA02C",
           "#D62728",
           "#9467BD",
           "#8C564B",
           "#E377C2",
           "#7F7F7F",
           "#BCBD22",
           "#17BECF"
          ],
          "font": {
           "color": "rgb(36,36,36)"
          },
          "geo": {
           "bgcolor": "white",
           "lakecolor": "white",
           "landcolor": "white",
           "showlakes": true,
           "showland": true,
           "subunitcolor": "white"
          },
          "hoverlabel": {
           "align": "left"
          },
          "hovermode": "closest",
          "mapbox": {
           "style": "light"
          },
          "paper_bgcolor": "white",
          "plot_bgcolor": "white",
          "polar": {
           "angularaxis": {
            "gridcolor": "rgb(232,232,232)",
            "linecolor": "rgb(36,36,36)",
            "showgrid": false,
            "showline": true,
            "ticks": "outside"
           },
           "bgcolor": "white",
           "radialaxis": {
            "gridcolor": "rgb(232,232,232)",
            "linecolor": "rgb(36,36,36)",
            "showgrid": false,
            "showline": true,
            "ticks": "outside"
           }
          },
          "scene": {
           "xaxis": {
            "backgroundcolor": "white",
            "gridcolor": "rgb(232,232,232)",
            "gridwidth": 2,
            "linecolor": "rgb(36,36,36)",
            "showbackground": true,
            "showgrid": false,
            "showline": true,
            "ticks": "outside",
            "zeroline": false,
            "zerolinecolor": "rgb(36,36,36)"
           },
           "yaxis": {
            "backgroundcolor": "white",
            "gridcolor": "rgb(232,232,232)",
            "gridwidth": 2,
            "linecolor": "rgb(36,36,36)",
            "showbackground": true,
            "showgrid": false,
            "showline": true,
            "ticks": "outside",
            "zeroline": false,
            "zerolinecolor": "rgb(36,36,36)"
           },
           "zaxis": {
            "backgroundcolor": "white",
            "gridcolor": "rgb(232,232,232)",
            "gridwidth": 2,
            "linecolor": "rgb(36,36,36)",
            "showbackground": true,
            "showgrid": false,
            "showline": true,
            "ticks": "outside",
            "zeroline": false,
            "zerolinecolor": "rgb(36,36,36)"
           }
          },
          "shapedefaults": {
           "fillcolor": "black",
           "line": {
            "width": 0
           },
           "opacity": 0.3
          },
          "ternary": {
           "aaxis": {
            "gridcolor": "rgb(232,232,232)",
            "linecolor": "rgb(36,36,36)",
            "showgrid": false,
            "showline": true,
            "ticks": "outside"
           },
           "baxis": {
            "gridcolor": "rgb(232,232,232)",
            "linecolor": "rgb(36,36,36)",
            "showgrid": false,
            "showline": true,
            "ticks": "outside"
           },
           "bgcolor": "white",
           "caxis": {
            "gridcolor": "rgb(232,232,232)",
            "linecolor": "rgb(36,36,36)",
            "showgrid": false,
            "showline": true,
            "ticks": "outside"
           }
          },
          "title": {
           "x": 0.05
          },
          "xaxis": {
           "automargin": true,
           "gridcolor": "rgb(232,232,232)",
           "linecolor": "rgb(36,36,36)",
           "showgrid": false,
           "showline": true,
           "ticks": "outside",
           "title": {
            "standoff": 15
           },
           "zeroline": false,
           "zerolinecolor": "rgb(36,36,36)"
          },
          "yaxis": {
           "automargin": true,
           "gridcolor": "rgb(232,232,232)",
           "linecolor": "rgb(36,36,36)",
           "showgrid": false,
           "showline": true,
           "ticks": "outside",
           "title": {
            "standoff": 15
           },
           "zeroline": false,
           "zerolinecolor": "rgb(36,36,36)"
          }
         }
        },
        "title": {
         "font": {
          "color": "Black",
          "size": 22
         },
         "text": "<b>Topics over Time</b>",
         "x": 0.4,
         "xanchor": "center",
         "y": 0.95,
         "yanchor": "top"
        },
        "width": 1250,
        "xaxis": {
         "showgrid": true
        },
        "yaxis": {
         "showgrid": true,
         "title": {
          "text": "Frequency"
         }
        }
       }
      }
     },
     "metadata": {},
     "output_type": "display_data"
    }
   ],
   "source": [
    "neg_model.visualize_topics_over_time(neg_topics_over_time, top_n_topics=15)"
   ]
  },
  {
   "cell_type": "code",
   "execution_count": null,
   "metadata": {},
   "outputs": [],
   "source": []
  }
 ],
 "metadata": {
  "kernelspec": {
   "display_name": "base",
   "language": "python",
   "name": "python3"
  },
  "language_info": {
   "codemirror_mode": {
    "name": "ipython",
    "version": 3
   },
   "file_extension": ".py",
   "mimetype": "text/x-python",
   "name": "python",
   "nbconvert_exporter": "python",
   "pygments_lexer": "ipython3",
   "version": "3.11.4"
  }
 },
 "nbformat": 4,
 "nbformat_minor": 2
}
