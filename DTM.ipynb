{
 "cells": [
  {
   "cell_type": "markdown",
   "metadata": {},
   "source": [
    "# Dark Souls II Reviews (2025)"
   ]
  },
  {
   "cell_type": "code",
   "execution_count": 1,
   "metadata": {},
   "outputs": [
    {
     "name": "stdout",
     "output_type": "stream",
     "text": [
      "WARNING:tensorflow:From C:\\Users\\bdion\\AppData\\Roaming\\Python\\Python311\\site-packages\\tf_keras\\src\\losses.py:2976: The name tf.losses.sparse_softmax_cross_entropy is deprecated. Please use tf.compat.v1.losses.sparse_softmax_cross_entropy instead.\n",
      "\n"
     ]
    }
   ],
   "source": [
    "from get_data import *\n",
    "from bertopic import BERTopic"
   ]
  },
  {
   "cell_type": "code",
   "execution_count": 2,
   "metadata": {},
   "outputs": [],
   "source": [
    "reviews = get_data()"
   ]
  },
  {
   "cell_type": "markdown",
   "metadata": {},
   "source": [
    "## Topic Modeling:\n",
    "- Exploring certain aspects on why people like the game\n",
    "    - Also get critiques of the game in positive reviews (if any but there sure is considering DS2's reputation in the community)\n",
    "\n",
    "- Exploring why people don't like the game:\n",
    "    - Also get positive aspects within this subset of the reviews"
   ]
  },
  {
   "cell_type": "markdown",
   "metadata": {},
   "source": [
    "Splitting the reviews by how many do and don't recommend buying the game:"
   ]
  },
  {
   "cell_type": "code",
   "execution_count": 3,
   "metadata": {},
   "outputs": [],
   "source": [
    "pos_reviews = reviews[reviews['voted_up'] == True]\n",
    "neg_reviews = reviews[reviews['voted_up'] == False]"
   ]
  },
  {
   "cell_type": "code",
   "execution_count": 4,
   "metadata": {},
   "outputs": [
    {
     "data": {
      "text/plain": [
       "((37387, 10), (8176, 10))"
      ]
     },
     "execution_count": 4,
     "metadata": {},
     "output_type": "execute_result"
    }
   ],
   "source": [
    "pos_reviews.shape, neg_reviews.shape"
   ]
  },
  {
   "cell_type": "markdown",
   "metadata": {},
   "source": [
    "### DTM:"
   ]
  },
  {
   "cell_type": "markdown",
   "metadata": {},
   "source": [
    "- Useful for analyzing trends in text over long periods"
   ]
  },
  {
   "cell_type": "code",
   "execution_count": 5,
   "metadata": {},
   "outputs": [],
   "source": [
    "docs = reviews.review.to_list()\n",
    "pos_docs = pos_reviews.review.to_list()\n",
    "neg_docs = neg_reviews.review.to_list()"
   ]
  },
  {
   "cell_type": "code",
   "execution_count": 6,
   "metadata": {},
   "outputs": [],
   "source": [
    "timestamps = pd.to_datetime(reviews.update_date, unit='s').values\n",
    "pos_timestamps = pd.to_datetime(pos_reviews.update_date, unit='s').values\n",
    "neg_timestamps = pd.to_datetime(neg_reviews.update_date, unit='s').values"
   ]
  },
  {
   "cell_type": "code",
   "execution_count": 7,
   "metadata": {},
   "outputs": [],
   "source": [
    "topic_model = BERTopic.load(\"models/bertopic_model\")"
   ]
  },
  {
   "cell_type": "code",
   "execution_count": 8,
   "metadata": {},
   "outputs": [
    {
     "name": "stderr",
     "output_type": "stream",
     "text": [
      "20it [00:20,  1.03s/it]\n"
     ]
    }
   ],
   "source": [
    "topics_over_time = topic_model.topics_over_time(docs, timestamps, nr_bins=20)"
   ]
  },
  {
   "cell_type": "code",
   "execution_count": 21,
   "metadata": {},
   "outputs": [
    {
     "data": {
      "application/vnd.plotly.v1+json": {
       "config": {
        "plotlyServerURL": "https://plot.ly"
       },
       "data": [
        {
         "hoverinfo": "text",
         "hovertext": [
          "<b>Topic 0</b><br>Words: ahsant, awards, mobile, show, ad",
          "<b>Topic 0</b><br>Words: ahsant, awards, mobile, show, ad",
          "<b>Topic 0</b><br>Words: ahsant, awards, mobile, show, ad",
          "<b>Topic 0</b><br>Words: ahsant, awards, mobile, show, ad",
          "<b>Topic 0</b><br>Words: ahsant, awards, mobile, show, ad",
          "<b>Topic 0</b><br>Words: awards, community, ahsant, mobile, show",
          "<b>Topic 0</b><br>Words: ahsant, awards, mobile, show, ad",
          "<b>Topic 0</b><br>Words: show, ahsant, awards, mobile, ad",
          "<b>Topic 0</b><br>Words: ahsant, awards, mobile, show, ad",
          "<b>Topic 0</b><br>Words: even, ahsant, awards, mobile, show",
          "<b>Topic 0</b><br>Words: ahsant, awards, mobile, show, ad",
          "<b>Topic 0</b><br>Words: ahsant, awards, mobile, show, ad",
          "<b>Topic 0</b><br>Words: mobile, ad, show, ahsant, awards",
          "<b>Topic 0</b><br>Words: ahsant, awards, mobile, show, ad",
          "<b>Topic 0</b><br>Words: ahsant, awards, mobile, show, ad",
          "<b>Topic 0</b><br>Words: serves, ahsant, awards, mobile, show",
          "<b>Topic 0</b><br>Words: ahsant, awards, mobile, show, ad",
          "<b>Topic 0</b><br>Words: ahsant, awards, mobile, show, ad",
          "<b>Topic 0</b><br>Words: ahsant, awards, mobile, show, ad",
          "<b>Topic 0</b><br>Words: ahsant, awards, mobile, show, ad"
         ],
         "marker": {
          "color": "#E69F00"
         },
         "mode": "lines",
         "name": "0_ahsant_awards_mobile_show",
         "type": "scatter",
         "x": [
          "2015-03-29T07:51:40.752000",
          "2015-09-30T21:50:11.400000",
          "2016-03-30T20:28:43.800000",
          "2016-09-28T19:07:16.200000",
          "2017-03-29T17:45:48.600000",
          "2017-09-27T16:24:21",
          "2018-03-28T15:02:53.400000",
          "2018-09-26T13:41:25.800000",
          "2019-03-27T12:19:58.200000",
          "2019-09-25T10:58:30.600000",
          "2020-03-25T09:37:03",
          "2020-09-23T08:15:35.400000",
          "2021-03-24T06:54:07.800000",
          "2021-09-22T05:32:40.200000",
          "2022-03-23T04:11:12.600000",
          "2022-09-21T02:49:45",
          "2023-03-22T01:28:17.400000",
          "2023-09-20T00:06:49.800000",
          "2024-03-19T22:45:22.200000",
          "2024-09-17T21:23:54.600000"
         ],
         "y": [
          34,
          28,
          16,
          29,
          14,
          20,
          15,
          26,
          38,
          80,
          106,
          101,
          140,
          159,
          96,
          112,
          101,
          135,
          140,
          140
         ]
        },
        {
         "hoverinfo": "text",
         "hovertext": [
          "<b>Topic 1</b><br>Words: new, heide, area, changes, enemies",
          "<b>Topic 1</b><br>Words: das, dsi, players, player, knights",
          "<b>Topic 1</b><br>Words: havels, katana, ice, chaos, rapier",
          "<b>Topic 1</b><br>Words: player, enemies, system, area, level",
          "<b>Topic 1</b><br>Words: area, player, boss, weapon, enemies",
          "<b>Topic 1</b><br>Words: player, area, enemies, areas, players",
          "<b>Topic 1</b><br>Words: ctrl, enemies, areas, ng, player",
          "<b>Topic 1</b><br>Words: player, area, enemies, attack, weapons",
          "<b>Topic 1</b><br>Words: moonlight, uh, spotlight, trippin, shawty",
          "<b>Topic 1</b><br>Words: bean, estus, enemies, armor, area",
          "<b>Topic 1</b><br>Words: enemies, area, boss, player, attacks",
          "<b>Topic 1</b><br>Words: enemies, area, boss, player, weapons",
          "<b>Topic 1</b><br>Words: enemies, healing, boss, mechanic, use",
          "<b>Topic 1</b><br>Words: attack, area, attacks, roll, enemies",
          "<b>Topic 1</b><br>Words: area, enemies, fight, often, enemy",
          "<b>Topic 1</b><br>Words: boss, enemies, fight, player, bosses",
          "<b>Topic 1</b><br>Words: enemies, boss, area, weapons, stat",
          "<b>Topic 1</b><br>Words: td, ganked, poison, zones, tr",
          "<b>Topic 1</b><br>Words: boss, enemies, area, also, player",
          "<b>Topic 1</b><br>Words: spoiler, enemies, area, boss, damage"
         ],
         "marker": {
          "color": "#56B4E9"
         },
         "mode": "lines",
         "name": "1_enemies_area_boss_player",
         "type": "scatter",
         "x": [
          "2015-03-29T07:51:40.752000",
          "2015-09-30T21:50:11.400000",
          "2016-03-30T20:28:43.800000",
          "2016-09-28T19:07:16.200000",
          "2017-03-29T17:45:48.600000",
          "2017-09-27T16:24:21",
          "2018-03-28T15:02:53.400000",
          "2018-09-26T13:41:25.800000",
          "2019-03-27T12:19:58.200000",
          "2019-09-25T10:58:30.600000",
          "2020-03-25T09:37:03",
          "2020-09-23T08:15:35.400000",
          "2021-03-24T06:54:07.800000",
          "2021-09-22T05:32:40.200000",
          "2022-03-23T04:11:12.600000",
          "2022-09-21T02:49:45",
          "2023-03-22T01:28:17.400000",
          "2023-09-20T00:06:49.800000",
          "2024-03-19T22:45:22.200000",
          "2024-09-17T21:23:54.600000"
         ],
         "y": [
          70,
          49,
          54,
          54,
          62,
          58,
          30,
          46,
          41,
          54,
          89,
          84,
          83,
          93,
          57,
          75,
          73,
          73,
          91,
          103
         ]
        },
        {
         "hoverinfo": "text",
         "hovertext": [
          "<b>Topic 2</b><br>Words: good, yeth, meh, mm, ahh",
          "<b>Topic 2</b><br>Words: good, yeth, meh, mm, ahh",
          "<b>Topic 2</b><br>Words: good, yeth, meh, mm, ahh",
          "<b>Topic 2</b><br>Words: good, yeth, meh, mm, ahh",
          "<b>Topic 2</b><br>Words: good, yeth, meh, mm, ahh",
          "<b>Topic 2</b><br>Words: good, yeth, meh, mm, ahh",
          "<b>Topic 2</b><br>Words: good, man, yeth, meh, mm",
          "<b>Topic 2</b><br>Words: good, yeth, meh, mm, ahh",
          "<b>Topic 2</b><br>Words: good, yeth, meh, mm, ahh",
          "<b>Topic 2</b><br>Words: good, spoiler, yeth, meh, mm",
          "<b>Topic 2</b><br>Words: good, mm, lol, honestly, yeth",
          "<b>Topic 2</b><br>Words: good, yeth, meh, mm, ahh",
          "<b>Topic 2</b><br>Words: good, thats, yeth, well, meh",
          "<b>Topic 2</b><br>Words: good, yeth, meh, ever, mm",
          "<b>Topic 2</b><br>Words: good, ahh, meh, please, sometimes",
          "<b>Topic 2</b><br>Words: good, yeth, meh, mm, ahh",
          "<b>Topic 2</b><br>Words: good, uh, meh, yeth, ii",
          "<b>Topic 2</b><br>Words: good, af, well, yeth, meh",
          "<b>Topic 2</b><br>Words: good, yeth, meh, mm, ahh",
          "<b>Topic 2</b><br>Words: good, yeth, meh, mm, ahh"
         ],
         "marker": {
          "color": "#009E73"
         },
         "mode": "lines",
         "name": "2_good_yeth_meh_mm",
         "type": "scatter",
         "x": [
          "2015-03-29T07:51:40.752000",
          "2015-09-30T21:50:11.400000",
          "2016-03-30T20:28:43.800000",
          "2016-09-28T19:07:16.200000",
          "2017-03-29T17:45:48.600000",
          "2017-09-27T16:24:21",
          "2018-03-28T15:02:53.400000",
          "2018-09-26T13:41:25.800000",
          "2019-03-27T12:19:58.200000",
          "2019-09-25T10:58:30.600000",
          "2020-03-25T09:37:03",
          "2020-09-23T08:15:35.400000",
          "2021-03-24T06:54:07.800000",
          "2021-09-22T05:32:40.200000",
          "2022-03-23T04:11:12.600000",
          "2022-09-21T02:49:45",
          "2023-03-22T01:28:17.400000",
          "2023-09-20T00:06:49.800000",
          "2024-03-19T22:45:22.200000",
          "2024-09-17T21:23:54.600000"
         ],
         "y": [
          10,
          13,
          12,
          12,
          22,
          18,
          10,
          18,
          38,
          72,
          89,
          80,
          83,
          108,
          53,
          62,
          58,
          53,
          76,
          82
         ]
        },
        {
         "hoverinfo": "text",
         "hovertext": [
          "<b>Topic 3</b><br>Words: controller, keyboard, mouse, port, xbox",
          "<b>Topic 3</b><br>Words: controller, keyboard, mouse, port, controls",
          "<b>Topic 3</b><br>Words: controller, keyboard, mouse, port, controls",
          "<b>Topic 3</b><br>Words: controller, keyboard, mouse, port, pc",
          "<b>Topic 3</b><br>Words: controller, keyboard, port, mouse, controls",
          "<b>Topic 3</b><br>Words: controller, keyboard, port, mouse, controls",
          "<b>Topic 3</b><br>Words: mouse, keyboard, controller, settings, controls",
          "<b>Topic 3</b><br>Words: controller, controls, keyboard, mouse, xbox",
          "<b>Topic 3</b><br>Words: controller, keyboard, mouse, controls, pc",
          "<b>Topic 3</b><br>Words: controller, keyboard, controls, mouse, port",
          "<b>Topic 3</b><br>Words: controller, keyboard, mouse, controls, port",
          "<b>Topic 3</b><br>Words: controller, keyboard, mouse, controls, xbox",
          "<b>Topic 3</b><br>Words: controller, keyboard, mouse, controls, xbox",
          "<b>Topic 3</b><br>Words: mouse, keyboard, controller, port, controls",
          "<b>Topic 3</b><br>Words: controller, keyboard, mouse, controls, port",
          "<b>Topic 3</b><br>Words: keyboard, controller, mouse, port, buttons",
          "<b>Topic 3</b><br>Words: mouse, keyboard, controller, controls, pc",
          "<b>Topic 3</b><br>Words: controller, mouse, keyboard, port, controls",
          "<b>Topic 3</b><br>Words: controller, mouse, keyboard, port, controls",
          "<b>Topic 3</b><br>Words: controller, keyboard, controls, mouse, port"
         ],
         "marker": {
          "color": "#F0E442"
         },
         "mode": "lines",
         "name": "3_controller_keyboard_mouse_controls",
         "type": "scatter",
         "x": [
          "2015-03-29T07:51:40.752000",
          "2015-09-30T21:50:11.400000",
          "2016-03-30T20:28:43.800000",
          "2016-09-28T19:07:16.200000",
          "2017-03-29T17:45:48.600000",
          "2017-09-27T16:24:21",
          "2018-03-28T15:02:53.400000",
          "2018-09-26T13:41:25.800000",
          "2019-03-27T12:19:58.200000",
          "2019-09-25T10:58:30.600000",
          "2020-03-25T09:37:03",
          "2020-09-23T08:15:35.400000",
          "2021-03-24T06:54:07.800000",
          "2021-09-22T05:32:40.200000",
          "2022-03-23T04:11:12.600000",
          "2022-09-21T02:49:45",
          "2023-03-22T01:28:17.400000",
          "2023-09-20T00:06:49.800000",
          "2024-03-19T22:45:22.200000",
          "2024-09-17T21:23:54.600000"
         ],
         "y": [
          75,
          79,
          48,
          44,
          71,
          40,
          20,
          28,
          30,
          38,
          64,
          44,
          64,
          55,
          41,
          33,
          37,
          39,
          45,
          44
         ]
        },
        {
         "hoverinfo": "text",
         "hovertext": [
          "<b>Topic 4</b><br>Words: best, ah, btw, lol, shot",
          "<b>Topic 4</b><br>Words: best, ah, btw, lol, shot",
          "<b>Topic 4</b><br>Words: best, lol, ah, btw, shot",
          "<b>Topic 4</b><br>Words: best, ah, btw, lol, shot",
          "<b>Topic 4</b><br>Words: best, ah, btw, lol, shot",
          "<b>Topic 4</b><br>Words: best, ah, btw, lol, shot",
          "<b>Topic 4</b><br>Words: best, ah, btw, lol, shot",
          "<b>Topic 4</b><br>Words: best, ah, btw, lol, shot",
          "<b>Topic 4</b><br>Words: best, btw, ah, lol, shot",
          "<b>Topic 4</b><br>Words: best, ah, btw, lol, shot",
          "<b>Topic 4</b><br>Words: best, ah, btw, lol, shot",
          "<b>Topic 4</b><br>Words: best, ah, btw, lol, shot",
          "<b>Topic 4</b><br>Words: best, ah, btw, lol, shot",
          "<b>Topic 4</b><br>Words: best, ah, btw, lol, shot",
          "<b>Topic 4</b><br>Words: best, shot, long, yes, ah",
          "<b>Topic 4</b><br>Words: best, ah, fucking, yes, btw",
          "<b>Topic 4</b><br>Words: best, right, ah, btw, lol",
          "<b>Topic 4</b><br>Words: best, ah, btw, lol, shot",
          "<b>Topic 4</b><br>Words: best, ah, btw, lol, shot"
         ],
         "marker": {
          "color": "#D55E00"
         },
         "mode": "lines",
         "name": "4_best_ah_btw_lol",
         "type": "scatter",
         "x": [
          "2015-03-29T07:51:40.752000",
          "2015-09-30T21:50:11.400000",
          "2016-09-28T19:07:16.200000",
          "2017-03-29T17:45:48.600000",
          "2017-09-27T16:24:21",
          "2018-03-28T15:02:53.400000",
          "2018-09-26T13:41:25.800000",
          "2019-03-27T12:19:58.200000",
          "2019-09-25T10:58:30.600000",
          "2020-03-25T09:37:03",
          "2020-09-23T08:15:35.400000",
          "2021-03-24T06:54:07.800000",
          "2021-09-22T05:32:40.200000",
          "2022-03-23T04:11:12.600000",
          "2022-09-21T02:49:45",
          "2023-03-22T01:28:17.400000",
          "2023-09-20T00:06:49.800000",
          "2024-03-19T22:45:22.200000",
          "2024-09-17T21:23:54.600000"
         ],
         "y": [
          2,
          3,
          4,
          7,
          5,
          1,
          8,
          18,
          30,
          29,
          28,
          37,
          52,
          39,
          42,
          38,
          36,
          48,
          50
         ]
        },
        {
         "hoverinfo": "text",
         "hovertext": [
          "<b>Topic 5</b><br>Words: darker, iv, material, crystal, light",
          "<b>Topic 5</b><br>Words: communicated, impatient, held, screaming, franchise",
          "<b>Topic 5</b><br>Words: progressed, hack, dress, died, inspired",
          "<b>Topic 5</b><br>Words: sequel, depressed, loud, zombies, ghost",
          "<b>Topic 5</b><br>Words: criteria, yui, miyazaka, feltsuch, devestated",
          "<b>Topic 5</b><br>Words: lap, avoidance, franchise, convenants, repetetive",
          "<b>Topic 5</b><br>Words: ppl, tsundere, ups, yer, das",
          "<b>Topic 5</b><br>Words: ded, bam, tricycle, highway, riding",
          "<b>Topic 5</b><br>Words: tools, table, noticably, dislike, departure",
          "<b>Topic 5</b><br>Words: conveyed, apposed, changes, characters, story",
          "<b>Topic 5</b><br>Words: eula, page, sadists, gameplay, feels",
          "<b>Topic 5</b><br>Words: remake, deter, story, stories, subpar",
          "<b>Topic 5</b><br>Words: padding, gameplay, experience, honestly, sequel",
          "<b>Topic 5</b><br>Words: franchise, aspects, world, said, memorable",
          "<b>Topic 5</b><br>Words: chronological, worker, spoiler, cod, aspects",
          "<b>Topic 5</b><br>Words: franchise, nowhere, band, tense, drags",
          "<b>Topic 5</b><br>Words: empty, ending, sequel, destroy, clocked",
          "<b>Topic 5</b><br>Words: hangover, wise, franchise, came, compelling",
          "<b>Topic 5</b><br>Words: sequel, franchise, world, rewarding, enticing",
          "<b>Topic 5</b><br>Words: unafraid, sequel, completions, sofs, enjoy"
         ],
         "marker": {
          "color": "#0072B2"
         },
         "mode": "lines",
         "name": "5_sequel_franchise_world_gameplay",
         "type": "scatter",
         "x": [
          "2015-03-29T07:51:40.752000",
          "2015-09-30T21:50:11.400000",
          "2016-03-30T20:28:43.800000",
          "2016-09-28T19:07:16.200000",
          "2017-03-29T17:45:48.600000",
          "2017-09-27T16:24:21",
          "2018-03-28T15:02:53.400000",
          "2018-09-26T13:41:25.800000",
          "2019-03-27T12:19:58.200000",
          "2019-09-25T10:58:30.600000",
          "2020-03-25T09:37:03",
          "2020-09-23T08:15:35.400000",
          "2021-03-24T06:54:07.800000",
          "2021-09-22T05:32:40.200000",
          "2022-03-23T04:11:12.600000",
          "2022-09-21T02:49:45",
          "2023-03-22T01:28:17.400000",
          "2023-09-20T00:06:49.800000",
          "2024-03-19T22:45:22.200000",
          "2024-09-17T21:23:54.600000"
         ],
         "y": [
          11,
          18,
          18,
          20,
          11,
          21,
          14,
          12,
          14,
          18,
          31,
          22,
          36,
          42,
          17,
          18,
          23,
          26,
          29,
          30
         ]
        },
        {
         "hoverinfo": "text",
         "hovertext": [
          "<b>Topic 6</b><br>Words: yes, nope, yesn, yessir, bro",
          "<b>Topic 6</b><br>Words: yes, nope, yesn, yessir, bro",
          "<b>Topic 6</b><br>Words: yes, nope, yesn, yessir, bro",
          "<b>Topic 6</b><br>Words: yes, nope, yesn, yessir, bro",
          "<b>Topic 6</b><br>Words: yes, nope, yesn, yessir, bro",
          "<b>Topic 6</b><br>Words: yes, nope, yesn, yessir, bro",
          "<b>Topic 6</b><br>Words: yes, nope, yesn, yessir, bro",
          "<b>Topic 6</b><br>Words: yes, nope, yesn, yessir, bro",
          "<b>Topic 6</b><br>Words: yes, nope, yesn, yessir, bro",
          "<b>Topic 6</b><br>Words: yes, nope, yesn, yessir, bro",
          "<b>Topic 6</b><br>Words: yes, nope, yesn, yessir, bro",
          "<b>Topic 6</b><br>Words: yes, yesn, nope, thank, cool",
          "<b>Topic 6</b><br>Words: yes, bro, sir, nope, yesn",
          "<b>Topic 6</b><br>Words: yes, nope, yesn, yessir, bro",
          "<b>Topic 6</b><br>Words: yes, nope, yesn, yessir, bro",
          "<b>Topic 6</b><br>Words: yes, nope, yesn, yessir, bro",
          "<b>Topic 6</b><br>Words: yes, yessir, nope, yesn, much",
          "<b>Topic 6</b><br>Words: yes, nope, yesn, yessir, bro",
          "<b>Topic 6</b><br>Words: yes, nope, yesn, yessir, bro"
         ],
         "marker": {
          "color": "#CC79A7"
         },
         "mode": "lines",
         "name": "6_yes_nope_yesn_yessir",
         "type": "scatter",
         "x": [
          "2015-03-29T07:51:40.752000",
          "2015-09-30T21:50:11.400000",
          "2016-03-30T20:28:43.800000",
          "2016-09-28T19:07:16.200000",
          "2017-09-27T16:24:21",
          "2018-03-28T15:02:53.400000",
          "2018-09-26T13:41:25.800000",
          "2019-03-27T12:19:58.200000",
          "2019-09-25T10:58:30.600000",
          "2020-03-25T09:37:03",
          "2020-09-23T08:15:35.400000",
          "2021-03-24T06:54:07.800000",
          "2021-09-22T05:32:40.200000",
          "2022-03-23T04:11:12.600000",
          "2022-09-21T02:49:45",
          "2023-03-22T01:28:17.400000",
          "2023-09-20T00:06:49.800000",
          "2024-03-19T22:45:22.200000",
          "2024-09-17T21:23:54.600000"
         ],
         "y": [
          4,
          4,
          1,
          4,
          2,
          1,
          4,
          6,
          33,
          49,
          41,
          37,
          37,
          27,
          19,
          14,
          17,
          21,
          18
         ]
        },
        {
         "hoverinfo": "text",
         "hovertext": [
          "<b>Topic 7</b><br>Words: ncia, jogo, que, minhas, de",
          "<b>Topic 7</b><br>Words: el, que, jogo, de, horas",
          "<b>Topic 7</b><br>Words: que, de, vraiment, mucho, vez",
          "<b>Topic 7</b><br>Words: de, que, el, la, en",
          "<b>Topic 7</b><br>Words: de, que, la, su, en",
          "<b>Topic 7</b><br>Words: que, la, el, de, para",
          "<b>Topic 7</b><br>Words: jogaaaaaaaaaaa, quero, controle, para, de",
          "<b>Topic 7</b><br>Words: el, molto, necesitas, favorita, tantas",
          "<b>Topic 7</b><br>Words: nico, jogo, jogar, que, muito",
          "<b>Topic 7</b><br>Words: que, de, jogo, pero, juegazo",
          "<b>Topic 7</b><br>Words: jogo, um, muy, mto, de",
          "<b>Topic 7</b><br>Words: novo, de, que, jogo, um",
          "<b>Topic 7</b><br>Words: que, el, de, jogo, es",
          "<b>Topic 7</b><br>Words: de, que, jogo, el, juego",
          "<b>Topic 7</b><br>Words: jogo, melhor, feo, de, que",
          "<b>Topic 7</b><br>Words: que, de, jogo, el, pra",
          "<b>Topic 7</b><br>Words: de, que, mejor, el, jogo",
          "<b>Topic 7</b><br>Words: te, amo, odeio, de, que",
          "<b>Topic 7</b><br>Words: de, que, juego, jogo, el",
          "<b>Topic 7</b><br>Words: de, que, jogo, um, la"
         ],
         "marker": {
          "color": "#E69F00"
         },
         "mode": "lines",
         "name": "7_de_que_jogo_el",
         "type": "scatter",
         "x": [
          "2015-03-29T07:51:40.752000",
          "2015-09-30T21:50:11.400000",
          "2016-03-30T20:28:43.800000",
          "2016-09-28T19:07:16.200000",
          "2017-03-29T17:45:48.600000",
          "2017-09-27T16:24:21",
          "2018-03-28T15:02:53.400000",
          "2018-09-26T13:41:25.800000",
          "2019-03-27T12:19:58.200000",
          "2019-09-25T10:58:30.600000",
          "2020-03-25T09:37:03",
          "2020-09-23T08:15:35.400000",
          "2021-03-24T06:54:07.800000",
          "2021-09-22T05:32:40.200000",
          "2022-03-23T04:11:12.600000",
          "2022-09-21T02:49:45",
          "2023-03-22T01:28:17.400000",
          "2023-09-20T00:06:49.800000",
          "2024-03-19T22:45:22.200000",
          "2024-09-17T21:23:54.600000"
         ],
         "y": [
          3,
          5,
          5,
          7,
          5,
          6,
          1,
          5,
          5,
          23,
          15,
          27,
          22,
          29,
          8,
          21,
          28,
          28,
          28,
          47
         ]
        },
        {
         "hoverinfo": "text",
         "hovertext": [
          "<b>Topic 8</b><br>Words: sun, praise, praising, directx, mufaka",
          "<b>Topic 8</b><br>Words: sun, praise, sunsword, gaintdad, praising",
          "<b>Topic 8</b><br>Words: sun, praise, cryyyyyyyyyyyyyyyyyyyyyy, praisethe, pummled",
          "<b>Topic 8</b><br>Words: sun, praise, sunssssssssssssss, praising, medals",
          "<b>Topic 8</b><br>Words: sun, praise, rekt, bros, emotions",
          "<b>Topic 8</b><br>Words: sun, praise, hurray, sing, follower",
          "<b>Topic 8</b><br>Words: sun, praise, glorify, difficultly, til",
          "<b>Topic 8</b><br>Words: sun, praise, gs, beautifull, hater",
          "<b>Topic 8</b><br>Words: sun, praise, calm, barrer, sunnnnnnnnnn",
          "<b>Topic 8</b><br>Words: sun, praise, godforsaken, mercy, deprived",
          "<b>Topic 8</b><br>Words: sun, praise, paise, neil, roses",
          "<b>Topic 8</b><br>Words: sun, praise, drangleics, therefore, emote",
          "<b>Topic 8</b><br>Words: sun, praise, odball, intimidate, wrekd",
          "<b>Topic 8</b><br>Words: sun, praise, shenanigans, stability, suicidal",
          "<b>Topic 8</b><br>Words: sun, praise, receiving, deserve, totally",
          "<b>Topic 8</b><br>Words: sun, praise, bathes, sunlight, grabs",
          "<b>Topic 8</b><br>Words: sun, praise, orgies, laughed, cried",
          "<b>Topic 8</b><br>Words: praise, sun, shay, grill, mommy",
          "<b>Topic 8</b><br>Words: sun, praise, hoorah, swallow, bom",
          "<b>Topic 8</b><br>Words: sun, praise, sunlight, afterall, blacksword"
         ],
         "marker": {
          "color": "#56B4E9"
         },
         "mode": "lines",
         "name": "8_sun_praise_cooperation_praising",
         "type": "scatter",
         "x": [
          "2015-03-29T07:51:40.752000",
          "2015-09-30T21:50:11.400000",
          "2016-03-30T20:28:43.800000",
          "2016-09-28T19:07:16.200000",
          "2017-03-29T17:45:48.600000",
          "2017-09-27T16:24:21",
          "2018-03-28T15:02:53.400000",
          "2018-09-26T13:41:25.800000",
          "2019-03-27T12:19:58.200000",
          "2019-09-25T10:58:30.600000",
          "2020-03-25T09:37:03",
          "2020-09-23T08:15:35.400000",
          "2021-03-24T06:54:07.800000",
          "2021-09-22T05:32:40.200000",
          "2022-03-23T04:11:12.600000",
          "2022-09-21T02:49:45",
          "2023-03-22T01:28:17.400000",
          "2023-09-20T00:06:49.800000",
          "2024-03-19T22:45:22.200000",
          "2024-09-17T21:23:54.600000"
         ],
         "y": [
          30,
          26,
          22,
          23,
          21,
          14,
          5,
          7,
          14,
          14,
          23,
          16,
          19,
          17,
          4,
          6,
          8,
          11,
          10,
          10
         ]
        },
        {
         "hoverinfo": "text",
         "hovertext": [
          "<b>Topic 9</b><br>Words: doggy, dlc, maor, recomment, ded",
          "<b>Topic 9</b><br>Words: waves, dlc, cought, apologizes, refreshed",
          "<b>Topic 9</b><br>Words: undervalue, admirers, ardent, dlc, dysfunctional",
          "<b>Topic 9</b><br>Words: dlc, espacially, regression, allways, knuckle",
          "<b>Topic 9</b><br>Words: dlc, fanominal, induces, chatbox, fookin",
          "<b>Topic 9</b><br>Words: dlcs, reinstalled, contender, legitimate, addressed",
          "<b>Topic 9</b><br>Words: addittion, edtion, enviornments, lasting, meeting",
          "<b>Topic 9</b><br>Words: ddlc, contents, fuckin, download, dlc",
          "<b>Topic 9</b><br>Words: seriers, suprises, content, dlc, lit",
          "<b>Topic 9</b><br>Words: dlcs, dlc, accomplished, stressful, laughable",
          "<b>Topic 9</b><br>Words: souslborne, utube, dlc, abortion, ambiguous",
          "<b>Topic 9</b><br>Words: dlcs, dlc, prepackaged, improvements, joyful",
          "<b>Topic 9</b><br>Words: dlc, dlcs, tehe, base, downfalls",
          "<b>Topic 9</b><br>Words: dlc, goon, dlcs, legendaric, netted",
          "<b>Topic 9</b><br>Words: dlc, juts, critic, string, comeback",
          "<b>Topic 9</b><br>Words: primo, godawful, dlc, sublime, slap",
          "<b>Topic 9</b><br>Words: zzuh, ij, lijkop, wuehjkhoarenvt, pibjlkz",
          "<b>Topic 9</b><br>Words: dlc, dlcs, nifty, hunted, firm",
          "<b>Topic 9</b><br>Words: quarz, dlc, yellow, dlcs, longsword",
          "<b>Topic 9</b><br>Words: dlcs, dlc, ahaaaaaaaaaaaaaaaaaaaaahhhhhhhhhghhh, resend, electrocution"
         ],
         "marker": {
          "color": "#009E73"
         },
         "mode": "lines",
         "name": "9_dlc_dlcs_base_content",
         "type": "scatter",
         "x": [
          "2015-03-29T07:51:40.752000",
          "2015-09-30T21:50:11.400000",
          "2016-03-30T20:28:43.800000",
          "2016-09-28T19:07:16.200000",
          "2017-03-29T17:45:48.600000",
          "2017-09-27T16:24:21",
          "2018-03-28T15:02:53.400000",
          "2018-09-26T13:41:25.800000",
          "2019-03-27T12:19:58.200000",
          "2019-09-25T10:58:30.600000",
          "2020-03-25T09:37:03",
          "2020-09-23T08:15:35.400000",
          "2021-03-24T06:54:07.800000",
          "2021-09-22T05:32:40.200000",
          "2022-03-23T04:11:12.600000",
          "2022-09-21T02:49:45",
          "2023-03-22T01:28:17.400000",
          "2023-09-20T00:06:49.800000",
          "2024-03-19T22:45:22.200000",
          "2024-09-17T21:23:54.600000"
         ],
         "y": [
          22,
          11,
          10,
          12,
          11,
          10,
          5,
          4,
          8,
          8,
          11,
          16,
          24,
          32,
          10,
          9,
          9,
          15,
          24,
          20
         ]
        }
       ],
       "layout": {
        "height": 450,
        "hoverlabel": {
         "bgcolor": "white",
         "font": {
          "family": "Rockwell",
          "size": 16
         }
        },
        "legend": {
         "title": {
          "text": "<b>Global Topic Representation"
         }
        },
        "template": {
         "data": {
          "bar": [
           {
            "error_x": {
             "color": "rgb(36,36,36)"
            },
            "error_y": {
             "color": "rgb(36,36,36)"
            },
            "marker": {
             "line": {
              "color": "white",
              "width": 0.5
             },
             "pattern": {
              "fillmode": "overlay",
              "size": 10,
              "solidity": 0.2
             }
            },
            "type": "bar"
           }
          ],
          "barpolar": [
           {
            "marker": {
             "line": {
              "color": "white",
              "width": 0.5
             },
             "pattern": {
              "fillmode": "overlay",
              "size": 10,
              "solidity": 0.2
             }
            },
            "type": "barpolar"
           }
          ],
          "carpet": [
           {
            "aaxis": {
             "endlinecolor": "rgb(36,36,36)",
             "gridcolor": "white",
             "linecolor": "white",
             "minorgridcolor": "white",
             "startlinecolor": "rgb(36,36,36)"
            },
            "baxis": {
             "endlinecolor": "rgb(36,36,36)",
             "gridcolor": "white",
             "linecolor": "white",
             "minorgridcolor": "white",
             "startlinecolor": "rgb(36,36,36)"
            },
            "type": "carpet"
           }
          ],
          "choropleth": [
           {
            "colorbar": {
             "outlinewidth": 1,
             "tickcolor": "rgb(36,36,36)",
             "ticks": "outside"
            },
            "type": "choropleth"
           }
          ],
          "contour": [
           {
            "colorbar": {
             "outlinewidth": 1,
             "tickcolor": "rgb(36,36,36)",
             "ticks": "outside"
            },
            "colorscale": [
             [
              0,
              "#440154"
             ],
             [
              0.1111111111111111,
              "#482878"
             ],
             [
              0.2222222222222222,
              "#3e4989"
             ],
             [
              0.3333333333333333,
              "#31688e"
             ],
             [
              0.4444444444444444,
              "#26828e"
             ],
             [
              0.5555555555555556,
              "#1f9e89"
             ],
             [
              0.6666666666666666,
              "#35b779"
             ],
             [
              0.7777777777777778,
              "#6ece58"
             ],
             [
              0.8888888888888888,
              "#b5de2b"
             ],
             [
              1,
              "#fde725"
             ]
            ],
            "type": "contour"
           }
          ],
          "contourcarpet": [
           {
            "colorbar": {
             "outlinewidth": 1,
             "tickcolor": "rgb(36,36,36)",
             "ticks": "outside"
            },
            "type": "contourcarpet"
           }
          ],
          "heatmap": [
           {
            "colorbar": {
             "outlinewidth": 1,
             "tickcolor": "rgb(36,36,36)",
             "ticks": "outside"
            },
            "colorscale": [
             [
              0,
              "#440154"
             ],
             [
              0.1111111111111111,
              "#482878"
             ],
             [
              0.2222222222222222,
              "#3e4989"
             ],
             [
              0.3333333333333333,
              "#31688e"
             ],
             [
              0.4444444444444444,
              "#26828e"
             ],
             [
              0.5555555555555556,
              "#1f9e89"
             ],
             [
              0.6666666666666666,
              "#35b779"
             ],
             [
              0.7777777777777778,
              "#6ece58"
             ],
             [
              0.8888888888888888,
              "#b5de2b"
             ],
             [
              1,
              "#fde725"
             ]
            ],
            "type": "heatmap"
           }
          ],
          "heatmapgl": [
           {
            "colorbar": {
             "outlinewidth": 1,
             "tickcolor": "rgb(36,36,36)",
             "ticks": "outside"
            },
            "colorscale": [
             [
              0,
              "#440154"
             ],
             [
              0.1111111111111111,
              "#482878"
             ],
             [
              0.2222222222222222,
              "#3e4989"
             ],
             [
              0.3333333333333333,
              "#31688e"
             ],
             [
              0.4444444444444444,
              "#26828e"
             ],
             [
              0.5555555555555556,
              "#1f9e89"
             ],
             [
              0.6666666666666666,
              "#35b779"
             ],
             [
              0.7777777777777778,
              "#6ece58"
             ],
             [
              0.8888888888888888,
              "#b5de2b"
             ],
             [
              1,
              "#fde725"
             ]
            ],
            "type": "heatmapgl"
           }
          ],
          "histogram": [
           {
            "marker": {
             "line": {
              "color": "white",
              "width": 0.6
             }
            },
            "type": "histogram"
           }
          ],
          "histogram2d": [
           {
            "colorbar": {
             "outlinewidth": 1,
             "tickcolor": "rgb(36,36,36)",
             "ticks": "outside"
            },
            "colorscale": [
             [
              0,
              "#440154"
             ],
             [
              0.1111111111111111,
              "#482878"
             ],
             [
              0.2222222222222222,
              "#3e4989"
             ],
             [
              0.3333333333333333,
              "#31688e"
             ],
             [
              0.4444444444444444,
              "#26828e"
             ],
             [
              0.5555555555555556,
              "#1f9e89"
             ],
             [
              0.6666666666666666,
              "#35b779"
             ],
             [
              0.7777777777777778,
              "#6ece58"
             ],
             [
              0.8888888888888888,
              "#b5de2b"
             ],
             [
              1,
              "#fde725"
             ]
            ],
            "type": "histogram2d"
           }
          ],
          "histogram2dcontour": [
           {
            "colorbar": {
             "outlinewidth": 1,
             "tickcolor": "rgb(36,36,36)",
             "ticks": "outside"
            },
            "colorscale": [
             [
              0,
              "#440154"
             ],
             [
              0.1111111111111111,
              "#482878"
             ],
             [
              0.2222222222222222,
              "#3e4989"
             ],
             [
              0.3333333333333333,
              "#31688e"
             ],
             [
              0.4444444444444444,
              "#26828e"
             ],
             [
              0.5555555555555556,
              "#1f9e89"
             ],
             [
              0.6666666666666666,
              "#35b779"
             ],
             [
              0.7777777777777778,
              "#6ece58"
             ],
             [
              0.8888888888888888,
              "#b5de2b"
             ],
             [
              1,
              "#fde725"
             ]
            ],
            "type": "histogram2dcontour"
           }
          ],
          "mesh3d": [
           {
            "colorbar": {
             "outlinewidth": 1,
             "tickcolor": "rgb(36,36,36)",
             "ticks": "outside"
            },
            "type": "mesh3d"
           }
          ],
          "parcoords": [
           {
            "line": {
             "colorbar": {
              "outlinewidth": 1,
              "tickcolor": "rgb(36,36,36)",
              "ticks": "outside"
             }
            },
            "type": "parcoords"
           }
          ],
          "pie": [
           {
            "automargin": true,
            "type": "pie"
           }
          ],
          "scatter": [
           {
            "fillpattern": {
             "fillmode": "overlay",
             "size": 10,
             "solidity": 0.2
            },
            "type": "scatter"
           }
          ],
          "scatter3d": [
           {
            "line": {
             "colorbar": {
              "outlinewidth": 1,
              "tickcolor": "rgb(36,36,36)",
              "ticks": "outside"
             }
            },
            "marker": {
             "colorbar": {
              "outlinewidth": 1,
              "tickcolor": "rgb(36,36,36)",
              "ticks": "outside"
             }
            },
            "type": "scatter3d"
           }
          ],
          "scattercarpet": [
           {
            "marker": {
             "colorbar": {
              "outlinewidth": 1,
              "tickcolor": "rgb(36,36,36)",
              "ticks": "outside"
             }
            },
            "type": "scattercarpet"
           }
          ],
          "scattergeo": [
           {
            "marker": {
             "colorbar": {
              "outlinewidth": 1,
              "tickcolor": "rgb(36,36,36)",
              "ticks": "outside"
             }
            },
            "type": "scattergeo"
           }
          ],
          "scattergl": [
           {
            "marker": {
             "colorbar": {
              "outlinewidth": 1,
              "tickcolor": "rgb(36,36,36)",
              "ticks": "outside"
             }
            },
            "type": "scattergl"
           }
          ],
          "scattermapbox": [
           {
            "marker": {
             "colorbar": {
              "outlinewidth": 1,
              "tickcolor": "rgb(36,36,36)",
              "ticks": "outside"
             }
            },
            "type": "scattermapbox"
           }
          ],
          "scatterpolar": [
           {
            "marker": {
             "colorbar": {
              "outlinewidth": 1,
              "tickcolor": "rgb(36,36,36)",
              "ticks": "outside"
             }
            },
            "type": "scatterpolar"
           }
          ],
          "scatterpolargl": [
           {
            "marker": {
             "colorbar": {
              "outlinewidth": 1,
              "tickcolor": "rgb(36,36,36)",
              "ticks": "outside"
             }
            },
            "type": "scatterpolargl"
           }
          ],
          "scatterternary": [
           {
            "marker": {
             "colorbar": {
              "outlinewidth": 1,
              "tickcolor": "rgb(36,36,36)",
              "ticks": "outside"
             }
            },
            "type": "scatterternary"
           }
          ],
          "surface": [
           {
            "colorbar": {
             "outlinewidth": 1,
             "tickcolor": "rgb(36,36,36)",
             "ticks": "outside"
            },
            "colorscale": [
             [
              0,
              "#440154"
             ],
             [
              0.1111111111111111,
              "#482878"
             ],
             [
              0.2222222222222222,
              "#3e4989"
             ],
             [
              0.3333333333333333,
              "#31688e"
             ],
             [
              0.4444444444444444,
              "#26828e"
             ],
             [
              0.5555555555555556,
              "#1f9e89"
             ],
             [
              0.6666666666666666,
              "#35b779"
             ],
             [
              0.7777777777777778,
              "#6ece58"
             ],
             [
              0.8888888888888888,
              "#b5de2b"
             ],
             [
              1,
              "#fde725"
             ]
            ],
            "type": "surface"
           }
          ],
          "table": [
           {
            "cells": {
             "fill": {
              "color": "rgb(237,237,237)"
             },
             "line": {
              "color": "white"
             }
            },
            "header": {
             "fill": {
              "color": "rgb(217,217,217)"
             },
             "line": {
              "color": "white"
             }
            },
            "type": "table"
           }
          ]
         },
         "layout": {
          "annotationdefaults": {
           "arrowhead": 0,
           "arrowwidth": 1
          },
          "autotypenumbers": "strict",
          "coloraxis": {
           "colorbar": {
            "outlinewidth": 1,
            "tickcolor": "rgb(36,36,36)",
            "ticks": "outside"
           }
          },
          "colorscale": {
           "diverging": [
            [
             0,
             "rgb(103,0,31)"
            ],
            [
             0.1,
             "rgb(178,24,43)"
            ],
            [
             0.2,
             "rgb(214,96,77)"
            ],
            [
             0.3,
             "rgb(244,165,130)"
            ],
            [
             0.4,
             "rgb(253,219,199)"
            ],
            [
             0.5,
             "rgb(247,247,247)"
            ],
            [
             0.6,
             "rgb(209,229,240)"
            ],
            [
             0.7,
             "rgb(146,197,222)"
            ],
            [
             0.8,
             "rgb(67,147,195)"
            ],
            [
             0.9,
             "rgb(33,102,172)"
            ],
            [
             1,
             "rgb(5,48,97)"
            ]
           ],
           "sequential": [
            [
             0,
             "#440154"
            ],
            [
             0.1111111111111111,
             "#482878"
            ],
            [
             0.2222222222222222,
             "#3e4989"
            ],
            [
             0.3333333333333333,
             "#31688e"
            ],
            [
             0.4444444444444444,
             "#26828e"
            ],
            [
             0.5555555555555556,
             "#1f9e89"
            ],
            [
             0.6666666666666666,
             "#35b779"
            ],
            [
             0.7777777777777778,
             "#6ece58"
            ],
            [
             0.8888888888888888,
             "#b5de2b"
            ],
            [
             1,
             "#fde725"
            ]
           ],
           "sequentialminus": [
            [
             0,
             "#440154"
            ],
            [
             0.1111111111111111,
             "#482878"
            ],
            [
             0.2222222222222222,
             "#3e4989"
            ],
            [
             0.3333333333333333,
             "#31688e"
            ],
            [
             0.4444444444444444,
             "#26828e"
            ],
            [
             0.5555555555555556,
             "#1f9e89"
            ],
            [
             0.6666666666666666,
             "#35b779"
            ],
            [
             0.7777777777777778,
             "#6ece58"
            ],
            [
             0.8888888888888888,
             "#b5de2b"
            ],
            [
             1,
             "#fde725"
            ]
           ]
          },
          "colorway": [
           "#1F77B4",
           "#FF7F0E",
           "#2CA02C",
           "#D62728",
           "#9467BD",
           "#8C564B",
           "#E377C2",
           "#7F7F7F",
           "#BCBD22",
           "#17BECF"
          ],
          "font": {
           "color": "rgb(36,36,36)"
          },
          "geo": {
           "bgcolor": "white",
           "lakecolor": "white",
           "landcolor": "white",
           "showlakes": true,
           "showland": true,
           "subunitcolor": "white"
          },
          "hoverlabel": {
           "align": "left"
          },
          "hovermode": "closest",
          "mapbox": {
           "style": "light"
          },
          "paper_bgcolor": "white",
          "plot_bgcolor": "white",
          "polar": {
           "angularaxis": {
            "gridcolor": "rgb(232,232,232)",
            "linecolor": "rgb(36,36,36)",
            "showgrid": false,
            "showline": true,
            "ticks": "outside"
           },
           "bgcolor": "white",
           "radialaxis": {
            "gridcolor": "rgb(232,232,232)",
            "linecolor": "rgb(36,36,36)",
            "showgrid": false,
            "showline": true,
            "ticks": "outside"
           }
          },
          "scene": {
           "xaxis": {
            "backgroundcolor": "white",
            "gridcolor": "rgb(232,232,232)",
            "gridwidth": 2,
            "linecolor": "rgb(36,36,36)",
            "showbackground": true,
            "showgrid": false,
            "showline": true,
            "ticks": "outside",
            "zeroline": false,
            "zerolinecolor": "rgb(36,36,36)"
           },
           "yaxis": {
            "backgroundcolor": "white",
            "gridcolor": "rgb(232,232,232)",
            "gridwidth": 2,
            "linecolor": "rgb(36,36,36)",
            "showbackground": true,
            "showgrid": false,
            "showline": true,
            "ticks": "outside",
            "zeroline": false,
            "zerolinecolor": "rgb(36,36,36)"
           },
           "zaxis": {
            "backgroundcolor": "white",
            "gridcolor": "rgb(232,232,232)",
            "gridwidth": 2,
            "linecolor": "rgb(36,36,36)",
            "showbackground": true,
            "showgrid": false,
            "showline": true,
            "ticks": "outside",
            "zeroline": false,
            "zerolinecolor": "rgb(36,36,36)"
           }
          },
          "shapedefaults": {
           "fillcolor": "black",
           "line": {
            "width": 0
           },
           "opacity": 0.3
          },
          "ternary": {
           "aaxis": {
            "gridcolor": "rgb(232,232,232)",
            "linecolor": "rgb(36,36,36)",
            "showgrid": false,
            "showline": true,
            "ticks": "outside"
           },
           "baxis": {
            "gridcolor": "rgb(232,232,232)",
            "linecolor": "rgb(36,36,36)",
            "showgrid": false,
            "showline": true,
            "ticks": "outside"
           },
           "bgcolor": "white",
           "caxis": {
            "gridcolor": "rgb(232,232,232)",
            "linecolor": "rgb(36,36,36)",
            "showgrid": false,
            "showline": true,
            "ticks": "outside"
           }
          },
          "title": {
           "x": 0.05
          },
          "xaxis": {
           "automargin": true,
           "gridcolor": "rgb(232,232,232)",
           "linecolor": "rgb(36,36,36)",
           "showgrid": false,
           "showline": true,
           "ticks": "outside",
           "title": {
            "standoff": 15
           },
           "zeroline": false,
           "zerolinecolor": "rgb(36,36,36)"
          },
          "yaxis": {
           "automargin": true,
           "gridcolor": "rgb(232,232,232)",
           "linecolor": "rgb(36,36,36)",
           "showgrid": false,
           "showline": true,
           "ticks": "outside",
           "title": {
            "standoff": 15
           },
           "zeroline": false,
           "zerolinecolor": "rgb(36,36,36)"
          }
         }
        },
        "title": {
         "font": {
          "color": "Black",
          "size": 22
         },
         "text": "<b>Topics over Time</b>",
         "x": 0.4,
         "xanchor": "center",
         "y": 0.95,
         "yanchor": "top"
        },
        "width": 1250,
        "xaxis": {
         "showgrid": true
        },
        "yaxis": {
         "showgrid": true,
         "title": {
          "text": "Frequency"
         }
        }
       }
      }
     },
     "metadata": {},
     "output_type": "display_data"
    }
   ],
   "source": [
    "topic_model.visualize_topics_over_time(topics_over_time, top_n_topics=10)"
   ]
  },
  {
   "cell_type": "markdown",
   "metadata": {},
   "source": [
    "### Positive reviews:"
   ]
  },
  {
   "cell_type": "code",
   "execution_count": 10,
   "metadata": {},
   "outputs": [],
   "source": [
    "pos_model = BERTopic.load(\"models/bertopic_pos_model\")"
   ]
  },
  {
   "cell_type": "code",
   "execution_count": 12,
   "metadata": {},
   "outputs": [
    {
     "name": "stderr",
     "output_type": "stream",
     "text": [
      "20it [00:16,  1.25it/s]\n"
     ]
    }
   ],
   "source": [
    "pos_topics_over_time = pos_model.topics_over_time(pos_docs, pos_timestamps, nr_bins=20)"
   ]
  },
  {
   "cell_type": "code",
   "execution_count": 20,
   "metadata": {},
   "outputs": [
    {
     "data": {
      "application/vnd.plotly.v1+json": {
       "config": {
        "plotlyServerURL": "https://plot.ly"
       },
       "data": [
        {
         "hoverinfo": "text",
         "hovertext": [
          "<b>Topic 0</b><br>Words: umm, show, awards, serves, forgot",
          "<b>Topic 0</b><br>Words: umm, show, awards, serves, forgot",
          "<b>Topic 0</b><br>Words: umm, show, awards, serves, forgot",
          "<b>Topic 0</b><br>Words: umm, show, awards, serves, forgot",
          "<b>Topic 0</b><br>Words: umm, show, awards, serves, forgot",
          "<b>Topic 0</b><br>Words: awards, community, umm, show, serves",
          "<b>Topic 0</b><br>Words: umm, show, awards, serves, forgot",
          "<b>Topic 0</b><br>Words: show, umm, awards, serves, forgot",
          "<b>Topic 0</b><br>Words: umm, show, awards, serves, forgot",
          "<b>Topic 0</b><br>Words: umm, show, awards, serves, forgot",
          "<b>Topic 0</b><br>Words: umm, show, awards, serves, forgot",
          "<b>Topic 0</b><br>Words: umm, show, awards, serves, forgot",
          "<b>Topic 0</b><br>Words: show, umm, awards, serves, also",
          "<b>Topic 0</b><br>Words: umm, show, awards, serves, forgot",
          "<b>Topic 0</b><br>Words: umm, show, awards, serves, forgot",
          "<b>Topic 0</b><br>Words: serves, forgot, umm, show, awards",
          "<b>Topic 0</b><br>Words: umm, show, awards, serves, forgot",
          "<b>Topic 0</b><br>Words: umm, show, awards, serves, forgot",
          "<b>Topic 0</b><br>Words: umm, show, awards, serves, forgot",
          "<b>Topic 0</b><br>Words: umm, show, awards, serves, forgot"
         ],
         "marker": {
          "color": "#E69F00"
         },
         "mode": "lines",
         "name": "0_umm_show_awards_serves",
         "type": "scatter",
         "x": [
          "2015-03-29T07:51:40.752000",
          "2015-09-30T21:50:11.400000",
          "2016-03-30T20:28:43.800000",
          "2016-09-28T19:07:16.200000",
          "2017-03-29T17:45:48.600000",
          "2017-09-27T16:24:21",
          "2018-03-28T15:02:53.400000",
          "2018-09-26T13:41:25.800000",
          "2019-03-27T12:19:58.200000",
          "2019-09-25T10:58:30.600000",
          "2020-03-25T09:37:03",
          "2020-09-23T08:15:35.400000",
          "2021-03-24T06:54:07.800000",
          "2021-09-22T05:32:40.200000",
          "2022-03-23T04:11:12.600000",
          "2022-09-21T02:49:45",
          "2023-03-22T01:28:17.400000",
          "2023-09-20T00:06:49.800000",
          "2024-03-19T22:45:22.200000",
          "2024-09-17T21:23:54.600000"
         ],
         "y": [
          33,
          27,
          12,
          26,
          12,
          19,
          14,
          23,
          30,
          67,
          89,
          88,
          115,
          128,
          70,
          98,
          80,
          103,
          109,
          112
         ]
        },
        {
         "hoverinfo": "text",
         "hovertext": [
          "<b>Topic 1</b><br>Words: good, yeth, verry, uwu, mm",
          "<b>Topic 1</b><br>Words: good, yeth, verry, uwu, mm",
          "<b>Topic 1</b><br>Words: good, yeth, verry, uwu, mm",
          "<b>Topic 1</b><br>Words: good, yeth, verry, uwu, mm",
          "<b>Topic 1</b><br>Words: good, yeth, verry, uwu, mm",
          "<b>Topic 1</b><br>Words: good, yeth, verry, uwu, mm",
          "<b>Topic 1</b><br>Words: good, yeth, verry, uwu, mm",
          "<b>Topic 1</b><br>Words: good, yeth, verry, uwu, mm",
          "<b>Topic 1</b><br>Words: good, yeth, verry, uwu, mm",
          "<b>Topic 1</b><br>Words: good, spoiler, yeth, verry, uwu",
          "<b>Topic 1</b><br>Words: good, verry, mm, lol, yeth",
          "<b>Topic 1</b><br>Words: good, yeth, meh, verry, uwu",
          "<b>Topic 1</b><br>Words: good, thats, yeth, well, verry",
          "<b>Topic 1</b><br>Words: good, ever, yeth, verry, uwu",
          "<b>Topic 1</b><br>Words: good, ahh, meh, please, sometimes",
          "<b>Topic 1</b><br>Words: good, yeth, verry, uwu, mm",
          "<b>Topic 1</b><br>Words: good, ii, yeth, verry, uwu",
          "<b>Topic 1</b><br>Words: good, af, yeth, verry, uwu",
          "<b>Topic 1</b><br>Words: good, yeth, verry, uwu, mm",
          "<b>Topic 1</b><br>Words: good, uwu, yeth, verry, mm"
         ],
         "marker": {
          "color": "#56B4E9"
         },
         "mode": "lines",
         "name": "1_good_yeth_verry_uwu",
         "type": "scatter",
         "x": [
          "2015-03-29T07:51:40.752000",
          "2015-09-30T21:50:11.400000",
          "2016-03-30T20:28:43.800000",
          "2016-09-28T19:07:16.200000",
          "2017-03-29T17:45:48.600000",
          "2017-09-27T16:24:21",
          "2018-03-28T15:02:53.400000",
          "2018-09-26T13:41:25.800000",
          "2019-03-27T12:19:58.200000",
          "2019-09-25T10:58:30.600000",
          "2020-03-25T09:37:03",
          "2020-09-23T08:15:35.400000",
          "2021-03-24T06:54:07.800000",
          "2021-09-22T05:32:40.200000",
          "2022-03-23T04:11:12.600000",
          "2022-09-21T02:49:45",
          "2023-03-22T01:28:17.400000",
          "2023-09-20T00:06:49.800000",
          "2024-03-19T22:45:22.200000",
          "2024-09-17T21:23:54.600000"
         ],
         "y": [
          10,
          12,
          11,
          12,
          20,
          18,
          9,
          18,
          38,
          72,
          87,
          77,
          80,
          106,
          52,
          61,
          56,
          47,
          73,
          81
         ]
        },
        {
         "hoverinfo": "text",
         "hovertext": [
          "<b>Topic 2</b><br>Words: new, heide, changes, enemies, area",
          "<b>Topic 2</b><br>Words: das, players, world, player, knights",
          "<b>Topic 2</b><br>Words: havels, katana, ice, chaos, rapier",
          "<b>Topic 2</b><br>Words: system, dks, heh, based, memory",
          "<b>Topic 2</b><br>Words: fight, boss, weapon, area, enemies",
          "<b>Topic 2</b><br>Words: player, players, areas, enemies, certain",
          "<b>Topic 2</b><br>Words: scaling, areas, dsi, example, stats",
          "<b>Topic 2</b><br>Words: player, enemies, attack, damage, weapons",
          "<b>Topic 2</b><br>Words: moonlight, uh, shawty, trippin, spotlight",
          "<b>Topic 2</b><br>Words: bean, estus, areas, check, enemies",
          "<b>Topic 2</b><br>Words: early, areas, area, players, weapons",
          "<b>Topic 2</b><br>Words: th, enemies, weapons, areas, area",
          "<b>Topic 2</b><br>Words: enemies, areas, healing, things, movement",
          "<b>Topic 2</b><br>Words: sex, area, fight, enemies, roll",
          "<b>Topic 2</b><br>Words: enemies, area, fight, often, also",
          "<b>Topic 2</b><br>Words: us, two, areas, enemies, fight",
          "<b>Topic 2</b><br>Words: boss, king, mark, fight, also",
          "<b>Topic 2</b><br>Words: td, tr, dementia, boss, enemies",
          "<b>Topic 2</b><br>Words: boss, enemies, king, also, areas",
          "<b>Topic 2</b><br>Words: spoiler, area, enemies, boss, world"
         ],
         "marker": {
          "color": "#009E73"
         },
         "mode": "lines",
         "name": "2_enemies_area_areas_boss",
         "type": "scatter",
         "x": [
          "2015-03-29T07:51:40.752000",
          "2015-09-30T21:50:11.400000",
          "2016-03-30T20:28:43.800000",
          "2016-09-28T19:07:16.200000",
          "2017-03-29T17:45:48.600000",
          "2017-09-27T16:24:21",
          "2018-03-28T15:02:53.400000",
          "2018-09-26T13:41:25.800000",
          "2019-03-27T12:19:58.200000",
          "2019-09-25T10:58:30.600000",
          "2020-03-25T09:37:03",
          "2020-09-23T08:15:35.400000",
          "2021-03-24T06:54:07.800000",
          "2021-09-22T05:32:40.200000",
          "2022-03-23T04:11:12.600000",
          "2022-09-21T02:49:45",
          "2023-03-22T01:28:17.400000",
          "2023-09-20T00:06:49.800000",
          "2024-03-19T22:45:22.200000",
          "2024-09-17T21:23:54.600000"
         ],
         "y": [
          47,
          34,
          42,
          32,
          37,
          38,
          18,
          27,
          27,
          29,
          47,
          46,
          51,
          45,
          31,
          38,
          43,
          45,
          55,
          72
         ]
        },
        {
         "hoverinfo": "text",
         "hovertext": [
          "<b>Topic 3</b><br>Words: best, ah, btw, lol, shot",
          "<b>Topic 3</b><br>Words: best, ah, btw, lol, shot",
          "<b>Topic 3</b><br>Words: best, lol, ah, btw, shot",
          "<b>Topic 3</b><br>Words: best, ah, btw, lol, shot",
          "<b>Topic 3</b><br>Words: best, ah, btw, lol, shot",
          "<b>Topic 3</b><br>Words: best, ah, btw, lol, shot",
          "<b>Topic 3</b><br>Words: best, ah, btw, lol, shot",
          "<b>Topic 3</b><br>Words: best, ah, btw, lol, shot",
          "<b>Topic 3</b><br>Words: best, btw, ah, lol, shot",
          "<b>Topic 3</b><br>Words: best, ah, btw, lol, shot",
          "<b>Topic 3</b><br>Words: best, ah, btw, lol, shot",
          "<b>Topic 3</b><br>Words: best, ah, btw, lol, shot",
          "<b>Topic 3</b><br>Words: best, ah, btw, lol, shot",
          "<b>Topic 3</b><br>Words: best, ah, btw, lol, shot",
          "<b>Topic 3</b><br>Words: best, shot, long, yes, ah",
          "<b>Topic 3</b><br>Words: best, ah, fucking, yes, btw",
          "<b>Topic 3</b><br>Words: best, right, ah, btw, lol",
          "<b>Topic 3</b><br>Words: best, ah, btw, lol, shot",
          "<b>Topic 3</b><br>Words: best, ah, btw, lol, shot"
         ],
         "marker": {
          "color": "#F0E442"
         },
         "mode": "lines",
         "name": "3_best_ah_btw_lol",
         "type": "scatter",
         "x": [
          "2015-03-29T07:51:40.752000",
          "2015-09-30T21:50:11.400000",
          "2016-09-28T19:07:16.200000",
          "2017-03-29T17:45:48.600000",
          "2017-09-27T16:24:21",
          "2018-03-28T15:02:53.400000",
          "2018-09-26T13:41:25.800000",
          "2019-03-27T12:19:58.200000",
          "2019-09-25T10:58:30.600000",
          "2020-03-25T09:37:03",
          "2020-09-23T08:15:35.400000",
          "2021-03-24T06:54:07.800000",
          "2021-09-22T05:32:40.200000",
          "2022-03-23T04:11:12.600000",
          "2022-09-21T02:49:45",
          "2023-03-22T01:28:17.400000",
          "2023-09-20T00:06:49.800000",
          "2024-03-19T22:45:22.200000",
          "2024-09-17T21:23:54.600000"
         ],
         "y": [
          2,
          3,
          4,
          7,
          5,
          1,
          8,
          18,
          30,
          29,
          28,
          36,
          52,
          39,
          42,
          38,
          36,
          48,
          50
         ]
        },
        {
         "hoverinfo": "text",
         "hovertext": [
          "<b>Topic 4</b><br>Words: darker, crystal, gear, material, logged",
          "<b>Topic 4</b><br>Words: horizontal, communicated, darksouls, partly, uninteresting",
          "<b>Topic 4</b><br>Words: inspired, predacessor, hack, darksoul, less",
          "<b>Topic 4</b><br>Words: aspects, soundtrack, sequel, usual, beginning",
          "<b>Topic 4</b><br>Words: strike, dee, ecks, istelf, someting",
          "<b>Topic 4</b><br>Words: apples, repetetive, convenants, sequal, instead",
          "<b>Topic 4</b><br>Words: presented, recycling, books, via, sequel",
          "<b>Topic 4</b><br>Words: footage, train, precise, rotten, critisizims",
          "<b>Topic 4</b><br>Words: noticably, sequel, amenable, fiendishly, averse",
          "<b>Topic 4</b><br>Words: story, world, apposed, differences, odd",
          "<b>Topic 4</b><br>Words: entry, title, design, titles, franchise",
          "<b>Topic 4</b><br>Words: quirks, unique, trying, series, however",
          "<b>Topic 4</b><br>Words: scholars, tons, videogame, predecessor, dive",
          "<b>Topic 4</b><br>Words: world, aspects, vary, series, mechanics",
          "<b>Topic 4</b><br>Words: chronological, worker, sequel, spoiler, worse",
          "<b>Topic 4</b><br>Words: drags, noobs, truly, results, reenabled",
          "<b>Topic 4</b><br>Words: sequel, six, worthy, google, excite",
          "<b>Topic 4</b><br>Words: offering, design, predecessor, unique, compelling",
          "<b>Topic 4</b><br>Words: sequel, ideas, backs, weirdly, world",
          "<b>Topic 4</b><br>Words: unafraid, aspects, unfortunately, sequel, story"
         ],
         "marker": {
          "color": "#D55E00"
         },
         "mode": "lines",
         "name": "4_sequel_design_world_story",
         "type": "scatter",
         "x": [
          "2015-03-29T07:51:40.752000",
          "2015-09-30T21:50:11.400000",
          "2016-03-30T20:28:43.800000",
          "2016-09-28T19:07:16.200000",
          "2017-03-29T17:45:48.600000",
          "2017-09-27T16:24:21",
          "2018-03-28T15:02:53.400000",
          "2018-09-26T13:41:25.800000",
          "2019-03-27T12:19:58.200000",
          "2019-09-25T10:58:30.600000",
          "2020-03-25T09:37:03",
          "2020-09-23T08:15:35.400000",
          "2021-03-24T06:54:07.800000",
          "2021-09-22T05:32:40.200000",
          "2022-03-23T04:11:12.600000",
          "2022-09-21T02:49:45",
          "2023-03-22T01:28:17.400000",
          "2023-09-20T00:06:49.800000",
          "2024-03-19T22:45:22.200000",
          "2024-09-17T21:23:54.600000"
         ],
         "y": [
          12,
          9,
          9,
          13,
          6,
          16,
          7,
          10,
          12,
          21,
          30,
          26,
          25,
          38,
          15,
          19,
          16,
          24,
          27,
          25
         ]
        },
        {
         "hoverinfo": "text",
         "hovertext": [
          "<b>Topic 5</b><br>Words: controller, keyboard, mouse, controls, xbox",
          "<b>Topic 5</b><br>Words: controller, keyboard, mouse, controls, clicking",
          "<b>Topic 5</b><br>Words: keyboard, controller, mouse, controls, click",
          "<b>Topic 5</b><br>Words: controller, keyboard, broke, mouse, bubble",
          "<b>Topic 5</b><br>Words: controller, keyboard, mouse, cable, window",
          "<b>Topic 5</b><br>Words: controller, keyboard, controls, kb, mouse",
          "<b>Topic 5</b><br>Words: mouse, sensitivity, click, bindings, prompts",
          "<b>Topic 5</b><br>Words: controller, keyboard, mouse, playstation, controls",
          "<b>Topic 5</b><br>Words: controller, keyboard, mouse, controls, menus",
          "<b>Topic 5</b><br>Words: controller, keyboard, controls, mouse, bindings",
          "<b>Topic 5</b><br>Words: keyboard, controller, mouse, controls, keys",
          "<b>Topic 5</b><br>Words: keyboard, mouse, controls, controller, press",
          "<b>Topic 5</b><br>Words: controller, keyboard, mouse, controls, broke",
          "<b>Topic 5</b><br>Words: mouse, keyboard, controller, broke, keys",
          "<b>Topic 5</b><br>Words: mouse, keyboard, controller, controls, bind",
          "<b>Topic 5</b><br>Words: keyboard, controller, mouse, click, controls",
          "<b>Topic 5</b><br>Words: control, controller, mouse, keyboard, controls",
          "<b>Topic 5</b><br>Words: controller, keyboard, binds, remap, controls",
          "<b>Topic 5</b><br>Words: controller, click, mouse, keyboard, controls",
          "<b>Topic 5</b><br>Words: keyboard, controller, controls, mouse, miyuzaki"
         ],
         "marker": {
          "color": "#0072B2"
         },
         "mode": "lines",
         "name": "5_controller_keyboard_mouse_controls",
         "type": "scatter",
         "x": [
          "2015-03-29T07:51:40.752000",
          "2015-09-30T21:50:11.400000",
          "2016-03-30T20:28:43.800000",
          "2016-09-28T19:07:16.200000",
          "2017-03-29T17:45:48.600000",
          "2017-09-27T16:24:21",
          "2018-03-28T15:02:53.400000",
          "2018-09-26T13:41:25.800000",
          "2019-03-27T12:19:58.200000",
          "2019-09-25T10:58:30.600000",
          "2020-03-25T09:37:03",
          "2020-09-23T08:15:35.400000",
          "2021-03-24T06:54:07.800000",
          "2021-09-22T05:32:40.200000",
          "2022-03-23T04:11:12.600000",
          "2022-09-21T02:49:45",
          "2023-03-22T01:28:17.400000",
          "2023-09-20T00:06:49.800000",
          "2024-03-19T22:45:22.200000",
          "2024-09-17T21:23:54.600000"
         ],
         "y": [
          26,
          32,
          20,
          21,
          16,
          16,
          3,
          9,
          12,
          21,
          26,
          19,
          24,
          20,
          16,
          14,
          12,
          14,
          17,
          17
         ]
        },
        {
         "hoverinfo": "text",
         "hovertext": [
          "<b>Topic 6</b><br>Words: yes, yesn, yessir, bro, thank",
          "<b>Topic 6</b><br>Words: yes, yesn, yessir, bro, thank",
          "<b>Topic 6</b><br>Words: yes, yesn, yessir, bro, thank",
          "<b>Topic 6</b><br>Words: yes, yesn, yessir, bro, thank",
          "<b>Topic 6</b><br>Words: yes, yesn, yessir, bro, thank",
          "<b>Topic 6</b><br>Words: yes, yesn, yessir, bro, thank",
          "<b>Topic 6</b><br>Words: yes, yesn, yessir, bro, thank",
          "<b>Topic 6</b><br>Words: yes, yesn, yessir, bro, thank",
          "<b>Topic 6</b><br>Words: yes, yesn, yessir, bro, thank",
          "<b>Topic 6</b><br>Words: yes, yesn, yessir, bro, thank",
          "<b>Topic 6</b><br>Words: yes, yesn, yessir, bro, thank",
          "<b>Topic 6</b><br>Words: yes, yesn, thank, cool, yessir",
          "<b>Topic 6</b><br>Words: yes, bro, sir, yesn, yessir",
          "<b>Topic 6</b><br>Words: yes, yesn, yessir, bro, thank",
          "<b>Topic 6</b><br>Words: yes, yesn, yessir, bro, thank",
          "<b>Topic 6</b><br>Words: yes, yesn, yessir, bro, thank",
          "<b>Topic 6</b><br>Words: yes, yessir, yesn, bro, thank",
          "<b>Topic 6</b><br>Words: yes, yesn, yessir, bro, thank",
          "<b>Topic 6</b><br>Words: yes, yesn, yessir, bro, thank"
         ],
         "marker": {
          "color": "#CC79A7"
         },
         "mode": "lines",
         "name": "6_yes_yesn_yessir_bro",
         "type": "scatter",
         "x": [
          "2015-03-29T07:51:40.752000",
          "2015-09-30T21:50:11.400000",
          "2016-03-30T20:28:43.800000",
          "2016-09-28T19:07:16.200000",
          "2017-09-27T16:24:21",
          "2018-03-28T15:02:53.400000",
          "2018-09-26T13:41:25.800000",
          "2019-03-27T12:19:58.200000",
          "2019-09-25T10:58:30.600000",
          "2020-03-25T09:37:03",
          "2020-09-23T08:15:35.400000",
          "2021-03-24T06:54:07.800000",
          "2021-09-22T05:32:40.200000",
          "2022-03-23T04:11:12.600000",
          "2022-09-21T02:49:45",
          "2023-03-22T01:28:17.400000",
          "2023-09-20T00:06:49.800000",
          "2024-03-19T22:45:22.200000",
          "2024-09-17T21:23:54.600000"
         ],
         "y": [
          4,
          4,
          1,
          4,
          2,
          1,
          4,
          6,
          32,
          48,
          40,
          36,
          37,
          27,
          19,
          13,
          16,
          19,
          18
         ]
        },
        {
         "hoverinfo": "text",
         "hovertext": [
          "<b>Topic 7</b><br>Words: capitalismisthecauseofthis, pausing, disposable, coded, crazier",
          "<b>Topic 7</b><br>Words: fuuuuuuuuuuu, masturbation, loool, puting, buttsex",
          "<b>Topic 7</b><br>Words: outrageously, neighborhood, fabulous, wont, wake",
          "<b>Topic 7</b><br>Words: paper, houres, whill, bosss, cannawt",
          "<b>Topic 7</b><br>Words: coworkers, annihilated, penetrated, concessions, slew",
          "<b>Topic 7</b><br>Words: whoop, punched, desk, greedy, asshole",
          "<b>Topic 7</b><br>Words: perseverence, honing, littered, substantial, entertainment",
          "<b>Topic 7</b><br>Words: manikins, twin, addicted, likes, complain",
          "<b>Topic 7</b><br>Words: styling, ooz, mothersucker, aromatic, pased",
          "<b>Topic 7</b><br>Words: whaddya, hysterical, defeated, outweighed, boss",
          "<b>Topic 7</b><br>Words: st, undertuned, bossessssss, bosses, oversaturated",
          "<b>Topic 7</b><br>Words: bosses, bosssss, fnnuy, osuls, weaaaaponnnnnnns",
          "<b>Topic 7</b><br>Words: boss, bosses, mobs, wolnir, booses",
          "<b>Topic 7</b><br>Words: bosses, boss, beat, esey, ceased",
          "<b>Topic 7</b><br>Words: broth, littler, fuckyoufuckyoufuckyoufuckyoufuckyoufuckyou, getin, hbomberguy",
          "<b>Topic 7</b><br>Words: grappled, py, boss, smarts, cos",
          "<b>Topic 7</b><br>Words: motherfucking, fuckin, fucking, turtle, kidding",
          "<b>Topic 7</b><br>Words: boss, bosses, painfully, enemyies, fxck",
          "<b>Topic 7</b><br>Words: def, runbacks, boss, bosses, enjoying",
          "<b>Topic 7</b><br>Words: runbacks, boss, apparantly, walkback, istfg"
         ],
         "marker": {
          "color": "#E69F00"
         },
         "mode": "lines",
         "name": "7_boss_bosses_mobs_runbacks",
         "type": "scatter",
         "x": [
          "2015-03-29T07:51:40.752000",
          "2015-09-30T21:50:11.400000",
          "2016-03-30T20:28:43.800000",
          "2016-09-28T19:07:16.200000",
          "2017-03-29T17:45:48.600000",
          "2017-09-27T16:24:21",
          "2018-03-28T15:02:53.400000",
          "2018-09-26T13:41:25.800000",
          "2019-03-27T12:19:58.200000",
          "2019-09-25T10:58:30.600000",
          "2020-03-25T09:37:03",
          "2020-09-23T08:15:35.400000",
          "2021-03-24T06:54:07.800000",
          "2021-09-22T05:32:40.200000",
          "2022-03-23T04:11:12.600000",
          "2022-09-21T02:49:45",
          "2023-03-22T01:28:17.400000",
          "2023-09-20T00:06:49.800000",
          "2024-03-19T22:45:22.200000",
          "2024-09-17T21:23:54.600000"
         ],
         "y": [
          15,
          10,
          9,
          10,
          8,
          5,
          4,
          4,
          14,
          14,
          22,
          23,
          31,
          35,
          8,
          14,
          18,
          26,
          36,
          18
         ]
        },
        {
         "hoverinfo": "text",
         "hovertext": [
          "<b>Topic 8</b><br>Words: ncia, jogo, que, minhas, de",
          "<b>Topic 8</b><br>Words: el, horas, jogo, que, esta",
          "<b>Topic 8</b><br>Words: que, vez, mucho, es, de",
          "<b>Topic 8</b><br>Words: de, el, que, en, la",
          "<b>Topic 8</b><br>Words: de, que, la, en, su",
          "<b>Topic 8</b><br>Words: que, el, para, es, la",
          "<b>Topic 8</b><br>Words: quero, jogaaaaaaaaaaa, controle, para, de",
          "<b>Topic 8</b><br>Words: el, rango, totales, necesitas, castigara",
          "<b>Topic 8</b><br>Words: della, nico, jogo, que, jogar",
          "<b>Topic 8</b><br>Words: que, de, pero, juegazo, jogo",
          "<b>Topic 8</b><br>Words: jogo, um, muy, mto, de",
          "<b>Topic 8</b><br>Words: novo, de, que, jogo, um",
          "<b>Topic 8</b><br>Words: el, que, es, de, jogo",
          "<b>Topic 8</b><br>Words: de, que, jogo, um, mais",
          "<b>Topic 8</b><br>Words: feo, melhor, juego, de, jogo",
          "<b>Topic 8</b><br>Words: que, de, el, pra, jogo",
          "<b>Topic 8</b><br>Words: de, que, mejor, el, la",
          "<b>Topic 8</b><br>Words: te, amo, odeio, que, de",
          "<b>Topic 8</b><br>Words: de, que, juego, la, et",
          "<b>Topic 8</b><br>Words: de, que, jogo, la, el"
         ],
         "marker": {
          "color": "#56B4E9"
         },
         "mode": "lines",
         "name": "8_de_que_el_jogo",
         "type": "scatter",
         "x": [
          "2015-03-29T07:51:40.752000",
          "2015-09-30T21:50:11.400000",
          "2016-03-30T20:28:43.800000",
          "2016-09-28T19:07:16.200000",
          "2017-03-29T17:45:48.600000",
          "2017-09-27T16:24:21",
          "2018-03-28T15:02:53.400000",
          "2018-09-26T13:41:25.800000",
          "2019-03-27T12:19:58.200000",
          "2019-09-25T10:58:30.600000",
          "2020-03-25T09:37:03",
          "2020-09-23T08:15:35.400000",
          "2021-03-24T06:54:07.800000",
          "2021-09-22T05:32:40.200000",
          "2022-03-23T04:11:12.600000",
          "2022-09-21T02:49:45",
          "2023-03-22T01:28:17.400000",
          "2023-09-20T00:06:49.800000",
          "2024-03-19T22:45:22.200000",
          "2024-09-17T21:23:54.600000"
         ],
         "y": [
          3,
          3,
          4,
          7,
          5,
          4,
          1,
          5,
          5,
          21,
          16,
          29,
          24,
          23,
          7,
          19,
          26,
          26,
          23,
          42
         ]
        },
        {
         "hoverinfo": "text",
         "hovertext": [
          "<b>Topic 9</b><br>Words: great, excellent, greattttt, greatttttt, wwwww",
          "<b>Topic 9</b><br>Words: great, excellent, greattttt, greatttttt, wwwww",
          "<b>Topic 9</b><br>Words: great, excellent, greattttt, greatttttt, wwwww",
          "<b>Topic 9</b><br>Words: great, excellent, greattttt, greatttttt, wwwww",
          "<b>Topic 9</b><br>Words: great, excellent, greattttt, greatttttt, wwwww",
          "<b>Topic 9</b><br>Words: great, excellent, greattttt, greatttttt, wwwww",
          "<b>Topic 9</b><br>Words: great, excellent, greattttt, greatttttt, wwwww",
          "<b>Topic 9</b><br>Words: great, excellent, greattttt, greatttttt, wwwww",
          "<b>Topic 9</b><br>Words: great, excellent, greattttt, greatttttt, wwwww",
          "<b>Topic 9</b><br>Words: great, greatttttt, excellent, greattttt, wwwww",
          "<b>Topic 9</b><br>Words: great, greattttt, excellent, everyone, greatttttt",
          "<b>Topic 9</b><br>Words: great, wwwww, excellent, greattttt, greatttttt",
          "<b>Topic 9</b><br>Words: great, fking, excellent, greattttt, greatttttt",
          "<b>Topic 9</b><br>Words: great, excellent, greattttt, greatttttt, wwwww",
          "<b>Topic 9</b><br>Words: great, excellent, greattttt, greatttttt, wwwww",
          "<b>Topic 9</b><br>Words: great, excellent, greattttt, greatttttt, wwwww",
          "<b>Topic 9</b><br>Words: great, excellent, greattttt, greatttttt, wwwww",
          "<b>Topic 9</b><br>Words: great, excellent, greattttt, greatttttt, wwwww",
          "<b>Topic 9</b><br>Words: great, excellent, wonderful, greattttt, greatttttt",
          "<b>Topic 9</b><br>Words: great, excellent, greattttt, greatttttt, wwwww"
         ],
         "marker": {
          "color": "#009E73"
         },
         "mode": "lines",
         "name": "9_great_excellent_wwwww_greatttttt",
         "type": "scatter",
         "x": [
          "2015-03-29T07:51:40.752000",
          "2015-09-30T21:50:11.400000",
          "2016-03-30T20:28:43.800000",
          "2016-09-28T19:07:16.200000",
          "2017-03-29T17:45:48.600000",
          "2017-09-27T16:24:21",
          "2018-03-28T15:02:53.400000",
          "2018-09-26T13:41:25.800000",
          "2019-03-27T12:19:58.200000",
          "2019-09-25T10:58:30.600000",
          "2020-03-25T09:37:03",
          "2020-09-23T08:15:35.400000",
          "2021-03-24T06:54:07.800000",
          "2021-09-22T05:32:40.200000",
          "2022-03-23T04:11:12.600000",
          "2022-09-21T02:49:45",
          "2023-03-22T01:28:17.400000",
          "2023-09-20T00:06:49.800000",
          "2024-03-19T22:45:22.200000",
          "2024-09-17T21:23:54.600000"
         ],
         "y": [
          7,
          10,
          3,
          6,
          8,
          6,
          4,
          3,
          14,
          16,
          25,
          15,
          19,
          19,
          12,
          10,
          10,
          16,
          10,
          11
         ]
        }
       ],
       "layout": {
        "height": 450,
        "hoverlabel": {
         "bgcolor": "white",
         "font": {
          "family": "Rockwell",
          "size": 16
         }
        },
        "legend": {
         "title": {
          "text": "<b>Global Topic Representation"
         }
        },
        "template": {
         "data": {
          "bar": [
           {
            "error_x": {
             "color": "rgb(36,36,36)"
            },
            "error_y": {
             "color": "rgb(36,36,36)"
            },
            "marker": {
             "line": {
              "color": "white",
              "width": 0.5
             },
             "pattern": {
              "fillmode": "overlay",
              "size": 10,
              "solidity": 0.2
             }
            },
            "type": "bar"
           }
          ],
          "barpolar": [
           {
            "marker": {
             "line": {
              "color": "white",
              "width": 0.5
             },
             "pattern": {
              "fillmode": "overlay",
              "size": 10,
              "solidity": 0.2
             }
            },
            "type": "barpolar"
           }
          ],
          "carpet": [
           {
            "aaxis": {
             "endlinecolor": "rgb(36,36,36)",
             "gridcolor": "white",
             "linecolor": "white",
             "minorgridcolor": "white",
             "startlinecolor": "rgb(36,36,36)"
            },
            "baxis": {
             "endlinecolor": "rgb(36,36,36)",
             "gridcolor": "white",
             "linecolor": "white",
             "minorgridcolor": "white",
             "startlinecolor": "rgb(36,36,36)"
            },
            "type": "carpet"
           }
          ],
          "choropleth": [
           {
            "colorbar": {
             "outlinewidth": 1,
             "tickcolor": "rgb(36,36,36)",
             "ticks": "outside"
            },
            "type": "choropleth"
           }
          ],
          "contour": [
           {
            "colorbar": {
             "outlinewidth": 1,
             "tickcolor": "rgb(36,36,36)",
             "ticks": "outside"
            },
            "colorscale": [
             [
              0,
              "#440154"
             ],
             [
              0.1111111111111111,
              "#482878"
             ],
             [
              0.2222222222222222,
              "#3e4989"
             ],
             [
              0.3333333333333333,
              "#31688e"
             ],
             [
              0.4444444444444444,
              "#26828e"
             ],
             [
              0.5555555555555556,
              "#1f9e89"
             ],
             [
              0.6666666666666666,
              "#35b779"
             ],
             [
              0.7777777777777778,
              "#6ece58"
             ],
             [
              0.8888888888888888,
              "#b5de2b"
             ],
             [
              1,
              "#fde725"
             ]
            ],
            "type": "contour"
           }
          ],
          "contourcarpet": [
           {
            "colorbar": {
             "outlinewidth": 1,
             "tickcolor": "rgb(36,36,36)",
             "ticks": "outside"
            },
            "type": "contourcarpet"
           }
          ],
          "heatmap": [
           {
            "colorbar": {
             "outlinewidth": 1,
             "tickcolor": "rgb(36,36,36)",
             "ticks": "outside"
            },
            "colorscale": [
             [
              0,
              "#440154"
             ],
             [
              0.1111111111111111,
              "#482878"
             ],
             [
              0.2222222222222222,
              "#3e4989"
             ],
             [
              0.3333333333333333,
              "#31688e"
             ],
             [
              0.4444444444444444,
              "#26828e"
             ],
             [
              0.5555555555555556,
              "#1f9e89"
             ],
             [
              0.6666666666666666,
              "#35b779"
             ],
             [
              0.7777777777777778,
              "#6ece58"
             ],
             [
              0.8888888888888888,
              "#b5de2b"
             ],
             [
              1,
              "#fde725"
             ]
            ],
            "type": "heatmap"
           }
          ],
          "heatmapgl": [
           {
            "colorbar": {
             "outlinewidth": 1,
             "tickcolor": "rgb(36,36,36)",
             "ticks": "outside"
            },
            "colorscale": [
             [
              0,
              "#440154"
             ],
             [
              0.1111111111111111,
              "#482878"
             ],
             [
              0.2222222222222222,
              "#3e4989"
             ],
             [
              0.3333333333333333,
              "#31688e"
             ],
             [
              0.4444444444444444,
              "#26828e"
             ],
             [
              0.5555555555555556,
              "#1f9e89"
             ],
             [
              0.6666666666666666,
              "#35b779"
             ],
             [
              0.7777777777777778,
              "#6ece58"
             ],
             [
              0.8888888888888888,
              "#b5de2b"
             ],
             [
              1,
              "#fde725"
             ]
            ],
            "type": "heatmapgl"
           }
          ],
          "histogram": [
           {
            "marker": {
             "line": {
              "color": "white",
              "width": 0.6
             }
            },
            "type": "histogram"
           }
          ],
          "histogram2d": [
           {
            "colorbar": {
             "outlinewidth": 1,
             "tickcolor": "rgb(36,36,36)",
             "ticks": "outside"
            },
            "colorscale": [
             [
              0,
              "#440154"
             ],
             [
              0.1111111111111111,
              "#482878"
             ],
             [
              0.2222222222222222,
              "#3e4989"
             ],
             [
              0.3333333333333333,
              "#31688e"
             ],
             [
              0.4444444444444444,
              "#26828e"
             ],
             [
              0.5555555555555556,
              "#1f9e89"
             ],
             [
              0.6666666666666666,
              "#35b779"
             ],
             [
              0.7777777777777778,
              "#6ece58"
             ],
             [
              0.8888888888888888,
              "#b5de2b"
             ],
             [
              1,
              "#fde725"
             ]
            ],
            "type": "histogram2d"
           }
          ],
          "histogram2dcontour": [
           {
            "colorbar": {
             "outlinewidth": 1,
             "tickcolor": "rgb(36,36,36)",
             "ticks": "outside"
            },
            "colorscale": [
             [
              0,
              "#440154"
             ],
             [
              0.1111111111111111,
              "#482878"
             ],
             [
              0.2222222222222222,
              "#3e4989"
             ],
             [
              0.3333333333333333,
              "#31688e"
             ],
             [
              0.4444444444444444,
              "#26828e"
             ],
             [
              0.5555555555555556,
              "#1f9e89"
             ],
             [
              0.6666666666666666,
              "#35b779"
             ],
             [
              0.7777777777777778,
              "#6ece58"
             ],
             [
              0.8888888888888888,
              "#b5de2b"
             ],
             [
              1,
              "#fde725"
             ]
            ],
            "type": "histogram2dcontour"
           }
          ],
          "mesh3d": [
           {
            "colorbar": {
             "outlinewidth": 1,
             "tickcolor": "rgb(36,36,36)",
             "ticks": "outside"
            },
            "type": "mesh3d"
           }
          ],
          "parcoords": [
           {
            "line": {
             "colorbar": {
              "outlinewidth": 1,
              "tickcolor": "rgb(36,36,36)",
              "ticks": "outside"
             }
            },
            "type": "parcoords"
           }
          ],
          "pie": [
           {
            "automargin": true,
            "type": "pie"
           }
          ],
          "scatter": [
           {
            "fillpattern": {
             "fillmode": "overlay",
             "size": 10,
             "solidity": 0.2
            },
            "type": "scatter"
           }
          ],
          "scatter3d": [
           {
            "line": {
             "colorbar": {
              "outlinewidth": 1,
              "tickcolor": "rgb(36,36,36)",
              "ticks": "outside"
             }
            },
            "marker": {
             "colorbar": {
              "outlinewidth": 1,
              "tickcolor": "rgb(36,36,36)",
              "ticks": "outside"
             }
            },
            "type": "scatter3d"
           }
          ],
          "scattercarpet": [
           {
            "marker": {
             "colorbar": {
              "outlinewidth": 1,
              "tickcolor": "rgb(36,36,36)",
              "ticks": "outside"
             }
            },
            "type": "scattercarpet"
           }
          ],
          "scattergeo": [
           {
            "marker": {
             "colorbar": {
              "outlinewidth": 1,
              "tickcolor": "rgb(36,36,36)",
              "ticks": "outside"
             }
            },
            "type": "scattergeo"
           }
          ],
          "scattergl": [
           {
            "marker": {
             "colorbar": {
              "outlinewidth": 1,
              "tickcolor": "rgb(36,36,36)",
              "ticks": "outside"
             }
            },
            "type": "scattergl"
           }
          ],
          "scattermapbox": [
           {
            "marker": {
             "colorbar": {
              "outlinewidth": 1,
              "tickcolor": "rgb(36,36,36)",
              "ticks": "outside"
             }
            },
            "type": "scattermapbox"
           }
          ],
          "scatterpolar": [
           {
            "marker": {
             "colorbar": {
              "outlinewidth": 1,
              "tickcolor": "rgb(36,36,36)",
              "ticks": "outside"
             }
            },
            "type": "scatterpolar"
           }
          ],
          "scatterpolargl": [
           {
            "marker": {
             "colorbar": {
              "outlinewidth": 1,
              "tickcolor": "rgb(36,36,36)",
              "ticks": "outside"
             }
            },
            "type": "scatterpolargl"
           }
          ],
          "scatterternary": [
           {
            "marker": {
             "colorbar": {
              "outlinewidth": 1,
              "tickcolor": "rgb(36,36,36)",
              "ticks": "outside"
             }
            },
            "type": "scatterternary"
           }
          ],
          "surface": [
           {
            "colorbar": {
             "outlinewidth": 1,
             "tickcolor": "rgb(36,36,36)",
             "ticks": "outside"
            },
            "colorscale": [
             [
              0,
              "#440154"
             ],
             [
              0.1111111111111111,
              "#482878"
             ],
             [
              0.2222222222222222,
              "#3e4989"
             ],
             [
              0.3333333333333333,
              "#31688e"
             ],
             [
              0.4444444444444444,
              "#26828e"
             ],
             [
              0.5555555555555556,
              "#1f9e89"
             ],
             [
              0.6666666666666666,
              "#35b779"
             ],
             [
              0.7777777777777778,
              "#6ece58"
             ],
             [
              0.8888888888888888,
              "#b5de2b"
             ],
             [
              1,
              "#fde725"
             ]
            ],
            "type": "surface"
           }
          ],
          "table": [
           {
            "cells": {
             "fill": {
              "color": "rgb(237,237,237)"
             },
             "line": {
              "color": "white"
             }
            },
            "header": {
             "fill": {
              "color": "rgb(217,217,217)"
             },
             "line": {
              "color": "white"
             }
            },
            "type": "table"
           }
          ]
         },
         "layout": {
          "annotationdefaults": {
           "arrowhead": 0,
           "arrowwidth": 1
          },
          "autotypenumbers": "strict",
          "coloraxis": {
           "colorbar": {
            "outlinewidth": 1,
            "tickcolor": "rgb(36,36,36)",
            "ticks": "outside"
           }
          },
          "colorscale": {
           "diverging": [
            [
             0,
             "rgb(103,0,31)"
            ],
            [
             0.1,
             "rgb(178,24,43)"
            ],
            [
             0.2,
             "rgb(214,96,77)"
            ],
            [
             0.3,
             "rgb(244,165,130)"
            ],
            [
             0.4,
             "rgb(253,219,199)"
            ],
            [
             0.5,
             "rgb(247,247,247)"
            ],
            [
             0.6,
             "rgb(209,229,240)"
            ],
            [
             0.7,
             "rgb(146,197,222)"
            ],
            [
             0.8,
             "rgb(67,147,195)"
            ],
            [
             0.9,
             "rgb(33,102,172)"
            ],
            [
             1,
             "rgb(5,48,97)"
            ]
           ],
           "sequential": [
            [
             0,
             "#440154"
            ],
            [
             0.1111111111111111,
             "#482878"
            ],
            [
             0.2222222222222222,
             "#3e4989"
            ],
            [
             0.3333333333333333,
             "#31688e"
            ],
            [
             0.4444444444444444,
             "#26828e"
            ],
            [
             0.5555555555555556,
             "#1f9e89"
            ],
            [
             0.6666666666666666,
             "#35b779"
            ],
            [
             0.7777777777777778,
             "#6ece58"
            ],
            [
             0.8888888888888888,
             "#b5de2b"
            ],
            [
             1,
             "#fde725"
            ]
           ],
           "sequentialminus": [
            [
             0,
             "#440154"
            ],
            [
             0.1111111111111111,
             "#482878"
            ],
            [
             0.2222222222222222,
             "#3e4989"
            ],
            [
             0.3333333333333333,
             "#31688e"
            ],
            [
             0.4444444444444444,
             "#26828e"
            ],
            [
             0.5555555555555556,
             "#1f9e89"
            ],
            [
             0.6666666666666666,
             "#35b779"
            ],
            [
             0.7777777777777778,
             "#6ece58"
            ],
            [
             0.8888888888888888,
             "#b5de2b"
            ],
            [
             1,
             "#fde725"
            ]
           ]
          },
          "colorway": [
           "#1F77B4",
           "#FF7F0E",
           "#2CA02C",
           "#D62728",
           "#9467BD",
           "#8C564B",
           "#E377C2",
           "#7F7F7F",
           "#BCBD22",
           "#17BECF"
          ],
          "font": {
           "color": "rgb(36,36,36)"
          },
          "geo": {
           "bgcolor": "white",
           "lakecolor": "white",
           "landcolor": "white",
           "showlakes": true,
           "showland": true,
           "subunitcolor": "white"
          },
          "hoverlabel": {
           "align": "left"
          },
          "hovermode": "closest",
          "mapbox": {
           "style": "light"
          },
          "paper_bgcolor": "white",
          "plot_bgcolor": "white",
          "polar": {
           "angularaxis": {
            "gridcolor": "rgb(232,232,232)",
            "linecolor": "rgb(36,36,36)",
            "showgrid": false,
            "showline": true,
            "ticks": "outside"
           },
           "bgcolor": "white",
           "radialaxis": {
            "gridcolor": "rgb(232,232,232)",
            "linecolor": "rgb(36,36,36)",
            "showgrid": false,
            "showline": true,
            "ticks": "outside"
           }
          },
          "scene": {
           "xaxis": {
            "backgroundcolor": "white",
            "gridcolor": "rgb(232,232,232)",
            "gridwidth": 2,
            "linecolor": "rgb(36,36,36)",
            "showbackground": true,
            "showgrid": false,
            "showline": true,
            "ticks": "outside",
            "zeroline": false,
            "zerolinecolor": "rgb(36,36,36)"
           },
           "yaxis": {
            "backgroundcolor": "white",
            "gridcolor": "rgb(232,232,232)",
            "gridwidth": 2,
            "linecolor": "rgb(36,36,36)",
            "showbackground": true,
            "showgrid": false,
            "showline": true,
            "ticks": "outside",
            "zeroline": false,
            "zerolinecolor": "rgb(36,36,36)"
           },
           "zaxis": {
            "backgroundcolor": "white",
            "gridcolor": "rgb(232,232,232)",
            "gridwidth": 2,
            "linecolor": "rgb(36,36,36)",
            "showbackground": true,
            "showgrid": false,
            "showline": true,
            "ticks": "outside",
            "zeroline": false,
            "zerolinecolor": "rgb(36,36,36)"
           }
          },
          "shapedefaults": {
           "fillcolor": "black",
           "line": {
            "width": 0
           },
           "opacity": 0.3
          },
          "ternary": {
           "aaxis": {
            "gridcolor": "rgb(232,232,232)",
            "linecolor": "rgb(36,36,36)",
            "showgrid": false,
            "showline": true,
            "ticks": "outside"
           },
           "baxis": {
            "gridcolor": "rgb(232,232,232)",
            "linecolor": "rgb(36,36,36)",
            "showgrid": false,
            "showline": true,
            "ticks": "outside"
           },
           "bgcolor": "white",
           "caxis": {
            "gridcolor": "rgb(232,232,232)",
            "linecolor": "rgb(36,36,36)",
            "showgrid": false,
            "showline": true,
            "ticks": "outside"
           }
          },
          "title": {
           "x": 0.05
          },
          "xaxis": {
           "automargin": true,
           "gridcolor": "rgb(232,232,232)",
           "linecolor": "rgb(36,36,36)",
           "showgrid": false,
           "showline": true,
           "ticks": "outside",
           "title": {
            "standoff": 15
           },
           "zeroline": false,
           "zerolinecolor": "rgb(36,36,36)"
          },
          "yaxis": {
           "automargin": true,
           "gridcolor": "rgb(232,232,232)",
           "linecolor": "rgb(36,36,36)",
           "showgrid": false,
           "showline": true,
           "ticks": "outside",
           "title": {
            "standoff": 15
           },
           "zeroline": false,
           "zerolinecolor": "rgb(36,36,36)"
          }
         }
        },
        "title": {
         "font": {
          "color": "Black",
          "size": 22
         },
         "text": "<b>Topics over Time</b>",
         "x": 0.4,
         "xanchor": "center",
         "y": 0.95,
         "yanchor": "top"
        },
        "width": 1250,
        "xaxis": {
         "showgrid": true
        },
        "yaxis": {
         "showgrid": true,
         "title": {
          "text": "Frequency"
         }
        }
       }
      }
     },
     "metadata": {},
     "output_type": "display_data"
    }
   ],
   "source": [
    "pos_model.visualize_topics_over_time(pos_topics_over_time, top_n_topics=10)"
   ]
  },
  {
   "cell_type": "markdown",
   "metadata": {},
   "source": [
    "### Negative reviews:"
   ]
  },
  {
   "cell_type": "code",
   "execution_count": 16,
   "metadata": {},
   "outputs": [],
   "source": [
    "neg_model = BERTopic.load(\"models/bertopic_neg_model\")"
   ]
  },
  {
   "cell_type": "code",
   "execution_count": 17,
   "metadata": {},
   "outputs": [
    {
     "name": "stderr",
     "output_type": "stream",
     "text": [
      "20it [00:03,  5.66it/s]\n"
     ]
    }
   ],
   "source": [
    "neg_topics_over_time = neg_model.topics_over_time(neg_docs, neg_timestamps, nr_bins=20)"
   ]
  },
  {
   "cell_type": "code",
   "execution_count": 19,
   "metadata": {},
   "outputs": [
    {
     "data": {
      "application/vnd.plotly.v1+json": {
       "config": {
        "plotlyServerURL": "https://plot.ly"
       },
       "data": [
        {
         "hoverinfo": "text",
         "hovertext": [
          "<b>Topic 0</b><br>Words: enemies, get, new, patch, guy",
          "<b>Topic 0</b><br>Words: attacks, enemies, player, areas, sword",
          "<b>Topic 0</b><br>Words: fuck, data, shade, fucking, time",
          "<b>Topic 0</b><br>Words: player, one, enemies, area, boss",
          "<b>Topic 0</b><br>Words: boss, enemies, player, weapon, time",
          "<b>Topic 0</b><br>Words: boss, enemies, area, player, much",
          "<b>Topic 0</b><br>Words: enemies, time, even, boss, like",
          "<b>Topic 0</b><br>Words: get, hit, roll, even, enemies",
          "<b>Topic 0</b><br>Words: area, way, enemies, player, level",
          "<b>Topic 0</b><br>Words: enemies, one, enemy, area, like",
          "<b>Topic 0</b><br>Words: boss, enemies, player, fight, bosses",
          "<b>Topic 0</b><br>Words: enemies, bosses, boss, one, area",
          "<b>Topic 0</b><br>Words: boss, enemies, bosses, fight, enemy",
          "<b>Topic 0</b><br>Words: boss, enemies, player, enemy, even",
          "<b>Topic 0</b><br>Words: boss, time, get, enemies, like",
          "<b>Topic 0</b><br>Words: boss, enemies, player, bosses, get",
          "<b>Topic 0</b><br>Words: enemies, attack, boss, even, player",
          "<b>Topic 0</b><br>Words: boss, bosses, fight, enemies, hit",
          "<b>Topic 0</b><br>Words: enemies, boss, get, bosses, enemy",
          "<b>Topic 0</b><br>Words: enemies, boss, bosses, also, player"
         ],
         "marker": {
          "color": "#E69F00"
         },
         "mode": "lines",
         "name": "0_enemies_boss_player_bosses",
         "type": "scatter",
         "x": [
          "2015-03-29T08:44:21.032000",
          "2015-09-30T21:42:16.400000",
          "2016-03-30T19:21:24.800000",
          "2016-09-28T17:00:33.200000",
          "2017-03-29T14:39:41.600000",
          "2017-09-27T12:18:50",
          "2018-03-28T09:57:58.400000",
          "2018-09-26T07:37:06.800000",
          "2019-03-27T05:16:15.200000",
          "2019-09-25T02:55:23.600000",
          "2020-03-25T00:34:32",
          "2020-09-22T22:13:40.400000",
          "2021-03-23T19:52:48.800000",
          "2021-09-21T17:31:57.200000",
          "2022-03-22T15:11:05.600000",
          "2022-09-20T12:50:14",
          "2023-03-21T10:29:22.400000",
          "2023-09-19T08:08:30.800000",
          "2024-03-19T05:47:39.200000",
          "2024-09-17T03:26:47.600000"
         ],
         "y": [
          13,
          6,
          9,
          16,
          22,
          13,
          14,
          12,
          12,
          19,
          36,
          24,
          30,
          35,
          20,
          23,
          19,
          15,
          31,
          27
         ]
        },
        {
         "hoverinfo": "text",
         "hovertext": [
          "<b>Topic 1</b><br>Words: controller, keyboard, pc, xbox, mouse",
          "<b>Topic 1</b><br>Words: controller, keyboard, pc, mouse, port",
          "<b>Topic 1</b><br>Words: controller, pc, xbox, keyboard, port",
          "<b>Topic 1</b><br>Words: pc, keyboard, controller, mouse, port",
          "<b>Topic 1</b><br>Words: controller, keyboard, port, controls, pc",
          "<b>Topic 1</b><br>Words: controller, port, pc, keyboard, mouse",
          "<b>Topic 1</b><br>Words: mouse, keyboard, controller, pc, settings",
          "<b>Topic 1</b><br>Words: controller, pc, switch, port, xbox",
          "<b>Topic 1</b><br>Words: controller, keyboard, pc, xbox, mouse",
          "<b>Topic 1</b><br>Words: controller, mouse, keyboard, port, pc",
          "<b>Topic 1</b><br>Words: controller, keyboard, mouse, xbox, pc",
          "<b>Topic 1</b><br>Words: controller, pc, xbox, mouse, keyboard",
          "<b>Topic 1</b><br>Words: controller, keyboard, mouse, xbox, pc",
          "<b>Topic 1</b><br>Words: keyboard, mouse, port, pc, controller",
          "<b>Topic 1</b><br>Words: keyboard, controller, mouse, controls, port",
          "<b>Topic 1</b><br>Words: controller, keyboard, mouse, pc, port",
          "<b>Topic 1</b><br>Words: mouse, keyboard, controller, pc, button",
          "<b>Topic 1</b><br>Words: controller, mouse, keyboard, pc, port",
          "<b>Topic 1</b><br>Words: controller, port, mouse, xbox, pc",
          "<b>Topic 1</b><br>Words: controller, keyboard, port, mouse, pc"
         ],
         "marker": {
          "color": "#56B4E9"
         },
         "mode": "lines",
         "name": "1_controller_keyboard_mouse_pc",
         "type": "scatter",
         "x": [
          "2015-03-29T08:44:21.032000",
          "2015-09-30T21:42:16.400000",
          "2016-03-30T19:21:24.800000",
          "2016-09-28T17:00:33.200000",
          "2017-03-29T14:39:41.600000",
          "2017-09-27T12:18:50",
          "2018-03-28T09:57:58.400000",
          "2018-09-26T07:37:06.800000",
          "2019-03-27T05:16:15.200000",
          "2019-09-25T02:55:23.600000",
          "2020-03-25T00:34:32",
          "2020-09-22T22:13:40.400000",
          "2021-03-23T19:52:48.800000",
          "2021-09-21T17:31:57.200000",
          "2022-03-22T15:11:05.600000",
          "2022-09-20T12:50:14",
          "2023-03-21T10:29:22.400000",
          "2023-09-19T08:08:30.800000",
          "2024-03-19T05:47:39.200000",
          "2024-09-17T03:26:47.600000"
         ],
         "y": [
          42,
          33,
          18,
          14,
          46,
          12,
          13,
          12,
          9,
          8,
          23,
          16,
          21,
          20,
          15,
          15,
          18,
          19,
          17,
          24
         ]
        },
        {
         "hoverinfo": "text",
         "hovertext": [
          "<b>Topic 2</b><br>Words: burh, ahhhhhhhhhhhhhhhhhhhhhhhhhhhhhhhhhhhhhhhhhhhhhhhhhhhhhhhhhhhhhhhhhhhhhhhhhhhhhhhhhhhhhhhhhhhhhhhhhhhhhhhhhhhhhhhhhhhhhhhhhhhhhhhhhhhhhhhhhhhhhhhhhhhhhhhhhhhhhhhhhhhhhhhhhhhhhhhhhhhhhhhhhhhhhhhhhhhhhhhhhhhhhhhhhhhhhhhhhhhhhhhhhhhhhhhhhhhhhhhhhhhhhhhhhhhhhhhhhhhhhhhh, sos, werty, xddddddddddddddddddddddddddddddddddddddddddddddddddddddddddddddddddddddddddddddddddddddddddddddddddddddddddddddddddddddddddddddddddddddddddddddddddddddddddddddddddddddddddddddddddddddddddddddddddddddddddddddddddddddddddddddddddddddddddddddddddddddddddddddddddddddddddddddddddddddddddddddddddddddddddddddddddddddddddddddddddddddddddddddddddddddddddddddddddddddddddddddddddddddddddddddddddddddddddddddddddddddddddddddddddddddddddddddddddd",
          "<b>Topic 2</b><br>Words: burh, ahhhhhhhhhhhhhhhhhhhhhhhhhhhhhhhhhhhhhhhhhhhhhhhhhhhhhhhhhhhhhhhhhhhhhhhhhhhhhhhhhhhhhhhhhhhhhhhhhhhhhhhhhhhhhhhhhhhhhhhhhhhhhhhhhhhhhhhhhhhhhhhhhhhhhhhhhhhhhhhhhhhhhhhhhhhhhhhhhhhhhhhhhhhhhhhhhhhhhhhhhhhhhhhhhhhhhhhhhhhhhhhhhhhhhhhhhhhhhhhhhhhhhhhhhhhhhhhhhhhhhhhh, sos, werty, xddddddddddddddddddddddddddddddddddddddddddddddddddddddddddddddddddddddddddddddddddddddddddddddddddddddddddddddddddddddddddddddddddddddddddddddddddddddddddddddddddddddddddddddddddddddddddddddddddddddddddddddddddddddddddddddddddddddddddddddddddddddddddddddddddddddddddddddddddddddddddddddddddddddddddddddddddddddddddddddddddddddddddddddddddddddddddddddddddddddddddddddddddddddddddddddddddddddddddddddddddddddddddddddddddddddddddddddddddd",
          "<b>Topic 2</b><br>Words: burh, ahhhhhhhhhhhhhhhhhhhhhhhhhhhhhhhhhhhhhhhhhhhhhhhhhhhhhhhhhhhhhhhhhhhhhhhhhhhhhhhhhhhhhhhhhhhhhhhhhhhhhhhhhhhhhhhhhhhhhhhhhhhhhhhhhhhhhhhhhhhhhhhhhhhhhhhhhhhhhhhhhhhhhhhhhhhhhhhhhhhhhhhhhhhhhhhhhhhhhhhhhhhhhhhhhhhhhhhhhhhhhhhhhhhhhhhhhhhhhhhhhhhhhhhhhhhhhhhhhhhhhhhh, sos, werty, xddddddddddddddddddddddddddddddddddddddddddddddddddddddddddddddddddddddddddddddddddddddddddddddddddddddddddddddddddddddddddddddddddddddddddddddddddddddddddddddddddddddddddddddddddddddddddddddddddddddddddddddddddddddddddddddddddddddddddddddddddddddddddddddddddddddddddddddddddddddddddddddddddddddddddddddddddddddddddddddddddddddddddddddddddddddddddddddddddddddddddddddddddddddddddddddddddddddddddddddddddddddddddddddddddddddddddddddddddd",
          "<b>Topic 2</b><br>Words: burh, ahhhhhhhhhhhhhhhhhhhhhhhhhhhhhhhhhhhhhhhhhhhhhhhhhhhhhhhhhhhhhhhhhhhhhhhhhhhhhhhhhhhhhhhhhhhhhhhhhhhhhhhhhhhhhhhhhhhhhhhhhhhhhhhhhhhhhhhhhhhhhhhhhhhhhhhhhhhhhhhhhhhhhhhhhhhhhhhhhhhhhhhhhhhhhhhhhhhhhhhhhhhhhhhhhhhhhhhhhhhhhhhhhhhhhhhhhhhhhhhhhhhhhhhhhhhhhhhhhhhhhhhh, sos, werty, xddddddddddddddddddddddddddddddddddddddddddddddddddddddddddddddddddddddddddddddddddddddddddddddddddddddddddddddddddddddddddddddddddddddddddddddddddddddddddddddddddddddddddddddddddddddddddddddddddddddddddddddddddddddddddddddddddddddddddddddddddddddddddddddddddddddddddddddddddddddddddddddddddddddddddddddddddddddddddddddddddddddddddddddddddddddddddddddddddddddddddddddddddddddddddddddddddddddddddddddddddddddddddddddddddddddddddddddddddd",
          "<b>Topic 2</b><br>Words: burh, ahhhhhhhhhhhhhhhhhhhhhhhhhhhhhhhhhhhhhhhhhhhhhhhhhhhhhhhhhhhhhhhhhhhhhhhhhhhhhhhhhhhhhhhhhhhhhhhhhhhhhhhhhhhhhhhhhhhhhhhhhhhhhhhhhhhhhhhhhhhhhhhhhhhhhhhhhhhhhhhhhhhhhhhhhhhhhhhhhhhhhhhhhhhhhhhhhhhhhhhhhhhhhhhhhhhhhhhhhhhhhhhhhhhhhhhhhhhhhhhhhhhhhhhhhhhhhhhhhhhhhhhh, sos, werty, xddddddddddddddddddddddddddddddddddddddddddddddddddddddddddddddddddddddddddddddddddddddddddddddddddddddddddddddddddddddddddddddddddddddddddddddddddddddddddddddddddddddddddddddddddddddddddddddddddddddddddddddddddddddddddddddddddddddddddddddddddddddddddddddddddddddddddddddddddddddddddddddddddddddddddddddddddddddddddddddddddddddddddddddddddddddddddddddddddddddddddddddddddddddddddddddddddddddddddddddddddddddddddddddddddddddddddddddddddd",
          "<b>Topic 2</b><br>Words: burh, ahhhhhhhhhhhhhhhhhhhhhhhhhhhhhhhhhhhhhhhhhhhhhhhhhhhhhhhhhhhhhhhhhhhhhhhhhhhhhhhhhhhhhhhhhhhhhhhhhhhhhhhhhhhhhhhhhhhhhhhhhhhhhhhhhhhhhhhhhhhhhhhhhhhhhhhhhhhhhhhhhhhhhhhhhhhhhhhhhhhhhhhhhhhhhhhhhhhhhhhhhhhhhhhhhhhhhhhhhhhhhhhhhhhhhhhhhhhhhhhhhhhhhhhhhhhhhhhhhhhhhhhh, sos, werty, xddddddddddddddddddddddddddddddddddddddddddddddddddddddddddddddddddddddddddddddddddddddddddddddddddddddddddddddddddddddddddddddddddddddddddddddddddddddddddddddddddddddddddddddddddddddddddddddddddddddddddddddddddddddddddddddddddddddddddddddddddddddddddddddddddddddddddddddddddddddddddddddddddddddddddddddddddddddddddddddddddddddddddddddddddddddddddddddddddddddddddddddddddddddddddddddddddddddddddddddddddddddddddddddddddddddddddddddddddd",
          "<b>Topic 2</b><br>Words: burh, ahhhhhhhhhhhhhhhhhhhhhhhhhhhhhhhhhhhhhhhhhhhhhhhhhhhhhhhhhhhhhhhhhhhhhhhhhhhhhhhhhhhhhhhhhhhhhhhhhhhhhhhhhhhhhhhhhhhhhhhhhhhhhhhhhhhhhhhhhhhhhhhhhhhhhhhhhhhhhhhhhhhhhhhhhhhhhhhhhhhhhhhhhhhhhhhhhhhhhhhhhhhhhhhhhhhhhhhhhhhhhhhhhhhhhhhhhhhhhhhhhhhhhhhhhhhhhhhhhhhhhhhh, sos, werty, xddddddddddddddddddddddddddddddddddddddddddddddddddddddddddddddddddddddddddddddddddddddddddddddddddddddddddddddddddddddddddddddddddddddddddddddddddddddddddddddddddddddddddddddddddddddddddddddddddddddddddddddddddddddddddddddddddddddddddddddddddddddddddddddddddddddddddddddddddddddddddddddddddddddddddddddddddddddddddddddddddddddddddddddddddddddddddddddddddddddddddddddddddddddddddddddddddddddddddddddddddddddddddddddddddddddddddddddddddd",
          "<b>Topic 2</b><br>Words: burh, ahhhhhhhhhhhhhhhhhhhhhhhhhhhhhhhhhhhhhhhhhhhhhhhhhhhhhhhhhhhhhhhhhhhhhhhhhhhhhhhhhhhhhhhhhhhhhhhhhhhhhhhhhhhhhhhhhhhhhhhhhhhhhhhhhhhhhhhhhhhhhhhhhhhhhhhhhhhhhhhhhhhhhhhhhhhhhhhhhhhhhhhhhhhhhhhhhhhhhhhhhhhhhhhhhhhhhhhhhhhhhhhhhhhhhhhhhhhhhhhhhhhhhhhhhhhhhhhhhhhhhhhh, sos, werty, xddddddddddddddddddddddddddddddddddddddddddddddddddddddddddddddddddddddddddddddddddddddddddddddddddddddddddddddddddddddddddddddddddddddddddddddddddddddddddddddddddddddddddddddddddddddddddddddddddddddddddddddddddddddddddddddddddddddddddddddddddddddddddddddddddddddddddddddddddddddddddddddddddddddddddddddddddddddddddddddddddddddddddddddddddddddddddddddddddddddddddddddddddddddddddddddddddddddddddddddddddddddddddddddddddddddddddddddddddd",
          "<b>Topic 2</b><br>Words: burh, ahhhhhhhhhhhhhhhhhhhhhhhhhhhhhhhhhhhhhhhhhhhhhhhhhhhhhhhhhhhhhhhhhhhhhhhhhhhhhhhhhhhhhhhhhhhhhhhhhhhhhhhhhhhhhhhhhhhhhhhhhhhhhhhhhhhhhhhhhhhhhhhhhhhhhhhhhhhhhhhhhhhhhhhhhhhhhhhhhhhhhhhhhhhhhhhhhhhhhhhhhhhhhhhhhhhhhhhhhhhhhhhhhhhhhhhhhhhhhhhhhhhhhhhhhhhhhhhhhhhhhhhh, sos, werty, xddddddddddddddddddddddddddddddddddddddddddddddddddddddddddddddddddddddddddddddddddddddddddddddddddddddddddddddddddddddddddddddddddddddddddddddddddddddddddddddddddddddddddddddddddddddddddddddddddddddddddddddddddddddddddddddddddddddddddddddddddddddddddddddddddddddddddddddddddddddddddddddddddddddddddddddddddddddddddddddddddddddddddddddddddddddddddddddddddddddddddddddddddddddddddddddddddddddddddddddddddddddddddddddddddddddddddddddddddd",
          "<b>Topic 2</b><br>Words: burh, ahhhhhhhhhhhhhhhhhhhhhhhhhhhhhhhhhhhhhhhhhhhhhhhhhhhhhhhhhhhhhhhhhhhhhhhhhhhhhhhhhhhhhhhhhhhhhhhhhhhhhhhhhhhhhhhhhhhhhhhhhhhhhhhhhhhhhhhhhhhhhhhhhhhhhhhhhhhhhhhhhhhhhhhhhhhhhhhhhhhhhhhhhhhhhhhhhhhhhhhhhhhhhhhhhhhhhhhhhhhhhhhhhhhhhhhhhhhhhhhhhhhhhhhhhhhhhhhhhhhhhhhh, sos, werty, xddddddddddddddddddddddddddddddddddddddddddddddddddddddddddddddddddddddddddddddddddddddddddddddddddddddddddddddddddddddddddddddddddddddddddddddddddddddddddddddddddddddddddddddddddddddddddddddddddddddddddddddddddddddddddddddddddddddddddddddddddddddddddddddddddddddddddddddddddddddddddddddddddddddddddddddddddddddddddddddddddddddddddddddddddddddddddddddddddddddddddddddddddddddddddddddddddddddddddddddddddddddddddddddddddddddddddddddddddd",
          "<b>Topic 2</b><br>Words: werty, burh, ahhhhhhhhhhhhhhhhhhhhhhhhhhhhhhhhhhhhhhhhhhhhhhhhhhhhhhhhhhhhhhhhhhhhhhhhhhhhhhhhhhhhhhhhhhhhhhhhhhhhhhhhhhhhhhhhhhhhhhhhhhhhhhhhhhhhhhhhhhhhhhhhhhhhhhhhhhhhhhhhhhhhhhhhhhhhhhhhhhhhhhhhhhhhhhhhhhhhhhhhhhhhhhhhhhhhhhhhhhhhhhhhhhhhhhhhhhhhhhhhhhhhhhhhhhhhhhhhhhhhhhhh, sos, xddddddddddddddddddddddddddddddddddddddddddddddddddddddddddddddddddddddddddddddddddddddddddddddddddddddddddddddddddddddddddddddddddddddddddddddddddddddddddddddddddddddddddddddddddddddddddddddddddddddddddddddddddddddddddddddddddddddddddddddddddddddddddddddddddddddddddddddddddddddddddddddddddddddddddddddddddddddddddddddddddddddddddddddddddddddddddddddddddddddddddddddddddddddddddddddddddddddddddddddddddddddddddddddddddddddddddddddddddd",
          "<b>Topic 2</b><br>Words: last, burh, ahhhhhhhhhhhhhhhhhhhhhhhhhhhhhhhhhhhhhhhhhhhhhhhhhhhhhhhhhhhhhhhhhhhhhhhhhhhhhhhhhhhhhhhhhhhhhhhhhhhhhhhhhhhhhhhhhhhhhhhhhhhhhhhhhhhhhhhhhhhhhhhhhhhhhhhhhhhhhhhhhhhhhhhhhhhhhhhhhhhhhhhhhhhhhhhhhhhhhhhhhhhhhhhhhhhhhhhhhhhhhhhhhhhhhhhhhhhhhhhhhhhhhhhhhhhhhhhhhhhhhhhh, sos, werty",
          "<b>Topic 2</b><br>Words: long, burh, ahhhhhhhhhhhhhhhhhhhhhhhhhhhhhhhhhhhhhhhhhhhhhhhhhhhhhhhhhhhhhhhhhhhhhhhhhhhhhhhhhhhhhhhhhhhhhhhhhhhhhhhhhhhhhhhhhhhhhhhhhhhhhhhhhhhhhhhhhhhhhhhhhhhhhhhhhhhhhhhhhhhhhhhhhhhhhhhhhhhhhhhhhhhhhhhhhhhhhhhhhhhhhhhhhhhhhhhhhhhhhhhhhhhhhhhhhhhhhhhhhhhhhhhhhhhhhhhhhhhhhhhh, sos, werty",
          "<b>Topic 2</b><br>Words: burh, xddddddddddddddddddddddddddddddddddddddddddddddddddddddddddddddddddddddddddddddddddddddddddddddddddddddddddddddddddddddddddddddddddddddddddddddddddddddddddddddddddddddddddddddddddddddddddddddddddddddddddddddddddddddddddddddddddddddddddddddddddddddddddddddddddddddddddddddddddddddddddddddddddddddddddddddddddddddddddddddddddddddddddddddddddddddddddddddddddddddddddddddddddddddddddddddddddddddddddddddddddddddddddddddddddddddddddddddddddd, frames, ahhhhhhhhhhhhhhhhhhhhhhhhhhhhhhhhhhhhhhhhhhhhhhhhhhhhhhhhhhhhhhhhhhhhhhhhhhhhhhhhhhhhhhhhhhhhhhhhhhhhhhhhhhhhhhhhhhhhhhhhhhhhhhhhhhhhhhhhhhhhhhhhhhhhhhhhhhhhhhhhhhhhhhhhhhhhhhhhhhhhhhhhhhhhhhhhhhhhhhhhhhhhhhhhhhhhhhhhhhhhhhhhhhhhhhhhhhhhhhhhhhhhhhhhhhhhhhhhhhhhhhhh, sos",
          "<b>Topic 2</b><br>Words: burh, ahhhhhhhhhhhhhhhhhhhhhhhhhhhhhhhhhhhhhhhhhhhhhhhhhhhhhhhhhhhhhhhhhhhhhhhhhhhhhhhhhhhhhhhhhhhhhhhhhhhhhhhhhhhhhhhhhhhhhhhhhhhhhhhhhhhhhhhhhhhhhhhhhhhhhhhhhhhhhhhhhhhhhhhhhhhhhhhhhhhhhhhhhhhhhhhhhhhhhhhhhhhhhhhhhhhhhhhhhhhhhhhhhhhhhhhhhhhhhhhhhhhhhhhhhhhhhhhhhhhhhhhh, sos, werty, xddddddddddddddddddddddddddddddddddddddddddddddddddddddddddddddddddddddddddddddddddddddddddddddddddddddddddddddddddddddddddddddddddddddddddddddddddddddddddddddddddddddddddddddddddddddddddddddddddddddddddddddddddddddddddddddddddddddddddddddddddddddddddddddddddddddddddddddddddddddddddddddddddddddddddddddddddddddddddddddddddddddddddddddddddddddddddddddddddddddddddddddddddddddddddddddddddddddddddddddddddddddddddddddddddddddddddddddddddd",
          "<b>Topic 2</b><br>Words: xd, burh, ahhhhhhhhhhhhhhhhhhhhhhhhhhhhhhhhhhhhhhhhhhhhhhhhhhhhhhhhhhhhhhhhhhhhhhhhhhhhhhhhhhhhhhhhhhhhhhhhhhhhhhhhhhhhhhhhhhhhhhhhhhhhhhhhhhhhhhhhhhhhhhhhhhhhhhhhhhhhhhhhhhhhhhhhhhhhhhhhhhhhhhhhhhhhhhhhhhhhhhhhhhhhhhhhhhhhhhhhhhhhhhhhhhhhhhhhhhhhhhhhhhhhhhhhhhhhhhhhhhhhhhhh, sos, werty",
          "<b>Topic 2</b><br>Words: ahhhhhhhhhhhhhhhhhhhhhhhhhhhhhhhhhhhhhhhhhhhhhhhhhhhhhhhhhhhhhhhhhhhhhhhhhhhhhhhhhhhhhhhhhhhhhhhhhhhhhhhhhhhhhhhhhhhhhhhhhhhhhhhhhhhhhhhhhhhhhhhhhhhhhhhhhhhhhhhhhhhhhhhhhhhhhhhhhhhhhhhhhhhhhhhhhhhhhhhhhhhhhhhhhhhhhhhhhhhhhhhhhhhhhhhhhhhhhhhhhhhhhhhhhhhhhhhhhhhhhhhh, burh, sos, werty, xddddddddddddddddddddddddddddddddddddddddddddddddddddddddddddddddddddddddddddddddddddddddddddddddddddddddddddddddddddddddddddddddddddddddddddddddddddddddddddddddddddddddddddddddddddddddddddddddddddddddddddddddddddddddddddddddddddddddddddddddddddddddddddddddddddddddddddddddddddddddddddddddddddddddddddddddddddddddddddddddddddddddddddddddddddddddddddddddddddddddddddddddddddddddddddddddddddddddddddddddddddddddddddddddddddddddddddddddddd",
          "<b>Topic 2</b><br>Words: sos, burh, ahhhhhhhhhhhhhhhhhhhhhhhhhhhhhhhhhhhhhhhhhhhhhhhhhhhhhhhhhhhhhhhhhhhhhhhhhhhhhhhhhhhhhhhhhhhhhhhhhhhhhhhhhhhhhhhhhhhhhhhhhhhhhhhhhhhhhhhhhhhhhhhhhhhhhhhhhhhhhhhhhhhhhhhhhhhhhhhhhhhhhhhhhhhhhhhhhhhhhhhhhhhhhhhhhhhhhhhhhhhhhhhhhhhhhhhhhhhhhhhhhhhhhhhhhhhhhhhhhhhhhhhh, werty, xddddddddddddddddddddddddddddddddddddddddddddddddddddddddddddddddddddddddddddddddddddddddddddddddddddddddddddddddddddddddddddddddddddddddddddddddddddddddddddddddddddddddddddddddddddddddddddddddddddddddddddddddddddddddddddddddddddddddddddddddddddddddddddddddddddddddddddddddddddddddddddddddddddddddddddddddddddddddddddddddddddddddddddddddddddddddddddddddddddddddddddddddddddddddddddddddddddddddddddddddddddddddddddddddddddddddddddddddddd",
          "<b>Topic 2</b><br>Words: burh, ahhhhhhhhhhhhhhhhhhhhhhhhhhhhhhhhhhhhhhhhhhhhhhhhhhhhhhhhhhhhhhhhhhhhhhhhhhhhhhhhhhhhhhhhhhhhhhhhhhhhhhhhhhhhhhhhhhhhhhhhhhhhhhhhhhhhhhhhhhhhhhhhhhhhhhhhhhhhhhhhhhhhhhhhhhhhhhhhhhhhhhhhhhhhhhhhhhhhhhhhhhhhhhhhhhhhhhhhhhhhhhhhhhhhhhhhhhhhhhhhhhhhhhhhhhhhhhhhhhhhhhhh, sos, werty, xddddddddddddddddddddddddddddddddddddddddddddddddddddddddddddddddddddddddddddddddddddddddddddddddddddddddddddddddddddddddddddddddddddddddddddddddddddddddddddddddddddddddddddddddddddddddddddddddddddddddddddddddddddddddddddddddddddddddddddddddddddddddddddddddddddddddddddddddddddddddddddddddddddddddddddddddddddddddddddddddddddddddddddddddddddddddddddddddddddddddddddddddddddddddddddddddddddddddddddddddddddddddddddddddddddddddddddddddddd",
          "<b>Topic 2</b><br>Words: kys, xy, bro, burh, ahhhhhhhhhhhhhhhhhhhhhhhhhhhhhhhhhhhhhhhhhhhhhhhhhhhhhhhhhhhhhhhhhhhhhhhhhhhhhhhhhhhhhhhhhhhhhhhhhhhhhhhhhhhhhhhhhhhhhhhhhhhhhhhhhhhhhhhhhhhhhhhhhhhhhhhhhhhhhhhhhhhhhhhhhhhhhhhhhhhhhhhhhhhhhhhhhhhhhhhhhhhhhhhhhhhhhhhhhhhhhhhhhhhhhhhhhhhhhhhhhhhhhhhhhhhhhhhhhhhhhhhh"
         ],
         "marker": {
          "color": "#009E73"
         },
         "mode": "lines",
         "name": "2_xddddddddddddddddddddddddddddddddddddd...",
         "type": "scatter",
         "x": [
          "2015-03-29T08:44:21.032000",
          "2015-09-30T21:42:16.400000",
          "2016-03-30T19:21:24.800000",
          "2016-09-28T17:00:33.200000",
          "2017-03-29T14:39:41.600000",
          "2017-09-27T12:18:50",
          "2018-03-28T09:57:58.400000",
          "2018-09-26T07:37:06.800000",
          "2019-03-27T05:16:15.200000",
          "2019-09-25T02:55:23.600000",
          "2020-03-25T00:34:32",
          "2020-09-22T22:13:40.400000",
          "2021-03-23T19:52:48.800000",
          "2021-09-21T17:31:57.200000",
          "2022-03-22T15:11:05.600000",
          "2022-09-20T12:50:14",
          "2023-03-21T10:29:22.400000",
          "2023-09-19T08:08:30.800000",
          "2024-03-19T05:47:39.200000",
          "2024-09-17T03:26:47.600000"
         ],
         "y": [
          1,
          1,
          4,
          3,
          2,
          1,
          1,
          3,
          8,
          12,
          18,
          14,
          26,
          34,
          26,
          16,
          22,
          33,
          31,
          31
         ]
        },
        {
         "hoverinfo": "text",
         "hovertext": [
          "<b>Topic 3</b><br>Words: shortly, absent, quitting, bloodborne, busy",
          "<b>Topic 3</b><br>Words: trough, competing, soulsgame, roof, genuinly",
          "<b>Topic 3</b><br>Words: exponentially, soulborne, prequel, garbage, soulsborne",
          "<b>Topic 3</b><br>Words: woth, thuroughly, catagorey, bloodsouls, presumably",
          "<b>Topic 3</b><br>Words: response, characater, hellspawn, realease, lied",
          "<b>Topic 3</b><br>Words: soulsborne, entry, sekiro, obtusely, clumsiest",
          "<b>Topic 3</b><br>Words: soulsborne, sekiro, bloodborne, games, played",
          "<b>Topic 3</b><br>Words: soulsborne, bloodborne, sekiro, overlook, throw",
          "<b>Topic 3</b><br>Words: soulsborne, forgetable, sekiro, glitches, poorly",
          "<b>Topic 3</b><br>Words: soulsborne, sekiro, soulslike, surge, bloodborne",
          "<b>Topic 3</b><br>Words: soulsborne, sekiro, social, bloodborne, dice",
          "<b>Topic 3</b><br>Words: soulsborne, soulslike, bloodborne, sekiro, else",
          "<b>Topic 3</b><br>Words: soulsborne, whilst, held, easiest, gimmicked",
          "<b>Topic 3</b><br>Words: soulsborne, redeemable, soulslike, monday, soulborne",
          "<b>Topic 3</b><br>Words: soulsborne, bullsh, fromsoft, miserable, annnnd",
          "<b>Topic 3</b><br>Words: soulsborne, ive, replays, refer, corrupt"
         ],
         "marker": {
          "color": "#F0E442"
         },
         "mode": "lines",
         "name": "3_soulsborne_sekiro_bloodborne_played",
         "type": "scatter",
         "x": [
          "2015-03-29T08:44:21.032000",
          "2016-03-30T19:21:24.800000",
          "2017-03-29T14:39:41.600000",
          "2018-03-28T09:57:58.400000",
          "2018-09-26T07:37:06.800000",
          "2019-03-27T05:16:15.200000",
          "2020-03-25T00:34:32",
          "2020-09-22T22:13:40.400000",
          "2021-03-23T19:52:48.800000",
          "2021-09-21T17:31:57.200000",
          "2022-03-22T15:11:05.600000",
          "2022-09-20T12:50:14",
          "2023-03-21T10:29:22.400000",
          "2023-09-19T08:08:30.800000",
          "2024-03-19T05:47:39.200000",
          "2024-09-17T03:26:47.600000"
         ],
         "y": [
          1,
          1,
          2,
          2,
          3,
          4,
          9,
          6,
          6,
          11,
          13,
          7,
          10,
          7,
          5,
          6
         ]
        },
        {
         "hoverinfo": "text",
         "hovertext": [
          "<b>Topic 4</b><br>Words: bad, haha, fantastic, sorry, say",
          "<b>Topic 4</b><br>Words: bad, haha, fantastic, sorry, say",
          "<b>Topic 4</b><br>Words: bad, haha, fantastic, sorry, say",
          "<b>Topic 4</b><br>Words: bad, haha, fantastic, sorry, say",
          "<b>Topic 4</b><br>Words: bad, haha, fantastic, sorry, say",
          "<b>Topic 4</b><br>Words: bad, haha, fantastic, sorry, say",
          "<b>Topic 4</b><br>Words: bad, haha, fantastic, sorry, say",
          "<b>Topic 4</b><br>Words: bad, haha, fantastic, sorry, say",
          "<b>Topic 4</b><br>Words: bad, haha, fantastic, sorry, say",
          "<b>Topic 4</b><br>Words: bad, haha, fantastic, sorry, say",
          "<b>Topic 4</b><br>Words: bad, sorry, haha, fantastic, say",
          "<b>Topic 4</b><br>Words: bad, haha, fantastic, sorry, say",
          "<b>Topic 4</b><br>Words: bad, fantastic, haha, sorry, say",
          "<b>Topic 4</b><br>Words: bad, haha, say, really, fantastic",
          "<b>Topic 4</b><br>Words: bad, haha, fantastic, sorry, say"
         ],
         "marker": {
          "color": "#D55E00"
         },
         "mode": "lines",
         "name": "4_bad_haha_fantastic_sorry",
         "type": "scatter",
         "x": [
          "2017-03-29T14:39:41.600000",
          "2017-09-27T12:18:50",
          "2018-03-28T09:57:58.400000",
          "2019-03-27T05:16:15.200000",
          "2019-09-25T02:55:23.600000",
          "2020-03-25T00:34:32",
          "2020-09-22T22:13:40.400000",
          "2021-03-23T19:52:48.800000",
          "2021-09-21T17:31:57.200000",
          "2022-03-22T15:11:05.600000",
          "2022-09-20T12:50:14",
          "2023-03-21T10:29:22.400000",
          "2023-09-19T08:08:30.800000",
          "2024-03-19T05:47:39.200000",
          "2024-09-17T03:26:47.600000"
         ],
         "y": [
          1,
          1,
          1,
          3,
          4,
          9,
          4,
          13,
          13,
          6,
          2,
          9,
          3,
          14,
          8
         ]
        },
        {
         "hoverinfo": "text",
         "hovertext": [
          "<b>Topic 5</b><br>Words: recomment, season, dlc, rewind, pass",
          "<b>Topic 5</b><br>Words: dlc, cod, dragons, clusterfucks, firelinkshine",
          "<b>Topic 5</b><br>Words: dlc, ardent, admirers, dysfunctional, kinda",
          "<b>Topic 5</b><br>Words: replayed, replay, prepare, including, finished",
          "<b>Topic 5</b><br>Words: discount, dlc, bought, free, practices",
          "<b>Topic 5</b><br>Words: dlc, original, fixing, playable, emplore",
          "<b>Topic 5</b><br>Words: learned, lesson, failures, sweet, dlc",
          "<b>Topic 5</b><br>Words: dlc, gon, dlcs, na, farming",
          "<b>Topic 5</b><br>Words: quality, another, dlc, worse, buy",
          "<b>Topic 5</b><br>Words: dlc, fucking, goty, ez, year",
          "<b>Topic 5</b><br>Words: dlc, ever, pathetic, beat, hydrochloric",
          "<b>Topic 5</b><br>Words: dlcs, step, dlc, ctrl, tehe",
          "<b>Topic 5</b><br>Words: dlc, goon, squad, ofcoures, cesspit",
          "<b>Topic 5</b><br>Words: seek, quality, mon, dlcs, snow",
          "<b>Topic 5</b><br>Words: dlc, original, previously, muuch, daaaaamn",
          "<b>Topic 5</b><br>Words: zzuh, zuh, reproducible, lijkop, pibjlkz",
          "<b>Topic 5</b><br>Words: dlc, certify, centrelink, spicy, executable",
          "<b>Topic 5</b><br>Words: quarz, longsword, yellow, dlc, picked",
          "<b>Topic 5</b><br>Words: dlc, dlcs, putrid, aggravate, starfish"
         ],
         "marker": {
          "color": "#0072B2"
         },
         "mode": "lines",
         "name": "5_dlc_dlcs_buy_original",
         "type": "scatter",
         "x": [
          "2015-03-29T08:44:21.032000",
          "2015-09-30T21:42:16.400000",
          "2016-03-30T19:21:24.800000",
          "2016-09-28T17:00:33.200000",
          "2017-03-29T14:39:41.600000",
          "2018-03-28T09:57:58.400000",
          "2018-09-26T07:37:06.800000",
          "2019-03-27T05:16:15.200000",
          "2019-09-25T02:55:23.600000",
          "2020-03-25T00:34:32",
          "2020-09-22T22:13:40.400000",
          "2021-03-23T19:52:48.800000",
          "2021-09-21T17:31:57.200000",
          "2022-03-22T15:11:05.600000",
          "2022-09-20T12:50:14",
          "2023-03-21T10:29:22.400000",
          "2023-09-19T08:08:30.800000",
          "2024-03-19T05:47:39.200000",
          "2024-09-17T03:26:47.600000"
         ],
         "y": [
          4,
          6,
          3,
          1,
          2,
          4,
          2,
          3,
          1,
          8,
          5,
          7,
          10,
          3,
          6,
          4,
          6,
          7,
          8
         ]
        },
        {
         "hoverinfo": "text",
         "hovertext": [
          "<b>Topic 6</b><br>Words: mobs, trash, ever, bin, muk",
          "<b>Topic 6</b><br>Words: caca, trash, bin, muk, underrated",
          "<b>Topic 6</b><br>Words: trash, bb, plain, simple, core",
          "<b>Topic 6</b><br>Words: trash, bin, muk, underrated, actual",
          "<b>Topic 6</b><br>Words: trash, bin, muk, underrated, actual",
          "<b>Topic 6</b><br>Words: whacanisay, trash, disgusting, bin, muk",
          "<b>Topic 6</b><br>Words: trash, bin, muk, underrated, actual",
          "<b>Topic 6</b><br>Words: trash, waste, life, garbage, fuck",
          "<b>Topic 6</b><br>Words: trash, mang, pickler, dah, bin",
          "<b>Topic 6</b><br>Words: trash, troglodytes, bin, iq, lined",
          "<b>Topic 6</b><br>Words: trash, fucking, broken, bin, muk",
          "<b>Topic 6</b><br>Words: trash, lit, rush, bugs, iii",
          "<b>Topic 6</b><br>Words: muk, trash, dog, guy, actual",
          "<b>Topic 6</b><br>Words: trash, beings, underrated, overhated, planet",
          "<b>Topic 6</b><br>Words: trash, schholar, cos, bin, tl",
          "<b>Topic 6</b><br>Words: trash, fcking, ass, stupid, far",
          "<b>Topic 6</b><br>Words: trash, dogpile, underrated, hearing, whoever",
          "<b>Topic 6</b><br>Words: trash, hella, literally, experience, bin"
         ],
         "marker": {
          "color": "#CC79A7"
         },
         "mode": "lines",
         "name": "6_trash_bin_muk_underrated",
         "type": "scatter",
         "x": [
          "2015-03-29T08:44:21.032000",
          "2015-09-30T21:42:16.400000",
          "2016-09-28T17:00:33.200000",
          "2017-03-29T14:39:41.600000",
          "2018-03-28T09:57:58.400000",
          "2018-09-26T07:37:06.800000",
          "2019-03-27T05:16:15.200000",
          "2019-09-25T02:55:23.600000",
          "2020-03-25T00:34:32",
          "2020-09-22T22:13:40.400000",
          "2021-03-23T19:52:48.800000",
          "2021-09-21T17:31:57.200000",
          "2022-03-22T15:11:05.600000",
          "2022-09-20T12:50:14",
          "2023-03-21T10:29:22.400000",
          "2023-09-19T08:08:30.800000",
          "2024-03-19T05:47:39.200000",
          "2024-09-17T03:26:47.600000"
         ],
         "y": [
          1,
          2,
          2,
          1,
          5,
          2,
          2,
          2,
          6,
          6,
          8,
          12,
          2,
          9,
          5,
          4,
          13,
          6
         ]
        },
        {
         "hoverinfo": "text",
         "hovertext": [
          "<b>Topic 7</b><br>Words: pvp, pve, host, laggy, orb",
          "<b>Topic 7</b><br>Words: pvp, pve, begging, con, absurdly",
          "<b>Topic 7</b><br>Words: pvp, bots, pve, invading, marvellously",
          "<b>Topic 7</b><br>Words: nostaligia, disrespect, creators, pvp, tone",
          "<b>Topic 7</b><br>Words: pvp, pve, replayabylity, emulated, techinical",
          "<b>Topic 7</b><br>Words: pvp, crowd, jumped, total, forced",
          "<b>Topic 7</b><br>Words: pvp, rematch, anime, gamedesign, implimented",
          "<b>Topic 7</b><br>Words: desynchronization, iv, pvp, redeemable, bash",
          "<b>Topic 7</b><br>Words: nitpicking, pvm, sweaty, overs, sounding",
          "<b>Topic 7</b><br>Words: pvp, hitboxex, inst, involuntary, lagging",
          "<b>Topic 7</b><br>Words: pvp, playtime, state, toothpick, laggier",
          "<b>Topic 7</b><br>Words: pvp, ceases, wise, losses, players",
          "<b>Topic 7</b><br>Words: pvp, balanced, best, pve, players",
          "<b>Topic 7</b><br>Words: hundo, pvp, afwul, scamed, saing",
          "<b>Topic 7</b><br>Words: touched, pvp, bloodborune, pve, simplest",
          "<b>Topic 7</b><br>Words: vulnerabilities, protecting, exploits, fans, pvp",
          "<b>Topic 7</b><br>Words: pvp, beg, layouts, franchise, tac",
          "<b>Topic 7</b><br>Words: pvp, noobslayer, fashionsouls, kitted, sweaty",
          "<b>Topic 7</b><br>Words: pvp, percenting, tailored, lordvessel, roadblocks",
          "<b>Topic 7</b><br>Words: pvp, hord, boo, flooded, platinumed"
         ],
         "marker": {
          "color": "#E69F00"
         },
         "mode": "lines",
         "name": "7_pvp_pve_players_lag",
         "type": "scatter",
         "x": [
          "2015-03-29T08:44:21.032000",
          "2015-09-30T21:42:16.400000",
          "2016-03-30T19:21:24.800000",
          "2016-09-28T17:00:33.200000",
          "2017-03-29T14:39:41.600000",
          "2017-09-27T12:18:50",
          "2018-03-28T09:57:58.400000",
          "2018-09-26T07:37:06.800000",
          "2019-03-27T05:16:15.200000",
          "2019-09-25T02:55:23.600000",
          "2020-03-25T00:34:32",
          "2020-09-22T22:13:40.400000",
          "2021-03-23T19:52:48.800000",
          "2021-09-21T17:31:57.200000",
          "2022-03-22T15:11:05.600000",
          "2022-09-20T12:50:14",
          "2023-03-21T10:29:22.400000",
          "2023-09-19T08:08:30.800000",
          "2024-03-19T05:47:39.200000",
          "2024-09-17T03:26:47.600000"
         ],
         "y": [
          11,
          3,
          3,
          2,
          4,
          3,
          7,
          2,
          1,
          4,
          5,
          7,
          6,
          4,
          4,
          2,
          7,
          5,
          3,
          3
         ]
        },
        {
         "hoverinfo": "text",
         "hovertext": [
          "<b>Topic 8</b><br>Words: shitbox, tryhard, phantom, hits, love",
          "<b>Topic 8</b><br>Words: hitboxes, terrible, seen, ever, worst",
          "<b>Topic 8</b><br>Words: supplement, stuffed, cardboard, boxes, hitbox",
          "<b>Topic 8</b><br>Words: hitboxes, thing, boxes, hit, hitbox",
          "<b>Topic 8</b><br>Words: broken, borked, realise, hitboxes, boxes",
          "<b>Topic 8</b><br>Words: hitboxes, limitless, pour, nonsensical, seemingly",
          "<b>Topic 8</b><br>Words: hitboxes, hurtboxes, blank, dagger, threw",
          "<b>Topic 8</b><br>Words: hitboxes, boxes, riddle, shithole, minecraft",
          "<b>Topic 8</b><br>Words: pisspoor, hitbox, platformer, hitboxes, clunkier",
          "<b>Topic 8</b><br>Words: hitboxes, size, retardisam, morrowind, di",
          "<b>Topic 8</b><br>Words: hitboxes, shitty, boxes, shittybosses, shortsword",
          "<b>Topic 8</b><br>Words: hitboxes, hitbox, noose, stepchild, shoulder",
          "<b>Topic 8</b><br>Words: ah, goofy, boxes, hitbox, must",
          "<b>Topic 8</b><br>Words: fartbox, ss, whack, boxes, bro",
          "<b>Topic 8</b><br>Words: boxes, hitboxes, size, idiots, hit",
          "<b>Topic 8</b><br>Words: hitboxes, terriuble, asf, corrupt, boxes",
          "<b>Topic 8</b><br>Words: hitboxes, commisions, pyrocynicals, hitboxex, hit"
         ],
         "marker": {
          "color": "#56B4E9"
         },
         "mode": "lines",
         "name": "8_hitboxes_boxes_hit_hitbox",
         "type": "scatter",
         "x": [
          "2016-03-30T19:21:24.800000",
          "2016-09-28T17:00:33.200000",
          "2017-09-27T12:18:50",
          "2018-03-28T09:57:58.400000",
          "2018-09-26T07:37:06.800000",
          "2019-03-27T05:16:15.200000",
          "2019-09-25T02:55:23.600000",
          "2020-03-25T00:34:32",
          "2020-09-22T22:13:40.400000",
          "2021-03-23T19:52:48.800000",
          "2021-09-21T17:31:57.200000",
          "2022-03-22T15:11:05.600000",
          "2022-09-20T12:50:14",
          "2023-03-21T10:29:22.400000",
          "2023-09-19T08:08:30.800000",
          "2024-03-19T05:47:39.200000",
          "2024-09-17T03:26:47.600000"
         ],
         "y": [
          2,
          1,
          2,
          1,
          2,
          4,
          3,
          5,
          4,
          8,
          9,
          7,
          2,
          3,
          6,
          6,
          6
         ]
        },
        {
         "hoverinfo": "text",
         "hovertext": [
          "<b>Topic 9</b><br>Words: hate, fucking, gamei, hated, dislike",
          "<b>Topic 9</b><br>Words: hate, gamei, fucking, hated, dislike",
          "<b>Topic 9</b><br>Words: hate, japan, thanks, gamei, nothing",
          "<b>Topic 9</b><br>Words: throught, hate, never, gamei, much",
          "<b>Topic 9</b><br>Words: hate, liking, bitching, gamei, wind",
          "<b>Topic 9</b><br>Words: hate, wagon, belive, gamei, deserves",
          "<b>Topic 9</b><br>Words: hate, somebody, likes, fucking, man",
          "<b>Topic 9</b><br>Words: hate, gamei, fucking, claiming, wh",
          "<b>Topic 9</b><br>Words: hate, dislike, bullshish, fucking, nvm",
          "<b>Topic 9</b><br>Words: gamei, hate, fucking, confidently, cell",
          "<b>Topic 9</b><br>Words: hate, fucking, hated, gamei, tried",
          "<b>Topic 9</b><br>Words: hate, gamei, fucking, hated, bench",
          "<b>Topic 9</b><br>Words: hate, fucking, gamei, deserves, dislike",
          "<b>Topic 9</b><br>Words: hate, gamei, disgraced, fucking, receives"
         ],
         "marker": {
          "color": "#009E73"
         },
         "mode": "lines",
         "name": "9_hate_gamei_fucking_hated",
         "type": "scatter",
         "x": [
          "2016-09-28T17:00:33.200000",
          "2017-09-27T12:18:50",
          "2018-03-28T09:57:58.400000",
          "2019-03-27T05:16:15.200000",
          "2020-03-25T00:34:32",
          "2020-09-22T22:13:40.400000",
          "2021-03-23T19:52:48.800000",
          "2021-09-21T17:31:57.200000",
          "2022-03-22T15:11:05.600000",
          "2022-09-20T12:50:14",
          "2023-03-21T10:29:22.400000",
          "2023-09-19T08:08:30.800000",
          "2024-03-19T05:47:39.200000",
          "2024-09-17T03:26:47.600000"
         ],
         "y": [
          1,
          1,
          3,
          1,
          5,
          1,
          4,
          5,
          8,
          6,
          4,
          8,
          11,
          9
         ]
        }
       ],
       "layout": {
        "height": 450,
        "hoverlabel": {
         "bgcolor": "white",
         "font": {
          "family": "Rockwell",
          "size": 16
         }
        },
        "legend": {
         "title": {
          "text": "<b>Global Topic Representation"
         }
        },
        "template": {
         "data": {
          "bar": [
           {
            "error_x": {
             "color": "rgb(36,36,36)"
            },
            "error_y": {
             "color": "rgb(36,36,36)"
            },
            "marker": {
             "line": {
              "color": "white",
              "width": 0.5
             },
             "pattern": {
              "fillmode": "overlay",
              "size": 10,
              "solidity": 0.2
             }
            },
            "type": "bar"
           }
          ],
          "barpolar": [
           {
            "marker": {
             "line": {
              "color": "white",
              "width": 0.5
             },
             "pattern": {
              "fillmode": "overlay",
              "size": 10,
              "solidity": 0.2
             }
            },
            "type": "barpolar"
           }
          ],
          "carpet": [
           {
            "aaxis": {
             "endlinecolor": "rgb(36,36,36)",
             "gridcolor": "white",
             "linecolor": "white",
             "minorgridcolor": "white",
             "startlinecolor": "rgb(36,36,36)"
            },
            "baxis": {
             "endlinecolor": "rgb(36,36,36)",
             "gridcolor": "white",
             "linecolor": "white",
             "minorgridcolor": "white",
             "startlinecolor": "rgb(36,36,36)"
            },
            "type": "carpet"
           }
          ],
          "choropleth": [
           {
            "colorbar": {
             "outlinewidth": 1,
             "tickcolor": "rgb(36,36,36)",
             "ticks": "outside"
            },
            "type": "choropleth"
           }
          ],
          "contour": [
           {
            "colorbar": {
             "outlinewidth": 1,
             "tickcolor": "rgb(36,36,36)",
             "ticks": "outside"
            },
            "colorscale": [
             [
              0,
              "#440154"
             ],
             [
              0.1111111111111111,
              "#482878"
             ],
             [
              0.2222222222222222,
              "#3e4989"
             ],
             [
              0.3333333333333333,
              "#31688e"
             ],
             [
              0.4444444444444444,
              "#26828e"
             ],
             [
              0.5555555555555556,
              "#1f9e89"
             ],
             [
              0.6666666666666666,
              "#35b779"
             ],
             [
              0.7777777777777778,
              "#6ece58"
             ],
             [
              0.8888888888888888,
              "#b5de2b"
             ],
             [
              1,
              "#fde725"
             ]
            ],
            "type": "contour"
           }
          ],
          "contourcarpet": [
           {
            "colorbar": {
             "outlinewidth": 1,
             "tickcolor": "rgb(36,36,36)",
             "ticks": "outside"
            },
            "type": "contourcarpet"
           }
          ],
          "heatmap": [
           {
            "colorbar": {
             "outlinewidth": 1,
             "tickcolor": "rgb(36,36,36)",
             "ticks": "outside"
            },
            "colorscale": [
             [
              0,
              "#440154"
             ],
             [
              0.1111111111111111,
              "#482878"
             ],
             [
              0.2222222222222222,
              "#3e4989"
             ],
             [
              0.3333333333333333,
              "#31688e"
             ],
             [
              0.4444444444444444,
              "#26828e"
             ],
             [
              0.5555555555555556,
              "#1f9e89"
             ],
             [
              0.6666666666666666,
              "#35b779"
             ],
             [
              0.7777777777777778,
              "#6ece58"
             ],
             [
              0.8888888888888888,
              "#b5de2b"
             ],
             [
              1,
              "#fde725"
             ]
            ],
            "type": "heatmap"
           }
          ],
          "heatmapgl": [
           {
            "colorbar": {
             "outlinewidth": 1,
             "tickcolor": "rgb(36,36,36)",
             "ticks": "outside"
            },
            "colorscale": [
             [
              0,
              "#440154"
             ],
             [
              0.1111111111111111,
              "#482878"
             ],
             [
              0.2222222222222222,
              "#3e4989"
             ],
             [
              0.3333333333333333,
              "#31688e"
             ],
             [
              0.4444444444444444,
              "#26828e"
             ],
             [
              0.5555555555555556,
              "#1f9e89"
             ],
             [
              0.6666666666666666,
              "#35b779"
             ],
             [
              0.7777777777777778,
              "#6ece58"
             ],
             [
              0.8888888888888888,
              "#b5de2b"
             ],
             [
              1,
              "#fde725"
             ]
            ],
            "type": "heatmapgl"
           }
          ],
          "histogram": [
           {
            "marker": {
             "line": {
              "color": "white",
              "width": 0.6
             }
            },
            "type": "histogram"
           }
          ],
          "histogram2d": [
           {
            "colorbar": {
             "outlinewidth": 1,
             "tickcolor": "rgb(36,36,36)",
             "ticks": "outside"
            },
            "colorscale": [
             [
              0,
              "#440154"
             ],
             [
              0.1111111111111111,
              "#482878"
             ],
             [
              0.2222222222222222,
              "#3e4989"
             ],
             [
              0.3333333333333333,
              "#31688e"
             ],
             [
              0.4444444444444444,
              "#26828e"
             ],
             [
              0.5555555555555556,
              "#1f9e89"
             ],
             [
              0.6666666666666666,
              "#35b779"
             ],
             [
              0.7777777777777778,
              "#6ece58"
             ],
             [
              0.8888888888888888,
              "#b5de2b"
             ],
             [
              1,
              "#fde725"
             ]
            ],
            "type": "histogram2d"
           }
          ],
          "histogram2dcontour": [
           {
            "colorbar": {
             "outlinewidth": 1,
             "tickcolor": "rgb(36,36,36)",
             "ticks": "outside"
            },
            "colorscale": [
             [
              0,
              "#440154"
             ],
             [
              0.1111111111111111,
              "#482878"
             ],
             [
              0.2222222222222222,
              "#3e4989"
             ],
             [
              0.3333333333333333,
              "#31688e"
             ],
             [
              0.4444444444444444,
              "#26828e"
             ],
             [
              0.5555555555555556,
              "#1f9e89"
             ],
             [
              0.6666666666666666,
              "#35b779"
             ],
             [
              0.7777777777777778,
              "#6ece58"
             ],
             [
              0.8888888888888888,
              "#b5de2b"
             ],
             [
              1,
              "#fde725"
             ]
            ],
            "type": "histogram2dcontour"
           }
          ],
          "mesh3d": [
           {
            "colorbar": {
             "outlinewidth": 1,
             "tickcolor": "rgb(36,36,36)",
             "ticks": "outside"
            },
            "type": "mesh3d"
           }
          ],
          "parcoords": [
           {
            "line": {
             "colorbar": {
              "outlinewidth": 1,
              "tickcolor": "rgb(36,36,36)",
              "ticks": "outside"
             }
            },
            "type": "parcoords"
           }
          ],
          "pie": [
           {
            "automargin": true,
            "type": "pie"
           }
          ],
          "scatter": [
           {
            "fillpattern": {
             "fillmode": "overlay",
             "size": 10,
             "solidity": 0.2
            },
            "type": "scatter"
           }
          ],
          "scatter3d": [
           {
            "line": {
             "colorbar": {
              "outlinewidth": 1,
              "tickcolor": "rgb(36,36,36)",
              "ticks": "outside"
             }
            },
            "marker": {
             "colorbar": {
              "outlinewidth": 1,
              "tickcolor": "rgb(36,36,36)",
              "ticks": "outside"
             }
            },
            "type": "scatter3d"
           }
          ],
          "scattercarpet": [
           {
            "marker": {
             "colorbar": {
              "outlinewidth": 1,
              "tickcolor": "rgb(36,36,36)",
              "ticks": "outside"
             }
            },
            "type": "scattercarpet"
           }
          ],
          "scattergeo": [
           {
            "marker": {
             "colorbar": {
              "outlinewidth": 1,
              "tickcolor": "rgb(36,36,36)",
              "ticks": "outside"
             }
            },
            "type": "scattergeo"
           }
          ],
          "scattergl": [
           {
            "marker": {
             "colorbar": {
              "outlinewidth": 1,
              "tickcolor": "rgb(36,36,36)",
              "ticks": "outside"
             }
            },
            "type": "scattergl"
           }
          ],
          "scattermapbox": [
           {
            "marker": {
             "colorbar": {
              "outlinewidth": 1,
              "tickcolor": "rgb(36,36,36)",
              "ticks": "outside"
             }
            },
            "type": "scattermapbox"
           }
          ],
          "scatterpolar": [
           {
            "marker": {
             "colorbar": {
              "outlinewidth": 1,
              "tickcolor": "rgb(36,36,36)",
              "ticks": "outside"
             }
            },
            "type": "scatterpolar"
           }
          ],
          "scatterpolargl": [
           {
            "marker": {
             "colorbar": {
              "outlinewidth": 1,
              "tickcolor": "rgb(36,36,36)",
              "ticks": "outside"
             }
            },
            "type": "scatterpolargl"
           }
          ],
          "scatterternary": [
           {
            "marker": {
             "colorbar": {
              "outlinewidth": 1,
              "tickcolor": "rgb(36,36,36)",
              "ticks": "outside"
             }
            },
            "type": "scatterternary"
           }
          ],
          "surface": [
           {
            "colorbar": {
             "outlinewidth": 1,
             "tickcolor": "rgb(36,36,36)",
             "ticks": "outside"
            },
            "colorscale": [
             [
              0,
              "#440154"
             ],
             [
              0.1111111111111111,
              "#482878"
             ],
             [
              0.2222222222222222,
              "#3e4989"
             ],
             [
              0.3333333333333333,
              "#31688e"
             ],
             [
              0.4444444444444444,
              "#26828e"
             ],
             [
              0.5555555555555556,
              "#1f9e89"
             ],
             [
              0.6666666666666666,
              "#35b779"
             ],
             [
              0.7777777777777778,
              "#6ece58"
             ],
             [
              0.8888888888888888,
              "#b5de2b"
             ],
             [
              1,
              "#fde725"
             ]
            ],
            "type": "surface"
           }
          ],
          "table": [
           {
            "cells": {
             "fill": {
              "color": "rgb(237,237,237)"
             },
             "line": {
              "color": "white"
             }
            },
            "header": {
             "fill": {
              "color": "rgb(217,217,217)"
             },
             "line": {
              "color": "white"
             }
            },
            "type": "table"
           }
          ]
         },
         "layout": {
          "annotationdefaults": {
           "arrowhead": 0,
           "arrowwidth": 1
          },
          "autotypenumbers": "strict",
          "coloraxis": {
           "colorbar": {
            "outlinewidth": 1,
            "tickcolor": "rgb(36,36,36)",
            "ticks": "outside"
           }
          },
          "colorscale": {
           "diverging": [
            [
             0,
             "rgb(103,0,31)"
            ],
            [
             0.1,
             "rgb(178,24,43)"
            ],
            [
             0.2,
             "rgb(214,96,77)"
            ],
            [
             0.3,
             "rgb(244,165,130)"
            ],
            [
             0.4,
             "rgb(253,219,199)"
            ],
            [
             0.5,
             "rgb(247,247,247)"
            ],
            [
             0.6,
             "rgb(209,229,240)"
            ],
            [
             0.7,
             "rgb(146,197,222)"
            ],
            [
             0.8,
             "rgb(67,147,195)"
            ],
            [
             0.9,
             "rgb(33,102,172)"
            ],
            [
             1,
             "rgb(5,48,97)"
            ]
           ],
           "sequential": [
            [
             0,
             "#440154"
            ],
            [
             0.1111111111111111,
             "#482878"
            ],
            [
             0.2222222222222222,
             "#3e4989"
            ],
            [
             0.3333333333333333,
             "#31688e"
            ],
            [
             0.4444444444444444,
             "#26828e"
            ],
            [
             0.5555555555555556,
             "#1f9e89"
            ],
            [
             0.6666666666666666,
             "#35b779"
            ],
            [
             0.7777777777777778,
             "#6ece58"
            ],
            [
             0.8888888888888888,
             "#b5de2b"
            ],
            [
             1,
             "#fde725"
            ]
           ],
           "sequentialminus": [
            [
             0,
             "#440154"
            ],
            [
             0.1111111111111111,
             "#482878"
            ],
            [
             0.2222222222222222,
             "#3e4989"
            ],
            [
             0.3333333333333333,
             "#31688e"
            ],
            [
             0.4444444444444444,
             "#26828e"
            ],
            [
             0.5555555555555556,
             "#1f9e89"
            ],
            [
             0.6666666666666666,
             "#35b779"
            ],
            [
             0.7777777777777778,
             "#6ece58"
            ],
            [
             0.8888888888888888,
             "#b5de2b"
            ],
            [
             1,
             "#fde725"
            ]
           ]
          },
          "colorway": [
           "#1F77B4",
           "#FF7F0E",
           "#2CA02C",
           "#D62728",
           "#9467BD",
           "#8C564B",
           "#E377C2",
           "#7F7F7F",
           "#BCBD22",
           "#17BECF"
          ],
          "font": {
           "color": "rgb(36,36,36)"
          },
          "geo": {
           "bgcolor": "white",
           "lakecolor": "white",
           "landcolor": "white",
           "showlakes": true,
           "showland": true,
           "subunitcolor": "white"
          },
          "hoverlabel": {
           "align": "left"
          },
          "hovermode": "closest",
          "mapbox": {
           "style": "light"
          },
          "paper_bgcolor": "white",
          "plot_bgcolor": "white",
          "polar": {
           "angularaxis": {
            "gridcolor": "rgb(232,232,232)",
            "linecolor": "rgb(36,36,36)",
            "showgrid": false,
            "showline": true,
            "ticks": "outside"
           },
           "bgcolor": "white",
           "radialaxis": {
            "gridcolor": "rgb(232,232,232)",
            "linecolor": "rgb(36,36,36)",
            "showgrid": false,
            "showline": true,
            "ticks": "outside"
           }
          },
          "scene": {
           "xaxis": {
            "backgroundcolor": "white",
            "gridcolor": "rgb(232,232,232)",
            "gridwidth": 2,
            "linecolor": "rgb(36,36,36)",
            "showbackground": true,
            "showgrid": false,
            "showline": true,
            "ticks": "outside",
            "zeroline": false,
            "zerolinecolor": "rgb(36,36,36)"
           },
           "yaxis": {
            "backgroundcolor": "white",
            "gridcolor": "rgb(232,232,232)",
            "gridwidth": 2,
            "linecolor": "rgb(36,36,36)",
            "showbackground": true,
            "showgrid": false,
            "showline": true,
            "ticks": "outside",
            "zeroline": false,
            "zerolinecolor": "rgb(36,36,36)"
           },
           "zaxis": {
            "backgroundcolor": "white",
            "gridcolor": "rgb(232,232,232)",
            "gridwidth": 2,
            "linecolor": "rgb(36,36,36)",
            "showbackground": true,
            "showgrid": false,
            "showline": true,
            "ticks": "outside",
            "zeroline": false,
            "zerolinecolor": "rgb(36,36,36)"
           }
          },
          "shapedefaults": {
           "fillcolor": "black",
           "line": {
            "width": 0
           },
           "opacity": 0.3
          },
          "ternary": {
           "aaxis": {
            "gridcolor": "rgb(232,232,232)",
            "linecolor": "rgb(36,36,36)",
            "showgrid": false,
            "showline": true,
            "ticks": "outside"
           },
           "baxis": {
            "gridcolor": "rgb(232,232,232)",
            "linecolor": "rgb(36,36,36)",
            "showgrid": false,
            "showline": true,
            "ticks": "outside"
           },
           "bgcolor": "white",
           "caxis": {
            "gridcolor": "rgb(232,232,232)",
            "linecolor": "rgb(36,36,36)",
            "showgrid": false,
            "showline": true,
            "ticks": "outside"
           }
          },
          "title": {
           "x": 0.05
          },
          "xaxis": {
           "automargin": true,
           "gridcolor": "rgb(232,232,232)",
           "linecolor": "rgb(36,36,36)",
           "showgrid": false,
           "showline": true,
           "ticks": "outside",
           "title": {
            "standoff": 15
           },
           "zeroline": false,
           "zerolinecolor": "rgb(36,36,36)"
          },
          "yaxis": {
           "automargin": true,
           "gridcolor": "rgb(232,232,232)",
           "linecolor": "rgb(36,36,36)",
           "showgrid": false,
           "showline": true,
           "ticks": "outside",
           "title": {
            "standoff": 15
           },
           "zeroline": false,
           "zerolinecolor": "rgb(36,36,36)"
          }
         }
        },
        "title": {
         "font": {
          "color": "Black",
          "size": 22
         },
         "text": "<b>Topics over Time</b>",
         "x": 0.4,
         "xanchor": "center",
         "y": 0.95,
         "yanchor": "top"
        },
        "width": 1250,
        "xaxis": {
         "showgrid": true
        },
        "yaxis": {
         "showgrid": true,
         "title": {
          "text": "Frequency"
         }
        }
       }
      }
     },
     "metadata": {},
     "output_type": "display_data"
    }
   ],
   "source": [
    "neg_model.visualize_topics_over_time(neg_topics_over_time, top_n_topics=10)"
   ]
  },
  {
   "cell_type": "code",
   "execution_count": null,
   "metadata": {},
   "outputs": [],
   "source": []
  }
 ],
 "metadata": {
  "kernelspec": {
   "display_name": "base",
   "language": "python",
   "name": "python3"
  },
  "language_info": {
   "codemirror_mode": {
    "name": "ipython",
    "version": 3
   },
   "file_extension": ".py",
   "mimetype": "text/x-python",
   "name": "python",
   "nbconvert_exporter": "python",
   "pygments_lexer": "ipython3",
   "version": "3.11.4"
  }
 },
 "nbformat": 4,
 "nbformat_minor": 2
}
