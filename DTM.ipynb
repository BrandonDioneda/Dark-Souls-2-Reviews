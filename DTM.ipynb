{
 "cells": [
  {
   "cell_type": "markdown",
   "metadata": {},
   "source": [
    "# Dark Souls II Reviews (2025)"
   ]
  },
  {
   "cell_type": "code",
   "execution_count": 1,
   "metadata": {},
   "outputs": [
    {
     "name": "stdout",
     "output_type": "stream",
     "text": [
      "WARNING:tensorflow:From C:\\Users\\bdion\\AppData\\Roaming\\Python\\Python311\\site-packages\\tf_keras\\src\\losses.py:2976: The name tf.losses.sparse_softmax_cross_entropy is deprecated. Please use tf.compat.v1.losses.sparse_softmax_cross_entropy instead.\n",
      "\n"
     ]
    }
   ],
   "source": [
    "from get_data import *\n",
    "from bertopic import BERTopic"
   ]
  },
  {
   "cell_type": "code",
   "execution_count": 2,
   "metadata": {},
   "outputs": [],
   "source": [
    "reviews = get_data()"
   ]
  },
  {
   "cell_type": "markdown",
   "metadata": {},
   "source": [
    "## Topic Modeling:\n",
    "- Exploring certain aspects on why people like the game\n",
    "    - Also get critiques of the game in positive reviews (if any but there sure is considering DS2's reputation in the community)\n",
    "\n",
    "- Exploring why people don't like the game:\n",
    "    - Also get positive aspects within this subset of the reviews"
   ]
  },
  {
   "cell_type": "markdown",
   "metadata": {},
   "source": [
    "Splitting the reviews by how many do and don't recommend buying the game:"
   ]
  },
  {
   "cell_type": "code",
   "execution_count": 3,
   "metadata": {},
   "outputs": [],
   "source": [
    "pos_reviews = reviews[reviews['voted_up'] == True]\n",
    "neg_reviews = reviews[reviews['voted_up'] == False]"
   ]
  },
  {
   "cell_type": "code",
   "execution_count": 4,
   "metadata": {},
   "outputs": [
    {
     "data": {
      "text/plain": [
       "((55777, 10), (11222, 10))"
      ]
     },
     "execution_count": 4,
     "metadata": {},
     "output_type": "execute_result"
    }
   ],
   "source": [
    "pos_reviews.shape, neg_reviews.shape"
   ]
  },
  {
   "cell_type": "markdown",
   "metadata": {},
   "source": [
    "### DTM:"
   ]
  },
  {
   "cell_type": "markdown",
   "metadata": {},
   "source": [
    "- Useful for analyzing trends in text over long periods"
   ]
  },
  {
   "cell_type": "code",
   "execution_count": 5,
   "metadata": {},
   "outputs": [],
   "source": [
    "docs = reviews.review.to_list()\n",
    "pos_docs = pos_reviews.review.to_list()\n",
    "neg_docs = neg_reviews.review.to_list()"
   ]
  },
  {
   "cell_type": "code",
   "execution_count": 6,
   "metadata": {},
   "outputs": [],
   "source": [
    "timestamps = pd.to_datetime(reviews.update_date, unit='s').values\n",
    "pos_timestamps = pd.to_datetime(pos_reviews.update_date, unit='s').values\n",
    "neg_timestamps = pd.to_datetime(neg_reviews.update_date, unit='s').values"
   ]
  },
  {
   "cell_type": "code",
   "execution_count": 7,
   "metadata": {},
   "outputs": [],
   "source": [
    "topic_model = BERTopic.load(\"models/bertopic_model\")"
   ]
  },
  {
   "cell_type": "code",
   "execution_count": 8,
   "metadata": {},
   "outputs": [
    {
     "name": "stderr",
     "output_type": "stream",
     "text": [
      "20it [00:29,  1.49s/it]\n"
     ]
    }
   ],
   "source": [
    "topics_over_time = topic_model.topics_over_time(docs, timestamps, nr_bins=20)"
   ]
  },
  {
   "cell_type": "code",
   "execution_count": 9,
   "metadata": {},
   "outputs": [
    {
     "data": {
      "application/vnd.plotly.v1+json": {
       "config": {
        "plotlyServerURL": "https://plot.ly"
       },
       "data": [
        {
         "hoverinfo": "text",
         "hovertext": [
          "<b>Topic 0</b><br>Words: ow, so, obvs, forgot, show",
          "<b>Topic 0</b><br>Words: so, obvs, ow, forgot, show",
          "<b>Topic 0</b><br>Words: so, obvs, ow, forgot, show",
          "<b>Topic 0</b><br>Words: so, obvs, ow, forgot, show",
          "<b>Topic 0</b><br>Words: so, obvs, ow, forgot, show",
          "<b>Topic 0</b><br>Words: so, obvs, ow, forgot, show",
          "<b>Topic 0</b><br>Words: so, obvs, ow, forgot, show",
          "<b>Topic 0</b><br>Words: so, obvs, ow, forgot, show",
          "<b>Topic 0</b><br>Words: show, so, obvs, ow, forgot",
          "<b>Topic 0</b><br>Words: so, obvs, ow, forgot, show",
          "<b>Topic 0</b><br>Words: so, obvs, ow, forgot, show",
          "<b>Topic 0</b><br>Words: so, obvs, ow, forgot, show",
          "<b>Topic 0</b><br>Words: last, so, obvs, ow, forgot",
          "<b>Topic 0</b><br>Words: show, so, obvs, ow, forgot",
          "<b>Topic 0</b><br>Words: so, obvs, ow, forgot, show",
          "<b>Topic 0</b><br>Words: forgot, so, obvs, ow, find",
          "<b>Topic 0</b><br>Words: obvs, so, ow, forgot, show",
          "<b>Topic 0</b><br>Words: so, obvs, ow, forgot, show",
          "<b>Topic 0</b><br>Words: find, so, obvs, ow, forgot",
          "<b>Topic 0</b><br>Words: last, so, obvs, ow, forgot"
         ],
         "marker": {
          "color": "#E69F00"
         },
         "mode": "lines",
         "name": "0_so_obvs_ow_forgot",
         "type": "scatter",
         "x": [
          "2014-04-20T18:06:56.036000",
          "2014-11-10T19:22:33.200000",
          "2015-05-29T20:36:41.400000",
          "2015-12-15T21:50:49.600000",
          "2016-07-02T23:04:57.800000",
          "2017-01-19T00:19:06",
          "2017-08-07T01:33:14.200000",
          "2018-02-23T02:47:22.400000",
          "2018-09-11T04:01:30.600000",
          "2019-03-30T05:15:38.800000",
          "2019-10-16T06:29:47",
          "2020-05-03T07:43:55.200000",
          "2020-11-19T08:58:03.400000",
          "2021-06-07T10:12:11.600000",
          "2021-12-24T11:26:19.800000",
          "2022-07-12T12:40:28",
          "2023-01-28T13:54:36.200000",
          "2023-08-16T15:08:44.400000",
          "2024-03-03T16:22:52.600000",
          "2024-09-19T17:37:00.800000"
         ],
         "y": [
          119,
          56,
          42,
          49,
          37,
          25,
          26,
          23,
          34,
          52,
          113,
          123,
          157,
          179,
          183,
          123,
          131,
          162,
          179,
          192
         ]
        },
        {
         "hoverinfo": "text",
         "hovertext": [
          "<b>Topic 1</b><br>Words: player, covenant, bonfire, weapon, attack",
          "<b>Topic 1</b><br>Words: player, matrixdll, area, new, summon",
          "<b>Topic 1</b><br>Words: player, enemy, place, fight, area",
          "<b>Topic 1</b><br>Words: katana, ice, chaos, rapier, sword",
          "<b>Topic 1</b><br>Words: area, player, weapon, attack, enemy",
          "<b>Topic 1</b><br>Words: player, attack, item, fight, weapon",
          "<b>Topic 1</b><br>Words: attack, area, covenant, item, enemy",
          "<b>Topic 1</b><br>Words: quote, attack, player, enemy, certain",
          "<b>Topic 1</b><br>Words: attack, player, damage, enemy, area",
          "<b>Topic 1</b><br>Words: moonlight, nigga, shawty, spotlight, trippin",
          "<b>Topic 1</b><br>Words: bean, attack, enemy, area, player",
          "<b>Topic 1</b><br>Words: attack, roll, area, enemy, animation",
          "<b>Topic 1</b><br>Words: tyrit, attack, roll, enemy, area",
          "<b>Topic 1</b><br>Words: attack, area, enemy, heal, roll",
          "<b>Topic 1</b><br>Words: attack, enemy, fight, area, roll",
          "<b>Topic 1</b><br>Words: estus, enemy, level, area, attack",
          "<b>Topic 1</b><br>Words: attack, animation, bos, enemy, level",
          "<b>Topic 1</b><br>Words: attack, td, bos, player, fight",
          "<b>Topic 1</b><br>Words: enemy, bos, area, attack, fight",
          "<b>Topic 1</b><br>Words: spoiler, area, enemy, fight, damage"
         ],
         "marker": {
          "color": "#56B4E9"
         },
         "mode": "lines",
         "name": "1_attack_area_enemy_player",
         "type": "scatter",
         "x": [
          "2014-04-20T18:06:56.036000",
          "2014-11-10T19:22:33.200000",
          "2015-05-29T20:36:41.400000",
          "2015-12-15T21:50:49.600000",
          "2016-07-02T23:04:57.800000",
          "2017-01-19T00:19:06",
          "2017-08-07T01:33:14.200000",
          "2018-02-23T02:47:22.400000",
          "2018-09-11T04:01:30.600000",
          "2019-03-30T05:15:38.800000",
          "2019-10-16T06:29:47",
          "2020-05-03T07:43:55.200000",
          "2020-11-19T08:58:03.400000",
          "2021-06-07T10:12:11.600000",
          "2021-12-24T11:26:19.800000",
          "2022-07-12T12:40:28",
          "2023-01-28T13:54:36.200000",
          "2023-08-16T15:08:44.400000",
          "2024-03-03T16:22:52.600000",
          "2024-09-19T17:37:00.800000"
         ],
         "y": [
          259,
          127,
          57,
          75,
          58,
          74,
          60,
          44,
          42,
          43,
          65,
          73,
          82,
          92,
          97,
          49,
          77,
          85,
          97,
          114
         ]
        },
        {
         "hoverinfo": "text",
         "hovertext": [
          "<b>Topic 2</b><br>Words: good, omg, as, goodin, uch",
          "<b>Topic 2</b><br>Words: good, dat, goodin, uch, uwu",
          "<b>Topic 2</b><br>Words: good, goodin, uch, uwu, noice",
          "<b>Topic 2</b><br>Words: good, goodin, uch, uwu, noice",
          "<b>Topic 2</b><br>Words: good, goodin, uch, uwu, noice",
          "<b>Topic 2</b><br>Words: good, goodin, uch, uwu, noice",
          "<b>Topic 2</b><br>Words: good, goodin, uch, uwu, noice",
          "<b>Topic 2</b><br>Words: good, man, uch, goodin, uwu",
          "<b>Topic 2</b><br>Words: good, goodin, uch, uwu, noice",
          "<b>Topic 2</b><br>Words: good, noice, goodin, uch, uwu",
          "<b>Topic 2</b><br>Words: good, goodin, uch, uwu, noice",
          "<b>Topic 2</b><br>Words: good, uch, vary, lol, dks",
          "<b>Topic 2</b><br>Words: good, goodin, uch, uwu, noice",
          "<b>Topic 2</b><br>Words: good, engage, thats, goodin, uch",
          "<b>Topic 2</b><br>Words: good, please, goodin, uch, uwu",
          "<b>Topic 2</b><br>Words: good, period, uch, goodin, uwu",
          "<b>Topic 2</b><br>Words: good, goodin, uch, uwu, noice",
          "<b>Topic 2</b><br>Words: good, goodin, uh, nioh, af",
          "<b>Topic 2</b><br>Words: good, ol, goodin, uch, uwu",
          "<b>Topic 2</b><br>Words: good, uwu, goodin, uch, noice"
         ],
         "marker": {
          "color": "#009E73"
         },
         "mode": "lines",
         "name": "2_good_uch_goodin_uwu",
         "type": "scatter",
         "x": [
          "2014-04-20T18:06:56.036000",
          "2014-11-10T19:22:33.200000",
          "2015-05-29T20:36:41.400000",
          "2015-12-15T21:50:49.600000",
          "2016-07-02T23:04:57.800000",
          "2017-01-19T00:19:06",
          "2017-08-07T01:33:14.200000",
          "2018-02-23T02:47:22.400000",
          "2018-09-11T04:01:30.600000",
          "2019-03-30T05:15:38.800000",
          "2019-10-16T06:29:47",
          "2020-05-03T07:43:55.200000",
          "2020-11-19T08:58:03.400000",
          "2021-06-07T10:12:11.600000",
          "2021-12-24T11:26:19.800000",
          "2022-07-12T12:40:28",
          "2023-01-28T13:54:36.200000",
          "2023-08-16T15:08:44.400000",
          "2024-03-03T16:22:52.600000",
          "2024-09-19T17:37:00.800000"
         ],
         "y": [
          69,
          34,
          13,
          31,
          19,
          29,
          26,
          13,
          25,
          48,
          103,
          110,
          107,
          120,
          113,
          71,
          90,
          81,
          104,
          101
         ]
        },
        {
         "hoverinfo": "text",
         "hovertext": [
          "<b>Topic 3</b><br>Words: best, since, everrrrrrrrrrrrrrrrrrrrrrrrrrrrrrrrrrrrrrrrrrrrrrrrrrrrrrrrrrrrrrrrrrrrrrrrrrrrrrrrrrrrrrrrrrrrrrrrrrrrrrr, ah, reckon",
          "<b>Topic 3</b><br>Words: best, everrrrrrrrrrrrrrrrrrrrrrrrrrrrrrrrrrrrrrrrrrrrrrrrrrrrrrrrrrrrrrrrrrrrrrrrrrrrrrrrrrrrrrrrrrrrrrrrrrrrrrr, ah, reckon, wtf",
          "<b>Topic 3</b><br>Words: best, everrrrrrrrrrrrrrrrrrrrrrrrrrrrrrrrrrrrrrrrrrrrrrrrrrrrrrrrrrrrrrrrrrrrrrrrrrrrrrrrrrrrrrrrrrrrrrrrrrrrrrr, ah, reckon, wtf",
          "<b>Topic 3</b><br>Words: best, everrrrrrrrrrrrrrrrrrrrrrrrrrrrrrrrrrrrrrrrrrrrrrrrrrrrrrrrrrrrrrrrrrrrrrrrrrrrrrrrrrrrrrrrrrrrrrrrrrrrrrr, ah, reckon, wtf",
          "<b>Topic 3</b><br>Words: best, lol, everrrrrrrrrrrrrrrrrrrrrrrrrrrrrrrrrrrrrrrrrrrrrrrrrrrrrrrrrrrrrrrrrrrrrrrrrrrrrrrrrrrrrrrrrrrrrrrrrrrrrrr, ah, reckon",
          "<b>Topic 3</b><br>Words: best, everrrrrrrrrrrrrrrrrrrrrrrrrrrrrrrrrrrrrrrrrrrrrrrrrrrrrrrrrrrrrrrrrrrrrrrrrrrrrrrrrrrrrrrrrrrrrrrrrrrrrrr, ah, reckon, wtf",
          "<b>Topic 3</b><br>Words: best, absolutely, everrrrrrrrrrrrrrrrrrrrrrrrrrrrrrrrrrrrrrrrrrrrrrrrrrrrrrrrrrrrrrrrrrrrrrrrrrrrrrrrrrrrrrrrrrrrrrrrrrrrrrr, ah, reckon",
          "<b>Topic 3</b><br>Words: best, everrrrrrrrrrrrrrrrrrrrrrrrrrrrrrrrrrrrrrrrrrrrrrrrrrrrrrrrrrrrrrrrrrrrrrrrrrrrrrrrrrrrrrrrrrrrrrrrrrrrrrr, ah, reckon, wtf",
          "<b>Topic 3</b><br>Words: best, everrrrrrrrrrrrrrrrrrrrrrrrrrrrrrrrrrrrrrrrrrrrrrrrrrrrrrrrrrrrrrrrrrrrrrrrrrrrrrrrrrrrrrrrrrrrrrrrrrrrrrr, ah, reckon, wtf",
          "<b>Topic 3</b><br>Words: best, btw, everrrrrrrrrrrrrrrrrrrrrrrrrrrrrrrrrrrrrrrrrrrrrrrrrrrrrrrrrrrrrrrrrrrrrrrrrrrrrrrrrrrrrrrrrrrrrrrrrrrrrrr, ah, reckon",
          "<b>Topic 3</b><br>Words: best, everrrrrrrrrrrrrrrrrrrrrrrrrrrrrrrrrrrrrrrrrrrrrrrrrrrrrrrrrrrrrrrrrrrrrrrrrrrrrrrrrrrrrrrrrrrrrrrrrrrrrrr, ah, reckon, wtf",
          "<b>Topic 3</b><br>Words: best, reckon, everrrrrrrrrrrrrrrrrrrrrrrrrrrrrrrrrrrrrrrrrrrrrrrrrrrrrrrrrrrrrrrrrrrrrrrrrrrrrrrrrrrrrrrrrrrrrrrrrrrrrrr, ah, wtf",
          "<b>Topic 3</b><br>Words: best, ah, everrrrrrrrrrrrrrrrrrrrrrrrrrrrrrrrrrrrrrrrrrrrrrrrrrrrrrrrrrrrrrrrrrrrrrrrrrrrrrrrrrrrrrrrrrrrrrrrrrrrrrr, reckon, wtf",
          "<b>Topic 3</b><br>Words: best, everrrrrrrrrrrrrrrrrrrrrrrrrrrrrrrrrrrrrrrrrrrrrrrrrrrrrrrrrrrrrrrrrrrrrrrrrrrrrrrrrrrrrrrrrrrrrrrrrrrrrrr, ah, reckon, wtf",
          "<b>Topic 3</b><br>Words: best, clearly, everrrrrrrrrrrrrrrrrrrrrrrrrrrrrrrrrrrrrrrrrrrrrrrrrrrrrrrrrrrrrrrrrrrrrrrrrrrrrrrrrrrrrrrrrrrrrrrrrrrrrrr, ah, reckon",
          "<b>Topic 3</b><br>Words: best, since, everrrrrrrrrrrrrrrrrrrrrrrrrrrrrrrrrrrrrrrrrrrrrrrrrrrrrrrrrrrrrrrrrrrrrrrrrrrrrrrrrrrrrrrrrrrrrrrrrrrrrrr, ah, reckon",
          "<b>Topic 3</b><br>Words: best, ah, yes, everrrrrrrrrrrrrrrrrrrrrrrrrrrrrrrrrrrrrrrrrrrrrrrrrrrrrrrrrrrrrrrrrrrrrrrrrrrrrrrrrrrrrrrrrrrrrrrrrrrrrrr, reckon",
          "<b>Topic 3</b><br>Words: best, serious, im, everrrrrrrrrrrrrrrrrrrrrrrrrrrrrrrrrrrrrrrrrrrrrrrrrrrrrrrrrrrrrrrrrrrrrrrrrrrrrrrrrrrrrrrrrrrrrrrrrrrrrrr, right",
          "<b>Topic 3</b><br>Words: best, everrrrrrrrrrrrrrrrrrrrrrrrrrrrrrrrrrrrrrrrrrrrrrrrrrrrrrrrrrrrrrrrrrrrrrrrrrrrrrrrrrrrrrrrrrrrrrrrrrrrrrr, ah, reckon, wtf",
          "<b>Topic 3</b><br>Words: best, wtf, everrrrrrrrrrrrrrrrrrrrrrrrrrrrrrrrrrrrrrrrrrrrrrrrrrrrrrrrrrrrrrrrrrrrrrrrrrrrrrrrrrrrrrrrrrrrrrrrrrrrrrr, ah, reckon"
         ],
         "marker": {
          "color": "#F0E442"
         },
         "mode": "lines",
         "name": "3_best_everrrrrrrrrrrrrrrrrrrrrrrrrrrrrr...",
         "type": "scatter",
         "x": [
          "2014-04-20T18:06:56.036000",
          "2014-11-10T19:22:33.200000",
          "2015-05-29T20:36:41.400000",
          "2015-12-15T21:50:49.600000",
          "2016-07-02T23:04:57.800000",
          "2017-01-19T00:19:06",
          "2017-08-07T01:33:14.200000",
          "2018-02-23T02:47:22.400000",
          "2018-09-11T04:01:30.600000",
          "2019-03-30T05:15:38.800000",
          "2019-10-16T06:29:47",
          "2020-05-03T07:43:55.200000",
          "2020-11-19T08:58:03.400000",
          "2021-06-07T10:12:11.600000",
          "2021-12-24T11:26:19.800000",
          "2022-07-12T12:40:28",
          "2023-01-28T13:54:36.200000",
          "2023-08-16T15:08:44.400000",
          "2024-03-03T16:22:52.600000",
          "2024-09-19T17:37:00.800000"
         ],
         "y": [
          20,
          10,
          3,
          2,
          3,
          7,
          7,
          1,
          9,
          20,
          37,
          32,
          40,
          59,
          53,
          45,
          50,
          48,
          58,
          60
         ]
        },
        {
         "hoverinfo": "text",
         "hovertext": [
          "<b>Topic 4</b><br>Words: que, de, jogo, el, joc",
          "<b>Topic 4</b><br>Words: de, que, jogo, la, et",
          "<b>Topic 4</b><br>Words: que, el, jogo, ncia, de",
          "<b>Topic 4</b><br>Words: que, de, jogo, se, vai",
          "<b>Topic 4</b><br>Words: de, el, que, la, en",
          "<b>Topic 4</b><br>Words: que, de, su, la, en",
          "<b>Topic 4</b><br>Words: que, la, se, el, de",
          "<b>Topic 4</b><br>Words: morrer, perfeito, matar, mais, se",
          "<b>Topic 4</b><br>Words: el, de, mintale, pentru, dolor",
          "<b>Topic 4</b><br>Words: jogo, que, para, de, jogar",
          "<b>Topic 4</b><br>Words: que, jogo, juegazo, de, pero",
          "<b>Topic 4</b><br>Words: jogo, que, de, ma, um",
          "<b>Topic 4</b><br>Words: novo, de, que, el, jogo",
          "<b>Topic 4</b><br>Words: que, de, jogo, juego, el",
          "<b>Topic 4</b><br>Words: de, la, que, el, juego",
          "<b>Topic 4</b><br>Words: que, de, pra, jogo, voc",
          "<b>Topic 4</b><br>Words: que, de, jogo, el, um",
          "<b>Topic 4</b><br>Words: te, odeio, amo, de, que",
          "<b>Topic 4</b><br>Words: de, que, juego, el, la",
          "<b>Topic 4</b><br>Words: que, de, jogo, la, el"
         ],
         "marker": {
          "color": "#D55E00"
         },
         "mode": "lines",
         "name": "4_de_que_jogo_el",
         "type": "scatter",
         "x": [
          "2014-04-20T18:06:56.036000",
          "2014-11-10T19:22:33.200000",
          "2015-05-29T20:36:41.400000",
          "2015-12-15T21:50:49.600000",
          "2016-07-02T23:04:57.800000",
          "2017-01-19T00:19:06",
          "2017-08-07T01:33:14.200000",
          "2018-02-23T02:47:22.400000",
          "2018-09-11T04:01:30.600000",
          "2019-03-30T05:15:38.800000",
          "2019-10-16T06:29:47",
          "2020-05-03T07:43:55.200000",
          "2020-11-19T08:58:03.400000",
          "2021-06-07T10:12:11.600000",
          "2021-12-24T11:26:19.800000",
          "2022-07-12T12:40:28",
          "2023-01-28T13:54:36.200000",
          "2023-08-16T15:08:44.400000",
          "2024-03-03T16:22:52.600000",
          "2024-09-19T17:37:00.800000"
         ],
         "y": [
          28,
          8,
          9,
          13,
          11,
          4,
          11,
          5,
          7,
          8,
          35,
          27,
          39,
          45,
          29,
          20,
          44,
          33,
          48,
          59
         ]
        },
        {
         "hoverinfo": "text",
         "hovertext": [
          "<b>Topic 5</b><br>Words: port, console, pc, mouse, button",
          "<b>Topic 5</b><br>Words: port, pc, console, mouse, button",
          "<b>Topic 5</b><br>Words: port, console, controller, display, pc",
          "<b>Topic 5</b><br>Words: port, der, pc, schlechtesten, coudnt",
          "<b>Topic 5</b><br>Words: port, negetively, chromosome, failing, st",
          "<b>Topic 5</b><br>Words: port, console, pc, sloppy, tooltips",
          "<b>Topic 5</b><br>Words: factial, port, disapointing, unplayable, wierd",
          "<b>Topic 5</b><br>Words: port, rb, interface, sensitivity, mouse",
          "<b>Topic 5</b><br>Words: config, port, consol, incompentent, lemon",
          "<b>Topic 5</b><br>Words: port, crash, stratus, steelseries, bluetooth",
          "<b>Topic 5</b><br>Words: port, lousy, conttoller, controller, pc",
          "<b>Topic 5</b><br>Words: port, xyab, addressed, screwing, xbox",
          "<b>Topic 5</b><br>Words: port, ui, playstation, press, xbox",
          "<b>Topic 5</b><br>Words: port, thaat, console, cache, pc",
          "<b>Topic 5</b><br>Words: port, prompt, unplayable, console, codename",
          "<b>Topic 5</b><br>Words: supernice, port, dysfunctional, amnesia, limitation",
          "<b>Topic 5</b><br>Words: exemple, shitshow, port, dissapointing, functional",
          "<b>Topic 5</b><br>Words: port, reset, iterate, accessibility, pc",
          "<b>Topic 5</b><br>Words: port, hid, screening, compaint, bindings",
          "<b>Topic 5</b><br>Words: port, plug, impenetrably, completaly, documented"
         ],
         "marker": {
          "color": "#0072B2"
         },
         "mode": "lines",
         "name": "5_port_pc_console_mouse",
         "type": "scatter",
         "x": [
          "2014-04-20T18:06:56.036000",
          "2014-11-10T19:22:33.200000",
          "2015-05-29T20:36:41.400000",
          "2015-12-15T21:50:49.600000",
          "2016-07-02T23:04:57.800000",
          "2017-01-19T00:19:06",
          "2017-08-07T01:33:14.200000",
          "2018-02-23T02:47:22.400000",
          "2018-09-11T04:01:30.600000",
          "2019-03-30T05:15:38.800000",
          "2019-10-16T06:29:47",
          "2020-05-03T07:43:55.200000",
          "2020-11-19T08:58:03.400000",
          "2021-06-07T10:12:11.600000",
          "2021-12-24T11:26:19.800000",
          "2022-07-12T12:40:28",
          "2023-01-28T13:54:36.200000",
          "2023-08-16T15:08:44.400000",
          "2024-03-03T16:22:52.600000",
          "2024-09-19T17:37:00.800000"
         ],
         "y": [
          142,
          42,
          14,
          15,
          6,
          14,
          5,
          5,
          6,
          4,
          8,
          9,
          9,
          10,
          12,
          4,
          4,
          3,
          8,
          9
         ]
        },
        {
         "hoverinfo": "text",
         "hovertext": [
          "<b>Topic 6</b><br>Words: gamer, patience, challenge, feeling, learn",
          "<b>Topic 6</b><br>Words: discovery, patience, reward, challenge, loose",
          "<b>Topic 6</b><br>Words: gift, unravel, trial, curve, learn",
          "<b>Topic 6</b><br>Words: died, die, minecraft, progress, xd",
          "<b>Topic 6</b><br>Words: comprehensive, firepit, confirmation, conpare, bracelet",
          "<b>Topic 6</b><br>Words: criterion, envinronment, alreadt, cumulate, torwards",
          "<b>Topic 6</b><br>Words: resume, opperation, dissapionted, pip, excpect",
          "<b>Topic 6</b><br>Words: masicists, knotch, whas, incursion, addictiveness",
          "<b>Topic 6</b><br>Words: leibniz, omnipotence, gottfried, philosopher, develop",
          "<b>Topic 6</b><br>Words: giiiit, dispute, coolness, guuuuud, hysterically",
          "<b>Topic 6</b><br>Words: shrug, adapt, pushy, perseverance, liberate",
          "<b>Topic 6</b><br>Words: healthy, liike, adaptavility, personage, unliked",
          "<b>Topic 6</b><br>Words: frankesque, platinum, aspires, brazen, repeatedily",
          "<b>Topic 6</b><br>Words: backhand, tri, interval, coherent, sidequest",
          "<b>Topic 6</b><br>Words: uplifting, seeps, unfiorgiven, seconded, pervasive",
          "<b>Topic 6</b><br>Words: mentality, frustarating, coneys, dropper, replenishes",
          "<b>Topic 6</b><br>Words: enjoin, happily, prevalent, parent, keeper",
          "<b>Topic 6</b><br>Words: wishing, zim, resurrection, newgrounds, seminar",
          "<b>Topic 6</b><br>Words: confused, playthrough, unpleasent, ninjas, mentionable",
          "<b>Topic 6</b><br>Words: consequentially, brainrotted, resilient, depression, beyond"
         ],
         "marker": {
          "color": "#CC79A7"
         },
         "mode": "lines",
         "name": "6_patience_challenge_learn_reward",
         "type": "scatter",
         "x": [
          "2014-04-20T18:06:56.036000",
          "2014-11-10T19:22:33.200000",
          "2015-05-29T20:36:41.400000",
          "2015-12-15T21:50:49.600000",
          "2016-07-02T23:04:57.800000",
          "2017-01-19T00:19:06",
          "2017-08-07T01:33:14.200000",
          "2018-02-23T02:47:22.400000",
          "2018-09-11T04:01:30.600000",
          "2019-03-30T05:15:38.800000",
          "2019-10-16T06:29:47",
          "2020-05-03T07:43:55.200000",
          "2020-11-19T08:58:03.400000",
          "2021-06-07T10:12:11.600000",
          "2021-12-24T11:26:19.800000",
          "2022-07-12T12:40:28",
          "2023-01-28T13:54:36.200000",
          "2023-08-16T15:08:44.400000",
          "2024-03-03T16:22:52.600000",
          "2024-09-19T17:37:00.800000"
         ],
         "y": [
          114,
          34,
          18,
          23,
          11,
          14,
          10,
          5,
          1,
          7,
          9,
          9,
          8,
          10,
          9,
          6,
          4,
          8,
          7,
          10
         ]
        },
        {
         "hoverinfo": "text",
         "hovertext": [
          "<b>Topic 7</b><br>Words: sun, praise, blah, sunlight, hourra",
          "<b>Topic 7</b><br>Words: sun, praise, sunlight, directx, enhance",
          "<b>Topic 7</b><br>Words: sun, praise, eighty, matey, mufaka",
          "<b>Topic 7</b><br>Words: sun, praise, goty, addict, im",
          "<b>Topic 7</b><br>Words: sun, praise, praising, skyrim, hole",
          "<b>Topic 7</b><br>Words: sun, praise, sunny, blah, eighty",
          "<b>Topic 7</b><br>Words: sun, praise, gravity, wary, consume",
          "<b>Topic 7</b><br>Words: blah, sun, praise, meme, shit",
          "<b>Topic 7</b><br>Words: sun, praise, blah, eighty, sunlight",
          "<b>Topic 7</b><br>Words: sun, praise, sunnnnnnnnnn, uncle, creepy",
          "<b>Topic 7</b><br>Words: sun, praise, favourite, masterpiece, blah",
          "<b>Topic 7</b><br>Words: sun, praise, blah, eighty, sunlight",
          "<b>Topic 7</b><br>Words: sun, praise, suck, blah, eighty",
          "<b>Topic 7</b><br>Words: sun, praise, odball, ok, pain",
          "<b>Topic 7</b><br>Words: sun, praise, solaire, completion, blah",
          "<b>Topic 7</b><br>Words: sun, praise, server, back, blah",
          "<b>Topic 7</b><br>Words: sun, praise, blah, eighty, sunlight",
          "<b>Topic 7</b><br>Words: sun, praise, salute, moon, blah",
          "<b>Topic 7</b><br>Words: sun, praise, hoorah, swallow, da",
          "<b>Topic 7</b><br>Words: sun, praise, persists, luv, pray"
         ],
         "marker": {
          "color": "#E69F00"
         },
         "mode": "lines",
         "name": "7_sun_praise_blah_eighty",
         "type": "scatter",
         "x": [
          "2014-04-20T18:06:56.036000",
          "2014-11-10T19:22:33.200000",
          "2015-05-29T20:36:41.400000",
          "2015-12-15T21:50:49.600000",
          "2016-07-02T23:04:57.800000",
          "2017-01-19T00:19:06",
          "2017-08-07T01:33:14.200000",
          "2018-02-23T02:47:22.400000",
          "2018-09-11T04:01:30.600000",
          "2019-03-30T05:15:38.800000",
          "2019-10-16T06:29:47",
          "2020-05-03T07:43:55.200000",
          "2020-11-19T08:58:03.400000",
          "2021-06-07T10:12:11.600000",
          "2021-12-24T11:26:19.800000",
          "2022-07-12T12:40:28",
          "2023-01-28T13:54:36.200000",
          "2023-08-16T15:08:44.400000",
          "2024-03-03T16:22:52.600000",
          "2024-09-19T17:37:00.800000"
         ],
         "y": [
          104,
          19,
          16,
          16,
          18,
          13,
          14,
          4,
          4,
          9,
          12,
          7,
          8,
          13,
          9,
          6,
          5,
          9,
          6,
          9
         ]
        },
        {
         "hoverinfo": "text",
         "hovertext": [
          "<b>Topic 8</b><br>Words: great, fking, greattttt, greatttttt, outta",
          "<b>Topic 8</b><br>Words: great, fking, greattttt, greatttttt, outta",
          "<b>Topic 8</b><br>Words: great, fking, greattttt, greatttttt, outta",
          "<b>Topic 8</b><br>Words: great, fking, greattttt, greatttttt, outta",
          "<b>Topic 8</b><br>Words: great, fking, greattttt, greatttttt, outta",
          "<b>Topic 8</b><br>Words: great, fking, greattttt, greatttttt, outta",
          "<b>Topic 8</b><br>Words: great, fking, greattttt, greatttttt, outta",
          "<b>Topic 8</b><br>Words: great, fking, greattttt, greatttttt, outta",
          "<b>Topic 8</b><br>Words: great, fking, greattttt, greatttttt, outta",
          "<b>Topic 8</b><br>Words: great, fking, greattttt, greatttttt, outta",
          "<b>Topic 8</b><br>Words: great, greattttt, greatttttt, outta, fking",
          "<b>Topic 8</b><br>Words: great, fking, greattttt, greatttttt, outta",
          "<b>Topic 8</b><br>Words: great, fking, greattttt, greatttttt, outta",
          "<b>Topic 8</b><br>Words: great, fking, greattttt, greatttttt, outta",
          "<b>Topic 8</b><br>Words: great, fking, greattttt, greatttttt, outta",
          "<b>Topic 8</b><br>Words: great, fking, greattttt, greatttttt, even",
          "<b>Topic 8</b><br>Words: great, fking, greattttt, greatttttt, outta",
          "<b>Topic 8</b><br>Words: great, fking, greattttt, greatttttt, outta",
          "<b>Topic 8</b><br>Words: great, wonderful, fking, greattttt, greatttttt",
          "<b>Topic 8</b><br>Words: great, fking, greattttt, greatttttt, outta"
         ],
         "marker": {
          "color": "#56B4E9"
         },
         "mode": "lines",
         "name": "8_great_fking_greatttttt_greattttt",
         "type": "scatter",
         "x": [
          "2014-04-20T18:06:56.036000",
          "2014-11-10T19:22:33.200000",
          "2015-05-29T20:36:41.400000",
          "2015-12-15T21:50:49.600000",
          "2016-07-02T23:04:57.800000",
          "2017-01-19T00:19:06",
          "2017-08-07T01:33:14.200000",
          "2018-02-23T02:47:22.400000",
          "2018-09-11T04:01:30.600000",
          "2019-03-30T05:15:38.800000",
          "2019-10-16T06:29:47",
          "2020-05-03T07:43:55.200000",
          "2020-11-19T08:58:03.400000",
          "2021-06-07T10:12:11.600000",
          "2021-12-24T11:26:19.800000",
          "2022-07-12T12:40:28",
          "2023-01-28T13:54:36.200000",
          "2023-08-16T15:08:44.400000",
          "2024-03-03T16:22:52.600000",
          "2024-09-19T17:37:00.800000"
         ],
         "y": [
          40,
          16,
          9,
          10,
          5,
          12,
          9,
          3,
          4,
          14,
          28,
          19,
          24,
          21,
          18,
          15,
          10,
          21,
          9,
          13
         ]
        },
        {
         "hoverinfo": "text",
         "hovertext": [
          "<b>Topic 9</b><br>Words: die, slug, nutshell, perfection, rip",
          "<b>Topic 9</b><br>Words: die, sometimes, finna, slug, nutshell",
          "<b>Topic 9</b><br>Words: die, lie, yeah, finna, slug",
          "<b>Topic 9</b><br>Words: die, sometimes, finna, slug, nutshell",
          "<b>Topic 9</b><br>Words: die, oh, finna, slug, nutshell",
          "<b>Topic 9</b><br>Words: die, finna, slug, nutshell, yay",
          "<b>Topic 9</b><br>Words: die, welcome, finna, slug, nutshell",
          "<b>Topic 9</b><br>Words: die, sure, finna, slug, nutshell",
          "<b>Topic 9</b><br>Words: die, finna, slug, nutshell, yay",
          "<b>Topic 9</b><br>Words: die, finna, slug, nutshell, yay",
          "<b>Topic 9</b><br>Words: die, tire, thats, okay, dont",
          "<b>Topic 9</b><br>Words: finna, die, slug, nutshell, yay",
          "<b>Topic 9</b><br>Words: die, didnt, finna, slug, nutshell",
          "<b>Topic 9</b><br>Words: die, son, must, finna, slug",
          "<b>Topic 9</b><br>Words: die, yes, finna, slug, nutshell",
          "<b>Topic 9</b><br>Words: die, finna, slug, nutshell, yay",
          "<b>Topic 9</b><br>Words: yay, die, finna, slug, nutshell",
          "<b>Topic 9</b><br>Words: die, finna, slug, nutshell, yay",
          "<b>Topic 9</b><br>Words: die, finna, slug, nutshell, yay",
          "<b>Topic 9</b><br>Words: die, finna, slug, nutshell, yay"
         ],
         "marker": {
          "color": "#009E73"
         },
         "mode": "lines",
         "name": "9_die_finna_slug_nutshell",
         "type": "scatter",
         "x": [
          "2014-04-20T18:06:56.036000",
          "2014-11-10T19:22:33.200000",
          "2015-05-29T20:36:41.400000",
          "2015-12-15T21:50:49.600000",
          "2016-07-02T23:04:57.800000",
          "2017-01-19T00:19:06",
          "2017-08-07T01:33:14.200000",
          "2018-02-23T02:47:22.400000",
          "2018-09-11T04:01:30.600000",
          "2019-03-30T05:15:38.800000",
          "2019-10-16T06:29:47",
          "2020-05-03T07:43:55.200000",
          "2020-11-19T08:58:03.400000",
          "2021-06-07T10:12:11.600000",
          "2021-12-24T11:26:19.800000",
          "2022-07-12T12:40:28",
          "2023-01-28T13:54:36.200000",
          "2023-08-16T15:08:44.400000",
          "2024-03-03T16:22:52.600000",
          "2024-09-19T17:37:00.800000"
         ],
         "y": [
          76,
          23,
          13,
          24,
          16,
          14,
          12,
          6,
          7,
          11,
          15,
          12,
          10,
          10,
          9,
          9,
          4,
          7,
          3,
          4
         ]
        },
        {
         "hoverinfo": "text",
         "hovertext": [
          "<b>Topic 10</b><br>Words: yes, frog, nope, tellin, yesn",
          "<b>Topic 10</b><br>Words: yes, nope, tellin, yesn, yessir",
          "<b>Topic 10</b><br>Words: yes, nope, tellin, yesn, yessir",
          "<b>Topic 10</b><br>Words: yes, nope, tellin, yesn, yessir",
          "<b>Topic 10</b><br>Words: yes, nope, tellin, yesn, yessir",
          "<b>Topic 10</b><br>Words: yes, nope, tellin, yesn, yessir",
          "<b>Topic 10</b><br>Words: yes, nope, tellin, yesn, yessir",
          "<b>Topic 10</b><br>Words: yes, nope, tellin, yesn, yessir",
          "<b>Topic 10</b><br>Words: yes, nope, tellin, yesn, yessir",
          "<b>Topic 10</b><br>Words: yes, nope, tellin, yesn, yessir",
          "<b>Topic 10</b><br>Words: yes, nope, tellin, yesn, yessir",
          "<b>Topic 10</b><br>Words: yes, yesn, nope, tellin, yessir",
          "<b>Topic 10</b><br>Words: yes, sir, nope, tellin, yesn",
          "<b>Topic 10</b><br>Words: yes, nope, tellin, yesn, yessir",
          "<b>Topic 10</b><br>Words: yes, tellin, body, nope, mind",
          "<b>Topic 10</b><br>Words: yes, nope, tellin, yesn, yessir",
          "<b>Topic 10</b><br>Words: yes, yessir, nope, tellin, yesn",
          "<b>Topic 10</b><br>Words: yes, nope, tellin, yesn, yessir",
          "<b>Topic 10</b><br>Words: yes, nope, tellin, yesn, yessir"
         ],
         "marker": {
          "color": "#F0E442"
         },
         "mode": "lines",
         "name": "10_yes_nope_tellin_yesn",
         "type": "scatter",
         "x": [
          "2014-04-20T18:06:56.036000",
          "2014-11-10T19:22:33.200000",
          "2015-05-29T20:36:41.400000",
          "2015-12-15T21:50:49.600000",
          "2016-07-02T23:04:57.800000",
          "2017-01-19T00:19:06",
          "2017-08-07T01:33:14.200000",
          "2018-09-11T04:01:30.600000",
          "2019-03-30T05:15:38.800000",
          "2019-10-16T06:29:47",
          "2020-05-03T07:43:55.200000",
          "2020-11-19T08:58:03.400000",
          "2021-06-07T10:12:11.600000",
          "2021-12-24T11:26:19.800000",
          "2022-07-12T12:40:28",
          "2023-01-28T13:54:36.200000",
          "2023-08-16T15:08:44.400000",
          "2024-03-03T16:22:52.600000",
          "2024-09-19T17:37:00.800000"
         ],
         "y": [
          18,
          11,
          3,
          4,
          4,
          1,
          1,
          3,
          8,
          38,
          35,
          36,
          28,
          28,
          14,
          11,
          17,
          12,
          12
         ]
        },
        {
         "hoverinfo": "text",
         "hovertext": [
          "<b>Topic 11</b><br>Words: dlc, hench, guerillimo, flims, toro",
          "<b>Topic 11</b><br>Words: dlc, deadlocked, fuffilling, puchase, staph",
          "<b>Topic 11</b><br>Words: doggy, dlc, recomment, ded, fuckyes",
          "<b>Topic 11</b><br>Words: dlc, firelinkshine, undervalue, wave, cought",
          "<b>Topic 11</b><br>Words: dlc, ardent, admirer, dysfunctional, worked",
          "<b>Topic 11</b><br>Words: espacially, fookin, dlc, fairly, thru",
          "<b>Topic 11</b><br>Words: dlcs, afford, dlc, axe, succeed",
          "<b>Topic 11</b><br>Words: bouhgt, bakcstabs, dlcs, edtion, blew",
          "<b>Topic 11</b><br>Words: ddlc, secretely, dlc, dlcs, fuckin",
          "<b>Topic 11</b><br>Words: seriers, suprises, lit, content, dlc",
          "<b>Topic 11</b><br>Words: dlc, fucked, dlcs, definite, laughable",
          "<b>Topic 11</b><br>Words: souslborne, abortion, campaign, bought, dlc",
          "<b>Topic 11</b><br>Words: dlc, dlcs, joyful, pissed, trump",
          "<b>Topic 11</b><br>Words: dlc, dlcs, designed, poopoo, lotta",
          "<b>Topic 11</b><br>Words: dlc, dlcs, smelly, string, forgot",
          "<b>Topic 11</b><br>Words: primo, dlc, sublime, clock, league",
          "<b>Topic 11</b><br>Words: dlc, obviously, abusive, audience, worst",
          "<b>Topic 11</b><br>Words: dlc, nifty, finnished, tire, sotf",
          "<b>Topic 11</b><br>Words: dlc, quater, riddled, dlcs, misinformation",
          "<b>Topic 11</b><br>Words: dlc, dlcs, steamthumbsdown, electrocution, ahaaaaaaaaaaaaaaaaaaaaahhhhhhhhhghhh"
         ],
         "marker": {
          "color": "#D55E00"
         },
         "mode": "lines",
         "name": "11_dlc_dlcs_content_base",
         "type": "scatter",
         "x": [
          "2014-04-20T18:06:56.036000",
          "2014-11-10T19:22:33.200000",
          "2015-05-29T20:36:41.400000",
          "2015-12-15T21:50:49.600000",
          "2016-07-02T23:04:57.800000",
          "2017-01-19T00:19:06",
          "2017-08-07T01:33:14.200000",
          "2018-02-23T02:47:22.400000",
          "2018-09-11T04:01:30.600000",
          "2019-03-30T05:15:38.800000",
          "2019-10-16T06:29:47",
          "2020-05-03T07:43:55.200000",
          "2020-11-19T08:58:03.400000",
          "2021-06-07T10:12:11.600000",
          "2021-12-24T11:26:19.800000",
          "2022-07-12T12:40:28",
          "2023-01-28T13:54:36.200000",
          "2023-08-16T15:08:44.400000",
          "2024-03-03T16:22:52.600000",
          "2024-09-19T17:37:00.800000"
         ],
         "y": [
          25,
          22,
          14,
          12,
          13,
          8,
          11,
          10,
          5,
          8,
          13,
          6,
          19,
          21,
          22,
          9,
          10,
          14,
          19,
          20
         ]
        },
        {
         "hoverinfo": "text",
         "hovertext": [
          "<b>Topic 12</b><br>Words: hitboxes, hitbox, box, erroneous, expiration",
          "<b>Topic 12</b><br>Words: ok, hitbox, wierd, netcode, hitboxes",
          "<b>Topic 12</b><br>Words: complane, hitbox, sugest, exept, hitboxes",
          "<b>Topic 12</b><br>Words: hitboxes, relate, terrible, expect, issue",
          "<b>Topic 12</b><br>Words: whaaaat, hitbox, yup, hitboxes, machine",
          "<b>Topic 12</b><br>Words: hitbox, balancing, detection, hacker, ignore",
          "<b>Topic 12</b><br>Words: hitboxes, thing, hitbox, box, hit",
          "<b>Topic 12</b><br>Words: dditors, hitboxes, doubleclick, attacking, retarded",
          "<b>Topic 12</b><br>Words: hitboxes, fatty, detection, unresponsive, box",
          "<b>Topic 12</b><br>Words: hitboxes, hurtboxes, recur, passable, shitty",
          "<b>Topic 12</b><br>Words: hitboxes, hitbox, box, kerry, brincadera",
          "<b>Topic 12</b><br>Words: hitboxes, hitbox, box, wayyyyyy, quebrada",
          "<b>Topic 12</b><br>Words: hitboxes, box, hitbox, quirkiest, retardisam",
          "<b>Topic 12</b><br>Words: hitboxes, hitbox, box, shitty, shiitbox",
          "<b>Topic 12</b><br>Words: hitbox, hitboxes, box, goofy, rodeo",
          "<b>Topic 12</b><br>Words: box, hitboxes, hitbox, fartbox, ss",
          "<b>Topic 12</b><br>Words: hitboxes, box, hitbox, caetus, totem",
          "<b>Topic 12</b><br>Words: hitbox, hitboxes, box, dawgshi, terriuble",
          "<b>Topic 12</b><br>Words: hitboxes, hitbox, box, pyrocynicals, swirly"
         ],
         "marker": {
          "color": "#0072B2"
         },
         "mode": "lines",
         "name": "12_hitboxes_hitbox_box_hit",
         "type": "scatter",
         "x": [
          "2014-04-20T18:06:56.036000",
          "2014-11-10T19:22:33.200000",
          "2015-12-15T21:50:49.600000",
          "2016-07-02T23:04:57.800000",
          "2017-01-19T00:19:06",
          "2017-08-07T01:33:14.200000",
          "2018-02-23T02:47:22.400000",
          "2018-09-11T04:01:30.600000",
          "2019-03-30T05:15:38.800000",
          "2019-10-16T06:29:47",
          "2020-05-03T07:43:55.200000",
          "2020-11-19T08:58:03.400000",
          "2021-06-07T10:12:11.600000",
          "2021-12-24T11:26:19.800000",
          "2022-07-12T12:40:28",
          "2023-01-28T13:54:36.200000",
          "2023-08-16T15:08:44.400000",
          "2024-03-03T16:22:52.600000",
          "2024-09-19T17:37:00.800000"
         ],
         "y": [
          15,
          3,
          5,
          2,
          4,
          3,
          1,
          5,
          7,
          11,
          15,
          30,
          31,
          24,
          23,
          16,
          24,
          23,
          26
         ]
        },
        {
         "hoverinfo": "text",
         "hovertext": [
          "<b>Topic 13</b><br>Words: rage, anger, quit, induce, angry",
          "<b>Topic 13</b><br>Words: rage, quit, anger, simulator, fury",
          "<b>Topic 13</b><br>Words: rage, peresent, sorry, pissy, quit",
          "<b>Topic 13</b><br>Words: rage, quit, ragequit, anger, angry",
          "<b>Topic 13</b><br>Words: rage, anger, singularity, titonite, enraged",
          "<b>Topic 13</b><br>Words: rage, unadultured, induce, quit, thay",
          "<b>Topic 13</b><br>Words: yourselfs, rage, chair, prepare, ball",
          "<b>Topic 13</b><br>Words: choosen, rage, extreamly, anger, peace",
          "<b>Topic 13</b><br>Words: rage, incarnate, quitter, equation, physically",
          "<b>Topic 13</b><br>Words: rage, anger, quit, step, stubborness",
          "<b>Topic 13</b><br>Words: rage, anger, gooood, friendship, betray",
          "<b>Topic 13</b><br>Words: rage, simulator, inducing, quit, fine",
          "<b>Topic 13</b><br>Words: rage, quit, therapeuticness, anger, frustration",
          "<b>Topic 13</b><br>Words: rage, quit, lajk, angry, higly",
          "<b>Topic 13</b><br>Words: anger, therapy, management, rage, disdain",
          "<b>Topic 13</b><br>Words: rage, anger, burst, rrr, artworkis",
          "<b>Topic 13</b><br>Words: rage, anger, murderous, fury, fathom",
          "<b>Topic 13</b><br>Words: rage, quit, circumcision, ragebait, epilepsy",
          "<b>Topic 13</b><br>Words: rage, daydream, ragebaiting, shrimp, ragebait"
         ],
         "marker": {
          "color": "#CC79A7"
         },
         "mode": "lines",
         "name": "13_rage_anger_quit_angry",
         "type": "scatter",
         "x": [
          "2014-04-20T18:06:56.036000",
          "2014-11-10T19:22:33.200000",
          "2015-05-29T20:36:41.400000",
          "2015-12-15T21:50:49.600000",
          "2016-07-02T23:04:57.800000",
          "2017-01-19T00:19:06",
          "2017-08-07T01:33:14.200000",
          "2018-09-11T04:01:30.600000",
          "2019-03-30T05:15:38.800000",
          "2019-10-16T06:29:47",
          "2020-05-03T07:43:55.200000",
          "2020-11-19T08:58:03.400000",
          "2021-06-07T10:12:11.600000",
          "2021-12-24T11:26:19.800000",
          "2022-07-12T12:40:28",
          "2023-01-28T13:54:36.200000",
          "2023-08-16T15:08:44.400000",
          "2024-03-03T16:22:52.600000",
          "2024-09-19T17:37:00.800000"
         ],
         "y": [
          74,
          29,
          14,
          23,
          17,
          6,
          2,
          4,
          5,
          11,
          9,
          5,
          13,
          10,
          6,
          11,
          6,
          11,
          7
         ]
        },
        {
         "hoverinfo": "text",
         "hovertext": [
          "<b>Topic 14</b><br>Words: director, storyline, funbus, comparison, pale",
          "<b>Topic 14</b><br>Words: rhythm, cliffhanger, finaly, differentiate, metroidvania",
          "<b>Topic 14</b><br>Words: horizontal, ressurected, whihc, punshises, concerning",
          "<b>Topic 14</b><br>Words: minecraft, communicate, thematically, descisions, customized",
          "<b>Topic 14</b><br>Words: copleted, hireling, bullshot, claimed, hoocked",
          "<b>Topic 14</b><br>Words: rectum, sadism, zerg, gratify, gig",
          "<b>Topic 14</b><br>Words: manga, spears, variegated, completeness, beckoning",
          "<b>Topic 14</b><br>Words: drowsy, lttle, graffiti, meatier, unfortuantely",
          "<b>Topic 14</b><br>Words: versatile, footage, referrential, helixacodon, gamified",
          "<b>Topic 14</b><br>Words: fiendishly, toxicity, unsuccessful, fireplace, dislike",
          "<b>Topic 14</b><br>Words: stance, soundtrack, weak, counterpart, world",
          "<b>Topic 14</b><br>Words: title, punishment, foundation, sense, crisscross",
          "<b>Topic 14</b><br>Words: umbeatable, franchise, soundtrack, variety, dive",
          "<b>Topic 14</b><br>Words: scholar, sounds, gazing, scholars, trinket",
          "<b>Topic 14</b><br>Words: drab, navigation, fascinate, plot, successfully",
          "<b>Topic 14</b><br>Words: cookout, takedown, cels, cliffsides, drakekeeper",
          "<b>Topic 14</b><br>Words: unsatisfying, eyrie, empty, vast, enemiy",
          "<b>Topic 14</b><br>Words: theme, nominate, blighttown, confuse, ugly",
          "<b>Topic 14</b><br>Words: duration, dated, crucial, felt, disjoint",
          "<b>Topic 14</b><br>Words: theme, climactic, end, consistent, despite"
         ],
         "marker": {
          "color": "#E69F00"
         },
         "mode": "lines",
         "name": "14_title_world_feel_design",
         "type": "scatter",
         "x": [
          "2014-04-20T18:06:56.036000",
          "2014-11-10T19:22:33.200000",
          "2015-05-29T20:36:41.400000",
          "2015-12-15T21:50:49.600000",
          "2016-07-02T23:04:57.800000",
          "2017-01-19T00:19:06",
          "2017-08-07T01:33:14.200000",
          "2018-02-23T02:47:22.400000",
          "2018-09-11T04:01:30.600000",
          "2019-03-30T05:15:38.800000",
          "2019-10-16T06:29:47",
          "2020-05-03T07:43:55.200000",
          "2020-11-19T08:58:03.400000",
          "2021-06-07T10:12:11.600000",
          "2021-12-24T11:26:19.800000",
          "2022-07-12T12:40:28",
          "2023-01-28T13:54:36.200000",
          "2023-08-16T15:08:44.400000",
          "2024-03-03T16:22:52.600000",
          "2024-09-19T17:37:00.800000"
         ],
         "y": [
          31,
          15,
          4,
          8,
          6,
          4,
          5,
          8,
          6,
          2,
          21,
          12,
          20,
          18,
          19,
          9,
          8,
          18,
          17,
          23
         ]
        }
       ],
       "layout": {
        "height": 450,
        "hoverlabel": {
         "bgcolor": "white",
         "font": {
          "family": "Rockwell",
          "size": 16
         }
        },
        "legend": {
         "title": {
          "text": "<b>Global Topic Representation"
         }
        },
        "template": {
         "data": {
          "bar": [
           {
            "error_x": {
             "color": "rgb(36,36,36)"
            },
            "error_y": {
             "color": "rgb(36,36,36)"
            },
            "marker": {
             "line": {
              "color": "white",
              "width": 0.5
             },
             "pattern": {
              "fillmode": "overlay",
              "size": 10,
              "solidity": 0.2
             }
            },
            "type": "bar"
           }
          ],
          "barpolar": [
           {
            "marker": {
             "line": {
              "color": "white",
              "width": 0.5
             },
             "pattern": {
              "fillmode": "overlay",
              "size": 10,
              "solidity": 0.2
             }
            },
            "type": "barpolar"
           }
          ],
          "carpet": [
           {
            "aaxis": {
             "endlinecolor": "rgb(36,36,36)",
             "gridcolor": "white",
             "linecolor": "white",
             "minorgridcolor": "white",
             "startlinecolor": "rgb(36,36,36)"
            },
            "baxis": {
             "endlinecolor": "rgb(36,36,36)",
             "gridcolor": "white",
             "linecolor": "white",
             "minorgridcolor": "white",
             "startlinecolor": "rgb(36,36,36)"
            },
            "type": "carpet"
           }
          ],
          "choropleth": [
           {
            "colorbar": {
             "outlinewidth": 1,
             "tickcolor": "rgb(36,36,36)",
             "ticks": "outside"
            },
            "type": "choropleth"
           }
          ],
          "contour": [
           {
            "colorbar": {
             "outlinewidth": 1,
             "tickcolor": "rgb(36,36,36)",
             "ticks": "outside"
            },
            "colorscale": [
             [
              0,
              "#440154"
             ],
             [
              0.1111111111111111,
              "#482878"
             ],
             [
              0.2222222222222222,
              "#3e4989"
             ],
             [
              0.3333333333333333,
              "#31688e"
             ],
             [
              0.4444444444444444,
              "#26828e"
             ],
             [
              0.5555555555555556,
              "#1f9e89"
             ],
             [
              0.6666666666666666,
              "#35b779"
             ],
             [
              0.7777777777777778,
              "#6ece58"
             ],
             [
              0.8888888888888888,
              "#b5de2b"
             ],
             [
              1,
              "#fde725"
             ]
            ],
            "type": "contour"
           }
          ],
          "contourcarpet": [
           {
            "colorbar": {
             "outlinewidth": 1,
             "tickcolor": "rgb(36,36,36)",
             "ticks": "outside"
            },
            "type": "contourcarpet"
           }
          ],
          "heatmap": [
           {
            "colorbar": {
             "outlinewidth": 1,
             "tickcolor": "rgb(36,36,36)",
             "ticks": "outside"
            },
            "colorscale": [
             [
              0,
              "#440154"
             ],
             [
              0.1111111111111111,
              "#482878"
             ],
             [
              0.2222222222222222,
              "#3e4989"
             ],
             [
              0.3333333333333333,
              "#31688e"
             ],
             [
              0.4444444444444444,
              "#26828e"
             ],
             [
              0.5555555555555556,
              "#1f9e89"
             ],
             [
              0.6666666666666666,
              "#35b779"
             ],
             [
              0.7777777777777778,
              "#6ece58"
             ],
             [
              0.8888888888888888,
              "#b5de2b"
             ],
             [
              1,
              "#fde725"
             ]
            ],
            "type": "heatmap"
           }
          ],
          "heatmapgl": [
           {
            "colorbar": {
             "outlinewidth": 1,
             "tickcolor": "rgb(36,36,36)",
             "ticks": "outside"
            },
            "colorscale": [
             [
              0,
              "#440154"
             ],
             [
              0.1111111111111111,
              "#482878"
             ],
             [
              0.2222222222222222,
              "#3e4989"
             ],
             [
              0.3333333333333333,
              "#31688e"
             ],
             [
              0.4444444444444444,
              "#26828e"
             ],
             [
              0.5555555555555556,
              "#1f9e89"
             ],
             [
              0.6666666666666666,
              "#35b779"
             ],
             [
              0.7777777777777778,
              "#6ece58"
             ],
             [
              0.8888888888888888,
              "#b5de2b"
             ],
             [
              1,
              "#fde725"
             ]
            ],
            "type": "heatmapgl"
           }
          ],
          "histogram": [
           {
            "marker": {
             "line": {
              "color": "white",
              "width": 0.6
             }
            },
            "type": "histogram"
           }
          ],
          "histogram2d": [
           {
            "colorbar": {
             "outlinewidth": 1,
             "tickcolor": "rgb(36,36,36)",
             "ticks": "outside"
            },
            "colorscale": [
             [
              0,
              "#440154"
             ],
             [
              0.1111111111111111,
              "#482878"
             ],
             [
              0.2222222222222222,
              "#3e4989"
             ],
             [
              0.3333333333333333,
              "#31688e"
             ],
             [
              0.4444444444444444,
              "#26828e"
             ],
             [
              0.5555555555555556,
              "#1f9e89"
             ],
             [
              0.6666666666666666,
              "#35b779"
             ],
             [
              0.7777777777777778,
              "#6ece58"
             ],
             [
              0.8888888888888888,
              "#b5de2b"
             ],
             [
              1,
              "#fde725"
             ]
            ],
            "type": "histogram2d"
           }
          ],
          "histogram2dcontour": [
           {
            "colorbar": {
             "outlinewidth": 1,
             "tickcolor": "rgb(36,36,36)",
             "ticks": "outside"
            },
            "colorscale": [
             [
              0,
              "#440154"
             ],
             [
              0.1111111111111111,
              "#482878"
             ],
             [
              0.2222222222222222,
              "#3e4989"
             ],
             [
              0.3333333333333333,
              "#31688e"
             ],
             [
              0.4444444444444444,
              "#26828e"
             ],
             [
              0.5555555555555556,
              "#1f9e89"
             ],
             [
              0.6666666666666666,
              "#35b779"
             ],
             [
              0.7777777777777778,
              "#6ece58"
             ],
             [
              0.8888888888888888,
              "#b5de2b"
             ],
             [
              1,
              "#fde725"
             ]
            ],
            "type": "histogram2dcontour"
           }
          ],
          "mesh3d": [
           {
            "colorbar": {
             "outlinewidth": 1,
             "tickcolor": "rgb(36,36,36)",
             "ticks": "outside"
            },
            "type": "mesh3d"
           }
          ],
          "parcoords": [
           {
            "line": {
             "colorbar": {
              "outlinewidth": 1,
              "tickcolor": "rgb(36,36,36)",
              "ticks": "outside"
             }
            },
            "type": "parcoords"
           }
          ],
          "pie": [
           {
            "automargin": true,
            "type": "pie"
           }
          ],
          "scatter": [
           {
            "fillpattern": {
             "fillmode": "overlay",
             "size": 10,
             "solidity": 0.2
            },
            "type": "scatter"
           }
          ],
          "scatter3d": [
           {
            "line": {
             "colorbar": {
              "outlinewidth": 1,
              "tickcolor": "rgb(36,36,36)",
              "ticks": "outside"
             }
            },
            "marker": {
             "colorbar": {
              "outlinewidth": 1,
              "tickcolor": "rgb(36,36,36)",
              "ticks": "outside"
             }
            },
            "type": "scatter3d"
           }
          ],
          "scattercarpet": [
           {
            "marker": {
             "colorbar": {
              "outlinewidth": 1,
              "tickcolor": "rgb(36,36,36)",
              "ticks": "outside"
             }
            },
            "type": "scattercarpet"
           }
          ],
          "scattergeo": [
           {
            "marker": {
             "colorbar": {
              "outlinewidth": 1,
              "tickcolor": "rgb(36,36,36)",
              "ticks": "outside"
             }
            },
            "type": "scattergeo"
           }
          ],
          "scattergl": [
           {
            "marker": {
             "colorbar": {
              "outlinewidth": 1,
              "tickcolor": "rgb(36,36,36)",
              "ticks": "outside"
             }
            },
            "type": "scattergl"
           }
          ],
          "scattermapbox": [
           {
            "marker": {
             "colorbar": {
              "outlinewidth": 1,
              "tickcolor": "rgb(36,36,36)",
              "ticks": "outside"
             }
            },
            "type": "scattermapbox"
           }
          ],
          "scatterpolar": [
           {
            "marker": {
             "colorbar": {
              "outlinewidth": 1,
              "tickcolor": "rgb(36,36,36)",
              "ticks": "outside"
             }
            },
            "type": "scatterpolar"
           }
          ],
          "scatterpolargl": [
           {
            "marker": {
             "colorbar": {
              "outlinewidth": 1,
              "tickcolor": "rgb(36,36,36)",
              "ticks": "outside"
             }
            },
            "type": "scatterpolargl"
           }
          ],
          "scatterternary": [
           {
            "marker": {
             "colorbar": {
              "outlinewidth": 1,
              "tickcolor": "rgb(36,36,36)",
              "ticks": "outside"
             }
            },
            "type": "scatterternary"
           }
          ],
          "surface": [
           {
            "colorbar": {
             "outlinewidth": 1,
             "tickcolor": "rgb(36,36,36)",
             "ticks": "outside"
            },
            "colorscale": [
             [
              0,
              "#440154"
             ],
             [
              0.1111111111111111,
              "#482878"
             ],
             [
              0.2222222222222222,
              "#3e4989"
             ],
             [
              0.3333333333333333,
              "#31688e"
             ],
             [
              0.4444444444444444,
              "#26828e"
             ],
             [
              0.5555555555555556,
              "#1f9e89"
             ],
             [
              0.6666666666666666,
              "#35b779"
             ],
             [
              0.7777777777777778,
              "#6ece58"
             ],
             [
              0.8888888888888888,
              "#b5de2b"
             ],
             [
              1,
              "#fde725"
             ]
            ],
            "type": "surface"
           }
          ],
          "table": [
           {
            "cells": {
             "fill": {
              "color": "rgb(237,237,237)"
             },
             "line": {
              "color": "white"
             }
            },
            "header": {
             "fill": {
              "color": "rgb(217,217,217)"
             },
             "line": {
              "color": "white"
             }
            },
            "type": "table"
           }
          ]
         },
         "layout": {
          "annotationdefaults": {
           "arrowhead": 0,
           "arrowwidth": 1
          },
          "autotypenumbers": "strict",
          "coloraxis": {
           "colorbar": {
            "outlinewidth": 1,
            "tickcolor": "rgb(36,36,36)",
            "ticks": "outside"
           }
          },
          "colorscale": {
           "diverging": [
            [
             0,
             "rgb(103,0,31)"
            ],
            [
             0.1,
             "rgb(178,24,43)"
            ],
            [
             0.2,
             "rgb(214,96,77)"
            ],
            [
             0.3,
             "rgb(244,165,130)"
            ],
            [
             0.4,
             "rgb(253,219,199)"
            ],
            [
             0.5,
             "rgb(247,247,247)"
            ],
            [
             0.6,
             "rgb(209,229,240)"
            ],
            [
             0.7,
             "rgb(146,197,222)"
            ],
            [
             0.8,
             "rgb(67,147,195)"
            ],
            [
             0.9,
             "rgb(33,102,172)"
            ],
            [
             1,
             "rgb(5,48,97)"
            ]
           ],
           "sequential": [
            [
             0,
             "#440154"
            ],
            [
             0.1111111111111111,
             "#482878"
            ],
            [
             0.2222222222222222,
             "#3e4989"
            ],
            [
             0.3333333333333333,
             "#31688e"
            ],
            [
             0.4444444444444444,
             "#26828e"
            ],
            [
             0.5555555555555556,
             "#1f9e89"
            ],
            [
             0.6666666666666666,
             "#35b779"
            ],
            [
             0.7777777777777778,
             "#6ece58"
            ],
            [
             0.8888888888888888,
             "#b5de2b"
            ],
            [
             1,
             "#fde725"
            ]
           ],
           "sequentialminus": [
            [
             0,
             "#440154"
            ],
            [
             0.1111111111111111,
             "#482878"
            ],
            [
             0.2222222222222222,
             "#3e4989"
            ],
            [
             0.3333333333333333,
             "#31688e"
            ],
            [
             0.4444444444444444,
             "#26828e"
            ],
            [
             0.5555555555555556,
             "#1f9e89"
            ],
            [
             0.6666666666666666,
             "#35b779"
            ],
            [
             0.7777777777777778,
             "#6ece58"
            ],
            [
             0.8888888888888888,
             "#b5de2b"
            ],
            [
             1,
             "#fde725"
            ]
           ]
          },
          "colorway": [
           "#1F77B4",
           "#FF7F0E",
           "#2CA02C",
           "#D62728",
           "#9467BD",
           "#8C564B",
           "#E377C2",
           "#7F7F7F",
           "#BCBD22",
           "#17BECF"
          ],
          "font": {
           "color": "rgb(36,36,36)"
          },
          "geo": {
           "bgcolor": "white",
           "lakecolor": "white",
           "landcolor": "white",
           "showlakes": true,
           "showland": true,
           "subunitcolor": "white"
          },
          "hoverlabel": {
           "align": "left"
          },
          "hovermode": "closest",
          "mapbox": {
           "style": "light"
          },
          "paper_bgcolor": "white",
          "plot_bgcolor": "white",
          "polar": {
           "angularaxis": {
            "gridcolor": "rgb(232,232,232)",
            "linecolor": "rgb(36,36,36)",
            "showgrid": false,
            "showline": true,
            "ticks": "outside"
           },
           "bgcolor": "white",
           "radialaxis": {
            "gridcolor": "rgb(232,232,232)",
            "linecolor": "rgb(36,36,36)",
            "showgrid": false,
            "showline": true,
            "ticks": "outside"
           }
          },
          "scene": {
           "xaxis": {
            "backgroundcolor": "white",
            "gridcolor": "rgb(232,232,232)",
            "gridwidth": 2,
            "linecolor": "rgb(36,36,36)",
            "showbackground": true,
            "showgrid": false,
            "showline": true,
            "ticks": "outside",
            "zeroline": false,
            "zerolinecolor": "rgb(36,36,36)"
           },
           "yaxis": {
            "backgroundcolor": "white",
            "gridcolor": "rgb(232,232,232)",
            "gridwidth": 2,
            "linecolor": "rgb(36,36,36)",
            "showbackground": true,
            "showgrid": false,
            "showline": true,
            "ticks": "outside",
            "zeroline": false,
            "zerolinecolor": "rgb(36,36,36)"
           },
           "zaxis": {
            "backgroundcolor": "white",
            "gridcolor": "rgb(232,232,232)",
            "gridwidth": 2,
            "linecolor": "rgb(36,36,36)",
            "showbackground": true,
            "showgrid": false,
            "showline": true,
            "ticks": "outside",
            "zeroline": false,
            "zerolinecolor": "rgb(36,36,36)"
           }
          },
          "shapedefaults": {
           "fillcolor": "black",
           "line": {
            "width": 0
           },
           "opacity": 0.3
          },
          "ternary": {
           "aaxis": {
            "gridcolor": "rgb(232,232,232)",
            "linecolor": "rgb(36,36,36)",
            "showgrid": false,
            "showline": true,
            "ticks": "outside"
           },
           "baxis": {
            "gridcolor": "rgb(232,232,232)",
            "linecolor": "rgb(36,36,36)",
            "showgrid": false,
            "showline": true,
            "ticks": "outside"
           },
           "bgcolor": "white",
           "caxis": {
            "gridcolor": "rgb(232,232,232)",
            "linecolor": "rgb(36,36,36)",
            "showgrid": false,
            "showline": true,
            "ticks": "outside"
           }
          },
          "title": {
           "x": 0.05
          },
          "xaxis": {
           "automargin": true,
           "gridcolor": "rgb(232,232,232)",
           "linecolor": "rgb(36,36,36)",
           "showgrid": false,
           "showline": true,
           "ticks": "outside",
           "title": {
            "standoff": 15
           },
           "zeroline": false,
           "zerolinecolor": "rgb(36,36,36)"
          },
          "yaxis": {
           "automargin": true,
           "gridcolor": "rgb(232,232,232)",
           "linecolor": "rgb(36,36,36)",
           "showgrid": false,
           "showline": true,
           "ticks": "outside",
           "title": {
            "standoff": 15
           },
           "zeroline": false,
           "zerolinecolor": "rgb(36,36,36)"
          }
         }
        },
        "title": {
         "font": {
          "color": "Black",
          "size": 22
         },
         "text": "<b>Topics over Time</b>",
         "x": 0.4,
         "xanchor": "center",
         "y": 0.95,
         "yanchor": "top"
        },
        "width": 1250,
        "xaxis": {
         "showgrid": true
        },
        "yaxis": {
         "showgrid": true,
         "title": {
          "text": "Frequency"
         }
        }
       }
      }
     },
     "metadata": {},
     "output_type": "display_data"
    }
   ],
   "source": [
    "topic_model.visualize_topics_over_time(topics_over_time, top_n_topics=15)"
   ]
  },
  {
   "cell_type": "markdown",
   "metadata": {},
   "source": [
    "### Positive reviews:"
   ]
  },
  {
   "cell_type": "code",
   "execution_count": 10,
   "metadata": {},
   "outputs": [],
   "source": [
    "pos_model = BERTopic.load(\"models/bertopic_pos_model\")"
   ]
  },
  {
   "cell_type": "code",
   "execution_count": 11,
   "metadata": {},
   "outputs": [
    {
     "name": "stderr",
     "output_type": "stream",
     "text": [
      "20it [00:23,  1.16s/it]\n"
     ]
    }
   ],
   "source": [
    "pos_topics_over_time = pos_model.topics_over_time(pos_docs, pos_timestamps, nr_bins=20)"
   ]
  },
  {
   "cell_type": "code",
   "execution_count": 12,
   "metadata": {},
   "outputs": [
    {
     "data": {
      "application/vnd.plotly.v1+json": {
       "config": {
        "plotlyServerURL": "https://plot.ly"
       },
       "data": [
        {
         "hoverinfo": "text",
         "hovertext": [
          "<b>Topic 0</b><br>Words: ow, mm, forgot, show, among",
          "<b>Topic 0</b><br>Words: ow, mm, forgot, show, among",
          "<b>Topic 0</b><br>Words: ow, mm, forgot, show, among",
          "<b>Topic 0</b><br>Words: ow, mm, forgot, show, among",
          "<b>Topic 0</b><br>Words: ow, mm, forgot, show, among",
          "<b>Topic 0</b><br>Words: ow, mm, forgot, show, among",
          "<b>Topic 0</b><br>Words: ow, mm, forgot, show, among",
          "<b>Topic 0</b><br>Words: ow, mm, forgot, show, among",
          "<b>Topic 0</b><br>Words: show, ow, mm, forgot, among",
          "<b>Topic 0</b><br>Words: ow, mm, forgot, show, among",
          "<b>Topic 0</b><br>Words: ow, mm, forgot, show, among",
          "<b>Topic 0</b><br>Words: mm, ow, forgot, show, among",
          "<b>Topic 0</b><br>Words: ow, mm, forgot, show, among",
          "<b>Topic 0</b><br>Words: among, show, ow, mm, forgot",
          "<b>Topic 0</b><br>Words: ow, mm, forgot, show, among",
          "<b>Topic 0</b><br>Words: forgot, ow, mm, show, among",
          "<b>Topic 0</b><br>Words: ow, mm, forgot, show, among",
          "<b>Topic 0</b><br>Words: ow, mm, forgot, show, among",
          "<b>Topic 0</b><br>Words: till, ow, mm, forgot, show",
          "<b>Topic 0</b><br>Words: last, ow, mm, forgot, show"
         ],
         "marker": {
          "color": "#E69F00"
         },
         "mode": "lines",
         "name": "0_ow_mm_forgot_show",
         "type": "scatter",
         "x": [
          "2014-04-20T18:07:07.316999",
          "2014-11-10T19:13:09.150000",
          "2015-05-29T20:17:53.300000",
          "2015-12-15T21:22:37.449999",
          "2016-07-02T22:27:21.600000",
          "2017-01-18T23:32:05.750000",
          "2017-08-07T00:36:49.900000",
          "2018-02-23T01:41:34.049999",
          "2018-09-11T02:46:18.200000",
          "2019-03-30T03:51:02.350000",
          "2019-10-16T04:55:46.500000",
          "2020-05-03T06:00:30.649999",
          "2020-11-19T07:05:14.800000",
          "2021-06-07T08:09:58.950000",
          "2021-12-24T09:14:43.100000",
          "2022-07-12T10:19:27.249999",
          "2023-01-28T11:24:11.400000",
          "2023-08-16T12:28:55.550000",
          "2024-03-03T13:33:39.700000",
          "2024-09-19T14:38:23.849999"
         ],
         "y": [
          112,
          50,
          40,
          43,
          32,
          22,
          24,
          22,
          30,
          43,
          100,
          102,
          135,
          146,
          137,
          105,
          105,
          130,
          136,
          153
         ]
        },
        {
         "hoverinfo": "text",
         "hovertext": [
          "<b>Topic 1</b><br>Words: good, omg, as, uch, lik",
          "<b>Topic 1</b><br>Words: good, dat, im, god, uch",
          "<b>Topic 1</b><br>Words: good, uch, lik, noice, dat",
          "<b>Topic 1</b><br>Words: good, uch, lik, noice, dat",
          "<b>Topic 1</b><br>Words: good, uch, lik, noice, dat",
          "<b>Topic 1</b><br>Words: good, uch, lik, noice, dat",
          "<b>Topic 1</b><br>Words: good, uch, lik, noice, dat",
          "<b>Topic 1</b><br>Words: good, man, uch, lik, noice",
          "<b>Topic 1</b><br>Words: good, uch, lik, noice, dat",
          "<b>Topic 1</b><br>Words: good, noice, uch, lik, dat",
          "<b>Topic 1</b><br>Words: good, lik, honestly, uch, noice",
          "<b>Topic 1</b><br>Words: good, uch, vary, lol, lik",
          "<b>Topic 1</b><br>Words: good, uch, lik, noice, dat",
          "<b>Topic 1</b><br>Words: good, thats, uch, lik, noice",
          "<b>Topic 1</b><br>Words: good, please, uch, lik, noice",
          "<b>Topic 1</b><br>Words: good, uch, lik, noice, dat",
          "<b>Topic 1</b><br>Words: good, uch, lik, noice, dat",
          "<b>Topic 1</b><br>Words: good, af, uch, lik, noice",
          "<b>Topic 1</b><br>Words: good, ol, uch, lik, noice",
          "<b>Topic 1</b><br>Words: good, uch, lik, noice, dat"
         ],
         "marker": {
          "color": "#56B4E9"
         },
         "mode": "lines",
         "name": "1_good_uch_lik_noice",
         "type": "scatter",
         "x": [
          "2014-04-20T18:07:07.316999",
          "2014-11-10T19:13:09.150000",
          "2015-05-29T20:17:53.300000",
          "2015-12-15T21:22:37.449999",
          "2016-07-02T22:27:21.600000",
          "2017-01-18T23:32:05.750000",
          "2017-08-07T00:36:49.900000",
          "2018-02-23T01:41:34.049999",
          "2018-09-11T02:46:18.200000",
          "2019-03-30T03:51:02.350000",
          "2019-10-16T04:55:46.500000",
          "2020-05-03T06:00:30.649999",
          "2020-11-19T07:05:14.800000",
          "2021-06-07T08:09:58.950000",
          "2021-12-24T09:14:43.100000",
          "2022-07-12T10:19:27.249999",
          "2023-01-28T11:24:11.400000",
          "2023-08-16T12:28:55.550000",
          "2024-03-03T13:33:39.700000",
          "2024-09-19T14:38:23.849999"
         ],
         "y": [
          68,
          35,
          13,
          30,
          18,
          27,
          26,
          13,
          25,
          48,
          104,
          108,
          103,
          116,
          109,
          70,
          89,
          74,
          100,
          98
         ]
        },
        {
         "hoverinfo": "text",
         "hovertext": [
          "<b>Topic 2</b><br>Words: player, covenant, attack, item, summon",
          "<b>Topic 2</b><br>Words: matrixdll, spoiler, area, player, heide",
          "<b>Topic 2</b><br>Words: dsi, dragon, player, weapon, demon",
          "<b>Topic 2</b><br>Words: noobforever, attack, player, bonfire, enemy",
          "<b>Topic 2</b><br>Words: dsiii, summon, dsi, player, area",
          "<b>Topic 2</b><br>Words: bonfire, design, parry, spoiler, attack",
          "<b>Topic 2</b><br>Words: covenant, fight, player, enemy, stats",
          "<b>Topic 2</b><br>Words: player, number, area, certain, bonfire",
          "<b>Topic 2</b><br>Words: spoiler, summons, shield, invader, ptde",
          "<b>Topic 2</b><br>Words: case, enemy, weeb, covenant, attack",
          "<b>Topic 2</b><br>Words: url, check, iii, estus, flask",
          "<b>Topic 2</b><br>Words: dks, early, roll, adp, area",
          "<b>Topic 2</b><br>Words: list, enemy, area, several, attack",
          "<b>Topic 2</b><br>Words: heal, attack, area, enemy, item",
          "<b>Topic 2</b><br>Words: lothian, fight, axe, attack, roll",
          "<b>Topic 2</b><br>Words: hr, vendrik, light, level, early",
          "<b>Topic 2</b><br>Words: zone, attack, enemy, path, king",
          "<b>Topic 2</b><br>Words: td, dementia, tr, cancer, syndrome",
          "<b>Topic 2</b><br>Words: move, attack, enemy, spoiler, area",
          "<b>Topic 2</b><br>Words: spoiler, enemy, crown, bonefire, king"
         ],
         "marker": {
          "color": "#009E73"
         },
         "mode": "lines",
         "name": "2_area_enemy_attack_player",
         "type": "scatter",
         "x": [
          "2014-04-20T18:07:07.316999",
          "2014-11-10T19:13:09.150000",
          "2015-05-29T20:17:53.300000",
          "2015-12-15T21:22:37.449999",
          "2016-07-02T22:27:21.600000",
          "2017-01-18T23:32:05.750000",
          "2017-08-07T00:36:49.900000",
          "2018-02-23T01:41:34.049999",
          "2018-09-11T02:46:18.200000",
          "2019-03-30T03:51:02.350000",
          "2019-10-16T04:55:46.500000",
          "2020-05-03T06:00:30.649999",
          "2020-11-19T07:05:14.800000",
          "2021-06-07T08:09:58.950000",
          "2021-12-24T09:14:43.100000",
          "2022-07-12T10:19:27.249999",
          "2023-01-28T11:24:11.400000",
          "2023-08-16T12:28:55.550000",
          "2024-03-03T13:33:39.700000",
          "2024-09-19T14:38:23.849999"
         ],
         "y": [
          121,
          53,
          21,
          33,
          19,
          29,
          24,
          18,
          12,
          15,
          16,
          15,
          24,
          34,
          28,
          17,
          22,
          36,
          33,
          44
         ]
        },
        {
         "hoverinfo": "text",
         "hovertext": [
          "<b>Topic 3</b><br>Words: best, everrrrrrrrrrrrrrrrrrrrrrrrrrrrrrrrrrrrrrrrrrrrrrrrrrrrrrrrrrrrrrrrrrrrrrrrrrrrrrrrrrrrrrrrrrrrrrrrrrrrrrr, ah, btw, proper",
          "<b>Topic 3</b><br>Words: best, everrrrrrrrrrrrrrrrrrrrrrrrrrrrrrrrrrrrrrrrrrrrrrrrrrrrrrrrrrrrrrrrrrrrrrrrrrrrrrrrrrrrrrrrrrrrrrrrrrrrrrr, proper, job, ah",
          "<b>Topic 3</b><br>Words: best, everrrrrrrrrrrrrrrrrrrrrrrrrrrrrrrrrrrrrrrrrrrrrrrrrrrrrrrrrrrrrrrrrrrrrrrrrrrrrrrrrrrrrrrrrrrrrrrrrrrrrrr, ah, btw, proper",
          "<b>Topic 3</b><br>Words: best, everrrrrrrrrrrrrrrrrrrrrrrrrrrrrrrrrrrrrrrrrrrrrrrrrrrrrrrrrrrrrrrrrrrrrrrrrrrrrrrrrrrrrrrrrrrrrrrrrrrrrrr, ah, btw, proper",
          "<b>Topic 3</b><br>Words: best, lol, everrrrrrrrrrrrrrrrrrrrrrrrrrrrrrrrrrrrrrrrrrrrrrrrrrrrrrrrrrrrrrrrrrrrrrrrrrrrrrrrrrrrrrrrrrrrrrrrrrrrrrr, ah, btw",
          "<b>Topic 3</b><br>Words: best, everrrrrrrrrrrrrrrrrrrrrrrrrrrrrrrrrrrrrrrrrrrrrrrrrrrrrrrrrrrrrrrrrrrrrrrrrrrrrrrrrrrrrrrrrrrrrrrrrrrrrrr, ah, btw, proper",
          "<b>Topic 3</b><br>Words: best, hope, everrrrrrrrrrrrrrrrrrrrrrrrrrrrrrrrrrrrrrrrrrrrrrrrrrrrrrrrrrrrrrrrrrrrrrrrrrrrrrrrrrrrrrrrrrrrrrrrrrrrrrr, ah, btw",
          "<b>Topic 3</b><br>Words: best, everrrrrrrrrrrrrrrrrrrrrrrrrrrrrrrrrrrrrrrrrrrrrrrrrrrrrrrrrrrrrrrrrrrrrrrrrrrrrrrrrrrrrrrrrrrrrrrrrrrrrrr, ah, btw, proper",
          "<b>Topic 3</b><br>Words: best, everrrrrrrrrrrrrrrrrrrrrrrrrrrrrrrrrrrrrrrrrrrrrrrrrrrrrrrrrrrrrrrrrrrrrrrrrrrrrrrrrrrrrrrrrrrrrrrrrrrrrrr, ah, btw, proper",
          "<b>Topic 3</b><br>Words: best, btw, everrrrrrrrrrrrrrrrrrrrrrrrrrrrrrrrrrrrrrrrrrrrrrrrrrrrrrrrrrrrrrrrrrrrrrrrrrrrrrrrrrrrrrrrrrrrrrrrrrrrrrr, ah, proper",
          "<b>Topic 3</b><br>Words: best, everrrrrrrrrrrrrrrrrrrrrrrrrrrrrrrrrrrrrrrrrrrrrrrrrrrrrrrrrrrrrrrrrrrrrrrrrrrrrrrrrrrrrrrrrrrrrrrrrrrrrrr, ah, btw, proper",
          "<b>Topic 3</b><br>Words: best, everrrrrrrrrrrrrrrrrrrrrrrrrrrrrrrrrrrrrrrrrrrrrrrrrrrrrrrrrrrrrrrrrrrrrrrrrrrrrrrrrrrrrrrrrrrrrrrrrrrrrrr, ah, btw, proper",
          "<b>Topic 3</b><br>Words: best, ah, everrrrrrrrrrrrrrrrrrrrrrrrrrrrrrrrrrrrrrrrrrrrrrrrrrrrrrrrrrrrrrrrrrrrrrrrrrrrrrrrrrrrrrrrrrrrrrrrrrrrrrr, btw, proper",
          "<b>Topic 3</b><br>Words: best, everrrrrrrrrrrrrrrrrrrrrrrrrrrrrrrrrrrrrrrrrrrrrrrrrrrrrrrrrrrrrrrrrrrrrrrrrrrrrrrrrrrrrrrrrrrrrrrrrrrrrrr, ah, btw, proper",
          "<b>Topic 3</b><br>Words: best, clearly, everrrrrrrrrrrrrrrrrrrrrrrrrrrrrrrrrrrrrrrrrrrrrrrrrrrrrrrrrrrrrrrrrrrrrrrrrrrrrrrrrrrrrrrrrrrrrrrrrrrrrrr, ah, btw",
          "<b>Topic 3</b><br>Words: best, everrrrrrrrrrrrrrrrrrrrrrrrrrrrrrrrrrrrrrrrrrrrrrrrrrrrrrrrrrrrrrrrrrrrrrrrrrrrrrrrrrrrrrrrrrrrrrrrrrrrrrr, ah, btw, proper",
          "<b>Topic 3</b><br>Words: best, ah, yes, everrrrrrrrrrrrrrrrrrrrrrrrrrrrrrrrrrrrrrrrrrrrrrrrrrrrrrrrrrrrrrrrrrrrrrrrrrrrrrrrrrrrrrrrrrrrrrrrrrrrrrr, btw",
          "<b>Topic 3</b><br>Words: best, right, everrrrrrrrrrrrrrrrrrrrrrrrrrrrrrrrrrrrrrrrrrrrrrrrrrrrrrrrrrrrrrrrrrrrrrrrrrrrrrrrrrrrrrrrrrrrrrrrrrrrrrr, ah, btw",
          "<b>Topic 3</b><br>Words: best, everrrrrrrrrrrrrrrrrrrrrrrrrrrrrrrrrrrrrrrrrrrrrrrrrrrrrrrrrrrrrrrrrrrrrrrrrrrrrrrrrrrrrrrrrrrrrrrrrrrrrrr, ah, btw, proper",
          "<b>Topic 3</b><br>Words: best, everrrrrrrrrrrrrrrrrrrrrrrrrrrrrrrrrrrrrrrrrrrrrrrrrrrrrrrrrrrrrrrrrrrrrrrrrrrrrrrrrrrrrrrrrrrrrrrrrrrrrrr, ah, btw, proper"
         ],
         "marker": {
          "color": "#F0E442"
         },
         "mode": "lines",
         "name": "3_best_everrrrrrrrrrrrrrrrrrrrrrrrrrrrrr...",
         "type": "scatter",
         "x": [
          "2014-04-20T18:07:07.316999",
          "2014-11-10T19:13:09.150000",
          "2015-05-29T20:17:53.300000",
          "2015-12-15T21:22:37.449999",
          "2016-07-02T22:27:21.600000",
          "2017-01-18T23:32:05.750000",
          "2017-08-07T00:36:49.900000",
          "2018-02-23T01:41:34.049999",
          "2018-09-11T02:46:18.200000",
          "2019-03-30T03:51:02.350000",
          "2019-10-16T04:55:46.500000",
          "2020-05-03T06:00:30.649999",
          "2020-11-19T07:05:14.800000",
          "2021-06-07T08:09:58.950000",
          "2021-12-24T09:14:43.100000",
          "2022-07-12T10:19:27.249999",
          "2023-01-28T11:24:11.400000",
          "2023-08-16T12:28:55.550000",
          "2024-03-03T13:33:39.700000",
          "2024-09-19T14:38:23.849999"
         ],
         "y": [
          19,
          11,
          3,
          2,
          3,
          7,
          7,
          1,
          9,
          20,
          37,
          31,
          39,
          59,
          53,
          43,
          50,
          47,
          57,
          59
         ]
        },
        {
         "hoverinfo": "text",
         "hovertext": [
          "<b>Topic 4</b><br>Words: yes, hahahahaha, nope, reccomend, yesn",
          "<b>Topic 4</b><br>Words: yes, nope, yesn, yessir, hahahahaha",
          "<b>Topic 4</b><br>Words: yes, yesn, nope, yessir, hahahahaha",
          "<b>Topic 4</b><br>Words: yes, yesn, nope, yessir, hahahahaha",
          "<b>Topic 4</b><br>Words: yes, yesn, nope, yessir, hahahahaha",
          "<b>Topic 4</b><br>Words: yes, yesn, nope, yessir, hahahahaha",
          "<b>Topic 4</b><br>Words: yes, yesn, nope, yessir, hahahahaha",
          "<b>Topic 4</b><br>Words: yes, yesn, nope, yessir, hahahahaha",
          "<b>Topic 4</b><br>Words: yes, yesn, nope, yessir, hahahahaha",
          "<b>Topic 4</b><br>Words: yes, yesn, nope, yessir, hahahahaha",
          "<b>Topic 4</b><br>Words: yes, yesn, nope, yessir, hahahahaha",
          "<b>Topic 4</b><br>Words: yes, yesn, nope, yessir, hahahahaha",
          "<b>Topic 4</b><br>Words: yes, yesn, nope, yessir, hahahahaha",
          "<b>Topic 4</b><br>Words: yes, bro, sir, yesn, nope",
          "<b>Topic 4</b><br>Words: yes, yesn, nope, yessir, hahahahaha",
          "<b>Topic 4</b><br>Words: yes, yesn, nope, yessir, hahahahaha",
          "<b>Topic 4</b><br>Words: yes, yesn, nope, yessir, hahahahaha",
          "<b>Topic 4</b><br>Words: yes, yessir, yesn, nope, hahahahaha",
          "<b>Topic 4</b><br>Words: yes, yesn, nope, yessir, hahahahaha",
          "<b>Topic 4</b><br>Words: yes, yesn, nope, yessir, hahahahaha"
         ],
         "marker": {
          "color": "#D55E00"
         },
         "mode": "lines",
         "name": "4_yes_yesn_nope_yessir",
         "type": "scatter",
         "x": [
          "2014-04-20T18:07:07.316999",
          "2014-11-10T19:13:09.150000",
          "2015-05-29T20:17:53.300000",
          "2015-12-15T21:22:37.449999",
          "2016-07-02T22:27:21.600000",
          "2017-01-18T23:32:05.750000",
          "2017-08-07T00:36:49.900000",
          "2018-02-23T01:41:34.049999",
          "2018-09-11T02:46:18.200000",
          "2019-03-30T03:51:02.350000",
          "2019-10-16T04:55:46.500000",
          "2020-05-03T06:00:30.649999",
          "2020-11-19T07:05:14.800000",
          "2021-06-07T08:09:58.950000",
          "2021-12-24T09:14:43.100000",
          "2022-07-12T10:19:27.249999",
          "2023-01-28T11:24:11.400000",
          "2023-08-16T12:28:55.550000",
          "2024-03-03T13:33:39.700000",
          "2024-09-19T14:38:23.849999"
         ],
         "y": [
          26,
          13,
          5,
          6,
          4,
          1,
          3,
          2,
          5,
          9,
          50,
          50,
          49,
          43,
          40,
          26,
          15,
          24,
          23,
          23
         ]
        },
        {
         "hoverinfo": "text",
         "hovertext": [
          "<b>Topic 5</b><br>Words: que, de, jogo, el, bom",
          "<b>Topic 5</b><br>Words: de, que, jogo, la, le",
          "<b>Topic 5</b><br>Words: que, el, jogo, de, ncia",
          "<b>Topic 5</b><br>Words: que, jogo, de, vai, morrer",
          "<b>Topic 5</b><br>Words: de, que, el, en, la",
          "<b>Topic 5</b><br>Words: que, de, en, su, la",
          "<b>Topic 5</b><br>Words: que, la, el, se, de",
          "<b>Topic 5</b><br>Words: morrer, perfeito, matar, mais, se",
          "<b>Topic 5</b><br>Words: el, totales, necesitas, favorita, tanti",
          "<b>Topic 5</b><br>Words: de, el, que, lo, un",
          "<b>Topic 5</b><br>Words: que, juegazo, jogo, de, pero",
          "<b>Topic 5</b><br>Words: jogo, que, de, ma, um",
          "<b>Topic 5</b><br>Words: novo, de, que, el, um",
          "<b>Topic 5</b><br>Words: que, jogo, de, um, mais",
          "<b>Topic 5</b><br>Words: de, la, que, el, pero",
          "<b>Topic 5</b><br>Words: que, de, pra, jogo, voc",
          "<b>Topic 5</b><br>Words: de, que, jogo, el, la",
          "<b>Topic 5</b><br>Words: te, odeio, amo, que, de",
          "<b>Topic 5</b><br>Words: de, que, juego, la, el",
          "<b>Topic 5</b><br>Words: de, que, jogo, la, el"
         ],
         "marker": {
          "color": "#0072B2"
         },
         "mode": "lines",
         "name": "5_de_que_jogo_el",
         "type": "scatter",
         "x": [
          "2014-04-20T18:07:07.316999",
          "2014-11-10T19:13:09.150000",
          "2015-05-29T20:17:53.300000",
          "2015-12-15T21:22:37.449999",
          "2016-07-02T22:27:21.600000",
          "2017-01-18T23:32:05.750000",
          "2017-08-07T00:36:49.900000",
          "2018-02-23T01:41:34.049999",
          "2018-09-11T02:46:18.200000",
          "2019-03-30T03:51:02.350000",
          "2019-10-16T04:55:46.500000",
          "2020-05-03T06:00:30.649999",
          "2020-11-19T07:05:14.800000",
          "2021-06-07T08:09:58.950000",
          "2021-12-24T09:14:43.100000",
          "2022-07-12T10:19:27.249999",
          "2023-01-28T11:24:11.400000",
          "2023-08-16T12:28:55.550000",
          "2024-03-03T13:33:39.700000",
          "2024-09-19T14:38:23.849999"
         ],
         "y": [
          23,
          8,
          7,
          10,
          9,
          4,
          8,
          3,
          6,
          7,
          29,
          24,
          33,
          37,
          25,
          17,
          36,
          27,
          32,
          49
         ]
        },
        {
         "hoverinfo": "text",
         "hovertext": [
          "<b>Topic 6</b><br>Words: pvp, pve, unbalance, latency, hacker",
          "<b>Topic 6</b><br>Words: pvp, pve, watting, raipers, againsts",
          "<b>Topic 6</b><br>Words: stunlock, pvp, pve, ballz, zuck",
          "<b>Topic 6</b><br>Words: pvp, pve, infinetly, tstorm, drumstick",
          "<b>Topic 6</b><br>Words: pvp, pve, female, weapans, anillo",
          "<b>Topic 6</b><br>Words: pve, pvp, blight, sentence, bull",
          "<b>Topic 6</b><br>Words: pvp, forced, neato, ping, ambush",
          "<b>Topic 6</b><br>Words: pvp, noxious, teehee, moar, dumpster",
          "<b>Topic 6</b><br>Words: actuall, pussy, ton, pvp, count",
          "<b>Topic 6</b><br>Words: pvp, tipper, fedora, pve, godlike",
          "<b>Topic 6</b><br>Words: pvp, pve, conection, lp, anyhow",
          "<b>Topic 6</b><br>Words: pvp, pve, refuge, campaing, magnificence",
          "<b>Topic 6</b><br>Words: pvp, pve, matchmacking, regerts, simillar",
          "<b>Topic 6</b><br>Words: pvp, pve, estoc, pagchomp, vag",
          "<b>Topic 6</b><br>Words: pvp, pve, brst, crazi, slots",
          "<b>Topic 6</b><br>Words: pvp, spammer, server, acolyte, unknown",
          "<b>Topic 6</b><br>Words: griefers, pvp, raid, frequent, dogshit",
          "<b>Topic 6</b><br>Words: cosmetic, sol, medieval, pvp, experiment",
          "<b>Topic 6</b><br>Words: ole, pvp, vip, methinks, pve",
          "<b>Topic 6</b><br>Words: swordplay, comp, pvp, cringe, bonus"
         ],
         "marker": {
          "color": "#CC79A7"
         },
         "mode": "lines",
         "name": "6_pvp_pve_best_stunlock",
         "type": "scatter",
         "x": [
          "2014-04-20T18:07:07.316999",
          "2014-11-10T19:13:09.150000",
          "2015-05-29T20:17:53.300000",
          "2015-12-15T21:22:37.449999",
          "2016-07-02T22:27:21.600000",
          "2017-01-18T23:32:05.750000",
          "2017-08-07T00:36:49.900000",
          "2018-02-23T01:41:34.049999",
          "2018-09-11T02:46:18.200000",
          "2019-03-30T03:51:02.350000",
          "2019-10-16T04:55:46.500000",
          "2020-05-03T06:00:30.649999",
          "2020-11-19T07:05:14.800000",
          "2021-06-07T08:09:58.950000",
          "2021-12-24T09:14:43.100000",
          "2022-07-12T10:19:27.249999",
          "2023-01-28T11:24:11.400000",
          "2023-08-16T12:28:55.550000",
          "2024-03-03T13:33:39.700000",
          "2024-09-19T14:38:23.849999"
         ],
         "y": [
          80,
          21,
          18,
          30,
          24,
          10,
          14,
          13,
          4,
          18,
          24,
          15,
          20,
          25,
          22,
          12,
          9,
          5,
          13,
          7
         ]
        },
        {
         "hoverinfo": "text",
         "hovertext": [
          "<b>Topic 7</b><br>Words: challenge, challenging, artifical, fun, centry",
          "<b>Topic 7</b><br>Words: challenge, challenging, defenately, supah, yourslf",
          "<b>Topic 7</b><br>Words: challenge, messing, challenging, favorites, closely",
          "<b>Topic 7</b><br>Words: challenge, challenging, soooo, reccomendo, mokney",
          "<b>Topic 7</b><br>Words: squooshed, challenge, challenging, ver, pleased",
          "<b>Topic 7</b><br>Words: sophisticatioadawdw, awd, difficeurewlt, challenge, gift",
          "<b>Topic 7</b><br>Words: daily, challenge, affect, regret, satisfy",
          "<b>Topic 7</b><br>Words: littt, challenge, lul, opinon, hungry",
          "<b>Topic 7</b><br>Words: grasp, timing, hop, ago, challenge",
          "<b>Topic 7</b><br>Words: challenge, grapchical, aaaaaarrrrghhhh, challenging, mutant",
          "<b>Topic 7</b><br>Words: challenge, challenging, haaard, pastime, awesomely",
          "<b>Topic 7</b><br>Words: challenge, aaaaaaaaaaaaaaaaaaaaaaaaaaaaaaaaaaaaaaaaaaaaaaaaaaaaaaaaaaaaaahhhhhhhhhhhhhhhhhhhhhhhhhhhhhhhhhhhhhhhhhhhhhh, aaaaaaaaaaaaaaaaaaaaaaaaaaaaaaaaahhhhhhhhhhhhhhhhhhhhhhhhhhhhhhhhhhhhhhhhhhhhhhhhhhhhhhhh, legendary, welcomed",
          "<b>Topic 7</b><br>Words: challenge, finnished, enimies, challenging, gratify",
          "<b>Topic 7</b><br>Words: challenge, challenging, differently, generally, overcome",
          "<b>Topic 7</b><br>Words: challenge, supercell, everdale, peacefully, obtuse",
          "<b>Topic 7</b><br>Words: extreme, numerous, challenge, ability, amazing",
          "<b>Topic 7</b><br>Words: stressing, memed, challenge, eh, research",
          "<b>Topic 7</b><br>Words: scrabble, challenged, ame, certify, fulfil",
          "<b>Topic 7</b><br>Words: understnad, ounce, challenge, buggy, accomplish",
          "<b>Topic 7</b><br>Words: challengeing, bid, yo, challenge, challenging"
         ],
         "marker": {
          "color": "#E69F00"
         },
         "mode": "lines",
         "name": "7_challenge_challenging_fun_artifical",
         "type": "scatter",
         "x": [
          "2014-04-20T18:07:07.316999",
          "2014-11-10T19:13:09.150000",
          "2015-05-29T20:17:53.300000",
          "2015-12-15T21:22:37.449999",
          "2016-07-02T22:27:21.600000",
          "2017-01-18T23:32:05.750000",
          "2017-08-07T00:36:49.900000",
          "2018-02-23T01:41:34.049999",
          "2018-09-11T02:46:18.200000",
          "2019-03-30T03:51:02.350000",
          "2019-10-16T04:55:46.500000",
          "2020-05-03T06:00:30.649999",
          "2020-11-19T07:05:14.800000",
          "2021-06-07T08:09:58.950000",
          "2021-12-24T09:14:43.100000",
          "2022-07-12T10:19:27.249999",
          "2023-01-28T11:24:11.400000",
          "2023-08-16T12:28:55.550000",
          "2024-03-03T13:33:39.700000",
          "2024-09-19T14:38:23.849999"
         ],
         "y": [
          85,
          41,
          16,
          19,
          9,
          9,
          4,
          10,
          3,
          14,
          29,
          24,
          11,
          14,
          13,
          4,
          5,
          8,
          7,
          4
         ]
        },
        {
         "hoverinfo": "text",
         "hovertext": [
          "<b>Topic 8</b><br>Words: sun, praise, blah, sunlight, sunny",
          "<b>Topic 8</b><br>Words: sun, praise, sunlight, magnificent, fell",
          "<b>Topic 8</b><br>Words: sun, praise, biatch, fucking, blah",
          "<b>Topic 8</b><br>Words: sun, praise, energy, goty, addict",
          "<b>Topic 8</b><br>Words: sun, praise, hole, blah, sunlight",
          "<b>Topic 8</b><br>Words: sun, praise, sunny, blah, sunlight",
          "<b>Topic 8</b><br>Words: sun, praise, consume, wary, therefore",
          "<b>Topic 8</b><br>Words: sun, blah, praise, meme, tongue",
          "<b>Topic 8</b><br>Words: sun, praise, dark, blah, even",
          "<b>Topic 8</b><br>Words: sun, praise, uncle, creepy, glory",
          "<b>Topic 8</b><br>Words: sun, praise, mother, importantly, laugh",
          "<b>Topic 8</b><br>Words: sun, praise, paise, blah, sunlight",
          "<b>Topic 8</b><br>Words: sun, praise, light, suck, beautiful",
          "<b>Topic 8</b><br>Words: sun, praise, ok, pain, complete",
          "<b>Topic 8</b><br>Words: sun, praise, completion, difficulty, blah",
          "<b>Topic 8</b><br>Words: sun, praise, server, back, blah",
          "<b>Topic 8</b><br>Words: sun, praise, blah, sunlight, sunny",
          "<b>Topic 8</b><br>Words: sun, praise, introspection, salute, moon",
          "<b>Topic 8</b><br>Words: sun, praise, hoorah, swallow, da",
          "<b>Topic 8</b><br>Words: sun, praise, persists, luv, pray"
         ],
         "marker": {
          "color": "#56B4E9"
         },
         "mode": "lines",
         "name": "8_sun_praise_blah_sunlight",
         "type": "scatter",
         "x": [
          "2014-04-20T18:07:07.316999",
          "2014-11-10T19:13:09.150000",
          "2015-05-29T20:17:53.300000",
          "2015-12-15T21:22:37.449999",
          "2016-07-02T22:27:21.600000",
          "2017-01-18T23:32:05.750000",
          "2017-08-07T00:36:49.900000",
          "2018-02-23T01:41:34.049999",
          "2018-09-11T02:46:18.200000",
          "2019-03-30T03:51:02.350000",
          "2019-10-16T04:55:46.500000",
          "2020-05-03T06:00:30.649999",
          "2020-11-19T07:05:14.800000",
          "2021-06-07T08:09:58.950000",
          "2021-12-24T09:14:43.100000",
          "2022-07-12T10:19:27.249999",
          "2023-01-28T11:24:11.400000",
          "2023-08-16T12:28:55.550000",
          "2024-03-03T13:33:39.700000",
          "2024-09-19T14:38:23.849999"
         ],
         "y": [
          121,
          23,
          14,
          17,
          18,
          12,
          11,
          5,
          5,
          8,
          12,
          10,
          9,
          16,
          9,
          5,
          4,
          10,
          9,
          9
         ]
        },
        {
         "hoverinfo": "text",
         "hovertext": [
          "<b>Topic 9</b><br>Words: hard, harder, nipple, dam, absurdly",
          "<b>Topic 9</b><br>Words: hard, utiful, pudding, furious, sould",
          "<b>Topic 9</b><br>Words: harder, ememies, hard, fofg, diffculty",
          "<b>Topic 9</b><br>Words: hard, rps, ranch, hd, photo",
          "<b>Topic 9</b><br>Words: dwayne, algebra, johnson, chinese, hard",
          "<b>Topic 9</b><br>Words: goddamn, hard, lol, imo, weird",
          "<b>Topic 9</b><br>Words: ddd, exam, unpredictable, following, hard",
          "<b>Topic 9</b><br>Words: vastly, hd, kinda, hard, everyone",
          "<b>Topic 9</b><br>Words: mackrel, labor, kappa, hard, parent",
          "<b>Topic 9</b><br>Words: boses, positevely, sasha, crunchy, hard",
          "<b>Topic 9</b><br>Words: hard, iz, hdp, dawg, wah",
          "<b>Topic 9</b><br>Words: hard, preggers, mahhh, maaah, gawwwd",
          "<b>Topic 9</b><br>Words: peen, hard, crunchy, elderly, crunch",
          "<b>Topic 9</b><br>Words: hard, kindergarden, comback, jeffrey, epstein",
          "<b>Topic 9</b><br>Words: bail, mush, sooo, weirdly, hard",
          "<b>Topic 9</b><br>Words: tempt, geometry, dash, hard, rough",
          "<b>Topic 9</b><br>Words: unpurchasable, plis, softs, hard, dumb",
          "<b>Topic 9</b><br>Words: softs, prove, harder, possibly, hard",
          "<b>Topic 9</b><br>Words: fraudizaki, sans, unbelievably, hard, cook",
          "<b>Topic 9</b><br>Words: softs, objectively, hard, yeah, actually"
         ],
         "marker": {
          "color": "#009E73"
         },
         "mode": "lines",
         "name": "9_hard_harder_softs_easy",
         "type": "scatter",
         "x": [
          "2014-04-20T18:07:07.316999",
          "2014-11-10T19:13:09.150000",
          "2015-05-29T20:17:53.300000",
          "2015-12-15T21:22:37.449999",
          "2016-07-02T22:27:21.600000",
          "2017-01-18T23:32:05.750000",
          "2017-08-07T00:36:49.900000",
          "2018-02-23T01:41:34.049999",
          "2018-09-11T02:46:18.200000",
          "2019-03-30T03:51:02.350000",
          "2019-10-16T04:55:46.500000",
          "2020-05-03T06:00:30.649999",
          "2020-11-19T07:05:14.800000",
          "2021-06-07T08:09:58.950000",
          "2021-12-24T09:14:43.100000",
          "2022-07-12T10:19:27.249999",
          "2023-01-28T11:24:11.400000",
          "2023-08-16T12:28:55.550000",
          "2024-03-03T13:33:39.700000",
          "2024-09-19T14:38:23.849999"
         ],
         "y": [
          72,
          23,
          19,
          21,
          11,
          7,
          7,
          5,
          10,
          15,
          22,
          20,
          21,
          20,
          10,
          6,
          9,
          8,
          11,
          6
         ]
        },
        {
         "hoverinfo": "text",
         "hovertext": [
          "<b>Topic 10</b><br>Words: great, fking, greattttt, greatttttt, outta",
          "<b>Topic 10</b><br>Words: great, fking, greattttt, greatttttt, outta",
          "<b>Topic 10</b><br>Words: great, fking, greattttt, greatttttt, outta",
          "<b>Topic 10</b><br>Words: great, fking, greattttt, greatttttt, outta",
          "<b>Topic 10</b><br>Words: great, fking, greattttt, greatttttt, outta",
          "<b>Topic 10</b><br>Words: great, fking, greattttt, greatttttt, outta",
          "<b>Topic 10</b><br>Words: great, fking, greattttt, greatttttt, outta",
          "<b>Topic 10</b><br>Words: great, fking, greattttt, greatttttt, outta",
          "<b>Topic 10</b><br>Words: great, fking, greattttt, greatttttt, outta",
          "<b>Topic 10</b><br>Words: great, fking, greattttt, greatttttt, outta",
          "<b>Topic 10</b><br>Words: great, greattttt, greatttttt, outta, fking",
          "<b>Topic 10</b><br>Words: great, fking, greattttt, greatttttt, outta",
          "<b>Topic 10</b><br>Words: great, fking, greattttt, greatttttt, outta",
          "<b>Topic 10</b><br>Words: great, fking, greattttt, greatttttt, outta",
          "<b>Topic 10</b><br>Words: great, fking, greattttt, greatttttt, outta",
          "<b>Topic 10</b><br>Words: great, fking, greattttt, greatttttt, outta",
          "<b>Topic 10</b><br>Words: great, fking, greattttt, greatttttt, outta",
          "<b>Topic 10</b><br>Words: great, fking, greattttt, greatttttt, outta",
          "<b>Topic 10</b><br>Words: great, wonderful, fking, greattttt, greatttttt",
          "<b>Topic 10</b><br>Words: great, fking, greattttt, greatttttt, outta"
         ],
         "marker": {
          "color": "#F0E442"
         },
         "mode": "lines",
         "name": "10_great_fking_greatttttt_greattttt",
         "type": "scatter",
         "x": [
          "2014-04-20T18:07:07.316999",
          "2014-11-10T19:13:09.150000",
          "2015-05-29T20:17:53.300000",
          "2015-12-15T21:22:37.449999",
          "2016-07-02T22:27:21.600000",
          "2017-01-18T23:32:05.750000",
          "2017-08-07T00:36:49.900000",
          "2018-02-23T01:41:34.049999",
          "2018-09-11T02:46:18.200000",
          "2019-03-30T03:51:02.350000",
          "2019-10-16T04:55:46.500000",
          "2020-05-03T06:00:30.649999",
          "2020-11-19T07:05:14.800000",
          "2021-06-07T08:09:58.950000",
          "2021-12-24T09:14:43.100000",
          "2022-07-12T10:19:27.249999",
          "2023-01-28T11:24:11.400000",
          "2023-08-16T12:28:55.550000",
          "2024-03-03T13:33:39.700000",
          "2024-09-19T14:38:23.849999"
         ],
         "y": [
          40,
          15,
          9,
          10,
          5,
          12,
          9,
          3,
          4,
          14,
          28,
          19,
          24,
          21,
          18,
          14,
          10,
          21,
          9,
          12
         ]
        },
        {
         "hoverinfo": "text",
         "hovertext": [
          "<b>Topic 11</b><br>Words: die, zz, willl, tim, slug",
          "<b>Topic 11</b><br>Words: die, sometimes, ha, zz, finna",
          "<b>Topic 11</b><br>Words: die, lie, yeah, ha, zz",
          "<b>Topic 11</b><br>Words: die, sometimes, ha, zz, finna",
          "<b>Topic 11</b><br>Words: die, oh, ha, zz, finna",
          "<b>Topic 11</b><br>Words: die, ha, zz, finna, willl",
          "<b>Topic 11</b><br>Words: die, ha, zz, finna, willl",
          "<b>Topic 11</b><br>Words: die, sure, ha, zz, finna",
          "<b>Topic 11</b><br>Words: die, ha, zz, finna, willl",
          "<b>Topic 11</b><br>Words: die, ha, zz, finna, willl",
          "<b>Topic 11</b><br>Words: die, ha, nerd, ah, thats",
          "<b>Topic 11</b><br>Words: finna, die, ha, zz, willl",
          "<b>Topic 11</b><br>Words: die, didnt, ha, zz, finna",
          "<b>Topic 11</b><br>Words: die, son, must, ha, zz",
          "<b>Topic 11</b><br>Words: die, yes, ha, zz, finna",
          "<b>Topic 11</b><br>Words: die, ha, zz, finna, willl",
          "<b>Topic 11</b><br>Words: yay, die, ha, zz, finna",
          "<b>Topic 11</b><br>Words: die, ha, zz, finna, willl",
          "<b>Topic 11</b><br>Words: die, ha, zz, finna, willl",
          "<b>Topic 11</b><br>Words: die, ha, zz, finna, willl"
         ],
         "marker": {
          "color": "#D55E00"
         },
         "mode": "lines",
         "name": "11_die_ha_zz_finna",
         "type": "scatter",
         "x": [
          "2014-04-20T18:07:07.316999",
          "2014-11-10T19:13:09.150000",
          "2015-05-29T20:17:53.300000",
          "2015-12-15T21:22:37.449999",
          "2016-07-02T22:27:21.600000",
          "2017-01-18T23:32:05.750000",
          "2017-08-07T00:36:49.900000",
          "2018-02-23T01:41:34.049999",
          "2018-09-11T02:46:18.200000",
          "2019-03-30T03:51:02.350000",
          "2019-10-16T04:55:46.500000",
          "2020-05-03T06:00:30.649999",
          "2020-11-19T07:05:14.800000",
          "2021-06-07T08:09:58.950000",
          "2021-12-24T09:14:43.100000",
          "2022-07-12T10:19:27.249999",
          "2023-01-28T11:24:11.400000",
          "2023-08-16T12:28:55.550000",
          "2024-03-03T13:33:39.700000",
          "2024-09-19T14:38:23.849999"
         ],
         "y": [
          77,
          23,
          13,
          24,
          16,
          14,
          11,
          6,
          7,
          11,
          15,
          12,
          10,
          10,
          9,
          9,
          4,
          7,
          3,
          4
         ]
        },
        {
         "hoverinfo": "text",
         "hovertext": [
          "<b>Topic 12</b><br>Words: pc, console, xbox, resolution, version",
          "<b>Topic 12</b><br>Words: pc, console, minimum, crash, version",
          "<b>Topic 12</b><br>Words: pc, fps, card, framerate, minimum",
          "<b>Topic 12</b><br>Words: pc, computer, xbox, card, laptop",
          "<b>Topic 12</b><br>Words: dscm, desighed, chinses, chinises, laptop",
          "<b>Topic 12</b><br>Words: preeeeeety, booting, pc, xboxone, macbook",
          "<b>Topic 12</b><br>Words: gb, spec, os, ata, sandisk",
          "<b>Topic 12</b><br>Words: evironments, soooooooo, pentium, gt, pleased",
          "<b>Topic 12</b><br>Words: invanded, laptop, becuz, optimized, spec",
          "<b>Topic 12</b><br>Words: device, xbox, pc, maxes, manager",
          "<b>Topic 12</b><br>Words: pc, ubuntu, fond, hd, fibre",
          "<b>Topic 12</b><br>Words: aweare, aweassome, elementary, pc, xbox",
          "<b>Topic 12</b><br>Words: laptop, pc, gb, ram, xbox",
          "<b>Topic 12</b><br>Words: xbox, pc, laptop, vram, suporrt",
          "<b>Topic 12</b><br>Words: aghhh, pc, sadge, broke, nonstop",
          "<b>Topic 12</b><br>Words: fullcreen, utter, hundereds, pc, amass",
          "<b>Topic 12</b><br>Words: log, xbox, potato, clunky, platform",
          "<b>Topic 12</b><br>Words: xbox, hundred, another, put, black",
          "<b>Topic 12</b><br>Words: fallback, godpiece, fcking, pc, implementation",
          "<b>Topic 12</b><br>Words: minimize, monitor, pc, fullscreen, xbox"
         ],
         "marker": {
          "color": "#0072B2"
         },
         "mode": "lines",
         "name": "12_pc_xbox_laptop_console",
         "type": "scatter",
         "x": [
          "2014-04-20T18:07:07.316999",
          "2014-11-10T19:13:09.150000",
          "2015-05-29T20:17:53.300000",
          "2015-12-15T21:22:37.449999",
          "2016-07-02T22:27:21.600000",
          "2017-01-18T23:32:05.750000",
          "2017-08-07T00:36:49.900000",
          "2018-02-23T01:41:34.049999",
          "2018-09-11T02:46:18.200000",
          "2019-03-30T03:51:02.350000",
          "2019-10-16T04:55:46.500000",
          "2020-05-03T06:00:30.649999",
          "2020-11-19T07:05:14.800000",
          "2021-06-07T08:09:58.950000",
          "2021-12-24T09:14:43.100000",
          "2022-07-12T10:19:27.249999",
          "2023-01-28T11:24:11.400000",
          "2023-08-16T12:28:55.550000",
          "2024-03-03T13:33:39.700000",
          "2024-09-19T14:38:23.849999"
         ],
         "y": [
          76,
          21,
          18,
          18,
          6,
          9,
          8,
          3,
          5,
          9,
          13,
          13,
          13,
          20,
          8,
          6,
          5,
          1,
          5,
          14
         ]
        },
        {
         "hoverinfo": "text",
         "hovertext": [
          "<b>Topic 13</b><br>Words: fun, pant, crazy, ive, cassual",
          "<b>Topic 13</b><br>Words: gritty, fun, troy, cassual, fung",
          "<b>Topic 13</b><br>Words: magical, fun, troy, cassual, fung",
          "<b>Topic 13</b><br>Words: fun, troy, cassual, fung, ha",
          "<b>Topic 13</b><br>Words: fun, troy, cassual, fung, ha",
          "<b>Topic 13</b><br>Words: fun, nutshell, haha, last, fung",
          "<b>Topic 13</b><br>Words: fun, troy, cassual, fung, ha",
          "<b>Topic 13</b><br>Words: fun, troy, cassual, fung, ha",
          "<b>Topic 13</b><br>Words: fun, sound, cassual, fung, troy",
          "<b>Topic 13</b><br>Words: fun, funnn, troy, cassual, fung",
          "<b>Topic 13</b><br>Words: fun, ha, popcorn, food, boy",
          "<b>Topic 13</b><br>Words: fun, troy, stuff, work, cassual",
          "<b>Topic 13</b><br>Words: fun, fung, another, always, cassual",
          "<b>Topic 13</b><br>Words: fun, scary, work, cassual, troy",
          "<b>Topic 13</b><br>Words: fun, even, cassual, fung, troy",
          "<b>Topic 13</b><br>Words: fun, troy, cassual, fung, ha",
          "<b>Topic 13</b><br>Words: fun, abuse, stupid, mostly, fair",
          "<b>Topic 13</b><br>Words: fun, cassual, spambush, scuffed, hope",
          "<b>Topic 13</b><br>Words: fun, hehe, troy, cassual, fung"
         ],
         "marker": {
          "color": "#CC79A7"
         },
         "mode": "lines",
         "name": "13_fun_cassual_troy_fung",
         "type": "scatter",
         "x": [
          "2014-04-20T18:07:07.316999",
          "2014-11-10T19:13:09.150000",
          "2015-05-29T20:17:53.300000",
          "2015-12-15T21:22:37.449999",
          "2016-07-02T22:27:21.600000",
          "2017-01-18T23:32:05.750000",
          "2017-08-07T00:36:49.900000",
          "2018-09-11T02:46:18.200000",
          "2019-03-30T03:51:02.350000",
          "2019-10-16T04:55:46.500000",
          "2020-05-03T06:00:30.649999",
          "2020-11-19T07:05:14.800000",
          "2021-06-07T08:09:58.950000",
          "2021-12-24T09:14:43.100000",
          "2022-07-12T10:19:27.249999",
          "2023-01-28T11:24:11.400000",
          "2023-08-16T12:28:55.550000",
          "2024-03-03T13:33:39.700000",
          "2024-09-19T14:38:23.849999"
         ],
         "y": [
          13,
          3,
          3,
          3,
          2,
          8,
          3,
          4,
          11,
          22,
          21,
          28,
          29,
          17,
          11,
          13,
          15,
          22,
          18
         ]
        },
        {
         "hoverinfo": "text",
         "hovertext": [
          "<b>Topic 14</b><br>Words: nice, niceeeeeeeeeee, yi, yes, yeah",
          "<b>Topic 14</b><br>Words: nice, yeah, yes, niceeeeeeeeeee, yi",
          "<b>Topic 14</b><br>Words: nice, niceeeeeeeeeee, yi, yes, yeah",
          "<b>Topic 14</b><br>Words: nice, niceeeeeeeeeee, yi, yes, yeah",
          "<b>Topic 14</b><br>Words: nice, niceeeeeeeeeee, yi, yes, yeah",
          "<b>Topic 14</b><br>Words: nice, niceeeeeeeeeee, yi, yes, yeah",
          "<b>Topic 14</b><br>Words: nice, niceeeeeeeeeee, yi, yes, yeah",
          "<b>Topic 14</b><br>Words: nice, niceeeeeeeeeee, yi, yes, yeah",
          "<b>Topic 14</b><br>Words: nice, niceeeeeeeeeee, yi, yes, yeah",
          "<b>Topic 14</b><br>Words: nice, yi, niceeeeeeeeeee, yes, yeah",
          "<b>Topic 14</b><br>Words: nice, niceeeeeeeeeee, yi, kill, yes",
          "<b>Topic 14</b><br>Words: nice, niceeeeeeeeeee, yi, yes, yeah",
          "<b>Topic 14</b><br>Words: nice, niceeeeeeeeeee, yes, yi, yeah",
          "<b>Topic 14</b><br>Words: nice, niceeeeeeeeeee, yi, yes, yeah",
          "<b>Topic 14</b><br>Words: nice, niceeeeeeeeeee, yi, yes, yeah",
          "<b>Topic 14</b><br>Words: nice, niceeeeeeeeeee, yi, yes, yeah",
          "<b>Topic 14</b><br>Words: nice, niceeeeeeeeeee, yi, yes, yeah",
          "<b>Topic 14</b><br>Words: nice, niceeeeeeeeeee, yi, yes, yeah",
          "<b>Topic 14</b><br>Words: nice, niceeeeeeeeeee, yi, yes, yeah",
          "<b>Topic 14</b><br>Words: nice, niceeeeeeeeeee, yi, yes, yeah"
         ],
         "marker": {
          "color": "#E69F00"
         },
         "mode": "lines",
         "name": "14_nice_niceeeeeeeeeee_yi_yes",
         "type": "scatter",
         "x": [
          "2014-04-20T18:07:07.316999",
          "2014-11-10T19:13:09.150000",
          "2015-05-29T20:17:53.300000",
          "2015-12-15T21:22:37.449999",
          "2016-07-02T22:27:21.600000",
          "2017-01-18T23:32:05.750000",
          "2017-08-07T00:36:49.900000",
          "2018-02-23T01:41:34.049999",
          "2018-09-11T02:46:18.200000",
          "2019-03-30T03:51:02.350000",
          "2019-10-16T04:55:46.500000",
          "2020-05-03T06:00:30.649999",
          "2020-11-19T07:05:14.800000",
          "2021-06-07T08:09:58.950000",
          "2021-12-24T09:14:43.100000",
          "2022-07-12T10:19:27.249999",
          "2023-01-28T11:24:11.400000",
          "2023-08-16T12:28:55.550000",
          "2024-03-03T13:33:39.700000",
          "2024-09-19T14:38:23.849999"
         ],
         "y": [
          7,
          6,
          2,
          2,
          2,
          3,
          5,
          9,
          4,
          17,
          24,
          29,
          23,
          26,
          23,
          8,
          13,
          13,
          9,
          8
         ]
        }
       ],
       "layout": {
        "height": 450,
        "hoverlabel": {
         "bgcolor": "white",
         "font": {
          "family": "Rockwell",
          "size": 16
         }
        },
        "legend": {
         "title": {
          "text": "<b>Global Topic Representation"
         }
        },
        "template": {
         "data": {
          "bar": [
           {
            "error_x": {
             "color": "rgb(36,36,36)"
            },
            "error_y": {
             "color": "rgb(36,36,36)"
            },
            "marker": {
             "line": {
              "color": "white",
              "width": 0.5
             },
             "pattern": {
              "fillmode": "overlay",
              "size": 10,
              "solidity": 0.2
             }
            },
            "type": "bar"
           }
          ],
          "barpolar": [
           {
            "marker": {
             "line": {
              "color": "white",
              "width": 0.5
             },
             "pattern": {
              "fillmode": "overlay",
              "size": 10,
              "solidity": 0.2
             }
            },
            "type": "barpolar"
           }
          ],
          "carpet": [
           {
            "aaxis": {
             "endlinecolor": "rgb(36,36,36)",
             "gridcolor": "white",
             "linecolor": "white",
             "minorgridcolor": "white",
             "startlinecolor": "rgb(36,36,36)"
            },
            "baxis": {
             "endlinecolor": "rgb(36,36,36)",
             "gridcolor": "white",
             "linecolor": "white",
             "minorgridcolor": "white",
             "startlinecolor": "rgb(36,36,36)"
            },
            "type": "carpet"
           }
          ],
          "choropleth": [
           {
            "colorbar": {
             "outlinewidth": 1,
             "tickcolor": "rgb(36,36,36)",
             "ticks": "outside"
            },
            "type": "choropleth"
           }
          ],
          "contour": [
           {
            "colorbar": {
             "outlinewidth": 1,
             "tickcolor": "rgb(36,36,36)",
             "ticks": "outside"
            },
            "colorscale": [
             [
              0,
              "#440154"
             ],
             [
              0.1111111111111111,
              "#482878"
             ],
             [
              0.2222222222222222,
              "#3e4989"
             ],
             [
              0.3333333333333333,
              "#31688e"
             ],
             [
              0.4444444444444444,
              "#26828e"
             ],
             [
              0.5555555555555556,
              "#1f9e89"
             ],
             [
              0.6666666666666666,
              "#35b779"
             ],
             [
              0.7777777777777778,
              "#6ece58"
             ],
             [
              0.8888888888888888,
              "#b5de2b"
             ],
             [
              1,
              "#fde725"
             ]
            ],
            "type": "contour"
           }
          ],
          "contourcarpet": [
           {
            "colorbar": {
             "outlinewidth": 1,
             "tickcolor": "rgb(36,36,36)",
             "ticks": "outside"
            },
            "type": "contourcarpet"
           }
          ],
          "heatmap": [
           {
            "colorbar": {
             "outlinewidth": 1,
             "tickcolor": "rgb(36,36,36)",
             "ticks": "outside"
            },
            "colorscale": [
             [
              0,
              "#440154"
             ],
             [
              0.1111111111111111,
              "#482878"
             ],
             [
              0.2222222222222222,
              "#3e4989"
             ],
             [
              0.3333333333333333,
              "#31688e"
             ],
             [
              0.4444444444444444,
              "#26828e"
             ],
             [
              0.5555555555555556,
              "#1f9e89"
             ],
             [
              0.6666666666666666,
              "#35b779"
             ],
             [
              0.7777777777777778,
              "#6ece58"
             ],
             [
              0.8888888888888888,
              "#b5de2b"
             ],
             [
              1,
              "#fde725"
             ]
            ],
            "type": "heatmap"
           }
          ],
          "heatmapgl": [
           {
            "colorbar": {
             "outlinewidth": 1,
             "tickcolor": "rgb(36,36,36)",
             "ticks": "outside"
            },
            "colorscale": [
             [
              0,
              "#440154"
             ],
             [
              0.1111111111111111,
              "#482878"
             ],
             [
              0.2222222222222222,
              "#3e4989"
             ],
             [
              0.3333333333333333,
              "#31688e"
             ],
             [
              0.4444444444444444,
              "#26828e"
             ],
             [
              0.5555555555555556,
              "#1f9e89"
             ],
             [
              0.6666666666666666,
              "#35b779"
             ],
             [
              0.7777777777777778,
              "#6ece58"
             ],
             [
              0.8888888888888888,
              "#b5de2b"
             ],
             [
              1,
              "#fde725"
             ]
            ],
            "type": "heatmapgl"
           }
          ],
          "histogram": [
           {
            "marker": {
             "line": {
              "color": "white",
              "width": 0.6
             }
            },
            "type": "histogram"
           }
          ],
          "histogram2d": [
           {
            "colorbar": {
             "outlinewidth": 1,
             "tickcolor": "rgb(36,36,36)",
             "ticks": "outside"
            },
            "colorscale": [
             [
              0,
              "#440154"
             ],
             [
              0.1111111111111111,
              "#482878"
             ],
             [
              0.2222222222222222,
              "#3e4989"
             ],
             [
              0.3333333333333333,
              "#31688e"
             ],
             [
              0.4444444444444444,
              "#26828e"
             ],
             [
              0.5555555555555556,
              "#1f9e89"
             ],
             [
              0.6666666666666666,
              "#35b779"
             ],
             [
              0.7777777777777778,
              "#6ece58"
             ],
             [
              0.8888888888888888,
              "#b5de2b"
             ],
             [
              1,
              "#fde725"
             ]
            ],
            "type": "histogram2d"
           }
          ],
          "histogram2dcontour": [
           {
            "colorbar": {
             "outlinewidth": 1,
             "tickcolor": "rgb(36,36,36)",
             "ticks": "outside"
            },
            "colorscale": [
             [
              0,
              "#440154"
             ],
             [
              0.1111111111111111,
              "#482878"
             ],
             [
              0.2222222222222222,
              "#3e4989"
             ],
             [
              0.3333333333333333,
              "#31688e"
             ],
             [
              0.4444444444444444,
              "#26828e"
             ],
             [
              0.5555555555555556,
              "#1f9e89"
             ],
             [
              0.6666666666666666,
              "#35b779"
             ],
             [
              0.7777777777777778,
              "#6ece58"
             ],
             [
              0.8888888888888888,
              "#b5de2b"
             ],
             [
              1,
              "#fde725"
             ]
            ],
            "type": "histogram2dcontour"
           }
          ],
          "mesh3d": [
           {
            "colorbar": {
             "outlinewidth": 1,
             "tickcolor": "rgb(36,36,36)",
             "ticks": "outside"
            },
            "type": "mesh3d"
           }
          ],
          "parcoords": [
           {
            "line": {
             "colorbar": {
              "outlinewidth": 1,
              "tickcolor": "rgb(36,36,36)",
              "ticks": "outside"
             }
            },
            "type": "parcoords"
           }
          ],
          "pie": [
           {
            "automargin": true,
            "type": "pie"
           }
          ],
          "scatter": [
           {
            "fillpattern": {
             "fillmode": "overlay",
             "size": 10,
             "solidity": 0.2
            },
            "type": "scatter"
           }
          ],
          "scatter3d": [
           {
            "line": {
             "colorbar": {
              "outlinewidth": 1,
              "tickcolor": "rgb(36,36,36)",
              "ticks": "outside"
             }
            },
            "marker": {
             "colorbar": {
              "outlinewidth": 1,
              "tickcolor": "rgb(36,36,36)",
              "ticks": "outside"
             }
            },
            "type": "scatter3d"
           }
          ],
          "scattercarpet": [
           {
            "marker": {
             "colorbar": {
              "outlinewidth": 1,
              "tickcolor": "rgb(36,36,36)",
              "ticks": "outside"
             }
            },
            "type": "scattercarpet"
           }
          ],
          "scattergeo": [
           {
            "marker": {
             "colorbar": {
              "outlinewidth": 1,
              "tickcolor": "rgb(36,36,36)",
              "ticks": "outside"
             }
            },
            "type": "scattergeo"
           }
          ],
          "scattergl": [
           {
            "marker": {
             "colorbar": {
              "outlinewidth": 1,
              "tickcolor": "rgb(36,36,36)",
              "ticks": "outside"
             }
            },
            "type": "scattergl"
           }
          ],
          "scattermapbox": [
           {
            "marker": {
             "colorbar": {
              "outlinewidth": 1,
              "tickcolor": "rgb(36,36,36)",
              "ticks": "outside"
             }
            },
            "type": "scattermapbox"
           }
          ],
          "scatterpolar": [
           {
            "marker": {
             "colorbar": {
              "outlinewidth": 1,
              "tickcolor": "rgb(36,36,36)",
              "ticks": "outside"
             }
            },
            "type": "scatterpolar"
           }
          ],
          "scatterpolargl": [
           {
            "marker": {
             "colorbar": {
              "outlinewidth": 1,
              "tickcolor": "rgb(36,36,36)",
              "ticks": "outside"
             }
            },
            "type": "scatterpolargl"
           }
          ],
          "scatterternary": [
           {
            "marker": {
             "colorbar": {
              "outlinewidth": 1,
              "tickcolor": "rgb(36,36,36)",
              "ticks": "outside"
             }
            },
            "type": "scatterternary"
           }
          ],
          "surface": [
           {
            "colorbar": {
             "outlinewidth": 1,
             "tickcolor": "rgb(36,36,36)",
             "ticks": "outside"
            },
            "colorscale": [
             [
              0,
              "#440154"
             ],
             [
              0.1111111111111111,
              "#482878"
             ],
             [
              0.2222222222222222,
              "#3e4989"
             ],
             [
              0.3333333333333333,
              "#31688e"
             ],
             [
              0.4444444444444444,
              "#26828e"
             ],
             [
              0.5555555555555556,
              "#1f9e89"
             ],
             [
              0.6666666666666666,
              "#35b779"
             ],
             [
              0.7777777777777778,
              "#6ece58"
             ],
             [
              0.8888888888888888,
              "#b5de2b"
             ],
             [
              1,
              "#fde725"
             ]
            ],
            "type": "surface"
           }
          ],
          "table": [
           {
            "cells": {
             "fill": {
              "color": "rgb(237,237,237)"
             },
             "line": {
              "color": "white"
             }
            },
            "header": {
             "fill": {
              "color": "rgb(217,217,217)"
             },
             "line": {
              "color": "white"
             }
            },
            "type": "table"
           }
          ]
         },
         "layout": {
          "annotationdefaults": {
           "arrowhead": 0,
           "arrowwidth": 1
          },
          "autotypenumbers": "strict",
          "coloraxis": {
           "colorbar": {
            "outlinewidth": 1,
            "tickcolor": "rgb(36,36,36)",
            "ticks": "outside"
           }
          },
          "colorscale": {
           "diverging": [
            [
             0,
             "rgb(103,0,31)"
            ],
            [
             0.1,
             "rgb(178,24,43)"
            ],
            [
             0.2,
             "rgb(214,96,77)"
            ],
            [
             0.3,
             "rgb(244,165,130)"
            ],
            [
             0.4,
             "rgb(253,219,199)"
            ],
            [
             0.5,
             "rgb(247,247,247)"
            ],
            [
             0.6,
             "rgb(209,229,240)"
            ],
            [
             0.7,
             "rgb(146,197,222)"
            ],
            [
             0.8,
             "rgb(67,147,195)"
            ],
            [
             0.9,
             "rgb(33,102,172)"
            ],
            [
             1,
             "rgb(5,48,97)"
            ]
           ],
           "sequential": [
            [
             0,
             "#440154"
            ],
            [
             0.1111111111111111,
             "#482878"
            ],
            [
             0.2222222222222222,
             "#3e4989"
            ],
            [
             0.3333333333333333,
             "#31688e"
            ],
            [
             0.4444444444444444,
             "#26828e"
            ],
            [
             0.5555555555555556,
             "#1f9e89"
            ],
            [
             0.6666666666666666,
             "#35b779"
            ],
            [
             0.7777777777777778,
             "#6ece58"
            ],
            [
             0.8888888888888888,
             "#b5de2b"
            ],
            [
             1,
             "#fde725"
            ]
           ],
           "sequentialminus": [
            [
             0,
             "#440154"
            ],
            [
             0.1111111111111111,
             "#482878"
            ],
            [
             0.2222222222222222,
             "#3e4989"
            ],
            [
             0.3333333333333333,
             "#31688e"
            ],
            [
             0.4444444444444444,
             "#26828e"
            ],
            [
             0.5555555555555556,
             "#1f9e89"
            ],
            [
             0.6666666666666666,
             "#35b779"
            ],
            [
             0.7777777777777778,
             "#6ece58"
            ],
            [
             0.8888888888888888,
             "#b5de2b"
            ],
            [
             1,
             "#fde725"
            ]
           ]
          },
          "colorway": [
           "#1F77B4",
           "#FF7F0E",
           "#2CA02C",
           "#D62728",
           "#9467BD",
           "#8C564B",
           "#E377C2",
           "#7F7F7F",
           "#BCBD22",
           "#17BECF"
          ],
          "font": {
           "color": "rgb(36,36,36)"
          },
          "geo": {
           "bgcolor": "white",
           "lakecolor": "white",
           "landcolor": "white",
           "showlakes": true,
           "showland": true,
           "subunitcolor": "white"
          },
          "hoverlabel": {
           "align": "left"
          },
          "hovermode": "closest",
          "mapbox": {
           "style": "light"
          },
          "paper_bgcolor": "white",
          "plot_bgcolor": "white",
          "polar": {
           "angularaxis": {
            "gridcolor": "rgb(232,232,232)",
            "linecolor": "rgb(36,36,36)",
            "showgrid": false,
            "showline": true,
            "ticks": "outside"
           },
           "bgcolor": "white",
           "radialaxis": {
            "gridcolor": "rgb(232,232,232)",
            "linecolor": "rgb(36,36,36)",
            "showgrid": false,
            "showline": true,
            "ticks": "outside"
           }
          },
          "scene": {
           "xaxis": {
            "backgroundcolor": "white",
            "gridcolor": "rgb(232,232,232)",
            "gridwidth": 2,
            "linecolor": "rgb(36,36,36)",
            "showbackground": true,
            "showgrid": false,
            "showline": true,
            "ticks": "outside",
            "zeroline": false,
            "zerolinecolor": "rgb(36,36,36)"
           },
           "yaxis": {
            "backgroundcolor": "white",
            "gridcolor": "rgb(232,232,232)",
            "gridwidth": 2,
            "linecolor": "rgb(36,36,36)",
            "showbackground": true,
            "showgrid": false,
            "showline": true,
            "ticks": "outside",
            "zeroline": false,
            "zerolinecolor": "rgb(36,36,36)"
           },
           "zaxis": {
            "backgroundcolor": "white",
            "gridcolor": "rgb(232,232,232)",
            "gridwidth": 2,
            "linecolor": "rgb(36,36,36)",
            "showbackground": true,
            "showgrid": false,
            "showline": true,
            "ticks": "outside",
            "zeroline": false,
            "zerolinecolor": "rgb(36,36,36)"
           }
          },
          "shapedefaults": {
           "fillcolor": "black",
           "line": {
            "width": 0
           },
           "opacity": 0.3
          },
          "ternary": {
           "aaxis": {
            "gridcolor": "rgb(232,232,232)",
            "linecolor": "rgb(36,36,36)",
            "showgrid": false,
            "showline": true,
            "ticks": "outside"
           },
           "baxis": {
            "gridcolor": "rgb(232,232,232)",
            "linecolor": "rgb(36,36,36)",
            "showgrid": false,
            "showline": true,
            "ticks": "outside"
           },
           "bgcolor": "white",
           "caxis": {
            "gridcolor": "rgb(232,232,232)",
            "linecolor": "rgb(36,36,36)",
            "showgrid": false,
            "showline": true,
            "ticks": "outside"
           }
          },
          "title": {
           "x": 0.05
          },
          "xaxis": {
           "automargin": true,
           "gridcolor": "rgb(232,232,232)",
           "linecolor": "rgb(36,36,36)",
           "showgrid": false,
           "showline": true,
           "ticks": "outside",
           "title": {
            "standoff": 15
           },
           "zeroline": false,
           "zerolinecolor": "rgb(36,36,36)"
          },
          "yaxis": {
           "automargin": true,
           "gridcolor": "rgb(232,232,232)",
           "linecolor": "rgb(36,36,36)",
           "showgrid": false,
           "showline": true,
           "ticks": "outside",
           "title": {
            "standoff": 15
           },
           "zeroline": false,
           "zerolinecolor": "rgb(36,36,36)"
          }
         }
        },
        "title": {
         "font": {
          "color": "Black",
          "size": 22
         },
         "text": "<b>Topics over Time</b>",
         "x": 0.4,
         "xanchor": "center",
         "y": 0.95,
         "yanchor": "top"
        },
        "width": 1250,
        "xaxis": {
         "showgrid": true
        },
        "yaxis": {
         "showgrid": true,
         "title": {
          "text": "Frequency"
         }
        }
       }
      }
     },
     "metadata": {},
     "output_type": "display_data"
    }
   ],
   "source": [
    "pos_model.visualize_topics_over_time(pos_topics_over_time, top_n_topics=15)"
   ]
  },
  {
   "cell_type": "markdown",
   "metadata": {},
   "source": [
    "### Negative reviews:"
   ]
  },
  {
   "cell_type": "code",
   "execution_count": 13,
   "metadata": {},
   "outputs": [],
   "source": [
    "neg_model = BERTopic.load(\"models/bertopic_neg_model\")"
   ]
  },
  {
   "cell_type": "code",
   "execution_count": 14,
   "metadata": {},
   "outputs": [
    {
     "name": "stderr",
     "output_type": "stream",
     "text": [
      "20it [00:04,  4.47it/s]\n"
     ]
    }
   ],
   "source": [
    "neg_topics_over_time = neg_model.topics_over_time(neg_docs, neg_timestamps, nr_bins=20)"
   ]
  },
  {
   "cell_type": "code",
   "execution_count": 15,
   "metadata": {},
   "outputs": [
    {
     "data": {
      "application/vnd.plotly.v1+json": {
       "config": {
        "plotlyServerURL": "https://plot.ly"
       },
       "data": [
        {
         "hoverinfo": "text",
         "hovertext": [
          "<b>Topic 0</b><br>Words: pvp, player, weapon, one, level",
          "<b>Topic 0</b><br>Words: fight, time, weapon, pvp, one",
          "<b>Topic 0</b><br>Words: player, attack, enemy, difficulty, area",
          "<b>Topic 0</b><br>Words: enemy, area, make, weapon, sword",
          "<b>Topic 0</b><br>Words: area, player, enemy, one, attack",
          "<b>Topic 0</b><br>Words: player, attack, area, enemy, item",
          "<b>Topic 0</b><br>Words: enemy, area, feel, make, level",
          "<b>Topic 0</b><br>Words: enemy, attack, time, bos, player",
          "<b>Topic 0</b><br>Words: enemy, fight, hit, attack, get",
          "<b>Topic 0</b><br>Words: enemy, area, level, way, get",
          "<b>Topic 0</b><br>Words: enemy, area, player, bos, fight",
          "<b>Topic 0</b><br>Words: attack, enemy, boss, bos, area",
          "<b>Topic 0</b><br>Words: enemy, bos, fight, boss, area",
          "<b>Topic 0</b><br>Words: bos, enemy, area, fight, attack",
          "<b>Topic 0</b><br>Words: attack, enemy, area, player, bos",
          "<b>Topic 0</b><br>Words: enemy, boss, bos, player, time",
          "<b>Topic 0</b><br>Words: level, attack, enemy, bos, area",
          "<b>Topic 0</b><br>Words: bos, enemy, boss, fight, area",
          "<b>Topic 0</b><br>Words: tyler, creator, enemy, bos, area",
          "<b>Topic 0</b><br>Words: enemy, feel, level, area, player"
         ],
         "marker": {
          "color": "#E69F00"
         },
         "mode": "lines",
         "name": "0_enemy_area_bos_attack",
         "type": "scatter",
         "x": [
          "2014-04-20T22:58:39.521999",
          "2014-11-10T23:59:24.900000",
          "2015-05-30T00:58:58.800000",
          "2015-12-16T01:58:32.700000",
          "2016-07-03T02:58:06.600000",
          "2017-01-19T03:57:40.500000",
          "2017-08-07T04:57:14.400000",
          "2018-02-23T05:56:48.300000",
          "2018-09-11T06:56:22.200000",
          "2019-03-30T07:55:56.100000",
          "2019-10-16T08:55:30",
          "2020-05-03T09:55:03.900000",
          "2020-11-19T10:54:37.800000",
          "2021-06-07T11:54:11.700000",
          "2021-12-24T12:53:45.600000",
          "2022-07-12T13:53:19.500000",
          "2023-01-28T14:52:53.400000",
          "2023-08-16T15:52:27.300000",
          "2024-03-03T16:52:01.200000",
          "2024-09-19T17:51:35.100000"
         ],
         "y": [
          55,
          36,
          13,
          21,
          17,
          23,
          22,
          22,
          15,
          14,
          33,
          30,
          38,
          34,
          42,
          25,
          26,
          30,
          39,
          37
         ]
        },
        {
         "hoverinfo": "text",
         "hovertext": [
          "<b>Topic 1</b><br>Words: ahhhhhhhhhhhhhhhhhhhhhhhhhhhhhhhhhhhhhhhhhhhhhhhhhhhhhhhhhhhhhhhhhhhhhhhhhhhhhhhhhhhhhhhhhhhhhhhhhhhhhhhhhhhhhhhhhhhhhhhhhhhhhhhhhhhhhhhhhhhhhhhhhhhhhhhhhhhhhhhhhhhhhhhhhhhhhhhhhhhhhhhhhhhhhhhhhhhhhhhhhhhhhhhhhhhhhhhhhhhhhhhhhhhhhhhhhhhhhhhhhhhhhhhhhhhhhhhhhhhhhhhh, ky, werty, xddddddddddddddddddddddddddddddddddddddddddddddddddddddddddddddddddddddddddddddddddddddddddddddddddddddddddddddddddddddddddddddddddddddddddddddddddddddddddddddddddddddddddddddddddddddddddddddddddddddddddddddddddddddddddddddddddddddddddddddddddddddddddddddddddddddddddddddddddddddddddddddddddddddddddddddddddddddddddddddddddddddddddddddddddddddddddddddddddddddddddddddddddddddddddddddddddddddddddddddddddddddddddddddddddddddddddddddddddd, xy",
          "<b>Topic 1</b><br>Words: ahhhhhhhhhhhhhhhhhhhhhhhhhhhhhhhhhhhhhhhhhhhhhhhhhhhhhhhhhhhhhhhhhhhhhhhhhhhhhhhhhhhhhhhhhhhhhhhhhhhhhhhhhhhhhhhhhhhhhhhhhhhhhhhhhhhhhhhhhhhhhhhhhhhhhhhhhhhhhhhhhhhhhhhhhhhhhhhhhhhhhhhhhhhhhhhhhhhhhhhhhhhhhhhhhhhhhhhhhhhhhhhhhhhhhhhhhhhhhhhhhhhhhhhhhhhhhhhhhhhhhhhh, ky, werty, xddddddddddddddddddddddddddddddddddddddddddddddddddddddddddddddddddddddddddddddddddddddddddddddddddddddddddddddddddddddddddddddddddddddddddddddddddddddddddddddddddddddddddddddddddddddddddddddddddddddddddddddddddddddddddddddddddddddddddddddddddddddddddddddddddddddddddddddddddddddddddddddddddddddddddddddddddddddddddddddddddddddddddddddddddddddddddddddddddddddddddddddddddddddddddddddddddddddddddddddddddddddddddddddddddddddddddddddddddd, xy",
          "<b>Topic 1</b><br>Words: ahhhhhhhhhhhhhhhhhhhhhhhhhhhhhhhhhhhhhhhhhhhhhhhhhhhhhhhhhhhhhhhhhhhhhhhhhhhhhhhhhhhhhhhhhhhhhhhhhhhhhhhhhhhhhhhhhhhhhhhhhhhhhhhhhhhhhhhhhhhhhhhhhhhhhhhhhhhhhhhhhhhhhhhhhhhhhhhhhhhhhhhhhhhhhhhhhhhhhhhhhhhhhhhhhhhhhhhhhhhhhhhhhhhhhhhhhhhhhhhhhhhhhhhhhhhhhhhhhhhhhhhh, ky, werty, xddddddddddddddddddddddddddddddddddddddddddddddddddddddddddddddddddddddddddddddddddddddddddddddddddddddddddddddddddddddddddddddddddddddddddddddddddddddddddddddddddddddddddddddddddddddddddddddddddddddddddddddddddddddddddddddddddddddddddddddddddddddddddddddddddddddddddddddddddddddddddddddddddddddddddddddddddddddddddddddddddddddddddddddddddddddddddddddddddddddddddddddddddddddddddddddddddddddddddddddddddddddddddddddddddddddddddddddddddd, xy",
          "<b>Topic 1</b><br>Words: ahhhhhhhhhhhhhhhhhhhhhhhhhhhhhhhhhhhhhhhhhhhhhhhhhhhhhhhhhhhhhhhhhhhhhhhhhhhhhhhhhhhhhhhhhhhhhhhhhhhhhhhhhhhhhhhhhhhhhhhhhhhhhhhhhhhhhhhhhhhhhhhhhhhhhhhhhhhhhhhhhhhhhhhhhhhhhhhhhhhhhhhhhhhhhhhhhhhhhhhhhhhhhhhhhhhhhhhhhhhhhhhhhhhhhhhhhhhhhhhhhhhhhhhhhhhhhhhhhhhhhhhh, ky, werty, xddddddddddddddddddddddddddddddddddddddddddddddddddddddddddddddddddddddddddddddddddddddddddddddddddddddddddddddddddddddddddddddddddddddddddddddddddddddddddddddddddddddddddddddddddddddddddddddddddddddddddddddddddddddddddddddddddddddddddddddddddddddddddddddddddddddddddddddddddddddddddddddddddddddddddddddddddddddddddddddddddddddddddddddddddddddddddddddddddddddddddddddddddddddddddddddddddddddddddddddddddddddddddddddddddddddddddddddddddd, xy",
          "<b>Topic 1</b><br>Words: ahhhhhhhhhhhhhhhhhhhhhhhhhhhhhhhhhhhhhhhhhhhhhhhhhhhhhhhhhhhhhhhhhhhhhhhhhhhhhhhhhhhhhhhhhhhhhhhhhhhhhhhhhhhhhhhhhhhhhhhhhhhhhhhhhhhhhhhhhhhhhhhhhhhhhhhhhhhhhhhhhhhhhhhhhhhhhhhhhhhhhhhhhhhhhhhhhhhhhhhhhhhhhhhhhhhhhhhhhhhhhhhhhhhhhhhhhhhhhhhhhhhhhhhhhhhhhhhhhhhhhhhh, ky, werty, xddddddddddddddddddddddddddddddddddddddddddddddddddddddddddddddddddddddddddddddddddddddddddddddddddddddddddddddddddddddddddddddddddddddddddddddddddddddddddddddddddddddddddddddddddddddddddddddddddddddddddddddddddddddddddddddddddddddddddddddddddddddddddddddddddddddddddddddddddddddddddddddddddddddddddddddddddddddddddddddddddddddddddddddddddddddddddddddddddddddddddddddddddddddddddddddddddddddddddddddddddddddddddddddddddddddddddddddddddd, xy",
          "<b>Topic 1</b><br>Words: ahhhhhhhhhhhhhhhhhhhhhhhhhhhhhhhhhhhhhhhhhhhhhhhhhhhhhhhhhhhhhhhhhhhhhhhhhhhhhhhhhhhhhhhhhhhhhhhhhhhhhhhhhhhhhhhhhhhhhhhhhhhhhhhhhhhhhhhhhhhhhhhhhhhhhhhhhhhhhhhhhhhhhhhhhhhhhhhhhhhhhhhhhhhhhhhhhhhhhhhhhhhhhhhhhhhhhhhhhhhhhhhhhhhhhhhhhhhhhhhhhhhhhhhhhhhhhhhhhhhhhhhh, ky, werty, xddddddddddddddddddddddddddddddddddddddddddddddddddddddddddddddddddddddddddddddddddddddddddddddddddddddddddddddddddddddddddddddddddddddddddddddddddddddddddddddddddddddddddddddddddddddddddddddddddddddddddddddddddddddddddddddddddddddddddddddddddddddddddddddddddddddddddddddddddddddddddddddddddddddddddddddddddddddddddddddddddddddddddddddddddddddddddddddddddddddddddddddddddddddddddddddddddddddddddddddddddddddddddddddddddddddddddddddddddd, xy",
          "<b>Topic 1</b><br>Words: ahhhhhhhhhhhhhhhhhhhhhhhhhhhhhhhhhhhhhhhhhhhhhhhhhhhhhhhhhhhhhhhhhhhhhhhhhhhhhhhhhhhhhhhhhhhhhhhhhhhhhhhhhhhhhhhhhhhhhhhhhhhhhhhhhhhhhhhhhhhhhhhhhhhhhhhhhhhhhhhhhhhhhhhhhhhhhhhhhhhhhhhhhhhhhhhhhhhhhhhhhhhhhhhhhhhhhhhhhhhhhhhhhhhhhhhhhhhhhhhhhhhhhhhhhhhhhhhhhhhhhhhh, ky, werty, xddddddddddddddddddddddddddddddddddddddddddddddddddddddddddddddddddddddddddddddddddddddddddddddddddddddddddddddddddddddddddddddddddddddddddddddddddddddddddddddddddddddddddddddddddddddddddddddddddddddddddddddddddddddddddddddddddddddddddddddddddddddddddddddddddddddddddddddddddddddddddddddddddddddddddddddddddddddddddddddddddddddddddddddddddddddddddddddddddddddddddddddddddddddddddddddddddddddddddddddddddddddddddddddddddddddddddddddddddd, xy",
          "<b>Topic 1</b><br>Words: ahhhhhhhhhhhhhhhhhhhhhhhhhhhhhhhhhhhhhhhhhhhhhhhhhhhhhhhhhhhhhhhhhhhhhhhhhhhhhhhhhhhhhhhhhhhhhhhhhhhhhhhhhhhhhhhhhhhhhhhhhhhhhhhhhhhhhhhhhhhhhhhhhhhhhhhhhhhhhhhhhhhhhhhhhhhhhhhhhhhhhhhhhhhhhhhhhhhhhhhhhhhhhhhhhhhhhhhhhhhhhhhhhhhhhhhhhhhhhhhhhhhhhhhhhhhhhhhhhhhhhhhh, ky, werty, xddddddddddddddddddddddddddddddddddddddddddddddddddddddddddddddddddddddddddddddddddddddddddddddddddddddddddddddddddddddddddddddddddddddddddddddddddddddddddddddddddddddddddddddddddddddddddddddddddddddddddddddddddddddddddddddddddddddddddddddddddddddddddddddddddddddddddddddddddddddddddddddddddddddddddddddddddddddddddddddddddddddddddddddddddddddddddddddddddddddddddddddddddddddddddddddddddddddddddddddddddddddddddddddddddddddddddddddddddd, xy",
          "<b>Topic 1</b><br>Words: ahhhhhhhhhhhhhhhhhhhhhhhhhhhhhhhhhhhhhhhhhhhhhhhhhhhhhhhhhhhhhhhhhhhhhhhhhhhhhhhhhhhhhhhhhhhhhhhhhhhhhhhhhhhhhhhhhhhhhhhhhhhhhhhhhhhhhhhhhhhhhhhhhhhhhhhhhhhhhhhhhhhhhhhhhhhhhhhhhhhhhhhhhhhhhhhhhhhhhhhhhhhhhhhhhhhhhhhhhhhhhhhhhhhhhhhhhhhhhhhhhhhhhhhhhhhhhhhhhhhhhhhh, ky, werty, xddddddddddddddddddddddddddddddddddddddddddddddddddddddddddddddddddddddddddddddddddddddddddddddddddddddddddddddddddddddddddddddddddddddddddddddddddddddddddddddddddddddddddddddddddddddddddddddddddddddddddddddddddddddddddddddddddddddddddddddddddddddddddddddddddddddddddddddddddddddddddddddddddddddddddddddddddddddddddddddddddddddddddddddddddddddddddddddddddddddddddddddddddddddddddddddddddddddddddddddddddddddddddddddddddddddddddddddddddd, xy",
          "<b>Topic 1</b><br>Words: ahhhhhhhhhhhhhhhhhhhhhhhhhhhhhhhhhhhhhhhhhhhhhhhhhhhhhhhhhhhhhhhhhhhhhhhhhhhhhhhhhhhhhhhhhhhhhhhhhhhhhhhhhhhhhhhhhhhhhhhhhhhhhhhhhhhhhhhhhhhhhhhhhhhhhhhhhhhhhhhhhhhhhhhhhhhhhhhhhhhhhhhhhhhhhhhhhhhhhhhhhhhhhhhhhhhhhhhhhhhhhhhhhhhhhhhhhhhhhhhhhhhhhhhhhhhhhhhhhhhhhhhh, ky, werty, xddddddddddddddddddddddddddddddddddddddddddddddddddddddddddddddddddddddddddddddddddddddddddddddddddddddddddddddddddddddddddddddddddddddddddddddddddddddddddddddddddddddddddddddddddddddddddddddddddddddddddddddddddddddddddddddddddddddddddddddddddddddddddddddddddddddddddddddddddddddddddddddddddddddddddddddddddddddddddddddddddddddddddddddddddddddddddddddddddddddddddddddddddddddddddddddddddddddddddddddddddddddddddddddddddddddddddddddddddd, xy",
          "<b>Topic 1</b><br>Words: werty, ahhhhhhhhhhhhhhhhhhhhhhhhhhhhhhhhhhhhhhhhhhhhhhhhhhhhhhhhhhhhhhhhhhhhhhhhhhhhhhhhhhhhhhhhhhhhhhhhhhhhhhhhhhhhhhhhhhhhhhhhhhhhhhhhhhhhhhhhhhhhhhhhhhhhhhhhhhhhhhhhhhhhhhhhhhhhhhhhhhhhhhhhhhhhhhhhhhhhhhhhhhhhhhhhhhhhhhhhhhhhhhhhhhhhhhhhhhhhhhhhhhhhhhhhhhhhhhhhhhhhhhhh, ky, xddddddddddddddddddddddddddddddddddddddddddddddddddddddddddddddddddddddddddddddddddddddddddddddddddddddddddddddddddddddddddddddddddddddddddddddddddddddddddddddddddddddddddddddddddddddddddddddddddddddddddddddddddddddddddddddddddddddddddddddddddddddddddddddddddddddddddddddddddddddddddddddddddddddddddddddddddddddddddddddddddddddddddddddddddddddddddddddddddddddddddddddddddddddddddddddddddddddddddddddddddddddddddddddddddddddddddddddddddd, xy",
          "<b>Topic 1</b><br>Words: ahhhhhhhhhhhhhhhhhhhhhhhhhhhhhhhhhhhhhhhhhhhhhhhhhhhhhhhhhhhhhhhhhhhhhhhhhhhhhhhhhhhhhhhhhhhhhhhhhhhhhhhhhhhhhhhhhhhhhhhhhhhhhhhhhhhhhhhhhhhhhhhhhhhhhhhhhhhhhhhhhhhhhhhhhhhhhhhhhhhhhhhhhhhhhhhhhhhhhhhhhhhhhhhhhhhhhhhhhhhhhhhhhhhhhhhhhhhhhhhhhhhhhhhhhhhhhhhhhhhhhhhh, ky, werty, xddddddddddddddddddddddddddddddddddddddddddddddddddddddddddddddddddddddddddddddddddddddddddddddddddddddddddddddddddddddddddddddddddddddddddddddddddddddddddddddddddddddddddddddddddddddddddddddddddddddddddddddddddddddddddddddddddddddddddddddddddddddddddddddddddddddddddddddddddddddddddddddddddddddddddddddddddddddddddddddddddddddddddddddddddddddddddddddddddddddddddddddddddddddddddddddddddddddddddddddddddddddddddddddddddddddddddddddddddd, xy",
          "<b>Topic 1</b><br>Words: last, ahhhhhhhhhhhhhhhhhhhhhhhhhhhhhhhhhhhhhhhhhhhhhhhhhhhhhhhhhhhhhhhhhhhhhhhhhhhhhhhhhhhhhhhhhhhhhhhhhhhhhhhhhhhhhhhhhhhhhhhhhhhhhhhhhhhhhhhhhhhhhhhhhhhhhhhhhhhhhhhhhhhhhhhhhhhhhhhhhhhhhhhhhhhhhhhhhhhhhhhhhhhhhhhhhhhhhhhhhhhhhhhhhhhhhhhhhhhhhhhhhhhhhhhhhhhhhhhhhhhhhhhh, ky, werty, xddddddddddddddddddddddddddddddddddddddddddddddddddddddddddddddddddddddddddddddddddddddddddddddddddddddddddddddddddddddddddddddddddddddddddddddddddddddddddddddddddddddddddddddddddddddddddddddddddddddddddddddddddddddddddddddddddddddddddddddddddddddddddddddddddddddddddddddddddddddddddddddddddddddddddddddddddddddddddddddddddddddddddddddddddddddddddddddddddddddddddddddddddddddddddddddddddddddddddddddddddddddddddddddddddddddddddddddddddd",
          "<b>Topic 1</b><br>Words: mobile, ad, long, ahhhhhhhhhhhhhhhhhhhhhhhhhhhhhhhhhhhhhhhhhhhhhhhhhhhhhhhhhhhhhhhhhhhhhhhhhhhhhhhhhhhhhhhhhhhhhhhhhhhhhhhhhhhhhhhhhhhhhhhhhhhhhhhhhhhhhhhhhhhhhhhhhhhhhhhhhhhhhhhhhhhhhhhhhhhhhhhhhhhhhhhhhhhhhhhhhhhhhhhhhhhhhhhhhhhhhhhhhhhhhhhhhhhhhhhhhhhhhhhhhhhhhhhhhhhhhhhhhhhhhhhh, ky",
          "<b>Topic 1</b><br>Words: xddddddddddddddddddddddddddddddddddddddddddddddddddddddddddddddddddddddddddddddddddddddddddddddddddddddddddddddddddddddddddddddddddddddddddddddddddddddddddddddddddddddddddddddddddddddddddddddddddddddddddddddddddddddddddddddddddddddddddddddddddddddddddddddddddddddddddddddddddddddddddddddddddddddddddddddddddddddddddddddddddddddddddddddddddddddddddddddddddddddddddddddddddddddddddddddddddddddddddddddddddddddddddddddddddddddddddddddddddd, ahhhhhhhhhhhhhhhhhhhhhhhhhhhhhhhhhhhhhhhhhhhhhhhhhhhhhhhhhhhhhhhhhhhhhhhhhhhhhhhhhhhhhhhhhhhhhhhhhhhhhhhhhhhhhhhhhhhhhhhhhhhhhhhhhhhhhhhhhhhhhhhhhhhhhhhhhhhhhhhhhhhhhhhhhhhhhhhhhhhhhhhhhhhhhhhhhhhhhhhhhhhhhhhhhhhhhhhhhhhhhhhhhhhhhhhhhhhhhhhhhhhhhhhhhhhhhhhhhhhhhhhh, ky, werty, xy",
          "<b>Topic 1</b><br>Words: ahhhhhhhhhhhhhhhhhhhhhhhhhhhhhhhhhhhhhhhhhhhhhhhhhhhhhhhhhhhhhhhhhhhhhhhhhhhhhhhhhhhhhhhhhhhhhhhhhhhhhhhhhhhhhhhhhhhhhhhhhhhhhhhhhhhhhhhhhhhhhhhhhhhhhhhhhhhhhhhhhhhhhhhhhhhhhhhhhhhhhhhhhhhhhhhhhhhhhhhhhhhhhhhhhhhhhhhhhhhhhhhhhhhhhhhhhhhhhhhhhhhhhhhhhhhhhhhhhhhhhhhh, ky, werty, xddddddddddddddddddddddddddddddddddddddddddddddddddddddddddddddddddddddddddddddddddddddddddddddddddddddddddddddddddddddddddddddddddddddddddddddddddddddddddddddddddddddddddddddddddddddddddddddddddddddddddddddddddddddddddddddddddddddddddddddddddddddddddddddddddddddddddddddddddddddddddddddddddddddddddddddddddddddddddddddddddddddddddddddddddddddddddddddddddddddddddddddddddddddddddddddddddddddddddddddddddddddddddddddddddddddddddddddddddd, xy",
          "<b>Topic 1</b><br>Words: ahhhhhhhhhhhhhhhhhhhhhhhhhhhhhhhhhhhhhhhhhhhhhhhhhhhhhhhhhhhhhhhhhhhhhhhhhhhhhhhhhhhhhhhhhhhhhhhhhhhhhhhhhhhhhhhhhhhhhhhhhhhhhhhhhhhhhhhhhhhhhhhhhhhhhhhhhhhhhhhhhhhhhhhhhhhhhhhhhhhhhhhhhhhhhhhhhhhhhhhhhhhhhhhhhhhhhhhhhhhhhhhhhhhhhhhhhhhhhhhhhhhhhhhhhhhhhhhhhhhhhhhh, ky, werty, xddddddddddddddddddddddddddddddddddddddddddddddddddddddddddddddddddddddddddddddddddddddddddddddddddddddddddddddddddddddddddddddddddddddddddddddddddddddddddddddddddddddddddddddddddddddddddddddddddddddddddddddddddddddddddddddddddddddddddddddddddddddddddddddddddddddddddddddddddddddddddddddddddddddddddddddddddddddddddddddddddddddddddddddddddddddddddddddddddddddddddddddddddddddddddddddddddddddddddddddddddddddddddddddddddddddddddddddddddd, xy",
          "<b>Topic 1</b><br>Words: ahhhhhhhhhhhhhhhhhhhhhhhhhhhhhhhhhhhhhhhhhhhhhhhhhhhhhhhhhhhhhhhhhhhhhhhhhhhhhhhhhhhhhhhhhhhhhhhhhhhhhhhhhhhhhhhhhhhhhhhhhhhhhhhhhhhhhhhhhhhhhhhhhhhhhhhhhhhhhhhhhhhhhhhhhhhhhhhhhhhhhhhhhhhhhhhhhhhhhhhhhhhhhhhhhhhhhhhhhhhhhhhhhhhhhhhhhhhhhhhhhhhhhhhhhhhhhhhhhhhhhhhh, ky, werty, xddddddddddddddddddddddddddddddddddddddddddddddddddddddddddddddddddddddddddddddddddddddddddddddddddddddddddddddddddddddddddddddddddddddddddddddddddddddddddddddddddddddddddddddddddddddddddddddddddddddddddddddddddddddddddddddddddddddddddddddddddddddddddddddddddddddddddddddddddddddddddddddddddddddddddddddddddddddddddddddddddddddddddddddddddddddddddddddddddddddddddddddddddddddddddddddddddddddddddddddddddddddddddddddddddddddddddddddddddd, xy",
          "<b>Topic 1</b><br>Words: ahhhhhhhhhhhhhhhhhhhhhhhhhhhhhhhhhhhhhhhhhhhhhhhhhhhhhhhhhhhhhhhhhhhhhhhhhhhhhhhhhhhhhhhhhhhhhhhhhhhhhhhhhhhhhhhhhhhhhhhhhhhhhhhhhhhhhhhhhhhhhhhhhhhhhhhhhhhhhhhhhhhhhhhhhhhhhhhhhhhhhhhhhhhhhhhhhhhhhhhhhhhhhhhhhhhhhhhhhhhhhhhhhhhhhhhhhhhhhhhhhhhhhhhhhhhhhhhhhhhhhhhh, ky, werty, xddddddddddddddddddddddddddddddddddddddddddddddddddddddddddddddddddddddddddddddddddddddddddddddddddddddddddddddddddddddddddddddddddddddddddddddddddddddddddddddddddddddddddddddddddddddddddddddddddddddddddddddddddddddddddddddddddddddddddddddddddddddddddddddddddddddddddddddddddddddddddddddddddddddddddddddddddddddddddddddddddddddddddddddddddddddddddddddddddddddddddddddddddddddddddddddddddddddddddddddddddddddddddddddddddddddddddddddddddd, xy",
          "<b>Topic 1</b><br>Words: ky, xy, ahhhhhhhhhhhhhhhhhhhhhhhhhhhhhhhhhhhhhhhhhhhhhhhhhhhhhhhhhhhhhhhhhhhhhhhhhhhhhhhhhhhhhhhhhhhhhhhhhhhhhhhhhhhhhhhhhhhhhhhhhhhhhhhhhhhhhhhhhhhhhhhhhhhhhhhhhhhhhhhhhhhhhhhhhhhhhhhhhhhhhhhhhhhhhhhhhhhhhhhhhhhhhhhhhhhhhhhhhhhhhhhhhhhhhhhhhhhhhhhhhhhhhhhhhhhhhhhhhhhhhhhh, werty, xddddddddddddddddddddddddddddddddddddddddddddddddddddddddddddddddddddddddddddddddddddddddddddddddddddddddddddddddddddddddddddddddddddddddddddddddddddddddddddddddddddddddddddddddddddddddddddddddddddddddddddddddddddddddddddddddddddddddddddddddddddddddddddddddddddddddddddddddddddddddddddddddddddddddddddddddddddddddddddddddddddddddddddddddddddddddddddddddddddddddddddddddddddddddddddddddddddddddddddddddddddddddddddddddddddddddddddddddddd"
         ],
         "marker": {
          "color": "#56B4E9"
         },
         "mode": "lines",
         "name": "1_xddddddddddddddddddddddddddddddddddddd...",
         "type": "scatter",
         "x": [
          "2014-04-20T22:58:39.521999",
          "2014-11-10T23:59:24.900000",
          "2015-05-30T00:58:58.800000",
          "2015-12-16T01:58:32.700000",
          "2016-07-03T02:58:06.600000",
          "2017-01-19T03:57:40.500000",
          "2017-08-07T04:57:14.400000",
          "2018-02-23T05:56:48.300000",
          "2018-09-11T06:56:22.200000",
          "2019-03-30T07:55:56.100000",
          "2019-10-16T08:55:30",
          "2020-05-03T09:55:03.900000",
          "2020-11-19T10:54:37.800000",
          "2021-06-07T11:54:11.700000",
          "2021-12-24T12:53:45.600000",
          "2022-07-12T13:53:19.500000",
          "2023-01-28T14:52:53.400000",
          "2023-08-16T15:52:27.300000",
          "2024-03-03T16:52:01.200000",
          "2024-09-19T17:51:35.100000"
         ],
         "y": [
          7,
          6,
          2,
          6,
          5,
          3,
          2,
          1,
          4,
          9,
          14,
          22,
          22,
          37,
          47,
          17,
          26,
          31,
          43,
          41
         ]
        },
        {
         "hoverinfo": "text",
         "hovertext": [
          "<b>Topic 2</b><br>Words: sad, part, terrible, easy, bad",
          "<b>Topic 2</b><br>Words: heroin, report, destroy, bad, poorly",
          "<b>Topic 2</b><br>Words: contorls, bad, ever, worst, far",
          "<b>Topic 2</b><br>Words: slashy, marginally, bad, base, ever",
          "<b>Topic 2</b><br>Words: bumbling, retard, bunch, bad, every",
          "<b>Topic 2</b><br>Words: significantly, previous, bad, far, one",
          "<b>Topic 2</b><br>Words: classify, bad, salty, cuz, anymore",
          "<b>Topic 2</b><br>Words: bad, finshed, seires, ss, indeed",
          "<b>Topic 2</b><br>Words: civilization, bad, unironically, candle, hold",
          "<b>Topic 2</b><br>Words: bad, like, ever, worst, far",
          "<b>Topic 2</b><br>Words: bad, crucify, cute, girl, oppose",
          "<b>Topic 2</b><br>Words: bad, aight, knockoff, bitch, dreadful",
          "<b>Topic 2</b><br>Words: fack, histroy, bad, mom, decent",
          "<b>Topic 2</b><br>Words: bad, diffuculky, artificail, hipster, cannon",
          "<b>Topic 2</b><br>Words: infinitely, bad, worse, example, else",
          "<b>Topic 2</b><br>Words: bad, conceivable, elaborate, significantly, worst",
          "<b>Topic 2</b><br>Words: bad, tarkov, candidate, irredeemable, terribleness",
          "<b>Topic 2</b><br>Words: bad, ever, frosty, lololololololol, lunch",
          "<b>Topic 2</b><br>Words: bad, ever, worst, loser, general",
          "<b>Topic 2</b><br>Words: bad, elmer, ith, dond, furthest"
         ],
         "marker": {
          "color": "#009E73"
         },
         "mode": "lines",
         "name": "2_bad_ever_worst_far",
         "type": "scatter",
         "x": [
          "2014-04-20T22:58:39.521999",
          "2014-11-10T23:59:24.900000",
          "2015-05-30T00:58:58.800000",
          "2015-12-16T01:58:32.700000",
          "2016-07-03T02:58:06.600000",
          "2017-01-19T03:57:40.500000",
          "2017-08-07T04:57:14.400000",
          "2018-02-23T05:56:48.300000",
          "2018-09-11T06:56:22.200000",
          "2019-03-30T07:55:56.100000",
          "2019-10-16T08:55:30",
          "2020-05-03T09:55:03.900000",
          "2020-11-19T10:54:37.800000",
          "2021-06-07T11:54:11.700000",
          "2021-12-24T12:53:45.600000",
          "2022-07-12T13:53:19.500000",
          "2023-01-28T14:52:53.400000",
          "2023-08-16T15:52:27.300000",
          "2024-03-03T16:52:01.200000",
          "2024-09-19T17:51:35.100000"
         ],
         "y": [
          2,
          3,
          2,
          4,
          1,
          2,
          4,
          5,
          4,
          1,
          6,
          10,
          6,
          11,
          4,
          7,
          19,
          21,
          33,
          18
         ]
        },
        {
         "hoverinfo": "text",
         "hovertext": [
          "<b>Topic 3</b><br>Words: felt, sad, beautiful, world, sound",
          "<b>Topic 3</b><br>Words: zombie, objective, sequel, challege, flock",
          "<b>Topic 3</b><br>Words: gradeschool, shitfest, cheer, nito, static",
          "<b>Topic 3</b><br>Words: minecraft, replace, dissapointing, unintuitive, zombie",
          "<b>Topic 3</b><br>Words: tone, nostaligia, skulltulas, lue, lame",
          "<b>Topic 3</b><br>Words: stard, fandom, vas, walkthroughs, inspire",
          "<b>Topic 3</b><br>Words: combat, title, chapter, lack, pretty",
          "<b>Topic 3</b><br>Words: repost, meloncholic, scoring, negligable, unmoving",
          "<b>Topic 3</b><br>Words: ppl, bank, hone, reccomed, unsubtle",
          "<b>Topic 3</b><br>Words: medium, tr, table, consist, sixth",
          "<b>Topic 3</b><br>Words: together, backwards, pade, amateurishly, audiovisual",
          "<b>Topic 3</b><br>Words: feel, boring, world, environment, theme",
          "<b>Topic 3</b><br>Words: lore, combat, zone, bare, feel",
          "<b>Topic 3</b><br>Words: dante, movement, inferno, watched, vibe",
          "<b>Topic 3</b><br>Words: element, quality, stiff, reward, team",
          "<b>Topic 3</b><br>Words: lame, combat, lore, gameplay, finally",
          "<b>Topic 3</b><br>Words: audio, release, fact, level, design",
          "<b>Topic 3</b><br>Words: movement, like, game, design, feel",
          "<b>Topic 3</b><br>Words: feel, finish, combat, level, obnoxious",
          "<b>Topic 3</b><br>Words: core, gameplay, fan, pie, repeat"
         ],
         "marker": {
          "color": "#F0E442"
         },
         "mode": "lines",
         "name": "3_combat_design_feel_like",
         "type": "scatter",
         "x": [
          "2014-04-20T22:58:39.521999",
          "2014-11-10T23:59:24.900000",
          "2015-05-30T00:58:58.800000",
          "2015-12-16T01:58:32.700000",
          "2016-07-03T02:58:06.600000",
          "2017-01-19T03:57:40.500000",
          "2017-08-07T04:57:14.400000",
          "2018-02-23T05:56:48.300000",
          "2018-09-11T06:56:22.200000",
          "2019-03-30T07:55:56.100000",
          "2019-10-16T08:55:30",
          "2020-05-03T09:55:03.900000",
          "2020-11-19T10:54:37.800000",
          "2021-06-07T11:54:11.700000",
          "2021-12-24T12:53:45.600000",
          "2022-07-12T13:53:19.500000",
          "2023-01-28T14:52:53.400000",
          "2023-08-16T15:52:27.300000",
          "2024-03-03T16:52:01.200000",
          "2024-09-19T17:51:35.100000"
         ],
         "y": [
          13,
          6,
          4,
          5,
          3,
          5,
          4,
          3,
          5,
          4,
          6,
          11,
          7,
          10,
          8,
          5,
          10,
          12,
          13,
          7
         ]
        },
        {
         "hoverinfo": "text",
         "hovertext": [
          "<b>Topic 4</b><br>Words: pvp, lag, pve, dick, multiplayer",
          "<b>Topic 4</b><br>Words: pvp, pve, laggy, multiplayer, fun",
          "<b>Topic 4</b><br>Words: pvp, pve, lag, annoying, latency",
          "<b>Topic 4</b><br>Words: pvp, pve, scotf, though, render",
          "<b>Topic 4</b><br>Words: intrest, pvp, flawed, train, simulator",
          "<b>Topic 4</b><br>Words: pvp, pve, weighted, weight, improve",
          "<b>Topic 4</b><br>Words: pvp, lvl, meter, contack, replayabylity",
          "<b>Topic 4</b><br>Words: pvp, limit, pve, crowd, total",
          "<b>Topic 4</b><br>Words: desynchronization, handedly, pvp, iv, redeemable",
          "<b>Topic 4</b><br>Words: nitpick, pvm, hatemail, pvp, sweaty",
          "<b>Topic 4</b><br>Words: pvp, humans, inst, involuntary, vit",
          "<b>Topic 4</b><br>Words: pvp, playtime, spurg, player, grandiose",
          "<b>Topic 4</b><br>Words: pvp, pve, wise, aight, amazingly",
          "<b>Topic 4</b><br>Words: pvp, hundo, memory, pro, con",
          "<b>Topic 4</b><br>Words: pvp, pve, multiplayer, bloodborune, checked",
          "<b>Topic 4</b><br>Words: fromsofware, integral, aspects, ashamed, treat",
          "<b>Topic 4</b><br>Words: pvp, beg, nadir, registratiot, franchise",
          "<b>Topic 4</b><br>Words: pvp, noobslayer, spellswap, fuckers, kitted",
          "<b>Topic 4</b><br>Words: lordvessel, tailor, roadblock, detriment, fodder",
          "<b>Topic 4</b><br>Words: pvp, hord, boo, platinumed, weightless"
         ],
         "marker": {
          "color": "#D55E00"
         },
         "mode": "lines",
         "name": "4_pvp_pve_lag_multiplayer",
         "type": "scatter",
         "x": [
          "2014-04-20T22:58:39.521999",
          "2014-11-10T23:59:24.900000",
          "2015-05-30T00:58:58.800000",
          "2015-12-16T01:58:32.700000",
          "2016-07-03T02:58:06.600000",
          "2017-01-19T03:57:40.500000",
          "2017-08-07T04:57:14.400000",
          "2018-02-23T05:56:48.300000",
          "2018-09-11T06:56:22.200000",
          "2019-03-30T07:55:56.100000",
          "2019-10-16T08:55:30",
          "2020-05-03T09:55:03.900000",
          "2020-11-19T10:54:37.800000",
          "2021-06-07T11:54:11.700000",
          "2021-12-24T12:53:45.600000",
          "2022-07-12T13:53:19.500000",
          "2023-01-28T14:52:53.400000",
          "2023-08-16T15:52:27.300000",
          "2024-03-03T16:52:01.200000",
          "2024-09-19T17:51:35.100000"
         ],
         "y": [
          38,
          19,
          11,
          6,
          2,
          5,
          3,
          8,
          3,
          2,
          3,
          7,
          4,
          6,
          6,
          1,
          5,
          5,
          2,
          3
         ]
        },
        {
         "hoverinfo": "text",
         "hovertext": [
          "<b>Topic 5</b><br>Words: bad, haha, sorry, yeah, somehow",
          "<b>Topic 5</b><br>Words: bad, haha, sorry, yeah, somehow",
          "<b>Topic 5</b><br>Words: bad, haha, sorry, yeah, somehow",
          "<b>Topic 5</b><br>Words: bad, haha, sorry, yeah, somehow",
          "<b>Topic 5</b><br>Words: bad, haha, sorry, yeah, somehow",
          "<b>Topic 5</b><br>Words: bad, haha, sorry, yeah, somehow",
          "<b>Topic 5</b><br>Words: bad, haha, sorry, yeah, somehow",
          "<b>Topic 5</b><br>Words: bad, somehow, haha, sorry, yeah",
          "<b>Topic 5</b><br>Words: bad, haha, one, sorry, yeah",
          "<b>Topic 5</b><br>Words: bad, haha, sorry, yeah, somehow",
          "<b>Topic 5</b><br>Words: bad, haha, sorry, yeah, somehow",
          "<b>Topic 5</b><br>Words: bad, sorry, haha, yeah, somehow",
          "<b>Topic 5</b><br>Words: bad, haha, sorry, yeah, somehow",
          "<b>Topic 5</b><br>Words: bad, fuck, haha, sorry, yeah",
          "<b>Topic 5</b><br>Words: bad, haha, much, sorry, yeah",
          "<b>Topic 5</b><br>Words: bad, yeah, haha, sorry, somehow"
         ],
         "marker": {
          "color": "#0072B2"
         },
         "mode": "lines",
         "name": "5_bad_haha_sorry_yeah",
         "type": "scatter",
         "x": [
          "2014-04-20T22:58:39.521999",
          "2016-07-03T02:58:06.600000",
          "2017-01-19T03:57:40.500000",
          "2017-08-07T04:57:14.400000",
          "2018-02-23T05:56:48.300000",
          "2019-03-30T07:55:56.100000",
          "2019-10-16T08:55:30",
          "2020-05-03T09:55:03.900000",
          "2020-11-19T10:54:37.800000",
          "2021-06-07T11:54:11.700000",
          "2021-12-24T12:53:45.600000",
          "2022-07-12T13:53:19.500000",
          "2023-01-28T14:52:53.400000",
          "2023-08-16T15:52:27.300000",
          "2024-03-03T16:52:01.200000",
          "2024-09-19T17:51:35.100000"
         ],
         "y": [
          2,
          1,
          2,
          3,
          1,
          4,
          7,
          8,
          10,
          20,
          14,
          4,
          12,
          7,
          20,
          11
         ]
        },
        {
         "hoverinfo": "text",
         "hovertext": [
          "<b>Topic 6</b><br>Words: kill, mmo, certain, enemy, death",
          "<b>Topic 6</b><br>Words: scarce, random, quit, difficult, chariot",
          "<b>Topic 6</b><br>Words: whack, dodge, clearly, punishment, collectable",
          "<b>Topic 6</b><br>Words: difficult, dodge, die, destroy, poison",
          "<b>Topic 6</b><br>Words: loss, permanent, backtrack, trainee, tracker",
          "<b>Topic 6</b><br>Words: forgive, chain, bode, heatseeking, roll",
          "<b>Topic 6</b><br>Words: away, turtle, damage, golfswing, runaway",
          "<b>Topic 6</b><br>Words: ambush, pyromancer, guardian, hp, truth",
          "<b>Topic 6</b><br>Words: mistake, refill, void, invincible, irritate",
          "<b>Topic 6</b><br>Words: absurd, reveals, stagnate, gultch, slow",
          "<b>Topic 6</b><br>Words: mist, ight, chase, ambush, frozen",
          "<b>Topic 6</b><br>Words: combo, dodge, weapon, enemy, die",
          "<b>Topic 6</b><br>Words: enemy, dig, swing, area, regular",
          "<b>Topic 6</b><br>Words: enemy, fame, dodge, shield, fight",
          "<b>Topic 6</b><br>Words: die, enemy, health, ambush, adp",
          "<b>Topic 6</b><br>Words: chariot, half, immortality, remedied, deep",
          "<b>Topic 6</b><br>Words: past, hard, questing, ymmv, declaration",
          "<b>Topic 6</b><br>Words: skill, duck, patience, wich, hit",
          "<b>Topic 6</b><br>Words: runbacks, flask, sword, boss, enemy",
          "<b>Topic 6</b><br>Words: health, heal, healing, ridiculous, stat"
         ],
         "marker": {
          "color": "#CC79A7"
         },
         "mode": "lines",
         "name": "6_enemy_die_dodge_hit",
         "type": "scatter",
         "x": [
          "2014-04-20T22:58:39.521999",
          "2014-11-10T23:59:24.900000",
          "2015-05-30T00:58:58.800000",
          "2015-12-16T01:58:32.700000",
          "2016-07-03T02:58:06.600000",
          "2017-01-19T03:57:40.500000",
          "2017-08-07T04:57:14.400000",
          "2018-02-23T05:56:48.300000",
          "2018-09-11T06:56:22.200000",
          "2019-03-30T07:55:56.100000",
          "2019-10-16T08:55:30",
          "2020-05-03T09:55:03.900000",
          "2020-11-19T10:54:37.800000",
          "2021-06-07T11:54:11.700000",
          "2021-12-24T12:53:45.600000",
          "2022-07-12T13:53:19.500000",
          "2023-01-28T14:52:53.400000",
          "2023-08-16T15:52:27.300000",
          "2024-03-03T16:52:01.200000",
          "2024-09-19T17:51:35.100000"
         ],
         "y": [
          9,
          5,
          5,
          7,
          3,
          3,
          4,
          6,
          3,
          3,
          5,
          7,
          5,
          10,
          9,
          5,
          6,
          6,
          11,
          10
         ]
        },
        {
         "hoverinfo": "text",
         "hovertext": [
          "<b>Topic 7</b><br>Words: elden, ring, already, finish, bad",
          "<b>Topic 7</b><br>Words: doo, eldin, ring, elden, evil",
          "<b>Topic 7</b><br>Words: elden, ring, alva, helmet, lean",
          "<b>Topic 7</b><br>Words: elden, ring, multiplayer, server, back",
          "<b>Topic 7</b><br>Words: elden, ring, company, albanian, widen",
          "<b>Topic 7</b><br>Words: elden, ring, lost, sinner, sekiro",
          "<b>Topic 7</b><br>Words: elden, ring, sekiro, newfound, enjoyable",
          "<b>Topic 7</b><br>Words: elden, ring, sekiro, lego, clunky",
          "<b>Topic 7</b><br>Words: elden, ring, ctrl, clinically, stole"
         ],
         "marker": {
          "color": "#E69F00"
         },
         "mode": "lines",
         "name": "7_elden_ring_sekiro_play",
         "type": "scatter",
         "x": [
          "2019-10-16T08:55:30",
          "2020-11-19T10:54:37.800000",
          "2021-06-07T11:54:11.700000",
          "2021-12-24T12:53:45.600000",
          "2022-07-12T13:53:19.500000",
          "2023-01-28T14:52:53.400000",
          "2023-08-16T15:52:27.300000",
          "2024-03-03T16:52:01.200000",
          "2024-09-19T17:51:35.100000"
         ],
         "y": [
          1,
          2,
          4,
          29,
          9,
          10,
          15,
          20,
          12
         ]
        },
        {
         "hoverinfo": "text",
         "hovertext": [
          "<b>Topic 8</b><br>Words: mouse, keyboard, control, unplayable, controller",
          "<b>Topic 8</b><br>Words: mouse, keyboard, click, bind, control",
          "<b>Topic 8</b><br>Words: mouse, keyboard, controller, zonde, slecht",
          "<b>Topic 8</b><br>Words: remapable, mouse, keyboard, unintuitive, crappy",
          "<b>Topic 8</b><br>Words: keyboard, unplayable, mouse, kid, delete",
          "<b>Topic 8</b><br>Words: mouse, keyboard, control, controller, gamepads",
          "<b>Topic 8</b><br>Words: staggeriing, intrested, controler, mouse, keyboard",
          "<b>Topic 8</b><br>Words: mouse, keyboard, click, coder, replaced",
          "<b>Topic 8</b><br>Words: clicking, official, mouse, solution, permanently",
          "<b>Topic 8</b><br>Words: board, mouse, key, binding, unplayable",
          "<b>Topic 8</b><br>Words: mouse, keyboard, rightmouse, mouser, wrestling",
          "<b>Topic 8</b><br>Words: keyboard, mouse, backside, input, support",
          "<b>Topic 8</b><br>Words: mouse, keyboard, controller, kb, unplayable",
          "<b>Topic 8</b><br>Words: mouse, keyboard, sofar, doubleclick, gamebreaking",
          "<b>Topic 8</b><br>Words: mouse, keyboard, ideas, control, optimize",
          "<b>Topic 8</b><br>Words: mouse, keyboard, bind, key, function",
          "<b>Topic 8</b><br>Words: keyboard, mouse, sotf, po, braindead",
          "<b>Topic 8</b><br>Words: mouse, bind, keyboard, youself, who",
          "<b>Topic 8</b><br>Words: mouse, keyboard, undetected, dispirit, shockingly",
          "<b>Topic 8</b><br>Words: mouse, aaaah, aah, tickle, keyboard"
         ],
         "marker": {
          "color": "#56B4E9"
         },
         "mode": "lines",
         "name": "8_mouse_keyboard_control_controller",
         "type": "scatter",
         "x": [
          "2014-04-20T22:58:39.521999",
          "2014-11-10T23:59:24.900000",
          "2015-05-30T00:58:58.800000",
          "2015-12-16T01:58:32.700000",
          "2016-07-03T02:58:06.600000",
          "2017-01-19T03:57:40.500000",
          "2017-08-07T04:57:14.400000",
          "2018-02-23T05:56:48.300000",
          "2018-09-11T06:56:22.200000",
          "2019-03-30T07:55:56.100000",
          "2019-10-16T08:55:30",
          "2020-05-03T09:55:03.900000",
          "2020-11-19T10:54:37.800000",
          "2021-06-07T11:54:11.700000",
          "2021-12-24T12:53:45.600000",
          "2022-07-12T13:53:19.500000",
          "2023-01-28T14:52:53.400000",
          "2023-08-16T15:52:27.300000",
          "2024-03-03T16:52:01.200000",
          "2024-09-19T17:51:35.100000"
         ],
         "y": [
          28,
          7,
          5,
          3,
          3,
          6,
          1,
          4,
          2,
          1,
          4,
          2,
          5,
          3,
          5,
          3,
          3,
          4,
          2,
          4
         ]
        },
        {
         "hoverinfo": "text",
         "hovertext": [
          "<b>Topic 9</b><br>Words: ever, soulless, dissapointing, horrid, play",
          "<b>Topic 9</b><br>Words: immesly, bs, hopefully, alot, okay",
          "<b>Topic 9</b><br>Words: cant, sure, say, play, want",
          "<b>Topic 9</b><br>Words: worst, ever, play, bad, displeasure",
          "<b>Topic 9</b><br>Words: merit, obnoxious, suppose, horrible, ever",
          "<b>Topic 9</b><br>Words: pathetic, joke, far, slow, everything",
          "<b>Topic 9</b><br>Words: damn, raff, wrld, suffered, riff",
          "<b>Topic 9</b><br>Words: dominance, assert, legend, gesture, league",
          "<b>Topic 9</b><br>Words: fucking, ever, bad, depression, havent",
          "<b>Topic 9</b><br>Words: ever, rap, bad, tbh, play",
          "<b>Topic 9</b><br>Words: ever, bad, sarcastic, play, ive",
          "<b>Topic 9</b><br>Words: displeasure, kalle, ranger, imagine, hair",
          "<b>Topic 9</b><br>Words: ever, ga, fk, bad, play",
          "<b>Topic 9</b><br>Words: ever, ovewreight, worst, unironically, joke",
          "<b>Topic 9</b><br>Words: ever, bad, play, worst, hydraulic",
          "<b>Topic 9</b><br>Words: ever, worst, needle, hypodermic, cheeseburger"
         ],
         "marker": {
          "color": "#009E73"
         },
         "mode": "lines",
         "name": "9_ever_bad_play_worst",
         "type": "scatter",
         "x": [
          "2014-04-20T22:58:39.521999",
          "2015-05-30T00:58:58.800000",
          "2015-12-16T01:58:32.700000",
          "2016-07-03T02:58:06.600000",
          "2018-02-23T05:56:48.300000",
          "2018-09-11T06:56:22.200000",
          "2019-10-16T08:55:30",
          "2020-05-03T09:55:03.900000",
          "2020-11-19T10:54:37.800000",
          "2021-06-07T11:54:11.700000",
          "2021-12-24T12:53:45.600000",
          "2022-07-12T13:53:19.500000",
          "2023-01-28T14:52:53.400000",
          "2023-08-16T15:52:27.300000",
          "2024-03-03T16:52:01.200000",
          "2024-09-19T17:51:35.100000"
         ],
         "y": [
          5,
          1,
          1,
          1,
          2,
          1,
          2,
          6,
          7,
          8,
          8,
          5,
          8,
          9,
          17,
          8
         ]
        },
        {
         "hoverinfo": "text",
         "hovertext": [
          "<b>Topic 10</b><br>Words: vac, ban, cheater, hacker, cheat",
          "<b>Topic 10</b><br>Words: ban, softbanned, cheater, soft, hacker",
          "<b>Topic 10</b><br>Words: ban, softbanned, hacker, mod, banwave",
          "<b>Topic 10</b><br>Words: ban, softbanned, hacker, unpunished, finito",
          "<b>Topic 10</b><br>Words: ban, dxtory, mod, cheat, soft",
          "<b>Topic 10</b><br>Words: ban, soft, relitivly, automated, wrongly",
          "<b>Topic 10</b><br>Words: cancerous, got, cheater, ban, cheat",
          "<b>Topic 10</b><br>Words: hacker, revive, ban, salty, merchant",
          "<b>Topic 10</b><br>Words: ban, cheater, banco, secound, amok",
          "<b>Topic 10</b><br>Words: permanently, unjustifiable, year, reply, softban",
          "<b>Topic 10</b><br>Words: softbanned, anybody, online, realize, prepare",
          "<b>Topic 10</b><br>Words: ban, hacker, weapin, kekw, continiue",
          "<b>Topic 10</b><br>Words: cheater, ban, hacker, profile, soft",
          "<b>Topic 10</b><br>Words: security, ban, exploit, rce, computer",
          "<b>Topic 10</b><br>Words: vulnerability, rampant, ban, exploit, hacker",
          "<b>Topic 10</b><br>Words: ban, reshade, who, deserve, sicken",
          "<b>Topic 10</b><br>Words: roblox, mod, ban, cheater, vac",
          "<b>Topic 10</b><br>Words: ban, bricked, anticheat, cheater, soft",
          "<b>Topic 10</b><br>Words: scum, ban, inventory, nsfw, equiptment"
         ],
         "marker": {
          "color": "#F0E442"
         },
         "mode": "lines",
         "name": "10_ban_cheater_vac_hacker",
         "type": "scatter",
         "x": [
          "2014-04-20T22:58:39.521999",
          "2014-11-10T23:59:24.900000",
          "2015-05-30T00:58:58.800000",
          "2015-12-16T01:58:32.700000",
          "2016-07-03T02:58:06.600000",
          "2017-01-19T03:57:40.500000",
          "2017-08-07T04:57:14.400000",
          "2018-02-23T05:56:48.300000",
          "2018-09-11T06:56:22.200000",
          "2019-03-30T07:55:56.100000",
          "2020-05-03T09:55:03.900000",
          "2020-11-19T10:54:37.800000",
          "2021-06-07T11:54:11.700000",
          "2021-12-24T12:53:45.600000",
          "2022-07-12T13:53:19.500000",
          "2023-01-28T14:52:53.400000",
          "2023-08-16T15:52:27.300000",
          "2024-03-03T16:52:01.200000",
          "2024-09-19T17:51:35.100000"
         ],
         "y": [
          17,
          8,
          9,
          7,
          3,
          3,
          2,
          3,
          3,
          1,
          1,
          4,
          7,
          8,
          1,
          1,
          1,
          4,
          3
         ]
        },
        {
         "hoverinfo": "text",
         "hovertext": [
          "<b>Topic 11</b><br>Words: version, dx, release, new, buy",
          "<b>Topic 11</b><br>Words: upgrade, dll, base, edit, price",
          "<b>Topic 11</b><br>Words: software, release, eddition, optimized, version",
          "<b>Topic 11</b><br>Words: pre, drangleic, limit, reason, final",
          "<b>Topic 11</b><br>Words: citizen, star, buy, platforms, rewritten",
          "<b>Topic 11</b><br>Words: bandai, season, pas, improvment, patch",
          "<b>Topic 11</b><br>Words: rap, hospital, as, daughter, bog",
          "<b>Topic 11</b><br>Words: sony, playstation, ongoing, futile, library",
          "<b>Topic 11</b><br>Words: dx, split, eerier, targeted, release"
         ],
         "marker": {
          "color": "#D55E00"
         },
         "mode": "lines",
         "name": "11_version_dx_release_new",
         "type": "scatter",
         "x": [
          "2014-11-10T23:59:24.900000",
          "2015-05-30T00:58:58.800000",
          "2015-12-16T01:58:32.700000",
          "2016-07-03T02:58:06.600000",
          "2017-01-19T03:57:40.500000",
          "2018-09-11T06:56:22.200000",
          "2019-03-30T07:55:56.100000",
          "2021-06-07T11:54:11.700000",
          "2023-08-16T15:52:27.300000"
         ],
         "y": [
          72,
          2,
          4,
          1,
          2,
          1,
          1,
          1,
          2
         ]
        },
        {
         "hoverinfo": "text",
         "hovertext": [
          "<b>Topic 12</b><br>Words: step, huge, original, back, take",
          "<b>Topic 12</b><br>Words: firelink, miss, skip, forlorn, spirit",
          "<b>Topic 12</b><br>Words: skip, holy, bow, slowly, third",
          "<b>Topic 12</b><br>Words: skip, conceivable, misstep, definite, firelink",
          "<b>Topic 12</b><br>Words: skip, third, fuck, second, suck",
          "<b>Topic 12</b><br>Words: forlorn, spirit, invade, skip, fuck",
          "<b>Topic 12</b><br>Words: skip, three, credit, disconnect, third",
          "<b>Topic 12</b><br>Words: skip, dsiii, imitation, third, step",
          "<b>Topic 12</b><br>Words: skip, sixteen, tho, iii, walk",
          "<b>Topic 12</b><br>Words: skip, advice, credit, wind, iii",
          "<b>Topic 12</b><br>Words: step, skip, launch, awesome, close",
          "<b>Topic 12</b><br>Words: skip, marathon, aweful, saga, thru",
          "<b>Topic 12</b><br>Words: skip, third, artistic, fist, credit",
          "<b>Topic 12</b><br>Words: skip, forlorn, spirit, foot, walk",
          "<b>Topic 12</b><br>Words: skip, gettin, firelink, spare, fuckin",
          "<b>Topic 12</b><br>Words: skip, dw, unabomber, bearable, third",
          "<b>Topic 12</b><br>Words: skip, douls, postioning, wall, sim",
          "<b>Topic 12</b><br>Words: skip, unbskippable, directional, credit, mark"
         ],
         "marker": {
          "color": "#0072B2"
         },
         "mode": "lines",
         "name": "12_skip_forlorn_spirit_walk",
         "type": "scatter",
         "x": [
          "2014-04-20T22:58:39.521999",
          "2014-11-10T23:59:24.900000",
          "2015-05-30T00:58:58.800000",
          "2015-12-16T01:58:32.700000",
          "2016-07-03T02:58:06.600000",
          "2017-01-19T03:57:40.500000",
          "2018-02-23T05:56:48.300000",
          "2018-09-11T06:56:22.200000",
          "2019-10-16T08:55:30",
          "2020-05-03T09:55:03.900000",
          "2020-11-19T10:54:37.800000",
          "2021-06-07T11:54:11.700000",
          "2021-12-24T12:53:45.600000",
          "2022-07-12T13:53:19.500000",
          "2023-01-28T14:52:53.400000",
          "2023-08-16T15:52:27.300000",
          "2024-03-03T16:52:01.200000",
          "2024-09-19T17:51:35.100000"
         ],
         "y": [
          1,
          1,
          4,
          3,
          3,
          2,
          5,
          5,
          4,
          9,
          3,
          4,
          7,
          3,
          5,
          7,
          12,
          7
         ]
        },
        {
         "hoverinfo": "text",
         "hovertext": [
          "<b>Topic 13</b><br>Words: trash, actually, go, bin, muk",
          "<b>Topic 13</b><br>Words: trash, mob, ever, bin, muk",
          "<b>Topic 13</b><br>Words: trash, bin, muk, whacanisay, rex",
          "<b>Topic 13</b><br>Words: trash, bb, plain, simple, core",
          "<b>Topic 13</b><br>Words: trash, bargain, bin, rot, let",
          "<b>Topic 13</b><br>Words: trash, bin, muk, whacanisay, rex",
          "<b>Topic 13</b><br>Words: trash, bin, muk, whacanisay, rex",
          "<b>Topic 13</b><br>Words: trash, whacanisay, disgust, bin, muk",
          "<b>Topic 13</b><br>Words: trash, bin, muk, whacanisay, rex",
          "<b>Topic 13</b><br>Words: trash, bin, life, garbage, waste",
          "<b>Topic 13</b><br>Words: trash, actual, bin, muk, dogpile",
          "<b>Topic 13</b><br>Words: trash, bin, dino, rex, muk",
          "<b>Topic 13</b><br>Words: trash, iii, bug, king, old",
          "<b>Topic 13</b><br>Words: trash, iii, rush, absolutely, compare",
          "<b>Topic 13</b><br>Words: trash, muk, bin, whacanisay, rex",
          "<b>Topic 13</b><br>Words: trash, schholar, bin, tl, dr",
          "<b>Topic 13</b><br>Words: trash, fcking, as, stupid, far",
          "<b>Topic 13</b><br>Words: trash, gatekeeping, dogpile, hell, god",
          "<b>Topic 13</b><br>Words: trash, hella, thank, literally, experience"
         ],
         "marker": {
          "color": "#CC79A7"
         },
         "mode": "lines",
         "name": "13_trash_bin_muk_whacanisay",
         "type": "scatter",
         "x": [
          "2014-04-20T22:58:39.521999",
          "2014-11-10T23:59:24.900000",
          "2015-12-16T01:58:32.700000",
          "2016-07-03T02:58:06.600000",
          "2017-01-19T03:57:40.500000",
          "2017-08-07T04:57:14.400000",
          "2018-02-23T05:56:48.300000",
          "2018-09-11T06:56:22.200000",
          "2019-03-30T07:55:56.100000",
          "2019-10-16T08:55:30",
          "2020-05-03T09:55:03.900000",
          "2020-11-19T10:54:37.800000",
          "2021-06-07T11:54:11.700000",
          "2021-12-24T12:53:45.600000",
          "2022-07-12T13:53:19.500000",
          "2023-01-28T14:52:53.400000",
          "2023-08-16T15:52:27.300000",
          "2024-03-03T16:52:01.200000",
          "2024-09-19T17:51:35.100000"
         ],
         "y": [
          3,
          1,
          1,
          1,
          2,
          1,
          5,
          2,
          2,
          3,
          4,
          4,
          11,
          7,
          3,
          10,
          3,
          12,
          8
         ]
        },
        {
         "hoverinfo": "text",
         "hovertext": [
          "<b>Topic 14</b><br>Words: hitboxes, blisteringly, erroneous, expiration, sandbox",
          "<b>Topic 14</b><br>Words: ok, netcode, word, hitboxes, shitty",
          "<b>Topic 14</b><br>Words: responsiveness, collision, physic, detection, hitbox",
          "<b>Topic 14</b><br>Words: hitboxes, phantom, terrible, ever, see",
          "<b>Topic 14</b><br>Words: shit, climb, ladder, hitboxes, fast",
          "<b>Topic 14</b><br>Words: supplement, cardboard, hitbox, box, hacker",
          "<b>Topic 14</b><br>Words: hitboxes, thing, box, hitbox, hit",
          "<b>Topic 14</b><br>Words: doubleclick, hitboxes, input, attacking, remaster",
          "<b>Topic 14</b><br>Words: hitboxes, unresponsive, shitty, super, spam",
          "<b>Topic 14</b><br>Words: hitboxes, hurtboxes, blank, dagger, history",
          "<b>Topic 14</b><br>Words: hitboxes, brincadera, disso, funciona, box",
          "<b>Topic 14</b><br>Words: hitboxes, size, hitbox, box, pisspoor",
          "<b>Topic 14</b><br>Words: hitboxes, retardisam, shortsword, lelelelel, terible",
          "<b>Topic 14</b><br>Words: hitboxes, shitty, hitbox, box, mechanix",
          "<b>Topic 14</b><br>Words: ah, goofy, hitbox, hitboxes, box",
          "<b>Topic 14</b><br>Words: whack, studio, hitboxes, hitbox, lol",
          "<b>Topic 14</b><br>Words: hitboxes, throb, box, desk, ceiling",
          "<b>Topic 14</b><br>Words: hitboxes, terriuble, marketplace, box, asf",
          "<b>Topic 14</b><br>Words: hitboxes, hitbox, pyrocynicals, commisions, disable"
         ],
         "marker": {
          "color": "#E69F00"
         },
         "mode": "lines",
         "name": "14_hitboxes_box_hitbox_hit",
         "type": "scatter",
         "x": [
          "2014-04-20T22:58:39.521999",
          "2014-11-10T23:59:24.900000",
          "2015-12-16T01:58:32.700000",
          "2016-07-03T02:58:06.600000",
          "2017-01-19T03:57:40.500000",
          "2017-08-07T04:57:14.400000",
          "2018-02-23T05:56:48.300000",
          "2018-09-11T06:56:22.200000",
          "2019-03-30T07:55:56.100000",
          "2019-10-16T08:55:30",
          "2020-05-03T09:55:03.900000",
          "2020-11-19T10:54:37.800000",
          "2021-06-07T11:54:11.700000",
          "2021-12-24T12:53:45.600000",
          "2022-07-12T13:53:19.500000",
          "2023-01-28T14:52:53.400000",
          "2023-08-16T15:52:27.300000",
          "2024-03-03T16:52:01.200000",
          "2024-09-19T17:51:35.100000"
         ],
         "y": [
          6,
          1,
          1,
          2,
          1,
          2,
          1,
          2,
          3,
          3,
          5,
          7,
          9,
          13,
          3,
          3,
          6,
          8,
          7
         ]
        }
       ],
       "layout": {
        "height": 450,
        "hoverlabel": {
         "bgcolor": "white",
         "font": {
          "family": "Rockwell",
          "size": 16
         }
        },
        "legend": {
         "title": {
          "text": "<b>Global Topic Representation"
         }
        },
        "template": {
         "data": {
          "bar": [
           {
            "error_x": {
             "color": "rgb(36,36,36)"
            },
            "error_y": {
             "color": "rgb(36,36,36)"
            },
            "marker": {
             "line": {
              "color": "white",
              "width": 0.5
             },
             "pattern": {
              "fillmode": "overlay",
              "size": 10,
              "solidity": 0.2
             }
            },
            "type": "bar"
           }
          ],
          "barpolar": [
           {
            "marker": {
             "line": {
              "color": "white",
              "width": 0.5
             },
             "pattern": {
              "fillmode": "overlay",
              "size": 10,
              "solidity": 0.2
             }
            },
            "type": "barpolar"
           }
          ],
          "carpet": [
           {
            "aaxis": {
             "endlinecolor": "rgb(36,36,36)",
             "gridcolor": "white",
             "linecolor": "white",
             "minorgridcolor": "white",
             "startlinecolor": "rgb(36,36,36)"
            },
            "baxis": {
             "endlinecolor": "rgb(36,36,36)",
             "gridcolor": "white",
             "linecolor": "white",
             "minorgridcolor": "white",
             "startlinecolor": "rgb(36,36,36)"
            },
            "type": "carpet"
           }
          ],
          "choropleth": [
           {
            "colorbar": {
             "outlinewidth": 1,
             "tickcolor": "rgb(36,36,36)",
             "ticks": "outside"
            },
            "type": "choropleth"
           }
          ],
          "contour": [
           {
            "colorbar": {
             "outlinewidth": 1,
             "tickcolor": "rgb(36,36,36)",
             "ticks": "outside"
            },
            "colorscale": [
             [
              0,
              "#440154"
             ],
             [
              0.1111111111111111,
              "#482878"
             ],
             [
              0.2222222222222222,
              "#3e4989"
             ],
             [
              0.3333333333333333,
              "#31688e"
             ],
             [
              0.4444444444444444,
              "#26828e"
             ],
             [
              0.5555555555555556,
              "#1f9e89"
             ],
             [
              0.6666666666666666,
              "#35b779"
             ],
             [
              0.7777777777777778,
              "#6ece58"
             ],
             [
              0.8888888888888888,
              "#b5de2b"
             ],
             [
              1,
              "#fde725"
             ]
            ],
            "type": "contour"
           }
          ],
          "contourcarpet": [
           {
            "colorbar": {
             "outlinewidth": 1,
             "tickcolor": "rgb(36,36,36)",
             "ticks": "outside"
            },
            "type": "contourcarpet"
           }
          ],
          "heatmap": [
           {
            "colorbar": {
             "outlinewidth": 1,
             "tickcolor": "rgb(36,36,36)",
             "ticks": "outside"
            },
            "colorscale": [
             [
              0,
              "#440154"
             ],
             [
              0.1111111111111111,
              "#482878"
             ],
             [
              0.2222222222222222,
              "#3e4989"
             ],
             [
              0.3333333333333333,
              "#31688e"
             ],
             [
              0.4444444444444444,
              "#26828e"
             ],
             [
              0.5555555555555556,
              "#1f9e89"
             ],
             [
              0.6666666666666666,
              "#35b779"
             ],
             [
              0.7777777777777778,
              "#6ece58"
             ],
             [
              0.8888888888888888,
              "#b5de2b"
             ],
             [
              1,
              "#fde725"
             ]
            ],
            "type": "heatmap"
           }
          ],
          "heatmapgl": [
           {
            "colorbar": {
             "outlinewidth": 1,
             "tickcolor": "rgb(36,36,36)",
             "ticks": "outside"
            },
            "colorscale": [
             [
              0,
              "#440154"
             ],
             [
              0.1111111111111111,
              "#482878"
             ],
             [
              0.2222222222222222,
              "#3e4989"
             ],
             [
              0.3333333333333333,
              "#31688e"
             ],
             [
              0.4444444444444444,
              "#26828e"
             ],
             [
              0.5555555555555556,
              "#1f9e89"
             ],
             [
              0.6666666666666666,
              "#35b779"
             ],
             [
              0.7777777777777778,
              "#6ece58"
             ],
             [
              0.8888888888888888,
              "#b5de2b"
             ],
             [
              1,
              "#fde725"
             ]
            ],
            "type": "heatmapgl"
           }
          ],
          "histogram": [
           {
            "marker": {
             "line": {
              "color": "white",
              "width": 0.6
             }
            },
            "type": "histogram"
           }
          ],
          "histogram2d": [
           {
            "colorbar": {
             "outlinewidth": 1,
             "tickcolor": "rgb(36,36,36)",
             "ticks": "outside"
            },
            "colorscale": [
             [
              0,
              "#440154"
             ],
             [
              0.1111111111111111,
              "#482878"
             ],
             [
              0.2222222222222222,
              "#3e4989"
             ],
             [
              0.3333333333333333,
              "#31688e"
             ],
             [
              0.4444444444444444,
              "#26828e"
             ],
             [
              0.5555555555555556,
              "#1f9e89"
             ],
             [
              0.6666666666666666,
              "#35b779"
             ],
             [
              0.7777777777777778,
              "#6ece58"
             ],
             [
              0.8888888888888888,
              "#b5de2b"
             ],
             [
              1,
              "#fde725"
             ]
            ],
            "type": "histogram2d"
           }
          ],
          "histogram2dcontour": [
           {
            "colorbar": {
             "outlinewidth": 1,
             "tickcolor": "rgb(36,36,36)",
             "ticks": "outside"
            },
            "colorscale": [
             [
              0,
              "#440154"
             ],
             [
              0.1111111111111111,
              "#482878"
             ],
             [
              0.2222222222222222,
              "#3e4989"
             ],
             [
              0.3333333333333333,
              "#31688e"
             ],
             [
              0.4444444444444444,
              "#26828e"
             ],
             [
              0.5555555555555556,
              "#1f9e89"
             ],
             [
              0.6666666666666666,
              "#35b779"
             ],
             [
              0.7777777777777778,
              "#6ece58"
             ],
             [
              0.8888888888888888,
              "#b5de2b"
             ],
             [
              1,
              "#fde725"
             ]
            ],
            "type": "histogram2dcontour"
           }
          ],
          "mesh3d": [
           {
            "colorbar": {
             "outlinewidth": 1,
             "tickcolor": "rgb(36,36,36)",
             "ticks": "outside"
            },
            "type": "mesh3d"
           }
          ],
          "parcoords": [
           {
            "line": {
             "colorbar": {
              "outlinewidth": 1,
              "tickcolor": "rgb(36,36,36)",
              "ticks": "outside"
             }
            },
            "type": "parcoords"
           }
          ],
          "pie": [
           {
            "automargin": true,
            "type": "pie"
           }
          ],
          "scatter": [
           {
            "fillpattern": {
             "fillmode": "overlay",
             "size": 10,
             "solidity": 0.2
            },
            "type": "scatter"
           }
          ],
          "scatter3d": [
           {
            "line": {
             "colorbar": {
              "outlinewidth": 1,
              "tickcolor": "rgb(36,36,36)",
              "ticks": "outside"
             }
            },
            "marker": {
             "colorbar": {
              "outlinewidth": 1,
              "tickcolor": "rgb(36,36,36)",
              "ticks": "outside"
             }
            },
            "type": "scatter3d"
           }
          ],
          "scattercarpet": [
           {
            "marker": {
             "colorbar": {
              "outlinewidth": 1,
              "tickcolor": "rgb(36,36,36)",
              "ticks": "outside"
             }
            },
            "type": "scattercarpet"
           }
          ],
          "scattergeo": [
           {
            "marker": {
             "colorbar": {
              "outlinewidth": 1,
              "tickcolor": "rgb(36,36,36)",
              "ticks": "outside"
             }
            },
            "type": "scattergeo"
           }
          ],
          "scattergl": [
           {
            "marker": {
             "colorbar": {
              "outlinewidth": 1,
              "tickcolor": "rgb(36,36,36)",
              "ticks": "outside"
             }
            },
            "type": "scattergl"
           }
          ],
          "scattermapbox": [
           {
            "marker": {
             "colorbar": {
              "outlinewidth": 1,
              "tickcolor": "rgb(36,36,36)",
              "ticks": "outside"
             }
            },
            "type": "scattermapbox"
           }
          ],
          "scatterpolar": [
           {
            "marker": {
             "colorbar": {
              "outlinewidth": 1,
              "tickcolor": "rgb(36,36,36)",
              "ticks": "outside"
             }
            },
            "type": "scatterpolar"
           }
          ],
          "scatterpolargl": [
           {
            "marker": {
             "colorbar": {
              "outlinewidth": 1,
              "tickcolor": "rgb(36,36,36)",
              "ticks": "outside"
             }
            },
            "type": "scatterpolargl"
           }
          ],
          "scatterternary": [
           {
            "marker": {
             "colorbar": {
              "outlinewidth": 1,
              "tickcolor": "rgb(36,36,36)",
              "ticks": "outside"
             }
            },
            "type": "scatterternary"
           }
          ],
          "surface": [
           {
            "colorbar": {
             "outlinewidth": 1,
             "tickcolor": "rgb(36,36,36)",
             "ticks": "outside"
            },
            "colorscale": [
             [
              0,
              "#440154"
             ],
             [
              0.1111111111111111,
              "#482878"
             ],
             [
              0.2222222222222222,
              "#3e4989"
             ],
             [
              0.3333333333333333,
              "#31688e"
             ],
             [
              0.4444444444444444,
              "#26828e"
             ],
             [
              0.5555555555555556,
              "#1f9e89"
             ],
             [
              0.6666666666666666,
              "#35b779"
             ],
             [
              0.7777777777777778,
              "#6ece58"
             ],
             [
              0.8888888888888888,
              "#b5de2b"
             ],
             [
              1,
              "#fde725"
             ]
            ],
            "type": "surface"
           }
          ],
          "table": [
           {
            "cells": {
             "fill": {
              "color": "rgb(237,237,237)"
             },
             "line": {
              "color": "white"
             }
            },
            "header": {
             "fill": {
              "color": "rgb(217,217,217)"
             },
             "line": {
              "color": "white"
             }
            },
            "type": "table"
           }
          ]
         },
         "layout": {
          "annotationdefaults": {
           "arrowhead": 0,
           "arrowwidth": 1
          },
          "autotypenumbers": "strict",
          "coloraxis": {
           "colorbar": {
            "outlinewidth": 1,
            "tickcolor": "rgb(36,36,36)",
            "ticks": "outside"
           }
          },
          "colorscale": {
           "diverging": [
            [
             0,
             "rgb(103,0,31)"
            ],
            [
             0.1,
             "rgb(178,24,43)"
            ],
            [
             0.2,
             "rgb(214,96,77)"
            ],
            [
             0.3,
             "rgb(244,165,130)"
            ],
            [
             0.4,
             "rgb(253,219,199)"
            ],
            [
             0.5,
             "rgb(247,247,247)"
            ],
            [
             0.6,
             "rgb(209,229,240)"
            ],
            [
             0.7,
             "rgb(146,197,222)"
            ],
            [
             0.8,
             "rgb(67,147,195)"
            ],
            [
             0.9,
             "rgb(33,102,172)"
            ],
            [
             1,
             "rgb(5,48,97)"
            ]
           ],
           "sequential": [
            [
             0,
             "#440154"
            ],
            [
             0.1111111111111111,
             "#482878"
            ],
            [
             0.2222222222222222,
             "#3e4989"
            ],
            [
             0.3333333333333333,
             "#31688e"
            ],
            [
             0.4444444444444444,
             "#26828e"
            ],
            [
             0.5555555555555556,
             "#1f9e89"
            ],
            [
             0.6666666666666666,
             "#35b779"
            ],
            [
             0.7777777777777778,
             "#6ece58"
            ],
            [
             0.8888888888888888,
             "#b5de2b"
            ],
            [
             1,
             "#fde725"
            ]
           ],
           "sequentialminus": [
            [
             0,
             "#440154"
            ],
            [
             0.1111111111111111,
             "#482878"
            ],
            [
             0.2222222222222222,
             "#3e4989"
            ],
            [
             0.3333333333333333,
             "#31688e"
            ],
            [
             0.4444444444444444,
             "#26828e"
            ],
            [
             0.5555555555555556,
             "#1f9e89"
            ],
            [
             0.6666666666666666,
             "#35b779"
            ],
            [
             0.7777777777777778,
             "#6ece58"
            ],
            [
             0.8888888888888888,
             "#b5de2b"
            ],
            [
             1,
             "#fde725"
            ]
           ]
          },
          "colorway": [
           "#1F77B4",
           "#FF7F0E",
           "#2CA02C",
           "#D62728",
           "#9467BD",
           "#8C564B",
           "#E377C2",
           "#7F7F7F",
           "#BCBD22",
           "#17BECF"
          ],
          "font": {
           "color": "rgb(36,36,36)"
          },
          "geo": {
           "bgcolor": "white",
           "lakecolor": "white",
           "landcolor": "white",
           "showlakes": true,
           "showland": true,
           "subunitcolor": "white"
          },
          "hoverlabel": {
           "align": "left"
          },
          "hovermode": "closest",
          "mapbox": {
           "style": "light"
          },
          "paper_bgcolor": "white",
          "plot_bgcolor": "white",
          "polar": {
           "angularaxis": {
            "gridcolor": "rgb(232,232,232)",
            "linecolor": "rgb(36,36,36)",
            "showgrid": false,
            "showline": true,
            "ticks": "outside"
           },
           "bgcolor": "white",
           "radialaxis": {
            "gridcolor": "rgb(232,232,232)",
            "linecolor": "rgb(36,36,36)",
            "showgrid": false,
            "showline": true,
            "ticks": "outside"
           }
          },
          "scene": {
           "xaxis": {
            "backgroundcolor": "white",
            "gridcolor": "rgb(232,232,232)",
            "gridwidth": 2,
            "linecolor": "rgb(36,36,36)",
            "showbackground": true,
            "showgrid": false,
            "showline": true,
            "ticks": "outside",
            "zeroline": false,
            "zerolinecolor": "rgb(36,36,36)"
           },
           "yaxis": {
            "backgroundcolor": "white",
            "gridcolor": "rgb(232,232,232)",
            "gridwidth": 2,
            "linecolor": "rgb(36,36,36)",
            "showbackground": true,
            "showgrid": false,
            "showline": true,
            "ticks": "outside",
            "zeroline": false,
            "zerolinecolor": "rgb(36,36,36)"
           },
           "zaxis": {
            "backgroundcolor": "white",
            "gridcolor": "rgb(232,232,232)",
            "gridwidth": 2,
            "linecolor": "rgb(36,36,36)",
            "showbackground": true,
            "showgrid": false,
            "showline": true,
            "ticks": "outside",
            "zeroline": false,
            "zerolinecolor": "rgb(36,36,36)"
           }
          },
          "shapedefaults": {
           "fillcolor": "black",
           "line": {
            "width": 0
           },
           "opacity": 0.3
          },
          "ternary": {
           "aaxis": {
            "gridcolor": "rgb(232,232,232)",
            "linecolor": "rgb(36,36,36)",
            "showgrid": false,
            "showline": true,
            "ticks": "outside"
           },
           "baxis": {
            "gridcolor": "rgb(232,232,232)",
            "linecolor": "rgb(36,36,36)",
            "showgrid": false,
            "showline": true,
            "ticks": "outside"
           },
           "bgcolor": "white",
           "caxis": {
            "gridcolor": "rgb(232,232,232)",
            "linecolor": "rgb(36,36,36)",
            "showgrid": false,
            "showline": true,
            "ticks": "outside"
           }
          },
          "title": {
           "x": 0.05
          },
          "xaxis": {
           "automargin": true,
           "gridcolor": "rgb(232,232,232)",
           "linecolor": "rgb(36,36,36)",
           "showgrid": false,
           "showline": true,
           "ticks": "outside",
           "title": {
            "standoff": 15
           },
           "zeroline": false,
           "zerolinecolor": "rgb(36,36,36)"
          },
          "yaxis": {
           "automargin": true,
           "gridcolor": "rgb(232,232,232)",
           "linecolor": "rgb(36,36,36)",
           "showgrid": false,
           "showline": true,
           "ticks": "outside",
           "title": {
            "standoff": 15
           },
           "zeroline": false,
           "zerolinecolor": "rgb(36,36,36)"
          }
         }
        },
        "title": {
         "font": {
          "color": "Black",
          "size": 22
         },
         "text": "<b>Topics over Time</b>",
         "x": 0.4,
         "xanchor": "center",
         "y": 0.95,
         "yanchor": "top"
        },
        "width": 1250,
        "xaxis": {
         "showgrid": true
        },
        "yaxis": {
         "showgrid": true,
         "title": {
          "text": "Frequency"
         }
        }
       }
      }
     },
     "metadata": {},
     "output_type": "display_data"
    }
   ],
   "source": [
    "neg_model.visualize_topics_over_time(neg_topics_over_time, top_n_topics=15)"
   ]
  },
  {
   "cell_type": "code",
   "execution_count": null,
   "metadata": {},
   "outputs": [],
   "source": []
  }
 ],
 "metadata": {
  "kernelspec": {
   "display_name": "base",
   "language": "python",
   "name": "python3"
  },
  "language_info": {
   "codemirror_mode": {
    "name": "ipython",
    "version": 3
   },
   "file_extension": ".py",
   "mimetype": "text/x-python",
   "name": "python",
   "nbconvert_exporter": "python",
   "pygments_lexer": "ipython3",
   "version": "3.11.4"
  }
 },
 "nbformat": 4,
 "nbformat_minor": 2
}
