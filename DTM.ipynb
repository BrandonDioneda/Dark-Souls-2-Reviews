{
 "cells": [
  {
   "cell_type": "markdown",
   "metadata": {},
   "source": [
    "# Dark Souls II Reviews (2025)"
   ]
  },
  {
   "cell_type": "code",
   "execution_count": 1,
   "metadata": {},
   "outputs": [
    {
     "name": "stdout",
     "output_type": "stream",
     "text": [
      "WARNING:tensorflow:From C:\\Users\\bdion\\AppData\\Roaming\\Python\\Python311\\site-packages\\tf_keras\\src\\losses.py:2976: The name tf.losses.sparse_softmax_cross_entropy is deprecated. Please use tf.compat.v1.losses.sparse_softmax_cross_entropy instead.\n",
      "\n"
     ]
    }
   ],
   "source": [
    "from preproc import *\n",
    "from bertopic import BERTopic"
   ]
  },
  {
   "cell_type": "code",
   "execution_count": 2,
   "metadata": {},
   "outputs": [],
   "source": [
    "reviews, vanilla, scholar = get_data()"
   ]
  },
  {
   "cell_type": "code",
   "execution_count": 3,
   "metadata": {},
   "outputs": [],
   "source": [
    "reviews['extra_content_release'] = reviews.update_date.apply(extra_content_release)"
   ]
  },
  {
   "cell_type": "markdown",
   "metadata": {},
   "source": [
    "## Topic Modeling:\n",
    "- Exploring certain aspects on why people like the game\n",
    "    - Also get critiques of the game in positive reviews (if any but there sure is considering DS2's reputation in the community)\n",
    "\n",
    "- Exploring why people don't like the game:\n",
    "    - Also get positive aspects within this subset of the reviews"
   ]
  },
  {
   "cell_type": "markdown",
   "metadata": {},
   "source": [
    "Splitting the reviews by how many do and don't recommend buying the game:"
   ]
  },
  {
   "cell_type": "code",
   "execution_count": 4,
   "metadata": {},
   "outputs": [],
   "source": [
    "pos_reviews = reviews[reviews['voted_up'] == True]\n",
    "neg_reviews = reviews[reviews['voted_up'] == False]"
   ]
  },
  {
   "cell_type": "code",
   "execution_count": 5,
   "metadata": {},
   "outputs": [
    {
     "data": {
      "text/plain": [
       "((55777, 7), (11222, 7))"
      ]
     },
     "execution_count": 5,
     "metadata": {},
     "output_type": "execute_result"
    }
   ],
   "source": [
    "pos_reviews.shape, neg_reviews.shape"
   ]
  },
  {
   "cell_type": "markdown",
   "metadata": {},
   "source": [
    "### DTM:"
   ]
  },
  {
   "cell_type": "markdown",
   "metadata": {},
   "source": [
    "- Useful for analyzing trends in text over long periods"
   ]
  },
  {
   "cell_type": "code",
   "execution_count": 6,
   "metadata": {},
   "outputs": [],
   "source": [
    "docs = reviews.review.to_list()\n",
    "pos_docs = pos_reviews.review.to_list()\n",
    "neg_docs = neg_reviews.review.to_list()"
   ]
  },
  {
   "cell_type": "code",
   "execution_count": 7,
   "metadata": {},
   "outputs": [],
   "source": [
    "timestamps = pd.to_datetime(reviews.update_date, unit='s').values\n",
    "pos_timestamps = pd.to_datetime(pos_reviews.update_date, unit='s').values\n",
    "neg_timestamps = pd.to_datetime(neg_reviews.update_date, unit='s').values"
   ]
  },
  {
   "cell_type": "code",
   "execution_count": 8,
   "metadata": {},
   "outputs": [],
   "source": [
    "extra_content_release = pd.to_datetime(reviews.extra_content_release, unit='s').values\n",
    "pos_extra_content_release = pd.to_datetime(pos_reviews.extra_content_release, unit='s').values\n",
    "neg_extra_content_release = pd.to_datetime(neg_reviews.extra_content_release, unit='s').values"
   ]
  },
  {
   "cell_type": "code",
   "execution_count": 9,
   "metadata": {},
   "outputs": [],
   "source": [
    "topic_model = BERTopic.load(\"models/bertopic_model\")"
   ]
  },
  {
   "cell_type": "code",
   "execution_count": 10,
   "metadata": {},
   "outputs": [
    {
     "name": "stderr",
     "output_type": "stream",
     "text": [
      "20it [00:45,  2.25s/it]\n"
     ]
    }
   ],
   "source": [
    "topics_over_time = topic_model.topics_over_time(docs, timestamps, nr_bins=20)"
   ]
  },
  {
   "cell_type": "code",
   "execution_count": 11,
   "metadata": {},
   "outputs": [
    {
     "data": {
      "application/vnd.plotly.v1+json": {
       "config": {
        "plotlyServerURL": "https://plot.ly"
       },
       "data": [
        {
         "hoverinfo": "text",
         "hovertext": [
          "<b>Topic 0</b><br>Words: ow, show, till, , ",
          "<b>Topic 0</b><br>Words: ow, show, till, , ",
          "<b>Topic 0</b><br>Words: ow, show, till, , ",
          "<b>Topic 0</b><br>Words: don, ow, show, till, ",
          "<b>Topic 0</b><br>Words: ow, show, till, , ",
          "<b>Topic 0</b><br>Words: don, ow, show, till, ",
          "<b>Topic 0</b><br>Words: ow, show, till, , ",
          "<b>Topic 0</b><br>Words: ow, show, till, , ",
          "<b>Topic 0</b><br>Words: don, ow, show, till, ",
          "<b>Topic 0</b><br>Words: ow, show, till, , ",
          "<b>Topic 0</b><br>Words: don, ow, show, till, ",
          "<b>Topic 0</b><br>Words: don, ow, show, till, ",
          "<b>Topic 0</b><br>Words: ss, ow, show, till, ",
          "<b>Topic 0</b><br>Words: don, ow, show, till, ",
          "<b>Topic 0</b><br>Words: don, ow, show, till, ",
          "<b>Topic 0</b><br>Words: ow, show, till, , ",
          "<b>Topic 0</b><br>Words: ow, show, till, , ",
          "<b>Topic 0</b><br>Words: ow, show, till, , ",
          "<b>Topic 0</b><br>Words: don, ow, till, show, win",
          "<b>Topic 0</b><br>Words: don, ow, show, till, "
         ],
         "marker": {
          "color": "#E69F00"
         },
         "mode": "lines",
         "name": "0_ow_show_till_",
         "type": "scatter",
         "x": [
          "2014-04-20T18:06:56.036000",
          "2014-11-10T19:22:33.200000",
          "2015-05-29T20:36:41.400000",
          "2015-12-15T21:50:49.600000",
          "2016-07-02T23:04:57.800000",
          "2017-01-19T00:19:06",
          "2017-08-07T01:33:14.200000",
          "2018-02-23T02:47:22.400000",
          "2018-09-11T04:01:30.600000",
          "2019-03-30T05:15:38.800000",
          "2019-10-16T06:29:47",
          "2020-05-03T07:43:55.200000",
          "2020-11-19T08:58:03.400000",
          "2021-06-07T10:12:11.600000",
          "2021-12-24T11:26:19.800000",
          "2022-07-12T12:40:28",
          "2023-01-28T13:54:36.200000",
          "2023-08-16T15:08:44.400000",
          "2024-03-03T16:22:52.600000",
          "2024-09-19T17:37:00.800000"
         ],
         "y": [
          119,
          56,
          42,
          49,
          37,
          25,
          26,
          23,
          34,
          52,
          113,
          123,
          156,
          179,
          183,
          121,
          130,
          161,
          179,
          191
         ]
        },
        {
         "hoverinfo": "text",
         "hovertext": [
          "<b>Topic 1</b><br>Words: don, have, haven, covenant, bursss",
          "<b>Topic 1</b><br>Words: don, have, haven, matrixdll, stamina",
          "<b>Topic 1</b><br>Words: don, have, das, haven, dks",
          "<b>Topic 1</b><br>Words: don, have, haven, katana, warped",
          "<b>Topic 1</b><br>Words: don, have, haven, area, player",
          "<b>Topic 1</b><br>Words: don, have, haven, boss, bonfire",
          "<b>Topic 1</b><br>Words: don, have, stat, boss, haven",
          "<b>Topic 1</b><br>Words: don, have, attack, boss, player",
          "<b>Topic 1</b><br>Words: don, haven, have, summon, attack",
          "<b>Topic 1</b><br>Words: don, have, boss, stat, haven",
          "<b>Topic 1</b><br>Words: don, have, bean, lifegem, enemy",
          "<b>Topic 1</b><br>Words: don, have, attack, boss, haven",
          "<b>Topic 1</b><br>Words: don, have, boss, enemy, attack",
          "<b>Topic 1</b><br>Words: don, have, boss, attack, stat",
          "<b>Topic 1</b><br>Words: don, iron, have, hate, haven",
          "<b>Topic 1</b><br>Words: don, have, boss, enemy, estus",
          "<b>Topic 1</b><br>Words: don, have, attack, boss, annoying",
          "<b>Topic 1</b><br>Words: don, have, haven, boss, dementia",
          "<b>Topic 1</b><br>Words: don, tyler, creator, have, boss",
          "<b>Topic 1</b><br>Words: don, have, spoiler, boss, stat"
         ],
         "marker": {
          "color": "#56B4E9"
         },
         "mode": "lines",
         "name": "1_attack_area_enemy_player",
         "type": "scatter",
         "x": [
          "2014-04-20T18:06:56.036000",
          "2014-11-10T19:22:33.200000",
          "2015-05-29T20:36:41.400000",
          "2015-12-15T21:50:49.600000",
          "2016-07-02T23:04:57.800000",
          "2017-01-19T00:19:06",
          "2017-08-07T01:33:14.200000",
          "2018-02-23T02:47:22.400000",
          "2018-09-11T04:01:30.600000",
          "2019-03-30T05:15:38.800000",
          "2019-10-16T06:29:47",
          "2020-05-03T07:43:55.200000",
          "2020-11-19T08:58:03.400000",
          "2021-06-07T10:12:11.600000",
          "2021-12-24T11:26:19.800000",
          "2022-07-12T12:40:28",
          "2023-01-28T13:54:36.200000",
          "2023-08-16T15:08:44.400000",
          "2024-03-03T16:22:52.600000",
          "2024-09-19T17:37:00.800000"
         ],
         "y": [
          193,
          102,
          42,
          67,
          44,
          64,
          50,
          39,
          32,
          38,
          48,
          57,
          73,
          79,
          77,
          43,
          64,
          65,
          88,
          95
         ]
        },
        {
         "hoverinfo": "text",
         "hovertext": [
          "<b>Topic 2</b><br>Words: good, ass, well, goodin, uwu",
          "<b>Topic 2</b><br>Words: good, dat, pussy, goodin, uwu",
          "<b>Topic 2</b><br>Words: good, goodin, uwu, lik, mm",
          "<b>Topic 2</b><br>Words: good, well, goodin, uwu, lik",
          "<b>Topic 2</b><br>Words: good, well, goodin, uwu, lik",
          "<b>Topic 2</b><br>Words: good, well, goodin, uwu, lik",
          "<b>Topic 2</b><br>Words: good, well, goodin, uwu, lik",
          "<b>Topic 2</b><br>Words: good, goodin, uwu, lik, mm",
          "<b>Topic 2</b><br>Words: good, don, goodin, well, uwu",
          "<b>Topic 2</b><br>Words: good, noice, well, goodin, uwu",
          "<b>Topic 2</b><br>Words: good, don, lik, well, goodin",
          "<b>Topic 2</b><br>Words: good, mm, lol, dks, well",
          "<b>Topic 2</b><br>Words: good, well, goodin, uwu, lik",
          "<b>Topic 2</b><br>Words: good, well, goodin, uwu, lik",
          "<b>Topic 2</b><br>Words: good, er, well, goodin, uwu",
          "<b>Topic 2</b><br>Words: good, well, goodin, uwu, lik",
          "<b>Topic 2</b><br>Words: good, well, goodin, uwu, lik",
          "<b>Topic 2</b><br>Words: good, goodin, uh, nioh, af",
          "<b>Topic 2</b><br>Words: good, ol, well, goodin, uwu",
          "<b>Topic 2</b><br>Words: good, uwu, well, goodin, lik"
         ],
         "marker": {
          "color": "#009E73"
         },
         "mode": "lines",
         "name": "2_good_goodin_uwu_lik",
         "type": "scatter",
         "x": [
          "2014-04-20T18:06:56.036000",
          "2014-11-10T19:22:33.200000",
          "2015-05-29T20:36:41.400000",
          "2015-12-15T21:50:49.600000",
          "2016-07-02T23:04:57.800000",
          "2017-01-19T00:19:06",
          "2017-08-07T01:33:14.200000",
          "2018-02-23T02:47:22.400000",
          "2018-09-11T04:01:30.600000",
          "2019-03-30T05:15:38.800000",
          "2019-10-16T06:29:47",
          "2020-05-03T07:43:55.200000",
          "2020-11-19T08:58:03.400000",
          "2021-06-07T10:12:11.600000",
          "2021-12-24T11:26:19.800000",
          "2022-07-12T12:40:28",
          "2023-01-28T13:54:36.200000",
          "2023-08-16T15:08:44.400000",
          "2024-03-03T16:22:52.600000",
          "2024-09-19T17:37:00.800000"
         ],
         "y": [
          68,
          35,
          13,
          31,
          19,
          29,
          26,
          12,
          25,
          48,
          104,
          110,
          107,
          119,
          114,
          70,
          90,
          81,
          104,
          101
         ]
        },
        {
         "hoverinfo": "text",
         "hovertext": [
          "<b>Topic 3</b><br>Words: que, jogo, es, de, primeiro",
          "<b>Topic 3</b><br>Words: de, que, jogo, et, le",
          "<b>Topic 3</b><br>Words: que, el, jogo, es, ncia",
          "<b>Topic 3</b><br>Words: que, jogo, de, se, morrer",
          "<b>Topic 3</b><br>Words: de, el, que, la, en",
          "<b>Topic 3</b><br>Words: que, de, su, la, en",
          "<b>Topic 3</b><br>Words: que, la, se, el, de",
          "<b>Topic 3</b><br>Words: morrer, perfeito, matar, mais, se",
          "<b>Topic 3</b><br>Words: el, de, favorita, mentale, castigara",
          "<b>Topic 3</b><br>Words: jogo, que, para, os, de",
          "<b>Topic 3</b><br>Words: que, jogo, juegazo, de, pero",
          "<b>Topic 3</b><br>Words: jogo, que, mas, de, rosto",
          "<b>Topic 3</b><br>Words: novo, de, que, jogo, el",
          "<b>Topic 3</b><br>Words: que, de, jogo, juego, um",
          "<b>Topic 3</b><br>Words: de, la, es, que, el",
          "<b>Topic 3</b><br>Words: que, de, pra, jogo, voc",
          "<b>Topic 3</b><br>Words: que, de, jogo, um, el",
          "<b>Topic 3</b><br>Words: te, odeio, amo, de, que",
          "<b>Topic 3</b><br>Words: de, que, el, juego, jogo",
          "<b>Topic 3</b><br>Words: que, de, jogo, la, el"
         ],
         "marker": {
          "color": "#F0E442"
         },
         "mode": "lines",
         "name": "3_de_que_jogo_el",
         "type": "scatter",
         "x": [
          "2014-04-20T18:06:56.036000",
          "2014-11-10T19:22:33.200000",
          "2015-05-29T20:36:41.400000",
          "2015-12-15T21:50:49.600000",
          "2016-07-02T23:04:57.800000",
          "2017-01-19T00:19:06",
          "2017-08-07T01:33:14.200000",
          "2018-02-23T02:47:22.400000",
          "2018-09-11T04:01:30.600000",
          "2019-03-30T05:15:38.800000",
          "2019-10-16T06:29:47",
          "2020-05-03T07:43:55.200000",
          "2020-11-19T08:58:03.400000",
          "2021-06-07T10:12:11.600000",
          "2021-12-24T11:26:19.800000",
          "2022-07-12T12:40:28",
          "2023-01-28T13:54:36.200000",
          "2023-08-16T15:08:44.400000",
          "2024-03-03T16:22:52.600000",
          "2024-09-19T17:37:00.800000"
         ],
         "y": [
          21,
          8,
          8,
          12,
          10,
          4,
          10,
          4,
          6,
          6,
          31,
          24,
          33,
          39,
          25,
          21,
          43,
          33,
          44,
          56
         ]
        },
        {
         "hoverinfo": "text",
         "hovertext": [
          "<b>Topic 4</b><br>Words: yes, nope, frog, yesn, yessir",
          "<b>Topic 4</b><br>Words: yes, nope, yesn, yessir, frog",
          "<b>Topic 4</b><br>Words: yes, nope, yesn, yessir, frog",
          "<b>Topic 4</b><br>Words: yes, nope, yesn, yessir, frog",
          "<b>Topic 4</b><br>Words: yes, nope, yesn, yessir, frog",
          "<b>Topic 4</b><br>Words: yes, nope, yesn, yessir, frog",
          "<b>Topic 4</b><br>Words: yes, nope, yesn, yessir, frog",
          "<b>Topic 4</b><br>Words: yes, nope, yesn, yessir, frog",
          "<b>Topic 4</b><br>Words: yes, nope, yesn, yessir, frog",
          "<b>Topic 4</b><br>Words: yes, nope, yesn, yessir, frog",
          "<b>Topic 4</b><br>Words: yes, nope, yesn, yessir, frog",
          "<b>Topic 4</b><br>Words: yes, nope, yesn, yessir, frog",
          "<b>Topic 4</b><br>Words: yes, nope, yesn, yessir, frog",
          "<b>Topic 4</b><br>Words: yes, thank, nope, bro, sir",
          "<b>Topic 4</b><br>Words: yes, nope, yesn, yessir, frog",
          "<b>Topic 4</b><br>Words: yes, nope, yesn, yessir, frog",
          "<b>Topic 4</b><br>Words: yes, nope, yesn, yessir, frog",
          "<b>Topic 4</b><br>Words: yes, yessir, nope, yesn, frog",
          "<b>Topic 4</b><br>Words: yes, nope, yesn, yessir, frog",
          "<b>Topic 4</b><br>Words: yes, nope, yesn, yessir, frog"
         ],
         "marker": {
          "color": "#D55E00"
         },
         "mode": "lines",
         "name": "4_yes_nope_yesn_yessir",
         "type": "scatter",
         "x": [
          "2014-04-20T18:06:56.036000",
          "2014-11-10T19:22:33.200000",
          "2015-05-29T20:36:41.400000",
          "2015-12-15T21:50:49.600000",
          "2016-07-02T23:04:57.800000",
          "2017-01-19T00:19:06",
          "2017-08-07T01:33:14.200000",
          "2018-02-23T02:47:22.400000",
          "2018-09-11T04:01:30.600000",
          "2019-03-30T05:15:38.800000",
          "2019-10-16T06:29:47",
          "2020-05-03T07:43:55.200000",
          "2020-11-19T08:58:03.400000",
          "2021-06-07T10:12:11.600000",
          "2021-12-24T11:26:19.800000",
          "2022-07-12T12:40:28",
          "2023-01-28T13:54:36.200000",
          "2023-08-16T15:08:44.400000",
          "2024-03-03T16:22:52.600000",
          "2024-09-19T17:37:00.800000"
         ],
         "y": [
          27,
          13,
          6,
          7,
          4,
          1,
          3,
          2,
          5,
          9,
          51,
          51,
          51,
          45,
          40,
          26,
          15,
          25,
          25,
          23
         ]
        },
        {
         "hoverinfo": "text",
         "hovertext": [
          "<b>Topic 5</b><br>Words: best, good, well, everrrrrrrrrrrrrrrrrrrrrrrrrrrrrrrrrrrrrrrrrrrrrrrrrrrrrrrrrrrrrrrrrrrrrrrrrrrrrrrrrrrrrrrrrrrrrrrrrrrrrrr, proper",
          "<b>Topic 5</b><br>Words: best, everrrrrrrrrrrrrrrrrrrrrrrrrrrrrrrrrrrrrrrrrrrrrrrrrrrrrrrrrrrrrrrrrrrrrrrrrrrrrrrrrrrrrrrrrrrrrrrrrrrrrrr, proper, job, good",
          "<b>Topic 5</b><br>Words: best, well, good, everrrrrrrrrrrrrrrrrrrrrrrrrrrrrrrrrrrrrrrrrrrrrrrrrrrrrrrrrrrrrrrrrrrrrrrrrrrrrrrrrrrrrrrrrrrrrrrrrrrrrrr, proper",
          "<b>Topic 5</b><br>Words: good, best, everrrrrrrrrrrrrrrrrrrrrrrrrrrrrrrrrrrrrrrrrrrrrrrrrrrrrrrrrrrrrrrrrrrrrrrrrrrrrrrrrrrrrrrrrrrrrrrrrrrrrrr, proper, job",
          "<b>Topic 5</b><br>Words: lol, best, good, everrrrrrrrrrrrrrrrrrrrrrrrrrrrrrrrrrrrrrrrrrrrrrrrrrrrrrrrrrrrrrrrrrrrrrrrrrrrrrrrrrrrrrrrrrrrrrrrrrrrrrr, proper",
          "<b>Topic 5</b><br>Words: good, best, everrrrrrrrrrrrrrrrrrrrrrrrrrrrrrrrrrrrrrrrrrrrrrrrrrrrrrrrrrrrrrrrrrrrrrrrrrrrrrrrrrrrrrrrrrrrrrrrrrrrrrr, proper, job",
          "<b>Topic 5</b><br>Words: best, well, good, everrrrrrrrrrrrrrrrrrrrrrrrrrrrrrrrrrrrrrrrrrrrrrrrrrrrrrrrrrrrrrrrrrrrrrrrrrrrrrrrrrrrrrrrrrrrrrrrrrrrrrr, proper",
          "<b>Topic 5</b><br>Words: good, best, everrrrrrrrrrrrrrrrrrrrrrrrrrrrrrrrrrrrrrrrrrrrrrrrrrrrrrrrrrrrrrrrrrrrrrrrrrrrrrrrrrrrrrrrrrrrrrrrrrrrrrr, proper, job",
          "<b>Topic 5</b><br>Words: don, best, everrrrrrrrrrrrrrrrrrrrrrrrrrrrrrrrrrrrrrrrrrrrrrrrrrrrrrrrrrrrrrrrrrrrrrrrrrrrrrrrrrrrrrrrrrrrrrrrrrrrrrr, good, well",
          "<b>Topic 5</b><br>Words: best, don, good, everrrrrrrrrrrrrrrrrrrrrrrrrrrrrrrrrrrrrrrrrrrrrrrrrrrrrrrrrrrrrrrrrrrrrrrrrrrrrrrrrrrrrrrrrrrrrrrrrrrrrrr, proper",
          "<b>Topic 5</b><br>Words: best, don, good, everrrrrrrrrrrrrrrrrrrrrrrrrrrrrrrrrrrrrrrrrrrrrrrrrrrrrrrrrrrrrrrrrrrrrrrrrrrrrrrrrrrrrrrrrrrrrrrrrrrrrrr, proper",
          "<b>Topic 5</b><br>Words: best, good, well, everrrrrrrrrrrrrrrrrrrrrrrrrrrrrrrrrrrrrrrrrrrrrrrrrrrrrrrrrrrrrrrrrrrrrrrrrrrrrrrrrrrrrrrrrrrrrrrrrrrrrrr, proper",
          "<b>Topic 5</b><br>Words: best, don, good, everrrrrrrrrrrrrrrrrrrrrrrrrrrrrrrrrrrrrrrrrrrrrrrrrrrrrrrrrrrrrrrrrrrrrrrrrrrrrrrrrrrrrrrrrrrrrrrrrrrrrrr, well",
          "<b>Topic 5</b><br>Words: good, best, well, everrrrrrrrrrrrrrrrrrrrrrrrrrrrrrrrrrrrrrrrrrrrrrrrrrrrrrrrrrrrrrrrrrrrrrrrrrrrrrrrrrrrrrrrrrrrrrrrrrrrrrr, proper",
          "<b>Topic 5</b><br>Words: best, good, well, everrrrrrrrrrrrrrrrrrrrrrrrrrrrrrrrrrrrrrrrrrrrrrrrrrrrrrrrrrrrrrrrrrrrrrrrrrrrrrrrrrrrrrrrrrrrrrrrrrrrrrr, proper",
          "<b>Topic 5</b><br>Words: best, good, well, everrrrrrrrrrrrrrrrrrrrrrrrrrrrrrrrrrrrrrrrrrrrrrrrrrrrrrrrrrrrrrrrrrrrrrrrrrrrrrrrrrrrrrrrrrrrrrrrrrrrrrr, proper",
          "<b>Topic 5</b><br>Words: best, don, good, everrrrrrrrrrrrrrrrrrrrrrrrrrrrrrrrrrrrrrrrrrrrrrrrrrrrrrrrrrrrrrrrrrrrrrrrrrrrrrrrrrrrrrrrrrrrrrrrrrrrrrr, proper",
          "<b>Topic 5</b><br>Words: best, good, right, everrrrrrrrrrrrrrrrrrrrrrrrrrrrrrrrrrrrrrrrrrrrrrrrrrrrrrrrrrrrrrrrrrrrrrrrrrrrrrrrrrrrrrrrrrrrrrrrrrrrrrr, well",
          "<b>Topic 5</b><br>Words: good, best, everrrrrrrrrrrrrrrrrrrrrrrrrrrrrrrrrrrrrrrrrrrrrrrrrrrrrrrrrrrrrrrrrrrrrrrrrrrrrrrrrrrrrrrrrrrrrrrrrrrrrrr, well, proper",
          "<b>Topic 5</b><br>Words: good, best, well, everrrrrrrrrrrrrrrrrrrrrrrrrrrrrrrrrrrrrrrrrrrrrrrrrrrrrrrrrrrrrrrrrrrrrrrrrrrrrrrrrrrrrrrrrrrrrrrrrrrrrrr, proper"
         ],
         "marker": {
          "color": "#0072B2"
         },
         "mode": "lines",
         "name": "5_best_everrrrrrrrrrrrrrrrrrrrrrrrrrrrrr...",
         "type": "scatter",
         "x": [
          "2014-04-20T18:06:56.036000",
          "2014-11-10T19:22:33.200000",
          "2015-05-29T20:36:41.400000",
          "2015-12-15T21:50:49.600000",
          "2016-07-02T23:04:57.800000",
          "2017-01-19T00:19:06",
          "2017-08-07T01:33:14.200000",
          "2018-02-23T02:47:22.400000",
          "2018-09-11T04:01:30.600000",
          "2019-03-30T05:15:38.800000",
          "2019-10-16T06:29:47",
          "2020-05-03T07:43:55.200000",
          "2020-11-19T08:58:03.400000",
          "2021-06-07T10:12:11.600000",
          "2021-12-24T11:26:19.800000",
          "2022-07-12T12:40:28",
          "2023-01-28T13:54:36.200000",
          "2023-08-16T15:08:44.400000",
          "2024-03-03T16:22:52.600000",
          "2024-09-19T17:37:00.800000"
         ],
         "y": [
          14,
          8,
          2,
          1,
          2,
          4,
          3,
          1,
          7,
          15,
          33,
          22,
          31,
          43,
          43,
          36,
          36,
          36,
          37,
          41
         ]
        },
        {
         "hoverinfo": "text",
         "hovertext": [
          "<b>Topic 6</b><br>Words: pvp, pve, don, shindig, funnyer",
          "<b>Topic 6</b><br>Words: pvp, ice, bugginess, raiper, rapist",
          "<b>Topic 6</b><br>Words: don, stunlock, pvp, pve, heavel",
          "<b>Topic 6</b><br>Words: pvp, pve, don, infinetly, tstorm",
          "<b>Topic 6</b><br>Words: pvp, pve, female, vacio, anillo",
          "<b>Topic 6</b><br>Words: pve, pvp, unbelievable, prefere, ham",
          "<b>Topic 6</b><br>Words: pvp, don, neato, forced, worried",
          "<b>Topic 6</b><br>Words: pvp, noxious, don, gamedesign, clothe",
          "<b>Topic 6</b><br>Words: actuall, pussy, balanced, ton, pvp",
          "<b>Topic 6</b><br>Words: haven, pvp, pve, tipper, fedora",
          "<b>Topic 6</b><br>Words: pvp, pve, litreally, dankest, have",
          "<b>Topic 6</b><br>Words: don, pvp, pve, campaing, spurg",
          "<b>Topic 6</b><br>Words: pvp, pve, casulz, matchmacking, simillar",
          "<b>Topic 6</b><br>Words: don, pvp, hundo, pve, estoc",
          "<b>Topic 6</b><br>Words: don, pvp, pve, brst, crazi",
          "<b>Topic 6</b><br>Words: pvp, ideology, spammer, acolyte, unknown",
          "<b>Topic 6</b><br>Words: haven, beg, embodiment, pvp, raid",
          "<b>Topic 6</b><br>Words: cosmetic, navigation, sol, medieval, pvp",
          "<b>Topic 6</b><br>Words: ole, pve, pvp, experimentally, don",
          "<b>Topic 6</b><br>Words: overhate, pvp, comp, swordplay, boo"
         ],
         "marker": {
          "color": "#CC79A7"
         },
         "mode": "lines",
         "name": "6_pvp_pve_best_hundo",
         "type": "scatter",
         "x": [
          "2014-04-20T18:06:56.036000",
          "2014-11-10T19:22:33.200000",
          "2015-05-29T20:36:41.400000",
          "2015-12-15T21:50:49.600000",
          "2016-07-02T23:04:57.800000",
          "2017-01-19T00:19:06",
          "2017-08-07T01:33:14.200000",
          "2018-02-23T02:47:22.400000",
          "2018-09-11T04:01:30.600000",
          "2019-03-30T05:15:38.800000",
          "2019-10-16T06:29:47",
          "2020-05-03T07:43:55.200000",
          "2020-11-19T08:58:03.400000",
          "2021-06-07T10:12:11.600000",
          "2021-12-24T11:26:19.800000",
          "2022-07-12T12:40:28",
          "2023-01-28T13:54:36.200000",
          "2023-08-16T15:08:44.400000",
          "2024-03-03T16:22:52.600000",
          "2024-09-19T17:37:00.800000"
         ],
         "y": [
          85,
          21,
          17,
          29,
          28,
          12,
          14,
          16,
          4,
          20,
          28,
          19,
          18,
          26,
          20,
          13,
          8,
          5,
          16,
          9
         ]
        },
        {
         "hoverinfo": "text",
         "hovertext": [
          "<b>Topic 7</b><br>Words: miyazaki, don, hidetaka, director, labrynth",
          "<b>Topic 7</b><br>Words: miyazaki, burger, film, director, hidetaka",
          "<b>Topic 7</b><br>Words: miyazaki, hidetaka, queen, challanage, golem",
          "<b>Topic 7</b><br>Words: miyazaki, hidetaka, don, sparse, director",
          "<b>Topic 7</b><br>Words: don, dat, miyazaki, becuaze, regenrate",
          "<b>Topic 7</b><br>Words: dksi, miyazaki, have, writer, section",
          "<b>Topic 7</b><br>Words: miyazaki, don, haven, hidetaka, cover",
          "<b>Topic 7</b><br>Words: miyazaki, don, initially, intensity, lovecraft",
          "<b>Topic 7</b><br>Words: don, miyazaki, bloodborn, tattoo, alot",
          "<b>Topic 7</b><br>Words: miyazaki, iframe, don, critique, las",
          "<b>Topic 7</b><br>Words: miyazaki, don, absence, controversy, ornstein",
          "<b>Topic 7</b><br>Words: don, miyazaki, direct, hidetaka, confusing",
          "<b>Topic 7</b><br>Words: don, miyazaki, hidetaka, tomohiro, shibuya",
          "<b>Topic 7</b><br>Words: miyazaki, don, direct, absence, hidetaka",
          "<b>Topic 7</b><br>Words: miyazaki, don, hidetaka, direct, url",
          "<b>Topic 7</b><br>Words: miyazaki, don, have, hidetaka, development",
          "<b>Topic 7</b><br>Words: don, miyazaki, emoji, hidetaka, soulslike",
          "<b>Topic 7</b><br>Words: miyazaki, don, hidetaka, have, spoiler",
          "<b>Topic 7</b><br>Words: miyazaki, have, don, hidetaka, direct",
          "<b>Topic 7</b><br>Words: miyazaki, don, hidetaka, direct, round"
         ],
         "marker": {
          "color": "#E69F00"
         },
         "mode": "lines",
         "name": "7_miyazaki_hidetaka_direct_director",
         "type": "scatter",
         "x": [
          "2014-04-20T18:06:56.036000",
          "2014-11-10T19:22:33.200000",
          "2015-05-29T20:36:41.400000",
          "2015-12-15T21:50:49.600000",
          "2016-07-02T23:04:57.800000",
          "2017-01-19T00:19:06",
          "2017-08-07T01:33:14.200000",
          "2018-02-23T02:47:22.400000",
          "2018-09-11T04:01:30.600000",
          "2019-03-30T05:15:38.800000",
          "2019-10-16T06:29:47",
          "2020-05-03T07:43:55.200000",
          "2020-11-19T08:58:03.400000",
          "2021-06-07T10:12:11.600000",
          "2021-12-24T11:26:19.800000",
          "2022-07-12T12:40:28",
          "2023-01-28T13:54:36.200000",
          "2023-08-16T15:08:44.400000",
          "2024-03-03T16:22:52.600000",
          "2024-09-19T17:37:00.800000"
         ],
         "y": [
          16,
          14,
          14,
          18,
          7,
          6,
          14,
          14,
          8,
          15,
          12,
          18,
          16,
          28,
          26,
          16,
          23,
          33,
          42,
          46
         ]
        },
        {
         "hoverinfo": "text",
         "hovertext": [
          "<b>Topic 8</b><br>Words: challenge, challenging, don, fun, amazing",
          "<b>Topic 8</b><br>Words: don, challenge, challenging, supah, defenately",
          "<b>Topic 8</b><br>Words: challenging, challenge, sole, starter, realy",
          "<b>Topic 8</b><br>Words: challenge, challenging, reccomendo, versus, humility",
          "<b>Topic 8</b><br>Words: challenging, challenge, dodged, whale, astonishing",
          "<b>Topic 8</b><br>Words: sophisticatioadawdw, difficeurewlt, awd, challenge, challenging",
          "<b>Topic 8</b><br>Words: daily, challenging, affect, challenge, regret",
          "<b>Topic 8</b><br>Words: littt, don, racing, lul, challenge",
          "<b>Topic 8</b><br>Words: grasp, challenging, timing, ago, hope",
          "<b>Topic 8</b><br>Words: don, challenge, challenging, grapchical, aaaaaarrrrghhhh",
          "<b>Topic 8</b><br>Words: challenging, challenge, pastime, don, haaard",
          "<b>Topic 8</b><br>Words: challenging, challenge, aaaaaaaaaaaaaaaaaaaaaaaaaaaaaaaaaaaaaaaaaaaaaaaaaaaaaaaaaaaaaahhhhhhhhhhhhhhhhhhhhhhhhhhhhhhhhhhhhhhhhhhhhhh, aaaaaaaaaaaaaaaaaaaaaaaaaaaaaaaaahhhhhhhhhhhhhhhhhhhhhhhhhhhhhhhhhhhhhhhhhhhhhhhhhhhhhhhh, legendary",
          "<b>Topic 8</b><br>Words: challenging, challenge, gratifying, havnt, brilliantly",
          "<b>Topic 8</b><br>Words: challenge, tad, overcome, challenging, hair",
          "<b>Topic 8</b><br>Words: don, have, challenge, shady, challenging",
          "<b>Topic 8</b><br>Words: challenging, amazing, challenge, pretty, fun",
          "<b>Topic 8</b><br>Words: challenging, challenge, eh, research, stress",
          "<b>Topic 8</b><br>Words: scrabble, bringer, goldfish, certify, challenge",
          "<b>Topic 8</b><br>Words: understnad, ounce, challenge, challenging, buggy",
          "<b>Topic 8</b><br>Words: bid, colorful, challenge, frustrated, overlook"
         ],
         "marker": {
          "color": "#56B4E9"
         },
         "mode": "lines",
         "name": "8_challenge_challenging_fun_amazing",
         "type": "scatter",
         "x": [
          "2014-04-20T18:06:56.036000",
          "2014-11-10T19:22:33.200000",
          "2015-05-29T20:36:41.400000",
          "2015-12-15T21:50:49.600000",
          "2016-07-02T23:04:57.800000",
          "2017-01-19T00:19:06",
          "2017-08-07T01:33:14.200000",
          "2018-02-23T02:47:22.400000",
          "2018-09-11T04:01:30.600000",
          "2019-03-30T05:15:38.800000",
          "2019-10-16T06:29:47",
          "2020-05-03T07:43:55.200000",
          "2020-11-19T08:58:03.400000",
          "2021-06-07T10:12:11.600000",
          "2021-12-24T11:26:19.800000",
          "2022-07-12T12:40:28",
          "2023-01-28T13:54:36.200000",
          "2023-08-16T15:08:44.400000",
          "2024-03-03T16:22:52.600000",
          "2024-09-19T17:37:00.800000"
         ],
         "y": [
          92,
          43,
          16,
          16,
          12,
          9,
          4,
          6,
          3,
          14,
          29,
          26,
          15,
          16,
          11,
          3,
          7,
          8,
          6,
          5
         ]
        },
        {
         "hoverinfo": "text",
         "hovertext": [
          "<b>Topic 9</b><br>Words: sun, praise, blah, hole, adherent",
          "<b>Topic 9</b><br>Words: sun, praise, bangt, huraah, bloom",
          "<b>Topic 9</b><br>Words: sun, praise, eighty, matey, biatch",
          "<b>Topic 9</b><br>Words: sun, praise, addicted, energy, goty",
          "<b>Topic 9</b><br>Words: sun, praise, toast, hole, blah",
          "<b>Topic 9</b><br>Words: sun, praise, sunny, blah, hole",
          "<b>Topic 9</b><br>Words: sun, praise, dat, gravity, ign",
          "<b>Topic 9</b><br>Words: sun, blah, praise, meme, tongue",
          "<b>Topic 9</b><br>Words: sun, praise, extra, content, ii",
          "<b>Topic 9</b><br>Words: sun, praise, sunnnnnnnnnn, uncle, creepy",
          "<b>Topic 9</b><br>Words: sun, praise, blah, hole, eighty",
          "<b>Topic 9</b><br>Words: sun, praise, paise, blah, hole",
          "<b>Topic 9</b><br>Words: sun, praise, suck, blah, hole",
          "<b>Topic 9</b><br>Words: sun, praise, odball, ok, blah",
          "<b>Topic 9</b><br>Words: sun, praise, completion, difficulty, blah",
          "<b>Topic 9</b><br>Words: sun, praise, server, blah, hole",
          "<b>Topic 9</b><br>Words: sun, praise, blah, hole, eighty",
          "<b>Topic 9</b><br>Words: sun, praise, introspection, require, blah",
          "<b>Topic 9</b><br>Words: sun, praise, hoorah, swallow, bom",
          "<b>Topic 9</b><br>Words: sun, praise, luv, pray, dis"
         ],
         "marker": {
          "color": "#009E73"
         },
         "mode": "lines",
         "name": "9_sun_praise_blah_hole",
         "type": "scatter",
         "x": [
          "2014-04-20T18:06:56.036000",
          "2014-11-10T19:22:33.200000",
          "2015-05-29T20:36:41.400000",
          "2015-12-15T21:50:49.600000",
          "2016-07-02T23:04:57.800000",
          "2017-01-19T00:19:06",
          "2017-08-07T01:33:14.200000",
          "2018-02-23T02:47:22.400000",
          "2018-09-11T04:01:30.600000",
          "2019-03-30T05:15:38.800000",
          "2019-10-16T06:29:47",
          "2020-05-03T07:43:55.200000",
          "2020-11-19T08:58:03.400000",
          "2021-06-07T10:12:11.600000",
          "2021-12-24T11:26:19.800000",
          "2022-07-12T12:40:28",
          "2023-01-28T13:54:36.200000",
          "2023-08-16T15:08:44.400000",
          "2024-03-03T16:22:52.600000",
          "2024-09-19T17:37:00.800000"
         ],
         "y": [
          105,
          24,
          14,
          18,
          17,
          12,
          16,
          4,
          5,
          9,
          9,
          10,
          8,
          15,
          9,
          5,
          5,
          10,
          10,
          8
         ]
        },
        {
         "hoverinfo": "text",
         "hovertext": [
          "<b>Topic 10</b><br>Words: darksouls, darksoul, darksoulsii, exe, doenst",
          "<b>Topic 10</b><br>Words: darksouls, darksoul, hesitent, hgue, hotkey",
          "<b>Topic 10</b><br>Words: darksouls, darksoul, absurdly, thoue, ctrl",
          "<b>Topic 10</b><br>Words: darksouls, darksoul, don, xenoblade, chronicle",
          "<b>Topic 10</b><br>Words: don, darksouls, darksoul, darkaum, diffacult",
          "<b>Topic 10</b><br>Words: darksouls, compaire, bsod, maple, darksoul",
          "<b>Topic 10</b><br>Words: darksouls, darksoul, cookie, buggyier, endurence",
          "<b>Topic 10</b><br>Words: darksoul, objectivelly, darksouls, inspite, personaly",
          "<b>Topic 10</b><br>Words: sht, darksouls, darksoul, respond, casul",
          "<b>Topic 10</b><br>Words: darksouls, darksoul, darkhorse, don, silence",
          "<b>Topic 10</b><br>Words: darksouls, darksoul, don, defentel, storry",
          "<b>Topic 10</b><br>Words: darksouls, darksoul, blackpill, unesssicasry, check",
          "<b>Topic 10</b><br>Words: darksouls, darksoul, gs, moonlight, unrefined",
          "<b>Topic 10</b><br>Words: darksoul, darksouls, don, john, flank",
          "<b>Topic 10</b><br>Words: darksouls, darksoul, have, darklurker, don",
          "<b>Topic 10</b><br>Words: darksouls, darksoul, twoiest, darko, darkest",
          "<b>Topic 10</b><br>Words: darksouls, lakewood, mona, downey, lisa",
          "<b>Topic 10</b><br>Words: john, darksoul, darksouls, wife, fu",
          "<b>Topic 10</b><br>Words: darksouls, darksoul, hater, darke, sb",
          "<b>Topic 10</b><br>Words: darksouls, darksoul, varyfun, darkkiiih, darketosoudos"
         ],
         "marker": {
          "color": "#F0E442"
         },
         "mode": "lines",
         "name": "10_darksouls_darksoul_dark_john",
         "type": "scatter",
         "x": [
          "2014-04-20T18:06:56.036000",
          "2014-11-10T19:22:33.200000",
          "2015-05-29T20:36:41.400000",
          "2015-12-15T21:50:49.600000",
          "2016-07-02T23:04:57.800000",
          "2017-01-19T00:19:06",
          "2017-08-07T01:33:14.200000",
          "2018-02-23T02:47:22.400000",
          "2018-09-11T04:01:30.600000",
          "2019-03-30T05:15:38.800000",
          "2019-10-16T06:29:47",
          "2020-05-03T07:43:55.200000",
          "2020-11-19T08:58:03.400000",
          "2021-06-07T10:12:11.600000",
          "2021-12-24T11:26:19.800000",
          "2022-07-12T12:40:28",
          "2023-01-28T13:54:36.200000",
          "2023-08-16T15:08:44.400000",
          "2024-03-03T16:22:52.600000",
          "2024-09-19T17:37:00.800000"
         ],
         "y": [
          37,
          12,
          18,
          12,
          11,
          4,
          11,
          8,
          5,
          11,
          25,
          12,
          23,
          25,
          23,
          13,
          13,
          9,
          19,
          18
         ]
        },
        {
         "hoverinfo": "text",
         "hovertext": [
          "<b>Topic 11</b><br>Words: great, fking, greattttt, greatttttt, outta",
          "<b>Topic 11</b><br>Words: great, fking, greattttt, greatttttt, outta",
          "<b>Topic 11</b><br>Words: great, fking, greattttt, greatttttt, outta",
          "<b>Topic 11</b><br>Words: great, fking, greattttt, greatttttt, outta",
          "<b>Topic 11</b><br>Words: great, fking, greattttt, greatttttt, outta",
          "<b>Topic 11</b><br>Words: great, fking, greattttt, greatttttt, outta",
          "<b>Topic 11</b><br>Words: great, fking, greattttt, greatttttt, outta",
          "<b>Topic 11</b><br>Words: great, fking, greattttt, greatttttt, outta",
          "<b>Topic 11</b><br>Words: great, fking, greattttt, greatttttt, outta",
          "<b>Topic 11</b><br>Words: great, fking, greattttt, greatttttt, outta",
          "<b>Topic 11</b><br>Words: great, greattttt, greatttttt, outta, fking",
          "<b>Topic 11</b><br>Words: great, fking, greattttt, greatttttt, outta",
          "<b>Topic 11</b><br>Words: great, fking, greattttt, greatttttt, outta",
          "<b>Topic 11</b><br>Words: great, fking, greattttt, greatttttt, outta",
          "<b>Topic 11</b><br>Words: great, fking, greattttt, greatttttt, outta",
          "<b>Topic 11</b><br>Words: great, fking, greattttt, greatttttt, outta",
          "<b>Topic 11</b><br>Words: great, fking, greattttt, greatttttt, outta",
          "<b>Topic 11</b><br>Words: great, fking, greattttt, greatttttt, outta",
          "<b>Topic 11</b><br>Words: great, wonderful, fking, greattttt, greatttttt",
          "<b>Topic 11</b><br>Words: great, fking, greattttt, greatttttt, outta"
         ],
         "marker": {
          "color": "#D55E00"
         },
         "mode": "lines",
         "name": "11_great_fking_greatttttt_greattttt",
         "type": "scatter",
         "x": [
          "2014-04-20T18:06:56.036000",
          "2014-11-10T19:22:33.200000",
          "2015-05-29T20:36:41.400000",
          "2015-12-15T21:50:49.600000",
          "2016-07-02T23:04:57.800000",
          "2017-01-19T00:19:06",
          "2017-08-07T01:33:14.200000",
          "2018-02-23T02:47:22.400000",
          "2018-09-11T04:01:30.600000",
          "2019-03-30T05:15:38.800000",
          "2019-10-16T06:29:47",
          "2020-05-03T07:43:55.200000",
          "2020-11-19T08:58:03.400000",
          "2021-06-07T10:12:11.600000",
          "2021-12-24T11:26:19.800000",
          "2022-07-12T12:40:28",
          "2023-01-28T13:54:36.200000",
          "2023-08-16T15:08:44.400000",
          "2024-03-03T16:22:52.600000",
          "2024-09-19T17:37:00.800000"
         ],
         "y": [
          41,
          16,
          9,
          10,
          5,
          12,
          9,
          3,
          4,
          14,
          28,
          19,
          24,
          21,
          18,
          14,
          10,
          21,
          9,
          13
         ]
        },
        {
         "hoverinfo": "text",
         "hovertext": [
          "<b>Topic 12</b><br>Words: don, buy, sale, regret, funfunfun",
          "<b>Topic 12</b><br>Words: don, buy, sale, twice, winter",
          "<b>Topic 12</b><br>Words: don, buy, sale, haven, plesant",
          "<b>Topic 12</b><br>Words: don, buy, grillfriend, nowwwwwwwwwwwww, musta",
          "<b>Topic 12</b><br>Words: circlejerker, hahahahahah, rhino, apperently, sale",
          "<b>Topic 12</b><br>Words: shgould, will, twice, buy, sux",
          "<b>Topic 12</b><br>Words: kurisu, weeb, twitch, maldron, regret",
          "<b>Topic 12</b><br>Words: don, incomplete, diehard, buy, glad",
          "<b>Topic 12</b><br>Words: godrays, buy, sale, twice, bought",
          "<b>Topic 12</b><br>Words: don, unimaginative, sale, buy, be",
          "<b>Topic 12</b><br>Words: chuuni, sale, withstand, buy, aight",
          "<b>Topic 12</b><br>Words: monki, don, buy, doodoo, catalogue",
          "<b>Topic 12</b><br>Words: sale, buy, fook, fookin, estate",
          "<b>Topic 12</b><br>Words: oops, admission, sale, chip, happiness",
          "<b>Topic 12</b><br>Words: don, plimplimplim, lmao, cuz, buy",
          "<b>Topic 12</b><br>Words: norbert, celeste, hoe, sale, winter",
          "<b>Topic 12</b><br>Words: sale, buy, eam, don, will",
          "<b>Topic 12</b><br>Words: don, osama, aliexpress, wort, laden",
          "<b>Topic 12</b><br>Words: don, craigslist, gatekeep, buy, sadomasochism",
          "<b>Topic 12</b><br>Words: originl, don, buyin, buy, twice"
         ],
         "marker": {
          "color": "#0072B2"
         },
         "mode": "lines",
         "name": "12_buy_sale_twice_bought",
         "type": "scatter",
         "x": [
          "2014-04-20T18:06:56.036000",
          "2014-11-10T19:22:33.200000",
          "2015-05-29T20:36:41.400000",
          "2015-12-15T21:50:49.600000",
          "2016-07-02T23:04:57.800000",
          "2017-01-19T00:19:06",
          "2017-08-07T01:33:14.200000",
          "2018-02-23T02:47:22.400000",
          "2018-09-11T04:01:30.600000",
          "2019-03-30T05:15:38.800000",
          "2019-10-16T06:29:47",
          "2020-05-03T07:43:55.200000",
          "2020-11-19T08:58:03.400000",
          "2021-06-07T10:12:11.600000",
          "2021-12-24T11:26:19.800000",
          "2022-07-12T12:40:28",
          "2023-01-28T13:54:36.200000",
          "2023-08-16T15:08:44.400000",
          "2024-03-03T16:22:52.600000",
          "2024-09-19T17:37:00.800000"
         ],
         "y": [
          62,
          21,
          20,
          22,
          12,
          11,
          9,
          5,
          1,
          12,
          13,
          11,
          17,
          7,
          10,
          9,
          17,
          10,
          10,
          13
         ]
        },
        {
         "hoverinfo": "text",
         "hovertext": [
          "<b>Topic 13</b><br>Words: die, willl, slug, nutshell, eat",
          "<b>Topic 13</b><br>Words: die, owie, finna, willl, tire",
          "<b>Topic 13</b><br>Words: die, lie, yeah, owie, finna",
          "<b>Topic 13</b><br>Words: die, ls, owie, finna, willl",
          "<b>Topic 13</b><br>Words: die, oh, owie, finna, willl",
          "<b>Topic 13</b><br>Words: don, die, owie, finna, willl",
          "<b>Topic 13</b><br>Words: die, owie, finna, willl, tire",
          "<b>Topic 13</b><br>Words: die, sure, owie, finna, willl",
          "<b>Topic 13</b><br>Words: die, owie, finna, willl, tire",
          "<b>Topic 13</b><br>Words: die, owie, finna, willl, tire",
          "<b>Topic 13</b><br>Words: die, tired, okay, owie, finna",
          "<b>Topic 13</b><br>Words: finna, die, owie, willl, tire",
          "<b>Topic 13</b><br>Words: owie, die, pointless, finna, willl",
          "<b>Topic 13</b><br>Words: die, son, owie, finna, willl",
          "<b>Topic 13</b><br>Words: die, yes, owie, finna, willl",
          "<b>Topic 13</b><br>Words: die, owie, finna, willl, tire",
          "<b>Topic 13</b><br>Words: yay, die, owie, finna, willl",
          "<b>Topic 13</b><br>Words: die, owie, finna, willl, tire",
          "<b>Topic 13</b><br>Words: die, owie, finna, willl, tire",
          "<b>Topic 13</b><br>Words: die, owie, finna, willl, tire"
         ],
         "marker": {
          "color": "#CC79A7"
         },
         "mode": "lines",
         "name": "13_die_owie_finna_willl",
         "type": "scatter",
         "x": [
          "2014-04-20T18:06:56.036000",
          "2014-11-10T19:22:33.200000",
          "2015-05-29T20:36:41.400000",
          "2015-12-15T21:50:49.600000",
          "2016-07-02T23:04:57.800000",
          "2017-01-19T00:19:06",
          "2017-08-07T01:33:14.200000",
          "2018-02-23T02:47:22.400000",
          "2018-09-11T04:01:30.600000",
          "2019-03-30T05:15:38.800000",
          "2019-10-16T06:29:47",
          "2020-05-03T07:43:55.200000",
          "2020-11-19T08:58:03.400000",
          "2021-06-07T10:12:11.600000",
          "2021-12-24T11:26:19.800000",
          "2022-07-12T12:40:28",
          "2023-01-28T13:54:36.200000",
          "2023-08-16T15:08:44.400000",
          "2024-03-03T16:22:52.600000",
          "2024-09-19T17:37:00.800000"
         ],
         "y": [
          75,
          23,
          13,
          24,
          16,
          14,
          11,
          6,
          7,
          11,
          16,
          12,
          11,
          10,
          9,
          9,
          4,
          7,
          3,
          4
         ]
        },
        {
         "hoverinfo": "text",
         "hovertext": [
          "<b>Topic 14</b><br>Words: sun, praise, don, sunlight, priase",
          "<b>Topic 14</b><br>Words: sun, praise, don, dontu, username",
          "<b>Topic 14</b><br>Words: sun, praise, ghul, don, solare",
          "<b>Topic 14</b><br>Words: sun, praise, sunbro, bros, sunsword",
          "<b>Topic 14</b><br>Words: sun, praise, cryyyyyyyyyyyyyyyyyyyyyy, praisethe, twinkle",
          "<b>Topic 14</b><br>Words: sun, praise, rekt, sunlight, sunssssssssssssss",
          "<b>Topic 14</b><br>Words: sun, praise, cuphead, allot, praising",
          "<b>Topic 14</b><br>Words: sun, hurra, praise, heresy, hurray",
          "<b>Topic 14</b><br>Words: wonderfull, sun, praise, ing, easier",
          "<b>Topic 14</b><br>Words: praiser, sun, barrer, praise, smash",
          "<b>Topic 14</b><br>Words: sun, praise, ether, sunbro, deprive",
          "<b>Topic 14</b><br>Words: sun, praise, neil, armstrong, rose",
          "<b>Topic 14</b><br>Words: sun, praise, mercifully, uphold, emote",
          "<b>Topic 14</b><br>Words: sun, praise, wrekd, don, strat",
          "<b>Topic 14</b><br>Words: sun, solaire, praise, receive, underrated",
          "<b>Topic 14</b><br>Words: sunbro, sun, live, praise, grab",
          "<b>Topic 14</b><br>Words: sunbro, chunk, sun, praise, annoying",
          "<b>Topic 14</b><br>Words: sun, praise, shay, cur, grill",
          "<b>Topic 14</b><br>Words: medal, sunlight, farming, sun, chill",
          "<b>Topic 14</b><br>Words: sun, praise, step, afterall, medal"
         ],
         "marker": {
          "color": "#E69F00"
         },
         "mode": "lines",
         "name": "14_sun_praise_sunlight_sunbro",
         "type": "scatter",
         "x": [
          "2014-04-20T18:06:56.036000",
          "2014-11-10T19:22:33.200000",
          "2015-05-29T20:36:41.400000",
          "2015-12-15T21:50:49.600000",
          "2016-07-02T23:04:57.800000",
          "2017-01-19T00:19:06",
          "2017-08-07T01:33:14.200000",
          "2018-02-23T02:47:22.400000",
          "2018-09-11T04:01:30.600000",
          "2019-03-30T05:15:38.800000",
          "2019-10-16T06:29:47",
          "2020-05-03T07:43:55.200000",
          "2020-11-19T08:58:03.400000",
          "2021-06-07T10:12:11.600000",
          "2021-12-24T11:26:19.800000",
          "2022-07-12T12:40:28",
          "2023-01-28T13:54:36.200000",
          "2023-08-16T15:08:44.400000",
          "2024-03-03T16:22:52.600000",
          "2024-09-19T17:37:00.800000"
         ],
         "y": [
          105,
          25,
          14,
          20,
          15,
          13,
          12,
          4,
          3,
          4,
          11,
          6,
          9,
          7,
          2,
          3,
          2,
          7,
          3,
          5
         ]
        },
        {
         "hoverinfo": "text",
         "hovertext": [
          "<b>Topic 15</b><br>Words: dlc, don, toro, guerillimo, hench",
          "<b>Topic 15</b><br>Words: don, dlc, fuffilling, puchase, enemey",
          "<b>Topic 15</b><br>Words: recomment, dlc, unpurchased, don, theft",
          "<b>Topic 15</b><br>Words: dlc, undervalue, nooooooooooooooooooooooooooope, firelinkshine, don",
          "<b>Topic 15</b><br>Words: dlc, ardent, admirer, dysfunctional, worked",
          "<b>Topic 15</b><br>Words: don, espacially, fookin, dlc, bullsh",
          "<b>Topic 15</b><br>Words: dlcs, dlc, afford, axe, ass",
          "<b>Topic 15</b><br>Words: bouhgt, dlcs, edtion, fu, dlc",
          "<b>Topic 15</b><br>Words: ddlc, secretely, dlc, dlcs, fuckin",
          "<b>Topic 15</b><br>Words: haven, suprise, content, dlc, disappointment",
          "<b>Topic 15</b><br>Words: dlc, definite, dlcs, laughable, busy",
          "<b>Topic 15</b><br>Words: don, souslborne, abortion, dlc, dislike",
          "<b>Topic 15</b><br>Words: dlcs, dlc, don, vistas, joyful",
          "<b>Topic 15</b><br>Words: dlc, don, dlcs, timeless, net",
          "<b>Topic 15</b><br>Words: dlc, smelly, dlcs, nuts, ofc",
          "<b>Topic 15</b><br>Words: primo, dlc, godawful, sublime, loved",
          "<b>Topic 15</b><br>Words: zzuh, lijkop, zuh, wuehjkhoarenvt, ij",
          "<b>Topic 15</b><br>Words: dlc, nifty, dlcs, sotf, quirky",
          "<b>Topic 15</b><br>Words: dlc, juxtapose, riddled, undeniable, content",
          "<b>Topic 15</b><br>Words: dlc, dlcs, ahaaaaaaaaaaaaaaaaaaaaahhhhhhhhhghhh, steamthumbsdown, electrocution"
         ],
         "marker": {
          "color": "#56B4E9"
         },
         "mode": "lines",
         "name": "15_dlc_dlcs_content_base",
         "type": "scatter",
         "x": [
          "2014-04-20T18:06:56.036000",
          "2014-11-10T19:22:33.200000",
          "2015-05-29T20:36:41.400000",
          "2015-12-15T21:50:49.600000",
          "2016-07-02T23:04:57.800000",
          "2017-01-19T00:19:06",
          "2017-08-07T01:33:14.200000",
          "2018-02-23T02:47:22.400000",
          "2018-09-11T04:01:30.600000",
          "2019-03-30T05:15:38.800000",
          "2019-10-16T06:29:47",
          "2020-05-03T07:43:55.200000",
          "2020-11-19T08:58:03.400000",
          "2021-06-07T10:12:11.600000",
          "2021-12-24T11:26:19.800000",
          "2022-07-12T12:40:28",
          "2023-01-28T13:54:36.200000",
          "2023-08-16T15:08:44.400000",
          "2024-03-03T16:22:52.600000",
          "2024-09-19T17:37:00.800000"
         ],
         "y": [
          24,
          21,
          12,
          15,
          12,
          9,
          11,
          8,
          6,
          7,
          10,
          7,
          16,
          16,
          23,
          9,
          7,
          15,
          20,
          19
         ]
        },
        {
         "hoverinfo": "text",
         "hovertext": [
          "<b>Topic 16</b><br>Words: hitbox, hitboxes, box, expiration, erroneous",
          "<b>Topic 16</b><br>Words: ok, hitbox, wierd, netcode, shitty",
          "<b>Topic 16</b><br>Words: complane, hitbox, don, haven, sugest",
          "<b>Topic 16</b><br>Words: don, relate, terrible, expect, hitboxes",
          "<b>Topic 16</b><br>Words: whaaaat, hitbox, booty, yup, machine",
          "<b>Topic 16</b><br>Words: don, hitbox, detection, hacker, ignore",
          "<b>Topic 16</b><br>Words: thing, hitboxes, hitbox, box, hit",
          "<b>Topic 16</b><br>Words: doubleclick, input, remaster, mediocre, replayability",
          "<b>Topic 16</b><br>Words: fatty, detection, anyways, box, tho",
          "<b>Topic 16</b><br>Words: recur, passable, blank, shitty, hitboxes",
          "<b>Topic 16</b><br>Words: hitbox, hitboxes, brincadera, box, funciona",
          "<b>Topic 16</b><br>Words: hitbox, box, hitboxes, pisspoor, bah",
          "<b>Topic 16</b><br>Words: box, hitbox, hitboxes, swagger, retardisam",
          "<b>Topic 16</b><br>Words: hitbox, box, hitboxes, shitty, brrrrrrrrrrrrrrrrrrrrrrrrrr",
          "<b>Topic 16</b><br>Words: hitbox, box, hitboxes, goofy, rodeo",
          "<b>Topic 16</b><br>Words: box, hitbox, don, agilty, hitboxes",
          "<b>Topic 16</b><br>Words: box, don, hitbox, hitboxes, caetus",
          "<b>Topic 16</b><br>Words: hitbox, box, hitboxes, terriuble, assin",
          "<b>Topic 16</b><br>Words: hitbox, hitboxes, box, hungary, swirly"
         ],
         "marker": {
          "color": "#009E73"
         },
         "mode": "lines",
         "name": "16_hitboxes_hitbox_box_hit",
         "type": "scatter",
         "x": [
          "2014-04-20T18:06:56.036000",
          "2014-11-10T19:22:33.200000",
          "2015-12-15T21:50:49.600000",
          "2016-07-02T23:04:57.800000",
          "2017-01-19T00:19:06",
          "2017-08-07T01:33:14.200000",
          "2018-02-23T02:47:22.400000",
          "2018-09-11T04:01:30.600000",
          "2019-03-30T05:15:38.800000",
          "2019-10-16T06:29:47",
          "2020-05-03T07:43:55.200000",
          "2020-11-19T08:58:03.400000",
          "2021-06-07T10:12:11.600000",
          "2021-12-24T11:26:19.800000",
          "2022-07-12T12:40:28",
          "2023-01-28T13:54:36.200000",
          "2023-08-16T15:08:44.400000",
          "2024-03-03T16:22:52.600000",
          "2024-09-19T17:37:00.800000"
         ],
         "y": [
          13,
          3,
          5,
          2,
          5,
          3,
          1,
          3,
          6,
          10,
          15,
          29,
          31,
          25,
          22,
          14,
          24,
          23,
          27
         ]
        },
        {
         "hoverinfo": "text",
         "hovertext": [
          "<b>Topic 17</b><br>Words: fun, crazy, know, cassual, people",
          "<b>Topic 17</b><br>Words: fun, cassual, funnn, ha, spambush",
          "<b>Topic 17</b><br>Words: magical, fun, cassual, funnn, ha",
          "<b>Topic 17</b><br>Words: fun, cassual, funnn, ha, spambush",
          "<b>Topic 17</b><br>Words: dude, fun, cassual, funnn, ha",
          "<b>Topic 17</b><br>Words: fun, don, have, nutshell, haha",
          "<b>Topic 17</b><br>Words: fun, cassual, funnn, ha, spambush",
          "<b>Topic 17</b><br>Words: fun, cassual, funnn, ha, spambush",
          "<b>Topic 17</b><br>Words: fun, sound, cassual, funnn, ha",
          "<b>Topic 17</b><br>Words: fun, funnn, cassual, ha, spambush",
          "<b>Topic 17</b><br>Words: fun, ha, boy, interesting, cassual",
          "<b>Topic 17</b><br>Words: fun, freak, stuff, cassual, funnn",
          "<b>Topic 17</b><br>Words: fun, cassual, funnn, ha, spambush",
          "<b>Topic 17</b><br>Words: fun, scary, cassual, funnn, ha",
          "<b>Topic 17</b><br>Words: fun, cassual, funnn, ha, spambush",
          "<b>Topic 17</b><br>Words: fun, cassual, funnn, ha, spambush",
          "<b>Topic 17</b><br>Words: fun, abuse, stupid, cassual, funnn",
          "<b>Topic 17</b><br>Words: fun, cassual, spambush, scuffed, funnn",
          "<b>Topic 17</b><br>Words: fun, hehe, cassual, funnn, ha"
         ],
         "marker": {
          "color": "#F0E442"
         },
         "mode": "lines",
         "name": "17_fun_cassual_funnn_ha",
         "type": "scatter",
         "x": [
          "2014-04-20T18:06:56.036000",
          "2014-11-10T19:22:33.200000",
          "2015-05-29T20:36:41.400000",
          "2015-12-15T21:50:49.600000",
          "2016-07-02T23:04:57.800000",
          "2017-01-19T00:19:06",
          "2017-08-07T01:33:14.200000",
          "2018-09-11T04:01:30.600000",
          "2019-03-30T05:15:38.800000",
          "2019-10-16T06:29:47",
          "2020-05-03T07:43:55.200000",
          "2020-11-19T08:58:03.400000",
          "2021-06-07T10:12:11.600000",
          "2021-12-24T11:26:19.800000",
          "2022-07-12T12:40:28",
          "2023-01-28T13:54:36.200000",
          "2023-08-16T15:08:44.400000",
          "2024-03-03T16:22:52.600000",
          "2024-09-19T17:37:00.800000"
         ],
         "y": [
          12,
          3,
          3,
          3,
          3,
          7,
          3,
          4,
          11,
          22,
          22,
          28,
          29,
          17,
          12,
          14,
          16,
          23,
          18
         ]
        },
        {
         "hoverinfo": "text",
         "hovertext": [
          "<b>Topic 18</b><br>Words: git, gud, jihad, dye, gitgud",
          "<b>Topic 18</b><br>Words: git, gud, start, people, lot",
          "<b>Topic 18</b><br>Words: git, gud, gits, giood, giid",
          "<b>Topic 18</b><br>Words: git, gud, ayyy, lmao, need",
          "<b>Topic 18</b><br>Words: git, gud, evry, rule, simple",
          "<b>Topic 18</b><br>Words: git, gud, antimage, ganker, flood",
          "<b>Topic 18</b><br>Words: git, gud, phag, gits, giood",
          "<b>Topic 18</b><br>Words: git, gud, winblade, alternatively, simulator",
          "<b>Topic 18</b><br>Words: git, gud, fkin, gits, givdeo",
          "<b>Topic 18</b><br>Words: git, gud, ii, serwery, phag",
          "<b>Topic 18</b><br>Words: git, gud, challenging, fair, wait",
          "<b>Topic 18</b><br>Words: git, gud, begin, real, serwery",
          "<b>Topic 18</b><br>Words: git, gud, givdeo, hreatest, sequel",
          "<b>Topic 18</b><br>Words: git, gud, giood, mm, second",
          "<b>Topic 18</b><br>Words: git, gud, bd, oddajcie, serwery",
          "<b>Topic 18</b><br>Words: git, gud, curator, page, group",
          "<b>Topic 18</b><br>Words: git, gud, antimage, hreatest, gits",
          "<b>Topic 18</b><br>Words: git, gud, gits, giood, giid",
          "<b>Topic 18</b><br>Words: git, gud, volume, gits, phag",
          "<b>Topic 18</b><br>Words: git, gud, giid, gits, giood"
         ],
         "marker": {
          "color": "#D55E00"
         },
         "mode": "lines",
         "name": "18_git_gud_hreatest_gits",
         "type": "scatter",
         "x": [
          "2014-04-20T18:06:56.036000",
          "2014-11-10T19:22:33.200000",
          "2015-05-29T20:36:41.400000",
          "2015-12-15T21:50:49.600000",
          "2016-07-02T23:04:57.800000",
          "2017-01-19T00:19:06",
          "2017-08-07T01:33:14.200000",
          "2018-02-23T02:47:22.400000",
          "2018-09-11T04:01:30.600000",
          "2019-03-30T05:15:38.800000",
          "2019-10-16T06:29:47",
          "2020-05-03T07:43:55.200000",
          "2020-11-19T08:58:03.400000",
          "2021-06-07T10:12:11.600000",
          "2021-12-24T11:26:19.800000",
          "2022-07-12T12:40:28",
          "2023-01-28T13:54:36.200000",
          "2023-08-16T15:08:44.400000",
          "2024-03-03T16:22:52.600000",
          "2024-09-19T17:37:00.800000"
         ],
         "y": [
          21,
          3,
          6,
          9,
          22,
          5,
          19,
          5,
          6,
          9,
          25,
          11,
          26,
          21,
          16,
          4,
          10,
          12,
          6,
          8
         ]
        },
        {
         "hoverinfo": "text",
         "hovertext": [
          "<b>Topic 19</b><br>Words: nice, niceeeeeeeeeee, yi, yes, yeah",
          "<b>Topic 19</b><br>Words: nice, yeah, yes, niceeeeeeeeeee, yi",
          "<b>Topic 19</b><br>Words: nice, niceeeeeeeeeee, yi, yes, yeah",
          "<b>Topic 19</b><br>Words: nice, niceeeeeeeeeee, yi, yes, yeah",
          "<b>Topic 19</b><br>Words: nice, niceeeeeeeeeee, yi, yes, yeah",
          "<b>Topic 19</b><br>Words: nice, niceeeeeeeeeee, yi, yes, yeah",
          "<b>Topic 19</b><br>Words: nice, niceeeeeeeeeee, yi, yes, yeah",
          "<b>Topic 19</b><br>Words: nice, niceeeeeeeeeee, yi, yes, yeah",
          "<b>Topic 19</b><br>Words: nice, niceeeeeeeeeee, yi, yes, yeah",
          "<b>Topic 19</b><br>Words: nice, yes, niceeeeeeeeeee, yi, yeah",
          "<b>Topic 19</b><br>Words: nice, niceeeeeeeeeee, yi, yes, yeah",
          "<b>Topic 19</b><br>Words: nice, niceeeeeeeeeee, yi, yes, yeah",
          "<b>Topic 19</b><br>Words: nice, niceeeeeeeeeee, yes, yi, yeah",
          "<b>Topic 19</b><br>Words: nice, niceeeeeeeeeee, yi, yes, yeah",
          "<b>Topic 19</b><br>Words: nice, niceeeeeeeeeee, yi, yes, yeah",
          "<b>Topic 19</b><br>Words: nice, niceeeeeeeeeee, yi, yes, yeah",
          "<b>Topic 19</b><br>Words: nice, niceeeeeeeeeee, yi, yes, yeah",
          "<b>Topic 19</b><br>Words: nice, niceeeeeeeeeee, yi, yes, yeah",
          "<b>Topic 19</b><br>Words: nice, niceeeeeeeeeee, yi, yes, yeah",
          "<b>Topic 19</b><br>Words: nice, niceeeeeeeeeee, yi, yes, yeah"
         ],
         "marker": {
          "color": "#0072B2"
         },
         "mode": "lines",
         "name": "19_nice_niceeeeeeeeeee_yi_yes",
         "type": "scatter",
         "x": [
          "2014-04-20T18:06:56.036000",
          "2014-11-10T19:22:33.200000",
          "2015-05-29T20:36:41.400000",
          "2015-12-15T21:50:49.600000",
          "2016-07-02T23:04:57.800000",
          "2017-01-19T00:19:06",
          "2017-08-07T01:33:14.200000",
          "2018-02-23T02:47:22.400000",
          "2018-09-11T04:01:30.600000",
          "2019-03-30T05:15:38.800000",
          "2019-10-16T06:29:47",
          "2020-05-03T07:43:55.200000",
          "2020-11-19T08:58:03.400000",
          "2021-06-07T10:12:11.600000",
          "2021-12-24T11:26:19.800000",
          "2022-07-12T12:40:28",
          "2023-01-28T13:54:36.200000",
          "2023-08-16T15:08:44.400000",
          "2024-03-03T16:22:52.600000",
          "2024-09-19T17:37:00.800000"
         ],
         "y": [
          7,
          6,
          2,
          2,
          2,
          3,
          5,
          9,
          4,
          17,
          24,
          29,
          23,
          26,
          23,
          8,
          14,
          13,
          9,
          8
         ]
        },
        {
         "hoverinfo": "text",
         "hovertext": [
          "<b>Topic 20</b><br>Words: bad, scary, wasnt, sorry, meh",
          "<b>Topic 20</b><br>Words: bad, scary, wasnt, sorry, meh",
          "<b>Topic 20</b><br>Words: bad, scary, wasnt, sorry, meh",
          "<b>Topic 20</b><br>Words: bad, scary, wasnt, sorry, meh",
          "<b>Topic 20</b><br>Words: bad, scary, wasnt, sorry, meh",
          "<b>Topic 20</b><br>Words: bad, scary, wasnt, sorry, meh",
          "<b>Topic 20</b><br>Words: bad, scary, wasnt, sorry, meh",
          "<b>Topic 20</b><br>Words: bad, scary, wasnt, sorry, meh",
          "<b>Topic 20</b><br>Words: bad, meh, scary, wasnt, sorry",
          "<b>Topic 20</b><br>Words: bad, scary, wasnt, sorry, meh",
          "<b>Topic 20</b><br>Words: bad, scary, wasnt, sorry, meh",
          "<b>Topic 20</b><br>Words: bad, scary, wasnt, sorry, meh",
          "<b>Topic 20</b><br>Words: bad, positive, scary, wasnt, sorry",
          "<b>Topic 20</b><br>Words: bad, actually, scary, wasnt, sorry",
          "<b>Topic 20</b><br>Words: bad, sorry, kinda, actually, scary",
          "<b>Topic 20</b><br>Words: bad, worst, scary, wasnt, sorry",
          "<b>Topic 20</b><br>Words: bad, actually, scary, wasnt, sorry",
          "<b>Topic 20</b><br>Words: bad, actually, scary, wasnt, sorry",
          "<b>Topic 20</b><br>Words: bad, yeah, scary, wasnt, sorry"
         ],
         "marker": {
          "color": "#CC79A7"
         },
         "mode": "lines",
         "name": "20_bad_scary_wasnt_sorry",
         "type": "scatter",
         "x": [
          "2014-04-20T18:06:56.036000",
          "2014-11-10T19:22:33.200000",
          "2015-05-29T20:36:41.400000",
          "2015-12-15T21:50:49.600000",
          "2016-07-02T23:04:57.800000",
          "2017-01-19T00:19:06",
          "2017-08-07T01:33:14.200000",
          "2018-02-23T02:47:22.400000",
          "2019-03-30T05:15:38.800000",
          "2019-10-16T06:29:47",
          "2020-05-03T07:43:55.200000",
          "2020-11-19T08:58:03.400000",
          "2021-06-07T10:12:11.600000",
          "2021-12-24T11:26:19.800000",
          "2022-07-12T12:40:28",
          "2023-01-28T13:54:36.200000",
          "2023-08-16T15:08:44.400000",
          "2024-03-03T16:22:52.600000",
          "2024-09-19T17:37:00.800000"
         ],
         "y": [
          4,
          1,
          2,
          1,
          3,
          2,
          3,
          3,
          7,
          14,
          11,
          24,
          38,
          29,
          8,
          20,
          15,
          29,
          20
         ]
        },
        {
         "hoverinfo": "text",
         "hovertext": [
          "<b>Topic 21</b><br>Words: port, don, pc, console, xbox",
          "<b>Topic 21</b><br>Words: port, don, console, haven, pc",
          "<b>Topic 21</b><br>Words: port, prossesor, thi, gaurd, console",
          "<b>Topic 21</b><br>Words: port, der, schlechtesten, coudnt, geschichte",
          "<b>Topic 21</b><br>Words: port, negetively, secretley, don, chromosome",
          "<b>Topic 21</b><br>Words: port, don, console, sloppy, pc",
          "<b>Topic 21</b><br>Words: factial, port, controll, unplayable, wierd",
          "<b>Topic 21</b><br>Words: rb, port, unfortunalety, don, unplayable",
          "<b>Topic 21</b><br>Words: don, consol, lemon, port, apple",
          "<b>Topic 21</b><br>Words: don, maby, controll, optimise, publisher",
          "<b>Topic 21</b><br>Words: don, port, brag, tea, tutorial",
          "<b>Topic 21</b><br>Words: have, port, fiddle, triple, address",
          "<b>Topic 21</b><br>Words: port, emulator, offhand, clicking, sensitivity",
          "<b>Topic 21</b><br>Words: don, port, thaat, console, cache",
          "<b>Topic 21</b><br>Words: port, unplayable, sprinting, pc, console",
          "<b>Topic 21</b><br>Words: port, rough, lazy, super, pc",
          "<b>Topic 21</b><br>Words: exemple, shitshow, port, functional, controler",
          "<b>Topic 21</b><br>Words: don, port, pc, properly, fucking",
          "<b>Topic 21</b><br>Words: port, compaint, reopen, mu, monitor",
          "<b>Topic 21</b><br>Words: port, keybinding, impenetrably, completaly, don"
         ],
         "marker": {
          "color": "#E69F00"
         },
         "mode": "lines",
         "name": "21_port_pc_console_keyboard",
         "type": "scatter",
         "x": [
          "2014-04-20T18:06:56.036000",
          "2014-11-10T19:22:33.200000",
          "2015-05-29T20:36:41.400000",
          "2015-12-15T21:50:49.600000",
          "2016-07-02T23:04:57.800000",
          "2017-01-19T00:19:06",
          "2017-08-07T01:33:14.200000",
          "2018-02-23T02:47:22.400000",
          "2018-09-11T04:01:30.600000",
          "2019-03-30T05:15:38.800000",
          "2019-10-16T06:29:47",
          "2020-05-03T07:43:55.200000",
          "2020-11-19T08:58:03.400000",
          "2021-06-07T10:12:11.600000",
          "2021-12-24T11:26:19.800000",
          "2022-07-12T12:40:28",
          "2023-01-28T13:54:36.200000",
          "2023-08-16T15:08:44.400000",
          "2024-03-03T16:22:52.600000",
          "2024-09-19T17:37:00.800000"
         ],
         "y": [
          93,
          29,
          7,
          10,
          5,
          12,
          4,
          4,
          2,
          2,
          4,
          4,
          3,
          7,
          11,
          2,
          3,
          4,
          6,
          5
         ]
        },
        {
         "hoverinfo": "text",
         "hovertext": [
          "<b>Topic 22</b><br>Words: rage, quit, anger, induce, angry",
          "<b>Topic 22</b><br>Words: rage, quit, don, anger, fury",
          "<b>Topic 22</b><br>Words: rage, will, ragequit, mail, ou",
          "<b>Topic 22</b><br>Words: rage, ragequit, quit, anger, induceing",
          "<b>Topic 22</b><br>Words: rage, don, titonite, singularity, enraged",
          "<b>Topic 22</b><br>Words: rage, unadultured, induce, cease, quit",
          "<b>Topic 22</b><br>Words: yourselfs, paul, haven, spoon, psycopath",
          "<b>Topic 22</b><br>Words: choosen, extreamly, rage, anger, peace",
          "<b>Topic 22</b><br>Words: rage, incarnate, equation, physically, beware",
          "<b>Topic 22</b><br>Words: rage, anger, nicotine, stubborness, angery",
          "<b>Topic 22</b><br>Words: rage, anger, gooood, bragging, walking",
          "<b>Topic 22</b><br>Words: rage, mcintosh, vent, therapist, sus",
          "<b>Topic 22</b><br>Words: rage, quit, therapeuticness, don, angery",
          "<b>Topic 22</b><br>Words: rage, quit, lajk, don, angry",
          "<b>Topic 22</b><br>Words: anger, therapy, rage, management, disdain",
          "<b>Topic 22</b><br>Words: anger, rage, burst, rrr, therapeudic",
          "<b>Topic 22</b><br>Words: fury, fathom, rage, induce, anger",
          "<b>Topic 22</b><br>Words: rage, quit, ragebait, epilepsy, have",
          "<b>Topic 22</b><br>Words: rage, ragebait, righteous, profanity, fiber"
         ],
         "marker": {
          "color": "#56B4E9"
         },
         "mode": "lines",
         "name": "22_rage_anger_quit_angry",
         "type": "scatter",
         "x": [
          "2014-04-20T18:06:56.036000",
          "2014-11-10T19:22:33.200000",
          "2015-05-29T20:36:41.400000",
          "2015-12-15T21:50:49.600000",
          "2016-07-02T23:04:57.800000",
          "2017-01-19T00:19:06",
          "2017-08-07T01:33:14.200000",
          "2018-09-11T04:01:30.600000",
          "2019-03-30T05:15:38.800000",
          "2019-10-16T06:29:47",
          "2020-05-03T07:43:55.200000",
          "2020-11-19T08:58:03.400000",
          "2021-06-07T10:12:11.600000",
          "2021-12-24T11:26:19.800000",
          "2022-07-12T12:40:28",
          "2023-01-28T13:54:36.200000",
          "2023-08-16T15:08:44.400000",
          "2024-03-03T16:22:52.600000",
          "2024-09-19T17:37:00.800000"
         ],
         "y": [
          59,
          23,
          8,
          16,
          12,
          4,
          2,
          3,
          3,
          10,
          7,
          5,
          11,
          9,
          7,
          9,
          4,
          9,
          6
         ]
        },
        {
         "hoverinfo": "text",
         "hovertext": [
          "<b>Topic 23</b><br>Words: ever, aloud, everrrrrrrrrr, bestes, best",
          "<b>Topic 23</b><br>Words: horry, shet, ever, best, good",
          "<b>Topic 23</b><br>Words: freaking, beta, ever, lol, best",
          "<b>Topic 23</b><br>Words: plaid, awsome, ever, best, good",
          "<b>Topic 23</b><br>Words: eeeeeeeeeeeevvvvvvvvvvveeeeeeeeerrrrrrr, foooooooorrrrrrrrr, ever, best, possibly",
          "<b>Topic 23</b><br>Words: good, ever, best, sombre, everrrrrrrrrr",
          "<b>Topic 23</b><br>Words: reccomend, ever, best, good, sombre",
          "<b>Topic 23</b><br>Words: good, ever, best, sombre, everrrrrrrrrr",
          "<b>Topic 23</b><br>Words: sombre, ever, best, everrrrrrrrrr, shet",
          "<b>Topic 23</b><br>Words: probably, good, ever, best, sombre",
          "<b>Topic 23</b><br>Words: peev, ever, best, good, sombre",
          "<b>Topic 23</b><br>Words: awsom, ever, best, shit, yes",
          "<b>Topic 23</b><br>Words: greatt, ever, best, good, sombre",
          "<b>Topic 23</b><br>Words: omg, hey, ever, best, good",
          "<b>Topic 23</b><br>Words: good, ever, best, sombre, everrrrrrrrrr",
          "<b>Topic 23</b><br>Words: good, ever, best, sombre, everrrrrrrrrr",
          "<b>Topic 23</b><br>Words: contender, ever, best, good, well",
          "<b>Topic 23</b><br>Words: probably, good, ever, best, like",
          "<b>Topic 23</b><br>Words: sex, dex, ever, best, good",
          "<b>Topic 23</b><br>Words: biased, ever, totally, best, good"
         ],
         "marker": {
          "color": "#009E73"
         },
         "mode": "lines",
         "name": "23_ever_best_sombre_shet",
         "type": "scatter",
         "x": [
          "2014-04-20T18:06:56.036000",
          "2014-11-10T19:22:33.200000",
          "2015-05-29T20:36:41.400000",
          "2015-12-15T21:50:49.600000",
          "2016-07-02T23:04:57.800000",
          "2017-01-19T00:19:06",
          "2017-08-07T01:33:14.200000",
          "2018-02-23T02:47:22.400000",
          "2018-09-11T04:01:30.600000",
          "2019-03-30T05:15:38.800000",
          "2019-10-16T06:29:47",
          "2020-05-03T07:43:55.200000",
          "2020-11-19T08:58:03.400000",
          "2021-06-07T10:12:11.600000",
          "2021-12-24T11:26:19.800000",
          "2022-07-12T12:40:28",
          "2023-01-28T13:54:36.200000",
          "2023-08-16T15:08:44.400000",
          "2024-03-03T16:22:52.600000",
          "2024-09-19T17:37:00.800000"
         ],
         "y": [
          63,
          24,
          9,
          14,
          9,
          5,
          4,
          1,
          2,
          5,
          10,
          6,
          5,
          9,
          5,
          2,
          7,
          6,
          9,
          10
         ]
        },
        {
         "hoverinfo": "text",
         "hovertext": [
          "<b>Topic 24</b><br>Words: rpg, action, rpgs, fantasy, haven",
          "<b>Topic 24</b><br>Words: rpg, action, broad, evaaaaah, soe",
          "<b>Topic 24</b><br>Words: rpg, beatifull, challange, masterpeice, retrospect",
          "<b>Topic 24</b><br>Words: rpg, action, furthur, geewwwwddd, youngster",
          "<b>Topic 24</b><br>Words: rpg, educative, dogma, mature, pussy",
          "<b>Topic 24</b><br>Words: rpg, ga, kink, disagree, casual",
          "<b>Topic 24</b><br>Words: unic, rpg, af, epic, action",
          "<b>Topic 24</b><br>Words: rpg, genre, fashion, adventure, casual",
          "<b>Topic 24</b><br>Words: gamepaly, rpg, action, win, master",
          "<b>Topic 24</b><br>Words: goodness, fav, rpg, action, rpgs",
          "<b>Topic 24</b><br>Words: rpg, jrpg, action, fantasy, bb",
          "<b>Topic 24</b><br>Words: rpg, overshadow, successor, person, action",
          "<b>Topic 24</b><br>Words: rpg, don, action, rpgs, vaatividya",
          "<b>Topic 24</b><br>Words: polemic, rpg, jewel, rpgs, anticipate",
          "<b>Topic 24</b><br>Words: rpg, action, footstep, detract, endlessly",
          "<b>Topic 24</b><br>Words: rpg, niche, immersive, meet, solid",
          "<b>Topic 24</b><br>Words: crpg, eastern, european, treat, rpg",
          "<b>Topic 24</b><br>Words: rpgs, rpg, person, action, disappointing",
          "<b>Topic 24</b><br>Words: don, rpg, victim, unenviable, overhate"
         ],
         "marker": {
          "color": "#F0E442"
         },
         "mode": "lines",
         "name": "24_rpg_action_rpgs_fantasy",
         "type": "scatter",
         "x": [
          "2014-04-20T18:06:56.036000",
          "2014-11-10T19:22:33.200000",
          "2015-05-29T20:36:41.400000",
          "2015-12-15T21:50:49.600000",
          "2016-07-02T23:04:57.800000",
          "2017-01-19T00:19:06",
          "2017-08-07T01:33:14.200000",
          "2018-02-23T02:47:22.400000",
          "2018-09-11T04:01:30.600000",
          "2019-03-30T05:15:38.800000",
          "2019-10-16T06:29:47",
          "2020-05-03T07:43:55.200000",
          "2020-11-19T08:58:03.400000",
          "2021-06-07T10:12:11.600000",
          "2021-12-24T11:26:19.800000",
          "2023-01-28T13:54:36.200000",
          "2023-08-16T15:08:44.400000",
          "2024-03-03T16:22:52.600000",
          "2024-09-19T17:37:00.800000"
         ],
         "y": [
          79,
          16,
          10,
          14,
          6,
          5,
          3,
          3,
          1,
          4,
          8,
          4,
          13,
          8,
          6,
          4,
          2,
          4,
          7
         ]
        },
        {
         "hoverinfo": "text",
         "hovertext": [
          "<b>Topic 25</b><br>Words: soulsborne, souler, kush, freshness, stoke",
          "<b>Topic 25</b><br>Words: don, soulsy, dire, soulborne, soulsbourne",
          "<b>Topic 25</b><br>Words: soulsborne, don, bologna, bond, exponentially",
          "<b>Topic 25</b><br>Words: thuroughly, woth, romhack, soulsborne, presumably",
          "<b>Topic 25</b><br>Words: don, soulsborne, intuitive, annoying, favorite",
          "<b>Topic 25</b><br>Words: soulsborne, pfft, don, soulsborn, tragedy",
          "<b>Topic 25</b><br>Words: soulsborne, soulsbourne, unmistakably, inconic, haven",
          "<b>Topic 25</b><br>Words: soulsborne, soulsbourne, soulsky, apotheosis, depetrify",
          "<b>Topic 25</b><br>Words: soulsborne, soulsbourne, bourne, ultimatum, demonsborne",
          "<b>Topic 25</b><br>Words: soulsborne, don, soulsbourne, aliexpress, soulsgame",
          "<b>Topic 25</b><br>Words: soulsborne, don, soulsbourne, mortal, soulsgame",
          "<b>Topic 25</b><br>Words: soulsborne, dice, soulsringborne, overhate, amogus",
          "<b>Topic 25</b><br>Words: soulsborne, soulser, don, revolutionize, trashy",
          "<b>Topic 25</b><br>Words: soulsborne, soulsbourne, soulborn, bop, soulsgame",
          "<b>Topic 25</b><br>Words: soulsborne, don, soulsbourne, fr, aarg",
          "<b>Topic 25</b><br>Words: soulsborne, soulsbourne, soulslike, soulsgame, bunji"
         ],
         "marker": {
          "color": "#D55E00"
         },
         "mode": "lines",
         "name": "25_soulsborne_soulsbourne_soulsgame_soul...",
         "type": "scatter",
         "x": [
          "2016-07-02T23:04:57.800000",
          "2017-01-19T00:19:06",
          "2017-08-07T01:33:14.200000",
          "2018-02-23T02:47:22.400000",
          "2018-09-11T04:01:30.600000",
          "2019-03-30T05:15:38.800000",
          "2019-10-16T06:29:47",
          "2020-05-03T07:43:55.200000",
          "2020-11-19T08:58:03.400000",
          "2021-06-07T10:12:11.600000",
          "2021-12-24T11:26:19.800000",
          "2022-07-12T12:40:28",
          "2023-01-28T13:54:36.200000",
          "2023-08-16T15:08:44.400000",
          "2024-03-03T16:22:52.600000",
          "2024-09-19T17:37:00.800000"
         ],
         "y": [
          4,
          3,
          6,
          2,
          1,
          7,
          14,
          18,
          11,
          17,
          19,
          8,
          14,
          17,
          24,
          27
         ]
        },
        {
         "hoverinfo": "text",
         "hovertext": [
          "<b>Topic 26</b><br>Words: controller, don, vibrate, break, monitor",
          "<b>Topic 26</b><br>Words: controller, rager, nuff, brake, mins",
          "<b>Topic 26</b><br>Words: controller, arrive, cus, fifth, order",
          "<b>Topic 26</b><br>Words: controller, don, smash, amzing, brake",
          "<b>Topic 26</b><br>Words: bubble, wrap, controller, haate, defiently",
          "<b>Topic 26</b><br>Words: controller, break, babyrage, btw, wierd",
          "<b>Topic 26</b><br>Words: controller, haven, ahhh, smash, strongly",
          "<b>Topic 26</b><br>Words: socket, ac, fork, equivalent, controller",
          "<b>Topic 26</b><br>Words: contoller, reborn, yup, satisfied, controller",
          "<b>Topic 26</b><br>Words: controller, broken, finally, control, fun",
          "<b>Topic 26</b><br>Words: controller, rec, tuning, bill, horrific",
          "<b>Topic 26</b><br>Words: wojak, controller, smug, plug, session",
          "<b>Topic 26</b><br>Words: controller, mapping, legit, bossfight, break",
          "<b>Topic 26</b><br>Words: controller, electronic, pulverize, dust, break",
          "<b>Topic 26</b><br>Words: controller, carpal, armin, crackling, smash",
          "<b>Topic 26</b><br>Words: recognize, controller, potato, laptop, annoying",
          "<b>Topic 26</b><br>Words: controller, randomly, month, win, connect",
          "<b>Topic 26</b><br>Words: controller, dualsense, angrily, disc, slip",
          "<b>Topic 26</b><br>Words: don, urself, controller, support, exist",
          "<b>Topic 26</b><br>Words: don, controller, shamful, mic, joystick"
         ],
         "marker": {
          "color": "#0072B2"
         },
         "mode": "lines",
         "name": "26_controller_break_smash_bubble",
         "type": "scatter",
         "x": [
          "2014-04-20T18:06:56.036000",
          "2014-11-10T19:22:33.200000",
          "2015-05-29T20:36:41.400000",
          "2015-12-15T21:50:49.600000",
          "2016-07-02T23:04:57.800000",
          "2017-01-19T00:19:06",
          "2017-08-07T01:33:14.200000",
          "2018-02-23T02:47:22.400000",
          "2018-09-11T04:01:30.600000",
          "2019-03-30T05:15:38.800000",
          "2019-10-16T06:29:47",
          "2020-05-03T07:43:55.200000",
          "2020-11-19T08:58:03.400000",
          "2021-06-07T10:12:11.600000",
          "2021-12-24T11:26:19.800000",
          "2022-07-12T12:40:28",
          "2023-01-28T13:54:36.200000",
          "2023-08-16T15:08:44.400000",
          "2024-03-03T16:22:52.600000",
          "2024-09-19T17:37:00.800000"
         ],
         "y": [
          61,
          15,
          6,
          11,
          7,
          10,
          9,
          2,
          2,
          3,
          7,
          4,
          4,
          10,
          8,
          3,
          2,
          8,
          4,
          8
         ]
        },
        {
         "hoverinfo": "text",
         "hovertext": [
          "<b>Topic 27</b><br>Words: don, review, approve, jong, uncasual",
          "<b>Topic 27</b><br>Words: review, don, negative, approve, anwyway",
          "<b>Topic 27</b><br>Words: review, bussiness, loyal, skimming, monopoly",
          "<b>Topic 27</b><br>Words: don, rate, review, confirm, myt",
          "<b>Topic 27</b><br>Words: disrespectful, review, upvote, shiz, audience",
          "<b>Topic 27</b><br>Words: write, blame, ciao, polite, guideline",
          "<b>Topic 27</b><br>Words: reviewer, representative, review, ign, illusory",
          "<b>Topic 27</b><br>Words: review, hurry, metric, fulfill, fulfil",
          "<b>Topic 27</b><br>Words: anecdotal, omegalul, review, obnoxiously, cue",
          "<b>Topic 27</b><br>Words: minded, debunk, anybody, simpleton, rent",
          "<b>Topic 27</b><br>Words: dio, don, review, buckler, boat",
          "<b>Topic 27</b><br>Words: have, review, historical, tomato, forbid",
          "<b>Topic 27</b><br>Words: uncharacteristic, review, girl, emerald, herald",
          "<b>Topic 27</b><br>Words: don, review, lobster, criticist, gifted",
          "<b>Topic 27</b><br>Words: review, seeth, hrs, don, september",
          "<b>Topic 27</b><br>Words: don, review, fok, varying, humour",
          "<b>Topic 27</b><br>Words: happiness, rotch, brotha, unplayaable, review",
          "<b>Topic 27</b><br>Words: don, fallacy, negative, sunk, review",
          "<b>Topic 27</b><br>Words: badger, review, don, domo, aparently",
          "<b>Topic 27</b><br>Words: don, review, avdol, satire, glazing"
         ],
         "marker": {
          "color": "#CC79A7"
         },
         "mode": "lines",
         "name": "27_review_negative_approves_approve",
         "type": "scatter",
         "x": [
          "2014-04-20T18:06:56.036000",
          "2014-11-10T19:22:33.200000",
          "2015-05-29T20:36:41.400000",
          "2015-12-15T21:50:49.600000",
          "2016-07-02T23:04:57.800000",
          "2017-01-19T00:19:06",
          "2017-08-07T01:33:14.200000",
          "2018-02-23T02:47:22.400000",
          "2018-09-11T04:01:30.600000",
          "2019-03-30T05:15:38.800000",
          "2019-10-16T06:29:47",
          "2020-05-03T07:43:55.200000",
          "2020-11-19T08:58:03.400000",
          "2021-06-07T10:12:11.600000",
          "2021-12-24T11:26:19.800000",
          "2022-07-12T12:40:28",
          "2023-01-28T13:54:36.200000",
          "2023-08-16T15:08:44.400000",
          "2024-03-03T16:22:52.600000",
          "2024-09-19T17:37:00.800000"
         ],
         "y": [
          15,
          18,
          14,
          9,
          8,
          5,
          6,
          5,
          6,
          3,
          8,
          6,
          5,
          17,
          12,
          12,
          6,
          4,
          9,
          14
         ]
        },
        {
         "hoverinfo": "text",
         "hovertext": [
          "<b>Topic 28</b><br>Words: hate, ing, thanks, homies, platinumed",
          "<b>Topic 28</b><br>Words: hate, ing, thanks, homies, platinumed",
          "<b>Topic 28</b><br>Words: hate, ing, thanks, homies, platinumed",
          "<b>Topic 28</b><br>Words: hate, ing, thanks, homies, platinumed",
          "<b>Topic 28</b><br>Words: hate, ing, thanks, homies, platinumed",
          "<b>Topic 28</b><br>Words: hate, ing, thanks, homies, platinumed",
          "<b>Topic 28</b><br>Words: hate, ing, thanks, homies, platinumed",
          "<b>Topic 28</b><br>Words: hate, thank, ing, thanks, homies",
          "<b>Topic 28</b><br>Words: undeserved, hate, ing, thanks, homies",
          "<b>Topic 28</b><br>Words: hate, good, ing, thanks, homies",
          "<b>Topic 28</b><br>Words: don, hate, ing, thanks, homies",
          "<b>Topic 28</b><br>Words: hate, homie, woman, ing, thanks",
          "<b>Topic 28</b><br>Words: hate, ing, thanks, homies, platinumed",
          "<b>Topic 28</b><br>Words: hate, ing, thank, man, thanks",
          "<b>Topic 28</b><br>Words: hate, fking, lol, ing, kinda",
          "<b>Topic 28</b><br>Words: hate, sorry, ing, thanks, homies",
          "<b>Topic 28</b><br>Words: hate, ing, thanks, homies, platinumed",
          "<b>Topic 28</b><br>Words: hate, ill, ok, ing, thanks",
          "<b>Topic 28</b><br>Words: hate, tbh, thank, wrong, absolutely",
          "<b>Topic 28</b><br>Words: hate, damn, cause, ing, thanks"
         ],
         "marker": {
          "color": "#E69F00"
         },
         "mode": "lines",
         "name": "28_hate_ing_thanks_homies",
         "type": "scatter",
         "x": [
          "2014-04-20T18:06:56.036000",
          "2014-11-10T19:22:33.200000",
          "2015-05-29T20:36:41.400000",
          "2015-12-15T21:50:49.600000",
          "2016-07-02T23:04:57.800000",
          "2017-01-19T00:19:06",
          "2017-08-07T01:33:14.200000",
          "2018-02-23T02:47:22.400000",
          "2018-09-11T04:01:30.600000",
          "2019-03-30T05:15:38.800000",
          "2019-10-16T06:29:47",
          "2020-05-03T07:43:55.200000",
          "2020-11-19T08:58:03.400000",
          "2021-06-07T10:12:11.600000",
          "2021-12-24T11:26:19.800000",
          "2022-07-12T12:40:28",
          "2023-01-28T13:54:36.200000",
          "2023-08-16T15:08:44.400000",
          "2024-03-03T16:22:52.600000",
          "2024-09-19T17:37:00.800000"
         ],
         "y": [
          10,
          2,
          1,
          2,
          2,
          1,
          4,
          2,
          1,
          2,
          4,
          7,
          12,
          28,
          31,
          5,
          11,
          22,
          16,
          14
         ]
        },
        {
         "hoverinfo": "text",
         "hovertext": [
          "<b>Topic 29</b><br>Words: ok, oka, wowcool, iz, ya",
          "<b>Topic 29</b><br>Words: ok, oka, wowcool, iz, ya",
          "<b>Topic 29</b><br>Words: ok, oka, wowcool, iz, ya",
          "<b>Topic 29</b><br>Words: ok, oka, wowcool, iz, ya",
          "<b>Topic 29</b><br>Words: ok, oka, wowcool, iz, ya",
          "<b>Topic 29</b><br>Words: ok, oka, wowcool, iz, ya",
          "<b>Topic 29</b><br>Words: ok, oka, wowcool, iz, ya",
          "<b>Topic 29</b><br>Words: ok, oka, wowcool, iz, ya",
          "<b>Topic 29</b><br>Words: ok, oka, wowcool, iz, ya",
          "<b>Topic 29</b><br>Words: ok, iz, oka, wowcool, ya",
          "<b>Topic 29</b><br>Words: ok, oka, wowcool, iz, ya",
          "<b>Topic 29</b><br>Words: ok, wowcool, friend, oka, iz",
          "<b>Topic 29</b><br>Words: ok, oka, wowcool, iz, ya",
          "<b>Topic 29</b><br>Words: ok, oka, wowcool, iz, ya",
          "<b>Topic 29</b><br>Words: ok, oka, wowcool, iz, ya",
          "<b>Topic 29</b><br>Words: ok, ya, oka, wowcool, iz",
          "<b>Topic 29</b><br>Words: ok, oka, wowcool, iz, ya",
          "<b>Topic 29</b><br>Words: ok, till, oka, wowcool, iz",
          "<b>Topic 29</b><br>Words: ok, oka, wowcool, iz, ya"
         ],
         "marker": {
          "color": "#56B4E9"
         },
         "mode": "lines",
         "name": "29_ok_wowcool_oka_iz",
         "type": "scatter",
         "x": [
          "2014-04-20T18:06:56.036000",
          "2014-11-10T19:22:33.200000",
          "2015-05-29T20:36:41.400000",
          "2015-12-15T21:50:49.600000",
          "2016-07-02T23:04:57.800000",
          "2017-01-19T00:19:06",
          "2018-02-23T02:47:22.400000",
          "2018-09-11T04:01:30.600000",
          "2019-03-30T05:15:38.800000",
          "2019-10-16T06:29:47",
          "2020-05-03T07:43:55.200000",
          "2020-11-19T08:58:03.400000",
          "2021-06-07T10:12:11.600000",
          "2021-12-24T11:26:19.800000",
          "2022-07-12T12:40:28",
          "2023-01-28T13:54:36.200000",
          "2023-08-16T15:08:44.400000",
          "2024-03-03T16:22:52.600000",
          "2024-09-19T17:37:00.800000"
         ],
         "y": [
          24,
          9,
          5,
          11,
          2,
          2,
          7,
          6,
          8,
          13,
          13,
          9,
          12,
          10,
          9,
          8,
          13,
          10,
          5
         ]
        },
        {
         "hoverinfo": "text",
         "hovertext": [
          "<b>Topic 30</b><br>Words: keyboard, mouse, don, control, unplayable",
          "<b>Topic 30</b><br>Words: keyboard, mouse, sani, print, transcend",
          "<b>Topic 30</b><br>Words: keyboard, mouse, iritating, gombe, unplable",
          "<b>Topic 30</b><br>Words: keyboard, mouse, overrall, autohotkey, playable",
          "<b>Topic 30</b><br>Words: keyboard, mouse, unplayable, rebound, tooltip",
          "<b>Topic 30</b><br>Words: don, keyboard, mouse, blyat, clunkiness",
          "<b>Topic 30</b><br>Words: paypal, keyboard, compatablity, mose, ts",
          "<b>Topic 30</b><br>Words: don, mouse, keyboard, rebound, sift",
          "<b>Topic 30</b><br>Words: mouse, keyboard, enjoy, well, control",
          "<b>Topic 30</b><br>Words: waterboarded, temperature, remark, afterlife, keyboard",
          "<b>Topic 30</b><br>Words: don, keyboard, mouse, rightmouse, keyboad",
          "<b>Topic 30</b><br>Words: don, keyboard, mouse, efin, backside",
          "<b>Topic 30</b><br>Words: keyboard, mouse, don, hassel, workaround",
          "<b>Topic 30</b><br>Words: keyboard, mouse, experimente, don, tentar",
          "<b>Topic 30</b><br>Words: keyboard, mouse, don, exercise, cbt",
          "<b>Topic 30</b><br>Words: keyboard, mouse, disconnected, hint, unplayable",
          "<b>Topic 30</b><br>Words: don, keyboard, mouse, pos, nonexistant",
          "<b>Topic 30</b><br>Words: keyboard, don, mouse, default, bind",
          "<b>Topic 30</b><br>Words: clunkt, autohotkey, iffy, bomb, rebind",
          "<b>Topic 30</b><br>Words: keyboard, mouse, keybind, aah, silicon"
         ],
         "marker": {
          "color": "#009E73"
         },
         "mode": "lines",
         "name": "30_keyboard_mouse_control_unplayable",
         "type": "scatter",
         "x": [
          "2014-04-20T18:06:56.036000",
          "2014-11-10T19:22:33.200000",
          "2015-05-29T20:36:41.400000",
          "2015-12-15T21:50:49.600000",
          "2016-07-02T23:04:57.800000",
          "2017-01-19T00:19:06",
          "2017-08-07T01:33:14.200000",
          "2018-02-23T02:47:22.400000",
          "2018-09-11T04:01:30.600000",
          "2019-03-30T05:15:38.800000",
          "2019-10-16T06:29:47",
          "2020-05-03T07:43:55.200000",
          "2020-11-19T08:58:03.400000",
          "2021-06-07T10:12:11.600000",
          "2021-12-24T11:26:19.800000",
          "2022-07-12T12:40:28",
          "2023-01-28T13:54:36.200000",
          "2023-08-16T15:08:44.400000",
          "2024-03-03T16:22:52.600000",
          "2024-09-19T17:37:00.800000"
         ],
         "y": [
          54,
          7,
          8,
          8,
          7,
          8,
          5,
          3,
          1,
          3,
          6,
          7,
          13,
          7,
          7,
          4,
          6,
          7,
          3,
          10
         ]
        },
        {
         "hoverinfo": "text",
         "hovertext": [
          "<b>Topic 31</b><br>Words: gud, gued, ittttttttt, relly, super",
          "<b>Topic 31</b><br>Words: gud, es, gude, gued, guwd",
          "<b>Topic 31</b><br>Words: gud, gude, lief, gued, guwd",
          "<b>Topic 31</b><br>Words: gud, vry, gude, lief, gued",
          "<b>Topic 31</b><br>Words: gud, purty, damn, gude, gued",
          "<b>Topic 31</b><br>Words: gud, gude, lief, gued, guwd",
          "<b>Topic 31</b><br>Words: gud, gude, lief, gued, guwd",
          "<b>Topic 31</b><br>Words: gud, gude, lief, gued, guwd",
          "<b>Topic 31</b><br>Words: gud, gude, lief, gued, guwd",
          "<b>Topic 31</b><br>Words: gud, don, neckbeard, listen, gude",
          "<b>Topic 31</b><br>Words: gud, gude, guwd, gamee, lief",
          "<b>Topic 31</b><br>Words: gud, lief, gude, gued, guwd",
          "<b>Topic 31</b><br>Words: gud, edit, gude, gued, guwd",
          "<b>Topic 31</b><br>Words: gud, gude, lief, gued, guwd",
          "<b>Topic 31</b><br>Words: gud, offline, gude, hate, lief",
          "<b>Topic 31</b><br>Words: gud, augh, gude, lief, gued",
          "<b>Topic 31</b><br>Words: gud, iit, gude, lief, gued",
          "<b>Topic 31</b><br>Words: gud, gude, yes, gued, guwd",
          "<b>Topic 31</b><br>Words: gud, gude, lief, gued, guwd"
         ],
         "marker": {
          "color": "#F0E442"
         },
         "mode": "lines",
         "name": "31_gud_gude_lief_gued",
         "type": "scatter",
         "x": [
          "2014-04-20T18:06:56.036000",
          "2014-11-10T19:22:33.200000",
          "2015-05-29T20:36:41.400000",
          "2015-12-15T21:50:49.600000",
          "2016-07-02T23:04:57.800000",
          "2017-01-19T00:19:06",
          "2017-08-07T01:33:14.200000",
          "2018-09-11T04:01:30.600000",
          "2019-03-30T05:15:38.800000",
          "2019-10-16T06:29:47",
          "2020-05-03T07:43:55.200000",
          "2020-11-19T08:58:03.400000",
          "2021-06-07T10:12:11.600000",
          "2021-12-24T11:26:19.800000",
          "2022-07-12T12:40:28",
          "2023-01-28T13:54:36.200000",
          "2023-08-16T15:08:44.400000",
          "2024-03-03T16:22:52.600000",
          "2024-09-19T17:37:00.800000"
         ],
         "y": [
          7,
          4,
          2,
          12,
          5,
          3,
          5,
          3,
          5,
          18,
          22,
          17,
          12,
          15,
          10,
          10,
          4,
          11,
          5
         ]
        },
        {
         "hoverinfo": "text",
         "hovertext": [
          "<b>Topic 32</b><br>Words: recommend, gay, bcuz, highly, soo",
          "<b>Topic 32</b><br>Words: recommend, launch, highly, yeah, hell",
          "<b>Topic 32</b><br>Words: backdoor, frustrated, recommend, highly, alot",
          "<b>Topic 32</b><br>Words: foward, recommend, highly, iii, price",
          "<b>Topic 32</b><br>Words: check, video, recommend, worth, say",
          "<b>Topic 32</b><br>Words: slightly, recommend, bad, highly, like",
          "<b>Topic 32</b><br>Words: recomendation, chef, confuse, recommend, highly",
          "<b>Topic 32</b><br>Words: wafu, recommend, highly, definitely, recommended",
          "<b>Topic 32</b><br>Words: recommendato, mucho, recommend, highly, recommended",
          "<b>Topic 32</b><br>Words: wholeheartedly, recommend, highly, totally, great",
          "<b>Topic 32</b><br>Words: senat, recommend, xxx, recomend, highly",
          "<b>Topic 32</b><br>Words: definately, cuz, recommend, check, highly",
          "<b>Topic 32</b><br>Words: don, recommend, bery, highly, ofcourse",
          "<b>Topic 32</b><br>Words: potat, recommend, gooooooooood, glorious, heck",
          "<b>Topic 32</b><br>Words: don, recommend, highly, nowadays, bias",
          "<b>Topic 32</b><br>Words: reef, don, sane, recommend, strongly",
          "<b>Topic 32</b><br>Words: recommend, highly, terrible, recommended, recomended",
          "<b>Topic 32</b><br>Words: deceive, recommend, solaire, surely, highly",
          "<b>Topic 32</b><br>Words: recommend, recommendz, souldbourne, don, wud",
          "<b>Topic 32</b><br>Words: hilarious, recommend, highly, potential, ultimately"
         ],
         "marker": {
          "color": "#D55E00"
         },
         "mode": "lines",
         "name": "32_recommend_highly_recommended_recomend...",
         "type": "scatter",
         "x": [
          "2014-04-20T18:06:56.036000",
          "2014-11-10T19:22:33.200000",
          "2015-05-29T20:36:41.400000",
          "2015-12-15T21:50:49.600000",
          "2016-07-02T23:04:57.800000",
          "2017-01-19T00:19:06",
          "2017-08-07T01:33:14.200000",
          "2018-02-23T02:47:22.400000",
          "2018-09-11T04:01:30.600000",
          "2019-03-30T05:15:38.800000",
          "2019-10-16T06:29:47",
          "2020-05-03T07:43:55.200000",
          "2020-11-19T08:58:03.400000",
          "2021-06-07T10:12:11.600000",
          "2021-12-24T11:26:19.800000",
          "2022-07-12T12:40:28",
          "2023-01-28T13:54:36.200000",
          "2023-08-16T15:08:44.400000",
          "2024-03-03T16:22:52.600000",
          "2024-09-19T17:37:00.800000"
         ],
         "y": [
          26,
          9,
          5,
          8,
          2,
          3,
          3,
          5,
          3,
          7,
          16,
          6,
          12,
          13,
          14,
          5,
          4,
          8,
          16,
          5
         ]
        },
        {
         "hoverinfo": "text",
         "hovertext": [
          "<b>Topic 33</b><br>Words: love, grrrrr, fkin, frist, geforce",
          "<b>Topic 33</b><br>Words: love, grrrrr, fkin, frist, geforce",
          "<b>Topic 33</b><br>Words: love, grrrrr, fkin, frist, geforce",
          "<b>Topic 33</b><br>Words: love, grrrrr, fkin, frist, geforce",
          "<b>Topic 33</b><br>Words: love, grrrrr, fkin, frist, geforce",
          "<b>Topic 33</b><br>Words: love, geforce, action, grrrrr, fkin",
          "<b>Topic 33</b><br>Words: fkin, love, grrrrr, frist, geforce",
          "<b>Topic 33</b><br>Words: love, grrrrr, fkin, frist, geforce",
          "<b>Topic 33</b><br>Words: love, grrrrr, fkin, frist, geforce",
          "<b>Topic 33</b><br>Words: grrrrr, love, fkin, frist, geforce",
          "<b>Topic 33</b><br>Words: love, grrrrr, fkin, frist, geforce",
          "<b>Topic 33</b><br>Words: love, grrrrr, fkin, frist, geforce",
          "<b>Topic 33</b><br>Words: love, simply, grrrrr, fkin, frist",
          "<b>Topic 33</b><br>Words: love, grrrrr, fkin, frist, geforce",
          "<b>Topic 33</b><br>Words: love, grrrrr, fkin, frist, geforce",
          "<b>Topic 33</b><br>Words: love, grrrrr, fkin, frist, geforce",
          "<b>Topic 33</b><br>Words: love, grrrrr, fkin, frist, geforce",
          "<b>Topic 33</b><br>Words: love, frist, grrrrr, fkin, geforce",
          "<b>Topic 33</b><br>Words: love, grrrrr, fkin, frist, geforce",
          "<b>Topic 33</b><br>Words: love, grrrrr, fkin, frist, geforce"
         ],
         "marker": {
          "color": "#0072B2"
         },
         "mode": "lines",
         "name": "33_love_grrrrr_frist_fkin",
         "type": "scatter",
         "x": [
          "2014-04-20T18:06:56.036000",
          "2014-11-10T19:22:33.200000",
          "2015-05-29T20:36:41.400000",
          "2015-12-15T21:50:49.600000",
          "2016-07-02T23:04:57.800000",
          "2017-01-19T00:19:06",
          "2017-08-07T01:33:14.200000",
          "2018-02-23T02:47:22.400000",
          "2018-09-11T04:01:30.600000",
          "2019-03-30T05:15:38.800000",
          "2019-10-16T06:29:47",
          "2020-05-03T07:43:55.200000",
          "2020-11-19T08:58:03.400000",
          "2021-06-07T10:12:11.600000",
          "2021-12-24T11:26:19.800000",
          "2022-07-12T12:40:28",
          "2023-01-28T13:54:36.200000",
          "2023-08-16T15:08:44.400000",
          "2024-03-03T16:22:52.600000",
          "2024-09-19T17:37:00.800000"
         ],
         "y": [
          21,
          12,
          4,
          10,
          2,
          5,
          5,
          2,
          1,
          6,
          6,
          11,
          9,
          16,
          2,
          8,
          7,
          11,
          10,
          14
         ]
        },
        {
         "hoverinfo": "text",
         "hovertext": [
          "<b>Topic 34</b><br>Words: don, haven, soulless, merely, haha",
          "<b>Topic 34</b><br>Words: baddass, want, play, bad, ever",
          "<b>Topic 34</b><br>Words: usully, morgan, lik, gam, dis",
          "<b>Topic 34</b><br>Words: sure, want, bad, play, good",
          "<b>Topic 34</b><br>Words: bretty, rap, remove, mind, completely",
          "<b>Topic 34</b><br>Words: haven, diferent, favor, mean, bad",
          "<b>Topic 34</b><br>Words: tyvm, don, tread, unpolished, comment",
          "<b>Topic 34</b><br>Words: chore, instead, horrible, bad, play",
          "<b>Topic 34</b><br>Words: pathetic, joke, slow, far, recommend",
          "<b>Topic 34</b><br>Words: supa, peple, kool, frustrating, bad",
          "<b>Topic 34</b><br>Words: sicne, ist, permanent, existence, brain",
          "<b>Topic 34</b><br>Words: don, clumsy, league, iteration, legend",
          "<b>Topic 34</b><br>Words: don, otzdarva, trolling, severe, surprising",
          "<b>Topic 34</b><br>Words: don, disown, recapture, bad, undoubtedly",
          "<b>Topic 34</b><br>Words: sarcastic, psychopath, hammer, frickin, hospital",
          "<b>Topic 34</b><br>Words: displeasure, kalle, don, ranger, imagine",
          "<b>Topic 34</b><br>Words: don, ga, fk, bored, sanity",
          "<b>Topic 34</b><br>Words: iver, ovewreight, wrose, don, limp",
          "<b>Topic 34</b><br>Words: don, hydraulic, charity, unmentionable, cs",
          "<b>Topic 34</b><br>Words: don, hypodermic, cheeseburger, displeasure, mfs"
         ],
         "marker": {
          "color": "#CC79A7"
         },
         "mode": "lines",
         "name": "34_bad_ever_ive_displeasure",
         "type": "scatter",
         "x": [
          "2014-04-20T18:06:56.036000",
          "2014-11-10T19:22:33.200000",
          "2015-05-29T20:36:41.400000",
          "2015-12-15T21:50:49.600000",
          "2016-07-02T23:04:57.800000",
          "2017-01-19T00:19:06",
          "2017-08-07T01:33:14.200000",
          "2018-02-23T02:47:22.400000",
          "2018-09-11T04:01:30.600000",
          "2019-03-30T05:15:38.800000",
          "2019-10-16T06:29:47",
          "2020-05-03T07:43:55.200000",
          "2020-11-19T08:58:03.400000",
          "2021-06-07T10:12:11.600000",
          "2021-12-24T11:26:19.800000",
          "2022-07-12T12:40:28",
          "2023-01-28T13:54:36.200000",
          "2023-08-16T15:08:44.400000",
          "2024-03-03T16:22:52.600000",
          "2024-09-19T17:37:00.800000"
         ],
         "y": [
          9,
          1,
          3,
          1,
          1,
          1,
          3,
          2,
          1,
          3,
          6,
          8,
          15,
          16,
          16,
          13,
          10,
          17,
          17,
          14
         ]
        },
        {
         "hoverinfo": "text",
         "hovertext": [
          "<b>Topic 35</b><br>Words: playstation, jank, janky, want, helpless",
          "<b>Topic 35</b><br>Words: janky, jank, bumb, genera, rubber",
          "<b>Topic 35</b><br>Words: jank, janky, don, haven, targetting",
          "<b>Topic 35</b><br>Words: janky, jank, slush, deterrent, jpg",
          "<b>Topic 35</b><br>Words: jank, janky, fvckin, repetitve, sousl",
          "<b>Topic 35</b><br>Words: janky, jank, helpless, don, downtrodden",
          "<b>Topic 35</b><br>Words: janky, jank, differntly, outher, don",
          "<b>Topic 35</b><br>Words: janky, jank, transactional, don, ideology",
          "<b>Topic 35</b><br>Words: janky, jank, jankier, hyperfixated, saulk",
          "<b>Topic 35</b><br>Words: janky, jank, dong, hank, darkth",
          "<b>Topic 35</b><br>Words: jank, janky, don, skibity, riz"
         ],
         "marker": {
          "color": "#E69F00"
         },
         "mode": "lines",
         "name": "35_janky_jank_helpless_jankier",
         "type": "scatter",
         "x": [
          "2019-03-30T05:15:38.800000",
          "2019-10-16T06:29:47",
          "2020-05-03T07:43:55.200000",
          "2020-11-19T08:58:03.400000",
          "2021-06-07T10:12:11.600000",
          "2021-12-24T11:26:19.800000",
          "2022-07-12T12:40:28",
          "2023-01-28T13:54:36.200000",
          "2023-08-16T15:08:44.400000",
          "2024-03-03T16:22:52.600000",
          "2024-09-19T17:37:00.800000"
         ],
         "y": [
          1,
          6,
          8,
          17,
          20,
          16,
          10,
          11,
          19,
          21,
          26
         ]
        },
        {
         "hoverinfo": "text",
         "hovertext": [
          "<b>Topic 36</b><br>Words: die, bladder, would, washing, burst",
          "<b>Topic 36</b><br>Words: rape, die, would, brilliant, ruuined",
          "<b>Topic 36</b><br>Words: genocide, die, commit, would, hollow",
          "<b>Topic 36</b><br>Words: somebody, die, would, stretch, asshole",
          "<b>Topic 36</b><br>Words: wizard, die, pussy, brutally, would",
          "<b>Topic 36</b><br>Words: humanity, lose, die, would, ruuined",
          "<b>Topic 36</b><br>Words: tenouttaten, die, would, ruuined, rape",
          "<b>Topic 36</b><br>Words: lose, would, die, ruuined, rape",
          "<b>Topic 36</b><br>Words: die, would, ruuined, rape, bladder",
          "<b>Topic 36</b><br>Words: die, lose, would, ruuined, rape",
          "<b>Topic 36</b><br>Words: die, would, ruuined, rape, bladder",
          "<b>Topic 36</b><br>Words: burn, effigy, human, would, die",
          "<b>Topic 36</b><br>Words: save, die, would, ruuined, rape",
          "<b>Topic 36</b><br>Words: ok, die, would, lot, like",
          "<b>Topic 36</b><br>Words: die, would, ruuined, rape, bladder",
          "<b>Topic 36</b><br>Words: die, would, ruuined, rape, bladder",
          "<b>Topic 36</b><br>Words: die, would, ruuined, rape, bladder"
         ],
         "marker": {
          "color": "#56B4E9"
         },
         "mode": "lines",
         "name": "36_would_die_ruuined_rape",
         "type": "scatter",
         "x": [
          "2014-04-20T18:06:56.036000",
          "2014-11-10T19:22:33.200000",
          "2015-05-29T20:36:41.400000",
          "2015-12-15T21:50:49.600000",
          "2016-07-02T23:04:57.800000",
          "2017-01-19T00:19:06",
          "2017-08-07T01:33:14.200000",
          "2018-02-23T02:47:22.400000",
          "2018-09-11T04:01:30.600000",
          "2019-03-30T05:15:38.800000",
          "2019-10-16T06:29:47",
          "2020-05-03T07:43:55.200000",
          "2020-11-19T08:58:03.400000",
          "2021-06-07T10:12:11.600000",
          "2021-12-24T11:26:19.800000",
          "2022-07-12T12:40:28",
          "2024-09-19T17:37:00.800000"
         ],
         "y": [
          53,
          26,
          11,
          18,
          8,
          2,
          6,
          1,
          4,
          5,
          8,
          3,
          4,
          2,
          1,
          1,
          1
         ]
        },
        {
         "hoverinfo": "text",
         "hovertext": [
          "<b>Topic 37</b><br>Words: peak, midsouls, sebralo, tuah, peaksouls",
          "<b>Topic 37</b><br>Words: peak, midsouls, sebralo, tuah, peaksouls",
          "<b>Topic 37</b><br>Words: peak, midsouls, sebralo, tuah, video",
          "<b>Topic 37</b><br>Words: peak, sebralo, tuah, frfr, shi"
         ],
         "marker": {
          "color": "#009E73"
         },
         "mode": "lines",
         "name": "37_peak_sebralo_midsouls_tuah",
         "type": "scatter",
         "x": [
          "2023-01-28T13:54:36.200000",
          "2023-08-16T15:08:44.400000",
          "2024-03-03T16:22:52.600000",
          "2024-09-19T17:37:00.800000"
         ],
         "y": [
          1,
          5,
          45,
          102
         ]
        },
        {
         "hoverinfo": "text",
         "hovertext": [
          "<b>Topic 38</b><br>Words: bloodborne, inside, blood, atm, wait",
          "<b>Topic 38</b><br>Words: bloodborne, heee, learntojump, loos, stench",
          "<b>Topic 38</b><br>Words: bloodborne, duuh, brotherhood, ass, ypu",
          "<b>Topic 38</b><br>Words: bloodborne, blunderbuss, insulting, depressed, welp",
          "<b>Topic 38</b><br>Words: bloodborne, fave, fgts, battleborne, skil",
          "<b>Topic 38</b><br>Words: don, bloodborne, oooohhhhhhh, haven, nioh",
          "<b>Topic 38</b><br>Words: bloodborne, buy, bloodborn, blood, kart",
          "<b>Topic 38</b><br>Words: bloodborne, omegalul, bestestest, attribue, bloodborn",
          "<b>Topic 38</b><br>Words: bloodborn, bloodborne, superior, yeah, basically",
          "<b>Topic 38</b><br>Words: don, bloodborn, bloodborne, ahead, wish",
          "<b>Topic 38</b><br>Words: bloodborne, don, knockoff, league, role",
          "<b>Topic 38</b><br>Words: bloodborne, haven, don, consul, kart",
          "<b>Topic 38</b><br>Words: bloodborne, kart, delicious, dumpster, definitly",
          "<b>Topic 38</b><br>Words: bloodborne, kart, originally, disappoint, tho",
          "<b>Topic 38</b><br>Words: bloodborne, freebloodborne, bloodbourne, slugish, dub",
          "<b>Topic 38</b><br>Words: downvote, bloodborne, fromsoftware, bloodborn, legacy",
          "<b>Topic 38</b><br>Words: bloodborne, perception, fs, sadist, public",
          "<b>Topic 38</b><br>Words: bloodborne, conservative, pls, ost, bring",
          "<b>Topic 38</b><br>Words: bloodborne, don, competitor, btw, chad",
          "<b>Topic 38</b><br>Words: bloodborne, zur, kleine, ckgebliebene, bruder"
         ],
         "marker": {
          "color": "#F0E442"
         },
         "mode": "lines",
         "name": "38_bloodborne_bloodborn_blood_kart",
         "type": "scatter",
         "x": [
          "2014-04-20T18:06:56.036000",
          "2014-11-10T19:22:33.200000",
          "2015-05-29T20:36:41.400000",
          "2015-12-15T21:50:49.600000",
          "2016-07-02T23:04:57.800000",
          "2017-01-19T00:19:06",
          "2017-08-07T01:33:14.200000",
          "2018-02-23T02:47:22.400000",
          "2018-09-11T04:01:30.600000",
          "2019-03-30T05:15:38.800000",
          "2019-10-16T06:29:47",
          "2020-05-03T07:43:55.200000",
          "2020-11-19T08:58:03.400000",
          "2021-06-07T10:12:11.600000",
          "2021-12-24T11:26:19.800000",
          "2022-07-12T12:40:28",
          "2023-01-28T13:54:36.200000",
          "2023-08-16T15:08:44.400000",
          "2024-03-03T16:22:52.600000",
          "2024-09-19T17:37:00.800000"
         ],
         "y": [
          6,
          16,
          9,
          5,
          8,
          5,
          1,
          6,
          3,
          3,
          8,
          8,
          8,
          6,
          16,
          7,
          10,
          8,
          12,
          6
         ]
        },
        {
         "hoverinfo": "text",
         "hovertext": [
          "<b>Topic 39</b><br>Words: flaw, regeret, don, flawed, petition",
          "<b>Topic 39</b><br>Words: footnote, major, flaw, like, despite",
          "<b>Topic 39</b><br>Words: rotten, flaw, core, value, call",
          "<b>Topic 39</b><br>Words: masterpiece, flaw, despite, astonishing, flawed",
          "<b>Topic 39</b><br>Words: inspection, replayable, flaw, forever, tho",
          "<b>Topic 39</b><br>Words: raime, flawed, flaw, easily, sotfs",
          "<b>Topic 39</b><br>Words: flaw, intricate, polished, horse, creative",
          "<b>Topic 39</b><br>Words: flaw, gimped, unfamiliar, crappy, resource",
          "<b>Topic 39</b><br>Words: don, flaw, tbf, arse, drunk",
          "<b>Topic 39</b><br>Words: flaw, don, nonetheless, numerous, date",
          "<b>Topic 39</b><br>Words: flaw, flawed, don, neato, flair",
          "<b>Topic 39</b><br>Words: flaw, flawed, don, incompetence, nearly",
          "<b>Topic 39</b><br>Words: don, flawed, flaw, hater, listen",
          "<b>Topic 39</b><br>Words: flaw, flawed, don, yelling, unknowingly",
          "<b>Topic 39</b><br>Words: flaw, debateably, haven, flawed, agonizing",
          "<b>Topic 39</b><br>Words: flaw, flawed, vide, issus, remasterd",
          "<b>Topic 39</b><br>Words: flaw, astonishing, don, unjustifiably, shill",
          "<b>Topic 39</b><br>Words: flaw, reprobate, flawed, vitriol, undisputed",
          "<b>Topic 39</b><br>Words: flaw, don, flawed, charming, ermmm"
         ],
         "marker": {
          "color": "#D55E00"
         },
         "mode": "lines",
         "name": "39_flaw_despite_masterpiece_astonishing",
         "type": "scatter",
         "x": [
          "2014-04-20T18:06:56.036000",
          "2015-05-29T20:36:41.400000",
          "2015-12-15T21:50:49.600000",
          "2016-07-02T23:04:57.800000",
          "2017-01-19T00:19:06",
          "2017-08-07T01:33:14.200000",
          "2018-02-23T02:47:22.400000",
          "2018-09-11T04:01:30.600000",
          "2019-03-30T05:15:38.800000",
          "2019-10-16T06:29:47",
          "2020-05-03T07:43:55.200000",
          "2020-11-19T08:58:03.400000",
          "2021-06-07T10:12:11.600000",
          "2021-12-24T11:26:19.800000",
          "2022-07-12T12:40:28",
          "2023-01-28T13:54:36.200000",
          "2023-08-16T15:08:44.400000",
          "2024-03-03T16:22:52.600000",
          "2024-09-19T17:37:00.800000"
         ],
         "y": [
          8,
          1,
          1,
          1,
          2,
          3,
          3,
          1,
          3,
          6,
          14,
          16,
          9,
          15,
          9,
          8,
          11,
          15,
          24
         ]
        },
        {
         "hoverinfo": "text",
         "hovertext": [
          "<b>Topic 40</b><br>Words: preparation, rest, ring, co, op",
          "<b>Topic 40</b><br>Words: doo, happ, eld, eldin, ring",
          "<b>Topic 40</b><br>Words: rin, exalt, elden, diye, ring",
          "<b>Topic 40</b><br>Words: elden, don, ring, multiplayer, tbe",
          "<b>Topic 40</b><br>Words: elden, ring, don, swug, whel",
          "<b>Topic 40</b><br>Words: don, elden, ring, poo, cacophony",
          "<b>Topic 40</b><br>Words: elden, ring, overhype, aged, don",
          "<b>Topic 40</b><br>Words: elden, ring, have, imright, elen",
          "<b>Topic 40</b><br>Words: elden, don, ring, crode, unlocker"
         ],
         "marker": {
          "color": "#0072B2"
         },
         "mode": "lines",
         "name": "40_elden_ring_doo_multiplayer",
         "type": "scatter",
         "x": [
          "2020-05-03T07:43:55.200000",
          "2020-11-19T08:58:03.400000",
          "2021-06-07T10:12:11.600000",
          "2021-12-24T11:26:19.800000",
          "2022-07-12T12:40:28",
          "2023-01-28T13:54:36.200000",
          "2023-08-16T15:08:44.400000",
          "2024-03-03T16:22:52.600000",
          "2024-09-19T17:37:00.800000"
         ],
         "y": [
          1,
          4,
          5,
          41,
          13,
          16,
          17,
          20,
          23
         ]
        },
        {
         "hoverinfo": "text",
         "hovertext": [
          "<b>Topic 41</b><br>Words: sequel, indirect, indirectly, don, improve",
          "<b>Topic 41</b><br>Words: don, sequel, harmless, portal, translate",
          "<b>Topic 41</b><br>Words: sequel, clearable, latte, trod, immersivity",
          "<b>Topic 41</b><br>Words: sequel, untoasted, don, realm, aftertaste",
          "<b>Topic 41</b><br>Words: don, sequel, perdurabo, frater, attn",
          "<b>Topic 41</b><br>Words: don, stilll, strengthen, sequel, nearby",
          "<b>Topic 41</b><br>Words: don, benchmark, synonymous, expression, fitting",
          "<b>Topic 41</b><br>Words: sequel, olist, redesign, convenant, expeiernce",
          "<b>Topic 41</b><br>Words: arkham, bioshock, origin, overshadow, backtrack",
          "<b>Topic 41</b><br>Words: sadness, parrying, difference, sequel, strong",
          "<b>Topic 41</b><br>Words: espouse, souis, have, minimally, forewarn",
          "<b>Topic 41</b><br>Words: addicitng, don, crackhead, overdue, senile",
          "<b>Topic 41</b><br>Words: don, sequel, whie, atnthe, areabsurd",
          "<b>Topic 41</b><br>Words: robocop, have, geographically, sequel, eager",
          "<b>Topic 41</b><br>Words: worker, tired, sequel, unforgettable, thinking",
          "<b>Topic 41</b><br>Words: ending, sequel, finality, contractually, keystone",
          "<b>Topic 41</b><br>Words: don, formidable, sequel, establish, primarily",
          "<b>Topic 41</b><br>Words: don, sequel, formula, obscurely, marmite",
          "<b>Topic 41</b><br>Words: unafraid, dweller, don, essayist, scorn"
         ],
         "marker": {
          "color": "#CC79A7"
         },
         "mode": "lines",
         "name": "41_sequel_indirect_indirectly_ii",
         "type": "scatter",
         "x": [
          "2014-04-20T18:06:56.036000",
          "2014-11-10T19:22:33.200000",
          "2015-05-29T20:36:41.400000",
          "2015-12-15T21:50:49.600000",
          "2016-07-02T23:04:57.800000",
          "2017-01-19T00:19:06",
          "2017-08-07T01:33:14.200000",
          "2018-02-23T02:47:22.400000",
          "2018-09-11T04:01:30.600000",
          "2019-10-16T06:29:47",
          "2020-05-03T07:43:55.200000",
          "2020-11-19T08:58:03.400000",
          "2021-06-07T10:12:11.600000",
          "2021-12-24T11:26:19.800000",
          "2022-07-12T12:40:28",
          "2023-01-28T13:54:36.200000",
          "2023-08-16T15:08:44.400000",
          "2024-03-03T16:22:52.600000",
          "2024-09-19T17:37:00.800000"
         ],
         "y": [
          57,
          14,
          4,
          6,
          5,
          2,
          3,
          7,
          2,
          2,
          3,
          2,
          7,
          3,
          3,
          5,
          5,
          6,
          3
         ]
        },
        {
         "hoverinfo": "text",
         "hovertext": [
          "<b>Topic 42</b><br>Words: awesome, sweet, totally, bro, usual",
          "<b>Topic 42</b><br>Words: awesome, sweet, bro, usual, till",
          "<b>Topic 42</b><br>Words: awesome, till, sweet, wait, bro",
          "<b>Topic 42</b><br>Words: awesome, sweet, bro, usual, till",
          "<b>Topic 42</b><br>Words: awesome, sweet, bro, usual, till",
          "<b>Topic 42</b><br>Words: awesome, sweet, bro, usual, till",
          "<b>Topic 42</b><br>Words: awesome, sweet, bro, usual, till",
          "<b>Topic 42</b><br>Words: awesome, sweet, bro, usual, till",
          "<b>Topic 42</b><br>Words: awesome, sweet, bro, usual, till",
          "<b>Topic 42</b><br>Words: awesome, sweet, bro, usual, till",
          "<b>Topic 42</b><br>Words: awesome, sweet, bro, usual, till",
          "<b>Topic 42</b><br>Words: awesome, sweet, bro, usual, till",
          "<b>Topic 42</b><br>Words: awesome, sweet, bro, usual, till",
          "<b>Topic 42</b><br>Words: awesome, sweet, bro, usual, till",
          "<b>Topic 42</b><br>Words: awesome, sweet, bro, usual, till",
          "<b>Topic 42</b><br>Words: awesome, sweet, bro, usual, till",
          "<b>Topic 42</b><br>Words: awesome, usual, sweet, bro, till",
          "<b>Topic 42</b><br>Words: awesome, sweet, bro, usual, till",
          "<b>Topic 42</b><br>Words: awesome, sweet, bro, usual, till"
         ],
         "marker": {
          "color": "#E69F00"
         },
         "mode": "lines",
         "name": "42_awesome_sweet_bro_usual",
         "type": "scatter",
         "x": [
          "2014-04-20T18:06:56.036000",
          "2014-11-10T19:22:33.200000",
          "2015-05-29T20:36:41.400000",
          "2015-12-15T21:50:49.600000",
          "2016-07-02T23:04:57.800000",
          "2017-01-19T00:19:06",
          "2017-08-07T01:33:14.200000",
          "2018-09-11T04:01:30.600000",
          "2019-03-30T05:15:38.800000",
          "2019-10-16T06:29:47",
          "2020-05-03T07:43:55.200000",
          "2020-11-19T08:58:03.400000",
          "2021-06-07T10:12:11.600000",
          "2021-12-24T11:26:19.800000",
          "2022-07-12T12:40:28",
          "2023-01-28T13:54:36.200000",
          "2023-08-16T15:08:44.400000",
          "2024-03-03T16:22:52.600000",
          "2024-09-19T17:37:00.800000"
         ],
         "y": [
          38,
          16,
          12,
          7,
          6,
          1,
          6,
          1,
          2,
          7,
          8,
          6,
          6,
          2,
          5,
          4,
          4,
          3,
          5
         ]
        },
        {
         "hoverinfo": "text",
         "hovertext": [
          "<b>Topic 43</b><br>Words: replay, replayability, value, hadnle, replayable",
          "<b>Topic 43</b><br>Words: replay, value, replayability, replayable, potentcial",
          "<b>Topic 43</b><br>Words: replayability, replay, value, reccamend, maker",
          "<b>Topic 43</b><br>Words: simluator, reintroduction, replay, repeat, texture",
          "<b>Topic 43</b><br>Words: replayability, huuge, replay, assess, breakdown",
          "<b>Topic 43</b><br>Words: derank, blooborne, replay, value, rebuy",
          "<b>Topic 43</b><br>Words: replay, value, replayability, replayable, aesthetically",
          "<b>Topic 43</b><br>Words: don, replay, rest, maybe, let",
          "<b>Topic 43</b><br>Words: higly, replay, replayable, replayability, ambitious",
          "<b>Topic 43</b><br>Words: replayability, replay, hundredth, don, randomizer",
          "<b>Topic 43</b><br>Words: replay, value, replayability, replayeable, ruff",
          "<b>Topic 43</b><br>Words: replay, varity, value, replayable, rap",
          "<b>Topic 43</b><br>Words: replayability, replay, rounded, value, replayable",
          "<b>Topic 43</b><br>Words: replayable, replay, don, replayability, value",
          "<b>Topic 43</b><br>Words: replay, don, replayability, stupidly, value",
          "<b>Topic 43</b><br>Words: replay, value, purely, child, ugly",
          "<b>Topic 43</b><br>Words: replay, value, overhate, repeatability, replayability",
          "<b>Topic 43</b><br>Words: mature, replayable, replayability, realize, replay",
          "<b>Topic 43</b><br>Words: replay, value, replayable, revo, astmosphere",
          "<b>Topic 43</b><br>Words: replay, don, replayability, refuse, value"
         ],
         "marker": {
          "color": "#56B4E9"
         },
         "mode": "lines",
         "name": "43_replay_replayability_value_replayable",
         "type": "scatter",
         "x": [
          "2014-04-20T18:06:56.036000",
          "2014-11-10T19:22:33.200000",
          "2015-05-29T20:36:41.400000",
          "2015-12-15T21:50:49.600000",
          "2016-07-02T23:04:57.800000",
          "2017-01-19T00:19:06",
          "2017-08-07T01:33:14.200000",
          "2018-02-23T02:47:22.400000",
          "2018-09-11T04:01:30.600000",
          "2019-03-30T05:15:38.800000",
          "2019-10-16T06:29:47",
          "2020-05-03T07:43:55.200000",
          "2020-11-19T08:58:03.400000",
          "2021-06-07T10:12:11.600000",
          "2021-12-24T11:26:19.800000",
          "2022-07-12T12:40:28",
          "2023-01-28T13:54:36.200000",
          "2023-08-16T15:08:44.400000",
          "2024-03-03T16:22:52.600000",
          "2024-09-19T17:37:00.800000"
         ],
         "y": [
          23,
          13,
          8,
          4,
          5,
          2,
          8,
          1,
          3,
          5,
          10,
          5,
          7,
          8,
          6,
          3,
          7,
          2,
          8,
          6
         ]
        },
        {
         "hoverinfo": "text",
         "hovertext": [
          "<b>Topic 44</b><br>Words: ez, ezlife, ezgame, noobz, pz",
          "<b>Topic 44</b><br>Words: ez, sik, don, jelly, coz",
          "<b>Topic 44</b><br>Words: ez, ftweq, oae, nsmkon, eqr",
          "<b>Topic 44</b><br>Words: ez, rtz, awsom, nobodyever, gg",
          "<b>Topic 44</b><br>Words: ez, ezzz, gg, tooo, praisesun",
          "<b>Topic 44</b><br>Words: ez, boi, heh, totally, okay",
          "<b>Topic 44</b><br>Words: ez, gg, buy, pz, ztg",
          "<b>Topic 44</b><br>Words: ez, tbh, gg, pz, ztg",
          "<b>Topic 44</b><br>Words: ez, gg, pz, ztg, like",
          "<b>Topic 44</b><br>Words: ez, tz, ztgrwestzgewrs, uz, ztg",
          "<b>Topic 44</b><br>Words: ez, ezz, ztg, ezpz, gg",
          "<b>Topic 44</b><br>Words: ez, lyef, ezy, gg, og",
          "<b>Topic 44</b><br>Words: ez, efsane, zor, ama, tbh",
          "<b>Topic 44</b><br>Words: ez, guzel, cok, gg, yawn",
          "<b>Topic 44</b><br>Words: ez, zzz, defo, gg, af",
          "<b>Topic 44</b><br>Words: ez, gane, gg, og, pz",
          "<b>Topic 44</b><br>Words: ez, zzzzzzzz, funz, gg, pz",
          "<b>Topic 44</b><br>Words: ez, meh, struggle, mode, gg",
          "<b>Topic 44</b><br>Words: ez, elmegy, goz, egynek, gg",
          "<b>Topic 44</b><br>Words: ez, pz, achieve, poison, achievement"
         ],
         "marker": {
          "color": "#009E73"
         },
         "mode": "lines",
         "name": "44_ez_gg_pz_ztg",
         "type": "scatter",
         "x": [
          "2014-04-20T18:06:56.036000",
          "2014-11-10T19:22:33.200000",
          "2015-05-29T20:36:41.400000",
          "2015-12-15T21:50:49.600000",
          "2016-07-02T23:04:57.800000",
          "2017-01-19T00:19:06",
          "2017-08-07T01:33:14.200000",
          "2018-02-23T02:47:22.400000",
          "2018-09-11T04:01:30.600000",
          "2019-03-30T05:15:38.800000",
          "2019-10-16T06:29:47",
          "2020-05-03T07:43:55.200000",
          "2020-11-19T08:58:03.400000",
          "2021-06-07T10:12:11.600000",
          "2021-12-24T11:26:19.800000",
          "2022-07-12T12:40:28",
          "2023-01-28T13:54:36.200000",
          "2023-08-16T15:08:44.400000",
          "2024-03-03T16:22:52.600000",
          "2024-09-19T17:37:00.800000"
         ],
         "y": [
          22,
          7,
          4,
          4,
          4,
          5,
          4,
          3,
          2,
          6,
          11,
          6,
          9,
          12,
          8,
          4,
          4,
          5,
          7,
          2
         ]
        },
        {
         "hoverinfo": "text",
         "hovertext": [
          "<b>Topic 45</b><br>Words: demon, eachother, satan, ride, molly",
          "<b>Topic 45</b><br>Words: demon, waist, aaa, fake, cash",
          "<b>Topic 45</b><br>Words: snowman, cult, demon, follow, course",
          "<b>Topic 45</b><br>Words: demon, misleading, progressively, fake, stunning",
          "<b>Topic 45</b><br>Words: demon, satisify, satanist, don, inovative",
          "<b>Topic 45</b><br>Words: kuess, atlus, isent, blasphemy, dk",
          "<b>Topic 45</b><br>Words: demon, popular, inferior, ready, tedious",
          "<b>Topic 45</b><br>Words: soulbourne, demon, today, garbage, include",
          "<b>Topic 45</b><br>Words: sikero, reshuffle, changed, demon, alongside",
          "<b>Topic 45</b><br>Words: waayyyy, demon, innovative, refine, opposite",
          "<b>Topic 45</b><br>Words: demon, pavement, fml, ground, underrated",
          "<b>Topic 45</b><br>Words: flack, capra, demon, call, real",
          "<b>Topic 45</b><br>Words: demon, fantastic, big, kill, enjoy",
          "<b>Topic 45</b><br>Words: server, finally, include, demon, favorite",
          "<b>Topic 45</b><br>Words: zeta, nov, sigma, cuck, demon",
          "<b>Topic 45</b><br>Words: don, demon, conventus, funky, tedium",
          "<b>Topic 45</b><br>Words: demon, reminiscent, undoubtedly, ambiance, market"
         ],
         "marker": {
          "color": "#F0E442"
         },
         "mode": "lines",
         "name": "45_demon_eachother_satan_ride",
         "type": "scatter",
         "x": [
          "2014-04-20T18:06:56.036000",
          "2014-11-10T19:22:33.200000",
          "2015-05-29T20:36:41.400000",
          "2015-12-15T21:50:49.600000",
          "2017-08-07T01:33:14.200000",
          "2018-02-23T02:47:22.400000",
          "2018-09-11T04:01:30.600000",
          "2019-03-30T05:15:38.800000",
          "2019-10-16T06:29:47",
          "2020-05-03T07:43:55.200000",
          "2020-11-19T08:58:03.400000",
          "2021-06-07T10:12:11.600000",
          "2021-12-24T11:26:19.800000",
          "2022-07-12T12:40:28",
          "2023-08-16T15:08:44.400000",
          "2024-03-03T16:22:52.600000",
          "2024-09-19T17:37:00.800000"
         ],
         "y": [
          49,
          8,
          4,
          6,
          6,
          4,
          4,
          3,
          3,
          7,
          8,
          3,
          3,
          1,
          4,
          10,
          5
         ]
        },
        {
         "hoverinfo": "text",
         "hovertext": [
          "<b>Topic 46</b><br>Words: ass, bad, say, good, ding",
          "<b>Topic 46</b><br>Words: greedy, imho, bad, ding, well",
          "<b>Topic 46</b><br>Words: bad, ding, bading, tarkov, conceivable",
          "<b>Topic 46</b><br>Words: way, bad, like, ding, bading",
          "<b>Topic 46</b><br>Words: bumble, kys, retard, bunch, bad",
          "<b>Topic 46</b><br>Words: general, cause, bad, worth, well",
          "<b>Topic 46</b><br>Words: salty, cuz, honestly, real, bad",
          "<b>Topic 46</b><br>Words: easily, bad, ding, bading, tarkov",
          "<b>Topic 46</b><br>Words: big, bad, great, ding, bading",
          "<b>Topic 46</b><br>Words: twist, par, cheese, pure, bad",
          "<b>Topic 46</b><br>Words: cute, girl, bad, ding, bading",
          "<b>Topic 46</b><br>Words: dreadful, rep, plain, bad, grow",
          "<b>Topic 46</b><br>Words: plin, histroy, plon, bad, co",
          "<b>Topic 46</b><br>Words: diffuculky, artificail, oen, ideo, bad",
          "<b>Topic 46</b><br>Words: obscene, imitation, unbelievably, recognize, twist",
          "<b>Topic 46</b><br>Words: conceivable, elaborate, bad, extremely, certainly",
          "<b>Topic 46</b><br>Words: tarkov, terribleness, conceivable, irredeemable, bad",
          "<b>Topic 46</b><br>Words: lololololololol, lolo, hurr, durr, be",
          "<b>Topic 46</b><br>Words: bade, muuuuchhhhh, bootylicious, ding, bad",
          "<b>Topic 46</b><br>Words: dond, ith, snowy, liek, cmon"
         ],
         "marker": {
          "color": "#D55E00"
         },
         "mode": "lines",
         "name": "46_bad_ding_bading_tarkov",
         "type": "scatter",
         "x": [
          "2014-04-20T18:06:56.036000",
          "2014-11-10T19:22:33.200000",
          "2015-05-29T20:36:41.400000",
          "2015-12-15T21:50:49.600000",
          "2016-07-02T23:04:57.800000",
          "2017-01-19T00:19:06",
          "2017-08-07T01:33:14.200000",
          "2018-02-23T02:47:22.400000",
          "2018-09-11T04:01:30.600000",
          "2019-03-30T05:15:38.800000",
          "2019-10-16T06:29:47",
          "2020-05-03T07:43:55.200000",
          "2020-11-19T08:58:03.400000",
          "2021-06-07T10:12:11.600000",
          "2021-12-24T11:26:19.800000",
          "2022-07-12T12:40:28",
          "2023-01-28T13:54:36.200000",
          "2023-08-16T15:08:44.400000",
          "2024-03-03T16:22:52.600000",
          "2024-09-19T17:37:00.800000"
         ],
         "y": [
          2,
          2,
          1,
          1,
          2,
          3,
          2,
          1,
          2,
          4,
          4,
          9,
          4,
          14,
          11,
          8,
          14,
          10,
          20,
          14
         ]
        },
        {
         "hoverinfo": "text",
         "hovertext": [
          "<b>Topic 47</b><br>Words: exact, like, wow, idk, noise",
          "<b>Topic 47</b><br>Words: like, idk, noise, there, exact",
          "<b>Topic 47</b><br>Words: like, idk, noise, there, exact",
          "<b>Topic 47</b><br>Words: like, idk, noise, there, exact",
          "<b>Topic 47</b><br>Words: like, idk, noise, there, exact",
          "<b>Topic 47</b><br>Words: lol, like, idk, noise, there",
          "<b>Topic 47</b><br>Words: like, idk, noise, there, exact",
          "<b>Topic 47</b><br>Words: like, idk, noise, there, exact",
          "<b>Topic 47</b><br>Words: like, idk, noise, there, exact",
          "<b>Topic 47</b><br>Words: idk, like, simply, noise, there",
          "<b>Topic 47</b><br>Words: like, idk, noise, there, exact",
          "<b>Topic 47</b><br>Words: don, like, idk, noise, there",
          "<b>Topic 47</b><br>Words: like, idk, noise, there, exact",
          "<b>Topic 47</b><br>Words: like, idk, noise, there, exact",
          "<b>Topic 47</b><br>Words: don, like, idk, noise, there",
          "<b>Topic 47</b><br>Words: noise, idk, like, there, exact",
          "<b>Topic 47</b><br>Words: like, shit, idk, noise, there",
          "<b>Topic 47</b><br>Words: grow, like, idk, noise, there",
          "<b>Topic 47</b><br>Words: like, idk, noise, there, exact"
         ],
         "marker": {
          "color": "#0072B2"
         },
         "mode": "lines",
         "name": "47_like_idk_noise_there",
         "type": "scatter",
         "x": [
          "2014-04-20T18:06:56.036000",
          "2014-11-10T19:22:33.200000",
          "2015-05-29T20:36:41.400000",
          "2015-12-15T21:50:49.600000",
          "2016-07-02T23:04:57.800000",
          "2017-08-07T01:33:14.200000",
          "2018-02-23T02:47:22.400000",
          "2018-09-11T04:01:30.600000",
          "2019-03-30T05:15:38.800000",
          "2019-10-16T06:29:47",
          "2020-05-03T07:43:55.200000",
          "2020-11-19T08:58:03.400000",
          "2021-06-07T10:12:11.600000",
          "2021-12-24T11:26:19.800000",
          "2022-07-12T12:40:28",
          "2023-01-28T13:54:36.200000",
          "2023-08-16T15:08:44.400000",
          "2024-03-03T16:22:52.600000",
          "2024-09-19T17:37:00.800000"
         ],
         "y": [
          11,
          6,
          2,
          3,
          4,
          3,
          1,
          5,
          4,
          4,
          3,
          10,
          13,
          7,
          6,
          11,
          9,
          10,
          12
         ]
        },
        {
         "hoverinfo": "text",
         "hovertext": [
          "<b>Topic 48</b><br>Words: invention, tenouttaten, ever, culminate, indepth",
          "<b>Topic 48</b><br>Words: don, midway, ofcourse, ever, fail",
          "<b>Topic 48</b><br>Words: wait, awesome, love, good, pretty",
          "<b>Topic 48</b><br>Words: trump, fave, realy, ever, history",
          "<b>Topic 48</b><br>Words: fav, period, easily, especially, ever",
          "<b>Topic 48</b><br>Words: awesome, amazing, good, play, buy",
          "<b>Topic 48</b><br>Words: good, play, ever, best, game",
          "<b>Topic 48</b><br>Words: challening, ever, good, best, game",
          "<b>Topic 48</b><br>Words: undoubtedly, history, ever, good, world",
          "<b>Topic 48</b><br>Words: good, ever, best, game, one",
          "<b>Topic 48</b><br>Words: arpgs, star, satisfying, memorable, create",
          "<b>Topic 48</b><br>Words: great, play, ever, best, game",
          "<b>Topic 48</b><br>Words: fcking, maybe, amazing, ever, far",
          "<b>Topic 48</b><br>Words: good, think, play, ever, best",
          "<b>Topic 48</b><br>Words: god, entire, consider, life, ever",
          "<b>Topic 48</b><br>Words: fav, truly, far, ever, play",
          "<b>Topic 48</b><br>Words: history, gaming, create, ever, best",
          "<b>Topic 48</b><br>Words: parkour, ever, best, game, one",
          "<b>Topic 48</b><br>Words: womp, oppressed, fav, poop, tracking",
          "<b>Topic 48</b><br>Words: exile, pinnacle, history, ever, sure"
         ],
         "marker": {
          "color": "#CC79A7"
         },
         "mode": "lines",
         "name": "48_ever_best_game_one",
         "type": "scatter",
         "x": [
          "2014-04-20T18:06:56.036000",
          "2014-11-10T19:22:33.200000",
          "2015-05-29T20:36:41.400000",
          "2015-12-15T21:50:49.600000",
          "2016-07-02T23:04:57.800000",
          "2017-01-19T00:19:06",
          "2017-08-07T01:33:14.200000",
          "2018-02-23T02:47:22.400000",
          "2018-09-11T04:01:30.600000",
          "2019-03-30T05:15:38.800000",
          "2019-10-16T06:29:47",
          "2020-05-03T07:43:55.200000",
          "2020-11-19T08:58:03.400000",
          "2021-06-07T10:12:11.600000",
          "2021-12-24T11:26:19.800000",
          "2022-07-12T12:40:28",
          "2023-01-28T13:54:36.200000",
          "2023-08-16T15:08:44.400000",
          "2024-03-03T16:22:52.600000",
          "2024-09-19T17:37:00.800000"
         ],
         "y": [
          30,
          11,
          5,
          11,
          6,
          5,
          2,
          3,
          5,
          1,
          6,
          1,
          7,
          4,
          3,
          6,
          3,
          2,
          7,
          5
         ]
        },
        {
         "hoverinfo": "text",
         "hovertext": [
          "<b>Topic 49</b><br>Words: iron, viagra, keep, swathe, fiery",
          "<b>Topic 49</b><br>Words: iron, keep, fuckedd, lool, keepo",
          "<b>Topic 49</b><br>Words: whyyyy, iron, passage, keep, never",
          "<b>Topic 49</b><br>Words: iron, room, past, spend, keep",
          "<b>Topic 49</b><br>Words: iron, passage, outskirt, frigid, keep",
          "<b>Topic 49</b><br>Words: irrrronrn, iron, keep, big, never",
          "<b>Topic 49</b><br>Words: brume, iron, tower, keep, never",
          "<b>Topic 49</b><br>Words: iron, ahem, billion, bastille, keep",
          "<b>Topic 49</b><br>Words: iron, keep, tf, continuation, passage",
          "<b>Topic 49</b><br>Words: iron, keep, neglect, crime, harvest",
          "<b>Topic 49</b><br>Words: iron, keep, oponent, singular, ngl",
          "<b>Topic 49</b><br>Words: iron, earthen, peak, keep, hate",
          "<b>Topic 49</b><br>Words: iron, keep, gansta, unspeakable, hotline",
          "<b>Topic 49</b><br>Words: iron, keep, thumbtack, jerry, have",
          "<b>Topic 49</b><br>Words: iron, keep, never, passage, smoking",
          "<b>Topic 49</b><br>Words: iron, keep, smd, farron, therapist"
         ],
         "marker": {
          "color": "#E69F00"
         },
         "mode": "lines",
         "name": "49_iron_keep_never_passage",
         "type": "scatter",
         "x": [
          "2014-04-20T18:06:56.036000",
          "2014-11-10T19:22:33.200000",
          "2015-05-29T20:36:41.400000",
          "2015-12-15T21:50:49.600000",
          "2016-07-02T23:04:57.800000",
          "2017-08-07T01:33:14.200000",
          "2019-03-30T05:15:38.800000",
          "2019-10-16T06:29:47",
          "2020-11-19T08:58:03.400000",
          "2021-06-07T10:12:11.600000",
          "2021-12-24T11:26:19.800000",
          "2022-07-12T12:40:28",
          "2023-01-28T13:54:36.200000",
          "2023-08-16T15:08:44.400000",
          "2024-03-03T16:22:52.600000",
          "2024-09-19T17:37:00.800000"
         ],
         "y": [
          3,
          3,
          1,
          2,
          2,
          1,
          1,
          1,
          7,
          7,
          10,
          3,
          17,
          17,
          24,
          22
         ]
        }
       ],
       "layout": {
        "height": 450,
        "hoverlabel": {
         "bgcolor": "white",
         "font": {
          "family": "Rockwell",
          "size": 16
         }
        },
        "legend": {
         "title": {
          "text": "<b>Global Topic Representation"
         }
        },
        "template": {
         "data": {
          "bar": [
           {
            "error_x": {
             "color": "rgb(36,36,36)"
            },
            "error_y": {
             "color": "rgb(36,36,36)"
            },
            "marker": {
             "line": {
              "color": "white",
              "width": 0.5
             },
             "pattern": {
              "fillmode": "overlay",
              "size": 10,
              "solidity": 0.2
             }
            },
            "type": "bar"
           }
          ],
          "barpolar": [
           {
            "marker": {
             "line": {
              "color": "white",
              "width": 0.5
             },
             "pattern": {
              "fillmode": "overlay",
              "size": 10,
              "solidity": 0.2
             }
            },
            "type": "barpolar"
           }
          ],
          "carpet": [
           {
            "aaxis": {
             "endlinecolor": "rgb(36,36,36)",
             "gridcolor": "white",
             "linecolor": "white",
             "minorgridcolor": "white",
             "startlinecolor": "rgb(36,36,36)"
            },
            "baxis": {
             "endlinecolor": "rgb(36,36,36)",
             "gridcolor": "white",
             "linecolor": "white",
             "minorgridcolor": "white",
             "startlinecolor": "rgb(36,36,36)"
            },
            "type": "carpet"
           }
          ],
          "choropleth": [
           {
            "colorbar": {
             "outlinewidth": 1,
             "tickcolor": "rgb(36,36,36)",
             "ticks": "outside"
            },
            "type": "choropleth"
           }
          ],
          "contour": [
           {
            "colorbar": {
             "outlinewidth": 1,
             "tickcolor": "rgb(36,36,36)",
             "ticks": "outside"
            },
            "colorscale": [
             [
              0,
              "#440154"
             ],
             [
              0.1111111111111111,
              "#482878"
             ],
             [
              0.2222222222222222,
              "#3e4989"
             ],
             [
              0.3333333333333333,
              "#31688e"
             ],
             [
              0.4444444444444444,
              "#26828e"
             ],
             [
              0.5555555555555556,
              "#1f9e89"
             ],
             [
              0.6666666666666666,
              "#35b779"
             ],
             [
              0.7777777777777778,
              "#6ece58"
             ],
             [
              0.8888888888888888,
              "#b5de2b"
             ],
             [
              1,
              "#fde725"
             ]
            ],
            "type": "contour"
           }
          ],
          "contourcarpet": [
           {
            "colorbar": {
             "outlinewidth": 1,
             "tickcolor": "rgb(36,36,36)",
             "ticks": "outside"
            },
            "type": "contourcarpet"
           }
          ],
          "heatmap": [
           {
            "colorbar": {
             "outlinewidth": 1,
             "tickcolor": "rgb(36,36,36)",
             "ticks": "outside"
            },
            "colorscale": [
             [
              0,
              "#440154"
             ],
             [
              0.1111111111111111,
              "#482878"
             ],
             [
              0.2222222222222222,
              "#3e4989"
             ],
             [
              0.3333333333333333,
              "#31688e"
             ],
             [
              0.4444444444444444,
              "#26828e"
             ],
             [
              0.5555555555555556,
              "#1f9e89"
             ],
             [
              0.6666666666666666,
              "#35b779"
             ],
             [
              0.7777777777777778,
              "#6ece58"
             ],
             [
              0.8888888888888888,
              "#b5de2b"
             ],
             [
              1,
              "#fde725"
             ]
            ],
            "type": "heatmap"
           }
          ],
          "heatmapgl": [
           {
            "colorbar": {
             "outlinewidth": 1,
             "tickcolor": "rgb(36,36,36)",
             "ticks": "outside"
            },
            "colorscale": [
             [
              0,
              "#440154"
             ],
             [
              0.1111111111111111,
              "#482878"
             ],
             [
              0.2222222222222222,
              "#3e4989"
             ],
             [
              0.3333333333333333,
              "#31688e"
             ],
             [
              0.4444444444444444,
              "#26828e"
             ],
             [
              0.5555555555555556,
              "#1f9e89"
             ],
             [
              0.6666666666666666,
              "#35b779"
             ],
             [
              0.7777777777777778,
              "#6ece58"
             ],
             [
              0.8888888888888888,
              "#b5de2b"
             ],
             [
              1,
              "#fde725"
             ]
            ],
            "type": "heatmapgl"
           }
          ],
          "histogram": [
           {
            "marker": {
             "line": {
              "color": "white",
              "width": 0.6
             }
            },
            "type": "histogram"
           }
          ],
          "histogram2d": [
           {
            "colorbar": {
             "outlinewidth": 1,
             "tickcolor": "rgb(36,36,36)",
             "ticks": "outside"
            },
            "colorscale": [
             [
              0,
              "#440154"
             ],
             [
              0.1111111111111111,
              "#482878"
             ],
             [
              0.2222222222222222,
              "#3e4989"
             ],
             [
              0.3333333333333333,
              "#31688e"
             ],
             [
              0.4444444444444444,
              "#26828e"
             ],
             [
              0.5555555555555556,
              "#1f9e89"
             ],
             [
              0.6666666666666666,
              "#35b779"
             ],
             [
              0.7777777777777778,
              "#6ece58"
             ],
             [
              0.8888888888888888,
              "#b5de2b"
             ],
             [
              1,
              "#fde725"
             ]
            ],
            "type": "histogram2d"
           }
          ],
          "histogram2dcontour": [
           {
            "colorbar": {
             "outlinewidth": 1,
             "tickcolor": "rgb(36,36,36)",
             "ticks": "outside"
            },
            "colorscale": [
             [
              0,
              "#440154"
             ],
             [
              0.1111111111111111,
              "#482878"
             ],
             [
              0.2222222222222222,
              "#3e4989"
             ],
             [
              0.3333333333333333,
              "#31688e"
             ],
             [
              0.4444444444444444,
              "#26828e"
             ],
             [
              0.5555555555555556,
              "#1f9e89"
             ],
             [
              0.6666666666666666,
              "#35b779"
             ],
             [
              0.7777777777777778,
              "#6ece58"
             ],
             [
              0.8888888888888888,
              "#b5de2b"
             ],
             [
              1,
              "#fde725"
             ]
            ],
            "type": "histogram2dcontour"
           }
          ],
          "mesh3d": [
           {
            "colorbar": {
             "outlinewidth": 1,
             "tickcolor": "rgb(36,36,36)",
             "ticks": "outside"
            },
            "type": "mesh3d"
           }
          ],
          "parcoords": [
           {
            "line": {
             "colorbar": {
              "outlinewidth": 1,
              "tickcolor": "rgb(36,36,36)",
              "ticks": "outside"
             }
            },
            "type": "parcoords"
           }
          ],
          "pie": [
           {
            "automargin": true,
            "type": "pie"
           }
          ],
          "scatter": [
           {
            "fillpattern": {
             "fillmode": "overlay",
             "size": 10,
             "solidity": 0.2
            },
            "type": "scatter"
           }
          ],
          "scatter3d": [
           {
            "line": {
             "colorbar": {
              "outlinewidth": 1,
              "tickcolor": "rgb(36,36,36)",
              "ticks": "outside"
             }
            },
            "marker": {
             "colorbar": {
              "outlinewidth": 1,
              "tickcolor": "rgb(36,36,36)",
              "ticks": "outside"
             }
            },
            "type": "scatter3d"
           }
          ],
          "scattercarpet": [
           {
            "marker": {
             "colorbar": {
              "outlinewidth": 1,
              "tickcolor": "rgb(36,36,36)",
              "ticks": "outside"
             }
            },
            "type": "scattercarpet"
           }
          ],
          "scattergeo": [
           {
            "marker": {
             "colorbar": {
              "outlinewidth": 1,
              "tickcolor": "rgb(36,36,36)",
              "ticks": "outside"
             }
            },
            "type": "scattergeo"
           }
          ],
          "scattergl": [
           {
            "marker": {
             "colorbar": {
              "outlinewidth": 1,
              "tickcolor": "rgb(36,36,36)",
              "ticks": "outside"
             }
            },
            "type": "scattergl"
           }
          ],
          "scattermapbox": [
           {
            "marker": {
             "colorbar": {
              "outlinewidth": 1,
              "tickcolor": "rgb(36,36,36)",
              "ticks": "outside"
             }
            },
            "type": "scattermapbox"
           }
          ],
          "scatterpolar": [
           {
            "marker": {
             "colorbar": {
              "outlinewidth": 1,
              "tickcolor": "rgb(36,36,36)",
              "ticks": "outside"
             }
            },
            "type": "scatterpolar"
           }
          ],
          "scatterpolargl": [
           {
            "marker": {
             "colorbar": {
              "outlinewidth": 1,
              "tickcolor": "rgb(36,36,36)",
              "ticks": "outside"
             }
            },
            "type": "scatterpolargl"
           }
          ],
          "scatterternary": [
           {
            "marker": {
             "colorbar": {
              "outlinewidth": 1,
              "tickcolor": "rgb(36,36,36)",
              "ticks": "outside"
             }
            },
            "type": "scatterternary"
           }
          ],
          "surface": [
           {
            "colorbar": {
             "outlinewidth": 1,
             "tickcolor": "rgb(36,36,36)",
             "ticks": "outside"
            },
            "colorscale": [
             [
              0,
              "#440154"
             ],
             [
              0.1111111111111111,
              "#482878"
             ],
             [
              0.2222222222222222,
              "#3e4989"
             ],
             [
              0.3333333333333333,
              "#31688e"
             ],
             [
              0.4444444444444444,
              "#26828e"
             ],
             [
              0.5555555555555556,
              "#1f9e89"
             ],
             [
              0.6666666666666666,
              "#35b779"
             ],
             [
              0.7777777777777778,
              "#6ece58"
             ],
             [
              0.8888888888888888,
              "#b5de2b"
             ],
             [
              1,
              "#fde725"
             ]
            ],
            "type": "surface"
           }
          ],
          "table": [
           {
            "cells": {
             "fill": {
              "color": "rgb(237,237,237)"
             },
             "line": {
              "color": "white"
             }
            },
            "header": {
             "fill": {
              "color": "rgb(217,217,217)"
             },
             "line": {
              "color": "white"
             }
            },
            "type": "table"
           }
          ]
         },
         "layout": {
          "annotationdefaults": {
           "arrowhead": 0,
           "arrowwidth": 1
          },
          "autotypenumbers": "strict",
          "coloraxis": {
           "colorbar": {
            "outlinewidth": 1,
            "tickcolor": "rgb(36,36,36)",
            "ticks": "outside"
           }
          },
          "colorscale": {
           "diverging": [
            [
             0,
             "rgb(103,0,31)"
            ],
            [
             0.1,
             "rgb(178,24,43)"
            ],
            [
             0.2,
             "rgb(214,96,77)"
            ],
            [
             0.3,
             "rgb(244,165,130)"
            ],
            [
             0.4,
             "rgb(253,219,199)"
            ],
            [
             0.5,
             "rgb(247,247,247)"
            ],
            [
             0.6,
             "rgb(209,229,240)"
            ],
            [
             0.7,
             "rgb(146,197,222)"
            ],
            [
             0.8,
             "rgb(67,147,195)"
            ],
            [
             0.9,
             "rgb(33,102,172)"
            ],
            [
             1,
             "rgb(5,48,97)"
            ]
           ],
           "sequential": [
            [
             0,
             "#440154"
            ],
            [
             0.1111111111111111,
             "#482878"
            ],
            [
             0.2222222222222222,
             "#3e4989"
            ],
            [
             0.3333333333333333,
             "#31688e"
            ],
            [
             0.4444444444444444,
             "#26828e"
            ],
            [
             0.5555555555555556,
             "#1f9e89"
            ],
            [
             0.6666666666666666,
             "#35b779"
            ],
            [
             0.7777777777777778,
             "#6ece58"
            ],
            [
             0.8888888888888888,
             "#b5de2b"
            ],
            [
             1,
             "#fde725"
            ]
           ],
           "sequentialminus": [
            [
             0,
             "#440154"
            ],
            [
             0.1111111111111111,
             "#482878"
            ],
            [
             0.2222222222222222,
             "#3e4989"
            ],
            [
             0.3333333333333333,
             "#31688e"
            ],
            [
             0.4444444444444444,
             "#26828e"
            ],
            [
             0.5555555555555556,
             "#1f9e89"
            ],
            [
             0.6666666666666666,
             "#35b779"
            ],
            [
             0.7777777777777778,
             "#6ece58"
            ],
            [
             0.8888888888888888,
             "#b5de2b"
            ],
            [
             1,
             "#fde725"
            ]
           ]
          },
          "colorway": [
           "#1F77B4",
           "#FF7F0E",
           "#2CA02C",
           "#D62728",
           "#9467BD",
           "#8C564B",
           "#E377C2",
           "#7F7F7F",
           "#BCBD22",
           "#17BECF"
          ],
          "font": {
           "color": "rgb(36,36,36)"
          },
          "geo": {
           "bgcolor": "white",
           "lakecolor": "white",
           "landcolor": "white",
           "showlakes": true,
           "showland": true,
           "subunitcolor": "white"
          },
          "hoverlabel": {
           "align": "left"
          },
          "hovermode": "closest",
          "mapbox": {
           "style": "light"
          },
          "paper_bgcolor": "white",
          "plot_bgcolor": "white",
          "polar": {
           "angularaxis": {
            "gridcolor": "rgb(232,232,232)",
            "linecolor": "rgb(36,36,36)",
            "showgrid": false,
            "showline": true,
            "ticks": "outside"
           },
           "bgcolor": "white",
           "radialaxis": {
            "gridcolor": "rgb(232,232,232)",
            "linecolor": "rgb(36,36,36)",
            "showgrid": false,
            "showline": true,
            "ticks": "outside"
           }
          },
          "scene": {
           "xaxis": {
            "backgroundcolor": "white",
            "gridcolor": "rgb(232,232,232)",
            "gridwidth": 2,
            "linecolor": "rgb(36,36,36)",
            "showbackground": true,
            "showgrid": false,
            "showline": true,
            "ticks": "outside",
            "zeroline": false,
            "zerolinecolor": "rgb(36,36,36)"
           },
           "yaxis": {
            "backgroundcolor": "white",
            "gridcolor": "rgb(232,232,232)",
            "gridwidth": 2,
            "linecolor": "rgb(36,36,36)",
            "showbackground": true,
            "showgrid": false,
            "showline": true,
            "ticks": "outside",
            "zeroline": false,
            "zerolinecolor": "rgb(36,36,36)"
           },
           "zaxis": {
            "backgroundcolor": "white",
            "gridcolor": "rgb(232,232,232)",
            "gridwidth": 2,
            "linecolor": "rgb(36,36,36)",
            "showbackground": true,
            "showgrid": false,
            "showline": true,
            "ticks": "outside",
            "zeroline": false,
            "zerolinecolor": "rgb(36,36,36)"
           }
          },
          "shapedefaults": {
           "fillcolor": "black",
           "line": {
            "width": 0
           },
           "opacity": 0.3
          },
          "ternary": {
           "aaxis": {
            "gridcolor": "rgb(232,232,232)",
            "linecolor": "rgb(36,36,36)",
            "showgrid": false,
            "showline": true,
            "ticks": "outside"
           },
           "baxis": {
            "gridcolor": "rgb(232,232,232)",
            "linecolor": "rgb(36,36,36)",
            "showgrid": false,
            "showline": true,
            "ticks": "outside"
           },
           "bgcolor": "white",
           "caxis": {
            "gridcolor": "rgb(232,232,232)",
            "linecolor": "rgb(36,36,36)",
            "showgrid": false,
            "showline": true,
            "ticks": "outside"
           }
          },
          "title": {
           "x": 0.05
          },
          "xaxis": {
           "automargin": true,
           "gridcolor": "rgb(232,232,232)",
           "linecolor": "rgb(36,36,36)",
           "showgrid": false,
           "showline": true,
           "ticks": "outside",
           "title": {
            "standoff": 15
           },
           "zeroline": false,
           "zerolinecolor": "rgb(36,36,36)"
          },
          "yaxis": {
           "automargin": true,
           "gridcolor": "rgb(232,232,232)",
           "linecolor": "rgb(36,36,36)",
           "showgrid": false,
           "showline": true,
           "ticks": "outside",
           "title": {
            "standoff": 15
           },
           "zeroline": false,
           "zerolinecolor": "rgb(36,36,36)"
          }
         }
        },
        "title": {
         "font": {
          "color": "Black",
          "size": 22
         },
         "text": "<b>Topics over Time</b>",
         "x": 0.4,
         "xanchor": "center",
         "y": 0.95,
         "yanchor": "top"
        },
        "width": 1250,
        "xaxis": {
         "showgrid": true
        },
        "yaxis": {
         "showgrid": true,
         "title": {
          "text": "Frequency"
         }
        }
       }
      }
     },
     "metadata": {},
     "output_type": "display_data"
    }
   ],
   "source": [
    "topic_model.visualize_topics_over_time(topics_over_time, top_n_topics=50)"
   ]
  },
  {
   "cell_type": "code",
   "execution_count": 12,
   "metadata": {},
   "outputs": [
    {
     "name": "stderr",
     "output_type": "stream",
     "text": [
      "5it [00:07,  1.40s/it]\n"
     ]
    }
   ],
   "source": [
    "topics_over_time = topic_model.topics_over_time(docs, extra_content_release, nr_bins=20)"
   ]
  },
  {
   "cell_type": "code",
   "execution_count": 13,
   "metadata": {},
   "outputs": [
    {
     "data": {
      "application/vnd.plotly.v1+json": {
       "config": {
        "plotlyServerURL": "https://plot.ly"
       },
       "data": [
        {
         "hoverinfo": "text",
         "hovertext": [
          "<b>Topic 0</b><br>Words: ow, show, till, , ",
          "<b>Topic 0</b><br>Words: ow, show, till, , ",
          "<b>Topic 0</b><br>Words: ow, show, till, , ",
          "<b>Topic 0</b><br>Words: ow, show, till, , ",
          "<b>Topic 0</b><br>Words: don, ow, show, till, ss"
         ],
         "marker": {
          "color": "#E69F00"
         },
         "mode": "lines",
         "name": "0_ow_show_till_",
         "type": "scatter",
         "x": [
          "2014-03-10T14:44:09.600000",
          "2014-07-04T19:12:00",
          "2014-08-12T09:36:00",
          "2014-09-20T00:00:00",
          "2015-03-12T16:48:00"
         ],
         "y": [
          88,
          13,
          12,
          39,
          1847
         ]
        },
        {
         "hoverinfo": "text",
         "hovertext": [
          "<b>Topic 1</b><br>Words: don, have, covenant, das, player",
          "<b>Topic 1</b><br>Words: don, bursss, haven, swag, have",
          "<b>Topic 1</b><br>Words: don, have, list, haven, covenant",
          "<b>Topic 1</b><br>Words: don, have, matrixdll, stamina, haven",
          "<b>Topic 1</b><br>Words: don, have, boss, haven, attack"
         ],
         "marker": {
          "color": "#56B4E9"
         },
         "mode": "lines",
         "name": "1_attack_area_enemy_player",
         "type": "scatter",
         "x": [
          "2014-03-10T14:44:09.600000",
          "2014-07-04T19:12:00",
          "2014-08-12T09:36:00",
          "2014-09-20T00:00:00",
          "2015-03-12T16:48:00"
         ],
         "y": [
          141,
          21,
          19,
          71,
          1108
         ]
        },
        {
         "hoverinfo": "text",
         "hovertext": [
          "<b>Topic 2</b><br>Words: good, ass, well, goodin, uwu",
          "<b>Topic 2</b><br>Words: good, goodin, uwu, lik, mm",
          "<b>Topic 2</b><br>Words: good, goodin, uwu, lik, mm",
          "<b>Topic 2</b><br>Words: good, pussy, goodin, uwu, lik",
          "<b>Topic 2</b><br>Words: good, well, goodin, don, uwu"
         ],
         "marker": {
          "color": "#009E73"
         },
         "mode": "lines",
         "name": "2_good_goodin_uwu_lik",
         "type": "scatter",
         "x": [
          "2014-03-10T14:44:09.600000",
          "2014-07-04T19:12:00",
          "2014-08-12T09:36:00",
          "2014-09-20T00:00:00",
          "2015-03-12T16:48:00"
         ],
         "y": [
          51,
          10,
          5,
          24,
          1216
         ]
        },
        {
         "hoverinfo": "text",
         "hovertext": [
          "<b>Topic 3</b><br>Words: que, jogo, de, primeiro, es",
          "<b>Topic 3</b><br>Words: ohohohohohoho, humerus, nito, prepare, real",
          "<b>Topic 3</b><br>Words: es, ajustar, pasarselo, desconhecido, mira",
          "<b>Topic 3</b><br>Words: de, que, jogo, et, le",
          "<b>Topic 3</b><br>Words: de, que, jogo, el, la"
         ],
         "marker": {
          "color": "#F0E442"
         },
         "mode": "lines",
         "name": "3_de_que_jogo_el",
         "type": "scatter",
         "x": [
          "2014-03-10T14:44:09.600000",
          "2014-07-04T19:12:00",
          "2014-08-12T09:36:00",
          "2014-09-20T00:00:00",
          "2015-03-12T16:48:00"
         ],
         "y": [
          15,
          1,
          3,
          8,
          411
         ]
        },
        {
         "hoverinfo": "text",
         "hovertext": [
          "<b>Topic 4</b><br>Words: yes, nope, frog, yesn, yessir",
          "<b>Topic 4</b><br>Words: yes, nope, yesn, yessir, frog",
          "<b>Topic 4</b><br>Words: yes, nope, yesn, yessir, frog",
          "<b>Topic 4</b><br>Words: yes, nope, yesn, yessir, frog",
          "<b>Topic 4</b><br>Words: yes, nope, yesn, yessir, thank"
         ],
         "marker": {
          "color": "#D55E00"
         },
         "mode": "lines",
         "name": "4_yes_nope_yesn_yessir",
         "type": "scatter",
         "x": [
          "2014-03-10T14:44:09.600000",
          "2014-07-04T19:12:00",
          "2014-08-12T09:36:00",
          "2014-09-20T00:00:00",
          "2015-03-12T16:48:00"
         ],
         "y": [
          24,
          1,
          2,
          10,
          392
         ]
        },
        {
         "hoverinfo": "text",
         "hovertext": [
          "<b>Topic 5</b><br>Words: best, good, well, everrrrrrrrrrrrrrrrrrrrrrrrrrrrrrrrrrrrrrrrrrrrrrrrrrrrrrrrrrrrrrrrrrrrrrrrrrrrrrrrrrrrrrrrrrrrrrrrrrrrrrr, proper",
          "<b>Topic 5</b><br>Words: good, best, everrrrrrrrrrrrrrrrrrrrrrrrrrrrrrrrrrrrrrrrrrrrrrrrrrrrrrrrrrrrrrrrrrrrrrrrrrrrrrrrrrrrrrrrrrrrrrrrrrrrrrr, proper, job",
          "<b>Topic 5</b><br>Words: best, everrrrrrrrrrrrrrrrrrrrrrrrrrrrrrrrrrrrrrrrrrrrrrrrrrrrrrrrrrrrrrrrrrrrrrrrrrrrrrrrrrrrrrrrrrrrrrrrrrrrrrr, proper, job, good",
          "<b>Topic 5</b><br>Words: best, don, good, everrrrrrrrrrrrrrrrrrrrrrrrrrrrrrrrrrrrrrrrrrrrrrrrrrrrrrrrrrrrrrrrrrrrrrrrrrrrrrrrrrrrrrrrrrrrrrrrrrrrrrr, well"
         ],
         "marker": {
          "color": "#0072B2"
         },
         "mode": "lines",
         "name": "5_best_everrrrrrrrrrrrrrrrrrrrrrrrrrrrrr...",
         "type": "scatter",
         "x": [
          "2014-03-10T14:44:09.600000",
          "2014-07-04T19:12:00",
          "2014-09-20T00:00:00",
          "2015-03-12T16:48:00"
         ],
         "y": [
          13,
          1,
          5,
          396
         ]
        },
        {
         "hoverinfo": "text",
         "hovertext": [
          "<b>Topic 6</b><br>Words: pvp, pve, funnyer, shindig, exploere",
          "<b>Topic 6</b><br>Words: pvp, moar, pve, hexes, resonant",
          "<b>Topic 6</b><br>Words: don, deth, pvp, have, closet",
          "<b>Topic 6</b><br>Words: pvp, pve, ice, slighly, bugginess",
          "<b>Topic 6</b><br>Words: pvp, don, pve, hundo, singleplayer"
         ],
         "marker": {
          "color": "#CC79A7"
         },
         "mode": "lines",
         "name": "6_pvp_pve_best_hundo",
         "type": "scatter",
         "x": [
          "2014-03-10T14:44:09.600000",
          "2014-07-04T19:12:00",
          "2014-08-12T09:36:00",
          "2014-09-20T00:00:00",
          "2015-03-12T16:48:00"
         ],
         "y": [
          51,
          11,
          10,
          30,
          306
         ]
        },
        {
         "hoverinfo": "text",
         "hovertext": [
          "<b>Topic 7</b><br>Words: miyazaki, don, hidetaka, labrynth, solaire",
          "<b>Topic 7</b><br>Words: goodl, helicopter, drakekeeper, don, exmaple",
          "<b>Topic 7</b><br>Words: burger, film, miyazaki, grease, team",
          "<b>Topic 7</b><br>Words: miyazaki, don, hidetaka, direct, director"
         ],
         "marker": {
          "color": "#E69F00"
         },
         "mode": "lines",
         "name": "7_miyazaki_hidetaka_direct_director",
         "type": "scatter",
         "x": [
          "2014-03-10T14:44:09.600000",
          "2014-07-04T19:12:00",
          "2014-09-20T00:00:00",
          "2015-03-12T16:48:00"
         ],
         "y": [
          13,
          3,
          6,
          364
         ]
        },
        {
         "hoverinfo": "text",
         "hovertext": [
          "<b>Topic 8</b><br>Words: challenge, challenging, don, centry, mechancial",
          "<b>Topic 8</b><br>Words: challenging, challenge, definently, funn, ole",
          "<b>Topic 8</b><br>Words: challenge, pant, entertaining, challenging, prove",
          "<b>Topic 8</b><br>Words: challenge, challenging, don, defenately, analytical",
          "<b>Topic 8</b><br>Words: challenge, challenging, don, fun, amazing"
         ],
         "marker": {
          "color": "#56B4E9"
         },
         "mode": "lines",
         "name": "8_challenge_challenging_fun_amazing",
         "type": "scatter",
         "x": [
          "2014-03-10T14:44:09.600000",
          "2014-07-04T19:12:00",
          "2014-08-12T09:36:00",
          "2014-09-20T00:00:00",
          "2015-03-12T16:48:00"
         ],
         "y": [
          70,
          13,
          6,
          37,
          215
         ]
        },
        {
         "hoverinfo": "text",
         "hovertext": [
          "<b>Topic 9</b><br>Words: sun, praise, blah, hole, revengeance",
          "<b>Topic 9</b><br>Words: sun, praise, adherent, sunlight, bust",
          "<b>Topic 9</b><br>Words: sun, praise, weild, fist, dual",
          "<b>Topic 9</b><br>Words: sun, praise, praising, edit, blah",
          "<b>Topic 9</b><br>Words: sun, praise, blah, eighty, hole"
         ],
         "marker": {
          "color": "#009E73"
         },
         "mode": "lines",
         "name": "9_sun_praise_blah_hole",
         "type": "scatter",
         "x": [
          "2014-03-10T14:44:09.600000",
          "2014-07-04T19:12:00",
          "2014-08-12T09:36:00",
          "2014-09-20T00:00:00",
          "2015-03-12T16:48:00"
         ],
         "y": [
          83,
          10,
          6,
          18,
          196
         ]
        },
        {
         "hoverinfo": "text",
         "hovertext": [
          "<b>Topic 10</b><br>Words: darksouls, darksoul, verdigris, darke, strongely",
          "<b>Topic 10</b><br>Words: darksoulsii, exe, darksoul, letdown, darksouls",
          "<b>Topic 10</b><br>Words: sorta, unbalanced, darksouls, hey, setting",
          "<b>Topic 10</b><br>Words: darksouls, darkfog, hgue, darksoul, dosent",
          "<b>Topic 10</b><br>Words: darksouls, darksoul, don, john, darklurker"
         ],
         "marker": {
          "color": "#F0E442"
         },
         "mode": "lines",
         "name": "10_darksouls_darksoul_dark_john",
         "type": "scatter",
         "x": [
          "2014-03-10T14:44:09.600000",
          "2014-07-04T19:12:00",
          "2014-08-12T09:36:00",
          "2014-09-20T00:00:00",
          "2015-03-12T16:48:00"
         ],
         "y": [
          31,
          3,
          1,
          9,
          265
         ]
        },
        {
         "hoverinfo": "text",
         "hovertext": [
          "<b>Topic 11</b><br>Words: great, fking, greattttt, greatttttt, outta",
          "<b>Topic 11</b><br>Words: great, fking, greattttt, greatttttt, outta",
          "<b>Topic 11</b><br>Words: great, fking, greattttt, greatttttt, outta",
          "<b>Topic 11</b><br>Words: great, fking, greattttt, greatttttt, outta",
          "<b>Topic 11</b><br>Words: great, greattttt, greatttttt, fking, outta"
         ],
         "marker": {
          "color": "#D55E00"
         },
         "mode": "lines",
         "name": "11_great_fking_greatttttt_greattttt",
         "type": "scatter",
         "x": [
          "2014-03-10T14:44:09.600000",
          "2014-07-04T19:12:00",
          "2014-08-12T09:36:00",
          "2014-09-20T00:00:00",
          "2015-03-12T16:48:00"
         ],
         "y": [
          30,
          4,
          3,
          15,
          248
         ]
        },
        {
         "hoverinfo": "text",
         "hovertext": [
          "<b>Topic 12</b><br>Words: don, buy, sale, regret, fune",
          "<b>Topic 12</b><br>Words: amazed, horny, awesomeness, angry, mad",
          "<b>Topic 12</b><br>Words: guyz, sweet, twice, buy, sale",
          "<b>Topic 12</b><br>Words: don, buy, twice, sale, ike",
          "<b>Topic 12</b><br>Words: don, buy, sale, twice, price"
         ],
         "marker": {
          "color": "#0072B2"
         },
         "mode": "lines",
         "name": "12_buy_sale_twice_bought",
         "type": "scatter",
         "x": [
          "2014-03-10T14:44:09.600000",
          "2014-07-04T19:12:00",
          "2014-08-12T09:36:00",
          "2014-09-20T00:00:00",
          "2015-03-12T16:48:00"
         ],
         "y": [
          53,
          3,
          2,
          21,
          213
         ]
        },
        {
         "hoverinfo": "text",
         "hovertext": [
          "<b>Topic 13</b><br>Words: die, willl, nutshell, owie, stuff",
          "<b>Topic 13</b><br>Words: die, owie, finna, willl, tire",
          "<b>Topic 13</b><br>Words: die, owie, finna, willl, tire",
          "<b>Topic 13</b><br>Words: die, slug, eat, massive, owie",
          "<b>Topic 13</b><br>Words: die, owie, finna, tired, don"
         ],
         "marker": {
          "color": "#CC79A7"
         },
         "mode": "lines",
         "name": "13_die_owie_finna_willl",
         "type": "scatter",
         "x": [
          "2014-03-10T14:44:09.600000",
          "2014-07-04T19:12:00",
          "2014-08-12T09:36:00",
          "2014-09-20T00:00:00",
          "2015-03-12T16:48:00"
         ],
         "y": [
          53,
          6,
          8,
          22,
          196
         ]
        },
        {
         "hoverinfo": "text",
         "hovertext": [
          "<b>Topic 14</b><br>Words: sun, praise, don, sunlight, praising",
          "<b>Topic 14</b><br>Words: sun, don, praise, priase, wondrous",
          "<b>Topic 14</b><br>Words: sun, praise, suceed, adversity, bother",
          "<b>Topic 14</b><br>Words: sun, praise, consist, dontu, lagstabbing",
          "<b>Topic 14</b><br>Words: sun, praise, sunbro, sunlight, medal"
         ],
         "marker": {
          "color": "#E69F00"
         },
         "mode": "lines",
         "name": "14_sun_praise_sunlight_sunbro",
         "type": "scatter",
         "x": [
          "2014-03-10T14:44:09.600000",
          "2014-07-04T19:12:00",
          "2014-08-12T09:36:00",
          "2014-09-20T00:00:00",
          "2015-03-12T16:48:00"
         ],
         "y": [
          85,
          11,
          4,
          18,
          152
         ]
        },
        {
         "hoverinfo": "text",
         "hovertext": [
          "<b>Topic 15</b><br>Words: toro, guerillimo, dlc, rekindle, des",
          "<b>Topic 15</b><br>Words: don, adition, recommand, trully, imagination",
          "<b>Topic 15</b><br>Words: hench, foreward, belt, dlc, casually",
          "<b>Topic 15</b><br>Words: dlc, puchase, fuffilling, don, omg",
          "<b>Topic 15</b><br>Words: dlc, don, dlcs, content, base"
         ],
         "marker": {
          "color": "#56B4E9"
         },
         "mode": "lines",
         "name": "15_dlc_dlcs_content_base",
         "type": "scatter",
         "x": [
          "2014-03-10T14:44:09.600000",
          "2014-07-04T19:12:00",
          "2014-08-12T09:36:00",
          "2014-09-20T00:00:00",
          "2015-03-12T16:48:00"
         ],
         "y": [
          7,
          2,
          7,
          16,
          235
         ]
        },
        {
         "hoverinfo": "text",
         "hovertext": [
          "<b>Topic 16</b><br>Words: expiration, erroneous, hitboxes, blisteringly, hitbox",
          "<b>Topic 16</b><br>Words: lagstab, hitbox, glitch, hell, real",
          "<b>Topic 16</b><br>Words: ok, biscuit, wierd, hitbox, tea",
          "<b>Topic 16</b><br>Words: hitbox, box, hitboxes, don, hit"
         ],
         "marker": {
          "color": "#009E73"
         },
         "mode": "lines",
         "name": "16_hitboxes_hitbox_box_hit",
         "type": "scatter",
         "x": [
          "2014-03-10T14:44:09.600000",
          "2014-07-04T19:12:00",
          "2014-09-20T00:00:00",
          "2015-03-12T16:48:00"
         ],
         "y": [
          9,
          2,
          4,
          246
         ]
        },
        {
         "hoverinfo": "text",
         "hovertext": [
          "<b>Topic 17</b><br>Words: fun, crazy, know, people, cassual",
          "<b>Topic 17</b><br>Words: fun, cassual, funnn, ha, spambush",
          "<b>Topic 17</b><br>Words: fun, cassual, funnn, ha, spambush",
          "<b>Topic 17</b><br>Words: fun, cassual, funnn, ha, spambush",
          "<b>Topic 17</b><br>Words: fun, cassual, funnn, ha, spambush"
         ],
         "marker": {
          "color": "#F0E442"
         },
         "mode": "lines",
         "name": "17_fun_cassual_funnn_ha",
         "type": "scatter",
         "x": [
          "2014-03-10T14:44:09.600000",
          "2014-07-04T19:12:00",
          "2014-08-12T09:36:00",
          "2014-09-20T00:00:00",
          "2015-03-12T16:48:00"
         ],
         "y": [
          10,
          1,
          1,
          2,
          236
         ]
        },
        {
         "hoverinfo": "text",
         "hovertext": [
          "<b>Topic 18</b><br>Words: git, gud, dye, serwery, jihad",
          "<b>Topic 18</b><br>Words: git, gud, seperate, casual, giood",
          "<b>Topic 18</b><br>Words: git, gud, jihad, gitgud, read",
          "<b>Topic 18</b><br>Words: git, gud, oddajcie, hreatest, phag"
         ],
         "marker": {
          "color": "#D55E00"
         },
         "mode": "lines",
         "name": "18_git_gud_hreatest_gits",
         "type": "scatter",
         "x": [
          "2014-03-10T14:44:09.600000",
          "2014-07-04T19:12:00",
          "2014-09-20T00:00:00",
          "2015-03-12T16:48:00"
         ],
         "y": [
          16,
          3,
          4,
          221
         ]
        },
        {
         "hoverinfo": "text",
         "hovertext": [
          "<b>Topic 19</b><br>Words: nice, niceeeeeeeeeee, yi, yes, yeah",
          "<b>Topic 19</b><br>Words: nice, niceeeeeeeeeee, yi, yes, yeah",
          "<b>Topic 19</b><br>Words: nice, yeah, yes, niceeeeeeeeeee, yi",
          "<b>Topic 19</b><br>Words: nice, niceeeeeeeeeee, yi, yes, yeah"
         ],
         "marker": {
          "color": "#0072B2"
         },
         "mode": "lines",
         "name": "19_nice_niceeeeeeeeeee_yi_yes",
         "type": "scatter",
         "x": [
          "2014-03-10T14:44:09.600000",
          "2014-08-12T09:36:00",
          "2014-09-20T00:00:00",
          "2015-03-12T16:48:00"
         ],
         "y": [
          6,
          1,
          4,
          223
         ]
        },
        {
         "hoverinfo": "text",
         "hovertext": [
          "<b>Topic 20</b><br>Words: bad, scary, wasnt, sorry, meh",
          "<b>Topic 20</b><br>Words: bad, scary, wasnt, sorry, meh",
          "<b>Topic 20</b><br>Words: bad, scary, sorry, meh, actually"
         ],
         "marker": {
          "color": "#CC79A7"
         },
         "mode": "lines",
         "name": "20_bad_scary_wasnt_sorry",
         "type": "scatter",
         "x": [
          "2014-03-10T14:44:09.600000",
          "2014-09-20T00:00:00",
          "2015-03-12T16:48:00"
         ],
         "y": [
          3,
          2,
          229
         ]
        },
        {
         "hoverinfo": "text",
         "hovertext": [
          "<b>Topic 21</b><br>Words: port, don, pc, console, xbox",
          "<b>Topic 21</b><br>Words: port, joystick, downward, menu, convert",
          "<b>Topic 21</b><br>Words: window, live, port, decent, fantastic",
          "<b>Topic 21</b><br>Words: port, don, console, pc, button",
          "<b>Topic 21</b><br>Words: port, don, pc, console, keyboard"
         ],
         "marker": {
          "color": "#E69F00"
         },
         "mode": "lines",
         "name": "21_port_pc_console_keyboard",
         "type": "scatter",
         "x": [
          "2014-03-10T14:44:09.600000",
          "2014-07-04T19:12:00",
          "2014-08-12T09:36:00",
          "2014-09-20T00:00:00",
          "2015-03-12T16:48:00"
         ],
         "y": [
          85,
          4,
          1,
          22,
          105
         ]
        },
        {
         "hoverinfo": "text",
         "hovertext": [
          "<b>Topic 22</b><br>Words: rage, induce, anger, quit, angry",
          "<b>Topic 22</b><br>Words: rage, tourette, uncountable, esteem, quit",
          "<b>Topic 22</b><br>Words: rage, conditon, squid, uncontrollable, quit",
          "<b>Topic 22</b><br>Words: rage, don, quit, anger, fury",
          "<b>Topic 22</b><br>Words: rage, anger, quit, induce, angry"
         ],
         "marker": {
          "color": "#56B4E9"
         },
         "mode": "lines",
         "name": "22_rage_anger_quit_angry",
         "type": "scatter",
         "x": [
          "2014-03-10T14:44:09.600000",
          "2014-07-04T19:12:00",
          "2014-08-12T09:36:00",
          "2014-09-20T00:00:00",
          "2015-03-12T16:48:00"
         ],
         "y": [
          43,
          6,
          5,
          21,
          132
         ]
        },
        {
         "hoverinfo": "text",
         "hovertext": [
          "<b>Topic 23</b><br>Words: bestes, ever, good, category, best",
          "<b>Topic 23</b><br>Words: good, ever, best, sombre, everrrrrrrrrr",
          "<b>Topic 23</b><br>Words: everrrrrrrrrr, aloud, ever, pussy, fuckin",
          "<b>Topic 23</b><br>Words: shet, horry, ever, best, good",
          "<b>Topic 23</b><br>Words: ever, best, sombre, good, greatt"
         ],
         "marker": {
          "color": "#009E73"
         },
         "mode": "lines",
         "name": "23_ever_best_sombre_shet",
         "type": "scatter",
         "x": [
          "2014-03-10T14:44:09.600000",
          "2014-07-04T19:12:00",
          "2014-08-12T09:36:00",
          "2014-09-20T00:00:00",
          "2015-03-12T16:48:00"
         ],
         "y": [
          49,
          3,
          9,
          18,
          126
         ]
        },
        {
         "hoverinfo": "text",
         "hovertext": [
          "<b>Topic 24</b><br>Words: rpg, rpgs, action, fantasy, haven",
          "<b>Topic 24</b><br>Words: rpg, action, portuguese, brazilian, possibility",
          "<b>Topic 24</b><br>Words: rpg, action, fantasy, rpgs, incredible",
          "<b>Topic 24</b><br>Words: rpg, action, broad, fullfillment, olmost",
          "<b>Topic 24</b><br>Words: rpg, action, rpgs, fantasy, don"
         ],
         "marker": {
          "color": "#F0E442"
         },
         "mode": "lines",
         "name": "24_rpg_action_rpgs_fantasy",
         "type": "scatter",
         "x": [
          "2014-03-10T14:44:09.600000",
          "2014-07-04T19:12:00",
          "2014-08-12T09:36:00",
          "2014-09-20T00:00:00",
          "2015-03-12T16:48:00"
         ],
         "y": [
          54,
          10,
          6,
          23,
          104
         ]
        },
        {
         "hoverinfo": "text",
         "hovertext": [
          "<b>Topic 25</b><br>Words: soulsborne, soulsbourne, don, soulsgame, soulslike"
         ],
         "marker": {
          "color": "#D55E00"
         },
         "mode": "lines",
         "name": "25_soulsborne_soulsbourne_soulsgame_soul...",
         "type": "scatter",
         "x": [
          "2015-03-12T16:48:00"
         ],
         "y": [
          192
         ]
        },
        {
         "hoverinfo": "text",
         "hovertext": [
          "<b>Topic 26</b><br>Words: controller, vibrate, break, monitor, shit",
          "<b>Topic 26</b><br>Words: don, eng, controller, aggravate, pls",
          "<b>Topic 26</b><br>Words: moniter, controller, hype, rating, worthy",
          "<b>Topic 26</b><br>Words: controller, rager, nuff, mins, brake",
          "<b>Topic 26</b><br>Words: controller, break, don, smash, bubble"
         ],
         "marker": {
          "color": "#0072B2"
         },
         "mode": "lines",
         "name": "26_controller_break_smash_bubble",
         "type": "scatter",
         "x": [
          "2014-03-10T14:44:09.600000",
          "2014-07-04T19:12:00",
          "2014-08-12T09:36:00",
          "2014-09-20T00:00:00",
          "2015-03-12T16:48:00"
         ],
         "y": [
          52,
          3,
          4,
          11,
          114
         ]
        },
        {
         "hoverinfo": "text",
         "hovertext": [
          "<b>Topic 27</b><br>Words: don, review, approve, jong, uncasual",
          "<b>Topic 27</b><br>Words: review, negative, don, robert, classy",
          "<b>Topic 27</b><br>Words: review, don, negative, approve, rate"
         ],
         "marker": {
          "color": "#CC79A7"
         },
         "mode": "lines",
         "name": "27_review_negative_approves_approve",
         "type": "scatter",
         "x": [
          "2014-03-10T14:44:09.600000",
          "2014-09-20T00:00:00",
          "2015-03-12T16:48:00"
         ],
         "y": [
          15,
          13,
          154
         ]
        },
        {
         "hoverinfo": "text",
         "hovertext": [
          "<b>Topic 28</b><br>Words: hate, ing, thanks, homies, platinumed",
          "<b>Topic 28</b><br>Words: hate, ing, thanks, homies, platinumed",
          "<b>Topic 28</b><br>Words: hate, ing, thanks, homies, platinumed",
          "<b>Topic 28</b><br>Words: hate, ing, thanks, homies, platinumed",
          "<b>Topic 28</b><br>Words: hate, ing, fking, undeserved, don"
         ],
         "marker": {
          "color": "#E69F00"
         },
         "mode": "lines",
         "name": "28_hate_ing_thanks_homies",
         "type": "scatter",
         "x": [
          "2014-03-10T14:44:09.600000",
          "2014-07-04T19:12:00",
          "2014-08-12T09:36:00",
          "2014-09-20T00:00:00",
          "2015-03-12T16:48:00"
         ],
         "y": [
          7,
          1,
          2,
          1,
          166
         ]
        },
        {
         "hoverinfo": "text",
         "hovertext": [
          "<b>Topic 29</b><br>Words: ok, oka, wowcool, iz, ya",
          "<b>Topic 29</b><br>Words: ok, oka, wowcool, iz, ya",
          "<b>Topic 29</b><br>Words: ok, oka, wowcool, iz, ya",
          "<b>Topic 29</b><br>Words: ok, oka, wowcool, iz, ya",
          "<b>Topic 29</b><br>Words: ok, oka, wowcool, iz, ya"
         ],
         "marker": {
          "color": "#56B4E9"
         },
         "mode": "lines",
         "name": "29_ok_wowcool_oka_iz",
         "type": "scatter",
         "x": [
          "2014-03-10T14:44:09.600000",
          "2014-07-04T19:12:00",
          "2014-08-12T09:36:00",
          "2014-09-20T00:00:00",
          "2015-03-12T16:48:00"
         ],
         "y": [
          14,
          4,
          2,
          11,
          145
         ]
        },
        {
         "hoverinfo": "text",
         "hovertext": [
          "<b>Topic 30</b><br>Words: keyboard, don, mouse, control, controller",
          "<b>Topic 30</b><br>Words: keyboard, mouse, have, literaly, insulting",
          "<b>Topic 30</b><br>Words: mouse, keyboard, sani, doller, print",
          "<b>Topic 30</b><br>Words: keyboard, mouse, don, control, unplayable"
         ],
         "marker": {
          "color": "#009E73"
         },
         "mode": "lines",
         "name": "30_keyboard_mouse_control_unplayable",
         "type": "scatter",
         "x": [
          "2014-03-10T14:44:09.600000",
          "2014-07-04T19:12:00",
          "2014-09-20T00:00:00",
          "2015-03-12T16:48:00"
         ],
         "y": [
          48,
          4,
          6,
          116
         ]
        },
        {
         "hoverinfo": "text",
         "hovertext": [
          "<b>Topic 31</b><br>Words: gud, relly, gude, lief, gued",
          "<b>Topic 31</b><br>Words: gued, gud, super, gude, guwd",
          "<b>Topic 31</b><br>Words: ittttttttt, gud, gude, lief, gued",
          "<b>Topic 31</b><br>Words: gud, es, gude, gued, guwd",
          "<b>Topic 31</b><br>Words: gud, gude, guwd, lief, augh"
         ],
         "marker": {
          "color": "#F0E442"
         },
         "mode": "lines",
         "name": "31_gud_gude_lief_gued",
         "type": "scatter",
         "x": [
          "2014-03-10T14:44:09.600000",
          "2014-07-04T19:12:00",
          "2014-08-12T09:36:00",
          "2014-09-20T00:00:00",
          "2015-03-12T16:48:00"
         ],
         "y": [
          4,
          2,
          1,
          3,
          160
         ]
        },
        {
         "hoverinfo": "text",
         "hovertext": [
          "<b>Topic 32</b><br>Words: recommend, gay, bcuz, highly, soo",
          "<b>Topic 32</b><br>Words: solaire, recommend, highly, recommended, recomended",
          "<b>Topic 32</b><br>Words: recommend, highly, yes, die, recommended",
          "<b>Topic 32</b><br>Words: recommend, crazy, totally, yeah, ok",
          "<b>Topic 32</b><br>Words: recommend, highly, don, reef, souldbourne"
         ],
         "marker": {
          "color": "#D55E00"
         },
         "mode": "lines",
         "name": "32_recommend_highly_recommended_recomend...",
         "type": "scatter",
         "x": [
          "2014-03-10T14:44:09.600000",
          "2014-07-04T19:12:00",
          "2014-08-12T09:36:00",
          "2014-09-20T00:00:00",
          "2015-03-12T16:48:00"
         ],
         "y": [
          18,
          1,
          4,
          8,
          139
         ]
        },
        {
         "hoverinfo": "text",
         "hovertext": [
          "<b>Topic 33</b><br>Words: love, grrrrr, fkin, frist, geforce",
          "<b>Topic 33</b><br>Words: love, grrrrr, fkin, frist, geforce",
          "<b>Topic 33</b><br>Words: love, grrrrr, fkin, frist, geforce",
          "<b>Topic 33</b><br>Words: love, grrrrr, fkin, frist, geforce",
          "<b>Topic 33</b><br>Words: love, grrrrr, fkin, frist, geforce"
         ],
         "marker": {
          "color": "#0072B2"
         },
         "mode": "lines",
         "name": "33_love_grrrrr_frist_fkin",
         "type": "scatter",
         "x": [
          "2014-03-10T14:44:09.600000",
          "2014-07-04T19:12:00",
          "2014-08-12T09:36:00",
          "2014-09-20T00:00:00",
          "2015-03-12T16:48:00"
         ],
         "y": [
          14,
          3,
          2,
          11,
          132
         ]
        },
        {
         "hoverinfo": "text",
         "hovertext": [
          "<b>Topic 34</b><br>Words: haven, soulless, merely, apparently, bad",
          "<b>Topic 34</b><br>Words: don, haha, xd, kick, plus",
          "<b>Topic 34</b><br>Words: don, bad, displeasure, play, terrible"
         ],
         "marker": {
          "color": "#CC79A7"
         },
         "mode": "lines",
         "name": "34_bad_ever_ive_displeasure",
         "type": "scatter",
         "x": [
          "2014-03-10T14:44:09.600000",
          "2014-09-20T00:00:00",
          "2015-03-12T16:48:00"
         ],
         "y": [
          8,
          1,
          148
         ]
        },
        {
         "hoverinfo": "text",
         "hovertext": [
          "<b>Topic 35</b><br>Words: janky, jank, don, helpless, jankier"
         ],
         "marker": {
          "color": "#E69F00"
         },
         "mode": "lines",
         "name": "35_janky_jank_helpless_jankier",
         "type": "scatter",
         "x": [
          "2015-03-12T16:48:00"
         ],
         "y": [
          155
         ]
        },
        {
         "hoverinfo": "text",
         "hovertext": [
          "<b>Topic 36</b><br>Words: die, washing, pole, would, definately",
          "<b>Topic 36</b><br>Words: cry, flask, die, would, ruuined",
          "<b>Topic 36</b><br>Words: die, would, ruuined, rape, bladder",
          "<b>Topic 36</b><br>Words: rape, die, bladder, would, burst",
          "<b>Topic 36</b><br>Words: die, would, tenouttaten, somebody, genocide"
         ],
         "marker": {
          "color": "#56B4E9"
         },
         "mode": "lines",
         "name": "36_would_die_ruuined_rape",
         "type": "scatter",
         "x": [
          "2014-03-10T14:44:09.600000",
          "2014-07-04T19:12:00",
          "2014-08-12T09:36:00",
          "2014-09-20T00:00:00",
          "2015-03-12T16:48:00"
         ],
         "y": [
          41,
          4,
          4,
          23,
          82
         ]
        },
        {
         "hoverinfo": "text",
         "hovertext": [
          "<b>Topic 37</b><br>Words: peak, sebralo, tuah, frfr, shi"
         ],
         "marker": {
          "color": "#009E73"
         },
         "mode": "lines",
         "name": "37_peak_sebralo_midsouls_tuah",
         "type": "scatter",
         "x": [
          "2015-03-12T16:48:00"
         ],
         "y": [
          153
         ]
        },
        {
         "hoverinfo": "text",
         "hovertext": [
          "<b>Topic 38</b><br>Words: bloodborne, inside, blood, atm, wait",
          "<b>Topic 38</b><br>Words: bloodborne, bring, pc, bloodborn, blood",
          "<b>Topic 38</b><br>Words: heee, bloodborne, stench, tee, headset",
          "<b>Topic 38</b><br>Words: bloodborne, don, bloodborn, kart, blood"
         ],
         "marker": {
          "color": "#F0E442"
         },
         "mode": "lines",
         "name": "38_bloodborne_bloodborn_blood_kart",
         "type": "scatter",
         "x": [
          "2014-03-10T14:44:09.600000",
          "2014-07-04T19:12:00",
          "2014-09-20T00:00:00",
          "2015-03-12T16:48:00"
         ],
         "y": [
          5,
          1,
          3,
          142
         ]
        },
        {
         "hoverinfo": "text",
         "hovertext": [
          "<b>Topic 39</b><br>Words: flaw, regeret, don, petition, loveable",
          "<b>Topic 39</b><br>Words: somone, flawed, confusing, direction, flaw",
          "<b>Topic 39</b><br>Words: flaw, don, flawed, despite, masterpiece"
         ],
         "marker": {
          "color": "#D55E00"
         },
         "mode": "lines",
         "name": "39_flaw_despite_masterpiece_astonishing",
         "type": "scatter",
         "x": [
          "2014-03-10T14:44:09.600000",
          "2014-07-04T19:12:00",
          "2015-03-12T16:48:00"
         ],
         "y": [
          7,
          1,
          142
         ]
        },
        {
         "hoverinfo": "text",
         "hovertext": [
          "<b>Topic 40</b><br>Words: elden, ring, don, doo, multiplayer"
         ],
         "marker": {
          "color": "#0072B2"
         },
         "mode": "lines",
         "name": "40_elden_ring_doo_multiplayer",
         "type": "scatter",
         "x": [
          "2015-03-12T16:48:00"
         ],
         "y": [
          140
         ]
        },
        {
         "hoverinfo": "text",
         "hovertext": [
          "<b>Topic 41</b><br>Words: sequel, indirect, indirectly, don, refined",
          "<b>Topic 41</b><br>Words: astonishin, buybuybuybuybuy, tightness, unite, slack",
          "<b>Topic 41</b><br>Words: sequel, tourism, preperation, unresolved, witcher",
          "<b>Topic 41</b><br>Words: don, sequel, harmless, portal, translate",
          "<b>Topic 41</b><br>Words: sequel, don, have, ii, unafraid"
         ],
         "marker": {
          "color": "#CC79A7"
         },
         "mode": "lines",
         "name": "41_sequel_indirect_indirectly_ii",
         "type": "scatter",
         "x": [
          "2014-03-10T14:44:09.600000",
          "2014-07-04T19:12:00",
          "2014-08-12T09:36:00",
          "2014-09-20T00:00:00",
          "2015-03-12T16:48:00"
         ],
         "y": [
          43,
          4,
          8,
          13,
          71
         ]
        },
        {
         "hoverinfo": "text",
         "hovertext": [
          "<b>Topic 42</b><br>Words: awesome, sweet, totally, bro, usual",
          "<b>Topic 42</b><br>Words: awesome, sweet, bro, usual, till",
          "<b>Topic 42</b><br>Words: awesome, sweet, bro, usual, till",
          "<b>Topic 42</b><br>Words: awesome, sweet, bro, usual, till",
          "<b>Topic 42</b><br>Words: awesome, sweet, usual, till, bro"
         ],
         "marker": {
          "color": "#E69F00"
         },
         "mode": "lines",
         "name": "42_awesome_sweet_bro_usual",
         "type": "scatter",
         "x": [
          "2014-03-10T14:44:09.600000",
          "2014-07-04T19:12:00",
          "2014-08-12T09:36:00",
          "2014-09-20T00:00:00",
          "2015-03-12T16:48:00"
         ],
         "y": [
          31,
          3,
          3,
          11,
          91
         ]
        },
        {
         "hoverinfo": "text",
         "hovertext": [
          "<b>Topic 43</b><br>Words: replay, value, replayability, hadnle, replayablity",
          "<b>Topic 43</b><br>Words: haven, replayability, class, replay, remember",
          "<b>Topic 43</b><br>Words: replay, replayability, value, potentcial, replayable",
          "<b>Topic 43</b><br>Words: replay, replayability, value, replayable, don"
         ],
         "marker": {
          "color": "#56B4E9"
         },
         "mode": "lines",
         "name": "43_replay_replayability_value_replayable",
         "type": "scatter",
         "x": [
          "2014-03-10T14:44:09.600000",
          "2014-07-04T19:12:00",
          "2014-09-20T00:00:00",
          "2015-03-12T16:48:00"
         ],
         "y": [
          18,
          2,
          11,
          103
         ]
        },
        {
         "hoverinfo": "text",
         "hovertext": [
          "<b>Topic 44</b><br>Words: ez, noobz, ezgame, ezlife, pwn",
          "<b>Topic 44</b><br>Words: ez, ezpz, life, gg, pz",
          "<b>Topic 44</b><br>Words: ez, pz, ftw, hidden, gg",
          "<b>Topic 44</b><br>Words: ez, sik, don, coz, gg",
          "<b>Topic 44</b><br>Words: ez, gg, pz, ztg, og"
         ],
         "marker": {
          "color": "#009E73"
         },
         "mode": "lines",
         "name": "44_ez_gg_pz_ztg",
         "type": "scatter",
         "x": [
          "2014-03-10T14:44:09.600000",
          "2014-07-04T19:12:00",
          "2014-08-12T09:36:00",
          "2014-09-20T00:00:00",
          "2015-03-12T16:48:00"
         ],
         "y": [
          15,
          4,
          3,
          6,
          101
         ]
        },
        {
         "hoverinfo": "text",
         "hovertext": [
          "<b>Topic 45</b><br>Words: demon, francise, ride, jason, ghoul",
          "<b>Topic 45</b><br>Words: molly, soil, satan, demon, devil",
          "<b>Topic 45</b><br>Words: eachother, demon, differance, actully, compete",
          "<b>Topic 45</b><br>Words: demon, waist, hmmm, campfire, novel",
          "<b>Topic 45</b><br>Words: demon, don, zeta, satanist, waayyyy"
         ],
         "marker": {
          "color": "#F0E442"
         },
         "mode": "lines",
         "name": "45_demon_eachother_satan_ride",
         "type": "scatter",
         "x": [
          "2014-03-10T14:44:09.600000",
          "2014-07-04T19:12:00",
          "2014-08-12T09:36:00",
          "2014-09-20T00:00:00",
          "2015-03-12T16:48:00"
         ],
         "y": [
          32,
          6,
          7,
          10,
          73
         ]
        },
        {
         "hoverinfo": "text",
         "hovertext": [
          "<b>Topic 46</b><br>Words: bad, good, ding, bading, tarkov",
          "<b>Topic 46</b><br>Words: ass, bad, say, ding, bading",
          "<b>Topic 46</b><br>Words: imho, bad, well, ding, bading",
          "<b>Topic 46</b><br>Words: bad, tarkov, conceivable, ding, plin"
         ],
         "marker": {
          "color": "#D55E00"
         },
         "mode": "lines",
         "name": "46_bad_ding_bading_tarkov",
         "type": "scatter",
         "x": [
          "2014-03-10T14:44:09.600000",
          "2014-08-12T09:36:00",
          "2014-09-20T00:00:00",
          "2015-03-12T16:48:00"
         ],
         "y": [
          1,
          1,
          1,
          125
         ]
        },
        {
         "hoverinfo": "text",
         "hovertext": [
          "<b>Topic 47</b><br>Words: exact, like, idk, noise, there",
          "<b>Topic 47</b><br>Words: wow, like, idk, noise, there",
          "<b>Topic 47</b><br>Words: like, don, idk, noise, grow"
         ],
         "marker": {
          "color": "#0072B2"
         },
         "mode": "lines",
         "name": "47_like_idk_noise_there",
         "type": "scatter",
         "x": [
          "2014-03-10T14:44:09.600000",
          "2014-09-20T00:00:00",
          "2015-03-12T16:48:00"
         ],
         "y": [
          10,
          5,
          109
         ]
        },
        {
         "hoverinfo": "text",
         "hovertext": [
          "<b>Topic 48</b><br>Words: invention, culminate, indepth, ever, extraordinary",
          "<b>Topic 48</b><br>Words: relentless, awesome, ever, best, game",
          "<b>Topic 48</b><br>Words: tenouttaten, escape, stick, ever, best",
          "<b>Topic 48</b><br>Words: don, midway, ofcourse, ban, soft",
          "<b>Topic 48</b><br>Words: womp, fav, ever, history, oppressed"
         ],
         "marker": {
          "color": "#CC79A7"
         },
         "mode": "lines",
         "name": "48_ever_best_game_one",
         "type": "scatter",
         "x": [
          "2014-03-10T14:44:09.600000",
          "2014-07-04T19:12:00",
          "2014-08-12T09:36:00",
          "2014-09-20T00:00:00",
          "2015-03-12T16:48:00"
         ],
         "y": [
          23,
          1,
          3,
          12,
          84
         ]
        },
        {
         "hoverinfo": "text",
         "hovertext": [
          "<b>Topic 49</b><br>Words: iron, viagra, keep, swathe, fiery",
          "<b>Topic 49</b><br>Words: iron, keep, passage, never, earthen"
         ],
         "marker": {
          "color": "#E69F00"
         },
         "mode": "lines",
         "name": "49_iron_keep_never_passage",
         "type": "scatter",
         "x": [
          "2014-03-10T14:44:09.600000",
          "2015-03-12T16:48:00"
         ],
         "y": [
          3,
          118
         ]
        }
       ],
       "layout": {
        "height": 450,
        "hoverlabel": {
         "bgcolor": "white",
         "font": {
          "family": "Rockwell",
          "size": 16
         }
        },
        "legend": {
         "title": {
          "text": "<b>Global Topic Representation"
         }
        },
        "template": {
         "data": {
          "bar": [
           {
            "error_x": {
             "color": "rgb(36,36,36)"
            },
            "error_y": {
             "color": "rgb(36,36,36)"
            },
            "marker": {
             "line": {
              "color": "white",
              "width": 0.5
             },
             "pattern": {
              "fillmode": "overlay",
              "size": 10,
              "solidity": 0.2
             }
            },
            "type": "bar"
           }
          ],
          "barpolar": [
           {
            "marker": {
             "line": {
              "color": "white",
              "width": 0.5
             },
             "pattern": {
              "fillmode": "overlay",
              "size": 10,
              "solidity": 0.2
             }
            },
            "type": "barpolar"
           }
          ],
          "carpet": [
           {
            "aaxis": {
             "endlinecolor": "rgb(36,36,36)",
             "gridcolor": "white",
             "linecolor": "white",
             "minorgridcolor": "white",
             "startlinecolor": "rgb(36,36,36)"
            },
            "baxis": {
             "endlinecolor": "rgb(36,36,36)",
             "gridcolor": "white",
             "linecolor": "white",
             "minorgridcolor": "white",
             "startlinecolor": "rgb(36,36,36)"
            },
            "type": "carpet"
           }
          ],
          "choropleth": [
           {
            "colorbar": {
             "outlinewidth": 1,
             "tickcolor": "rgb(36,36,36)",
             "ticks": "outside"
            },
            "type": "choropleth"
           }
          ],
          "contour": [
           {
            "colorbar": {
             "outlinewidth": 1,
             "tickcolor": "rgb(36,36,36)",
             "ticks": "outside"
            },
            "colorscale": [
             [
              0,
              "#440154"
             ],
             [
              0.1111111111111111,
              "#482878"
             ],
             [
              0.2222222222222222,
              "#3e4989"
             ],
             [
              0.3333333333333333,
              "#31688e"
             ],
             [
              0.4444444444444444,
              "#26828e"
             ],
             [
              0.5555555555555556,
              "#1f9e89"
             ],
             [
              0.6666666666666666,
              "#35b779"
             ],
             [
              0.7777777777777778,
              "#6ece58"
             ],
             [
              0.8888888888888888,
              "#b5de2b"
             ],
             [
              1,
              "#fde725"
             ]
            ],
            "type": "contour"
           }
          ],
          "contourcarpet": [
           {
            "colorbar": {
             "outlinewidth": 1,
             "tickcolor": "rgb(36,36,36)",
             "ticks": "outside"
            },
            "type": "contourcarpet"
           }
          ],
          "heatmap": [
           {
            "colorbar": {
             "outlinewidth": 1,
             "tickcolor": "rgb(36,36,36)",
             "ticks": "outside"
            },
            "colorscale": [
             [
              0,
              "#440154"
             ],
             [
              0.1111111111111111,
              "#482878"
             ],
             [
              0.2222222222222222,
              "#3e4989"
             ],
             [
              0.3333333333333333,
              "#31688e"
             ],
             [
              0.4444444444444444,
              "#26828e"
             ],
             [
              0.5555555555555556,
              "#1f9e89"
             ],
             [
              0.6666666666666666,
              "#35b779"
             ],
             [
              0.7777777777777778,
              "#6ece58"
             ],
             [
              0.8888888888888888,
              "#b5de2b"
             ],
             [
              1,
              "#fde725"
             ]
            ],
            "type": "heatmap"
           }
          ],
          "heatmapgl": [
           {
            "colorbar": {
             "outlinewidth": 1,
             "tickcolor": "rgb(36,36,36)",
             "ticks": "outside"
            },
            "colorscale": [
             [
              0,
              "#440154"
             ],
             [
              0.1111111111111111,
              "#482878"
             ],
             [
              0.2222222222222222,
              "#3e4989"
             ],
             [
              0.3333333333333333,
              "#31688e"
             ],
             [
              0.4444444444444444,
              "#26828e"
             ],
             [
              0.5555555555555556,
              "#1f9e89"
             ],
             [
              0.6666666666666666,
              "#35b779"
             ],
             [
              0.7777777777777778,
              "#6ece58"
             ],
             [
              0.8888888888888888,
              "#b5de2b"
             ],
             [
              1,
              "#fde725"
             ]
            ],
            "type": "heatmapgl"
           }
          ],
          "histogram": [
           {
            "marker": {
             "line": {
              "color": "white",
              "width": 0.6
             }
            },
            "type": "histogram"
           }
          ],
          "histogram2d": [
           {
            "colorbar": {
             "outlinewidth": 1,
             "tickcolor": "rgb(36,36,36)",
             "ticks": "outside"
            },
            "colorscale": [
             [
              0,
              "#440154"
             ],
             [
              0.1111111111111111,
              "#482878"
             ],
             [
              0.2222222222222222,
              "#3e4989"
             ],
             [
              0.3333333333333333,
              "#31688e"
             ],
             [
              0.4444444444444444,
              "#26828e"
             ],
             [
              0.5555555555555556,
              "#1f9e89"
             ],
             [
              0.6666666666666666,
              "#35b779"
             ],
             [
              0.7777777777777778,
              "#6ece58"
             ],
             [
              0.8888888888888888,
              "#b5de2b"
             ],
             [
              1,
              "#fde725"
             ]
            ],
            "type": "histogram2d"
           }
          ],
          "histogram2dcontour": [
           {
            "colorbar": {
             "outlinewidth": 1,
             "tickcolor": "rgb(36,36,36)",
             "ticks": "outside"
            },
            "colorscale": [
             [
              0,
              "#440154"
             ],
             [
              0.1111111111111111,
              "#482878"
             ],
             [
              0.2222222222222222,
              "#3e4989"
             ],
             [
              0.3333333333333333,
              "#31688e"
             ],
             [
              0.4444444444444444,
              "#26828e"
             ],
             [
              0.5555555555555556,
              "#1f9e89"
             ],
             [
              0.6666666666666666,
              "#35b779"
             ],
             [
              0.7777777777777778,
              "#6ece58"
             ],
             [
              0.8888888888888888,
              "#b5de2b"
             ],
             [
              1,
              "#fde725"
             ]
            ],
            "type": "histogram2dcontour"
           }
          ],
          "mesh3d": [
           {
            "colorbar": {
             "outlinewidth": 1,
             "tickcolor": "rgb(36,36,36)",
             "ticks": "outside"
            },
            "type": "mesh3d"
           }
          ],
          "parcoords": [
           {
            "line": {
             "colorbar": {
              "outlinewidth": 1,
              "tickcolor": "rgb(36,36,36)",
              "ticks": "outside"
             }
            },
            "type": "parcoords"
           }
          ],
          "pie": [
           {
            "automargin": true,
            "type": "pie"
           }
          ],
          "scatter": [
           {
            "fillpattern": {
             "fillmode": "overlay",
             "size": 10,
             "solidity": 0.2
            },
            "type": "scatter"
           }
          ],
          "scatter3d": [
           {
            "line": {
             "colorbar": {
              "outlinewidth": 1,
              "tickcolor": "rgb(36,36,36)",
              "ticks": "outside"
             }
            },
            "marker": {
             "colorbar": {
              "outlinewidth": 1,
              "tickcolor": "rgb(36,36,36)",
              "ticks": "outside"
             }
            },
            "type": "scatter3d"
           }
          ],
          "scattercarpet": [
           {
            "marker": {
             "colorbar": {
              "outlinewidth": 1,
              "tickcolor": "rgb(36,36,36)",
              "ticks": "outside"
             }
            },
            "type": "scattercarpet"
           }
          ],
          "scattergeo": [
           {
            "marker": {
             "colorbar": {
              "outlinewidth": 1,
              "tickcolor": "rgb(36,36,36)",
              "ticks": "outside"
             }
            },
            "type": "scattergeo"
           }
          ],
          "scattergl": [
           {
            "marker": {
             "colorbar": {
              "outlinewidth": 1,
              "tickcolor": "rgb(36,36,36)",
              "ticks": "outside"
             }
            },
            "type": "scattergl"
           }
          ],
          "scattermapbox": [
           {
            "marker": {
             "colorbar": {
              "outlinewidth": 1,
              "tickcolor": "rgb(36,36,36)",
              "ticks": "outside"
             }
            },
            "type": "scattermapbox"
           }
          ],
          "scatterpolar": [
           {
            "marker": {
             "colorbar": {
              "outlinewidth": 1,
              "tickcolor": "rgb(36,36,36)",
              "ticks": "outside"
             }
            },
            "type": "scatterpolar"
           }
          ],
          "scatterpolargl": [
           {
            "marker": {
             "colorbar": {
              "outlinewidth": 1,
              "tickcolor": "rgb(36,36,36)",
              "ticks": "outside"
             }
            },
            "type": "scatterpolargl"
           }
          ],
          "scatterternary": [
           {
            "marker": {
             "colorbar": {
              "outlinewidth": 1,
              "tickcolor": "rgb(36,36,36)",
              "ticks": "outside"
             }
            },
            "type": "scatterternary"
           }
          ],
          "surface": [
           {
            "colorbar": {
             "outlinewidth": 1,
             "tickcolor": "rgb(36,36,36)",
             "ticks": "outside"
            },
            "colorscale": [
             [
              0,
              "#440154"
             ],
             [
              0.1111111111111111,
              "#482878"
             ],
             [
              0.2222222222222222,
              "#3e4989"
             ],
             [
              0.3333333333333333,
              "#31688e"
             ],
             [
              0.4444444444444444,
              "#26828e"
             ],
             [
              0.5555555555555556,
              "#1f9e89"
             ],
             [
              0.6666666666666666,
              "#35b779"
             ],
             [
              0.7777777777777778,
              "#6ece58"
             ],
             [
              0.8888888888888888,
              "#b5de2b"
             ],
             [
              1,
              "#fde725"
             ]
            ],
            "type": "surface"
           }
          ],
          "table": [
           {
            "cells": {
             "fill": {
              "color": "rgb(237,237,237)"
             },
             "line": {
              "color": "white"
             }
            },
            "header": {
             "fill": {
              "color": "rgb(217,217,217)"
             },
             "line": {
              "color": "white"
             }
            },
            "type": "table"
           }
          ]
         },
         "layout": {
          "annotationdefaults": {
           "arrowhead": 0,
           "arrowwidth": 1
          },
          "autotypenumbers": "strict",
          "coloraxis": {
           "colorbar": {
            "outlinewidth": 1,
            "tickcolor": "rgb(36,36,36)",
            "ticks": "outside"
           }
          },
          "colorscale": {
           "diverging": [
            [
             0,
             "rgb(103,0,31)"
            ],
            [
             0.1,
             "rgb(178,24,43)"
            ],
            [
             0.2,
             "rgb(214,96,77)"
            ],
            [
             0.3,
             "rgb(244,165,130)"
            ],
            [
             0.4,
             "rgb(253,219,199)"
            ],
            [
             0.5,
             "rgb(247,247,247)"
            ],
            [
             0.6,
             "rgb(209,229,240)"
            ],
            [
             0.7,
             "rgb(146,197,222)"
            ],
            [
             0.8,
             "rgb(67,147,195)"
            ],
            [
             0.9,
             "rgb(33,102,172)"
            ],
            [
             1,
             "rgb(5,48,97)"
            ]
           ],
           "sequential": [
            [
             0,
             "#440154"
            ],
            [
             0.1111111111111111,
             "#482878"
            ],
            [
             0.2222222222222222,
             "#3e4989"
            ],
            [
             0.3333333333333333,
             "#31688e"
            ],
            [
             0.4444444444444444,
             "#26828e"
            ],
            [
             0.5555555555555556,
             "#1f9e89"
            ],
            [
             0.6666666666666666,
             "#35b779"
            ],
            [
             0.7777777777777778,
             "#6ece58"
            ],
            [
             0.8888888888888888,
             "#b5de2b"
            ],
            [
             1,
             "#fde725"
            ]
           ],
           "sequentialminus": [
            [
             0,
             "#440154"
            ],
            [
             0.1111111111111111,
             "#482878"
            ],
            [
             0.2222222222222222,
             "#3e4989"
            ],
            [
             0.3333333333333333,
             "#31688e"
            ],
            [
             0.4444444444444444,
             "#26828e"
            ],
            [
             0.5555555555555556,
             "#1f9e89"
            ],
            [
             0.6666666666666666,
             "#35b779"
            ],
            [
             0.7777777777777778,
             "#6ece58"
            ],
            [
             0.8888888888888888,
             "#b5de2b"
            ],
            [
             1,
             "#fde725"
            ]
           ]
          },
          "colorway": [
           "#1F77B4",
           "#FF7F0E",
           "#2CA02C",
           "#D62728",
           "#9467BD",
           "#8C564B",
           "#E377C2",
           "#7F7F7F",
           "#BCBD22",
           "#17BECF"
          ],
          "font": {
           "color": "rgb(36,36,36)"
          },
          "geo": {
           "bgcolor": "white",
           "lakecolor": "white",
           "landcolor": "white",
           "showlakes": true,
           "showland": true,
           "subunitcolor": "white"
          },
          "hoverlabel": {
           "align": "left"
          },
          "hovermode": "closest",
          "mapbox": {
           "style": "light"
          },
          "paper_bgcolor": "white",
          "plot_bgcolor": "white",
          "polar": {
           "angularaxis": {
            "gridcolor": "rgb(232,232,232)",
            "linecolor": "rgb(36,36,36)",
            "showgrid": false,
            "showline": true,
            "ticks": "outside"
           },
           "bgcolor": "white",
           "radialaxis": {
            "gridcolor": "rgb(232,232,232)",
            "linecolor": "rgb(36,36,36)",
            "showgrid": false,
            "showline": true,
            "ticks": "outside"
           }
          },
          "scene": {
           "xaxis": {
            "backgroundcolor": "white",
            "gridcolor": "rgb(232,232,232)",
            "gridwidth": 2,
            "linecolor": "rgb(36,36,36)",
            "showbackground": true,
            "showgrid": false,
            "showline": true,
            "ticks": "outside",
            "zeroline": false,
            "zerolinecolor": "rgb(36,36,36)"
           },
           "yaxis": {
            "backgroundcolor": "white",
            "gridcolor": "rgb(232,232,232)",
            "gridwidth": 2,
            "linecolor": "rgb(36,36,36)",
            "showbackground": true,
            "showgrid": false,
            "showline": true,
            "ticks": "outside",
            "zeroline": false,
            "zerolinecolor": "rgb(36,36,36)"
           },
           "zaxis": {
            "backgroundcolor": "white",
            "gridcolor": "rgb(232,232,232)",
            "gridwidth": 2,
            "linecolor": "rgb(36,36,36)",
            "showbackground": true,
            "showgrid": false,
            "showline": true,
            "ticks": "outside",
            "zeroline": false,
            "zerolinecolor": "rgb(36,36,36)"
           }
          },
          "shapedefaults": {
           "fillcolor": "black",
           "line": {
            "width": 0
           },
           "opacity": 0.3
          },
          "ternary": {
           "aaxis": {
            "gridcolor": "rgb(232,232,232)",
            "linecolor": "rgb(36,36,36)",
            "showgrid": false,
            "showline": true,
            "ticks": "outside"
           },
           "baxis": {
            "gridcolor": "rgb(232,232,232)",
            "linecolor": "rgb(36,36,36)",
            "showgrid": false,
            "showline": true,
            "ticks": "outside"
           },
           "bgcolor": "white",
           "caxis": {
            "gridcolor": "rgb(232,232,232)",
            "linecolor": "rgb(36,36,36)",
            "showgrid": false,
            "showline": true,
            "ticks": "outside"
           }
          },
          "title": {
           "x": 0.05
          },
          "xaxis": {
           "automargin": true,
           "gridcolor": "rgb(232,232,232)",
           "linecolor": "rgb(36,36,36)",
           "showgrid": false,
           "showline": true,
           "ticks": "outside",
           "title": {
            "standoff": 15
           },
           "zeroline": false,
           "zerolinecolor": "rgb(36,36,36)"
          },
          "yaxis": {
           "automargin": true,
           "gridcolor": "rgb(232,232,232)",
           "linecolor": "rgb(36,36,36)",
           "showgrid": false,
           "showline": true,
           "ticks": "outside",
           "title": {
            "standoff": 15
           },
           "zeroline": false,
           "zerolinecolor": "rgb(36,36,36)"
          }
         }
        },
        "title": {
         "font": {
          "color": "Black",
          "size": 22
         },
         "text": "<b>Topics over Time</b>",
         "x": 0.4,
         "xanchor": "center",
         "y": 0.95,
         "yanchor": "top"
        },
        "width": 1250,
        "xaxis": {
         "showgrid": true
        },
        "yaxis": {
         "showgrid": true,
         "title": {
          "text": "Frequency"
         }
        }
       }
      }
     },
     "metadata": {},
     "output_type": "display_data"
    }
   ],
   "source": [
    "topic_model.visualize_topics_over_time(topics_over_time, top_n_topics=50)"
   ]
  },
  {
   "cell_type": "markdown",
   "metadata": {},
   "source": [
    "### Positive reviews:"
   ]
  },
  {
   "cell_type": "code",
   "execution_count": 14,
   "metadata": {},
   "outputs": [],
   "source": [
    "pos_model = BERTopic.load(\"models/bertopic_pos_model\")"
   ]
  },
  {
   "cell_type": "code",
   "execution_count": 15,
   "metadata": {},
   "outputs": [
    {
     "name": "stderr",
     "output_type": "stream",
     "text": [
      "20it [00:33,  1.67s/it]\n"
     ]
    }
   ],
   "source": [
    "pos_topics_over_time = pos_model.topics_over_time(pos_docs, pos_timestamps, nr_bins=20)"
   ]
  },
  {
   "cell_type": "code",
   "execution_count": 16,
   "metadata": {},
   "outputs": [
    {
     "data": {
      "application/vnd.plotly.v1+json": {
       "config": {
        "plotlyServerURL": "https://plot.ly"
       },
       "data": [
        {
         "hoverinfo": "text",
         "hovertext": [
          "<b>Topic 0</b><br>Words: brolaire, ow, praise, umm, forgot",
          "<b>Topic 0</b><br>Words: praise, brolaire, ow, umm, forgot",
          "<b>Topic 0</b><br>Words: praise, brolaire, ow, umm, forgot",
          "<b>Topic 0</b><br>Words: don, brolaire, ow, umm, praise",
          "<b>Topic 0</b><br>Words: brolaire, ow, umm, praise, forgot",
          "<b>Topic 0</b><br>Words: brolaire, ow, umm, praise, forgot",
          "<b>Topic 0</b><br>Words: brolaire, ow, umm, praise, forgot",
          "<b>Topic 0</b><br>Words: brolaire, ow, umm, praise, forgot",
          "<b>Topic 0</b><br>Words: brolaire, ow, umm, praise, forgot",
          "<b>Topic 0</b><br>Words: brolaire, ow, umm, praise, forgot",
          "<b>Topic 0</b><br>Words: brolaire, ow, umm, praise, forgot",
          "<b>Topic 0</b><br>Words: umm, brolaire, ow, praise, forgot",
          "<b>Topic 0</b><br>Words: brolaire, ow, umm, praise, forgot",
          "<b>Topic 0</b><br>Words: brolaire, ow, umm, praise, forgot",
          "<b>Topic 0</b><br>Words: aaa, hello, brolaire, ow, umm",
          "<b>Topic 0</b><br>Words: forget, brolaire, ow, umm, praise",
          "<b>Topic 0</b><br>Words: brolaire, ow, umm, praise, forgot",
          "<b>Topic 0</b><br>Words: brolaire, ow, umm, praise, forgot",
          "<b>Topic 0</b><br>Words: win, brolaire, ow, umm, praise",
          "<b>Topic 0</b><br>Words: don, brolaire, ow, umm, praise"
         ],
         "marker": {
          "color": "#E69F00"
         },
         "mode": "lines",
         "name": "0_brolaire_umm_ow_praise",
         "type": "scatter",
         "x": [
          "2014-04-20T18:07:07.316999",
          "2014-11-10T19:13:09.150000",
          "2015-05-29T20:17:53.300000",
          "2015-12-15T21:22:37.449999",
          "2016-07-02T22:27:21.600000",
          "2017-01-18T23:32:05.750000",
          "2017-08-07T00:36:49.900000",
          "2018-02-23T01:41:34.049999",
          "2018-09-11T02:46:18.200000",
          "2019-03-30T03:51:02.350000",
          "2019-10-16T04:55:46.500000",
          "2020-05-03T06:00:30.649999",
          "2020-11-19T07:05:14.800000",
          "2021-06-07T08:09:58.950000",
          "2021-12-24T09:14:43.100000",
          "2022-07-12T10:19:27.249999",
          "2023-01-28T11:24:11.400000",
          "2023-08-16T12:28:55.550000",
          "2024-03-03T13:33:39.700000",
          "2024-09-19T14:38:23.849999"
         ],
         "y": [
          116,
          51,
          41,
          43,
          32,
          22,
          24,
          22,
          29,
          43,
          100,
          102,
          134,
          143,
          139,
          105,
          105,
          130,
          135,
          153
         ]
        },
        {
         "hoverinfo": "text",
         "hovertext": [
          "<b>Topic 1</b><br>Words: good, ass, well, mm, dat",
          "<b>Topic 1</b><br>Words: good, dat, mm, ol, af",
          "<b>Topic 1</b><br>Words: good, mm, dat, ol, af",
          "<b>Topic 1</b><br>Words: good, well, mm, dat, ol",
          "<b>Topic 1</b><br>Words: good, well, mm, dat, ol",
          "<b>Topic 1</b><br>Words: good, well, mm, dat, ol",
          "<b>Topic 1</b><br>Words: good, well, mm, dat, ol",
          "<b>Topic 1</b><br>Words: good, mm, dat, ol, af",
          "<b>Topic 1</b><br>Words: good, don, well, mm, dat",
          "<b>Topic 1</b><br>Words: good, well, mm, dat, ol",
          "<b>Topic 1</b><br>Words: good, don, well, mm, dat",
          "<b>Topic 1</b><br>Words: good, mm, lol, dks, well",
          "<b>Topic 1</b><br>Words: good, well, mm, dat, ol",
          "<b>Topic 1</b><br>Words: good, well, mm, dat, ol",
          "<b>Topic 1</b><br>Words: good, well, mm, dat, ol",
          "<b>Topic 1</b><br>Words: good, well, mm, dat, ol",
          "<b>Topic 1</b><br>Words: good, well, mm, dat, ol",
          "<b>Topic 1</b><br>Words: good, af, well, mm, dat",
          "<b>Topic 1</b><br>Words: good, ol, well, mm, dat",
          "<b>Topic 1</b><br>Words: good, well, mm, dat, ol"
         ],
         "marker": {
          "color": "#56B4E9"
         },
         "mode": "lines",
         "name": "1_good_mm_dat_ol",
         "type": "scatter",
         "x": [
          "2014-04-20T18:07:07.316999",
          "2014-11-10T19:13:09.150000",
          "2015-05-29T20:17:53.300000",
          "2015-12-15T21:22:37.449999",
          "2016-07-02T22:27:21.600000",
          "2017-01-18T23:32:05.750000",
          "2017-08-07T00:36:49.900000",
          "2018-02-23T01:41:34.049999",
          "2018-09-11T02:46:18.200000",
          "2019-03-30T03:51:02.350000",
          "2019-10-16T04:55:46.500000",
          "2020-05-03T06:00:30.649999",
          "2020-11-19T07:05:14.800000",
          "2021-06-07T08:09:58.950000",
          "2021-12-24T09:14:43.100000",
          "2022-07-12T10:19:27.249999",
          "2023-01-28T11:24:11.400000",
          "2023-08-16T12:28:55.550000",
          "2024-03-03T13:33:39.700000",
          "2024-09-19T14:38:23.849999"
         ],
         "y": [
          67,
          34,
          13,
          30,
          18,
          27,
          26,
          12,
          25,
          47,
          102,
          109,
          103,
          116,
          110,
          70,
          89,
          74,
          100,
          98
         ]
        },
        {
         "hoverinfo": "text",
         "hovertext": [
          "<b>Topic 2</b><br>Words: don, have, haven, player, boss",
          "<b>Topic 2</b><br>Words: don, have, haven, matrixdll, area",
          "<b>Topic 2</b><br>Words: don, have, haven, enemy, dks",
          "<b>Topic 2</b><br>Words: don, have, haven, katana, warped",
          "<b>Topic 2</b><br>Words: don, have, haven, unlike, weapon",
          "<b>Topic 2</b><br>Words: don, have, boss, haven, list",
          "<b>Topic 2</b><br>Words: don, have, stat, boss, item",
          "<b>Topic 2</b><br>Words: don, quote, have, boss, player",
          "<b>Topic 2</b><br>Words: don, haven, have, summon, damage",
          "<b>Topic 2</b><br>Words: don, have, boss, attack, enemy",
          "<b>Topic 2</b><br>Words: don, bean, have, attack, estus",
          "<b>Topic 2</b><br>Words: don, have, stat, area, early",
          "<b>Topic 2</b><br>Words: don, have, tyrit, boss, area",
          "<b>Topic 2</b><br>Words: don, have, haven, iframe, area",
          "<b>Topic 2</b><br>Words: don, iron, hate, have, boss",
          "<b>Topic 2</b><br>Words: don, have, hr, boss, area",
          "<b>Topic 2</b><br>Words: don, have, boss, annoying, king",
          "<b>Topic 2</b><br>Words: don, have, poison, zone, dementia",
          "<b>Topic 2</b><br>Words: don, have, boss, runback, area",
          "<b>Topic 2</b><br>Words: don, have, spoiler, boss, area"
         ],
         "marker": {
          "color": "#009E73"
         },
         "mode": "lines",
         "name": "2_iron_area_player_attack",
         "type": "scatter",
         "x": [
          "2014-04-20T18:07:07.316999",
          "2014-11-10T19:13:09.150000",
          "2015-05-29T20:17:53.300000",
          "2015-12-15T21:22:37.449999",
          "2016-07-02T22:27:21.600000",
          "2017-01-18T23:32:05.750000",
          "2017-08-07T00:36:49.900000",
          "2018-02-23T01:41:34.049999",
          "2018-09-11T02:46:18.200000",
          "2019-03-30T03:51:02.350000",
          "2019-10-16T04:55:46.500000",
          "2020-05-03T06:00:30.649999",
          "2020-11-19T07:05:14.800000",
          "2021-06-07T08:09:58.950000",
          "2021-12-24T09:14:43.100000",
          "2022-07-12T10:19:27.249999",
          "2023-01-28T11:24:11.400000",
          "2023-08-16T12:28:55.550000",
          "2024-03-03T13:33:39.700000",
          "2024-09-19T14:38:23.849999"
         ],
         "y": [
          185,
          74,
          42,
          54,
          35,
          45,
          35,
          28,
          26,
          27,
          30,
          37,
          49,
          55,
          46,
          27,
          49,
          56,
          62,
          75
         ]
        },
        {
         "hoverinfo": "text",
         "hovertext": [
          "<b>Topic 3</b><br>Words: don, dlc, extras, bext, hench",
          "<b>Topic 3</b><br>Words: don, dx, dlc, upgrade, version",
          "<b>Topic 3</b><br>Words: don, haven, dlc, version, original",
          "<b>Topic 3</b><br>Words: don, dlc, version, price, dx",
          "<b>Topic 3</b><br>Words: dlc, include, version, dks, dx",
          "<b>Topic 3</b><br>Words: don, dlc, version, dx, upgrade",
          "<b>Topic 3</b><br>Words: don, dlc, dlcs, march, deservingly",
          "<b>Topic 3</b><br>Words: don, haven, dlc, version, deceased",
          "<b>Topic 3</b><br>Words: don, version, dlc, changelog, yus",
          "<b>Topic 3</b><br>Words: absoulte, haven, don, dlc, themed",
          "<b>Topic 3</b><br>Words: don, haven, dlc, version, vaguer",
          "<b>Topic 3</b><br>Words: don, version, have, dlc, placement",
          "<b>Topic 3</b><br>Words: don, dlcs, dlc, vistas, paywall",
          "<b>Topic 3</b><br>Words: don, dlc, dlcs, fullprice, executive",
          "<b>Topic 3</b><br>Words: don, dlc, spacial, marty, silva",
          "<b>Topic 3</b><br>Words: dlc, cod, gow, haven, don",
          "<b>Topic 3</b><br>Words: don, dlc, dmc, version, vanilla",
          "<b>Topic 3</b><br>Words: dlc, color, version, tired, dlcs",
          "<b>Topic 3</b><br>Words: dlc, have, split, version, release",
          "<b>Topic 3</b><br>Words: overhate, dlcs, dlc, ahaaaaaaaaaaaaaaaaaaaaahhhhhhhhhghhh, resend"
         ],
         "marker": {
          "color": "#F0E442"
         },
         "mode": "lines",
         "name": "3_dlc_version_dx_upgrade",
         "type": "scatter",
         "x": [
          "2014-04-20T18:07:07.316999",
          "2014-11-10T19:13:09.150000",
          "2015-05-29T20:17:53.300000",
          "2015-12-15T21:22:37.449999",
          "2016-07-02T22:27:21.600000",
          "2017-01-18T23:32:05.750000",
          "2017-08-07T00:36:49.900000",
          "2018-02-23T01:41:34.049999",
          "2018-09-11T02:46:18.200000",
          "2019-03-30T03:51:02.350000",
          "2019-10-16T04:55:46.500000",
          "2020-05-03T06:00:30.649999",
          "2020-11-19T07:05:14.800000",
          "2021-06-07T08:09:58.950000",
          "2021-12-24T09:14:43.100000",
          "2022-07-12T10:19:27.249999",
          "2023-01-28T11:24:11.400000",
          "2023-08-16T12:28:55.550000",
          "2024-03-03T13:33:39.700000",
          "2024-09-19T14:38:23.849999"
         ],
         "y": [
          36,
          198,
          73,
          62,
          21,
          20,
          22,
          15,
          12,
          13,
          20,
          19,
          31,
          27,
          28,
          18,
          21,
          23,
          33,
          22
         ]
        },
        {
         "hoverinfo": "text",
         "hovertext": [
          "<b>Topic 4</b><br>Words: best, good, well, everrrrrrrrrrrrrrrrrrrrrrrrrrrrrrrrrrrrrrrrrrrrrrrrrrrrrrrrrrrrrrrrrrrrrrrrrrrrrrrrrrrrrrrrrrrrrrrrrrrrrrr, ah",
          "<b>Topic 4</b><br>Words: everrrrrrrrrrrrrrrrrrrrrrrrrrrrrrrrrrrrrrrrrrrrrrrrrrrrrrrrrrrrrrrrrrrrrrrrrrrrrrrrrrrrrrrrrrrrrrrrrrrrrrr, best, good, ah, wtf",
          "<b>Topic 4</b><br>Words: hey, best, well, good, everrrrrrrrrrrrrrrrrrrrrrrrrrrrrrrrrrrrrrrrrrrrrrrrrrrrrrrrrrrrrrrrrrrrrrrrrrrrrrrrrrrrrrrrrrrrrrrrrrrrrrr",
          "<b>Topic 4</b><br>Words: good, best, everrrrrrrrrrrrrrrrrrrrrrrrrrrrrrrrrrrrrrrrrrrrrrrrrrrrrrrrrrrrrrrrrrrrrrrrrrrrrrrrrrrrrrrrrrrrrrrrrrrrrrr, ah, wtf",
          "<b>Topic 4</b><br>Words: lol, best, good, everrrrrrrrrrrrrrrrrrrrrrrrrrrrrrrrrrrrrrrrrrrrrrrrrrrrrrrrrrrrrrrrrrrrrrrrrrrrrrrrrrrrrrrrrrrrrrrrrrrrrrr, ah",
          "<b>Topic 4</b><br>Words: good, best, everrrrrrrrrrrrrrrrrrrrrrrrrrrrrrrrrrrrrrrrrrrrrrrrrrrrrrrrrrrrrrrrrrrrrrrrrrrrrrrrrrrrrrrrrrrrrrrrrrrrrrr, ah, wtf",
          "<b>Topic 4</b><br>Words: best, well, good, everrrrrrrrrrrrrrrrrrrrrrrrrrrrrrrrrrrrrrrrrrrrrrrrrrrrrrrrrrrrrrrrrrrrrrrrrrrrrrrrrrrrrrrrrrrrrrrrrrrrrrr, ah",
          "<b>Topic 4</b><br>Words: good, best, everrrrrrrrrrrrrrrrrrrrrrrrrrrrrrrrrrrrrrrrrrrrrrrrrrrrrrrrrrrrrrrrrrrrrrrrrrrrrrrrrrrrrrrrrrrrrrrrrrrrrrr, ah, wtf",
          "<b>Topic 4</b><br>Words: don, best, everrrrrrrrrrrrrrrrrrrrrrrrrrrrrrrrrrrrrrrrrrrrrrrrrrrrrrrrrrrrrrrrrrrrrrrrrrrrrrrrrrrrrrrrrrrrrrrrrrrrrrr, good, ah",
          "<b>Topic 4</b><br>Words: best, don, btw, good, everrrrrrrrrrrrrrrrrrrrrrrrrrrrrrrrrrrrrrrrrrrrrrrrrrrrrrrrrrrrrrrrrrrrrrrrrrrrrrrrrrrrrrrrrrrrrrrrrrrrrrr",
          "<b>Topic 4</b><br>Words: best, don, good, everrrrrrrrrrrrrrrrrrrrrrrrrrrrrrrrrrrrrrrrrrrrrrrrrrrrrrrrrrrrrrrrrrrrrrrrrrrrrrrrrrrrrrrrrrrrrrrrrrrrrrr, ah",
          "<b>Topic 4</b><br>Words: best, don, good, well, everrrrrrrrrrrrrrrrrrrrrrrrrrrrrrrrrrrrrrrrrrrrrrrrrrrrrrrrrrrrrrrrrrrrrrrrrrrrrrrrrrrrrrrrrrrrrrrrrrrrrrr",
          "<b>Topic 4</b><br>Words: best, don, ah, good, everrrrrrrrrrrrrrrrrrrrrrrrrrrrrrrrrrrrrrrrrrrrrrrrrrrrrrrrrrrrrrrrrrrrrrrrrrrrrrrrrrrrrrrrrrrrrrrrrrrrrrr",
          "<b>Topic 4</b><br>Words: good, best, well, everrrrrrrrrrrrrrrrrrrrrrrrrrrrrrrrrrrrrrrrrrrrrrrrrrrrrrrrrrrrrrrrrrrrrrrrrrrrrrrrrrrrrrrrrrrrrrrrrrrrrrr, ah",
          "<b>Topic 4</b><br>Words: good, best, well, everrrrrrrrrrrrrrrrrrrrrrrrrrrrrrrrrrrrrrrrrrrrrrrrrrrrrrrrrrrrrrrrrrrrrrrrrrrrrrrrrrrrrrrrrrrrrrrrrrrrrrr, ah",
          "<b>Topic 4</b><br>Words: best, good, well, everrrrrrrrrrrrrrrrrrrrrrrrrrrrrrrrrrrrrrrrrrrrrrrrrrrrrrrrrrrrrrrrrrrrrrrrrrrrrrrrrrrrrrrrrrrrrrrrrrrrrrr, ah",
          "<b>Topic 4</b><br>Words: best, don, good, ah, everrrrrrrrrrrrrrrrrrrrrrrrrrrrrrrrrrrrrrrrrrrrrrrrrrrrrrrrrrrrrrrrrrrrrrrrrrrrrrrrrrrrrrrrrrrrrrrrrrrrrrr",
          "<b>Topic 4</b><br>Words: best, good, right, well, everrrrrrrrrrrrrrrrrrrrrrrrrrrrrrrrrrrrrrrrrrrrrrrrrrrrrrrrrrrrrrrrrrrrrrrrrrrrrrrrrrrrrrrrrrrrrrrrrrrrrrr",
          "<b>Topic 4</b><br>Words: best, don, good, everrrrrrrrrrrrrrrrrrrrrrrrrrrrrrrrrrrrrrrrrrrrrrrrrrrrrrrrrrrrrrrrrrrrrrrrrrrrrrrrrrrrrrrrrrrrrrrrrrrrrrr, ah",
          "<b>Topic 4</b><br>Words: best, good, wtf, everrrrrrrrrrrrrrrrrrrrrrrrrrrrrrrrrrrrrrrrrrrrrrrrrrrrrrrrrrrrrrrrrrrrrrrrrrrrrrrrrrrrrrrrrrrrrrrrrrrrrrr, well"
         ],
         "marker": {
          "color": "#D55E00"
         },
         "mode": "lines",
         "name": "4_best_everrrrrrrrrrrrrrrrrrrrrrrrrrrrrr...",
         "type": "scatter",
         "x": [
          "2014-04-20T18:07:07.316999",
          "2014-11-10T19:13:09.150000",
          "2015-05-29T20:17:53.300000",
          "2015-12-15T21:22:37.449999",
          "2016-07-02T22:27:21.600000",
          "2017-01-18T23:32:05.750000",
          "2017-08-07T00:36:49.900000",
          "2018-02-23T01:41:34.049999",
          "2018-09-11T02:46:18.200000",
          "2019-03-30T03:51:02.350000",
          "2019-10-16T04:55:46.500000",
          "2020-05-03T06:00:30.649999",
          "2020-11-19T07:05:14.800000",
          "2021-06-07T08:09:58.950000",
          "2021-12-24T09:14:43.100000",
          "2022-07-12T10:19:27.249999",
          "2023-01-28T11:24:11.400000",
          "2023-08-16T12:28:55.550000",
          "2024-03-03T13:33:39.700000",
          "2024-09-19T14:38:23.849999"
         ],
         "y": [
          19,
          10,
          4,
          2,
          3,
          7,
          6,
          1,
          9,
          20,
          37,
          31,
          39,
          59,
          52,
          43,
          50,
          47,
          57,
          60
         ]
        },
        {
         "hoverinfo": "text",
         "hovertext": [
          "<b>Topic 5</b><br>Words: yes, nope, yesn, yessir, thank",
          "<b>Topic 5</b><br>Words: yes, nope, yesn, yessir, thank",
          "<b>Topic 5</b><br>Words: yes, yesn, nope, yessir, thank",
          "<b>Topic 5</b><br>Words: yes, yesn, nope, yessir, thank",
          "<b>Topic 5</b><br>Words: yes, yesn, nope, yessir, thank",
          "<b>Topic 5</b><br>Words: yes, yesn, nope, yessir, thank",
          "<b>Topic 5</b><br>Words: yes, yesn, nope, yessir, thank",
          "<b>Topic 5</b><br>Words: yes, yesn, nope, yessir, thank",
          "<b>Topic 5</b><br>Words: yes, yesn, nope, yessir, thank",
          "<b>Topic 5</b><br>Words: yes, yesn, nope, yessir, thank",
          "<b>Topic 5</b><br>Words: yes, yesn, nope, yessir, thank",
          "<b>Topic 5</b><br>Words: yes, yesn, nope, yessir, thank",
          "<b>Topic 5</b><br>Words: yes, yesn, nope, yessir, thank",
          "<b>Topic 5</b><br>Words: yes, thank, bro, sir, cool",
          "<b>Topic 5</b><br>Words: yes, yesn, nope, yessir, thank",
          "<b>Topic 5</b><br>Words: yes, yesn, nope, yessir, thank",
          "<b>Topic 5</b><br>Words: yes, yesn, nope, yessir, thank",
          "<b>Topic 5</b><br>Words: yes, yessir, yesn, nope, thank",
          "<b>Topic 5</b><br>Words: yes, yesn, nope, yessir, thank",
          "<b>Topic 5</b><br>Words: yes, yesn, nope, yessir, thank"
         ],
         "marker": {
          "color": "#0072B2"
         },
         "mode": "lines",
         "name": "5_yes_yesn_nope_yessir",
         "type": "scatter",
         "x": [
          "2014-04-20T18:07:07.316999",
          "2014-11-10T19:13:09.150000",
          "2015-05-29T20:17:53.300000",
          "2015-12-15T21:22:37.449999",
          "2016-07-02T22:27:21.600000",
          "2017-01-18T23:32:05.750000",
          "2017-08-07T00:36:49.900000",
          "2018-02-23T01:41:34.049999",
          "2018-09-11T02:46:18.200000",
          "2019-03-30T03:51:02.350000",
          "2019-10-16T04:55:46.500000",
          "2020-05-03T06:00:30.649999",
          "2020-11-19T07:05:14.800000",
          "2021-06-07T08:09:58.950000",
          "2021-12-24T09:14:43.100000",
          "2022-07-12T10:19:27.249999",
          "2023-01-28T11:24:11.400000",
          "2023-08-16T12:28:55.550000",
          "2024-03-03T13:33:39.700000",
          "2024-09-19T14:38:23.849999"
         ],
         "y": [
          25,
          13,
          5,
          6,
          4,
          1,
          3,
          2,
          5,
          9,
          50,
          50,
          49,
          45,
          40,
          26,
          15,
          24,
          23,
          23
         ]
        },
        {
         "hoverinfo": "text",
         "hovertext": [
          "<b>Topic 6</b><br>Words: keyboard, mouse, controller, control, don",
          "<b>Topic 6</b><br>Words: keyboard, mouse, controller, don, control",
          "<b>Topic 6</b><br>Words: don, keyboard, mouse, clicking, controller",
          "<b>Topic 6</b><br>Words: keyboard, mouse, controller, click, control",
          "<b>Topic 6</b><br>Words: keyboard, mouse, don, controller, mosue",
          "<b>Topic 6</b><br>Words: keyboard, mouse, controller, control, key",
          "<b>Topic 6</b><br>Words: keyboard, mouse, controler, paypal, will",
          "<b>Topic 6</b><br>Words: sensitivity, mouse, binding, keyboard, interface",
          "<b>Topic 6</b><br>Words: keybinding, keyboard, mouse, dualwielding, have",
          "<b>Topic 6</b><br>Words: keyboard, mouse, waterboarded, don, control",
          "<b>Topic 6</b><br>Words: don, keyboard, mouse, control, controller",
          "<b>Topic 6</b><br>Words: keyboard, mouse, control, bind, controller",
          "<b>Topic 6</b><br>Words: keyboard, mouse, don, prompt, hassel",
          "<b>Topic 6</b><br>Words: mouse, keyboard, autohotkey, clicking, disable",
          "<b>Topic 6</b><br>Words: don, mouse, keyboard, downvote, bind",
          "<b>Topic 6</b><br>Words: keyboard, mouse, click, disable, controller",
          "<b>Topic 6</b><br>Words: keyboard, mouse, cotroller, control, bind",
          "<b>Topic 6</b><br>Words: keyboard, mouse, remap, don, longish",
          "<b>Topic 6</b><br>Words: keyboard, mouse, clunkt, controller, control",
          "<b>Topic 6</b><br>Words: keyboard, mouse, don, miyuzaki, rebind"
         ],
         "marker": {
          "color": "#CC79A7"
         },
         "mode": "lines",
         "name": "6_keyboard_mouse_controller_control",
         "type": "scatter",
         "x": [
          "2014-04-20T18:07:07.316999",
          "2014-11-10T19:13:09.150000",
          "2015-05-29T20:17:53.300000",
          "2015-12-15T21:22:37.449999",
          "2016-07-02T22:27:21.600000",
          "2017-01-18T23:32:05.750000",
          "2017-08-07T00:36:49.900000",
          "2018-02-23T01:41:34.049999",
          "2018-09-11T02:46:18.200000",
          "2019-03-30T03:51:02.350000",
          "2019-10-16T04:55:46.500000",
          "2020-05-03T06:00:30.649999",
          "2020-11-19T07:05:14.800000",
          "2021-06-07T08:09:58.950000",
          "2021-12-24T09:14:43.100000",
          "2022-07-12T10:19:27.249999",
          "2023-01-28T11:24:11.400000",
          "2023-08-16T12:28:55.550000",
          "2024-03-03T13:33:39.700000",
          "2024-09-19T14:38:23.849999"
         ],
         "y": [
          128,
          19,
          17,
          23,
          8,
          12,
          9,
          2,
          5,
          9,
          15,
          19,
          12,
          13,
          10,
          9,
          9,
          9,
          12,
          13
         ]
        },
        {
         "hoverinfo": "text",
         "hovertext": [
          "<b>Topic 7</b><br>Words: que, de, es, jogo, el",
          "<b>Topic 7</b><br>Words: de, que, jogo, le, et",
          "<b>Topic 7</b><br>Words: que, jogo, ncia, algun, de",
          "<b>Topic 7</b><br>Words: que, jogo, de, se, muito",
          "<b>Topic 7</b><br>Words: que, de, el, en, la",
          "<b>Topic 7</b><br>Words: que, de, su, en, la",
          "<b>Topic 7</b><br>Words: que, el, se, es, de",
          "<b>Topic 7</b><br>Words: morrer, perfeito, matar, mais, se",
          "<b>Topic 7</b><br>Words: el, de, rango, dolor, necesitas",
          "<b>Topic 7</b><br>Words: es, de, jogo, que, el",
          "<b>Topic 7</b><br>Words: que, juegazo, jogo, de, pero",
          "<b>Topic 7</b><br>Words: jogo, que, mas, de, um",
          "<b>Topic 7</b><br>Words: novo, de, que, jogo, el",
          "<b>Topic 7</b><br>Words: que, jogo, de, um, mas",
          "<b>Topic 7</b><br>Words: de, la, es, que, el",
          "<b>Topic 7</b><br>Words: que, de, pra, jogo, voc",
          "<b>Topic 7</b><br>Words: que, de, jogo, el, um",
          "<b>Topic 7</b><br>Words: te, odeio, amo, que, de",
          "<b>Topic 7</b><br>Words: de, que, juego, la, el",
          "<b>Topic 7</b><br>Words: que, de, jogo, la, um"
         ],
         "marker": {
          "color": "#E69F00"
         },
         "mode": "lines",
         "name": "7_de_que_jogo_el",
         "type": "scatter",
         "x": [
          "2014-04-20T18:07:07.316999",
          "2014-11-10T19:13:09.150000",
          "2015-05-29T20:17:53.300000",
          "2015-12-15T21:22:37.449999",
          "2016-07-02T22:27:21.600000",
          "2017-01-18T23:32:05.750000",
          "2017-08-07T00:36:49.900000",
          "2018-02-23T01:41:34.049999",
          "2018-09-11T02:46:18.200000",
          "2019-03-30T03:51:02.350000",
          "2019-10-16T04:55:46.500000",
          "2020-05-03T06:00:30.649999",
          "2020-11-19T07:05:14.800000",
          "2021-06-07T08:09:58.950000",
          "2021-12-24T09:14:43.100000",
          "2022-07-12T10:19:27.249999",
          "2023-01-28T11:24:11.400000",
          "2023-08-16T12:28:55.550000",
          "2024-03-03T13:33:39.700000",
          "2024-09-19T14:38:23.849999"
         ],
         "y": [
          19,
          8,
          6,
          9,
          7,
          4,
          9,
          3,
          6,
          5,
          24,
          23,
          29,
          33,
          18,
          15,
          33,
          23,
          29,
          45
         ]
        },
        {
         "hoverinfo": "text",
         "hovertext": [
          "<b>Topic 8</b><br>Words: great, greattttt, greatttttt, wwwww, outta",
          "<b>Topic 8</b><br>Words: great, greattttt, greatttttt, wwwww, outta",
          "<b>Topic 8</b><br>Words: great, greattttt, greatttttt, wwwww, outta",
          "<b>Topic 8</b><br>Words: great, greattttt, greatttttt, wwwww, outta",
          "<b>Topic 8</b><br>Words: great, greattttt, greatttttt, wwwww, outta",
          "<b>Topic 8</b><br>Words: great, greattttt, greatttttt, wwwww, outta",
          "<b>Topic 8</b><br>Words: great, greattttt, greatttttt, wwwww, outta",
          "<b>Topic 8</b><br>Words: great, greattttt, greatttttt, wwwww, outta",
          "<b>Topic 8</b><br>Words: great, greattttt, greatttttt, wwwww, outta",
          "<b>Topic 8</b><br>Words: great, greattttt, greatttttt, wwwww, outta",
          "<b>Topic 8</b><br>Words: great, greattttt, greatttttt, outta, wwwww",
          "<b>Topic 8</b><br>Words: great, wwwww, greattttt, greatttttt, outta",
          "<b>Topic 8</b><br>Words: great, greattttt, greatttttt, wwwww, outta",
          "<b>Topic 8</b><br>Words: great, greattttt, greatttttt, wwwww, outta",
          "<b>Topic 8</b><br>Words: great, greattttt, greatttttt, wwwww, outta",
          "<b>Topic 8</b><br>Words: great, greattttt, greatttttt, wwwww, outta",
          "<b>Topic 8</b><br>Words: great, greattttt, greatttttt, wwwww, outta",
          "<b>Topic 8</b><br>Words: great, greattttt, greatttttt, wwwww, outta",
          "<b>Topic 8</b><br>Words: great, wonderful, greattttt, greatttttt, wwwww",
          "<b>Topic 8</b><br>Words: great, greattttt, greatttttt, wwwww, outta"
         ],
         "marker": {
          "color": "#56B4E9"
         },
         "mode": "lines",
         "name": "8_great_wwwww_greatttttt_greattttt",
         "type": "scatter",
         "x": [
          "2014-04-20T18:07:07.316999",
          "2014-11-10T19:13:09.150000",
          "2015-05-29T20:17:53.300000",
          "2015-12-15T21:22:37.449999",
          "2016-07-02T22:27:21.600000",
          "2017-01-18T23:32:05.750000",
          "2017-08-07T00:36:49.900000",
          "2018-02-23T01:41:34.049999",
          "2018-09-11T02:46:18.200000",
          "2019-03-30T03:51:02.350000",
          "2019-10-16T04:55:46.500000",
          "2020-05-03T06:00:30.649999",
          "2020-11-19T07:05:14.800000",
          "2021-06-07T08:09:58.950000",
          "2021-12-24T09:14:43.100000",
          "2022-07-12T10:19:27.249999",
          "2023-01-28T11:24:11.400000",
          "2023-08-16T12:28:55.550000",
          "2024-03-03T13:33:39.700000",
          "2024-09-19T14:38:23.849999"
         ],
         "y": [
          39,
          15,
          9,
          10,
          5,
          12,
          9,
          3,
          4,
          14,
          28,
          20,
          23,
          21,
          18,
          14,
          10,
          21,
          9,
          12
         ]
        },
        {
         "hoverinfo": "text",
         "hovertext": [
          "<b>Topic 9</b><br>Words: die, slug, nutshell, rip, hey",
          "<b>Topic 9</b><br>Words: die, fuck, finna, tire, slug",
          "<b>Topic 9</b><br>Words: die, lie, yeah, finna, tire",
          "<b>Topic 9</b><br>Words: die, ls, shit, finna, tire",
          "<b>Topic 9</b><br>Words: die, oh, finna, tire, slug",
          "<b>Topic 9</b><br>Words: don, die, finna, tire, slug",
          "<b>Topic 9</b><br>Words: die, shit, finna, tire, slug",
          "<b>Topic 9</b><br>Words: die, sure, finna, tire, slug",
          "<b>Topic 9</b><br>Words: die, finna, tire, slug, nutshell",
          "<b>Topic 9</b><br>Words: die, finna, tire, slug, nutshell",
          "<b>Topic 9</b><br>Words: die, tired, okay, finna, tire",
          "<b>Topic 9</b><br>Words: finna, die, tire, slug, nutshell",
          "<b>Topic 9</b><br>Words: die, inside, finna, tire, slug",
          "<b>Topic 9</b><br>Words: die, son, finna, tire, slug",
          "<b>Topic 9</b><br>Words: die, finna, tire, slug, nutshell",
          "<b>Topic 9</b><br>Words: die, finna, tire, slug, nutshell",
          "<b>Topic 9</b><br>Words: yay, die, finna, tire, slug",
          "<b>Topic 9</b><br>Words: die, finna, tire, slug, nutshell",
          "<b>Topic 9</b><br>Words: die, finna, tire, slug, nutshell",
          "<b>Topic 9</b><br>Words: die, finna, tire, slug, nutshell"
         ],
         "marker": {
          "color": "#009E73"
         },
         "mode": "lines",
         "name": "9_die_finna_tire_slug",
         "type": "scatter",
         "x": [
          "2014-04-20T18:07:07.316999",
          "2014-11-10T19:13:09.150000",
          "2015-05-29T20:17:53.300000",
          "2015-12-15T21:22:37.449999",
          "2016-07-02T22:27:21.600000",
          "2017-01-18T23:32:05.750000",
          "2017-08-07T00:36:49.900000",
          "2018-02-23T01:41:34.049999",
          "2018-09-11T02:46:18.200000",
          "2019-03-30T03:51:02.350000",
          "2019-10-16T04:55:46.500000",
          "2020-05-03T06:00:30.649999",
          "2020-11-19T07:05:14.800000",
          "2021-06-07T08:09:58.950000",
          "2021-12-24T09:14:43.100000",
          "2022-07-12T10:19:27.249999",
          "2023-01-28T11:24:11.400000",
          "2023-08-16T12:28:55.550000",
          "2024-03-03T13:33:39.700000",
          "2024-09-19T14:38:23.849999"
         ],
         "y": [
          76,
          24,
          13,
          25,
          16,
          14,
          12,
          6,
          7,
          11,
          16,
          12,
          11,
          10,
          9,
          9,
          4,
          7,
          3,
          4
         ]
        },
        {
         "hoverinfo": "text",
         "hovertext": [
          "<b>Topic 10</b><br>Words: git, gud, electric, boogaloo, jihad",
          "<b>Topic 10</b><br>Words: git, gud, xp, start, people",
          "<b>Topic 10</b><br>Words: git, gud, electric, boogaloo, guded",
          "<b>Topic 10</b><br>Words: git, gud, ayyy, gude, lmao",
          "<b>Topic 10</b><br>Words: git, gud, evry, hrs, rule",
          "<b>Topic 10</b><br>Words: git, gud, ganker, creation, screen",
          "<b>Topic 10</b><br>Words: git, gud, phag, revamp, electric",
          "<b>Topic 10</b><br>Words: git, gud, winblade, alternatively, blaze",
          "<b>Topic 10</b><br>Words: git, gud, fkin, electric, boogaloo",
          "<b>Topic 10</b><br>Words: git, gud, manage, lose, electric",
          "<b>Topic 10</b><br>Words: git, gud, darksouls, fair, electric",
          "<b>Topic 10</b><br>Words: git, gud, classic, begin, half",
          "<b>Topic 10</b><br>Words: git, gud, hreatest, givdeo, thaught",
          "<b>Topic 10</b><br>Words: git, gud, giood, mm, casul",
          "<b>Topic 10</b><br>Words: git, gud, oddajcie, bd, bogaloo",
          "<b>Topic 10</b><br>Words: git, gud, curator, page, bow",
          "<b>Topic 10</b><br>Words: git, gud, boogaloo, electric, giid",
          "<b>Topic 10</b><br>Words: git, gud, electric, boogaloo, guded",
          "<b>Topic 10</b><br>Words: git, gud, volume, electric, boogaloo",
          "<b>Topic 10</b><br>Words: git, gud, giid, electric, boogaloo"
         ],
         "marker": {
          "color": "#F0E442"
         },
         "mode": "lines",
         "name": "10_git_gud_electric_boogaloo",
         "type": "scatter",
         "x": [
          "2014-04-20T18:07:07.316999",
          "2014-11-10T19:13:09.150000",
          "2015-05-29T20:17:53.300000",
          "2015-12-15T21:22:37.449999",
          "2016-07-02T22:27:21.600000",
          "2017-01-18T23:32:05.750000",
          "2017-08-07T00:36:49.900000",
          "2018-02-23T01:41:34.049999",
          "2018-09-11T02:46:18.200000",
          "2019-03-30T03:51:02.350000",
          "2019-10-16T04:55:46.500000",
          "2020-05-03T06:00:30.649999",
          "2020-11-19T07:05:14.800000",
          "2021-06-07T08:09:58.950000",
          "2021-12-24T09:14:43.100000",
          "2022-07-12T10:19:27.249999",
          "2023-01-28T11:24:11.400000",
          "2023-08-16T12:28:55.550000",
          "2024-03-03T13:33:39.700000",
          "2024-09-19T14:38:23.849999"
         ],
         "y": [
          25,
          4,
          6,
          10,
          22,
          6,
          20,
          6,
          6,
          10,
          26,
          13,
          29,
          23,
          18,
          6,
          11,
          12,
          6,
          8
         ]
        },
        {
         "hoverinfo": "text",
         "hovertext": [
          "<b>Topic 11</b><br>Words: sun, praise, blah, hourra, adherent",
          "<b>Topic 11</b><br>Words: sun, praise, huraah, sunlight, infinite",
          "<b>Topic 11</b><br>Words: sun, praise, biatch, directx, enhance",
          "<b>Topic 11</b><br>Words: sun, praise, blah, huraah, hourra",
          "<b>Topic 11</b><br>Words: sun, praise, blah, find, huraah",
          "<b>Topic 11</b><br>Words: sun, praise, sunny, blah, huraah",
          "<b>Topic 11</b><br>Words: sun, praise, consume, wary, hole",
          "<b>Topic 11</b><br>Words: sun, praise, blah, hourra, huraah",
          "<b>Topic 11</b><br>Words: sun, praise, blah, hourra, huraah",
          "<b>Topic 11</b><br>Words: sun, praise, glory, blah, hourra",
          "<b>Topic 11</b><br>Words: sun, praise, blah, hourra, huraah",
          "<b>Topic 11</b><br>Words: sun, praise, blah, hourra, huraah",
          "<b>Topic 11</b><br>Words: sun, praise, blah, hourra, huraah",
          "<b>Topic 11</b><br>Words: sun, praise, complete, blah, huraah",
          "<b>Topic 11</b><br>Words: sun, praise, blah, hourra, huraah",
          "<b>Topic 11</b><br>Words: sun, praise, blah, hourra, huraah",
          "<b>Topic 11</b><br>Words: sun, praise, blah, hourra, huraah",
          "<b>Topic 11</b><br>Words: sun, praise, salute, moon, blah",
          "<b>Topic 11</b><br>Words: sun, praise, hoorah, swallow, bom",
          "<b>Topic 11</b><br>Words: sun, praise, blah, hourra, huraah"
         ],
         "marker": {
          "color": "#D55E00"
         },
         "mode": "lines",
         "name": "11_sun_praise_blah_hourra",
         "type": "scatter",
         "x": [
          "2014-04-20T18:07:07.316999",
          "2014-11-10T19:13:09.150000",
          "2015-05-29T20:17:53.300000",
          "2015-12-15T21:22:37.449999",
          "2016-07-02T22:27:21.600000",
          "2017-01-18T23:32:05.750000",
          "2017-08-07T00:36:49.900000",
          "2018-02-23T01:41:34.049999",
          "2018-09-11T02:46:18.200000",
          "2019-03-30T03:51:02.350000",
          "2019-10-16T04:55:46.500000",
          "2020-05-03T06:00:30.649999",
          "2020-11-19T07:05:14.800000",
          "2021-06-07T08:09:58.950000",
          "2021-12-24T09:14:43.100000",
          "2022-07-12T10:19:27.249999",
          "2023-01-28T11:24:11.400000",
          "2023-08-16T12:28:55.550000",
          "2024-03-03T13:33:39.700000",
          "2024-09-19T14:38:23.849999"
         ],
         "y": [
          97,
          19,
          12,
          13,
          15,
          9,
          12,
          3,
          3,
          7,
          9,
          9,
          8,
          11,
          7,
          5,
          4,
          8,
          9,
          6
         ]
        },
        {
         "hoverinfo": "text",
         "hovertext": [
          "<b>Topic 12</b><br>Words: darksouls, darksoul, darksoulsii, exe, beta",
          "<b>Topic 12</b><br>Words: darksouls, sackschwer, hesitent, hgue, loosly",
          "<b>Topic 12</b><br>Words: darksouls, darksoul, absurdly, noobed, hello",
          "<b>Topic 12</b><br>Words: darksouls, darksoul, xenoblade, chronicle, unupdated",
          "<b>Topic 12</b><br>Words: darksouls, poha, squal, diffacult, darkaum",
          "<b>Topic 12</b><br>Words: darksouls, compaire, bsod, hunk, darksoulsii",
          "<b>Topic 12</b><br>Words: darksouls, darksoul, cookie, endurence, darko",
          "<b>Topic 12</b><br>Words: darksoul, darksouls, objectivelly, inspite, personaly",
          "<b>Topic 12</b><br>Words: darksouls, well, darksoul, john, dark",
          "<b>Topic 12</b><br>Words: darksouls, darksoul, darkhorse, don, silence",
          "<b>Topic 12</b><br>Words: darksouls, darksoul, don, load, defentel",
          "<b>Topic 12</b><br>Words: darksouls, blackpill, darksoul, longtime, jrpg",
          "<b>Topic 12</b><br>Words: darksouls, gs, darksoul, moonlight, prob",
          "<b>Topic 12</b><br>Words: darksoul, darksouls, john, migam, ghavie",
          "<b>Topic 12</b><br>Words: darksouls, darksoul, have, darklurker, verbose",
          "<b>Topic 12</b><br>Words: darksouls, darksoul, twoiest, darko, darkest",
          "<b>Topic 12</b><br>Words: darksouls, darkdiver, grandahl, darksoul, sole",
          "<b>Topic 12</b><br>Words: john, darksoul, darksouls, wife, ur",
          "<b>Topic 12</b><br>Words: darksouls, darksoul, darke, shader, erdtree",
          "<b>Topic 12</b><br>Words: darksouls, darksoul, tremendo, darkkiiih, darketosoudos"
         ],
         "marker": {
          "color": "#0072B2"
         },
         "mode": "lines",
         "name": "12_darksouls_darksoul_john_dark",
         "type": "scatter",
         "x": [
          "2014-04-20T18:07:07.316999",
          "2014-11-10T19:13:09.150000",
          "2015-05-29T20:17:53.300000",
          "2015-12-15T21:22:37.449999",
          "2016-07-02T22:27:21.600000",
          "2017-01-18T23:32:05.750000",
          "2017-08-07T00:36:49.900000",
          "2018-02-23T01:41:34.049999",
          "2018-09-11T02:46:18.200000",
          "2019-03-30T03:51:02.350000",
          "2019-10-16T04:55:46.500000",
          "2020-05-03T06:00:30.649999",
          "2020-11-19T07:05:14.800000",
          "2021-06-07T08:09:58.950000",
          "2021-12-24T09:14:43.100000",
          "2022-07-12T10:19:27.249999",
          "2023-01-28T11:24:11.400000",
          "2023-08-16T12:28:55.550000",
          "2024-03-03T13:33:39.700000",
          "2024-09-19T14:38:23.849999"
         ],
         "y": [
          36,
          9,
          15,
          9,
          6,
          3,
          9,
          8,
          1,
          10,
          25,
          9,
          17,
          20,
          17,
          13,
          8,
          7,
          19,
          16
         ]
        },
        {
         "hoverinfo": "text",
         "hovertext": [
          "<b>Topic 13</b><br>Words: pc, ps, xbox, gpu, console",
          "<b>Topic 13</b><br>Words: don, pc, minimum, gpu, haven",
          "<b>Topic 13</b><br>Words: pc, fps, card, minimum, spec",
          "<b>Topic 13</b><br>Words: don, pc, xbox, computer, ps",
          "<b>Topic 13</b><br>Words: dscm, tiring, ps, laptop, optimize",
          "<b>Topic 13</b><br>Words: preeeeeety, haven, don, ps, pc",
          "<b>Topic 13</b><br>Words: os, gb, spec, sandisk, xeon",
          "<b>Topic 13</b><br>Words: evironment, soooooooo, ps, pentium, gt",
          "<b>Topic 13</b><br>Words: don, becuz, spec, crappy, card",
          "<b>Topic 13</b><br>Words: xbox, pc, fullscreen, ps, passion",
          "<b>Topic 13</b><br>Words: ps, ubuntu, pc, fond, hd",
          "<b>Topic 13</b><br>Words: don, ps, aweassome, aweare, xbox",
          "<b>Topic 13</b><br>Words: laptop, ps, xbox, pc, gb",
          "<b>Topic 13</b><br>Words: ps, xbox, pc, laptop, vram",
          "<b>Topic 13</b><br>Words: aghhh, pc, sadge, nonstop, drift",
          "<b>Topic 13</b><br>Words: don, fullcreen, utter, looking, ps",
          "<b>Topic 13</b><br>Words: don, intead, eitherway, platform, unhappy",
          "<b>Topic 13</b><br>Words: xbox, black, armor, sotfs, sure",
          "<b>Topic 13</b><br>Words: godpiece, ps, implementation, runback, decade",
          "<b>Topic 13</b><br>Words: don, minimize, haven, pc, monitor"
         ],
         "marker": {
          "color": "#CC79A7"
         },
         "mode": "lines",
         "name": "13_pc_xbox_laptop_console",
         "type": "scatter",
         "x": [
          "2014-04-20T18:07:07.316999",
          "2014-11-10T19:13:09.150000",
          "2015-05-29T20:17:53.300000",
          "2015-12-15T21:22:37.449999",
          "2016-07-02T22:27:21.600000",
          "2017-01-18T23:32:05.750000",
          "2017-08-07T00:36:49.900000",
          "2018-02-23T01:41:34.049999",
          "2018-09-11T02:46:18.200000",
          "2019-03-30T03:51:02.350000",
          "2019-10-16T04:55:46.500000",
          "2020-05-03T06:00:30.649999",
          "2020-11-19T07:05:14.800000",
          "2021-06-07T08:09:58.950000",
          "2021-12-24T09:14:43.100000",
          "2022-07-12T10:19:27.249999",
          "2023-01-28T11:24:11.400000",
          "2023-08-16T12:28:55.550000",
          "2024-03-03T13:33:39.700000",
          "2024-09-19T14:38:23.849999"
         ],
         "y": [
          72,
          20,
          19,
          14,
          8,
          9,
          8,
          3,
          3,
          7,
          12,
          10,
          12,
          19,
          8,
          5,
          8,
          1,
          4,
          13
         ]
        },
        {
         "hoverinfo": "text",
         "hovertext": [
          "<b>Topic 14</b><br>Words: fun, crazy, know, cassual, people",
          "<b>Topic 14</b><br>Words: gritty, fun, cassual, ha, spambush",
          "<b>Topic 14</b><br>Words: magical, fun, cassual, ha, spambush",
          "<b>Topic 14</b><br>Words: fun, cassual, ha, spambush, scuffed",
          "<b>Topic 14</b><br>Words: fun, cassual, ha, spambush, scuffed",
          "<b>Topic 14</b><br>Words: fun, don, have, nutshell, haha",
          "<b>Topic 14</b><br>Words: fun, cassual, ha, spambush, scuffed",
          "<b>Topic 14</b><br>Words: fun, cassual, ha, spambush, scuffed",
          "<b>Topic 14</b><br>Words: fun, sound, cassual, ha, spambush",
          "<b>Topic 14</b><br>Words: fun, long, cassual, ha, spambush",
          "<b>Topic 14</b><br>Words: fun, ha, interesting, cassual, spambush",
          "<b>Topic 14</b><br>Words: fun, stuff, cassual, ha, spambush",
          "<b>Topic 14</b><br>Words: fun, cassual, ha, spambush, scuffed",
          "<b>Topic 14</b><br>Words: fun, scary, cassual, ha, spambush",
          "<b>Topic 14</b><br>Words: fun, cassual, ha, spambush, scuffed",
          "<b>Topic 14</b><br>Words: fun, cassual, ha, spambush, scuffed",
          "<b>Topic 14</b><br>Words: fun, abuse, stupid, cassual, ha",
          "<b>Topic 14</b><br>Words: fun, cassual, spambush, scuffed, alot",
          "<b>Topic 14</b><br>Words: fun, hehe, cassual, ha, spambush"
         ],
         "marker": {
          "color": "#E69F00"
         },
         "mode": "lines",
         "name": "14_fun_cassual_ha_spambush",
         "type": "scatter",
         "x": [
          "2014-04-20T18:07:07.316999",
          "2014-11-10T19:13:09.150000",
          "2015-05-29T20:17:53.300000",
          "2015-12-15T21:22:37.449999",
          "2016-07-02T22:27:21.600000",
          "2017-01-18T23:32:05.750000",
          "2017-08-07T00:36:49.900000",
          "2018-09-11T02:46:18.200000",
          "2019-03-30T03:51:02.350000",
          "2019-10-16T04:55:46.500000",
          "2020-05-03T06:00:30.649999",
          "2020-11-19T07:05:14.800000",
          "2021-06-07T08:09:58.950000",
          "2021-12-24T09:14:43.100000",
          "2022-07-12T10:19:27.249999",
          "2023-01-28T11:24:11.400000",
          "2023-08-16T12:28:55.550000",
          "2024-03-03T13:33:39.700000",
          "2024-09-19T14:38:23.849999"
         ],
         "y": [
          12,
          3,
          3,
          3,
          2,
          8,
          3,
          4,
          11,
          22,
          19,
          26,
          28,
          15,
          10,
          13,
          14,
          21,
          18
         ]
        },
        {
         "hoverinfo": "text",
         "hovertext": [
          "<b>Topic 15</b><br>Words: nice, niceeeeeeeeeee, yi, yes, yeah",
          "<b>Topic 15</b><br>Words: nice, yeah, yes, niceeeeeeeeeee, yi",
          "<b>Topic 15</b><br>Words: nice, niceeeeeeeeeee, yi, yes, yeah",
          "<b>Topic 15</b><br>Words: nice, niceeeeeeeeeee, yi, yes, yeah",
          "<b>Topic 15</b><br>Words: nice, niceeeeeeeeeee, yi, yes, yeah",
          "<b>Topic 15</b><br>Words: nice, niceeeeeeeeeee, yi, yes, yeah",
          "<b>Topic 15</b><br>Words: nice, niceeeeeeeeeee, yi, yes, yeah",
          "<b>Topic 15</b><br>Words: nice, niceeeeeeeeeee, yi, yes, yeah",
          "<b>Topic 15</b><br>Words: nice, niceeeeeeeeeee, yi, yes, yeah",
          "<b>Topic 15</b><br>Words: nice, yes, niceeeeeeeeeee, yi, yeah",
          "<b>Topic 15</b><br>Words: nice, niceeeeeeeeeee, yi, yes, yeah",
          "<b>Topic 15</b><br>Words: nice, niceeeeeeeeeee, yi, yes, yeah",
          "<b>Topic 15</b><br>Words: nice, niceeeeeeeeeee, yes, yi, yeah",
          "<b>Topic 15</b><br>Words: nice, niceeeeeeeeeee, yi, yes, yeah",
          "<b>Topic 15</b><br>Words: nice, niceeeeeeeeeee, yi, yes, yeah",
          "<b>Topic 15</b><br>Words: nice, niceeeeeeeeeee, yi, yes, yeah",
          "<b>Topic 15</b><br>Words: nice, niceeeeeeeeeee, yi, yes, yeah",
          "<b>Topic 15</b><br>Words: nice, niceeeeeeeeeee, yi, yes, yeah",
          "<b>Topic 15</b><br>Words: nice, niceeeeeeeeeee, yi, yes, yeah",
          "<b>Topic 15</b><br>Words: nice, niceeeeeeeeeee, yi, yes, yeah"
         ],
         "marker": {
          "color": "#56B4E9"
         },
         "mode": "lines",
         "name": "15_nice_niceeeeeeeeeee_yi_yes",
         "type": "scatter",
         "x": [
          "2014-04-20T18:07:07.316999",
          "2014-11-10T19:13:09.150000",
          "2015-05-29T20:17:53.300000",
          "2015-12-15T21:22:37.449999",
          "2016-07-02T22:27:21.600000",
          "2017-01-18T23:32:05.750000",
          "2017-08-07T00:36:49.900000",
          "2018-02-23T01:41:34.049999",
          "2018-09-11T02:46:18.200000",
          "2019-03-30T03:51:02.350000",
          "2019-10-16T04:55:46.500000",
          "2020-05-03T06:00:30.649999",
          "2020-11-19T07:05:14.800000",
          "2021-06-07T08:09:58.950000",
          "2021-12-24T09:14:43.100000",
          "2022-07-12T10:19:27.249999",
          "2023-01-28T11:24:11.400000",
          "2023-08-16T12:28:55.550000",
          "2024-03-03T13:33:39.700000",
          "2024-09-19T14:38:23.849999"
         ],
         "y": [
          7,
          6,
          2,
          2,
          2,
          3,
          5,
          9,
          4,
          17,
          23,
          29,
          23,
          26,
          23,
          8,
          13,
          13,
          9,
          8
         ]
        },
        {
         "hoverinfo": "text",
         "hovertext": [
          "<b>Topic 16</b><br>Words: rpg, action, rpgs, fantasy, haven",
          "<b>Topic 16</b><br>Words: rpg, action, simpely, dificutly, contemplation",
          "<b>Topic 16</b><br>Words: rpg, beatifull, challange, action, masterpeice",
          "<b>Topic 16</b><br>Words: rpg, action, rpgs, youngster, furthur",
          "<b>Topic 16</b><br>Words: rpg, educative, buttkicking, dogma, mature",
          "<b>Topic 16</b><br>Words: rpg, beautyful, ga, kink, darksoul",
          "<b>Topic 16</b><br>Words: unic, salvation, rpg, arpg, af",
          "<b>Topic 16</b><br>Words: rpg, totally, adventure, action, light",
          "<b>Topic 16</b><br>Words: gamepaly, defect, action, rpg, rpgs",
          "<b>Topic 16</b><br>Words: goodness, fav, rpg, action, rpgs",
          "<b>Topic 16</b><br>Words: rpg, jrpg, action, fantasy, bb",
          "<b>Topic 16</b><br>Words: rpg, action, epitome, overshadow, meaningful",
          "<b>Topic 16</b><br>Words: rpg, integrity, fantasy, action, ingame",
          "<b>Topic 16</b><br>Words: rpg, polemic, challanger, rpgs, jewel",
          "<b>Topic 16</b><br>Words: rpg, action, footstep, endlessly, detract",
          "<b>Topic 16</b><br>Words: have, genre, line, hand, software",
          "<b>Topic 16</b><br>Words: tribulation, rpg, arpg, experimental, polished",
          "<b>Topic 16</b><br>Words: crpg, european, eastern, personal, rpg",
          "<b>Topic 16</b><br>Words: rpg, rpgs, traditionally, action, exceed",
          "<b>Topic 16</b><br>Words: don, rpg, victim, unenviable, overhate"
         ],
         "marker": {
          "color": "#009E73"
         },
         "mode": "lines",
         "name": "16_rpg_action_rpgs_fantasy",
         "type": "scatter",
         "x": [
          "2014-04-20T18:07:07.316999",
          "2014-11-10T19:13:09.150000",
          "2015-05-29T20:17:53.300000",
          "2015-12-15T21:22:37.449999",
          "2016-07-02T22:27:21.600000",
          "2017-01-18T23:32:05.750000",
          "2017-08-07T00:36:49.900000",
          "2018-02-23T01:41:34.049999",
          "2018-09-11T02:46:18.200000",
          "2019-03-30T03:51:02.350000",
          "2019-10-16T04:55:46.500000",
          "2020-05-03T06:00:30.649999",
          "2020-11-19T07:05:14.800000",
          "2021-06-07T08:09:58.950000",
          "2021-12-24T09:14:43.100000",
          "2022-07-12T10:19:27.249999",
          "2023-01-28T11:24:11.400000",
          "2023-08-16T12:28:55.550000",
          "2024-03-03T13:33:39.700000",
          "2024-09-19T14:38:23.849999"
         ],
         "y": [
          80,
          16,
          13,
          18,
          8,
          6,
          4,
          2,
          2,
          4,
          8,
          5,
          12,
          10,
          6,
          1,
          4,
          1,
          6,
          7
         ]
        },
        {
         "hoverinfo": "text",
         "hovertext": [
          "<b>Topic 17</b><br>Words: challenge, challenging, centry, harcore, don",
          "<b>Topic 17</b><br>Words: challenge, challenging, supah, don, dosen",
          "<b>Topic 17</b><br>Words: challenging, challenge, realy, definetly, taste",
          "<b>Topic 17</b><br>Words: challenge, humility, litterally, challenging, goal",
          "<b>Topic 17</b><br>Words: challenging, awesome, challenge, real, original",
          "<b>Topic 17</b><br>Words: awd, sophisticatioadawdw, difficeurewlt, challenge, challenging",
          "<b>Topic 17</b><br>Words: challenging, regret, satisfy, win, challenge",
          "<b>Topic 17</b><br>Words: don, lul, hungry, challenge, equally",
          "<b>Topic 17</b><br>Words: grasp, challenging, timing, ago, challenge",
          "<b>Topic 17</b><br>Words: aaaaaarrrrghhhh, challenge, challenging, adventurous, wrap",
          "<b>Topic 17</b><br>Words: challenging, haaard, challenge, wrap, brilliant",
          "<b>Topic 17</b><br>Words: challenge, challenging, aaaaaaaaaaaaaaaaaaaaaaaaaaaaaaaaaaaaaaaaaaaaaaaaaaaaaaaaaaaaaahhhhhhhhhhhhhhhhhhhhhhhhhhhhhhhhhhhhhhhhhhhhhh, aaaaaaaaaaaaaaaaaaaaaaaaaaaaaaaaahhhhhhhhhhhhhhhhhhhhhhhhhhhhhhhhhhhhhhhhhhhhhhhhhhhhhhhh, legendary",
          "<b>Topic 17</b><br>Words: brilliantly, challenge, definitly, challenging, fair",
          "<b>Topic 17</b><br>Words: challenge, differently, challenging, overcome, clunky",
          "<b>Topic 17</b><br>Words: don, have, challenge, challenging, trick",
          "<b>Topic 17</b><br>Words: extreme, numerous, challenge, challenging, ability",
          "<b>Topic 17</b><br>Words: stress, meme, challenge, challenging, figure",
          "<b>Topic 17</b><br>Words: challenging, school, challenge, balance, fair",
          "<b>Topic 17</b><br>Words: imo, damn, challenging, real, challenge",
          "<b>Topic 17</b><br>Words: bid, challenge, definitely, worth, original"
         ],
         "marker": {
          "color": "#F0E442"
         },
         "mode": "lines",
         "name": "17_challenge_challenging_fun_aaaaaaaaaaa...",
         "type": "scatter",
         "x": [
          "2014-04-20T18:07:07.316999",
          "2014-11-10T19:13:09.150000",
          "2015-05-29T20:17:53.300000",
          "2015-12-15T21:22:37.449999",
          "2016-07-02T22:27:21.600000",
          "2017-01-18T23:32:05.750000",
          "2017-08-07T00:36:49.900000",
          "2018-02-23T01:41:34.049999",
          "2018-09-11T02:46:18.200000",
          "2019-03-30T03:51:02.350000",
          "2019-10-16T04:55:46.500000",
          "2020-05-03T06:00:30.649999",
          "2020-11-19T07:05:14.800000",
          "2021-06-07T08:09:58.950000",
          "2021-12-24T09:14:43.100000",
          "2022-07-12T10:19:27.249999",
          "2023-01-28T11:24:11.400000",
          "2023-08-16T12:28:55.550000",
          "2024-03-03T13:33:39.700000",
          "2024-09-19T14:38:23.849999"
         ],
         "y": [
          51,
          28,
          10,
          8,
          6,
          6,
          3,
          5,
          3,
          10,
          19,
          20,
          6,
          11,
          10,
          3,
          3,
          5,
          2,
          3
         ]
        },
        {
         "hoverinfo": "text",
         "hovertext": [
          "<b>Topic 18</b><br>Words: ever, everrrrrrrrrr, aloud, bestes, best",
          "<b>Topic 18</b><br>Words: ever, horry, shet, canser, pong",
          "<b>Topic 18</b><br>Words: freaking, lol, ever, best, good",
          "<b>Topic 18</b><br>Words: good, ever, best, sombre, peev",
          "<b>Topic 18</b><br>Words: eeeeeeeeeeeevvvvvvvvvvveeeeeeeeerrrrrrr, foooooooorrrrrrrrr, ever, best, possibly",
          "<b>Topic 18</b><br>Words: good, ever, best, sombre, peev",
          "<b>Topic 18</b><br>Words: reccomend, ever, good, best, sombre",
          "<b>Topic 18</b><br>Words: good, ever, best, sombre, peev",
          "<b>Topic 18</b><br>Words: sombre, ever, best, fuck, eeeeeeeeeeeevvvvvvvvvvveeeeeeeeerrrrrrr",
          "<b>Topic 18</b><br>Words: probably, good, ever, best, sombre",
          "<b>Topic 18</b><br>Words: peev, ever, best, good, sombre",
          "<b>Topic 18</b><br>Words: fucking, ever, shit, best, yes",
          "<b>Topic 18</b><br>Words: greatt, ever, fcking, satisfied, sick",
          "<b>Topic 18</b><br>Words: omg, hey, ever, best, good",
          "<b>Topic 18</b><br>Words: good, ever, best, sombre, peev",
          "<b>Topic 18</b><br>Words: good, ever, best, sombre, peev",
          "<b>Topic 18</b><br>Words: fucking, ever, good, best, well",
          "<b>Topic 18</b><br>Words: probably, good, ever, best, like",
          "<b>Topic 18</b><br>Words: good, ever, ii, like, best",
          "<b>Topic 18</b><br>Words: mura, ever, ee, tony, biased"
         ],
         "marker": {
          "color": "#D55E00"
         },
         "mode": "lines",
         "name": "18_ever_best_sombre_shet",
         "type": "scatter",
         "x": [
          "2014-04-20T18:07:07.316999",
          "2014-11-10T19:13:09.150000",
          "2015-05-29T20:17:53.300000",
          "2015-12-15T21:22:37.449999",
          "2016-07-02T22:27:21.600000",
          "2017-01-18T23:32:05.750000",
          "2017-08-07T00:36:49.900000",
          "2018-02-23T01:41:34.049999",
          "2018-09-11T02:46:18.200000",
          "2019-03-30T03:51:02.350000",
          "2019-10-16T04:55:46.500000",
          "2020-05-03T06:00:30.649999",
          "2020-11-19T07:05:14.800000",
          "2021-06-07T08:09:58.950000",
          "2021-12-24T09:14:43.100000",
          "2022-07-12T10:19:27.249999",
          "2023-01-28T11:24:11.400000",
          "2023-08-16T12:28:55.550000",
          "2024-03-03T13:33:39.700000",
          "2024-09-19T14:38:23.849999"
         ],
         "y": [
          63,
          26,
          8,
          13,
          9,
          5,
          4,
          1,
          3,
          5,
          10,
          6,
          7,
          9,
          5,
          3,
          7,
          7,
          8,
          11
         ]
        },
        {
         "hoverinfo": "text",
         "hovertext": [
          "<b>Topic 19</b><br>Words: controller, don, xbox, break, vibrate",
          "<b>Topic 19</b><br>Words: controller, xbox, awhile, rager, nuff",
          "<b>Topic 19</b><br>Words: controller, arrive, window, cus, microsoft",
          "<b>Topic 19</b><br>Words: controller, don, xboxone, wire, smash",
          "<b>Topic 19</b><br>Words: controller, bubble, wrap, haate, haaaaaate",
          "<b>Topic 19</b><br>Words: controller, window, cable, break, folder",
          "<b>Topic 19</b><br>Words: controller, offical, haven, ahhh, xbox",
          "<b>Topic 19</b><br>Words: camt, definitley, controller, window, ps",
          "<b>Topic 19</b><br>Words: controller, playstation, have, reborn, external",
          "<b>Topic 19</b><br>Words: controller, broken, finally, control, fun",
          "<b>Topic 19</b><br>Words: controller, rec, tuning, bill, dice",
          "<b>Topic 19</b><br>Words: wojak, controller, smug, plug, session",
          "<b>Topic 19</b><br>Words: controller, have, dependant, bossfight, break",
          "<b>Topic 19</b><br>Words: controller, pulverize, electronic, dust, break",
          "<b>Topic 19</b><br>Words: controller, carpal, armin, smash, dang",
          "<b>Topic 19</b><br>Words: business, controller, joystick, controler, window",
          "<b>Topic 19</b><br>Words: controller, xbox, work, buy, break",
          "<b>Topic 19</b><br>Words: controller, dualsense, baybeyy, angrily, disc",
          "<b>Topic 19</b><br>Words: urself, controller, well, xbox, break",
          "<b>Topic 19</b><br>Words: don, joystick, controller, break, support"
         ],
         "marker": {
          "color": "#0072B2"
         },
         "mode": "lines",
         "name": "19_controller_xbox_break_window",
         "type": "scatter",
         "x": [
          "2014-04-20T18:07:07.316999",
          "2014-11-10T19:13:09.150000",
          "2015-05-29T20:17:53.300000",
          "2015-12-15T21:22:37.449999",
          "2016-07-02T22:27:21.600000",
          "2017-01-18T23:32:05.750000",
          "2017-08-07T00:36:49.900000",
          "2018-02-23T01:41:34.049999",
          "2018-09-11T02:46:18.200000",
          "2019-03-30T03:51:02.350000",
          "2019-10-16T04:55:46.500000",
          "2020-05-03T06:00:30.649999",
          "2020-11-19T07:05:14.800000",
          "2021-06-07T08:09:58.950000",
          "2021-12-24T09:14:43.100000",
          "2022-07-12T10:19:27.249999",
          "2023-01-28T11:24:11.400000",
          "2023-08-16T12:28:55.550000",
          "2024-03-03T13:33:39.700000",
          "2024-09-19T14:38:23.849999"
         ],
         "y": [
          73,
          23,
          8,
          10,
          8,
          11,
          10,
          2,
          3,
          3,
          11,
          5,
          4,
          8,
          7,
          5,
          2,
          8,
          1,
          4
         ]
        },
        {
         "hoverinfo": "text",
         "hovertext": [
          "<b>Topic 20</b><br>Words: don, buy, sale, twice, bought",
          "<b>Topic 20</b><br>Words: sale, buy, fcuk, solitude, strand",
          "<b>Topic 20</b><br>Words: sale, buy, haven, plesant, bough",
          "<b>Topic 20</b><br>Words: don, buy, twice, grillfriend, musta",
          "<b>Topic 20</b><br>Words: circlejerker, hahahahahah, rhino, buy, cyclop",
          "<b>Topic 20</b><br>Words: shgould, twice, will, sux, buy",
          "<b>Topic 20</b><br>Words: maldron, twice, asshole, price, instantly",
          "<b>Topic 20</b><br>Words: remarble, recomend, twice, glad, sale",
          "<b>Topic 20</b><br>Words: don, sale, be, unjustified, buy",
          "<b>Topic 20</b><br>Words: sale, chuuni, aighyt, barley, withstand",
          "<b>Topic 20</b><br>Words: don, monki, preconceived, buy, sale",
          "<b>Topic 20</b><br>Words: sale, buy, fook, don, fookin",
          "<b>Topic 20</b><br>Words: admission, ass, buy, sale, price",
          "<b>Topic 20</b><br>Words: don, ye, buy, crazy, suggest",
          "<b>Topic 20</b><br>Words: fricking, hoe, winter, sale, cost",
          "<b>Topic 20</b><br>Words: eam, sale, buy, noob, definetly",
          "<b>Topic 20</b><br>Words: be, hesitation, buck, buy, sale",
          "<b>Topic 20</b><br>Words: belive, yesterday, buy, idk, twice",
          "<b>Topic 20</b><br>Words: don, buyin, twice, belong, buy"
         ],
         "marker": {
          "color": "#CC79A7"
         },
         "mode": "lines",
         "name": "20_buy_sale_bought_twice",
         "type": "scatter",
         "x": [
          "2014-04-20T18:07:07.316999",
          "2014-11-10T19:13:09.150000",
          "2015-05-29T20:17:53.300000",
          "2015-12-15T21:22:37.449999",
          "2016-07-02T22:27:21.600000",
          "2017-01-18T23:32:05.750000",
          "2017-08-07T00:36:49.900000",
          "2018-02-23T01:41:34.049999",
          "2019-03-30T03:51:02.350000",
          "2019-10-16T04:55:46.500000",
          "2020-05-03T06:00:30.649999",
          "2020-11-19T07:05:14.800000",
          "2021-06-07T08:09:58.950000",
          "2021-12-24T09:14:43.100000",
          "2022-07-12T10:19:27.249999",
          "2023-01-28T11:24:11.400000",
          "2023-08-16T12:28:55.550000",
          "2024-03-03T13:33:39.700000",
          "2024-09-19T14:38:23.849999"
         ],
         "y": [
          51,
          12,
          15,
          16,
          9,
          10,
          5,
          3,
          8,
          10,
          8,
          11,
          4,
          5,
          5,
          9,
          4,
          6,
          8
         ]
        },
        {
         "hoverinfo": "text",
         "hovertext": [
          "<b>Topic 21</b><br>Words: sun, praise, don, priase, consist",
          "<b>Topic 21</b><br>Words: sun, praise, don, dontu, username",
          "<b>Topic 21</b><br>Words: sun, praise, navigating, solare, gwynevere",
          "<b>Topic 21</b><br>Words: sun, praise, hummingbird, wretch, monk",
          "<b>Topic 21</b><br>Words: sun, praise, praisethe, selft, froom",
          "<b>Topic 21</b><br>Words: rekt, sun, praise, bro, fulfil",
          "<b>Topic 21</b><br>Words: sun, praise, cuphead, allot, praising",
          "<b>Topic 21</b><br>Words: hurra, sun, glorify, hurray, praise",
          "<b>Topic 21</b><br>Words: gs, don, sun, wonderfull, praise",
          "<b>Topic 21</b><br>Words: don, sun, praiser, praise, beware",
          "<b>Topic 21</b><br>Words: sun, ether, definition, deprive, praise",
          "<b>Topic 21</b><br>Words: sun, praise, approve, gorgeous, view",
          "<b>Topic 21</b><br>Words: sun, praise, mercifully, brick, haven",
          "<b>Topic 21</b><br>Words: sun, don, praise, strat, diff",
          "<b>Topic 21</b><br>Words: receive, totally, underrated, sun, deserve",
          "<b>Topic 21</b><br>Words: sunbro, live, grab, sun, truly",
          "<b>Topic 21</b><br>Words: sunbro, chunk, annoying, sun, thank",
          "<b>Topic 21</b><br>Words: stellar, sun, praise, priase, therefore",
          "<b>Topic 21</b><br>Words: chill, dungeon, vibe, sun, praise",
          "<b>Topic 21</b><br>Words: step, afterall, ending, sun, praise"
         ],
         "marker": {
          "color": "#E69F00"
         },
         "mode": "lines",
         "name": "21_sun_praise_priase_therefore",
         "type": "scatter",
         "x": [
          "2014-04-20T18:07:07.316999",
          "2014-11-10T19:13:09.150000",
          "2015-05-29T20:17:53.300000",
          "2015-12-15T21:22:37.449999",
          "2016-07-02T22:27:21.600000",
          "2017-01-18T23:32:05.750000",
          "2017-08-07T00:36:49.900000",
          "2018-02-23T01:41:34.049999",
          "2018-09-11T02:46:18.200000",
          "2019-03-30T03:51:02.350000",
          "2019-10-16T04:55:46.500000",
          "2020-05-03T06:00:30.649999",
          "2020-11-19T07:05:14.800000",
          "2021-06-07T08:09:58.950000",
          "2021-12-24T09:14:43.100000",
          "2022-07-12T10:19:27.249999",
          "2023-01-28T11:24:11.400000",
          "2023-08-16T12:28:55.550000",
          "2024-03-03T13:33:39.700000",
          "2024-09-19T14:38:23.849999"
         ],
         "y": [
          83,
          20,
          5,
          15,
          7,
          6,
          9,
          3,
          3,
          4,
          4,
          5,
          8,
          4,
          1,
          2,
          2,
          1,
          1,
          3
         ]
        },
        {
         "hoverinfo": "text",
         "hovertext": [
          "<b>Topic 22</b><br>Words: videojame, das, box, biscuit, hitboxes",
          "<b>Topic 22</b><br>Words: hitbox, wierd, lag, wrong, prepare",
          "<b>Topic 22</b><br>Words: complane, haven, sugest, exept, boat",
          "<b>Topic 22</b><br>Words: don, relate, expect, hitboxes, issue",
          "<b>Topic 22</b><br>Words: hitbox, machine, understandable, hello, hitboxes",
          "<b>Topic 22</b><br>Words: detection, hitbox, ignore, balance, small",
          "<b>Topic 22</b><br>Words: puzzle, replayability, break, hit, issue",
          "<b>Topic 22</b><br>Words: fatty, detection, anyways, hit, tho",
          "<b>Topic 22</b><br>Words: hitboxes, redirect, awkward, detach, passable",
          "<b>Topic 22</b><br>Words: hitboxs, pritty, hitbox, apart, hitboxes",
          "<b>Topic 22</b><br>Words: hitbox, box, quebrada, bah, hitboxes",
          "<b>Topic 22</b><br>Words: hitbox, box, hitboxes, swagger, don",
          "<b>Topic 22</b><br>Words: hitbox, box, hitboxes, aahahahahahahhaa, shiitbox",
          "<b>Topic 22</b><br>Words: hitbox, box, hitboxes, rodeo, submit",
          "<b>Topic 22</b><br>Words: box, sleeper, controll, hitbox, hit",
          "<b>Topic 22</b><br>Words: hitbox, box, hitboxes, hit, caetus",
          "<b>Topic 22</b><br>Words: hitbox, hitboxes, have, box, assin",
          "<b>Topic 22</b><br>Words: hitbox, hitboxes, box, hyperinflation, hungary"
         ],
         "marker": {
          "color": "#56B4E9"
         },
         "mode": "lines",
         "name": "22_hitboxes_hitbox_box_hit",
         "type": "scatter",
         "x": [
          "2014-04-20T18:07:07.316999",
          "2014-11-10T19:13:09.150000",
          "2015-12-15T21:22:37.449999",
          "2016-07-02T22:27:21.600000",
          "2017-01-18T23:32:05.750000",
          "2017-08-07T00:36:49.900000",
          "2018-09-11T02:46:18.200000",
          "2019-03-30T03:51:02.350000",
          "2019-10-16T04:55:46.500000",
          "2020-05-03T06:00:30.649999",
          "2020-11-19T07:05:14.800000",
          "2021-06-07T08:09:58.950000",
          "2021-12-24T09:14:43.100000",
          "2022-07-12T10:19:27.249999",
          "2023-01-28T11:24:11.400000",
          "2023-08-16T12:28:55.550000",
          "2024-03-03T13:33:39.700000",
          "2024-09-19T14:38:23.849999"
         ],
         "y": [
          9,
          2,
          4,
          1,
          3,
          1,
          2,
          3,
          7,
          8,
          21,
          21,
          14,
          19,
          9,
          23,
          17,
          22
         ]
        },
        {
         "hoverinfo": "text",
         "hovertext": [
          "<b>Topic 23</b><br>Words: soulsborne, souler, freshness, stoke, powered",
          "<b>Topic 23</b><br>Words: soulsbourne, nonetheless, memorable, decent, cool",
          "<b>Topic 23</b><br>Words: soulsborne, bologna, soulsborn, intro, equal",
          "<b>Topic 23</b><br>Words: soulsborne, don, especailly, romhack, dampen",
          "<b>Topic 23</b><br>Words: selection, soulsborne, opinion, favorite, pvp",
          "<b>Topic 23</b><br>Words: soulsborne, admiration, pfft, don, soulsborn",
          "<b>Topic 23</b><br>Words: soulsborne, inconic, unmistakably, soulsbourne, haven",
          "<b>Topic 23</b><br>Words: soulsborne, soulsbourne, depetrify, apotheosis, soulsky",
          "<b>Topic 23</b><br>Words: soulsborne, soulsbourne, bourne, ultimatum, demonsborne",
          "<b>Topic 23</b><br>Words: soulsborne, soulslike, aliexpress, soulsbourne, don",
          "<b>Topic 23</b><br>Words: soulsborne, don, soulsbourne, mortal, shell",
          "<b>Topic 23</b><br>Words: soulsborne, outclass, soulsringborne, overhate, smth",
          "<b>Topic 23</b><br>Words: soulsborne, soulser, trashy, revolutionize, analogy",
          "<b>Topic 23</b><br>Words: soulsborne, soulborn, don, bop, soulsgame",
          "<b>Topic 23</b><br>Words: soulsborne, don, soulsbourne, fr, soulsring",
          "<b>Topic 23</b><br>Words: soulsborne, soulsbourne, soulslike, ihatethisgame, overhate"
         ],
         "marker": {
          "color": "#009E73"
         },
         "mode": "lines",
         "name": "23_soulsborne_soulsbourne_soulsgame_soul...",
         "type": "scatter",
         "x": [
          "2016-07-02T22:27:21.600000",
          "2017-01-18T23:32:05.750000",
          "2017-08-07T00:36:49.900000",
          "2018-02-23T01:41:34.049999",
          "2018-09-11T02:46:18.200000",
          "2019-03-30T03:51:02.350000",
          "2019-10-16T04:55:46.500000",
          "2020-05-03T06:00:30.649999",
          "2020-11-19T07:05:14.800000",
          "2021-06-07T08:09:58.950000",
          "2021-12-24T09:14:43.100000",
          "2022-07-12T10:19:27.249999",
          "2023-01-28T11:24:11.400000",
          "2023-08-16T12:28:55.550000",
          "2024-03-03T13:33:39.700000",
          "2024-09-19T14:38:23.849999"
         ],
         "y": [
          3,
          1,
          4,
          3,
          1,
          9,
          14,
          18,
          11,
          17,
          18,
          8,
          12,
          13,
          22,
          19
         ]
        },
        {
         "hoverinfo": "text",
         "hovertext": [
          "<b>Topic 24</b><br>Words: ok, oka, wowcool, ya, ",
          "<b>Topic 24</b><br>Words: ok, oka, wowcool, ya, ",
          "<b>Topic 24</b><br>Words: ok, oka, wowcool, ya, ",
          "<b>Topic 24</b><br>Words: ok, oka, wowcool, ya, ",
          "<b>Topic 24</b><br>Words: ok, oka, wowcool, ya, ",
          "<b>Topic 24</b><br>Words: ok, oka, wowcool, ya, ",
          "<b>Topic 24</b><br>Words: ok, oka, wowcool, ya, ",
          "<b>Topic 24</b><br>Words: ok, oka, wowcool, ya, ",
          "<b>Topic 24</b><br>Words: ok, oka, wowcool, ya, ",
          "<b>Topic 24</b><br>Words: ok, oka, wowcool, ya, ",
          "<b>Topic 24</b><br>Words: ok, oka, wowcool, ya, ",
          "<b>Topic 24</b><br>Words: ok, wowcool, oka, ya, ",
          "<b>Topic 24</b><br>Words: ok, oka, wowcool, ya, ",
          "<b>Topic 24</b><br>Words: ok, oka, wowcool, ya, ",
          "<b>Topic 24</b><br>Words: ok, oka, wowcool, ya, ",
          "<b>Topic 24</b><br>Words: ok, ya, oka, wowcool, ",
          "<b>Topic 24</b><br>Words: ok, oka, wowcool, ya, ",
          "<b>Topic 24</b><br>Words: ok, oka, wowcool, ya, ",
          "<b>Topic 24</b><br>Words: ok, oka, wowcool, ya, "
         ],
         "marker": {
          "color": "#F0E442"
         },
         "mode": "lines",
         "name": "24_ok_wowcool_oka_ya",
         "type": "scatter",
         "x": [
          "2014-04-20T18:07:07.316999",
          "2014-11-10T19:13:09.150000",
          "2015-05-29T20:17:53.300000",
          "2015-12-15T21:22:37.449999",
          "2016-07-02T22:27:21.600000",
          "2017-01-18T23:32:05.750000",
          "2018-02-23T01:41:34.049999",
          "2018-09-11T02:46:18.200000",
          "2019-03-30T03:51:02.350000",
          "2019-10-16T04:55:46.500000",
          "2020-05-03T06:00:30.649999",
          "2020-11-19T07:05:14.800000",
          "2021-06-07T08:09:58.950000",
          "2021-12-24T09:14:43.100000",
          "2022-07-12T10:19:27.249999",
          "2023-01-28T11:24:11.400000",
          "2023-08-16T12:28:55.550000",
          "2024-03-03T13:33:39.700000",
          "2024-09-19T14:38:23.849999"
         ],
         "y": [
          23,
          9,
          4,
          10,
          2,
          2,
          7,
          6,
          7,
          12,
          13,
          8,
          11,
          10,
          9,
          8,
          13,
          8,
          5
         ]
        },
        {
         "hoverinfo": "text",
         "hovertext": [
          "<b>Topic 25</b><br>Words: love, grrrrr, fkin, frist, men",
          "<b>Topic 25</b><br>Words: love, grrrrr, fkin, frist, men",
          "<b>Topic 25</b><br>Words: love, grrrrr, fkin, frist, men",
          "<b>Topic 25</b><br>Words: love, grrrrr, fkin, frist, men",
          "<b>Topic 25</b><br>Words: love, grrrrr, fkin, frist, men",
          "<b>Topic 25</b><br>Words: love, grrrrr, fkin, frist, men",
          "<b>Topic 25</b><br>Words: fkin, love, grrrrr, frist, men",
          "<b>Topic 25</b><br>Words: love, grrrrr, fkin, frist, men",
          "<b>Topic 25</b><br>Words: love, grrrrr, fkin, frist, men",
          "<b>Topic 25</b><br>Words: grrrrr, love, fkin, frist, men",
          "<b>Topic 25</b><br>Words: love, grrrrr, fkin, frist, men",
          "<b>Topic 25</b><br>Words: love, grrrrr, fkin, frist, men",
          "<b>Topic 25</b><br>Words: love, simply, grrrrr, fkin, frist",
          "<b>Topic 25</b><br>Words: love, grrrrr, fkin, frist, men",
          "<b>Topic 25</b><br>Words: love, grrrrr, fkin, frist, men",
          "<b>Topic 25</b><br>Words: love, grrrrr, fkin, frist, men",
          "<b>Topic 25</b><br>Words: love, grrrrr, fkin, frist, men",
          "<b>Topic 25</b><br>Words: love, frist, grrrrr, fkin, men",
          "<b>Topic 25</b><br>Words: love, grrrrr, fkin, frist, men",
          "<b>Topic 25</b><br>Words: love, man, grrrrr, fkin, frist"
         ],
         "marker": {
          "color": "#D55E00"
         },
         "mode": "lines",
         "name": "25_love_grrrrr_fkin_frist",
         "type": "scatter",
         "x": [
          "2014-04-20T18:07:07.316999",
          "2014-11-10T19:13:09.150000",
          "2015-05-29T20:17:53.300000",
          "2015-12-15T21:22:37.449999",
          "2016-07-02T22:27:21.600000",
          "2017-01-18T23:32:05.750000",
          "2017-08-07T00:36:49.900000",
          "2018-02-23T01:41:34.049999",
          "2018-09-11T02:46:18.200000",
          "2019-03-30T03:51:02.350000",
          "2019-10-16T04:55:46.500000",
          "2020-05-03T06:00:30.649999",
          "2020-11-19T07:05:14.800000",
          "2021-06-07T08:09:58.950000",
          "2021-12-24T09:14:43.100000",
          "2022-07-12T10:19:27.249999",
          "2023-01-28T11:24:11.400000",
          "2023-08-16T12:28:55.550000",
          "2024-03-03T13:33:39.700000",
          "2024-09-19T14:38:23.849999"
         ],
         "y": [
          21,
          12,
          4,
          10,
          1,
          3,
          5,
          2,
          1,
          6,
          6,
          10,
          8,
          16,
          2,
          8,
          6,
          11,
          10,
          16
         ]
        },
        {
         "hoverinfo": "text",
         "hovertext": [
          "<b>Topic 26</b><br>Words: hate, ing, homies, dennis, thanks",
          "<b>Topic 26</b><br>Words: hate, ing, homies, dennis, thanks",
          "<b>Topic 26</b><br>Words: hate, ing, homies, dennis, thanks",
          "<b>Topic 26</b><br>Words: hate, ing, homies, dennis, thanks",
          "<b>Topic 26</b><br>Words: hate, ing, homies, dennis, thanks",
          "<b>Topic 26</b><br>Words: hate, ing, homies, dennis, thanks",
          "<b>Topic 26</b><br>Words: hate, ing, homies, dennis, thanks",
          "<b>Topic 26</b><br>Words: hate, ing, homies, dennis, thanks",
          "<b>Topic 26</b><br>Words: hate, undeserved, edit, ing, homies",
          "<b>Topic 26</b><br>Words: hate, good, ing, homies, dennis",
          "<b>Topic 26</b><br>Words: don, hate, ing, homies, dennis",
          "<b>Topic 26</b><br>Words: hate, homie, ing, homies, dennis",
          "<b>Topic 26</b><br>Words: hate, ing, homies, dennis, thanks",
          "<b>Topic 26</b><br>Words: hate, ing, thank, homies, dennis",
          "<b>Topic 26</b><br>Words: hate, ed, kinda, ing, homies",
          "<b>Topic 26</b><br>Words: hate, ing, homies, dennis, thanks",
          "<b>Topic 26</b><br>Words: hate, dennis, ing, video, homies",
          "<b>Topic 26</b><br>Words: hate, ill, ok, ing, homies",
          "<b>Topic 26</b><br>Words: hate, tbh, thank, wrong, absolutely",
          "<b>Topic 26</b><br>Words: hate, dunno, cause, ing, homies"
         ],
         "marker": {
          "color": "#0072B2"
         },
         "mode": "lines",
         "name": "26_hate_ing_homies_dennis",
         "type": "scatter",
         "x": [
          "2014-04-20T18:07:07.316999",
          "2014-11-10T19:13:09.150000",
          "2015-05-29T20:17:53.300000",
          "2015-12-15T21:22:37.449999",
          "2016-07-02T22:27:21.600000",
          "2017-01-18T23:32:05.750000",
          "2017-08-07T00:36:49.900000",
          "2018-02-23T01:41:34.049999",
          "2018-09-11T02:46:18.200000",
          "2019-03-30T03:51:02.350000",
          "2019-10-16T04:55:46.500000",
          "2020-05-03T06:00:30.649999",
          "2020-11-19T07:05:14.800000",
          "2021-06-07T08:09:58.950000",
          "2021-12-24T09:14:43.100000",
          "2022-07-12T10:19:27.249999",
          "2023-01-28T11:24:11.400000",
          "2023-08-16T12:28:55.550000",
          "2024-03-03T13:33:39.700000",
          "2024-09-19T14:38:23.849999"
         ],
         "y": [
          10,
          2,
          1,
          2,
          2,
          1,
          3,
          1,
          2,
          2,
          4,
          4,
          12,
          26,
          27,
          4,
          12,
          21,
          11,
          10
         ]
        },
        {
         "hoverinfo": "text",
         "hovertext": [
          "<b>Topic 27</b><br>Words: die, smell, would, bladder, rustle",
          "<b>Topic 27</b><br>Words: rape, die, saltiness, would, ocean",
          "<b>Topic 27</b><br>Words: genocide, commit, die, would, lava",
          "<b>Topic 27</b><br>Words: somebody, die, would, asshole, stretch",
          "<b>Topic 27</b><br>Words: wizard, brutally, pussy, would, die",
          "<b>Topic 27</b><br>Words: outa, humanity, would, die, lose",
          "<b>Topic 27</b><br>Words: tenouttaten, die, would, smell, rape",
          "<b>Topic 27</b><br>Words: lose, would, die, smell, rape",
          "<b>Topic 27</b><br>Words: die, would, smell, rape, somebody",
          "<b>Topic 27</b><br>Words: die, lose, would, smell, rape",
          "<b>Topic 27</b><br>Words: die, would, smell, rape, somebody",
          "<b>Topic 27</b><br>Words: break, die, would, smell, rape",
          "<b>Topic 27</b><br>Words: die, would, smell, rape, somebody",
          "<b>Topic 27</b><br>Words: die, would, smell, rape, somebody",
          "<b>Topic 27</b><br>Words: die, would, smell, rape, somebody",
          "<b>Topic 27</b><br>Words: die, would, smell, rape, somebody",
          "<b>Topic 27</b><br>Words: die, would, smell, rape, somebody"
         ],
         "marker": {
          "color": "#CC79A7"
         },
         "mode": "lines",
         "name": "27_would_die_smell_rape",
         "type": "scatter",
         "x": [
          "2014-04-20T18:07:07.316999",
          "2014-11-10T19:13:09.150000",
          "2015-05-29T20:17:53.300000",
          "2015-12-15T21:22:37.449999",
          "2016-07-02T22:27:21.600000",
          "2017-01-18T23:32:05.750000",
          "2017-08-07T00:36:49.900000",
          "2018-02-23T01:41:34.049999",
          "2018-09-11T02:46:18.200000",
          "2019-03-30T03:51:02.350000",
          "2019-10-16T04:55:46.500000",
          "2020-05-03T06:00:30.649999",
          "2020-11-19T07:05:14.800000",
          "2021-06-07T08:09:58.950000",
          "2021-12-24T09:14:43.100000",
          "2022-07-12T10:19:27.249999",
          "2024-09-19T14:38:23.849999"
         ],
         "y": [
          55,
          28,
          11,
          18,
          8,
          3,
          6,
          1,
          4,
          5,
          8,
          2,
          3,
          1,
          1,
          1,
          1
         ]
        },
        {
         "hoverinfo": "text",
         "hovertext": [
          "<b>Topic 28</b><br>Words: beceuse, sooding, boss, have, monstrous",
          "<b>Topic 28</b><br>Words: varied, alot, tho, human, pick",
          "<b>Topic 28</b><br>Words: disposable, don, income, followup, forgetable",
          "<b>Topic 28</b><br>Words: majority, shit, overall, pretty, enjoy",
          "<b>Topic 28</b><br>Words: diffulty, appriciate, in, negatively, recieve",
          "<b>Topic 28</b><br>Words: disappointin, concession, partially, ass, ultimately",
          "<b>Topic 28</b><br>Words: inbetween, asshole, thinking, singleplayer, steal",
          "<b>Topic 28</b><br>Words: perseverence, litter, hone, substantial, reskin",
          "<b>Topic 28</b><br>Words: exp, mobs, abit, glitchy, grain",
          "<b>Topic 28</b><br>Words: sided, cheese, coin, unoriginal, profit",
          "<b>Topic 28</b><br>Words: bosssss, weaaaaponnnnnnns, will, have, boss",
          "<b>Topic 28</b><br>Words: over, bloat, boss, sand, gem",
          "<b>Topic 28</b><br>Words: don, boss, glitchy, loooooonnnngggggg, overly",
          "<b>Topic 28</b><br>Words: don, dud, laughably, dense, st",
          "<b>Topic 28</b><br>Words: don, prestige, confess, grandiose, charming",
          "<b>Topic 28</b><br>Words: weaponnssssssss, bossss, don, cos, boss",
          "<b>Topic 28</b><br>Words: mobs, duo, ending, painfully, boss",
          "<b>Topic 28</b><br>Words: def, runback, hearld, boss, bossrun",
          "<b>Topic 28</b><br>Words: blt, weaapoonnnsssss, bossss, have, cus"
         ],
         "marker": {
          "color": "#E69F00"
         },
         "mode": "lines",
         "name": "28_boss_def_cheese_bossss",
         "type": "scatter",
         "x": [
          "2014-04-20T18:07:07.316999",
          "2014-11-10T19:13:09.150000",
          "2015-05-29T20:17:53.300000",
          "2015-12-15T21:22:37.449999",
          "2016-07-02T22:27:21.600000",
          "2017-01-18T23:32:05.750000",
          "2017-08-07T00:36:49.900000",
          "2018-02-23T01:41:34.049999",
          "2019-03-30T03:51:02.350000",
          "2019-10-16T04:55:46.500000",
          "2020-05-03T06:00:30.649999",
          "2020-11-19T07:05:14.800000",
          "2021-06-07T08:09:58.950000",
          "2021-12-24T09:14:43.100000",
          "2022-07-12T10:19:27.249999",
          "2023-01-28T11:24:11.400000",
          "2023-08-16T12:28:55.550000",
          "2024-03-03T13:33:39.700000",
          "2024-09-19T14:38:23.849999"
         ],
         "y": [
          15,
          1,
          6,
          1,
          5,
          4,
          3,
          3,
          6,
          9,
          13,
          10,
          20,
          11,
          3,
          13,
          7,
          12,
          12
         ]
        },
        {
         "hoverinfo": "text",
         "hovertext": [
          "<b>Topic 29</b><br>Words: pew, peak, tuah, peaksouls, frfr",
          "<b>Topic 29</b><br>Words: peak, pew, tuah, peaksouls, frfr",
          "<b>Topic 29</b><br>Words: peak, pew, tuah, peaksouls, frfr",
          "<b>Topic 29</b><br>Words: peak, voice, pew, head, video",
          "<b>Topic 29</b><br>Words: peak, tuah, frfr, absolute, shi"
         ],
         "marker": {
          "color": "#56B4E9"
         },
         "mode": "lines",
         "name": "29_peak_pew_tuah_peaksouls",
         "type": "scatter",
         "x": [
          "2020-05-03T06:00:30.649999",
          "2023-01-28T11:24:11.400000",
          "2023-08-16T12:28:55.550000",
          "2024-03-03T13:33:39.700000",
          "2024-09-19T14:38:23.849999"
         ],
         "y": [
          1,
          1,
          5,
          42,
          105
         ]
        },
        {
         "hoverinfo": "text",
         "hovertext": [
          "<b>Topic 30</b><br>Words: gud, gued, ittttttttt, breddy, super",
          "<b>Topic 30</b><br>Words: gud, es, gude, gueass, lief",
          "<b>Topic 30</b><br>Words: gud, gude, gueass, lief, gued",
          "<b>Topic 30</b><br>Words: gud, vry, gude, gueass, lief",
          "<b>Topic 30</b><br>Words: gud, purty, gude, lief, gued",
          "<b>Topic 30</b><br>Words: gud, gude, gueass, lief, gued",
          "<b>Topic 30</b><br>Words: gud, gude, gueass, lief, gued",
          "<b>Topic 30</b><br>Words: gud, gude, gueass, lief, gued",
          "<b>Topic 30</b><br>Words: gud, gude, gueass, lief, gued",
          "<b>Topic 30</b><br>Words: gud, questionable, gude, gueass, lief",
          "<b>Topic 30</b><br>Words: gud, gude, guwd, gamee, gueass",
          "<b>Topic 30</b><br>Words: gud, lief, gueass, itsok, gude",
          "<b>Topic 30</b><br>Words: gud, ig, edit, gude, gueass",
          "<b>Topic 30</b><br>Words: gud, gude, gueass, lief, gued",
          "<b>Topic 30</b><br>Words: gud, hate, gude, guwd, dbd",
          "<b>Topic 30</b><br>Words: gud, gude, gueass, lief, gued",
          "<b>Topic 30</b><br>Words: gud, iit, gude, lief, gued",
          "<b>Topic 30</b><br>Words: gud, dbd, gude, lief, gueass",
          "<b>Topic 30</b><br>Words: gud, gude, gueass, lief, gued"
         ],
         "marker": {
          "color": "#009E73"
         },
         "mode": "lines",
         "name": "30_gud_gude_gued_lief",
         "type": "scatter",
         "x": [
          "2014-04-20T18:07:07.316999",
          "2014-11-10T19:13:09.150000",
          "2015-05-29T20:17:53.300000",
          "2015-12-15T21:22:37.449999",
          "2016-07-02T22:27:21.600000",
          "2017-01-18T23:32:05.750000",
          "2017-08-07T00:36:49.900000",
          "2018-09-11T02:46:18.200000",
          "2019-03-30T03:51:02.350000",
          "2019-10-16T04:55:46.500000",
          "2020-05-03T06:00:30.649999",
          "2020-11-19T07:05:14.800000",
          "2021-06-07T08:09:58.950000",
          "2021-12-24T09:14:43.100000",
          "2022-07-12T10:19:27.249999",
          "2023-01-28T11:24:11.400000",
          "2023-08-16T12:28:55.550000",
          "2024-03-03T13:33:39.700000",
          "2024-09-19T14:38:23.849999"
         ],
         "y": [
          7,
          4,
          2,
          9,
          4,
          4,
          5,
          1,
          4,
          15,
          22,
          18,
          12,
          12,
          5,
          8,
          3,
          8,
          4
         ]
        },
        {
         "hoverinfo": "text",
         "hovertext": [
          "<b>Topic 31</b><br>Words: bloodborne, inside, blood, atm, wait",
          "<b>Topic 31</b><br>Words: bloodborne, heee, learntojump, greatgame, booger",
          "<b>Topic 31</b><br>Words: bloodborne, duuh, ass, brotherhood, ypu",
          "<b>Topic 31</b><br>Words: bloodborne, haven, delightfully, preparation, bloodstain",
          "<b>Topic 31</b><br>Words: fave, bloodborne, battleborne, fgts, overwatch",
          "<b>Topic 31</b><br>Words: bloodborne, nioh, oooohhhhhhh, haven, demons",
          "<b>Topic 31</b><br>Words: bloodborne, buy, blood, pc, bloodborn",
          "<b>Topic 31</b><br>Words: bloodborne, omegalul, bestestest, attribue, emulator",
          "<b>Topic 31</b><br>Words: bloodborne, armory, cherish, clumsy, bloodborn",
          "<b>Topic 31</b><br>Words: don, bloodborn, bloodborne, wish, frustrating",
          "<b>Topic 31</b><br>Words: bloodborne, don, knockoff, blood, role",
          "<b>Topic 31</b><br>Words: bloodborne, don, consul, haven, kart",
          "<b>Topic 31</b><br>Words: bloodborne, kart, delicious, definitly, category",
          "<b>Topic 31</b><br>Words: bloodborne, have, kart, nearby, bloodstain",
          "<b>Topic 31</b><br>Words: bloodborne, bloodbourne, freebloodborne, slugish, pc",
          "<b>Topic 31</b><br>Words: bloodborne, bloodborn, legacy, anytime, trade",
          "<b>Topic 31</b><br>Words: bloodborne, perception, fs, sadist, public",
          "<b>Topic 31</b><br>Words: bloodborne, conservative, pls, ost, bring",
          "<b>Topic 31</b><br>Words: bloodborne, don, competitor, btw, pc",
          "<b>Topic 31</b><br>Words: bloodborne, prince, fkn, sweet, blood"
         ],
         "marker": {
          "color": "#F0E442"
         },
         "mode": "lines",
         "name": "31_bloodborne_blood_pc_bloodborn",
         "type": "scatter",
         "x": [
          "2014-04-20T18:07:07.316999",
          "2014-11-10T19:13:09.150000",
          "2015-05-29T20:17:53.300000",
          "2015-12-15T21:22:37.449999",
          "2016-07-02T22:27:21.600000",
          "2017-01-18T23:32:05.750000",
          "2017-08-07T00:36:49.900000",
          "2018-02-23T01:41:34.049999",
          "2018-09-11T02:46:18.200000",
          "2019-03-30T03:51:02.350000",
          "2019-10-16T04:55:46.500000",
          "2020-05-03T06:00:30.649999",
          "2020-11-19T07:05:14.800000",
          "2021-06-07T08:09:58.950000",
          "2021-12-24T09:14:43.100000",
          "2022-07-12T10:19:27.249999",
          "2023-01-28T11:24:11.400000",
          "2023-08-16T12:28:55.550000",
          "2024-03-03T13:33:39.700000",
          "2024-09-19T14:38:23.849999"
         ],
         "y": [
          5,
          17,
          8,
          4,
          5,
          5,
          1,
          6,
          5,
          2,
          8,
          9,
          6,
          6,
          17,
          6,
          9,
          8,
          11,
          4
         ]
        },
        {
         "hoverinfo": "text",
         "hovertext": [
          "<b>Topic 32</b><br>Words: hate, bloody, existence, teach, deserve",
          "<b>Topic 32</b><br>Words: mom, hate, deserve, essentially, user",
          "<b>Topic 32</b><br>Words: vice, addict, hate, sure, deserve",
          "<b>Topic 32</b><br>Words: sabertooth, have, hate, tiger, tired",
          "<b>Topic 32</b><br>Words: builder, dexterity, hate, fall, deserve",
          "<b>Topic 32</b><br>Words: deserve, following, tad, credit, hate",
          "<b>Topic 32</b><br>Words: don, oblivious, racist, hate, xd",
          "<b>Topic 32</b><br>Words: don, tiger, snow, hate, deserve",
          "<b>Topic 32</b><br>Words: bligttown, don, deserve, hate, divide",
          "<b>Topic 32</b><br>Words: hexxer, deserve, hate, toxic, classic",
          "<b>Topic 32</b><br>Words: deserve, sh, hate, sure, life",
          "<b>Topic 32</b><br>Words: don, deserve, hate, enthusiasm, curb",
          "<b>Topic 32</b><br>Words: savage, hate, don, deserve, ply",
          "<b>Topic 32</b><br>Words: don, gratuitous, hate, penny, deserve",
          "<b>Topic 32</b><br>Words: don, hate, deserve, expierence, purist",
          "<b>Topic 32</b><br>Words: shenanigan, deserve, hate, enjoyable, form",
          "<b>Topic 32</b><br>Words: deserve, don, hate, anticipate, super",
          "<b>Topic 32</b><br>Words: deserve, hate, don, igniter, subhuman"
         ],
         "marker": {
          "color": "#D55E00"
         },
         "mode": "lines",
         "name": "32_deserve_hate_doesnt_hating",
         "type": "scatter",
         "x": [
          "2014-04-20T18:07:07.316999",
          "2014-11-10T19:13:09.150000",
          "2015-05-29T20:17:53.300000",
          "2016-07-02T22:27:21.600000",
          "2017-01-18T23:32:05.750000",
          "2017-08-07T00:36:49.900000",
          "2018-02-23T01:41:34.049999",
          "2019-03-30T03:51:02.350000",
          "2019-10-16T04:55:46.500000",
          "2020-05-03T06:00:30.649999",
          "2020-11-19T07:05:14.800000",
          "2021-06-07T08:09:58.950000",
          "2021-12-24T09:14:43.100000",
          "2022-07-12T10:19:27.249999",
          "2023-01-28T11:24:11.400000",
          "2023-08-16T12:28:55.550000",
          "2024-03-03T13:33:39.700000",
          "2024-09-19T14:38:23.849999"
         ],
         "y": [
          10,
          4,
          2,
          6,
          2,
          2,
          3,
          3,
          3,
          6,
          4,
          7,
          9,
          5,
          11,
          6,
          20,
          35
         ]
        },
        {
         "hoverinfo": "text",
         "hovertext": [
          "<b>Topic 33</b><br>Words: awesome, usual, good, , ",
          "<b>Topic 33</b><br>Words: awesome, usual, good, , ",
          "<b>Topic 33</b><br>Words: awesome, usual, good, , ",
          "<b>Topic 33</b><br>Words: awesome, usual, good, , ",
          "<b>Topic 33</b><br>Words: awesome, usual, good, , ",
          "<b>Topic 33</b><br>Words: awesome, usual, good, , ",
          "<b>Topic 33</b><br>Words: awesome, usual, good, , ",
          "<b>Topic 33</b><br>Words: awesome, usual, good, , ",
          "<b>Topic 33</b><br>Words: awesome, usual, good, , ",
          "<b>Topic 33</b><br>Words: awesome, usual, good, , ",
          "<b>Topic 33</b><br>Words: awesome, usual, good, , ",
          "<b>Topic 33</b><br>Words: awesome, usual, good, , ",
          "<b>Topic 33</b><br>Words: awesome, usual, good, , ",
          "<b>Topic 33</b><br>Words: awesome, usual, good, , ",
          "<b>Topic 33</b><br>Words: awesome, usual, good, , ",
          "<b>Topic 33</b><br>Words: awesome, good, usual, , ",
          "<b>Topic 33</b><br>Words: awesome, usual, good, , ",
          "<b>Topic 33</b><br>Words: awesome, usual, good, , ",
          "<b>Topic 33</b><br>Words: awesome, usual, good, , "
         ],
         "marker": {
          "color": "#0072B2"
         },
         "mode": "lines",
         "name": "33_awesome_usual_good_",
         "type": "scatter",
         "x": [
          "2014-04-20T18:07:07.316999",
          "2014-11-10T19:13:09.150000",
          "2015-05-29T20:17:53.300000",
          "2015-12-15T21:22:37.449999",
          "2016-07-02T22:27:21.600000",
          "2017-01-18T23:32:05.750000",
          "2017-08-07T00:36:49.900000",
          "2018-09-11T02:46:18.200000",
          "2019-03-30T03:51:02.350000",
          "2019-10-16T04:55:46.500000",
          "2020-05-03T06:00:30.649999",
          "2020-11-19T07:05:14.800000",
          "2021-06-07T08:09:58.950000",
          "2021-12-24T09:14:43.100000",
          "2022-07-12T10:19:27.249999",
          "2023-01-28T11:24:11.400000",
          "2023-08-16T12:28:55.550000",
          "2024-03-03T13:33:39.700000",
          "2024-09-19T14:38:23.849999"
         ],
         "y": [
          37,
          14,
          11,
          7,
          6,
          1,
          6,
          1,
          2,
          7,
          8,
          6,
          6,
          2,
          5,
          4,
          4,
          3,
          5
         ]
        },
        {
         "hoverinfo": "text",
         "hovertext": [
          "<b>Topic 34</b><br>Words: dissapointment, public, like, leg, exact",
          "<b>Topic 34</b><br>Words: like, confirmed, millon, wowy, juuuuust",
          "<b>Topic 34</b><br>Words: like, confirmed, millon, wowy, juuuuust",
          "<b>Topic 34</b><br>Words: like, confirmed, millon, wowy, juuuuust",
          "<b>Topic 34</b><br>Words: like, confirmed, millon, wowy, juuuuust",
          "<b>Topic 34</b><br>Words: cuphead, like, confirmed, millon, wowy",
          "<b>Topic 34</b><br>Words: like, confirmed, millon, wowy, juuuuust",
          "<b>Topic 34</b><br>Words: like, confirmed, millon, wowy, juuuuust",
          "<b>Topic 34</b><br>Words: like, confirmed, millon, wowy, juuuuust",
          "<b>Topic 34</b><br>Words: product, idk, like, matter, simply",
          "<b>Topic 34</b><br>Words: duh, confirm, like, wowy, confirmed",
          "<b>Topic 34</b><br>Words: don, like, linear, confirmed, millon",
          "<b>Topic 34</b><br>Words: juuuuust, like, ok, confirmed, wowy",
          "<b>Topic 34</b><br>Words: like, confirmed, millon, wowy, juuuuust",
          "<b>Topic 34</b><br>Words: like, yes, wowy, millon, confirmed",
          "<b>Topic 34</b><br>Words: like, confirmed, millon, wowy, juuuuust",
          "<b>Topic 34</b><br>Words: dig, ya, like, shit, confirmed",
          "<b>Topic 34</b><br>Words: like, confirmed, millon, wowy, juuuuust",
          "<b>Topic 34</b><br>Words: wowy, millon, like, confirmed, juuuuust"
         ],
         "marker": {
          "color": "#CC79A7"
         },
         "mode": "lines",
         "name": "34_like_wowy_millon_confirmed",
         "type": "scatter",
         "x": [
          "2014-04-20T18:07:07.316999",
          "2014-11-10T19:13:09.150000",
          "2015-05-29T20:17:53.300000",
          "2015-12-15T21:22:37.449999",
          "2016-07-02T22:27:21.600000",
          "2017-08-07T00:36:49.900000",
          "2018-02-23T01:41:34.049999",
          "2018-09-11T02:46:18.200000",
          "2019-03-30T03:51:02.350000",
          "2019-10-16T04:55:46.500000",
          "2020-05-03T06:00:30.649999",
          "2020-11-19T07:05:14.800000",
          "2021-06-07T08:09:58.950000",
          "2021-12-24T09:14:43.100000",
          "2022-07-12T10:19:27.249999",
          "2023-01-28T11:24:11.400000",
          "2023-08-16T12:28:55.550000",
          "2024-03-03T13:33:39.700000",
          "2024-09-19T14:38:23.849999"
         ],
         "y": [
          14,
          5,
          2,
          5,
          4,
          3,
          1,
          6,
          4,
          7,
          6,
          11,
          15,
          7,
          6,
          6,
          9,
          10,
          14
         ]
        },
        {
         "hoverinfo": "text",
         "hovertext": [
          "<b>Topic 35</b><br>Words: dks, fantastic, want, janky, jank",
          "<b>Topic 35</b><br>Words: playstation, jank, janky, want, helpless",
          "<b>Topic 35</b><br>Words: janky, jank, needlessly, treat, screw",
          "<b>Topic 35</b><br>Words: jank, janky, haven, don, targetting",
          "<b>Topic 35</b><br>Words: janky, jank, slush, omnidirectional, running",
          "<b>Topic 35</b><br>Words: jank, janky, locate, stylise, fvckin",
          "<b>Topic 35</b><br>Words: janky, jank, helpless, directionalization, intesne",
          "<b>Topic 35</b><br>Words: janky, jank, differntly, outher, don",
          "<b>Topic 35</b><br>Words: janky, jank, don, shitty, dragonrider",
          "<b>Topic 35</b><br>Words: janky, jank, jankier, wack, hyperfixated",
          "<b>Topic 35</b><br>Words: janky, jank, entirety, consecrated, hank",
          "<b>Topic 35</b><br>Words: jank, janky, don, jankiness, charming"
         ],
         "marker": {
          "color": "#E69F00"
         },
         "mode": "lines",
         "name": "35_janky_jank_helpless_jankier",
         "type": "scatter",
         "x": [
          "2017-08-07T00:36:49.900000",
          "2019-03-30T03:51:02.350000",
          "2019-10-16T04:55:46.500000",
          "2020-05-03T06:00:30.649999",
          "2020-11-19T07:05:14.800000",
          "2021-06-07T08:09:58.950000",
          "2021-12-24T09:14:43.100000",
          "2022-07-12T10:19:27.249999",
          "2023-01-28T11:24:11.400000",
          "2023-08-16T12:28:55.550000",
          "2024-03-03T13:33:39.700000",
          "2024-09-19T14:38:23.849999"
         ],
         "y": [
          1,
          1,
          5,
          8,
          14,
          18,
          13,
          8,
          7,
          15,
          19,
          22
         ]
        },
        {
         "hoverinfo": "text",
         "hovertext": [
          "<b>Topic 36</b><br>Words: rage, anger, quit, induce, ragequit",
          "<b>Topic 36</b><br>Words: rage, quit, peed, angermanagement, don",
          "<b>Topic 36</b><br>Words: rage, will, ragequit, confident, occasional",
          "<b>Topic 36</b><br>Words: rage, ragequit, anger, quit, sadista",
          "<b>Topic 36</b><br>Words: rage, singularity, disrupt, ragequit, collapse",
          "<b>Topic 36</b><br>Words: unadultured, rage, cease, quit, gimmick",
          "<b>Topic 36</b><br>Words: yourselfs, rage, prepare, ball, straight",
          "<b>Topic 36</b><br>Words: extreamly, rage, past, enjoyable, sotfs",
          "<b>Topic 36</b><br>Words: don, rage, quitter, equation, pathetic",
          "<b>Topic 36</b><br>Words: rage, anger, nicotine, self, rusty",
          "<b>Topic 36</b><br>Words: rage, bragging, anger, gooood, emotional",
          "<b>Topic 36</b><br>Words: rage, induce, awesome, let, anger",
          "<b>Topic 36</b><br>Words: rage, quit, anger, massive, possible",
          "<b>Topic 36</b><br>Words: lajk, rage, unbelievably, dat, angry",
          "<b>Topic 36</b><br>Words: therapy, anger, management, rage, disdain",
          "<b>Topic 36</b><br>Words: burst, anger, rage, therapeudic, isue",
          "<b>Topic 36</b><br>Words: rage, induce, quit, alot, anger",
          "<b>Topic 36</b><br>Words: ragebait, rage, quit, anger, ragequit",
          "<b>Topic 36</b><br>Words: ragebait, righteous, fury, justified, rage"
         ],
         "marker": {
          "color": "#56B4E9"
         },
         "mode": "lines",
         "name": "36_rage_anger_quit_ragequit",
         "type": "scatter",
         "x": [
          "2014-04-20T18:07:07.316999",
          "2014-11-10T19:13:09.150000",
          "2015-05-29T20:17:53.300000",
          "2015-12-15T21:22:37.449999",
          "2016-07-02T22:27:21.600000",
          "2017-01-18T23:32:05.750000",
          "2017-08-07T00:36:49.900000",
          "2018-09-11T02:46:18.200000",
          "2019-03-30T03:51:02.350000",
          "2019-10-16T04:55:46.500000",
          "2020-05-03T06:00:30.649999",
          "2020-11-19T07:05:14.800000",
          "2021-06-07T08:09:58.950000",
          "2021-12-24T09:14:43.100000",
          "2022-07-12T10:19:27.249999",
          "2023-01-28T11:24:11.400000",
          "2023-08-16T12:28:55.550000",
          "2024-03-03T13:33:39.700000",
          "2024-09-19T14:38:23.849999"
         ],
         "y": [
          43,
          13,
          6,
          14,
          9,
          2,
          1,
          1,
          3,
          6,
          5,
          3,
          3,
          4,
          4,
          6,
          2,
          2,
          3
         ]
        },
        {
         "hoverinfo": "text",
         "hovertext": [
          "<b>Topic 37</b><br>Words: replay, value, replayability, hadnle, replayable",
          "<b>Topic 37</b><br>Words: replay, value, replayability, replayable, potentcial",
          "<b>Topic 37</b><br>Words: replayability, replay, value, reccamend, maker",
          "<b>Topic 37</b><br>Words: replay, waifu, gg, value, poorly",
          "<b>Topic 37</b><br>Words: huuge, replay, replayability, assess, breakdown",
          "<b>Topic 37</b><br>Words: derank, blooborne, replay, value, rebuy",
          "<b>Topic 37</b><br>Words: replay, value, replayability, replayable, aesthetically",
          "<b>Topic 37</b><br>Words: don, replay, rest, maybe, let",
          "<b>Topic 37</b><br>Words: don, replay, higly, replayable, replayability",
          "<b>Topic 37</b><br>Words: replayability, randomizer, replay, provide, opinion",
          "<b>Topic 37</b><br>Words: replay, value, replayability, replayeable, ruff",
          "<b>Topic 37</b><br>Words: replay, varity, value, replayable, rap",
          "<b>Topic 37</b><br>Words: replayability, replay, value, rounded, replayable",
          "<b>Topic 37</b><br>Words: replayable, replay, don, groove, value",
          "<b>Topic 37</b><br>Words: replay, stupidly, replayability, value, boy",
          "<b>Topic 37</b><br>Words: replay, corrupt, delete, purely, ass",
          "<b>Topic 37</b><br>Words: replay, value, overhate, repeatability, replayability",
          "<b>Topic 37</b><br>Words: mature, replayable, realize, replay, value",
          "<b>Topic 37</b><br>Words: replay, value, replayable, revo, astmosphere",
          "<b>Topic 37</b><br>Words: replay, replayability, masterpiece, explore, cool"
         ],
         "marker": {
          "color": "#009E73"
         },
         "mode": "lines",
         "name": "37_replay_value_replayability_replayable",
         "type": "scatter",
         "x": [
          "2014-04-20T18:07:07.316999",
          "2014-11-10T19:13:09.150000",
          "2015-05-29T20:17:53.300000",
          "2015-12-15T21:22:37.449999",
          "2016-07-02T22:27:21.600000",
          "2017-01-18T23:32:05.750000",
          "2017-08-07T00:36:49.900000",
          "2018-02-23T01:41:34.049999",
          "2018-09-11T02:46:18.200000",
          "2019-03-30T03:51:02.350000",
          "2019-10-16T04:55:46.500000",
          "2020-05-03T06:00:30.649999",
          "2020-11-19T07:05:14.800000",
          "2021-06-07T08:09:58.950000",
          "2021-12-24T09:14:43.100000",
          "2022-07-12T10:19:27.249999",
          "2023-01-28T11:24:11.400000",
          "2023-08-16T12:28:55.550000",
          "2024-03-03T13:33:39.700000",
          "2024-09-19T14:38:23.849999"
         ],
         "y": [
          23,
          12,
          8,
          2,
          4,
          2,
          7,
          1,
          4,
          4,
          10,
          5,
          8,
          8,
          5,
          3,
          9,
          1,
          8,
          4
         ]
        },
        {
         "hoverinfo": "text",
         "hovertext": [
          "<b>Topic 38</b><br>Words: miyazaki, don, labrynth, solaire, hidetaka",
          "<b>Topic 38</b><br>Words: burger, japan, miyazaki, grease, distributor",
          "<b>Topic 38</b><br>Words: miyazaki, hidetaka, produce, wearyou, unlick",
          "<b>Topic 38</b><br>Words: miyazaki, sparse, cryptic, hidetaka, team",
          "<b>Topic 38</b><br>Words: don, miyazaki, opininon, etz, wahhhh",
          "<b>Topic 38</b><br>Words: miyazaki, eld, intervention, insecure, enought",
          "<b>Topic 38</b><br>Words: poisonious, miyazaki, predesessor, direct, elegant",
          "<b>Topic 38</b><br>Words: miyazaki, cramming, erudite, visionary, tagline",
          "<b>Topic 38</b><br>Words: don, bloodborn, miyazaki, alot, gem",
          "<b>Topic 38</b><br>Words: iframe, miyazaki, critique, unexplained, familiar",
          "<b>Topic 38</b><br>Words: bossfight, haven, coldn, sinner, miyazaki",
          "<b>Topic 38</b><br>Words: don, miyazaki, direct, miazaki, impact",
          "<b>Topic 38</b><br>Words: miyazaki, don, boulder, poop, wolhnir",
          "<b>Topic 38</b><br>Words: miyazaki, don, direct, enormous, beguile",
          "<b>Topic 38</b><br>Words: miyazaki, don, url, have, intention",
          "<b>Topic 38</b><br>Words: don, miyazaki, have, ai, lopsided",
          "<b>Topic 38</b><br>Words: don, miyazaki, virtue, asset, ava",
          "<b>Topic 38</b><br>Words: miyazaki, hidetaka, bellend, xoxo, periodt",
          "<b>Topic 38</b><br>Words: miyazaki, heaviness, masterclass, hidetaka, emptiness",
          "<b>Topic 38</b><br>Words: miyazaki, don, direct, hidetaka, solve"
         ],
         "marker": {
          "color": "#F0E442"
         },
         "mode": "lines",
         "name": "38_miyazaki_hidetaka_direct_development",
         "type": "scatter",
         "x": [
          "2014-04-20T18:07:07.316999",
          "2014-11-10T19:13:09.150000",
          "2015-05-29T20:17:53.300000",
          "2015-12-15T21:22:37.449999",
          "2016-07-02T22:27:21.600000",
          "2017-01-18T23:32:05.750000",
          "2017-08-07T00:36:49.900000",
          "2018-02-23T01:41:34.049999",
          "2018-09-11T02:46:18.200000",
          "2019-03-30T03:51:02.350000",
          "2019-10-16T04:55:46.500000",
          "2020-05-03T06:00:30.649999",
          "2020-11-19T07:05:14.800000",
          "2021-06-07T08:09:58.950000",
          "2021-12-24T09:14:43.100000",
          "2022-07-12T10:19:27.249999",
          "2023-01-28T11:24:11.400000",
          "2023-08-16T12:28:55.550000",
          "2024-03-03T13:33:39.700000",
          "2024-09-19T14:38:23.849999"
         ],
         "y": [
          7,
          5,
          4,
          7,
          2,
          2,
          3,
          3,
          2,
          4,
          2,
          11,
          8,
          11,
          10,
          6,
          6,
          8,
          8,
          13
         ]
        },
        {
         "hoverinfo": "text",
         "hovertext": [
          "<b>Topic 39</b><br>Words: flaw, petition, loveable, removal, ptde",
          "<b>Topic 39</b><br>Words: footnote, major, flaw, like, despite",
          "<b>Topic 39</b><br>Words: sucker, punch, flaw, woman, imagine",
          "<b>Topic 39</b><br>Words: masterpiece, flaw, despite, astonishing, charming",
          "<b>Topic 39</b><br>Words: inspection, replayable, flaw, forever, tho",
          "<b>Topic 39</b><br>Words: raime, flawed, flaw, easily, sotfs",
          "<b>Topic 39</b><br>Words: flaw, creative, price, despite, memory",
          "<b>Topic 39</b><br>Words: flaw, gimped, unfamiliar, crappy, pay",
          "<b>Topic 39</b><br>Words: don, flaw, tbf, stile, buuuut",
          "<b>Topic 39</b><br>Words: flaw, don, date, numerous, nonetheless",
          "<b>Topic 39</b><br>Words: flaw, flawed, don, neato, flair",
          "<b>Topic 39</b><br>Words: flaw, flawed, don, altough, fake",
          "<b>Topic 39</b><br>Words: don, flaw, flawed, hater, league",
          "<b>Topic 39</b><br>Words: flaw, flawed, don, dogsh, unknowingly",
          "<b>Topic 39</b><br>Words: flaw, haven, completion, genuinely, grow",
          "<b>Topic 39</b><br>Words: flawed, flaw, issus, remasterd, seriousness",
          "<b>Topic 39</b><br>Words: flaw, astonishing, unjustifiably, shill, punching",
          "<b>Topic 39</b><br>Words: flaw, flawed, undisputed, misunderstood, inflict",
          "<b>Topic 39</b><br>Words: flaw, flawed, charming, don, decant"
         ],
         "marker": {
          "color": "#D55E00"
         },
         "mode": "lines",
         "name": "39_flaw_despite_masterpiece_astonishing",
         "type": "scatter",
         "x": [
          "2014-04-20T18:07:07.316999",
          "2015-05-29T20:17:53.300000",
          "2015-12-15T21:22:37.449999",
          "2016-07-02T22:27:21.600000",
          "2017-01-18T23:32:05.750000",
          "2017-08-07T00:36:49.900000",
          "2018-02-23T01:41:34.049999",
          "2018-09-11T02:46:18.200000",
          "2019-03-30T03:51:02.350000",
          "2019-10-16T04:55:46.500000",
          "2020-05-03T06:00:30.649999",
          "2020-11-19T07:05:14.800000",
          "2021-06-07T08:09:58.950000",
          "2021-12-24T09:14:43.100000",
          "2022-07-12T10:19:27.249999",
          "2023-01-28T11:24:11.400000",
          "2023-08-16T12:28:55.550000",
          "2024-03-03T13:33:39.700000",
          "2024-09-19T14:38:23.849999"
         ],
         "y": [
          3,
          1,
          1,
          1,
          2,
          3,
          2,
          1,
          3,
          6,
          11,
          14,
          9,
          13,
          7,
          7,
          9,
          12,
          17
         ]
        },
        {
         "hoverinfo": "text",
         "hovertext": [
          "<b>Topic 40</b><br>Words: don, review, uncasual, rate, fin",
          "<b>Topic 40</b><br>Words: review, don, classy, ill, derp",
          "<b>Topic 40</b><br>Words: review, skimming, prety, happily, insert",
          "<b>Topic 40</b><br>Words: don, review, rate, confirm, myt",
          "<b>Topic 40</b><br>Words: upvote, review, cmon, dumb, tired",
          "<b>Topic 40</b><br>Words: blame, write, ciao, review, definetly",
          "<b>Topic 40</b><br>Words: reviewer, ign, illusory, impression, review",
          "<b>Topic 40</b><br>Words: metric, purpose, fulfill, fulfil, review",
          "<b>Topic 40</b><br>Words: omegalul, cue, review, pop, negative",
          "<b>Topic 40</b><br>Words: liar, wary, positive, ahead, review",
          "<b>Topic 40</b><br>Words: dio, review, debunk, anybody, minded",
          "<b>Topic 40</b><br>Words: have, historical, review, score, disclaimer",
          "<b>Topic 40</b><br>Words: uncharacteristic, review, soft, funny, ignore",
          "<b>Topic 40</b><br>Words: review, gifted, unhelpful, angry, fucking",
          "<b>Topic 40</b><br>Words: review, hrs, don, september, historical",
          "<b>Topic 40</b><br>Words: review, don, varying, have, humour",
          "<b>Topic 40</b><br>Words: unplayaable, brotha, review, vodka, transgender",
          "<b>Topic 40</b><br>Words: gay, don, review, write, ill",
          "<b>Topic 40</b><br>Words: aparently, review, don, domo, sharing",
          "<b>Topic 40</b><br>Words: review, knacksterpiece, avdol, refference, glazing"
         ],
         "marker": {
          "color": "#0072B2"
         },
         "mode": "lines",
         "name": "40_review_write_negative_dio",
         "type": "scatter",
         "x": [
          "2014-04-20T18:07:07.316999",
          "2014-11-10T19:13:09.150000",
          "2015-05-29T20:17:53.300000",
          "2015-12-15T21:22:37.449999",
          "2016-07-02T22:27:21.600000",
          "2017-01-18T23:32:05.750000",
          "2017-08-07T00:36:49.900000",
          "2018-02-23T01:41:34.049999",
          "2018-09-11T02:46:18.200000",
          "2019-03-30T03:51:02.350000",
          "2019-10-16T04:55:46.500000",
          "2020-05-03T06:00:30.649999",
          "2020-11-19T07:05:14.800000",
          "2021-06-07T08:09:58.950000",
          "2021-12-24T09:14:43.100000",
          "2022-07-12T10:19:27.249999",
          "2023-01-28T11:24:11.400000",
          "2023-08-16T12:28:55.550000",
          "2024-03-03T13:33:39.700000",
          "2024-09-19T14:38:23.849999"
         ],
         "y": [
          11,
          7,
          10,
          8,
          4,
          4,
          4,
          2,
          4,
          1,
          6,
          3,
          4,
          8,
          9,
          10,
          5,
          5,
          6,
          10
         ]
        },
        {
         "hoverinfo": "text",
         "hovertext": [
          "<b>Topic 41</b><br>Words: ez, zz, ezlife, ezgame, nahw",
          "<b>Topic 41</b><br>Words: ez, sik, don, jelly, coz",
          "<b>Topic 41</b><br>Words: ez, nsmkon, oae, poiq, ftweq",
          "<b>Topic 41</b><br>Words: ez, nobodyever, rtz, gg, pz",
          "<b>Topic 41</b><br>Words: ez, gg, praisesun, lmao, seriously",
          "<b>Topic 41</b><br>Words: ez, ey, boi, heh, totally",
          "<b>Topic 41</b><br>Words: ez, gg, buy, pz, ztg",
          "<b>Topic 41</b><br>Words: ez, edgy, tbh, boy, gg",
          "<b>Topic 41</b><br>Words: ez, gg, pz, like, ztg",
          "<b>Topic 41</b><br>Words: ez, tz, ztgrwestzgewrs, uz, ztg",
          "<b>Topic 41</b><br>Words: ez, ezz, ztg, ezpz, gg",
          "<b>Topic 41</b><br>Words: ez, lyef, ezy, gg, pz",
          "<b>Topic 41</b><br>Words: ez, efsane, zor, ama, tbh",
          "<b>Topic 41</b><br>Words: ez, gg, yawn, win, super",
          "<b>Topic 41</b><br>Words: ez, zzz, defo, gg, af",
          "<b>Topic 41</b><br>Words: ez, gane, gg, pz, ztg",
          "<b>Topic 41</b><br>Words: ez, dmns, funz, iii, awful",
          "<b>Topic 41</b><br>Words: ez, meh, struggle, gg, definitely",
          "<b>Topic 41</b><br>Words: ez, goz, egynek, elmegy, gg",
          "<b>Topic 41</b><br>Words: ez, pz, achieve, poison, achievement"
         ],
         "marker": {
          "color": "#CC79A7"
         },
         "mode": "lines",
         "name": "41_ez_gg_pz_ztg",
         "type": "scatter",
         "x": [
          "2014-04-20T18:07:07.316999",
          "2014-11-10T19:13:09.150000",
          "2015-05-29T20:17:53.300000",
          "2015-12-15T21:22:37.449999",
          "2016-07-02T22:27:21.600000",
          "2017-01-18T23:32:05.750000",
          "2017-08-07T00:36:49.900000",
          "2018-02-23T01:41:34.049999",
          "2018-09-11T02:46:18.200000",
          "2019-03-30T03:51:02.350000",
          "2019-10-16T04:55:46.500000",
          "2020-05-03T06:00:30.649999",
          "2020-11-19T07:05:14.800000",
          "2021-06-07T08:09:58.950000",
          "2021-12-24T09:14:43.100000",
          "2022-07-12T10:19:27.249999",
          "2023-01-28T11:24:11.400000",
          "2023-08-16T12:28:55.550000",
          "2024-03-03T13:33:39.700000",
          "2024-09-19T14:38:23.849999"
         ],
         "y": [
          22,
          7,
          4,
          3,
          3,
          6,
          4,
          4,
          2,
          6,
          10,
          5,
          7,
          10,
          8,
          3,
          4,
          4,
          6,
          2
         ]
        },
        {
         "hoverinfo": "text",
         "hovertext": [
          "<b>Topic 42</b><br>Words: sequel, don, improve, refined, worthy",
          "<b>Topic 42</b><br>Words: sequel, don, have, harmless, translate",
          "<b>Topic 42</b><br>Words: expresso, latte, amusement, surrounding, astonishing",
          "<b>Topic 42</b><br>Words: sequel, untoasted, unfinished, aftertaste, sage",
          "<b>Topic 42</b><br>Words: don, sequel, lote, frater, perdurabo",
          "<b>Topic 42</b><br>Words: druid, ignoramus, recollect, intrinscally, memetic",
          "<b>Topic 42</b><br>Words: distant, rewarding, brush, heartbeat, sequel",
          "<b>Topic 42</b><br>Words: convenant, expeiernce, neverthless, unfavourble, haven",
          "<b>Topic 42</b><br>Words: arkham, bioshock, tailoring, precise, reorganize",
          "<b>Topic 42</b><br>Words: heartbeat, cram, glue, arpgs, hugely",
          "<b>Topic 42</b><br>Words: fulfill, invetory, apprehensive, sequel, live",
          "<b>Topic 42</b><br>Words: espouse, delightful, mastery, addicting, element",
          "<b>Topic 42</b><br>Words: addicitng, weaken, production, afford, captivate",
          "<b>Topic 42</b><br>Words: don, areabsurd, atnthe, whie, indifference",
          "<b>Topic 42</b><br>Words: robocop, don, unappealing, have, choke",
          "<b>Topic 42</b><br>Words: worker, sequel, engagement, capable, motivation",
          "<b>Topic 42</b><br>Words: ending, finality, contractually, keystone, richness",
          "<b>Topic 42</b><br>Words: don, formidable, sequel, establish, primarily",
          "<b>Topic 42</b><br>Words: don, sequel, obscurely, misguided, marmite",
          "<b>Topic 42</b><br>Words: unafraid, dweller, don, sludge, essayist"
         ],
         "marker": {
          "color": "#E69F00"
         },
         "mode": "lines",
         "name": "42_sequel_ii_production_predecessor",
         "type": "scatter",
         "x": [
          "2014-04-20T18:07:07.316999",
          "2014-11-10T19:13:09.150000",
          "2015-05-29T20:17:53.300000",
          "2015-12-15T21:22:37.449999",
          "2016-07-02T22:27:21.600000",
          "2017-01-18T23:32:05.750000",
          "2017-08-07T00:36:49.900000",
          "2018-02-23T01:41:34.049999",
          "2018-09-11T02:46:18.200000",
          "2019-03-30T03:51:02.350000",
          "2019-10-16T04:55:46.500000",
          "2020-05-03T06:00:30.649999",
          "2020-11-19T07:05:14.800000",
          "2021-06-07T08:09:58.950000",
          "2021-12-24T09:14:43.100000",
          "2022-07-12T10:19:27.249999",
          "2023-01-28T11:24:11.400000",
          "2023-08-16T12:28:55.550000",
          "2024-03-03T13:33:39.700000",
          "2024-09-19T14:38:23.849999"
         ],
         "y": [
          50,
          12,
          2,
          4,
          6,
          3,
          5,
          3,
          3,
          2,
          3,
          1,
          1,
          4,
          3,
          3,
          3,
          4,
          5,
          3
         ]
        },
        {
         "hoverinfo": "text",
         "hovertext": [
          "<b>Topic 43</b><br>Words: sword, katana, groundhog, scabbard, zweihandered",
          "<b>Topic 43</b><br>Words: mammoth, bumhole, weeaboo, sword, rock",
          "<b>Topic 43</b><br>Words: katana, steel, sword, wistfully, nippon",
          "<b>Topic 43</b><br>Words: have, chick, sword, mace, netcode",
          "<b>Topic 43</b><br>Words: blacksteel, buffed, katana, naked, murder",
          "<b>Topic 43</b><br>Words: ebut, gam, sword, fist, th",
          "<b>Topic 43</b><br>Words: disrespect, blade, weebs, edgy, cosplay",
          "<b>Topic 43</b><br>Words: smash, sword, hollow, big, katana",
          "<b>Topic 43</b><br>Words: smash, satisfy, sword, big, recommend",
          "<b>Topic 43</b><br>Words: sword, steel, flick, swish, raider",
          "<b>Topic 43</b><br>Words: sword, swong, betwix, ooooooo, swshhh",
          "<b>Topic 43</b><br>Words: sword, mace, ahtet, cleric, swing",
          "<b>Topic 43</b><br>Words: sword, brrrrrrrrrr, an, jharsd, studdf",
          "<b>Topic 43</b><br>Words: sword, bonk, smash, big, magic",
          "<b>Topic 43</b><br>Words: sword, reindeer, land, stupid, shield",
          "<b>Topic 43</b><br>Words: pew, swingaloo, electric, sword, katana",
          "<b>Topic 43</b><br>Words: sword, fosho, burr, softly, pokey",
          "<b>Topic 43</b><br>Words: sword, lightyear, swing, ass, gif",
          "<b>Topic 43</b><br>Words: don, sword, verse, baddie, mace"
         ],
         "marker": {
          "color": "#56B4E9"
         },
         "mode": "lines",
         "name": "43_sword_katana_swing_smash",
         "type": "scatter",
         "x": [
          "2014-04-20T18:07:07.316999",
          "2014-11-10T19:13:09.150000",
          "2015-05-29T20:17:53.300000",
          "2015-12-15T21:22:37.449999",
          "2016-07-02T22:27:21.600000",
          "2017-01-18T23:32:05.750000",
          "2018-02-23T01:41:34.049999",
          "2018-09-11T02:46:18.200000",
          "2019-03-30T03:51:02.350000",
          "2019-10-16T04:55:46.500000",
          "2020-05-03T06:00:30.649999",
          "2020-11-19T07:05:14.800000",
          "2021-06-07T08:09:58.950000",
          "2021-12-24T09:14:43.100000",
          "2022-07-12T10:19:27.249999",
          "2023-01-28T11:24:11.400000",
          "2023-08-16T12:28:55.550000",
          "2024-03-03T13:33:39.700000",
          "2024-09-19T14:38:23.849999"
         ],
         "y": [
          21,
          5,
          7,
          3,
          2,
          2,
          3,
          1,
          1,
          5,
          8,
          14,
          15,
          4,
          4,
          3,
          8,
          10,
          4
         ]
        },
        {
         "hoverinfo": "text",
         "hovertext": [
          "<b>Topic 44</b><br>Words: triedto, bos, drakeeper, junkie, torrent",
          "<b>Topic 44</b><br>Words: haven, sht, backside, rek, beutiful",
          "<b>Topic 44</b><br>Words: cheese, dog, rip, apart, rat",
          "<b>Topic 44</b><br>Words: gasm, bedda, neighborhood, reminisce, wake",
          "<b>Topic 44</b><br>Words: have, marry, persuer, bitch, baby",
          "<b>Topic 44</b><br>Words: past, hour, beat, boss, die",
          "<b>Topic 44</b><br>Words: whoop, trivial, butt, accomplishment, spend",
          "<b>Topic 44</b><br>Words: manikin, twin, complain, bos, fight",
          "<b>Topic 44</b><br>Words: mothersucker, armourer, defeat, bos, hour",
          "<b>Topic 44</b><br>Words: executioner, chariot, defeat, youtube, watch",
          "<b>Topic 44</b><br>Words: cock, cheese, rd, st, memorable",
          "<b>Topic 44</b><br>Words: wolnir, fnnuy, haven, erect, orange",
          "<b>Topic 44</b><br>Words: azaroth, gravity, sacrifice, room, pass",
          "<b>Topic 44</b><br>Words: don, gravity, prowl, sooo, magus",
          "<b>Topic 44</b><br>Words: thang, ocelot, revolver, bo, grapple",
          "<b>Topic 44</b><br>Words: py, pregnant, tired, ass, npc",
          "<b>Topic 44</b><br>Words: tism, runback, penus, ah, foe",
          "<b>Topic 44</b><br>Words: runback, recede, weaponssssss, hairline, chasm",
          "<b>Topic 44</b><br>Words: have, disgusting, huh, runback, tree"
         ],
         "marker": {
          "color": "#009E73"
         },
         "mode": "lines",
         "name": "44_bos_runbacks_gravity_thang",
         "type": "scatter",
         "x": [
          "2014-04-20T18:07:07.316999",
          "2014-11-10T19:13:09.150000",
          "2015-05-29T20:17:53.300000",
          "2015-12-15T21:22:37.449999",
          "2016-07-02T22:27:21.600000",
          "2017-01-18T23:32:05.750000",
          "2017-08-07T00:36:49.900000",
          "2018-09-11T02:46:18.200000",
          "2019-03-30T03:51:02.350000",
          "2019-10-16T04:55:46.500000",
          "2020-05-03T06:00:30.649999",
          "2020-11-19T07:05:14.800000",
          "2021-06-07T08:09:58.950000",
          "2021-12-24T09:14:43.100000",
          "2022-07-12T10:19:27.249999",
          "2023-01-28T11:24:11.400000",
          "2023-08-16T12:28:55.550000",
          "2024-03-03T13:33:39.700000",
          "2024-09-19T14:38:23.849999"
         ],
         "y": [
          23,
          7,
          6,
          6,
          5,
          2,
          3,
          2,
          1,
          3,
          2,
          10,
          7,
          6,
          6,
          4,
          8,
          13,
          4
         ]
        },
        {
         "hoverinfo": "text",
         "hovertext": [
          "<b>Topic 45</b><br>Words: bad, half, wasnt, slightly, meh",
          "<b>Topic 45</b><br>Words: bad, half, wasnt, slightly, meh",
          "<b>Topic 45</b><br>Words: bad, half, wasnt, slightly, meh",
          "<b>Topic 45</b><br>Words: bad, half, wasnt, slightly, meh",
          "<b>Topic 45</b><br>Words: bad, half, wasnt, slightly, meh",
          "<b>Topic 45</b><br>Words: bad, half, wasnt, slightly, meh",
          "<b>Topic 45</b><br>Words: bad, easily, half, wasnt, slightly",
          "<b>Topic 45</b><br>Words: meh, bad, half, wasnt, slightly",
          "<b>Topic 45</b><br>Words: bad, half, wasnt, slightly, meh",
          "<b>Topic 45</b><br>Words: bad, half, wasnt, slightly, meh",
          "<b>Topic 45</b><br>Words: bad, half, wasnt, slightly, meh",
          "<b>Topic 45</b><br>Words: bad, half, wasnt, slightly, meh",
          "<b>Topic 45</b><br>Words: bad, slightly, half, wasnt, meh",
          "<b>Topic 45</b><br>Words: bad, kinda, half, wasnt, slightly",
          "<b>Topic 45</b><br>Words: bad, half, wasnt, slightly, meh",
          "<b>Topic 45</b><br>Words: bad, slightly, half, wasnt, meh",
          "<b>Topic 45</b><br>Words: bad, half, wasnt, slightly, meh",
          "<b>Topic 45</b><br>Words: bad, half, wasnt, slightly, meh"
         ],
         "marker": {
          "color": "#F0E442"
         },
         "mode": "lines",
         "name": "45_bad_half_wasnt_slightly",
         "type": "scatter",
         "x": [
          "2014-04-20T18:07:07.316999",
          "2014-11-10T19:13:09.150000",
          "2015-05-29T20:17:53.300000",
          "2015-12-15T21:22:37.449999",
          "2016-07-02T22:27:21.600000",
          "2017-01-18T23:32:05.750000",
          "2018-02-23T01:41:34.049999",
          "2019-03-30T03:51:02.350000",
          "2019-10-16T04:55:46.500000",
          "2020-05-03T06:00:30.649999",
          "2020-11-19T07:05:14.800000",
          "2021-06-07T08:09:58.950000",
          "2021-12-24T09:14:43.100000",
          "2022-07-12T10:19:27.249999",
          "2023-01-28T11:24:11.400000",
          "2023-08-16T12:28:55.550000",
          "2024-03-03T13:33:39.700000",
          "2024-09-19T14:38:23.849999"
         ],
         "y": [
          2,
          1,
          2,
          1,
          2,
          1,
          3,
          3,
          7,
          4,
          15,
          17,
          17,
          3,
          9,
          10,
          10,
          9
         ]
        },
        {
         "hoverinfo": "text",
         "hovertext": [
          "<b>Topic 46</b><br>Words: eyelid, scalpel, hq, amana, shrine",
          "<b>Topic 46</b><br>Words: amana, shrine, enchanced, logically, chew",
          "<b>Topic 46</b><br>Words: amana, shrine, die, fuck, nashandra",
          "<b>Topic 46</b><br>Words: ameno, shrine, amana, fuck, nashandra",
          "<b>Topic 46</b><br>Words: hippo, amana, shrine, arrow, speed",
          "<b>Topic 46</b><br>Words: nashandra, amana, bell, shrine, honestly",
          "<b>Topic 46</b><br>Words: shrine, amana, forsake, blight, lever",
          "<b>Topic 46</b><br>Words: amana, shrine, pharo, nuke, fk",
          "<b>Topic 46</b><br>Words: amana, shrine, literal, shenanigan, shoutout",
          "<b>Topic 46</b><br>Words: amana, shrine, astora, silence, remixed",
          "<b>Topic 46</b><br>Words: amana, shrine, dredge, seeketh, scarcely",
          "<b>Topic 46</b><br>Words: shrine, amana, armana, have, aww",
          "<b>Topic 46</b><br>Words: amana, shrine, vine, goober, noise",
          "<b>Topic 46</b><br>Words: amana, shrine, freeeeeeeee, masocist, horseshit",
          "<b>Topic 46</b><br>Words: amana, shrine, floyd, amanashrine, fagg",
          "<b>Topic 46</b><br>Words: amana, shrine, disgusting, dunno, idna",
          "<b>Topic 46</b><br>Words: amana, shrine, haven, bareknuckle, corvetous",
          "<b>Topic 46</b><br>Words: amana, shrine, nashandra, don, bruise",
          "<b>Topic 46</b><br>Words: amana, shrine, overhate, fuck, fayyyvorite"
         ],
         "marker": {
          "color": "#D55E00"
         },
         "mode": "lines",
         "name": "46_amana_shrine_fuck_nashandra",
         "type": "scatter",
         "x": [
          "2014-04-20T18:07:07.316999",
          "2014-11-10T19:13:09.150000",
          "2015-05-29T20:17:53.300000",
          "2015-12-15T21:22:37.449999",
          "2016-07-02T22:27:21.600000",
          "2017-01-18T23:32:05.750000",
          "2017-08-07T00:36:49.900000",
          "2018-09-11T02:46:18.200000",
          "2019-03-30T03:51:02.350000",
          "2019-10-16T04:55:46.500000",
          "2020-05-03T06:00:30.649999",
          "2020-11-19T07:05:14.800000",
          "2021-06-07T08:09:58.950000",
          "2021-12-24T09:14:43.100000",
          "2022-07-12T10:19:27.249999",
          "2023-01-28T11:24:11.400000",
          "2023-08-16T12:28:55.550000",
          "2024-03-03T13:33:39.700000",
          "2024-09-19T14:38:23.849999"
         ],
         "y": [
          1,
          4,
          1,
          3,
          1,
          2,
          1,
          4,
          5,
          7,
          8,
          7,
          3,
          7,
          8,
          10,
          12,
          16,
          15
         ]
        },
        {
         "hoverinfo": "text",
         "hovertext": [
          "<b>Topic 47</b><br>Words: amaze, amazing, amazeballz, erhmagawd, omg",
          "<b>Topic 47</b><br>Words: amaze, amazing, kappa, female, absolutly",
          "<b>Topic 47</b><br>Words: amaze, amazing, em, tho, simply",
          "<b>Topic 47</b><br>Words: wao, amaze, amazing, casual, erhmagawd",
          "<b>Topic 47</b><br>Words: amazing, amaze, erhmagawd, amazeballz, wao",
          "<b>Topic 47</b><br>Words: amazing, amaze, erhmagawd, amazeballz, wao",
          "<b>Topic 47</b><br>Words: amazing, amaze, absolutely, favorite, erhmagawd",
          "<b>Topic 47</b><br>Words: amazing, amaze, absolutely, amazeballz, erhmagawd",
          "<b>Topic 47</b><br>Words: amazing, amaze, erhmagawd, amazeballz, wao",
          "<b>Topic 47</b><br>Words: box, amaze, turn, amazing, wao",
          "<b>Topic 47</b><br>Words: amazing, amaze, erhmagawd, amazeballz, wao",
          "<b>Topic 47</b><br>Words: amazin, amaze, amazing, amazeballz, erhmagawd",
          "<b>Topic 47</b><br>Words: def, amaze, amazing, buy, easy",
          "<b>Topic 47</b><br>Words: amazing, amaze, erhmagawd, amazeballz, wao",
          "<b>Topic 47</b><br>Words: amazing, amaze, suck, old, mechanic",
          "<b>Topic 47</b><br>Words: amaze, amazing, box, turn, know",
          "<b>Topic 47</b><br>Words: lie, amaze, amazing, amazeballz, erhmagawd",
          "<b>Topic 47</b><br>Words: amaze, amazing, recommendation, massive, wao",
          "<b>Topic 47</b><br>Words: amazing, amaze, ahead, cool, friend",
          "<b>Topic 47</b><br>Words: amazed, amaze, amazing, enormous, amazeballz"
         ],
         "marker": {
          "color": "#0072B2"
         },
         "mode": "lines",
         "name": "47_amaze_amazeballz_wao_erhmagawd",
         "type": "scatter",
         "x": [
          "2014-04-20T18:07:07.316999",
          "2014-11-10T19:13:09.150000",
          "2015-05-29T20:17:53.300000",
          "2015-12-15T21:22:37.449999",
          "2016-07-02T22:27:21.600000",
          "2017-01-18T23:32:05.750000",
          "2017-08-07T00:36:49.900000",
          "2018-02-23T01:41:34.049999",
          "2018-09-11T02:46:18.200000",
          "2019-03-30T03:51:02.350000",
          "2019-10-16T04:55:46.500000",
          "2020-05-03T06:00:30.649999",
          "2020-11-19T07:05:14.800000",
          "2021-06-07T08:09:58.950000",
          "2021-12-24T09:14:43.100000",
          "2022-07-12T10:19:27.249999",
          "2023-01-28T11:24:11.400000",
          "2023-08-16T12:28:55.550000",
          "2024-03-03T13:33:39.700000",
          "2024-09-19T14:38:23.849999"
         ],
         "y": [
          35,
          11,
          5,
          7,
          1,
          2,
          3,
          2,
          1,
          1,
          5,
          5,
          4,
          4,
          4,
          3,
          2,
          5,
          7,
          8
         ]
        },
        {
         "hoverinfo": "text",
         "hovertext": [
          "<b>Topic 48</b><br>Words: port, pc, job, don, console",
          "<b>Topic 48</b><br>Words: port, have, horrible, mood, pc",
          "<b>Topic 48</b><br>Words: patching, port, modding, functionality, dks",
          "<b>Topic 48</b><br>Words: port, coudnt, everthing, ot, website",
          "<b>Topic 48</b><br>Words: secretley, port, st, everybody, inferior",
          "<b>Topic 48</b><br>Words: port, amazingly, replayable, gaming, imo",
          "<b>Topic 48</b><br>Words: source, material, apply, potato, port",
          "<b>Topic 48</b><br>Words: becasue, abit, port, ps, notice",
          "<b>Topic 48</b><br>Words: honeslty, conttoller, port, fundamentally, painful",
          "<b>Topic 48</b><br>Words: emulator, port, offhand, clicking, ps",
          "<b>Topic 48</b><br>Words: port, preform, scuffed, clumsy, irrelevant",
          "<b>Topic 48</b><br>Words: doodoo, port, alright, tho, kinda",
          "<b>Topic 48</b><br>Words: rough, port, super, pc, work",
          "<b>Topic 48</b><br>Words: reset, port, format, miserable, valid",
          "<b>Topic 48</b><br>Words: geppo, fuckin, port, awfully, remotely",
          "<b>Topic 48</b><br>Words: port, version, good, pc, job"
         ],
         "marker": {
          "color": "#CC79A7"
         },
         "mode": "lines",
         "name": "48_port_pc_job_console",
         "type": "scatter",
         "x": [
          "2014-04-20T18:07:07.316999",
          "2014-11-10T19:13:09.150000",
          "2015-05-29T20:17:53.300000",
          "2015-12-15T21:22:37.449999",
          "2016-07-02T22:27:21.600000",
          "2017-01-18T23:32:05.750000",
          "2017-08-07T00:36:49.900000",
          "2018-09-11T02:46:18.200000",
          "2019-10-16T04:55:46.500000",
          "2020-11-19T07:05:14.800000",
          "2021-06-07T08:09:58.950000",
          "2021-12-24T09:14:43.100000",
          "2022-07-12T10:19:27.249999",
          "2023-08-16T12:28:55.550000",
          "2024-03-03T13:33:39.700000",
          "2024-09-19T14:38:23.849999"
         ],
         "y": [
          81,
          6,
          2,
          4,
          3,
          3,
          1,
          1,
          2,
          2,
          2,
          2,
          1,
          1,
          1,
          1
         ]
        },
        {
         "hoverinfo": "text",
         "hovertext": [
          "<b>Topic 49</b><br>Words: demon, satan, eachother, molly, jason",
          "<b>Topic 49</b><br>Words: demon, aaa, par, engage, average",
          "<b>Topic 49</b><br>Words: snowman, demon, cult, director, cut",
          "<b>Topic 49</b><br>Words: argonaut, jason, demon, nope, stunning",
          "<b>Topic 49</b><br>Words: devil, demon, new, level, satan",
          "<b>Topic 49</b><br>Words: satanist, hunter, demon, hipster, shortly",
          "<b>Topic 49</b><br>Words: kuess, atlus, isent, demon, active",
          "<b>Topic 49</b><br>Words: popular, demon, care, similar, imo",
          "<b>Topic 49</b><br>Words: today, garbage, demon, include, franchise",
          "<b>Topic 49</b><br>Words: sikero, demon, reshuffle, changed, bb",
          "<b>Topic 49</b><br>Words: waayyyy, demon, close, og, remake",
          "<b>Topic 49</b><br>Words: demon, fml, food, chain, debate",
          "<b>Topic 49</b><br>Words: ezekiel, flack, loose, demon, fly",
          "<b>Topic 49</b><br>Words: demon, fantastic, big, kill, enjoy",
          "<b>Topic 49</b><br>Words: server, include, finally, demon, favorite",
          "<b>Topic 49</b><br>Words: remake, demon, hidetaka, originally, answer",
          "<b>Topic 49</b><br>Words: conventus, don, demon, funky, bb",
          "<b>Topic 49</b><br>Words: demon, cirlce, inferno, dante, reminiscent"
         ],
         "marker": {
          "color": "#E69F00"
         },
         "mode": "lines",
         "name": "49_demon_satan_eachother_jason",
         "type": "scatter",
         "x": [
          "2014-04-20T18:07:07.316999",
          "2014-11-10T19:13:09.150000",
          "2015-05-29T20:17:53.300000",
          "2015-12-15T21:22:37.449999",
          "2017-01-18T23:32:05.750000",
          "2017-08-07T00:36:49.900000",
          "2018-02-23T01:41:34.049999",
          "2018-09-11T02:46:18.200000",
          "2019-03-30T03:51:02.350000",
          "2019-10-16T04:55:46.500000",
          "2020-05-03T06:00:30.649999",
          "2020-11-19T07:05:14.800000",
          "2021-06-07T08:09:58.950000",
          "2021-12-24T09:14:43.100000",
          "2022-07-12T10:19:27.249999",
          "2023-08-16T12:28:55.550000",
          "2024-03-03T13:33:39.700000",
          "2024-09-19T14:38:23.849999"
         ],
         "y": [
          41,
          7,
          5,
          4,
          1,
          4,
          3,
          2,
          1,
          4,
          5,
          7,
          3,
          2,
          1,
          3,
          7,
          9
         ]
        }
       ],
       "layout": {
        "height": 450,
        "hoverlabel": {
         "bgcolor": "white",
         "font": {
          "family": "Rockwell",
          "size": 16
         }
        },
        "legend": {
         "title": {
          "text": "<b>Global Topic Representation"
         }
        },
        "template": {
         "data": {
          "bar": [
           {
            "error_x": {
             "color": "rgb(36,36,36)"
            },
            "error_y": {
             "color": "rgb(36,36,36)"
            },
            "marker": {
             "line": {
              "color": "white",
              "width": 0.5
             },
             "pattern": {
              "fillmode": "overlay",
              "size": 10,
              "solidity": 0.2
             }
            },
            "type": "bar"
           }
          ],
          "barpolar": [
           {
            "marker": {
             "line": {
              "color": "white",
              "width": 0.5
             },
             "pattern": {
              "fillmode": "overlay",
              "size": 10,
              "solidity": 0.2
             }
            },
            "type": "barpolar"
           }
          ],
          "carpet": [
           {
            "aaxis": {
             "endlinecolor": "rgb(36,36,36)",
             "gridcolor": "white",
             "linecolor": "white",
             "minorgridcolor": "white",
             "startlinecolor": "rgb(36,36,36)"
            },
            "baxis": {
             "endlinecolor": "rgb(36,36,36)",
             "gridcolor": "white",
             "linecolor": "white",
             "minorgridcolor": "white",
             "startlinecolor": "rgb(36,36,36)"
            },
            "type": "carpet"
           }
          ],
          "choropleth": [
           {
            "colorbar": {
             "outlinewidth": 1,
             "tickcolor": "rgb(36,36,36)",
             "ticks": "outside"
            },
            "type": "choropleth"
           }
          ],
          "contour": [
           {
            "colorbar": {
             "outlinewidth": 1,
             "tickcolor": "rgb(36,36,36)",
             "ticks": "outside"
            },
            "colorscale": [
             [
              0,
              "#440154"
             ],
             [
              0.1111111111111111,
              "#482878"
             ],
             [
              0.2222222222222222,
              "#3e4989"
             ],
             [
              0.3333333333333333,
              "#31688e"
             ],
             [
              0.4444444444444444,
              "#26828e"
             ],
             [
              0.5555555555555556,
              "#1f9e89"
             ],
             [
              0.6666666666666666,
              "#35b779"
             ],
             [
              0.7777777777777778,
              "#6ece58"
             ],
             [
              0.8888888888888888,
              "#b5de2b"
             ],
             [
              1,
              "#fde725"
             ]
            ],
            "type": "contour"
           }
          ],
          "contourcarpet": [
           {
            "colorbar": {
             "outlinewidth": 1,
             "tickcolor": "rgb(36,36,36)",
             "ticks": "outside"
            },
            "type": "contourcarpet"
           }
          ],
          "heatmap": [
           {
            "colorbar": {
             "outlinewidth": 1,
             "tickcolor": "rgb(36,36,36)",
             "ticks": "outside"
            },
            "colorscale": [
             [
              0,
              "#440154"
             ],
             [
              0.1111111111111111,
              "#482878"
             ],
             [
              0.2222222222222222,
              "#3e4989"
             ],
             [
              0.3333333333333333,
              "#31688e"
             ],
             [
              0.4444444444444444,
              "#26828e"
             ],
             [
              0.5555555555555556,
              "#1f9e89"
             ],
             [
              0.6666666666666666,
              "#35b779"
             ],
             [
              0.7777777777777778,
              "#6ece58"
             ],
             [
              0.8888888888888888,
              "#b5de2b"
             ],
             [
              1,
              "#fde725"
             ]
            ],
            "type": "heatmap"
           }
          ],
          "heatmapgl": [
           {
            "colorbar": {
             "outlinewidth": 1,
             "tickcolor": "rgb(36,36,36)",
             "ticks": "outside"
            },
            "colorscale": [
             [
              0,
              "#440154"
             ],
             [
              0.1111111111111111,
              "#482878"
             ],
             [
              0.2222222222222222,
              "#3e4989"
             ],
             [
              0.3333333333333333,
              "#31688e"
             ],
             [
              0.4444444444444444,
              "#26828e"
             ],
             [
              0.5555555555555556,
              "#1f9e89"
             ],
             [
              0.6666666666666666,
              "#35b779"
             ],
             [
              0.7777777777777778,
              "#6ece58"
             ],
             [
              0.8888888888888888,
              "#b5de2b"
             ],
             [
              1,
              "#fde725"
             ]
            ],
            "type": "heatmapgl"
           }
          ],
          "histogram": [
           {
            "marker": {
             "line": {
              "color": "white",
              "width": 0.6
             }
            },
            "type": "histogram"
           }
          ],
          "histogram2d": [
           {
            "colorbar": {
             "outlinewidth": 1,
             "tickcolor": "rgb(36,36,36)",
             "ticks": "outside"
            },
            "colorscale": [
             [
              0,
              "#440154"
             ],
             [
              0.1111111111111111,
              "#482878"
             ],
             [
              0.2222222222222222,
              "#3e4989"
             ],
             [
              0.3333333333333333,
              "#31688e"
             ],
             [
              0.4444444444444444,
              "#26828e"
             ],
             [
              0.5555555555555556,
              "#1f9e89"
             ],
             [
              0.6666666666666666,
              "#35b779"
             ],
             [
              0.7777777777777778,
              "#6ece58"
             ],
             [
              0.8888888888888888,
              "#b5de2b"
             ],
             [
              1,
              "#fde725"
             ]
            ],
            "type": "histogram2d"
           }
          ],
          "histogram2dcontour": [
           {
            "colorbar": {
             "outlinewidth": 1,
             "tickcolor": "rgb(36,36,36)",
             "ticks": "outside"
            },
            "colorscale": [
             [
              0,
              "#440154"
             ],
             [
              0.1111111111111111,
              "#482878"
             ],
             [
              0.2222222222222222,
              "#3e4989"
             ],
             [
              0.3333333333333333,
              "#31688e"
             ],
             [
              0.4444444444444444,
              "#26828e"
             ],
             [
              0.5555555555555556,
              "#1f9e89"
             ],
             [
              0.6666666666666666,
              "#35b779"
             ],
             [
              0.7777777777777778,
              "#6ece58"
             ],
             [
              0.8888888888888888,
              "#b5de2b"
             ],
             [
              1,
              "#fde725"
             ]
            ],
            "type": "histogram2dcontour"
           }
          ],
          "mesh3d": [
           {
            "colorbar": {
             "outlinewidth": 1,
             "tickcolor": "rgb(36,36,36)",
             "ticks": "outside"
            },
            "type": "mesh3d"
           }
          ],
          "parcoords": [
           {
            "line": {
             "colorbar": {
              "outlinewidth": 1,
              "tickcolor": "rgb(36,36,36)",
              "ticks": "outside"
             }
            },
            "type": "parcoords"
           }
          ],
          "pie": [
           {
            "automargin": true,
            "type": "pie"
           }
          ],
          "scatter": [
           {
            "fillpattern": {
             "fillmode": "overlay",
             "size": 10,
             "solidity": 0.2
            },
            "type": "scatter"
           }
          ],
          "scatter3d": [
           {
            "line": {
             "colorbar": {
              "outlinewidth": 1,
              "tickcolor": "rgb(36,36,36)",
              "ticks": "outside"
             }
            },
            "marker": {
             "colorbar": {
              "outlinewidth": 1,
              "tickcolor": "rgb(36,36,36)",
              "ticks": "outside"
             }
            },
            "type": "scatter3d"
           }
          ],
          "scattercarpet": [
           {
            "marker": {
             "colorbar": {
              "outlinewidth": 1,
              "tickcolor": "rgb(36,36,36)",
              "ticks": "outside"
             }
            },
            "type": "scattercarpet"
           }
          ],
          "scattergeo": [
           {
            "marker": {
             "colorbar": {
              "outlinewidth": 1,
              "tickcolor": "rgb(36,36,36)",
              "ticks": "outside"
             }
            },
            "type": "scattergeo"
           }
          ],
          "scattergl": [
           {
            "marker": {
             "colorbar": {
              "outlinewidth": 1,
              "tickcolor": "rgb(36,36,36)",
              "ticks": "outside"
             }
            },
            "type": "scattergl"
           }
          ],
          "scattermapbox": [
           {
            "marker": {
             "colorbar": {
              "outlinewidth": 1,
              "tickcolor": "rgb(36,36,36)",
              "ticks": "outside"
             }
            },
            "type": "scattermapbox"
           }
          ],
          "scatterpolar": [
           {
            "marker": {
             "colorbar": {
              "outlinewidth": 1,
              "tickcolor": "rgb(36,36,36)",
              "ticks": "outside"
             }
            },
            "type": "scatterpolar"
           }
          ],
          "scatterpolargl": [
           {
            "marker": {
             "colorbar": {
              "outlinewidth": 1,
              "tickcolor": "rgb(36,36,36)",
              "ticks": "outside"
             }
            },
            "type": "scatterpolargl"
           }
          ],
          "scatterternary": [
           {
            "marker": {
             "colorbar": {
              "outlinewidth": 1,
              "tickcolor": "rgb(36,36,36)",
              "ticks": "outside"
             }
            },
            "type": "scatterternary"
           }
          ],
          "surface": [
           {
            "colorbar": {
             "outlinewidth": 1,
             "tickcolor": "rgb(36,36,36)",
             "ticks": "outside"
            },
            "colorscale": [
             [
              0,
              "#440154"
             ],
             [
              0.1111111111111111,
              "#482878"
             ],
             [
              0.2222222222222222,
              "#3e4989"
             ],
             [
              0.3333333333333333,
              "#31688e"
             ],
             [
              0.4444444444444444,
              "#26828e"
             ],
             [
              0.5555555555555556,
              "#1f9e89"
             ],
             [
              0.6666666666666666,
              "#35b779"
             ],
             [
              0.7777777777777778,
              "#6ece58"
             ],
             [
              0.8888888888888888,
              "#b5de2b"
             ],
             [
              1,
              "#fde725"
             ]
            ],
            "type": "surface"
           }
          ],
          "table": [
           {
            "cells": {
             "fill": {
              "color": "rgb(237,237,237)"
             },
             "line": {
              "color": "white"
             }
            },
            "header": {
             "fill": {
              "color": "rgb(217,217,217)"
             },
             "line": {
              "color": "white"
             }
            },
            "type": "table"
           }
          ]
         },
         "layout": {
          "annotationdefaults": {
           "arrowhead": 0,
           "arrowwidth": 1
          },
          "autotypenumbers": "strict",
          "coloraxis": {
           "colorbar": {
            "outlinewidth": 1,
            "tickcolor": "rgb(36,36,36)",
            "ticks": "outside"
           }
          },
          "colorscale": {
           "diverging": [
            [
             0,
             "rgb(103,0,31)"
            ],
            [
             0.1,
             "rgb(178,24,43)"
            ],
            [
             0.2,
             "rgb(214,96,77)"
            ],
            [
             0.3,
             "rgb(244,165,130)"
            ],
            [
             0.4,
             "rgb(253,219,199)"
            ],
            [
             0.5,
             "rgb(247,247,247)"
            ],
            [
             0.6,
             "rgb(209,229,240)"
            ],
            [
             0.7,
             "rgb(146,197,222)"
            ],
            [
             0.8,
             "rgb(67,147,195)"
            ],
            [
             0.9,
             "rgb(33,102,172)"
            ],
            [
             1,
             "rgb(5,48,97)"
            ]
           ],
           "sequential": [
            [
             0,
             "#440154"
            ],
            [
             0.1111111111111111,
             "#482878"
            ],
            [
             0.2222222222222222,
             "#3e4989"
            ],
            [
             0.3333333333333333,
             "#31688e"
            ],
            [
             0.4444444444444444,
             "#26828e"
            ],
            [
             0.5555555555555556,
             "#1f9e89"
            ],
            [
             0.6666666666666666,
             "#35b779"
            ],
            [
             0.7777777777777778,
             "#6ece58"
            ],
            [
             0.8888888888888888,
             "#b5de2b"
            ],
            [
             1,
             "#fde725"
            ]
           ],
           "sequentialminus": [
            [
             0,
             "#440154"
            ],
            [
             0.1111111111111111,
             "#482878"
            ],
            [
             0.2222222222222222,
             "#3e4989"
            ],
            [
             0.3333333333333333,
             "#31688e"
            ],
            [
             0.4444444444444444,
             "#26828e"
            ],
            [
             0.5555555555555556,
             "#1f9e89"
            ],
            [
             0.6666666666666666,
             "#35b779"
            ],
            [
             0.7777777777777778,
             "#6ece58"
            ],
            [
             0.8888888888888888,
             "#b5de2b"
            ],
            [
             1,
             "#fde725"
            ]
           ]
          },
          "colorway": [
           "#1F77B4",
           "#FF7F0E",
           "#2CA02C",
           "#D62728",
           "#9467BD",
           "#8C564B",
           "#E377C2",
           "#7F7F7F",
           "#BCBD22",
           "#17BECF"
          ],
          "font": {
           "color": "rgb(36,36,36)"
          },
          "geo": {
           "bgcolor": "white",
           "lakecolor": "white",
           "landcolor": "white",
           "showlakes": true,
           "showland": true,
           "subunitcolor": "white"
          },
          "hoverlabel": {
           "align": "left"
          },
          "hovermode": "closest",
          "mapbox": {
           "style": "light"
          },
          "paper_bgcolor": "white",
          "plot_bgcolor": "white",
          "polar": {
           "angularaxis": {
            "gridcolor": "rgb(232,232,232)",
            "linecolor": "rgb(36,36,36)",
            "showgrid": false,
            "showline": true,
            "ticks": "outside"
           },
           "bgcolor": "white",
           "radialaxis": {
            "gridcolor": "rgb(232,232,232)",
            "linecolor": "rgb(36,36,36)",
            "showgrid": false,
            "showline": true,
            "ticks": "outside"
           }
          },
          "scene": {
           "xaxis": {
            "backgroundcolor": "white",
            "gridcolor": "rgb(232,232,232)",
            "gridwidth": 2,
            "linecolor": "rgb(36,36,36)",
            "showbackground": true,
            "showgrid": false,
            "showline": true,
            "ticks": "outside",
            "zeroline": false,
            "zerolinecolor": "rgb(36,36,36)"
           },
           "yaxis": {
            "backgroundcolor": "white",
            "gridcolor": "rgb(232,232,232)",
            "gridwidth": 2,
            "linecolor": "rgb(36,36,36)",
            "showbackground": true,
            "showgrid": false,
            "showline": true,
            "ticks": "outside",
            "zeroline": false,
            "zerolinecolor": "rgb(36,36,36)"
           },
           "zaxis": {
            "backgroundcolor": "white",
            "gridcolor": "rgb(232,232,232)",
            "gridwidth": 2,
            "linecolor": "rgb(36,36,36)",
            "showbackground": true,
            "showgrid": false,
            "showline": true,
            "ticks": "outside",
            "zeroline": false,
            "zerolinecolor": "rgb(36,36,36)"
           }
          },
          "shapedefaults": {
           "fillcolor": "black",
           "line": {
            "width": 0
           },
           "opacity": 0.3
          },
          "ternary": {
           "aaxis": {
            "gridcolor": "rgb(232,232,232)",
            "linecolor": "rgb(36,36,36)",
            "showgrid": false,
            "showline": true,
            "ticks": "outside"
           },
           "baxis": {
            "gridcolor": "rgb(232,232,232)",
            "linecolor": "rgb(36,36,36)",
            "showgrid": false,
            "showline": true,
            "ticks": "outside"
           },
           "bgcolor": "white",
           "caxis": {
            "gridcolor": "rgb(232,232,232)",
            "linecolor": "rgb(36,36,36)",
            "showgrid": false,
            "showline": true,
            "ticks": "outside"
           }
          },
          "title": {
           "x": 0.05
          },
          "xaxis": {
           "automargin": true,
           "gridcolor": "rgb(232,232,232)",
           "linecolor": "rgb(36,36,36)",
           "showgrid": false,
           "showline": true,
           "ticks": "outside",
           "title": {
            "standoff": 15
           },
           "zeroline": false,
           "zerolinecolor": "rgb(36,36,36)"
          },
          "yaxis": {
           "automargin": true,
           "gridcolor": "rgb(232,232,232)",
           "linecolor": "rgb(36,36,36)",
           "showgrid": false,
           "showline": true,
           "ticks": "outside",
           "title": {
            "standoff": 15
           },
           "zeroline": false,
           "zerolinecolor": "rgb(36,36,36)"
          }
         }
        },
        "title": {
         "font": {
          "color": "Black",
          "size": 22
         },
         "text": "<b>Topics over Time</b>",
         "x": 0.4,
         "xanchor": "center",
         "y": 0.95,
         "yanchor": "top"
        },
        "width": 1250,
        "xaxis": {
         "showgrid": true
        },
        "yaxis": {
         "showgrid": true,
         "title": {
          "text": "Frequency"
         }
        }
       }
      }
     },
     "metadata": {},
     "output_type": "display_data"
    }
   ],
   "source": [
    "pos_model.visualize_topics_over_time(pos_topics_over_time, top_n_topics=50)"
   ]
  },
  {
   "cell_type": "code",
   "execution_count": 17,
   "metadata": {},
   "outputs": [
    {
     "name": "stderr",
     "output_type": "stream",
     "text": [
      "5it [00:07,  1.56s/it]\n"
     ]
    }
   ],
   "source": [
    "pos_topics_over_time = pos_model.topics_over_time(pos_docs, pos_extra_content_release, nr_bins=20)"
   ]
  },
  {
   "cell_type": "code",
   "execution_count": 18,
   "metadata": {},
   "outputs": [
    {
     "data": {
      "application/vnd.plotly.v1+json": {
       "config": {
        "plotlyServerURL": "https://plot.ly"
       },
       "data": [
        {
         "hoverinfo": "text",
         "hovertext": [
          "<b>Topic 0</b><br>Words: ow, praise, brolaire, umm, forgot",
          "<b>Topic 0</b><br>Words: brolaire, praise, ow, umm, forgot",
          "<b>Topic 0</b><br>Words: brolaire, ow, umm, praise, forgot",
          "<b>Topic 0</b><br>Words: praise, brolaire, ow, umm, forgot",
          "<b>Topic 0</b><br>Words: don, umm, aaa, hello, brolaire"
         ],
         "marker": {
          "color": "#E69F00"
         },
         "mode": "lines",
         "name": "0_brolaire_umm_ow_praise",
         "type": "scatter",
         "x": [
          "2014-03-10T14:44:09.600000",
          "2014-07-04T19:12:00",
          "2014-08-12T09:36:00",
          "2014-09-20T00:00:00",
          "2015-03-12T16:48:00"
         ],
         "y": [
          85,
          13,
          12,
          37,
          1522
         ]
        },
        {
         "hoverinfo": "text",
         "hovertext": [
          "<b>Topic 1</b><br>Words: good, ass, well, mm, dat",
          "<b>Topic 1</b><br>Words: good, mm, dat, ol, af",
          "<b>Topic 1</b><br>Words: good, mm, dat, ol, af",
          "<b>Topic 1</b><br>Words: good, mm, dat, ol, af",
          "<b>Topic 1</b><br>Words: good, well, don, mm, dat"
         ],
         "marker": {
          "color": "#56B4E9"
         },
         "mode": "lines",
         "name": "1_good_mm_dat_ol",
         "type": "scatter",
         "x": [
          "2014-03-10T14:44:09.600000",
          "2014-07-04T19:12:00",
          "2014-08-12T09:36:00",
          "2014-09-20T00:00:00",
          "2015-03-12T16:48:00"
         ],
         "y": [
          51,
          10,
          4,
          23,
          1182
         ]
        },
        {
         "hoverinfo": "text",
         "hovertext": [
          "<b>Topic 2</b><br>Words: don, have, player, haven, covenant",
          "<b>Topic 2</b><br>Words: don, have, navlaan, haven, will",
          "<b>Topic 2</b><br>Words: don, have, list, enviroment, player",
          "<b>Topic 2</b><br>Words: don, have, matrixdll, haven, boss",
          "<b>Topic 2</b><br>Words: don, have, iron, boss, area"
         ],
         "marker": {
          "color": "#009E73"
         },
         "mode": "lines",
         "name": "2_iron_area_player_attack",
         "type": "scatter",
         "x": [
          "2014-03-10T14:44:09.600000",
          "2014-07-04T19:12:00",
          "2014-08-12T09:36:00",
          "2014-09-20T00:00:00",
          "2015-03-12T16:48:00"
         ],
         "y": [
          138,
          17,
          20,
          51,
          811
         ]
        },
        {
         "hoverinfo": "text",
         "hovertext": [
          "<b>Topic 3</b><br>Words: don, dlc, dewrk, thorooughly, extras",
          "<b>Topic 3</b><br>Words: don, cnt, adition, recommand, trully",
          "<b>Topic 3</b><br>Words: hench, goggle, foreward, playability, dlc",
          "<b>Topic 3</b><br>Words: don, directx, dlc, owner, version",
          "<b>Topic 3</b><br>Words: don, dlc, version, dx, upgrade"
         ],
         "marker": {
          "color": "#F0E442"
         },
         "mode": "lines",
         "name": "3_dlc_version_dx_upgrade",
         "type": "scatter",
         "x": [
          "2014-03-10T14:44:09.600000",
          "2014-07-04T19:12:00",
          "2014-08-12T09:36:00",
          "2014-09-20T00:00:00",
          "2015-03-12T16:48:00"
         ],
         "y": [
          16,
          3,
          8,
          53,
          634
         ]
        },
        {
         "hoverinfo": "text",
         "hovertext": [
          "<b>Topic 4</b><br>Words: best, good, well, everrrrrrrrrrrrrrrrrrrrrrrrrrrrrrrrrrrrrrrrrrrrrrrrrrrrrrrrrrrrrrrrrrrrrrrrrrrrrrrrrrrrrrrrrrrrrrrrrrrrrrr, ah",
          "<b>Topic 4</b><br>Words: good, best, everrrrrrrrrrrrrrrrrrrrrrrrrrrrrrrrrrrrrrrrrrrrrrrrrrrrrrrrrrrrrrrrrrrrrrrrrrrrrrrrrrrrrrrrrrrrrrrrrrrrrrr, ah, wtf",
          "<b>Topic 4</b><br>Words: everrrrrrrrrrrrrrrrrrrrrrrrrrrrrrrrrrrrrrrrrrrrrrrrrrrrrrrrrrrrrrrrrrrrrrrrrrrrrrrrrrrrrrrrrrrrrrrrrrrrrrr, best, good, ah, wtf",
          "<b>Topic 4</b><br>Words: best, don, good, ah, everrrrrrrrrrrrrrrrrrrrrrrrrrrrrrrrrrrrrrrrrrrrrrrrrrrrrrrrrrrrrrrrrrrrrrrrrrrrrrrrrrrrrrrrrrrrrrrrrrrrrrr"
         ],
         "marker": {
          "color": "#D55E00"
         },
         "mode": "lines",
         "name": "4_best_everrrrrrrrrrrrrrrrrrrrrrrrrrrrrr...",
         "type": "scatter",
         "x": [
          "2014-03-10T14:44:09.600000",
          "2014-07-04T19:12:00",
          "2014-09-20T00:00:00",
          "2015-03-12T16:48:00"
         ],
         "y": [
          18,
          1,
          6,
          531
         ]
        },
        {
         "hoverinfo": "text",
         "hovertext": [
          "<b>Topic 5</b><br>Words: yes, nope, yesn, yessir, thank",
          "<b>Topic 5</b><br>Words: yes, yesn, nope, yessir, thank",
          "<b>Topic 5</b><br>Words: yes, yesn, nope, yessir, thank",
          "<b>Topic 5</b><br>Words: yes, nope, yesn, yessir, thank",
          "<b>Topic 5</b><br>Words: yes, yesn, yessir, thank, nope"
         ],
         "marker": {
          "color": "#0072B2"
         },
         "mode": "lines",
         "name": "5_yes_yesn_nope_yessir",
         "type": "scatter",
         "x": [
          "2014-03-10T14:44:09.600000",
          "2014-07-04T19:12:00",
          "2014-08-12T09:36:00",
          "2014-09-20T00:00:00",
          "2015-03-12T16:48:00"
         ],
         "y": [
          22,
          1,
          2,
          10,
          383
         ]
        },
        {
         "hoverinfo": "text",
         "hovertext": [
          "<b>Topic 6</b><br>Words: keyboard, mouse, controller, control, key",
          "<b>Topic 6</b><br>Words: have, literaly, cursor, keyboard, satan",
          "<b>Topic 6</b><br>Words: keyboard, mouse, craaaazy, brutaaaal, huuuuuge",
          "<b>Topic 6</b><br>Words: mouse, keyboard, autohotkey, don, controller",
          "<b>Topic 6</b><br>Words: keyboard, mouse, don, controller, control"
         ],
         "marker": {
          "color": "#CC79A7"
         },
         "mode": "lines",
         "name": "6_keyboard_mouse_controller_control",
         "type": "scatter",
         "x": [
          "2014-03-10T14:44:09.600000",
          "2014-07-04T19:12:00",
          "2014-08-12T09:36:00",
          "2014-09-20T00:00:00",
          "2015-03-12T16:48:00"
         ],
         "y": [
          111,
          5,
          6,
          15,
          216
         ]
        },
        {
         "hoverinfo": "text",
         "hovertext": [
          "<b>Topic 7</b><br>Words: que, de, es, jogo, primeiro",
          "<b>Topic 7</b><br>Words: es, desconhecido, misterioso, mira, ajustar",
          "<b>Topic 7</b><br>Words: de, que, jogo, le, et",
          "<b>Topic 7</b><br>Words: de, que, jogo, el, um"
         ],
         "marker": {
          "color": "#E69F00"
         },
         "mode": "lines",
         "name": "7_de_que_jogo_el",
         "type": "scatter",
         "x": [
          "2014-03-10T14:44:09.600000",
          "2014-08-12T09:36:00",
          "2014-09-20T00:00:00",
          "2015-03-12T16:48:00"
         ],
         "y": [
          14,
          3,
          8,
          323
         ]
        },
        {
         "hoverinfo": "text",
         "hovertext": [
          "<b>Topic 8</b><br>Words: great, greattttt, greatttttt, wwwww, outta",
          "<b>Topic 8</b><br>Words: great, greattttt, greatttttt, wwwww, outta",
          "<b>Topic 8</b><br>Words: great, greattttt, greatttttt, wwwww, outta",
          "<b>Topic 8</b><br>Words: great, greattttt, greatttttt, wwwww, outta",
          "<b>Topic 8</b><br>Words: great, greattttt, greatttttt, wwwww, outta"
         ],
         "marker": {
          "color": "#56B4E9"
         },
         "mode": "lines",
         "name": "8_great_wwwww_greatttttt_greattttt",
         "type": "scatter",
         "x": [
          "2014-03-10T14:44:09.600000",
          "2014-07-04T19:12:00",
          "2014-08-12T09:36:00",
          "2014-09-20T00:00:00",
          "2015-03-12T16:48:00"
         ],
         "y": [
          29,
          4,
          3,
          13,
          247
         ]
        },
        {
         "hoverinfo": "text",
         "hovertext": [
          "<b>Topic 9</b><br>Words: die, nutshell, rip, hey, guy",
          "<b>Topic 9</b><br>Words: die, finna, tire, slug, nutshell",
          "<b>Topic 9</b><br>Words: die, fuck, finna, tire, slug",
          "<b>Topic 9</b><br>Words: die, slug, eat, massive, fuck",
          "<b>Topic 9</b><br>Words: die, finna, tired, don, ls"
         ],
         "marker": {
          "color": "#009E73"
         },
         "mode": "lines",
         "name": "9_die_finna_tire_slug",
         "type": "scatter",
         "x": [
          "2014-03-10T14:44:09.600000",
          "2014-07-04T19:12:00",
          "2014-08-12T09:36:00",
          "2014-09-20T00:00:00",
          "2015-03-12T16:48:00"
         ],
         "y": [
          55,
          5,
          8,
          23,
          198
         ]
        },
        {
         "hoverinfo": "text",
         "hovertext": [
          "<b>Topic 10</b><br>Words: git, gud, don, dye, electric",
          "<b>Topic 10</b><br>Words: git, gud, seperate, casual, electric",
          "<b>Topic 10</b><br>Words: git, gud, jihad, electric, boogaloo",
          "<b>Topic 10</b><br>Words: git, gud, electric, boogaloo, hreatest"
         ],
         "marker": {
          "color": "#F0E442"
         },
         "mode": "lines",
         "name": "10_git_gud_electric_boogaloo",
         "type": "scatter",
         "x": [
          "2014-03-10T14:44:09.600000",
          "2014-07-04T19:12:00",
          "2014-09-20T00:00:00",
          "2015-03-12T16:48:00"
         ],
         "y": [
          18,
          4,
          6,
          239
         ]
        },
        {
         "hoverinfo": "text",
         "hovertext": [
          "<b>Topic 11</b><br>Words: sun, praise, blah, hourra, gtfo",
          "<b>Topic 11</b><br>Words: sun, praise, adherent, sunlight, bust",
          "<b>Topic 11</b><br>Words: sun, praise, weild, fist, dual",
          "<b>Topic 11</b><br>Words: sun, praise, praising, edit, blah",
          "<b>Topic 11</b><br>Words: sun, praise, huraah, hoorah, biatch"
         ],
         "marker": {
          "color": "#D55E00"
         },
         "mode": "lines",
         "name": "11_sun_praise_blah_hourra",
         "type": "scatter",
         "x": [
          "2014-03-10T14:44:09.600000",
          "2014-07-04T19:12:00",
          "2014-08-12T09:36:00",
          "2014-09-20T00:00:00",
          "2015-03-12T16:48:00"
         ],
         "y": [
          77,
          8,
          6,
          18,
          157
         ]
        },
        {
         "hoverinfo": "text",
         "hovertext": [
          "<b>Topic 12</b><br>Words: darksouls, darksoul, beta, verdigris, darke",
          "<b>Topic 12</b><br>Words: darksoulsii, darksoul, exe, letdown, darksouls",
          "<b>Topic 12</b><br>Words: sorta, darksouls, unbalanced, hey, setting",
          "<b>Topic 12</b><br>Words: darkfog, hgue, darksouls, dosent, darksoul",
          "<b>Topic 12</b><br>Words: darksouls, darksoul, john, don, darklurker"
         ],
         "marker": {
          "color": "#0072B2"
         },
         "mode": "lines",
         "name": "12_darksouls_darksoul_john_dark",
         "type": "scatter",
         "x": [
          "2014-03-10T14:44:09.600000",
          "2014-07-04T19:12:00",
          "2014-08-12T09:36:00",
          "2014-09-20T00:00:00",
          "2015-03-12T16:48:00"
         ],
         "y": [
          31,
          3,
          1,
          6,
          216
         ]
        },
        {
         "hoverinfo": "text",
         "hovertext": [
          "<b>Topic 13</b><br>Words: pc, ps, gpu, xbox, console",
          "<b>Topic 13</b><br>Words: orginally, will, seamless, rig, specially",
          "<b>Topic 13</b><br>Words: ps, sho, fo, pc, ass",
          "<b>Topic 13</b><br>Words: pc, commuinity, isd, alaready, differnt",
          "<b>Topic 13</b><br>Words: pc, ps, don, xbox, laptop"
         ],
         "marker": {
          "color": "#CC79A7"
         },
         "mode": "lines",
         "name": "13_pc_xbox_laptop_console",
         "type": "scatter",
         "x": [
          "2014-03-10T14:44:09.600000",
          "2014-07-04T19:12:00",
          "2014-08-12T09:36:00",
          "2014-09-20T00:00:00",
          "2015-03-12T16:48:00"
         ],
         "y": [
          61,
          3,
          5,
          9,
          177
         ]
        },
        {
         "hoverinfo": "text",
         "hovertext": [
          "<b>Topic 14</b><br>Words: fun, crazy, know, people, cassual",
          "<b>Topic 14</b><br>Words: fun, cassual, ha, spambush, scuffed",
          "<b>Topic 14</b><br>Words: fun, cassual, ha, spambush, scuffed",
          "<b>Topic 14</b><br>Words: gritty, fun, cassual, ha, spambush",
          "<b>Topic 14</b><br>Words: fun, cassual, ha, spambush, scuffed"
         ],
         "marker": {
          "color": "#E69F00"
         },
         "mode": "lines",
         "name": "14_fun_cassual_ha_spambush",
         "type": "scatter",
         "x": [
          "2014-03-10T14:44:09.600000",
          "2014-07-04T19:12:00",
          "2014-08-12T09:36:00",
          "2014-09-20T00:00:00",
          "2015-03-12T16:48:00"
         ],
         "y": [
          10,
          1,
          1,
          3,
          220
         ]
        },
        {
         "hoverinfo": "text",
         "hovertext": [
          "<b>Topic 15</b><br>Words: nice, niceeeeeeeeeee, yi, yes, yeah",
          "<b>Topic 15</b><br>Words: nice, niceeeeeeeeeee, yi, yes, yeah",
          "<b>Topic 15</b><br>Words: nice, yeah, yes, niceeeeeeeeeee, yi",
          "<b>Topic 15</b><br>Words: nice, niceeeeeeeeeee, yi, yes, yeah"
         ],
         "marker": {
          "color": "#56B4E9"
         },
         "mode": "lines",
         "name": "15_nice_niceeeeeeeeeee_yi_yes",
         "type": "scatter",
         "x": [
          "2014-03-10T14:44:09.600000",
          "2014-08-12T09:36:00",
          "2014-09-20T00:00:00",
          "2015-03-12T16:48:00"
         ],
         "y": [
          6,
          1,
          4,
          221
         ]
        },
        {
         "hoverinfo": "text",
         "hovertext": [
          "<b>Topic 16</b><br>Words: rpg, rpgs, action, fantasy, extremly",
          "<b>Topic 16</b><br>Words: rpg, amalur, reckoning, action, deffinetly",
          "<b>Topic 16</b><br>Words: rpg, action, enigmatic, fantasy, rly",
          "<b>Topic 16</b><br>Words: rpg, action, rpgs, fullfillment, contemplation",
          "<b>Topic 16</b><br>Words: rpg, action, rpgs, fantasy, don"
         ],
         "marker": {
          "color": "#009E73"
         },
         "mode": "lines",
         "name": "16_rpg_action_rpgs_fantasy",
         "type": "scatter",
         "x": [
          "2014-03-10T14:44:09.600000",
          "2014-07-04T19:12:00",
          "2014-08-12T09:36:00",
          "2014-09-20T00:00:00",
          "2015-03-12T16:48:00"
         ],
         "y": [
          52,
          10,
          8,
          23,
          120
         ]
        },
        {
         "hoverinfo": "text",
         "hovertext": [
          "<b>Topic 17</b><br>Words: challenge, challenging, centry, harcore, don",
          "<b>Topic 17</b><br>Words: definently, funn, challenging, challenge, object",
          "<b>Topic 17</b><br>Words: challenge, challenging, real, definitely, original",
          "<b>Topic 17</b><br>Words: challenge, challenging, don, birthday, funny",
          "<b>Topic 17</b><br>Words: challenge, challenging, fun, don, aaaaaaaaaaaaaaaaaaaaaaaaaaaaaaaaaaaaaaaaaaaaaaaaaaaaaaaaaaaaaahhhhhhhhhhhhhhhhhhhhhhhhhhhhhhhhhhhhhhhhhhhhhh"
         ],
         "marker": {
          "color": "#F0E442"
         },
         "mode": "lines",
         "name": "17_challenge_challenging_fun_aaaaaaaaaaa...",
         "type": "scatter",
         "x": [
          "2014-03-10T14:44:09.600000",
          "2014-07-04T19:12:00",
          "2014-08-12T09:36:00",
          "2014-09-20T00:00:00",
          "2015-03-12T16:48:00"
         ],
         "y": [
          40,
          6,
          4,
          23,
          139
         ]
        },
        {
         "hoverinfo": "text",
         "hovertext": [
          "<b>Topic 18</b><br>Words: bestes, ever, good, category, best",
          "<b>Topic 18</b><br>Words: good, ever, best, sombre, peev",
          "<b>Topic 18</b><br>Words: everrrrrrrrrr, aloud, ever, fuckin, pussy",
          "<b>Topic 18</b><br>Words: ever, canser, horry, shet, pong",
          "<b>Topic 18</b><br>Words: ever, best, sombre, good, eeeeeeeeeeeevvvvvvvvvvveeeeeeeeerrrrrrr"
         ],
         "marker": {
          "color": "#D55E00"
         },
         "mode": "lines",
         "name": "18_ever_best_sombre_shet",
         "type": "scatter",
         "x": [
          "2014-03-10T14:44:09.600000",
          "2014-07-04T19:12:00",
          "2014-08-12T09:36:00",
          "2014-09-20T00:00:00",
          "2015-03-12T16:48:00"
         ],
         "y": [
          49,
          3,
          9,
          20,
          129
         ]
        },
        {
         "hoverinfo": "text",
         "hovertext": [
          "<b>Topic 19</b><br>Words: controller, don, xbox, break, vibrate",
          "<b>Topic 19</b><br>Words: don, controller, eng, aggravate, pls",
          "<b>Topic 19</b><br>Words: moniter, controller, hype, broken, worthy",
          "<b>Topic 19</b><br>Words: controller, rager, nuff, inferiority, inst",
          "<b>Topic 19</b><br>Words: controller, break, window, xbox, smash"
         ],
         "marker": {
          "color": "#0072B2"
         },
         "mode": "lines",
         "name": "19_controller_xbox_break_window",
         "type": "scatter",
         "x": [
          "2014-03-10T14:44:09.600000",
          "2014-07-04T19:12:00",
          "2014-08-12T09:36:00",
          "2014-09-20T00:00:00",
          "2015-03-12T16:48:00"
         ],
         "y": [
          64,
          4,
          3,
          16,
          119
         ]
        },
        {
         "hoverinfo": "text",
         "hovertext": [
          "<b>Topic 20</b><br>Words: don, buy, sale, qmi, deux",
          "<b>Topic 20</b><br>Words: frigin, yolo, blaze, awesomeness, buy",
          "<b>Topic 20</b><br>Words: guyz, sweet, twice, buy, sale",
          "<b>Topic 20</b><br>Words: ike, buy, fcuk, sale, solitude",
          "<b>Topic 20</b><br>Words: buy, sale, don, twice, bought"
         ],
         "marker": {
          "color": "#CC79A7"
         },
         "mode": "lines",
         "name": "20_buy_sale_bought_twice",
         "type": "scatter",
         "x": [
          "2014-03-10T14:44:09.600000",
          "2014-07-04T19:12:00",
          "2014-08-12T09:36:00",
          "2014-09-20T00:00:00",
          "2015-03-12T16:48:00"
         ],
         "y": [
          43,
          3,
          2,
          12,
          139
         ]
        },
        {
         "hoverinfo": "text",
         "hovertext": [
          "<b>Topic 21</b><br>Words: sun, praise, don, solaire, praising",
          "<b>Topic 21</b><br>Words: priase, sun, praise, revamp, noob",
          "<b>Topic 21</b><br>Words: don, sun, priase, praise, bother",
          "<b>Topic 21</b><br>Words: sun, praise, consist, dontu, don",
          "<b>Topic 21</b><br>Words: sun, praise, don, sunbro, rekt"
         ],
         "marker": {
          "color": "#E69F00"
         },
         "mode": "lines",
         "name": "21_sun_praise_priase_therefore",
         "type": "scatter",
         "x": [
          "2014-03-10T14:44:09.600000",
          "2014-07-04T19:12:00",
          "2014-08-12T09:36:00",
          "2014-09-20T00:00:00",
          "2015-03-12T16:48:00"
         ],
         "y": [
          69,
          6,
          4,
          17,
          90
         ]
        },
        {
         "hoverinfo": "text",
         "hovertext": [
          "<b>Topic 22</b><br>Words: videojame, das, gamplay, hitboxes, detection",
          "<b>Topic 22</b><br>Words: hitboxes, hitbox, box, hit, shitty",
          "<b>Topic 22</b><br>Words: biscuit, wierd, tea, hitbox, box",
          "<b>Topic 22</b><br>Words: hitbox, box, hitboxes, hit, don"
         ],
         "marker": {
          "color": "#56B4E9"
         },
         "mode": "lines",
         "name": "22_hitboxes_hitbox_box_hit",
         "type": "scatter",
         "x": [
          "2014-03-10T14:44:09.600000",
          "2014-07-04T19:12:00",
          "2014-09-20T00:00:00",
          "2015-03-12T16:48:00"
         ],
         "y": [
          7,
          1,
          2,
          176
         ]
        },
        {
         "hoverinfo": "text",
         "hovertext": [
          "<b>Topic 23</b><br>Words: soulsborne, soulsbourne, don, soulslike, soulsgame"
         ],
         "marker": {
          "color": "#009E73"
         },
         "mode": "lines",
         "name": "23_soulsborne_soulsbourne_soulsgame_soul...",
         "type": "scatter",
         "x": [
          "2015-03-12T16:48:00"
         ],
         "y": [
          173
         ]
        },
        {
         "hoverinfo": "text",
         "hovertext": [
          "<b>Topic 24</b><br>Words: ok, oka, wowcool, ya, ",
          "<b>Topic 24</b><br>Words: ok, oka, wowcool, ya, ",
          "<b>Topic 24</b><br>Words: ok, oka, wowcool, ya, ",
          "<b>Topic 24</b><br>Words: ok, oka, wowcool, ya, ",
          "<b>Topic 24</b><br>Words: ok, oka, wowcool, ya, "
         ],
         "marker": {
          "color": "#F0E442"
         },
         "mode": "lines",
         "name": "24_ok_wowcool_oka_ya",
         "type": "scatter",
         "x": [
          "2014-03-10T14:44:09.600000",
          "2014-07-04T19:12:00",
          "2014-08-12T09:36:00",
          "2014-09-20T00:00:00",
          "2015-03-12T16:48:00"
         ],
         "y": [
          14,
          4,
          1,
          11,
          137
         ]
        },
        {
         "hoverinfo": "text",
         "hovertext": [
          "<b>Topic 25</b><br>Words: love, grrrrr, fkin, frist, men",
          "<b>Topic 25</b><br>Words: love, grrrrr, fkin, frist, men",
          "<b>Topic 25</b><br>Words: love, grrrrr, fkin, frist, men",
          "<b>Topic 25</b><br>Words: love, grrrrr, fkin, frist, men",
          "<b>Topic 25</b><br>Words: love, grrrrr, fkin, frist, man"
         ],
         "marker": {
          "color": "#D55E00"
         },
         "mode": "lines",
         "name": "25_love_grrrrr_fkin_frist",
         "type": "scatter",
         "x": [
          "2014-03-10T14:44:09.600000",
          "2014-07-04T19:12:00",
          "2014-08-12T09:36:00",
          "2014-09-20T00:00:00",
          "2015-03-12T16:48:00"
         ],
         "y": [
          14,
          3,
          2,
          11,
          128
         ]
        },
        {
         "hoverinfo": "text",
         "hovertext": [
          "<b>Topic 26</b><br>Words: hate, ing, homies, dennis, thanks",
          "<b>Topic 26</b><br>Words: hate, ing, homies, dennis, thanks",
          "<b>Topic 26</b><br>Words: hate, ing, homies, dennis, thanks",
          "<b>Topic 26</b><br>Words: hate, ing, homies, dennis, thanks",
          "<b>Topic 26</b><br>Words: hate, ing, dennis, undeserved, don"
         ],
         "marker": {
          "color": "#0072B2"
         },
         "mode": "lines",
         "name": "26_hate_ing_homies_dennis",
         "type": "scatter",
         "x": [
          "2014-03-10T14:44:09.600000",
          "2014-07-04T19:12:00",
          "2014-08-12T09:36:00",
          "2014-09-20T00:00:00",
          "2015-03-12T16:48:00"
         ],
         "y": [
          7,
          1,
          2,
          1,
          146
         ]
        },
        {
         "hoverinfo": "text",
         "hovertext": [
          "<b>Topic 27</b><br>Words: smell, die, would, rustle, jimmy",
          "<b>Topic 27</b><br>Words: flask, cry, die, would, smell",
          "<b>Topic 27</b><br>Words: die, would, smell, rape, somebody",
          "<b>Topic 27</b><br>Words: rape, bladder, die, burst, would",
          "<b>Topic 27</b><br>Words: die, would, somebody, saltiness, tenouttaten"
         ],
         "marker": {
          "color": "#CC79A7"
         },
         "mode": "lines",
         "name": "27_would_die_smell_rape",
         "type": "scatter",
         "x": [
          "2014-03-10T14:44:09.600000",
          "2014-07-04T19:12:00",
          "2014-08-12T09:36:00",
          "2014-09-20T00:00:00",
          "2015-03-12T16:48:00"
         ],
         "y": [
          43,
          4,
          4,
          23,
          82
         ]
        },
        {
         "hoverinfo": "text",
         "hovertext": [
          "<b>Topic 28</b><br>Words: beceuse, sooding, have, boss, verry",
          "<b>Topic 28</b><br>Words: wrench, dificult, seat, gut, shadow",
          "<b>Topic 28</b><br>Words: monstrous, possibility, alot, varied, true",
          "<b>Topic 28</b><br>Words: boss, don, def, cheese, bossss"
         ],
         "marker": {
          "color": "#E69F00"
         },
         "mode": "lines",
         "name": "28_boss_def_cheese_bossss",
         "type": "scatter",
         "x": [
          "2014-03-10T14:44:09.600000",
          "2014-08-12T09:36:00",
          "2014-09-20T00:00:00",
          "2015-03-12T16:48:00"
         ],
         "y": [
          11,
          3,
          2,
          138
         ]
        },
        {
         "hoverinfo": "text",
         "hovertext": [
          "<b>Topic 29</b><br>Words: peak, pew, tuah, frfr, absolute"
         ],
         "marker": {
          "color": "#56B4E9"
         },
         "mode": "lines",
         "name": "29_peak_pew_tuah_peaksouls",
         "type": "scatter",
         "x": [
          "2015-03-12T16:48:00"
         ],
         "y": [
          154
         ]
        },
        {
         "hoverinfo": "text",
         "hovertext": [
          "<b>Topic 30</b><br>Words: gud, breddy, gude, gueass, lief",
          "<b>Topic 30</b><br>Words: gued, gud, super, gude, lief",
          "<b>Topic 30</b><br>Words: ittttttttt, gud, gude, gueass, lief",
          "<b>Topic 30</b><br>Words: gud, es, gude, gueass, lief",
          "<b>Topic 30</b><br>Words: gud, gude, guwd, itsok, dbd"
         ],
         "marker": {
          "color": "#009E73"
         },
         "mode": "lines",
         "name": "30_gud_gude_gued_lief",
         "type": "scatter",
         "x": [
          "2014-03-10T14:44:09.600000",
          "2014-07-04T19:12:00",
          "2014-08-12T09:36:00",
          "2014-09-20T00:00:00",
          "2015-03-12T16:48:00"
         ],
         "y": [
          4,
          2,
          1,
          4,
          136
         ]
        },
        {
         "hoverinfo": "text",
         "hovertext": [
          "<b>Topic 31</b><br>Words: bloodborne, inside, blood, atm, wait",
          "<b>Topic 31</b><br>Words: bloodborne, bring, pc, blood, bloodborn",
          "<b>Topic 31</b><br>Words: heee, bloodborne, ss, greatgame, booger",
          "<b>Topic 31</b><br>Words: bloodborne, don, pc, blood, bloodborn"
         ],
         "marker": {
          "color": "#F0E442"
         },
         "mode": "lines",
         "name": "31_bloodborne_blood_pc_bloodborn",
         "type": "scatter",
         "x": [
          "2014-03-10T14:44:09.600000",
          "2014-07-04T19:12:00",
          "2014-09-20T00:00:00",
          "2015-03-12T16:48:00"
         ],
         "y": [
          4,
          1,
          5,
          132
         ]
        },
        {
         "hoverinfo": "text",
         "hovertext": [
          "<b>Topic 32</b><br>Words: hate, bloody, existence, lol, deserve",
          "<b>Topic 32</b><br>Words: teach, hate, people, deserve, doesnt",
          "<b>Topic 32</b><br>Words: essentially, disappoint, comparison, hate, bring",
          "<b>Topic 32</b><br>Words: deserve, hate, don, savage, understand"
         ],
         "marker": {
          "color": "#D55E00"
         },
         "mode": "lines",
         "name": "32_deserve_hate_doesnt_hating",
         "type": "scatter",
         "x": [
          "2014-03-10T14:44:09.600000",
          "2014-07-04T19:12:00",
          "2014-09-20T00:00:00",
          "2015-03-12T16:48:00"
         ],
         "y": [
          8,
          1,
          2,
          127
         ]
        },
        {
         "hoverinfo": "text",
         "hovertext": [
          "<b>Topic 33</b><br>Words: awesome, usual, good, , ",
          "<b>Topic 33</b><br>Words: awesome, usual, good, , ",
          "<b>Topic 33</b><br>Words: awesome, usual, good, , ",
          "<b>Topic 33</b><br>Words: awesome, usual, good, , ",
          "<b>Topic 33</b><br>Words: awesome, usual, good, , "
         ],
         "marker": {
          "color": "#0072B2"
         },
         "mode": "lines",
         "name": "33_awesome_usual_good_",
         "type": "scatter",
         "x": [
          "2014-03-10T14:44:09.600000",
          "2014-07-04T19:12:00",
          "2014-08-12T09:36:00",
          "2014-09-20T00:00:00",
          "2015-03-12T16:48:00"
         ],
         "y": [
          30,
          3,
          3,
          9,
          90
         ]
        },
        {
         "hoverinfo": "text",
         "hovertext": [
          "<b>Topic 34</b><br>Words: dissapointment, exact, like, confirmed, wowy",
          "<b>Topic 34</b><br>Words: public, leg, like, shit, confirmed",
          "<b>Topic 34</b><br>Words: wow, like, confirmed, millon, wowy",
          "<b>Topic 34</b><br>Words: like, wowy, millon, juuuuust, cuphead"
         ],
         "marker": {
          "color": "#CC79A7"
         },
         "mode": "lines",
         "name": "34_like_wowy_millon_confirmed",
         "type": "scatter",
         "x": [
          "2014-03-10T14:44:09.600000",
          "2014-07-04T19:12:00",
          "2014-09-20T00:00:00",
          "2015-03-12T16:48:00"
         ],
         "y": [
          12,
          1,
          4,
          118
         ]
        },
        {
         "hoverinfo": "text",
         "hovertext": [
          "<b>Topic 35</b><br>Words: janky, jank, don, helpless, jankier"
         ],
         "marker": {
          "color": "#E69F00"
         },
         "mode": "lines",
         "name": "35_janky_jank_helpless_jankier",
         "type": "scatter",
         "x": [
          "2015-03-12T16:48:00"
         ],
         "y": [
          131
         ]
        },
        {
         "hoverinfo": "text",
         "hovertext": [
          "<b>Topic 36</b><br>Words: rage, induce, anger, quit, angry",
          "<b>Topic 36</b><br>Words: rage, tourette, uncountable, quit, esteem",
          "<b>Topic 36</b><br>Words: conditon, squid, rage, uncontrollable, loathe",
          "<b>Topic 36</b><br>Words: rage, quit, angermanagement, peed, backstabber",
          "<b>Topic 36</b><br>Words: rage, anger, quit, ragequit, induce"
         ],
         "marker": {
          "color": "#56B4E9"
         },
         "mode": "lines",
         "name": "36_rage_anger_quit_ragequit",
         "type": "scatter",
         "x": [
          "2014-03-10T14:44:09.600000",
          "2014-07-04T19:12:00",
          "2014-08-12T09:36:00",
          "2014-09-20T00:00:00",
          "2015-03-12T16:48:00"
         ],
         "y": [
          33,
          5,
          2,
          11,
          79
         ]
        },
        {
         "hoverinfo": "text",
         "hovertext": [
          "<b>Topic 37</b><br>Words: replay, value, replayability, hadnle, replayablity",
          "<b>Topic 37</b><br>Words: haven, replayability, class, remember, replay",
          "<b>Topic 37</b><br>Words: replay, replayability, value, potentcial, unlimited",
          "<b>Topic 37</b><br>Words: replay, value, replayability, replayable, don"
         ],
         "marker": {
          "color": "#009E73"
         },
         "mode": "lines",
         "name": "37_replay_value_replayability_replayable",
         "type": "scatter",
         "x": [
          "2014-03-10T14:44:09.600000",
          "2014-07-04T19:12:00",
          "2014-09-20T00:00:00",
          "2015-03-12T16:48:00"
         ],
         "y": [
          18,
          2,
          10,
          98
         ]
        },
        {
         "hoverinfo": "text",
         "hovertext": [
          "<b>Topic 38</b><br>Words: miyazaki, don, labrynth, solaire, hidetaka",
          "<b>Topic 38</b><br>Words: burger, grease, casualize, clean, greasy",
          "<b>Topic 38</b><br>Words: miyazaki, don, direct, hidetaka, development"
         ],
         "marker": {
          "color": "#F0E442"
         },
         "mode": "lines",
         "name": "38_miyazaki_hidetaka_direct_development",
         "type": "scatter",
         "x": [
          "2014-03-10T14:44:09.600000",
          "2014-09-20T00:00:00",
          "2015-03-12T16:48:00"
         ],
         "y": [
          7,
          2,
          113
         ]
        },
        {
         "hoverinfo": "text",
         "hovertext": [
          "<b>Topic 39</b><br>Words: flaw, petition, loveable, removal, ptde",
          "<b>Topic 39</b><br>Words: flaw, flawed, don, despite, charming"
         ],
         "marker": {
          "color": "#D55E00"
         },
         "mode": "lines",
         "name": "39_flaw_despite_masterpiece_astonishing",
         "type": "scatter",
         "x": [
          "2014-03-10T14:44:09.600000",
          "2015-03-12T16:48:00"
         ],
         "y": [
          3,
          119
         ]
        },
        {
         "hoverinfo": "text",
         "hovertext": [
          "<b>Topic 40</b><br>Words: don, review, uncasual, rate, fin",
          "<b>Topic 40</b><br>Words: classy, review, dio, consult, reviewer",
          "<b>Topic 40</b><br>Words: review, don, write, negative, rate"
         ],
         "marker": {
          "color": "#0072B2"
         },
         "mode": "lines",
         "name": "40_review_write_negative_dio",
         "type": "scatter",
         "x": [
          "2014-03-10T14:44:09.600000",
          "2014-09-20T00:00:00",
          "2015-03-12T16:48:00"
         ],
         "y": [
          11,
          5,
          105
         ]
        },
        {
         "hoverinfo": "text",
         "hovertext": [
          "<b>Topic 41</b><br>Words: ez, zz, ezgame, nahw, ezlife",
          "<b>Topic 41</b><br>Words: ez, ezpz, life, gg, pz",
          "<b>Topic 41</b><br>Words: ez, pz, ftw, hidden, gg",
          "<b>Topic 41</b><br>Words: ez, sik, don, coz, gg",
          "<b>Topic 41</b><br>Words: ez, gg, pz, ztg, edgy"
         ],
         "marker": {
          "color": "#CC79A7"
         },
         "mode": "lines",
         "name": "41_ez_gg_pz_ztg",
         "type": "scatter",
         "x": [
          "2014-03-10T14:44:09.600000",
          "2014-07-04T19:12:00",
          "2014-08-12T09:36:00",
          "2014-09-20T00:00:00",
          "2015-03-12T16:48:00"
         ],
         "y": [
          15,
          4,
          3,
          6,
          92
         ]
        },
        {
         "hoverinfo": "text",
         "hovertext": [
          "<b>Topic 42</b><br>Words: sequel, don, refined, worthy, improve",
          "<b>Topic 42</b><br>Words: astonishin, tightness, unite, slack, quit",
          "<b>Topic 42</b><br>Words: sequel, tourism, witcher, don, unresolved",
          "<b>Topic 42</b><br>Words: don, sequel, have, harmless, translate",
          "<b>Topic 42</b><br>Words: sequel, don, unafraid, ii, production"
         ],
         "marker": {
          "color": "#E69F00"
         },
         "mode": "lines",
         "name": "42_sequel_ii_production_predecessor",
         "type": "scatter",
         "x": [
          "2014-03-10T14:44:09.600000",
          "2014-07-04T19:12:00",
          "2014-08-12T09:36:00",
          "2014-09-20T00:00:00",
          "2015-03-12T16:48:00"
         ],
         "y": [
          39,
          2,
          7,
          13,
          59
         ]
        },
        {
         "hoverinfo": "text",
         "hovertext": [
          "<b>Topic 43</b><br>Words: sword, groundhog, scabbard, katana, sheath",
          "<b>Topic 43</b><br>Words: zweihandered, squad, bridge, swing, gank",
          "<b>Topic 43</b><br>Words: sized, sword, duel, win, sort",
          "<b>Topic 43</b><br>Words: mammoth, bumhole, weeaboo, sword, rock",
          "<b>Topic 43</b><br>Words: sword, katana, smash, swing, big"
         ],
         "marker": {
          "color": "#56B4E9"
         },
         "mode": "lines",
         "name": "43_sword_katana_swing_smash",
         "type": "scatter",
         "x": [
          "2014-03-10T14:44:09.600000",
          "2014-07-04T19:12:00",
          "2014-08-12T09:36:00",
          "2014-09-20T00:00:00",
          "2015-03-12T16:48:00"
         ],
         "y": [
          18,
          1,
          2,
          5,
          94
         ]
        },
        {
         "hoverinfo": "text",
         "hovertext": [
          "<b>Topic 44</b><br>Words: triedto, junkie, torrent, belly, stronk",
          "<b>Topic 44</b><br>Words: drakeeper, greathammer, needle, butterfly, naked",
          "<b>Topic 44</b><br>Words: retry, arena, actual, fall, boss",
          "<b>Topic 44</b><br>Words: haven, grand, angry, month, kick",
          "<b>Topic 44</b><br>Words: runback, bos, thang, boss, gravity"
         ],
         "marker": {
          "color": "#009E73"
         },
         "mode": "lines",
         "name": "44_bos_runbacks_gravity_thang",
         "type": "scatter",
         "x": [
          "2014-03-10T14:44:09.600000",
          "2014-07-04T19:12:00",
          "2014-08-12T09:36:00",
          "2014-09-20T00:00:00",
          "2015-03-12T16:48:00"
         ],
         "y": [
          15,
          3,
          2,
          6,
          92
         ]
        },
        {
         "hoverinfo": "text",
         "hovertext": [
          "<b>Topic 45</b><br>Words: bad, half, wasnt, slightly, meh",
          "<b>Topic 45</b><br>Words: bad, half, wasnt, slightly, meh",
          "<b>Topic 45</b><br>Words: bad, half, slightly, meh, wasnt"
         ],
         "marker": {
          "color": "#F0E442"
         },
         "mode": "lines",
         "name": "45_bad_half_wasnt_slightly",
         "type": "scatter",
         "x": [
          "2014-03-10T14:44:09.600000",
          "2014-09-20T00:00:00",
          "2015-03-12T16:48:00"
         ],
         "y": [
          2,
          1,
          113
         ]
        },
        {
         "hoverinfo": "text",
         "hovertext": [
          "<b>Topic 46</b><br>Words: amana, shrine, eyelid, scalpel, hq",
          "<b>Topic 46</b><br>Words: amana, shrine, fuck, nashandra, armana"
         ],
         "marker": {
          "color": "#D55E00"
         },
         "mode": "lines",
         "name": "46_amana_shrine_fuck_nashandra",
         "type": "scatter",
         "x": [
          "2014-09-20T00:00:00",
          "2015-03-12T16:48:00"
         ],
         "y": [
          3,
          112
         ]
        },
        {
         "hoverinfo": "text",
         "hovertext": [
          "<b>Topic 47</b><br>Words: amaze, amazing, amazeballz, erhmagawd, billion",
          "<b>Topic 47</b><br>Words: amazing, amaze, fuck, erhmagawd, wao",
          "<b>Topic 47</b><br>Words: amaze, omg, sooooooo, amazing, hell",
          "<b>Topic 47</b><br>Words: amaze, amazing, female, absolutly, dog",
          "<b>Topic 47</b><br>Words: amaze, amazing, wao, amazin, kappa"
         ],
         "marker": {
          "color": "#0072B2"
         },
         "mode": "lines",
         "name": "47_amaze_amazeballz_wao_erhmagawd",
         "type": "scatter",
         "x": [
          "2014-03-10T14:44:09.600000",
          "2014-07-04T19:12:00",
          "2014-08-12T09:36:00",
          "2014-09-20T00:00:00",
          "2015-03-12T16:48:00"
         ],
         "y": [
          25,
          4,
          5,
          8,
          73
         ]
        },
        {
         "hoverinfo": "text",
         "hovertext": [
          "<b>Topic 48</b><br>Words: port, pc, job, don, have",
          "<b>Topic 48</b><br>Words: port, workable, abit, dsfix, instal",
          "<b>Topic 48</b><br>Words: port, crawler, overshadow, technically, necessarily",
          "<b>Topic 48</b><br>Words: port, ppor, wat, pc, unresponsive",
          "<b>Topic 48</b><br>Words: port, pc, honeslty, geppo, coudnt"
         ],
         "marker": {
          "color": "#CC79A7"
         },
         "mode": "lines",
         "name": "48_port_pc_job_console",
         "type": "scatter",
         "x": [
          "2014-03-10T14:44:09.600000",
          "2014-07-04T19:12:00",
          "2014-08-12T09:36:00",
          "2014-09-20T00:00:00",
          "2015-03-12T16:48:00"
         ],
         "y": [
          74,
          3,
          2,
          7,
          27
         ]
        },
        {
         "hoverinfo": "text",
         "hovertext": [
          "<b>Topic 49</b><br>Words: demon, satan, jason, francise, ride",
          "<b>Topic 49</b><br>Words: molly, soil, devil, demon, holy",
          "<b>Topic 49</b><br>Words: eachother, demon, differance, actully, compete",
          "<b>Topic 49</b><br>Words: satan, demon, novel, aaa, aside",
          "<b>Topic 49</b><br>Words: demon, remake, jason, sikero, argonaut"
         ],
         "marker": {
          "color": "#E69F00"
         },
         "mode": "lines",
         "name": "49_demon_satan_eachother_jason",
         "type": "scatter",
         "x": [
          "2014-03-10T14:44:09.600000",
          "2014-07-04T19:12:00",
          "2014-08-12T09:36:00",
          "2014-09-20T00:00:00",
          "2015-03-12T16:48:00"
         ],
         "y": [
          26,
          5,
          6,
          8,
          64
         ]
        }
       ],
       "layout": {
        "height": 450,
        "hoverlabel": {
         "bgcolor": "white",
         "font": {
          "family": "Rockwell",
          "size": 16
         }
        },
        "legend": {
         "title": {
          "text": "<b>Global Topic Representation"
         }
        },
        "template": {
         "data": {
          "bar": [
           {
            "error_x": {
             "color": "rgb(36,36,36)"
            },
            "error_y": {
             "color": "rgb(36,36,36)"
            },
            "marker": {
             "line": {
              "color": "white",
              "width": 0.5
             },
             "pattern": {
              "fillmode": "overlay",
              "size": 10,
              "solidity": 0.2
             }
            },
            "type": "bar"
           }
          ],
          "barpolar": [
           {
            "marker": {
             "line": {
              "color": "white",
              "width": 0.5
             },
             "pattern": {
              "fillmode": "overlay",
              "size": 10,
              "solidity": 0.2
             }
            },
            "type": "barpolar"
           }
          ],
          "carpet": [
           {
            "aaxis": {
             "endlinecolor": "rgb(36,36,36)",
             "gridcolor": "white",
             "linecolor": "white",
             "minorgridcolor": "white",
             "startlinecolor": "rgb(36,36,36)"
            },
            "baxis": {
             "endlinecolor": "rgb(36,36,36)",
             "gridcolor": "white",
             "linecolor": "white",
             "minorgridcolor": "white",
             "startlinecolor": "rgb(36,36,36)"
            },
            "type": "carpet"
           }
          ],
          "choropleth": [
           {
            "colorbar": {
             "outlinewidth": 1,
             "tickcolor": "rgb(36,36,36)",
             "ticks": "outside"
            },
            "type": "choropleth"
           }
          ],
          "contour": [
           {
            "colorbar": {
             "outlinewidth": 1,
             "tickcolor": "rgb(36,36,36)",
             "ticks": "outside"
            },
            "colorscale": [
             [
              0,
              "#440154"
             ],
             [
              0.1111111111111111,
              "#482878"
             ],
             [
              0.2222222222222222,
              "#3e4989"
             ],
             [
              0.3333333333333333,
              "#31688e"
             ],
             [
              0.4444444444444444,
              "#26828e"
             ],
             [
              0.5555555555555556,
              "#1f9e89"
             ],
             [
              0.6666666666666666,
              "#35b779"
             ],
             [
              0.7777777777777778,
              "#6ece58"
             ],
             [
              0.8888888888888888,
              "#b5de2b"
             ],
             [
              1,
              "#fde725"
             ]
            ],
            "type": "contour"
           }
          ],
          "contourcarpet": [
           {
            "colorbar": {
             "outlinewidth": 1,
             "tickcolor": "rgb(36,36,36)",
             "ticks": "outside"
            },
            "type": "contourcarpet"
           }
          ],
          "heatmap": [
           {
            "colorbar": {
             "outlinewidth": 1,
             "tickcolor": "rgb(36,36,36)",
             "ticks": "outside"
            },
            "colorscale": [
             [
              0,
              "#440154"
             ],
             [
              0.1111111111111111,
              "#482878"
             ],
             [
              0.2222222222222222,
              "#3e4989"
             ],
             [
              0.3333333333333333,
              "#31688e"
             ],
             [
              0.4444444444444444,
              "#26828e"
             ],
             [
              0.5555555555555556,
              "#1f9e89"
             ],
             [
              0.6666666666666666,
              "#35b779"
             ],
             [
              0.7777777777777778,
              "#6ece58"
             ],
             [
              0.8888888888888888,
              "#b5de2b"
             ],
             [
              1,
              "#fde725"
             ]
            ],
            "type": "heatmap"
           }
          ],
          "heatmapgl": [
           {
            "colorbar": {
             "outlinewidth": 1,
             "tickcolor": "rgb(36,36,36)",
             "ticks": "outside"
            },
            "colorscale": [
             [
              0,
              "#440154"
             ],
             [
              0.1111111111111111,
              "#482878"
             ],
             [
              0.2222222222222222,
              "#3e4989"
             ],
             [
              0.3333333333333333,
              "#31688e"
             ],
             [
              0.4444444444444444,
              "#26828e"
             ],
             [
              0.5555555555555556,
              "#1f9e89"
             ],
             [
              0.6666666666666666,
              "#35b779"
             ],
             [
              0.7777777777777778,
              "#6ece58"
             ],
             [
              0.8888888888888888,
              "#b5de2b"
             ],
             [
              1,
              "#fde725"
             ]
            ],
            "type": "heatmapgl"
           }
          ],
          "histogram": [
           {
            "marker": {
             "line": {
              "color": "white",
              "width": 0.6
             }
            },
            "type": "histogram"
           }
          ],
          "histogram2d": [
           {
            "colorbar": {
             "outlinewidth": 1,
             "tickcolor": "rgb(36,36,36)",
             "ticks": "outside"
            },
            "colorscale": [
             [
              0,
              "#440154"
             ],
             [
              0.1111111111111111,
              "#482878"
             ],
             [
              0.2222222222222222,
              "#3e4989"
             ],
             [
              0.3333333333333333,
              "#31688e"
             ],
             [
              0.4444444444444444,
              "#26828e"
             ],
             [
              0.5555555555555556,
              "#1f9e89"
             ],
             [
              0.6666666666666666,
              "#35b779"
             ],
             [
              0.7777777777777778,
              "#6ece58"
             ],
             [
              0.8888888888888888,
              "#b5de2b"
             ],
             [
              1,
              "#fde725"
             ]
            ],
            "type": "histogram2d"
           }
          ],
          "histogram2dcontour": [
           {
            "colorbar": {
             "outlinewidth": 1,
             "tickcolor": "rgb(36,36,36)",
             "ticks": "outside"
            },
            "colorscale": [
             [
              0,
              "#440154"
             ],
             [
              0.1111111111111111,
              "#482878"
             ],
             [
              0.2222222222222222,
              "#3e4989"
             ],
             [
              0.3333333333333333,
              "#31688e"
             ],
             [
              0.4444444444444444,
              "#26828e"
             ],
             [
              0.5555555555555556,
              "#1f9e89"
             ],
             [
              0.6666666666666666,
              "#35b779"
             ],
             [
              0.7777777777777778,
              "#6ece58"
             ],
             [
              0.8888888888888888,
              "#b5de2b"
             ],
             [
              1,
              "#fde725"
             ]
            ],
            "type": "histogram2dcontour"
           }
          ],
          "mesh3d": [
           {
            "colorbar": {
             "outlinewidth": 1,
             "tickcolor": "rgb(36,36,36)",
             "ticks": "outside"
            },
            "type": "mesh3d"
           }
          ],
          "parcoords": [
           {
            "line": {
             "colorbar": {
              "outlinewidth": 1,
              "tickcolor": "rgb(36,36,36)",
              "ticks": "outside"
             }
            },
            "type": "parcoords"
           }
          ],
          "pie": [
           {
            "automargin": true,
            "type": "pie"
           }
          ],
          "scatter": [
           {
            "fillpattern": {
             "fillmode": "overlay",
             "size": 10,
             "solidity": 0.2
            },
            "type": "scatter"
           }
          ],
          "scatter3d": [
           {
            "line": {
             "colorbar": {
              "outlinewidth": 1,
              "tickcolor": "rgb(36,36,36)",
              "ticks": "outside"
             }
            },
            "marker": {
             "colorbar": {
              "outlinewidth": 1,
              "tickcolor": "rgb(36,36,36)",
              "ticks": "outside"
             }
            },
            "type": "scatter3d"
           }
          ],
          "scattercarpet": [
           {
            "marker": {
             "colorbar": {
              "outlinewidth": 1,
              "tickcolor": "rgb(36,36,36)",
              "ticks": "outside"
             }
            },
            "type": "scattercarpet"
           }
          ],
          "scattergeo": [
           {
            "marker": {
             "colorbar": {
              "outlinewidth": 1,
              "tickcolor": "rgb(36,36,36)",
              "ticks": "outside"
             }
            },
            "type": "scattergeo"
           }
          ],
          "scattergl": [
           {
            "marker": {
             "colorbar": {
              "outlinewidth": 1,
              "tickcolor": "rgb(36,36,36)",
              "ticks": "outside"
             }
            },
            "type": "scattergl"
           }
          ],
          "scattermapbox": [
           {
            "marker": {
             "colorbar": {
              "outlinewidth": 1,
              "tickcolor": "rgb(36,36,36)",
              "ticks": "outside"
             }
            },
            "type": "scattermapbox"
           }
          ],
          "scatterpolar": [
           {
            "marker": {
             "colorbar": {
              "outlinewidth": 1,
              "tickcolor": "rgb(36,36,36)",
              "ticks": "outside"
             }
            },
            "type": "scatterpolar"
           }
          ],
          "scatterpolargl": [
           {
            "marker": {
             "colorbar": {
              "outlinewidth": 1,
              "tickcolor": "rgb(36,36,36)",
              "ticks": "outside"
             }
            },
            "type": "scatterpolargl"
           }
          ],
          "scatterternary": [
           {
            "marker": {
             "colorbar": {
              "outlinewidth": 1,
              "tickcolor": "rgb(36,36,36)",
              "ticks": "outside"
             }
            },
            "type": "scatterternary"
           }
          ],
          "surface": [
           {
            "colorbar": {
             "outlinewidth": 1,
             "tickcolor": "rgb(36,36,36)",
             "ticks": "outside"
            },
            "colorscale": [
             [
              0,
              "#440154"
             ],
             [
              0.1111111111111111,
              "#482878"
             ],
             [
              0.2222222222222222,
              "#3e4989"
             ],
             [
              0.3333333333333333,
              "#31688e"
             ],
             [
              0.4444444444444444,
              "#26828e"
             ],
             [
              0.5555555555555556,
              "#1f9e89"
             ],
             [
              0.6666666666666666,
              "#35b779"
             ],
             [
              0.7777777777777778,
              "#6ece58"
             ],
             [
              0.8888888888888888,
              "#b5de2b"
             ],
             [
              1,
              "#fde725"
             ]
            ],
            "type": "surface"
           }
          ],
          "table": [
           {
            "cells": {
             "fill": {
              "color": "rgb(237,237,237)"
             },
             "line": {
              "color": "white"
             }
            },
            "header": {
             "fill": {
              "color": "rgb(217,217,217)"
             },
             "line": {
              "color": "white"
             }
            },
            "type": "table"
           }
          ]
         },
         "layout": {
          "annotationdefaults": {
           "arrowhead": 0,
           "arrowwidth": 1
          },
          "autotypenumbers": "strict",
          "coloraxis": {
           "colorbar": {
            "outlinewidth": 1,
            "tickcolor": "rgb(36,36,36)",
            "ticks": "outside"
           }
          },
          "colorscale": {
           "diverging": [
            [
             0,
             "rgb(103,0,31)"
            ],
            [
             0.1,
             "rgb(178,24,43)"
            ],
            [
             0.2,
             "rgb(214,96,77)"
            ],
            [
             0.3,
             "rgb(244,165,130)"
            ],
            [
             0.4,
             "rgb(253,219,199)"
            ],
            [
             0.5,
             "rgb(247,247,247)"
            ],
            [
             0.6,
             "rgb(209,229,240)"
            ],
            [
             0.7,
             "rgb(146,197,222)"
            ],
            [
             0.8,
             "rgb(67,147,195)"
            ],
            [
             0.9,
             "rgb(33,102,172)"
            ],
            [
             1,
             "rgb(5,48,97)"
            ]
           ],
           "sequential": [
            [
             0,
             "#440154"
            ],
            [
             0.1111111111111111,
             "#482878"
            ],
            [
             0.2222222222222222,
             "#3e4989"
            ],
            [
             0.3333333333333333,
             "#31688e"
            ],
            [
             0.4444444444444444,
             "#26828e"
            ],
            [
             0.5555555555555556,
             "#1f9e89"
            ],
            [
             0.6666666666666666,
             "#35b779"
            ],
            [
             0.7777777777777778,
             "#6ece58"
            ],
            [
             0.8888888888888888,
             "#b5de2b"
            ],
            [
             1,
             "#fde725"
            ]
           ],
           "sequentialminus": [
            [
             0,
             "#440154"
            ],
            [
             0.1111111111111111,
             "#482878"
            ],
            [
             0.2222222222222222,
             "#3e4989"
            ],
            [
             0.3333333333333333,
             "#31688e"
            ],
            [
             0.4444444444444444,
             "#26828e"
            ],
            [
             0.5555555555555556,
             "#1f9e89"
            ],
            [
             0.6666666666666666,
             "#35b779"
            ],
            [
             0.7777777777777778,
             "#6ece58"
            ],
            [
             0.8888888888888888,
             "#b5de2b"
            ],
            [
             1,
             "#fde725"
            ]
           ]
          },
          "colorway": [
           "#1F77B4",
           "#FF7F0E",
           "#2CA02C",
           "#D62728",
           "#9467BD",
           "#8C564B",
           "#E377C2",
           "#7F7F7F",
           "#BCBD22",
           "#17BECF"
          ],
          "font": {
           "color": "rgb(36,36,36)"
          },
          "geo": {
           "bgcolor": "white",
           "lakecolor": "white",
           "landcolor": "white",
           "showlakes": true,
           "showland": true,
           "subunitcolor": "white"
          },
          "hoverlabel": {
           "align": "left"
          },
          "hovermode": "closest",
          "mapbox": {
           "style": "light"
          },
          "paper_bgcolor": "white",
          "plot_bgcolor": "white",
          "polar": {
           "angularaxis": {
            "gridcolor": "rgb(232,232,232)",
            "linecolor": "rgb(36,36,36)",
            "showgrid": false,
            "showline": true,
            "ticks": "outside"
           },
           "bgcolor": "white",
           "radialaxis": {
            "gridcolor": "rgb(232,232,232)",
            "linecolor": "rgb(36,36,36)",
            "showgrid": false,
            "showline": true,
            "ticks": "outside"
           }
          },
          "scene": {
           "xaxis": {
            "backgroundcolor": "white",
            "gridcolor": "rgb(232,232,232)",
            "gridwidth": 2,
            "linecolor": "rgb(36,36,36)",
            "showbackground": true,
            "showgrid": false,
            "showline": true,
            "ticks": "outside",
            "zeroline": false,
            "zerolinecolor": "rgb(36,36,36)"
           },
           "yaxis": {
            "backgroundcolor": "white",
            "gridcolor": "rgb(232,232,232)",
            "gridwidth": 2,
            "linecolor": "rgb(36,36,36)",
            "showbackground": true,
            "showgrid": false,
            "showline": true,
            "ticks": "outside",
            "zeroline": false,
            "zerolinecolor": "rgb(36,36,36)"
           },
           "zaxis": {
            "backgroundcolor": "white",
            "gridcolor": "rgb(232,232,232)",
            "gridwidth": 2,
            "linecolor": "rgb(36,36,36)",
            "showbackground": true,
            "showgrid": false,
            "showline": true,
            "ticks": "outside",
            "zeroline": false,
            "zerolinecolor": "rgb(36,36,36)"
           }
          },
          "shapedefaults": {
           "fillcolor": "black",
           "line": {
            "width": 0
           },
           "opacity": 0.3
          },
          "ternary": {
           "aaxis": {
            "gridcolor": "rgb(232,232,232)",
            "linecolor": "rgb(36,36,36)",
            "showgrid": false,
            "showline": true,
            "ticks": "outside"
           },
           "baxis": {
            "gridcolor": "rgb(232,232,232)",
            "linecolor": "rgb(36,36,36)",
            "showgrid": false,
            "showline": true,
            "ticks": "outside"
           },
           "bgcolor": "white",
           "caxis": {
            "gridcolor": "rgb(232,232,232)",
            "linecolor": "rgb(36,36,36)",
            "showgrid": false,
            "showline": true,
            "ticks": "outside"
           }
          },
          "title": {
           "x": 0.05
          },
          "xaxis": {
           "automargin": true,
           "gridcolor": "rgb(232,232,232)",
           "linecolor": "rgb(36,36,36)",
           "showgrid": false,
           "showline": true,
           "ticks": "outside",
           "title": {
            "standoff": 15
           },
           "zeroline": false,
           "zerolinecolor": "rgb(36,36,36)"
          },
          "yaxis": {
           "automargin": true,
           "gridcolor": "rgb(232,232,232)",
           "linecolor": "rgb(36,36,36)",
           "showgrid": false,
           "showline": true,
           "ticks": "outside",
           "title": {
            "standoff": 15
           },
           "zeroline": false,
           "zerolinecolor": "rgb(36,36,36)"
          }
         }
        },
        "title": {
         "font": {
          "color": "Black",
          "size": 22
         },
         "text": "<b>Topics over Time</b>",
         "x": 0.4,
         "xanchor": "center",
         "y": 0.95,
         "yanchor": "top"
        },
        "width": 1250,
        "xaxis": {
         "showgrid": true
        },
        "yaxis": {
         "showgrid": true,
         "title": {
          "text": "Frequency"
         }
        }
       }
      }
     },
     "metadata": {},
     "output_type": "display_data"
    }
   ],
   "source": [
    "pos_model.visualize_topics_over_time(pos_topics_over_time, top_n_topics=50)"
   ]
  },
  {
   "cell_type": "markdown",
   "metadata": {},
   "source": [
    "### Negative reviews:"
   ]
  },
  {
   "cell_type": "code",
   "execution_count": 19,
   "metadata": {},
   "outputs": [],
   "source": [
    "neg_model = BERTopic.load(\"models/bertopic_neg_model\")"
   ]
  },
  {
   "cell_type": "code",
   "execution_count": 20,
   "metadata": {},
   "outputs": [
    {
     "name": "stderr",
     "output_type": "stream",
     "text": [
      "20it [00:06,  3.10it/s]\n"
     ]
    }
   ],
   "source": [
    "neg_topics_over_time = neg_model.topics_over_time(neg_docs, neg_timestamps, nr_bins=20)"
   ]
  },
  {
   "cell_type": "code",
   "execution_count": 21,
   "metadata": {},
   "outputs": [
    {
     "data": {
      "application/vnd.plotly.v1+json": {
       "config": {
        "plotlyServerURL": "https://plot.ly"
       },
       "data": [
        {
         "hoverinfo": "text",
         "hovertext": [
          "<b>Topic 0</b><br>Words: pc, controller, mouse, port, keyboard",
          "<b>Topic 0</b><br>Words: pc, controller, port, keyboard, mouse",
          "<b>Topic 0</b><br>Words: controller, pc, keyboard, xbox, console",
          "<b>Topic 0</b><br>Words: pc, controller, port, keyboard, xbox",
          "<b>Topic 0</b><br>Words: controller, keyboard, pc, port, mouse",
          "<b>Topic 0</b><br>Words: pc, control, controller, port, keyboard",
          "<b>Topic 0</b><br>Words: controller, pc, port, keyboard, xbox",
          "<b>Topic 0</b><br>Words: mouse, pc, keyboard, controller, port",
          "<b>Topic 0</b><br>Words: pc, controller, port, xbox, control",
          "<b>Topic 0</b><br>Words: controller, keyboard, pc, control, mouse",
          "<b>Topic 0</b><br>Words: controller, keyboard, mouse, port, pc",
          "<b>Topic 0</b><br>Words: controller, pc, console, port, keyboard",
          "<b>Topic 0</b><br>Words: controller, pc, xbox, mouse, keyboard",
          "<b>Topic 0</b><br>Words: controller, keyboard, mouse, pc, control",
          "<b>Topic 0</b><br>Words: pc, port, keyboard, control, mouse",
          "<b>Topic 0</b><br>Words: keyboard, controller, button, mouse, pc",
          "<b>Topic 0</b><br>Words: mouse, keyboard, controller, pc, button",
          "<b>Topic 0</b><br>Words: pc, controller, mouse, keyboard, port",
          "<b>Topic 0</b><br>Words: controller, port, pc, mouse, keyboard",
          "<b>Topic 0</b><br>Words: controller, keybind, keyboard, pc, port"
         ],
         "marker": {
          "color": "#E69F00"
         },
         "mode": "lines",
         "name": "0_controller_pc_keyboard_mouse",
         "type": "scatter",
         "x": [
          "2014-04-20T22:58:39.521999",
          "2014-11-10T23:59:24.900000",
          "2015-05-30T00:58:58.800000",
          "2015-12-16T01:58:32.700000",
          "2016-07-03T02:58:06.600000",
          "2017-01-19T03:57:40.500000",
          "2017-08-07T04:57:14.400000",
          "2018-02-23T05:56:48.300000",
          "2018-09-11T06:56:22.200000",
          "2019-03-30T07:55:56.100000",
          "2019-10-16T08:55:30",
          "2020-05-03T09:55:03.900000",
          "2020-11-19T10:54:37.800000",
          "2021-06-07T11:54:11.700000",
          "2021-12-24T12:53:45.600000",
          "2022-07-12T13:53:19.500000",
          "2023-01-28T14:52:53.400000",
          "2023-08-16T15:52:27.300000",
          "2024-03-03T16:52:01.200000",
          "2024-09-19T17:51:35.100000"
         ],
         "y": [
          320,
          115,
          54,
          72,
          23,
          57,
          29,
          26,
          27,
          17,
          30,
          31,
          34,
          35,
          37,
          21,
          27,
          28,
          32,
          36
         ]
        },
        {
         "hoverinfo": "text",
         "hovertext": [
          "<b>Topic 1</b><br>Words: pvp, boss, player, weapon, area",
          "<b>Topic 1</b><br>Words: fight, time, player, weapon, ii",
          "<b>Topic 1</b><br>Words: enemy, attack, player, feel, difficulty",
          "<b>Topic 1</b><br>Words: boss, enemy, area, weapon, sword",
          "<b>Topic 1</b><br>Words: area, player, boss, enemy, attack",
          "<b>Topic 1</b><br>Words: boss, player, enemy, attack, area",
          "<b>Topic 1</b><br>Words: boss, feel, enemy, area, attack",
          "<b>Topic 1</b><br>Words: enemy, boss, time, attack, way",
          "<b>Topic 1</b><br>Words: boss, enemy, fight, hit, attack",
          "<b>Topic 1</b><br>Words: enemy, boss, area, level, way",
          "<b>Topic 1</b><br>Words: enemy, boss, area, player, feel",
          "<b>Topic 1</b><br>Words: boss, enemy, attack, feel, area",
          "<b>Topic 1</b><br>Words: boss, enemy, area, fight, player",
          "<b>Topic 1</b><br>Words: boss, enemy, area, fight, feel",
          "<b>Topic 1</b><br>Words: boss, attack, enemy, area, player",
          "<b>Topic 1</b><br>Words: boss, enemy, player, time, like",
          "<b>Topic 1</b><br>Words: boss, attack, level, feel, enemy",
          "<b>Topic 1</b><br>Words: boss, enemy, feel, area, fight",
          "<b>Topic 1</b><br>Words: tyler, creator, boss, enemy, area",
          "<b>Topic 1</b><br>Words: boss, feel, enemy, fight, area"
         ],
         "marker": {
          "color": "#56B4E9"
         },
         "mode": "lines",
         "name": "1_enemy_area_bos_player",
         "type": "scatter",
         "x": [
          "2014-04-20T22:58:39.521999",
          "2014-11-10T23:59:24.900000",
          "2015-05-30T00:58:58.800000",
          "2015-12-16T01:58:32.700000",
          "2016-07-03T02:58:06.600000",
          "2017-01-19T03:57:40.500000",
          "2017-08-07T04:57:14.400000",
          "2018-02-23T05:56:48.300000",
          "2018-09-11T06:56:22.200000",
          "2019-03-30T07:55:56.100000",
          "2019-10-16T08:55:30",
          "2020-05-03T09:55:03.900000",
          "2020-11-19T10:54:37.800000",
          "2021-06-07T11:54:11.700000",
          "2021-12-24T12:53:45.600000",
          "2022-07-12T13:53:19.500000",
          "2023-01-28T14:52:53.400000",
          "2023-08-16T15:52:27.300000",
          "2024-03-03T16:52:01.200000",
          "2024-09-19T17:51:35.100000"
         ],
         "y": [
          59,
          42,
          14,
          23,
          22,
          28,
          25,
          24,
          16,
          16,
          36,
          33,
          39,
          36,
          47,
          28,
          29,
          37,
          43,
          42
         ]
        },
        {
         "hoverinfo": "text",
         "hovertext": [
          "<b>Topic 2</b><br>Words: burh, ahhhhhhhhhhhhhhhhhhhhhhhhhhhhhhhhhhhhhhhhhhhhhhhhhhhhhhhhhhhhhhhhhhhhhhhhhhhhhhhhhhhhhhhhhhhhhhhhhhhhhhhhhhhhhhhhhhhhhhhhhhhhhhhhhhhhhhhhhhhhhhhhhhhhhhhhhhhhhhhhhhhhhhhhhhhhhhhhhhhhhhhhhhhhhhhhhhhhhhhhhhhhhhhhhhhhhhhhhhhhhhhhhhhhhhhhhhhhhhhhhhhhhhhhhhhhhhhhhhhhhhhh, werty, xddddddddddddddddddddddddddddddddddddddddddddddddddddddddddddddddddddddddddddddddddddddddddddddddddddddddddddddddddddddddddddddddddddddddddddddddddddddddddddddddddddddddddddddddddddddddddddddddddddddddddddddddddddddddddddddddddddddddddddddddddddddddddddddddddddddddddddddddddddddddddddddddddddddddddddddddddddddddddddddddddddddddddddddddddddddddddddddddddddddddddddddddddddddddddddddddddddddddddddddddddddddddddddddddddddddddddddddddddd, xy",
          "<b>Topic 2</b><br>Words: burh, ahhhhhhhhhhhhhhhhhhhhhhhhhhhhhhhhhhhhhhhhhhhhhhhhhhhhhhhhhhhhhhhhhhhhhhhhhhhhhhhhhhhhhhhhhhhhhhhhhhhhhhhhhhhhhhhhhhhhhhhhhhhhhhhhhhhhhhhhhhhhhhhhhhhhhhhhhhhhhhhhhhhhhhhhhhhhhhhhhhhhhhhhhhhhhhhhhhhhhhhhhhhhhhhhhhhhhhhhhhhhhhhhhhhhhhhhhhhhhhhhhhhhhhhhhhhhhhhhhhhhhhhh, werty, xddddddddddddddddddddddddddddddddddddddddddddddddddddddddddddddddddddddddddddddddddddddddddddddddddddddddddddddddddddddddddddddddddddddddddddddddddddddddddddddddddddddddddddddddddddddddddddddddddddddddddddddddddddddddddddddddddddddddddddddddddddddddddddddddddddddddddddddddddddddddddddddddddddddddddddddddddddddddddddddddddddddddddddddddddddddddddddddddddddddddddddddddddddddddddddddddddddddddddddddddddddddddddddddddddddddddddddddddddd, xy",
          "<b>Topic 2</b><br>Words: burh, ahhhhhhhhhhhhhhhhhhhhhhhhhhhhhhhhhhhhhhhhhhhhhhhhhhhhhhhhhhhhhhhhhhhhhhhhhhhhhhhhhhhhhhhhhhhhhhhhhhhhhhhhhhhhhhhhhhhhhhhhhhhhhhhhhhhhhhhhhhhhhhhhhhhhhhhhhhhhhhhhhhhhhhhhhhhhhhhhhhhhhhhhhhhhhhhhhhhhhhhhhhhhhhhhhhhhhhhhhhhhhhhhhhhhhhhhhhhhhhhhhhhhhhhhhhhhhhhhhhhhhhhh, werty, xddddddddddddddddddddddddddddddddddddddddddddddddddddddddddddddddddddddddddddddddddddddddddddddddddddddddddddddddddddddddddddddddddddddddddddddddddddddddddddddddddddddddddddddddddddddddddddddddddddddddddddddddddddddddddddddddddddddddddddddddddddddddddddddddddddddddddddddddddddddddddddddddddddddddddddddddddddddddddddddddddddddddddddddddddddddddddddddddddddddddddddddddddddddddddddddddddddddddddddddddddddddddddddddddddddddddddddddddddd, xy",
          "<b>Topic 2</b><br>Words: burh, ahhhhhhhhhhhhhhhhhhhhhhhhhhhhhhhhhhhhhhhhhhhhhhhhhhhhhhhhhhhhhhhhhhhhhhhhhhhhhhhhhhhhhhhhhhhhhhhhhhhhhhhhhhhhhhhhhhhhhhhhhhhhhhhhhhhhhhhhhhhhhhhhhhhhhhhhhhhhhhhhhhhhhhhhhhhhhhhhhhhhhhhhhhhhhhhhhhhhhhhhhhhhhhhhhhhhhhhhhhhhhhhhhhhhhhhhhhhhhhhhhhhhhhhhhhhhhhhhhhhhhhhh, werty, xddddddddddddddddddddddddddddddddddddddddddddddddddddddddddddddddddddddddddddddddddddddddddddddddddddddddddddddddddddddddddddddddddddddddddddddddddddddddddddddddddddddddddddddddddddddddddddddddddddddddddddddddddddddddddddddddddddddddddddddddddddddddddddddddddddddddddddddddddddddddddddddddddddddddddddddddddddddddddddddddddddddddddddddddddddddddddddddddddddddddddddddddddddddddddddddddddddddddddddddddddddddddddddddddddddddddddddddddddd, xy",
          "<b>Topic 2</b><br>Words: burh, ahhhhhhhhhhhhhhhhhhhhhhhhhhhhhhhhhhhhhhhhhhhhhhhhhhhhhhhhhhhhhhhhhhhhhhhhhhhhhhhhhhhhhhhhhhhhhhhhhhhhhhhhhhhhhhhhhhhhhhhhhhhhhhhhhhhhhhhhhhhhhhhhhhhhhhhhhhhhhhhhhhhhhhhhhhhhhhhhhhhhhhhhhhhhhhhhhhhhhhhhhhhhhhhhhhhhhhhhhhhhhhhhhhhhhhhhhhhhhhhhhhhhhhhhhhhhhhhhhhhhhhhh, werty, xddddddddddddddddddddddddddddddddddddddddddddddddddddddddddddddddddddddddddddddddddddddddddddddddddddddddddddddddddddddddddddddddddddddddddddddddddddddddddddddddddddddddddddddddddddddddddddddddddddddddddddddddddddddddddddddddddddddddddddddddddddddddddddddddddddddddddddddddddddddddddddddddddddddddddddddddddddddddddddddddddddddddddddddddddddddddddddddddddddddddddddddddddddddddddddddddddddddddddddddddddddddddddddddddddddddddddddddddddd, xy",
          "<b>Topic 2</b><br>Words: burh, ahhhhhhhhhhhhhhhhhhhhhhhhhhhhhhhhhhhhhhhhhhhhhhhhhhhhhhhhhhhhhhhhhhhhhhhhhhhhhhhhhhhhhhhhhhhhhhhhhhhhhhhhhhhhhhhhhhhhhhhhhhhhhhhhhhhhhhhhhhhhhhhhhhhhhhhhhhhhhhhhhhhhhhhhhhhhhhhhhhhhhhhhhhhhhhhhhhhhhhhhhhhhhhhhhhhhhhhhhhhhhhhhhhhhhhhhhhhhhhhhhhhhhhhhhhhhhhhhhhhhhhhh, werty, xddddddddddddddddddddddddddddddddddddddddddddddddddddddddddddddddddddddddddddddddddddddddddddddddddddddddddddddddddddddddddddddddddddddddddddddddddddddddddddddddddddddddddddddddddddddddddddddddddddddddddddddddddddddddddddddddddddddddddddddddddddddddddddddddddddddddddddddddddddddddddddddddddddddddddddddddddddddddddddddddddddddddddddddddddddddddddddddddddddddddddddddddddddddddddddddddddddddddddddddddddddddddddddddddddddddddddddddddddd, xy",
          "<b>Topic 2</b><br>Words: burh, ahhhhhhhhhhhhhhhhhhhhhhhhhhhhhhhhhhhhhhhhhhhhhhhhhhhhhhhhhhhhhhhhhhhhhhhhhhhhhhhhhhhhhhhhhhhhhhhhhhhhhhhhhhhhhhhhhhhhhhhhhhhhhhhhhhhhhhhhhhhhhhhhhhhhhhhhhhhhhhhhhhhhhhhhhhhhhhhhhhhhhhhhhhhhhhhhhhhhhhhhhhhhhhhhhhhhhhhhhhhhhhhhhhhhhhhhhhhhhhhhhhhhhhhhhhhhhhhhhhhhhhhh, werty, xddddddddddddddddddddddddddddddddddddddddddddddddddddddddddddddddddddddddddddddddddddddddddddddddddddddddddddddddddddddddddddddddddddddddddddddddddddddddddddddddddddddddddddddddddddddddddddddddddddddddddddddddddddddddddddddddddddddddddddddddddddddddddddddddddddddddddddddddddddddddddddddddddddddddddddddddddddddddddddddddddddddddddddddddddddddddddddddddddddddddddddddddddddddddddddddddddddddddddddddddddddddddddddddddddddddddddddddddddd, xy",
          "<b>Topic 2</b><br>Words: burh, ahhhhhhhhhhhhhhhhhhhhhhhhhhhhhhhhhhhhhhhhhhhhhhhhhhhhhhhhhhhhhhhhhhhhhhhhhhhhhhhhhhhhhhhhhhhhhhhhhhhhhhhhhhhhhhhhhhhhhhhhhhhhhhhhhhhhhhhhhhhhhhhhhhhhhhhhhhhhhhhhhhhhhhhhhhhhhhhhhhhhhhhhhhhhhhhhhhhhhhhhhhhhhhhhhhhhhhhhhhhhhhhhhhhhhhhhhhhhhhhhhhhhhhhhhhhhhhhhhhhhhhhh, werty, xddddddddddddddddddddddddddddddddddddddddddddddddddddddddddddddddddddddddddddddddddddddddddddddddddddddddddddddddddddddddddddddddddddddddddddddddddddddddddddddddddddddddddddddddddddddddddddddddddddddddddddddddddddddddddddddddddddddddddddddddddddddddddddddddddddddddddddddddddddddddddddddddddddddddddddddddddddddddddddddddddddddddddddddddddddddddddddddddddddddddddddddddddddddddddddddddddddddddddddddddddddddddddddddddddddddddddddddddddd, xy",
          "<b>Topic 2</b><br>Words: burh, ahhhhhhhhhhhhhhhhhhhhhhhhhhhhhhhhhhhhhhhhhhhhhhhhhhhhhhhhhhhhhhhhhhhhhhhhhhhhhhhhhhhhhhhhhhhhhhhhhhhhhhhhhhhhhhhhhhhhhhhhhhhhhhhhhhhhhhhhhhhhhhhhhhhhhhhhhhhhhhhhhhhhhhhhhhhhhhhhhhhhhhhhhhhhhhhhhhhhhhhhhhhhhhhhhhhhhhhhhhhhhhhhhhhhhhhhhhhhhhhhhhhhhhhhhhhhhhhhhhhhhhhh, werty, xddddddddddddddddddddddddddddddddddddddddddddddddddddddddddddddddddddddddddddddddddddddddddddddddddddddddddddddddddddddddddddddddddddddddddddddddddddddddddddddddddddddddddddddddddddddddddddddddddddddddddddddddddddddddddddddddddddddddddddddddddddddddddddddddddddddddddddddddddddddddddddddddddddddddddddddddddddddddddddddddddddddddddddddddddddddddddddddddddddddddddddddddddddddddddddddddddddddddddddddddddddddddddddddddddddddddddddddddddd, xy",
          "<b>Topic 2</b><br>Words: burh, ahhhhhhhhhhhhhhhhhhhhhhhhhhhhhhhhhhhhhhhhhhhhhhhhhhhhhhhhhhhhhhhhhhhhhhhhhhhhhhhhhhhhhhhhhhhhhhhhhhhhhhhhhhhhhhhhhhhhhhhhhhhhhhhhhhhhhhhhhhhhhhhhhhhhhhhhhhhhhhhhhhhhhhhhhhhhhhhhhhhhhhhhhhhhhhhhhhhhhhhhhhhhhhhhhhhhhhhhhhhhhhhhhhhhhhhhhhhhhhhhhhhhhhhhhhhhhhhhhhhhhhhh, werty, xddddddddddddddddddddddddddddddddddddddddddddddddddddddddddddddddddddddddddddddddddddddddddddddddddddddddddddddddddddddddddddddddddddddddddddddddddddddddddddddddddddddddddddddddddddddddddddddddddddddddddddddddddddddddddddddddddddddddddddddddddddddddddddddddddddddddddddddddddddddddddddddddddddddddddddddddddddddddddddddddddddddddddddddddddddddddddddddddddddddddddddddddddddddddddddddddddddddddddddddddddddddddddddddddddddddddddddddddddd, xy",
          "<b>Topic 2</b><br>Words: werty, burh, ahhhhhhhhhhhhhhhhhhhhhhhhhhhhhhhhhhhhhhhhhhhhhhhhhhhhhhhhhhhhhhhhhhhhhhhhhhhhhhhhhhhhhhhhhhhhhhhhhhhhhhhhhhhhhhhhhhhhhhhhhhhhhhhhhhhhhhhhhhhhhhhhhhhhhhhhhhhhhhhhhhhhhhhhhhhhhhhhhhhhhhhhhhhhhhhhhhhhhhhhhhhhhhhhhhhhhhhhhhhhhhhhhhhhhhhhhhhhhhhhhhhhhhhhhhhhhhhhhhhhhhhh, xddddddddddddddddddddddddddddddddddddddddddddddddddddddddddddddddddddddddddddddddddddddddddddddddddddddddddddddddddddddddddddddddddddddddddddddddddddddddddddddddddddddddddddddddddddddddddddddddddddddddddddddddddddddddddddddddddddddddddddddddddddddddddddddddddddddddddddddddddddddddddddddddddddddddddddddddddddddddddddddddddddddddddddddddddddddddddddddddddddddddddddddddddddddddddddddddddddddddddddddddddddddddddddddddddddddddddddddddddd, xy",
          "<b>Topic 2</b><br>Words: burh, ahhhhhhhhhhhhhhhhhhhhhhhhhhhhhhhhhhhhhhhhhhhhhhhhhhhhhhhhhhhhhhhhhhhhhhhhhhhhhhhhhhhhhhhhhhhhhhhhhhhhhhhhhhhhhhhhhhhhhhhhhhhhhhhhhhhhhhhhhhhhhhhhhhhhhhhhhhhhhhhhhhhhhhhhhhhhhhhhhhhhhhhhhhhhhhhhhhhhhhhhhhhhhhhhhhhhhhhhhhhhhhhhhhhhhhhhhhhhhhhhhhhhhhhhhhhhhhhhhhhhhhhh, werty, xddddddddddddddddddddddddddddddddddddddddddddddddddddddddddddddddddddddddddddddddddddddddddddddddddddddddddddddddddddddddddddddddddddddddddddddddddddddddddddddddddddddddddddddddddddddddddddddddddddddddddddddddddddddddddddddddddddddddddddddddddddddddddddddddddddddddddddddddddddddddddddddddddddddddddddddddddddddddddddddddddddddddddddddddddddddddddddddddddddddddddddddddddddddddddddddddddddddddddddddddddddddddddddddddddddddddddddddddddd, xy",
          "<b>Topic 2</b><br>Words: burh, ahhhhhhhhhhhhhhhhhhhhhhhhhhhhhhhhhhhhhhhhhhhhhhhhhhhhhhhhhhhhhhhhhhhhhhhhhhhhhhhhhhhhhhhhhhhhhhhhhhhhhhhhhhhhhhhhhhhhhhhhhhhhhhhhhhhhhhhhhhhhhhhhhhhhhhhhhhhhhhhhhhhhhhhhhhhhhhhhhhhhhhhhhhhhhhhhhhhhhhhhhhhhhhhhhhhhhhhhhhhhhhhhhhhhhhhhhhhhhhhhhhhhhhhhhhhhhhhhhhhhhhhh, werty, xddddddddddddddddddddddddddddddddddddddddddddddddddddddddddddddddddddddddddddddddddddddddddddddddddddddddddddddddddddddddddddddddddddddddddddddddddddddddddddddddddddddddddddddddddddddddddddddddddddddddddddddddddddddddddddddddddddddddddddddddddddddddddddddddddddddddddddddddddddddddddddddddddddddddddddddddddddddddddddddddddddddddddddddddddddddddddddddddddddddddddddddddddddddddddddddddddddddddddddddddddddddddddddddddddddddddddddddddddd, xy",
          "<b>Topic 2</b><br>Words: burh, ahhhhhhhhhhhhhhhhhhhhhhhhhhhhhhhhhhhhhhhhhhhhhhhhhhhhhhhhhhhhhhhhhhhhhhhhhhhhhhhhhhhhhhhhhhhhhhhhhhhhhhhhhhhhhhhhhhhhhhhhhhhhhhhhhhhhhhhhhhhhhhhhhhhhhhhhhhhhhhhhhhhhhhhhhhhhhhhhhhhhhhhhhhhhhhhhhhhhhhhhhhhhhhhhhhhhhhhhhhhhhhhhhhhhhhhhhhhhhhhhhhhhhhhhhhhhhhhhhhhhhhhh, werty, xddddddddddddddddddddddddddddddddddddddddddddddddddddddddddddddddddddddddddddddddddddddddddddddddddddddddddddddddddddddddddddddddddddddddddddddddddddddddddddddddddddddddddddddddddddddddddddddddddddddddddddddddddddddddddddddddddddddddddddddddddddddddddddddddddddddddddddddddddddddddddddddddddddddddddddddddddddddddddddddddddddddddddddddddddddddddddddddddddddddddddddddddddddddddddddddddddddddddddddddddddddddddddddddddddddddddddddddddddd, xy",
          "<b>Topic 2</b><br>Words: burh, xddddddddddddddddddddddddddddddddddddddddddddddddddddddddddddddddddddddddddddddddddddddddddddddddddddddddddddddddddddddddddddddddddddddddddddddddddddddddddddddddddddddddddddddddddddddddddddddddddddddddddddddddddddddddddddddddddddddddddddddddddddddddddddddddddddddddddddddddddddddddddddddddddddddddddddddddddddddddddddddddddddddddddddddddddddddddddddddddddddddddddddddddddddddddddddddddddddddddddddddddddddddddddddddddddddddddddddddddddd, ahhhhhhhhhhhhhhhhhhhhhhhhhhhhhhhhhhhhhhhhhhhhhhhhhhhhhhhhhhhhhhhhhhhhhhhhhhhhhhhhhhhhhhhhhhhhhhhhhhhhhhhhhhhhhhhhhhhhhhhhhhhhhhhhhhhhhhhhhhhhhhhhhhhhhhhhhhhhhhhhhhhhhhhhhhhhhhhhhhhhhhhhhhhhhhhhhhhhhhhhhhhhhhhhhhhhhhhhhhhhhhhhhhhhhhhhhhhhhhhhhhhhhhhhhhhhhhhhhhhhhhhh, werty, xy",
          "<b>Topic 2</b><br>Words: burh, ahhhhhhhhhhhhhhhhhhhhhhhhhhhhhhhhhhhhhhhhhhhhhhhhhhhhhhhhhhhhhhhhhhhhhhhhhhhhhhhhhhhhhhhhhhhhhhhhhhhhhhhhhhhhhhhhhhhhhhhhhhhhhhhhhhhhhhhhhhhhhhhhhhhhhhhhhhhhhhhhhhhhhhhhhhhhhhhhhhhhhhhhhhhhhhhhhhhhhhhhhhhhhhhhhhhhhhhhhhhhhhhhhhhhhhhhhhhhhhhhhhhhhhhhhhhhhhhhhhhhhhhh, werty, xddddddddddddddddddddddddddddddddddddddddddddddddddddddddddddddddddddddddddddddddddddddddddddddddddddddddddddddddddddddddddddddddddddddddddddddddddddddddddddddddddddddddddddddddddddddddddddddddddddddddddddddddddddddddddddddddddddddddddddddddddddddddddddddddddddddddddddddddddddddddddddddddddddddddddddddddddddddddddddddddddddddddddddddddddddddddddddddddddddddddddddddddddddddddddddddddddddddddddddddddddddddddddddddddddddddddddddddddddd, xy",
          "<b>Topic 2</b><br>Words: ahhhhhhhhhhhhhhhhhhhhhhhhhhhhhhhhhhhhhhhhhhhhhhhhhhhhhhhhhhhhhhhhhhhhhhhhhhhhhhhhhhhhhhhhhhhhhhhhhhhhhhhhhhhhhhhhhhhhhhhhhhhhhhhhhhhhhhhhhhhhhhhhhhhhhhhhhhhhhhhhhhhhhhhhhhhhhhhhhhhhhhhhhhhhhhhhhhhhhhhhhhhhhhhhhhhhhhhhhhhhhhhhhhhhhhhhhhhhhhhhhhhhhhhhhhhhhhhhhhhhhhhh, burh, werty, xddddddddddddddddddddddddddddddddddddddddddddddddddddddddddddddddddddddddddddddddddddddddddddddddddddddddddddddddddddddddddddddddddddddddddddddddddddddddddddddddddddddddddddddddddddddddddddddddddddddddddddddddddddddddddddddddddddddddddddddddddddddddddddddddddddddddddddddddddddddddddddddddddddddddddddddddddddddddddddddddddddddddddddddddddddddddddddddddddddddddddddddddddddddddddddddddddddddddddddddddddddddddddddddddddddddddddddddddddd, xy",
          "<b>Topic 2</b><br>Words: burh, ahhhhhhhhhhhhhhhhhhhhhhhhhhhhhhhhhhhhhhhhhhhhhhhhhhhhhhhhhhhhhhhhhhhhhhhhhhhhhhhhhhhhhhhhhhhhhhhhhhhhhhhhhhhhhhhhhhhhhhhhhhhhhhhhhhhhhhhhhhhhhhhhhhhhhhhhhhhhhhhhhhhhhhhhhhhhhhhhhhhhhhhhhhhhhhhhhhhhhhhhhhhhhhhhhhhhhhhhhhhhhhhhhhhhhhhhhhhhhhhhhhhhhhhhhhhhhhhhhhhhhhhh, werty, xddddddddddddddddddddddddddddddddddddddddddddddddddddddddddddddddddddddddddddddddddddddddddddddddddddddddddddddddddddddddddddddddddddddddddddddddddddddddddddddddddddddddddddddddddddddddddddddddddddddddddddddddddddddddddddddddddddddddddddddddddddddddddddddddddddddddddddddddddddddddddddddddddddddddddddddddddddddddddddddddddddddddddddddddddddddddddddddddddddddddddddddddddddddddddddddddddddddddddddddddddddddddddddddddddddddddddddddddddd, xy",
          "<b>Topic 2</b><br>Words: burh, ahhhhhhhhhhhhhhhhhhhhhhhhhhhhhhhhhhhhhhhhhhhhhhhhhhhhhhhhhhhhhhhhhhhhhhhhhhhhhhhhhhhhhhhhhhhhhhhhhhhhhhhhhhhhhhhhhhhhhhhhhhhhhhhhhhhhhhhhhhhhhhhhhhhhhhhhhhhhhhhhhhhhhhhhhhhhhhhhhhhhhhhhhhhhhhhhhhhhhhhhhhhhhhhhhhhhhhhhhhhhhhhhhhhhhhhhhhhhhhhhhhhhhhhhhhhhhhhhhhhhhhhh, werty, xddddddddddddddddddddddddddddddddddddddddddddddddddddddddddddddddddddddddddddddddddddddddddddddddddddddddddddddddddddddddddddddddddddddddddddddddddddddddddddddddddddddddddddddddddddddddddddddddddddddddddddddddddddddddddddddddddddddddddddddddddddddddddddddddddddddddddddddddddddddddddddddddddddddddddddddddddddddddddddddddddddddddddddddddddddddddddddddddddddddddddddddddddddddddddddddddddddddddddddddddddddddddddddddddddddddddddddddddddd, xy",
          "<b>Topic 2</b><br>Words: xy, burh, ahhhhhhhhhhhhhhhhhhhhhhhhhhhhhhhhhhhhhhhhhhhhhhhhhhhhhhhhhhhhhhhhhhhhhhhhhhhhhhhhhhhhhhhhhhhhhhhhhhhhhhhhhhhhhhhhhhhhhhhhhhhhhhhhhhhhhhhhhhhhhhhhhhhhhhhhhhhhhhhhhhhhhhhhhhhhhhhhhhhhhhhhhhhhhhhhhhhhhhhhhhhhhhhhhhhhhhhhhhhhhhhhhhhhhhhhhhhhhhhhhhhhhhhhhhhhhhhhhhhhhhhh, werty, xddddddddddddddddddddddddddddddddddddddddddddddddddddddddddddddddddddddddddddddddddddddddddddddddddddddddddddddddddddddddddddddddddddddddddddddddddddddddddddddddddddddddddddddddddddddddddddddddddddddddddddddddddddddddddddddddddddddddddddddddddddddddddddddddddddddddddddddddddddddddddddddddddddddddddddddddddddddddddddddddddddddddddddddddddddddddddddddddddddddddddddddddddddddddddddddddddddddddddddddddddddddddddddddddddddddddddddddddddd"
         ],
         "marker": {
          "color": "#009E73"
         },
         "mode": "lines",
         "name": "2_xddddddddddddddddddddddddddddddddddddd...",
         "type": "scatter",
         "x": [
          "2014-04-20T22:58:39.521999",
          "2014-11-10T23:59:24.900000",
          "2015-05-30T00:58:58.800000",
          "2015-12-16T01:58:32.700000",
          "2016-07-03T02:58:06.600000",
          "2017-01-19T03:57:40.500000",
          "2017-08-07T04:57:14.400000",
          "2018-02-23T05:56:48.300000",
          "2018-09-11T06:56:22.200000",
          "2019-03-30T07:55:56.100000",
          "2019-10-16T08:55:30",
          "2020-05-03T09:55:03.900000",
          "2020-11-19T10:54:37.800000",
          "2021-06-07T11:54:11.700000",
          "2021-12-24T12:53:45.600000",
          "2022-07-12T13:53:19.500000",
          "2023-01-28T14:52:53.400000",
          "2023-08-16T15:52:27.300000",
          "2024-03-03T16:52:01.200000",
          "2024-09-19T17:51:35.100000"
         ],
         "y": [
          7,
          6,
          2,
          6,
          5,
          3,
          2,
          1,
          4,
          9,
          14,
          22,
          22,
          35,
          48,
          17,
          26,
          31,
          43,
          40
         ]
        },
        {
         "hoverinfo": "text",
         "hovertext": [
          "<b>Topic 3</b><br>Words: terrible, like, bad, ever, far",
          "<b>Topic 3</b><br>Words: heroin, report, destroy, bad, poorly",
          "<b>Topic 3</b><br>Words: bad, ever, far, terrible, tarkov",
          "<b>Topic 3</b><br>Words: slashy, marginally, bad, base, say",
          "<b>Topic 3</b><br>Words: retard, bunch, bad, way, like",
          "<b>Topic 3</b><br>Words: significantly, bad, joke, press, previous",
          "<b>Topic 3</b><br>Words: classify, bad, art, anymore, joke",
          "<b>Topic 3</b><br>Words: ss, bad, poor, pretty, ii",
          "<b>Topic 3</b><br>Words: civilization, bad, big, take, ever",
          "<b>Topic 3</b><br>Words: aid, bad, like, ever, far",
          "<b>Topic 3</b><br>Words: bad, crucify, cute, girl, oppose",
          "<b>Topic 3</b><br>Words: bad, aight, knockoff, dreadful, bitch",
          "<b>Topic 3</b><br>Words: bad, fack, histroy, mom, dsi",
          "<b>Topic 3</b><br>Words: bad, artificail, diffuculky, cannon, heck",
          "<b>Topic 3</b><br>Words: bad, crank, infinitely, screw, example",
          "<b>Topic 3</b><br>Words: bad, conceivable, elaborate, significantly, prefer",
          "<b>Topic 3</b><br>Words: bad, tarkov, terribleness, irredeemable, candidate",
          "<b>Topic 3</b><br>Words: bad, lololololololol, charcter, lunch, paradise",
          "<b>Topic 3</b><br>Words: bad, loser, general, bob, chimpanzee",
          "<b>Topic 3</b><br>Words: bad, elmer, dond, ith, liek"
         ],
         "marker": {
          "color": "#F0E442"
         },
         "mode": "lines",
         "name": "3_bad_ever_far_terrible",
         "type": "scatter",
         "x": [
          "2014-04-20T22:58:39.521999",
          "2014-11-10T23:59:24.900000",
          "2015-05-30T00:58:58.800000",
          "2015-12-16T01:58:32.700000",
          "2016-07-03T02:58:06.600000",
          "2017-01-19T03:57:40.500000",
          "2017-08-07T04:57:14.400000",
          "2018-02-23T05:56:48.300000",
          "2018-09-11T06:56:22.200000",
          "2019-03-30T07:55:56.100000",
          "2019-10-16T08:55:30",
          "2020-05-03T09:55:03.900000",
          "2020-11-19T10:54:37.800000",
          "2021-06-07T11:54:11.700000",
          "2021-12-24T12:53:45.600000",
          "2022-07-12T13:53:19.500000",
          "2023-01-28T14:52:53.400000",
          "2023-08-16T15:52:27.300000",
          "2024-03-03T16:52:01.200000",
          "2024-09-19T17:51:35.100000"
         ],
         "y": [
          1,
          3,
          2,
          4,
          1,
          3,
          5,
          3,
          3,
          2,
          6,
          10,
          7,
          11,
          6,
          7,
          18,
          20,
          31,
          17
         ]
        },
        {
         "hoverinfo": "text",
         "hovertext": [
          "<b>Topic 4</b><br>Words: pvp, pve, lag, co, hacker",
          "<b>Topic 4</b><br>Words: pvp, pve, lagger, laggy, multiplayer",
          "<b>Topic 4</b><br>Words: pvp, pve, lag, annoying, multi",
          "<b>Topic 4</b><br>Words: pvp, pve, scotf, useless, range",
          "<b>Topic 4</b><br>Words: pvp, intrest, graveyard, catacomb, confidently",
          "<b>Topic 4</b><br>Words: weight, pvp, pve, improve, techinical",
          "<b>Topic 4</b><br>Words: pvp, lvl, meter, contack, replayabylity",
          "<b>Topic 4</b><br>Words: pvp, rebalance, limit, total, crowd",
          "<b>Topic 4</b><br>Words: pvp, desynchronization, handedly, medal, dire",
          "<b>Topic 4</b><br>Words: nitpick, pvm, hatemail, sweaty, over",
          "<b>Topic 4</b><br>Words: pvp, inst, optional, involuntary, ending",
          "<b>Topic 4</b><br>Words: pvp, player, playtime, spurg, sadly",
          "<b>Topic 4</b><br>Words: pvp, disgrase, terribble, pve, wise",
          "<b>Topic 4</b><br>Words: pvp, hundo, coop, memory, rule",
          "<b>Topic 4</b><br>Words: pvp, afwul, pve, host, multiplayer",
          "<b>Topic 4</b><br>Words: fromsofware, integral, ashamed, treat, portion",
          "<b>Topic 4</b><br>Words: beg, pvp, nadir, franchise, embodiment",
          "<b>Topic 4</b><br>Words: noobslayer, pvp, sweaty, toon, navigation",
          "<b>Topic 4</b><br>Words: lordvessel, tailor, roadblock, detriment, fodder",
          "<b>Topic 4</b><br>Words: pvp, hord, flooded, boo, stale"
         ],
         "marker": {
          "color": "#D55E00"
         },
         "mode": "lines",
         "name": "4_pvp_pve_lag_player",
         "type": "scatter",
         "x": [
          "2014-04-20T22:58:39.521999",
          "2014-11-10T23:59:24.900000",
          "2015-05-30T00:58:58.800000",
          "2015-12-16T01:58:32.700000",
          "2016-07-03T02:58:06.600000",
          "2017-01-19T03:57:40.500000",
          "2017-08-07T04:57:14.400000",
          "2018-02-23T05:56:48.300000",
          "2018-09-11T06:56:22.200000",
          "2019-03-30T07:55:56.100000",
          "2019-10-16T08:55:30",
          "2020-05-03T09:55:03.900000",
          "2020-11-19T10:54:37.800000",
          "2021-06-07T11:54:11.700000",
          "2021-12-24T12:53:45.600000",
          "2022-07-12T13:53:19.500000",
          "2023-01-28T14:52:53.400000",
          "2023-08-16T15:52:27.300000",
          "2024-03-03T16:52:01.200000",
          "2024-09-19T17:51:35.100000"
         ],
         "y": [
          41,
          21,
          10,
          6,
          3,
          5,
          3,
          8,
          4,
          2,
          4,
          9,
          5,
          9,
          7,
          1,
          4,
          4,
          2,
          3
         ]
        },
        {
         "hoverinfo": "text",
         "hovertext": [
          "<b>Topic 5</b><br>Words: buy, netcote, awful, disgrace, rubbish",
          "<b>Topic 5</b><br>Words: buy, twice, ecspect, ptd, mistake",
          "<b>Topic 5</b><br>Words: buy, booooring, tard, upd, shi",
          "<b>Topic 5</b><br>Words: buy, mad, uncanny, twice, purchase",
          "<b>Topic 5</b><br>Words: twice, buy, nice, literally, point",
          "<b>Topic 5</b><br>Words: orignal, buy, imitation, st, realize",
          "<b>Topic 5</b><br>Words: unsubscribe, walmart, humble, buy, accidentally",
          "<b>Topic 5</b><br>Words: diehard, incomplete, buy, begin, piece",
          "<b>Topic 5</b><br>Words: purchase, godrays, buy, watch, believe",
          "<b>Topic 5</b><br>Words: overrated, market, horse, shit, buy",
          "<b>Topic 5</b><br>Words: buy, fuckk, peopol, warn, definetly",
          "<b>Topic 5</b><br>Words: buy, posibly, catalogue, fucking, ing",
          "<b>Topic 5</b><br>Words: buy, inevitable, suffering, suck, purchase",
          "<b>Topic 5</b><br>Words: buy, unfear, financial, sale, oops",
          "<b>Topic 5</b><br>Words: buy, lmao, cuz, suck, plimplimplim",
          "<b>Topic 5</b><br>Words: celeste, walmart, buy, pos, decade",
          "<b>Topic 5</b><br>Words: buy, sale, robbery, highway, fuckery",
          "<b>Topic 5</b><br>Words: buy, aliexpress, plz, thinking, commit",
          "<b>Topic 5</b><br>Words: buy, shi, sanity, logic, videogame",
          "<b>Topic 5</b><br>Words: buy, originl, sex, pos, gavlan"
         ],
         "marker": {
          "color": "#0072B2"
         },
         "mode": "lines",
         "name": "5_buy_purchase_dont_instead",
         "type": "scatter",
         "x": [
          "2014-04-20T22:58:39.521999",
          "2014-11-10T23:59:24.900000",
          "2015-05-30T00:58:58.800000",
          "2015-12-16T01:58:32.700000",
          "2016-07-03T02:58:06.600000",
          "2017-01-19T03:57:40.500000",
          "2017-08-07T04:57:14.400000",
          "2018-02-23T05:56:48.300000",
          "2018-09-11T06:56:22.200000",
          "2019-03-30T07:55:56.100000",
          "2019-10-16T08:55:30",
          "2020-05-03T09:55:03.900000",
          "2020-11-19T10:54:37.800000",
          "2021-06-07T11:54:11.700000",
          "2021-12-24T12:53:45.600000",
          "2022-07-12T13:53:19.500000",
          "2023-01-28T14:52:53.400000",
          "2023-08-16T15:52:27.300000",
          "2024-03-03T16:52:01.200000",
          "2024-09-19T17:51:35.100000"
         ],
         "y": [
          9,
          18,
          6,
          7,
          2,
          4,
          2,
          3,
          3,
          1,
          7,
          7,
          9,
          9,
          5,
          6,
          11,
          11,
          8,
          9
         ]
        },
        {
         "hoverinfo": "text",
         "hovertext": [
          "<b>Topic 6</b><br>Words: bad, haha, sorry, yeah, somehow",
          "<b>Topic 6</b><br>Words: bad, haha, sorry, yeah, somehow",
          "<b>Topic 6</b><br>Words: bad, haha, sorry, yeah, somehow",
          "<b>Topic 6</b><br>Words: bad, haha, sorry, yeah, somehow",
          "<b>Topic 6</b><br>Words: bad, haha, sorry, yeah, somehow",
          "<b>Topic 6</b><br>Words: bad, haha, sorry, yeah, somehow",
          "<b>Topic 6</b><br>Words: bad, haha, sorry, yeah, somehow",
          "<b>Topic 6</b><br>Words: bad, haha, sorry, yeah, somehow",
          "<b>Topic 6</b><br>Words: bad, haha, sorry, yeah, somehow",
          "<b>Topic 6</b><br>Words: bad, haha, sorry, yeah, somehow",
          "<b>Topic 6</b><br>Words: bad, haha, sorry, yeah, somehow",
          "<b>Topic 6</b><br>Words: bad, sorry, haha, yeah, somehow",
          "<b>Topic 6</b><br>Words: bad, worst, haha, sorry, yeah",
          "<b>Topic 6</b><br>Words: bad, fuck, haha, sorry, yeah",
          "<b>Topic 6</b><br>Words: bad, haha, sorry, yeah, somehow",
          "<b>Topic 6</b><br>Words: bad, yeah, haha, sorry, somehow"
         ],
         "marker": {
          "color": "#CC79A7"
         },
         "mode": "lines",
         "name": "6_bad_haha_sorry_yeah",
         "type": "scatter",
         "x": [
          "2014-04-20T22:58:39.521999",
          "2016-07-03T02:58:06.600000",
          "2017-01-19T03:57:40.500000",
          "2017-08-07T04:57:14.400000",
          "2018-02-23T05:56:48.300000",
          "2019-03-30T07:55:56.100000",
          "2019-10-16T08:55:30",
          "2020-05-03T09:55:03.900000",
          "2020-11-19T10:54:37.800000",
          "2021-06-07T11:54:11.700000",
          "2021-12-24T12:53:45.600000",
          "2022-07-12T13:53:19.500000",
          "2023-01-28T14:52:53.400000",
          "2023-08-16T15:52:27.300000",
          "2024-03-03T16:52:01.200000",
          "2024-09-19T17:51:35.100000"
         ],
         "y": [
          2,
          1,
          2,
          3,
          1,
          4,
          7,
          8,
          10,
          20,
          14,
          4,
          12,
          7,
          21,
          12
         ]
        },
        {
         "hoverinfo": "text",
         "hovertext": [
          "<b>Topic 7</b><br>Words: play, soulless, bad, horrid, merely",
          "<b>Topic 7</b><br>Words: suck, ever, bad, play, game",
          "<b>Topic 7</b><br>Words: immesly, ea, bs, hopefully, alot",
          "<b>Topic 7</b><br>Words: sure, want, play, good, bad",
          "<b>Topic 7</b><br>Words: believe, absolutely, horrible, enjoy, look",
          "<b>Topic 7</b><br>Words: nope, bad, entire, life, come",
          "<b>Topic 7</b><br>Words: tread, unpolished, lot, like, bad",
          "<b>Topic 7</b><br>Words: forgetable, merit, obnoxious, suppose, honestly",
          "<b>Topic 7</b><br>Words: pathetic, joke, far, slow, lot",
          "<b>Topic 7</b><br>Words: mald, tragedy, far, bad, want",
          "<b>Topic 7</b><br>Words: damn, raff, wrld, riff, juice",
          "<b>Topic 7</b><br>Words: becouse, legend, league, bad, play",
          "<b>Topic 7</b><br>Words: trolling, fucking, depression, severe, bad",
          "<b>Topic 7</b><br>Words: bad, play, atrocity, understatement, rape",
          "<b>Topic 7</b><br>Words: bad, sarcastic, ever, psychopath, immaculate",
          "<b>Topic 7</b><br>Words: displeasure, kalle, ranger, imagine, bad",
          "<b>Topic 7</b><br>Words: bad, ga, play, fk, ever",
          "<b>Topic 7</b><br>Words: bad, axis, play, unironically, joke",
          "<b>Topic 7</b><br>Words: bad, play, ever, charity, underappreciated",
          "<b>Topic 7</b><br>Words: bad, fucking, ever, play, needle"
         ],
         "marker": {
          "color": "#E69F00"
         },
         "mode": "lines",
         "name": "7_ever_bad_play_game",
         "type": "scatter",
         "x": [
          "2014-04-20T22:58:39.521999",
          "2014-11-10T23:59:24.900000",
          "2015-05-30T00:58:58.800000",
          "2015-12-16T01:58:32.700000",
          "2016-07-03T02:58:06.600000",
          "2017-01-19T03:57:40.500000",
          "2017-08-07T04:57:14.400000",
          "2018-02-23T05:56:48.300000",
          "2018-09-11T06:56:22.200000",
          "2019-03-30T07:55:56.100000",
          "2019-10-16T08:55:30",
          "2020-05-03T09:55:03.900000",
          "2020-11-19T10:54:37.800000",
          "2021-06-07T11:54:11.700000",
          "2021-12-24T12:53:45.600000",
          "2022-07-12T13:53:19.500000",
          "2023-01-28T14:52:53.400000",
          "2023-08-16T15:52:27.300000",
          "2024-03-03T16:52:01.200000",
          "2024-09-19T17:51:35.100000"
         ],
         "y": [
          7,
          1,
          2,
          1,
          2,
          3,
          2,
          3,
          2,
          1,
          3,
          7,
          6,
          14,
          8,
          7,
          10,
          11,
          21,
          15
         ]
        },
        {
         "hoverinfo": "text",
         "hovertext": [
          "<b>Topic 8</b><br>Words: design, poorly, code, downie, sculpture",
          "<b>Topic 8</b><br>Words: cetain, testing, unchanged, inadequate, base",
          "<b>Topic 8</b><br>Words: leashing, processing, aggro, aggravating, massively",
          "<b>Topic 8</b><br>Words: gip, endedness, railroad, design, quarter",
          "<b>Topic 8</b><br>Words: recycle, embarresment, enviornment, soft, stereotypical",
          "<b>Topic 8</b><br>Words: design, level, leveling, boring, zzzzz",
          "<b>Topic 8</b><br>Words: fetus, autistic, puke, brain, atmosphere",
          "<b>Topic 8</b><br>Words: installment, zone, clunky, terrible, series",
          "<b>Topic 8</b><br>Words: mechanism, link, previous, stupid, place",
          "<b>Topic 8</b><br>Words: ass, reskin, annoying, design, boss",
          "<b>Topic 8</b><br>Words: design, ooooof, level, bulky, grim",
          "<b>Topic 8</b><br>Words: design, aid, level, primal, aroung",
          "<b>Topic 8</b><br>Words: design, level, bofyh, hexxing, guerilla",
          "<b>Topic 8</b><br>Words: tweezer, adaptibilty, astonishing, design, trait",
          "<b>Topic 8</b><br>Words: design, stage, monkie, supreme, squad",
          "<b>Topic 8</b><br>Words: design, boring, inhumanely, terry, sadistically",
          "<b>Topic 8</b><br>Words: design, boss, recycle, level, boring",
          "<b>Topic 8</b><br>Words: design, reprobate, unpatched, level, daddy",
          "<b>Topic 8</b><br>Words: design, level, telegraphs, surreal, realistically"
         ],
         "marker": {
          "color": "#56B4E9"
         },
         "mode": "lines",
         "name": "8_design_level_boring_boss",
         "type": "scatter",
         "x": [
          "2014-04-20T22:58:39.521999",
          "2014-11-10T23:59:24.900000",
          "2015-05-30T00:58:58.800000",
          "2015-12-16T01:58:32.700000",
          "2016-07-03T02:58:06.600000",
          "2017-08-07T04:57:14.400000",
          "2018-02-23T05:56:48.300000",
          "2018-09-11T06:56:22.200000",
          "2019-03-30T07:55:56.100000",
          "2019-10-16T08:55:30",
          "2020-05-03T09:55:03.900000",
          "2020-11-19T10:54:37.800000",
          "2021-06-07T11:54:11.700000",
          "2021-12-24T12:53:45.600000",
          "2022-07-12T13:53:19.500000",
          "2023-01-28T14:52:53.400000",
          "2023-08-16T15:52:27.300000",
          "2024-03-03T16:52:01.200000",
          "2024-09-19T17:51:35.100000"
         ],
         "y": [
          8,
          4,
          1,
          3,
          5,
          8,
          2,
          1,
          1,
          5,
          6,
          9,
          11,
          5,
          6,
          8,
          16,
          13,
          11
         ]
        },
        {
         "hoverinfo": "text",
         "hovertext": [
          "<b>Topic 9</b><br>Words: microphone, rockabnd, shameful, support, elden",
          "<b>Topic 9</b><br>Words: elden, ring, finish, bad, play",
          "<b>Topic 9</b><br>Words: doo, eldin, ring, elden, reduction",
          "<b>Topic 9</b><br>Words: elden, ring, alva, helmet, lean",
          "<b>Topic 9</b><br>Words: elden, ring, multiplayer, server, garbage",
          "<b>Topic 9</b><br>Words: elden, ring, company, widen, albanian",
          "<b>Topic 9</b><br>Words: elden, ring, lost, sinner, attend",
          "<b>Topic 9</b><br>Words: elden, ring, newfound, enjoyable, boogaloo",
          "<b>Topic 9</b><br>Words: elden, ring, lego, elen, emjoyable",
          "<b>Topic 9</b><br>Words: elden, ring, ctrl, clinically, ii"
         ],
         "marker": {
          "color": "#009E73"
         },
         "mode": "lines",
         "name": "9_elden_ring_play_ctrl",
         "type": "scatter",
         "x": [
          "2018-02-23T05:56:48.300000",
          "2019-10-16T08:55:30",
          "2020-11-19T10:54:37.800000",
          "2021-06-07T11:54:11.700000",
          "2021-12-24T12:53:45.600000",
          "2022-07-12T13:53:19.500000",
          "2023-01-28T14:52:53.400000",
          "2023-08-16T15:52:27.300000",
          "2024-03-03T16:52:01.200000",
          "2024-09-19T17:51:35.100000"
         ],
         "y": [
          1,
          1,
          2,
          3,
          30,
          10,
          9,
          14,
          17,
          12
         ]
        },
        {
         "hoverinfo": "text",
         "hovertext": [
          "<b>Topic 10</b><br>Words: version, dx, buy, release, new",
          "<b>Topic 10</b><br>Words: upgrade, version, dx, price, new",
          "<b>Topic 10</b><br>Words: software, version, release, eddition, optimize",
          "<b>Topic 10</b><br>Words: version, support, software, effectivley, metareview",
          "<b>Topic 10</b><br>Words: sudoku, squeeze, cent, loyal, software",
          "<b>Topic 10</b><br>Words: bandai, season, pass, improvment, patch",
          "<b>Topic 10</b><br>Words: compilation, sotfs, advanced, purchase, exist",
          "<b>Topic 10</b><br>Words: registration, opinion, come, hit, version",
          "<b>Topic 10</b><br>Words: agent, undeniable, convince, recently, pay",
          "<b>Topic 10</b><br>Words: dx, split, eerie, community, troublesome"
         ],
         "marker": {
          "color": "#F0E442"
         },
         "mode": "lines",
         "name": "10_version_dx_release_buy",
         "type": "scatter",
         "x": [
          "2014-11-10T23:59:24.900000",
          "2015-05-30T00:58:58.800000",
          "2015-12-16T01:58:32.700000",
          "2016-07-03T02:58:06.600000",
          "2018-02-23T05:56:48.300000",
          "2018-09-11T06:56:22.200000",
          "2020-11-19T10:54:37.800000",
          "2021-06-07T11:54:11.700000",
          "2022-07-12T13:53:19.500000",
          "2023-08-16T15:52:27.300000"
         ],
         "y": [
          72,
          10,
          4,
          2,
          1,
          1,
          1,
          1,
          1,
          2
         ]
        },
        {
         "hoverinfo": "text",
         "hovertext": [
          "<b>Topic 11</b><br>Words: challenge, flaw, button, certain, blizzard",
          "<b>Topic 11</b><br>Words: random, quit, chariot, consume, worthless",
          "<b>Topic 11</b><br>Words: fighting, clearly, punishment, continue, awfully",
          "<b>Topic 11</b><br>Words: annoying, difficult, die, hit, dodge",
          "<b>Topic 11</b><br>Words: loss, permanent, die, farming, semi",
          "<b>Topic 11</b><br>Words: forgive, chain, advantage, bode, danage",
          "<b>Topic 11</b><br>Words: disc, guysss, compensation, hard, imitate",
          "<b>Topic 11</b><br>Words: ambush, teleporting, tooth, sap, omni",
          "<b>Topic 11</b><br>Words: mistake, invincible, bossfight, second, kill",
          "<b>Topic 11</b><br>Words: absurd, stagnate, gultch, pattern, slow",
          "<b>Topic 11</b><br>Words: chase, detection, mist, ight, awful",
          "<b>Topic 11</b><br>Words: combo, die, dodge, trigger, weapon",
          "<b>Topic 11</b><br>Words: damage, dig, boss, regular, easy",
          "<b>Topic 11</b><br>Words: vit, shield, pit, completely, boss",
          "<b>Topic 11</b><br>Words: health, boss, die, healing, skill",
          "<b>Topic 11</b><br>Words: gear, orange, random, remedied, goop",
          "<b>Topic 11</b><br>Words: starting, class, loadout, ragdoll, stat",
          "<b>Topic 11</b><br>Words: skill, boss, patience, wich, define",
          "<b>Topic 11</b><br>Words: flask, irritation, skill, enemys, guide",
          "<b>Topic 11</b><br>Words: stat, health, ridiculous, terrible, hitbox"
         ],
         "marker": {
          "color": "#D55E00"
         },
         "mode": "lines",
         "name": "11_die_enemy_hit_dodge",
         "type": "scatter",
         "x": [
          "2014-04-20T22:58:39.521999",
          "2014-11-10T23:59:24.900000",
          "2015-05-30T00:58:58.800000",
          "2015-12-16T01:58:32.700000",
          "2016-07-03T02:58:06.600000",
          "2017-01-19T03:57:40.500000",
          "2017-08-07T04:57:14.400000",
          "2018-02-23T05:56:48.300000",
          "2018-09-11T06:56:22.200000",
          "2019-03-30T07:55:56.100000",
          "2019-10-16T08:55:30",
          "2020-05-03T09:55:03.900000",
          "2020-11-19T10:54:37.800000",
          "2021-06-07T11:54:11.700000",
          "2021-12-24T12:53:45.600000",
          "2022-07-12T13:53:19.500000",
          "2023-01-28T14:52:53.400000",
          "2023-08-16T15:52:27.300000",
          "2024-03-03T16:52:01.200000",
          "2024-09-19T17:51:35.100000"
         ],
         "y": [
          5,
          2,
          1,
          11,
          1,
          4,
          3,
          3,
          2,
          3,
          4,
          6,
          6,
          5,
          8,
          3,
          8,
          4,
          8,
          7
         ]
        },
        {
         "hoverinfo": "text",
         "hovertext": [
          "<b>Topic 12</b><br>Words: free, play, dont, minute, fun",
          "<b>Topic 12</b><br>Words: dont, peice, naked, finger, casual",
          "<b>Topic 12</b><br>Words: desperation, generator, dont, heart, play",
          "<b>Topic 12</b><br>Words: gash, dont, ng, play, id",
          "<b>Topic 12</b><br>Words: one, play, dont, id, else",
          "<b>Topic 12</b><br>Words: play, feel, good, dont, id",
          "<b>Topic 12</b><br>Words: dont, gray, chinese, play, knock",
          "<b>Topic 12</b><br>Words: dont, grater, play, cheese, ball",
          "<b>Topic 12</b><br>Words: play, dont, id, else, grater",
          "<b>Topic 12</b><br>Words: seek, dont, play, know, fun",
          "<b>Topic 12</b><br>Words: dont, play, hbomberguy, nerd, optimal",
          "<b>Topic 12</b><br>Words: play, heck, dont, actual, literally",
          "<b>Topic 12</b><br>Words: dont, scenery, play, chore, downgrade",
          "<b>Topic 12</b><br>Words: thank, play, dont, stop, instead",
          "<b>Topic 12</b><br>Words: dont, play, caress, grater, iq",
          "<b>Topic 12</b><br>Words: play, dont, retard, miserable, risk",
          "<b>Topic 12</b><br>Words: dont, play, pearly, genital, blender"
         ],
         "marker": {
          "color": "#0072B2"
         },
         "mode": "lines",
         "name": "12_dont_play_id_else",
         "type": "scatter",
         "x": [
          "2014-04-20T22:58:39.521999",
          "2014-11-10T23:59:24.900000",
          "2015-12-16T01:58:32.700000",
          "2016-07-03T02:58:06.600000",
          "2017-08-07T04:57:14.400000",
          "2018-09-11T06:56:22.200000",
          "2019-03-30T07:55:56.100000",
          "2019-10-16T08:55:30",
          "2020-05-03T09:55:03.900000",
          "2020-11-19T10:54:37.800000",
          "2021-06-07T11:54:11.700000",
          "2021-12-24T12:53:45.600000",
          "2022-07-12T13:53:19.500000",
          "2023-01-28T14:52:53.400000",
          "2023-08-16T15:52:27.300000",
          "2024-03-03T16:52:01.200000",
          "2024-09-19T17:51:35.100000"
         ],
         "y": [
          4,
          1,
          3,
          1,
          1,
          2,
          4,
          4,
          1,
          3,
          12,
          9,
          5,
          5,
          13,
          10,
          10
         ]
        },
        {
         "hoverinfo": "text",
         "hovertext": [
          "<b>Topic 13</b><br>Words: trash, actually, go, bin, muk",
          "<b>Topic 13</b><br>Words: trash, mob, bin, muk, whacanisay",
          "<b>Topic 13</b><br>Words: trash, bin, muk, whacanisay, schholar",
          "<b>Topic 13</b><br>Words: trash, bb, plain, simple, core",
          "<b>Topic 13</b><br>Words: trash, bargain, bin, rot, let",
          "<b>Topic 13</b><br>Words: trash, bin, muk, whacanisay, schholar",
          "<b>Topic 13</b><br>Words: trash, bin, muk, whacanisay, schholar",
          "<b>Topic 13</b><br>Words: trash, whacanisay, disgust, bin, muk",
          "<b>Topic 13</b><br>Words: trash, bin, muk, whacanisay, schholar",
          "<b>Topic 13</b><br>Words: trash, bin, life, garbage, waste",
          "<b>Topic 13</b><br>Words: trash, actual, bin, muk, gatekeeping",
          "<b>Topic 13</b><br>Words: trash, bin, dino, rex, muk",
          "<b>Topic 13</b><br>Words: trash, iii, bug, break, like",
          "<b>Topic 13</b><br>Words: trash, iii, rush, absolutely, compare",
          "<b>Topic 13</b><br>Words: trash, muk, bin, whacanisay, schholar",
          "<b>Topic 13</b><br>Words: trash, schholar, bin, tl, dr",
          "<b>Topic 13</b><br>Words: trash, fcking, ass, stupid, far",
          "<b>Topic 13</b><br>Words: trash, dogpile, glencour, masterlass, thank",
          "<b>Topic 13</b><br>Words: trash, hella, thank, literally, experience"
         ],
         "marker": {
          "color": "#CC79A7"
         },
         "mode": "lines",
         "name": "13_trash_bin_muk_whacanisay",
         "type": "scatter",
         "x": [
          "2014-04-20T22:58:39.521999",
          "2014-11-10T23:59:24.900000",
          "2015-12-16T01:58:32.700000",
          "2016-07-03T02:58:06.600000",
          "2017-01-19T03:57:40.500000",
          "2017-08-07T04:57:14.400000",
          "2018-02-23T05:56:48.300000",
          "2018-09-11T06:56:22.200000",
          "2019-03-30T07:55:56.100000",
          "2019-10-16T08:55:30",
          "2020-05-03T09:55:03.900000",
          "2020-11-19T10:54:37.800000",
          "2021-06-07T11:54:11.700000",
          "2021-12-24T12:53:45.600000",
          "2022-07-12T13:53:19.500000",
          "2023-01-28T14:52:53.400000",
          "2023-08-16T15:52:27.300000",
          "2024-03-03T16:52:01.200000",
          "2024-09-19T17:51:35.100000"
         ],
         "y": [
          3,
          1,
          1,
          1,
          2,
          1,
          5,
          2,
          2,
          4,
          4,
          5,
          10,
          7,
          3,
          11,
          3,
          13,
          8
         ]
        },
        {
         "hoverinfo": "text",
         "hovertext": [
          "<b>Topic 14</b><br>Words: vac, ban, cheater, hacker, cheat",
          "<b>Topic 14</b><br>Words: ban, softbanned, softban, cheater, soft",
          "<b>Topic 14</b><br>Words: ban, mod, hacker, banwave, softbanned",
          "<b>Topic 14</b><br>Words: ban, hacker, hack, unpunished, toghether",
          "<b>Topic 14</b><br>Words: ban, dxtory, mod, cheat, soft",
          "<b>Topic 14</b><br>Words: ban, malformed, wrongly, fromsoftware, automate",
          "<b>Topic 14</b><br>Words: ban, cheater, mod, enhancement, software",
          "<b>Topic 14</b><br>Words: hacker, revive, merchant, herald, emerald",
          "<b>Topic 14</b><br>Words: ban, cheater, secound, banco, amok",
          "<b>Topic 14</b><br>Words: permanently, unjustifiable, year, reply, softban",
          "<b>Topic 14</b><br>Words: anybody, online, win, realize, prepare",
          "<b>Topic 14</b><br>Words: ban, hacker, weapin, kekw, continiue",
          "<b>Topic 14</b><br>Words: cheater, ban, hacker, profile, soft",
          "<b>Topic 14</b><br>Words: security, ban, rce, exploit, computer",
          "<b>Topic 14</b><br>Words: vulnerability, fraud, rampant, ban, ptde",
          "<b>Topic 14</b><br>Words: ban, win, reshade, deserve, troubleshoot",
          "<b>Topic 14</b><br>Words: ban, cheater, anticheat, soft, save",
          "<b>Topic 14</b><br>Words: scum, ban, inventory, nsfw, nude"
         ],
         "marker": {
          "color": "#E69F00"
         },
         "mode": "lines",
         "name": "14_ban_cheater_vac_hacker",
         "type": "scatter",
         "x": [
          "2014-04-20T22:58:39.521999",
          "2014-11-10T23:59:24.900000",
          "2015-05-30T00:58:58.800000",
          "2015-12-16T01:58:32.700000",
          "2016-07-03T02:58:06.600000",
          "2017-01-19T03:57:40.500000",
          "2017-08-07T04:57:14.400000",
          "2018-02-23T05:56:48.300000",
          "2018-09-11T06:56:22.200000",
          "2019-03-30T07:55:56.100000",
          "2020-05-03T09:55:03.900000",
          "2020-11-19T10:54:37.800000",
          "2021-06-07T11:54:11.700000",
          "2021-12-24T12:53:45.600000",
          "2022-07-12T13:53:19.500000",
          "2023-01-28T14:52:53.400000",
          "2024-03-03T16:52:01.200000",
          "2024-09-19T17:51:35.100000"
         ],
         "y": [
          16,
          8,
          9,
          7,
          3,
          2,
          3,
          2,
          3,
          1,
          1,
          5,
          6,
          6,
          2,
          1,
          6,
          3
         ]
        },
        {
         "hoverinfo": "text",
         "hovertext": [
          "<b>Topic 15</b><br>Words: hitboxes, erroneous, expiration, blisteringly, element",
          "<b>Topic 15</b><br>Words: ok, netcode, word, shitty, talk",
          "<b>Topic 15</b><br>Words: responsiveness, breaking, collision, detection, hitbox",
          "<b>Topic 15</b><br>Words: phantom, terrible, see, hit, bad",
          "<b>Topic 15</b><br>Words: cake, row, eat, slap, imagine",
          "<b>Topic 15</b><br>Words: supplement, cardboard, hitbox, box, hacker",
          "<b>Topic 15</b><br>Words: thing, hitboxes, box, hitbox, hit",
          "<b>Topic 15</b><br>Words: doubleclick, input, remaster, mediocre, click",
          "<b>Topic 15</b><br>Words: unresponsive, shitty, super, spam, absolute",
          "<b>Topic 15</b><br>Words: blank, dagger, history, lol, job",
          "<b>Topic 15</b><br>Words: funciona, brincadera, disso, box, shithole",
          "<b>Topic 15</b><br>Words: size, hitbox, pisspoor, box, morrowind",
          "<b>Topic 15</b><br>Words: hotness, bust, hitboxes, lelelelel, shortsword",
          "<b>Topic 15</b><br>Words: shitty, hitbox, hitboxes, box, mechanix",
          "<b>Topic 15</b><br>Words: goofy, ah, hitbox, box, cool",
          "<b>Topic 15</b><br>Words: whack, lol, box, man, thought",
          "<b>Topic 15</b><br>Words: throb, desk, ceiling, headache, size",
          "<b>Topic 15</b><br>Words: terriuble, marketplace, box, asf, corrupt",
          "<b>Topic 15</b><br>Words: hitbox, disable, hitboxex, hit, terrible"
         ],
         "marker": {
          "color": "#56B4E9"
         },
         "mode": "lines",
         "name": "15_hitboxes_box_hitbox_hit",
         "type": "scatter",
         "x": [
          "2014-04-20T22:58:39.521999",
          "2014-11-10T23:59:24.900000",
          "2015-12-16T01:58:32.700000",
          "2016-07-03T02:58:06.600000",
          "2017-01-19T03:57:40.500000",
          "2017-08-07T04:57:14.400000",
          "2018-02-23T05:56:48.300000",
          "2018-09-11T06:56:22.200000",
          "2019-03-30T07:55:56.100000",
          "2019-10-16T08:55:30",
          "2020-05-03T09:55:03.900000",
          "2020-11-19T10:54:37.800000",
          "2021-06-07T11:54:11.700000",
          "2021-12-24T12:53:45.600000",
          "2022-07-12T13:53:19.500000",
          "2023-01-28T14:52:53.400000",
          "2023-08-16T15:52:27.300000",
          "2024-03-03T16:52:01.200000",
          "2024-09-19T17:51:35.100000"
         ],
         "y": [
          3,
          1,
          1,
          2,
          1,
          2,
          1,
          2,
          3,
          3,
          5,
          7,
          10,
          12,
          3,
          2,
          5,
          8,
          7
         ]
        },
        {
         "hoverinfo": "text",
         "hovertext": [
          "<b>Topic 16</b><br>Words: step, huge, original, take, skip",
          "<b>Topic 16</b><br>Words: firelink, miss, skip, one, walk",
          "<b>Topic 16</b><br>Words: skip, holy, ok, miss, wrong",
          "<b>Topic 16</b><br>Words: skip, conceivable, definite, misstep, firelink",
          "<b>Topic 16</b><br>Words: skip, fucking, fuck, second, suck",
          "<b>Topic 16</b><br>Words: skip, shit, one, walk, third",
          "<b>Topic 16</b><br>Words: skip, disconnect, play, okay, need",
          "<b>Topic 16</b><br>Words: skip, dsiii, imitation, pile, true",
          "<b>Topic 16</b><br>Words: skip, sixteen, tho, iii, walk",
          "<b>Topic 16</b><br>Words: skip, advice, wind, iii, walk",
          "<b>Topic 16</b><br>Words: skip, guy, one, walk, third",
          "<b>Topic 16</b><br>Words: skip, marathon, aweful, saga, das",
          "<b>Topic 16</b><br>Words: skip, artistic, fist, slog, walk",
          "<b>Topic 16</b><br>Words: skip, forlorn, spirit, cheetah, walk",
          "<b>Topic 16</b><br>Words: skip, gettin, firelink, fuckin, spare",
          "<b>Topic 16</b><br>Words: skip, dw, unabomber, bearable, prevent",
          "<b>Topic 16</b><br>Words: skip, douls, wall, sim, romhack",
          "<b>Topic 16</b><br>Words: skip, zaki, michael, cook, directional"
         ],
         "marker": {
          "color": "#009E73"
         },
         "mode": "lines",
         "name": "16_skip_one_walk_third",
         "type": "scatter",
         "x": [
          "2014-04-20T22:58:39.521999",
          "2014-11-10T23:59:24.900000",
          "2015-05-30T00:58:58.800000",
          "2015-12-16T01:58:32.700000",
          "2016-07-03T02:58:06.600000",
          "2017-01-19T03:57:40.500000",
          "2018-02-23T05:56:48.300000",
          "2018-09-11T06:56:22.200000",
          "2019-10-16T08:55:30",
          "2020-05-03T09:55:03.900000",
          "2020-11-19T10:54:37.800000",
          "2021-06-07T11:54:11.700000",
          "2021-12-24T12:53:45.600000",
          "2022-07-12T13:53:19.500000",
          "2023-01-28T14:52:53.400000",
          "2023-08-16T15:52:27.300000",
          "2024-03-03T16:52:01.200000",
          "2024-09-19T17:51:35.100000"
         ],
         "y": [
          1,
          1,
          3,
          3,
          3,
          1,
          4,
          4,
          4,
          8,
          2,
          5,
          6,
          3,
          5,
          7,
          9,
          7
         ]
        },
        {
         "hoverinfo": "text",
         "hovertext": [
          "<b>Topic 17</b><br>Words: star, series, zero, insane, wish",
          "<b>Topic 17</b><br>Words: abortion, pls, series, live, fail",
          "<b>Topic 17</b><br>Words: tv, season, series, bad, good",
          "<b>Topic 17</b><br>Words: weak, series, bad, worst, far",
          "<b>Topic 17</b><br>Words: trilogy, easy, series, bad, worst",
          "<b>Topic 17</b><br>Words: peak, favor, dead, sotfs, right",
          "<b>Topic 17</b><br>Words: boring, simply, series, slow, terrible",
          "<b>Topic 17</b><br>Words: series, anecdotal, obnoxiously, billion, evidence",
          "<b>Topic 17</b><br>Words: ebanoe, pozoriwe, series, bad, worst",
          "<b>Topic 17</b><br>Words: series, unrefined, diehard, solve, par",
          "<b>Topic 17</b><br>Words: series, renowned, submit, stain, bad",
          "<b>Topic 17</b><br>Words: series, society, prison, stain, forsaken",
          "<b>Topic 17</b><br>Words: series, masochistic, disaster, meme, kid",
          "<b>Topic 17</b><br>Words: series, godfather, far, margin, clunkiest",
          "<b>Topic 17</b><br>Words: series, accomplishment, safely, installment, doubt",
          "<b>Topic 17</b><br>Words: series, milestone, longman, undeniably, unforgettable",
          "<b>Topic 17</b><br>Words: series, quirky, yep, desperately, worst",
          "<b>Topic 17</b><br>Words: series, deserving, molest, contentious, consider",
          "<b>Topic 17</b><br>Words: series, sicken, prison, truly, parent"
         ],
         "marker": {
          "color": "#F0E442"
         },
         "mode": "lines",
         "name": "17_series_bad_worst_far",
         "type": "scatter",
         "x": [
          "2014-04-20T22:58:39.521999",
          "2014-11-10T23:59:24.900000",
          "2015-12-16T01:58:32.700000",
          "2016-07-03T02:58:06.600000",
          "2017-01-19T03:57:40.500000",
          "2017-08-07T04:57:14.400000",
          "2018-02-23T05:56:48.300000",
          "2018-09-11T06:56:22.200000",
          "2019-03-30T07:55:56.100000",
          "2019-10-16T08:55:30",
          "2020-05-03T09:55:03.900000",
          "2020-11-19T10:54:37.800000",
          "2021-06-07T11:54:11.700000",
          "2021-12-24T12:53:45.600000",
          "2022-07-12T13:53:19.500000",
          "2023-01-28T14:52:53.400000",
          "2023-08-16T15:52:27.300000",
          "2024-03-03T16:52:01.200000",
          "2024-09-19T17:51:35.100000"
         ],
         "y": [
          2,
          2,
          1,
          1,
          1,
          1,
          1,
          4,
          1,
          5,
          8,
          6,
          5,
          8,
          3,
          8,
          7,
          6,
          5
         ]
        },
        {
         "hoverinfo": "text",
         "hovertext": [
          "<b>Topic 18</b><br>Words: control, controll, suck, year, storyless",
          "<b>Topic 18</b><br>Words: awful, control, horrid, storyline, appeal",
          "<b>Topic 18</b><br>Words: emotionally, control, shitty, modern, pull",
          "<b>Topic 18</b><br>Words: control, wow, controll, horrible, alter",
          "<b>Topic 18</b><br>Words: disastrous, unusable, control, controler, atrocious",
          "<b>Topic 18</b><br>Words: control, masive, irrational, backspace, backstep",
          "<b>Topic 18</b><br>Words: control, tight, smh, unplayable, lord",
          "<b>Topic 18</b><br>Words: klabi, meh, control, terrible, shit",
          "<b>Topic 18</b><br>Words: control, alphabet, scuffed, invent, saving",
          "<b>Topic 18</b><br>Words: control, marriage, reliant, respond, response",
          "<b>Topic 18</b><br>Words: control, unplayable, horrible, suck, masterpiece",
          "<b>Topic 18</b><br>Words: control, djt, nh, dizzy, eve",
          "<b>Topic 18</b><br>Words: nice, control, look, like, unplayable",
          "<b>Topic 18</b><br>Words: unplayable, sensitive, control, camera, sensitivity",
          "<b>Topic 18</b><br>Words: ass, control, binding, hitbox, horrible",
          "<b>Topic 18</b><br>Words: insufferable, control, tho, badly, amazing",
          "<b>Topic 18</b><br>Words: awesome, amazing, crap, absolute, control",
          "<b>Topic 18</b><br>Words: awful, control, incredible, horrendous, optional",
          "<b>Topic 18</b><br>Words: control, annoying, dog, limited, shit"
         ],
         "marker": {
          "color": "#D55E00"
         },
         "mode": "lines",
         "name": "18_control_unplayable_horrible_controlls",
         "type": "scatter",
         "x": [
          "2014-04-20T22:58:39.521999",
          "2014-11-10T23:59:24.900000",
          "2015-05-30T00:58:58.800000",
          "2015-12-16T01:58:32.700000",
          "2016-07-03T02:58:06.600000",
          "2017-08-07T04:57:14.400000",
          "2018-02-23T05:56:48.300000",
          "2018-09-11T06:56:22.200000",
          "2019-03-30T07:55:56.100000",
          "2019-10-16T08:55:30",
          "2020-05-03T09:55:03.900000",
          "2020-11-19T10:54:37.800000",
          "2021-06-07T11:54:11.700000",
          "2021-12-24T12:53:45.600000",
          "2022-07-12T13:53:19.500000",
          "2023-01-28T14:52:53.400000",
          "2023-08-16T15:52:27.300000",
          "2024-03-03T16:52:01.200000",
          "2024-09-19T17:51:35.100000"
         ],
         "y": [
          16,
          3,
          2,
          4,
          3,
          4,
          3,
          2,
          7,
          4,
          6,
          4,
          1,
          3,
          3,
          2,
          1,
          3,
          3
         ]
        },
        {
         "hoverinfo": "text",
         "hovertext": [
          "<b>Topic 19</b><br>Words: screen, black, white, crash, overheat",
          "<b>Topic 19</b><br>Words: screen, laptop, image, issue, selection",
          "<b>Topic 19</b><br>Words: screen, hz, windowed, mode, refuse",
          "<b>Topic 19</b><br>Words: screen, fps, model, hz, mode",
          "<b>Topic 19</b><br>Words: screen, hz, zbook, fullscreen, monitor",
          "<b>Topic 19</b><br>Words: screen, fullscreen, program, qlitchin, monitor",
          "<b>Topic 19</b><br>Words: screen, gsync, window, hz, work",
          "<b>Topic 19</b><br>Words: monitor, dropbox, understanable, asus, crash",
          "<b>Topic 19</b><br>Words: external, tired, fullscreen, monitor, fix",
          "<b>Topic 19</b><br>Words: fullscreen, hz, fix, thousand, lame",
          "<b>Topic 19</b><br>Words: screen, hz, refresh, display, bug",
          "<b>Topic 19</b><br>Words: ultrawide, resolution, proper, support, good",
          "<b>Topic 19</b><br>Words: fps, cap, screen, hz, remaster",
          "<b>Topic 19</b><br>Words: fullscreen, laptop, restart, hz, screen",
          "<b>Topic 19</b><br>Words: fullscreen, driver, screen, refresh, install",
          "<b>Topic 19</b><br>Words: fullscreen, hz, screen, mode, amazing",
          "<b>Topic 19</b><br>Words: fullscreen, mode, desktop, screen, steamdeck",
          "<b>Topic 19</b><br>Words: screen, deck, desktop, hz, mode",
          "<b>Topic 19</b><br>Words: doesen, monitor, startup, reinstall, tv",
          "<b>Topic 19</b><br>Words: screen, fullscreen, inifinite, taskbar, capped"
         ],
         "marker": {
          "color": "#0072B2"
         },
         "mode": "lines",
         "name": "19_screen_fullscreen_hz_monitor",
         "type": "scatter",
         "x": [
          "2014-04-20T22:58:39.521999",
          "2014-11-10T23:59:24.900000",
          "2015-05-30T00:58:58.800000",
          "2015-12-16T01:58:32.700000",
          "2016-07-03T02:58:06.600000",
          "2017-01-19T03:57:40.500000",
          "2017-08-07T04:57:14.400000",
          "2018-02-23T05:56:48.300000",
          "2018-09-11T06:56:22.200000",
          "2019-03-30T07:55:56.100000",
          "2019-10-16T08:55:30",
          "2020-05-03T09:55:03.900000",
          "2020-11-19T10:54:37.800000",
          "2021-06-07T11:54:11.700000",
          "2021-12-24T12:53:45.600000",
          "2022-07-12T13:53:19.500000",
          "2023-01-28T14:52:53.400000",
          "2023-08-16T15:52:27.300000",
          "2024-03-03T16:52:01.200000",
          "2024-09-19T17:51:35.100000"
         ],
         "y": [
          8,
          7,
          1,
          3,
          4,
          4,
          6,
          2,
          1,
          5,
          4,
          1,
          4,
          4,
          4,
          2,
          6,
          4,
          1,
          3
         ]
        },
        {
         "hoverinfo": "text",
         "hovertext": [
          "<b>Topic 20</b><br>Words: shit, crap, utter, wtf, dis",
          "<b>Topic 20</b><br>Words: shit, crap, wtf, dis, mom",
          "<b>Topic 20</b><br>Words: shit, crap, wtf, dis, mom",
          "<b>Topic 20</b><br>Words: shit, crap, wtf, dis, mom",
          "<b>Topic 20</b><br>Words: shit, crap, wtf, dis, mom",
          "<b>Topic 20</b><br>Words: crap, shit, wtf, dis, mom",
          "<b>Topic 20</b><br>Words: shit, honestly, crap, wtf, dis",
          "<b>Topic 20</b><br>Words: shit, crap, wtf, dis, mom",
          "<b>Topic 20</b><br>Words: shit, crap, wtf, dis, mom",
          "<b>Topic 20</b><br>Words: shit, crap, wtf, dis, mom",
          "<b>Topic 20</b><br>Words: shit, mom, ur, wtf, crap",
          "<b>Topic 20</b><br>Words: shit, crap, wtf, dis, mom",
          "<b>Topic 20</b><br>Words: shit, wtf, pure, kinda, crap",
          "<b>Topic 20</b><br>Words: shit, lmao, epic, literally, actually",
          "<b>Topic 20</b><br>Words: shit, totally, crap, wtf, dis",
          "<b>Topic 20</b><br>Words: shit, crap, wtf, dis, mom",
          "<b>Topic 20</b><br>Words: shit, crap, wtf, dis, mom",
          "<b>Topic 20</b><br>Words: shit, ii, crap, wtf, dis",
          "<b>Topic 20</b><br>Words: shit, dis, crappy, ass, crap",
          "<b>Topic 20</b><br>Words: shit, crap, wtf, dis, mom"
         ],
         "marker": {
          "color": "#CC79A7"
         },
         "mode": "lines",
         "name": "20_shit_crap_wtf_dis",
         "type": "scatter",
         "x": [
          "2014-04-20T22:58:39.521999",
          "2014-11-10T23:59:24.900000",
          "2015-05-30T00:58:58.800000",
          "2015-12-16T01:58:32.700000",
          "2016-07-03T02:58:06.600000",
          "2017-01-19T03:57:40.500000",
          "2017-08-07T04:57:14.400000",
          "2018-02-23T05:56:48.300000",
          "2018-09-11T06:56:22.200000",
          "2019-03-30T07:55:56.100000",
          "2019-10-16T08:55:30",
          "2020-05-03T09:55:03.900000",
          "2020-11-19T10:54:37.800000",
          "2021-06-07T11:54:11.700000",
          "2021-12-24T12:53:45.600000",
          "2022-07-12T13:53:19.500000",
          "2023-01-28T14:52:53.400000",
          "2023-08-16T15:52:27.300000",
          "2024-03-03T16:52:01.200000",
          "2024-09-19T17:51:35.100000"
         ],
         "y": [
          4,
          2,
          1,
          1,
          2,
          1,
          1,
          1,
          1,
          1,
          3,
          2,
          6,
          5,
          5,
          5,
          5,
          6,
          13,
          4
         ]
        },
        {
         "hoverinfo": "text",
         "hovertext": [
          "<b>Topic 21</b><br>Words: soulsy, soulborne, dire, goodness, prequel",
          "<b>Topic 21</b><br>Words: exponentially, garbage, soulsborne, bother, rest",
          "<b>Topic 21</b><br>Words: thuroughly, woth, presumably, soulsborne, shot",
          "<b>Topic 21</b><br>Words: soulsborne, response, characater, agonizing, bloodborne",
          "<b>Topic 21</b><br>Words: soulsborne, vissualy, somewhow, previouse, unpleyeable",
          "<b>Topic 21</b><br>Words: soulsborne, manage, dead, help, server",
          "<b>Topic 21</b><br>Words: soulsborne, sekiro, oppose, jeremiah, qi",
          "<b>Topic 21</b><br>Words: soulsborne, annoying, forgetable, overlook, bunch",
          "<b>Topic 21</b><br>Words: soulsborne, sekiro, ps, franchise, reuse",
          "<b>Topic 21</b><br>Words: soulsborne, social, sotfs, veteran, bs",
          "<b>Topic 21</b><br>Words: soulsborne, dice, screwy, decision, cannon",
          "<b>Topic 21</b><br>Words: soulsborne, weeb, whilst, videogamey, stripper",
          "<b>Topic 21</b><br>Words: soulsborne, brown, hold, soulslike, kill",
          "<b>Topic 21</b><br>Words: soulsborne, soulslike, ironkeep, uniqueness, bane",
          "<b>Topic 21</b><br>Words: soulsborne, replay, fully, soulsgame, aight"
         ],
         "marker": {
          "color": "#E69F00"
         },
         "mode": "lines",
         "name": "21_soulsborne_game_sekiro_play",
         "type": "scatter",
         "x": [
          "2017-01-19T03:57:40.500000",
          "2017-08-07T04:57:14.400000",
          "2018-02-23T05:56:48.300000",
          "2018-09-11T06:56:22.200000",
          "2019-03-30T07:55:56.100000",
          "2019-10-16T08:55:30",
          "2020-05-03T09:55:03.900000",
          "2020-11-19T10:54:37.800000",
          "2021-06-07T11:54:11.700000",
          "2021-12-24T12:53:45.600000",
          "2022-07-12T13:53:19.500000",
          "2023-01-28T14:52:53.400000",
          "2023-08-16T15:52:27.300000",
          "2024-03-03T16:52:01.200000",
          "2024-09-19T17:51:35.100000"
         ],
         "y": [
          2,
          1,
          1,
          3,
          3,
          1,
          9,
          4,
          7,
          7,
          5,
          7,
          9,
          4,
          6
         ]
        },
        {
         "hoverinfo": "text",
         "hovertext": [
          "<b>Topic 22</b><br>Words: serls, derk, durrrrrr, lewk, fray",
          "<b>Topic 22</b><br>Words: suprise, lol, hidetaka, dissapointment, blood",
          "<b>Topic 22</b><br>Words: miyazaki, challanage, release, hidetaka, incredible",
          "<b>Topic 22</b><br>Words: miyazaki, ect, director, designt, strangly",
          "<b>Topic 22</b><br>Words: leadership, fluster, twofold, semblence, miyazaki",
          "<b>Topic 22</b><br>Words: novel, english, depression, japanese, szpital",
          "<b>Topic 22</b><br>Words: miyazaki, safetly, bullsth, nope, borring",
          "<b>Topic 22</b><br>Words: tattoo, series, weight, phenomenal, genuinely",
          "<b>Topic 22</b><br>Words: miyazaki, remade, ck, tty, bake",
          "<b>Topic 22</b><br>Words: sequel, miyazaki, destine, exp, understandable",
          "<b>Topic 22</b><br>Words: miyazaki, hidetaka, sinner, catchy, quallity",
          "<b>Topic 22</b><br>Words: unimaginitive, novelty, miyazaki, sentiment, glaringly",
          "<b>Topic 22</b><br>Words: miyazaki, lmaoo, cozy, berzerk, vagueness",
          "<b>Topic 22</b><br>Words: miyazaki, direct, self, exclude, afront",
          "<b>Topic 22</b><br>Words: miyazaki, bong, miraculous, inordinate, animal",
          "<b>Topic 22</b><br>Words: miyazaki, stoopidass, directionless, freddy, abvious",
          "<b>Topic 22</b><br>Words: miyazaki, avatar, meter, piece, masterpiece",
          "<b>Topic 22</b><br>Words: miyazaki, direct, hidetaka, polish, series",
          "<b>Topic 22</b><br>Words: miyazaki, bbc, clearly, masterpiece, goatzaki"
         ],
         "marker": {
          "color": "#56B4E9"
         },
         "mode": "lines",
         "name": "22_miyazaki_hidetaka_direct_series",
         "type": "scatter",
         "x": [
          "2014-04-20T22:58:39.521999",
          "2014-11-10T23:59:24.900000",
          "2015-05-30T00:58:58.800000",
          "2015-12-16T01:58:32.700000",
          "2016-07-03T02:58:06.600000",
          "2017-08-07T04:57:14.400000",
          "2018-02-23T05:56:48.300000",
          "2018-09-11T06:56:22.200000",
          "2019-03-30T07:55:56.100000",
          "2019-10-16T08:55:30",
          "2020-05-03T09:55:03.900000",
          "2020-11-19T10:54:37.800000",
          "2021-06-07T11:54:11.700000",
          "2021-12-24T12:53:45.600000",
          "2022-07-12T13:53:19.500000",
          "2023-01-28T14:52:53.400000",
          "2023-08-16T15:52:27.300000",
          "2024-03-03T16:52:01.200000",
          "2024-09-19T17:51:35.100000"
         ],
         "y": [
          1,
          1,
          4,
          4,
          1,
          3,
          1,
          1,
          3,
          2,
          4,
          1,
          4,
          3,
          2,
          4,
          7,
          12,
          5
         ]
        },
        {
         "hoverinfo": "text",
         "hovertext": [
          "<b>Topic 23</b><br>Words: suck, bravo, heaven, team, high",
          "<b>Topic 23</b><br>Words: suck, bravo, sucker, heaven, salty",
          "<b>Topic 23</b><br>Words: suck, bravo, sucker, heaven, salty",
          "<b>Topic 23</b><br>Words: suck, bravo, sucker, heaven, salty",
          "<b>Topic 23</b><br>Words: suck, xd, bravo, sucker, heaven",
          "<b>Topic 23</b><br>Words: suck, bravo, sucker, heaven, salty",
          "<b>Topic 23</b><br>Words: suck, bed, bravo, sucker, heaven",
          "<b>Topic 23</b><br>Words: suck, bravo, sucker, heaven, salty",
          "<b>Topic 23</b><br>Words: suck, hard, fuck, bravo, sucker",
          "<b>Topic 23</b><br>Words: suck, salty, nut, dare, bravo",
          "<b>Topic 23</b><br>Words: suck, sucks, right, ii, people",
          "<b>Topic 23</b><br>Words: suck, sucker, lmao, major, ass",
          "<b>Topic 23</b><br>Words: suck, bravo, sucker, heaven, salty",
          "<b>Topic 23</b><br>Words: suck, bravo, sucker, heaven, salty",
          "<b>Topic 23</b><br>Words: suck, horse, lie, actual, stop",
          "<b>Topic 23</b><br>Words: suck, bravo, sucker, heaven, salty",
          "<b>Topic 23</b><br>Words: suck, hear, bravo, sucker, heaven",
          "<b>Topic 23</b><br>Words: suck, attention, man, pay, tell"
         ],
         "marker": {
          "color": "#009E73"
         },
         "mode": "lines",
         "name": "23_suck_bravo_sucker_heaven",
         "type": "scatter",
         "x": [
          "2014-04-20T22:58:39.521999",
          "2014-11-10T23:59:24.900000",
          "2015-12-16T01:58:32.700000",
          "2016-07-03T02:58:06.600000",
          "2017-01-19T03:57:40.500000",
          "2017-08-07T04:57:14.400000",
          "2018-02-23T05:56:48.300000",
          "2018-09-11T06:56:22.200000",
          "2019-03-30T07:55:56.100000",
          "2020-05-03T09:55:03.900000",
          "2020-11-19T10:54:37.800000",
          "2021-06-07T11:54:11.700000",
          "2021-12-24T12:53:45.600000",
          "2022-07-12T13:53:19.500000",
          "2023-01-28T14:52:53.400000",
          "2023-08-16T15:52:27.300000",
          "2024-03-03T16:52:01.200000",
          "2024-09-19T17:51:35.100000"
         ],
         "y": [
          4,
          1,
          1,
          1,
          1,
          2,
          3,
          1,
          2,
          5,
          3,
          9,
          3,
          2,
          7,
          2,
          8,
          7
         ]
        },
        {
         "hoverinfo": "text",
         "hovertext": [
          "<b>Topic 24</b><br>Words: horrrible, garbage, retarded, pile, ass",
          "<b>Topic 24</b><br>Words: challange, garbage, cost, avoid, skill",
          "<b>Topic 24</b><br>Words: replay, garbage, trash, instead, buy",
          "<b>Topic 24</b><br>Words: mad, trash, piss, super, absolutely",
          "<b>Topic 24</b><br>Words: garbage, appreciate, compare, gameplay, trash",
          "<b>Topic 24</b><br>Words: garbage, compare, well, time, one",
          "<b>Topic 24</b><br>Words: rubbish, beholder, utility, man, trash",
          "<b>Topic 24</b><br>Words: trash, well, like, garbage, rubbish",
          "<b>Topic 24</b><br>Words: trash, buy, garbage, rubbish, pile",
          "<b>Topic 24</b><br>Words: sicne, trash, chaotic, ist, dear",
          "<b>Topic 24</b><br>Words: trash, garbage, originality, baby, freaking",
          "<b>Topic 24</b><br>Words: truly, garbage, god, trash, terrible",
          "<b>Topic 24</b><br>Words: trash, garbage, crap, juice, truck",
          "<b>Topic 24</b><br>Words: junky, garbage, corporate, trash, compare",
          "<b>Topic 24</b><br>Words: absolute, trash, control, fun, garbage",
          "<b>Topic 24</b><br>Words: garbage, hello, intuitive, hot, pile",
          "<b>Topic 24</b><br>Words: trash, garbage, heap, balanced, pile",
          "<b>Topic 24</b><br>Words: garbage, wost, trash, genuine, bear",
          "<b>Topic 24</b><br>Words: garbage, trash, rubbish, monk, satire"
         ],
         "marker": {
          "color": "#F0E442"
         },
         "mode": "lines",
         "name": "24_garbage_trash_rubbish_pile",
         "type": "scatter",
         "x": [
          "2014-04-20T22:58:39.521999",
          "2014-11-10T23:59:24.900000",
          "2015-12-16T01:58:32.700000",
          "2016-07-03T02:58:06.600000",
          "2017-01-19T03:57:40.500000",
          "2017-08-07T04:57:14.400000",
          "2018-02-23T05:56:48.300000",
          "2018-09-11T06:56:22.200000",
          "2019-03-30T07:55:56.100000",
          "2019-10-16T08:55:30",
          "2020-05-03T09:55:03.900000",
          "2020-11-19T10:54:37.800000",
          "2021-06-07T11:54:11.700000",
          "2021-12-24T12:53:45.600000",
          "2022-07-12T13:53:19.500000",
          "2023-01-28T14:52:53.400000",
          "2023-08-16T15:52:27.300000",
          "2024-03-03T16:52:01.200000",
          "2024-09-19T17:51:35.100000"
         ],
         "y": [
          2,
          2,
          2,
          1,
          2,
          1,
          3,
          1,
          1,
          4,
          4,
          2,
          7,
          6,
          1,
          3,
          6,
          6,
          8
         ]
        },
        {
         "hoverinfo": "text",
         "hovertext": [
          "<b>Topic 25</b><br>Words: st, unhelpful, log, recomend, stiff",
          "<b>Topic 25</b><br>Words: multimob, gfx, hassle, vs, bull",
          "<b>Topic 25</b><br>Words: tough, strict, embarrass, attitude, widely",
          "<b>Topic 25</b><br>Words: compareable, creepy, link, atmosphere, love",
          "<b>Topic 25</b><br>Words: series, trump, delusion, comparison, downhill",
          "<b>Topic 25</b><br>Words: annoying, series, constantly, fight, jackson",
          "<b>Topic 25</b><br>Words: ponderous, win, tiresome, register, comparison",
          "<b>Topic 25</b><br>Words: series, artificially, counter, bad, infuriate",
          "<b>Topic 25</b><br>Words: series, doubtful, cesspool, integrity, atmosphere",
          "<b>Topic 25</b><br>Words: series, shitload, overpopulated, dable, simulate",
          "<b>Topic 25</b><br>Words: series, absurd, romp, fluidity, simple",
          "<b>Topic 25</b><br>Words: series, fire, boss, incomparably, fluke",
          "<b>Topic 25</b><br>Words: hrs, explore, god, spend, awful",
          "<b>Topic 25</b><br>Words: series, fight, ezclap, frustrating, snooze",
          "<b>Topic 25</b><br>Words: unusually, til, rough, forgettable, environment",
          "<b>Topic 25</b><br>Words: acrobat, hotdog, handicapped, raccoon, yarn",
          "<b>Topic 25</b><br>Words: nostalgic, witness, seven, rape, inflate"
         ],
         "marker": {
          "color": "#D55E00"
         },
         "mode": "lines",
         "name": "25_series_bad_fight_st",
         "type": "scatter",
         "x": [
          "2015-05-30T00:58:58.800000",
          "2015-12-16T01:58:32.700000",
          "2016-07-03T02:58:06.600000",
          "2017-01-19T03:57:40.500000",
          "2018-02-23T05:56:48.300000",
          "2018-09-11T06:56:22.200000",
          "2019-03-30T07:55:56.100000",
          "2019-10-16T08:55:30",
          "2020-05-03T09:55:03.900000",
          "2020-11-19T10:54:37.800000",
          "2021-06-07T11:54:11.700000",
          "2021-12-24T12:53:45.600000",
          "2022-07-12T13:53:19.500000",
          "2023-01-28T14:52:53.400000",
          "2023-08-16T15:52:27.300000",
          "2024-03-03T16:52:01.200000",
          "2024-09-19T17:51:35.100000"
         ],
         "y": [
          2,
          2,
          2,
          1,
          3,
          5,
          1,
          6,
          3,
          7,
          8,
          7,
          1,
          6,
          1,
          1,
          2
         ]
        },
        {
         "hoverinfo": "text",
         "hovertext": [
          "<b>Topic 26</b><br>Words: version, hd, release, buy, wait",
          "<b>Topic 26</b><br>Words: version, buy, release, fool, download",
          "<b>Topic 26</b><br>Words: rerelease, hd, sale, price, buy",
          "<b>Topic 26</b><br>Words: caution, version, buy, word, twice",
          "<b>Topic 26</b><br>Words: premium, version, release, superior, edit",
          "<b>Topic 26</b><br>Words: obsolete, version, buy, release, hd",
          "<b>Topic 26</b><br>Words: april, st, release, appropriate, joke",
          "<b>Topic 26</b><br>Words: exactly, release, instead, experience, buy"
         ],
         "marker": {
          "color": "#0072B2"
         },
         "mode": "lines",
         "name": "26_version_release_hd_buy",
         "type": "scatter",
         "x": [
          "2014-11-10T23:59:24.900000",
          "2015-12-16T01:58:32.700000",
          "2016-07-03T02:58:06.600000",
          "2018-02-23T05:56:48.300000",
          "2019-10-16T08:55:30",
          "2020-05-03T09:55:03.900000",
          "2021-06-07T11:54:11.700000",
          "2021-12-24T12:53:45.600000"
         ],
         "y": [
          46,
          4,
          2,
          1,
          1,
          1,
          2,
          1
         ]
        },
        {
         "hoverinfo": "text",
         "hovertext": [
          "<b>Topic 27</b><br>Words: strange, awkward, frustrating, extremely, terrible",
          "<b>Topic 27</b><br>Words: fite, awful, terrible, horrible, fuck",
          "<b>Topic 27</b><br>Words: awful, terrible, half, horrible, good",
          "<b>Topic 27</b><br>Words: horrible, terrible, awful, absolutely, fing",
          "<b>Topic 27</b><br>Words: horrible, terrible, actual, attempt, awful",
          "<b>Topic 27</b><br>Words: horrible, awful, terrible, absolutely, fing",
          "<b>Topic 27</b><br>Words: travesty, terrible, horrible, awful, sorry",
          "<b>Topic 27</b><br>Words: atrocious, absolutely, terrible, awful, horrible",
          "<b>Topic 27</b><br>Words: terrible, horrible, awful, lol, god",
          "<b>Topic 27</b><br>Words: awful, fing, terrible, horrible, parent",
          "<b>Topic 27</b><br>Words: terrible, ass, actually, shit, awful",
          "<b>Topic 27</b><br>Words: mechanically, terrible, awful, absolutely, horrible",
          "<b>Topic 27</b><br>Words: terrible, horrible, atrocious, awful, excuse",
          "<b>Topic 27</b><br>Words: terrible, awful, horrible, horrendous, god",
          "<b>Topic 27</b><br>Words: terrible, horrible, absolutely, awful, fing"
         ],
         "marker": {
          "color": "#CC79A7"
         },
         "mode": "lines",
         "name": "27_terrible_awful_horrible_absolutely",
         "type": "scatter",
         "x": [
          "2014-11-10T23:59:24.900000",
          "2015-12-16T01:58:32.700000",
          "2016-07-03T02:58:06.600000",
          "2018-02-23T05:56:48.300000",
          "2019-03-30T07:55:56.100000",
          "2019-10-16T08:55:30",
          "2020-05-03T09:55:03.900000",
          "2020-11-19T10:54:37.800000",
          "2021-06-07T11:54:11.700000",
          "2021-12-24T12:53:45.600000",
          "2022-07-12T13:53:19.500000",
          "2023-01-28T14:52:53.400000",
          "2023-08-16T15:52:27.300000",
          "2024-03-03T16:52:01.200000",
          "2024-09-19T17:51:35.100000"
         ],
         "y": [
          2,
          1,
          2,
          1,
          2,
          2,
          5,
          1,
          5,
          7,
          3,
          2,
          4,
          10,
          8
         ]
        },
        {
         "hoverinfo": "text",
         "hovertext": [
          "<b>Topic 28</b><br>Words: censor, incredibly, sound, tin, soundscape",
          "<b>Topic 28</b><br>Words: dawn, indication, intro, allright, appearence",
          "<b>Topic 28</b><br>Words: japanese, publisher, heartbreak, bodyguard, viola",
          "<b>Topic 28</b><br>Words: stard, barrel, manage, coating, grippy",
          "<b>Topic 28</b><br>Words: lack, everythig, massiive, afar, dificulty",
          "<b>Topic 28</b><br>Words: climax, surface, gripe, satisfy, remind",
          "<b>Topic 28</b><br>Words: moderately, aggroed, stitch, rewarding, complex",
          "<b>Topic 28</b><br>Words: punish, estus, health, nihilism, toooooooo",
          "<b>Topic 28</b><br>Words: combat, annoying, feel, quality, bare",
          "<b>Topic 28</b><br>Words: dante, inferno, builder, generic, clunky",
          "<b>Topic 28</b><br>Words: team, quality, element, metapod, stiff",
          "<b>Topic 28</b><br>Words: lame, travel, lasting, final, sharp",
          "<b>Topic 28</b><br>Words: audio, attacker, sound, placeholder, stunned",
          "<b>Topic 28</b><br>Words: continuity, path, movement, exploration, feel",
          "<b>Topic 28</b><br>Words: stamina, mechanically, obnoxious, ambush, slow",
          "<b>Topic 28</b><br>Words: annoying, gameplay, idea, emerald, core"
         ],
         "marker": {
          "color": "#E69F00"
         },
         "mode": "lines",
         "name": "28_combat_animation_make_feel",
         "type": "scatter",
         "x": [
          "2014-04-20T22:58:39.521999",
          "2014-11-10T23:59:24.900000",
          "2015-05-30T00:58:58.800000",
          "2017-01-19T03:57:40.500000",
          "2017-08-07T04:57:14.400000",
          "2018-09-11T06:56:22.200000",
          "2019-10-16T08:55:30",
          "2020-05-03T09:55:03.900000",
          "2020-11-19T10:54:37.800000",
          "2021-06-07T11:54:11.700000",
          "2021-12-24T12:53:45.600000",
          "2022-07-12T13:53:19.500000",
          "2023-01-28T14:52:53.400000",
          "2023-08-16T15:52:27.300000",
          "2024-03-03T16:52:01.200000",
          "2024-09-19T17:51:35.100000"
         ],
         "y": [
          7,
          2,
          2,
          3,
          1,
          1,
          1,
          3,
          8,
          1,
          6,
          1,
          3,
          5,
          5,
          5
         ]
        },
        {
         "hoverinfo": "text",
         "hovertext": [
          "<b>Topic 29</b><br>Words: predeccesor, tragically, league, reputation, highly",
          "<b>Topic 29</b><br>Words: series, paywall, screwing, reveiw, visceral",
          "<b>Topic 29</b><br>Words: shortly, bloodborne, absent, busy, creativity",
          "<b>Topic 29</b><br>Words: bloodborne, series, olist, lp, installment",
          "<b>Topic 29</b><br>Words: fanatic, downvoting, umemeorable, lorethrough, drumroll",
          "<b>Topic 29</b><br>Words: plaus, exept, beginner, dissapointment, recomend",
          "<b>Topic 29</b><br>Words: bloodborne, series, prank, entry, blunder",
          "<b>Topic 29</b><br>Words: series, entry, homunculus, shortbus, swirl",
          "<b>Topic 29</b><br>Words: series, maybe, bloodborne, recommend, interested",
          "<b>Topic 29</b><br>Words: excellence, overreact, skeptical, allready, series",
          "<b>Topic 29</b><br>Words: bloodborne, series, botch, adopt, melee",
          "<b>Topic 29</b><br>Words: series, bloodborne, new, remake, sup",
          "<b>Topic 29</b><br>Words: ee, trilogy, recommend, deepen, early",
          "<b>Topic 29</b><br>Words: incredible, bloodbore, series, outlier, downtime",
          "<b>Topic 29</b><br>Words: avidly, stubbornly, medicine, speedometer, series",
          "<b>Topic 29</b><br>Words: catalog, fanboy, fairness, tedium, modern",
          "<b>Topic 29</b><br>Words: conscious, listen, visual, genuinely, placement",
          "<b>Topic 29</b><br>Words: series, bloodborne, trilogy, determine, recency"
         ],
         "marker": {
          "color": "#56B4E9"
         },
         "mode": "lines",
         "name": "29_series_bloodborne_game_recommend",
         "type": "scatter",
         "x": [
          "2014-04-20T22:58:39.521999",
          "2014-11-10T23:59:24.900000",
          "2015-05-30T00:58:58.800000",
          "2015-12-16T01:58:32.700000",
          "2017-01-19T03:57:40.500000",
          "2017-08-07T04:57:14.400000",
          "2018-02-23T05:56:48.300000",
          "2019-03-30T07:55:56.100000",
          "2019-10-16T08:55:30",
          "2020-05-03T09:55:03.900000",
          "2020-11-19T10:54:37.800000",
          "2021-06-07T11:54:11.700000",
          "2021-12-24T12:53:45.600000",
          "2022-07-12T13:53:19.500000",
          "2023-01-28T14:52:53.400000",
          "2023-08-16T15:52:27.300000",
          "2024-03-03T16:52:01.200000",
          "2024-09-19T17:51:35.100000"
         ],
         "y": [
          1,
          3,
          2,
          4,
          2,
          1,
          4,
          3,
          4,
          2,
          5,
          5,
          3,
          2,
          4,
          2,
          1,
          5
         ]
        },
        {
         "hoverinfo": "text",
         "hovertext": [
          "<b>Topic 30</b><br>Words: good, uh, nice, happy, glad",
          "<b>Topic 30</b><br>Words: great, good, uh, nice, happy",
          "<b>Topic 30</b><br>Words: wow, good, uh, nice, happy",
          "<b>Topic 30</b><br>Words: good, uh, nice, happy, glad",
          "<b>Topic 30</b><br>Words: good, uh, nice, happy, glad",
          "<b>Topic 30</b><br>Words: thank, amazing, good, uh, nice",
          "<b>Topic 30</b><br>Words: good, nice, uh, happy, glad",
          "<b>Topic 30</b><br>Words: good, well, uh, nice, happy",
          "<b>Topic 30</b><br>Words: good, probably, well, get, uh",
          "<b>Topic 30</b><br>Words: good, uh, nice, happy, glad",
          "<b>Topic 30</b><br>Words: good, thank, well, uh, nice",
          "<b>Topic 30</b><br>Words: meh, good, nice, uh, happy",
          "<b>Topic 30</b><br>Words: good, uh, happy, nice, glad",
          "<b>Topic 30</b><br>Words: good, perfect, fair, story, uh",
          "<b>Topic 30</b><br>Words: glad, good, great, uh, nice"
         ],
         "marker": {
          "color": "#009E73"
         },
         "mode": "lines",
         "name": "30_good_uh_nice_happy",
         "type": "scatter",
         "x": [
          "2014-04-20T22:58:39.521999",
          "2014-11-10T23:59:24.900000",
          "2015-12-16T01:58:32.700000",
          "2016-07-03T02:58:06.600000",
          "2017-01-19T03:57:40.500000",
          "2018-02-23T05:56:48.300000",
          "2019-10-16T08:55:30",
          "2020-05-03T09:55:03.900000",
          "2020-11-19T10:54:37.800000",
          "2021-06-07T11:54:11.700000",
          "2021-12-24T12:53:45.600000",
          "2023-01-28T14:52:53.400000",
          "2023-08-16T15:52:27.300000",
          "2024-03-03T16:52:01.200000",
          "2024-09-19T17:51:35.100000"
         ],
         "y": [
          3,
          2,
          2,
          1,
          2,
          2,
          3,
          2,
          5,
          4,
          6,
          3,
          6,
          6,
          4
         ]
        },
        {
         "hoverinfo": "text",
         "hovertext": [
          "<b>Topic 31</b><br>Words: fromsoft, unforgivingness, server, turn, making",
          "<b>Topic 31</b><br>Words: alienate, fromsoft, server, turn, owner",
          "<b>Topic 31</b><br>Words: fromsoft, server, turn, plaster, pirate",
          "<b>Topic 31</b><br>Words: fromsoft, typical, server, patch, turn",
          "<b>Topic 31</b><br>Words: fromsoft, delit, server, turn, pls",
          "<b>Topic 31</b><br>Words: ripoff, fromsoftware, fromsoft, server, turn",
          "<b>Topic 31</b><br>Words: fromsoft, server, turn, fromsoftware, fromslop",
          "<b>Topic 31</b><br>Words: fromsoft, server, turn, develepor, hr",
          "<b>Topic 31</b><br>Words: server, fromsoft, turn, fromsoftware, fromslop",
          "<b>Topic 31</b><br>Words: wrap, fromsoft, head, server, turn",
          "<b>Topic 31</b><br>Words: fromslop, fromsoft, server, turn, fromsoftware",
          "<b>Topic 31</b><br>Words: fromsoft, server, turn, fromsoftware, kusoge",
          "<b>Topic 31</b><br>Words: fromsoft, server, turn, fromsoftw, fromsoftware"
         ],
         "marker": {
          "color": "#F0E442"
         },
         "mode": "lines",
         "name": "31_fromsoft_server_turn_fromsoftware",
         "type": "scatter",
         "x": [
          "2014-11-10T23:59:24.900000",
          "2016-07-03T02:58:06.600000",
          "2018-02-23T05:56:48.300000",
          "2019-10-16T08:55:30",
          "2020-05-03T09:55:03.900000",
          "2020-11-19T10:54:37.800000",
          "2021-06-07T11:54:11.700000",
          "2021-12-24T12:53:45.600000",
          "2022-07-12T13:53:19.500000",
          "2023-01-28T14:52:53.400000",
          "2023-08-16T15:52:27.300000",
          "2024-03-03T16:52:01.200000",
          "2024-09-19T17:51:35.100000"
         ],
         "y": [
          2,
          1,
          1,
          2,
          2,
          2,
          1,
          6,
          4,
          1,
          7,
          9,
          10
         ]
        },
        {
         "hoverinfo": "text",
         "hovertext": [
          "<b>Topic 32</b><br>Words: hate, das, gamei, trend, polish",
          "<b>Topic 32</b><br>Words: recomend, hate, gamei, love, like",
          "<b>Topic 32</b><br>Words: hate, gamei, dislike, elsre, bullshish",
          "<b>Topic 32</b><br>Words: hate, japan, thank, gamei, dislike",
          "<b>Topic 32</b><br>Words: throught, hate, gamei, dislike, elsre",
          "<b>Topic 32</b><br>Words: hate, thank, gamei, god, dislike",
          "<b>Topic 32</b><br>Words: hate, gamei, belive, wagon, got",
          "<b>Topic 32</b><br>Words: hate, gamei, somebody, dislike, man",
          "<b>Topic 32</b><br>Words: hate, dislike, gamei, bullshish, immeasurable",
          "<b>Topic 32</b><br>Words: gamei, hate, nvm, dislike, sorry",
          "<b>Topic 32</b><br>Words: hate, cell, gamei, body, cause",
          "<b>Topic 32</b><br>Words: hate, god, gamei, dislike, elsre",
          "<b>Topic 32</b><br>Words: hate, gamei, dislike, elsre, gameit",
          "<b>Topic 32</b><br>Words: hate, hater, gamei, live, right"
         ],
         "marker": {
          "color": "#D55E00"
         },
         "mode": "lines",
         "name": "32_gamei_hate_dislike_gameit",
         "type": "scatter",
         "x": [
          "2014-11-10T23:59:24.900000",
          "2016-07-03T02:58:06.600000",
          "2017-08-07T04:57:14.400000",
          "2018-02-23T05:56:48.300000",
          "2019-03-30T07:55:56.100000",
          "2020-05-03T09:55:03.900000",
          "2020-11-19T10:54:37.800000",
          "2021-06-07T11:54:11.700000",
          "2021-12-24T12:53:45.600000",
          "2022-07-12T13:53:19.500000",
          "2023-01-28T14:52:53.400000",
          "2023-08-16T15:52:27.300000",
          "2024-03-03T16:52:01.200000",
          "2024-09-19T17:51:35.100000"
         ],
         "y": [
          2,
          1,
          1,
          2,
          1,
          3,
          1,
          5,
          8,
          4,
          3,
          2,
          9,
          6
         ]
        },
        {
         "hoverinfo": "text",
         "hovertext": [
          "<b>Topic 33</b><br>Words: fecal, matter, poo, fart, poopoo",
          "<b>Topic 33</b><br>Words: poopy, binding, clunky, poo, fart",
          "<b>Topic 33</b><br>Words: poo, fart, mighty, church, ass",
          "<b>Topic 33</b><br>Words: morphine, wade, swamp, poo, fart",
          "<b>Topic 33</b><br>Words: pee, poo, poopy, fart, poopoo",
          "<b>Topic 33</b><br>Words: gollum, baby, poo, fart, poopoo",
          "<b>Topic 33</b><br>Words: poopoo, poo, fart, poop, poopy",
          "<b>Topic 33</b><br>Words: poopoo, anthem, unbiased, sewage, fav",
          "<b>Topic 33</b><br>Words: poopoo, poo, fart, poopy, sewage",
          "<b>Topic 33</b><br>Words: fart, poo, poopoo, un, cuckoldry",
          "<b>Topic 33</b><br>Words: poo, poopoo, fart, matter, poop",
          "<b>Topic 33</b><br>Words: poo, fart, fartbox, dwayne, johnson",
          "<b>Topic 33</b><br>Words: poopoo, poop, stinky, poo, fart",
          "<b>Topic 33</b><br>Words: poo, butt, fart, poopoo, poop",
          "<b>Topic 33</b><br>Words: poo, fart, lowkey, ballsack, poop"
         ],
         "marker": {
          "color": "#0072B2"
         },
         "mode": "lines",
         "name": "33_poo_fart_poopoo_poop",
         "type": "scatter",
         "x": [
          "2014-04-20T22:58:39.521999",
          "2015-12-16T01:58:32.700000",
          "2017-01-19T03:57:40.500000",
          "2018-09-11T06:56:22.200000",
          "2019-03-30T07:55:56.100000",
          "2019-10-16T08:55:30",
          "2020-05-03T09:55:03.900000",
          "2020-11-19T10:54:37.800000",
          "2021-06-07T11:54:11.700000",
          "2021-12-24T12:53:45.600000",
          "2022-07-12T13:53:19.500000",
          "2023-01-28T14:52:53.400000",
          "2023-08-16T15:52:27.300000",
          "2024-03-03T16:52:01.200000",
          "2024-09-19T17:51:35.100000"
         ],
         "y": [
          1,
          1,
          4,
          1,
          2,
          1,
          1,
          4,
          12,
          3,
          5,
          4,
          2,
          1,
          6
         ]
        },
        {
         "hoverinfo": "text",
         "hovertext": [
          "<b>Topic 34</b><br>Words: server, month, fix, bring, online",
          "<b>Topic 34</b><br>Words: server, fix, bootlicker, sht, fck",
          "<b>Topic 34</b><br>Words: logging, server, tire, everytime, quit"
         ],
         "marker": {
          "color": "#CC79A7"
         },
         "mode": "lines",
         "name": "34_server_month_fix_bring",
         "type": "scatter",
         "x": [
          "2021-12-24T12:53:45.600000",
          "2022-07-12T13:53:19.500000",
          "2024-09-19T17:51:35.100000"
         ],
         "y": [
          37,
          9,
          1
         ]
        },
        {
         "hoverinfo": "text",
         "hovertext": [
          "<b>Topic 35</b><br>Words: ich, da, ist, bin, zum",
          "<b>Topic 35</b><br>Words: vraiment, tu, que, de, sono",
          "<b>Topic 35</b><br>Words: peor, el, juego, haber, pude",
          "<b>Topic 35</b><br>Words: il, problema, di, la, salvare",
          "<b>Topic 35</b><br>Words: ist, das, teil, gespielt, denke",
          "<b>Topic 35</b><br>Words: mierda, juego, que, de, jogo",
          "<b>Topic 35</b><br>Words: que, se, jogo, de, curte",
          "<b>Topic 35</b><br>Words: que, en, por, una, de",
          "<b>Topic 35</b><br>Words: de, el, molinete, desde, andar",
          "<b>Topic 35</b><br>Words: jogo, uma, de, frr, questa",
          "<b>Topic 35</b><br>Words: de, jogo, que, mais, merda",
          "<b>Topic 35</b><br>Words: jogo, de, por, voc, ele",
          "<b>Topic 35</b><br>Words: vel, que, de, el, jogo",
          "<b>Topic 35</b><br>Words: jogo, de, pior, que, vida"
         ],
         "marker": {
          "color": "#E69F00"
         },
         "mode": "lines",
         "name": "35_de_jogo_que_el",
         "type": "scatter",
         "x": [
          "2014-04-20T22:58:39.521999",
          "2015-12-16T01:58:32.700000",
          "2016-07-03T02:58:06.600000",
          "2017-08-07T04:57:14.400000",
          "2018-02-23T05:56:48.300000",
          "2019-10-16T08:55:30",
          "2020-11-19T10:54:37.800000",
          "2021-06-07T11:54:11.700000",
          "2021-12-24T12:53:45.600000",
          "2022-07-12T13:53:19.500000",
          "2023-01-28T14:52:53.400000",
          "2023-08-16T15:52:27.300000",
          "2024-03-03T16:52:01.200000",
          "2024-09-19T17:51:35.100000"
         ],
         "y": [
          1,
          2,
          1,
          2,
          1,
          1,
          3,
          3,
          2,
          4,
          7,
          4,
          9,
          7
         ]
        },
        {
         "hoverinfo": "text",
         "hovertext": [
          "<b>Topic 36</b><br>Words: murder, corrupt, file, download, drive",
          "<b>Topic 36</b><br>Words: solution, unable, save, search, saddening",
          "<b>Topic 36</b><br>Words: save, butt, download, ass, cash",
          "<b>Topic 36</b><br>Words: save, repetative, file, reccommend, configure",
          "<b>Topic 36</b><br>Words: save, happen, charachter, corrupted, file",
          "<b>Topic 36</b><br>Words: minutesthe, improperly, save, exit, breaking",
          "<b>Topic 36</b><br>Words: save, error, plss, menu, seeing",
          "<b>Topic 36</b><br>Words: transfer, save, fuck, file, data",
          "<b>Topic 36</b><br>Words: save, error, boot, resolution, kick",
          "<b>Topic 36</b><br>Words: save, message, file, cancel, proton",
          "<b>Topic 36</b><br>Words: save, corrupt, file, error, sort",
          "<b>Topic 36</b><br>Words: cleanseal, recon, save, strike, file",
          "<b>Topic 36</b><br>Words: save, corrupt, delete, worthwhile, file",
          "<b>Topic 36</b><br>Words: save, progress, request, cancel, cuz",
          "<b>Topic 36</b><br>Words: step, delete, save, promptly, precisely",
          "<b>Topic 36</b><br>Words: mulu, thanfully, asu, save, wipe"
         ],
         "marker": {
          "color": "#56B4E9"
         },
         "mode": "lines",
         "name": "36_save_file_data_delete",
         "type": "scatter",
         "x": [
          "2014-04-20T22:58:39.521999",
          "2014-11-10T23:59:24.900000",
          "2015-05-30T00:58:58.800000",
          "2016-07-03T02:58:06.600000",
          "2018-02-23T05:56:48.300000",
          "2018-09-11T06:56:22.200000",
          "2019-10-16T08:55:30",
          "2020-05-03T09:55:03.900000",
          "2020-11-19T10:54:37.800000",
          "2021-06-07T11:54:11.700000",
          "2021-12-24T12:53:45.600000",
          "2022-07-12T13:53:19.500000",
          "2023-01-28T14:52:53.400000",
          "2023-08-16T15:52:27.300000",
          "2024-03-03T16:52:01.200000",
          "2024-09-19T17:51:35.100000"
         ],
         "y": [
          1,
          2,
          2,
          2,
          2,
          3,
          6,
          1,
          3,
          5,
          2,
          2,
          4,
          4,
          3,
          3
         ]
        },
        {
         "hoverinfo": "text",
         "hovertext": [
          "<b>Topic 37</b><br>Words: fluffy, tail, dog, nigger, shit",
          "<b>Topic 37</b><br>Words: fish, ign, ai, dog, year",
          "<b>Topic 37</b><br>Words: spider, dog, nigger, shit, water",
          "<b>Topic 37</b><br>Words: dog, shit, nigger, water, dogwater",
          "<b>Topic 37</b><br>Words: dog, fucknig, gook, cloak, smelly",
          "<b>Topic 37</b><br>Words: dog, proper, shit, actual, nigger",
          "<b>Topic 37</b><br>Words: castrate, dog, shit, nigger, water",
          "<b>Topic 37</b><br>Words: dogwater, dog, video, shit, complete",
          "<b>Topic 37</b><br>Words: dog, shit, nigger, water, imagining",
          "<b>Topic 37</b><br>Words: dog, water, nigger, shit, dogwater",
          "<b>Topic 37</b><br>Words: dog, pisser, redditor, shit, water",
          "<b>Topic 37</b><br>Words: nigger, dog, shit, water, udder",
          "<b>Topic 37</b><br>Words: dog, water, shit, actual, straight",
          "<b>Topic 37</b><br>Words: dog, ayo, shit, vote, mandatory"
         ],
         "marker": {
          "color": "#009E73"
         },
         "mode": "lines",
         "name": "37_dog_nigger_shit_water",
         "type": "scatter",
         "x": [
          "2014-04-20T22:58:39.521999",
          "2015-05-30T00:58:58.800000",
          "2015-12-16T01:58:32.700000",
          "2018-09-11T06:56:22.200000",
          "2019-03-30T07:55:56.100000",
          "2020-05-03T09:55:03.900000",
          "2020-11-19T10:54:37.800000",
          "2021-06-07T11:54:11.700000",
          "2021-12-24T12:53:45.600000",
          "2022-07-12T13:53:19.500000",
          "2023-01-28T14:52:53.400000",
          "2023-08-16T15:52:27.300000",
          "2024-03-03T16:52:01.200000",
          "2024-09-19T17:51:35.100000"
         ],
         "y": [
          1,
          1,
          1,
          1,
          1,
          1,
          1,
          2,
          8,
          1,
          5,
          9,
          7,
          6
         ]
        },
        {
         "hoverinfo": "text",
         "hovertext": [
          "<b>Topic 38</b><br>Words: pale, successor, sky, exepect, retool",
          "<b>Topic 38</b><br>Words: das, zombie, pennys, ment, brainless",
          "<b>Topic 38</b><br>Words: creative, amazing, rain, unforgettable, discovery",
          "<b>Topic 38</b><br>Words: replace, walking, aka, spoke, metaphorical",
          "<b>Topic 38</b><br>Words: lue, homicidal, lame, enix, bittersweet",
          "<b>Topic 38</b><br>Words: fandom, walkthrough, bundle, ejoyable, buggy",
          "<b>Topic 38</b><br>Words: atmosphere, redesign, dislike, original, rewarding",
          "<b>Topic 38</b><br>Words: dry, mmorpg, breathing, focus, mishmash",
          "<b>Topic 38</b><br>Words: irrationally, superfan, occupy, tale, unironically",
          "<b>Topic 38</b><br>Words: lore, runescape, midair, reliably, immediate",
          "<b>Topic 38</b><br>Words: lore, series, iii, vibe, movement",
          "<b>Topic 38</b><br>Words: navigation, geographically, ending, horde, spoiler",
          "<b>Topic 38</b><br>Words: scattershot, pathos, pastiche, incessantly, fluff",
          "<b>Topic 38</b><br>Words: video, tf, agony, admittedly, cell",
          "<b>Topic 38</b><br>Words: blighttown, mind, exception, entirely, yhorm",
          "<b>Topic 38</b><br>Words: dogshit, hype, quaalag, mansion, intellivision",
          "<b>Topic 38</b><br>Words: repeat, glad, sloppily, outclass, climactic"
         ],
         "marker": {
          "color": "#F0E442"
         },
         "mode": "lines",
         "name": "38_lore_world_gameplay_series",
         "type": "scatter",
         "x": [
          "2014-04-20T22:58:39.521999",
          "2014-11-10T23:59:24.900000",
          "2015-05-30T00:58:58.800000",
          "2015-12-16T01:58:32.700000",
          "2016-07-03T02:58:06.600000",
          "2017-01-19T03:57:40.500000",
          "2018-02-23T05:56:48.300000",
          "2018-09-11T06:56:22.200000",
          "2019-10-16T08:55:30",
          "2020-11-19T10:54:37.800000",
          "2021-06-07T11:54:11.700000",
          "2021-12-24T12:53:45.600000",
          "2022-07-12T13:53:19.500000",
          "2023-01-28T14:52:53.400000",
          "2023-08-16T15:52:27.300000",
          "2024-03-03T16:52:01.200000",
          "2024-09-19T17:51:35.100000"
         ],
         "y": [
          4,
          2,
          1,
          2,
          2,
          1,
          3,
          2,
          2,
          2,
          7,
          2,
          1,
          5,
          4,
          3,
          2
         ]
        },
        {
         "hoverinfo": "text",
         "hovertext": [
          "<b>Topic 39</b><br>Words: big, let, like, look, hat",
          "<b>Topic 39</b><br>Words: pretty, like, hat, tittty, skunk",
          "<b>Topic 39</b><br>Words: dork, like, hat, tittty, skunk",
          "<b>Topic 39</b><br>Words: understand, people, like, hat, tittty",
          "<b>Topic 39</b><br>Words: lol, like, hat, skunk, tittty",
          "<b>Topic 39</b><br>Words: tittty, wank, lady, big, recommend",
          "<b>Topic 39</b><br>Words: product, like, hat, skunk, tittty",
          "<b>Topic 39</b><br>Words: ass, large, probably, like, hat",
          "<b>Topic 39</b><br>Words: bluntly, moment, try, fucking, different",
          "<b>Topic 39</b><br>Words: earth, hat, ass, try, like",
          "<b>Topic 39</b><br>Words: sized, pyromancy, head, truly, big",
          "<b>Topic 39</b><br>Words: like, hat, skunk, tittty, try",
          "<b>Topic 39</b><br>Words: skunk, dare, people, short, like",
          "<b>Topic 39</b><br>Words: examine, cbt, ur, head, like",
          "<b>Topic 39</b><br>Words: monkey, large, human, like, hate"
         ],
         "marker": {
          "color": "#D55E00"
         },
         "mode": "lines",
         "name": "39_like_hat_skunk_tittty",
         "type": "scatter",
         "x": [
          "2014-04-20T22:58:39.521999",
          "2014-11-10T23:59:24.900000",
          "2016-07-03T02:58:06.600000",
          "2017-01-19T03:57:40.500000",
          "2017-08-07T04:57:14.400000",
          "2018-02-23T05:56:48.300000",
          "2019-10-16T08:55:30",
          "2020-11-19T10:54:37.800000",
          "2021-06-07T11:54:11.700000",
          "2021-12-24T12:53:45.600000",
          "2022-07-12T13:53:19.500000",
          "2023-01-28T14:52:53.400000",
          "2023-08-16T15:52:27.300000",
          "2024-03-03T16:52:01.200000",
          "2024-09-19T17:51:35.100000"
         ],
         "y": [
          2,
          1,
          1,
          1,
          1,
          1,
          1,
          3,
          4,
          6,
          5,
          3,
          6,
          4,
          5
         ]
        },
        {
         "hoverinfo": "text",
         "hovertext": [
          "<b>Topic 40</b><br>Words: budy, campagin, goose, co, op",
          "<b>Topic 40</b><br>Words: summon, coop, co, phantom, op",
          "<b>Topic 40</b><br>Words: pairing, largely, coop, imo, update",
          "<b>Topic 40</b><br>Words: co, op, summon, friend, illegal",
          "<b>Topic 40</b><br>Words: summon, sign, freeze, co, op",
          "<b>Topic 40</b><br>Words: summon, friend, vanila, relitivly, eather",
          "<b>Topic 40</b><br>Words: summon, fiix, co, op, cooperation",
          "<b>Topic 40</b><br>Words: summon, account, friend, bandai, trouble",
          "<b>Topic 40</b><br>Words: friend, summon, multiplayer, matter, try",
          "<b>Topic 40</b><br>Words: co, op, offer, literally, problem",
          "<b>Topic 40</b><br>Words: bandico, ight, remasterd, summoning, report",
          "<b>Topic 40</b><br>Words: friend, multiplayer, summon, alter, unofficial",
          "<b>Topic 40</b><br>Words: co, op, matchmake, ptd, chaotic",
          "<b>Topic 40</b><br>Words: friend, info, crap, co, op",
          "<b>Topic 40</b><br>Words: infrastructure, nat, coc, summon, progressively"
         ],
         "marker": {
          "color": "#0072B2"
         },
         "mode": "lines",
         "name": "40_summon_friend_co_op",
         "type": "scatter",
         "x": [
          "2014-04-20T22:58:39.521999",
          "2014-11-10T23:59:24.900000",
          "2015-05-30T00:58:58.800000",
          "2015-12-16T01:58:32.700000",
          "2016-07-03T02:58:06.600000",
          "2017-01-19T03:57:40.500000",
          "2017-08-07T04:57:14.400000",
          "2018-02-23T05:56:48.300000",
          "2019-10-16T08:55:30",
          "2020-05-03T09:55:03.900000",
          "2020-11-19T10:54:37.800000",
          "2021-06-07T11:54:11.700000",
          "2021-12-24T12:53:45.600000",
          "2023-01-28T14:52:53.400000",
          "2024-09-19T17:51:35.100000"
         ],
         "y": [
          2,
          6,
          1,
          4,
          3,
          4,
          3,
          2,
          2,
          1,
          2,
          3,
          5,
          3,
          2
         ]
        },
        {
         "hoverinfo": "text",
         "hovertext": [
          "<b>Topic 41</b><br>Words: fuck, ahhhhhhhhhhhhhhhhh, canonical, aahhhhhhhhhhhhhhhhhhhhhhhhhhhhhhhhhhhhhhhhhhhhhhhhhhhhhhhhhhhhhhhhhhhhhhhhhhhhhhhhhhhhhhhhhhhhhhhhhhhhhhhhhhhhhhhhhhhhhhhhhhhhhhhhhhhhhhhhhhhhhhhhhhhhhhhhhhhhhhhhhhhhhhhhhhhhhhhhhhhhhhhhhhhhhhhhhhhhhhhaddghhhhhhhhhhhhhhh, fuckinfg",
          "<b>Topic 41</b><br>Words: fuck, fucking, team, ahhhhhhhhhhhhhhhhh, canonical",
          "<b>Topic 41</b><br>Words: fuck, canonical, fuckinfg, ahhhhhhhhhhhhhhhhh, aahhhhhhhhhhhhhhhhhhhhhhhhhhhhhhhhhhhhhhhhhhhhhhhhhhhhhhhhhhhhhhhhhhhhhhhhhhhhhhhhhhhhhhhhhhhhhhhhhhhhhhhhhhhhhhhhhhhhhhhhhhhhhhhhhhhhhhhhhhhhhhhhhhhhhhhhhhhhhhhhhhhhhhhhhhhhhhhhhhhhhhhhhhhhhhhhhhhhhhhaddghhhhhhhhhhhhhhh",
          "<b>Topic 41</b><br>Words: aid, fuck, fucking, ahhhhhhhhhhhhhhhhh, canonical",
          "<b>Topic 41</b><br>Words: shut, fuck, ahhhhhhhhhhhhhhhhh, canonical, aahhhhhhhhhhhhhhhhhhhhhhhhhhhhhhhhhhhhhhhhhhhhhhhhhhhhhhhhhhhhhhhhhhhhhhhhhhhhhhhhhhhhhhhhhhhhhhhhhhhhhhhhhhhhhhhhhhhhhhhhhhhhhhhhhhhhhhhhhhhhhhhhhhhhhhhhhhhhhhhhhhhhhhhhhhhhhhhhhhhhhhhhhhhhhhhhhhhhhhhaddghhhhhhhhhhhhhhh",
          "<b>Topic 41</b><br>Words: sentinel, fuck, fuckinfg, aahhhhhhhhhhhhhhhhhhhhhhhhhhhhhhhhhhhhhhhhhhhhhhhhhhhhhhhhhhhhhhhhhhhhhhhhhhhhhhhhhhhhhhhhhhhhhhhhhhhhhhhhhhhhhhhhhhhhhhhhhhhhhhhhhhhhhhhhhhhhhhhhhhhhhhhhhhhhhhhhhhhhhhhhhhhhhhhhhhhhhhhhhhhhhhhhhhhhhhhaddghhhhhhhhhhhhhhh, ahhhhhhhhhhhhhhhhh",
          "<b>Topic 41</b><br>Words: fuck, ahhhhhhhhhhhhhhhhh, canonical, aahhhhhhhhhhhhhhhhhhhhhhhhhhhhhhhhhhhhhhhhhhhhhhhhhhhhhhhhhhhhhhhhhhhhhhhhhhhhhhhhhhhhhhhhhhhhhhhhhhhhhhhhhhhhhhhhhhhhhhhhhhhhhhhhhhhhhhhhhhhhhhhhhhhhhhhhhhhhhhhhhhhhhhhhhhhhhhhhhhhhhhhhhhhhhhhhhhhhhhhaddghhhhhhhhhhhhhhh, fuckinfg",
          "<b>Topic 41</b><br>Words: fuck, platforming, fucking, ahhhhhhhhhhhhhhhhh, canonical",
          "<b>Topic 41</b><br>Words: fuck, shit, ahhhhhhhhhhhhhhhhh, canonical, aahhhhhhhhhhhhhhhhhhhhhhhhhhhhhhhhhhhhhhhhhhhhhhhhhhhhhhhhhhhhhhhhhhhhhhhhhhhhhhhhhhhhhhhhhhhhhhhhhhhhhhhhhhhhhhhhhhhhhhhhhhhhhhhhhhhhhhhhhhhhhhhhhhhhhhhhhhhhhhhhhhhhhhhhhhhhhhhhhhhhhhhhhhhhhhhhhhhhhhhaddghhhhhhhhhhhhhhh",
          "<b>Topic 41</b><br>Words: aahhhhhhhhhhhhhhhhhhhhhhhhhhhhhhhhhhhhhhhhhhhhhhhhhhhhhhhhhhhhhhhhhhhhhhhhhhhhhhhhhhhhhhhhhhhhhhhhhhhhhhhhhhhhhhhhhhhhhhhhhhhhhhhhhhhhhhhhhhhhhhhhhhhhhhhhhhhhhhhhhhhhhhhhhhhhhhhhhhhhhhhhhhhhhhhhhhhhhhhaddghhhhhhhhhhhhhhh, fuck, veer, ahhhhhhhhhhhhhhhhh, canonical",
          "<b>Topic 41</b><br>Words: ahhhhhhhhhhhhhhhhh, fuck, yea, shit, canonical",
          "<b>Topic 41</b><br>Words: fuck, ahhhhhhhhhhhhhhhhh, canonical, aahhhhhhhhhhhhhhhhhhhhhhhhhhhhhhhhhhhhhhhhhhhhhhhhhhhhhhhhhhhhhhhhhhhhhhhhhhhhhhhhhhhhhhhhhhhhhhhhhhhhhhhhhhhhhhhhhhhhhhhhhhhhhhhhhhhhhhhhhhhhhhhhhhhhhhhhhhhhhhhhhhhhhhhhhhhhhhhhhhhhhhhhhhhhhhhhhhhhhhhaddghhhhhhhhhhhhhhh, fuckinfg",
          "<b>Topic 41</b><br>Words: fuck, ahhhhhhhhhhhhhhhhh, canonical, aahhhhhhhhhhhhhhhhhhhhhhhhhhhhhhhhhhhhhhhhhhhhhhhhhhhhhhhhhhhhhhhhhhhhhhhhhhhhhhhhhhhhhhhhhhhhhhhhhhhhhhhhhhhhhhhhhhhhhhhhhhhhhhhhhhhhhhhhhhhhhhhhhhhhhhhhhhhhhhhhhhhhhhhhhhhhhhhhhhhhhhhhhhhhhhhhhhhhhhhaddghhhhhhhhhhhhhhh, fuckinfg",
          "<b>Topic 41</b><br>Words: fuck, mess, ahhhhhhhhhhhhhhhhh, canonical, aahhhhhhhhhhhhhhhhhhhhhhhhhhhhhhhhhhhhhhhhhhhhhhhhhhhhhhhhhhhhhhhhhhhhhhhhhhhhhhhhhhhhhhhhhhhhhhhhhhhhhhhhhhhhhhhhhhhhhhhhhhhhhhhhhhhhhhhhhhhhhhhhhhhhhhhhhhhhhhhhhhhhhhhhhhhhhhhhhhhhhhhhhhhhhhhhhhhhhhhaddghhhhhhhhhhhhhhh",
          "<b>Topic 41</b><br>Words: man, fuck, fucking, ahhhhhhhhhhhhhhhhh, canonical",
          "<b>Topic 41</b><br>Words: fuck, lol, ahhhhhhhhhhhhhhhhh, canonical, aahhhhhhhhhhhhhhhhhhhhhhhhhhhhhhhhhhhhhhhhhhhhhhhhhhhhhhhhhhhhhhhhhhhhhhhhhhhhhhhhhhhhhhhhhhhhhhhhhhhhhhhhhhhhhhhhhhhhhhhhhhhhhhhhhhhhhhhhhhhhhhhhhhhhhhhhhhhhhhhhhhhhhhhhhhhhhhhhhhhhhhhhhhhhhhhhhhhhhhhaddghhhhhhhhhhhhhhh",
          "<b>Topic 41</b><br>Words: fuck, na, ahhhhhhhhhhhhhhhhh, canonical, aahhhhhhhhhhhhhhhhhhhhhhhhhhhhhhhhhhhhhhhhhhhhhhhhhhhhhhhhhhhhhhhhhhhhhhhhhhhhhhhhhhhhhhhhhhhhhhhhhhhhhhhhhhhhhhhhhhhhhhhhhhhhhhhhhhhhhhhhhhhhhhhhhhhhhhhhhhhhhhhhhhhhhhhhhhhhhhhhhhhhhhhhhhhhhhhhhhhhhhhaddghhhhhhhhhhhhhhh"
         ],
         "marker": {
          "color": "#CC79A7"
         },
         "mode": "lines",
         "name": "41_fuck_fuckinfg_canonical_ahhhhhhhhhhhh...",
         "type": "scatter",
         "x": [
          "2014-04-20T22:58:39.521999",
          "2014-11-10T23:59:24.900000",
          "2015-12-16T01:58:32.700000",
          "2017-01-19T03:57:40.500000",
          "2017-08-07T04:57:14.400000",
          "2018-02-23T05:56:48.300000",
          "2019-03-30T07:55:56.100000",
          "2019-10-16T08:55:30",
          "2020-05-03T09:55:03.900000",
          "2020-11-19T10:54:37.800000",
          "2021-06-07T11:54:11.700000",
          "2021-12-24T12:53:45.600000",
          "2022-07-12T13:53:19.500000",
          "2023-01-28T14:52:53.400000",
          "2023-08-16T15:52:27.300000",
          "2024-03-03T16:52:01.200000",
          "2024-09-19T17:51:35.100000"
         ],
         "y": [
          1,
          3,
          5,
          2,
          2,
          2,
          1,
          3,
          2,
          3,
          2,
          1,
          1,
          2,
          2,
          8,
          3
         ]
        },
        {
         "hoverinfo": "text",
         "hovertext": [
          "<b>Topic 42</b><br>Words: inconveniently, grubby, riaa, distress, pasty",
          "<b>Topic 42</b><br>Words: predictable, ii, skeleton, comparrison, expect",
          "<b>Topic 42</b><br>Words: imho, brand, slogan, mediorce, nuts",
          "<b>Topic 42</b><br>Words: funner, unlike, talent, justice, disgusting",
          "<b>Topic 42</b><br>Words: baaaad, hd, vanilla, skybox, warf",
          "<b>Topic 42</b><br>Words: tht, starvation, scholler, nuts, memetic",
          "<b>Topic 42</b><br>Words: ip, outright, wanton, repetitive, copying",
          "<b>Topic 42</b><br>Words: anticheat, canon, render, questionable, spin",
          "<b>Topic 42</b><br>Words: fix, fucking, maybe, shit, npc",
          "<b>Topic 42</b><br>Words: overload, anybody, pathetic, bathe, millennium",
          "<b>Topic 42</b><br>Words: curious, afternoon, room, unfair, composer",
          "<b>Topic 42</b><br>Words: instagram, redditor, twitter, user, fulfilling",
          "<b>Topic 42</b><br>Words: definitive, event, shitty, hundred, simulation",
          "<b>Topic 42</b><br>Words: nentendo, scape, loaded, boggling, huff",
          "<b>Topic 42</b><br>Words: soup, scolding, cost, version, hi",
          "<b>Topic 42</b><br>Words: dlcs, le, home, auditory, fw",
          "<b>Topic 42</b><br>Words: trophy, percent, pukestain, pothole, backdoor"
         ],
         "marker": {
          "color": "#E69F00"
         },
         "mode": "lines",
         "name": "42_dlc_original_dlcs_soup",
         "type": "scatter",
         "x": [
          "2014-11-10T23:59:24.900000",
          "2015-05-30T00:58:58.800000",
          "2015-12-16T01:58:32.700000",
          "2017-01-19T03:57:40.500000",
          "2017-08-07T04:57:14.400000",
          "2018-02-23T05:56:48.300000",
          "2018-09-11T06:56:22.200000",
          "2019-10-16T08:55:30",
          "2020-05-03T09:55:03.900000",
          "2020-11-19T10:54:37.800000",
          "2021-06-07T11:54:11.700000",
          "2021-12-24T12:53:45.600000",
          "2022-07-12T13:53:19.500000",
          "2023-01-28T14:52:53.400000",
          "2023-08-16T15:52:27.300000",
          "2024-03-03T16:52:01.200000",
          "2024-09-19T17:51:35.100000"
         ],
         "y": [
          3,
          2,
          2,
          1,
          1,
          2,
          3,
          1,
          3,
          4,
          2,
          4,
          2,
          3,
          1,
          4,
          4
         ]
        },
        {
         "hoverinfo": "text",
         "hovertext": [
          "<b>Topic 43</b><br>Words: homosexual, hard, hardness, rock, night",
          "<b>Topic 43</b><br>Words: mlg, hard, hate, way, soft",
          "<b>Topic 43</b><br>Words: gun, realy, hard, soft, easy",
          "<b>Topic 43</b><br>Words: farming, hard, easy, tell, thing",
          "<b>Topic 43</b><br>Words: hard, impossible, fair, literally, demon",
          "<b>Topic 43</b><br>Words: hard, soft, easy, homosexual, notlikedarksouls",
          "<b>Topic 43</b><br>Words: bloodborn, hard, lol, paste, copy",
          "<b>Topic 43</b><br>Words: hard, soft, easy, homosexual, notlikedarksouls",
          "<b>Topic 43</b><br>Words: garfield, hard, soft, easy, notlikedarksouls",
          "<b>Topic 43</b><br>Words: catz, mad, hard, easy, shit",
          "<b>Topic 43</b><br>Words: hard, soft, easy, homosexual, notlikedarksouls",
          "<b>Topic 43</b><br>Words: literally, hard, bad, soft, easy",
          "<b>Topic 43</b><br>Words: soft, let, hard, help, fuck",
          "<b>Topic 43</b><br>Words: easy, hard, soft, homosexual, notlikedarksouls",
          "<b>Topic 43</b><br>Words: subpar, scene, stupidly, soft, hard",
          "<b>Topic 43</b><br>Words: title, easy, hard, soft, homosexual",
          "<b>Topic 43</b><br>Words: chakan, hard, forever, man, easy",
          "<b>Topic 43</b><br>Words: hard, soft, easy, homosexual, notlikedarksouls"
         ],
         "marker": {
          "color": "#56B4E9"
         },
         "mode": "lines",
         "name": "43_hard_soft_easy_homosexual",
         "type": "scatter",
         "x": [
          "2014-04-20T22:58:39.521999",
          "2014-11-10T23:59:24.900000",
          "2015-05-30T00:58:58.800000",
          "2015-12-16T01:58:32.700000",
          "2016-07-03T02:58:06.600000",
          "2017-01-19T03:57:40.500000",
          "2018-02-23T05:56:48.300000",
          "2018-09-11T06:56:22.200000",
          "2019-10-16T08:55:30",
          "2020-05-03T09:55:03.900000",
          "2020-11-19T10:54:37.800000",
          "2021-06-07T11:54:11.700000",
          "2021-12-24T12:53:45.600000",
          "2022-07-12T13:53:19.500000",
          "2023-01-28T14:52:53.400000",
          "2023-08-16T15:52:27.300000",
          "2024-03-03T16:52:01.200000",
          "2024-09-19T17:51:35.100000"
         ],
         "y": [
          4,
          4,
          1,
          4,
          3,
          1,
          3,
          1,
          2,
          2,
          1,
          1,
          4,
          1,
          3,
          2,
          3,
          1
         ]
        },
        {
         "hoverinfo": "text",
         "hovertext": [
          "<b>Topic 44</b><br>Words: suck, fuck, fuckin, shit, wow",
          "<b>Topic 44</b><br>Words: suck, fuck, fuckin, shit, wow",
          "<b>Topic 44</b><br>Words: suck, fucking, shit, great, fuck",
          "<b>Topic 44</b><br>Words: suck, dong, donkey, fuckin, wow",
          "<b>Topic 44</b><br>Words: suck, fucking, fuck, fuckin, shit",
          "<b>Topic 44</b><br>Words: suck, fucking, fuck, fuckin, shit",
          "<b>Topic 44</b><br>Words: suck, fuckin, contrarian, fucking, tbh",
          "<b>Topic 44</b><br>Words: suck, fucking, fuck, fuckin, shit",
          "<b>Topic 44</b><br>Words: suck, fucking, ngl, fr, shit",
          "<b>Topic 44</b><br>Words: suck, fucking, yeah, shit, fuck",
          "<b>Topic 44</b><br>Words: suck, fucking, lmao, wow, fuck",
          "<b>Topic 44</b><br>Words: suck, bc, fuck, shitty, fucking"
         ],
         "marker": {
          "color": "#009E73"
         },
         "mode": "lines",
         "name": "44_suck_fuck_fuckin_shit",
         "type": "scatter",
         "x": [
          "2015-12-16T01:58:32.700000",
          "2018-09-11T06:56:22.200000",
          "2019-10-16T08:55:30",
          "2020-05-03T09:55:03.900000",
          "2020-11-19T10:54:37.800000",
          "2021-06-07T11:54:11.700000",
          "2021-12-24T12:53:45.600000",
          "2022-07-12T13:53:19.500000",
          "2023-01-28T14:52:53.400000",
          "2023-08-16T15:52:27.300000",
          "2024-03-03T16:52:01.200000",
          "2024-09-19T17:51:35.100000"
         ],
         "y": [
          1,
          1,
          2,
          2,
          4,
          1,
          4,
          1,
          8,
          5,
          5,
          4
         ]
        },
        {
         "hoverinfo": "text",
         "hovertext": [
          "<b>Topic 45</b><br>Words: gay, ass, butt, straight, cheek",
          "<b>Topic 45</b><br>Words: gay, tbh, hope, ass, pretty",
          "<b>Topic 45</b><br>Words: ass, straight, gay, butt, cheek",
          "<b>Topic 45</b><br>Words: ass, gay, butt, gameplay, straight",
          "<b>Topic 45</b><br>Words: butt, ass, gay, straight, cheek",
          "<b>Topic 45</b><br>Words: ass, bc, bro, straight, gay",
          "<b>Topic 45</b><br>Words: gay, sex, butt, ass, funny",
          "<b>Topic 45</b><br>Words: ass, lmao, gay, butt, straight",
          "<b>Topic 45</b><br>Words: ass, cheek, gay, butt, straight",
          "<b>Topic 45</b><br>Words: ass, butt, cock, hair, heart",
          "<b>Topic 45</b><br>Words: ass, aidsssssss, bravely, gayass, straight",
          "<b>Topic 45</b><br>Words: ass, straight, cheek, booty, gay"
         ],
         "marker": {
          "color": "#F0E442"
         },
         "mode": "lines",
         "name": "45_ass_gay_butt_straight",
         "type": "scatter",
         "x": [
          "2014-04-20T22:58:39.521999",
          "2017-01-19T03:57:40.500000",
          "2018-02-23T05:56:48.300000",
          "2018-09-11T06:56:22.200000",
          "2020-11-19T10:54:37.800000",
          "2021-06-07T11:54:11.700000",
          "2021-12-24T12:53:45.600000",
          "2022-07-12T13:53:19.500000",
          "2023-01-28T14:52:53.400000",
          "2023-08-16T15:52:27.300000",
          "2024-03-03T16:52:01.200000",
          "2024-09-19T17:51:35.100000"
         ],
         "y": [
          1,
          1,
          1,
          3,
          1,
          2,
          4,
          1,
          6,
          4,
          8,
          6
         ]
        },
        {
         "hoverinfo": "text",
         "hovertext": [
          "<b>Topic 46</b><br>Words: hour, school, portray, pan, advertising",
          "<b>Topic 46</b><br>Words: reccommend, artorias, cuz, forever, hour",
          "<b>Topic 46</b><br>Words: pale, shadow, imo, hour, work",
          "<b>Topic 46</b><br>Words: unistall, glad, finally, beat, hour",
          "<b>Topic 46</b><br>Words: rn, later, hour, leave, come",
          "<b>Topic 46</b><br>Words: objectivly, care, hour, bit, waste",
          "<b>Topic 46</b><br>Words: duck, diying, frustating, hour, return",
          "<b>Topic 46</b><br>Words: hour, annoying, terrible, honestly, interesting",
          "<b>Topic 46</b><br>Words: dsfix, hour, sum, prefer, prepare",
          "<b>Topic 46</b><br>Words: hour, fable, ost, asleep, hrs",
          "<b>Topic 46</b><br>Words: hour, quit, nut, holy, post",
          "<b>Topic 46</b><br>Words: torturous, succeed, hour, fill, figure",
          "<b>Topic 46</b><br>Words: hrs, rip, match, offline, track",
          "<b>Topic 46</b><br>Words: hour, unappealing, ost, hook, listen",
          "<b>Topic 46</b><br>Words: hour, reallly, homeless, captivate, feed",
          "<b>Topic 46</b><br>Words: glaze, hour, penalty, solid, hate"
         ],
         "marker": {
          "color": "#D55E00"
         },
         "mode": "lines",
         "name": "46_hour_duck_play_cant",
         "type": "scatter",
         "x": [
          "2014-04-20T22:58:39.521999",
          "2014-11-10T23:59:24.900000",
          "2015-12-16T01:58:32.700000",
          "2016-07-03T02:58:06.600000",
          "2017-01-19T03:57:40.500000",
          "2018-02-23T05:56:48.300000",
          "2018-09-11T06:56:22.200000",
          "2020-05-03T09:55:03.900000",
          "2020-11-19T10:54:37.800000",
          "2021-06-07T11:54:11.700000",
          "2021-12-24T12:53:45.600000",
          "2022-07-12T13:53:19.500000",
          "2023-01-28T14:52:53.400000",
          "2023-08-16T15:52:27.300000",
          "2024-03-03T16:52:01.200000",
          "2024-09-19T17:51:35.100000"
         ],
         "y": [
          4,
          1,
          1,
          1,
          1,
          1,
          2,
          2,
          2,
          5,
          4,
          2,
          1,
          4,
          4,
          2
         ]
        },
        {
         "hoverinfo": "text",
         "hovertext": [
          "<b>Topic 47</b><br>Words: cumplitli, elswhur, taek, hurr, durr",
          "<b>Topic 47</b><br>Words: kawaii, bir, bu, bosslar, oyunu",
          "<b>Topic 47</b><br>Words: aburrido, bir, bu, bosslar, gibi",
          "<b>Topic 47</b><br>Words: ik, niet, erg, heel, wel",
          "<b>Topic 47</b><br>Words: mala, wea, basura, mu, bok",
          "<b>Topic 47</b><br>Words: egy, nlom, foskula, aj, mert",
          "<b>Topic 47</b><br>Words: paska, tosco, vitun, ihan, przesta",
          "<b>Topic 47</b><br>Words: bir, bosslar, oyunu, bu, gibi",
          "<b>Topic 47</b><br>Words: oyun, boktan, bir, serideki, sista",
          "<b>Topic 47</b><br>Words: bir, sadece, iyi, ki, bile",
          "<b>Topic 47</b><br>Words: bir, bu, daha, peli, ytt",
          "<b>Topic 47</b><br>Words: ne, bir, bu, koim, jak"
         ],
         "marker": {
          "color": "#0072B2"
         },
         "mode": "lines",
         "name": "47_bir_bu_bosslar_oyunu",
         "type": "scatter",
         "x": [
          "2015-05-30T00:58:58.800000",
          "2015-12-16T01:58:32.700000",
          "2017-08-07T04:57:14.400000",
          "2020-05-03T09:55:03.900000",
          "2020-11-19T10:54:37.800000",
          "2021-06-07T11:54:11.700000",
          "2021-12-24T12:53:45.600000",
          "2022-07-12T13:53:19.500000",
          "2023-01-28T14:52:53.400000",
          "2023-08-16T15:52:27.300000",
          "2024-03-03T16:52:01.200000",
          "2024-09-19T17:51:35.100000"
         ],
         "y": [
          1,
          1,
          1,
          3,
          3,
          1,
          3,
          2,
          5,
          4,
          9,
          3
         ]
        },
        {
         "hoverinfo": "text",
         "hovertext": [
          "<b>Topic 48</b><br>Words: dogshit, wtfffffffffffff, dogass, pioece, predator",
          "<b>Topic 48</b><br>Words: dogshit, wtfffffffffffff, cowabunga, shiettttttttttttttttt, predator",
          "<b>Topic 48</b><br>Words: dogshit, everyother, mechanic, fuck, play",
          "<b>Topic 48</b><br>Words: dogshit, actual, compare, wtfffffffffffff, ahahahahahahahahahahahahahahahahahahahahahahahahahhahhaahjhahahhaahhahahahahahahhahahhahahhahahhaa",
          "<b>Topic 48</b><br>Words: dogshit, fucking, buy, dogass, pioece",
          "<b>Topic 48</b><br>Words: dogshit, beat, know, fuck, well",
          "<b>Topic 48</b><br>Words: dogshit, incredibly, frustrating, well, good",
          "<b>Topic 48</b><br>Words: dogshit, pioece, fucking, cartel, enjoyer",
          "<b>Topic 48</b><br>Words: dogshit, ahahahahahahahahahahahahahahahahahahahahahahahahahhahhaahjhahahhaahhahahahahahahhahahhahahhahahhaa, petrifyingly, horrifyingly, dogass"
         ],
         "marker": {
          "color": "#CC79A7"
         },
         "mode": "lines",
         "name": "48_dogshit_wtfffffffffffff_horrifyingly_...",
         "type": "scatter",
         "x": [
          "2019-10-16T08:55:30",
          "2020-05-03T09:55:03.900000",
          "2020-11-19T10:54:37.800000",
          "2021-06-07T11:54:11.700000",
          "2021-12-24T12:53:45.600000",
          "2023-01-28T14:52:53.400000",
          "2023-08-16T15:52:27.300000",
          "2024-03-03T16:52:01.200000",
          "2024-09-19T17:51:35.100000"
         ],
         "y": [
          1,
          2,
          4,
          2,
          2,
          4,
          3,
          11,
          7
         ]
        },
        {
         "hoverinfo": "text",
         "hovertext": [
          "<b>Topic 49</b><br>Words: refund, synch, amuse, jerky, yellow",
          "<b>Topic 49</b><br>Words: grab, patch, money, refund, cash",
          "<b>Topic 49</b><br>Words: cash, grab, refund, money, free",
          "<b>Topic 49</b><br>Words: refund, male, weed, becasue, becouse",
          "<b>Topic 49</b><br>Words: refund, week, purchase, wish, minute",
          "<b>Topic 49</b><br>Words: refund, money, grab, free, want",
          "<b>Topic 49</b><br>Words: refund, vomit, bamco, dog, call",
          "<b>Topic 49</b><br>Words: refund, demand, bro, service, garbage",
          "<b>Topic 49</b><br>Words: amp, refund, atleast, money, currently",
          "<b>Topic 49</b><br>Words: refund, heckin, flight, penis, sleep",
          "<b>Topic 49</b><br>Words: refund, policy, remind, realize, hour"
         ],
         "marker": {
          "color": "#E69F00"
         },
         "mode": "lines",
         "name": "49_refund_money_grab_cash",
         "type": "scatter",
         "x": [
          "2014-04-20T22:58:39.521999",
          "2014-11-10T23:59:24.900000",
          "2015-05-30T00:58:58.800000",
          "2015-12-16T01:58:32.700000",
          "2020-05-03T09:55:03.900000",
          "2020-11-19T10:54:37.800000",
          "2021-06-07T11:54:11.700000",
          "2021-12-24T12:53:45.600000",
          "2023-01-28T14:52:53.400000",
          "2024-03-03T16:52:01.200000",
          "2024-09-19T17:51:35.100000"
         ],
         "y": [
          8,
          1,
          1,
          6,
          3,
          3,
          2,
          4,
          2,
          4,
          2
         ]
        }
       ],
       "layout": {
        "height": 450,
        "hoverlabel": {
         "bgcolor": "white",
         "font": {
          "family": "Rockwell",
          "size": 16
         }
        },
        "legend": {
         "title": {
          "text": "<b>Global Topic Representation"
         }
        },
        "template": {
         "data": {
          "bar": [
           {
            "error_x": {
             "color": "rgb(36,36,36)"
            },
            "error_y": {
             "color": "rgb(36,36,36)"
            },
            "marker": {
             "line": {
              "color": "white",
              "width": 0.5
             },
             "pattern": {
              "fillmode": "overlay",
              "size": 10,
              "solidity": 0.2
             }
            },
            "type": "bar"
           }
          ],
          "barpolar": [
           {
            "marker": {
             "line": {
              "color": "white",
              "width": 0.5
             },
             "pattern": {
              "fillmode": "overlay",
              "size": 10,
              "solidity": 0.2
             }
            },
            "type": "barpolar"
           }
          ],
          "carpet": [
           {
            "aaxis": {
             "endlinecolor": "rgb(36,36,36)",
             "gridcolor": "white",
             "linecolor": "white",
             "minorgridcolor": "white",
             "startlinecolor": "rgb(36,36,36)"
            },
            "baxis": {
             "endlinecolor": "rgb(36,36,36)",
             "gridcolor": "white",
             "linecolor": "white",
             "minorgridcolor": "white",
             "startlinecolor": "rgb(36,36,36)"
            },
            "type": "carpet"
           }
          ],
          "choropleth": [
           {
            "colorbar": {
             "outlinewidth": 1,
             "tickcolor": "rgb(36,36,36)",
             "ticks": "outside"
            },
            "type": "choropleth"
           }
          ],
          "contour": [
           {
            "colorbar": {
             "outlinewidth": 1,
             "tickcolor": "rgb(36,36,36)",
             "ticks": "outside"
            },
            "colorscale": [
             [
              0,
              "#440154"
             ],
             [
              0.1111111111111111,
              "#482878"
             ],
             [
              0.2222222222222222,
              "#3e4989"
             ],
             [
              0.3333333333333333,
              "#31688e"
             ],
             [
              0.4444444444444444,
              "#26828e"
             ],
             [
              0.5555555555555556,
              "#1f9e89"
             ],
             [
              0.6666666666666666,
              "#35b779"
             ],
             [
              0.7777777777777778,
              "#6ece58"
             ],
             [
              0.8888888888888888,
              "#b5de2b"
             ],
             [
              1,
              "#fde725"
             ]
            ],
            "type": "contour"
           }
          ],
          "contourcarpet": [
           {
            "colorbar": {
             "outlinewidth": 1,
             "tickcolor": "rgb(36,36,36)",
             "ticks": "outside"
            },
            "type": "contourcarpet"
           }
          ],
          "heatmap": [
           {
            "colorbar": {
             "outlinewidth": 1,
             "tickcolor": "rgb(36,36,36)",
             "ticks": "outside"
            },
            "colorscale": [
             [
              0,
              "#440154"
             ],
             [
              0.1111111111111111,
              "#482878"
             ],
             [
              0.2222222222222222,
              "#3e4989"
             ],
             [
              0.3333333333333333,
              "#31688e"
             ],
             [
              0.4444444444444444,
              "#26828e"
             ],
             [
              0.5555555555555556,
              "#1f9e89"
             ],
             [
              0.6666666666666666,
              "#35b779"
             ],
             [
              0.7777777777777778,
              "#6ece58"
             ],
             [
              0.8888888888888888,
              "#b5de2b"
             ],
             [
              1,
              "#fde725"
             ]
            ],
            "type": "heatmap"
           }
          ],
          "heatmapgl": [
           {
            "colorbar": {
             "outlinewidth": 1,
             "tickcolor": "rgb(36,36,36)",
             "ticks": "outside"
            },
            "colorscale": [
             [
              0,
              "#440154"
             ],
             [
              0.1111111111111111,
              "#482878"
             ],
             [
              0.2222222222222222,
              "#3e4989"
             ],
             [
              0.3333333333333333,
              "#31688e"
             ],
             [
              0.4444444444444444,
              "#26828e"
             ],
             [
              0.5555555555555556,
              "#1f9e89"
             ],
             [
              0.6666666666666666,
              "#35b779"
             ],
             [
              0.7777777777777778,
              "#6ece58"
             ],
             [
              0.8888888888888888,
              "#b5de2b"
             ],
             [
              1,
              "#fde725"
             ]
            ],
            "type": "heatmapgl"
           }
          ],
          "histogram": [
           {
            "marker": {
             "line": {
              "color": "white",
              "width": 0.6
             }
            },
            "type": "histogram"
           }
          ],
          "histogram2d": [
           {
            "colorbar": {
             "outlinewidth": 1,
             "tickcolor": "rgb(36,36,36)",
             "ticks": "outside"
            },
            "colorscale": [
             [
              0,
              "#440154"
             ],
             [
              0.1111111111111111,
              "#482878"
             ],
             [
              0.2222222222222222,
              "#3e4989"
             ],
             [
              0.3333333333333333,
              "#31688e"
             ],
             [
              0.4444444444444444,
              "#26828e"
             ],
             [
              0.5555555555555556,
              "#1f9e89"
             ],
             [
              0.6666666666666666,
              "#35b779"
             ],
             [
              0.7777777777777778,
              "#6ece58"
             ],
             [
              0.8888888888888888,
              "#b5de2b"
             ],
             [
              1,
              "#fde725"
             ]
            ],
            "type": "histogram2d"
           }
          ],
          "histogram2dcontour": [
           {
            "colorbar": {
             "outlinewidth": 1,
             "tickcolor": "rgb(36,36,36)",
             "ticks": "outside"
            },
            "colorscale": [
             [
              0,
              "#440154"
             ],
             [
              0.1111111111111111,
              "#482878"
             ],
             [
              0.2222222222222222,
              "#3e4989"
             ],
             [
              0.3333333333333333,
              "#31688e"
             ],
             [
              0.4444444444444444,
              "#26828e"
             ],
             [
              0.5555555555555556,
              "#1f9e89"
             ],
             [
              0.6666666666666666,
              "#35b779"
             ],
             [
              0.7777777777777778,
              "#6ece58"
             ],
             [
              0.8888888888888888,
              "#b5de2b"
             ],
             [
              1,
              "#fde725"
             ]
            ],
            "type": "histogram2dcontour"
           }
          ],
          "mesh3d": [
           {
            "colorbar": {
             "outlinewidth": 1,
             "tickcolor": "rgb(36,36,36)",
             "ticks": "outside"
            },
            "type": "mesh3d"
           }
          ],
          "parcoords": [
           {
            "line": {
             "colorbar": {
              "outlinewidth": 1,
              "tickcolor": "rgb(36,36,36)",
              "ticks": "outside"
             }
            },
            "type": "parcoords"
           }
          ],
          "pie": [
           {
            "automargin": true,
            "type": "pie"
           }
          ],
          "scatter": [
           {
            "fillpattern": {
             "fillmode": "overlay",
             "size": 10,
             "solidity": 0.2
            },
            "type": "scatter"
           }
          ],
          "scatter3d": [
           {
            "line": {
             "colorbar": {
              "outlinewidth": 1,
              "tickcolor": "rgb(36,36,36)",
              "ticks": "outside"
             }
            },
            "marker": {
             "colorbar": {
              "outlinewidth": 1,
              "tickcolor": "rgb(36,36,36)",
              "ticks": "outside"
             }
            },
            "type": "scatter3d"
           }
          ],
          "scattercarpet": [
           {
            "marker": {
             "colorbar": {
              "outlinewidth": 1,
              "tickcolor": "rgb(36,36,36)",
              "ticks": "outside"
             }
            },
            "type": "scattercarpet"
           }
          ],
          "scattergeo": [
           {
            "marker": {
             "colorbar": {
              "outlinewidth": 1,
              "tickcolor": "rgb(36,36,36)",
              "ticks": "outside"
             }
            },
            "type": "scattergeo"
           }
          ],
          "scattergl": [
           {
            "marker": {
             "colorbar": {
              "outlinewidth": 1,
              "tickcolor": "rgb(36,36,36)",
              "ticks": "outside"
             }
            },
            "type": "scattergl"
           }
          ],
          "scattermapbox": [
           {
            "marker": {
             "colorbar": {
              "outlinewidth": 1,
              "tickcolor": "rgb(36,36,36)",
              "ticks": "outside"
             }
            },
            "type": "scattermapbox"
           }
          ],
          "scatterpolar": [
           {
            "marker": {
             "colorbar": {
              "outlinewidth": 1,
              "tickcolor": "rgb(36,36,36)",
              "ticks": "outside"
             }
            },
            "type": "scatterpolar"
           }
          ],
          "scatterpolargl": [
           {
            "marker": {
             "colorbar": {
              "outlinewidth": 1,
              "tickcolor": "rgb(36,36,36)",
              "ticks": "outside"
             }
            },
            "type": "scatterpolargl"
           }
          ],
          "scatterternary": [
           {
            "marker": {
             "colorbar": {
              "outlinewidth": 1,
              "tickcolor": "rgb(36,36,36)",
              "ticks": "outside"
             }
            },
            "type": "scatterternary"
           }
          ],
          "surface": [
           {
            "colorbar": {
             "outlinewidth": 1,
             "tickcolor": "rgb(36,36,36)",
             "ticks": "outside"
            },
            "colorscale": [
             [
              0,
              "#440154"
             ],
             [
              0.1111111111111111,
              "#482878"
             ],
             [
              0.2222222222222222,
              "#3e4989"
             ],
             [
              0.3333333333333333,
              "#31688e"
             ],
             [
              0.4444444444444444,
              "#26828e"
             ],
             [
              0.5555555555555556,
              "#1f9e89"
             ],
             [
              0.6666666666666666,
              "#35b779"
             ],
             [
              0.7777777777777778,
              "#6ece58"
             ],
             [
              0.8888888888888888,
              "#b5de2b"
             ],
             [
              1,
              "#fde725"
             ]
            ],
            "type": "surface"
           }
          ],
          "table": [
           {
            "cells": {
             "fill": {
              "color": "rgb(237,237,237)"
             },
             "line": {
              "color": "white"
             }
            },
            "header": {
             "fill": {
              "color": "rgb(217,217,217)"
             },
             "line": {
              "color": "white"
             }
            },
            "type": "table"
           }
          ]
         },
         "layout": {
          "annotationdefaults": {
           "arrowhead": 0,
           "arrowwidth": 1
          },
          "autotypenumbers": "strict",
          "coloraxis": {
           "colorbar": {
            "outlinewidth": 1,
            "tickcolor": "rgb(36,36,36)",
            "ticks": "outside"
           }
          },
          "colorscale": {
           "diverging": [
            [
             0,
             "rgb(103,0,31)"
            ],
            [
             0.1,
             "rgb(178,24,43)"
            ],
            [
             0.2,
             "rgb(214,96,77)"
            ],
            [
             0.3,
             "rgb(244,165,130)"
            ],
            [
             0.4,
             "rgb(253,219,199)"
            ],
            [
             0.5,
             "rgb(247,247,247)"
            ],
            [
             0.6,
             "rgb(209,229,240)"
            ],
            [
             0.7,
             "rgb(146,197,222)"
            ],
            [
             0.8,
             "rgb(67,147,195)"
            ],
            [
             0.9,
             "rgb(33,102,172)"
            ],
            [
             1,
             "rgb(5,48,97)"
            ]
           ],
           "sequential": [
            [
             0,
             "#440154"
            ],
            [
             0.1111111111111111,
             "#482878"
            ],
            [
             0.2222222222222222,
             "#3e4989"
            ],
            [
             0.3333333333333333,
             "#31688e"
            ],
            [
             0.4444444444444444,
             "#26828e"
            ],
            [
             0.5555555555555556,
             "#1f9e89"
            ],
            [
             0.6666666666666666,
             "#35b779"
            ],
            [
             0.7777777777777778,
             "#6ece58"
            ],
            [
             0.8888888888888888,
             "#b5de2b"
            ],
            [
             1,
             "#fde725"
            ]
           ],
           "sequentialminus": [
            [
             0,
             "#440154"
            ],
            [
             0.1111111111111111,
             "#482878"
            ],
            [
             0.2222222222222222,
             "#3e4989"
            ],
            [
             0.3333333333333333,
             "#31688e"
            ],
            [
             0.4444444444444444,
             "#26828e"
            ],
            [
             0.5555555555555556,
             "#1f9e89"
            ],
            [
             0.6666666666666666,
             "#35b779"
            ],
            [
             0.7777777777777778,
             "#6ece58"
            ],
            [
             0.8888888888888888,
             "#b5de2b"
            ],
            [
             1,
             "#fde725"
            ]
           ]
          },
          "colorway": [
           "#1F77B4",
           "#FF7F0E",
           "#2CA02C",
           "#D62728",
           "#9467BD",
           "#8C564B",
           "#E377C2",
           "#7F7F7F",
           "#BCBD22",
           "#17BECF"
          ],
          "font": {
           "color": "rgb(36,36,36)"
          },
          "geo": {
           "bgcolor": "white",
           "lakecolor": "white",
           "landcolor": "white",
           "showlakes": true,
           "showland": true,
           "subunitcolor": "white"
          },
          "hoverlabel": {
           "align": "left"
          },
          "hovermode": "closest",
          "mapbox": {
           "style": "light"
          },
          "paper_bgcolor": "white",
          "plot_bgcolor": "white",
          "polar": {
           "angularaxis": {
            "gridcolor": "rgb(232,232,232)",
            "linecolor": "rgb(36,36,36)",
            "showgrid": false,
            "showline": true,
            "ticks": "outside"
           },
           "bgcolor": "white",
           "radialaxis": {
            "gridcolor": "rgb(232,232,232)",
            "linecolor": "rgb(36,36,36)",
            "showgrid": false,
            "showline": true,
            "ticks": "outside"
           }
          },
          "scene": {
           "xaxis": {
            "backgroundcolor": "white",
            "gridcolor": "rgb(232,232,232)",
            "gridwidth": 2,
            "linecolor": "rgb(36,36,36)",
            "showbackground": true,
            "showgrid": false,
            "showline": true,
            "ticks": "outside",
            "zeroline": false,
            "zerolinecolor": "rgb(36,36,36)"
           },
           "yaxis": {
            "backgroundcolor": "white",
            "gridcolor": "rgb(232,232,232)",
            "gridwidth": 2,
            "linecolor": "rgb(36,36,36)",
            "showbackground": true,
            "showgrid": false,
            "showline": true,
            "ticks": "outside",
            "zeroline": false,
            "zerolinecolor": "rgb(36,36,36)"
           },
           "zaxis": {
            "backgroundcolor": "white",
            "gridcolor": "rgb(232,232,232)",
            "gridwidth": 2,
            "linecolor": "rgb(36,36,36)",
            "showbackground": true,
            "showgrid": false,
            "showline": true,
            "ticks": "outside",
            "zeroline": false,
            "zerolinecolor": "rgb(36,36,36)"
           }
          },
          "shapedefaults": {
           "fillcolor": "black",
           "line": {
            "width": 0
           },
           "opacity": 0.3
          },
          "ternary": {
           "aaxis": {
            "gridcolor": "rgb(232,232,232)",
            "linecolor": "rgb(36,36,36)",
            "showgrid": false,
            "showline": true,
            "ticks": "outside"
           },
           "baxis": {
            "gridcolor": "rgb(232,232,232)",
            "linecolor": "rgb(36,36,36)",
            "showgrid": false,
            "showline": true,
            "ticks": "outside"
           },
           "bgcolor": "white",
           "caxis": {
            "gridcolor": "rgb(232,232,232)",
            "linecolor": "rgb(36,36,36)",
            "showgrid": false,
            "showline": true,
            "ticks": "outside"
           }
          },
          "title": {
           "x": 0.05
          },
          "xaxis": {
           "automargin": true,
           "gridcolor": "rgb(232,232,232)",
           "linecolor": "rgb(36,36,36)",
           "showgrid": false,
           "showline": true,
           "ticks": "outside",
           "title": {
            "standoff": 15
           },
           "zeroline": false,
           "zerolinecolor": "rgb(36,36,36)"
          },
          "yaxis": {
           "automargin": true,
           "gridcolor": "rgb(232,232,232)",
           "linecolor": "rgb(36,36,36)",
           "showgrid": false,
           "showline": true,
           "ticks": "outside",
           "title": {
            "standoff": 15
           },
           "zeroline": false,
           "zerolinecolor": "rgb(36,36,36)"
          }
         }
        },
        "title": {
         "font": {
          "color": "Black",
          "size": 22
         },
         "text": "<b>Topics over Time</b>",
         "x": 0.4,
         "xanchor": "center",
         "y": 0.95,
         "yanchor": "top"
        },
        "width": 1250,
        "xaxis": {
         "showgrid": true
        },
        "yaxis": {
         "showgrid": true,
         "title": {
          "text": "Frequency"
         }
        }
       }
      }
     },
     "metadata": {},
     "output_type": "display_data"
    }
   ],
   "source": [
    "neg_model.visualize_topics_over_time(neg_topics_over_time, top_n_topics=50)"
   ]
  },
  {
   "cell_type": "code",
   "execution_count": 22,
   "metadata": {},
   "outputs": [
    {
     "name": "stderr",
     "output_type": "stream",
     "text": [
      "5it [00:01,  3.29it/s]\n"
     ]
    }
   ],
   "source": [
    "neg_topics_over_time = neg_model.topics_over_time(neg_docs, neg_extra_content_release, nr_bins=20)"
   ]
  },
  {
   "cell_type": "code",
   "execution_count": 23,
   "metadata": {},
   "outputs": [
    {
     "data": {
      "application/vnd.plotly.v1+json": {
       "config": {
        "plotlyServerURL": "https://plot.ly"
       },
       "data": [
        {
         "hoverinfo": "text",
         "hovertext": [
          "<b>Topic 0</b><br>Words: pc, controller, mouse, port, keyboard",
          "<b>Topic 0</b><br>Words: pc, xbox, controller, mouse, keyboard",
          "<b>Topic 0</b><br>Words: pc, controller, control, keyboard, xbox",
          "<b>Topic 0</b><br>Words: pc, port, mouse, controller, keyboard",
          "<b>Topic 0</b><br>Words: controller, pc, keyboard, mouse, port"
         ],
         "marker": {
          "color": "#E69F00"
         },
         "mode": "lines",
         "name": "0_controller_pc_keyboard_mouse",
         "type": "scatter",
         "x": [
          "2014-03-10T14:44:09.600000",
          "2014-07-04T19:12:00",
          "2014-08-12T09:36:00",
          "2014-09-20T00:00:00",
          "2015-03-12T16:48:00"
         ],
         "y": [
          270,
          19,
          17,
          92,
          653
         ]
        },
        {
         "hoverinfo": "text",
         "hovertext": [
          "<b>Topic 1</b><br>Words: pvp, boss, player, weapon, hit",
          "<b>Topic 1</b><br>Words: weapon, player, die, lose, boss",
          "<b>Topic 1</b><br>Words: covenant, plus, sky, hack, lag",
          "<b>Topic 1</b><br>Words: world, boss, player, kill, time",
          "<b>Topic 1</b><br>Words: boss, enemy, area, attack, fight"
         ],
         "marker": {
          "color": "#56B4E9"
         },
         "mode": "lines",
         "name": "1_enemy_area_bos_player",
         "type": "scatter",
         "x": [
          "2014-03-10T14:44:09.600000",
          "2014-07-04T19:12:00",
          "2014-08-12T09:36:00",
          "2014-09-20T00:00:00",
          "2015-03-12T16:48:00"
         ],
         "y": [
          41,
          8,
          5,
          33,
          552
         ]
        },
        {
         "hoverinfo": "text",
         "hovertext": [
          "<b>Topic 2</b><br>Words: burh, ahhhhhhhhhhhhhhhhhhhhhhhhhhhhhhhhhhhhhhhhhhhhhhhhhhhhhhhhhhhhhhhhhhhhhhhhhhhhhhhhhhhhhhhhhhhhhhhhhhhhhhhhhhhhhhhhhhhhhhhhhhhhhhhhhhhhhhhhhhhhhhhhhhhhhhhhhhhhhhhhhhhhhhhhhhhhhhhhhhhhhhhhhhhhhhhhhhhhhhhhhhhhhhhhhhhhhhhhhhhhhhhhhhhhhhhhhhhhhhhhhhhhhhhhhhhhhhhhhhhhhhhh, werty, xddddddddddddddddddddddddddddddddddddddddddddddddddddddddddddddddddddddddddddddddddddddddddddddddddddddddddddddddddddddddddddddddddddddddddddddddddddddddddddddddddddddddddddddddddddddddddddddddddddddddddddddddddddddddddddddddddddddddddddddddddddddddddddddddddddddddddddddddddddddddddddddddddddddddddddddddddddddddddddddddddddddddddddddddddddddddddddddddddddddddddddddddddddddddddddddddddddddddddddddddddddddddddddddddddddddddddddddddddd, xy",
          "<b>Topic 2</b><br>Words: burh, ahhhhhhhhhhhhhhhhhhhhhhhhhhhhhhhhhhhhhhhhhhhhhhhhhhhhhhhhhhhhhhhhhhhhhhhhhhhhhhhhhhhhhhhhhhhhhhhhhhhhhhhhhhhhhhhhhhhhhhhhhhhhhhhhhhhhhhhhhhhhhhhhhhhhhhhhhhhhhhhhhhhhhhhhhhhhhhhhhhhhhhhhhhhhhhhhhhhhhhhhhhhhhhhhhhhhhhhhhhhhhhhhhhhhhhhhhhhhhhhhhhhhhhhhhhhhhhhhhhhhhhhh, werty, xddddddddddddddddddddddddddddddddddddddddddddddddddddddddddddddddddddddddddddddddddddddddddddddddddddddddddddddddddddddddddddddddddddddddddddddddddddddddddddddddddddddddddddddddddddddddddddddddddddddddddddddddddddddddddddddddddddddddddddddddddddddddddddddddddddddddddddddddddddddddddddddddddddddddddddddddddddddddddddddddddddddddddddddddddddddddddddddddddddddddddddddddddddddddddddddddddddddddddddddddddddddddddddddddddddddddddddddddddd, xy",
          "<b>Topic 2</b><br>Words: burh, ahhhhhhhhhhhhhhhhhhhhhhhhhhhhhhhhhhhhhhhhhhhhhhhhhhhhhhhhhhhhhhhhhhhhhhhhhhhhhhhhhhhhhhhhhhhhhhhhhhhhhhhhhhhhhhhhhhhhhhhhhhhhhhhhhhhhhhhhhhhhhhhhhhhhhhhhhhhhhhhhhhhhhhhhhhhhhhhhhhhhhhhhhhhhhhhhhhhhhhhhhhhhhhhhhhhhhhhhhhhhhhhhhhhhhhhhhhhhhhhhhhhhhhhhhhhhhhhhhhhhhhhh, werty, xddddddddddddddddddddddddddddddddddddddddddddddddddddddddddddddddddddddddddddddddddddddddddddddddddddddddddddddddddddddddddddddddddddddddddddddddddddddddddddddddddddddddddddddddddddddddddddddddddddddddddddddddddddddddddddddddddddddddddddddddddddddddddddddddddddddddddddddddddddddddddddddddddddddddddddddddddddddddddddddddddddddddddddddddddddddddddddddddddddddddddddddddddddddddddddddddddddddddddddddddddddddddddddddddddddddddddddddddddd, xy",
          "<b>Topic 2</b><br>Words: burh, ahhhhhhhhhhhhhhhhhhhhhhhhhhhhhhhhhhhhhhhhhhhhhhhhhhhhhhhhhhhhhhhhhhhhhhhhhhhhhhhhhhhhhhhhhhhhhhhhhhhhhhhhhhhhhhhhhhhhhhhhhhhhhhhhhhhhhhhhhhhhhhhhhhhhhhhhhhhhhhhhhhhhhhhhhhhhhhhhhhhhhhhhhhhhhhhhhhhhhhhhhhhhhhhhhhhhhhhhhhhhhhhhhhhhhhhhhhhhhhhhhhhhhhhhhhhhhhhhhhhhhhhh, werty, xddddddddddddddddddddddddddddddddddddddddddddddddddddddddddddddddddddddddddddddddddddddddddddddddddddddddddddddddddddddddddddddddddddddddddddddddddddddddddddddddddddddddddddddddddddddddddddddddddddddddddddddddddddddddddddddddddddddddddddddddddddddddddddddddddddddddddddddddddddddddddddddddddddddddddddddddddddddddddddddddddddddddddddddddddddddddddddddddddddddddddddddddddddddddddddddddddddddddddddddddddddddddddddddddddddddddddddddddddd, xy"
         ],
         "marker": {
          "color": "#009E73"
         },
         "mode": "lines",
         "name": "2_xddddddddddddddddddddddddddddddddddddd...",
         "type": "scatter",
         "x": [
          "2014-03-10T14:44:09.600000",
          "2014-07-04T19:12:00",
          "2014-09-20T00:00:00",
          "2015-03-12T16:48:00"
         ],
         "y": [
          6,
          1,
          3,
          333
         ]
        },
        {
         "hoverinfo": "text",
         "hovertext": [
          "<b>Topic 3</b><br>Words: report, destroy, poorly, bad, horrible",
          "<b>Topic 3</b><br>Words: bad, far, terrible, tarkov, conceivable"
         ],
         "marker": {
          "color": "#F0E442"
         },
         "mode": "lines",
         "name": "3_bad_ever_far_terrible",
         "type": "scatter",
         "x": [
          "2014-09-20T00:00:00",
          "2015-03-12T16:48:00"
         ],
         "y": [
          3,
          157
         ]
        },
        {
         "hoverinfo": "text",
         "hovertext": [
          "<b>Topic 4</b><br>Words: pvp, lag, pve, multiplayer, co",
          "<b>Topic 4</b><br>Words: pvp, bye, forum, rpgs, exit",
          "<b>Topic 4</b><br>Words: pvp, rewarding, hacker, pve, investigate",
          "<b>Topic 4</b><br>Words: pvp, pve, lagger, lag, fun",
          "<b>Topic 4</b><br>Words: pvp, pve, player, memory, fun"
         ],
         "marker": {
          "color": "#D55E00"
         },
         "mode": "lines",
         "name": "4_pvp_pve_lag_player",
         "type": "scatter",
         "x": [
          "2014-03-10T14:44:09.600000",
          "2014-07-04T19:12:00",
          "2014-08-12T09:36:00",
          "2014-09-20T00:00:00",
          "2015-03-12T16:48:00"
         ],
         "y": [
          29,
          3,
          5,
          19,
          95
         ]
        },
        {
         "hoverinfo": "text",
         "hovertext": [
          "<b>Topic 5</b><br>Words: buy, netcote, awful, disgrace, rubbish",
          "<b>Topic 5</b><br>Words: expect, save, money, good, buy",
          "<b>Topic 5</b><br>Words: buy, twice, ecspect, ptd, nice",
          "<b>Topic 5</b><br>Words: buy, purchase, instead, sale, suck"
         ],
         "marker": {
          "color": "#0072B2"
         },
         "mode": "lines",
         "name": "5_buy_purchase_dont_instead",
         "type": "scatter",
         "x": [
          "2014-03-10T14:44:09.600000",
          "2014-08-12T09:36:00",
          "2014-09-20T00:00:00",
          "2015-03-12T16:48:00"
         ],
         "y": [
          8,
          1,
          11,
          117
         ]
        },
        {
         "hoverinfo": "text",
         "hovertext": [
          "<b>Topic 6</b><br>Words: bad, haha, sorry, yeah, somehow",
          "<b>Topic 6</b><br>Words: bad, haha, sorry, yeah, somehow",
          "<b>Topic 6</b><br>Words: bad, haha, sorry, yeah, worst"
         ],
         "marker": {
          "color": "#CC79A7"
         },
         "mode": "lines",
         "name": "6_bad_haha_sorry_yeah",
         "type": "scatter",
         "x": [
          "2014-03-10T14:44:09.600000",
          "2014-09-20T00:00:00",
          "2015-03-12T16:48:00"
         ],
         "y": [
          1,
          1,
          126
         ]
        },
        {
         "hoverinfo": "text",
         "hovertext": [
          "<b>Topic 7</b><br>Words: soulless, bad, play, merely, apparently",
          "<b>Topic 7</b><br>Words: horrid, predecessor, let, great, play",
          "<b>Topic 7</b><br>Words: bad, play, ever, fucking, life"
         ],
         "marker": {
          "color": "#E69F00"
         },
         "mode": "lines",
         "name": "7_ever_bad_play_game",
         "type": "scatter",
         "x": [
          "2014-03-10T14:44:09.600000",
          "2014-08-12T09:36:00",
          "2015-03-12T16:48:00"
         ],
         "y": [
          6,
          1,
          119
         ]
        },
        {
         "hoverinfo": "text",
         "hovertext": [
          "<b>Topic 8</b><br>Words: design, sculpture, downie, edied, tae",
          "<b>Topic 8</b><br>Words: justice, wave, equal, warp, ability",
          "<b>Topic 8</b><br>Words: poorly, testing, inadequate, thoroughly, pair",
          "<b>Topic 8</b><br>Words: design, level, boss, boring, bad"
         ],
         "marker": {
          "color": "#56B4E9"
         },
         "mode": "lines",
         "name": "8_design_level_boring_boss",
         "type": "scatter",
         "x": [
          "2014-03-10T14:44:09.600000",
          "2014-07-04T19:12:00",
          "2014-09-20T00:00:00",
          "2015-03-12T16:48:00"
         ],
         "y": [
          6,
          1,
          2,
          114
         ]
        },
        {
         "hoverinfo": "text",
         "hovertext": [
          "<b>Topic 9</b><br>Words: elden, ring, play, ctrl, multiplayer"
         ],
         "marker": {
          "color": "#009E73"
         },
         "mode": "lines",
         "name": "9_elden_ring_play_ctrl",
         "type": "scatter",
         "x": [
          "2015-03-12T16:48:00"
         ],
         "y": [
          99
         ]
        },
        {
         "hoverinfo": "text",
         "hovertext": [
          "<b>Topic 10</b><br>Words: version, dx, buy, new, release",
          "<b>Topic 10</b><br>Words: version, release, dx, upgrade, buy"
         ],
         "marker": {
          "color": "#F0E442"
         },
         "mode": "lines",
         "name": "10_version_dx_release_buy",
         "type": "scatter",
         "x": [
          "2014-09-20T00:00:00",
          "2015-03-12T16:48:00"
         ],
         "y": [
          52,
          43
         ]
        },
        {
         "hoverinfo": "text",
         "hovertext": [
          "<b>Topic 11</b><br>Words: challenge, flaw, button, certain, kill",
          "<b>Topic 11</b><br>Words: blizzard, goodjob, cunty, stab, warcraft",
          "<b>Topic 11</b><br>Words: quit, worthless, costly, insainly, van",
          "<b>Topic 11</b><br>Words: boss, enemy, die, hit, dodge"
         ],
         "marker": {
          "color": "#D55E00"
         },
         "mode": "lines",
         "name": "11_die_enemy_hit_dodge",
         "type": "scatter",
         "x": [
          "2014-03-10T14:44:09.600000",
          "2014-08-12T09:36:00",
          "2014-09-20T00:00:00",
          "2015-03-12T16:48:00"
         ],
         "y": [
          4,
          1,
          1,
          88
         ]
        },
        {
         "hoverinfo": "text",
         "hovertext": [
          "<b>Topic 12</b><br>Words: minute, play, dont, fun, way",
          "<b>Topic 12</b><br>Words: free, play, dont, feel, id",
          "<b>Topic 12</b><br>Words: dont, peice, naked, finger, casual",
          "<b>Topic 12</b><br>Words: play, dont, grater, caress, pearly"
         ],
         "marker": {
          "color": "#0072B2"
         },
         "mode": "lines",
         "name": "12_dont_play_id_else",
         "type": "scatter",
         "x": [
          "2014-03-10T14:44:09.600000",
          "2014-07-04T19:12:00",
          "2014-09-20T00:00:00",
          "2015-03-12T16:48:00"
         ],
         "y": [
          3,
          1,
          1,
          83
         ]
        },
        {
         "hoverinfo": "text",
         "hovertext": [
          "<b>Topic 13</b><br>Words: trash, actually, go, bin, muk",
          "<b>Topic 13</b><br>Words: trash, bin, muk, thank, whacanisay"
         ],
         "marker": {
          "color": "#CC79A7"
         },
         "mode": "lines",
         "name": "13_trash_bin_muk_whacanisay",
         "type": "scatter",
         "x": [
          "2014-03-10T14:44:09.600000",
          "2015-03-12T16:48:00"
         ],
         "y": [
          3,
          83
         ]
        },
        {
         "hoverinfo": "text",
         "hovertext": [
          "<b>Topic 14</b><br>Words: vac, ban, cheater, hacker, cheat",
          "<b>Topic 14</b><br>Words: valve, ban, soft, cheat, invasion",
          "<b>Topic 14</b><br>Words: ban, legitimate, hacker, query, posibility",
          "<b>Topic 14</b><br>Words: ban, softbanned, softban, cheater, hacker",
          "<b>Topic 14</b><br>Words: ban, hacker, cheater, mod, cheat"
         ],
         "marker": {
          "color": "#E69F00"
         },
         "mode": "lines",
         "name": "14_ban_cheater_vac_hacker",
         "type": "scatter",
         "x": [
          "2014-03-10T14:44:09.600000",
          "2014-07-04T19:12:00",
          "2014-08-12T09:36:00",
          "2014-09-20T00:00:00",
          "2015-03-12T16:48:00"
         ],
         "y": [
          11,
          1,
          4,
          6,
          62
         ]
        },
        {
         "hoverinfo": "text",
         "hovertext": [
          "<b>Topic 15</b><br>Words: erroneous, expiration, blisteringly, hitboxes, element",
          "<b>Topic 15</b><br>Words: ok, em, teach, netcode, respect",
          "<b>Topic 15</b><br>Words: box, hitboxes, hitbox, hit, size"
         ],
         "marker": {
          "color": "#56B4E9"
         },
         "mode": "lines",
         "name": "15_hitboxes_box_hitbox_hit",
         "type": "scatter",
         "x": [
          "2014-03-10T14:44:09.600000",
          "2014-09-20T00:00:00",
          "2015-03-12T16:48:00"
         ],
         "y": [
          2,
          2,
          74
         ]
        },
        {
         "hoverinfo": "text",
         "hovertext": [
          "<b>Topic 16</b><br>Words: step, huge, original, take, skip",
          "<b>Topic 16</b><br>Words: firelink, miss, skip, one, walk",
          "<b>Topic 16</b><br>Words: skip, walk, iii, firelink, miss"
         ],
         "marker": {
          "color": "#009E73"
         },
         "mode": "lines",
         "name": "16_skip_one_walk_third",
         "type": "scatter",
         "x": [
          "2014-03-10T14:44:09.600000",
          "2014-09-20T00:00:00",
          "2015-03-12T16:48:00"
         ],
         "y": [
          1,
          1,
          74
         ]
        },
        {
         "hoverinfo": "text",
         "hovertext": [
          "<b>Topic 17</b><br>Words: away, series, come, new, bad",
          "<b>Topic 17</b><br>Words: star, zero, insane, wish, series",
          "<b>Topic 17</b><br>Words: abortion, pls, series, live, fail",
          "<b>Topic 17</b><br>Words: series, bad, far, stain, entry"
         ],
         "marker": {
          "color": "#F0E442"
         },
         "mode": "lines",
         "name": "17_series_bad_worst_far",
         "type": "scatter",
         "x": [
          "2014-03-10T14:44:09.600000",
          "2014-07-04T19:12:00",
          "2014-09-20T00:00:00",
          "2015-03-12T16:48:00"
         ],
         "y": [
          1,
          1,
          2,
          71
         ]
        },
        {
         "hoverinfo": "text",
         "hovertext": [
          "<b>Topic 18</b><br>Words: control, controll, year, storyless, shit",
          "<b>Topic 18</b><br>Words: storyline, control, unplayable, community, awful",
          "<b>Topic 18</b><br>Words: control, unplayable, horrible, awful, unintuitive"
         ],
         "marker": {
          "color": "#D55E00"
         },
         "mode": "lines",
         "name": "18_control_unplayable_horrible_controlls",
         "type": "scatter",
         "x": [
          "2014-03-10T14:44:09.600000",
          "2014-09-20T00:00:00",
          "2015-03-12T16:48:00"
         ],
         "y": [
          15,
          2,
          57
         ]
        },
        {
         "hoverinfo": "text",
         "hovertext": [
          "<b>Topic 19</b><br>Words: screen, black, white, crash, monitor",
          "<b>Topic 19</b><br>Words: overheat, crysis, laptop, puzzle, setting",
          "<b>Topic 19</b><br>Words: framerate, tie, bug, copy, update",
          "<b>Topic 19</b><br>Words: screen, fullscreen, hz, monitor, fix"
         ],
         "marker": {
          "color": "#0072B2"
         },
         "mode": "lines",
         "name": "19_screen_fullscreen_hz_monitor",
         "type": "scatter",
         "x": [
          "2014-03-10T14:44:09.600000",
          "2014-07-04T19:12:00",
          "2014-09-20T00:00:00",
          "2015-03-12T16:48:00"
         ],
         "y": [
          7,
          1,
          1,
          65
         ]
        },
        {
         "hoverinfo": "text",
         "hovertext": [
          "<b>Topic 20</b><br>Words: shit, crap, wtf, dis, mom",
          "<b>Topic 20</b><br>Words: crap, shit, utter, wtf, dis",
          "<b>Topic 20</b><br>Words: shit, crap, wtf, dis, mom"
         ],
         "marker": {
          "color": "#CC79A7"
         },
         "mode": "lines",
         "name": "20_shit_crap_wtf_dis",
         "type": "scatter",
         "x": [
          "2014-03-10T14:44:09.600000",
          "2014-08-12T09:36:00",
          "2015-03-12T16:48:00"
         ],
         "y": [
          3,
          1,
          65
         ]
        },
        {
         "hoverinfo": "text",
         "hovertext": [
          "<b>Topic 21</b><br>Words: soulsborne, sekiro, play, bloodborne, bad"
         ],
         "marker": {
          "color": "#E69F00"
         },
         "mode": "lines",
         "name": "21_soulsborne_game_sekiro_play",
         "type": "scatter",
         "x": [
          "2015-03-12T16:48:00"
         ],
         "y": [
          69
         ]
        },
        {
         "hoverinfo": "text",
         "hovertext": [
          "<b>Topic 22</b><br>Words: serls, derk, durrrrrr, lewk, fray",
          "<b>Topic 22</b><br>Words: miyazaki, direct, hidetaka, boss, series"
         ],
         "marker": {
          "color": "#56B4E9"
         },
         "mode": "lines",
         "name": "22_miyazaki_hidetaka_direct_series",
         "type": "scatter",
         "x": [
          "2014-03-10T14:44:09.600000",
          "2015-03-12T16:48:00"
         ],
         "y": [
          1,
          62
         ]
        },
        {
         "hoverinfo": "text",
         "hovertext": [
          "<b>Topic 23</b><br>Words: suck, heaven, high, bravo, sucker",
          "<b>Topic 23</b><br>Words: suck, bravo, team, sucker, heaven",
          "<b>Topic 23</b><br>Words: suck, bravo, sucker, heaven, salty",
          "<b>Topic 23</b><br>Words: suck, sucker, salty, xd, nut"
         ],
         "marker": {
          "color": "#009E73"
         },
         "mode": "lines",
         "name": "23_suck_bravo_sucker_heaven",
         "type": "scatter",
         "x": [
          "2014-03-10T14:44:09.600000",
          "2014-07-04T19:12:00",
          "2014-08-12T09:36:00",
          "2015-03-12T16:48:00"
         ],
         "y": [
          2,
          1,
          1,
          58
         ]
        },
        {
         "hoverinfo": "text",
         "hovertext": [
          "<b>Topic 24</b><br>Words: horrrible, garbage, retarded, pile, ass",
          "<b>Topic 24</b><br>Words: challange, garbage, cost, avoid, skill",
          "<b>Topic 24</b><br>Words: garbage, trash, rubbish, compare, pile"
         ],
         "marker": {
          "color": "#F0E442"
         },
         "mode": "lines",
         "name": "24_garbage_trash_rubbish_pile",
         "type": "scatter",
         "x": [
          "2014-03-10T14:44:09.600000",
          "2014-09-20T00:00:00",
          "2015-03-12T16:48:00"
         ],
         "y": [
          2,
          2,
          58
         ]
        },
        {
         "hoverinfo": "text",
         "hovertext": [
          "<b>Topic 25</b><br>Words: series, bad, fight, st, level"
         ],
         "marker": {
          "color": "#D55E00"
         },
         "mode": "lines",
         "name": "25_series_bad_fight_st",
         "type": "scatter",
         "x": [
          "2015-03-12T16:48:00"
         ],
         "y": [
          58
         ]
        },
        {
         "hoverinfo": "text",
         "hovertext": [
          "<b>Topic 26</b><br>Words: version, hd, release, buy, wait",
          "<b>Topic 26</b><br>Words: version, release, buy, april, hd"
         ],
         "marker": {
          "color": "#0072B2"
         },
         "mode": "lines",
         "name": "26_version_release_hd_buy",
         "type": "scatter",
         "x": [
          "2014-09-20T00:00:00",
          "2015-03-12T16:48:00"
         ],
         "y": [
          40,
          18
         ]
        },
        {
         "hoverinfo": "text",
         "hovertext": [
          "<b>Topic 27</b><br>Words: strange, awkward, terrible, awful, horrible",
          "<b>Topic 27</b><br>Words: terrible, awful, horrible, absolutely, fing"
         ],
         "marker": {
          "color": "#CC79A7"
         },
         "mode": "lines",
         "name": "27_terrible_awful_horrible_absolutely",
         "type": "scatter",
         "x": [
          "2014-09-20T00:00:00",
          "2015-03-12T16:48:00"
         ],
         "y": [
          1,
          54
         ]
        },
        {
         "hoverinfo": "text",
         "hovertext": [
          "<b>Topic 28</b><br>Words: censor, incredibly, sound, tin, soundscape",
          "<b>Topic 28</b><br>Words: distate, abject, depressingly, hightly, daren",
          "<b>Topic 28</b><br>Words: dawn, indication, intro, allright, appearence",
          "<b>Topic 28</b><br>Words: combat, feel, animation, design, quality"
         ],
         "marker": {
          "color": "#E69F00"
         },
         "mode": "lines",
         "name": "28_combat_animation_make_feel",
         "type": "scatter",
         "x": [
          "2014-03-10T14:44:09.600000",
          "2014-08-12T09:36:00",
          "2014-09-20T00:00:00",
          "2015-03-12T16:48:00"
         ],
         "y": [
          6,
          1,
          2,
          45
         ]
        },
        {
         "hoverinfo": "text",
         "hovertext": [
          "<b>Topic 29</b><br>Words: predeccesor, tragically, league, reputation, highly",
          "<b>Topic 29</b><br>Words: paywall, reveiw, screwing, visceral, ii",
          "<b>Topic 29</b><br>Words: series, bloodborne, recommend, trilogy, play"
         ],
         "marker": {
          "color": "#56B4E9"
         },
         "mode": "lines",
         "name": "29_series_bloodborne_game_recommend",
         "type": "scatter",
         "x": [
          "2014-03-10T14:44:09.600000",
          "2014-09-20T00:00:00",
          "2015-03-12T16:48:00"
         ],
         "y": [
          1,
          2,
          50
         ]
        },
        {
         "hoverinfo": "text",
         "hovertext": [
          "<b>Topic 30</b><br>Words: good, uh, nice, happy, glad",
          "<b>Topic 30</b><br>Words: good, uh, nice, happy, glad",
          "<b>Topic 30</b><br>Words: great, good, uh, nice, happy",
          "<b>Topic 30</b><br>Words: good, uh, thank, nice, happy"
         ],
         "marker": {
          "color": "#009E73"
         },
         "mode": "lines",
         "name": "30_good_uh_nice_happy",
         "type": "scatter",
         "x": [
          "2014-03-10T14:44:09.600000",
          "2014-08-12T09:36:00",
          "2014-09-20T00:00:00",
          "2015-03-12T16:48:00"
         ],
         "y": [
          1,
          2,
          1,
          47
         ]
        },
        {
         "hoverinfo": "text",
         "hovertext": [
          "<b>Topic 31</b><br>Words: making, fromsoft, server, turn, waste",
          "<b>Topic 31</b><br>Words: fromsoft, server, turn, fromsoftware, fromslop"
         ],
         "marker": {
          "color": "#F0E442"
         },
         "mode": "lines",
         "name": "31_fromsoft_server_turn_fromsoftware",
         "type": "scatter",
         "x": [
          "2014-09-20T00:00:00",
          "2015-03-12T16:48:00"
         ],
         "y": [
          1,
          47
         ]
        },
        {
         "hoverinfo": "text",
         "hovertext": [
          "<b>Topic 32</b><br>Words: trend, hate, follow, gamei, dislike",
          "<b>Topic 32</b><br>Words: gamei, hate, dislike, gameit, bullshish"
         ],
         "marker": {
          "color": "#D55E00"
         },
         "mode": "lines",
         "name": "32_gamei_hate_dislike_gameit",
         "type": "scatter",
         "x": [
          "2014-09-20T00:00:00",
          "2015-03-12T16:48:00"
         ],
         "y": [
          1,
          47
         ]
        },
        {
         "hoverinfo": "text",
         "hovertext": [
          "<b>Topic 33</b><br>Words: fecal, matter, poo, fart, poopoo",
          "<b>Topic 33</b><br>Words: poo, fart, poopoo, poop, poopy"
         ],
         "marker": {
          "color": "#0072B2"
         },
         "mode": "lines",
         "name": "33_poo_fart_poopoo_poop",
         "type": "scatter",
         "x": [
          "2014-03-10T14:44:09.600000",
          "2015-03-12T16:48:00"
         ],
         "y": [
          1,
          47
         ]
        },
        {
         "hoverinfo": "text",
         "hovertext": [
          "<b>Topic 34</b><br>Words: server, month, fix, bring, online"
         ],
         "marker": {
          "color": "#CC79A7"
         },
         "mode": "lines",
         "name": "34_server_month_fix_bring",
         "type": "scatter",
         "x": [
          "2015-03-12T16:48:00"
         ],
         "y": [
          47
         ]
        },
        {
         "hoverinfo": "text",
         "hovertext": [
          "<b>Topic 35</b><br>Words: ich, da, ist, bin, zum",
          "<b>Topic 35</b><br>Words: de, jogo, que, el, por"
         ],
         "marker": {
          "color": "#E69F00"
         },
         "mode": "lines",
         "name": "35_de_jogo_que_el",
         "type": "scatter",
         "x": [
          "2014-03-10T14:44:09.600000",
          "2015-03-12T16:48:00"
         ],
         "y": [
          1,
          46
         ]
        },
        {
         "hoverinfo": "text",
         "hovertext": [
          "<b>Topic 36</b><br>Words: murder, corrupt, file, download, drive",
          "<b>Topic 36</b><br>Words: respon, horible, saving, partner, dificulty",
          "<b>Topic 36</b><br>Words: save, file, delete, error, corrupt"
         ],
         "marker": {
          "color": "#56B4E9"
         },
         "mode": "lines",
         "name": "36_save_file_data_delete",
         "type": "scatter",
         "x": [
          "2014-03-10T14:44:09.600000",
          "2014-09-20T00:00:00",
          "2015-03-12T16:48:00"
         ],
         "y": [
          1,
          1,
          43
         ]
        },
        {
         "hoverinfo": "text",
         "hovertext": [
          "<b>Topic 37</b><br>Words: fluffy, tail, dog, nigger, shit",
          "<b>Topic 37</b><br>Words: dog, nigger, shit, water, dogwater"
         ],
         "marker": {
          "color": "#009E73"
         },
         "mode": "lines",
         "name": "37_dog_nigger_shit_water",
         "type": "scatter",
         "x": [
          "2014-08-12T09:36:00",
          "2015-03-12T16:48:00"
         ],
         "y": [
          1,
          44
         ]
        },
        {
         "hoverinfo": "text",
         "hovertext": [
          "<b>Topic 38</b><br>Words: pale, successor, sky, fukll, exepect",
          "<b>Topic 38</b><br>Words: cartoon, emperor, rpg, anime, backdrop",
          "<b>Topic 38</b><br>Words: zombie, pennys, ment, brainless, drug",
          "<b>Topic 38</b><br>Words: lore, world, series, gameplay, atmosphere"
         ],
         "marker": {
          "color": "#F0E442"
         },
         "mode": "lines",
         "name": "38_lore_world_gameplay_series",
         "type": "scatter",
         "x": [
          "2014-03-10T14:44:09.600000",
          "2014-08-12T09:36:00",
          "2014-09-20T00:00:00",
          "2015-03-12T16:48:00"
         ],
         "y": [
          3,
          1,
          1,
          40
         ]
        },
        {
         "hoverinfo": "text",
         "hovertext": [
          "<b>Topic 39</b><br>Words: big, let, look, like, hat",
          "<b>Topic 39</b><br>Words: like, hat, skunk, tittty, try",
          "<b>Topic 39</b><br>Words: like, tittty, skunk, try, dork"
         ],
         "marker": {
          "color": "#D55E00"
         },
         "mode": "lines",
         "name": "39_like_hat_skunk_tittty",
         "type": "scatter",
         "x": [
          "2014-03-10T14:44:09.600000",
          "2014-09-20T00:00:00",
          "2015-03-12T16:48:00"
         ],
         "y": [
          1,
          1,
          42
         ]
        },
        {
         "hoverinfo": "text",
         "hovertext": [
          "<b>Topic 40</b><br>Words: budy, campagin, goose, co, op",
          "<b>Topic 40</b><br>Words: coop, co, op, atall, assistance",
          "<b>Topic 40</b><br>Words: summon, friend, co, op, coop"
         ],
         "marker": {
          "color": "#0072B2"
         },
         "mode": "lines",
         "name": "40_summon_friend_co_op",
         "type": "scatter",
         "x": [
          "2014-03-10T14:44:09.600000",
          "2014-09-20T00:00:00",
          "2015-03-12T16:48:00"
         ],
         "y": [
          2,
          2,
          39
         ]
        },
        {
         "hoverinfo": "text",
         "hovertext": [
          "<b>Topic 41</b><br>Words: fuck, ahhhhhhhhhhhhhhhhh, canonical, aahhhhhhhhhhhhhhhhhhhhhhhhhhhhhhhhhhhhhhhhhhhhhhhhhhhhhhhhhhhhhhhhhhhhhhhhhhhhhhhhhhhhhhhhhhhhhhhhhhhhhhhhhhhhhhhhhhhhhhhhhhhhhhhhhhhhhhhhhhhhhhhhhhhhhhhhhhhhhhhhhhhhhhhhhhhhhhhhhhhhhhhhhhhhhhhhhhhhhhhaddghhhhhhhhhhhhhhh, fuckinfg",
          "<b>Topic 41</b><br>Words: fuck, fucking, team, ahhhhhhhhhhhhhhhhh, canonical",
          "<b>Topic 41</b><br>Words: fuck, aahhhhhhhhhhhhhhhhhhhhhhhhhhhhhhhhhhhhhhhhhhhhhhhhhhhhhhhhhhhhhhhhhhhhhhhhhhhhhhhhhhhhhhhhhhhhhhhhhhhhhhhhhhhhhhhhhhhhhhhhhhhhhhhhhhhhhhhhhhhhhhhhhhhhhhhhhhhhhhhhhhhhhhhhhhhhhhhhhhhhhhhhhhhhhhhhhhhhhhhaddghhhhhhhhhhhhhhh, ahhhhhhhhhhhhhhhhh, canonical, fuckinfg"
         ],
         "marker": {
          "color": "#CC79A7"
         },
         "mode": "lines",
         "name": "41_fuck_fuckinfg_canonical_ahhhhhhhhhhhh...",
         "type": "scatter",
         "x": [
          "2014-03-10T14:44:09.600000",
          "2014-09-20T00:00:00",
          "2015-03-12T16:48:00"
         ],
         "y": [
          1,
          2,
          40
         ]
        },
        {
         "hoverinfo": "text",
         "hovertext": [
          "<b>Topic 42</b><br>Words: grubby, inconveniently, distress, napster, riaa",
          "<b>Topic 42</b><br>Words: dlc, original, feel, dlcs, soup"
         ],
         "marker": {
          "color": "#E69F00"
         },
         "mode": "lines",
         "name": "42_dlc_original_dlcs_soup",
         "type": "scatter",
         "x": [
          "2014-09-20T00:00:00",
          "2015-03-12T16:48:00"
         ],
         "y": [
          2,
          40
         ]
        },
        {
         "hoverinfo": "text",
         "hovertext": [
          "<b>Topic 43</b><br>Words: challenge, hard, soft, easy, homosexual",
          "<b>Topic 43</b><br>Words: hard, level, soft, easy, homosexual",
          "<b>Topic 43</b><br>Words: homosexual, hard, hardness, rock, night",
          "<b>Topic 43</b><br>Words: hard, soft, easy, garfield, chakan"
         ],
         "marker": {
          "color": "#56B4E9"
         },
         "mode": "lines",
         "name": "43_hard_soft_easy_homosexual",
         "type": "scatter",
         "x": [
          "2014-03-10T14:44:09.600000",
          "2014-08-12T09:36:00",
          "2014-09-20T00:00:00",
          "2015-03-12T16:48:00"
         ],
         "y": [
          1,
          1,
          4,
          35
         ]
        },
        {
         "hoverinfo": "text",
         "hovertext": [
          "<b>Topic 44</b><br>Words: suck, fucking, fuck, fuckin, shit"
         ],
         "marker": {
          "color": "#009E73"
         },
         "mode": "lines",
         "name": "44_suck_fuck_fuckin_shit",
         "type": "scatter",
         "x": [
          "2015-03-12T16:48:00"
         ],
         "y": [
          38
         ]
        },
        {
         "hoverinfo": "text",
         "hovertext": [
          "<b>Topic 45</b><br>Words: gay, ass, butt, straight, cheek",
          "<b>Topic 45</b><br>Words: ass, gay, butt, straight, cheek"
         ],
         "marker": {
          "color": "#F0E442"
         },
         "mode": "lines",
         "name": "45_ass_gay_butt_straight",
         "type": "scatter",
         "x": [
          "2014-03-10T14:44:09.600000",
          "2015-03-12T16:48:00"
         ],
         "y": [
          1,
          37
         ]
        },
        {
         "hoverinfo": "text",
         "hovertext": [
          "<b>Topic 46</b><br>Words: school, hour, portray, pan, advertising",
          "<b>Topic 46</b><br>Words: honestly, waste, hour, money, shit",
          "<b>Topic 46</b><br>Words: reccommend, artorias, cuz, forever, hour",
          "<b>Topic 46</b><br>Words: hour, duck, play, ost, nut"
         ],
         "marker": {
          "color": "#D55E00"
         },
         "mode": "lines",
         "name": "46_hour_duck_play_cant",
         "type": "scatter",
         "x": [
          "2014-03-10T14:44:09.600000",
          "2014-08-12T09:36:00",
          "2014-09-20T00:00:00",
          "2015-03-12T16:48:00"
         ],
         "y": [
          3,
          1,
          1,
          32
         ]
        },
        {
         "hoverinfo": "text",
         "hovertext": [
          "<b>Topic 47</b><br>Words: bir, bu, bosslar, oyunu, gibi"
         ],
         "marker": {
          "color": "#0072B2"
         },
         "mode": "lines",
         "name": "47_bir_bu_bosslar_oyunu",
         "type": "scatter",
         "x": [
          "2015-03-12T16:48:00"
         ],
         "y": [
          36
         ]
        },
        {
         "hoverinfo": "text",
         "hovertext": [
          "<b>Topic 48</b><br>Words: dogshit, fucking, wtfffffffffffff, dogass, petrifyingly"
         ],
         "marker": {
          "color": "#CC79A7"
         },
         "mode": "lines",
         "name": "48_dogshit_wtfffffffffffff_horrifyingly_...",
         "type": "scatter",
         "x": [
          "2015-03-12T16:48:00"
         ],
         "y": [
          36
         ]
        },
        {
         "hoverinfo": "text",
         "hovertext": [
          "<b>Topic 49</b><br>Words: refund, synch, jerky, clip, holy",
          "<b>Topic 49</b><br>Words: refund, amuse, awhile, elaborate, japanese",
          "<b>Topic 49</b><br>Words: yellow, refund, white, actually, want",
          "<b>Topic 49</b><br>Words: refund, engine, cheat, screw, fun",
          "<b>Topic 49</b><br>Words: refund, grab, money, cash, free"
         ],
         "marker": {
          "color": "#E69F00"
         },
         "mode": "lines",
         "name": "49_refund_money_grab_cash",
         "type": "scatter",
         "x": [
          "2014-03-10T14:44:09.600000",
          "2014-07-04T19:12:00",
          "2014-08-12T09:36:00",
          "2014-09-20T00:00:00",
          "2015-03-12T16:48:00"
         ],
         "y": [
          4,
          2,
          1,
          1,
          28
         ]
        }
       ],
       "layout": {
        "height": 450,
        "hoverlabel": {
         "bgcolor": "white",
         "font": {
          "family": "Rockwell",
          "size": 16
         }
        },
        "legend": {
         "title": {
          "text": "<b>Global Topic Representation"
         }
        },
        "template": {
         "data": {
          "bar": [
           {
            "error_x": {
             "color": "rgb(36,36,36)"
            },
            "error_y": {
             "color": "rgb(36,36,36)"
            },
            "marker": {
             "line": {
              "color": "white",
              "width": 0.5
             },
             "pattern": {
              "fillmode": "overlay",
              "size": 10,
              "solidity": 0.2
             }
            },
            "type": "bar"
           }
          ],
          "barpolar": [
           {
            "marker": {
             "line": {
              "color": "white",
              "width": 0.5
             },
             "pattern": {
              "fillmode": "overlay",
              "size": 10,
              "solidity": 0.2
             }
            },
            "type": "barpolar"
           }
          ],
          "carpet": [
           {
            "aaxis": {
             "endlinecolor": "rgb(36,36,36)",
             "gridcolor": "white",
             "linecolor": "white",
             "minorgridcolor": "white",
             "startlinecolor": "rgb(36,36,36)"
            },
            "baxis": {
             "endlinecolor": "rgb(36,36,36)",
             "gridcolor": "white",
             "linecolor": "white",
             "minorgridcolor": "white",
             "startlinecolor": "rgb(36,36,36)"
            },
            "type": "carpet"
           }
          ],
          "choropleth": [
           {
            "colorbar": {
             "outlinewidth": 1,
             "tickcolor": "rgb(36,36,36)",
             "ticks": "outside"
            },
            "type": "choropleth"
           }
          ],
          "contour": [
           {
            "colorbar": {
             "outlinewidth": 1,
             "tickcolor": "rgb(36,36,36)",
             "ticks": "outside"
            },
            "colorscale": [
             [
              0,
              "#440154"
             ],
             [
              0.1111111111111111,
              "#482878"
             ],
             [
              0.2222222222222222,
              "#3e4989"
             ],
             [
              0.3333333333333333,
              "#31688e"
             ],
             [
              0.4444444444444444,
              "#26828e"
             ],
             [
              0.5555555555555556,
              "#1f9e89"
             ],
             [
              0.6666666666666666,
              "#35b779"
             ],
             [
              0.7777777777777778,
              "#6ece58"
             ],
             [
              0.8888888888888888,
              "#b5de2b"
             ],
             [
              1,
              "#fde725"
             ]
            ],
            "type": "contour"
           }
          ],
          "contourcarpet": [
           {
            "colorbar": {
             "outlinewidth": 1,
             "tickcolor": "rgb(36,36,36)",
             "ticks": "outside"
            },
            "type": "contourcarpet"
           }
          ],
          "heatmap": [
           {
            "colorbar": {
             "outlinewidth": 1,
             "tickcolor": "rgb(36,36,36)",
             "ticks": "outside"
            },
            "colorscale": [
             [
              0,
              "#440154"
             ],
             [
              0.1111111111111111,
              "#482878"
             ],
             [
              0.2222222222222222,
              "#3e4989"
             ],
             [
              0.3333333333333333,
              "#31688e"
             ],
             [
              0.4444444444444444,
              "#26828e"
             ],
             [
              0.5555555555555556,
              "#1f9e89"
             ],
             [
              0.6666666666666666,
              "#35b779"
             ],
             [
              0.7777777777777778,
              "#6ece58"
             ],
             [
              0.8888888888888888,
              "#b5de2b"
             ],
             [
              1,
              "#fde725"
             ]
            ],
            "type": "heatmap"
           }
          ],
          "heatmapgl": [
           {
            "colorbar": {
             "outlinewidth": 1,
             "tickcolor": "rgb(36,36,36)",
             "ticks": "outside"
            },
            "colorscale": [
             [
              0,
              "#440154"
             ],
             [
              0.1111111111111111,
              "#482878"
             ],
             [
              0.2222222222222222,
              "#3e4989"
             ],
             [
              0.3333333333333333,
              "#31688e"
             ],
             [
              0.4444444444444444,
              "#26828e"
             ],
             [
              0.5555555555555556,
              "#1f9e89"
             ],
             [
              0.6666666666666666,
              "#35b779"
             ],
             [
              0.7777777777777778,
              "#6ece58"
             ],
             [
              0.8888888888888888,
              "#b5de2b"
             ],
             [
              1,
              "#fde725"
             ]
            ],
            "type": "heatmapgl"
           }
          ],
          "histogram": [
           {
            "marker": {
             "line": {
              "color": "white",
              "width": 0.6
             }
            },
            "type": "histogram"
           }
          ],
          "histogram2d": [
           {
            "colorbar": {
             "outlinewidth": 1,
             "tickcolor": "rgb(36,36,36)",
             "ticks": "outside"
            },
            "colorscale": [
             [
              0,
              "#440154"
             ],
             [
              0.1111111111111111,
              "#482878"
             ],
             [
              0.2222222222222222,
              "#3e4989"
             ],
             [
              0.3333333333333333,
              "#31688e"
             ],
             [
              0.4444444444444444,
              "#26828e"
             ],
             [
              0.5555555555555556,
              "#1f9e89"
             ],
             [
              0.6666666666666666,
              "#35b779"
             ],
             [
              0.7777777777777778,
              "#6ece58"
             ],
             [
              0.8888888888888888,
              "#b5de2b"
             ],
             [
              1,
              "#fde725"
             ]
            ],
            "type": "histogram2d"
           }
          ],
          "histogram2dcontour": [
           {
            "colorbar": {
             "outlinewidth": 1,
             "tickcolor": "rgb(36,36,36)",
             "ticks": "outside"
            },
            "colorscale": [
             [
              0,
              "#440154"
             ],
             [
              0.1111111111111111,
              "#482878"
             ],
             [
              0.2222222222222222,
              "#3e4989"
             ],
             [
              0.3333333333333333,
              "#31688e"
             ],
             [
              0.4444444444444444,
              "#26828e"
             ],
             [
              0.5555555555555556,
              "#1f9e89"
             ],
             [
              0.6666666666666666,
              "#35b779"
             ],
             [
              0.7777777777777778,
              "#6ece58"
             ],
             [
              0.8888888888888888,
              "#b5de2b"
             ],
             [
              1,
              "#fde725"
             ]
            ],
            "type": "histogram2dcontour"
           }
          ],
          "mesh3d": [
           {
            "colorbar": {
             "outlinewidth": 1,
             "tickcolor": "rgb(36,36,36)",
             "ticks": "outside"
            },
            "type": "mesh3d"
           }
          ],
          "parcoords": [
           {
            "line": {
             "colorbar": {
              "outlinewidth": 1,
              "tickcolor": "rgb(36,36,36)",
              "ticks": "outside"
             }
            },
            "type": "parcoords"
           }
          ],
          "pie": [
           {
            "automargin": true,
            "type": "pie"
           }
          ],
          "scatter": [
           {
            "fillpattern": {
             "fillmode": "overlay",
             "size": 10,
             "solidity": 0.2
            },
            "type": "scatter"
           }
          ],
          "scatter3d": [
           {
            "line": {
             "colorbar": {
              "outlinewidth": 1,
              "tickcolor": "rgb(36,36,36)",
              "ticks": "outside"
             }
            },
            "marker": {
             "colorbar": {
              "outlinewidth": 1,
              "tickcolor": "rgb(36,36,36)",
              "ticks": "outside"
             }
            },
            "type": "scatter3d"
           }
          ],
          "scattercarpet": [
           {
            "marker": {
             "colorbar": {
              "outlinewidth": 1,
              "tickcolor": "rgb(36,36,36)",
              "ticks": "outside"
             }
            },
            "type": "scattercarpet"
           }
          ],
          "scattergeo": [
           {
            "marker": {
             "colorbar": {
              "outlinewidth": 1,
              "tickcolor": "rgb(36,36,36)",
              "ticks": "outside"
             }
            },
            "type": "scattergeo"
           }
          ],
          "scattergl": [
           {
            "marker": {
             "colorbar": {
              "outlinewidth": 1,
              "tickcolor": "rgb(36,36,36)",
              "ticks": "outside"
             }
            },
            "type": "scattergl"
           }
          ],
          "scattermapbox": [
           {
            "marker": {
             "colorbar": {
              "outlinewidth": 1,
              "tickcolor": "rgb(36,36,36)",
              "ticks": "outside"
             }
            },
            "type": "scattermapbox"
           }
          ],
          "scatterpolar": [
           {
            "marker": {
             "colorbar": {
              "outlinewidth": 1,
              "tickcolor": "rgb(36,36,36)",
              "ticks": "outside"
             }
            },
            "type": "scatterpolar"
           }
          ],
          "scatterpolargl": [
           {
            "marker": {
             "colorbar": {
              "outlinewidth": 1,
              "tickcolor": "rgb(36,36,36)",
              "ticks": "outside"
             }
            },
            "type": "scatterpolargl"
           }
          ],
          "scatterternary": [
           {
            "marker": {
             "colorbar": {
              "outlinewidth": 1,
              "tickcolor": "rgb(36,36,36)",
              "ticks": "outside"
             }
            },
            "type": "scatterternary"
           }
          ],
          "surface": [
           {
            "colorbar": {
             "outlinewidth": 1,
             "tickcolor": "rgb(36,36,36)",
             "ticks": "outside"
            },
            "colorscale": [
             [
              0,
              "#440154"
             ],
             [
              0.1111111111111111,
              "#482878"
             ],
             [
              0.2222222222222222,
              "#3e4989"
             ],
             [
              0.3333333333333333,
              "#31688e"
             ],
             [
              0.4444444444444444,
              "#26828e"
             ],
             [
              0.5555555555555556,
              "#1f9e89"
             ],
             [
              0.6666666666666666,
              "#35b779"
             ],
             [
              0.7777777777777778,
              "#6ece58"
             ],
             [
              0.8888888888888888,
              "#b5de2b"
             ],
             [
              1,
              "#fde725"
             ]
            ],
            "type": "surface"
           }
          ],
          "table": [
           {
            "cells": {
             "fill": {
              "color": "rgb(237,237,237)"
             },
             "line": {
              "color": "white"
             }
            },
            "header": {
             "fill": {
              "color": "rgb(217,217,217)"
             },
             "line": {
              "color": "white"
             }
            },
            "type": "table"
           }
          ]
         },
         "layout": {
          "annotationdefaults": {
           "arrowhead": 0,
           "arrowwidth": 1
          },
          "autotypenumbers": "strict",
          "coloraxis": {
           "colorbar": {
            "outlinewidth": 1,
            "tickcolor": "rgb(36,36,36)",
            "ticks": "outside"
           }
          },
          "colorscale": {
           "diverging": [
            [
             0,
             "rgb(103,0,31)"
            ],
            [
             0.1,
             "rgb(178,24,43)"
            ],
            [
             0.2,
             "rgb(214,96,77)"
            ],
            [
             0.3,
             "rgb(244,165,130)"
            ],
            [
             0.4,
             "rgb(253,219,199)"
            ],
            [
             0.5,
             "rgb(247,247,247)"
            ],
            [
             0.6,
             "rgb(209,229,240)"
            ],
            [
             0.7,
             "rgb(146,197,222)"
            ],
            [
             0.8,
             "rgb(67,147,195)"
            ],
            [
             0.9,
             "rgb(33,102,172)"
            ],
            [
             1,
             "rgb(5,48,97)"
            ]
           ],
           "sequential": [
            [
             0,
             "#440154"
            ],
            [
             0.1111111111111111,
             "#482878"
            ],
            [
             0.2222222222222222,
             "#3e4989"
            ],
            [
             0.3333333333333333,
             "#31688e"
            ],
            [
             0.4444444444444444,
             "#26828e"
            ],
            [
             0.5555555555555556,
             "#1f9e89"
            ],
            [
             0.6666666666666666,
             "#35b779"
            ],
            [
             0.7777777777777778,
             "#6ece58"
            ],
            [
             0.8888888888888888,
             "#b5de2b"
            ],
            [
             1,
             "#fde725"
            ]
           ],
           "sequentialminus": [
            [
             0,
             "#440154"
            ],
            [
             0.1111111111111111,
             "#482878"
            ],
            [
             0.2222222222222222,
             "#3e4989"
            ],
            [
             0.3333333333333333,
             "#31688e"
            ],
            [
             0.4444444444444444,
             "#26828e"
            ],
            [
             0.5555555555555556,
             "#1f9e89"
            ],
            [
             0.6666666666666666,
             "#35b779"
            ],
            [
             0.7777777777777778,
             "#6ece58"
            ],
            [
             0.8888888888888888,
             "#b5de2b"
            ],
            [
             1,
             "#fde725"
            ]
           ]
          },
          "colorway": [
           "#1F77B4",
           "#FF7F0E",
           "#2CA02C",
           "#D62728",
           "#9467BD",
           "#8C564B",
           "#E377C2",
           "#7F7F7F",
           "#BCBD22",
           "#17BECF"
          ],
          "font": {
           "color": "rgb(36,36,36)"
          },
          "geo": {
           "bgcolor": "white",
           "lakecolor": "white",
           "landcolor": "white",
           "showlakes": true,
           "showland": true,
           "subunitcolor": "white"
          },
          "hoverlabel": {
           "align": "left"
          },
          "hovermode": "closest",
          "mapbox": {
           "style": "light"
          },
          "paper_bgcolor": "white",
          "plot_bgcolor": "white",
          "polar": {
           "angularaxis": {
            "gridcolor": "rgb(232,232,232)",
            "linecolor": "rgb(36,36,36)",
            "showgrid": false,
            "showline": true,
            "ticks": "outside"
           },
           "bgcolor": "white",
           "radialaxis": {
            "gridcolor": "rgb(232,232,232)",
            "linecolor": "rgb(36,36,36)",
            "showgrid": false,
            "showline": true,
            "ticks": "outside"
           }
          },
          "scene": {
           "xaxis": {
            "backgroundcolor": "white",
            "gridcolor": "rgb(232,232,232)",
            "gridwidth": 2,
            "linecolor": "rgb(36,36,36)",
            "showbackground": true,
            "showgrid": false,
            "showline": true,
            "ticks": "outside",
            "zeroline": false,
            "zerolinecolor": "rgb(36,36,36)"
           },
           "yaxis": {
            "backgroundcolor": "white",
            "gridcolor": "rgb(232,232,232)",
            "gridwidth": 2,
            "linecolor": "rgb(36,36,36)",
            "showbackground": true,
            "showgrid": false,
            "showline": true,
            "ticks": "outside",
            "zeroline": false,
            "zerolinecolor": "rgb(36,36,36)"
           },
           "zaxis": {
            "backgroundcolor": "white",
            "gridcolor": "rgb(232,232,232)",
            "gridwidth": 2,
            "linecolor": "rgb(36,36,36)",
            "showbackground": true,
            "showgrid": false,
            "showline": true,
            "ticks": "outside",
            "zeroline": false,
            "zerolinecolor": "rgb(36,36,36)"
           }
          },
          "shapedefaults": {
           "fillcolor": "black",
           "line": {
            "width": 0
           },
           "opacity": 0.3
          },
          "ternary": {
           "aaxis": {
            "gridcolor": "rgb(232,232,232)",
            "linecolor": "rgb(36,36,36)",
            "showgrid": false,
            "showline": true,
            "ticks": "outside"
           },
           "baxis": {
            "gridcolor": "rgb(232,232,232)",
            "linecolor": "rgb(36,36,36)",
            "showgrid": false,
            "showline": true,
            "ticks": "outside"
           },
           "bgcolor": "white",
           "caxis": {
            "gridcolor": "rgb(232,232,232)",
            "linecolor": "rgb(36,36,36)",
            "showgrid": false,
            "showline": true,
            "ticks": "outside"
           }
          },
          "title": {
           "x": 0.05
          },
          "xaxis": {
           "automargin": true,
           "gridcolor": "rgb(232,232,232)",
           "linecolor": "rgb(36,36,36)",
           "showgrid": false,
           "showline": true,
           "ticks": "outside",
           "title": {
            "standoff": 15
           },
           "zeroline": false,
           "zerolinecolor": "rgb(36,36,36)"
          },
          "yaxis": {
           "automargin": true,
           "gridcolor": "rgb(232,232,232)",
           "linecolor": "rgb(36,36,36)",
           "showgrid": false,
           "showline": true,
           "ticks": "outside",
           "title": {
            "standoff": 15
           },
           "zeroline": false,
           "zerolinecolor": "rgb(36,36,36)"
          }
         }
        },
        "title": {
         "font": {
          "color": "Black",
          "size": 22
         },
         "text": "<b>Topics over Time</b>",
         "x": 0.4,
         "xanchor": "center",
         "y": 0.95,
         "yanchor": "top"
        },
        "width": 1250,
        "xaxis": {
         "showgrid": true
        },
        "yaxis": {
         "showgrid": true,
         "title": {
          "text": "Frequency"
         }
        }
       }
      }
     },
     "metadata": {},
     "output_type": "display_data"
    }
   ],
   "source": [
    "neg_model.visualize_topics_over_time(neg_topics_over_time, top_n_topics=50)"
   ]
  }
 ],
 "metadata": {
  "kernelspec": {
   "display_name": "base",
   "language": "python",
   "name": "python3"
  },
  "language_info": {
   "codemirror_mode": {
    "name": "ipython",
    "version": 3
   },
   "file_extension": ".py",
   "mimetype": "text/x-python",
   "name": "python",
   "nbconvert_exporter": "python",
   "pygments_lexer": "ipython3",
   "version": "3.11.4"
  }
 },
 "nbformat": 4,
 "nbformat_minor": 2
}
