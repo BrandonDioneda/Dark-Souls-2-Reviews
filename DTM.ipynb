{
 "cells": [
  {
   "cell_type": "markdown",
   "metadata": {},
   "source": [
    "# Dark Souls II Reviews (2025)"
   ]
  },
  {
   "cell_type": "code",
   "execution_count": 1,
   "metadata": {},
   "outputs": [
    {
     "name": "stdout",
     "output_type": "stream",
     "text": [
      "WARNING:tensorflow:From C:\\Users\\bdion\\AppData\\Roaming\\Python\\Python311\\site-packages\\tf_keras\\src\\losses.py:2976: The name tf.losses.sparse_softmax_cross_entropy is deprecated. Please use tf.compat.v1.losses.sparse_softmax_cross_entropy instead.\n",
      "\n"
     ]
    }
   ],
   "source": [
    "from get_data import *\n",
    "from bertopic import BERTopic"
   ]
  },
  {
   "cell_type": "code",
   "execution_count": 2,
   "metadata": {},
   "outputs": [],
   "source": [
    "reviews = get_data()"
   ]
  },
  {
   "cell_type": "markdown",
   "metadata": {},
   "source": [
    "## Topic Modeling:\n",
    "- Exploring certain aspects on why people like the game\n",
    "    - Also get critiques of the game in positive reviews (if any but there sure is considering DS2's reputation in the community)\n",
    "\n",
    "- Exploring why people don't like the game:\n",
    "    - Also get positive aspects within this subset of the reviews"
   ]
  },
  {
   "cell_type": "markdown",
   "metadata": {},
   "source": [
    "Splitting the reviews by how many do and don't recommend buying the game:"
   ]
  },
  {
   "cell_type": "code",
   "execution_count": 3,
   "metadata": {},
   "outputs": [],
   "source": [
    "pos_reviews = reviews[reviews['voted_up'] == True]\n",
    "neg_reviews = reviews[reviews['voted_up'] == False]"
   ]
  },
  {
   "cell_type": "code",
   "execution_count": 4,
   "metadata": {},
   "outputs": [
    {
     "data": {
      "text/plain": [
       "((55777, 6), (11222, 6))"
      ]
     },
     "execution_count": 4,
     "metadata": {},
     "output_type": "execute_result"
    }
   ],
   "source": [
    "pos_reviews.shape, neg_reviews.shape"
   ]
  },
  {
   "cell_type": "markdown",
   "metadata": {},
   "source": [
    "### DTM:"
   ]
  },
  {
   "cell_type": "markdown",
   "metadata": {},
   "source": [
    "- Useful for analyzing trends in text over long periods"
   ]
  },
  {
   "cell_type": "code",
   "execution_count": 5,
   "metadata": {},
   "outputs": [],
   "source": [
    "docs = reviews.review.to_list()\n",
    "pos_docs = pos_reviews.review.to_list()\n",
    "neg_docs = neg_reviews.review.to_list()"
   ]
  },
  {
   "cell_type": "code",
   "execution_count": 6,
   "metadata": {},
   "outputs": [],
   "source": [
    "timestamps = pd.to_datetime(reviews.update_date, unit='s').values\n",
    "pos_timestamps = pd.to_datetime(pos_reviews.update_date, unit='s').values\n",
    "neg_timestamps = pd.to_datetime(neg_reviews.update_date, unit='s').values"
   ]
  },
  {
   "cell_type": "code",
   "execution_count": 7,
   "metadata": {},
   "outputs": [],
   "source": [
    "topic_model = BERTopic.load(\"models/bertopic_model\")"
   ]
  },
  {
   "cell_type": "code",
   "execution_count": 8,
   "metadata": {},
   "outputs": [
    {
     "name": "stderr",
     "output_type": "stream",
     "text": [
      "20it [00:45,  2.28s/it]\n"
     ]
    }
   ],
   "source": [
    "topics_over_time = topic_model.topics_over_time(docs, timestamps, nr_bins=20)"
   ]
  },
  {
   "cell_type": "code",
   "execution_count": 9,
   "metadata": {},
   "outputs": [
    {
     "data": {
      "application/vnd.plotly.v1+json": {
       "config": {
        "plotlyServerURL": "https://plot.ly"
       },
       "data": [
        {
         "hoverinfo": "text",
         "hovertext": [
          "<b>Topic 0</b><br>Words: so, obvs, ow, forgot, show",
          "<b>Topic 0</b><br>Words: so, obvs, ow, forgot, show",
          "<b>Topic 0</b><br>Words: so, obvs, ow, forgot, show",
          "<b>Topic 0</b><br>Words: so, obvs, ow, forgot, show",
          "<b>Topic 0</b><br>Words: so, obvs, ow, forgot, show",
          "<b>Topic 0</b><br>Words: so, obvs, ow, forgot, show",
          "<b>Topic 0</b><br>Words: so, obvs, ow, forgot, show",
          "<b>Topic 0</b><br>Words: so, td, obvs, ow, forgot",
          "<b>Topic 0</b><br>Words: so, obvs, ow, forgot, show",
          "<b>Topic 0</b><br>Words: so, obvs, ow, forgot, show",
          "<b>Topic 0</b><br>Words: so, obvs, ow, forgot, show",
          "<b>Topic 0</b><br>Words: so, obvs, ow, forgot, show",
          "<b>Topic 0</b><br>Words: so, obvs, ow, forgot, show",
          "<b>Topic 0</b><br>Words: so, obvs, ow, forgot, show",
          "<b>Topic 0</b><br>Words: so, obvs, ow, forgot, show",
          "<b>Topic 0</b><br>Words: so, obvs, ow, forgot, show",
          "<b>Topic 0</b><br>Words: so, obvs, ow, forgot, show",
          "<b>Topic 0</b><br>Words: so, obvs, ow, forgot, show",
          "<b>Topic 0</b><br>Words: so, obvs, ow, forgot, show",
          "<b>Topic 0</b><br>Words: so, obvs, ow, forgot, show"
         ],
         "marker": {
          "color": "#E69F00"
         },
         "mode": "lines",
         "name": "0_so_obvs_ow_forgot",
         "type": "scatter",
         "x": [
          "2014-04-20T18:06:56.036000",
          "2014-11-10T19:22:33.200000",
          "2015-05-29T20:36:41.400000",
          "2015-12-15T21:50:49.600000",
          "2016-07-02T23:04:57.800000",
          "2017-01-19T00:19:06",
          "2017-08-07T01:33:14.200000",
          "2018-02-23T02:47:22.400000",
          "2018-09-11T04:01:30.600000",
          "2019-03-30T05:15:38.800000",
          "2019-10-16T06:29:47",
          "2020-05-03T07:43:55.200000",
          "2020-11-19T08:58:03.400000",
          "2021-06-07T10:12:11.600000",
          "2021-12-24T11:26:19.800000",
          "2022-07-12T12:40:28",
          "2023-01-28T13:54:36.200000",
          "2023-08-16T15:08:44.400000",
          "2024-03-03T16:22:52.600000",
          "2024-09-19T17:37:00.800000"
         ],
         "y": [
          436,
          139,
          53,
          55,
          48,
          24,
          35,
          15,
          23,
          30,
          80,
          128,
          130,
          83,
          84,
          79,
          98,
          123,
          153,
          189
         ]
        },
        {
         "hoverinfo": "text",
         "hovertext": [
          "<b>Topic 1</b><br>Words: summon, multiplayer, anmount, fight, pve",
          "<b>Topic 1</b><br>Words: version, discover, new, dx, seem",
          "<b>Topic 1</b><br>Words: illumination, shaders, ii, dramatically, account",
          "<b>Topic 1</b><br>Words: penetration, allot, fren, floorplate, rage",
          "<b>Topic 1</b><br>Words: crappy, sound, sample, fov, darksouls",
          "<b>Topic 1</b><br>Words: plod, fak, joystick, minion, purportedly",
          "<b>Topic 1</b><br>Words: strike, thanks, atrocity, march, cliff",
          "<b>Topic 1</b><br>Words: binoculars, eliminate, femme, betcha, suer",
          "<b>Topic 1</b><br>Words: td, tr, tricycle, highway, th",
          "<b>Topic 1</b><br>Words: calculator, inaccessible, wikis, unimaginative, vanishingly",
          "<b>Topic 1</b><br>Words: url, iii, steampowered, creepy, app",
          "<b>Topic 1</b><br>Words: subversive, euro, talk, ppoeple, milkyyy",
          "<b>Topic 1</b><br>Words: monday, edit, brume, agility, hollowing",
          "<b>Topic 1</b><br>Words: damage, batchest, borne, repeat, seek",
          "<b>Topic 1</b><br>Words: lothian, axe, dream, crescent, dragonslayer",
          "<b>Topic 1</b><br>Words: platinum, nail, allow, elden, chance",
          "<b>Topic 1</b><br>Words: mark, steven, pale, olho, intangible",
          "<b>Topic 1</b><br>Words: submerge, cove, region, borked, runbacks",
          "<b>Topic 1</b><br>Words: gavlan, anyoing, formsoft, gah, hah",
          "<b>Topic 1</b><br>Words: lasciatemi, cantare, buongiorno, sono, italiano"
         ],
         "marker": {
          "color": "#56B4E9"
         },
         "mode": "lines",
         "name": "1_attack_area_enemy_player",
         "type": "scatter",
         "x": [
          "2014-04-20T18:06:56.036000",
          "2014-11-10T19:22:33.200000",
          "2015-05-29T20:36:41.400000",
          "2015-12-15T21:50:49.600000",
          "2016-07-02T23:04:57.800000",
          "2017-01-19T00:19:06",
          "2017-08-07T01:33:14.200000",
          "2018-02-23T02:47:22.400000",
          "2018-09-11T04:01:30.600000",
          "2019-03-30T05:15:38.800000",
          "2019-10-16T06:29:47",
          "2020-05-03T07:43:55.200000",
          "2020-11-19T08:58:03.400000",
          "2021-06-07T10:12:11.600000",
          "2021-12-24T11:26:19.800000",
          "2022-07-12T12:40:28",
          "2023-01-28T13:54:36.200000",
          "2023-08-16T15:08:44.400000",
          "2024-03-03T16:22:52.600000",
          "2024-09-19T17:37:00.800000"
         ],
         "y": [
          199,
          97,
          60,
          86,
          44,
          46,
          46,
          27,
          25,
          49,
          68,
          50,
          108,
          142,
          162,
          89,
          74,
          78,
          114,
          106
         ]
        },
        {
         "hoverinfo": "text",
         "hovertext": [
          "<b>Topic 2</b><br>Words: good, goodin, uch, uwu, noice",
          "<b>Topic 2</b><br>Words: good, uch, goodin, uwu, noice",
          "<b>Topic 2</b><br>Words: good, uch, goodin, uwu, noice",
          "<b>Topic 2</b><br>Words: good, uch, goodin, uwu, noice",
          "<b>Topic 2</b><br>Words: good, goodin, uch, uwu, noice",
          "<b>Topic 2</b><br>Words: good, uch, goodin, uwu, noice",
          "<b>Topic 2</b><br>Words: good, goodin, uch, uwu, noice",
          "<b>Topic 2</b><br>Words: good, stong, happeens, uch, goodin",
          "<b>Topic 2</b><br>Words: good, uch, goodin, uwu, planet",
          "<b>Topic 2</b><br>Words: good, uch, goodin, uwu, noice",
          "<b>Topic 2</b><br>Words: good, goodin, uch, uwu, noice",
          "<b>Topic 2</b><br>Words: good, uch, goodin, uwu, noice",
          "<b>Topic 2</b><br>Words: good, uch, goodin, uwu, noice",
          "<b>Topic 2</b><br>Words: good, goodin, uch, uwu, noice",
          "<b>Topic 2</b><br>Words: good, uch, goodin, uwu, sex",
          "<b>Topic 2</b><br>Words: good, uch, goodin, uwu, noice",
          "<b>Topic 2</b><br>Words: good, goodin, uch, uwu, noice",
          "<b>Topic 2</b><br>Words: good, uch, goodin, uwu, noice",
          "<b>Topic 2</b><br>Words: good, uch, goodin, uwu, noice",
          "<b>Topic 2</b><br>Words: good, goodin, uch, uwu, noice"
         ],
         "marker": {
          "color": "#009E73"
         },
         "mode": "lines",
         "name": "2_good_uch_goodin_uwu",
         "type": "scatter",
         "x": [
          "2014-04-20T18:06:56.036000",
          "2014-11-10T19:22:33.200000",
          "2015-05-29T20:36:41.400000",
          "2015-12-15T21:50:49.600000",
          "2016-07-02T23:04:57.800000",
          "2017-01-19T00:19:06",
          "2017-08-07T01:33:14.200000",
          "2018-02-23T02:47:22.400000",
          "2018-09-11T04:01:30.600000",
          "2019-03-30T05:15:38.800000",
          "2019-10-16T06:29:47",
          "2020-05-03T07:43:55.200000",
          "2020-11-19T08:58:03.400000",
          "2021-06-07T10:12:11.600000",
          "2021-12-24T11:26:19.800000",
          "2022-07-12T12:40:28",
          "2023-01-28T13:54:36.200000",
          "2023-08-16T15:08:44.400000",
          "2024-03-03T16:22:52.600000",
          "2024-09-19T17:37:00.800000"
         ],
         "y": [
          252,
          76,
          37,
          31,
          26,
          13,
          14,
          10,
          10,
          18,
          51,
          95,
          57,
          45,
          80,
          49,
          101,
          97,
          130,
          115
         ]
        },
        {
         "hoverinfo": "text",
         "hovertext": [
          "<b>Topic 3</b><br>Words: best, everrrrrrrrrrrrrrrrrrrrrrrrrrrrrrrrrrrrrrrrrrrrrrrrrrrrrrrrrrrrrrrrrrrrrrrrrrrrrrrrrrrrrrrrrrrrrrrrrrrrrrr, ah, reckon, wtf",
          "<b>Topic 3</b><br>Words: best, everrrrrrrrrrrrrrrrrrrrrrrrrrrrrrrrrrrrrrrrrrrrrrrrrrrrrrrrrrrrrrrrrrrrrrrrrrrrrrrrrrrrrrrrrrrrrrrrrrrrrrr, ah, reckon, wtf",
          "<b>Topic 3</b><br>Words: best, everrrrrrrrrrrrrrrrrrrrrrrrrrrrrrrrrrrrrrrrrrrrrrrrrrrrrrrrrrrrrrrrrrrrrrrrrrrrrrrrrrrrrrrrrrrrrrrrrrrrrrr, ah, eisoptrophobia, reckon",
          "<b>Topic 3</b><br>Words: best, everrrrrrrrrrrrrrrrrrrrrrrrrrrrrrrrrrrrrrrrrrrrrrrrrrrrrrrrrrrrrrrrrrrrrrrrrrrrrrrrrrrrrrrrrrrrrrrrrrrrrrr, ah, reckon, wtf",
          "<b>Topic 3</b><br>Words: best, seperate, comprehension, hav, owe",
          "<b>Topic 3</b><br>Words: best, everrrrrrrrrrrrrrrrrrrrrrrrrrrrrrrrrrrrrrrrrrrrrrrrrrrrrrrrrrrrrrrrrrrrrrrrrrrrrrrrrrrrrrrrrrrrrrrrrrrrrrr, ah, reckon, wtf",
          "<b>Topic 3</b><br>Words: best, chinese, nudity, clone, everrrrrrrrrrrrrrrrrrrrrrrrrrrrrrrrrrrrrrrrrrrrrrrrrrrrrrrrrrrrrrrrrrrrrrrrrrrrrrrrrrrrrrrrrrrrrrrrrrrrrrr",
          "<b>Topic 3</b><br>Words: best, piglet, sin, wtf, thankfully",
          "<b>Topic 3</b><br>Words: best, homonid, deployed, recommendato, esspacailly",
          "<b>Topic 3</b><br>Words: best, darksouls, confidently, awsome, gg",
          "<b>Topic 3</b><br>Words: best, everrrrrrrrrrrrrrrrrrrrrrrrrrrrrrrrrrrrrrrrrrrrrrrrrrrrrrrrrrrrrrrrrrrrrrrrrrrrrrrrrrrrrrrrrrrrrrrrrrrrrrr, ah, reckon, wtf",
          "<b>Topic 3</b><br>Words: best, everrrrrrrrrrrrrrrrrrrrrrrrrrrrrrrrrrrrrrrrrrrrrrrrrrrrrrrrrrrrrrrrrrrrrrrrrrrrrrrrrrrrrrrrrrrrrrrrrrrrrrr, bonk, ah, reckon",
          "<b>Topic 3</b><br>Words: best, everrrrrrrrrrrrrrrrrrrrrrrrrrrrrrrrrrrrrrrrrrrrrrrrrrrrrrrrrrrrrrrrrrrrrrrrrrrrrrrrrrrrrrrrrrrrrrrrrrrrrrr, ah, reckon, wtf",
          "<b>Topic 3</b><br>Words: best, everrrrrrrrrrrrrrrrrrrrrrrrrrrrrrrrrrrrrrrrrrrrrrrrrrrrrrrrrrrrrrrrrrrrrrrrrrrrrrrrrrrrrrrrrrrrrrrrrrrrrrr, ah, reckon, serious",
          "<b>Topic 3</b><br>Words: best, everrrrrrrrrrrrrrrrrrrrrrrrrrrrrrrrrrrrrrrrrrrrrrrrrrrrrrrrrrrrrrrrrrrrrrrrrrrrrrrrrrrrrrrrrrrrrrrrrrrrrrr, ah, reckon, noot",
          "<b>Topic 3</b><br>Words: best, everrrrrrrrrrrrrrrrrrrrrrrrrrrrrrrrrrrrrrrrrrrrrrrrrrrrrrrrrrrrrrrrrrrrrrrrrrrrrrrrrrrrrrrrrrrrrrrrrrrrrrr, ah, reckon, takedown",
          "<b>Topic 3</b><br>Words: best, everrrrrrrrrrrrrrrrrrrrrrrrrrrrrrrrrrrrrrrrrrrrrrrrrrrrrrrrrrrrrrrrrrrrrrrrrrrrrrrrrrrrrrrrrrrrrrrrrrrrrrr, ah, reckon, wtf",
          "<b>Topic 3</b><br>Words: best, everrrrrrrrrrrrrrrrrrrrrrrrrrrrrrrrrrrrrrrrrrrrrrrrrrrrrrrrrrrrrrrrrrrrrrrrrrrrrrrrrrrrrrrrrrrrrrrrrrrrrrr, ah, reckon, abour",
          "<b>Topic 3</b><br>Words: best, everrrrrrrrrrrrrrrrrrrrrrrrrrrrrrrrrrrrrrrrrrrrrrrrrrrrrrrrrrrrrrrrrrrrrrrrrrrrrrrrrrrrrrrrrrrrrrrrrrrrrrr, ah, reckon, wtf",
          "<b>Topic 3</b><br>Words: best, everrrrrrrrrrrrrrrrrrrrrrrrrrrrrrrrrrrrrrrrrrrrrrrrrrrrrrrrrrrrrrrrrrrrrrrrrrrrrrrrrrrrrrrrrrrrrrrrrrrrrrr, ah, reckon, wtf"
         ],
         "marker": {
          "color": "#F0E442"
         },
         "mode": "lines",
         "name": "3_best_everrrrrrrrrrrrrrrrrrrrrrrrrrrrrr...",
         "type": "scatter",
         "x": [
          "2014-04-20T18:06:56.036000",
          "2014-11-10T19:22:33.200000",
          "2015-05-29T20:36:41.400000",
          "2015-12-15T21:50:49.600000",
          "2016-07-02T23:04:57.800000",
          "2017-01-19T00:19:06",
          "2017-08-07T01:33:14.200000",
          "2018-02-23T02:47:22.400000",
          "2018-09-11T04:01:30.600000",
          "2019-03-30T05:15:38.800000",
          "2019-10-16T06:29:47",
          "2020-05-03T07:43:55.200000",
          "2020-11-19T08:58:03.400000",
          "2021-06-07T10:12:11.600000",
          "2021-12-24T11:26:19.800000",
          "2022-07-12T12:40:28",
          "2023-01-28T13:54:36.200000",
          "2023-08-16T15:08:44.400000",
          "2024-03-03T16:22:52.600000",
          "2024-09-19T17:37:00.800000"
         ],
         "y": [
          148,
          48,
          7,
          22,
          7,
          6,
          4,
          2,
          4,
          7,
          19,
          27,
          25,
          16,
          19,
          20,
          37,
          38,
          53,
          55
         ]
        },
        {
         "hoverinfo": "text",
         "hovertext": [
          "<b>Topic 4</b><br>Words: de, que, jogo, vac, el",
          "<b>Topic 4</b><br>Words: de, que, jogo, mmorpg, skilled",
          "<b>Topic 4</b><br>Words: directx, episode, windows, deluxe, announce",
          "<b>Topic 4</b><br>Words: de, que, obtain, jogo, el",
          "<b>Topic 4</b><br>Words: pink, assed, shout, triple, aaa",
          "<b>Topic 4</b><br>Words: trully, reashes, despise, list, acomplishment",
          "<b>Topic 4</b><br>Words: cuphead, disapointing, paragraph, anus, ng",
          "<b>Topic 4</b><br>Words: de, que, intemperance, dispense, disinvest",
          "<b>Topic 4</b><br>Words: squirrel, odly, tthis, kappa, treat",
          "<b>Topic 4</b><br>Words: realy, buck, regardless, tho, playing",
          "<b>Topic 4</b><br>Words: aid, playtester, looool, dghfj, juegardo",
          "<b>Topic 4</b><br>Words: bearer, curse, de, que, lame",
          "<b>Topic 4</b><br>Words: message, celarly, allawys, trolley, vey",
          "<b>Topic 4</b><br>Words: adict, impement, varrious, hilighted, glitchy",
          "<b>Topic 4</b><br>Words: godna, hejter, jeba, polecenia, plateaus",
          "<b>Topic 4</b><br>Words: foks, dup, reducition, karen, cyberpunk",
          "<b>Topic 4</b><br>Words: unfrequent, imbecile, momentarily, strafing, giga",
          "<b>Topic 4</b><br>Words: bark, de, que, jogo, keel",
          "<b>Topic 4</b><br>Words: que, de, el, se, jogo",
          "<b>Topic 4</b><br>Words: de, que, jogo, el, la"
         ],
         "marker": {
          "color": "#D55E00"
         },
         "mode": "lines",
         "name": "4_de_que_jogo_el",
         "type": "scatter",
         "x": [
          "2014-04-20T18:06:56.036000",
          "2014-11-10T19:22:33.200000",
          "2015-05-29T20:36:41.400000",
          "2015-12-15T21:50:49.600000",
          "2016-07-02T23:04:57.800000",
          "2017-01-19T00:19:06",
          "2017-08-07T01:33:14.200000",
          "2018-02-23T02:47:22.400000",
          "2018-09-11T04:01:30.600000",
          "2019-03-30T05:15:38.800000",
          "2019-10-16T06:29:47",
          "2020-05-03T07:43:55.200000",
          "2020-11-19T08:58:03.400000",
          "2021-06-07T10:12:11.600000",
          "2021-12-24T11:26:19.800000",
          "2022-07-12T12:40:28",
          "2023-01-28T13:54:36.200000",
          "2023-08-16T15:08:44.400000",
          "2024-03-03T16:22:52.600000",
          "2024-09-19T17:37:00.800000"
         ],
         "y": [
          78,
          34,
          13,
          15,
          5,
          2,
          9,
          5,
          8,
          6,
          19,
          39,
          26,
          25,
          32,
          15,
          21,
          33,
          56,
          42
         ]
        },
        {
         "hoverinfo": "text",
         "hovertext": [
          "<b>Topic 5</b><br>Words: port, gig, console, pc, xbox",
          "<b>Topic 5</b><br>Words: port, pc, console, dx, xbox",
          "<b>Topic 5</b><br>Words: port, pc, console, marriage, groundbreaking",
          "<b>Topic 5</b><br>Words: port, avaliable, kawaii, vanilla, pc",
          "<b>Topic 5</b><br>Words: port, evert, cleanse, tooltip, ebola",
          "<b>Topic 5</b><br>Words: port, heh, hah, blood, nahr",
          "<b>Topic 5</b><br>Words: lmao, unplayable, exist, pay, steam",
          "<b>Topic 5</b><br>Words: kuess, monts, isent, ariandel, unnaturally",
          "<b>Topic 5</b><br>Words: port, pc, console, poxy, vanilla",
          "<b>Topic 5</b><br>Words: port, stiffer, condrolls, mongolianhordesimulator, obtusely",
          "<b>Topic 5</b><br>Words: port, decomposing, coldn, secon, veterans",
          "<b>Topic 5</b><br>Words: port, imediatamente, omegalol, undamaged, regain",
          "<b>Topic 5</b><br>Words: port, pc, spearmen, console, barbed",
          "<b>Topic 5</b><br>Words: port, pc, console, keyboard, mouse",
          "<b>Topic 5</b><br>Words: port, carpal, regale, magnificently, greatswords",
          "<b>Topic 5</b><br>Words: onnnnnnnfromsoft, server, turn, port, aaaaaaaaaaaaaa",
          "<b>Topic 5</b><br>Words: lotta, balle, kuk, ogs, ganksquad",
          "<b>Topic 5</b><br>Words: port, pc, console, lock, mouse",
          "<b>Topic 5</b><br>Words: port, variable, iframes, rng, crappiest",
          "<b>Topic 5</b><br>Words: suckassssss, begs, ragebait, cus, anomaly"
         ],
         "marker": {
          "color": "#0072B2"
         },
         "mode": "lines",
         "name": "5_port_pc_console_mouse",
         "type": "scatter",
         "x": [
          "2014-04-20T18:06:56.036000",
          "2014-11-10T19:22:33.200000",
          "2015-05-29T20:36:41.400000",
          "2015-12-15T21:50:49.600000",
          "2016-07-02T23:04:57.800000",
          "2017-01-19T00:19:06",
          "2017-08-07T01:33:14.200000",
          "2018-02-23T02:47:22.400000",
          "2018-09-11T04:01:30.600000",
          "2019-03-30T05:15:38.800000",
          "2019-10-16T06:29:47",
          "2020-05-03T07:43:55.200000",
          "2020-11-19T08:58:03.400000",
          "2021-06-07T10:12:11.600000",
          "2021-12-24T11:26:19.800000",
          "2022-07-12T12:40:28",
          "2023-01-28T13:54:36.200000",
          "2023-08-16T15:08:44.400000",
          "2024-03-03T16:22:52.600000",
          "2024-09-19T17:37:00.800000"
         ],
         "y": [
          22,
          57,
          23,
          33,
          8,
          12,
          3,
          6,
          11,
          15,
          20,
          10,
          21,
          17,
          19,
          13,
          5,
          14,
          10,
          10
         ]
        },
        {
         "hoverinfo": "text",
         "hovertext": [
          "<b>Topic 6</b><br>Words: cking, blah, sh, fortunately, denovo",
          "<b>Topic 6</b><br>Words: xyz, laptop, definately, sound, concole",
          "<b>Topic 6</b><br>Words: sotfs, mini, hardware, backstories, dominate",
          "<b>Topic 6</b><br>Words: narcrissim, allergory, degration, dissipointed, shopping",
          "<b>Topic 6</b><br>Words: dsiii, dsi, dsii, mouthwash, glitton",
          "<b>Topic 6</b><br>Words: whirllpool, heatseeking, unpluggin, rudder, shortning",
          "<b>Topic 6</b><br>Words: advertised, reactive, cookie, plaus, pshh",
          "<b>Topic 6</b><br>Words: titanite, be, rb, loser, xii",
          "<b>Topic 6</b><br>Words: shoul, logic, buyin, bragging, sweet",
          "<b>Topic 6</b><br>Words: armorer, dennis, spamming, divide, uninterruptable",
          "<b>Topic 6</b><br>Words: unengaging, serise, bland, walter, intersted",
          "<b>Topic 6</b><br>Words: redundent, latter, overbear, key, called",
          "<b>Topic 6</b><br>Words: reskin, spoiler, bada, sick, lifegems",
          "<b>Topic 6</b><br>Words: yall, osu, blm, smelty, adequately",
          "<b>Topic 6</b><br>Words: sthe, hiboxes, souklsl, serieess, retune",
          "<b>Topic 6</b><br>Words: pog, fr, opt, circumstance, ptde",
          "<b>Topic 6</b><br>Words: adability, vaccome, forifullied, ide, scollar",
          "<b>Topic 6</b><br>Words: billybigs, maturing, pronoun, renounce, sovereign",
          "<b>Topic 6</b><br>Words: ingredient, tsp, batter, skillet, tbsp",
          "<b>Topic 6</b><br>Words: landmark, letter, kingdom, shove, morsel"
         ],
         "marker": {
          "color": "#CC79A7"
         },
         "mode": "lines",
         "name": "6_patience_challenge_learn_reward",
         "type": "scatter",
         "x": [
          "2014-04-20T18:06:56.036000",
          "2014-11-10T19:22:33.200000",
          "2015-05-29T20:36:41.400000",
          "2015-12-15T21:50:49.600000",
          "2016-07-02T23:04:57.800000",
          "2017-01-19T00:19:06",
          "2017-08-07T01:33:14.200000",
          "2018-02-23T02:47:22.400000",
          "2018-09-11T04:01:30.600000",
          "2019-03-30T05:15:38.800000",
          "2019-10-16T06:29:47",
          "2020-05-03T07:43:55.200000",
          "2020-11-19T08:58:03.400000",
          "2021-06-07T10:12:11.600000",
          "2021-12-24T11:26:19.800000",
          "2022-07-12T12:40:28",
          "2023-01-28T13:54:36.200000",
          "2023-08-16T15:08:44.400000",
          "2024-03-03T16:22:52.600000",
          "2024-09-19T17:37:00.800000"
         ],
         "y": [
          25,
          13,
          20,
          18,
          16,
          19,
          17,
          16,
          11,
          18,
          21,
          8,
          14,
          24,
          24,
          6,
          9,
          12,
          13,
          13
         ]
        },
        {
         "hoverinfo": "text",
         "hovertext": [
          "<b>Topic 7</b><br>Words: sun, praise, blah, eighty, piedus",
          "<b>Topic 7</b><br>Words: sun, praise, blah, eighty, sunlight",
          "<b>Topic 7</b><br>Words: sun, praise, blah, separation, eighty",
          "<b>Topic 7</b><br>Words: sun, praise, blah, eighty, directx",
          "<b>Topic 7</b><br>Words: sun, praise, spark, blah, transpace",
          "<b>Topic 7</b><br>Words: sun, praise, blah, rseponsive, fouth",
          "<b>Topic 7</b><br>Words: sun, praise, crueler, sleep, willies",
          "<b>Topic 7</b><br>Words: sun, praise, deamon, inconsitance, eneimies",
          "<b>Topic 7</b><br>Words: sun, praise, gtx, nonexistant, session",
          "<b>Topic 7</b><br>Words: sun, praise, overcomplicate, blah, coolness",
          "<b>Topic 7</b><br>Words: sun, praise, blah, eighty, sunlight",
          "<b>Topic 7</b><br>Words: sun, praise, blah, hacker, freight",
          "<b>Topic 7</b><br>Words: sun, praise, blah, eighty, sunlight",
          "<b>Topic 7</b><br>Words: sun, praise, blah, behd, pogger",
          "<b>Topic 7</b><br>Words: sun, praise, blah, eighty, sunlight",
          "<b>Topic 7</b><br>Words: sun, praise, soulfull, fraud, unstoppable",
          "<b>Topic 7</b><br>Words: sun, praise, weaons, compleletly, typea",
          "<b>Topic 7</b><br>Words: sun, praise, spamming, stupid, blah",
          "<b>Topic 7</b><br>Words: sun, praise, fucking, hate, blah",
          "<b>Topic 7</b><br>Words: sun, praise, qwq, dificultty, ual"
         ],
         "marker": {
          "color": "#E69F00"
         },
         "mode": "lines",
         "name": "7_sun_praise_blah_eighty",
         "type": "scatter",
         "x": [
          "2014-04-20T18:06:56.036000",
          "2014-11-10T19:22:33.200000",
          "2015-05-29T20:36:41.400000",
          "2015-12-15T21:50:49.600000",
          "2016-07-02T23:04:57.800000",
          "2017-01-19T00:19:06",
          "2017-08-07T01:33:14.200000",
          "2018-02-23T02:47:22.400000",
          "2018-09-11T04:01:30.600000",
          "2019-03-30T05:15:38.800000",
          "2019-10-16T06:29:47",
          "2020-05-03T07:43:55.200000",
          "2020-11-19T08:58:03.400000",
          "2021-06-07T10:12:11.600000",
          "2021-12-24T11:26:19.800000",
          "2022-07-12T12:40:28",
          "2023-01-28T13:54:36.200000",
          "2023-08-16T15:08:44.400000",
          "2024-03-03T16:22:52.600000",
          "2024-09-19T17:37:00.800000"
         ],
         "y": [
          20,
          21,
          16,
          21,
          13,
          15,
          13,
          6,
          6,
          9,
          23,
          8,
          19,
          30,
          28,
          9,
          13,
          10,
          9,
          12
         ]
        },
        {
         "hoverinfo": "text",
         "hovertext": [
          "<b>Topic 8</b><br>Words: great, fking, greatttttt, greattttt, outta",
          "<b>Topic 8</b><br>Words: great, fking, greatttttt, greattttt, outta",
          "<b>Topic 8</b><br>Words: great, beseech, pursues, fking, greatttttt",
          "<b>Topic 8</b><br>Words: great, fking, greatttttt, greattttt, complane",
          "<b>Topic 8</b><br>Words: great, fking, greatttttt, greattttt, outta",
          "<b>Topic 8</b><br>Words: great, fking, greatttttt, greattttt, outta",
          "<b>Topic 8</b><br>Words: great, widens, hhard, ddd, gg",
          "<b>Topic 8</b><br>Words: great, fking, greatttttt, greattttt, outta",
          "<b>Topic 8</b><br>Words: great, oke, forgiven, fking, trainer",
          "<b>Topic 8</b><br>Words: great, fking, greatttttt, greattttt, outta",
          "<b>Topic 8</b><br>Words: great, fking, playd, greatttttt, greattttt",
          "<b>Topic 8</b><br>Words: great, fking, greatttttt, greattttt, outta",
          "<b>Topic 8</b><br>Words: great, fking, greatttttt, greattttt, outta",
          "<b>Topic 8</b><br>Words: great, fking, greatttttt, greattttt, outta",
          "<b>Topic 8</b><br>Words: great, fking, greatttttt, greattttt, outta",
          "<b>Topic 8</b><br>Words: great, fking, greatttttt, greattttt, outta",
          "<b>Topic 8</b><br>Words: great, fking, greatttttt, greattttt, outta",
          "<b>Topic 8</b><br>Words: great, fking, greatttttt, greattttt, outta",
          "<b>Topic 8</b><br>Words: great, fking, greatttttt, greattttt, outta",
          "<b>Topic 8</b><br>Words: great, fking, greatttttt, greattttt, outta"
         ],
         "marker": {
          "color": "#56B4E9"
         },
         "mode": "lines",
         "name": "8_great_fking_greatttttt_greattttt",
         "type": "scatter",
         "x": [
          "2014-04-20T18:06:56.036000",
          "2014-11-10T19:22:33.200000",
          "2015-05-29T20:36:41.400000",
          "2015-12-15T21:50:49.600000",
          "2016-07-02T23:04:57.800000",
          "2017-01-19T00:19:06",
          "2017-08-07T01:33:14.200000",
          "2018-02-23T02:47:22.400000",
          "2018-09-11T04:01:30.600000",
          "2019-03-30T05:15:38.800000",
          "2019-10-16T06:29:47",
          "2020-05-03T07:43:55.200000",
          "2020-11-19T08:58:03.400000",
          "2021-06-07T10:12:11.600000",
          "2021-12-24T11:26:19.800000",
          "2022-07-12T12:40:28",
          "2023-01-28T13:54:36.200000",
          "2023-08-16T15:08:44.400000",
          "2024-03-03T16:22:52.600000",
          "2024-09-19T17:37:00.800000"
         ],
         "y": [
          44,
          17,
          5,
          5,
          15,
          9,
          7,
          5,
          4,
          7,
          11,
          11,
          18,
          16,
          22,
          8,
          22,
          25,
          29,
          20
         ]
        },
        {
         "hoverinfo": "text",
         "hovertext": [
          "<b>Topic 9</b><br>Words: die, finna, slug, nutshell, yay",
          "<b>Topic 9</b><br>Words: die, finna, slug, nutshell, yay",
          "<b>Topic 9</b><br>Words: die, finna, slug, nutshell, yay",
          "<b>Topic 9</b><br>Words: die, finna, slug, nutshell, yay",
          "<b>Topic 9</b><br>Words: die, finna, slug, nutshell, yay",
          "<b>Topic 9</b><br>Words: die, finna, slug, resistant, dish",
          "<b>Topic 9</b><br>Words: die, finna, slug, nutshell, yay",
          "<b>Topic 9</b><br>Words: die, finna, slug, nutshell, yay",
          "<b>Topic 9</b><br>Words: die, finna, slug, nutshell, yay",
          "<b>Topic 9</b><br>Words: die, finna, slug, commonly, nutshell",
          "<b>Topic 9</b><br>Words: die, finna, slug, nutshell, yay",
          "<b>Topic 9</b><br>Words: die, finna, slug, darsols, phenomanal",
          "<b>Topic 9</b><br>Words: die, finna, slug, nutshell, dsr",
          "<b>Topic 9</b><br>Words: die, finna, scholar, slug, scholars",
          "<b>Topic 9</b><br>Words: die, finna, slug, yay, nutshell",
          "<b>Topic 9</b><br>Words: die, finna, slug, differntly, outher",
          "<b>Topic 9</b><br>Words: die, finna, slug, nutshell, yay",
          "<b>Topic 9</b><br>Words: die, finna, slug, nutshell, aversion",
          "<b>Topic 9</b><br>Words: die, finna, slug, nutshell, jugar",
          "<b>Topic 9</b><br>Words: die, finna, slug, nutshell, yay"
         ],
         "marker": {
          "color": "#009E73"
         },
         "mode": "lines",
         "name": "9_die_finna_slug_nutshell",
         "type": "scatter",
         "x": [
          "2014-04-20T18:06:56.036000",
          "2014-11-10T19:22:33.200000",
          "2015-05-29T20:36:41.400000",
          "2015-12-15T21:50:49.600000",
          "2016-07-02T23:04:57.800000",
          "2017-01-19T00:19:06",
          "2017-08-07T01:33:14.200000",
          "2018-02-23T02:47:22.400000",
          "2018-09-11T04:01:30.600000",
          "2019-03-30T05:15:38.800000",
          "2019-10-16T06:29:47",
          "2020-05-03T07:43:55.200000",
          "2020-11-19T08:58:03.400000",
          "2021-06-07T10:12:11.600000",
          "2021-12-24T11:26:19.800000",
          "2022-07-12T12:40:28",
          "2023-01-28T13:54:36.200000",
          "2023-08-16T15:08:44.400000",
          "2024-03-03T16:22:52.600000",
          "2024-09-19T17:37:00.800000"
         ],
         "y": [
          18,
          14,
          19,
          14,
          8,
          5,
          13,
          9,
          7,
          8,
          36,
          15,
          11,
          22,
          23,
          8,
          13,
          18,
          13,
          11
         ]
        },
        {
         "hoverinfo": "text",
         "hovertext": [
          "<b>Topic 10</b><br>Words: yes, nope, tellin, yesn, yessir",
          "<b>Topic 10</b><br>Words: yes, nope, tellin, yesn, yessir",
          "<b>Topic 10</b><br>Words: yes, nope, tellin, queen, yesn",
          "<b>Topic 10</b><br>Words: yes, nope, tellin, spirirts, yesn",
          "<b>Topic 10</b><br>Words: yes, nope, tellin, comunty, xb",
          "<b>Topic 10</b><br>Words: yes, bonanza, bittersweet, nope, ctrl",
          "<b>Topic 10</b><br>Words: yes, st, insane, happy, purchase",
          "<b>Topic 10</b><br>Words: yes, nope, tellin, yesn, yessir",
          "<b>Topic 10</b><br>Words: yes, nope, repetativness, nonsensicalness, tellin",
          "<b>Topic 10</b><br>Words: yes, ur, punished, toaster, ghz",
          "<b>Topic 10</b><br>Words: yes, nope, tellin, uhhhhhhhhhhhhhhhhhhhhh, flinky",
          "<b>Topic 10</b><br>Words: yes, nope, tellin, yesn, yessir",
          "<b>Topic 10</b><br>Words: yes, nope, tellin, yesn, yessir",
          "<b>Topic 10</b><br>Words: yes, nope, tellin, liiiittle, eyes",
          "<b>Topic 10</b><br>Words: yes, nope, tellin, milfanito, disrespect",
          "<b>Topic 10</b><br>Words: yes, bookmark, nope, tellin, underused",
          "<b>Topic 10</b><br>Words: yes, nope, tellin, yesn, yessir",
          "<b>Topic 10</b><br>Words: yes, nope, tellin, yesn, yessir",
          "<b>Topic 10</b><br>Words: yes, nope, tellin, yesn, yessir",
          "<b>Topic 10</b><br>Words: yes, nope, tellin, yesn, yessir"
         ],
         "marker": {
          "color": "#F0E442"
         },
         "mode": "lines",
         "name": "10_yes_nope_tellin_yesn",
         "type": "scatter",
         "x": [
          "2014-04-20T18:06:56.036000",
          "2014-11-10T19:22:33.200000",
          "2015-05-29T20:36:41.400000",
          "2015-12-15T21:50:49.600000",
          "2016-07-02T23:04:57.800000",
          "2017-01-19T00:19:06",
          "2017-08-07T01:33:14.200000",
          "2018-02-23T02:47:22.400000",
          "2018-09-11T04:01:30.600000",
          "2019-03-30T05:15:38.800000",
          "2019-10-16T06:29:47",
          "2020-05-03T07:43:55.200000",
          "2020-11-19T08:58:03.400000",
          "2021-06-07T10:12:11.600000",
          "2021-12-24T11:26:19.800000",
          "2022-07-12T12:40:28",
          "2023-01-28T13:54:36.200000",
          "2023-08-16T15:08:44.400000",
          "2024-03-03T16:22:52.600000",
          "2024-09-19T17:37:00.800000"
         ],
         "y": [
          58,
          19,
          5,
          2,
          5,
          4,
          2,
          1,
          2,
          7,
          6,
          24,
          9,
          10,
          9,
          8,
          14,
          32,
          39,
          28
         ]
        },
        {
         "hoverinfo": "text",
         "hovertext": [
          "<b>Topic 11</b><br>Words: dlc, dlcs, sooner, darksouls, mythra",
          "<b>Topic 11</b><br>Words: dlc, dlcs, carrier, wobbly, intelligence",
          "<b>Topic 11</b><br>Words: theyll, stabbing, mins, dice, cold",
          "<b>Topic 11</b><br>Words: competitively, sexual, completly, decently, entertain",
          "<b>Topic 11</b><br>Words: dragnleic, difficluty, interlink, entertain, dlc",
          "<b>Topic 11</b><br>Words: soiuls, reap, loved, imagination, wild",
          "<b>Topic 11</b><br>Words: dlc, punished, concensus, pout, dlcs",
          "<b>Topic 11</b><br>Words: frescura, erudito, sukk, primeira, gitgud",
          "<b>Topic 11</b><br>Words: yus, cancer, worst, willing, super",
          "<b>Topic 11</b><br>Words: thay, laptops, moderate, ofc, ppl",
          "<b>Topic 11</b><br>Words: dlc, feywild, uncomfortably, latecomer, pathfinder",
          "<b>Topic 11</b><br>Words: dlc, aaaaaaaaaaaaaaaa, delicia, athiest, agnostic",
          "<b>Topic 11</b><br>Words: dlc, dlcs, covetous, gen, nnnut",
          "<b>Topic 11</b><br>Words: dlc, dlcs, acclaim, standout, bonk",
          "<b>Topic 11</b><br>Words: dlc, bossess, dlcs, saddly, doki",
          "<b>Topic 11</b><br>Words: er, drill, anxiety, complicated, mapping",
          "<b>Topic 11</b><br>Words: mh, squads, criterion, duckling, dlc",
          "<b>Topic 11</b><br>Words: dlc, loosing, mvp, waterboarding, dlcs",
          "<b>Topic 11</b><br>Words: dlc, dlcs, ik, content, asspully",
          "<b>Topic 11</b><br>Words: dlc, dlcs, sibling, sacar, goth"
         ],
         "marker": {
          "color": "#D55E00"
         },
         "mode": "lines",
         "name": "11_dlc_dlcs_content_base",
         "type": "scatter",
         "x": [
          "2014-04-20T18:06:56.036000",
          "2014-11-10T19:22:33.200000",
          "2015-05-29T20:36:41.400000",
          "2015-12-15T21:50:49.600000",
          "2016-07-02T23:04:57.800000",
          "2017-01-19T00:19:06",
          "2017-08-07T01:33:14.200000",
          "2018-02-23T02:47:22.400000",
          "2018-09-11T04:01:30.600000",
          "2019-03-30T05:15:38.800000",
          "2019-10-16T06:29:47",
          "2020-05-03T07:43:55.200000",
          "2020-11-19T08:58:03.400000",
          "2021-06-07T10:12:11.600000",
          "2021-12-24T11:26:19.800000",
          "2022-07-12T12:40:28",
          "2023-01-28T13:54:36.200000",
          "2023-08-16T15:08:44.400000",
          "2024-03-03T16:22:52.600000",
          "2024-09-19T17:37:00.800000"
         ],
         "y": [
          37,
          14,
          2,
          3,
          7,
          6,
          9,
          7,
          3,
          4,
          12,
          21,
          21,
          26,
          31,
          10,
          11,
          14,
          23,
          20
         ]
        },
        {
         "hoverinfo": "text",
         "hovertext": [
          "<b>Topic 12</b><br>Words: hitboxes, hitbox, box, hit, shitty",
          "<b>Topic 12</b><br>Words: hitboxes, hitbox, box, diffrent, thyself",
          "<b>Topic 12</b><br>Words: hitboxes, letter, conquistador, beatifull, hitbox",
          "<b>Topic 12</b><br>Words: hitboxes, hitbox, box, noticebly, teengaers",
          "<b>Topic 12</b><br>Words: strangley, atompshere, attackes, hitboxes, shopkeeper",
          "<b>Topic 12</b><br>Words: regular, attempt, turn, least, kill",
          "<b>Topic 12</b><br>Words: ddd, underwater, pleased, rebuy, disapointed",
          "<b>Topic 12</b><br>Words: belief, fanboys, enhanced, rag, hook",
          "<b>Topic 12</b><br>Words: hitboxes, wrost, possibl, bowman, hitbox",
          "<b>Topic 12</b><br>Words: ok, good, hitboxes, hitbox, box",
          "<b>Topic 12</b><br>Words: loot, seek, lest, crazy, confuse",
          "<b>Topic 12</b><br>Words: hitboxes, hitbox, yuuuuuuuuuuuuuuuuup, box, prejudice",
          "<b>Topic 12</b><br>Words: hitboxes, hitbox, box, axis, summarize",
          "<b>Topic 12</b><br>Words: gagoyles, steeper, harsher, simplesmente, incrivel",
          "<b>Topic 12</b><br>Words: hitboxes, hitbox, box, contemptible, uniniated",
          "<b>Topic 12</b><br>Words: hitboxes, hitbox, fetishism, box, tremendously",
          "<b>Topic 12</b><br>Words: shipment, schizo, schizophrenic, exemple, mankind",
          "<b>Topic 12</b><br>Words: tipical, dl, crpg, eastern, rebirth",
          "<b>Topic 12</b><br>Words: hitboxes, hitbox, box, hit, jumpin",
          "<b>Topic 12</b><br>Words: hitboxes, hitbox, box, xddddd, roflanebalo"
         ],
         "marker": {
          "color": "#0072B2"
         },
         "mode": "lines",
         "name": "12_hitboxes_hitbox_box_hit",
         "type": "scatter",
         "x": [
          "2014-04-20T18:06:56.036000",
          "2014-11-10T19:22:33.200000",
          "2015-05-29T20:36:41.400000",
          "2015-12-15T21:50:49.600000",
          "2016-07-02T23:04:57.800000",
          "2017-01-19T00:19:06",
          "2017-08-07T01:33:14.200000",
          "2018-02-23T02:47:22.400000",
          "2018-09-11T04:01:30.600000",
          "2019-03-30T05:15:38.800000",
          "2019-10-16T06:29:47",
          "2020-05-03T07:43:55.200000",
          "2020-11-19T08:58:03.400000",
          "2021-06-07T10:12:11.600000",
          "2021-12-24T11:26:19.800000",
          "2022-07-12T12:40:28",
          "2023-01-28T13:54:36.200000",
          "2023-08-16T15:08:44.400000",
          "2024-03-03T16:22:52.600000",
          "2024-09-19T17:37:00.800000"
         ],
         "y": [
          68,
          23,
          6,
          13,
          4,
          2,
          4,
          5,
          4,
          2,
          3,
          12,
          11,
          8,
          10,
          12,
          6,
          14,
          33,
          28
         ]
        },
        {
         "hoverinfo": "text",
         "hovertext": [
          "<b>Topic 13</b><br>Words: rage, anger, quit, maid, acoholism",
          "<b>Topic 13</b><br>Words: rage, anger, quit, improvments, angry",
          "<b>Topic 13</b><br>Words: rage, anger, quit, ava, angry",
          "<b>Topic 13</b><br>Words: rage, olist, badassest, funnist, pardoner",
          "<b>Topic 13</b><br>Words: hardsest, compplaint, upvote, rage, thrilling",
          "<b>Topic 13</b><br>Words: rage, mainboard, innately, anger, obnoxious",
          "<b>Topic 13</b><br>Words: rage, anger, quit, magnetic, vortex",
          "<b>Topic 13</b><br>Words: rage, ecc, anger, quit, angry",
          "<b>Topic 13</b><br>Words: rage, mackrel, mnb, tone, athmosphere",
          "<b>Topic 13</b><br>Words: rage, anger, quit, thru, leary",
          "<b>Topic 13</b><br>Words: rage, anger, quit, welcom, attuned",
          "<b>Topic 13</b><br>Words: rage, anger, quit, revise, thoughout",
          "<b>Topic 13</b><br>Words: rage, anger, quit, several, angry",
          "<b>Topic 13</b><br>Words: rage, sex, anger, handsome, quit",
          "<b>Topic 13</b><br>Words: rage, crust, pastry, pie, sugar",
          "<b>Topic 13</b><br>Words: binoboost, rage, stepping, grapple, stigma",
          "<b>Topic 13</b><br>Words: ryo, rage, infested, pickaxe, hellscape",
          "<b>Topic 13</b><br>Words: hee, rage, playtrought, remarquable, pile",
          "<b>Topic 13</b><br>Words: rage, acepted, dualweilding, stans, gaslight",
          "<b>Topic 13</b><br>Words: rage, anger, quit, angry, customizations"
         ],
         "marker": {
          "color": "#CC79A7"
         },
         "mode": "lines",
         "name": "13_rage_anger_quit_angry",
         "type": "scatter",
         "x": [
          "2014-04-20T18:06:56.036000",
          "2014-11-10T19:22:33.200000",
          "2015-05-29T20:36:41.400000",
          "2015-12-15T21:50:49.600000",
          "2016-07-02T23:04:57.800000",
          "2017-01-19T00:19:06",
          "2017-08-07T01:33:14.200000",
          "2018-02-23T02:47:22.400000",
          "2018-09-11T04:01:30.600000",
          "2019-03-30T05:15:38.800000",
          "2019-10-16T06:29:47",
          "2020-05-03T07:43:55.200000",
          "2020-11-19T08:58:03.400000",
          "2021-06-07T10:12:11.600000",
          "2021-12-24T11:26:19.800000",
          "2022-07-12T12:40:28",
          "2023-01-28T13:54:36.200000",
          "2023-08-16T15:08:44.400000",
          "2024-03-03T16:22:52.600000",
          "2024-09-19T17:37:00.800000"
         ],
         "y": [
          32,
          13,
          15,
          14,
          7,
          8,
          14,
          9,
          8,
          17,
          19,
          13,
          16,
          27,
          11,
          8,
          8,
          8,
          9,
          7
         ]
        },
        {
         "hoverinfo": "text",
         "hovertext": [
          "<b>Topic 14</b><br>Words: wubwub, lotr, determination, oenail, gunz",
          "<b>Topic 14</b><br>Words: flippity, spoiler, brutalize, dental, accessory",
          "<b>Topic 14</b><br>Words: inventive, spoilsport, suumon, ambuses, thirteen",
          "<b>Topic 14</b><br>Words: xenoblade, chronicle, sdreen, sodium, heraldsmith",
          "<b>Topic 14</b><br>Words: matchmaking, twinking, scrap, obtains, prepackaged",
          "<b>Topic 14</b><br>Words: warry, remote, request, comfort, program",
          "<b>Topic 14</b><br>Words: browser, crate, physics, column, limbo",
          "<b>Topic 14</b><br>Words: rightwards, blown, rebel, emergency, proposition",
          "<b>Topic 14</b><br>Words: conscience, punishingly, stressful, entertaining, certainly",
          "<b>Topic 14</b><br>Words: hundredth, industry, label, invincible, alternative",
          "<b>Topic 14</b><br>Words: libtard, funn, hitler, river, lil",
          "<b>Topic 14</b><br>Words: rhytim, progenitor, frown, frick, milestone",
          "<b>Topic 14</b><br>Words: overload, noticeable, fackts, bighgghg, uninformed",
          "<b>Topic 14</b><br>Words: tendies, shid, oblivious, busted, novice",
          "<b>Topic 14</b><br>Words: bossfights, thand, sofware, expliot, contantly",
          "<b>Topic 14</b><br>Words: veldstat, platinuming, dame, upvote, enormously",
          "<b>Topic 14</b><br>Words: cough, alrighght, xddd, shader, havelyns",
          "<b>Topic 14</b><br>Words: crap, electron, coverage, outermost, odenkirk",
          "<b>Topic 14</b><br>Words: irritation, youc, pioece, cryinga, doollar",
          "<b>Topic 14</b><br>Words: dsdodge, strofe, lll, rug, rookie"
         ],
         "marker": {
          "color": "#E69F00"
         },
         "mode": "lines",
         "name": "14_title_world_feel_design",
         "type": "scatter",
         "x": [
          "2014-04-20T18:06:56.036000",
          "2014-11-10T19:22:33.200000",
          "2015-05-29T20:36:41.400000",
          "2015-12-15T21:50:49.600000",
          "2016-07-02T23:04:57.800000",
          "2017-01-19T00:19:06",
          "2017-08-07T01:33:14.200000",
          "2018-02-23T02:47:22.400000",
          "2018-09-11T04:01:30.600000",
          "2019-03-30T05:15:38.800000",
          "2019-10-16T06:29:47",
          "2020-05-03T07:43:55.200000",
          "2020-11-19T08:58:03.400000",
          "2021-06-07T10:12:11.600000",
          "2021-12-24T11:26:19.800000",
          "2022-07-12T12:40:28",
          "2023-01-28T13:54:36.200000",
          "2023-08-16T15:08:44.400000",
          "2024-03-03T16:22:52.600000",
          "2024-09-19T17:37:00.800000"
         ],
         "y": [
          46,
          18,
          8,
          11,
          7,
          3,
          5,
          4,
          1,
          5,
          8,
          9,
          16,
          12,
          18,
          13,
          15,
          16,
          22,
          17
         ]
        }
       ],
       "layout": {
        "height": 450,
        "hoverlabel": {
         "bgcolor": "white",
         "font": {
          "family": "Rockwell",
          "size": 16
         }
        },
        "legend": {
         "title": {
          "text": "<b>Global Topic Representation"
         }
        },
        "template": {
         "data": {
          "bar": [
           {
            "error_x": {
             "color": "rgb(36,36,36)"
            },
            "error_y": {
             "color": "rgb(36,36,36)"
            },
            "marker": {
             "line": {
              "color": "white",
              "width": 0.5
             },
             "pattern": {
              "fillmode": "overlay",
              "size": 10,
              "solidity": 0.2
             }
            },
            "type": "bar"
           }
          ],
          "barpolar": [
           {
            "marker": {
             "line": {
              "color": "white",
              "width": 0.5
             },
             "pattern": {
              "fillmode": "overlay",
              "size": 10,
              "solidity": 0.2
             }
            },
            "type": "barpolar"
           }
          ],
          "carpet": [
           {
            "aaxis": {
             "endlinecolor": "rgb(36,36,36)",
             "gridcolor": "white",
             "linecolor": "white",
             "minorgridcolor": "white",
             "startlinecolor": "rgb(36,36,36)"
            },
            "baxis": {
             "endlinecolor": "rgb(36,36,36)",
             "gridcolor": "white",
             "linecolor": "white",
             "minorgridcolor": "white",
             "startlinecolor": "rgb(36,36,36)"
            },
            "type": "carpet"
           }
          ],
          "choropleth": [
           {
            "colorbar": {
             "outlinewidth": 1,
             "tickcolor": "rgb(36,36,36)",
             "ticks": "outside"
            },
            "type": "choropleth"
           }
          ],
          "contour": [
           {
            "colorbar": {
             "outlinewidth": 1,
             "tickcolor": "rgb(36,36,36)",
             "ticks": "outside"
            },
            "colorscale": [
             [
              0,
              "#440154"
             ],
             [
              0.1111111111111111,
              "#482878"
             ],
             [
              0.2222222222222222,
              "#3e4989"
             ],
             [
              0.3333333333333333,
              "#31688e"
             ],
             [
              0.4444444444444444,
              "#26828e"
             ],
             [
              0.5555555555555556,
              "#1f9e89"
             ],
             [
              0.6666666666666666,
              "#35b779"
             ],
             [
              0.7777777777777778,
              "#6ece58"
             ],
             [
              0.8888888888888888,
              "#b5de2b"
             ],
             [
              1,
              "#fde725"
             ]
            ],
            "type": "contour"
           }
          ],
          "contourcarpet": [
           {
            "colorbar": {
             "outlinewidth": 1,
             "tickcolor": "rgb(36,36,36)",
             "ticks": "outside"
            },
            "type": "contourcarpet"
           }
          ],
          "heatmap": [
           {
            "colorbar": {
             "outlinewidth": 1,
             "tickcolor": "rgb(36,36,36)",
             "ticks": "outside"
            },
            "colorscale": [
             [
              0,
              "#440154"
             ],
             [
              0.1111111111111111,
              "#482878"
             ],
             [
              0.2222222222222222,
              "#3e4989"
             ],
             [
              0.3333333333333333,
              "#31688e"
             ],
             [
              0.4444444444444444,
              "#26828e"
             ],
             [
              0.5555555555555556,
              "#1f9e89"
             ],
             [
              0.6666666666666666,
              "#35b779"
             ],
             [
              0.7777777777777778,
              "#6ece58"
             ],
             [
              0.8888888888888888,
              "#b5de2b"
             ],
             [
              1,
              "#fde725"
             ]
            ],
            "type": "heatmap"
           }
          ],
          "heatmapgl": [
           {
            "colorbar": {
             "outlinewidth": 1,
             "tickcolor": "rgb(36,36,36)",
             "ticks": "outside"
            },
            "colorscale": [
             [
              0,
              "#440154"
             ],
             [
              0.1111111111111111,
              "#482878"
             ],
             [
              0.2222222222222222,
              "#3e4989"
             ],
             [
              0.3333333333333333,
              "#31688e"
             ],
             [
              0.4444444444444444,
              "#26828e"
             ],
             [
              0.5555555555555556,
              "#1f9e89"
             ],
             [
              0.6666666666666666,
              "#35b779"
             ],
             [
              0.7777777777777778,
              "#6ece58"
             ],
             [
              0.8888888888888888,
              "#b5de2b"
             ],
             [
              1,
              "#fde725"
             ]
            ],
            "type": "heatmapgl"
           }
          ],
          "histogram": [
           {
            "marker": {
             "line": {
              "color": "white",
              "width": 0.6
             }
            },
            "type": "histogram"
           }
          ],
          "histogram2d": [
           {
            "colorbar": {
             "outlinewidth": 1,
             "tickcolor": "rgb(36,36,36)",
             "ticks": "outside"
            },
            "colorscale": [
             [
              0,
              "#440154"
             ],
             [
              0.1111111111111111,
              "#482878"
             ],
             [
              0.2222222222222222,
              "#3e4989"
             ],
             [
              0.3333333333333333,
              "#31688e"
             ],
             [
              0.4444444444444444,
              "#26828e"
             ],
             [
              0.5555555555555556,
              "#1f9e89"
             ],
             [
              0.6666666666666666,
              "#35b779"
             ],
             [
              0.7777777777777778,
              "#6ece58"
             ],
             [
              0.8888888888888888,
              "#b5de2b"
             ],
             [
              1,
              "#fde725"
             ]
            ],
            "type": "histogram2d"
           }
          ],
          "histogram2dcontour": [
           {
            "colorbar": {
             "outlinewidth": 1,
             "tickcolor": "rgb(36,36,36)",
             "ticks": "outside"
            },
            "colorscale": [
             [
              0,
              "#440154"
             ],
             [
              0.1111111111111111,
              "#482878"
             ],
             [
              0.2222222222222222,
              "#3e4989"
             ],
             [
              0.3333333333333333,
              "#31688e"
             ],
             [
              0.4444444444444444,
              "#26828e"
             ],
             [
              0.5555555555555556,
              "#1f9e89"
             ],
             [
              0.6666666666666666,
              "#35b779"
             ],
             [
              0.7777777777777778,
              "#6ece58"
             ],
             [
              0.8888888888888888,
              "#b5de2b"
             ],
             [
              1,
              "#fde725"
             ]
            ],
            "type": "histogram2dcontour"
           }
          ],
          "mesh3d": [
           {
            "colorbar": {
             "outlinewidth": 1,
             "tickcolor": "rgb(36,36,36)",
             "ticks": "outside"
            },
            "type": "mesh3d"
           }
          ],
          "parcoords": [
           {
            "line": {
             "colorbar": {
              "outlinewidth": 1,
              "tickcolor": "rgb(36,36,36)",
              "ticks": "outside"
             }
            },
            "type": "parcoords"
           }
          ],
          "pie": [
           {
            "automargin": true,
            "type": "pie"
           }
          ],
          "scatter": [
           {
            "fillpattern": {
             "fillmode": "overlay",
             "size": 10,
             "solidity": 0.2
            },
            "type": "scatter"
           }
          ],
          "scatter3d": [
           {
            "line": {
             "colorbar": {
              "outlinewidth": 1,
              "tickcolor": "rgb(36,36,36)",
              "ticks": "outside"
             }
            },
            "marker": {
             "colorbar": {
              "outlinewidth": 1,
              "tickcolor": "rgb(36,36,36)",
              "ticks": "outside"
             }
            },
            "type": "scatter3d"
           }
          ],
          "scattercarpet": [
           {
            "marker": {
             "colorbar": {
              "outlinewidth": 1,
              "tickcolor": "rgb(36,36,36)",
              "ticks": "outside"
             }
            },
            "type": "scattercarpet"
           }
          ],
          "scattergeo": [
           {
            "marker": {
             "colorbar": {
              "outlinewidth": 1,
              "tickcolor": "rgb(36,36,36)",
              "ticks": "outside"
             }
            },
            "type": "scattergeo"
           }
          ],
          "scattergl": [
           {
            "marker": {
             "colorbar": {
              "outlinewidth": 1,
              "tickcolor": "rgb(36,36,36)",
              "ticks": "outside"
             }
            },
            "type": "scattergl"
           }
          ],
          "scattermapbox": [
           {
            "marker": {
             "colorbar": {
              "outlinewidth": 1,
              "tickcolor": "rgb(36,36,36)",
              "ticks": "outside"
             }
            },
            "type": "scattermapbox"
           }
          ],
          "scatterpolar": [
           {
            "marker": {
             "colorbar": {
              "outlinewidth": 1,
              "tickcolor": "rgb(36,36,36)",
              "ticks": "outside"
             }
            },
            "type": "scatterpolar"
           }
          ],
          "scatterpolargl": [
           {
            "marker": {
             "colorbar": {
              "outlinewidth": 1,
              "tickcolor": "rgb(36,36,36)",
              "ticks": "outside"
             }
            },
            "type": "scatterpolargl"
           }
          ],
          "scatterternary": [
           {
            "marker": {
             "colorbar": {
              "outlinewidth": 1,
              "tickcolor": "rgb(36,36,36)",
              "ticks": "outside"
             }
            },
            "type": "scatterternary"
           }
          ],
          "surface": [
           {
            "colorbar": {
             "outlinewidth": 1,
             "tickcolor": "rgb(36,36,36)",
             "ticks": "outside"
            },
            "colorscale": [
             [
              0,
              "#440154"
             ],
             [
              0.1111111111111111,
              "#482878"
             ],
             [
              0.2222222222222222,
              "#3e4989"
             ],
             [
              0.3333333333333333,
              "#31688e"
             ],
             [
              0.4444444444444444,
              "#26828e"
             ],
             [
              0.5555555555555556,
              "#1f9e89"
             ],
             [
              0.6666666666666666,
              "#35b779"
             ],
             [
              0.7777777777777778,
              "#6ece58"
             ],
             [
              0.8888888888888888,
              "#b5de2b"
             ],
             [
              1,
              "#fde725"
             ]
            ],
            "type": "surface"
           }
          ],
          "table": [
           {
            "cells": {
             "fill": {
              "color": "rgb(237,237,237)"
             },
             "line": {
              "color": "white"
             }
            },
            "header": {
             "fill": {
              "color": "rgb(217,217,217)"
             },
             "line": {
              "color": "white"
             }
            },
            "type": "table"
           }
          ]
         },
         "layout": {
          "annotationdefaults": {
           "arrowhead": 0,
           "arrowwidth": 1
          },
          "autotypenumbers": "strict",
          "coloraxis": {
           "colorbar": {
            "outlinewidth": 1,
            "tickcolor": "rgb(36,36,36)",
            "ticks": "outside"
           }
          },
          "colorscale": {
           "diverging": [
            [
             0,
             "rgb(103,0,31)"
            ],
            [
             0.1,
             "rgb(178,24,43)"
            ],
            [
             0.2,
             "rgb(214,96,77)"
            ],
            [
             0.3,
             "rgb(244,165,130)"
            ],
            [
             0.4,
             "rgb(253,219,199)"
            ],
            [
             0.5,
             "rgb(247,247,247)"
            ],
            [
             0.6,
             "rgb(209,229,240)"
            ],
            [
             0.7,
             "rgb(146,197,222)"
            ],
            [
             0.8,
             "rgb(67,147,195)"
            ],
            [
             0.9,
             "rgb(33,102,172)"
            ],
            [
             1,
             "rgb(5,48,97)"
            ]
           ],
           "sequential": [
            [
             0,
             "#440154"
            ],
            [
             0.1111111111111111,
             "#482878"
            ],
            [
             0.2222222222222222,
             "#3e4989"
            ],
            [
             0.3333333333333333,
             "#31688e"
            ],
            [
             0.4444444444444444,
             "#26828e"
            ],
            [
             0.5555555555555556,
             "#1f9e89"
            ],
            [
             0.6666666666666666,
             "#35b779"
            ],
            [
             0.7777777777777778,
             "#6ece58"
            ],
            [
             0.8888888888888888,
             "#b5de2b"
            ],
            [
             1,
             "#fde725"
            ]
           ],
           "sequentialminus": [
            [
             0,
             "#440154"
            ],
            [
             0.1111111111111111,
             "#482878"
            ],
            [
             0.2222222222222222,
             "#3e4989"
            ],
            [
             0.3333333333333333,
             "#31688e"
            ],
            [
             0.4444444444444444,
             "#26828e"
            ],
            [
             0.5555555555555556,
             "#1f9e89"
            ],
            [
             0.6666666666666666,
             "#35b779"
            ],
            [
             0.7777777777777778,
             "#6ece58"
            ],
            [
             0.8888888888888888,
             "#b5de2b"
            ],
            [
             1,
             "#fde725"
            ]
           ]
          },
          "colorway": [
           "#1F77B4",
           "#FF7F0E",
           "#2CA02C",
           "#D62728",
           "#9467BD",
           "#8C564B",
           "#E377C2",
           "#7F7F7F",
           "#BCBD22",
           "#17BECF"
          ],
          "font": {
           "color": "rgb(36,36,36)"
          },
          "geo": {
           "bgcolor": "white",
           "lakecolor": "white",
           "landcolor": "white",
           "showlakes": true,
           "showland": true,
           "subunitcolor": "white"
          },
          "hoverlabel": {
           "align": "left"
          },
          "hovermode": "closest",
          "mapbox": {
           "style": "light"
          },
          "paper_bgcolor": "white",
          "plot_bgcolor": "white",
          "polar": {
           "angularaxis": {
            "gridcolor": "rgb(232,232,232)",
            "linecolor": "rgb(36,36,36)",
            "showgrid": false,
            "showline": true,
            "ticks": "outside"
           },
           "bgcolor": "white",
           "radialaxis": {
            "gridcolor": "rgb(232,232,232)",
            "linecolor": "rgb(36,36,36)",
            "showgrid": false,
            "showline": true,
            "ticks": "outside"
           }
          },
          "scene": {
           "xaxis": {
            "backgroundcolor": "white",
            "gridcolor": "rgb(232,232,232)",
            "gridwidth": 2,
            "linecolor": "rgb(36,36,36)",
            "showbackground": true,
            "showgrid": false,
            "showline": true,
            "ticks": "outside",
            "zeroline": false,
            "zerolinecolor": "rgb(36,36,36)"
           },
           "yaxis": {
            "backgroundcolor": "white",
            "gridcolor": "rgb(232,232,232)",
            "gridwidth": 2,
            "linecolor": "rgb(36,36,36)",
            "showbackground": true,
            "showgrid": false,
            "showline": true,
            "ticks": "outside",
            "zeroline": false,
            "zerolinecolor": "rgb(36,36,36)"
           },
           "zaxis": {
            "backgroundcolor": "white",
            "gridcolor": "rgb(232,232,232)",
            "gridwidth": 2,
            "linecolor": "rgb(36,36,36)",
            "showbackground": true,
            "showgrid": false,
            "showline": true,
            "ticks": "outside",
            "zeroline": false,
            "zerolinecolor": "rgb(36,36,36)"
           }
          },
          "shapedefaults": {
           "fillcolor": "black",
           "line": {
            "width": 0
           },
           "opacity": 0.3
          },
          "ternary": {
           "aaxis": {
            "gridcolor": "rgb(232,232,232)",
            "linecolor": "rgb(36,36,36)",
            "showgrid": false,
            "showline": true,
            "ticks": "outside"
           },
           "baxis": {
            "gridcolor": "rgb(232,232,232)",
            "linecolor": "rgb(36,36,36)",
            "showgrid": false,
            "showline": true,
            "ticks": "outside"
           },
           "bgcolor": "white",
           "caxis": {
            "gridcolor": "rgb(232,232,232)",
            "linecolor": "rgb(36,36,36)",
            "showgrid": false,
            "showline": true,
            "ticks": "outside"
           }
          },
          "title": {
           "x": 0.05
          },
          "xaxis": {
           "automargin": true,
           "gridcolor": "rgb(232,232,232)",
           "linecolor": "rgb(36,36,36)",
           "showgrid": false,
           "showline": true,
           "ticks": "outside",
           "title": {
            "standoff": 15
           },
           "zeroline": false,
           "zerolinecolor": "rgb(36,36,36)"
          },
          "yaxis": {
           "automargin": true,
           "gridcolor": "rgb(232,232,232)",
           "linecolor": "rgb(36,36,36)",
           "showgrid": false,
           "showline": true,
           "ticks": "outside",
           "title": {
            "standoff": 15
           },
           "zeroline": false,
           "zerolinecolor": "rgb(36,36,36)"
          }
         }
        },
        "title": {
         "font": {
          "color": "Black",
          "size": 22
         },
         "text": "<b>Topics over Time</b>",
         "x": 0.4,
         "xanchor": "center",
         "y": 0.95,
         "yanchor": "top"
        },
        "width": 1250,
        "xaxis": {
         "showgrid": true
        },
        "yaxis": {
         "showgrid": true,
         "title": {
          "text": "Frequency"
         }
        }
       }
      }
     },
     "metadata": {},
     "output_type": "display_data"
    }
   ],
   "source": [
    "topic_model.visualize_topics_over_time(topics_over_time, top_n_topics=15)"
   ]
  },
  {
   "cell_type": "markdown",
   "metadata": {},
   "source": [
    "### Positive reviews:"
   ]
  },
  {
   "cell_type": "code",
   "execution_count": 10,
   "metadata": {},
   "outputs": [],
   "source": [
    "pos_model = BERTopic.load(\"models/bertopic_pos_model\")"
   ]
  },
  {
   "cell_type": "code",
   "execution_count": 11,
   "metadata": {},
   "outputs": [
    {
     "name": "stderr",
     "output_type": "stream",
     "text": [
      "20it [00:32,  1.63s/it]\n"
     ]
    }
   ],
   "source": [
    "pos_topics_over_time = pos_model.topics_over_time(pos_docs, pos_timestamps, nr_bins=20)"
   ]
  },
  {
   "cell_type": "code",
   "execution_count": 12,
   "metadata": {},
   "outputs": [
    {
     "data": {
      "application/vnd.plotly.v1+json": {
       "config": {
        "plotlyServerURL": "https://plot.ly"
       },
       "data": [
        {
         "hoverinfo": "text",
         "hovertext": [
          "<b>Topic 0</b><br>Words: ow, mm, forgot, show, among",
          "<b>Topic 0</b><br>Words: ow, mm, forgot, show, among",
          "<b>Topic 0</b><br>Words: ow, mm, forgot, show, among",
          "<b>Topic 0</b><br>Words: ow, mm, forgot, show, among",
          "<b>Topic 0</b><br>Words: ow, mm, forgot, show, till",
          "<b>Topic 0</b><br>Words: ow, mm, forgot, show, among",
          "<b>Topic 0</b><br>Words: ow, mm, forgot, show, among",
          "<b>Topic 0</b><br>Words: ow, mm, forgot, show, among",
          "<b>Topic 0</b><br>Words: ow, mm, forgot, show, till",
          "<b>Topic 0</b><br>Words: ow, mm, forgot, show, among",
          "<b>Topic 0</b><br>Words: ow, mm, forgot, show, among",
          "<b>Topic 0</b><br>Words: ow, mm, forgot, show, among",
          "<b>Topic 0</b><br>Words: ow, mm, forgot, show, among",
          "<b>Topic 0</b><br>Words: ow, mm, forgot, show, among",
          "<b>Topic 0</b><br>Words: ow, mm, forgot, show, among",
          "<b>Topic 0</b><br>Words: ow, mm, forgot, show, till",
          "<b>Topic 0</b><br>Words: ow, mm, forgot, show, among",
          "<b>Topic 0</b><br>Words: ow, mm, forgot, show, among",
          "<b>Topic 0</b><br>Words: ow, mm, forgot, show, among",
          "<b>Topic 0</b><br>Words: ow, mm, forgot, show, among"
         ],
         "marker": {
          "color": "#E69F00"
         },
         "mode": "lines",
         "name": "0_ow_mm_forgot_show",
         "type": "scatter",
         "x": [
          "2014-04-20T18:07:07.316999",
          "2014-11-10T19:13:09.150000",
          "2015-05-29T20:17:53.300000",
          "2015-12-15T21:22:37.449999",
          "2016-07-02T22:27:21.600000",
          "2017-01-18T23:32:05.750000",
          "2017-08-07T00:36:49.900000",
          "2018-02-23T01:41:34.049999",
          "2018-09-11T02:46:18.200000",
          "2019-03-30T03:51:02.350000",
          "2019-10-16T04:55:46.500000",
          "2020-05-03T06:00:30.649999",
          "2020-11-19T07:05:14.800000",
          "2021-06-07T08:09:58.950000",
          "2021-12-24T09:14:43.100000",
          "2022-07-12T10:19:27.249999",
          "2023-01-28T11:24:11.400000",
          "2023-08-16T12:28:55.550000",
          "2024-03-03T13:33:39.700000",
          "2024-09-19T14:38:23.849999"
         ],
         "y": [
          379,
          119,
          37,
          50,
          40,
          19,
          28,
          17,
          15,
          27,
          62,
          117,
          104,
          88,
          67,
          60,
          73,
          92,
          126,
          147
         ]
        },
        {
         "hoverinfo": "text",
         "hovertext": [
          "<b>Topic 1</b><br>Words: good, uch, lik, noice, dat",
          "<b>Topic 1</b><br>Words: good, uch, lik, noice, dat",
          "<b>Topic 1</b><br>Words: good, uch, lik, noice, dat",
          "<b>Topic 1</b><br>Words: good, uch, lik, noice, dat",
          "<b>Topic 1</b><br>Words: good, uch, lik, noice, dat",
          "<b>Topic 1</b><br>Words: good, uch, thay, alcohol, lik",
          "<b>Topic 1</b><br>Words: good, uch, forum, lik, noice",
          "<b>Topic 1</b><br>Words: good, blah, uch, asctetic, ahuitelnaya",
          "<b>Topic 1</b><br>Words: good, gamepaly, dyin, definitly, ez",
          "<b>Topic 1</b><br>Words: good, nintendo, peer, genesis, israel",
          "<b>Topic 1</b><br>Words: good, uch, lik, noice, dat",
          "<b>Topic 1</b><br>Words: good, uch, lik, ol, noice",
          "<b>Topic 1</b><br>Words: good, uch, lik, noice, dat",
          "<b>Topic 1</b><br>Words: good, uch, lik, noice, dat",
          "<b>Topic 1</b><br>Words: good, uch, lik, noice, dat",
          "<b>Topic 1</b><br>Words: good, uch, lik, noice, dat",
          "<b>Topic 1</b><br>Words: good, uch, lik, noice, dat",
          "<b>Topic 1</b><br>Words: good, uch, lik, noice, dat",
          "<b>Topic 1</b><br>Words: good, uch, lik, noice, dat",
          "<b>Topic 1</b><br>Words: good, uch, lik, dat, noice"
         ],
         "marker": {
          "color": "#56B4E9"
         },
         "mode": "lines",
         "name": "1_good_uch_lik_noice",
         "type": "scatter",
         "x": [
          "2014-04-20T18:07:07.316999",
          "2014-11-10T19:13:09.150000",
          "2015-05-29T20:17:53.300000",
          "2015-12-15T21:22:37.449999",
          "2016-07-02T22:27:21.600000",
          "2017-01-18T23:32:05.750000",
          "2017-08-07T00:36:49.900000",
          "2018-02-23T01:41:34.049999",
          "2018-09-11T02:46:18.200000",
          "2019-03-30T03:51:02.350000",
          "2019-10-16T04:55:46.500000",
          "2020-05-03T06:00:30.649999",
          "2020-11-19T07:05:14.800000",
          "2021-06-07T08:09:58.950000",
          "2021-12-24T09:14:43.100000",
          "2022-07-12T10:19:27.249999",
          "2023-01-28T11:24:11.400000",
          "2023-08-16T12:28:55.550000",
          "2024-03-03T13:33:39.700000",
          "2024-09-19T14:38:23.849999"
         ],
         "y": [
          285,
          73,
          25,
          32,
          22,
          12,
          21,
          7,
          9,
          15,
          57,
          92,
          69,
          47,
          68,
          46,
          76,
          91,
          121,
          106
         ]
        },
        {
         "hoverinfo": "text",
         "hovertext": [
          "<b>Topic 2</b><br>Words: vac, ban, projectile, pc, thier",
          "<b>Topic 2</b><br>Words: directx, owner, grain, exsistant, handicaped",
          "<b>Topic 2</b><br>Words: eighty, hamster, scary, marriage, patch",
          "<b>Topic 2</b><br>Words: trauma, kksm, vrs, bag, eye",
          "<b>Topic 2</b><br>Words: die, armour, equipment, introcute, incentivized",
          "<b>Topic 2</b><br>Words: rekt, bros, sougs, suceeds, aaaaaaaaaaaaaaaaaaaaaaaaaa",
          "<b>Topic 2</b><br>Words: deffinitly, stable, wonder, achangce, applause",
          "<b>Topic 2</b><br>Words: luster, fourth, presence, vaccine, vehicle",
          "<b>Topic 2</b><br>Words: crash, tdograt, bec, karen, woud",
          "<b>Topic 2</b><br>Words: misalligned, grapchical, drowners, cagfaf, absoulte",
          "<b>Topic 2</b><br>Words: yonder, stoopid, ulike, modulated, deeadfull",
          "<b>Topic 2</b><br>Words: comprise, binge, tomato, frequency, goood",
          "<b>Topic 2</b><br>Words: drunk, early, beleve, wasteful, greates",
          "<b>Topic 2</b><br>Words: wrrrrrrrr, epstein, gwyning, weryuhwejh, jeffrey",
          "<b>Topic 2</b><br>Words: werst, titty, susah, smelden, poisn",
          "<b>Topic 2</b><br>Words: fetishism, tremendously, mayazaki, cronch, apart",
          "<b>Topic 2</b><br>Words: burst, knight, cames, lebanese, artworkis",
          "<b>Topic 2</b><br>Words: introduce, ctrl, yeeeee, hurr, prespective",
          "<b>Topic 2</b><br>Words: vendrick, runback, title, firekeeper, future",
          "<b>Topic 2</b><br>Words: michael, unresponsiveness, dbap, peach, ptg"
         ],
         "marker": {
          "color": "#009E73"
         },
         "mode": "lines",
         "name": "2_area_enemy_attack_player",
         "type": "scatter",
         "x": [
          "2014-04-20T18:07:07.316999",
          "2014-11-10T19:13:09.150000",
          "2015-05-29T20:17:53.300000",
          "2015-12-15T21:22:37.449999",
          "2016-07-02T22:27:21.600000",
          "2017-01-18T23:32:05.750000",
          "2017-08-07T00:36:49.900000",
          "2018-02-23T01:41:34.049999",
          "2018-09-11T02:46:18.200000",
          "2019-03-30T03:51:02.350000",
          "2019-10-16T04:55:46.500000",
          "2020-05-03T06:00:30.649999",
          "2020-11-19T07:05:14.800000",
          "2021-06-07T08:09:58.950000",
          "2021-12-24T09:14:43.100000",
          "2022-07-12T10:19:27.249999",
          "2023-01-28T11:24:11.400000",
          "2023-08-16T12:28:55.550000",
          "2024-03-03T13:33:39.700000",
          "2024-09-19T14:38:23.849999"
         ],
         "y": [
          72,
          25,
          33,
          47,
          18,
          18,
          20,
          16,
          11,
          15,
          31,
          18,
          46,
          50,
          54,
          28,
          34,
          23,
          25,
          30
         ]
        },
        {
         "hoverinfo": "text",
         "hovertext": [
          "<b>Topic 3</b><br>Words: best, everrrrrrrrrrrrrrrrrrrrrrrrrrrrrrrrrrrrrrrrrrrrrrrrrrrrrrrrrrrrrrrrrrrrrrrrrrrrrrrrrrrrrrrrrrrrrrrrrrrrrrr, ah, btw, proper",
          "<b>Topic 3</b><br>Words: best, everrrrrrrrrrrrrrrrrrrrrrrrrrrrrrrrrrrrrrrrrrrrrrrrrrrrrrrrrrrrrrrrrrrrrrrrrrrrrrrrrrrrrrrrrrrrrrrrrrrrrrr, ah, btw, proper",
          "<b>Topic 3</b><br>Words: best, everrrrrrrrrrrrrrrrrrrrrrrrrrrrrrrrrrrrrrrrrrrrrrrrrrrrrrrrrrrrrrrrrrrrrrrrrrrrrrrrrrrrrrrrrrrrrrrrrrrrrrr, ah, gramphics, singplayer",
          "<b>Topic 3</b><br>Words: best, everrrrrrrrrrrrrrrrrrrrrrrrrrrrrrrrrrrrrrrrrrrrrrrrrrrrrrrrrrrrrrrrrrrrrrrrrrrrrrrrrrrrrrrrrrrrrrrrrrrrrrr, ah, btw, proper",
          "<b>Topic 3</b><br>Words: best, everrrrrrrrrrrrrrrrrrrrrrrrrrrrrrrrrrrrrrrrrrrrrrrrrrrrrrrrrrrrrrrrrrrrrrrrrrrrrrrrrrrrrrrrrrrrrrrrrrrrrrr, ah, rkt, monters",
          "<b>Topic 3</b><br>Words: best, harm, sometime, wont, regret",
          "<b>Topic 3</b><br>Words: best, everrrrrrrrrrrrrrrrrrrrrrrrrrrrrrrrrrrrrrrrrrrrrrrrrrrrrrrrrrrrrrrrrrrrrrrrrrrrrrrrrrrrrrrrrrrrrrrrrrrrrrr, ah, btw, proper",
          "<b>Topic 3</b><br>Words: best, everrrrrrrrrrrrrrrrrrrrrrrrrrrrrrrrrrrrrrrrrrrrrrrrrrrrrrrrrrrrrrrrrrrrrrrrrrrrrrrrrrrrrrrrrrrrrrrrrrrrrrr, environemt, ah, hurry",
          "<b>Topic 3</b><br>Words: best, rear, clone, relax, pull",
          "<b>Topic 3</b><br>Words: best, rogue, witch, stellar, rep",
          "<b>Topic 3</b><br>Words: best, everrrrrrrrrrrrrrrrrrrrrrrrrrrrrrrrrrrrrrrrrrrrrrrrrrrrrrrrrrrrrrrrrrrrrrrrrrrrrrrrrrrrrrrrrrrrrrrrrrrrrrr, ah, senat, ily",
          "<b>Topic 3</b><br>Words: best, yes, everrrrrrrrrrrrrrrrrrrrrrrrrrrrrrrrrrrrrrrrrrrrrrrrrrrrrrrrrrrrrrrrrrrrrrrrrrrrrrrrrrrrrrrrrrrrrrrrrrrrrrr, ah, btw",
          "<b>Topic 3</b><br>Words: best, everrrrrrrrrrrrrrrrrrrrrrrrrrrrrrrrrrrrrrrrrrrrrrrrrrrrrrrrrrrrrrrrrrrrrrrrrrrrrrrrrrrrrrrrrrrrrrrrrrrrrrr, ah, liar, unrefined",
          "<b>Topic 3</b><br>Words: best, everrrrrrrrrrrrrrrrrrrrrrrrrrrrrrrrrrrrrrrrrrrrrrrrrrrrrrrrrrrrrrrrrrrrrrrrrrrrrrrrrrrrrrrrrrrrrrrrrrrrrrr, ah, btw, proper",
          "<b>Topic 3</b><br>Words: best, everrrrrrrrrrrrrrrrrrrrrrrrrrrrrrrrrrrrrrrrrrrrrrrrrrrrrrrrrrrrrrrrrrrrrrrrrrrrrrrrrrrrrrrrrrrrrrrrrrrrrrr, ah, btw, job",
          "<b>Topic 3</b><br>Words: best, everrrrrrrrrrrrrrrrrrrrrrrrrrrrrrrrrrrrrrrrrrrrrrrrrrrrrrrrrrrrrrrrrrrrrrrrrrrrrrrrrrrrrrrrrrrrrrrrrrrrrrr, ah, btw, proper",
          "<b>Topic 3</b><br>Words: best, everrrrrrrrrrrrrrrrrrrrrrrrrrrrrrrrrrrrrrrrrrrrrrrrrrrrrrrrrrrrrrrrrrrrrrrrrrrrrrrrrrrrrrrrrrrrrrrrrrrrrrr, ah, btw, proper",
          "<b>Topic 3</b><br>Words: best, everrrrrrrrrrrrrrrrrrrrrrrrrrrrrrrrrrrrrrrrrrrrrrrrrrrrrrrrrrrrrrrrrrrrrrrrrrrrrrrrrrrrrrrrrrrrrrrrrrrrrrr, ah, btw, proper",
          "<b>Topic 3</b><br>Words: best, everrrrrrrrrrrrrrrrrrrrrrrrrrrrrrrrrrrrrrrrrrrrrrrrrrrrrrrrrrrrrrrrrrrrrrrrrrrrrrrrrrrrrrrrrrrrrrrrrrrrrrr, lonely, ah, btw",
          "<b>Topic 3</b><br>Words: best, everrrrrrrrrrrrrrrrrrrrrrrrrrrrrrrrrrrrrrrrrrrrrrrrrrrrrrrrrrrrrrrrrrrrrrrrrrrrrrrrrrrrrrrrrrrrrrrrrrrrrrr, ah, btw, proper"
         ],
         "marker": {
          "color": "#F0E442"
         },
         "mode": "lines",
         "name": "3_best_everrrrrrrrrrrrrrrrrrrrrrrrrrrrrr...",
         "type": "scatter",
         "x": [
          "2014-04-20T18:07:07.316999",
          "2014-11-10T19:13:09.150000",
          "2015-05-29T20:17:53.300000",
          "2015-12-15T21:22:37.449999",
          "2016-07-02T22:27:21.600000",
          "2017-01-18T23:32:05.750000",
          "2017-08-07T00:36:49.900000",
          "2018-02-23T01:41:34.049999",
          "2018-09-11T02:46:18.200000",
          "2019-03-30T03:51:02.350000",
          "2019-10-16T04:55:46.500000",
          "2020-05-03T06:00:30.649999",
          "2020-11-19T07:05:14.800000",
          "2021-06-07T08:09:58.950000",
          "2021-12-24T09:14:43.100000",
          "2022-07-12T10:19:27.249999",
          "2023-01-28T11:24:11.400000",
          "2023-08-16T12:28:55.550000",
          "2024-03-03T13:33:39.700000",
          "2024-09-19T14:38:23.849999"
         ],
         "y": [
          158,
          46,
          7,
          12,
          16,
          3,
          6,
          3,
          6,
          7,
          20,
          23,
          31,
          13,
          20,
          16,
          23,
          48,
          49,
          50
         ]
        },
        {
         "hoverinfo": "text",
         "hovertext": [
          "<b>Topic 4</b><br>Words: yes, yesn, nope, yessir, hahahahaha",
          "<b>Topic 4</b><br>Words: yes, yesn, nope, yessir, hahahahaha",
          "<b>Topic 4</b><br>Words: yes, yesn, nope, yessir, hahahahaha",
          "<b>Topic 4</b><br>Words: yes, geewwwwddd, lesiurely, ragardless, carving",
          "<b>Topic 4</b><br>Words: yes, stayed, enraged, inch, dank",
          "<b>Topic 4</b><br>Words: yes, punch, revisioned, woman, yesn",
          "<b>Topic 4</b><br>Words: yes, yesn, nope, yessir, hahahahaha",
          "<b>Topic 4</b><br>Words: yes, incompatible, mp, divide, wish",
          "<b>Topic 4</b><br>Words: yes, keybindings, ta, otherwise, keyboard",
          "<b>Topic 4</b><br>Words: yes, tinker, contest, yesn, nope",
          "<b>Topic 4</b><br>Words: yes, vem, dando, propunha, angsty",
          "<b>Topic 4</b><br>Words: yes, yesn, nope, yessir, hahahahaha",
          "<b>Topic 4</b><br>Words: yes, yesn, nope, yessir, ratchet",
          "<b>Topic 4</b><br>Words: yes, relevantly, doubly, defo, popularity",
          "<b>Topic 4</b><br>Words: yes, nes, reassure, twitter, touchy",
          "<b>Topic 4</b><br>Words: yes, episode, yesn, nope, yessir",
          "<b>Topic 4</b><br>Words: yes, lotion, yesn, nope, yessir",
          "<b>Topic 4</b><br>Words: yes, yesn, nope, yessir, hahahahaha",
          "<b>Topic 4</b><br>Words: yes, yesn, nope, yessir, hahahahaha",
          "<b>Topic 4</b><br>Words: yes, yesn, nope, yessir, hahahahaha"
         ],
         "marker": {
          "color": "#D55E00"
         },
         "mode": "lines",
         "name": "4_yes_yesn_nope_yessir",
         "type": "scatter",
         "x": [
          "2014-04-20T18:07:07.316999",
          "2014-11-10T19:13:09.150000",
          "2015-05-29T20:17:53.300000",
          "2015-12-15T21:22:37.449999",
          "2016-07-02T22:27:21.600000",
          "2017-01-18T23:32:05.750000",
          "2017-08-07T00:36:49.900000",
          "2018-02-23T01:41:34.049999",
          "2018-09-11T02:46:18.200000",
          "2019-03-30T03:51:02.350000",
          "2019-10-16T04:55:46.500000",
          "2020-05-03T06:00:30.649999",
          "2020-11-19T07:05:14.800000",
          "2021-06-07T08:09:58.950000",
          "2021-12-24T09:14:43.100000",
          "2022-07-12T10:19:27.249999",
          "2023-01-28T11:24:11.400000",
          "2023-08-16T12:28:55.550000",
          "2024-03-03T13:33:39.700000",
          "2024-09-19T14:38:23.849999"
         ],
         "y": [
          106,
          26,
          8,
          7,
          7,
          4,
          7,
          2,
          1,
          8,
          11,
          29,
          21,
          7,
          10,
          8,
          13,
          45,
          50,
          47
         ]
        },
        {
         "hoverinfo": "text",
         "hovertext": [
          "<b>Topic 5</b><br>Words: de, que, jogo, el, la",
          "<b>Topic 5</b><br>Words: de, rhythm, que, jogo, el",
          "<b>Topic 5</b><br>Words: mainthing, wearyou, occasionlly, agnozing, fewbonfires",
          "<b>Topic 5</b><br>Words: directx, enlarge, pple, peapul, threee",
          "<b>Topic 5</b><br>Words: durst, fred, actully, de, que",
          "<b>Topic 5</b><br>Words: de, que, softbanned, enviroment, hitbox",
          "<b>Topic 5</b><br>Words: mkae, absolutley, ill, library, date",
          "<b>Topic 5</b><br>Words: ald, kanser, neden, peanut, oldum",
          "<b>Topic 5</b><br>Words: riveting, ebeginning, ruefully, withought, smashing",
          "<b>Topic 5</b><br>Words: rework, attorias, unwieldy, deleted, own",
          "<b>Topic 5</b><br>Words: check, de, que, vitality, restore",
          "<b>Topic 5</b><br>Words: dum, de, que, jogo, el",
          "<b>Topic 5</b><br>Words: marital, throughoutly, niggly, gankiness, improvement",
          "<b>Topic 5</b><br>Words: heckin, deterioration, paired, executive, town",
          "<b>Topic 5</b><br>Words: fortunately, sekeldenbornesoul, wwjd, interesing, defy",
          "<b>Topic 5</b><br>Words: habilidade, nossa, classing, splintercell, stealth",
          "<b>Topic 5</b><br>Words: divine, profound, spiritual, transcendence, frailty",
          "<b>Topic 5</b><br>Words: fromsoftware, hee, de, event, que",
          "<b>Topic 5</b><br>Words: till, de, que, enables, jogo",
          "<b>Topic 5</b><br>Words: de, que, specialize, reimagining, jogo"
         ],
         "marker": {
          "color": "#0072B2"
         },
         "mode": "lines",
         "name": "5_de_que_jogo_el",
         "type": "scatter",
         "x": [
          "2014-04-20T18:07:07.316999",
          "2014-11-10T19:13:09.150000",
          "2015-05-29T20:17:53.300000",
          "2015-12-15T21:22:37.449999",
          "2016-07-02T22:27:21.600000",
          "2017-01-18T23:32:05.750000",
          "2017-08-07T00:36:49.900000",
          "2018-02-23T01:41:34.049999",
          "2018-09-11T02:46:18.200000",
          "2019-03-30T03:51:02.350000",
          "2019-10-16T04:55:46.500000",
          "2020-05-03T06:00:30.649999",
          "2020-11-19T07:05:14.800000",
          "2021-06-07T08:09:58.950000",
          "2021-12-24T09:14:43.100000",
          "2022-07-12T10:19:27.249999",
          "2023-01-28T11:24:11.400000",
          "2023-08-16T12:28:55.550000",
          "2024-03-03T13:33:39.700000",
          "2024-09-19T14:38:23.849999"
         ],
         "y": [
          70,
          33,
          7,
          13,
          5,
          3,
          1,
          9,
          3,
          8,
          15,
          28,
          19,
          22,
          21,
          19,
          18,
          24,
          38,
          38
         ]
        },
        {
         "hoverinfo": "text",
         "hovertext": [
          "<b>Topic 6</b><br>Words: pvp, pve, sm, stunlock, sl",
          "<b>Topic 6</b><br>Words: pvp, dx, pve, inquisiton, sotfn",
          "<b>Topic 6</b><br>Words: clicking, crashwiki, gameis, unbound, double",
          "<b>Topic 6</b><br>Words: pvp, pve, protagonist, pirate, company",
          "<b>Topic 6</b><br>Words: pvp, pve, generates, wily, risposte",
          "<b>Topic 6</b><br>Words: ths, soda, bottle, virginity, faggot",
          "<b>Topic 6</b><br>Words: sun, praise, trlogy, lengthly, pvp",
          "<b>Topic 6</b><br>Words: pvp, screw, miliue, greaat, geek",
          "<b>Topic 6</b><br>Words: bam, pvp, ded, pve, ow",
          "<b>Topic 6</b><br>Words: propably, hint, wont, favourite, probably",
          "<b>Topic 6</b><br>Words: pvp, rear, fluently, shrivel, pve",
          "<b>Topic 6</b><br>Words: pvp, pve, swords, wrecked, list",
          "<b>Topic 6</b><br>Words: pvp, addicitng, gooj, pve, cheetos",
          "<b>Topic 6</b><br>Words: pvp, pve, softs, icon, fest",
          "<b>Topic 6</b><br>Words: pvp, pve, asuka, protagonist, adversary",
          "<b>Topic 6</b><br>Words: pvp, pve, kugs, theres, down",
          "<b>Topic 6</b><br>Words: pvp, pve, um, com, como",
          "<b>Topic 6</b><br>Words: pvp, pve, punch, attach, woman",
          "<b>Topic 6</b><br>Words: pvp, lob, nieve, podrian, barim",
          "<b>Topic 6</b><br>Words: pvp, hoilow, butts, dritt, pve"
         ],
         "marker": {
          "color": "#CC79A7"
         },
         "mode": "lines",
         "name": "6_pvp_pve_best_stunlock",
         "type": "scatter",
         "x": [
          "2014-04-20T18:07:07.316999",
          "2014-11-10T19:13:09.150000",
          "2015-05-29T20:17:53.300000",
          "2015-12-15T21:22:37.449999",
          "2016-07-02T22:27:21.600000",
          "2017-01-18T23:32:05.750000",
          "2017-08-07T00:36:49.900000",
          "2018-02-23T01:41:34.049999",
          "2018-09-11T02:46:18.200000",
          "2019-03-30T03:51:02.350000",
          "2019-10-16T04:55:46.500000",
          "2020-05-03T06:00:30.649999",
          "2020-11-19T07:05:14.800000",
          "2021-06-07T08:09:58.950000",
          "2021-12-24T09:14:43.100000",
          "2022-07-12T10:19:27.249999",
          "2023-01-28T11:24:11.400000",
          "2023-08-16T12:28:55.550000",
          "2024-03-03T13:33:39.700000",
          "2024-09-19T14:38:23.849999"
         ],
         "y": [
          60,
          8,
          5,
          23,
          14,
          6,
          11,
          7,
          8,
          5,
          24,
          10,
          16,
          50,
          32,
          26,
          25,
          20,
          17,
          17
         ]
        },
        {
         "hoverinfo": "text",
         "hovertext": [
          "<b>Topic 7</b><br>Words: challenge, challenging, coven, fun, ether",
          "<b>Topic 7</b><br>Words: challenge, challenging, encourge, variaity, laghitboxes",
          "<b>Topic 7</b><br>Words: challenge, el, challenging, doot, noot",
          "<b>Topic 7</b><br>Words: tooie, thaaaat, banjo, omg, challenge",
          "<b>Topic 7</b><br>Words: challenge, challenging, casualism, stubid, loathing",
          "<b>Topic 7</b><br>Words: challenge, challenging, maid, softs, iii",
          "<b>Topic 7</b><br>Words: challenge, challenging, pander, crybaby, whine",
          "<b>Topic 7</b><br>Words: challenge, challenging, bundle, char, equal",
          "<b>Topic 7</b><br>Words: nuke, agro, serie, length, nobody",
          "<b>Topic 7</b><br>Words: challenge, challenging, sofs, aromatic, gywniever",
          "<b>Topic 7</b><br>Words: challenge, challenging, carbon, fun, comings",
          "<b>Topic 7</b><br>Words: challenge, challenging, runny, haemorrhoid, taylor",
          "<b>Topic 7</b><br>Words: zeriesz, wortz, tooouu, inchonzitent, izt",
          "<b>Topic 7</b><br>Words: challenge, pleaswe, adil, arham, hep",
          "<b>Topic 7</b><br>Words: challenge, redownloading, drangeleic, challenging, havnt",
          "<b>Topic 7</b><br>Words: challenge, challenging, ai, sentinel, infrequently",
          "<b>Topic 7</b><br>Words: challenge, challenging, oncoming, crappily, ost",
          "<b>Topic 7</b><br>Words: challenge, pija, loooooove, looooove, tuviera",
          "<b>Topic 7</b><br>Words: challenge, yum, challenging, sauce, experimentally",
          "<b>Topic 7</b><br>Words: realised, hike, shepherd, remasterd, answer"
         ],
         "marker": {
          "color": "#E69F00"
         },
         "mode": "lines",
         "name": "7_challenge_challenging_fun_artifical",
         "type": "scatter",
         "x": [
          "2014-04-20T18:07:07.316999",
          "2014-11-10T19:13:09.150000",
          "2015-05-29T20:17:53.300000",
          "2015-12-15T21:22:37.449999",
          "2016-07-02T22:27:21.600000",
          "2017-01-18T23:32:05.750000",
          "2017-08-07T00:36:49.900000",
          "2018-02-23T01:41:34.049999",
          "2018-09-11T02:46:18.200000",
          "2019-03-30T03:51:02.350000",
          "2019-10-16T04:55:46.500000",
          "2020-05-03T06:00:30.649999",
          "2020-11-19T07:05:14.800000",
          "2021-06-07T08:09:58.950000",
          "2021-12-24T09:14:43.100000",
          "2022-07-12T10:19:27.249999",
          "2023-01-28T11:24:11.400000",
          "2023-08-16T12:28:55.550000",
          "2024-03-03T13:33:39.700000",
          "2024-09-19T14:38:23.849999"
         ],
         "y": [
          26,
          12,
          13,
          10,
          17,
          18,
          12,
          10,
          5,
          20,
          29,
          29,
          7,
          23,
          22,
          10,
          16,
          19,
          23,
          8
         ]
        },
        {
         "hoverinfo": "text",
         "hovertext": [
          "<b>Topic 8</b><br>Words: sun, praise, blah, sunlight, sunny",
          "<b>Topic 8</b><br>Words: sun, praise, blah, sunlight, sunny",
          "<b>Topic 8</b><br>Words: sun, praise, blah, sunlight, dks",
          "<b>Topic 8</b><br>Words: sun, praise, jason, blah, fancy",
          "<b>Topic 8</b><br>Words: sun, praise, comprehension, emoji, painfully",
          "<b>Topic 8</b><br>Words: sun, praise, increbily, hopfully, annoyong",
          "<b>Topic 8</b><br>Words: sun, praise, blah, keepabusingmedarksouls, accomlishment",
          "<b>Topic 8</b><br>Words: sun, praise, backgroundstory, marajula, deceased",
          "<b>Topic 8</b><br>Words: sun, praise, blah, riposte, sunbroing",
          "<b>Topic 8</b><br>Words: sun, praise, dispute, blah, glide",
          "<b>Topic 8</b><br>Words: sun, praise, blah, sofs, pvpeing",
          "<b>Topic 8</b><br>Words: sun, praise, blah, confirmed, hole",
          "<b>Topic 8</b><br>Words: sun, praise, fv, reposting, disappointment",
          "<b>Topic 8</b><br>Words: sun, praise, blah, sasuke, hmmmmmm",
          "<b>Topic 8</b><br>Words: sun, praise, blah, linker, sunlight",
          "<b>Topic 8</b><br>Words: sun, praise, sunlight, perilous, blah",
          "<b>Topic 8</b><br>Words: sun, praise, uniqueness, confusing, cap",
          "<b>Topic 8</b><br>Words: sun, praise, concievable, admonish, developmental",
          "<b>Topic 8</b><br>Words: sun, praise, massochists, endedness, registering",
          "<b>Topic 8</b><br>Words: sun, praise, woooooooor, persist, unreliable"
         ],
         "marker": {
          "color": "#56B4E9"
         },
         "mode": "lines",
         "name": "8_sun_praise_blah_sunlight",
         "type": "scatter",
         "x": [
          "2014-04-20T18:07:07.316999",
          "2014-11-10T19:13:09.150000",
          "2015-05-29T20:17:53.300000",
          "2015-12-15T21:22:37.449999",
          "2016-07-02T22:27:21.600000",
          "2017-01-18T23:32:05.750000",
          "2017-08-07T00:36:49.900000",
          "2018-02-23T01:41:34.049999",
          "2018-09-11T02:46:18.200000",
          "2019-03-30T03:51:02.350000",
          "2019-10-16T04:55:46.500000",
          "2020-05-03T06:00:30.649999",
          "2020-11-19T07:05:14.800000",
          "2021-06-07T08:09:58.950000",
          "2021-12-24T09:14:43.100000",
          "2022-07-12T10:19:27.249999",
          "2023-01-28T11:24:11.400000",
          "2023-08-16T12:28:55.550000",
          "2024-03-03T13:33:39.700000",
          "2024-09-19T14:38:23.849999"
         ],
         "y": [
          25,
          21,
          19,
          28,
          16,
          13,
          15,
          9,
          7,
          11,
          23,
          15,
          16,
          24,
          31,
          9,
          8,
          11,
          13,
          13
         ]
        },
        {
         "hoverinfo": "text",
         "hovertext": [
          "<b>Topic 9</b><br>Words: hard, harder, softs, easy, difficult",
          "<b>Topic 9</b><br>Words: hard, harder, variaty, newgame, easy",
          "<b>Topic 9</b><br>Words: hard, harder, label, fearlessly, matchmakes",
          "<b>Topic 9</b><br>Words: hard, harder, softs, easy, normal",
          "<b>Topic 9</b><br>Words: hard, harder, abit, fucking, viscinity",
          "<b>Topic 9</b><br>Words: up, overwatch, apocalyptic, ea, hard",
          "<b>Topic 9</b><br>Words: hard, nevative, interconnectivety, acctualy, anderson",
          "<b>Topic 9</b><br>Words: hard, harder, discomfort, credential, biast",
          "<b>Topic 9</b><br>Words: hard, cough, wouldnt, critisizm, essencse",
          "<b>Topic 9</b><br>Words: hard, harder, dks, softs, difficult",
          "<b>Topic 9</b><br>Words: hard, aggrivate, ratlyfe, harder, card",
          "<b>Topic 9</b><br>Words: hard, bonk, sacred, harder, diminish",
          "<b>Topic 9</b><br>Words: hard, ehhhhhhh, didint, issa, thx",
          "<b>Topic 9</b><br>Words: hard, harder, doodle, softs, easy",
          "<b>Topic 9</b><br>Words: hard, harder, softs, easy, difficult",
          "<b>Topic 9</b><br>Words: hard, harder, dated, date, broadly",
          "<b>Topic 9</b><br>Words: hard, iyi, oyunu, harder, sterkt",
          "<b>Topic 9</b><br>Words: hard, nioh, rough, harder, boshy",
          "<b>Topic 9</b><br>Words: hard, dookie, harder, cheeks, oia",
          "<b>Topic 9</b><br>Words: hard, darketosoudos, tremendo, topeewee, gane"
         ],
         "marker": {
          "color": "#009E73"
         },
         "mode": "lines",
         "name": "9_hard_harder_softs_easy",
         "type": "scatter",
         "x": [
          "2014-04-20T18:07:07.316999",
          "2014-11-10T19:13:09.150000",
          "2015-05-29T20:17:53.300000",
          "2015-12-15T21:22:37.449999",
          "2016-07-02T22:27:21.600000",
          "2017-01-18T23:32:05.750000",
          "2017-08-07T00:36:49.900000",
          "2018-02-23T01:41:34.049999",
          "2018-09-11T02:46:18.200000",
          "2019-03-30T03:51:02.350000",
          "2019-10-16T04:55:46.500000",
          "2020-05-03T06:00:30.649999",
          "2020-11-19T07:05:14.800000",
          "2021-06-07T08:09:58.950000",
          "2021-12-24T09:14:43.100000",
          "2022-07-12T10:19:27.249999",
          "2023-01-28T11:24:11.400000",
          "2023-08-16T12:28:55.550000",
          "2024-03-03T13:33:39.700000",
          "2024-09-19T14:38:23.849999"
         ],
         "y": [
          36,
          13,
          10,
          14,
          16,
          10,
          9,
          5,
          4,
          14,
          15,
          23,
          18,
          30,
          22,
          17,
          15,
          18,
          19,
          15
         ]
        },
        {
         "hoverinfo": "text",
         "hovertext": [
          "<b>Topic 10</b><br>Words: great, pain, fking, greatttttt, greattttt",
          "<b>Topic 10</b><br>Words: great, fking, greatttttt, greattttt, outta",
          "<b>Topic 10</b><br>Words: great, fking, greatttttt, greattttt, outta",
          "<b>Topic 10</b><br>Words: great, fking, greatttttt, greattttt, choke",
          "<b>Topic 10</b><br>Words: great, fking, greatttttt, greattttt, loud",
          "<b>Topic 10</b><br>Words: great, fking, greatttttt, greattttt, outta",
          "<b>Topic 10</b><br>Words: great, fking, greatttttt, greattttt, outta",
          "<b>Topic 10</b><br>Words: great, gold, vastly, fking, everyone",
          "<b>Topic 10</b><br>Words: great, obviously, important, nearly, fking",
          "<b>Topic 10</b><br>Words: great, fking, greatttttt, greattttt, fighthing",
          "<b>Topic 10</b><br>Words: great, fking, greatttttt, greattttt, outta",
          "<b>Topic 10</b><br>Words: great, fking, greatttttt, greattttt, weno",
          "<b>Topic 10</b><br>Words: great, fking, greatttttt, greattttt, outta",
          "<b>Topic 10</b><br>Words: great, fking, greatttttt, greattttt, outta",
          "<b>Topic 10</b><br>Words: great, fking, greatttttt, greattttt, outta",
          "<b>Topic 10</b><br>Words: great, fking, greatttttt, greattttt, outta",
          "<b>Topic 10</b><br>Words: great, fking, greatttttt, greattttt, outta",
          "<b>Topic 10</b><br>Words: great, fking, greatttttt, greattttt, outta",
          "<b>Topic 10</b><br>Words: great, fking, greatttttt, greattttt, outta",
          "<b>Topic 10</b><br>Words: great, fking, greatttttt, greattttt, outta"
         ],
         "marker": {
          "color": "#F0E442"
         },
         "mode": "lines",
         "name": "10_great_fking_greatttttt_greattttt",
         "type": "scatter",
         "x": [
          "2014-04-20T18:07:07.316999",
          "2014-11-10T19:13:09.150000",
          "2015-05-29T20:17:53.300000",
          "2015-12-15T21:22:37.449999",
          "2016-07-02T22:27:21.600000",
          "2017-01-18T23:32:05.750000",
          "2017-08-07T00:36:49.900000",
          "2018-02-23T01:41:34.049999",
          "2018-09-11T02:46:18.200000",
          "2019-03-30T03:51:02.350000",
          "2019-10-16T04:55:46.500000",
          "2020-05-03T06:00:30.649999",
          "2020-11-19T07:05:14.800000",
          "2021-06-07T08:09:58.950000",
          "2021-12-24T09:14:43.100000",
          "2022-07-12T10:19:27.249999",
          "2023-01-28T11:24:11.400000",
          "2023-08-16T12:28:55.550000",
          "2024-03-03T13:33:39.700000",
          "2024-09-19T14:38:23.849999"
         ],
         "y": [
          50,
          15,
          6,
          5,
          13,
          8,
          6,
          3,
          4,
          7,
          15,
          12,
          14,
          20,
          17,
          12,
          17,
          27,
          23,
          23
         ]
        },
        {
         "hoverinfo": "text",
         "hovertext": [
          "<b>Topic 11</b><br>Words: die, ha, zz, finna, willl",
          "<b>Topic 11</b><br>Words: die, ha, zz, incadescent, finna",
          "<b>Topic 11</b><br>Words: die, ha, zz, finna, willl",
          "<b>Topic 11</b><br>Words: die, ha, zz, finna, willl",
          "<b>Topic 11</b><br>Words: die, remastering, ha, differ, eat",
          "<b>Topic 11</b><br>Words: die, ha, zz, finna, willl",
          "<b>Topic 11</b><br>Words: die, ha, zz, veeri, masoquistic",
          "<b>Topic 11</b><br>Words: die, ha, zz, finna, willl",
          "<b>Topic 11</b><br>Words: die, ha, zz, finna, willl",
          "<b>Topic 11</b><br>Words: die, ha, zz, finna, daze",
          "<b>Topic 11</b><br>Words: die, ha, zz, finna, willl",
          "<b>Topic 11</b><br>Words: die, ha, zz, finna, willl",
          "<b>Topic 11</b><br>Words: die, ha, zz, yesssss, swamps",
          "<b>Topic 11</b><br>Words: die, ha, harris, bomberguy, gooooood",
          "<b>Topic 11</b><br>Words: die, ha, zz, finna, willl",
          "<b>Topic 11</b><br>Words: die, realllllly, ha, fr, flaws",
          "<b>Topic 11</b><br>Words: die, ha, zz, finna, willl",
          "<b>Topic 11</b><br>Words: die, ha, zz, finna, mhmmmmmm",
          "<b>Topic 11</b><br>Words: die, ha, zz, finna, willl",
          "<b>Topic 11</b><br>Words: die, ha, zz, finna, willl"
         ],
         "marker": {
          "color": "#D55E00"
         },
         "mode": "lines",
         "name": "11_die_ha_zz_finna",
         "type": "scatter",
         "x": [
          "2014-04-20T18:07:07.316999",
          "2014-11-10T19:13:09.150000",
          "2015-05-29T20:17:53.300000",
          "2015-12-15T21:22:37.449999",
          "2016-07-02T22:27:21.600000",
          "2017-01-18T23:32:05.750000",
          "2017-08-07T00:36:49.900000",
          "2018-02-23T01:41:34.049999",
          "2018-09-11T02:46:18.200000",
          "2019-03-30T03:51:02.350000",
          "2019-10-16T04:55:46.500000",
          "2020-05-03T06:00:30.649999",
          "2020-11-19T07:05:14.800000",
          "2021-06-07T08:09:58.950000",
          "2021-12-24T09:14:43.100000",
          "2022-07-12T10:19:27.249999",
          "2023-01-28T11:24:11.400000",
          "2023-08-16T12:28:55.550000",
          "2024-03-03T13:33:39.700000",
          "2024-09-19T14:38:23.849999"
         ],
         "y": [
          22,
          13,
          20,
          16,
          6,
          5,
          8,
          10,
          8,
          10,
          35,
          20,
          9,
          21,
          23,
          9,
          8,
          18,
          16,
          8
         ]
        },
        {
         "hoverinfo": "text",
         "hovertext": [
          "<b>Topic 12</b><br>Words: pc, xbox, deprive, skldj, tasdjaskda",
          "<b>Topic 12</b><br>Words: pc, xbox, monitor, console, speciol",
          "<b>Topic 12</b><br>Words: generaly, prson, slightl, loool, fuuuuuuuuuuu",
          "<b>Topic 12</b><br>Words: sunsword, revolution, stagnation, agen, heir",
          "<b>Topic 12</b><br>Words: cautious, greedy, punishes, root, date",
          "<b>Topic 12</b><br>Words: pc, invovled, otoh, revvive, explaisn",
          "<b>Topic 12</b><br>Words: puzzling, oops, fascinating, fee, bleed",
          "<b>Topic 12</b><br>Words: pc, blog, url, xbox, darksign",
          "<b>Topic 12</b><br>Words: trudge, heelies, overflown, egotistic, backlog",
          "<b>Topic 12</b><br>Words: hundredth, faithful, label, alternative, dragonslayer",
          "<b>Topic 12</b><br>Words: recieved, hords, jurney, guarenteed, disproportionate",
          "<b>Topic 12</b><br>Words: earn, pc, souslborne, abortion, maldrom",
          "<b>Topic 12</b><br>Words: pc, pushover, rider, gamo, recreational",
          "<b>Topic 12</b><br>Words: esey, smoulds, fullprice, arrepenti, whered",
          "<b>Topic 12</b><br>Words: teaspoon, beef, flour, cup, oregano",
          "<b>Topic 12</b><br>Words: imagery, tuck, curator, jankier, calculate",
          "<b>Topic 12</b><br>Words: ong, ommhomhomhohmohmohmomho, ughhhhhhh, yeahhhhhh, mmmhmmmmm",
          "<b>Topic 12</b><br>Words: pc, waterboarding, noraml, tanimuras, counterargument",
          "<b>Topic 12</b><br>Words: videoplayed, apprecisate, ordo, lightyear, cirtical",
          "<b>Topic 12</b><br>Words: emotes, randomizer, scuffed, enjoyer, sir"
         ],
         "marker": {
          "color": "#0072B2"
         },
         "mode": "lines",
         "name": "12_pc_xbox_laptop_console",
         "type": "scatter",
         "x": [
          "2014-04-20T18:07:07.316999",
          "2014-11-10T19:13:09.150000",
          "2015-05-29T20:17:53.300000",
          "2015-12-15T21:22:37.449999",
          "2016-07-02T22:27:21.600000",
          "2017-01-18T23:32:05.750000",
          "2017-08-07T00:36:49.900000",
          "2018-02-23T01:41:34.049999",
          "2018-09-11T02:46:18.200000",
          "2019-03-30T03:51:02.350000",
          "2019-10-16T04:55:46.500000",
          "2020-05-03T06:00:30.649999",
          "2020-11-19T07:05:14.800000",
          "2021-06-07T08:09:58.950000",
          "2021-12-24T09:14:43.100000",
          "2022-07-12T10:19:27.249999",
          "2023-01-28T11:24:11.400000",
          "2023-08-16T12:28:55.550000",
          "2024-03-03T13:33:39.700000",
          "2024-09-19T14:38:23.849999"
         ],
         "y": [
          27,
          34,
          11,
          7,
          2,
          4,
          8,
          5,
          3,
          3,
          19,
          14,
          23,
          25,
          19,
          13,
          14,
          14,
          18,
          8
         ]
        },
        {
         "hoverinfo": "text",
         "hovertext": [
          "<b>Topic 13</b><br>Words: fun, fung, troy, cassual, ha",
          "<b>Topic 13</b><br>Words: fun, cassual, fung, troy, ha",
          "<b>Topic 13</b><br>Words: fun, fung, cassual, troy, ha",
          "<b>Topic 13</b><br>Words: fun, fung, cassual, troy, ha",
          "<b>Topic 13</b><br>Words: fun, outrouyrf, tourette, playin, neighbor",
          "<b>Topic 13</b><br>Words: fun, fung, cassual, troy, ha",
          "<b>Topic 13</b><br>Words: ammmazing, fun, woman, test, live",
          "<b>Topic 13</b><br>Words: fun, nom, om, fung, cassual",
          "<b>Topic 13</b><br>Words: fun, gut, slowwww, jumpscares, spammy",
          "<b>Topic 13</b><br>Words: gucci, fun, dick, shit, epic",
          "<b>Topic 13</b><br>Words: fun, fung, troy, cassual, ha",
          "<b>Topic 13</b><br>Words: fun, cassual, troy, fung, ha",
          "<b>Topic 13</b><br>Words: fun, fung, cassual, troy, ha",
          "<b>Topic 13</b><br>Words: fun, icecream, sidecar, motorbike, chimpanzee",
          "<b>Topic 13</b><br>Words: fun, sodomize, couldve, marathon, seriousness",
          "<b>Topic 13</b><br>Words: fun, troy, cassual, fung, ha",
          "<b>Topic 13</b><br>Words: fun, troy, fung, cassual, ha",
          "<b>Topic 13</b><br>Words: fun, cassual, fung, troy, ha",
          "<b>Topic 13</b><br>Words: fun, cassual, troy, fung, ha"
         ],
         "marker": {
          "color": "#CC79A7"
         },
         "mode": "lines",
         "name": "13_fun_cassual_troy_fung",
         "type": "scatter",
         "x": [
          "2014-04-20T18:07:07.316999",
          "2014-11-10T19:13:09.150000",
          "2015-05-29T20:17:53.300000",
          "2015-12-15T21:22:37.449999",
          "2016-07-02T22:27:21.600000",
          "2017-01-18T23:32:05.750000",
          "2017-08-07T00:36:49.900000",
          "2018-02-23T01:41:34.049999",
          "2019-03-30T03:51:02.350000",
          "2019-10-16T04:55:46.500000",
          "2020-05-03T06:00:30.649999",
          "2020-11-19T07:05:14.800000",
          "2021-06-07T08:09:58.950000",
          "2021-12-24T09:14:43.100000",
          "2022-07-12T10:19:27.249999",
          "2023-01-28T11:24:11.400000",
          "2023-08-16T12:28:55.550000",
          "2024-03-03T13:33:39.700000",
          "2024-09-19T14:38:23.849999"
         ],
         "y": [
          50,
          14,
          5,
          8,
          6,
          3,
          4,
          4,
          4,
          6,
          20,
          17,
          5,
          11,
          4,
          19,
          17,
          20,
          29
         ]
        },
        {
         "hoverinfo": "text",
         "hovertext": [
          "<b>Topic 14</b><br>Words: nice, niceeeeeeeeeee, yi, yes, yeah",
          "<b>Topic 14</b><br>Words: nice, niceeeeeeeeeee, yi, dks, suseptable",
          "<b>Topic 14</b><br>Words: yes, nice, niceeeeeeeeeee, yi, yeah",
          "<b>Topic 14</b><br>Words: nice, sengen, galo, diying, elitist",
          "<b>Topic 14</b><br>Words: nice, feltsuch, achievments, acomplishment, straid",
          "<b>Topic 14</b><br>Words: nice, satisify, minimal, niceeeeeeeeeee, doorstep",
          "<b>Topic 14</b><br>Words: nice, essence, correct, error, performance",
          "<b>Topic 14</b><br>Words: nice, rejoice, custom, keybindings, tricky",
          "<b>Topic 14</b><br>Words: nice, goodness, summoning, fav, attention",
          "<b>Topic 14</b><br>Words: nice, appose, niceeeeeeeeeee, yi, iconography",
          "<b>Topic 14</b><br>Words: nice, strike, niceeeeeeeeeee, yi, bongo",
          "<b>Topic 14</b><br>Words: nice, unberable, definately, familiarize, disregard",
          "<b>Topic 14</b><br>Words: nice, besto, autohotkey, dou, greato",
          "<b>Topic 14</b><br>Words: nice, dyinmg, dynifhgfierwnmgdsfwesiofgnewiognewirjg, gyrm, reused",
          "<b>Topic 14</b><br>Words: nice, eh, niceeeeeeeeeee, mt, yi",
          "<b>Topic 14</b><br>Words: nice, niceeeeeeeeeee, yi, athmospheric, critiscism",
          "<b>Topic 14</b><br>Words: nice, niceeeeeeeeeee, yi, hamster, fee",
          "<b>Topic 14</b><br>Words: nice, niceeeeeeeeeee, yi, taa, clunkt",
          "<b>Topic 14</b><br>Words: nice, niceeeeeeeeeee, yi, cil, aceit"
         ],
         "marker": {
          "color": "#E69F00"
         },
         "mode": "lines",
         "name": "14_nice_niceeeeeeeeeee_yi_yes",
         "type": "scatter",
         "x": [
          "2014-04-20T18:07:07.316999",
          "2014-11-10T19:13:09.150000",
          "2015-05-29T20:17:53.300000",
          "2015-12-15T21:22:37.449999",
          "2017-01-18T23:32:05.750000",
          "2017-08-07T00:36:49.900000",
          "2018-02-23T01:41:34.049999",
          "2018-09-11T02:46:18.200000",
          "2019-03-30T03:51:02.350000",
          "2019-10-16T04:55:46.500000",
          "2020-05-03T06:00:30.649999",
          "2020-11-19T07:05:14.800000",
          "2021-06-07T08:09:58.950000",
          "2021-12-24T09:14:43.100000",
          "2022-07-12T10:19:27.249999",
          "2023-01-28T11:24:11.400000",
          "2023-08-16T12:28:55.550000",
          "2024-03-03T13:33:39.700000",
          "2024-09-19T14:38:23.849999"
         ],
         "y": [
          55,
          13,
          1,
          4,
          3,
          3,
          1,
          1,
          4,
          4,
          21,
          9,
          4,
          8,
          11,
          18,
          22,
          29,
          22
         ]
        }
       ],
       "layout": {
        "height": 450,
        "hoverlabel": {
         "bgcolor": "white",
         "font": {
          "family": "Rockwell",
          "size": 16
         }
        },
        "legend": {
         "title": {
          "text": "<b>Global Topic Representation"
         }
        },
        "template": {
         "data": {
          "bar": [
           {
            "error_x": {
             "color": "rgb(36,36,36)"
            },
            "error_y": {
             "color": "rgb(36,36,36)"
            },
            "marker": {
             "line": {
              "color": "white",
              "width": 0.5
             },
             "pattern": {
              "fillmode": "overlay",
              "size": 10,
              "solidity": 0.2
             }
            },
            "type": "bar"
           }
          ],
          "barpolar": [
           {
            "marker": {
             "line": {
              "color": "white",
              "width": 0.5
             },
             "pattern": {
              "fillmode": "overlay",
              "size": 10,
              "solidity": 0.2
             }
            },
            "type": "barpolar"
           }
          ],
          "carpet": [
           {
            "aaxis": {
             "endlinecolor": "rgb(36,36,36)",
             "gridcolor": "white",
             "linecolor": "white",
             "minorgridcolor": "white",
             "startlinecolor": "rgb(36,36,36)"
            },
            "baxis": {
             "endlinecolor": "rgb(36,36,36)",
             "gridcolor": "white",
             "linecolor": "white",
             "minorgridcolor": "white",
             "startlinecolor": "rgb(36,36,36)"
            },
            "type": "carpet"
           }
          ],
          "choropleth": [
           {
            "colorbar": {
             "outlinewidth": 1,
             "tickcolor": "rgb(36,36,36)",
             "ticks": "outside"
            },
            "type": "choropleth"
           }
          ],
          "contour": [
           {
            "colorbar": {
             "outlinewidth": 1,
             "tickcolor": "rgb(36,36,36)",
             "ticks": "outside"
            },
            "colorscale": [
             [
              0,
              "#440154"
             ],
             [
              0.1111111111111111,
              "#482878"
             ],
             [
              0.2222222222222222,
              "#3e4989"
             ],
             [
              0.3333333333333333,
              "#31688e"
             ],
             [
              0.4444444444444444,
              "#26828e"
             ],
             [
              0.5555555555555556,
              "#1f9e89"
             ],
             [
              0.6666666666666666,
              "#35b779"
             ],
             [
              0.7777777777777778,
              "#6ece58"
             ],
             [
              0.8888888888888888,
              "#b5de2b"
             ],
             [
              1,
              "#fde725"
             ]
            ],
            "type": "contour"
           }
          ],
          "contourcarpet": [
           {
            "colorbar": {
             "outlinewidth": 1,
             "tickcolor": "rgb(36,36,36)",
             "ticks": "outside"
            },
            "type": "contourcarpet"
           }
          ],
          "heatmap": [
           {
            "colorbar": {
             "outlinewidth": 1,
             "tickcolor": "rgb(36,36,36)",
             "ticks": "outside"
            },
            "colorscale": [
             [
              0,
              "#440154"
             ],
             [
              0.1111111111111111,
              "#482878"
             ],
             [
              0.2222222222222222,
              "#3e4989"
             ],
             [
              0.3333333333333333,
              "#31688e"
             ],
             [
              0.4444444444444444,
              "#26828e"
             ],
             [
              0.5555555555555556,
              "#1f9e89"
             ],
             [
              0.6666666666666666,
              "#35b779"
             ],
             [
              0.7777777777777778,
              "#6ece58"
             ],
             [
              0.8888888888888888,
              "#b5de2b"
             ],
             [
              1,
              "#fde725"
             ]
            ],
            "type": "heatmap"
           }
          ],
          "heatmapgl": [
           {
            "colorbar": {
             "outlinewidth": 1,
             "tickcolor": "rgb(36,36,36)",
             "ticks": "outside"
            },
            "colorscale": [
             [
              0,
              "#440154"
             ],
             [
              0.1111111111111111,
              "#482878"
             ],
             [
              0.2222222222222222,
              "#3e4989"
             ],
             [
              0.3333333333333333,
              "#31688e"
             ],
             [
              0.4444444444444444,
              "#26828e"
             ],
             [
              0.5555555555555556,
              "#1f9e89"
             ],
             [
              0.6666666666666666,
              "#35b779"
             ],
             [
              0.7777777777777778,
              "#6ece58"
             ],
             [
              0.8888888888888888,
              "#b5de2b"
             ],
             [
              1,
              "#fde725"
             ]
            ],
            "type": "heatmapgl"
           }
          ],
          "histogram": [
           {
            "marker": {
             "line": {
              "color": "white",
              "width": 0.6
             }
            },
            "type": "histogram"
           }
          ],
          "histogram2d": [
           {
            "colorbar": {
             "outlinewidth": 1,
             "tickcolor": "rgb(36,36,36)",
             "ticks": "outside"
            },
            "colorscale": [
             [
              0,
              "#440154"
             ],
             [
              0.1111111111111111,
              "#482878"
             ],
             [
              0.2222222222222222,
              "#3e4989"
             ],
             [
              0.3333333333333333,
              "#31688e"
             ],
             [
              0.4444444444444444,
              "#26828e"
             ],
             [
              0.5555555555555556,
              "#1f9e89"
             ],
             [
              0.6666666666666666,
              "#35b779"
             ],
             [
              0.7777777777777778,
              "#6ece58"
             ],
             [
              0.8888888888888888,
              "#b5de2b"
             ],
             [
              1,
              "#fde725"
             ]
            ],
            "type": "histogram2d"
           }
          ],
          "histogram2dcontour": [
           {
            "colorbar": {
             "outlinewidth": 1,
             "tickcolor": "rgb(36,36,36)",
             "ticks": "outside"
            },
            "colorscale": [
             [
              0,
              "#440154"
             ],
             [
              0.1111111111111111,
              "#482878"
             ],
             [
              0.2222222222222222,
              "#3e4989"
             ],
             [
              0.3333333333333333,
              "#31688e"
             ],
             [
              0.4444444444444444,
              "#26828e"
             ],
             [
              0.5555555555555556,
              "#1f9e89"
             ],
             [
              0.6666666666666666,
              "#35b779"
             ],
             [
              0.7777777777777778,
              "#6ece58"
             ],
             [
              0.8888888888888888,
              "#b5de2b"
             ],
             [
              1,
              "#fde725"
             ]
            ],
            "type": "histogram2dcontour"
           }
          ],
          "mesh3d": [
           {
            "colorbar": {
             "outlinewidth": 1,
             "tickcolor": "rgb(36,36,36)",
             "ticks": "outside"
            },
            "type": "mesh3d"
           }
          ],
          "parcoords": [
           {
            "line": {
             "colorbar": {
              "outlinewidth": 1,
              "tickcolor": "rgb(36,36,36)",
              "ticks": "outside"
             }
            },
            "type": "parcoords"
           }
          ],
          "pie": [
           {
            "automargin": true,
            "type": "pie"
           }
          ],
          "scatter": [
           {
            "fillpattern": {
             "fillmode": "overlay",
             "size": 10,
             "solidity": 0.2
            },
            "type": "scatter"
           }
          ],
          "scatter3d": [
           {
            "line": {
             "colorbar": {
              "outlinewidth": 1,
              "tickcolor": "rgb(36,36,36)",
              "ticks": "outside"
             }
            },
            "marker": {
             "colorbar": {
              "outlinewidth": 1,
              "tickcolor": "rgb(36,36,36)",
              "ticks": "outside"
             }
            },
            "type": "scatter3d"
           }
          ],
          "scattercarpet": [
           {
            "marker": {
             "colorbar": {
              "outlinewidth": 1,
              "tickcolor": "rgb(36,36,36)",
              "ticks": "outside"
             }
            },
            "type": "scattercarpet"
           }
          ],
          "scattergeo": [
           {
            "marker": {
             "colorbar": {
              "outlinewidth": 1,
              "tickcolor": "rgb(36,36,36)",
              "ticks": "outside"
             }
            },
            "type": "scattergeo"
           }
          ],
          "scattergl": [
           {
            "marker": {
             "colorbar": {
              "outlinewidth": 1,
              "tickcolor": "rgb(36,36,36)",
              "ticks": "outside"
             }
            },
            "type": "scattergl"
           }
          ],
          "scattermapbox": [
           {
            "marker": {
             "colorbar": {
              "outlinewidth": 1,
              "tickcolor": "rgb(36,36,36)",
              "ticks": "outside"
             }
            },
            "type": "scattermapbox"
           }
          ],
          "scatterpolar": [
           {
            "marker": {
             "colorbar": {
              "outlinewidth": 1,
              "tickcolor": "rgb(36,36,36)",
              "ticks": "outside"
             }
            },
            "type": "scatterpolar"
           }
          ],
          "scatterpolargl": [
           {
            "marker": {
             "colorbar": {
              "outlinewidth": 1,
              "tickcolor": "rgb(36,36,36)",
              "ticks": "outside"
             }
            },
            "type": "scatterpolargl"
           }
          ],
          "scatterternary": [
           {
            "marker": {
             "colorbar": {
              "outlinewidth": 1,
              "tickcolor": "rgb(36,36,36)",
              "ticks": "outside"
             }
            },
            "type": "scatterternary"
           }
          ],
          "surface": [
           {
            "colorbar": {
             "outlinewidth": 1,
             "tickcolor": "rgb(36,36,36)",
             "ticks": "outside"
            },
            "colorscale": [
             [
              0,
              "#440154"
             ],
             [
              0.1111111111111111,
              "#482878"
             ],
             [
              0.2222222222222222,
              "#3e4989"
             ],
             [
              0.3333333333333333,
              "#31688e"
             ],
             [
              0.4444444444444444,
              "#26828e"
             ],
             [
              0.5555555555555556,
              "#1f9e89"
             ],
             [
              0.6666666666666666,
              "#35b779"
             ],
             [
              0.7777777777777778,
              "#6ece58"
             ],
             [
              0.8888888888888888,
              "#b5de2b"
             ],
             [
              1,
              "#fde725"
             ]
            ],
            "type": "surface"
           }
          ],
          "table": [
           {
            "cells": {
             "fill": {
              "color": "rgb(237,237,237)"
             },
             "line": {
              "color": "white"
             }
            },
            "header": {
             "fill": {
              "color": "rgb(217,217,217)"
             },
             "line": {
              "color": "white"
             }
            },
            "type": "table"
           }
          ]
         },
         "layout": {
          "annotationdefaults": {
           "arrowhead": 0,
           "arrowwidth": 1
          },
          "autotypenumbers": "strict",
          "coloraxis": {
           "colorbar": {
            "outlinewidth": 1,
            "tickcolor": "rgb(36,36,36)",
            "ticks": "outside"
           }
          },
          "colorscale": {
           "diverging": [
            [
             0,
             "rgb(103,0,31)"
            ],
            [
             0.1,
             "rgb(178,24,43)"
            ],
            [
             0.2,
             "rgb(214,96,77)"
            ],
            [
             0.3,
             "rgb(244,165,130)"
            ],
            [
             0.4,
             "rgb(253,219,199)"
            ],
            [
             0.5,
             "rgb(247,247,247)"
            ],
            [
             0.6,
             "rgb(209,229,240)"
            ],
            [
             0.7,
             "rgb(146,197,222)"
            ],
            [
             0.8,
             "rgb(67,147,195)"
            ],
            [
             0.9,
             "rgb(33,102,172)"
            ],
            [
             1,
             "rgb(5,48,97)"
            ]
           ],
           "sequential": [
            [
             0,
             "#440154"
            ],
            [
             0.1111111111111111,
             "#482878"
            ],
            [
             0.2222222222222222,
             "#3e4989"
            ],
            [
             0.3333333333333333,
             "#31688e"
            ],
            [
             0.4444444444444444,
             "#26828e"
            ],
            [
             0.5555555555555556,
             "#1f9e89"
            ],
            [
             0.6666666666666666,
             "#35b779"
            ],
            [
             0.7777777777777778,
             "#6ece58"
            ],
            [
             0.8888888888888888,
             "#b5de2b"
            ],
            [
             1,
             "#fde725"
            ]
           ],
           "sequentialminus": [
            [
             0,
             "#440154"
            ],
            [
             0.1111111111111111,
             "#482878"
            ],
            [
             0.2222222222222222,
             "#3e4989"
            ],
            [
             0.3333333333333333,
             "#31688e"
            ],
            [
             0.4444444444444444,
             "#26828e"
            ],
            [
             0.5555555555555556,
             "#1f9e89"
            ],
            [
             0.6666666666666666,
             "#35b779"
            ],
            [
             0.7777777777777778,
             "#6ece58"
            ],
            [
             0.8888888888888888,
             "#b5de2b"
            ],
            [
             1,
             "#fde725"
            ]
           ]
          },
          "colorway": [
           "#1F77B4",
           "#FF7F0E",
           "#2CA02C",
           "#D62728",
           "#9467BD",
           "#8C564B",
           "#E377C2",
           "#7F7F7F",
           "#BCBD22",
           "#17BECF"
          ],
          "font": {
           "color": "rgb(36,36,36)"
          },
          "geo": {
           "bgcolor": "white",
           "lakecolor": "white",
           "landcolor": "white",
           "showlakes": true,
           "showland": true,
           "subunitcolor": "white"
          },
          "hoverlabel": {
           "align": "left"
          },
          "hovermode": "closest",
          "mapbox": {
           "style": "light"
          },
          "paper_bgcolor": "white",
          "plot_bgcolor": "white",
          "polar": {
           "angularaxis": {
            "gridcolor": "rgb(232,232,232)",
            "linecolor": "rgb(36,36,36)",
            "showgrid": false,
            "showline": true,
            "ticks": "outside"
           },
           "bgcolor": "white",
           "radialaxis": {
            "gridcolor": "rgb(232,232,232)",
            "linecolor": "rgb(36,36,36)",
            "showgrid": false,
            "showline": true,
            "ticks": "outside"
           }
          },
          "scene": {
           "xaxis": {
            "backgroundcolor": "white",
            "gridcolor": "rgb(232,232,232)",
            "gridwidth": 2,
            "linecolor": "rgb(36,36,36)",
            "showbackground": true,
            "showgrid": false,
            "showline": true,
            "ticks": "outside",
            "zeroline": false,
            "zerolinecolor": "rgb(36,36,36)"
           },
           "yaxis": {
            "backgroundcolor": "white",
            "gridcolor": "rgb(232,232,232)",
            "gridwidth": 2,
            "linecolor": "rgb(36,36,36)",
            "showbackground": true,
            "showgrid": false,
            "showline": true,
            "ticks": "outside",
            "zeroline": false,
            "zerolinecolor": "rgb(36,36,36)"
           },
           "zaxis": {
            "backgroundcolor": "white",
            "gridcolor": "rgb(232,232,232)",
            "gridwidth": 2,
            "linecolor": "rgb(36,36,36)",
            "showbackground": true,
            "showgrid": false,
            "showline": true,
            "ticks": "outside",
            "zeroline": false,
            "zerolinecolor": "rgb(36,36,36)"
           }
          },
          "shapedefaults": {
           "fillcolor": "black",
           "line": {
            "width": 0
           },
           "opacity": 0.3
          },
          "ternary": {
           "aaxis": {
            "gridcolor": "rgb(232,232,232)",
            "linecolor": "rgb(36,36,36)",
            "showgrid": false,
            "showline": true,
            "ticks": "outside"
           },
           "baxis": {
            "gridcolor": "rgb(232,232,232)",
            "linecolor": "rgb(36,36,36)",
            "showgrid": false,
            "showline": true,
            "ticks": "outside"
           },
           "bgcolor": "white",
           "caxis": {
            "gridcolor": "rgb(232,232,232)",
            "linecolor": "rgb(36,36,36)",
            "showgrid": false,
            "showline": true,
            "ticks": "outside"
           }
          },
          "title": {
           "x": 0.05
          },
          "xaxis": {
           "automargin": true,
           "gridcolor": "rgb(232,232,232)",
           "linecolor": "rgb(36,36,36)",
           "showgrid": false,
           "showline": true,
           "ticks": "outside",
           "title": {
            "standoff": 15
           },
           "zeroline": false,
           "zerolinecolor": "rgb(36,36,36)"
          },
          "yaxis": {
           "automargin": true,
           "gridcolor": "rgb(232,232,232)",
           "linecolor": "rgb(36,36,36)",
           "showgrid": false,
           "showline": true,
           "ticks": "outside",
           "title": {
            "standoff": 15
           },
           "zeroline": false,
           "zerolinecolor": "rgb(36,36,36)"
          }
         }
        },
        "title": {
         "font": {
          "color": "Black",
          "size": 22
         },
         "text": "<b>Topics over Time</b>",
         "x": 0.4,
         "xanchor": "center",
         "y": 0.95,
         "yanchor": "top"
        },
        "width": 1250,
        "xaxis": {
         "showgrid": true
        },
        "yaxis": {
         "showgrid": true,
         "title": {
          "text": "Frequency"
         }
        }
       }
      }
     },
     "metadata": {},
     "output_type": "display_data"
    }
   ],
   "source": [
    "pos_model.visualize_topics_over_time(pos_topics_over_time, top_n_topics=15)"
   ]
  },
  {
   "cell_type": "markdown",
   "metadata": {},
   "source": [
    "### Negative reviews:"
   ]
  },
  {
   "cell_type": "code",
   "execution_count": 13,
   "metadata": {},
   "outputs": [],
   "source": [
    "neg_model = BERTopic.load(\"models/bertopic_neg_model\")"
   ]
  },
  {
   "cell_type": "code",
   "execution_count": 14,
   "metadata": {},
   "outputs": [
    {
     "name": "stderr",
     "output_type": "stream",
     "text": [
      "20it [00:06,  3.32it/s]\n"
     ]
    }
   ],
   "source": [
    "neg_topics_over_time = neg_model.topics_over_time(neg_docs, neg_timestamps, nr_bins=20)"
   ]
  },
  {
   "cell_type": "code",
   "execution_count": 15,
   "metadata": {},
   "outputs": [
    {
     "data": {
      "application/vnd.plotly.v1+json": {
       "config": {
        "plotlyServerURL": "https://plot.ly"
       },
       "data": [
        {
         "hoverinfo": "text",
         "hovertext": [
          "<b>Topic 0</b><br>Words: covenant, controles, belltower, able, make",
          "<b>Topic 0</b><br>Words: dx, version, buy, image, business",
          "<b>Topic 0</b><br>Words: trap, account, twinks, memory, ezpz",
          "<b>Topic 0</b><br>Words: replace, world, friend, much, enemy",
          "<b>Topic 0</b><br>Words: dlcs, zone, sort, enemy, due",
          "<b>Topic 0</b><br>Words: forlorn, spirit, invade, uninterest, reimburse",
          "<b>Topic 0</b><br>Words: maker, player, lack, trouble, unsubscribe",
          "<b>Topic 0</b><br>Words: lock, washted, achivement, acrossed, destory",
          "<b>Topic 0</b><br>Words: invincible, contraposition, second, chests, excruciatingly",
          "<b>Topic 0</b><br>Words: pretend, grow, tty, bake, ck",
          "<b>Topic 0</b><br>Words: cast, enemy, fight, hit, counter",
          "<b>Topic 0</b><br>Words: boss, sorcery, maingame, well, miracle",
          "<b>Topic 0</b><br>Words: suck, world, area, design, go",
          "<b>Topic 0</b><br>Words: rule, feel, enemy, time, get",
          "<b>Topic 0</b><br>Words: attack, change, fight, fun, bos",
          "<b>Topic 0</b><br>Words: map, restriction, account, namco, permit",
          "<b>Topic 0</b><br>Words: weapon, enemy, bos, combat, bonfire",
          "<b>Topic 0</b><br>Words: archer, area, vsing, greathammer, like",
          "<b>Topic 0</b><br>Words: boss, get, runbacks, stat, monarchy",
          "<b>Topic 0</b><br>Words: roll, level, estus, time, stance"
         ],
         "marker": {
          "color": "#E69F00"
         },
         "mode": "lines",
         "name": "0_enemy_area_bos_attack",
         "type": "scatter",
         "x": [
          "2014-04-20T22:58:39.521999",
          "2014-11-10T23:59:24.900000",
          "2015-05-30T00:58:58.800000",
          "2015-12-16T01:58:32.700000",
          "2016-07-03T02:58:06.600000",
          "2017-01-19T03:57:40.500000",
          "2017-08-07T04:57:14.400000",
          "2018-02-23T05:56:48.300000",
          "2018-09-11T06:56:22.200000",
          "2019-03-30T07:55:56.100000",
          "2019-10-16T08:55:30",
          "2020-05-03T09:55:03.900000",
          "2020-11-19T10:54:37.800000",
          "2021-06-07T11:54:11.700000",
          "2021-12-24T12:53:45.600000",
          "2022-07-12T13:53:19.500000",
          "2023-01-28T14:52:53.400000",
          "2023-08-16T15:52:27.300000",
          "2024-03-03T16:52:01.200000",
          "2024-09-19T17:51:35.100000"
         ],
         "y": [
          34,
          26,
          10,
          29,
          15,
          11,
          8,
          14,
          6,
          6,
          24,
          22,
          41,
          62,
          59,
          34,
          37,
          38,
          51,
          45
         ]
        },
        {
         "hoverinfo": "text",
         "hovertext": [
          "<b>Topic 1</b><br>Words: xddddddddddddddddddddddddddddddddddddddddddddddddddddddddddddddddddddddddddddddddddddddddddddddddddddddddddddddddddddddddddddddddddddddddddddddddddddddddddddddddddddddddddddddddddddddddddddddddddddddddddddddddddddddddddddddddddddddddddddddddddddddddddddddddddddddddddddddddddddddddddddddddddddddddddddddddddddddddddddddddddddddddddddddddddddddddddddddddddddddddddddddddddddddddddddddddddddddddddddddddddddddddddddddddddddddddddddddddddd, werty, ky, ahhhhhhhhhhhhhhhhhhhhhhhhhhhhhhhhhhhhhhhhhhhhhhhhhhhhhhhhhhhhhhhhhhhhhhhhhhhhhhhhhhhhhhhhhhhhhhhhhhhhhhhhhhhhhhhhhhhhhhhhhhhhhhhhhhhhhhhhhhhhhhhhhhhhhhhhhhhhhhhhhhhhhhhhhhhhhhhhhhhhhhhhhhhhhhhhhhhhhhhhhhhhhhhhhhhhhhhhhhhhhhhhhhhhhhhhhhhhhhhhhhhhhhhhhhhhhhhhhhhhhhhh, xy",
          "<b>Topic 1</b><br>Words: xddddddddddddddddddddddddddddddddddddddddddddddddddddddddddddddddddddddddddddddddddddddddddddddddddddddddddddddddddddddddddddddddddddddddddddddddddddddddddddddddddddddddddddddddddddddddddddddddddddddddddddddddddddddddddddddddddddddddddddddddddddddddddddddddddddddddddddddddddddddddddddddddddddddddddddddddddddddddddddddddddddddddddddddddddddddddddddddddddddddddddddddddddddddddddddddddddddddddddddddddddddddddddddddddddddddddddddddddddd, werty, ky, ahhhhhhhhhhhhhhhhhhhhhhhhhhhhhhhhhhhhhhhhhhhhhhhhhhhhhhhhhhhhhhhhhhhhhhhhhhhhhhhhhhhhhhhhhhhhhhhhhhhhhhhhhhhhhhhhhhhhhhhhhhhhhhhhhhhhhhhhhhhhhhhhhhhhhhhhhhhhhhhhhhhhhhhhhhhhhhhhhhhhhhhhhhhhhhhhhhhhhhhhhhhhhhhhhhhhhhhhhhhhhhhhhhhhhhhhhhhhhhhhhhhhhhhhhhhhhhhhhhhhhhhh, xy",
          "<b>Topic 1</b><br>Words: werty, ky, ahhhhhhhhhhhhhhhhhhhhhhhhhhhhhhhhhhhhhhhhhhhhhhhhhhhhhhhhhhhhhhhhhhhhhhhhhhhhhhhhhhhhhhhhhhhhhhhhhhhhhhhhhhhhhhhhhhhhhhhhhhhhhhhhhhhhhhhhhhhhhhhhhhhhhhhhhhhhhhhhhhhhhhhhhhhhhhhhhhhhhhhhhhhhhhhhhhhhhhhhhhhhhhhhhhhhhhhhhhhhhhhhhhhhhhhhhhhhhhhhhhhhhhhhhhhhhhhhhhhhhhhh, xddddddddddddddddddddddddddddddddddddddddddddddddddddddddddddddddddddddddddddddddddddddddddddddddddddddddddddddddddddddddddddddddddddddddddddddddddddddddddddddddddddddddddddddddddddddddddddddddddddddddddddddddddddddddddddddddddddddddddddddddddddddddddddddddddddddddddddddddddddddddddddddddddddddddddddddddddddddddddddddddddddddddddddddddddddddddddddddddddddddddddddddddddddddddddddddddddddddddddddddddddddddddddddddddddddddddddddddddddd, xy",
          "<b>Topic 1</b><br>Words: werty, ky, ahhhhhhhhhhhhhhhhhhhhhhhhhhhhhhhhhhhhhhhhhhhhhhhhhhhhhhhhhhhhhhhhhhhhhhhhhhhhhhhhhhhhhhhhhhhhhhhhhhhhhhhhhhhhhhhhhhhhhhhhhhhhhhhhhhhhhhhhhhhhhhhhhhhhhhhhhhhhhhhhhhhhhhhhhhhhhhhhhhhhhhhhhhhhhhhhhhhhhhhhhhhhhhhhhhhhhhhhhhhhhhhhhhhhhhhhhhhhhhhhhhhhhhhhhhhhhhhhhhhhhhhh, xddddddddddddddddddddddddddddddddddddddddddddddddddddddddddddddddddddddddddddddddddddddddddddddddddddddddddddddddddddddddddddddddddddddddddddddddddddddddddddddddddddddddddddddddddddddddddddddddddddddddddddddddddddddddddddddddddddddddddddddddddddddddddddddddddddddddddddddddddddddddddddddddddddddddddddddddddddddddddddddddddddddddddddddddddddddddddddddddddddddddddddddddddddddddddddddddddddddddddddddddddddddddddddddddddddddddddddddddddd, xy",
          "<b>Topic 1</b><br>Words: imho, ky, ahhhhhhhhhhhhhhhhhhhhhhhhhhhhhhhhhhhhhhhhhhhhhhhhhhhhhhhhhhhhhhhhhhhhhhhhhhhhhhhhhhhhhhhhhhhhhhhhhhhhhhhhhhhhhhhhhhhhhhhhhhhhhhhhhhhhhhhhhhhhhhhhhhhhhhhhhhhhhhhhhhhhhhhhhhhhhhhhhhhhhhhhhhhhhhhhhhhhhhhhhhhhhhhhhhhhhhhhhhhhhhhhhhhhhhhhhhhhhhhhhhhhhhhhhhhhhhhhhhhhhhhh, werty, xddddddddddddddddddddddddddddddddddddddddddddddddddddddddddddddddddddddddddddddddddddddddddddddddddddddddddddddddddddddddddddddddddddddddddddddddddddddddddddddddddddddddddddddddddddddddddddddddddddddddddddddddddddddddddddddddddddddddddddddddddddddddddddddddddddddddddddddddddddddddddddddddddddddddddddddddddddddddddddddddddddddddddddddddddddddddddddddddddddddddddddddddddddddddddddddddddddddddddddddddddddddddddddddddddddddddddddddddddd",
          "<b>Topic 1</b><br>Words: xddddddddddddddddddddddddddddddddddddddddddddddddddddddddddddddddddddddddddddddddddddddddddddddddddddddddddddddddddddddddddddddddddddddddddddddddddddddddddddddddddddddddddddddddddddddddddddddddddddddddddddddddddddddddddddddddddddddddddddddddddddddddddddddddddddddddddddddddddddddddddddddddddddddddddddddddddddddddddddddddddddddddddddddddddddddddddddddddddddddddddddddddddddddddddddddddddddddddddddddddddddddddddddddddddddddddddddddddddd, werty, ky, ahhhhhhhhhhhhhhhhhhhhhhhhhhhhhhhhhhhhhhhhhhhhhhhhhhhhhhhhhhhhhhhhhhhhhhhhhhhhhhhhhhhhhhhhhhhhhhhhhhhhhhhhhhhhhhhhhhhhhhhhhhhhhhhhhhhhhhhhhhhhhhhhhhhhhhhhhhhhhhhhhhhhhhhhhhhhhhhhhhhhhhhhhhhhhhhhhhhhhhhhhhhhhhhhhhhhhhhhhhhhhhhhhhhhhhhhhhhhhhhhhhhhhhhhhhhhhhhhhhhhhhhh, xy",
          "<b>Topic 1</b><br>Words: xddddddddddddddddddddddddddddddddddddddddddddddddddddddddddddddddddddddddddddddddddddddddddddddddddddddddddddddddddddddddddddddddddddddddddddddddddddddddddddddddddddddddddddddddddddddddddddddddddddddddddddddddddddddddddddddddddddddddddddddddddddddddddddddddddddddddddddddddddddddddddddddddddddddddddddddddddddddddddddddddddddddddddddddddddddddddddddddddddddddddddddddddddddddddddddddddddddddddddddddddddddddddddddddddddddddddddddddddddd, werty, ky, ahhhhhhhhhhhhhhhhhhhhhhhhhhhhhhhhhhhhhhhhhhhhhhhhhhhhhhhhhhhhhhhhhhhhhhhhhhhhhhhhhhhhhhhhhhhhhhhhhhhhhhhhhhhhhhhhhhhhhhhhhhhhhhhhhhhhhhhhhhhhhhhhhhhhhhhhhhhhhhhhhhhhhhhhhhhhhhhhhhhhhhhhhhhhhhhhhhhhhhhhhhhhhhhhhhhhhhhhhhhhhhhhhhhhhhhhhhhhhhhhhhhhhhhhhhhhhhhhhhhhhhhh, xy",
          "<b>Topic 1</b><br>Words: ahhhhhhhhhhhhhhhhhhhhhhhhhhhhhhhhhhhhhhhhhhhhhhhhhhhhhhhhhhhhhhhhhhhhhhhhhhhhhhhhhhhhhhhhhhhhhhhhhhhhhhhhhhhhhhhhhhhhhhhhhhhhhhhhhhhhhhhhhhhhhhhhhhhhhhhhhhhhhhhhhhhhhhhhhhhhhhhhhhhhhhhhhhhhhhhhhhhhhhhhhhhhhhhhhhhhhhhhhhhhhhhhhhhhhhhhhhhhhhhhhhhhhhhhhhhhhhhhhhhhhhhh, werty, xddddddddddddddddddddddddddddddddddddddddddddddddddddddddddddddddddddddddddddddddddddddddddddddddddddddddddddddddddddddddddddddddddddddddddddddddddddddddddddddddddddddddddddddddddddddddddddddddddddddddddddddddddddddddddddddddddddddddddddddddddddddddddddddddddddddddddddddddddddddddddddddddddddddddddddddddddddddddddddddddddddddddddddddddddddddddddddddddddddddddddddddddddddddddddddddddddddddddddddddddddddddddddddddddddddddddddddddddddd, ky, xy",
          "<b>Topic 1</b><br>Words: xddddddddddddddddddddddddddddddddddddddddddddddddddddddddddddddddddddddddddddddddddddddddddddddddddddddddddddddddddddddddddddddddddddddddddddddddddddddddddddddddddddddddddddddddddddddddddddddddddddddddddddddddddddddddddddddddddddddddddddddddddddddddddddddddddddddddddddddddddddddddddddddddddddddddddddddddddddddddddddddddddddddddddddddddddddddddddddddddddddddddddddddddddddddddddddddddddddddddddddddddddddddddddddddddddddddddddddddddddd, werty, ky, ahhhhhhhhhhhhhhhhhhhhhhhhhhhhhhhhhhhhhhhhhhhhhhhhhhhhhhhhhhhhhhhhhhhhhhhhhhhhhhhhhhhhhhhhhhhhhhhhhhhhhhhhhhhhhhhhhhhhhhhhhhhhhhhhhhhhhhhhhhhhhhhhhhhhhhhhhhhhhhhhhhhhhhhhhhhhhhhhhhhhhhhhhhhhhhhhhhhhhhhhhhhhhhhhhhhhhhhhhhhhhhhhhhhhhhhhhhhhhhhhhhhhhhhhhhhhhhhhhhhhhhhh, xy",
          "<b>Topic 1</b><br>Words: das, ky, werty, xddddddddddddddddddddddddddddddddddddddddddddddddddddddddddddddddddddddddddddddddddddddddddddddddddddddddddddddddddddddddddddddddddddddddddddddddddddddddddddddddddddddddddddddddddddddddddddddddddddddddddddddddddddddddddddddddddddddddddddddddddddddddddddddddddddddddddddddddddddddddddddddddddddddddddddddddddddddddddddddddddddddddddddddddddddddddddddddddddddddddddddddddddddddddddddddddddddddddddddddddddddddddddddddddddddddddddddddddddd, ahhhhhhhhhhhhhhhhhhhhhhhhhhhhhhhhhhhhhhhhhhhhhhhhhhhhhhhhhhhhhhhhhhhhhhhhhhhhhhhhhhhhhhhhhhhhhhhhhhhhhhhhhhhhhhhhhhhhhhhhhhhhhhhhhhhhhhhhhhhhhhhhhhhhhhhhhhhhhhhhhhhhhhhhhhhhhhhhhhhhhhhhhhhhhhhhhhhhhhhhhhhhhhhhhhhhhhhhhhhhhhhhhhhhhhhhhhhhhhhhhhhhhhhhhhhhhhhhhhhhhhhh",
          "<b>Topic 1</b><br>Words: werty, ky, ahhhhhhhhhhhhhhhhhhhhhhhhhhhhhhhhhhhhhhhhhhhhhhhhhhhhhhhhhhhhhhhhhhhhhhhhhhhhhhhhhhhhhhhhhhhhhhhhhhhhhhhhhhhhhhhhhhhhhhhhhhhhhhhhhhhhhhhhhhhhhhhhhhhhhhhhhhhhhhhhhhhhhhhhhhhhhhhhhhhhhhhhhhhhhhhhhhhhhhhhhhhhhhhhhhhhhhhhhhhhhhhhhhhhhhhhhhhhhhhhhhhhhhhhhhhhhhhhhhhhhhhh, xddddddddddddddddddddddddddddddddddddddddddddddddddddddddddddddddddddddddddddddddddddddddddddddddddddddddddddddddddddddddddddddddddddddddddddddddddddddddddddddddddddddddddddddddddddddddddddddddddddddddddddddddddddddddddddddddddddddddddddddddddddddddddddddddddddddddddddddddddddddddddddddddddddddddddddddddddddddddddddddddddddddddddddddddddddddddddddddddddddddddddddddddddddddddddddddddddddddddddddddddddddddddddddddddddddddddddddddddddd, xy",
          "<b>Topic 1</b><br>Words: werty, ky, ahhhhhhhhhhhhhhhhhhhhhhhhhhhhhhhhhhhhhhhhhhhhhhhhhhhhhhhhhhhhhhhhhhhhhhhhhhhhhhhhhhhhhhhhhhhhhhhhhhhhhhhhhhhhhhhhhhhhhhhhhhhhhhhhhhhhhhhhhhhhhhhhhhhhhhhhhhhhhhhhhhhhhhhhhhhhhhhhhhhhhhhhhhhhhhhhhhhhhhhhhhhhhhhhhhhhhhhhhhhhhhhhhhhhhhhhhhhhhhhhhhhhhhhhhhhhhhhhhhhhhhhh, xddddddddddddddddddddddddddddddddddddddddddddddddddddddddddddddddddddddddddddddddddddddddddddddddddddddddddddddddddddddddddddddddddddddddddddddddddddddddddddddddddddddddddddddddddddddddddddddddddddddddddddddddddddddddddddddddddddddddddddddddddddddddddddddddddddddddddddddddddddddddddddddddddddddddddddddddddddddddddddddddddddddddddddddddddddddddddddddddddddddddddddddddddddddddddddddddddddddddddddddddddddddddddddddddddddddddddddddddddd, xy",
          "<b>Topic 1</b><br>Words: xddddddddddddddddddddddddddddddddddddddddddddddddddddddddddddddddddddddddddddddddddddddddddddddddddddddddddddddddddddddddddddddddddddddddddddddddddddddddddddddddddddddddddddddddddddddddddddddddddddddddddddddddddddddddddddddddddddddddddddddddddddddddddddddddddddddddddddddddddddddddddddddddddddddddddddddddddddddddddddddddddddddddddddddddddddddddddddddddddddddddddddddddddddddddddddddddddddddddddddddddddddddddddddddddddddddddddddddddddd, werty, ky, ahhhhhhhhhhhhhhhhhhhhhhhhhhhhhhhhhhhhhhhhhhhhhhhhhhhhhhhhhhhhhhhhhhhhhhhhhhhhhhhhhhhhhhhhhhhhhhhhhhhhhhhhhhhhhhhhhhhhhhhhhhhhhhhhhhhhhhhhhhhhhhhhhhhhhhhhhhhhhhhhhhhhhhhhhhhhhhhhhhhhhhhhhhhhhhhhhhhhhhhhhhhhhhhhhhhhhhhhhhhhhhhhhhhhhhhhhhhhhhhhhhhhhhhhhhhhhhhhhhhhhhhh, xy",
          "<b>Topic 1</b><br>Words: werty, ky, ahhhhhhhhhhhhhhhhhhhhhhhhhhhhhhhhhhhhhhhhhhhhhhhhhhhhhhhhhhhhhhhhhhhhhhhhhhhhhhhhhhhhhhhhhhhhhhhhhhhhhhhhhhhhhhhhhhhhhhhhhhhhhhhhhhhhhhhhhhhhhhhhhhhhhhhhhhhhhhhhhhhhhhhhhhhhhhhhhhhhhhhhhhhhhhhhhhhhhhhhhhhhhhhhhhhhhhhhhhhhhhhhhhhhhhhhhhhhhhhhhhhhhhhhhhhhhhhhhhhhhhhh, xddddddddddddddddddddddddddddddddddddddddddddddddddddddddddddddddddddddddddddddddddddddddddddddddddddddddddddddddddddddddddddddddddddddddddddddddddddddddddddddddddddddddddddddddddddddddddddddddddddddddddddddddddddddddddddddddddddddddddddddddddddddddddddddddddddddddddddddddddddddddddddddddddddddddddddddddddddddddddddddddddddddddddddddddddddddddddddddddddddddddddddddddddddddddddddddddddddddddddddddddddddddddddddddddddddddddddddddddddd, xy",
          "<b>Topic 1</b><br>Words: werty, ky, ahhhhhhhhhhhhhhhhhhhhhhhhhhhhhhhhhhhhhhhhhhhhhhhhhhhhhhhhhhhhhhhhhhhhhhhhhhhhhhhhhhhhhhhhhhhhhhhhhhhhhhhhhhhhhhhhhhhhhhhhhhhhhhhhhhhhhhhhhhhhhhhhhhhhhhhhhhhhhhhhhhhhhhhhhhhhhhhhhhhhhhhhhhhhhhhhhhhhhhhhhhhhhhhhhhhhhhhhhhhhhhhhhhhhhhhhhhhhhhhhhhhhhhhhhhhhhhhhhhhhhhhh, xddddddddddddddddddddddddddddddddddddddddddddddddddddddddddddddddddddddddddddddddddddddddddddddddddddddddddddddddddddddddddddddddddddddddddddddddddddddddddddddddddddddddddddddddddddddddddddddddddddddddddddddddddddddddddddddddddddddddddddddddddddddddddddddddddddddddddddddddddddddddddddddddddddddddddddddddddddddddddddddddddddddddddddddddddddddddddddddddddddddddddddddddddddddddddddddddddddddddddddddddddddddddddddddddddddddddddddddddddd, xy",
          "<b>Topic 1</b><br>Words: werty, ky, ahhhhhhhhhhhhhhhhhhhhhhhhhhhhhhhhhhhhhhhhhhhhhhhhhhhhhhhhhhhhhhhhhhhhhhhhhhhhhhhhhhhhhhhhhhhhhhhhhhhhhhhhhhhhhhhhhhhhhhhhhhhhhhhhhhhhhhhhhhhhhhhhhhhhhhhhhhhhhhhhhhhhhhhhhhhhhhhhhhhhhhhhhhhhhhhhhhhhhhhhhhhhhhhhhhhhhhhhhhhhhhhhhhhhhhhhhhhhhhhhhhhhhhhhhhhhhhhhhhhhhhhh, xddddddddddddddddddddddddddddddddddddddddddddddddddddddddddddddddddddddddddddddddddddddddddddddddddddddddddddddddddddddddddddddddddddddddddddddddddddddddddddddddddddddddddddddddddddddddddddddddddddddddddddddddddddddddddddddddddddddddddddddddddddddddddddddddddddddddddddddddddddddddddddddddddddddddddddddddddddddddddddddddddddddddddddddddddddddddddddddddddddddddddddddddddddddddddddddddddddddddddddddddddddddddddddddddddddddddddddddddddd, xy",
          "<b>Topic 1</b><br>Words: xddddddddddddddddddddddddddddddddddddddddddddddddddddddddddddddddddddddddddddddddddddddddddddddddddddddddddddddddddddddddddddddddddddddddddddddddddddddddddddddddddddddddddddddddddddddddddddddddddddddddddddddddddddddddddddddddddddddddddddddddddddddddddddddddddddddddddddddddddddddddddddddddddddddddddddddddddddddddddddddddddddddddddddddddddddddddddddddddddddddddddddddddddddddddddddddddddddddddddddddddddddddddddddddddddddddddddddddddddd, werty, ky, ahhhhhhhhhhhhhhhhhhhhhhhhhhhhhhhhhhhhhhhhhhhhhhhhhhhhhhhhhhhhhhhhhhhhhhhhhhhhhhhhhhhhhhhhhhhhhhhhhhhhhhhhhhhhhhhhhhhhhhhhhhhhhhhhhhhhhhhhhhhhhhhhhhhhhhhhhhhhhhhhhhhhhhhhhhhhhhhhhhhhhhhhhhhhhhhhhhhhhhhhhhhhhhhhhhhhhhhhhhhhhhhhhhhhhhhhhhhhhhhhhhhhhhhhhhhhhhhhhhhhhhhh, xy",
          "<b>Topic 1</b><br>Words: ky, werty, xddddddddddddddddddddddddddddddddddddddddddddddddddddddddddddddddddddddddddddddddddddddddddddddddddddddddddddddddddddddddddddddddddddddddddddddddddddddddddddddddddddddddddddddddddddddddddddddddddddddddddddddddddddddddddddddddddddddddddddddddddddddddddddddddddddddddddddddddddddddddddddddddddddddddddddddddddddddddddddddddddddddddddddddddddddddddddddddddddddddddddddddddddddddddddddddddddddddddddddddddddddddddddddddddddddddddddddddddddd, ahhhhhhhhhhhhhhhhhhhhhhhhhhhhhhhhhhhhhhhhhhhhhhhhhhhhhhhhhhhhhhhhhhhhhhhhhhhhhhhhhhhhhhhhhhhhhhhhhhhhhhhhhhhhhhhhhhhhhhhhhhhhhhhhhhhhhhhhhhhhhhhhhhhhhhhhhhhhhhhhhhhhhhhhhhhhhhhhhhhhhhhhhhhhhhhhhhhhhhhhhhhhhhhhhhhhhhhhhhhhhhhhhhhhhhhhhhhhhhhhhhhhhhhhhhhhhhhhhhhhhhhh, xy",
          "<b>Topic 1</b><br>Words: werty, ky, ahhhhhhhhhhhhhhhhhhhhhhhhhhhhhhhhhhhhhhhhhhhhhhhhhhhhhhhhhhhhhhhhhhhhhhhhhhhhhhhhhhhhhhhhhhhhhhhhhhhhhhhhhhhhhhhhhhhhhhhhhhhhhhhhhhhhhhhhhhhhhhhhhhhhhhhhhhhhhhhhhhhhhhhhhhhhhhhhhhhhhhhhhhhhhhhhhhhhhhhhhhhhhhhhhhhhhhhhhhhhhhhhhhhhhhhhhhhhhhhhhhhhhhhhhhhhhhhhhhhhhhhh, xddddddddddddddddddddddddddddddddddddddddddddddddddddddddddddddddddddddddddddddddddddddddddddddddddddddddddddddddddddddddddddddddddddddddddddddddddddddddddddddddddddddddddddddddddddddddddddddddddddddddddddddddddddddddddddddddddddddddddddddddddddddddddddddddddddddddddddddddddddddddddddddddddddddddddddddddddddddddddddddddddddddddddddddddddddddddddddddddddddddddddddddddddddddddddddddddddddddddddddddddddddddddddddddddddddddddddddddddddd, xy",
          "<b>Topic 1</b><br>Words: xddddddddddddddddddddddddddddddddddddddddddddddddddddddddddddddddddddddddddddddddddddddddddddddddddddddddddddddddddddddddddddddddddddddddddddddddddddddddddddddddddddddddddddddddddddddddddddddddddddddddddddddddddddddddddddddddddddddddddddddddddddddddddddddddddddddddddddddddddddddddddddddddddddddddddddddddddddddddddddddddddddddddddddddddddddddddddddddddddddddddddddddddddddddddddddddddddddddddddddddddddddddddddddddddddddddddddddddddddd, werty, ky, ahhhhhhhhhhhhhhhhhhhhhhhhhhhhhhhhhhhhhhhhhhhhhhhhhhhhhhhhhhhhhhhhhhhhhhhhhhhhhhhhhhhhhhhhhhhhhhhhhhhhhhhhhhhhhhhhhhhhhhhhhhhhhhhhhhhhhhhhhhhhhhhhhhhhhhhhhhhhhhhhhhhhhhhhhhhhhhhhhhhhhhhhhhhhhhhhhhhhhhhhhhhhhhhhhhhhhhhhhhhhhhhhhhhhhhhhhhhhhhhhhhhhhhhhhhhhhhhhhhhhhhhh, xy"
         ],
         "marker": {
          "color": "#56B4E9"
         },
         "mode": "lines",
         "name": "1_xddddddddddddddddddddddddddddddddddddd...",
         "type": "scatter",
         "x": [
          "2014-04-20T22:58:39.521999",
          "2014-11-10T23:59:24.900000",
          "2015-05-30T00:58:58.800000",
          "2015-12-16T01:58:32.700000",
          "2016-07-03T02:58:06.600000",
          "2017-01-19T03:57:40.500000",
          "2017-08-07T04:57:14.400000",
          "2018-02-23T05:56:48.300000",
          "2018-09-11T06:56:22.200000",
          "2019-03-30T07:55:56.100000",
          "2019-10-16T08:55:30",
          "2020-05-03T09:55:03.900000",
          "2020-11-19T10:54:37.800000",
          "2021-06-07T11:54:11.700000",
          "2021-12-24T12:53:45.600000",
          "2022-07-12T13:53:19.500000",
          "2023-01-28T14:52:53.400000",
          "2023-08-16T15:52:27.300000",
          "2024-03-03T16:52:01.200000",
          "2024-09-19T17:51:35.100000"
         ],
         "y": [
          29,
          34,
          9,
          10,
          2,
          3,
          5,
          1,
          5,
          5,
          7,
          33,
          7,
          12,
          24,
          12,
          26,
          22,
          45,
          54
         ]
        },
        {
         "hoverinfo": "text",
         "hovertext": [
          "<b>Topic 2</b><br>Words: bad, ever, far, worst, make",
          "<b>Topic 2</b><br>Words: bad, ever, worst, far, terrible",
          "<b>Topic 2</b><br>Words: bad, nope, climatic, downvoted, pricetag",
          "<b>Topic 2</b><br>Words: bad, fuckinfg, boxed, succesor, naked",
          "<b>Topic 2</b><br>Words: bad, merely, ever, classify, forward",
          "<b>Topic 2</b><br>Words: bad, forgive, ever, chain, graphcis",
          "<b>Topic 2</b><br>Words: bad, quickscope, buggyier, succ, fam",
          "<b>Topic 2</b><br>Words: scholar, dlcs, bad, free, enjoyable",
          "<b>Topic 2</b><br>Words: bad, bandai, season, pas, improvment",
          "<b>Topic 2</b><br>Words: bad, ever, alleviate, stressful, xbox",
          "<b>Topic 2</b><br>Words: bad, ever, worst, far, make",
          "<b>Topic 2</b><br>Words: bad, ever, far, worst, terrible",
          "<b>Topic 2</b><br>Words: bad, ever, aforementioned, far, scenario",
          "<b>Topic 2</b><br>Words: bad, ever, remember, worst, far",
          "<b>Topic 2</b><br>Words: bad, ever, worst, far, make",
          "<b>Topic 2</b><br>Words: bad, ever, far, worst, make",
          "<b>Topic 2</b><br>Words: bad, ever, far, worst, past",
          "<b>Topic 2</b><br>Words: bad, ever, spamming, far, url",
          "<b>Topic 2</b><br>Words: dont, bad, play, ever, tap",
          "<b>Topic 2</b><br>Words: bad, ever, worst, far, make"
         ],
         "marker": {
          "color": "#009E73"
         },
         "mode": "lines",
         "name": "2_bad_ever_worst_far",
         "type": "scatter",
         "x": [
          "2014-04-20T22:58:39.521999",
          "2014-11-10T23:59:24.900000",
          "2015-05-30T00:58:58.800000",
          "2015-12-16T01:58:32.700000",
          "2016-07-03T02:58:06.600000",
          "2017-01-19T03:57:40.500000",
          "2017-08-07T04:57:14.400000",
          "2018-02-23T05:56:48.300000",
          "2018-09-11T06:56:22.200000",
          "2019-03-30T07:55:56.100000",
          "2019-10-16T08:55:30",
          "2020-05-03T09:55:03.900000",
          "2020-11-19T10:54:37.800000",
          "2021-06-07T11:54:11.700000",
          "2021-12-24T12:53:45.600000",
          "2022-07-12T13:53:19.500000",
          "2023-01-28T14:52:53.400000",
          "2023-08-16T15:52:27.300000",
          "2024-03-03T16:52:01.200000",
          "2024-09-19T17:51:35.100000"
         ],
         "y": [
          23,
          24,
          2,
          5,
          2,
          3,
          3,
          2,
          2,
          3,
          6,
          9,
          5,
          8,
          15,
          7,
          14,
          10,
          9,
          11
         ]
        },
        {
         "hoverinfo": "text",
         "hovertext": [
          "<b>Topic 3</b><br>Words: teir, cking, blah, abscence, keyboard",
          "<b>Topic 3</b><br>Words: version, obsolete, new, inability, online",
          "<b>Topic 3</b><br>Words: fact, compulsary, backhander, plush, openworld",
          "<b>Topic 3</b><br>Words: vraiment, tu, est, brick, ce",
          "<b>Topic 3</b><br>Words: household, adios, sew, compulsive, obsessive",
          "<b>Topic 3</b><br>Words: nuke, outskirt, frigid, team, shit",
          "<b>Topic 3</b><br>Words: finish, back, take, combat, design",
          "<b>Topic 3</b><br>Words: sorely, dead, mainly, literally, white",
          "<b>Topic 3</b><br>Words: uninterruptable, disallow, wepons, outweight, terror",
          "<b>Topic 3</b><br>Words: lousy, hz, display, praised, shittiest",
          "<b>Topic 3</b><br>Words: awful, rest, therefore, outrageous, spacing",
          "<b>Topic 3</b><br>Words: terrible, predccessor, step, discarded, basura",
          "<b>Topic 3</b><br>Words: pointless, skip, dmg, pit, exploration",
          "<b>Topic 3</b><br>Words: cause, demotivating, compatibility, swing, swamp",
          "<b>Topic 3</b><br>Words: dificulty, muk, dosnt, sadens, psv",
          "<b>Topic 3</b><br>Words: level, speed, mob, ever, lot",
          "<b>Topic 3</b><br>Words: king, runback, summons, crown, room",
          "<b>Topic 3</b><br>Words: misinformation, victim, awfully, assure, overwhelming",
          "<b>Topic 3</b><br>Words: zellen, feel, piss, fromsoftware, scholar"
         ],
         "marker": {
          "color": "#F0E442"
         },
         "mode": "lines",
         "name": "3_combat_design_feel_like",
         "type": "scatter",
         "x": [
          "2014-04-20T22:58:39.521999",
          "2014-11-10T23:59:24.900000",
          "2015-05-30T00:58:58.800000",
          "2015-12-16T01:58:32.700000",
          "2016-07-03T02:58:06.600000",
          "2017-01-19T03:57:40.500000",
          "2017-08-07T04:57:14.400000",
          "2018-02-23T05:56:48.300000",
          "2019-03-30T07:55:56.100000",
          "2019-10-16T08:55:30",
          "2020-05-03T09:55:03.900000",
          "2020-11-19T10:54:37.800000",
          "2021-06-07T11:54:11.700000",
          "2021-12-24T12:53:45.600000",
          "2022-07-12T13:53:19.500000",
          "2023-01-28T14:52:53.400000",
          "2023-08-16T15:52:27.300000",
          "2024-03-03T16:52:01.200000",
          "2024-09-19T17:51:35.100000"
         ],
         "y": [
          13,
          12,
          6,
          9,
          4,
          2,
          1,
          2,
          5,
          3,
          3,
          6,
          13,
          12,
          7,
          13,
          14,
          7,
          9
         ]
        },
        {
         "hoverinfo": "text",
         "hovertext": [
          "<b>Topic 4</b><br>Words: lagswitch, lagstab, fecal, fking, coin",
          "<b>Topic 4</b><br>Words: random, consume, chariot, overwhelm, pvp",
          "<b>Topic 4</b><br>Words: pvp, dsii, reward, toon, twinks",
          "<b>Topic 4</b><br>Words: pvp, shade, pve, demon, invasion",
          "<b>Topic 4</b><br>Words: pvp, player, pve, poison, lag",
          "<b>Topic 4</b><br>Words: pvp, ban, dragon, memory, archtrees",
          "<b>Topic 4</b><br>Words: literally, playerbase, pvp, spitter, remake",
          "<b>Topic 4</b><br>Words: precusor, enchancement, generall, peculiar, challening",
          "<b>Topic 4</b><br>Words: pvp, darksouls, presentation, halberd, appear",
          "<b>Topic 4</b><br>Words: pvp, stats, endlessly, find, grind",
          "<b>Topic 4</b><br>Words: lvling, porbably, pulling, additional, difficulity",
          "<b>Topic 4</b><br>Words: pvp, jump, mentioned, ladder, rat",
          "<b>Topic 4</b><br>Words: pvp, disable, softwarebug, alltogether, dumpsterfire",
          "<b>Topic 4</b><br>Words: pvp, pve, server, creepy, player",
          "<b>Topic 4</b><br>Words: pvp, title, traditional, feature, offer",
          "<b>Topic 4</b><br>Words: pvp, excessively, pve, regenerate, stat",
          "<b>Topic 4</b><br>Words: stubborn, stuck, eh, sanity, shove",
          "<b>Topic 4</b><br>Words: pvp, imho, mage, spell, overtuned",
          "<b>Topic 4</b><br>Words: core, gf, explaning, gameplay, bland"
         ],
         "marker": {
          "color": "#D55E00"
         },
         "mode": "lines",
         "name": "4_pvp_pve_lag_multiplayer",
         "type": "scatter",
         "x": [
          "2014-04-20T22:58:39.521999",
          "2014-11-10T23:59:24.900000",
          "2015-05-30T00:58:58.800000",
          "2015-12-16T01:58:32.700000",
          "2016-07-03T02:58:06.600000",
          "2017-01-19T03:57:40.500000",
          "2017-08-07T04:57:14.400000",
          "2018-02-23T05:56:48.300000",
          "2018-09-11T06:56:22.200000",
          "2019-03-30T07:55:56.100000",
          "2019-10-16T08:55:30",
          "2020-11-19T10:54:37.800000",
          "2021-06-07T11:54:11.700000",
          "2021-12-24T12:53:45.600000",
          "2022-07-12T13:53:19.500000",
          "2023-01-28T14:52:53.400000",
          "2023-08-16T15:52:27.300000",
          "2024-03-03T16:52:01.200000",
          "2024-09-19T17:51:35.100000"
         ],
         "y": [
          6,
          5,
          4,
          9,
          14,
          8,
          1,
          8,
          6,
          2,
          2,
          16,
          9,
          14,
          5,
          9,
          4,
          10,
          7
         ]
        },
        {
         "hoverinfo": "text",
         "hovertext": [
          "<b>Topic 5</b><br>Words: bad, haha, sorry, yeah, somehow",
          "<b>Topic 5</b><br>Words: bad, haha, sorry, yeah, somehow",
          "<b>Topic 5</b><br>Words: bad, haha, frog, poop, got",
          "<b>Topic 5</b><br>Words: bad, haha, sorry, yeah, somehow",
          "<b>Topic 5</b><br>Words: bad, repetitious, intuitive, counter, damn",
          "<b>Topic 5</b><br>Words: bad, haha, sorry, yeah, somehow",
          "<b>Topic 5</b><br>Words: bad, masive, haha, backstep, warf",
          "<b>Topic 5</b><br>Words: bad, selfish, method, haha, disappointed",
          "<b>Topic 5</b><br>Words: bad, haha, sorry, constantly, yeah",
          "<b>Topic 5</b><br>Words: bad, haha, sorry, yeah, somehow",
          "<b>Topic 5</b><br>Words: bad, haha, sorry, yeah, somehow",
          "<b>Topic 5</b><br>Words: eww, bad, haha, sorry, yeah",
          "<b>Topic 5</b><br>Words: bad, haha, sorry, somehow, yeah",
          "<b>Topic 5</b><br>Words: bad, haha, sorry, nathin, server",
          "<b>Topic 5</b><br>Words: bad, haha, mutch, bootlicker, copium",
          "<b>Topic 5</b><br>Words: bad, haha, sorry, yeah, somehow",
          "<b>Topic 5</b><br>Words: bad, haha, sorry, yeah, somehow",
          "<b>Topic 5</b><br>Words: bad, haha, sorry, yeah, somehow",
          "<b>Topic 5</b><br>Words: bad, haha, sorry, somehow, yeah"
         ],
         "marker": {
          "color": "#0072B2"
         },
         "mode": "lines",
         "name": "5_bad_haha_sorry_yeah",
         "type": "scatter",
         "x": [
          "2014-04-20T22:58:39.521999",
          "2014-11-10T23:59:24.900000",
          "2015-05-30T00:58:58.800000",
          "2015-12-16T01:58:32.700000",
          "2016-07-03T02:58:06.600000",
          "2017-01-19T03:57:40.500000",
          "2017-08-07T04:57:14.400000",
          "2018-02-23T05:56:48.300000",
          "2018-09-11T06:56:22.200000",
          "2019-10-16T08:55:30",
          "2020-05-03T09:55:03.900000",
          "2020-11-19T10:54:37.800000",
          "2021-06-07T11:54:11.700000",
          "2021-12-24T12:53:45.600000",
          "2022-07-12T13:53:19.500000",
          "2023-01-28T14:52:53.400000",
          "2023-08-16T15:52:27.300000",
          "2024-03-03T16:52:01.200000",
          "2024-09-19T17:51:35.100000"
         ],
         "y": [
          8,
          7,
          3,
          7,
          1,
          1,
          1,
          2,
          1,
          4,
          9,
          1,
          6,
          8,
          8,
          10,
          13,
          18,
          18
         ]
        },
        {
         "hoverinfo": "text",
         "hovertext": [
          "<b>Topic 6</b><br>Words: producer, heal, move, battle, crystal",
          "<b>Topic 6</b><br>Words: forgive, updated, fix, release, properly",
          "<b>Topic 6</b><br>Words: wepon, full, glitch, binocular, santa",
          "<b>Topic 6</b><br>Words: stay, subpar, das, market, away",
          "<b>Topic 6</b><br>Words: unpaid, controller, support, intern, ce",
          "<b>Topic 6</b><br>Words: knockoff, yui, xd, somewhere, suggest",
          "<b>Topic 6</b><br>Words: casual, gamers, skilled, human, health",
          "<b>Topic 6</b><br>Words: ornstein, cough, anor, londo, boss",
          "<b>Topic 6</b><br>Words: stagnate, reveals, gultch, coffin, invasion",
          "<b>Topic 6</b><br>Words: fine, pretty, enemy, die, dodge",
          "<b>Topic 6</b><br>Words: accidentally, tone, playthrough, wrong, environment",
          "<b>Topic 6</b><br>Words: retreat, spam, enemy, attack, hit",
          "<b>Topic 6</b><br>Words: irritates, thjis, unsurprisingly, upgradeable, watched",
          "<b>Topic 6</b><br>Words: soulsborne, frickin, overnight, fulfills, catalyze",
          "<b>Topic 6</b><br>Words: bir, bosslar, ya, gibi, oyunu",
          "<b>Topic 6</b><br>Words: crown, incredibly, deafen, king, alright",
          "<b>Topic 6</b><br>Words: ur, friend, bullpucky, trilolly, compleate",
          "<b>Topic 6</b><br>Words: box, bodyblocking, mechanically, despawn, pattern",
          "<b>Topic 6</b><br>Words: interruptable, recent, tote, suitably, shadowy"
         ],
         "marker": {
          "color": "#CC79A7"
         },
         "mode": "lines",
         "name": "6_enemy_die_dodge_hit",
         "type": "scatter",
         "x": [
          "2014-04-20T22:58:39.521999",
          "2014-11-10T23:59:24.900000",
          "2015-05-30T00:58:58.800000",
          "2015-12-16T01:58:32.700000",
          "2016-07-03T02:58:06.600000",
          "2017-01-19T03:57:40.500000",
          "2017-08-07T04:57:14.400000",
          "2018-09-11T06:56:22.200000",
          "2019-03-30T07:55:56.100000",
          "2019-10-16T08:55:30",
          "2020-05-03T09:55:03.900000",
          "2020-11-19T10:54:37.800000",
          "2021-06-07T11:54:11.700000",
          "2021-12-24T12:53:45.600000",
          "2022-07-12T13:53:19.500000",
          "2023-01-28T14:52:53.400000",
          "2023-08-16T15:52:27.300000",
          "2024-03-03T16:52:01.200000",
          "2024-09-19T17:51:35.100000"
         ],
         "y": [
          10,
          5,
          3,
          4,
          4,
          2,
          3,
          4,
          2,
          1,
          5,
          7,
          13,
          15,
          6,
          7,
          9,
          16,
          6
         ]
        },
        {
         "hoverinfo": "text",
         "hovertext": [
          "<b>Topic 7</b><br>Words: elden, ring, sekiro, play, ai",
          "<b>Topic 7</b><br>Words: elden, ring, lagger, sekiro, discover",
          "<b>Topic 7</b><br>Words: elden, ring, group, beating, impatient",
          "<b>Topic 7</b><br>Words: elden, ring, gen, rambly, fussy",
          "<b>Topic 7</b><br>Words: page, store, warn, top, still",
          "<b>Topic 7</b><br>Words: elden, ring, lvl, thousand, lax",
          "<b>Topic 7</b><br>Words: fun, end, elden, ring, sekiro",
          "<b>Topic 7</b><br>Words: elden, ring, pizza, poor, installment",
          "<b>Topic 7</b><br>Words: elden, ring, oppose, demon, gfn",
          "<b>Topic 7</b><br>Words: anxiety, fack, mom, ez, elden",
          "<b>Topic 7</b><br>Words: bring, please, online, back, elden",
          "<b>Topic 7</b><br>Words: amnesia, dysfunctional, limitation, existence, region",
          "<b>Topic 7</b><br>Words: chage, maingame, somethings, vision, skin",
          "<b>Topic 7</b><br>Words: elden, ring, jogo, de, ele",
          "<b>Topic 7</b><br>Words: elden, ring, obnoxious, horribly, halfway",
          "<b>Topic 7</b><br>Words: elden, ring, humanoid, entry, play"
         ],
         "marker": {
          "color": "#E69F00"
         },
         "mode": "lines",
         "name": "7_elden_ring_sekiro_play",
         "type": "scatter",
         "x": [
          "2014-04-20T22:58:39.521999",
          "2014-11-10T23:59:24.900000",
          "2015-05-30T00:58:58.800000",
          "2015-12-16T01:58:32.700000",
          "2016-07-03T02:58:06.600000",
          "2017-08-07T04:57:14.400000",
          "2019-03-30T07:55:56.100000",
          "2019-10-16T08:55:30",
          "2020-05-03T09:55:03.900000",
          "2020-11-19T10:54:37.800000",
          "2021-12-24T12:53:45.600000",
          "2022-07-12T13:53:19.500000",
          "2023-01-28T14:52:53.400000",
          "2023-08-16T15:52:27.300000",
          "2024-03-03T16:52:01.200000",
          "2024-09-19T17:51:35.100000"
         ],
         "y": [
          17,
          16,
          1,
          3,
          2,
          3,
          1,
          3,
          11,
          4,
          3,
          1,
          3,
          5,
          6,
          23
         ]
        },
        {
         "hoverinfo": "text",
         "hovertext": [
          "<b>Topic 8</b><br>Words: mouse, keyboard, whcih, revision, acclaim",
          "<b>Topic 8</b><br>Words: mouse, keyboard, control, unplayable, controller",
          "<b>Topic 8</b><br>Words: mouse, keyboard, fix, permadeath, repeat",
          "<b>Topic 8</b><br>Words: mouse, keyboard, narrative, fiend, join",
          "<b>Topic 8</b><br>Words: journy, tease, poinless, mouse, chromosome",
          "<b>Topic 8</b><br>Words: bordless, arounds, gamma, screen, shit",
          "<b>Topic 8</b><br>Words: tutorial, mouse, straightup, bath, keyboard",
          "<b>Topic 8</b><br>Words: mouse, keyboard, control, sentry, flexile",
          "<b>Topic 8</b><br>Words: installment, zone, clunky, terrible, series",
          "<b>Topic 8</b><br>Words: mouse, keyboard, gon, wounded, repops",
          "<b>Topic 8</b><br>Words: mouse, keyboard, genuenlly, trolley, subbornness",
          "<b>Topic 8</b><br>Words: mouse, keyboard, actively, verisimilitude, dickish",
          "<b>Topic 8</b><br>Words: mouse, keyboard, click, control, spearmen",
          "<b>Topic 8</b><br>Words: mouse, keyboard, hotness, bust, nonsense",
          "<b>Topic 8</b><br>Words: mouse, keyboard, control, controller, handful",
          "<b>Topic 8</b><br>Words: agony, mouse, keyboard, control, controller",
          "<b>Topic 8</b><br>Words: candidate, ga, fk, directly, mouse",
          "<b>Topic 8</b><br>Words: mouse, af, skunk, keyboard, fella",
          "<b>Topic 8</b><br>Words: mouse, keyboard, wife, gey, scourge",
          "<b>Topic 8</b><br>Words: withhold, kobold, betwixt, mouse, diehard"
         ],
         "marker": {
          "color": "#56B4E9"
         },
         "mode": "lines",
         "name": "8_mouse_keyboard_control_controller",
         "type": "scatter",
         "x": [
          "2014-04-20T22:58:39.521999",
          "2014-11-10T23:59:24.900000",
          "2015-05-30T00:58:58.800000",
          "2015-12-16T01:58:32.700000",
          "2016-07-03T02:58:06.600000",
          "2017-01-19T03:57:40.500000",
          "2017-08-07T04:57:14.400000",
          "2018-02-23T05:56:48.300000",
          "2018-09-11T06:56:22.200000",
          "2019-03-30T07:55:56.100000",
          "2019-10-16T08:55:30",
          "2020-05-03T09:55:03.900000",
          "2020-11-19T10:54:37.800000",
          "2021-06-07T11:54:11.700000",
          "2021-12-24T12:53:45.600000",
          "2022-07-12T13:53:19.500000",
          "2023-01-28T14:52:53.400000",
          "2023-08-16T15:52:27.300000",
          "2024-03-03T16:52:01.200000",
          "2024-09-19T17:51:35.100000"
         ],
         "y": [
          3,
          14,
          4,
          5,
          3,
          2,
          4,
          3,
          1,
          1,
          6,
          3,
          5,
          11,
          10,
          1,
          5,
          5,
          6,
          3
         ]
        },
        {
         "hoverinfo": "text",
         "hovertext": [
          "<b>Topic 9</b><br>Words: ever, bad, play, worst, whip",
          "<b>Topic 9</b><br>Words: ever, bad, play, worst, displeasure",
          "<b>Topic 9</b><br>Words: reccomend, hackish, havit, availability, workaround",
          "<b>Topic 9</b><br>Words: ever, bad, play, worst, firends",
          "<b>Topic 9</b><br>Words: overrate, recycled, thumb, similar, easy",
          "<b>Topic 9</b><br>Words: factor, clunkiness, warrant, dodging, rd",
          "<b>Topic 9</b><br>Words: honestly, shit, say, ever, bad",
          "<b>Topic 9</b><br>Words: morre, whas, dar, feals, ss",
          "<b>Topic 9</b><br>Words: brother, expect, fuck, play, ever",
          "<b>Topic 9</b><br>Words: evern, comparing, chaotic, death, hate",
          "<b>Topic 9</b><br>Words: ever, bad, play, worst, player",
          "<b>Topic 9</b><br>Words: ever, hd, ia, worst, play",
          "<b>Topic 9</b><br>Words: umm, minesweeper, ima, girlfriend, flawlessly",
          "<b>Topic 9</b><br>Words: ever, play, bad, worst, stab",
          "<b>Topic 9</b><br>Words: troll, sluggish, entire, everything, feel",
          "<b>Topic 9</b><br>Words: ever, play, bad, linkin, park",
          "<b>Topic 9</b><br>Words: ever, worst, bad, play, anomaly",
          "<b>Topic 9</b><br>Words: ever, playtime, bloodline, famine, boiler",
          "<b>Topic 9</b><br>Words: ever, pickle, house, play, collapse"
         ],
         "marker": {
          "color": "#009E73"
         },
         "mode": "lines",
         "name": "9_ever_bad_play_worst",
         "type": "scatter",
         "x": [
          "2014-04-20T22:58:39.521999",
          "2014-11-10T23:59:24.900000",
          "2015-05-30T00:58:58.800000",
          "2015-12-16T01:58:32.700000",
          "2016-07-03T02:58:06.600000",
          "2017-01-19T03:57:40.500000",
          "2017-08-07T04:57:14.400000",
          "2018-02-23T05:56:48.300000",
          "2018-09-11T06:56:22.200000",
          "2019-10-16T08:55:30",
          "2020-05-03T09:55:03.900000",
          "2020-11-19T10:54:37.800000",
          "2021-06-07T11:54:11.700000",
          "2021-12-24T12:53:45.600000",
          "2022-07-12T13:53:19.500000",
          "2023-01-28T14:52:53.400000",
          "2023-08-16T15:52:27.300000",
          "2024-03-03T16:52:01.200000",
          "2024-09-19T17:51:35.100000"
         ],
         "y": [
          7,
          16,
          4,
          1,
          1,
          2,
          1,
          2,
          1,
          2,
          8,
          3,
          2,
          5,
          2,
          9,
          7,
          11,
          5
         ]
        },
        {
         "hoverinfo": "text",
         "hovertext": [
          "<b>Topic 10</b><br>Words: blank, intelligent, mouse, keyboard, scream",
          "<b>Topic 10</b><br>Words: ban, location, sun, casual, new",
          "<b>Topic 10</b><br>Words: ban, skeleton, leashing, indy, klei",
          "<b>Topic 10</b><br>Words: ban, rewrite, armor, cheater, vac",
          "<b>Topic 10</b><br>Words: ban, twofold, fluster, marathoned, chiptuens",
          "<b>Topic 10</b><br>Words: reevaluate, qlitchin, bounching, dud, ban",
          "<b>Topic 10</b><br>Words: nutshell, meter, guysss, contack, hurr",
          "<b>Topic 10</b><br>Words: ban, cheater, vac, hacker, softbanned",
          "<b>Topic 10</b><br>Words: legacy, disgrace, suck, ban, cheater",
          "<b>Topic 10</b><br>Words: suffered, itch, maybe, someday, permanent",
          "<b>Topic 10</b><br>Words: cease, aggravate, smell, bullshit, surge",
          "<b>Topic 10</b><br>Words: ban, zone, car, ggs, impresion",
          "<b>Topic 10</b><br>Words: ban, glubba, trickier, counterculter, cesspit",
          "<b>Topic 10</b><br>Words: ban, hacker, illegal, online, cheater",
          "<b>Topic 10</b><br>Words: ban, unnatural, appeal, rememberable, controllr",
          "<b>Topic 10</b><br>Words: forgettable, cuz, intuitive, hot, hey",
          "<b>Topic 10</b><br>Words: ban, disactivate, secuence, reincarnation, zoom",
          "<b>Topic 10</b><br>Words: ban, cheater, vac, hacker, softbanned",
          "<b>Topic 10</b><br>Words: ya, ban, meaningless, cheater, solus"
         ],
         "marker": {
          "color": "#F0E442"
         },
         "mode": "lines",
         "name": "10_ban_cheater_vac_hacker",
         "type": "scatter",
         "x": [
          "2014-04-20T22:58:39.521999",
          "2014-11-10T23:59:24.900000",
          "2015-05-30T00:58:58.800000",
          "2015-12-16T01:58:32.700000",
          "2016-07-03T02:58:06.600000",
          "2017-01-19T03:57:40.500000",
          "2017-08-07T04:57:14.400000",
          "2018-02-23T05:56:48.300000",
          "2019-03-30T07:55:56.100000",
          "2019-10-16T08:55:30",
          "2020-05-03T09:55:03.900000",
          "2020-11-19T10:54:37.800000",
          "2021-06-07T11:54:11.700000",
          "2021-12-24T12:53:45.600000",
          "2022-07-12T13:53:19.500000",
          "2023-01-28T14:52:53.400000",
          "2023-08-16T15:52:27.300000",
          "2024-03-03T16:52:01.200000",
          "2024-09-19T17:51:35.100000"
         ],
         "y": [
          2,
          3,
          7,
          2,
          2,
          4,
          2,
          6,
          2,
          3,
          2,
          11,
          6,
          12,
          4,
          3,
          5,
          7,
          3
         ]
        },
        {
         "hoverinfo": "text",
         "hovertext": [
          "<b>Topic 11</b><br>Words: rehash, mediocre, sad, shitty, pay",
          "<b>Topic 11</b><br>Words: shift, nope, jump, space, eg",
          "<b>Topic 11</b><br>Words: version, dx, release, buy, new",
          "<b>Topic 11</b><br>Words: version, release, dx, new, buy",
          "<b>Topic 11</b><br>Words: version, ctrl, dx, release, new",
          "<b>Topic 11</b><br>Words: version, release, dx, buy, new",
          "<b>Topic 11</b><br>Words: alphabet, technical, invent, target, static",
          "<b>Topic 11</b><br>Words: leaver, overrate, jump, yea, outdated",
          "<b>Topic 11</b><br>Words: dks, people, trash, say, well",
          "<b>Topic 11</b><br>Words: unistall, version, release, im, htiboxes",
          "<b>Topic 11</b><br>Words: delegate, cheapen, mute, critically, colorful",
          "<b>Topic 11</b><br>Words: ahh, goofy, bad, version, dx",
          "<b>Topic 11</b><br>Words: dw, didnt, click, miss, good",
          "<b>Topic 11</b><br>Words: real, play, version, dx, release",
          "<b>Topic 11</b><br>Words: yadda, bafflingly, opaque, declare, negatively"
         ],
         "marker": {
          "color": "#D55E00"
         },
         "mode": "lines",
         "name": "11_version_dx_release_new",
         "type": "scatter",
         "x": [
          "2014-11-10T23:59:24.900000",
          "2015-12-16T01:58:32.700000",
          "2017-01-19T03:57:40.500000",
          "2017-08-07T04:57:14.400000",
          "2018-02-23T05:56:48.300000",
          "2018-09-11T06:56:22.200000",
          "2019-03-30T07:55:56.100000",
          "2019-10-16T08:55:30",
          "2020-05-03T09:55:03.900000",
          "2020-11-19T10:54:37.800000",
          "2022-07-12T13:53:19.500000",
          "2023-01-28T14:52:53.400000",
          "2023-08-16T15:52:27.300000",
          "2024-03-03T16:52:01.200000",
          "2024-09-19T17:51:35.100000"
         ],
         "y": [
          1,
          4,
          14,
          18,
          18,
          12,
          4,
          3,
          1,
          5,
          1,
          2,
          1,
          1,
          1
         ]
        },
        {
         "hoverinfo": "text",
         "hovertext": [
          "<b>Topic 12</b><br>Words: skip, forlorn, spirit, one, step",
          "<b>Topic 12</b><br>Words: skip, film, forlorn, spirit, walk",
          "<b>Topic 12</b><br>Words: skip, automate, banning, lacklustre, forlorn",
          "<b>Topic 12</b><br>Words: canonical, skip, fuck, forlorn, spirit",
          "<b>Topic 12</b><br>Words: skip, wors, exsistance, advertise, controler",
          "<b>Topic 12</b><br>Words: as, skip, forlorn, spirit, walk",
          "<b>Topic 12</b><br>Words: skip, forlorn, spirit, walk, third",
          "<b>Topic 12</b><br>Words: simpliest, maby, poopy, skip, induce",
          "<b>Topic 12</b><br>Words: lockdown, seeing, skip, ass, pass",
          "<b>Topic 12</b><br>Words: skip, honor, stray, softbanned, anybody",
          "<b>Topic 12</b><br>Words: skip, embarrass, forlorn, spirit, goal",
          "<b>Topic 12</b><br>Words: skip, forlorn, spirit, third, walk",
          "<b>Topic 12</b><br>Words: skip, forlorn, spirit, third, walk",
          "<b>Topic 12</b><br>Words: ahhhhhhhhhhhhhhhhhhhhhhhhhhhhh, float, barrel, skip, amana",
          "<b>Topic 12</b><br>Words: skip, forlorn, spirit, third, walk",
          "<b>Topic 12</b><br>Words: skip, fking, forlorn, spirit, third",
          "<b>Topic 12</b><br>Words: skip, forlorn, spirit, walk, third",
          "<b>Topic 12</b><br>Words: skip, forlorn, spirit, third, walk"
         ],
         "marker": {
          "color": "#0072B2"
         },
         "mode": "lines",
         "name": "12_skip_forlorn_spirit_walk",
         "type": "scatter",
         "x": [
          "2014-04-20T22:58:39.521999",
          "2014-11-10T23:59:24.900000",
          "2015-05-30T00:58:58.800000",
          "2015-12-16T01:58:32.700000",
          "2017-01-19T03:57:40.500000",
          "2018-02-23T05:56:48.300000",
          "2018-09-11T06:56:22.200000",
          "2019-03-30T07:55:56.100000",
          "2019-10-16T08:55:30",
          "2020-05-03T09:55:03.900000",
          "2020-11-19T10:54:37.800000",
          "2021-06-07T11:54:11.700000",
          "2021-12-24T12:53:45.600000",
          "2022-07-12T13:53:19.500000",
          "2023-01-28T14:52:53.400000",
          "2023-08-16T15:52:27.300000",
          "2024-03-03T16:52:01.200000",
          "2024-09-19T17:51:35.100000"
         ],
         "y": [
          8,
          4,
          2,
          1,
          3,
          1,
          1,
          3,
          1,
          5,
          4,
          8,
          10,
          3,
          8,
          6,
          9,
          8
         ]
        },
        {
         "hoverinfo": "text",
         "hovertext": [
          "<b>Topic 13</b><br>Words: trash, sacrifice, bin, metal, whilst",
          "<b>Topic 13</b><br>Words: trash, nyuk, efin, unbelievble, pewds",
          "<b>Topic 13</b><br>Words: trash, recomend, library, share, glad",
          "<b>Topic 13</b><br>Words: trash, maniken, bin, intelligently, intelligent",
          "<b>Topic 13</b><br>Words: trash, unusably, pyshics, bush, grass",
          "<b>Topic 13</b><br>Words: trash, bother, finish, good, bin",
          "<b>Topic 13</b><br>Words: trash, over, configure, thumb, binding",
          "<b>Topic 13</b><br>Words: trash, steam, another, work, pc",
          "<b>Topic 13</b><br>Words: trash, sibling, pretend, ugly, exist",
          "<b>Topic 13</b><br>Words: trash, unfair, ganking, twinblade, faucking",
          "<b>Topic 13</b><br>Words: trash, bin, sense, trough, devoid",
          "<b>Topic 13</b><br>Words: trash, hammer, joy, youre, adeptibility",
          "<b>Topic 13</b><br>Words: trash, yay, bin, provide, muk",
          "<b>Topic 13</b><br>Words: trash, inordinate, vsync, slightest, renowned",
          "<b>Topic 13</b><br>Words: trash, harbour, enemiy, digest, independently",
          "<b>Topic 13</b><br>Words: trash, gank, snap, philosophy, unacceptable",
          "<b>Topic 13</b><br>Words: trash, bin, muk, learn, simple",
          "<b>Topic 13</b><br>Words: trash, felt, rage, blindspots, contradictory"
         ],
         "marker": {
          "color": "#CC79A7"
         },
         "mode": "lines",
         "name": "13_trash_bin_muk_whacanisay",
         "type": "scatter",
         "x": [
          "2014-04-20T22:58:39.521999",
          "2014-11-10T23:59:24.900000",
          "2015-05-30T00:58:58.800000",
          "2015-12-16T01:58:32.700000",
          "2016-07-03T02:58:06.600000",
          "2017-01-19T03:57:40.500000",
          "2017-08-07T04:57:14.400000",
          "2018-09-11T06:56:22.200000",
          "2019-10-16T08:55:30",
          "2020-05-03T09:55:03.900000",
          "2020-11-19T10:54:37.800000",
          "2021-06-07T11:54:11.700000",
          "2021-12-24T12:53:45.600000",
          "2022-07-12T13:53:19.500000",
          "2023-01-28T14:52:53.400000",
          "2023-08-16T15:52:27.300000",
          "2024-03-03T16:52:01.200000",
          "2024-09-19T17:51:35.100000"
         ],
         "y": [
          10,
          5,
          1,
          2,
          2,
          1,
          1,
          1,
          2,
          7,
          5,
          6,
          6,
          2,
          4,
          7,
          16,
          5
         ]
        },
        {
         "hoverinfo": "text",
         "hovertext": [
          "<b>Topic 14</b><br>Words: hitboxes, overhyped, unplayable, reflect, absolutely",
          "<b>Topic 14</b><br>Words: hitboxes, box, hitbox, hit, terrible",
          "<b>Topic 14</b><br>Words: dks, rip, shitty, hitboxes, box",
          "<b>Topic 14</b><br>Words: hitboxes, cod, loss, dingus, remoately",
          "<b>Topic 14</b><br>Words: hitboxes, vii, stucked, amyway, reamin",
          "<b>Topic 14</b><br>Words: citizen, star, poopies, hitboxes, spoiler",
          "<b>Topic 14</b><br>Words: desynchronization, iv, joke, complete, pvp",
          "<b>Topic 14</b><br>Words: hitboxes, memory, box, hitbox, hit",
          "<b>Topic 14</b><br>Words: lord, matter, fall, multiplayer, friend",
          "<b>Topic 14</b><br>Words: hitboxes, box, hitbox, hit, size",
          "<b>Topic 14</b><br>Words: hitboxes, mileage, despawing, personal, lens",
          "<b>Topic 14</b><br>Words: fvck, fvcking, hitboxes, banda, sh",
          "<b>Topic 14</b><br>Words: hitboxes, moderation, interact, supper, scuffed",
          "<b>Topic 14</b><br>Words: hitboxes, puent, aiment, tres, ceux",
          "<b>Topic 14</b><br>Words: hitboxes, box, hitbox, hit, size",
          "<b>Topic 14</b><br>Words: hitboxes, box, hitbox, hit, wrose",
          "<b>Topic 14</b><br>Words: hitboxes, box, hitbox, hit, size",
          "<b>Topic 14</b><br>Words: hitboxes, box, hitbox, hit, shitty"
         ],
         "marker": {
          "color": "#E69F00"
         },
         "mode": "lines",
         "name": "14_hitboxes_box_hitbox_hit",
         "type": "scatter",
         "x": [
          "2014-04-20T22:58:39.521999",
          "2014-11-10T23:59:24.900000",
          "2015-05-30T00:58:58.800000",
          "2015-12-16T01:58:32.700000",
          "2016-07-03T02:58:06.600000",
          "2017-01-19T03:57:40.500000",
          "2018-09-11T06:56:22.200000",
          "2019-03-30T07:55:56.100000",
          "2019-10-16T08:55:30",
          "2020-05-03T09:55:03.900000",
          "2020-11-19T10:54:37.800000",
          "2021-06-07T11:54:11.700000",
          "2021-12-24T12:53:45.600000",
          "2022-07-12T13:53:19.500000",
          "2023-01-28T14:52:53.400000",
          "2023-08-16T15:52:27.300000",
          "2024-03-03T16:52:01.200000",
          "2024-09-19T17:51:35.100000"
         ],
         "y": [
          5,
          6,
          1,
          4,
          1,
          5,
          1,
          1,
          2,
          4,
          2,
          3,
          6,
          5,
          6,
          7,
          13,
          11
         ]
        }
       ],
       "layout": {
        "height": 450,
        "hoverlabel": {
         "bgcolor": "white",
         "font": {
          "family": "Rockwell",
          "size": 16
         }
        },
        "legend": {
         "title": {
          "text": "<b>Global Topic Representation"
         }
        },
        "template": {
         "data": {
          "bar": [
           {
            "error_x": {
             "color": "rgb(36,36,36)"
            },
            "error_y": {
             "color": "rgb(36,36,36)"
            },
            "marker": {
             "line": {
              "color": "white",
              "width": 0.5
             },
             "pattern": {
              "fillmode": "overlay",
              "size": 10,
              "solidity": 0.2
             }
            },
            "type": "bar"
           }
          ],
          "barpolar": [
           {
            "marker": {
             "line": {
              "color": "white",
              "width": 0.5
             },
             "pattern": {
              "fillmode": "overlay",
              "size": 10,
              "solidity": 0.2
             }
            },
            "type": "barpolar"
           }
          ],
          "carpet": [
           {
            "aaxis": {
             "endlinecolor": "rgb(36,36,36)",
             "gridcolor": "white",
             "linecolor": "white",
             "minorgridcolor": "white",
             "startlinecolor": "rgb(36,36,36)"
            },
            "baxis": {
             "endlinecolor": "rgb(36,36,36)",
             "gridcolor": "white",
             "linecolor": "white",
             "minorgridcolor": "white",
             "startlinecolor": "rgb(36,36,36)"
            },
            "type": "carpet"
           }
          ],
          "choropleth": [
           {
            "colorbar": {
             "outlinewidth": 1,
             "tickcolor": "rgb(36,36,36)",
             "ticks": "outside"
            },
            "type": "choropleth"
           }
          ],
          "contour": [
           {
            "colorbar": {
             "outlinewidth": 1,
             "tickcolor": "rgb(36,36,36)",
             "ticks": "outside"
            },
            "colorscale": [
             [
              0,
              "#440154"
             ],
             [
              0.1111111111111111,
              "#482878"
             ],
             [
              0.2222222222222222,
              "#3e4989"
             ],
             [
              0.3333333333333333,
              "#31688e"
             ],
             [
              0.4444444444444444,
              "#26828e"
             ],
             [
              0.5555555555555556,
              "#1f9e89"
             ],
             [
              0.6666666666666666,
              "#35b779"
             ],
             [
              0.7777777777777778,
              "#6ece58"
             ],
             [
              0.8888888888888888,
              "#b5de2b"
             ],
             [
              1,
              "#fde725"
             ]
            ],
            "type": "contour"
           }
          ],
          "contourcarpet": [
           {
            "colorbar": {
             "outlinewidth": 1,
             "tickcolor": "rgb(36,36,36)",
             "ticks": "outside"
            },
            "type": "contourcarpet"
           }
          ],
          "heatmap": [
           {
            "colorbar": {
             "outlinewidth": 1,
             "tickcolor": "rgb(36,36,36)",
             "ticks": "outside"
            },
            "colorscale": [
             [
              0,
              "#440154"
             ],
             [
              0.1111111111111111,
              "#482878"
             ],
             [
              0.2222222222222222,
              "#3e4989"
             ],
             [
              0.3333333333333333,
              "#31688e"
             ],
             [
              0.4444444444444444,
              "#26828e"
             ],
             [
              0.5555555555555556,
              "#1f9e89"
             ],
             [
              0.6666666666666666,
              "#35b779"
             ],
             [
              0.7777777777777778,
              "#6ece58"
             ],
             [
              0.8888888888888888,
              "#b5de2b"
             ],
             [
              1,
              "#fde725"
             ]
            ],
            "type": "heatmap"
           }
          ],
          "heatmapgl": [
           {
            "colorbar": {
             "outlinewidth": 1,
             "tickcolor": "rgb(36,36,36)",
             "ticks": "outside"
            },
            "colorscale": [
             [
              0,
              "#440154"
             ],
             [
              0.1111111111111111,
              "#482878"
             ],
             [
              0.2222222222222222,
              "#3e4989"
             ],
             [
              0.3333333333333333,
              "#31688e"
             ],
             [
              0.4444444444444444,
              "#26828e"
             ],
             [
              0.5555555555555556,
              "#1f9e89"
             ],
             [
              0.6666666666666666,
              "#35b779"
             ],
             [
              0.7777777777777778,
              "#6ece58"
             ],
             [
              0.8888888888888888,
              "#b5de2b"
             ],
             [
              1,
              "#fde725"
             ]
            ],
            "type": "heatmapgl"
           }
          ],
          "histogram": [
           {
            "marker": {
             "line": {
              "color": "white",
              "width": 0.6
             }
            },
            "type": "histogram"
           }
          ],
          "histogram2d": [
           {
            "colorbar": {
             "outlinewidth": 1,
             "tickcolor": "rgb(36,36,36)",
             "ticks": "outside"
            },
            "colorscale": [
             [
              0,
              "#440154"
             ],
             [
              0.1111111111111111,
              "#482878"
             ],
             [
              0.2222222222222222,
              "#3e4989"
             ],
             [
              0.3333333333333333,
              "#31688e"
             ],
             [
              0.4444444444444444,
              "#26828e"
             ],
             [
              0.5555555555555556,
              "#1f9e89"
             ],
             [
              0.6666666666666666,
              "#35b779"
             ],
             [
              0.7777777777777778,
              "#6ece58"
             ],
             [
              0.8888888888888888,
              "#b5de2b"
             ],
             [
              1,
              "#fde725"
             ]
            ],
            "type": "histogram2d"
           }
          ],
          "histogram2dcontour": [
           {
            "colorbar": {
             "outlinewidth": 1,
             "tickcolor": "rgb(36,36,36)",
             "ticks": "outside"
            },
            "colorscale": [
             [
              0,
              "#440154"
             ],
             [
              0.1111111111111111,
              "#482878"
             ],
             [
              0.2222222222222222,
              "#3e4989"
             ],
             [
              0.3333333333333333,
              "#31688e"
             ],
             [
              0.4444444444444444,
              "#26828e"
             ],
             [
              0.5555555555555556,
              "#1f9e89"
             ],
             [
              0.6666666666666666,
              "#35b779"
             ],
             [
              0.7777777777777778,
              "#6ece58"
             ],
             [
              0.8888888888888888,
              "#b5de2b"
             ],
             [
              1,
              "#fde725"
             ]
            ],
            "type": "histogram2dcontour"
           }
          ],
          "mesh3d": [
           {
            "colorbar": {
             "outlinewidth": 1,
             "tickcolor": "rgb(36,36,36)",
             "ticks": "outside"
            },
            "type": "mesh3d"
           }
          ],
          "parcoords": [
           {
            "line": {
             "colorbar": {
              "outlinewidth": 1,
              "tickcolor": "rgb(36,36,36)",
              "ticks": "outside"
             }
            },
            "type": "parcoords"
           }
          ],
          "pie": [
           {
            "automargin": true,
            "type": "pie"
           }
          ],
          "scatter": [
           {
            "fillpattern": {
             "fillmode": "overlay",
             "size": 10,
             "solidity": 0.2
            },
            "type": "scatter"
           }
          ],
          "scatter3d": [
           {
            "line": {
             "colorbar": {
              "outlinewidth": 1,
              "tickcolor": "rgb(36,36,36)",
              "ticks": "outside"
             }
            },
            "marker": {
             "colorbar": {
              "outlinewidth": 1,
              "tickcolor": "rgb(36,36,36)",
              "ticks": "outside"
             }
            },
            "type": "scatter3d"
           }
          ],
          "scattercarpet": [
           {
            "marker": {
             "colorbar": {
              "outlinewidth": 1,
              "tickcolor": "rgb(36,36,36)",
              "ticks": "outside"
             }
            },
            "type": "scattercarpet"
           }
          ],
          "scattergeo": [
           {
            "marker": {
             "colorbar": {
              "outlinewidth": 1,
              "tickcolor": "rgb(36,36,36)",
              "ticks": "outside"
             }
            },
            "type": "scattergeo"
           }
          ],
          "scattergl": [
           {
            "marker": {
             "colorbar": {
              "outlinewidth": 1,
              "tickcolor": "rgb(36,36,36)",
              "ticks": "outside"
             }
            },
            "type": "scattergl"
           }
          ],
          "scattermapbox": [
           {
            "marker": {
             "colorbar": {
              "outlinewidth": 1,
              "tickcolor": "rgb(36,36,36)",
              "ticks": "outside"
             }
            },
            "type": "scattermapbox"
           }
          ],
          "scatterpolar": [
           {
            "marker": {
             "colorbar": {
              "outlinewidth": 1,
              "tickcolor": "rgb(36,36,36)",
              "ticks": "outside"
             }
            },
            "type": "scatterpolar"
           }
          ],
          "scatterpolargl": [
           {
            "marker": {
             "colorbar": {
              "outlinewidth": 1,
              "tickcolor": "rgb(36,36,36)",
              "ticks": "outside"
             }
            },
            "type": "scatterpolargl"
           }
          ],
          "scatterternary": [
           {
            "marker": {
             "colorbar": {
              "outlinewidth": 1,
              "tickcolor": "rgb(36,36,36)",
              "ticks": "outside"
             }
            },
            "type": "scatterternary"
           }
          ],
          "surface": [
           {
            "colorbar": {
             "outlinewidth": 1,
             "tickcolor": "rgb(36,36,36)",
             "ticks": "outside"
            },
            "colorscale": [
             [
              0,
              "#440154"
             ],
             [
              0.1111111111111111,
              "#482878"
             ],
             [
              0.2222222222222222,
              "#3e4989"
             ],
             [
              0.3333333333333333,
              "#31688e"
             ],
             [
              0.4444444444444444,
              "#26828e"
             ],
             [
              0.5555555555555556,
              "#1f9e89"
             ],
             [
              0.6666666666666666,
              "#35b779"
             ],
             [
              0.7777777777777778,
              "#6ece58"
             ],
             [
              0.8888888888888888,
              "#b5de2b"
             ],
             [
              1,
              "#fde725"
             ]
            ],
            "type": "surface"
           }
          ],
          "table": [
           {
            "cells": {
             "fill": {
              "color": "rgb(237,237,237)"
             },
             "line": {
              "color": "white"
             }
            },
            "header": {
             "fill": {
              "color": "rgb(217,217,217)"
             },
             "line": {
              "color": "white"
             }
            },
            "type": "table"
           }
          ]
         },
         "layout": {
          "annotationdefaults": {
           "arrowhead": 0,
           "arrowwidth": 1
          },
          "autotypenumbers": "strict",
          "coloraxis": {
           "colorbar": {
            "outlinewidth": 1,
            "tickcolor": "rgb(36,36,36)",
            "ticks": "outside"
           }
          },
          "colorscale": {
           "diverging": [
            [
             0,
             "rgb(103,0,31)"
            ],
            [
             0.1,
             "rgb(178,24,43)"
            ],
            [
             0.2,
             "rgb(214,96,77)"
            ],
            [
             0.3,
             "rgb(244,165,130)"
            ],
            [
             0.4,
             "rgb(253,219,199)"
            ],
            [
             0.5,
             "rgb(247,247,247)"
            ],
            [
             0.6,
             "rgb(209,229,240)"
            ],
            [
             0.7,
             "rgb(146,197,222)"
            ],
            [
             0.8,
             "rgb(67,147,195)"
            ],
            [
             0.9,
             "rgb(33,102,172)"
            ],
            [
             1,
             "rgb(5,48,97)"
            ]
           ],
           "sequential": [
            [
             0,
             "#440154"
            ],
            [
             0.1111111111111111,
             "#482878"
            ],
            [
             0.2222222222222222,
             "#3e4989"
            ],
            [
             0.3333333333333333,
             "#31688e"
            ],
            [
             0.4444444444444444,
             "#26828e"
            ],
            [
             0.5555555555555556,
             "#1f9e89"
            ],
            [
             0.6666666666666666,
             "#35b779"
            ],
            [
             0.7777777777777778,
             "#6ece58"
            ],
            [
             0.8888888888888888,
             "#b5de2b"
            ],
            [
             1,
             "#fde725"
            ]
           ],
           "sequentialminus": [
            [
             0,
             "#440154"
            ],
            [
             0.1111111111111111,
             "#482878"
            ],
            [
             0.2222222222222222,
             "#3e4989"
            ],
            [
             0.3333333333333333,
             "#31688e"
            ],
            [
             0.4444444444444444,
             "#26828e"
            ],
            [
             0.5555555555555556,
             "#1f9e89"
            ],
            [
             0.6666666666666666,
             "#35b779"
            ],
            [
             0.7777777777777778,
             "#6ece58"
            ],
            [
             0.8888888888888888,
             "#b5de2b"
            ],
            [
             1,
             "#fde725"
            ]
           ]
          },
          "colorway": [
           "#1F77B4",
           "#FF7F0E",
           "#2CA02C",
           "#D62728",
           "#9467BD",
           "#8C564B",
           "#E377C2",
           "#7F7F7F",
           "#BCBD22",
           "#17BECF"
          ],
          "font": {
           "color": "rgb(36,36,36)"
          },
          "geo": {
           "bgcolor": "white",
           "lakecolor": "white",
           "landcolor": "white",
           "showlakes": true,
           "showland": true,
           "subunitcolor": "white"
          },
          "hoverlabel": {
           "align": "left"
          },
          "hovermode": "closest",
          "mapbox": {
           "style": "light"
          },
          "paper_bgcolor": "white",
          "plot_bgcolor": "white",
          "polar": {
           "angularaxis": {
            "gridcolor": "rgb(232,232,232)",
            "linecolor": "rgb(36,36,36)",
            "showgrid": false,
            "showline": true,
            "ticks": "outside"
           },
           "bgcolor": "white",
           "radialaxis": {
            "gridcolor": "rgb(232,232,232)",
            "linecolor": "rgb(36,36,36)",
            "showgrid": false,
            "showline": true,
            "ticks": "outside"
           }
          },
          "scene": {
           "xaxis": {
            "backgroundcolor": "white",
            "gridcolor": "rgb(232,232,232)",
            "gridwidth": 2,
            "linecolor": "rgb(36,36,36)",
            "showbackground": true,
            "showgrid": false,
            "showline": true,
            "ticks": "outside",
            "zeroline": false,
            "zerolinecolor": "rgb(36,36,36)"
           },
           "yaxis": {
            "backgroundcolor": "white",
            "gridcolor": "rgb(232,232,232)",
            "gridwidth": 2,
            "linecolor": "rgb(36,36,36)",
            "showbackground": true,
            "showgrid": false,
            "showline": true,
            "ticks": "outside",
            "zeroline": false,
            "zerolinecolor": "rgb(36,36,36)"
           },
           "zaxis": {
            "backgroundcolor": "white",
            "gridcolor": "rgb(232,232,232)",
            "gridwidth": 2,
            "linecolor": "rgb(36,36,36)",
            "showbackground": true,
            "showgrid": false,
            "showline": true,
            "ticks": "outside",
            "zeroline": false,
            "zerolinecolor": "rgb(36,36,36)"
           }
          },
          "shapedefaults": {
           "fillcolor": "black",
           "line": {
            "width": 0
           },
           "opacity": 0.3
          },
          "ternary": {
           "aaxis": {
            "gridcolor": "rgb(232,232,232)",
            "linecolor": "rgb(36,36,36)",
            "showgrid": false,
            "showline": true,
            "ticks": "outside"
           },
           "baxis": {
            "gridcolor": "rgb(232,232,232)",
            "linecolor": "rgb(36,36,36)",
            "showgrid": false,
            "showline": true,
            "ticks": "outside"
           },
           "bgcolor": "white",
           "caxis": {
            "gridcolor": "rgb(232,232,232)",
            "linecolor": "rgb(36,36,36)",
            "showgrid": false,
            "showline": true,
            "ticks": "outside"
           }
          },
          "title": {
           "x": 0.05
          },
          "xaxis": {
           "automargin": true,
           "gridcolor": "rgb(232,232,232)",
           "linecolor": "rgb(36,36,36)",
           "showgrid": false,
           "showline": true,
           "ticks": "outside",
           "title": {
            "standoff": 15
           },
           "zeroline": false,
           "zerolinecolor": "rgb(36,36,36)"
          },
          "yaxis": {
           "automargin": true,
           "gridcolor": "rgb(232,232,232)",
           "linecolor": "rgb(36,36,36)",
           "showgrid": false,
           "showline": true,
           "ticks": "outside",
           "title": {
            "standoff": 15
           },
           "zeroline": false,
           "zerolinecolor": "rgb(36,36,36)"
          }
         }
        },
        "title": {
         "font": {
          "color": "Black",
          "size": 22
         },
         "text": "<b>Topics over Time</b>",
         "x": 0.4,
         "xanchor": "center",
         "y": 0.95,
         "yanchor": "top"
        },
        "width": 1250,
        "xaxis": {
         "showgrid": true
        },
        "yaxis": {
         "showgrid": true,
         "title": {
          "text": "Frequency"
         }
        }
       }
      }
     },
     "metadata": {},
     "output_type": "display_data"
    }
   ],
   "source": [
    "neg_model.visualize_topics_over_time(neg_topics_over_time, top_n_topics=15)"
   ]
  },
  {
   "cell_type": "code",
   "execution_count": null,
   "metadata": {},
   "outputs": [],
   "source": []
  }
 ],
 "metadata": {
  "kernelspec": {
   "display_name": "base",
   "language": "python",
   "name": "python3"
  },
  "language_info": {
   "codemirror_mode": {
    "name": "ipython",
    "version": 3
   },
   "file_extension": ".py",
   "mimetype": "text/x-python",
   "name": "python",
   "nbconvert_exporter": "python",
   "pygments_lexer": "ipython3",
   "version": "3.11.4"
  }
 },
 "nbformat": 4,
 "nbformat_minor": 2
}
