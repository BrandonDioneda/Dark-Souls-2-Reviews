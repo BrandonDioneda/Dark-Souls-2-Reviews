{
 "cells": [
  {
   "cell_type": "markdown",
   "metadata": {},
   "source": [
    "# Dark Souls II Reviews (2025)"
   ]
  },
  {
   "cell_type": "code",
   "execution_count": 1,
   "metadata": {},
   "outputs": [
    {
     "name": "stdout",
     "output_type": "stream",
     "text": [
      "WARNING:tensorflow:From C:\\Users\\bdion\\AppData\\Roaming\\Python\\Python311\\site-packages\\tf_keras\\src\\losses.py:2976: The name tf.losses.sparse_softmax_cross_entropy is deprecated. Please use tf.compat.v1.losses.sparse_softmax_cross_entropy instead.\n",
      "\n"
     ]
    }
   ],
   "source": [
    "from get_data import *\n",
    "from bertopic import BERTopic"
   ]
  },
  {
   "cell_type": "code",
   "execution_count": 2,
   "metadata": {},
   "outputs": [
    {
     "name": "stderr",
     "output_type": "stream",
     "text": [
      "[nltk_data] Downloading package punkt to\n",
      "[nltk_data]     C:\\Users\\bdion\\AppData\\Roaming\\nltk_data...\n",
      "[nltk_data]   Package punkt is already up-to-date!\n",
      "[nltk_data] Downloading package stopwords to\n",
      "[nltk_data]     C:\\Users\\bdion\\AppData\\Roaming\\nltk_data...\n",
      "[nltk_data]   Package stopwords is already up-to-date!\n",
      "[nltk_data] Downloading package wordnet to\n",
      "[nltk_data]     C:\\Users\\bdion\\AppData\\Roaming\\nltk_data...\n",
      "[nltk_data]   Package wordnet is already up-to-date!\n",
      "[nltk_data] Downloading package omw-1.4 to\n",
      "[nltk_data]     C:\\Users\\bdion\\AppData\\Roaming\\nltk_data...\n",
      "[nltk_data]   Package omw-1.4 is already up-to-date!\n",
      "[nltk_data] Downloading package averaged_perceptron_tagger_eng to\n",
      "[nltk_data]     C:\\Users\\bdion\\AppData\\Roaming\\nltk_data...\n",
      "[nltk_data]   Package averaged_perceptron_tagger_eng is already up-to-\n",
      "[nltk_data]       date!\n"
     ]
    },
    {
     "data": {
      "text/plain": [
       "True"
      ]
     },
     "execution_count": 2,
     "metadata": {},
     "output_type": "execute_result"
    }
   ],
   "source": [
    "import nltk\n",
    "nltk.download('punkt')\n",
    "nltk.download('stopwords')\n",
    "nltk.download('wordnet')\n",
    "nltk.download('omw-1.4')\n",
    "nltk.download('averaged_perceptron_tagger_eng')"
   ]
  },
  {
   "cell_type": "code",
   "execution_count": 3,
   "metadata": {},
   "outputs": [],
   "source": [
    "reviews = get_data()"
   ]
  },
  {
   "cell_type": "markdown",
   "metadata": {},
   "source": [
    "## Topic Modeling:\n",
    "- Exploring certain aspects on why people like the game\n",
    "    - Also get critiques of the game in positive reviews (if any but there sure is considering DS2's reputation in the community)\n",
    "\n",
    "- Exploring why people don't like the game:\n",
    "    - Also get positive aspects within this subset of the reviews"
   ]
  },
  {
   "cell_type": "markdown",
   "metadata": {},
   "source": [
    "Splitting the reviews by how many do and don't recommend buying the game:"
   ]
  },
  {
   "cell_type": "code",
   "execution_count": 4,
   "metadata": {},
   "outputs": [],
   "source": [
    "pos_reviews = reviews[reviews['voted_up'] == True]\n",
    "neg_reviews = reviews[reviews['voted_up'] == False]"
   ]
  },
  {
   "cell_type": "code",
   "execution_count": 5,
   "metadata": {},
   "outputs": [
    {
     "data": {
      "text/plain": [
       "((37387, 10), (8176, 10))"
      ]
     },
     "execution_count": 5,
     "metadata": {},
     "output_type": "execute_result"
    }
   ],
   "source": [
    "pos_reviews.shape, neg_reviews.shape"
   ]
  },
  {
   "cell_type": "markdown",
   "metadata": {},
   "source": [
    "### DTM:"
   ]
  },
  {
   "cell_type": "markdown",
   "metadata": {},
   "source": [
    "- Useful for analyzing trends in text over long periods"
   ]
  },
  {
   "cell_type": "code",
   "execution_count": 6,
   "metadata": {},
   "outputs": [],
   "source": [
    "docs = reviews.review.to_list()\n",
    "pos_docs = pos_reviews.review.to_list()\n",
    "neg_docs = neg_reviews.review.to_list()"
   ]
  },
  {
   "cell_type": "code",
   "execution_count": 7,
   "metadata": {},
   "outputs": [],
   "source": [
    "timestamps = pd.to_datetime(reviews.update_date, unit='s').values\n",
    "pos_timestamps = pd.to_datetime(pos_reviews.update_date, unit='s').values\n",
    "neg_timestamps = pd.to_datetime(neg_reviews.update_date, unit='s').values"
   ]
  },
  {
   "cell_type": "code",
   "execution_count": 8,
   "metadata": {},
   "outputs": [],
   "source": [
    "topic_model = BERTopic.load(\"models/bertopic_model\")"
   ]
  },
  {
   "cell_type": "code",
   "execution_count": 9,
   "metadata": {},
   "outputs": [
    {
     "name": "stderr",
     "output_type": "stream",
     "text": [
      "20it [00:19,  1.05it/s]\n"
     ]
    }
   ],
   "source": [
    "topics_over_time = topic_model.topics_over_time(docs, timestamps, nr_bins=20)"
   ]
  },
  {
   "cell_type": "code",
   "execution_count": 10,
   "metadata": {},
   "outputs": [
    {
     "data": {
      "application/vnd.plotly.v1+json": {
       "config": {
        "plotlyServerURL": "https://plot.ly"
       },
       "data": [
        {
         "hoverinfo": "text",
         "hovertext": [
          "<b>Topic 0</b><br>Words: mobile, forgot, ad, award, show",
          "<b>Topic 0</b><br>Words: mobile, forgot, ad, award, show",
          "<b>Topic 0</b><br>Words: mobile, forgot, ad, award, show",
          "<b>Topic 0</b><br>Words: mobile, forgot, ad, award, show",
          "<b>Topic 0</b><br>Words: mobile, forgot, ad, award, show",
          "<b>Topic 0</b><br>Words: award, community, mobile, forgot, ad",
          "<b>Topic 0</b><br>Words: mobile, forgot, ad, award, show",
          "<b>Topic 0</b><br>Words: show, mobile, forgot, ad, award",
          "<b>Topic 0</b><br>Words: mobile, forgot, ad, award, show",
          "<b>Topic 0</b><br>Words: mobile, forgot, ad, award, show",
          "<b>Topic 0</b><br>Words: mobile, forgot, ad, award, show",
          "<b>Topic 0</b><br>Words: mobile, forgot, ad, award, show",
          "<b>Topic 0</b><br>Words: mobile, ad, show, forgot, award",
          "<b>Topic 0</b><br>Words: mobile, forgot, ad, award, show",
          "<b>Topic 0</b><br>Words: mobile, forgot, ad, award, show",
          "<b>Topic 0</b><br>Words: forgot, mobile, ad, award, show",
          "<b>Topic 0</b><br>Words: mobile, forgot, ad, award, show",
          "<b>Topic 0</b><br>Words: mobile, forgot, ad, award, show",
          "<b>Topic 0</b><br>Words: till, mobile, forgot, ad, award",
          "<b>Topic 0</b><br>Words: mobile, forgot, ad, award, show"
         ],
         "marker": {
          "color": "#E69F00"
         },
         "mode": "lines",
         "name": "0_mobile_forgot_ad_award",
         "type": "scatter",
         "x": [
          "2015-03-29T07:51:40.752000",
          "2015-09-30T21:50:11.400000",
          "2016-03-30T20:28:43.800000",
          "2016-09-28T19:07:16.200000",
          "2017-03-29T17:45:48.600000",
          "2017-09-27T16:24:21",
          "2018-03-28T15:02:53.400000",
          "2018-09-26T13:41:25.800000",
          "2019-03-27T12:19:58.200000",
          "2019-09-25T10:58:30.600000",
          "2020-03-25T09:37:03",
          "2020-09-23T08:15:35.400000",
          "2021-03-24T06:54:07.800000",
          "2021-09-22T05:32:40.200000",
          "2022-03-23T04:11:12.600000",
          "2022-09-21T02:49:45",
          "2023-03-22T01:28:17.400000",
          "2023-09-20T00:06:49.800000",
          "2024-03-19T22:45:22.200000",
          "2024-09-17T21:23:54.600000"
         ],
         "y": [
          34,
          28,
          16,
          29,
          14,
          20,
          15,
          26,
          38,
          79,
          105,
          101,
          141,
          159,
          96,
          113,
          101,
          135,
          141,
          140
         ]
        },
        {
         "hoverinfo": "text",
         "hovertext": [
          "<b>Topic 1</b><br>Words: dx, new, version, change, heide",
          "<b>Topic 1</b><br>Words: player, dsi, enemy, attack, place",
          "<b>Topic 1</b><br>Words: katana, havel, ice, chaos, rapier",
          "<b>Topic 1</b><br>Words: player, attack, level, bonfire, area",
          "<b>Topic 1</b><br>Words: fight, weapon, player, attack, area",
          "<b>Topic 1</b><br>Words: player, area, weapon, fight, item",
          "<b>Topic 1</b><br>Words: quote, ctrl, roll, attack, area",
          "<b>Topic 1</b><br>Words: attack, damage, player, area, enemy",
          "<b>Topic 1</b><br>Words: moonlight, nigga, uh, shawty, spotlight",
          "<b>Topic 1</b><br>Words: bean, enemy, attack, area, estus",
          "<b>Topic 1</b><br>Words: attack, enemy, player, area, fight",
          "<b>Topic 1</b><br>Words: tyrit, enemy, area, attack, weapon",
          "<b>Topic 1</b><br>Words: attack, enemy, bos, area, damage",
          "<b>Topic 1</b><br>Words: attack, area, enemy, roll, bos",
          "<b>Topic 1</b><br>Words: fight, attack, enemy, area, bos",
          "<b>Topic 1</b><br>Words: enemy, attack, area, bos, level",
          "<b>Topic 1</b><br>Words: attack, bos, animation, weapon, enemy",
          "<b>Topic 1</b><br>Words: td, bos, fight, attack, player",
          "<b>Topic 1</b><br>Words: bos, enemy, fight, area, player",
          "<b>Topic 1</b><br>Words: spoiler, area, enemy, bos, feel"
         ],
         "marker": {
          "color": "#56B4E9"
         },
         "mode": "lines",
         "name": "1_attack_area_enemy_fight",
         "type": "scatter",
         "x": [
          "2015-03-29T07:51:40.752000",
          "2015-09-30T21:50:11.400000",
          "2016-03-30T20:28:43.800000",
          "2016-09-28T19:07:16.200000",
          "2017-03-29T17:45:48.600000",
          "2017-09-27T16:24:21",
          "2018-03-28T15:02:53.400000",
          "2018-09-26T13:41:25.800000",
          "2019-03-27T12:19:58.200000",
          "2019-09-25T10:58:30.600000",
          "2020-03-25T09:37:03",
          "2020-09-23T08:15:35.400000",
          "2021-03-24T06:54:07.800000",
          "2021-09-22T05:32:40.200000",
          "2022-03-23T04:11:12.600000",
          "2022-09-21T02:49:45",
          "2023-03-22T01:28:17.400000",
          "2023-09-20T00:06:49.800000",
          "2024-03-19T22:45:22.200000",
          "2024-09-17T21:23:54.600000"
         ],
         "y": [
          77,
          52,
          49,
          51,
          57,
          53,
          34,
          45,
          38,
          50,
          81,
          73,
          71,
          84,
          50,
          57,
          65,
          64,
          85,
          103
         ]
        },
        {
         "hoverinfo": "text",
         "hovertext": [
          "<b>Topic 2</b><br>Words: good, verry, uh, af, lol",
          "<b>Topic 2</b><br>Words: good, verry, uh, af, lol",
          "<b>Topic 2</b><br>Words: good, verry, uh, af, lol",
          "<b>Topic 2</b><br>Words: good, verry, uh, af, lol",
          "<b>Topic 2</b><br>Words: good, verry, uh, af, lol",
          "<b>Topic 2</b><br>Words: good, verry, uh, af, lol",
          "<b>Topic 2</b><br>Words: good, verry, uh, af, lol",
          "<b>Topic 2</b><br>Words: good, verry, uh, af, lol",
          "<b>Topic 2</b><br>Words: good, verry, uh, af, lol",
          "<b>Topic 2</b><br>Words: good, spoiler, verry, uh, af",
          "<b>Topic 2</b><br>Words: good, verry, lol, honestly, uh",
          "<b>Topic 2</b><br>Words: good, verry, uh, af, lol",
          "<b>Topic 2</b><br>Words: good, thats, verry, uh, af",
          "<b>Topic 2</b><br>Words: good, verry, uh, also, af",
          "<b>Topic 2</b><br>Words: good, please, verry, uh, af",
          "<b>Topic 2</b><br>Words: good, verry, uh, af, lol",
          "<b>Topic 2</b><br>Words: good, uh, verry, af, lol",
          "<b>Topic 2</b><br>Words: good, af, verry, uh, lol",
          "<b>Topic 2</b><br>Words: good, verry, uh, af, lol",
          "<b>Topic 2</b><br>Words: good, verry, uh, af, lol"
         ],
         "marker": {
          "color": "#009E73"
         },
         "mode": "lines",
         "name": "2_good_verry_uh_af",
         "type": "scatter",
         "x": [
          "2015-03-29T07:51:40.752000",
          "2015-09-30T21:50:11.400000",
          "2016-03-30T20:28:43.800000",
          "2016-09-28T19:07:16.200000",
          "2017-03-29T17:45:48.600000",
          "2017-09-27T16:24:21",
          "2018-03-28T15:02:53.400000",
          "2018-09-26T13:41:25.800000",
          "2019-03-27T12:19:58.200000",
          "2019-09-25T10:58:30.600000",
          "2020-03-25T09:37:03",
          "2020-09-23T08:15:35.400000",
          "2021-03-24T06:54:07.800000",
          "2021-09-22T05:32:40.200000",
          "2022-03-23T04:11:12.600000",
          "2022-09-21T02:49:45",
          "2023-03-22T01:28:17.400000",
          "2023-09-20T00:06:49.800000",
          "2024-03-19T22:45:22.200000",
          "2024-09-17T21:23:54.600000"
         ],
         "y": [
          10,
          14,
          14,
          14,
          26,
          21,
          9,
          20,
          39,
          76,
          93,
          83,
          88,
          110,
          54,
          65,
          64,
          59,
          83,
          87
         ]
        },
        {
         "hoverinfo": "text",
         "hovertext": [
          "<b>Topic 3</b><br>Words: controller, keyboard, mouse, port, xbox",
          "<b>Topic 3</b><br>Words: controller, keyboard, mouse, port, pc",
          "<b>Topic 3</b><br>Words: controller, keyboard, mouse, port, xbox",
          "<b>Topic 3</b><br>Words: controller, keyboard, mouse, port, pc",
          "<b>Topic 3</b><br>Words: controller, keyboard, port, mouse, control",
          "<b>Topic 3</b><br>Words: controller, keyboard, port, mouse, pc",
          "<b>Topic 3</b><br>Words: mouse, keyboard, controller, binding, sensitivity",
          "<b>Topic 3</b><br>Words: controller, keyboard, port, mouse, config",
          "<b>Topic 3</b><br>Words: controller, keyboard, mouse, key, control",
          "<b>Topic 3</b><br>Words: controller, keyboard, mouse, port, control",
          "<b>Topic 3</b><br>Words: controller, keyboard, mouse, port, pc",
          "<b>Topic 3</b><br>Words: controller, keyboard, mouse, control, xbox",
          "<b>Topic 3</b><br>Words: controller, keyboard, mouse, xbox, port",
          "<b>Topic 3</b><br>Words: mouse, keyboard, controller, port, pc",
          "<b>Topic 3</b><br>Words: keyboard, controller, mouse, control, port",
          "<b>Topic 3</b><br>Words: controller, keyboard, mouse, port, button",
          "<b>Topic 3</b><br>Words: mouse, controller, keyboard, button, control",
          "<b>Topic 3</b><br>Words: controller, mouse, keyboard, port, pc",
          "<b>Topic 3</b><br>Words: controller, mouse, keyboard, port, click",
          "<b>Topic 3</b><br>Words: controller, keyboard, mouse, port, control"
         ],
         "marker": {
          "color": "#F0E442"
         },
         "mode": "lines",
         "name": "3_controller_keyboard_mouse_port",
         "type": "scatter",
         "x": [
          "2015-03-29T07:51:40.752000",
          "2015-09-30T21:50:11.400000",
          "2016-03-30T20:28:43.800000",
          "2016-09-28T19:07:16.200000",
          "2017-03-29T17:45:48.600000",
          "2017-09-27T16:24:21",
          "2018-03-28T15:02:53.400000",
          "2018-09-26T13:41:25.800000",
          "2019-03-27T12:19:58.200000",
          "2019-09-25T10:58:30.600000",
          "2020-03-25T09:37:03",
          "2020-09-23T08:15:35.400000",
          "2021-03-24T06:54:07.800000",
          "2021-09-22T05:32:40.200000",
          "2022-03-23T04:11:12.600000",
          "2022-09-21T02:49:45",
          "2023-03-22T01:28:17.400000",
          "2023-09-20T00:06:49.800000",
          "2024-03-19T22:45:22.200000",
          "2024-09-17T21:23:54.600000"
         ],
         "y": [
          68,
          69,
          44,
          36,
          66,
          33,
          15,
          22,
          23,
          28,
          50,
          39,
          55,
          44,
          34,
          25,
          33,
          33,
          33,
          40
         ]
        },
        {
         "hoverinfo": "text",
         "hovertext": [
          "<b>Topic 4</b><br>Words: upgrade, dx, dlc, version, season",
          "<b>Topic 4</b><br>Words: dlc, upgrade, version, original, already",
          "<b>Topic 4</b><br>Words: dlc, version, upgrade, avaliable, ii",
          "<b>Topic 4</b><br>Words: dlc, version, upgrade, include, original",
          "<b>Topic 4</b><br>Words: dlc, version, dx, rearrange, upgrade",
          "<b>Topic 4</b><br>Words: dlc, version, original, dlcs, vanilla",
          "<b>Topic 4</b><br>Words: url, unpurchasable, remaster, bouhgt, tipe",
          "<b>Topic 4</b><br>Words: version, dlc, ddlc, secretely, changelog",
          "<b>Topic 4</b><br>Words: dlc, seriers, absoulte, dint, suprises",
          "<b>Topic 4</b><br>Words: dlc, noman, repairable, grabbing, arcadey",
          "<b>Topic 4</b><br>Words: dlc, dlcs, original, version, patch",
          "<b>Topic 4</b><br>Words: dlcs, version, dlc, nerds, acfun",
          "<b>Topic 4</b><br>Words: dlc, dlcs, tehe, adulthood, ohh",
          "<b>Topic 4</b><br>Words: dlc, natually, inconvience, silva, marty",
          "<b>Topic 4</b><br>Words: dlc, cod, activision, rebought, softfs",
          "<b>Topic 4</b><br>Words: dlc, original, keypoints, gow, funshit",
          "<b>Topic 4</b><br>Words: dlc, vanilla, version, original, directx",
          "<b>Topic 4</b><br>Words: dlc, color, dlcs, version, peole",
          "<b>Topic 4</b><br>Words: dlc, xp, version, dlcs, split",
          "<b>Topic 4</b><br>Words: dlcs, dlc, electrocution, resend, dawg"
         ],
         "marker": {
          "color": "#D55E00"
         },
         "mode": "lines",
         "name": "4_dlc_upgrade_version_dx",
         "type": "scatter",
         "x": [
          "2015-03-29T07:51:40.752000",
          "2015-09-30T21:50:11.400000",
          "2016-03-30T20:28:43.800000",
          "2016-09-28T19:07:16.200000",
          "2017-03-29T17:45:48.600000",
          "2017-09-27T16:24:21",
          "2018-03-28T15:02:53.400000",
          "2018-09-26T13:41:25.800000",
          "2019-03-27T12:19:58.200000",
          "2019-09-25T10:58:30.600000",
          "2020-03-25T09:37:03",
          "2020-09-23T08:15:35.400000",
          "2021-03-24T06:54:07.800000",
          "2021-09-22T05:32:40.200000",
          "2022-03-23T04:11:12.600000",
          "2022-09-21T02:49:45",
          "2023-03-22T01:28:17.400000",
          "2023-09-20T00:06:49.800000",
          "2024-03-19T22:45:22.200000",
          "2024-09-17T21:23:54.600000"
         ],
         "y": [
          242,
          63,
          24,
          27,
          20,
          27,
          11,
          12,
          15,
          13,
          23,
          28,
          26,
          37,
          14,
          21,
          20,
          24,
          34,
          23
         ]
        },
        {
         "hoverinfo": "text",
         "hovertext": [
          "<b>Topic 5</b><br>Words: ncia, que, jogo, minhas, de",
          "<b>Topic 5</b><br>Words: el, que, jogo, horas, esta",
          "<b>Topic 5</b><br>Words: que, vraiment, de, mucho, vez",
          "<b>Topic 5</b><br>Words: de, el, que, en, la",
          "<b>Topic 5</b><br>Words: que, la, de, su, en",
          "<b>Topic 5</b><br>Words: que, la, el, de, para",
          "<b>Topic 5</b><br>Words: quero, jogaaaaaaaaaaa, controle, para, de",
          "<b>Topic 5</b><br>Words: el, rango, tanti, castigara, dolor",
          "<b>Topic 5</b><br>Words: della, nico, jogo, que, jogar",
          "<b>Topic 5</b><br>Words: que, de, pero, jogo, juegazo",
          "<b>Topic 5</b><br>Words: jogo, um, muy, mto, obra",
          "<b>Topic 5</b><br>Words: novo, de, que, jogo, um",
          "<b>Topic 5</b><br>Words: que, el, jogo, de, juego",
          "<b>Topic 5</b><br>Words: de, que, jogo, el, juego",
          "<b>Topic 5</b><br>Words: jogo, de, melhor, feo, que",
          "<b>Topic 5</b><br>Words: que, de, el, pra, jogo",
          "<b>Topic 5</b><br>Words: de, que, mejor, el, juego",
          "<b>Topic 5</b><br>Words: te, amo, odeio, que, de",
          "<b>Topic 5</b><br>Words: de, que, juego, el, jogo",
          "<b>Topic 5</b><br>Words: que, de, jogo, la, el"
         ],
         "marker": {
          "color": "#0072B2"
         },
         "mode": "lines",
         "name": "5_de_que_el_jogo",
         "type": "scatter",
         "x": [
          "2015-03-29T07:51:40.752000",
          "2015-09-30T21:50:11.400000",
          "2016-03-30T20:28:43.800000",
          "2016-09-28T19:07:16.200000",
          "2017-03-29T17:45:48.600000",
          "2017-09-27T16:24:21",
          "2018-03-28T15:02:53.400000",
          "2018-09-26T13:41:25.800000",
          "2019-03-27T12:19:58.200000",
          "2019-09-25T10:58:30.600000",
          "2020-03-25T09:37:03",
          "2020-09-23T08:15:35.400000",
          "2021-03-24T06:54:07.800000",
          "2021-09-22T05:32:40.200000",
          "2022-03-23T04:11:12.600000",
          "2022-09-21T02:49:45",
          "2023-03-22T01:28:17.400000",
          "2023-09-20T00:06:49.800000",
          "2024-03-19T22:45:22.200000",
          "2024-09-17T21:23:54.600000"
         ],
         "y": [
          3,
          5,
          4,
          6,
          5,
          7,
          1,
          5,
          7,
          27,
          16,
          32,
          26,
          31,
          9,
          20,
          30,
          32,
          31,
          51
         ]
        },
        {
         "hoverinfo": "text",
         "hovertext": [
          "<b>Topic 6</b><br>Words: yes, nope, yesn, yessir, bro",
          "<b>Topic 6</b><br>Words: yes, nope, yesn, yessir, bro",
          "<b>Topic 6</b><br>Words: yes, nope, yesn, yessir, bro",
          "<b>Topic 6</b><br>Words: yes, nope, yesn, yessir, bro",
          "<b>Topic 6</b><br>Words: yes, nope, yesn, yessir, bro",
          "<b>Topic 6</b><br>Words: yes, nope, yesn, yessir, bro",
          "<b>Topic 6</b><br>Words: yes, nope, yesn, yessir, bro",
          "<b>Topic 6</b><br>Words: yes, nope, yesn, yessir, bro",
          "<b>Topic 6</b><br>Words: yes, nope, yesn, yessir, bro",
          "<b>Topic 6</b><br>Words: yes, nope, yesn, yessir, bro",
          "<b>Topic 6</b><br>Words: yes, nope, yesn, yessir, bro",
          "<b>Topic 6</b><br>Words: yes, yesn, nope, thank, cool",
          "<b>Topic 6</b><br>Words: yes, bro, sir, nope, simply",
          "<b>Topic 6</b><br>Words: yes, nope, yesn, yessir, bro",
          "<b>Topic 6</b><br>Words: yes, nope, yesn, yessir, bro",
          "<b>Topic 6</b><br>Words: yes, nope, yesn, yessir, bro",
          "<b>Topic 6</b><br>Words: yes, yessir, nope, yesn, much",
          "<b>Topic 6</b><br>Words: yes, nope, yesn, yessir, bro",
          "<b>Topic 6</b><br>Words: yes, nope, yesn, yessir, bro"
         ],
         "marker": {
          "color": "#CC79A7"
         },
         "mode": "lines",
         "name": "6_yes_nope_yesn_yessir",
         "type": "scatter",
         "x": [
          "2015-03-29T07:51:40.752000",
          "2015-09-30T21:50:11.400000",
          "2016-03-30T20:28:43.800000",
          "2016-09-28T19:07:16.200000",
          "2017-09-27T16:24:21",
          "2018-03-28T15:02:53.400000",
          "2018-09-26T13:41:25.800000",
          "2019-03-27T12:19:58.200000",
          "2019-09-25T10:58:30.600000",
          "2020-03-25T09:37:03",
          "2020-09-23T08:15:35.400000",
          "2021-03-24T06:54:07.800000",
          "2021-09-22T05:32:40.200000",
          "2022-03-23T04:11:12.600000",
          "2022-09-21T02:49:45",
          "2023-03-22T01:28:17.400000",
          "2023-09-20T00:06:49.800000",
          "2024-03-19T22:45:22.200000",
          "2024-09-17T21:23:54.600000"
         ],
         "y": [
          4,
          4,
          1,
          4,
          2,
          1,
          4,
          6,
          33,
          49,
          41,
          37,
          38,
          27,
          19,
          14,
          17,
          21,
          18
         ]
        },
        {
         "hoverinfo": "text",
         "hovertext": [
          "<b>Topic 7</b><br>Words: best, ah, winner, successful, lol",
          "<b>Topic 7</b><br>Words: best, ah, winner, successful, lol",
          "<b>Topic 7</b><br>Words: best, lol, ah, winner, successful",
          "<b>Topic 7</b><br>Words: best, ah, winner, successful, lol",
          "<b>Topic 7</b><br>Words: best, ah, winner, successful, lol",
          "<b>Topic 7</b><br>Words: best, ah, winner, successful, lol",
          "<b>Topic 7</b><br>Words: best, ah, winner, successful, lol",
          "<b>Topic 7</b><br>Words: best, ah, winner, successful, lol",
          "<b>Topic 7</b><br>Words: best, successful, ah, winner, lol",
          "<b>Topic 7</b><br>Words: best, winner, ah, successful, lol",
          "<b>Topic 7</b><br>Words: best, ah, winner, successful, lol",
          "<b>Topic 7</b><br>Words: best, ah, winner, successful, lol",
          "<b>Topic 7</b><br>Words: best, since, ah, winner, successful",
          "<b>Topic 7</b><br>Words: best, shot, long, ah, winner",
          "<b>Topic 7</b><br>Words: best, ah, fuck, yes, winner",
          "<b>Topic 7</b><br>Words: best, ah, winner, successful, lol",
          "<b>Topic 7</b><br>Words: best, ah, winner, successful, lol",
          "<b>Topic 7</b><br>Words: best, ah, winner, successful, lol"
         ],
         "marker": {
          "color": "#E69F00"
         },
         "mode": "lines",
         "name": "7_best_ah_winner_successful",
         "type": "scatter",
         "x": [
          "2015-03-29T07:51:40.752000",
          "2015-09-30T21:50:11.400000",
          "2016-09-28T19:07:16.200000",
          "2017-03-29T17:45:48.600000",
          "2017-09-27T16:24:21",
          "2018-09-26T13:41:25.800000",
          "2019-03-27T12:19:58.200000",
          "2019-09-25T10:58:30.600000",
          "2020-03-25T09:37:03",
          "2020-09-23T08:15:35.400000",
          "2021-03-24T06:54:07.800000",
          "2021-09-22T05:32:40.200000",
          "2022-03-23T04:11:12.600000",
          "2022-09-21T02:49:45",
          "2023-03-22T01:28:17.400000",
          "2023-09-20T00:06:49.800000",
          "2024-03-19T22:45:22.200000",
          "2024-09-17T21:23:54.600000"
         ],
         "y": [
          1,
          3,
          4,
          3,
          2,
          5,
          8,
          24,
          18,
          19,
          25,
          33,
          27,
          20,
          24,
          24,
          31,
          31
         ]
        },
        {
         "hoverinfo": "text",
         "hovertext": [
          "<b>Topic 8</b><br>Words: sofs, darker, mechanism, light, ressurected",
          "<b>Topic 8</b><br>Words: horizontal, rpg, communicate, deep, environment",
          "<b>Topic 8</b><br>Words: gorgeously, realm, fantastic, illegitimate, dickens",
          "<b>Topic 8</b><br>Words: campaign, dank, soundtrack, sequel, usual",
          "<b>Topic 8</b><br>Words: nerd, distant, recognize, intrinscally, recollect",
          "<b>Topic 8</b><br>Words: manga, list, sequal, title, chapter",
          "<b>Topic 8</b><br>Words: tsundere, recycling, yer, present, sequel",
          "<b>Topic 8</b><br>Words: footage, gold, crowbcat, critisizims, referrential",
          "<b>Topic 8</b><br>Words: dislike, misalligned, fiendishly, abolutely, unsuccessful",
          "<b>Topic 8</b><br>Words: world, appose, sequel, whole, story",
          "<b>Topic 8</b><br>Words: annoyed, punishment, punishing, entry, inferior",
          "<b>Topic 8</b><br>Words: overkill, quirk, reference, fit, ally",
          "<b>Topic 8</b><br>Words: critique, showcase, fantasy, sequel, polished",
          "<b>Topic 8</b><br>Words: world, iii, pling, hub, apex",
          "<b>Topic 8</b><br>Words: worker, chronological, niche, spoiler, alter",
          "<b>Topic 8</b><br>Words: narrative, borne, franchise, environment, truly",
          "<b>Topic 8</b><br>Words: wiki, memorable, video, vast, engage",
          "<b>Topic 8</b><br>Words: title, connectivity, world, predecessor, design",
          "<b>Topic 8</b><br>Words: sequel, medieval, duration, world, unique",
          "<b>Topic 8</b><br>Words: unafraid, sequel, gameplay, core, climactic"
         ],
         "marker": {
          "color": "#56B4E9"
         },
         "mode": "lines",
         "name": "8_world_sequel_story_franchise",
         "type": "scatter",
         "x": [
          "2015-03-29T07:51:40.752000",
          "2015-09-30T21:50:11.400000",
          "2016-03-30T20:28:43.800000",
          "2016-09-28T19:07:16.200000",
          "2017-03-29T17:45:48.600000",
          "2017-09-27T16:24:21",
          "2018-03-28T15:02:53.400000",
          "2018-09-26T13:41:25.800000",
          "2019-03-27T12:19:58.200000",
          "2019-09-25T10:58:30.600000",
          "2020-03-25T09:37:03",
          "2020-09-23T08:15:35.400000",
          "2021-03-24T06:54:07.800000",
          "2021-09-22T05:32:40.200000",
          "2022-03-23T04:11:12.600000",
          "2022-09-21T02:49:45",
          "2023-03-22T01:28:17.400000",
          "2023-09-20T00:06:49.800000",
          "2024-03-19T22:45:22.200000",
          "2024-09-17T21:23:54.600000"
         ],
         "y": [
          10,
          11,
          9,
          10,
          10,
          13,
          14,
          8,
          7,
          23,
          18,
          17,
          16,
          26,
          11,
          14,
          14,
          22,
          23,
          21
         ]
        },
        {
         "hoverinfo": "text",
         "hovertext": [
          "<b>Topic 9</b><br>Words: great, excellent, greattttt, greatttttt, fking",
          "<b>Topic 9</b><br>Words: great, excellent, greattttt, greatttttt, fking",
          "<b>Topic 9</b><br>Words: great, excellent, greattttt, greatttttt, fking",
          "<b>Topic 9</b><br>Words: great, excellent, greattttt, greatttttt, fking",
          "<b>Topic 9</b><br>Words: great, excellent, greattttt, greatttttt, fking",
          "<b>Topic 9</b><br>Words: great, excellent, greattttt, greatttttt, fking",
          "<b>Topic 9</b><br>Words: great, excellent, greattttt, greatttttt, fking",
          "<b>Topic 9</b><br>Words: great, excellent, greattttt, greatttttt, fking",
          "<b>Topic 9</b><br>Words: great, excellent, greattttt, greatttttt, fking",
          "<b>Topic 9</b><br>Words: great, greatttttt, excellent, greattttt, fking",
          "<b>Topic 9</b><br>Words: great, greattttt, excellent, everyone, greatttttt",
          "<b>Topic 9</b><br>Words: great, excellent, greattttt, greatttttt, fking",
          "<b>Topic 9</b><br>Words: great, fking, excellent, greattttt, greatttttt",
          "<b>Topic 9</b><br>Words: great, excellent, greattttt, greatttttt, fking",
          "<b>Topic 9</b><br>Words: great, excellent, greattttt, greatttttt, fking",
          "<b>Topic 9</b><br>Words: great, excellent, greattttt, greatttttt, even",
          "<b>Topic 9</b><br>Words: great, excellent, greattttt, greatttttt, fking",
          "<b>Topic 9</b><br>Words: great, excellent, greattttt, greatttttt, fking",
          "<b>Topic 9</b><br>Words: great, excellent, wonderful, greattttt, greatttttt",
          "<b>Topic 9</b><br>Words: great, excellent, greattttt, greatttttt, fking"
         ],
         "marker": {
          "color": "#009E73"
         },
         "mode": "lines",
         "name": "9_great_excellent_greatttttt_greattttt",
         "type": "scatter",
         "x": [
          "2015-03-29T07:51:40.752000",
          "2015-09-30T21:50:11.400000",
          "2016-03-30T20:28:43.800000",
          "2016-09-28T19:07:16.200000",
          "2017-03-29T17:45:48.600000",
          "2017-09-27T16:24:21",
          "2018-03-28T15:02:53.400000",
          "2018-09-26T13:41:25.800000",
          "2019-03-27T12:19:58.200000",
          "2019-09-25T10:58:30.600000",
          "2020-03-25T09:37:03",
          "2020-09-23T08:15:35.400000",
          "2021-03-24T06:54:07.800000",
          "2021-09-22T05:32:40.200000",
          "2022-03-23T04:11:12.600000",
          "2022-09-21T02:49:45",
          "2023-03-22T01:28:17.400000",
          "2023-09-20T00:06:49.800000",
          "2024-03-19T22:45:22.200000",
          "2024-09-17T21:23:54.600000"
         ],
         "y": [
          7,
          10,
          3,
          6,
          8,
          6,
          4,
          3,
          14,
          17,
          25,
          14,
          19,
          20,
          12,
          11,
          10,
          16,
          10,
          12
         ]
        },
        {
         "hoverinfo": "text",
         "hovertext": [
          "<b>Topic 10</b><br>Words: boat, box, trap, hitboxes, hitbox",
          "<b>Topic 10</b><br>Words: hitboxes, hitbox, box, hit, shitty",
          "<b>Topic 10</b><br>Words: whaaaat, hitboxes, yup, climb, road",
          "<b>Topic 10</b><br>Words: hitbox, machine, understandable, hello, cking",
          "<b>Topic 10</b><br>Words: hitbox, balancing, detection, hacker, ignore",
          "<b>Topic 10</b><br>Words: hitboxes, thing, hitbox, box, hit",
          "<b>Topic 10</b><br>Words: doubleclick, hitboxes, attacking, input, puzzle",
          "<b>Topic 10</b><br>Words: hitboxes, fatty, unresponsive, box, shitty",
          "<b>Topic 10</b><br>Words: hitboxes, hurtboxes, shitty, blank, dagger",
          "<b>Topic 10</b><br>Words: hitboxes, hitbox, box, shithole, hitboxs",
          "<b>Topic 10</b><br>Words: hitboxes, hitbox, box, katona, kerry",
          "<b>Topic 10</b><br>Words: hitboxes, hitbox, box, defies, quebrada",
          "<b>Topic 10</b><br>Words: hitboxes, hitbox, box, shitty, quirkiest",
          "<b>Topic 10</b><br>Words: hitboxes, hitbox, box, annyoing, noose",
          "<b>Topic 10</b><br>Words: box, hitboxes, hitbox, hit, goofy",
          "<b>Topic 10</b><br>Words: box, caetus, whack, hitboxes, hitbox",
          "<b>Topic 10</b><br>Words: hitboxes, box, hitbox, totem, throb",
          "<b>Topic 10</b><br>Words: hitbox, hitboxes, box, terriuble, dawgshi",
          "<b>Topic 10</b><br>Words: hitbox, hitboxes, box, hungary, commisions"
         ],
         "marker": {
          "color": "#F0E442"
         },
         "mode": "lines",
         "name": "10_hitboxes_hitbox_box_hit",
         "type": "scatter",
         "x": [
          "2015-09-30T21:50:11.400000",
          "2016-03-30T20:28:43.800000",
          "2016-09-28T19:07:16.200000",
          "2017-03-29T17:45:48.600000",
          "2017-09-27T16:24:21",
          "2018-03-28T15:02:53.400000",
          "2018-09-26T13:41:25.800000",
          "2019-03-27T12:19:58.200000",
          "2019-09-25T10:58:30.600000",
          "2020-03-25T09:37:03",
          "2020-09-23T08:15:35.400000",
          "2021-03-24T06:54:07.800000",
          "2021-09-22T05:32:40.200000",
          "2022-03-23T04:11:12.600000",
          "2022-09-21T02:49:45",
          "2023-03-22T01:28:17.400000",
          "2023-09-20T00:06:49.800000",
          "2024-03-19T22:45:22.200000",
          "2024-09-17T21:23:54.600000"
         ],
         "y": [
          1,
          1,
          3,
          3,
          2,
          1,
          4,
          6,
          6,
          12,
          23,
          27,
          22,
          18,
          26,
          7,
          23,
          19,
          22
         ]
        },
        {
         "hoverinfo": "text",
         "hovertext": [
          "<b>Topic 11</b><br>Words: ava, gangbang, amped, aggro, whisper",
          "<b>Topic 11</b><br>Words: raime, kick, alone, hollow, as",
          "<b>Topic 11</b><br>Words: bird, terrain, eat, impaled, itr",
          "<b>Topic 11</b><br>Words: backtrack, animationslocks, animationlocks, trainee, sots",
          "<b>Topic 11</b><br>Words: forgive, anvil, hundreth, chace, cryied",
          "<b>Topic 11</b><br>Words: kirito, duel, explain, sourcerer, cleverer",
          "<b>Topic 11</b><br>Words: ambush, spoiler, oneshoted, useage, dexs",
          "<b>Topic 11</b><br>Words: mistake, spontaneous, juju, characterprogression, refreshes",
          "<b>Topic 11</b><br>Words: pattern, invironments, pokey, interractions, thoe",
          "<b>Topic 11</b><br>Words: ambush, unranked, easiness, quickmatch, statisfying",
          "<b>Topic 11</b><br>Words: mist, chase, ight, sniper, agility",
          "<b>Topic 11</b><br>Words: mob, subversive, hit, tryna, stagger",
          "<b>Topic 11</b><br>Words: hallway, hallways, hit, included, nowhere",
          "<b>Topic 11</b><br>Words: gaa, ambush, respawn, aggro, health",
          "<b>Topic 11</b><br>Words: fofg, cyanide, gitted, nes, provided",
          "<b>Topic 11</b><br>Words: orange, gear, behind, dodgerolls, neutrally",
          "<b>Topic 11</b><br>Words: mindlessly, fighting, crank, precious, degradation",
          "<b>Topic 11</b><br>Words: ignore, ambush, adp, humanly, animation",
          "<b>Topic 11</b><br>Words: spends, stamina, snail, compliment, baton",
          "<b>Topic 11</b><br>Words: chase, swing, irritation, specialize, hitbox"
         ],
         "marker": {
          "color": "#D55E00"
         },
         "mode": "lines",
         "name": "11_hit_ambush_enemy_animation",
         "type": "scatter",
         "x": [
          "2015-03-29T07:51:40.752000",
          "2015-09-30T21:50:11.400000",
          "2016-03-30T20:28:43.800000",
          "2016-09-28T19:07:16.200000",
          "2017-03-29T17:45:48.600000",
          "2017-09-27T16:24:21",
          "2018-03-28T15:02:53.400000",
          "2018-09-26T13:41:25.800000",
          "2019-03-27T12:19:58.200000",
          "2019-09-25T10:58:30.600000",
          "2020-03-25T09:37:03",
          "2020-09-23T08:15:35.400000",
          "2021-03-24T06:54:07.800000",
          "2021-09-22T05:32:40.200000",
          "2022-03-23T04:11:12.600000",
          "2022-09-21T02:49:45",
          "2023-03-22T01:28:17.400000",
          "2023-09-20T00:06:49.800000",
          "2024-03-19T22:45:22.200000",
          "2024-09-17T21:23:54.600000"
         ],
         "y": [
          14,
          11,
          9,
          4,
          7,
          7,
          7,
          6,
          9,
          9,
          10,
          20,
          15,
          21,
          11,
          8,
          12,
          17,
          15,
          11
         ]
        },
        {
         "hoverinfo": "text",
         "hovertext": [
          "<b>Topic 12</b><br>Words: disposable, income, somthing, dificulty, cod",
          "<b>Topic 12</b><br>Words: woowee, bulky, randoms, manikin, loveable",
          "<b>Topic 12</b><br>Words: flat, crap, shitty, none, ambush",
          "<b>Topic 12</b><br>Words: embarresment, disappointin, shortning, appriciated, enviornments",
          "<b>Topic 12</b><br>Words: concession, bosses, proceeds, hahaha, jerk",
          "<b>Topic 12</b><br>Words: spamy, goddddddddddddddddddddddddddddddddddddddd, forgottable, jeeeesus, sark",
          "<b>Topic 12</b><br>Words: perseverence, hone, substantial, optimized, reskins",
          "<b>Topic 12</b><br>Words: lots, simpliest, definition, house, hidetaka",
          "<b>Topic 12</b><br>Words: levelup, brainlessly, das, varity, unavailable",
          "<b>Topic 12</b><br>Words: boss, bossessssss, lvling, porbably, sided",
          "<b>Topic 12</b><br>Words: boss, gamertm, bast, grandfather, rewards",
          "<b>Topic 12</b><br>Words: boss, booses, extend, shit, mob",
          "<b>Topic 12</b><br>Words: boss, sibling, loooooonnnngggggg, exporation, defeating",
          "<b>Topic 12</b><br>Words: codevein, tweezer, niho, pubes, adaptibilty",
          "<b>Topic 12</b><br>Words: isnt, monkie, inhumanely, lethal, losing",
          "<b>Topic 12</b><br>Words: indavidual, skp, terry, scumbag, testicle",
          "<b>Topic 12</b><br>Words: daughter, duo, slaughter, unacceptable, boss",
          "<b>Topic 12</b><br>Words: def, pikmin, le, boss, hearld",
          "<b>Topic 12</b><br>Words: pff, runbacks, crap, mentally, boss"
         ],
         "marker": {
          "color": "#0072B2"
         },
         "mode": "lines",
         "name": "12_boss_mob_boring_easy",
         "type": "scatter",
         "x": [
          "2015-03-29T07:51:40.752000",
          "2015-09-30T21:50:11.400000",
          "2016-03-30T20:28:43.800000",
          "2016-09-28T19:07:16.200000",
          "2017-03-29T17:45:48.600000",
          "2017-09-27T16:24:21",
          "2018-03-28T15:02:53.400000",
          "2019-03-27T12:19:58.200000",
          "2019-09-25T10:58:30.600000",
          "2020-03-25T09:37:03",
          "2020-09-23T08:15:35.400000",
          "2021-03-24T06:54:07.800000",
          "2021-09-22T05:32:40.200000",
          "2022-03-23T04:11:12.600000",
          "2022-09-21T02:49:45",
          "2023-03-22T01:28:17.400000",
          "2023-09-20T00:06:49.800000",
          "2024-03-19T22:45:22.200000",
          "2024-09-17T21:23:54.600000"
         ],
         "y": [
          5,
          6,
          2,
          6,
          3,
          7,
          3,
          9,
          8,
          20,
          20,
          21,
          25,
          8,
          9,
          14,
          10,
          18,
          18
         ]
        },
        {
         "hoverinfo": "text",
         "hovertext": [
          "<b>Topic 13</b><br>Words: fantasy, fun, ha, redubbed, popcorn",
          "<b>Topic 13</b><br>Words: magical, fun, ha, redubbed, popcorn",
          "<b>Topic 13</b><br>Words: fun, ha, redubbed, popcorn, fung",
          "<b>Topic 13</b><br>Words: haha, fun, ha, redubbed, fung",
          "<b>Topic 13</b><br>Words: fun, last, ha, fung, redubbed",
          "<b>Topic 13</b><br>Words: fun, redubbed, american, instruction, reskinned",
          "<b>Topic 13</b><br>Words: fun, ha, redubbed, popcorn, fung",
          "<b>Topic 13</b><br>Words: fun, sound, ha, redubbed, popcorn",
          "<b>Topic 13</b><br>Words: fun, funnn, honestly, beat, ha",
          "<b>Topic 13</b><br>Words: fun, ha, popcorn, food, boy",
          "<b>Topic 13</b><br>Words: fun, stuff, ha, redubbed, popcorn",
          "<b>Topic 13</b><br>Words: fun, fung, alot, promise, always",
          "<b>Topic 13</b><br>Words: fun, scary, ha, redubbed, popcorn",
          "<b>Topic 13</b><br>Words: fun, ha, redubbed, popcorn, fung",
          "<b>Topic 13</b><br>Words: fun, even, ha, redubbed, popcorn",
          "<b>Topic 13</b><br>Words: fun, ha, redubbed, popcorn, fung",
          "<b>Topic 13</b><br>Words: fun, abuse, without, ha, fung",
          "<b>Topic 13</b><br>Words: fun, geme, spambush, alot, hope",
          "<b>Topic 13</b><br>Words: fun, hehe, ha, redubbed, popcorn"
         ],
         "marker": {
          "color": "#CC79A7"
         },
         "mode": "lines",
         "name": "13_fun_ha_redubbed_popcorn",
         "type": "scatter",
         "x": [
          "2015-03-29T07:51:40.752000",
          "2015-09-30T21:50:11.400000",
          "2016-03-30T20:28:43.800000",
          "2016-09-28T19:07:16.200000",
          "2017-03-29T17:45:48.600000",
          "2017-09-27T16:24:21",
          "2018-09-26T13:41:25.800000",
          "2019-03-27T12:19:58.200000",
          "2019-09-25T10:58:30.600000",
          "2020-03-25T09:37:03",
          "2020-09-23T08:15:35.400000",
          "2021-03-24T06:54:07.800000",
          "2021-09-22T05:32:40.200000",
          "2022-03-23T04:11:12.600000",
          "2022-09-21T02:49:45",
          "2023-03-22T01:28:17.400000",
          "2023-09-20T00:06:49.800000",
          "2024-03-19T22:45:22.200000",
          "2024-09-17T21:23:54.600000"
         ],
         "y": [
          3,
          3,
          1,
          4,
          3,
          3,
          3,
          11,
          17,
          17,
          17,
          25,
          22,
          8,
          7,
          12,
          14,
          22,
          13
         ]
        },
        {
         "hoverinfo": "text",
         "hovertext": [
          "<b>Topic 14</b><br>Words: bad, wasnt, sorry, actually, meh",
          "<b>Topic 14</b><br>Words: bad, wasnt, sorry, actually, meh",
          "<b>Topic 14</b><br>Words: bad, wasnt, sorry, actually, meh",
          "<b>Topic 14</b><br>Words: bad, wasnt, sorry, actually, meh",
          "<b>Topic 14</b><br>Words: bad, wasnt, sorry, actually, meh",
          "<b>Topic 14</b><br>Words: bad, meh, wasnt, sorry, actually",
          "<b>Topic 14</b><br>Words: bad, wasnt, sorry, actually, meh",
          "<b>Topic 14</b><br>Words: bad, wasnt, sorry, actually, meh",
          "<b>Topic 14</b><br>Words: bad, wasnt, sorry, actually, meh",
          "<b>Topic 14</b><br>Words: bad, wasnt, sorry, actually, meh",
          "<b>Topic 14</b><br>Words: bad, wasnt, sorry, actually, meh",
          "<b>Topic 14</b><br>Words: bad, kinda, actually, wasnt, sorry",
          "<b>Topic 14</b><br>Words: bad, sorry, actually, wasnt, meh",
          "<b>Topic 14</b><br>Words: bad, actually, wasnt, sorry, meh",
          "<b>Topic 14</b><br>Words: bad, wasnt, sorry, actually, meh",
          "<b>Topic 14</b><br>Words: bad, wasnt, actually, sorry, meh",
          "<b>Topic 14</b><br>Words: bad, yeah, wasnt, sorry, actually"
         ],
         "marker": {
          "color": "#E69F00"
         },
         "mode": "lines",
         "name": "14_bad_wasnt_sorry_actually",
         "type": "scatter",
         "x": [
          "2015-03-29T07:51:40.752000",
          "2016-09-28T19:07:16.200000",
          "2017-03-29T17:45:48.600000",
          "2017-09-27T16:24:21",
          "2018-03-28T15:02:53.400000",
          "2019-03-27T12:19:58.200000",
          "2019-09-25T10:58:30.600000",
          "2020-03-25T09:37:03",
          "2020-09-23T08:15:35.400000",
          "2021-03-24T06:54:07.800000",
          "2021-09-22T05:32:40.200000",
          "2022-03-23T04:11:12.600000",
          "2022-09-21T02:49:45",
          "2023-03-22T01:28:17.400000",
          "2023-09-20T00:06:49.800000",
          "2024-03-19T22:45:22.200000",
          "2024-09-17T21:23:54.600000"
         ],
         "y": [
          1,
          1,
          1,
          2,
          3,
          6,
          8,
          14,
          13,
          33,
          24,
          18,
          9,
          18,
          7,
          27,
          16
         ]
        }
       ],
       "layout": {
        "height": 450,
        "hoverlabel": {
         "bgcolor": "white",
         "font": {
          "family": "Rockwell",
          "size": 16
         }
        },
        "legend": {
         "title": {
          "text": "<b>Global Topic Representation"
         }
        },
        "template": {
         "data": {
          "bar": [
           {
            "error_x": {
             "color": "rgb(36,36,36)"
            },
            "error_y": {
             "color": "rgb(36,36,36)"
            },
            "marker": {
             "line": {
              "color": "white",
              "width": 0.5
             },
             "pattern": {
              "fillmode": "overlay",
              "size": 10,
              "solidity": 0.2
             }
            },
            "type": "bar"
           }
          ],
          "barpolar": [
           {
            "marker": {
             "line": {
              "color": "white",
              "width": 0.5
             },
             "pattern": {
              "fillmode": "overlay",
              "size": 10,
              "solidity": 0.2
             }
            },
            "type": "barpolar"
           }
          ],
          "carpet": [
           {
            "aaxis": {
             "endlinecolor": "rgb(36,36,36)",
             "gridcolor": "white",
             "linecolor": "white",
             "minorgridcolor": "white",
             "startlinecolor": "rgb(36,36,36)"
            },
            "baxis": {
             "endlinecolor": "rgb(36,36,36)",
             "gridcolor": "white",
             "linecolor": "white",
             "minorgridcolor": "white",
             "startlinecolor": "rgb(36,36,36)"
            },
            "type": "carpet"
           }
          ],
          "choropleth": [
           {
            "colorbar": {
             "outlinewidth": 1,
             "tickcolor": "rgb(36,36,36)",
             "ticks": "outside"
            },
            "type": "choropleth"
           }
          ],
          "contour": [
           {
            "colorbar": {
             "outlinewidth": 1,
             "tickcolor": "rgb(36,36,36)",
             "ticks": "outside"
            },
            "colorscale": [
             [
              0,
              "#440154"
             ],
             [
              0.1111111111111111,
              "#482878"
             ],
             [
              0.2222222222222222,
              "#3e4989"
             ],
             [
              0.3333333333333333,
              "#31688e"
             ],
             [
              0.4444444444444444,
              "#26828e"
             ],
             [
              0.5555555555555556,
              "#1f9e89"
             ],
             [
              0.6666666666666666,
              "#35b779"
             ],
             [
              0.7777777777777778,
              "#6ece58"
             ],
             [
              0.8888888888888888,
              "#b5de2b"
             ],
             [
              1,
              "#fde725"
             ]
            ],
            "type": "contour"
           }
          ],
          "contourcarpet": [
           {
            "colorbar": {
             "outlinewidth": 1,
             "tickcolor": "rgb(36,36,36)",
             "ticks": "outside"
            },
            "type": "contourcarpet"
           }
          ],
          "heatmap": [
           {
            "colorbar": {
             "outlinewidth": 1,
             "tickcolor": "rgb(36,36,36)",
             "ticks": "outside"
            },
            "colorscale": [
             [
              0,
              "#440154"
             ],
             [
              0.1111111111111111,
              "#482878"
             ],
             [
              0.2222222222222222,
              "#3e4989"
             ],
             [
              0.3333333333333333,
              "#31688e"
             ],
             [
              0.4444444444444444,
              "#26828e"
             ],
             [
              0.5555555555555556,
              "#1f9e89"
             ],
             [
              0.6666666666666666,
              "#35b779"
             ],
             [
              0.7777777777777778,
              "#6ece58"
             ],
             [
              0.8888888888888888,
              "#b5de2b"
             ],
             [
              1,
              "#fde725"
             ]
            ],
            "type": "heatmap"
           }
          ],
          "heatmapgl": [
           {
            "colorbar": {
             "outlinewidth": 1,
             "tickcolor": "rgb(36,36,36)",
             "ticks": "outside"
            },
            "colorscale": [
             [
              0,
              "#440154"
             ],
             [
              0.1111111111111111,
              "#482878"
             ],
             [
              0.2222222222222222,
              "#3e4989"
             ],
             [
              0.3333333333333333,
              "#31688e"
             ],
             [
              0.4444444444444444,
              "#26828e"
             ],
             [
              0.5555555555555556,
              "#1f9e89"
             ],
             [
              0.6666666666666666,
              "#35b779"
             ],
             [
              0.7777777777777778,
              "#6ece58"
             ],
             [
              0.8888888888888888,
              "#b5de2b"
             ],
             [
              1,
              "#fde725"
             ]
            ],
            "type": "heatmapgl"
           }
          ],
          "histogram": [
           {
            "marker": {
             "line": {
              "color": "white",
              "width": 0.6
             }
            },
            "type": "histogram"
           }
          ],
          "histogram2d": [
           {
            "colorbar": {
             "outlinewidth": 1,
             "tickcolor": "rgb(36,36,36)",
             "ticks": "outside"
            },
            "colorscale": [
             [
              0,
              "#440154"
             ],
             [
              0.1111111111111111,
              "#482878"
             ],
             [
              0.2222222222222222,
              "#3e4989"
             ],
             [
              0.3333333333333333,
              "#31688e"
             ],
             [
              0.4444444444444444,
              "#26828e"
             ],
             [
              0.5555555555555556,
              "#1f9e89"
             ],
             [
              0.6666666666666666,
              "#35b779"
             ],
             [
              0.7777777777777778,
              "#6ece58"
             ],
             [
              0.8888888888888888,
              "#b5de2b"
             ],
             [
              1,
              "#fde725"
             ]
            ],
            "type": "histogram2d"
           }
          ],
          "histogram2dcontour": [
           {
            "colorbar": {
             "outlinewidth": 1,
             "tickcolor": "rgb(36,36,36)",
             "ticks": "outside"
            },
            "colorscale": [
             [
              0,
              "#440154"
             ],
             [
              0.1111111111111111,
              "#482878"
             ],
             [
              0.2222222222222222,
              "#3e4989"
             ],
             [
              0.3333333333333333,
              "#31688e"
             ],
             [
              0.4444444444444444,
              "#26828e"
             ],
             [
              0.5555555555555556,
              "#1f9e89"
             ],
             [
              0.6666666666666666,
              "#35b779"
             ],
             [
              0.7777777777777778,
              "#6ece58"
             ],
             [
              0.8888888888888888,
              "#b5de2b"
             ],
             [
              1,
              "#fde725"
             ]
            ],
            "type": "histogram2dcontour"
           }
          ],
          "mesh3d": [
           {
            "colorbar": {
             "outlinewidth": 1,
             "tickcolor": "rgb(36,36,36)",
             "ticks": "outside"
            },
            "type": "mesh3d"
           }
          ],
          "parcoords": [
           {
            "line": {
             "colorbar": {
              "outlinewidth": 1,
              "tickcolor": "rgb(36,36,36)",
              "ticks": "outside"
             }
            },
            "type": "parcoords"
           }
          ],
          "pie": [
           {
            "automargin": true,
            "type": "pie"
           }
          ],
          "scatter": [
           {
            "fillpattern": {
             "fillmode": "overlay",
             "size": 10,
             "solidity": 0.2
            },
            "type": "scatter"
           }
          ],
          "scatter3d": [
           {
            "line": {
             "colorbar": {
              "outlinewidth": 1,
              "tickcolor": "rgb(36,36,36)",
              "ticks": "outside"
             }
            },
            "marker": {
             "colorbar": {
              "outlinewidth": 1,
              "tickcolor": "rgb(36,36,36)",
              "ticks": "outside"
             }
            },
            "type": "scatter3d"
           }
          ],
          "scattercarpet": [
           {
            "marker": {
             "colorbar": {
              "outlinewidth": 1,
              "tickcolor": "rgb(36,36,36)",
              "ticks": "outside"
             }
            },
            "type": "scattercarpet"
           }
          ],
          "scattergeo": [
           {
            "marker": {
             "colorbar": {
              "outlinewidth": 1,
              "tickcolor": "rgb(36,36,36)",
              "ticks": "outside"
             }
            },
            "type": "scattergeo"
           }
          ],
          "scattergl": [
           {
            "marker": {
             "colorbar": {
              "outlinewidth": 1,
              "tickcolor": "rgb(36,36,36)",
              "ticks": "outside"
             }
            },
            "type": "scattergl"
           }
          ],
          "scattermapbox": [
           {
            "marker": {
             "colorbar": {
              "outlinewidth": 1,
              "tickcolor": "rgb(36,36,36)",
              "ticks": "outside"
             }
            },
            "type": "scattermapbox"
           }
          ],
          "scatterpolar": [
           {
            "marker": {
             "colorbar": {
              "outlinewidth": 1,
              "tickcolor": "rgb(36,36,36)",
              "ticks": "outside"
             }
            },
            "type": "scatterpolar"
           }
          ],
          "scatterpolargl": [
           {
            "marker": {
             "colorbar": {
              "outlinewidth": 1,
              "tickcolor": "rgb(36,36,36)",
              "ticks": "outside"
             }
            },
            "type": "scatterpolargl"
           }
          ],
          "scatterternary": [
           {
            "marker": {
             "colorbar": {
              "outlinewidth": 1,
              "tickcolor": "rgb(36,36,36)",
              "ticks": "outside"
             }
            },
            "type": "scatterternary"
           }
          ],
          "surface": [
           {
            "colorbar": {
             "outlinewidth": 1,
             "tickcolor": "rgb(36,36,36)",
             "ticks": "outside"
            },
            "colorscale": [
             [
              0,
              "#440154"
             ],
             [
              0.1111111111111111,
              "#482878"
             ],
             [
              0.2222222222222222,
              "#3e4989"
             ],
             [
              0.3333333333333333,
              "#31688e"
             ],
             [
              0.4444444444444444,
              "#26828e"
             ],
             [
              0.5555555555555556,
              "#1f9e89"
             ],
             [
              0.6666666666666666,
              "#35b779"
             ],
             [
              0.7777777777777778,
              "#6ece58"
             ],
             [
              0.8888888888888888,
              "#b5de2b"
             ],
             [
              1,
              "#fde725"
             ]
            ],
            "type": "surface"
           }
          ],
          "table": [
           {
            "cells": {
             "fill": {
              "color": "rgb(237,237,237)"
             },
             "line": {
              "color": "white"
             }
            },
            "header": {
             "fill": {
              "color": "rgb(217,217,217)"
             },
             "line": {
              "color": "white"
             }
            },
            "type": "table"
           }
          ]
         },
         "layout": {
          "annotationdefaults": {
           "arrowhead": 0,
           "arrowwidth": 1
          },
          "autotypenumbers": "strict",
          "coloraxis": {
           "colorbar": {
            "outlinewidth": 1,
            "tickcolor": "rgb(36,36,36)",
            "ticks": "outside"
           }
          },
          "colorscale": {
           "diverging": [
            [
             0,
             "rgb(103,0,31)"
            ],
            [
             0.1,
             "rgb(178,24,43)"
            ],
            [
             0.2,
             "rgb(214,96,77)"
            ],
            [
             0.3,
             "rgb(244,165,130)"
            ],
            [
             0.4,
             "rgb(253,219,199)"
            ],
            [
             0.5,
             "rgb(247,247,247)"
            ],
            [
             0.6,
             "rgb(209,229,240)"
            ],
            [
             0.7,
             "rgb(146,197,222)"
            ],
            [
             0.8,
             "rgb(67,147,195)"
            ],
            [
             0.9,
             "rgb(33,102,172)"
            ],
            [
             1,
             "rgb(5,48,97)"
            ]
           ],
           "sequential": [
            [
             0,
             "#440154"
            ],
            [
             0.1111111111111111,
             "#482878"
            ],
            [
             0.2222222222222222,
             "#3e4989"
            ],
            [
             0.3333333333333333,
             "#31688e"
            ],
            [
             0.4444444444444444,
             "#26828e"
            ],
            [
             0.5555555555555556,
             "#1f9e89"
            ],
            [
             0.6666666666666666,
             "#35b779"
            ],
            [
             0.7777777777777778,
             "#6ece58"
            ],
            [
             0.8888888888888888,
             "#b5de2b"
            ],
            [
             1,
             "#fde725"
            ]
           ],
           "sequentialminus": [
            [
             0,
             "#440154"
            ],
            [
             0.1111111111111111,
             "#482878"
            ],
            [
             0.2222222222222222,
             "#3e4989"
            ],
            [
             0.3333333333333333,
             "#31688e"
            ],
            [
             0.4444444444444444,
             "#26828e"
            ],
            [
             0.5555555555555556,
             "#1f9e89"
            ],
            [
             0.6666666666666666,
             "#35b779"
            ],
            [
             0.7777777777777778,
             "#6ece58"
            ],
            [
             0.8888888888888888,
             "#b5de2b"
            ],
            [
             1,
             "#fde725"
            ]
           ]
          },
          "colorway": [
           "#1F77B4",
           "#FF7F0E",
           "#2CA02C",
           "#D62728",
           "#9467BD",
           "#8C564B",
           "#E377C2",
           "#7F7F7F",
           "#BCBD22",
           "#17BECF"
          ],
          "font": {
           "color": "rgb(36,36,36)"
          },
          "geo": {
           "bgcolor": "white",
           "lakecolor": "white",
           "landcolor": "white",
           "showlakes": true,
           "showland": true,
           "subunitcolor": "white"
          },
          "hoverlabel": {
           "align": "left"
          },
          "hovermode": "closest",
          "mapbox": {
           "style": "light"
          },
          "paper_bgcolor": "white",
          "plot_bgcolor": "white",
          "polar": {
           "angularaxis": {
            "gridcolor": "rgb(232,232,232)",
            "linecolor": "rgb(36,36,36)",
            "showgrid": false,
            "showline": true,
            "ticks": "outside"
           },
           "bgcolor": "white",
           "radialaxis": {
            "gridcolor": "rgb(232,232,232)",
            "linecolor": "rgb(36,36,36)",
            "showgrid": false,
            "showline": true,
            "ticks": "outside"
           }
          },
          "scene": {
           "xaxis": {
            "backgroundcolor": "white",
            "gridcolor": "rgb(232,232,232)",
            "gridwidth": 2,
            "linecolor": "rgb(36,36,36)",
            "showbackground": true,
            "showgrid": false,
            "showline": true,
            "ticks": "outside",
            "zeroline": false,
            "zerolinecolor": "rgb(36,36,36)"
           },
           "yaxis": {
            "backgroundcolor": "white",
            "gridcolor": "rgb(232,232,232)",
            "gridwidth": 2,
            "linecolor": "rgb(36,36,36)",
            "showbackground": true,
            "showgrid": false,
            "showline": true,
            "ticks": "outside",
            "zeroline": false,
            "zerolinecolor": "rgb(36,36,36)"
           },
           "zaxis": {
            "backgroundcolor": "white",
            "gridcolor": "rgb(232,232,232)",
            "gridwidth": 2,
            "linecolor": "rgb(36,36,36)",
            "showbackground": true,
            "showgrid": false,
            "showline": true,
            "ticks": "outside",
            "zeroline": false,
            "zerolinecolor": "rgb(36,36,36)"
           }
          },
          "shapedefaults": {
           "fillcolor": "black",
           "line": {
            "width": 0
           },
           "opacity": 0.3
          },
          "ternary": {
           "aaxis": {
            "gridcolor": "rgb(232,232,232)",
            "linecolor": "rgb(36,36,36)",
            "showgrid": false,
            "showline": true,
            "ticks": "outside"
           },
           "baxis": {
            "gridcolor": "rgb(232,232,232)",
            "linecolor": "rgb(36,36,36)",
            "showgrid": false,
            "showline": true,
            "ticks": "outside"
           },
           "bgcolor": "white",
           "caxis": {
            "gridcolor": "rgb(232,232,232)",
            "linecolor": "rgb(36,36,36)",
            "showgrid": false,
            "showline": true,
            "ticks": "outside"
           }
          },
          "title": {
           "x": 0.05
          },
          "xaxis": {
           "automargin": true,
           "gridcolor": "rgb(232,232,232)",
           "linecolor": "rgb(36,36,36)",
           "showgrid": false,
           "showline": true,
           "ticks": "outside",
           "title": {
            "standoff": 15
           },
           "zeroline": false,
           "zerolinecolor": "rgb(36,36,36)"
          },
          "yaxis": {
           "automargin": true,
           "gridcolor": "rgb(232,232,232)",
           "linecolor": "rgb(36,36,36)",
           "showgrid": false,
           "showline": true,
           "ticks": "outside",
           "title": {
            "standoff": 15
           },
           "zeroline": false,
           "zerolinecolor": "rgb(36,36,36)"
          }
         }
        },
        "title": {
         "font": {
          "color": "Black",
          "size": 22
         },
         "text": "<b>Topics over Time</b>",
         "x": 0.4,
         "xanchor": "center",
         "y": 0.95,
         "yanchor": "top"
        },
        "width": 1250,
        "xaxis": {
         "showgrid": true
        },
        "yaxis": {
         "showgrid": true,
         "title": {
          "text": "Frequency"
         }
        }
       }
      }
     },
     "metadata": {},
     "output_type": "display_data"
    }
   ],
   "source": [
    "topic_model.visualize_topics_over_time(topics_over_time, top_n_topics=15)"
   ]
  },
  {
   "cell_type": "markdown",
   "metadata": {},
   "source": [
    "### Positive reviews:"
   ]
  },
  {
   "cell_type": "code",
   "execution_count": 11,
   "metadata": {},
   "outputs": [],
   "source": [
    "pos_model = BERTopic.load(\"models/bertopic_pos_model\")"
   ]
  },
  {
   "cell_type": "code",
   "execution_count": 12,
   "metadata": {},
   "outputs": [
    {
     "name": "stderr",
     "output_type": "stream",
     "text": [
      "20it [00:14,  1.39it/s]\n"
     ]
    }
   ],
   "source": [
    "pos_topics_over_time = pos_model.topics_over_time(pos_docs, pos_timestamps, nr_bins=20)"
   ]
  },
  {
   "cell_type": "code",
   "execution_count": 13,
   "metadata": {},
   "outputs": [
    {
     "data": {
      "application/vnd.plotly.v1+json": {
       "config": {
        "plotlyServerURL": "https://plot.ly"
       },
       "data": [
        {
         "hoverinfo": "text",
         "hovertext": [
          "<b>Topic 0</b><br>Words: show, till, as, even, ",
          "<b>Topic 0</b><br>Words: show, till, as, even, ",
          "<b>Topic 0</b><br>Words: show, till, as, even, ",
          "<b>Topic 0</b><br>Words: show, till, as, even, ",
          "<b>Topic 0</b><br>Words: show, till, as, even, ",
          "<b>Topic 0</b><br>Words: show, till, as, even, ",
          "<b>Topic 0</b><br>Words: show, till, as, even, ",
          "<b>Topic 0</b><br>Words: show, till, as, even, ",
          "<b>Topic 0</b><br>Words: show, till, as, even, ",
          "<b>Topic 0</b><br>Words: even, show, till, as, ",
          "<b>Topic 0</b><br>Words: show, till, as, even, ",
          "<b>Topic 0</b><br>Words: as, show, till, even, ",
          "<b>Topic 0</b><br>Words: show, till, as, even, ",
          "<b>Topic 0</b><br>Words: show, till, as, even, ",
          "<b>Topic 0</b><br>Words: show, till, as, even, ",
          "<b>Topic 0</b><br>Words: show, till, as, even, ",
          "<b>Topic 0</b><br>Words: show, till, as, even, ",
          "<b>Topic 0</b><br>Words: show, till, as, even, ",
          "<b>Topic 0</b><br>Words: till, show, as, even, ",
          "<b>Topic 0</b><br>Words: show, till, as, even, "
         ],
         "marker": {
          "color": "#E69F00"
         },
         "mode": "lines",
         "name": "0_show_till_as_even",
         "type": "scatter",
         "x": [
          "2015-03-29T07:51:40.752000",
          "2015-09-30T21:50:11.400000",
          "2016-03-30T20:28:43.800000",
          "2016-09-28T19:07:16.200000",
          "2017-03-29T17:45:48.600000",
          "2017-09-27T16:24:21",
          "2018-03-28T15:02:53.400000",
          "2018-09-26T13:41:25.800000",
          "2019-03-27T12:19:58.200000",
          "2019-09-25T10:58:30.600000",
          "2020-03-25T09:37:03",
          "2020-09-23T08:15:35.400000",
          "2021-03-24T06:54:07.800000",
          "2021-09-22T05:32:40.200000",
          "2022-03-23T04:11:12.600000",
          "2022-09-21T02:49:45",
          "2023-03-22T01:28:17.400000",
          "2023-09-20T00:06:49.800000",
          "2024-03-19T22:45:22.200000",
          "2024-09-17T21:23:54.600000"
         ],
         "y": [
          33,
          27,
          12,
          26,
          12,
          18,
          14,
          23,
          30,
          68,
          88,
          89,
          114,
          128,
          70,
          96,
          80,
          103,
          110,
          112
         ]
        },
        {
         "hoverinfo": "text",
         "hovertext": [
          "<b>Topic 1</b><br>Words: good, uwu, mm, ahh, af",
          "<b>Topic 1</b><br>Words: good, uwu, mm, ahh, af",
          "<b>Topic 1</b><br>Words: good, uwu, mm, ahh, af",
          "<b>Topic 1</b><br>Words: good, uwu, mm, ahh, af",
          "<b>Topic 1</b><br>Words: good, uwu, mm, ahh, af",
          "<b>Topic 1</b><br>Words: good, uwu, mm, ahh, af",
          "<b>Topic 1</b><br>Words: good, man, uwu, mm, ahh",
          "<b>Topic 1</b><br>Words: good, uwu, mm, ahh, af",
          "<b>Topic 1</b><br>Words: good, uwu, mm, ahh, af",
          "<b>Topic 1</b><br>Words: good, uwu, mm, ahh, af",
          "<b>Topic 1</b><br>Words: good, mm, lol, dks, uwu",
          "<b>Topic 1</b><br>Words: good, uwu, mm, ahh, af",
          "<b>Topic 1</b><br>Words: good, thats, uwu, mm, ahh",
          "<b>Topic 1</b><br>Words: good, uwu, mm, ahh, also",
          "<b>Topic 1</b><br>Words: good, ahh, please, uwu, mm",
          "<b>Topic 1</b><br>Words: good, uwu, mm, ahh, af",
          "<b>Topic 1</b><br>Words: good, uwu, mm, ahh, af",
          "<b>Topic 1</b><br>Words: good, af, hat, uwu, mm",
          "<b>Topic 1</b><br>Words: good, uwu, mm, ahh, af",
          "<b>Topic 1</b><br>Words: good, uwu, mm, ahh, af"
         ],
         "marker": {
          "color": "#56B4E9"
         },
         "mode": "lines",
         "name": "1_good_uwu_mm_ahh",
         "type": "scatter",
         "x": [
          "2015-03-29T07:51:40.752000",
          "2015-09-30T21:50:11.400000",
          "2016-03-30T20:28:43.800000",
          "2016-09-28T19:07:16.200000",
          "2017-03-29T17:45:48.600000",
          "2017-09-27T16:24:21",
          "2018-03-28T15:02:53.400000",
          "2018-09-26T13:41:25.800000",
          "2019-03-27T12:19:58.200000",
          "2019-09-25T10:58:30.600000",
          "2020-03-25T09:37:03",
          "2020-09-23T08:15:35.400000",
          "2021-03-24T06:54:07.800000",
          "2021-09-22T05:32:40.200000",
          "2022-03-23T04:11:12.600000",
          "2022-09-21T02:49:45",
          "2023-03-22T01:28:17.400000",
          "2023-09-20T00:06:49.800000",
          "2024-03-19T22:45:22.200000",
          "2024-09-17T21:23:54.600000"
         ],
         "y": [
          10,
          13,
          13,
          14,
          24,
          21,
          10,
          20,
          39,
          75,
          91,
          80,
          85,
          108,
          54,
          64,
          63,
          55,
          80,
          86
         ]
        },
        {
         "hoverinfo": "text",
         "hovertext": [
          "<b>Topic 2</b><br>Words: dx, new, change, version, heide",
          "<b>Topic 2</b><br>Words: dsi, player, help, attack, enemy",
          "<b>Topic 2</b><br>Words: katana, havel, chaos, ice, wich",
          "<b>Topic 2</b><br>Words: dks, bonfire, system, level, heh",
          "<b>Topic 2</b><br>Words: fight, weapon, player, find, bos",
          "<b>Topic 2</b><br>Words: player, area, weapon, certain, enemy",
          "<b>Topic 2</b><br>Words: roll, area, player, dragon, sm",
          "<b>Topic 2</b><br>Words: attack, player, damage, area, enemy",
          "<b>Topic 2</b><br>Words: nigga, moonlight, uh, spotlight, trippin",
          "<b>Topic 2</b><br>Words: bean, attack, area, estus, enemy",
          "<b>Topic 2</b><br>Words: area, attack, player, enemy, weapon",
          "<b>Topic 2</b><br>Words: tyrit, th, weapon, area, enemy",
          "<b>Topic 2</b><br>Words: heal, area, use, weapon, movement",
          "<b>Topic 2</b><br>Words: area, fight, attack, enemy, roll",
          "<b>Topic 2</b><br>Words: attack, fight, enemy, lothian, axe",
          "<b>Topic 2</b><br>Words: onnnnnnnfromsoft, server, turn, area, level",
          "<b>Topic 2</b><br>Words: bos, king, fight, mark, area",
          "<b>Topic 2</b><br>Words: td, dementia, attack, bos, player",
          "<b>Topic 2</b><br>Words: bos, player, area, enemy, fight",
          "<b>Topic 2</b><br>Words: spoiler, enemy, area, world, feel"
         ],
         "marker": {
          "color": "#009E73"
         },
         "mode": "lines",
         "name": "2_area_enemy_attack_player",
         "type": "scatter",
         "x": [
          "2015-03-29T07:51:40.752000",
          "2015-09-30T21:50:11.400000",
          "2016-03-30T20:28:43.800000",
          "2016-09-28T19:07:16.200000",
          "2017-03-29T17:45:48.600000",
          "2017-09-27T16:24:21",
          "2018-03-28T15:02:53.400000",
          "2018-09-26T13:41:25.800000",
          "2019-03-27T12:19:58.200000",
          "2019-09-25T10:58:30.600000",
          "2020-03-25T09:37:03",
          "2020-09-23T08:15:35.400000",
          "2021-03-24T06:54:07.800000",
          "2021-09-22T05:32:40.200000",
          "2022-03-23T04:11:12.600000",
          "2022-09-21T02:49:45",
          "2023-03-22T01:28:17.400000",
          "2023-09-20T00:06:49.800000",
          "2024-03-19T22:45:22.200000",
          "2024-09-17T21:23:54.600000"
         ],
         "y": [
          56,
          38,
          37,
          30,
          39,
          40,
          21,
          27,
          29,
          29,
          40,
          53,
          44,
          52,
          30,
          39,
          39,
          50,
          56,
          74
         ]
        },
        {
         "hoverinfo": "text",
         "hovertext": [
          "<b>Topic 3</b><br>Words: yes, yesn, yessir, bro, sir",
          "<b>Topic 3</b><br>Words: yes, yesn, yessir, bro, sir",
          "<b>Topic 3</b><br>Words: yes, yesn, yessir, bro, sir",
          "<b>Topic 3</b><br>Words: yes, yesn, yessir, bro, sir",
          "<b>Topic 3</b><br>Words: yes, yesn, yessir, bro, sir",
          "<b>Topic 3</b><br>Words: yes, yesn, yessir, bro, sir",
          "<b>Topic 3</b><br>Words: yes, yesn, yessir, bro, sir",
          "<b>Topic 3</b><br>Words: yes, yesn, yessir, bro, sir",
          "<b>Topic 3</b><br>Words: yes, yesn, yessir, bro, sir",
          "<b>Topic 3</b><br>Words: yes, yesn, yessir, bro, sir",
          "<b>Topic 3</b><br>Words: yes, yesn, yessir, bro, sir",
          "<b>Topic 3</b><br>Words: yes, yesn, yessir, bro, sir",
          "<b>Topic 3</b><br>Words: yes, bro, sir, yesn, yessir",
          "<b>Topic 3</b><br>Words: yes, yesn, yessir, bro, sir",
          "<b>Topic 3</b><br>Words: yes, yesn, yessir, bro, sir",
          "<b>Topic 3</b><br>Words: yes, yesn, yessir, bro, sir",
          "<b>Topic 3</b><br>Words: yes, yessir, yesn, bro, sir",
          "<b>Topic 3</b><br>Words: yes, yesn, yessir, bro, sir",
          "<b>Topic 3</b><br>Words: yes, yesn, yessir, bro, sir"
         ],
         "marker": {
          "color": "#F0E442"
         },
         "mode": "lines",
         "name": "3_yes_yesn_yessir_bro",
         "type": "scatter",
         "x": [
          "2015-03-29T07:51:40.752000",
          "2015-09-30T21:50:11.400000",
          "2016-03-30T20:28:43.800000",
          "2016-09-28T19:07:16.200000",
          "2017-09-27T16:24:21",
          "2018-03-28T15:02:53.400000",
          "2018-09-26T13:41:25.800000",
          "2019-03-27T12:19:58.200000",
          "2019-09-25T10:58:30.600000",
          "2020-03-25T09:37:03",
          "2020-09-23T08:15:35.400000",
          "2021-03-24T06:54:07.800000",
          "2021-09-22T05:32:40.200000",
          "2022-03-23T04:11:12.600000",
          "2022-09-21T02:49:45",
          "2023-03-22T01:28:17.400000",
          "2023-09-20T00:06:49.800000",
          "2024-03-19T22:45:22.200000",
          "2024-09-17T21:23:54.600000"
         ],
         "y": [
          4,
          4,
          1,
          4,
          2,
          1,
          4,
          6,
          32,
          48,
          40,
          35,
          37,
          27,
          19,
          13,
          16,
          19,
          18
         ]
        },
        {
         "hoverinfo": "text",
         "hovertext": [
          "<b>Topic 4</b><br>Words: controller, keyboard, mouse, control, xbox",
          "<b>Topic 4</b><br>Words: controller, keyboard, mouse, control, xbox",
          "<b>Topic 4</b><br>Words: keyboard, controller, mouse, click, control",
          "<b>Topic 4</b><br>Words: controller, keyboard, mouse, bubble, wrap",
          "<b>Topic 4</b><br>Words: controller, keyboard, mouse, window, cable",
          "<b>Topic 4</b><br>Words: controller, keyboard, kb, mouse, control",
          "<b>Topic 4</b><br>Words: mouse, sensitivity, interface, prompt, binding",
          "<b>Topic 4</b><br>Words: controller, keyboard, playstation, fckng, keybinddings",
          "<b>Topic 4</b><br>Words: controller, keyboard, mouse, control, bind",
          "<b>Topic 4</b><br>Words: controller, keyboard, control, mouse, default",
          "<b>Topic 4</b><br>Words: controller, keyboard, mouse, control, key",
          "<b>Topic 4</b><br>Words: keyboard, mouse, controller, control, click",
          "<b>Topic 4</b><br>Words: controller, keyboard, mouse, unequip, control",
          "<b>Topic 4</b><br>Words: mouse, keyboard, controller, control, key",
          "<b>Topic 4</b><br>Words: controller, keyboard, mouse, control, bind",
          "<b>Topic 4</b><br>Words: keyboard, controller, mouse, click, disable",
          "<b>Topic 4</b><br>Words: controller, mouse, control, keyboard, goodie",
          "<b>Topic 4</b><br>Words: controller, keyboard, remap, mouse, bind",
          "<b>Topic 4</b><br>Words: click, controller, keyboard, mouse, control",
          "<b>Topic 4</b><br>Words: controller, keyboard, mouse, miyuzaki, control"
         ],
         "marker": {
          "color": "#D55E00"
         },
         "mode": "lines",
         "name": "4_controller_keyboard_mouse_control",
         "type": "scatter",
         "x": [
          "2015-03-29T07:51:40.752000",
          "2015-09-30T21:50:11.400000",
          "2016-03-30T20:28:43.800000",
          "2016-09-28T19:07:16.200000",
          "2017-03-29T17:45:48.600000",
          "2017-09-27T16:24:21",
          "2018-03-28T15:02:53.400000",
          "2018-09-26T13:41:25.800000",
          "2019-03-27T12:19:58.200000",
          "2019-09-25T10:58:30.600000",
          "2020-03-25T09:37:03",
          "2020-09-23T08:15:35.400000",
          "2021-03-24T06:54:07.800000",
          "2021-09-22T05:32:40.200000",
          "2022-03-23T04:11:12.600000",
          "2022-09-21T02:49:45",
          "2023-03-22T01:28:17.400000",
          "2023-09-20T00:06:49.800000",
          "2024-03-19T22:45:22.200000",
          "2024-09-17T21:23:54.600000"
         ],
         "y": [
          24,
          30,
          18,
          19,
          17,
          18,
          1,
          7,
          15,
          15,
          25,
          18,
          25,
          18,
          17,
          11,
          10,
          14,
          13,
          14
         ]
        },
        {
         "hoverinfo": "text",
         "hovertext": [
          "<b>Topic 5</b><br>Words: best, ah, successful, btw, lol",
          "<b>Topic 5</b><br>Words: best, ah, successful, btw, lol",
          "<b>Topic 5</b><br>Words: best, lol, ah, successful, btw",
          "<b>Topic 5</b><br>Words: best, ah, successful, btw, lol",
          "<b>Topic 5</b><br>Words: best, ah, successful, btw, lol",
          "<b>Topic 5</b><br>Words: best, ah, successful, btw, lol",
          "<b>Topic 5</b><br>Words: best, ah, successful, btw, lol",
          "<b>Topic 5</b><br>Words: best, btw, ah, successful, lol",
          "<b>Topic 5</b><br>Words: best, successful, ah, btw, lol",
          "<b>Topic 5</b><br>Words: best, ah, successful, btw, lol",
          "<b>Topic 5</b><br>Words: best, ah, successful, btw, lol",
          "<b>Topic 5</b><br>Words: best, ah, successful, btw, lol",
          "<b>Topic 5</b><br>Words: best, ah, successful, btw, lol",
          "<b>Topic 5</b><br>Words: best, ah, successful, btw, lol",
          "<b>Topic 5</b><br>Words: best, ah, fuck, yes, successful",
          "<b>Topic 5</b><br>Words: best, ah, successful, btw, lol",
          "<b>Topic 5</b><br>Words: best, ah, successful, btw, lol",
          "<b>Topic 5</b><br>Words: best, ah, successful, btw, lol"
         ],
         "marker": {
          "color": "#0072B2"
         },
         "mode": "lines",
         "name": "5_best_ah_successful_btw",
         "type": "scatter",
         "x": [
          "2015-03-29T07:51:40.752000",
          "2015-09-30T21:50:11.400000",
          "2016-09-28T19:07:16.200000",
          "2017-03-29T17:45:48.600000",
          "2017-09-27T16:24:21",
          "2018-09-26T13:41:25.800000",
          "2019-03-27T12:19:58.200000",
          "2019-09-25T10:58:30.600000",
          "2020-03-25T09:37:03",
          "2020-09-23T08:15:35.400000",
          "2021-03-24T06:54:07.800000",
          "2021-09-22T05:32:40.200000",
          "2022-03-23T04:11:12.600000",
          "2022-09-21T02:49:45",
          "2023-03-22T01:28:17.400000",
          "2023-09-20T00:06:49.800000",
          "2024-03-19T22:45:22.200000",
          "2024-09-17T21:23:54.600000"
         ],
         "y": [
          1,
          2,
          2,
          3,
          4,
          6,
          11,
          19,
          21,
          16,
          23,
          34,
          29,
          23,
          30,
          23,
          40,
          26
         ]
        },
        {
         "hoverinfo": "text",
         "hovertext": [
          "<b>Topic 6</b><br>Words: ncia, que, jogo, minhas, de",
          "<b>Topic 6</b><br>Words: el, que, jogo, horas, esta",
          "<b>Topic 6</b><br>Words: que, vez, mucho, de, el",
          "<b>Topic 6</b><br>Words: de, el, que, en, la",
          "<b>Topic 6</b><br>Words: la, que, de, termina, primer",
          "<b>Topic 6</b><br>Words: que, la, el, para, lo",
          "<b>Topic 6</b><br>Words: quero, jogaaaaaaaaaaa, controle, para, de",
          "<b>Topic 6</b><br>Words: el, rango, tanti, totales, favorita",
          "<b>Topic 6</b><br>Words: della, jogar, para, serie, livello",
          "<b>Topic 6</b><br>Words: que, de, pero, juegazo, jogo",
          "<b>Topic 6</b><br>Words: jogo, um, melhor, muy, mto",
          "<b>Topic 6</b><br>Words: novo, de, que, jogo, um",
          "<b>Topic 6</b><br>Words: el, que, jogo, de, juego",
          "<b>Topic 6</b><br>Words: de, que, jogo, um, mais",
          "<b>Topic 6</b><br>Words: jogo, melhor, feo, juego, de",
          "<b>Topic 6</b><br>Words: que, de, el, pra, jogo",
          "<b>Topic 6</b><br>Words: de, mejor, que, el, la",
          "<b>Topic 6</b><br>Words: te, amo, odeio, que, de",
          "<b>Topic 6</b><br>Words: de, que, juego, la, et",
          "<b>Topic 6</b><br>Words: que, de, jogo, la, el"
         ],
         "marker": {
          "color": "#CC79A7"
         },
         "mode": "lines",
         "name": "6_de_que_el_jogo",
         "type": "scatter",
         "x": [
          "2015-03-29T07:51:40.752000",
          "2015-09-30T21:50:11.400000",
          "2016-03-30T20:28:43.800000",
          "2016-09-28T19:07:16.200000",
          "2017-03-29T17:45:48.600000",
          "2017-09-27T16:24:21",
          "2018-03-28T15:02:53.400000",
          "2018-09-26T13:41:25.800000",
          "2019-03-27T12:19:58.200000",
          "2019-09-25T10:58:30.600000",
          "2020-03-25T09:37:03",
          "2020-09-23T08:15:35.400000",
          "2021-03-24T06:54:07.800000",
          "2021-09-22T05:32:40.200000",
          "2022-03-23T04:11:12.600000",
          "2022-09-21T02:49:45",
          "2023-03-22T01:28:17.400000",
          "2023-09-20T00:06:49.800000",
          "2024-03-19T22:45:22.200000",
          "2024-09-17T21:23:54.600000"
         ],
         "y": [
          3,
          3,
          4,
          6,
          4,
          4,
          1,
          5,
          4,
          21,
          17,
          28,
          22,
          21,
          9,
          17,
          26,
          26,
          23,
          42
         ]
        },
        {
         "hoverinfo": "text",
         "hovertext": [
          "<b>Topic 7</b><br>Words: great, excellent, greattttt, greatttttt, wwwww",
          "<b>Topic 7</b><br>Words: great, excellent, greattttt, greatttttt, wwwww",
          "<b>Topic 7</b><br>Words: great, excellent, greattttt, greatttttt, wwwww",
          "<b>Topic 7</b><br>Words: great, excellent, greattttt, greatttttt, wwwww",
          "<b>Topic 7</b><br>Words: great, excellent, greattttt, greatttttt, wwwww",
          "<b>Topic 7</b><br>Words: great, excellent, greattttt, greatttttt, wwwww",
          "<b>Topic 7</b><br>Words: great, excellent, greattttt, greatttttt, wwwww",
          "<b>Topic 7</b><br>Words: great, excellent, greattttt, greatttttt, wwwww",
          "<b>Topic 7</b><br>Words: great, excellent, greattttt, greatttttt, wwwww",
          "<b>Topic 7</b><br>Words: great, greatttttt, excellent, greattttt, wwwww",
          "<b>Topic 7</b><br>Words: great, greattttt, excellent, everyone, greatttttt",
          "<b>Topic 7</b><br>Words: great, wwwww, excellent, greattttt, greatttttt",
          "<b>Topic 7</b><br>Words: great, fking, excellent, greattttt, greatttttt",
          "<b>Topic 7</b><br>Words: great, excellent, greattttt, greatttttt, wwwww",
          "<b>Topic 7</b><br>Words: great, excellent, greattttt, greatttttt, wwwww",
          "<b>Topic 7</b><br>Words: great, bruh, excellent, greattttt, greatttttt",
          "<b>Topic 7</b><br>Words: great, excellent, greattttt, greatttttt, wwwww",
          "<b>Topic 7</b><br>Words: great, excellent, greattttt, greatttttt, wwwww",
          "<b>Topic 7</b><br>Words: great, excellent, wonderful, greattttt, greatttttt",
          "<b>Topic 7</b><br>Words: great, excellent, greattttt, greatttttt, wwwww"
         ],
         "marker": {
          "color": "#E69F00"
         },
         "mode": "lines",
         "name": "7_great_excellent_wwwww_greatttttt",
         "type": "scatter",
         "x": [
          "2015-03-29T07:51:40.752000",
          "2015-09-30T21:50:11.400000",
          "2016-03-30T20:28:43.800000",
          "2016-09-28T19:07:16.200000",
          "2017-03-29T17:45:48.600000",
          "2017-09-27T16:24:21",
          "2018-03-28T15:02:53.400000",
          "2018-09-26T13:41:25.800000",
          "2019-03-27T12:19:58.200000",
          "2019-09-25T10:58:30.600000",
          "2020-03-25T09:37:03",
          "2020-09-23T08:15:35.400000",
          "2021-03-24T06:54:07.800000",
          "2021-09-22T05:32:40.200000",
          "2022-03-23T04:11:12.600000",
          "2022-09-21T02:49:45",
          "2023-03-22T01:28:17.400000",
          "2023-09-20T00:06:49.800000",
          "2024-03-19T22:45:22.200000",
          "2024-09-17T21:23:54.600000"
         ],
         "y": [
          7,
          10,
          3,
          6,
          8,
          6,
          4,
          3,
          14,
          17,
          25,
          15,
          19,
          20,
          12,
          12,
          10,
          16,
          10,
          11
         ]
        },
        {
         "hoverinfo": "text",
         "hovertext": [
          "<b>Topic 8</b><br>Words: ets, gud, yeh, tldr, rad",
          "<b>Topic 8</b><br>Words: gud, rad, vry, orb, crack",
          "<b>Topic 8</b><br>Words: gud, frigin, ard, crappier, pre",
          "<b>Topic 8</b><br>Words: gud, ju, gd, purty, damn",
          "<b>Topic 8</b><br>Words: gud, guld, preety, amirite, actually",
          "<b>Topic 8</b><br>Words: gud, cuphead, journalist, geim, ocean",
          "<b>Topic 8</b><br>Words: gud, noice, ye, na, rad",
          "<b>Topic 8</b><br>Words: gud, gucci, wud, iz, lol",
          "<b>Topic 8</b><br>Words: gud, sunnnnnnnnnnnnnnnnnnnnnnnnnnnnnnnnnnnnnnnnnnnnnnnnnnnnnnnnnnnnnnnnnnnnnnnnnnnnnnnnnnnnnnnnnnnnnnnnnnnnnnnnnnnnnnnnnnnnnnnnnnnnnnnnnn, ppppppraiseeee, neckbeards, wat",
          "<b>Topic 8</b><br>Words: gud, rada, gucci, gude, guwd",
          "<b>Topic 8</b><br>Words: gud, itsok, pley, lief, gueass",
          "<b>Topic 8</b><br>Words: gud, ehhhhhhh, ggod, wheilsh, guds",
          "<b>Topic 8</b><br>Words: gud, whered, son, among, damn",
          "<b>Topic 8</b><br>Words: gud, ga, retard, gem, believe",
          "<b>Topic 8</b><br>Words: gud, offline, hat, yes, rad",
          "<b>Topic 8</b><br>Words: gud, donut, iit, izz, bary",
          "<b>Topic 8</b><br>Words: gud, rad, gurb, gude, ppl",
          "<b>Topic 8</b><br>Words: gud, womp, justds, nd, gem",
          "<b>Topic 8</b><br>Words: gud, fokin, hard, rad, rada"
         ],
         "marker": {
          "color": "#56B4E9"
         },
         "mode": "lines",
         "name": "8_gud_rad_rada_gude",
         "type": "scatter",
         "x": [
          "2015-03-29T07:51:40.752000",
          "2015-09-30T21:50:11.400000",
          "2016-03-30T20:28:43.800000",
          "2016-09-28T19:07:16.200000",
          "2017-03-29T17:45:48.600000",
          "2017-09-27T16:24:21",
          "2018-09-26T13:41:25.800000",
          "2019-03-27T12:19:58.200000",
          "2019-09-25T10:58:30.600000",
          "2020-03-25T09:37:03",
          "2020-09-23T08:15:35.400000",
          "2021-03-24T06:54:07.800000",
          "2021-09-22T05:32:40.200000",
          "2022-03-23T04:11:12.600000",
          "2022-09-21T02:49:45",
          "2023-03-22T01:28:17.400000",
          "2023-09-20T00:06:49.800000",
          "2024-03-19T22:45:22.200000",
          "2024-09-17T21:23:54.600000"
         ],
         "y": [
          2,
          13,
          6,
          9,
          6,
          7,
          3,
          6,
          19,
          22,
          20,
          17,
          22,
          8,
          10,
          12,
          12,
          10,
          6
         ]
        },
        {
         "hoverinfo": "text",
         "hovertext": [
          "<b>Topic 9</b><br>Words: hidetaka, queen, miyazaki, golem, gloomy",
          "<b>Topic 9</b><br>Words: miyazaki, hidetaka, sparse, yui, figurine",
          "<b>Topic 9</b><br>Words: miyazaki, belated, overseen, cling, crew",
          "<b>Topic 9</b><br>Words: miyazaki, expectation, etz, darksword, becuaze",
          "<b>Topic 9</b><br>Words: miyazaki, newborn, bloddborne, sepukku, achilles",
          "<b>Topic 9</b><br>Words: miyazaki, covenant, fanboys, expand, defend",
          "<b>Topic 9</b><br>Words: miyazaki, spoiler, cramming, sophistication, legeld",
          "<b>Topic 9</b><br>Words: miyazaki, alot, bloodborn, gem, colour",
          "<b>Topic 9</b><br>Words: miyazaki, critique, iframes, familiar, unexplained",
          "<b>Topic 9</b><br>Words: miyazaki, bossfight, hidataka, hahahahahahahahahhahahahahahahahaa, fuckmiyazaki",
          "<b>Topic 9</b><br>Words: miyazaki, impact, miazaki, director, paste",
          "<b>Topic 9</b><br>Words: miyazaki, direct, hp, boulder, gank",
          "<b>Topic 9</b><br>Words: miyazaki, puke, passage, tactic, direct",
          "<b>Topic 9</b><br>Words: miyazaki, direct, hidetaka, project, enormous",
          "<b>Topic 9</b><br>Words: miyazaki, url, development, hidetaka, intention",
          "<b>Topic 9</b><br>Words: miyazaki, soulslike, development, asset, ai",
          "<b>Topic 9</b><br>Words: miyazaki, hidetaka, emoji, virtue, trevor",
          "<b>Topic 9</b><br>Words: miyazaki, hidetaka, supervise, fromsoft, fever",
          "<b>Topic 9</b><br>Words: miyazaki, direct, hidetaka, heaviness, blender",
          "<b>Topic 9</b><br>Words: miyazaki, bir, hidetaka, istiyorum, direct"
         ],
         "marker": {
          "color": "#009E73"
         },
         "mode": "lines",
         "name": "9_miyazaki_hidetaka_direct_development",
         "type": "scatter",
         "x": [
          "2015-03-29T07:51:40.752000",
          "2015-09-30T21:50:11.400000",
          "2016-03-30T20:28:43.800000",
          "2016-09-28T19:07:16.200000",
          "2017-03-29T17:45:48.600000",
          "2017-09-27T16:24:21",
          "2018-03-28T15:02:53.400000",
          "2018-09-26T13:41:25.800000",
          "2019-03-27T12:19:58.200000",
          "2019-09-25T10:58:30.600000",
          "2020-03-25T09:37:03",
          "2020-09-23T08:15:35.400000",
          "2021-03-24T06:54:07.800000",
          "2021-09-22T05:32:40.200000",
          "2022-03-23T04:11:12.600000",
          "2022-09-21T02:49:45",
          "2023-03-22T01:28:17.400000",
          "2023-09-20T00:06:49.800000",
          "2024-03-19T22:45:22.200000",
          "2024-09-17T21:23:54.600000"
         ],
         "y": [
          4,
          12,
          2,
          3,
          4,
          3,
          6,
          5,
          4,
          6,
          9,
          9,
          10,
          20,
          15,
          13,
          18,
          16,
          23,
          25
         ]
        },
        {
         "hoverinfo": "text",
         "hovertext": [
          "<b>Topic 10</b><br>Words: pc, fps, minimum, card, xbox",
          "<b>Topic 10</b><br>Words: pc, gpu, fps, crash, card",
          "<b>Topic 10</b><br>Words: port, xbox, laptop, pc, secretley",
          "<b>Topic 10</b><br>Words: pc, booting, hehexd, justification, macbook",
          "<b>Topic 10</b><br>Words: gb, spec, pc, os, xeon",
          "<b>Topic 10</b><br>Words: experince, becuase, xbox, optimise, hz",
          "<b>Topic 10</b><br>Words: evironments, pc, cloud, miniboss, definatly",
          "<b>Topic 10</b><br>Words: crash, laptop, woud, bec, invanded",
          "<b>Topic 10</b><br>Words: xbox, pc, device, maxes, manager",
          "<b>Topic 10</b><br>Words: pc, ubuntu, fond, fibre, proton",
          "<b>Topic 10</b><br>Words: xbox, pc, elementary, proton, screen",
          "<b>Topic 10</b><br>Words: pc, laptop, fps, display, hdmi",
          "<b>Topic 10</b><br>Words: xbox, pc, laptop, lessgoooo, suporrt",
          "<b>Topic 10</b><br>Words: pc, xbox, unrestricted, port, doodoo",
          "<b>Topic 10</b><br>Words: steamsalty, aghhh, intelegent, sadge, drift",
          "<b>Topic 10</b><br>Words: pc, xbox, utter, fullcreen, port",
          "<b>Topic 10</b><br>Words: intead, eitherway, unhappy, fullscreen, windowed",
          "<b>Topic 10</b><br>Words: borderless, multi, xbox, setup, monitor",
          "<b>Topic 10</b><br>Words: pc, fuckin, fallback, geppo, steamdeck",
          "<b>Topic 10</b><br>Words: minimize, pc, monitor, xbox, fullscreen"
         ],
         "marker": {
          "color": "#F0E442"
         },
         "mode": "lines",
         "name": "10_pc_xbox_fps_port",
         "type": "scatter",
         "x": [
          "2015-03-29T07:51:40.752000",
          "2015-09-30T21:50:11.400000",
          "2016-03-30T20:28:43.800000",
          "2016-09-28T19:07:16.200000",
          "2017-03-29T17:45:48.600000",
          "2017-09-27T16:24:21",
          "2018-03-28T15:02:53.400000",
          "2018-09-26T13:41:25.800000",
          "2019-03-27T12:19:58.200000",
          "2019-09-25T10:58:30.600000",
          "2020-03-25T09:37:03",
          "2020-09-23T08:15:35.400000",
          "2021-03-24T06:54:07.800000",
          "2021-09-22T05:32:40.200000",
          "2022-03-23T04:11:12.600000",
          "2022-09-21T02:49:45",
          "2023-03-22T01:28:17.400000",
          "2023-09-20T00:06:49.800000",
          "2024-03-19T22:45:22.200000",
          "2024-09-17T21:23:54.600000"
         ],
         "y": [
          25,
          17,
          12,
          11,
          9,
          5,
          4,
          6,
          9,
          7,
          13,
          10,
          16,
          15,
          4,
          9,
          6,
          3,
          6,
          12
         ]
        },
        {
         "hoverinfo": "text",
         "hovertext": [
          "<b>Topic 11</b><br>Words: fantasy, fun, ha, popcorn, fung",
          "<b>Topic 11</b><br>Words: magical, fun, ha, troy, fung",
          "<b>Topic 11</b><br>Words: fun, ha, troy, fung, popcorn",
          "<b>Topic 11</b><br>Words: fun, haha, dude, ha, troy",
          "<b>Topic 11</b><br>Words: fun, last, ha, popcorn, fung",
          "<b>Topic 11</b><br>Words: fun, ha, troy, fung, popcorn",
          "<b>Topic 11</b><br>Words: fun, ha, troy, fung, popcorn",
          "<b>Topic 11</b><br>Words: fun, sound, ha, popcorn, troy",
          "<b>Topic 11</b><br>Words: fun, funnn, honestly, ha, fung",
          "<b>Topic 11</b><br>Words: fun, ha, popcorn, food, troy",
          "<b>Topic 11</b><br>Words: fun, stuff, work, fuck, ha",
          "<b>Topic 11</b><br>Words: fun, fung, troy, alot, ha",
          "<b>Topic 11</b><br>Words: fun, scary, work, ha, troy",
          "<b>Topic 11</b><br>Words: fun, ha, troy, fung, popcorn",
          "<b>Topic 11</b><br>Words: fun, even, ha, fung, popcorn",
          "<b>Topic 11</b><br>Words: fun, ha, troy, fung, popcorn",
          "<b>Topic 11</b><br>Words: fun, abuse, ha, troy, fung",
          "<b>Topic 11</b><br>Words: fun, geme, alot, hope, ha",
          "<b>Topic 11</b><br>Words: fun, hehe, ha, troy, fung"
         ],
         "marker": {
          "color": "#D55E00"
         },
         "mode": "lines",
         "name": "11_fun_ha_fung_troy",
         "type": "scatter",
         "x": [
          "2015-03-29T07:51:40.752000",
          "2015-09-30T21:50:11.400000",
          "2016-03-30T20:28:43.800000",
          "2016-09-28T19:07:16.200000",
          "2017-03-29T17:45:48.600000",
          "2017-09-27T16:24:21",
          "2018-09-26T13:41:25.800000",
          "2019-03-27T12:19:58.200000",
          "2019-09-25T10:58:30.600000",
          "2020-03-25T09:37:03",
          "2020-09-23T08:15:35.400000",
          "2021-03-24T06:54:07.800000",
          "2021-09-22T05:32:40.200000",
          "2022-03-23T04:11:12.600000",
          "2022-09-21T02:49:45",
          "2023-03-22T01:28:17.400000",
          "2023-09-20T00:06:49.800000",
          "2024-03-19T22:45:22.200000",
          "2024-09-17T21:23:54.600000"
         ],
         "y": [
          3,
          3,
          1,
          5,
          3,
          2,
          3,
          11,
          16,
          16,
          19,
          24,
          23,
          7,
          5,
          11,
          12,
          18,
          13
         ]
        },
        {
         "hoverinfo": "text",
         "hovertext": [
          "<b>Topic 12</b><br>Words: nice, niceeeeeeeeeee, yi, yes, also",
          "<b>Topic 12</b><br>Words: nice, niceeeeeeeeeee, yi, yes, also",
          "<b>Topic 12</b><br>Words: nice, niceeeeeeeeeee, yi, yes, also",
          "<b>Topic 12</b><br>Words: nice, niceeeeeeeeeee, yi, yes, also",
          "<b>Topic 12</b><br>Words: nice, niceeeeeeeeeee, yi, yes, also",
          "<b>Topic 12</b><br>Words: nice, niceeeeeeeeeee, yi, yes, also",
          "<b>Topic 12</b><br>Words: nice, niceeeeeeeeeee, yi, yes, also",
          "<b>Topic 12</b><br>Words: nice, yi, niceeeeeeeeeee, yes, also",
          "<b>Topic 12</b><br>Words: nice, niceeeeeeeeeee, yi, yes, also",
          "<b>Topic 12</b><br>Words: nice, niceeeeeeeeeee, yi, yes, also",
          "<b>Topic 12</b><br>Words: nice, niceeeeeeeeeee, yi, yes, also",
          "<b>Topic 12</b><br>Words: nice, niceeeeeeeeeee, yi, yes, also",
          "<b>Topic 12</b><br>Words: nice, niceeeeeeeeeee, yi, yes, also",
          "<b>Topic 12</b><br>Words: nice, niceeeeeeeeeee, yi, yes, also",
          "<b>Topic 12</b><br>Words: nice, niceeeeeeeeeee, yi, yes, also",
          "<b>Topic 12</b><br>Words: nice, niceeeeeeeeeee, yi, yes, also",
          "<b>Topic 12</b><br>Words: nice, niceeeeeeeeeee, yi, yes, also",
          "<b>Topic 12</b><br>Words: nice, also, niceeeeeeeeeee, yi, yes",
          "<b>Topic 12</b><br>Words: nice, niceeeeeeeeeee, yi, yes, also"
         ],
         "marker": {
          "color": "#0072B2"
         },
         "mode": "lines",
         "name": "12_nice_niceeeeeeeeeee_yi_yes",
         "type": "scatter",
         "x": [
          "2015-03-29T07:51:40.752000",
          "2016-03-30T20:28:43.800000",
          "2016-09-28T19:07:16.200000",
          "2017-03-29T17:45:48.600000",
          "2017-09-27T16:24:21",
          "2018-03-28T15:02:53.400000",
          "2018-09-26T13:41:25.800000",
          "2019-03-27T12:19:58.200000",
          "2019-09-25T10:58:30.600000",
          "2020-03-25T09:37:03",
          "2020-09-23T08:15:35.400000",
          "2021-03-24T06:54:07.800000",
          "2021-09-22T05:32:40.200000",
          "2022-03-23T04:11:12.600000",
          "2022-09-21T02:49:45",
          "2023-03-22T01:28:17.400000",
          "2023-09-20T00:06:49.800000",
          "2024-03-19T22:45:22.200000",
          "2024-09-17T21:23:54.600000"
         ],
         "y": [
          4,
          3,
          1,
          2,
          4,
          7,
          2,
          15,
          18,
          23,
          22,
          15,
          22,
          10,
          10,
          10,
          9,
          9,
          7
         ]
        },
        {
         "hoverinfo": "text",
         "hovertext": [
          "<b>Topic 13</b><br>Words: sun, praise, directx, bangt, mufaka",
          "<b>Topic 13</b><br>Words: sun, praise, sunbro, goty, addict",
          "<b>Topic 13</b><br>Words: sun, praise, cryyyyyyyyyyyyyyyyyyyyyy, boys, fucking",
          "<b>Topic 13</b><br>Words: sun, praise, praising, gangbanged, pig",
          "<b>Topic 13</b><br>Words: sun, praise, rekt, bros, sunny",
          "<b>Topic 13</b><br>Words: sun, praise, follower, simulator, would",
          "<b>Topic 13</b><br>Words: sun, praise, say, like, praising",
          "<b>Topic 13</b><br>Words: sun, praise, heresy, extra, content",
          "<b>Topic 13</b><br>Words: sun, praise, sunnnnnnnnnn, praiser, praising",
          "<b>Topic 13</b><br>Words: sun, praise, godforsaken, deprive, mother",
          "<b>Topic 13</b><br>Words: sun, praise, neil, armstrong, rose",
          "<b>Topic 13</b><br>Words: sun, praise, drangleics, happiness, inside",
          "<b>Topic 13</b><br>Words: sun, praise, argghwwhgg, wrekd, awwww",
          "<b>Topic 13</b><br>Words: sun, praise, stability, metal, completion",
          "<b>Topic 13</b><br>Words: sun, praise, praising, rekt, sunbro",
          "<b>Topic 13</b><br>Words: sun, praise, live, grab, server",
          "<b>Topic 13</b><br>Words: sun, praise, laugh, cry, praising",
          "<b>Topic 13</b><br>Words: praise, sun, cur, salute, moon",
          "<b>Topic 13</b><br>Words: sun, praise, hoorah, swallow, bom",
          "<b>Topic 13</b><br>Words: sun, praise, medal, pray, sunbro"
         ],
         "marker": {
          "color": "#CC79A7"
         },
         "mode": "lines",
         "name": "13_sun_praise_praising_rekt",
         "type": "scatter",
         "x": [
          "2015-03-29T07:51:40.752000",
          "2015-09-30T21:50:11.400000",
          "2016-03-30T20:28:43.800000",
          "2016-09-28T19:07:16.200000",
          "2017-03-29T17:45:48.600000",
          "2017-09-27T16:24:21",
          "2018-03-28T15:02:53.400000",
          "2018-09-26T13:41:25.800000",
          "2019-03-27T12:19:58.200000",
          "2019-09-25T10:58:30.600000",
          "2020-03-25T09:37:03",
          "2020-09-23T08:15:35.400000",
          "2021-03-24T06:54:07.800000",
          "2021-09-22T05:32:40.200000",
          "2022-03-23T04:11:12.600000",
          "2022-09-21T02:49:45",
          "2023-03-22T01:28:17.400000",
          "2023-09-20T00:06:49.800000",
          "2024-03-19T22:45:22.200000",
          "2024-09-17T21:23:54.600000"
         ],
         "y": [
          20,
          13,
          9,
          15,
          15,
          6,
          3,
          5,
          12,
          10,
          10,
          11,
          14,
          13,
          1,
          4,
          6,
          10,
          9,
          5
         ]
        },
        {
         "hoverinfo": "text",
         "hovertext": [
          "<b>Topic 14</b><br>Words: git, gud, gits, casuls, tag",
          "<b>Topic 14</b><br>Words: git, gud, rekt, gudgit, need",
          "<b>Topic 14</b><br>Words: git, gud, gudgit, need, electric",
          "<b>Topic 14</b><br>Words: git, gud, gudgit, rule, hr",
          "<b>Topic 14</b><br>Words: git, gud, gankers, message, gudgit",
          "<b>Topic 14</b><br>Words: git, gud, phag, revamp, gudgit",
          "<b>Topic 14</b><br>Words: git, gud, winblade, danksouls, blaze",
          "<b>Topic 14</b><br>Words: git, gud, fkin, gudgit, electric",
          "<b>Topic 14</b><br>Words: git, gud, manage, unless, gudgit",
          "<b>Topic 14</b><br>Words: git, gud, gudgit, electric, winblade",
          "<b>Topic 14</b><br>Words: gudgit, git, gud, begin, real",
          "<b>Topic 14</b><br>Words: git, gud, gim, gudgit, part",
          "<b>Topic 14</b><br>Words: git, gud, gudgit, second, part",
          "<b>Topic 14</b><br>Words: git, gud, bogaloo, electric, gudgit",
          "<b>Topic 14</b><br>Words: git, gud, bd, oddajcie, serwery",
          "<b>Topic 14</b><br>Words: git, gud, boogaloo, electric, gudgit",
          "<b>Topic 14</b><br>Words: git, gud, gudgit, electric, winblade",
          "<b>Topic 14</b><br>Words: git, gud, gudgit, electric, winblade",
          "<b>Topic 14</b><br>Words: git, gud, volume, gudgit, electric",
          "<b>Topic 14</b><br>Words: git, gud, giid, gudgit, electric"
         ],
         "marker": {
          "color": "#E69F00"
         },
         "mode": "lines",
         "name": "14_git_gud_gudgit_electric",
         "type": "scatter",
         "x": [
          "2015-03-29T07:51:40.752000",
          "2015-09-30T21:50:11.400000",
          "2016-03-30T20:28:43.800000",
          "2016-09-28T19:07:16.200000",
          "2017-03-29T17:45:48.600000",
          "2017-09-27T16:24:21",
          "2018-03-28T15:02:53.400000",
          "2018-09-26T13:41:25.800000",
          "2019-03-27T12:19:58.200000",
          "2019-09-25T10:58:30.600000",
          "2020-03-25T09:37:03",
          "2020-09-23T08:15:35.400000",
          "2021-03-24T06:54:07.800000",
          "2021-09-22T05:32:40.200000",
          "2022-03-23T04:11:12.600000",
          "2022-09-21T02:49:45",
          "2023-03-22T01:28:17.400000",
          "2023-09-20T00:06:49.800000",
          "2024-03-19T22:45:22.200000",
          "2024-09-17T21:23:54.600000"
         ],
         "y": [
          4,
          4,
          7,
          18,
          4,
          14,
          5,
          5,
          7,
          15,
          15,
          14,
          22,
          13,
          7,
          3,
          9,
          3,
          5,
          8
         ]
        }
       ],
       "layout": {
        "height": 450,
        "hoverlabel": {
         "bgcolor": "white",
         "font": {
          "family": "Rockwell",
          "size": 16
         }
        },
        "legend": {
         "title": {
          "text": "<b>Global Topic Representation"
         }
        },
        "template": {
         "data": {
          "bar": [
           {
            "error_x": {
             "color": "rgb(36,36,36)"
            },
            "error_y": {
             "color": "rgb(36,36,36)"
            },
            "marker": {
             "line": {
              "color": "white",
              "width": 0.5
             },
             "pattern": {
              "fillmode": "overlay",
              "size": 10,
              "solidity": 0.2
             }
            },
            "type": "bar"
           }
          ],
          "barpolar": [
           {
            "marker": {
             "line": {
              "color": "white",
              "width": 0.5
             },
             "pattern": {
              "fillmode": "overlay",
              "size": 10,
              "solidity": 0.2
             }
            },
            "type": "barpolar"
           }
          ],
          "carpet": [
           {
            "aaxis": {
             "endlinecolor": "rgb(36,36,36)",
             "gridcolor": "white",
             "linecolor": "white",
             "minorgridcolor": "white",
             "startlinecolor": "rgb(36,36,36)"
            },
            "baxis": {
             "endlinecolor": "rgb(36,36,36)",
             "gridcolor": "white",
             "linecolor": "white",
             "minorgridcolor": "white",
             "startlinecolor": "rgb(36,36,36)"
            },
            "type": "carpet"
           }
          ],
          "choropleth": [
           {
            "colorbar": {
             "outlinewidth": 1,
             "tickcolor": "rgb(36,36,36)",
             "ticks": "outside"
            },
            "type": "choropleth"
           }
          ],
          "contour": [
           {
            "colorbar": {
             "outlinewidth": 1,
             "tickcolor": "rgb(36,36,36)",
             "ticks": "outside"
            },
            "colorscale": [
             [
              0,
              "#440154"
             ],
             [
              0.1111111111111111,
              "#482878"
             ],
             [
              0.2222222222222222,
              "#3e4989"
             ],
             [
              0.3333333333333333,
              "#31688e"
             ],
             [
              0.4444444444444444,
              "#26828e"
             ],
             [
              0.5555555555555556,
              "#1f9e89"
             ],
             [
              0.6666666666666666,
              "#35b779"
             ],
             [
              0.7777777777777778,
              "#6ece58"
             ],
             [
              0.8888888888888888,
              "#b5de2b"
             ],
             [
              1,
              "#fde725"
             ]
            ],
            "type": "contour"
           }
          ],
          "contourcarpet": [
           {
            "colorbar": {
             "outlinewidth": 1,
             "tickcolor": "rgb(36,36,36)",
             "ticks": "outside"
            },
            "type": "contourcarpet"
           }
          ],
          "heatmap": [
           {
            "colorbar": {
             "outlinewidth": 1,
             "tickcolor": "rgb(36,36,36)",
             "ticks": "outside"
            },
            "colorscale": [
             [
              0,
              "#440154"
             ],
             [
              0.1111111111111111,
              "#482878"
             ],
             [
              0.2222222222222222,
              "#3e4989"
             ],
             [
              0.3333333333333333,
              "#31688e"
             ],
             [
              0.4444444444444444,
              "#26828e"
             ],
             [
              0.5555555555555556,
              "#1f9e89"
             ],
             [
              0.6666666666666666,
              "#35b779"
             ],
             [
              0.7777777777777778,
              "#6ece58"
             ],
             [
              0.8888888888888888,
              "#b5de2b"
             ],
             [
              1,
              "#fde725"
             ]
            ],
            "type": "heatmap"
           }
          ],
          "heatmapgl": [
           {
            "colorbar": {
             "outlinewidth": 1,
             "tickcolor": "rgb(36,36,36)",
             "ticks": "outside"
            },
            "colorscale": [
             [
              0,
              "#440154"
             ],
             [
              0.1111111111111111,
              "#482878"
             ],
             [
              0.2222222222222222,
              "#3e4989"
             ],
             [
              0.3333333333333333,
              "#31688e"
             ],
             [
              0.4444444444444444,
              "#26828e"
             ],
             [
              0.5555555555555556,
              "#1f9e89"
             ],
             [
              0.6666666666666666,
              "#35b779"
             ],
             [
              0.7777777777777778,
              "#6ece58"
             ],
             [
              0.8888888888888888,
              "#b5de2b"
             ],
             [
              1,
              "#fde725"
             ]
            ],
            "type": "heatmapgl"
           }
          ],
          "histogram": [
           {
            "marker": {
             "line": {
              "color": "white",
              "width": 0.6
             }
            },
            "type": "histogram"
           }
          ],
          "histogram2d": [
           {
            "colorbar": {
             "outlinewidth": 1,
             "tickcolor": "rgb(36,36,36)",
             "ticks": "outside"
            },
            "colorscale": [
             [
              0,
              "#440154"
             ],
             [
              0.1111111111111111,
              "#482878"
             ],
             [
              0.2222222222222222,
              "#3e4989"
             ],
             [
              0.3333333333333333,
              "#31688e"
             ],
             [
              0.4444444444444444,
              "#26828e"
             ],
             [
              0.5555555555555556,
              "#1f9e89"
             ],
             [
              0.6666666666666666,
              "#35b779"
             ],
             [
              0.7777777777777778,
              "#6ece58"
             ],
             [
              0.8888888888888888,
              "#b5de2b"
             ],
             [
              1,
              "#fde725"
             ]
            ],
            "type": "histogram2d"
           }
          ],
          "histogram2dcontour": [
           {
            "colorbar": {
             "outlinewidth": 1,
             "tickcolor": "rgb(36,36,36)",
             "ticks": "outside"
            },
            "colorscale": [
             [
              0,
              "#440154"
             ],
             [
              0.1111111111111111,
              "#482878"
             ],
             [
              0.2222222222222222,
              "#3e4989"
             ],
             [
              0.3333333333333333,
              "#31688e"
             ],
             [
              0.4444444444444444,
              "#26828e"
             ],
             [
              0.5555555555555556,
              "#1f9e89"
             ],
             [
              0.6666666666666666,
              "#35b779"
             ],
             [
              0.7777777777777778,
              "#6ece58"
             ],
             [
              0.8888888888888888,
              "#b5de2b"
             ],
             [
              1,
              "#fde725"
             ]
            ],
            "type": "histogram2dcontour"
           }
          ],
          "mesh3d": [
           {
            "colorbar": {
             "outlinewidth": 1,
             "tickcolor": "rgb(36,36,36)",
             "ticks": "outside"
            },
            "type": "mesh3d"
           }
          ],
          "parcoords": [
           {
            "line": {
             "colorbar": {
              "outlinewidth": 1,
              "tickcolor": "rgb(36,36,36)",
              "ticks": "outside"
             }
            },
            "type": "parcoords"
           }
          ],
          "pie": [
           {
            "automargin": true,
            "type": "pie"
           }
          ],
          "scatter": [
           {
            "fillpattern": {
             "fillmode": "overlay",
             "size": 10,
             "solidity": 0.2
            },
            "type": "scatter"
           }
          ],
          "scatter3d": [
           {
            "line": {
             "colorbar": {
              "outlinewidth": 1,
              "tickcolor": "rgb(36,36,36)",
              "ticks": "outside"
             }
            },
            "marker": {
             "colorbar": {
              "outlinewidth": 1,
              "tickcolor": "rgb(36,36,36)",
              "ticks": "outside"
             }
            },
            "type": "scatter3d"
           }
          ],
          "scattercarpet": [
           {
            "marker": {
             "colorbar": {
              "outlinewidth": 1,
              "tickcolor": "rgb(36,36,36)",
              "ticks": "outside"
             }
            },
            "type": "scattercarpet"
           }
          ],
          "scattergeo": [
           {
            "marker": {
             "colorbar": {
              "outlinewidth": 1,
              "tickcolor": "rgb(36,36,36)",
              "ticks": "outside"
             }
            },
            "type": "scattergeo"
           }
          ],
          "scattergl": [
           {
            "marker": {
             "colorbar": {
              "outlinewidth": 1,
              "tickcolor": "rgb(36,36,36)",
              "ticks": "outside"
             }
            },
            "type": "scattergl"
           }
          ],
          "scattermapbox": [
           {
            "marker": {
             "colorbar": {
              "outlinewidth": 1,
              "tickcolor": "rgb(36,36,36)",
              "ticks": "outside"
             }
            },
            "type": "scattermapbox"
           }
          ],
          "scatterpolar": [
           {
            "marker": {
             "colorbar": {
              "outlinewidth": 1,
              "tickcolor": "rgb(36,36,36)",
              "ticks": "outside"
             }
            },
            "type": "scatterpolar"
           }
          ],
          "scatterpolargl": [
           {
            "marker": {
             "colorbar": {
              "outlinewidth": 1,
              "tickcolor": "rgb(36,36,36)",
              "ticks": "outside"
             }
            },
            "type": "scatterpolargl"
           }
          ],
          "scatterternary": [
           {
            "marker": {
             "colorbar": {
              "outlinewidth": 1,
              "tickcolor": "rgb(36,36,36)",
              "ticks": "outside"
             }
            },
            "type": "scatterternary"
           }
          ],
          "surface": [
           {
            "colorbar": {
             "outlinewidth": 1,
             "tickcolor": "rgb(36,36,36)",
             "ticks": "outside"
            },
            "colorscale": [
             [
              0,
              "#440154"
             ],
             [
              0.1111111111111111,
              "#482878"
             ],
             [
              0.2222222222222222,
              "#3e4989"
             ],
             [
              0.3333333333333333,
              "#31688e"
             ],
             [
              0.4444444444444444,
              "#26828e"
             ],
             [
              0.5555555555555556,
              "#1f9e89"
             ],
             [
              0.6666666666666666,
              "#35b779"
             ],
             [
              0.7777777777777778,
              "#6ece58"
             ],
             [
              0.8888888888888888,
              "#b5de2b"
             ],
             [
              1,
              "#fde725"
             ]
            ],
            "type": "surface"
           }
          ],
          "table": [
           {
            "cells": {
             "fill": {
              "color": "rgb(237,237,237)"
             },
             "line": {
              "color": "white"
             }
            },
            "header": {
             "fill": {
              "color": "rgb(217,217,217)"
             },
             "line": {
              "color": "white"
             }
            },
            "type": "table"
           }
          ]
         },
         "layout": {
          "annotationdefaults": {
           "arrowhead": 0,
           "arrowwidth": 1
          },
          "autotypenumbers": "strict",
          "coloraxis": {
           "colorbar": {
            "outlinewidth": 1,
            "tickcolor": "rgb(36,36,36)",
            "ticks": "outside"
           }
          },
          "colorscale": {
           "diverging": [
            [
             0,
             "rgb(103,0,31)"
            ],
            [
             0.1,
             "rgb(178,24,43)"
            ],
            [
             0.2,
             "rgb(214,96,77)"
            ],
            [
             0.3,
             "rgb(244,165,130)"
            ],
            [
             0.4,
             "rgb(253,219,199)"
            ],
            [
             0.5,
             "rgb(247,247,247)"
            ],
            [
             0.6,
             "rgb(209,229,240)"
            ],
            [
             0.7,
             "rgb(146,197,222)"
            ],
            [
             0.8,
             "rgb(67,147,195)"
            ],
            [
             0.9,
             "rgb(33,102,172)"
            ],
            [
             1,
             "rgb(5,48,97)"
            ]
           ],
           "sequential": [
            [
             0,
             "#440154"
            ],
            [
             0.1111111111111111,
             "#482878"
            ],
            [
             0.2222222222222222,
             "#3e4989"
            ],
            [
             0.3333333333333333,
             "#31688e"
            ],
            [
             0.4444444444444444,
             "#26828e"
            ],
            [
             0.5555555555555556,
             "#1f9e89"
            ],
            [
             0.6666666666666666,
             "#35b779"
            ],
            [
             0.7777777777777778,
             "#6ece58"
            ],
            [
             0.8888888888888888,
             "#b5de2b"
            ],
            [
             1,
             "#fde725"
            ]
           ],
           "sequentialminus": [
            [
             0,
             "#440154"
            ],
            [
             0.1111111111111111,
             "#482878"
            ],
            [
             0.2222222222222222,
             "#3e4989"
            ],
            [
             0.3333333333333333,
             "#31688e"
            ],
            [
             0.4444444444444444,
             "#26828e"
            ],
            [
             0.5555555555555556,
             "#1f9e89"
            ],
            [
             0.6666666666666666,
             "#35b779"
            ],
            [
             0.7777777777777778,
             "#6ece58"
            ],
            [
             0.8888888888888888,
             "#b5de2b"
            ],
            [
             1,
             "#fde725"
            ]
           ]
          },
          "colorway": [
           "#1F77B4",
           "#FF7F0E",
           "#2CA02C",
           "#D62728",
           "#9467BD",
           "#8C564B",
           "#E377C2",
           "#7F7F7F",
           "#BCBD22",
           "#17BECF"
          ],
          "font": {
           "color": "rgb(36,36,36)"
          },
          "geo": {
           "bgcolor": "white",
           "lakecolor": "white",
           "landcolor": "white",
           "showlakes": true,
           "showland": true,
           "subunitcolor": "white"
          },
          "hoverlabel": {
           "align": "left"
          },
          "hovermode": "closest",
          "mapbox": {
           "style": "light"
          },
          "paper_bgcolor": "white",
          "plot_bgcolor": "white",
          "polar": {
           "angularaxis": {
            "gridcolor": "rgb(232,232,232)",
            "linecolor": "rgb(36,36,36)",
            "showgrid": false,
            "showline": true,
            "ticks": "outside"
           },
           "bgcolor": "white",
           "radialaxis": {
            "gridcolor": "rgb(232,232,232)",
            "linecolor": "rgb(36,36,36)",
            "showgrid": false,
            "showline": true,
            "ticks": "outside"
           }
          },
          "scene": {
           "xaxis": {
            "backgroundcolor": "white",
            "gridcolor": "rgb(232,232,232)",
            "gridwidth": 2,
            "linecolor": "rgb(36,36,36)",
            "showbackground": true,
            "showgrid": false,
            "showline": true,
            "ticks": "outside",
            "zeroline": false,
            "zerolinecolor": "rgb(36,36,36)"
           },
           "yaxis": {
            "backgroundcolor": "white",
            "gridcolor": "rgb(232,232,232)",
            "gridwidth": 2,
            "linecolor": "rgb(36,36,36)",
            "showbackground": true,
            "showgrid": false,
            "showline": true,
            "ticks": "outside",
            "zeroline": false,
            "zerolinecolor": "rgb(36,36,36)"
           },
           "zaxis": {
            "backgroundcolor": "white",
            "gridcolor": "rgb(232,232,232)",
            "gridwidth": 2,
            "linecolor": "rgb(36,36,36)",
            "showbackground": true,
            "showgrid": false,
            "showline": true,
            "ticks": "outside",
            "zeroline": false,
            "zerolinecolor": "rgb(36,36,36)"
           }
          },
          "shapedefaults": {
           "fillcolor": "black",
           "line": {
            "width": 0
           },
           "opacity": 0.3
          },
          "ternary": {
           "aaxis": {
            "gridcolor": "rgb(232,232,232)",
            "linecolor": "rgb(36,36,36)",
            "showgrid": false,
            "showline": true,
            "ticks": "outside"
           },
           "baxis": {
            "gridcolor": "rgb(232,232,232)",
            "linecolor": "rgb(36,36,36)",
            "showgrid": false,
            "showline": true,
            "ticks": "outside"
           },
           "bgcolor": "white",
           "caxis": {
            "gridcolor": "rgb(232,232,232)",
            "linecolor": "rgb(36,36,36)",
            "showgrid": false,
            "showline": true,
            "ticks": "outside"
           }
          },
          "title": {
           "x": 0.05
          },
          "xaxis": {
           "automargin": true,
           "gridcolor": "rgb(232,232,232)",
           "linecolor": "rgb(36,36,36)",
           "showgrid": false,
           "showline": true,
           "ticks": "outside",
           "title": {
            "standoff": 15
           },
           "zeroline": false,
           "zerolinecolor": "rgb(36,36,36)"
          },
          "yaxis": {
           "automargin": true,
           "gridcolor": "rgb(232,232,232)",
           "linecolor": "rgb(36,36,36)",
           "showgrid": false,
           "showline": true,
           "ticks": "outside",
           "title": {
            "standoff": 15
           },
           "zeroline": false,
           "zerolinecolor": "rgb(36,36,36)"
          }
         }
        },
        "title": {
         "font": {
          "color": "Black",
          "size": 22
         },
         "text": "<b>Topics over Time</b>",
         "x": 0.4,
         "xanchor": "center",
         "y": 0.95,
         "yanchor": "top"
        },
        "width": 1250,
        "xaxis": {
         "showgrid": true
        },
        "yaxis": {
         "showgrid": true,
         "title": {
          "text": "Frequency"
         }
        }
       }
      }
     },
     "metadata": {},
     "output_type": "display_data"
    }
   ],
   "source": [
    "pos_model.visualize_topics_over_time(pos_topics_over_time, top_n_topics=15)"
   ]
  },
  {
   "cell_type": "markdown",
   "metadata": {},
   "source": [
    "### Negative reviews:"
   ]
  },
  {
   "cell_type": "code",
   "execution_count": 14,
   "metadata": {},
   "outputs": [],
   "source": [
    "neg_model = BERTopic.load(\"models/bertopic_neg_model\")"
   ]
  },
  {
   "cell_type": "code",
   "execution_count": 15,
   "metadata": {},
   "outputs": [
    {
     "name": "stderr",
     "output_type": "stream",
     "text": [
      "20it [00:03,  6.05it/s]\n"
     ]
    }
   ],
   "source": [
    "neg_topics_over_time = neg_model.topics_over_time(neg_docs, neg_timestamps, nr_bins=20)"
   ]
  },
  {
   "cell_type": "code",
   "execution_count": 16,
   "metadata": {},
   "outputs": [
    {
     "data": {
      "application/vnd.plotly.v1+json": {
       "config": {
        "plotlyServerURL": "https://plot.ly"
       },
       "data": [
        {
         "hoverinfo": "text",
         "hovertext": [
          "<b>Topic 0</b><br>Words: guy, spell, enemy, player, attack",
          "<b>Topic 0</b><br>Words: enemy, attack, make, weapon, sword",
          "<b>Topic 0</b><br>Words: shade, ii, area, bos, need",
          "<b>Topic 0</b><br>Words: player, area, enemy, one, make",
          "<b>Topic 0</b><br>Words: weapon, area, player, attack, enemy",
          "<b>Topic 0</b><br>Words: bos, make, scholar, kill, level",
          "<b>Topic 0</b><br>Words: time, ctrl, enemy, make, fight",
          "<b>Topic 0</b><br>Words: enemy, fight, area, player, weapon",
          "<b>Topic 0</b><br>Words: level, enemy, use, area, find",
          "<b>Topic 0</b><br>Words: enemy, area, get, player, like",
          "<b>Topic 0</b><br>Words: player, enemy, bos, fight, attack",
          "<b>Topic 0</b><br>Words: player, enemy, attack, boss, make",
          "<b>Topic 0</b><br>Words: enemy, fight, bos, attack, hit",
          "<b>Topic 0</b><br>Words: attack, area, bos, enemy, make",
          "<b>Topic 0</b><br>Words: fight, level, area, enemy, time",
          "<b>Topic 0</b><br>Words: enemy, player, bos, get, attack",
          "<b>Topic 0</b><br>Words: attack, item, enemy, player, run",
          "<b>Topic 0</b><br>Words: bos, fight, world, enemy, player",
          "<b>Topic 0</b><br>Words: enemy, bos, fight, area, dementia",
          "<b>Topic 0</b><br>Words: feel, enemy, make, player, bos"
         ],
         "marker": {
          "color": "#E69F00"
         },
         "mode": "lines",
         "name": "0_enemy_player_bos_attack",
         "type": "scatter",
         "x": [
          "2015-03-29T08:44:21.032000",
          "2015-09-30T21:42:16.400000",
          "2016-03-30T19:21:24.800000",
          "2016-09-28T17:00:33.200000",
          "2017-03-29T14:39:41.600000",
          "2017-09-27T12:18:50",
          "2018-03-28T09:57:58.400000",
          "2018-09-26T07:37:06.800000",
          "2019-03-27T05:16:15.200000",
          "2019-09-25T02:55:23.600000",
          "2020-03-25T00:34:32",
          "2020-09-22T22:13:40.400000",
          "2021-03-23T19:52:48.800000",
          "2021-09-21T17:31:57.200000",
          "2022-03-22T15:11:05.600000",
          "2022-09-20T12:50:14",
          "2023-03-21T10:29:22.400000",
          "2023-09-19T08:08:30.800000",
          "2024-03-19T05:47:39.200000",
          "2024-09-17T03:26:47.600000"
         ],
         "y": [
          9,
          5,
          5,
          12,
          20,
          6,
          11,
          9,
          8,
          13,
          30,
          20,
          25,
          26,
          17,
          18,
          17,
          11,
          20,
          24
         ]
        },
        {
         "hoverinfo": "text",
         "hovertext": [
          "<b>Topic 1</b><br>Words: ii, iight, ahhhhhhhhhhhhhhhhhhhhhhhhhhhhhhhhhhhhhhhhhhhhhhhhhhhhhhhhhhhhhhhhhhhhhhhhhhhhhhhhhhhhhhhhhhhhhhhhhhhhhhhhhhhhhhhhhhhhhhhhhhhhhhhhhhhhhhhhhhhhhhhhhhhhhhhhhhhhhhhhhhhhhhhhhhhhhhhhhhhhhhhhhhhhhhhhhhhhhhhhhhhhhhhhhhhhhhhhhhhhhhhhhhhhhhhhhhhhhhhhhhhhhhhhhhhhhhhhhhhhhhhh, werty, xddddddddddddddddddddddddddddddddddddddddddddddddddddddddddddddddddddddddddddddddddddddddddddddddddddddddddddddddddddddddddddddddddddddddddddddddddddddddddddddddddddddddddddddddddddddddddddddddddddddddddddddddddddddddddddddddddddddddddddddddddddddddddddddddddddddddddddddddddddddddddddddddddddddddddddddddddddddddddddddddddddddddddddddddddddddddddddddddddddddddddddddddddddddddddddddddddddddddddddddddddddddddddddddddddddddddddddddddddd",
          "<b>Topic 1</b><br>Words: ii, iight, ahhhhhhhhhhhhhhhhhhhhhhhhhhhhhhhhhhhhhhhhhhhhhhhhhhhhhhhhhhhhhhhhhhhhhhhhhhhhhhhhhhhhhhhhhhhhhhhhhhhhhhhhhhhhhhhhhhhhhhhhhhhhhhhhhhhhhhhhhhhhhhhhhhhhhhhhhhhhhhhhhhhhhhhhhhhhhhhhhhhhhhhhhhhhhhhhhhhhhhhhhhhhhhhhhhhhhhhhhhhhhhhhhhhhhhhhhhhhhhhhhhhhhhhhhhhhhhhhhhhhhhhh, werty, xddddddddddddddddddddddddddddddddddddddddddddddddddddddddddddddddddddddddddddddddddddddddddddddddddddddddddddddddddddddddddddddddddddddddddddddddddddddddddddddddddddddddddddddddddddddddddddddddddddddddddddddddddddddddddddddddddddddddddddddddddddddddddddddddddddddddddddddddddddddddddddddddddddddddddddddddddddddddddddddddddddddddddddddddddddddddddddddddddddddddddddddddddddddddddddddddddddddddddddddddddddddddddddddddddddddddddddddddddd",
          "<b>Topic 1</b><br>Words: ii, iight, ahhhhhhhhhhhhhhhhhhhhhhhhhhhhhhhhhhhhhhhhhhhhhhhhhhhhhhhhhhhhhhhhhhhhhhhhhhhhhhhhhhhhhhhhhhhhhhhhhhhhhhhhhhhhhhhhhhhhhhhhhhhhhhhhhhhhhhhhhhhhhhhhhhhhhhhhhhhhhhhhhhhhhhhhhhhhhhhhhhhhhhhhhhhhhhhhhhhhhhhhhhhhhhhhhhhhhhhhhhhhhhhhhhhhhhhhhhhhhhhhhhhhhhhhhhhhhhhhhhhhhhhh, werty, xddddddddddddddddddddddddddddddddddddddddddddddddddddddddddddddddddddddddddddddddddddddddddddddddddddddddddddddddddddddddddddddddddddddddddddddddddddddddddddddddddddddddddddddddddddddddddddddddddddddddddddddddddddddddddddddddddddddddddddddddddddddddddddddddddddddddddddddddddddddddddddddddddddddddddddddddddddddddddddddddddddddddddddddddddddddddddddddddddddddddddddddddddddddddddddddddddddddddddddddddddddddddddddddddddddddddddddddddddd",
          "<b>Topic 1</b><br>Words: ii, iight, ahhhhhhhhhhhhhhhhhhhhhhhhhhhhhhhhhhhhhhhhhhhhhhhhhhhhhhhhhhhhhhhhhhhhhhhhhhhhhhhhhhhhhhhhhhhhhhhhhhhhhhhhhhhhhhhhhhhhhhhhhhhhhhhhhhhhhhhhhhhhhhhhhhhhhhhhhhhhhhhhhhhhhhhhhhhhhhhhhhhhhhhhhhhhhhhhhhhhhhhhhhhhhhhhhhhhhhhhhhhhhhhhhhhhhhhhhhhhhhhhhhhhhhhhhhhhhhhhhhhhhhhh, werty, xddddddddddddddddddddddddddddddddddddddddddddddddddddddddddddddddddddddddddddddddddddddddddddddddddddddddddddddddddddddddddddddddddddddddddddddddddddddddddddddddddddddddddddddddddddddddddddddddddddddddddddddddddddddddddddddddddddddddddddddddddddddddddddddddddddddddddddddddddddddddddddddddddddddddddddddddddddddddddddddddddddddddddddddddddddddddddddddddddddddddddddddddddddddddddddddddddddddddddddddddddddddddddddddddddddddddddddddddddd",
          "<b>Topic 1</b><br>Words: ii, iight, ahhhhhhhhhhhhhhhhhhhhhhhhhhhhhhhhhhhhhhhhhhhhhhhhhhhhhhhhhhhhhhhhhhhhhhhhhhhhhhhhhhhhhhhhhhhhhhhhhhhhhhhhhhhhhhhhhhhhhhhhhhhhhhhhhhhhhhhhhhhhhhhhhhhhhhhhhhhhhhhhhhhhhhhhhhhhhhhhhhhhhhhhhhhhhhhhhhhhhhhhhhhhhhhhhhhhhhhhhhhhhhhhhhhhhhhhhhhhhhhhhhhhhhhhhhhhhhhhhhhhhhhh, werty, xddddddddddddddddddddddddddddddddddddddddddddddddddddddddddddddddddddddddddddddddddddddddddddddddddddddddddddddddddddddddddddddddddddddddddddddddddddddddddddddddddddddddddddddddddddddddddddddddddddddddddddddddddddddddddddddddddddddddddddddddddddddddddddddddddddddddddddddddddddddddddddddddddddddddddddddddddddddddddddddddddddddddddddddddddddddddddddddddddddddddddddddddddddddddddddddddddddddddddddddddddddddddddddddddddddddddddddddddddd",
          "<b>Topic 1</b><br>Words: ii, iight, ahhhhhhhhhhhhhhhhhhhhhhhhhhhhhhhhhhhhhhhhhhhhhhhhhhhhhhhhhhhhhhhhhhhhhhhhhhhhhhhhhhhhhhhhhhhhhhhhhhhhhhhhhhhhhhhhhhhhhhhhhhhhhhhhhhhhhhhhhhhhhhhhhhhhhhhhhhhhhhhhhhhhhhhhhhhhhhhhhhhhhhhhhhhhhhhhhhhhhhhhhhhhhhhhhhhhhhhhhhhhhhhhhhhhhhhhhhhhhhhhhhhhhhhhhhhhhhhhhhhhhhhh, werty, xddddddddddddddddddddddddddddddddddddddddddddddddddddddddddddddddddddddddddddddddddddddddddddddddddddddddddddddddddddddddddddddddddddddddddddddddddddddddddddddddddddddddddddddddddddddddddddddddddddddddddddddddddddddddddddddddddddddddddddddddddddddddddddddddddddddddddddddddddddddddddddddddddddddddddddddddddddddddddddddddddddddddddddddddddddddddddddddddddddddddddddddddddddddddddddddddddddddddddddddddddddddddddddddddddddddddddddddddddd",
          "<b>Topic 1</b><br>Words: ii, iight, ahhhhhhhhhhhhhhhhhhhhhhhhhhhhhhhhhhhhhhhhhhhhhhhhhhhhhhhhhhhhhhhhhhhhhhhhhhhhhhhhhhhhhhhhhhhhhhhhhhhhhhhhhhhhhhhhhhhhhhhhhhhhhhhhhhhhhhhhhhhhhhhhhhhhhhhhhhhhhhhhhhhhhhhhhhhhhhhhhhhhhhhhhhhhhhhhhhhhhhhhhhhhhhhhhhhhhhhhhhhhhhhhhhhhhhhhhhhhhhhhhhhhhhhhhhhhhhhhhhhhhhhh, werty, xddddddddddddddddddddddddddddddddddddddddddddddddddddddddddddddddddddddddddddddddddddddddddddddddddddddddddddddddddddddddddddddddddddddddddddddddddddddddddddddddddddddddddddddddddddddddddddddddddddddddddddddddddddddddddddddddddddddddddddddddddddddddddddddddddddddddddddddddddddddddddddddddddddddddddddddddddddddddddddddddddddddddddddddddddddddddddddddddddddddddddddddddddddddddddddddddddddddddddddddddddddddddddddddddddddddddddddddddddd",
          "<b>Topic 1</b><br>Words: ii, iight, ahhhhhhhhhhhhhhhhhhhhhhhhhhhhhhhhhhhhhhhhhhhhhhhhhhhhhhhhhhhhhhhhhhhhhhhhhhhhhhhhhhhhhhhhhhhhhhhhhhhhhhhhhhhhhhhhhhhhhhhhhhhhhhhhhhhhhhhhhhhhhhhhhhhhhhhhhhhhhhhhhhhhhhhhhhhhhhhhhhhhhhhhhhhhhhhhhhhhhhhhhhhhhhhhhhhhhhhhhhhhhhhhhhhhhhhhhhhhhhhhhhhhhhhhhhhhhhhhhhhhhhhh, werty, xddddddddddddddddddddddddddddddddddddddddddddddddddddddddddddddddddddddddddddddddddddddddddddddddddddddddddddddddddddddddddddddddddddddddddddddddddddddddddddddddddddddddddddddddddddddddddddddddddddddddddddddddddddddddddddddddddddddddddddddddddddddddddddddddddddddddddddddddddddddddddddddddddddddddddddddddddddddddddddddddddddddddddddddddddddddddddddddddddddddddddddddddddddddddddddddddddddddddddddddddddddddddddddddddddddddddddddddddddd",
          "<b>Topic 1</b><br>Words: ii, iight, ahhhhhhhhhhhhhhhhhhhhhhhhhhhhhhhhhhhhhhhhhhhhhhhhhhhhhhhhhhhhhhhhhhhhhhhhhhhhhhhhhhhhhhhhhhhhhhhhhhhhhhhhhhhhhhhhhhhhhhhhhhhhhhhhhhhhhhhhhhhhhhhhhhhhhhhhhhhhhhhhhhhhhhhhhhhhhhhhhhhhhhhhhhhhhhhhhhhhhhhhhhhhhhhhhhhhhhhhhhhhhhhhhhhhhhhhhhhhhhhhhhhhhhhhhhhhhhhhhhhhhhhh, werty, xddddddddddddddddddddddddddddddddddddddddddddddddddddddddddddddddddddddddddddddddddddddddddddddddddddddddddddddddddddddddddddddddddddddddddddddddddddddddddddddddddddddddddddddddddddddddddddddddddddddddddddddddddddddddddddddddddddddddddddddddddddddddddddddddddddddddddddddddddddddddddddddddddddddddddddddddddddddddddddddddddddddddddddddddddddddddddddddddddddddddddddddddddddddddddddddddddddddddddddddddddddddddddddddddddddddddddddddddddd",
          "<b>Topic 1</b><br>Words: ii, iight, ahhhhhhhhhhhhhhhhhhhhhhhhhhhhhhhhhhhhhhhhhhhhhhhhhhhhhhhhhhhhhhhhhhhhhhhhhhhhhhhhhhhhhhhhhhhhhhhhhhhhhhhhhhhhhhhhhhhhhhhhhhhhhhhhhhhhhhhhhhhhhhhhhhhhhhhhhhhhhhhhhhhhhhhhhhhhhhhhhhhhhhhhhhhhhhhhhhhhhhhhhhhhhhhhhhhhhhhhhhhhhhhhhhhhhhhhhhhhhhhhhhhhhhhhhhhhhhhhhhhhhhhh, werty, xddddddddddddddddddddddddddddddddddddddddddddddddddddddddddddddddddddddddddddddddddddddddddddddddddddddddddddddddddddddddddddddddddddddddddddddddddddddddddddddddddddddddddddddddddddddddddddddddddddddddddddddddddddddddddddddddddddddddddddddddddddddddddddddddddddddddddddddddddddddddddddddddddddddddddddddddddddddddddddddddddddddddddddddddddddddddddddddddddddddddddddddddddddddddddddddddddddddddddddddddddddddddddddddddddddddddddddddddddd",
          "<b>Topic 1</b><br>Words: werty, ii, iight, ahhhhhhhhhhhhhhhhhhhhhhhhhhhhhhhhhhhhhhhhhhhhhhhhhhhhhhhhhhhhhhhhhhhhhhhhhhhhhhhhhhhhhhhhhhhhhhhhhhhhhhhhhhhhhhhhhhhhhhhhhhhhhhhhhhhhhhhhhhhhhhhhhhhhhhhhhhhhhhhhhhhhhhhhhhhhhhhhhhhhhhhhhhhhhhhhhhhhhhhhhhhhhhhhhhhhhhhhhhhhhhhhhhhhhhhhhhhhhhhhhhhhhhhhhhhhhhhhhhhhhhhh, xddddddddddddddddddddddddddddddddddddddddddddddddddddddddddddddddddddddddddddddddddddddddddddddddddddddddddddddddddddddddddddddddddddddddddddddddddddddddddddddddddddddddddddddddddddddddddddddddddddddddddddddddddddddddddddddddddddddddddddddddddddddddddddddddddddddddddddddddddddddddddddddddddddddddddddddddddddddddddddddddddddddddddddddddddddddddddddddddddddddddddddddddddddddddddddddddddddddddddddddddddddddddddddddddddddddddddddddddddd",
          "<b>Topic 1</b><br>Words: last, ii, iight, ahhhhhhhhhhhhhhhhhhhhhhhhhhhhhhhhhhhhhhhhhhhhhhhhhhhhhhhhhhhhhhhhhhhhhhhhhhhhhhhhhhhhhhhhhhhhhhhhhhhhhhhhhhhhhhhhhhhhhhhhhhhhhhhhhhhhhhhhhhhhhhhhhhhhhhhhhhhhhhhhhhhhhhhhhhhhhhhhhhhhhhhhhhhhhhhhhhhhhhhhhhhhhhhhhhhhhhhhhhhhhhhhhhhhhhhhhhhhhhhhhhhhhhhhhhhhhhhhhhhhhhhh, werty",
          "<b>Topic 1</b><br>Words: ii, long, iight, ahhhhhhhhhhhhhhhhhhhhhhhhhhhhhhhhhhhhhhhhhhhhhhhhhhhhhhhhhhhhhhhhhhhhhhhhhhhhhhhhhhhhhhhhhhhhhhhhhhhhhhhhhhhhhhhhhhhhhhhhhhhhhhhhhhhhhhhhhhhhhhhhhhhhhhhhhhhhhhhhhhhhhhhhhhhhhhhhhhhhhhhhhhhhhhhhhhhhhhhhhhhhhhhhhhhhhhhhhhhhhhhhhhhhhhhhhhhhhhhhhhhhhhhhhhhhhhhhhhhhhhhh, werty",
          "<b>Topic 1</b><br>Words: xddddddddddddddddddddddddddddddddddddddddddddddddddddddddddddddddddddddddddddddddddddddddddddddddddddddddddddddddddddddddddddddddddddddddddddddddddddddddddddddddddddddddddddddddddddddddddddddddddddddddddddddddddddddddddddddddddddddddddddddddddddddddddddddddddddddddddddddddddddddddddddddddddddddddddddddddddddddddddddddddddddddddddddddddddddddddddddddddddddddddddddddddddddddddddddddddddddddddddddddddddddddddddddddddddddddddddddddddddd, ii, iight, ahhhhhhhhhhhhhhhhhhhhhhhhhhhhhhhhhhhhhhhhhhhhhhhhhhhhhhhhhhhhhhhhhhhhhhhhhhhhhhhhhhhhhhhhhhhhhhhhhhhhhhhhhhhhhhhhhhhhhhhhhhhhhhhhhhhhhhhhhhhhhhhhhhhhhhhhhhhhhhhhhhhhhhhhhhhhhhhhhhhhhhhhhhhhhhhhhhhhhhhhhhhhhhhhhhhhhhhhhhhhhhhhhhhhhhhhhhhhhhhhhhhhhhhhhhhhhhhhhhhhhhhh, werty",
          "<b>Topic 1</b><br>Words: ii, iight, ahhhhhhhhhhhhhhhhhhhhhhhhhhhhhhhhhhhhhhhhhhhhhhhhhhhhhhhhhhhhhhhhhhhhhhhhhhhhhhhhhhhhhhhhhhhhhhhhhhhhhhhhhhhhhhhhhhhhhhhhhhhhhhhhhhhhhhhhhhhhhhhhhhhhhhhhhhhhhhhhhhhhhhhhhhhhhhhhhhhhhhhhhhhhhhhhhhhhhhhhhhhhhhhhhhhhhhhhhhhhhhhhhhhhhhhhhhhhhhhhhhhhhhhhhhhhhhhhhhhhhhhh, werty, xddddddddddddddddddddddddddddddddddddddddddddddddddddddddddddddddddddddddddddddddddddddddddddddddddddddddddddddddddddddddddddddddddddddddddddddddddddddddddddddddddddddddddddddddddddddddddddddddddddddddddddddddddddddddddddddddddddddddddddddddddddddddddddddddddddddddddddddddddddddddddddddddddddddddddddddddddddddddddddddddddddddddddddddddddddddddddddddddddddddddddddddddddddddddddddddddddddddddddddddddddddddddddddddddddddddddddddddddddd",
          "<b>Topic 1</b><br>Words: xd, ii, iight, ahhhhhhhhhhhhhhhhhhhhhhhhhhhhhhhhhhhhhhhhhhhhhhhhhhhhhhhhhhhhhhhhhhhhhhhhhhhhhhhhhhhhhhhhhhhhhhhhhhhhhhhhhhhhhhhhhhhhhhhhhhhhhhhhhhhhhhhhhhhhhhhhhhhhhhhhhhhhhhhhhhhhhhhhhhhhhhhhhhhhhhhhhhhhhhhhhhhhhhhhhhhhhhhhhhhhhhhhhhhhhhhhhhhhhhhhhhhhhhhhhhhhhhhhhhhhhhhhhhhhhhhh, werty",
          "<b>Topic 1</b><br>Words: ahhhhhhhhhhhhhhhhhhhhhhhhhhhhhhhhhhhhhhhhhhhhhhhhhhhhhhhhhhhhhhhhhhhhhhhhhhhhhhhhhhhhhhhhhhhhhhhhhhhhhhhhhhhhhhhhhhhhhhhhhhhhhhhhhhhhhhhhhhhhhhhhhhhhhhhhhhhhhhhhhhhhhhhhhhhhhhhhhhhhhhhhhhhhhhhhhhhhhhhhhhhhhhhhhhhhhhhhhhhhhhhhhhhhhhhhhhhhhhhhhhhhhhhhhhhhhhhhhhhhhhhh, ii, iight, werty, xddddddddddddddddddddddddddddddddddddddddddddddddddddddddddddddddddddddddddddddddddddddddddddddddddddddddddddddddddddddddddddddddddddddddddddddddddddddddddddddddddddddddddddddddddddddddddddddddddddddddddddddddddddddddddddddddddddddddddddddddddddddddddddddddddddddddddddddddddddddddddddddddddddddddddddddddddddddddddddddddddddddddddddddddddddddddddddddddddddddddddddddddddddddddddddddddddddddddddddddddddddddddddddddddddddddddddddddddddd",
          "<b>Topic 1</b><br>Words: ii, iight, ahhhhhhhhhhhhhhhhhhhhhhhhhhhhhhhhhhhhhhhhhhhhhhhhhhhhhhhhhhhhhhhhhhhhhhhhhhhhhhhhhhhhhhhhhhhhhhhhhhhhhhhhhhhhhhhhhhhhhhhhhhhhhhhhhhhhhhhhhhhhhhhhhhhhhhhhhhhhhhhhhhhhhhhhhhhhhhhhhhhhhhhhhhhhhhhhhhhhhhhhhhhhhhhhhhhhhhhhhhhhhhhhhhhhhhhhhhhhhhhhhhhhhhhhhhhhhhhhhhhhhhhh, werty, xddddddddddddddddddddddddddddddddddddddddddddddddddddddddddddddddddddddddddddddddddddddddddddddddddddddddddddddddddddddddddddddddddddddddddddddddddddddddddddddddddddddddddddddddddddddddddddddddddddddddddddddddddddddddddddddddddddddddddddddddddddddddddddddddddddddddddddddddddddddddddddddddddddddddddddddddddddddddddddddddddddddddddddddddddddddddddddddddddddddddddddddddddddddddddddddddddddddddddddddddddddddddddddddddddddddddddddddddddd",
          "<b>Topic 1</b><br>Words: ii, iight, ahhhhhhhhhhhhhhhhhhhhhhhhhhhhhhhhhhhhhhhhhhhhhhhhhhhhhhhhhhhhhhhhhhhhhhhhhhhhhhhhhhhhhhhhhhhhhhhhhhhhhhhhhhhhhhhhhhhhhhhhhhhhhhhhhhhhhhhhhhhhhhhhhhhhhhhhhhhhhhhhhhhhhhhhhhhhhhhhhhhhhhhhhhhhhhhhhhhhhhhhhhhhhhhhhhhhhhhhhhhhhhhhhhhhhhhhhhhhhhhhhhhhhhhhhhhhhhhhhhhhhhhh, werty, xddddddddddddddddddddddddddddddddddddddddddddddddddddddddddddddddddddddddddddddddddddddddddddddddddddddddddddddddddddddddddddddddddddddddddddddddddddddddddddddddddddddddddddddddddddddddddddddddddddddddddddddddddddddddddddddddddddddddddddddddddddddddddddddddddddddddddddddddddddddddddddddddddddddddddddddddddddddddddddddddddddddddddddddddddddddddddddddddddddddddddddddddddddddddddddddddddddddddddddddddddddddddddddddddddddddddddddddddddd",
          "<b>Topic 1</b><br>Words: iight, xy, bro, ii, ahhhhhhhhhhhhhhhhhhhhhhhhhhhhhhhhhhhhhhhhhhhhhhhhhhhhhhhhhhhhhhhhhhhhhhhhhhhhhhhhhhhhhhhhhhhhhhhhhhhhhhhhhhhhhhhhhhhhhhhhhhhhhhhhhhhhhhhhhhhhhhhhhhhhhhhhhhhhhhhhhhhhhhhhhhhhhhhhhhhhhhhhhhhhhhhhhhhhhhhhhhhhhhhhhhhhhhhhhhhhhhhhhhhhhhhhhhhhhhhhhhhhhhhhhhhhhhhhhhhhhhhh"
         ],
         "marker": {
          "color": "#56B4E9"
         },
         "mode": "lines",
         "name": "1_ii_xdddddddddddddddddddddddddddddddddd...",
         "type": "scatter",
         "x": [
          "2015-03-29T08:44:21.032000",
          "2015-09-30T21:42:16.400000",
          "2016-03-30T19:21:24.800000",
          "2016-09-28T17:00:33.200000",
          "2017-03-29T14:39:41.600000",
          "2017-09-27T12:18:50",
          "2018-03-28T09:57:58.400000",
          "2018-09-26T07:37:06.800000",
          "2019-03-27T05:16:15.200000",
          "2019-09-25T02:55:23.600000",
          "2020-03-25T00:34:32",
          "2020-09-22T22:13:40.400000",
          "2021-03-23T19:52:48.800000",
          "2021-09-21T17:31:57.200000",
          "2022-03-22T15:11:05.600000",
          "2022-09-20T12:50:14",
          "2023-03-21T10:29:22.400000",
          "2023-09-19T08:08:30.800000",
          "2024-03-19T05:47:39.200000",
          "2024-09-17T03:26:47.600000"
         ],
         "y": [
          1,
          1,
          4,
          3,
          2,
          2,
          1,
          3,
          8,
          12,
          19,
          14,
          27,
          32,
          26,
          16,
          22,
          34,
          31,
          31
         ]
        },
        {
         "hoverinfo": "text",
         "hovertext": [
          "<b>Topic 2</b><br>Words: bad, haha, sorry, yeah, somehow",
          "<b>Topic 2</b><br>Words: bad, haha, sorry, yeah, somehow",
          "<b>Topic 2</b><br>Words: bad, haha, sorry, yeah, somehow",
          "<b>Topic 2</b><br>Words: bad, haha, sorry, yeah, somehow",
          "<b>Topic 2</b><br>Words: bad, haha, sorry, yeah, somehow",
          "<b>Topic 2</b><br>Words: bad, somehow, haha, sorry, yeah",
          "<b>Topic 2</b><br>Words: bad, haha, sorry, yeah, somehow",
          "<b>Topic 2</b><br>Words: bad, haha, one, sorry, yeah",
          "<b>Topic 2</b><br>Words: bad, haha, sorry, yeah, somehow",
          "<b>Topic 2</b><br>Words: bad, haha, sorry, yeah, somehow",
          "<b>Topic 2</b><br>Words: bad, sorry, haha, yeah, somehow",
          "<b>Topic 2</b><br>Words: bad, haha, sorry, yeah, somehow",
          "<b>Topic 2</b><br>Words: bad, haha, sorry, yeah, somehow",
          "<b>Topic 2</b><br>Words: bad, haha, say, much, really",
          "<b>Topic 2</b><br>Words: bad, yeah, still, haha, sorry"
         ],
         "marker": {
          "color": "#009E73"
         },
         "mode": "lines",
         "name": "2_bad_haha_sorry_yeah",
         "type": "scatter",
         "x": [
          "2017-03-29T14:39:41.600000",
          "2017-09-27T12:18:50",
          "2018-03-28T09:57:58.400000",
          "2019-03-27T05:16:15.200000",
          "2019-09-25T02:55:23.600000",
          "2020-03-25T00:34:32",
          "2020-09-22T22:13:40.400000",
          "2021-03-23T19:52:48.800000",
          "2021-09-21T17:31:57.200000",
          "2022-03-22T15:11:05.600000",
          "2022-09-20T12:50:14",
          "2023-03-21T10:29:22.400000",
          "2023-09-19T08:08:30.800000",
          "2024-03-19T05:47:39.200000",
          "2024-09-17T03:26:47.600000"
         ],
         "y": [
          1,
          2,
          1,
          3,
          4,
          10,
          5,
          17,
          13,
          9,
          3,
          11,
          2,
          20,
          11
         ]
        },
        {
         "hoverinfo": "text",
         "hovertext": [
          "<b>Topic 3</b><br>Words: gangbang, aggro, amped, difficult, undead",
          "<b>Topic 3</b><br>Words: ledge, die, numbing, gaze, hall",
          "<b>Topic 3</b><br>Words: annoy, difficult, target, poison, gulch",
          "<b>Topic 3</b><br>Words: loss, backtrack, permanent, die, stamina",
          "<b>Topic 3</b><br>Words: advantage, heatseeking, danage, bode, disign",
          "<b>Topic 3</b><br>Words: die, developer, hard, make, evidence",
          "<b>Topic 3</b><br>Words: ambush, death, hp, die, brick",
          "<b>Topic 3</b><br>Words: invincible, longer, excruciatingly, chests, refill",
          "<b>Topic 3</b><br>Words: space, pattern, melee, spellcasting, clump",
          "<b>Topic 3</b><br>Words: sloppy, sometimes, call, frozen, apparent",
          "<b>Topic 3</b><br>Words: chase, die, mist, cheap, solely",
          "<b>Topic 3</b><br>Words: combo, weapon, hit, armor, mob",
          "<b>Topic 3</b><br>Words: hit, box, dig, mechanic, area",
          "<b>Topic 3</b><br>Words: die, learn, health, mob, time",
          "<b>Topic 3</b><br>Words: ambush, bos, cheap, chariot, teach",
          "<b>Topic 3</b><br>Words: permit, allocate, approximately, scale, gain",
          "<b>Topic 3</b><br>Words: try, die, past, weapon, health",
          "<b>Topic 3</b><br>Words: specially, amount, lever, door, swarm",
          "<b>Topic 3</b><br>Words: hard, crappy, flask, click, walk",
          "<b>Topic 3</b><br>Words: chase, die, ridiculous, terrible, irritation"
         ],
         "marker": {
          "color": "#F0E442"
         },
         "mode": "lines",
         "name": "3_die_hard_enemy_hit",
         "type": "scatter",
         "x": [
          "2015-03-29T08:44:21.032000",
          "2015-09-30T21:42:16.400000",
          "2016-03-30T19:21:24.800000",
          "2016-09-28T17:00:33.200000",
          "2017-03-29T14:39:41.600000",
          "2017-09-27T12:18:50",
          "2018-03-28T09:57:58.400000",
          "2018-09-26T07:37:06.800000",
          "2019-03-27T05:16:15.200000",
          "2019-09-25T02:55:23.600000",
          "2020-03-25T00:34:32",
          "2020-09-22T22:13:40.400000",
          "2021-03-23T19:52:48.800000",
          "2021-09-21T17:31:57.200000",
          "2022-03-22T15:11:05.600000",
          "2022-09-20T12:50:14",
          "2023-03-21T10:29:22.400000",
          "2023-09-19T08:08:30.800000",
          "2024-03-19T05:47:39.200000",
          "2024-09-17T03:26:47.600000"
         ],
         "y": [
          4,
          3,
          3,
          4,
          3,
          4,
          7,
          1,
          2,
          4,
          7,
          7,
          7,
          12,
          4,
          6,
          7,
          4,
          10,
          9
         ]
        },
        {
         "hoverinfo": "text",
         "hovertext": [
          "<b>Topic 4</b><br>Words: port, pc, xbox, console, keyboard",
          "<b>Topic 4</b><br>Words: port, console, pc, keyboard, button",
          "<b>Topic 4</b><br>Words: port, gamepad, angrily, pc, shite",
          "<b>Topic 4</b><br>Words: port, pc, prompt, console, amoeba",
          "<b>Topic 4</b><br>Words: port, pc, console, control, keyboard",
          "<b>Topic 4</b><br>Words: port, pc, console, optimally, invalid",
          "<b>Topic 4</b><br>Words: user, acceleration, port, forum, study",
          "<b>Topic 4</b><br>Words: port, config, consol, cant, lemon",
          "<b>Topic 4</b><br>Words: port, crash, pc, maby, stratus",
          "<b>Topic 4</b><br>Words: port, lousy, pc, praised, remapping",
          "<b>Topic 4</b><br>Words: port, pc, xbox, controller, console",
          "<b>Topic 4</b><br>Words: port, pc, useable, controller, waifus",
          "<b>Topic 4</b><br>Words: port, pc, unrealistly, console, displeasure",
          "<b>Topic 4</b><br>Words: port, pc, console, keyboard, mouse",
          "<b>Topic 4</b><br>Words: port, pc, prompt, console, ported",
          "<b>Topic 4</b><br>Words: port, pc, dysfunctional, amnesia, controler",
          "<b>Topic 4</b><br>Words: port, pc, iterate, fuck, exemple",
          "<b>Topic 4</b><br>Words: port, pc, obviously, properly, serial",
          "<b>Topic 4</b><br>Words: port, pc, mouse, keyboard, monitor",
          "<b>Topic 4</b><br>Words: port, pc, plug, key, jump"
         ],
         "marker": {
          "color": "#D55E00"
         },
         "mode": "lines",
         "name": "4_port_pc_console_keyboard",
         "type": "scatter",
         "x": [
          "2015-03-29T08:44:21.032000",
          "2015-09-30T21:42:16.400000",
          "2016-03-30T19:21:24.800000",
          "2016-09-28T17:00:33.200000",
          "2017-03-29T14:39:41.600000",
          "2017-09-27T12:18:50",
          "2018-03-28T09:57:58.400000",
          "2018-09-26T07:37:06.800000",
          "2019-03-27T05:16:15.200000",
          "2019-09-25T02:55:23.600000",
          "2020-03-25T00:34:32",
          "2020-09-22T22:13:40.400000",
          "2021-03-23T19:52:48.800000",
          "2021-09-21T17:31:57.200000",
          "2022-03-22T15:11:05.600000",
          "2022-09-20T12:50:14",
          "2023-03-21T10:29:22.400000",
          "2023-09-19T08:08:30.800000",
          "2024-03-19T05:47:39.200000",
          "2024-09-17T03:26:47.600000"
         ],
         "y": [
          9,
          8,
          3,
          5,
          14,
          4,
          1,
          4,
          3,
          2,
          5,
          3,
          5,
          8,
          4,
          5,
          5,
          3,
          9,
          7
         ]
        },
        {
         "hoverinfo": "text",
         "hovertext": [
          "<b>Topic 5</b><br>Words: elden, ring, already, finish, bad",
          "<b>Topic 5</b><br>Words: doo, eldin, ring, elden, reduction",
          "<b>Topic 5</b><br>Words: elden, ring, alva, lie, helmet",
          "<b>Topic 5</b><br>Words: elden, ring, multiplayer, server, doggy",
          "<b>Topic 5</b><br>Words: elden, ring, company, anyone, widen",
          "<b>Topic 5</b><br>Words: elden, ring, lost, sinner, lecture",
          "<b>Topic 5</b><br>Words: elden, ring, newfound, electric, boogaloo",
          "<b>Topic 5</b><br>Words: elden, ring, lego, sekiro, masterclasses",
          "<b>Topic 5</b><br>Words: elden, ring, ctrl, ii, clinically"
         ],
         "marker": {
          "color": "#0072B2"
         },
         "mode": "lines",
         "name": "5_elden_ring_play_ctrl",
         "type": "scatter",
         "x": [
          "2020-03-25T00:34:32",
          "2021-03-23T19:52:48.800000",
          "2021-09-21T17:31:57.200000",
          "2022-03-22T15:11:05.600000",
          "2022-09-20T12:50:14",
          "2023-03-21T10:29:22.400000",
          "2023-09-19T08:08:30.800000",
          "2024-03-19T05:47:39.200000",
          "2024-09-17T03:26:47.600000"
         ],
         "y": [
          1,
          2,
          10,
          18,
          11,
          8,
          13,
          16,
          13
         ]
        },
        {
         "hoverinfo": "text",
         "hovertext": [
          "<b>Topic 6</b><br>Words: trash, mob, ever, bin, muk",
          "<b>Topic 6</b><br>Words: trash, caca, bin, muk, whacanisay",
          "<b>Topic 6</b><br>Words: trash, bb, plain, simple, core",
          "<b>Topic 6</b><br>Words: trash, bin, muk, whacanisay, gatekeeping",
          "<b>Topic 6</b><br>Words: trash, salty, ban, bin, muk",
          "<b>Topic 6</b><br>Words: trash, whacanisay, disgust, bin, muk",
          "<b>Topic 6</b><br>Words: trash, bin, muk, whacanisay, gatekeeping",
          "<b>Topic 6</b><br>Words: trash, life, waste, shit, bin",
          "<b>Topic 6</b><br>Words: trash, bin, dks, actual, garbage",
          "<b>Topic 6</b><br>Words: trash, bin, pretty, muk, whacanisay",
          "<b>Topic 6</b><br>Words: trash, dino, rex, bin, muk",
          "<b>Topic 6</b><br>Words: trash, iii, rush, bug, absolutely",
          "<b>Topic 6</b><br>Words: trash, muk, dog, actual, guy",
          "<b>Topic 6</b><br>Words: trash, horrendous, tho, sir, alonne",
          "<b>Topic 6</b><br>Words: trash, schholar, burger, bin, tl",
          "<b>Topic 6</b><br>Words: trash, fcking, as, stupid, far",
          "<b>Topic 6</b><br>Words: trash, dogpile, gatekeeping, hear, im",
          "<b>Topic 6</b><br>Words: trash, hella, literally, experience, bin"
         ],
         "marker": {
          "color": "#CC79A7"
         },
         "mode": "lines",
         "name": "6_trash_bin_muk_whacanisay",
         "type": "scatter",
         "x": [
          "2015-03-29T08:44:21.032000",
          "2015-09-30T21:42:16.400000",
          "2016-09-28T17:00:33.200000",
          "2017-03-29T14:39:41.600000",
          "2018-03-28T09:57:58.400000",
          "2018-09-26T07:37:06.800000",
          "2019-03-27T05:16:15.200000",
          "2019-09-25T02:55:23.600000",
          "2020-03-25T00:34:32",
          "2020-09-22T22:13:40.400000",
          "2021-03-23T19:52:48.800000",
          "2021-09-21T17:31:57.200000",
          "2022-03-22T15:11:05.600000",
          "2022-09-20T12:50:14",
          "2023-03-21T10:29:22.400000",
          "2023-09-19T08:08:30.800000",
          "2024-03-19T05:47:39.200000",
          "2024-09-17T03:26:47.600000"
         ],
         "y": [
          1,
          2,
          2,
          1,
          6,
          2,
          2,
          1,
          4,
          4,
          7,
          10,
          2,
          8,
          6,
          4,
          11,
          6
         ]
        },
        {
         "hoverinfo": "text",
         "hovertext": [
          "<b>Topic 7</b><br>Words: tv, season, show, really, series",
          "<b>Topic 7</b><br>Words: weak, series, bad, franchise, stain",
          "<b>Topic 7</b><br>Words: trilogy, easy, series, bad, franchise",
          "<b>Topic 7</b><br>Words: belong, utter, pile, franchise, series",
          "<b>Topic 7</b><br>Words: anecdotal, series, billion, obnoxiously, evidence",
          "<b>Topic 7</b><br>Words: pozoriwe, ebanoe, gaem, franchise, series",
          "<b>Topic 7</b><br>Words: series, unrefined, diehard, others, solve",
          "<b>Topic 7</b><br>Words: series, stain, submit, renowned, competent",
          "<b>Topic 7</b><br>Words: series, franchise, botch, po, idiot",
          "<b>Topic 7</b><br>Words: series, stain, society, prison, pant",
          "<b>Topic 7</b><br>Words: series, jankiest, margin, clunkiest, far",
          "<b>Topic 7</b><br>Words: series, godfather, accomplishment, worth, worst",
          "<b>Topic 7</b><br>Words: longman, series, mauler, safely, installment",
          "<b>Topic 7</b><br>Words: series, insignificant, milestone, sparse, undeniably",
          "<b>Topic 7</b><br>Words: series, worst, restructuring, contentious, deserving",
          "<b>Topic 7</b><br>Words: series, indeed, garbage, shame, franchise",
          "<b>Topic 7</b><br>Words: series, sicken, truly, prison, stain"
         ],
         "marker": {
          "color": "#E69F00"
         },
         "mode": "lines",
         "name": "7_series_bad_franchise_stain",
         "type": "scatter",
         "x": [
          "2015-09-30T21:42:16.400000",
          "2016-09-28T17:00:33.200000",
          "2017-03-29T14:39:41.600000",
          "2018-03-28T09:57:58.400000",
          "2018-09-26T07:37:06.800000",
          "2019-03-27T05:16:15.200000",
          "2019-09-25T02:55:23.600000",
          "2020-03-25T00:34:32",
          "2020-09-22T22:13:40.400000",
          "2021-03-23T19:52:48.800000",
          "2021-09-21T17:31:57.200000",
          "2022-03-22T15:11:05.600000",
          "2022-09-20T12:50:14",
          "2023-03-21T10:29:22.400000",
          "2023-09-19T08:08:30.800000",
          "2024-03-19T05:47:39.200000",
          "2024-09-17T03:26:47.600000"
         ],
         "y": [
          1,
          1,
          1,
          2,
          3,
          2,
          5,
          8,
          7,
          7,
          4,
          5,
          3,
          5,
          9,
          5,
          5
         ]
        },
        {
         "hoverinfo": "text",
         "hovertext": [
          "<b>Topic 8</b><br>Words: shitbox, tryhard, phantom, love, hit",
          "<b>Topic 8</b><br>Words: hitboxes, terrible, see, ever, bad",
          "<b>Topic 8</b><br>Words: supplement, cardboard, hitbox, box, hacker",
          "<b>Topic 8</b><br>Words: hitboxes, thing, box, hitbox, hit",
          "<b>Topic 8</b><br>Words: remaster, ai, hitboxes, despite, fact",
          "<b>Topic 8</b><br>Words: hitboxes, unresponsive, shitty, super, absolute",
          "<b>Topic 8</b><br>Words: hitboxes, hurtboxes, blank, dagger, history",
          "<b>Topic 8</b><br>Words: box, shithole, hitboxes, minecraft, riddle",
          "<b>Topic 8</b><br>Words: hitbox, hitboxes, katona, creat, pisspoor",
          "<b>Topic 8</b><br>Words: hitboxes, size, morrowind, retardisam, box",
          "<b>Topic 8</b><br>Words: hitboxes, shitty, box, kruisers, cockgame",
          "<b>Topic 8</b><br>Words: hitboxes, noose, stepchild, shoulder, wack",
          "<b>Topic 8</b><br>Words: ah, goofy, hitbox, box, must",
          "<b>Topic 8</b><br>Words: whack, legit, runbacks, box, hitboxes",
          "<b>Topic 8</b><br>Words: box, hitboxes, throb, desk, size",
          "<b>Topic 8</b><br>Words: hitboxes, terriuble, asf, corrupt, box",
          "<b>Topic 8</b><br>Words: hitboxes, pyrocynicals, commisions, hitboxex, terrible"
         ],
         "marker": {
          "color": "#56B4E9"
         },
         "mode": "lines",
         "name": "8_hitboxes_box_hitbox_hit",
         "type": "scatter",
         "x": [
          "2016-03-30T19:21:24.800000",
          "2016-09-28T17:00:33.200000",
          "2017-09-27T12:18:50",
          "2018-03-28T09:57:58.400000",
          "2018-09-26T07:37:06.800000",
          "2019-03-27T05:16:15.200000",
          "2019-09-25T02:55:23.600000",
          "2020-03-25T00:34:32",
          "2020-09-22T22:13:40.400000",
          "2021-03-23T19:52:48.800000",
          "2021-09-21T17:31:57.200000",
          "2022-03-22T15:11:05.600000",
          "2022-09-20T12:50:14",
          "2023-03-21T10:29:22.400000",
          "2023-09-19T08:08:30.800000",
          "2024-03-19T05:47:39.200000",
          "2024-09-17T03:26:47.600000"
         ],
         "y": [
          2,
          1,
          2,
          1,
          1,
          3,
          3,
          4,
          6,
          8,
          10,
          6,
          2,
          3,
          7,
          6,
          7
         ]
        },
        {
         "hoverinfo": "text",
         "hovertext": [
          "<b>Topic 9</b><br>Words: suck, as, ngl, salty, beat",
          "<b>Topic 9</b><br>Words: suck, as, ngl, salty, beat",
          "<b>Topic 9</b><br>Words: xd, suck, as, ngl, salty",
          "<b>Topic 9</b><br>Words: suck, as, ngl, salty, beat",
          "<b>Topic 9</b><br>Words: suck, bed, go, as, ngl",
          "<b>Topic 9</b><br>Words: suck, as, ngl, salty, beat",
          "<b>Topic 9</b><br>Words: suck, fucking, hard, as, ngl",
          "<b>Topic 9</b><br>Words: suck, sucky, as, salty, nut",
          "<b>Topic 9</b><br>Words: suck, as, right, ii, people",
          "<b>Topic 9</b><br>Words: suck, salty, listen, im, hard",
          "<b>Topic 9</b><br>Words: suck, as, sucker, lmao, cry",
          "<b>Topic 9</b><br>Words: suck, painful, as, beat, ngl",
          "<b>Topic 9</b><br>Words: suck, confidently, as, beat, actually",
          "<b>Topic 9</b><br>Words: suck, as, omega, ngl, horse",
          "<b>Topic 9</b><br>Words: suck, original, one, as, ngl",
          "<b>Topic 9</b><br>Words: suck, ngl, penis, mad, hear",
          "<b>Topic 9</b><br>Words: suck, attention, man, pay, someone"
         ],
         "marker": {
          "color": "#009E73"
         },
         "mode": "lines",
         "name": "9_suck_as_ngl_salty",
         "type": "scatter",
         "x": [
          "2015-09-30T21:42:16.400000",
          "2016-03-30T19:21:24.800000",
          "2017-03-29T14:39:41.600000",
          "2017-09-27T12:18:50",
          "2018-03-28T09:57:58.400000",
          "2018-09-26T07:37:06.800000",
          "2019-03-27T05:16:15.200000",
          "2020-03-25T00:34:32",
          "2020-09-22T22:13:40.400000",
          "2021-03-23T19:52:48.800000",
          "2021-09-21T17:31:57.200000",
          "2022-03-22T15:11:05.600000",
          "2022-09-20T12:50:14",
          "2023-03-21T10:29:22.400000",
          "2023-09-19T08:08:30.800000",
          "2024-03-19T05:47:39.200000",
          "2024-09-17T03:26:47.600000"
         ],
         "y": [
          1,
          1,
          1,
          2,
          2,
          1,
          2,
          7,
          4,
          4,
          11,
          1,
          6,
          8,
          3,
          11,
          7
         ]
        },
        {
         "hoverinfo": "text",
         "hovertext": [
          "<b>Topic 10</b><br>Words: cfacepalm, fool, shame, twice, frustrating",
          "<b>Topic 10</b><br>Words: fite, awful, fuck, terrible, horrible",
          "<b>Topic 10</b><br>Words: awful, terrible, half, good, horrible",
          "<b>Topic 10</b><br>Words: horrible, terrible, awful, shame, disgrace",
          "<b>Topic 10</b><br>Words: horrible, attempt, actual, terrible, awful",
          "<b>Topic 10</b><br>Words: legacy, disgrace, horrible, awful, terrible",
          "<b>Topic 10</b><br>Words: terrible, disgrace, travesty, horrible, awful",
          "<b>Topic 10</b><br>Words: disgraceful, terrible, atrocious, awful, lol",
          "<b>Topic 10</b><br>Words: horrific, sorry, horrible, terrible, awful",
          "<b>Topic 10</b><br>Words: fing, awful, terrible, horrible, absolutely",
          "<b>Topic 10</b><br>Words: improvident, profoundly, terrible, unreasonably, shame",
          "<b>Topic 10</b><br>Words: apology, hbomberguy, awful, overhated, terrible",
          "<b>Topic 10</b><br>Words: sin, ashamed, horrible, forgive, awful",
          "<b>Topic 10</b><br>Words: terrible, awful, dissapointing, horrible, shame",
          "<b>Topic 10</b><br>Words: terrible, horrible, scornful, absolutely, awful"
         ],
         "marker": {
          "color": "#F0E442"
         },
         "mode": "lines",
         "name": "10_terrible_awful_horrible_shame",
         "type": "scatter",
         "x": [
          "2015-03-29T08:44:21.032000",
          "2015-09-30T21:42:16.400000",
          "2016-09-28T17:00:33.200000",
          "2018-03-28T09:57:58.400000",
          "2019-03-27T05:16:15.200000",
          "2019-09-25T02:55:23.600000",
          "2020-03-25T00:34:32",
          "2021-03-23T19:52:48.800000",
          "2021-09-21T17:31:57.200000",
          "2022-03-22T15:11:05.600000",
          "2022-09-20T12:50:14",
          "2023-03-21T10:29:22.400000",
          "2023-09-19T08:08:30.800000",
          "2024-03-19T05:47:39.200000",
          "2024-09-17T03:26:47.600000"
         ],
         "y": [
          2,
          1,
          2,
          1,
          2,
          3,
          7,
          5,
          5,
          5,
          4,
          5,
          5,
          12,
          10
         ]
        },
        {
         "hoverinfo": "text",
         "hovertext": [
          "<b>Topic 11</b><br>Words: screen, crash, hz, dx, issue",
          "<b>Topic 11</b><br>Words: screen, crash, adressed, fo, sdreen",
          "<b>Topic 11</b><br>Words: hz, fps, gsync, fixes, support",
          "<b>Topic 11</b><br>Words: screen, zbook, qlitchin, bounching, arround",
          "<b>Topic 11</b><br>Words: screen, tear, gsync, hz, mode",
          "<b>Topic 11</b><br>Words: crash, launch, hz, peek, fullscreen",
          "<b>Topic 11</b><br>Words: crash, monitor, abhorrently, dropbox, suiside",
          "<b>Topic 11</b><br>Words: monstrous, external, tired, fullscreen, monitor",
          "<b>Topic 11</b><br>Words: hz, fullscreen, fix, ultrawide, support",
          "<b>Topic 11</b><br>Words: screen, hz, refresh, display, thousand",
          "<b>Topic 11</b><br>Words: remebered, ultrawide, hz, configure, screen",
          "<b>Topic 11</b><br>Words: fps, screen, hz, cap, windowed",
          "<b>Topic 11</b><br>Words: fullscreen, hz, fix, screen, restart",
          "<b>Topic 11</b><br>Words: ruining, hz, fullscreen, windowed, delve",
          "<b>Topic 11</b><br>Words: fullscreen, driver, screen, refresh, fix",
          "<b>Topic 11</b><br>Words: fullscreen, hz, screen, amazing, mode",
          "<b>Topic 11</b><br>Words: screen, mode, desktop, steamdeck, swap",
          "<b>Topic 11</b><br>Words: deck, desktop, mode, xml, graphicsconfig",
          "<b>Topic 11</b><br>Words: doesen, monitor, startup, tv, reinstall",
          "<b>Topic 11</b><br>Words: crash, screen, fullscreen, inifinite, taskbar"
         ],
         "marker": {
          "color": "#D55E00"
         },
         "mode": "lines",
         "name": "11_screen_hz_fullscreen_crash",
         "type": "scatter",
         "x": [
          "2015-03-29T08:44:21.032000",
          "2015-09-30T21:42:16.400000",
          "2016-03-30T19:21:24.800000",
          "2016-09-28T17:00:33.200000",
          "2017-03-29T14:39:41.600000",
          "2017-09-27T12:18:50",
          "2018-03-28T09:57:58.400000",
          "2018-09-26T07:37:06.800000",
          "2019-03-27T05:16:15.200000",
          "2019-09-25T02:55:23.600000",
          "2020-03-25T00:34:32",
          "2020-09-22T22:13:40.400000",
          "2021-03-23T19:52:48.800000",
          "2021-09-21T17:31:57.200000",
          "2022-03-22T15:11:05.600000",
          "2022-09-20T12:50:14",
          "2023-03-21T10:29:22.400000",
          "2023-09-19T08:08:30.800000",
          "2024-03-19T05:47:39.200000",
          "2024-09-17T03:26:47.600000"
         ],
         "y": [
          9,
          3,
          2,
          4,
          6,
          4,
          3,
          2,
          3,
          5,
          2,
          3,
          5,
          1,
          4,
          2,
          5,
          2,
          1,
          3
         ]
        },
        {
         "hoverinfo": "text",
         "hovertext": [
          "<b>Topic 12</b><br>Words: blunderbuss, edition, depressed, welp, insulting",
          "<b>Topic 12</b><br>Words: exponentially, soulborne, prequel, garbage, soulsborne",
          "<b>Topic 12</b><br>Words: woth, thuroughly, presumably, soulsborne, shot",
          "<b>Topic 12</b><br>Words: response, characater, hellspawn, soulsborne, agonize",
          "<b>Topic 12</b><br>Words: soulsborne, eyeframes, somewhow, previouse, vissualy",
          "<b>Topic 12</b><br>Words: soulsborne, sekiro, game, bloodborne, main",
          "<b>Topic 12</b><br>Words: soulsborne, bloodborne, overlook, sekiro, bunch",
          "<b>Topic 12</b><br>Words: soulsborne, sekiro, forgetable, glitch, bloodborne",
          "<b>Topic 12</b><br>Words: soulsborne, overpadding, nonexistant, breaks, debuff",
          "<b>Topic 12</b><br>Words: soulsborne, social, dice, veteran, sotfs",
          "<b>Topic 12</b><br>Words: soulsborne, soulslike, sekiro, specifically, arachnophobes",
          "<b>Topic 12</b><br>Words: soulsborne, famously, uncreative, hold, slippery",
          "<b>Topic 12</b><br>Words: soulsborne, gotten, tea, soulslikes, cup",
          "<b>Topic 12</b><br>Words: soulsborne, bullsh, elegance, inducing, cake",
          "<b>Topic 12</b><br>Words: soulsborne, replay, platinumed, honesty, spirit"
         ],
         "marker": {
          "color": "#0072B2"
         },
         "mode": "lines",
         "name": "12_soulsborne_sekiro_bloodborne_game",
         "type": "scatter",
         "x": [
          "2015-09-30T21:42:16.400000",
          "2017-03-29T14:39:41.600000",
          "2018-03-28T09:57:58.400000",
          "2018-09-26T07:37:06.800000",
          "2019-03-27T05:16:15.200000",
          "2020-03-25T00:34:32",
          "2020-09-22T22:13:40.400000",
          "2021-03-23T19:52:48.800000",
          "2021-09-21T17:31:57.200000",
          "2022-03-22T15:11:05.600000",
          "2022-09-20T12:50:14",
          "2023-03-21T10:29:22.400000",
          "2023-09-19T08:08:30.800000",
          "2024-03-19T05:47:39.200000",
          "2024-09-17T03:26:47.600000"
         ],
         "y": [
          1,
          2,
          1,
          2,
          2,
          8,
          6,
          8,
          5,
          9,
          7,
          8,
          3,
          3,
          4
         ]
        },
        {
         "hoverinfo": "text",
         "hovertext": [
          "<b>Topic 13</b><br>Words: pvp, pve, laggy, annoying, recomend",
          "<b>Topic 13</b><br>Words: pvp, pve, render, useless, range",
          "<b>Topic 13</b><br>Words: pvp, pve, sadomasochist, dueling, hemmorhoids",
          "<b>Topic 13</b><br>Words: simulator, laggy, pvp, pve, player",
          "<b>Topic 13</b><br>Words: pvp, sense, braille, trainer, replayabylity",
          "<b>Topic 13</b><br>Words: pvp, total, crowd, slot, meter",
          "<b>Topic 13</b><br>Words: pvp, updates, implimented, gamedesign, rematch",
          "<b>Topic 13</b><br>Words: desynchronization, iv, pvp, redeemable, bash",
          "<b>Topic 13</b><br>Words: nitpick, pvp, pvm, hatemail, sweaty",
          "<b>Topic 13</b><br>Words: pvp, humans, inst, involuntary, maxed",
          "<b>Topic 13</b><br>Words: playtime, spurg, sideways, pvp, thumb",
          "<b>Topic 13</b><br>Words: pvp, wise, cease, amazingly, update",
          "<b>Topic 13</b><br>Words: pvp, best, miracle, balance, pve",
          "<b>Topic 13</b><br>Words: hundo, afwul, pvp, fiesta, boosses",
          "<b>Topic 13</b><br>Words: pvp, simplest, bloodborune, pve, touch",
          "<b>Topic 13</b><br>Words: ping, protect, unbearable, netcode, fan",
          "<b>Topic 13</b><br>Words: pvp, beg, spellswap, fuckers, nadir",
          "<b>Topic 13</b><br>Words: pvp, noobslayer, fashionsouls, kitted, sweaty",
          "<b>Topic 13</b><br>Words: lordvessel, tailor, roadblock, detriment, fodder",
          "<b>Topic 13</b><br>Words: pvp, hord, boo, platinumed, stale"
         ],
         "marker": {
          "color": "#CC79A7"
         },
         "mode": "lines",
         "name": "13_pvp_pve_laggy_player",
         "type": "scatter",
         "x": [
          "2015-03-29T08:44:21.032000",
          "2015-09-30T21:42:16.400000",
          "2016-03-30T19:21:24.800000",
          "2016-09-28T17:00:33.200000",
          "2017-03-29T14:39:41.600000",
          "2017-09-27T12:18:50",
          "2018-03-28T09:57:58.400000",
          "2018-09-26T07:37:06.800000",
          "2019-03-27T05:16:15.200000",
          "2019-09-25T02:55:23.600000",
          "2020-03-25T00:34:32",
          "2020-09-22T22:13:40.400000",
          "2021-03-23T19:52:48.800000",
          "2021-09-21T17:31:57.200000",
          "2022-03-22T15:11:05.600000",
          "2022-09-20T12:50:14",
          "2023-03-21T10:29:22.400000",
          "2023-09-19T08:08:30.800000",
          "2024-03-19T05:47:39.200000",
          "2024-09-17T03:26:47.600000"
         ],
         "y": [
          10,
          4,
          1,
          1,
          4,
          3,
          6,
          2,
          2,
          3,
          2,
          4,
          6,
          2,
          4,
          1,
          4,
          4,
          2,
          3
         ]
        },
        {
         "hoverinfo": "text",
         "hovertext": [
          "<b>Topic 14</b><br>Words: crap, shit, could, much, god",
          "<b>Topic 14</b><br>Words: shit, god, crap, thank, dis",
          "<b>Topic 14</b><br>Words: shit, crap, god, thank, dis",
          "<b>Topic 14</b><br>Words: spoiler, shit, god, crap, thank",
          "<b>Topic 14</b><br>Words: shit, god, crap, thank, dis",
          "<b>Topic 14</b><br>Words: shit, god, crap, thank, dis",
          "<b>Topic 14</b><br>Words: mom, ur, shit, god, crap",
          "<b>Topic 14</b><br>Words: shit, yikes, god, crap, thank",
          "<b>Topic 14</b><br>Words: shit, wtf, pure, god, oh",
          "<b>Topic 14</b><br>Words: shit, lmao, epic, kinda, literally",
          "<b>Topic 14</b><br>Words: shit, thank, god, crap, dis",
          "<b>Topic 14</b><br>Words: shit, god, crap, thank, dis",
          "<b>Topic 14</b><br>Words: shit, crap, god, help, still",
          "<b>Topic 14</b><br>Words: shit, sad, else, nothing, still",
          "<b>Topic 14</b><br>Words: shit, ii, god, crap, thank",
          "<b>Topic 14</b><br>Words: shit, dis, thank, crappy, lol",
          "<b>Topic 14</b><br>Words: shit, ngl, stupid, pretty, die"
         ],
         "marker": {
          "color": "#E69F00"
         },
         "mode": "lines",
         "name": "14_shit_god_crap_thank",
         "type": "scatter",
         "x": [
          "2015-03-29T08:44:21.032000",
          "2015-09-30T21:42:16.400000",
          "2016-09-28T17:00:33.200000",
          "2017-03-29T14:39:41.600000",
          "2018-09-26T07:37:06.800000",
          "2019-03-27T05:16:15.200000",
          "2019-09-25T02:55:23.600000",
          "2020-03-25T00:34:32",
          "2020-09-22T22:13:40.400000",
          "2021-03-23T19:52:48.800000",
          "2021-09-21T17:31:57.200000",
          "2022-03-22T15:11:05.600000",
          "2022-09-20T12:50:14",
          "2023-03-21T10:29:22.400000",
          "2023-09-19T08:08:30.800000",
          "2024-03-19T05:47:39.200000",
          "2024-09-17T03:26:47.600000"
         ],
         "y": [
          1,
          1,
          3,
          1,
          1,
          1,
          1,
          4,
          5,
          5,
          2,
          3,
          5,
          6,
          6,
          15,
          6
         ]
        }
       ],
       "layout": {
        "height": 450,
        "hoverlabel": {
         "bgcolor": "white",
         "font": {
          "family": "Rockwell",
          "size": 16
         }
        },
        "legend": {
         "title": {
          "text": "<b>Global Topic Representation"
         }
        },
        "template": {
         "data": {
          "bar": [
           {
            "error_x": {
             "color": "rgb(36,36,36)"
            },
            "error_y": {
             "color": "rgb(36,36,36)"
            },
            "marker": {
             "line": {
              "color": "white",
              "width": 0.5
             },
             "pattern": {
              "fillmode": "overlay",
              "size": 10,
              "solidity": 0.2
             }
            },
            "type": "bar"
           }
          ],
          "barpolar": [
           {
            "marker": {
             "line": {
              "color": "white",
              "width": 0.5
             },
             "pattern": {
              "fillmode": "overlay",
              "size": 10,
              "solidity": 0.2
             }
            },
            "type": "barpolar"
           }
          ],
          "carpet": [
           {
            "aaxis": {
             "endlinecolor": "rgb(36,36,36)",
             "gridcolor": "white",
             "linecolor": "white",
             "minorgridcolor": "white",
             "startlinecolor": "rgb(36,36,36)"
            },
            "baxis": {
             "endlinecolor": "rgb(36,36,36)",
             "gridcolor": "white",
             "linecolor": "white",
             "minorgridcolor": "white",
             "startlinecolor": "rgb(36,36,36)"
            },
            "type": "carpet"
           }
          ],
          "choropleth": [
           {
            "colorbar": {
             "outlinewidth": 1,
             "tickcolor": "rgb(36,36,36)",
             "ticks": "outside"
            },
            "type": "choropleth"
           }
          ],
          "contour": [
           {
            "colorbar": {
             "outlinewidth": 1,
             "tickcolor": "rgb(36,36,36)",
             "ticks": "outside"
            },
            "colorscale": [
             [
              0,
              "#440154"
             ],
             [
              0.1111111111111111,
              "#482878"
             ],
             [
              0.2222222222222222,
              "#3e4989"
             ],
             [
              0.3333333333333333,
              "#31688e"
             ],
             [
              0.4444444444444444,
              "#26828e"
             ],
             [
              0.5555555555555556,
              "#1f9e89"
             ],
             [
              0.6666666666666666,
              "#35b779"
             ],
             [
              0.7777777777777778,
              "#6ece58"
             ],
             [
              0.8888888888888888,
              "#b5de2b"
             ],
             [
              1,
              "#fde725"
             ]
            ],
            "type": "contour"
           }
          ],
          "contourcarpet": [
           {
            "colorbar": {
             "outlinewidth": 1,
             "tickcolor": "rgb(36,36,36)",
             "ticks": "outside"
            },
            "type": "contourcarpet"
           }
          ],
          "heatmap": [
           {
            "colorbar": {
             "outlinewidth": 1,
             "tickcolor": "rgb(36,36,36)",
             "ticks": "outside"
            },
            "colorscale": [
             [
              0,
              "#440154"
             ],
             [
              0.1111111111111111,
              "#482878"
             ],
             [
              0.2222222222222222,
              "#3e4989"
             ],
             [
              0.3333333333333333,
              "#31688e"
             ],
             [
              0.4444444444444444,
              "#26828e"
             ],
             [
              0.5555555555555556,
              "#1f9e89"
             ],
             [
              0.6666666666666666,
              "#35b779"
             ],
             [
              0.7777777777777778,
              "#6ece58"
             ],
             [
              0.8888888888888888,
              "#b5de2b"
             ],
             [
              1,
              "#fde725"
             ]
            ],
            "type": "heatmap"
           }
          ],
          "heatmapgl": [
           {
            "colorbar": {
             "outlinewidth": 1,
             "tickcolor": "rgb(36,36,36)",
             "ticks": "outside"
            },
            "colorscale": [
             [
              0,
              "#440154"
             ],
             [
              0.1111111111111111,
              "#482878"
             ],
             [
              0.2222222222222222,
              "#3e4989"
             ],
             [
              0.3333333333333333,
              "#31688e"
             ],
             [
              0.4444444444444444,
              "#26828e"
             ],
             [
              0.5555555555555556,
              "#1f9e89"
             ],
             [
              0.6666666666666666,
              "#35b779"
             ],
             [
              0.7777777777777778,
              "#6ece58"
             ],
             [
              0.8888888888888888,
              "#b5de2b"
             ],
             [
              1,
              "#fde725"
             ]
            ],
            "type": "heatmapgl"
           }
          ],
          "histogram": [
           {
            "marker": {
             "line": {
              "color": "white",
              "width": 0.6
             }
            },
            "type": "histogram"
           }
          ],
          "histogram2d": [
           {
            "colorbar": {
             "outlinewidth": 1,
             "tickcolor": "rgb(36,36,36)",
             "ticks": "outside"
            },
            "colorscale": [
             [
              0,
              "#440154"
             ],
             [
              0.1111111111111111,
              "#482878"
             ],
             [
              0.2222222222222222,
              "#3e4989"
             ],
             [
              0.3333333333333333,
              "#31688e"
             ],
             [
              0.4444444444444444,
              "#26828e"
             ],
             [
              0.5555555555555556,
              "#1f9e89"
             ],
             [
              0.6666666666666666,
              "#35b779"
             ],
             [
              0.7777777777777778,
              "#6ece58"
             ],
             [
              0.8888888888888888,
              "#b5de2b"
             ],
             [
              1,
              "#fde725"
             ]
            ],
            "type": "histogram2d"
           }
          ],
          "histogram2dcontour": [
           {
            "colorbar": {
             "outlinewidth": 1,
             "tickcolor": "rgb(36,36,36)",
             "ticks": "outside"
            },
            "colorscale": [
             [
              0,
              "#440154"
             ],
             [
              0.1111111111111111,
              "#482878"
             ],
             [
              0.2222222222222222,
              "#3e4989"
             ],
             [
              0.3333333333333333,
              "#31688e"
             ],
             [
              0.4444444444444444,
              "#26828e"
             ],
             [
              0.5555555555555556,
              "#1f9e89"
             ],
             [
              0.6666666666666666,
              "#35b779"
             ],
             [
              0.7777777777777778,
              "#6ece58"
             ],
             [
              0.8888888888888888,
              "#b5de2b"
             ],
             [
              1,
              "#fde725"
             ]
            ],
            "type": "histogram2dcontour"
           }
          ],
          "mesh3d": [
           {
            "colorbar": {
             "outlinewidth": 1,
             "tickcolor": "rgb(36,36,36)",
             "ticks": "outside"
            },
            "type": "mesh3d"
           }
          ],
          "parcoords": [
           {
            "line": {
             "colorbar": {
              "outlinewidth": 1,
              "tickcolor": "rgb(36,36,36)",
              "ticks": "outside"
             }
            },
            "type": "parcoords"
           }
          ],
          "pie": [
           {
            "automargin": true,
            "type": "pie"
           }
          ],
          "scatter": [
           {
            "fillpattern": {
             "fillmode": "overlay",
             "size": 10,
             "solidity": 0.2
            },
            "type": "scatter"
           }
          ],
          "scatter3d": [
           {
            "line": {
             "colorbar": {
              "outlinewidth": 1,
              "tickcolor": "rgb(36,36,36)",
              "ticks": "outside"
             }
            },
            "marker": {
             "colorbar": {
              "outlinewidth": 1,
              "tickcolor": "rgb(36,36,36)",
              "ticks": "outside"
             }
            },
            "type": "scatter3d"
           }
          ],
          "scattercarpet": [
           {
            "marker": {
             "colorbar": {
              "outlinewidth": 1,
              "tickcolor": "rgb(36,36,36)",
              "ticks": "outside"
             }
            },
            "type": "scattercarpet"
           }
          ],
          "scattergeo": [
           {
            "marker": {
             "colorbar": {
              "outlinewidth": 1,
              "tickcolor": "rgb(36,36,36)",
              "ticks": "outside"
             }
            },
            "type": "scattergeo"
           }
          ],
          "scattergl": [
           {
            "marker": {
             "colorbar": {
              "outlinewidth": 1,
              "tickcolor": "rgb(36,36,36)",
              "ticks": "outside"
             }
            },
            "type": "scattergl"
           }
          ],
          "scattermapbox": [
           {
            "marker": {
             "colorbar": {
              "outlinewidth": 1,
              "tickcolor": "rgb(36,36,36)",
              "ticks": "outside"
             }
            },
            "type": "scattermapbox"
           }
          ],
          "scatterpolar": [
           {
            "marker": {
             "colorbar": {
              "outlinewidth": 1,
              "tickcolor": "rgb(36,36,36)",
              "ticks": "outside"
             }
            },
            "type": "scatterpolar"
           }
          ],
          "scatterpolargl": [
           {
            "marker": {
             "colorbar": {
              "outlinewidth": 1,
              "tickcolor": "rgb(36,36,36)",
              "ticks": "outside"
             }
            },
            "type": "scatterpolargl"
           }
          ],
          "scatterternary": [
           {
            "marker": {
             "colorbar": {
              "outlinewidth": 1,
              "tickcolor": "rgb(36,36,36)",
              "ticks": "outside"
             }
            },
            "type": "scatterternary"
           }
          ],
          "surface": [
           {
            "colorbar": {
             "outlinewidth": 1,
             "tickcolor": "rgb(36,36,36)",
             "ticks": "outside"
            },
            "colorscale": [
             [
              0,
              "#440154"
             ],
             [
              0.1111111111111111,
              "#482878"
             ],
             [
              0.2222222222222222,
              "#3e4989"
             ],
             [
              0.3333333333333333,
              "#31688e"
             ],
             [
              0.4444444444444444,
              "#26828e"
             ],
             [
              0.5555555555555556,
              "#1f9e89"
             ],
             [
              0.6666666666666666,
              "#35b779"
             ],
             [
              0.7777777777777778,
              "#6ece58"
             ],
             [
              0.8888888888888888,
              "#b5de2b"
             ],
             [
              1,
              "#fde725"
             ]
            ],
            "type": "surface"
           }
          ],
          "table": [
           {
            "cells": {
             "fill": {
              "color": "rgb(237,237,237)"
             },
             "line": {
              "color": "white"
             }
            },
            "header": {
             "fill": {
              "color": "rgb(217,217,217)"
             },
             "line": {
              "color": "white"
             }
            },
            "type": "table"
           }
          ]
         },
         "layout": {
          "annotationdefaults": {
           "arrowhead": 0,
           "arrowwidth": 1
          },
          "autotypenumbers": "strict",
          "coloraxis": {
           "colorbar": {
            "outlinewidth": 1,
            "tickcolor": "rgb(36,36,36)",
            "ticks": "outside"
           }
          },
          "colorscale": {
           "diverging": [
            [
             0,
             "rgb(103,0,31)"
            ],
            [
             0.1,
             "rgb(178,24,43)"
            ],
            [
             0.2,
             "rgb(214,96,77)"
            ],
            [
             0.3,
             "rgb(244,165,130)"
            ],
            [
             0.4,
             "rgb(253,219,199)"
            ],
            [
             0.5,
             "rgb(247,247,247)"
            ],
            [
             0.6,
             "rgb(209,229,240)"
            ],
            [
             0.7,
             "rgb(146,197,222)"
            ],
            [
             0.8,
             "rgb(67,147,195)"
            ],
            [
             0.9,
             "rgb(33,102,172)"
            ],
            [
             1,
             "rgb(5,48,97)"
            ]
           ],
           "sequential": [
            [
             0,
             "#440154"
            ],
            [
             0.1111111111111111,
             "#482878"
            ],
            [
             0.2222222222222222,
             "#3e4989"
            ],
            [
             0.3333333333333333,
             "#31688e"
            ],
            [
             0.4444444444444444,
             "#26828e"
            ],
            [
             0.5555555555555556,
             "#1f9e89"
            ],
            [
             0.6666666666666666,
             "#35b779"
            ],
            [
             0.7777777777777778,
             "#6ece58"
            ],
            [
             0.8888888888888888,
             "#b5de2b"
            ],
            [
             1,
             "#fde725"
            ]
           ],
           "sequentialminus": [
            [
             0,
             "#440154"
            ],
            [
             0.1111111111111111,
             "#482878"
            ],
            [
             0.2222222222222222,
             "#3e4989"
            ],
            [
             0.3333333333333333,
             "#31688e"
            ],
            [
             0.4444444444444444,
             "#26828e"
            ],
            [
             0.5555555555555556,
             "#1f9e89"
            ],
            [
             0.6666666666666666,
             "#35b779"
            ],
            [
             0.7777777777777778,
             "#6ece58"
            ],
            [
             0.8888888888888888,
             "#b5de2b"
            ],
            [
             1,
             "#fde725"
            ]
           ]
          },
          "colorway": [
           "#1F77B4",
           "#FF7F0E",
           "#2CA02C",
           "#D62728",
           "#9467BD",
           "#8C564B",
           "#E377C2",
           "#7F7F7F",
           "#BCBD22",
           "#17BECF"
          ],
          "font": {
           "color": "rgb(36,36,36)"
          },
          "geo": {
           "bgcolor": "white",
           "lakecolor": "white",
           "landcolor": "white",
           "showlakes": true,
           "showland": true,
           "subunitcolor": "white"
          },
          "hoverlabel": {
           "align": "left"
          },
          "hovermode": "closest",
          "mapbox": {
           "style": "light"
          },
          "paper_bgcolor": "white",
          "plot_bgcolor": "white",
          "polar": {
           "angularaxis": {
            "gridcolor": "rgb(232,232,232)",
            "linecolor": "rgb(36,36,36)",
            "showgrid": false,
            "showline": true,
            "ticks": "outside"
           },
           "bgcolor": "white",
           "radialaxis": {
            "gridcolor": "rgb(232,232,232)",
            "linecolor": "rgb(36,36,36)",
            "showgrid": false,
            "showline": true,
            "ticks": "outside"
           }
          },
          "scene": {
           "xaxis": {
            "backgroundcolor": "white",
            "gridcolor": "rgb(232,232,232)",
            "gridwidth": 2,
            "linecolor": "rgb(36,36,36)",
            "showbackground": true,
            "showgrid": false,
            "showline": true,
            "ticks": "outside",
            "zeroline": false,
            "zerolinecolor": "rgb(36,36,36)"
           },
           "yaxis": {
            "backgroundcolor": "white",
            "gridcolor": "rgb(232,232,232)",
            "gridwidth": 2,
            "linecolor": "rgb(36,36,36)",
            "showbackground": true,
            "showgrid": false,
            "showline": true,
            "ticks": "outside",
            "zeroline": false,
            "zerolinecolor": "rgb(36,36,36)"
           },
           "zaxis": {
            "backgroundcolor": "white",
            "gridcolor": "rgb(232,232,232)",
            "gridwidth": 2,
            "linecolor": "rgb(36,36,36)",
            "showbackground": true,
            "showgrid": false,
            "showline": true,
            "ticks": "outside",
            "zeroline": false,
            "zerolinecolor": "rgb(36,36,36)"
           }
          },
          "shapedefaults": {
           "fillcolor": "black",
           "line": {
            "width": 0
           },
           "opacity": 0.3
          },
          "ternary": {
           "aaxis": {
            "gridcolor": "rgb(232,232,232)",
            "linecolor": "rgb(36,36,36)",
            "showgrid": false,
            "showline": true,
            "ticks": "outside"
           },
           "baxis": {
            "gridcolor": "rgb(232,232,232)",
            "linecolor": "rgb(36,36,36)",
            "showgrid": false,
            "showline": true,
            "ticks": "outside"
           },
           "bgcolor": "white",
           "caxis": {
            "gridcolor": "rgb(232,232,232)",
            "linecolor": "rgb(36,36,36)",
            "showgrid": false,
            "showline": true,
            "ticks": "outside"
           }
          },
          "title": {
           "x": 0.05
          },
          "xaxis": {
           "automargin": true,
           "gridcolor": "rgb(232,232,232)",
           "linecolor": "rgb(36,36,36)",
           "showgrid": false,
           "showline": true,
           "ticks": "outside",
           "title": {
            "standoff": 15
           },
           "zeroline": false,
           "zerolinecolor": "rgb(36,36,36)"
          },
          "yaxis": {
           "automargin": true,
           "gridcolor": "rgb(232,232,232)",
           "linecolor": "rgb(36,36,36)",
           "showgrid": false,
           "showline": true,
           "ticks": "outside",
           "title": {
            "standoff": 15
           },
           "zeroline": false,
           "zerolinecolor": "rgb(36,36,36)"
          }
         }
        },
        "title": {
         "font": {
          "color": "Black",
          "size": 22
         },
         "text": "<b>Topics over Time</b>",
         "x": 0.4,
         "xanchor": "center",
         "y": 0.95,
         "yanchor": "top"
        },
        "width": 1250,
        "xaxis": {
         "showgrid": true
        },
        "yaxis": {
         "showgrid": true,
         "title": {
          "text": "Frequency"
         }
        }
       }
      }
     },
     "metadata": {},
     "output_type": "display_data"
    }
   ],
   "source": [
    "neg_model.visualize_topics_over_time(neg_topics_over_time, top_n_topics=15)"
   ]
  },
  {
   "cell_type": "code",
   "execution_count": null,
   "metadata": {},
   "outputs": [],
   "source": []
  }
 ],
 "metadata": {
  "kernelspec": {
   "display_name": "base",
   "language": "python",
   "name": "python3"
  },
  "language_info": {
   "codemirror_mode": {
    "name": "ipython",
    "version": 3
   },
   "file_extension": ".py",
   "mimetype": "text/x-python",
   "name": "python",
   "nbconvert_exporter": "python",
   "pygments_lexer": "ipython3",
   "version": "3.11.4"
  }
 },
 "nbformat": 4,
 "nbformat_minor": 2
}
