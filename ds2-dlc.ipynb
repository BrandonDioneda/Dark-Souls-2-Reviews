{
 "cells": [
  {
   "cell_type": "markdown",
   "metadata": {},
   "source": [
    "# Darks Souls II Reviews (2025)"
   ]
  },
  {
   "cell_type": "code",
   "execution_count": 1,
   "metadata": {},
   "outputs": [],
   "source": [
    "import numpy as np\n",
    "import pandas as pd\n",
    "import seaborn as sns\n",
    "import matplotlib.pyplot as plt\n",
    "import altair as alt\n",
    "import re"
   ]
  },
  {
   "cell_type": "code",
   "execution_count": 2,
   "metadata": {},
   "outputs": [],
   "source": [
    "df = pd.read_csv('reviews.csv')\n",
    "reviews = df.copy()\n",
    "reviews = reviews.set_index('recommendationid')\n",
    "reviews.drop(columns={'Unnamed: 0', 'in_early_access'}, inplace=True)"
   ]
  },
  {
   "cell_type": "markdown",
   "metadata": {},
   "source": [
    "Converting date of review from unix:"
   ]
  },
  {
   "cell_type": "code",
   "execution_count": null,
   "metadata": {},
   "outputs": [],
   "source": [
    "reviews['month_name'] = pd.to_datetime(reviews.update_date, unit='s').dt.month_name()\n",
    "reviews['month']      = pd.to_datetime(reviews.update_date, unit='s').dt.month\n",
    "reviews['year']       = pd.to_datetime(reviews.update_date, unit='s').dt.year\n",
    "reviews['day']        = pd.to_datetime(reviews.update_date, unit='s').dt.day"
   ]
  },
  {
   "cell_type": "markdown",
   "metadata": {},
   "source": [
    "Focusing on just the English reviews:"
   ]
  },
  {
   "cell_type": "code",
   "execution_count": 4,
   "metadata": {},
   "outputs": [],
   "source": [
    "reviews = reviews[reviews.language == 'english']"
   ]
  },
  {
   "cell_type": "markdown",
   "metadata": {},
   "source": [
    "## Cleaning up the reviews"
   ]
  },
  {
   "cell_type": "code",
   "execution_count": 5,
   "metadata": {},
   "outputs": [],
   "source": [
    "reviews['review'] = reviews.review.str.lower()"
   ]
  },
  {
   "cell_type": "code",
   "execution_count": 6,
   "metadata": {},
   "outputs": [],
   "source": [
    "# Removing urls:\n",
    "r = [re.sub(r'http\\S+', '', review).lower().strip() if pd.notna(review) else review for review in reviews.review]\n",
    "\n",
    "# Removing esc sequences, punctuation, and numbers:\n",
    "    # There's some ASCII art in some of the reviews\n",
    "r = [re.sub(r'[^a-z]', ' ', review).strip() if pd.notna(review) else review for review in r]"
   ]
  },
  {
   "cell_type": "code",
   "execution_count": 7,
   "metadata": {},
   "outputs": [],
   "source": [
    "from nltk.corpus import stopwords\n",
    "\n",
    "# Removing stop words (may not be the best practice):\n",
    "stop_wrds = re.compile(''.join([rf'\\b{wrd}\\b|' for wrd in stopwords.words('english')]))\n",
    "r = [re.sub(stop_wrds, '', review).strip() if pd.notna(review) else review for review in r]"
   ]
  },
  {
   "cell_type": "code",
   "execution_count": 8,
   "metadata": {},
   "outputs": [],
   "source": [
    "# Removing multiple and trailing whitespaces:\n",
    "r = [re.sub(r' +', ' ', review).strip() if pd.notna(review) else review for review in r]"
   ]
  },
  {
   "cell_type": "code",
   "execution_count": 9,
   "metadata": {},
   "outputs": [],
   "source": [
    "reviews['review'] = r"
   ]
  },
  {
   "cell_type": "markdown",
   "metadata": {},
   "source": [
    "## Looking at reviews after DLC release:"
   ]
  },
  {
   "cell_type": "markdown",
   "metadata": {},
   "source": [
    "- 1st DLC launched: 7/22/2014\n",
    "- 2nd DLC launched: 8/26/2014\n",
    "- 3rd DLC launched: 9/30/2014\n",
    "- Scholar of the First Sin Edition launched: 4/1/2015"
   ]
  },
  {
   "cell_type": "code",
   "execution_count": 26,
   "metadata": {},
   "outputs": [
    {
     "data": {
      "text/html": [
       "<div>\n",
       "<style scoped>\n",
       "    .dataframe tbody tr th:only-of-type {\n",
       "        vertical-align: middle;\n",
       "    }\n",
       "\n",
       "    .dataframe tbody tr th {\n",
       "        vertical-align: top;\n",
       "    }\n",
       "\n",
       "    .dataframe thead th {\n",
       "        text-align: right;\n",
       "    }\n",
       "</style>\n",
       "<table border=\"1\" class=\"dataframe\">\n",
       "  <thead>\n",
       "    <tr style=\"text-align: right;\">\n",
       "      <th></th>\n",
       "      <th>review</th>\n",
       "      <th>language</th>\n",
       "      <th>init_date</th>\n",
       "      <th>update_date</th>\n",
       "      <th>voted_up</th>\n",
       "      <th>month_name</th>\n",
       "      <th>month</th>\n",
       "      <th>year</th>\n",
       "      <th>day</th>\n",
       "    </tr>\n",
       "    <tr>\n",
       "      <th>recommendationid</th>\n",
       "      <th></th>\n",
       "      <th></th>\n",
       "      <th></th>\n",
       "      <th></th>\n",
       "      <th></th>\n",
       "      <th></th>\n",
       "      <th></th>\n",
       "      <th></th>\n",
       "      <th></th>\n",
       "    </tr>\n",
       "  </thead>\n",
       "  <tbody>\n",
       "    <tr>\n",
       "      <th>184244595</th>\n",
       "      <td>like even though people kind hate game somewha...</td>\n",
       "      <td>english</td>\n",
       "      <td>1735584348</td>\n",
       "      <td>1735584348</td>\n",
       "      <td>True</td>\n",
       "      <td>December</td>\n",
       "      <td>12</td>\n",
       "      <td>2024</td>\n",
       "      <td>30</td>\n",
       "    </tr>\n",
       "    <tr>\n",
       "      <th>184165897</th>\n",
       "      <td>started game trying think negatives heard yet ...</td>\n",
       "      <td>english</td>\n",
       "      <td>1735515416</td>\n",
       "      <td>1735515416</td>\n",
       "      <td>False</td>\n",
       "      <td>December</td>\n",
       "      <td>12</td>\n",
       "      <td>2024</td>\n",
       "      <td>29</td>\n",
       "    </tr>\n",
       "    <tr>\n",
       "      <th>183613472</th>\n",
       "      <td>unironically masterpiece favourite dark souls ...</td>\n",
       "      <td>english</td>\n",
       "      <td>1735091925</td>\n",
       "      <td>1735091925</td>\n",
       "      <td>True</td>\n",
       "      <td>December</td>\n",
       "      <td>12</td>\n",
       "      <td>2024</td>\n",
       "      <td>25</td>\n",
       "    </tr>\n",
       "    <tr>\n",
       "      <th>183467284</th>\n",
       "      <td>game really really overhated although scholar ...</td>\n",
       "      <td>english</td>\n",
       "      <td>1734952064</td>\n",
       "      <td>1734952064</td>\n",
       "      <td>True</td>\n",
       "      <td>December</td>\n",
       "      <td>12</td>\n",
       "      <td>2024</td>\n",
       "      <td>23</td>\n",
       "    </tr>\n",
       "    <tr>\n",
       "      <th>183432730</th>\n",
       "      <td>genuinely understand amount hate game gets fir...</td>\n",
       "      <td>english</td>\n",
       "      <td>1734911344</td>\n",
       "      <td>1734911344</td>\n",
       "      <td>True</td>\n",
       "      <td>December</td>\n",
       "      <td>12</td>\n",
       "      <td>2024</td>\n",
       "      <td>22</td>\n",
       "    </tr>\n",
       "    <tr>\n",
       "      <th>...</th>\n",
       "      <td>...</td>\n",
       "      <td>...</td>\n",
       "      <td>...</td>\n",
       "      <td>...</td>\n",
       "      <td>...</td>\n",
       "      <td>...</td>\n",
       "      <td>...</td>\n",
       "      <td>...</td>\n",
       "      <td>...</td>\n",
       "    </tr>\n",
       "    <tr>\n",
       "      <th>15664976</th>\n",
       "      <td>hollow good buy already game dlc played origin...</td>\n",
       "      <td>english</td>\n",
       "      <td>1430634124</td>\n",
       "      <td>1440388162</td>\n",
       "      <td>True</td>\n",
       "      <td>August</td>\n",
       "      <td>8</td>\n",
       "      <td>2015</td>\n",
       "      <td>24</td>\n",
       "    </tr>\n",
       "    <tr>\n",
       "      <th>15470237</th>\n",
       "      <td>changing review currently reflect current stat...</td>\n",
       "      <td>english</td>\n",
       "      <td>1429572560</td>\n",
       "      <td>1448541454</td>\n",
       "      <td>True</td>\n",
       "      <td>November</td>\n",
       "      <td>11</td>\n",
       "      <td>2015</td>\n",
       "      <td>26</td>\n",
       "    </tr>\n",
       "    <tr>\n",
       "      <th>15296462</th>\n",
       "      <td>avid crazy player dark souls note first portio...</td>\n",
       "      <td>english</td>\n",
       "      <td>1428698609</td>\n",
       "      <td>1451422989</td>\n",
       "      <td>False</td>\n",
       "      <td>December</td>\n",
       "      <td>12</td>\n",
       "      <td>2015</td>\n",
       "      <td>29</td>\n",
       "    </tr>\n",
       "    <tr>\n",
       "      <th>15244026</th>\n",
       "      <td>pc community split main reason negative review...</td>\n",
       "      <td>english</td>\n",
       "      <td>1428369155</td>\n",
       "      <td>1695742605</td>\n",
       "      <td>False</td>\n",
       "      <td>September</td>\n",
       "      <td>9</td>\n",
       "      <td>2023</td>\n",
       "      <td>26</td>\n",
       "    </tr>\n",
       "    <tr>\n",
       "      <th>15188179</th>\n",
       "      <td>time writing review amount negative reviews ou...</td>\n",
       "      <td>english</td>\n",
       "      <td>1428079654</td>\n",
       "      <td>1438013110</td>\n",
       "      <td>True</td>\n",
       "      <td>July</td>\n",
       "      <td>7</td>\n",
       "      <td>2015</td>\n",
       "      <td>27</td>\n",
       "    </tr>\n",
       "  </tbody>\n",
       "</table>\n",
       "<p>367 rows × 9 columns</p>\n",
       "</div>"
      ],
      "text/plain": [
       "                                                             review language  \\\n",
       "recommendationid                                                               \n",
       "184244595         like even though people kind hate game somewha...  english   \n",
       "184165897         started game trying think negatives heard yet ...  english   \n",
       "183613472         unironically masterpiece favourite dark souls ...  english   \n",
       "183467284         game really really overhated although scholar ...  english   \n",
       "183432730         genuinely understand amount hate game gets fir...  english   \n",
       "...                                                             ...      ...   \n",
       "15664976          hollow good buy already game dlc played origin...  english   \n",
       "15470237          changing review currently reflect current stat...  english   \n",
       "15296462          avid crazy player dark souls note first portio...  english   \n",
       "15244026          pc community split main reason negative review...  english   \n",
       "15188179          time writing review amount negative reviews ou...  english   \n",
       "\n",
       "                   init_date  update_date  voted_up month_name  month  year  \\\n",
       "recommendationid                                                              \n",
       "184244595         1735584348   1735584348      True   December     12  2024   \n",
       "184165897         1735515416   1735515416     False   December     12  2024   \n",
       "183613472         1735091925   1735091925      True   December     12  2024   \n",
       "183467284         1734952064   1734952064      True   December     12  2024   \n",
       "183432730         1734911344   1734911344      True   December     12  2024   \n",
       "...                      ...          ...       ...        ...    ...   ...   \n",
       "15664976          1430634124   1440388162      True     August      8  2015   \n",
       "15470237          1429572560   1448541454      True   November     11  2015   \n",
       "15296462          1428698609   1451422989     False   December     12  2015   \n",
       "15244026          1428369155   1695742605     False  September      9  2023   \n",
       "15188179          1428079654   1438013110      True       July      7  2015   \n",
       "\n",
       "                  day  \n",
       "recommendationid       \n",
       "184244595          30  \n",
       "184165897          29  \n",
       "183613472          25  \n",
       "183467284          23  \n",
       "183432730          22  \n",
       "...               ...  \n",
       "15664976           24  \n",
       "15470237           26  \n",
       "15296462           29  \n",
       "15244026           26  \n",
       "15188179           27  \n",
       "\n",
       "[367 rows x 9 columns]"
      ]
     },
     "execution_count": 26,
     "metadata": {},
     "output_type": "execute_result"
    }
   ],
   "source": [
    "dlc_reviews = reviews[(reviews.year >= 2014) & (reviews.month >= 7) & (reviews.day >= 22)]\n",
    "dlc_reviews = dlc_reviews[dlc_reviews.review.isna() == False]\n",
    "dlc_reviews = dlc_reviews[dlc_reviews.review.str.contains(r'\\bdlc\\b')]\n",
    "dlc_reviews"
   ]
  },
  {
   "cell_type": "code",
   "execution_count": 23,
   "metadata": {},
   "outputs": [
    {
     "data": {
      "text/plain": [
       "voted_up\n",
       "True     0.79564\n",
       "False    0.20436\n",
       "Name: proportion, dtype: float64"
      ]
     },
     "execution_count": 23,
     "metadata": {},
     "output_type": "execute_result"
    }
   ],
   "source": [
    "dlc_reviews.voted_up.value_counts(normalize=True)"
   ]
  },
  {
   "cell_type": "code",
   "execution_count": null,
   "metadata": {},
   "outputs": [],
   "source": []
  }
 ],
 "metadata": {
  "kernelspec": {
   "display_name": "base",
   "language": "python",
   "name": "python3"
  },
  "language_info": {
   "codemirror_mode": {
    "name": "ipython",
    "version": 3
   },
   "file_extension": ".py",
   "mimetype": "text/x-python",
   "name": "python",
   "nbconvert_exporter": "python",
   "pygments_lexer": "ipython3",
   "version": "3.11.5"
  }
 },
 "nbformat": 4,
 "nbformat_minor": 2
}
