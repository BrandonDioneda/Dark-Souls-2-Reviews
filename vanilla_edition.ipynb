{
 "cells": [
  {
   "cell_type": "markdown",
   "metadata": {},
   "source": [
    "# Dark Souls II Reviews (2025)"
   ]
  },
  {
   "cell_type": "code",
   "execution_count": 1,
   "metadata": {},
   "outputs": [
    {
     "name": "stdout",
     "output_type": "stream",
     "text": [
      "WARNING:tensorflow:From C:\\Users\\bdion\\AppData\\Roaming\\Python\\Python311\\site-packages\\tf_keras\\src\\losses.py:2976: The name tf.losses.sparse_softmax_cross_entropy is deprecated. Please use tf.compat.v1.losses.sparse_softmax_cross_entropy instead.\n",
      "\n"
     ]
    }
   ],
   "source": [
    "from get_data import *\n",
    "from bertopic import BERTopic"
   ]
  },
  {
   "cell_type": "code",
   "execution_count": 2,
   "metadata": {},
   "outputs": [],
   "source": [
    "reviews = get_data()"
   ]
  },
  {
   "cell_type": "code",
   "execution_count": 3,
   "metadata": {},
   "outputs": [],
   "source": [
    "reviews.update_date = pd.to_datetime(reviews[\"update_date\"], unit='s')#.dt.date"
   ]
  },
  {
   "cell_type": "markdown",
   "metadata": {},
   "source": [
    "- Scholar of the First Sin Edition launched: 4/1/2015"
   ]
  },
  {
   "cell_type": "code",
   "execution_count": 4,
   "metadata": {},
   "outputs": [],
   "source": [
    "sotfs_start = pd.Timestamp(\"2015-04-01\")\n",
    "df = reviews[(reviews[\"update_date\"] < sotfs_start)]"
   ]
  },
  {
   "cell_type": "code",
   "execution_count": 5,
   "metadata": {},
   "outputs": [
    {
     "data": {
      "text/html": [
       "<div>\n",
       "<style scoped>\n",
       "    .dataframe tbody tr th:only-of-type {\n",
       "        vertical-align: middle;\n",
       "    }\n",
       "\n",
       "    .dataframe tbody tr th {\n",
       "        vertical-align: top;\n",
       "    }\n",
       "\n",
       "    .dataframe thead th {\n",
       "        text-align: right;\n",
       "    }\n",
       "</style>\n",
       "<table border=\"1\" class=\"dataframe\">\n",
       "  <thead>\n",
       "    <tr style=\"text-align: right;\">\n",
       "      <th></th>\n",
       "      <th>review</th>\n",
       "      <th>language</th>\n",
       "      <th>init_date</th>\n",
       "      <th>update_date</th>\n",
       "      <th>in_early_access</th>\n",
       "      <th>voted_up</th>\n",
       "      <th>month_name</th>\n",
       "      <th>month</th>\n",
       "      <th>year</th>\n",
       "      <th>day</th>\n",
       "    </tr>\n",
       "    <tr>\n",
       "      <th>recommendationid</th>\n",
       "      <th></th>\n",
       "      <th></th>\n",
       "      <th></th>\n",
       "      <th></th>\n",
       "      <th></th>\n",
       "      <th></th>\n",
       "      <th></th>\n",
       "      <th></th>\n",
       "      <th></th>\n",
       "      <th></th>\n",
       "    </tr>\n",
       "  </thead>\n",
       "  <tbody>\n",
       "    <tr>\n",
       "      <th>14895635</th>\n",
       "      <td>pc xbox spend well hour say one best frustrati...</td>\n",
       "      <td>english</td>\n",
       "      <td>1426393536</td>\n",
       "      <td>2015-03-15 04:25:36</td>\n",
       "      <td>False</td>\n",
       "      <td>True</td>\n",
       "      <td>March</td>\n",
       "      <td>3</td>\n",
       "      <td>2015</td>\n",
       "      <td>15</td>\n",
       "    </tr>\n",
       "    <tr>\n",
       "      <th>14635203</th>\n",
       "      <td>wait scholar bonus people original version hd ...</td>\n",
       "      <td>english</td>\n",
       "      <td>1424793225</td>\n",
       "      <td>2015-02-24 15:53:45</td>\n",
       "      <td>False</td>\n",
       "      <td>False</td>\n",
       "      <td>February</td>\n",
       "      <td>2</td>\n",
       "      <td>2015</td>\n",
       "      <td>24</td>\n",
       "    </tr>\n",
       "    <tr>\n",
       "      <th>13869518</th>\n",
       "      <td>love untill get news want enhanced experience ...</td>\n",
       "      <td>english</td>\n",
       "      <td>1420575609</td>\n",
       "      <td>2015-01-06 20:20:09</td>\n",
       "      <td>False</td>\n",
       "      <td>False</td>\n",
       "      <td>January</td>\n",
       "      <td>1</td>\n",
       "      <td>2015</td>\n",
       "      <td>6</td>\n",
       "    </tr>\n",
       "    <tr>\n",
       "      <th>13781684</th>\n",
       "      <td>buy love death namco screw old customer releas...</td>\n",
       "      <td>english</td>\n",
       "      <td>1420198197</td>\n",
       "      <td>2015-01-02 11:29:57</td>\n",
       "      <td>False</td>\n",
       "      <td>False</td>\n",
       "      <td>January</td>\n",
       "      <td>1</td>\n",
       "      <td>2015</td>\n",
       "      <td>2</td>\n",
       "    </tr>\n",
       "  </tbody>\n",
       "</table>\n",
       "</div>"
      ],
      "text/plain": [
       "                                                             review language  \\\n",
       "recommendationid                                                               \n",
       "14895635          pc xbox spend well hour say one best frustrati...  english   \n",
       "14635203          wait scholar bonus people original version hd ...  english   \n",
       "13869518          love untill get news want enhanced experience ...  english   \n",
       "13781684          buy love death namco screw old customer releas...  english   \n",
       "\n",
       "                   init_date         update_date  in_early_access  voted_up  \\\n",
       "recommendationid                                                              \n",
       "14895635          1426393536 2015-03-15 04:25:36            False      True   \n",
       "14635203          1424793225 2015-02-24 15:53:45            False     False   \n",
       "13869518          1420575609 2015-01-06 20:20:09            False     False   \n",
       "13781684          1420198197 2015-01-02 11:29:57            False     False   \n",
       "\n",
       "                 month_name  month  year  day  \n",
       "recommendationid                               \n",
       "14895635              March      3  2015   15  \n",
       "14635203           February      2  2015   24  \n",
       "13869518            January      1  2015    6  \n",
       "13781684            January      1  2015    2  "
      ]
     },
     "execution_count": 5,
     "metadata": {},
     "output_type": "execute_result"
    }
   ],
   "source": [
    "scholar = df[df.review.str.contains(r'\\bscholar\\b')]\n",
    "scholar"
   ]
  },
  {
   "cell_type": "code",
   "execution_count": 15,
   "metadata": {},
   "outputs": [
    {
     "data": {
      "application/vnd.jupyter.widget-view+json": {
       "model_id": "e271a7cdedb644c9968f56afbd5e19f8",
       "version_major": 2,
       "version_minor": 0
      },
      "text/plain": [
       "Batches:   0%|          | 0/1 [00:00<?, ?it/s]"
      ]
     },
     "metadata": {},
     "output_type": "display_data"
    }
   ],
   "source": [
    "topic_model = BERTopic.load(\"models/bertopic_model\")\n",
    "topics, probs = topic_model.transform(scholar.review.values)"
   ]
  },
  {
   "cell_type": "code",
   "execution_count": 16,
   "metadata": {},
   "outputs": [
    {
     "data": {
      "text/html": [
       "<div>\n",
       "<style scoped>\n",
       "    .dataframe tbody tr th:only-of-type {\n",
       "        vertical-align: middle;\n",
       "    }\n",
       "\n",
       "    .dataframe tbody tr th {\n",
       "        vertical-align: top;\n",
       "    }\n",
       "\n",
       "    .dataframe thead th {\n",
       "        text-align: right;\n",
       "    }\n",
       "</style>\n",
       "<table border=\"1\" class=\"dataframe\">\n",
       "  <thead>\n",
       "    <tr style=\"text-align: right;\">\n",
       "      <th></th>\n",
       "      <th>Count</th>\n",
       "      <th>Name</th>\n",
       "      <th>Representation</th>\n",
       "      <th>Representative_Docs</th>\n",
       "    </tr>\n",
       "    <tr>\n",
       "      <th>Topic</th>\n",
       "      <th></th>\n",
       "      <th></th>\n",
       "      <th></th>\n",
       "      <th></th>\n",
       "    </tr>\n",
       "  </thead>\n",
       "  <tbody>\n",
       "    <tr>\n",
       "      <th>-1</th>\n",
       "      <td>26046</td>\n",
       "      <td>-1_play_death_game_recommend</td>\n",
       "      <td>[play, death, game, recommend, die, like, seri...</td>\n",
       "      <td>[would expect well challenging manner predeces...</td>\n",
       "    </tr>\n",
       "    <tr>\n",
       "      <th>22</th>\n",
       "      <td>211</td>\n",
       "      <td>22_dx_version_release_namco</td>\n",
       "      <td>[dx, version, release, namco, april, hd, updat...</td>\n",
       "      <td>[final update may warn new hd version title ii...</td>\n",
       "    </tr>\n",
       "  </tbody>\n",
       "</table>\n",
       "</div>"
      ],
      "text/plain": [
       "       Count                          Name  \\\n",
       "Topic                                        \n",
       "-1     26046  -1_play_death_game_recommend   \n",
       " 22      211   22_dx_version_release_namco   \n",
       "\n",
       "                                          Representation  \\\n",
       "Topic                                                      \n",
       "-1     [play, death, game, recommend, die, like, seri...   \n",
       " 22    [dx, version, release, namco, april, hd, updat...   \n",
       "\n",
       "                                     Representative_Docs  \n",
       "Topic                                                     \n",
       "-1     [would expect well challenging manner predeces...  \n",
       " 22    [final update may warn new hd version title ii...  "
      ]
     },
     "execution_count": 16,
     "metadata": {},
     "output_type": "execute_result"
    }
   ],
   "source": [
    "t = topic_model.get_topic_info()\n",
    "t[t.Topic.isin(np.unique(topics))].set_index('Topic')"
   ]
  },
  {
   "cell_type": "code",
   "execution_count": 17,
   "metadata": {},
   "outputs": [
    {
     "data": {
      "text/plain": [
       "([-1, -1, 22, 22], array([0.        , 0.        , 0.9798146 , 0.78622097]))"
      ]
     },
     "execution_count": 17,
     "metadata": {},
     "output_type": "execute_result"
    }
   ],
   "source": [
    "topics, probs"
   ]
  },
  {
   "cell_type": "code",
   "execution_count": 18,
   "metadata": {},
   "outputs": [
    {
     "data": {
      "application/vnd.jupyter.widget-view+json": {
       "model_id": "34205e773e7745418d77ea2a14b31dff",
       "version_major": 2,
       "version_minor": 0
      },
      "text/plain": [
       "Batches:   0%|          | 0/1 [00:00<?, ?it/s]"
      ]
     },
     "metadata": {},
     "output_type": "display_data"
    }
   ],
   "source": [
    "topic_pos_model = BERTopic.load(\"models/bertopic_pos_model\")\n",
    "pos_topics, pos_probs = topic_pos_model.transform(scholar.review.values)"
   ]
  },
  {
   "cell_type": "code",
   "execution_count": 19,
   "metadata": {},
   "outputs": [
    {
     "data": {
      "text/html": [
       "<div>\n",
       "<style scoped>\n",
       "    .dataframe tbody tr th:only-of-type {\n",
       "        vertical-align: middle;\n",
       "    }\n",
       "\n",
       "    .dataframe tbody tr th {\n",
       "        vertical-align: top;\n",
       "    }\n",
       "\n",
       "    .dataframe thead th {\n",
       "        text-align: right;\n",
       "    }\n",
       "</style>\n",
       "<table border=\"1\" class=\"dataframe\">\n",
       "  <thead>\n",
       "    <tr style=\"text-align: right;\">\n",
       "      <th></th>\n",
       "      <th>Count</th>\n",
       "      <th>Name</th>\n",
       "      <th>Representation</th>\n",
       "      <th>Representative_Docs</th>\n",
       "    </tr>\n",
       "    <tr>\n",
       "      <th>Topic</th>\n",
       "      <th></th>\n",
       "      <th></th>\n",
       "      <th></th>\n",
       "      <th></th>\n",
       "    </tr>\n",
       "  </thead>\n",
       "  <tbody>\n",
       "    <tr>\n",
       "      <th>-1</th>\n",
       "      <td>20677</td>\n",
       "      <td>-1_play_game_series_like</td>\n",
       "      <td>[play, game, series, like, get, really, lot, f...</td>\n",
       "      <td>[people shit much couple con lot pro stats sys...</td>\n",
       "    </tr>\n",
       "    <tr>\n",
       "      <th>12</th>\n",
       "      <td>271</td>\n",
       "      <td>12_pc_xbox_laptop_console</td>\n",
       "      <td>[pc, xbox, laptop, console, monitor, fps, card...</td>\n",
       "      <td>[amazing beat xbox play pc, still best pc, pc ...</td>\n",
       "    </tr>\n",
       "  </tbody>\n",
       "</table>\n",
       "</div>"
      ],
      "text/plain": [
       "       Count                       Name  \\\n",
       "Topic                                     \n",
       "-1     20677   -1_play_game_series_like   \n",
       " 12      271  12_pc_xbox_laptop_console   \n",
       "\n",
       "                                          Representation  \\\n",
       "Topic                                                      \n",
       "-1     [play, game, series, like, get, really, lot, f...   \n",
       " 12    [pc, xbox, laptop, console, monitor, fps, card...   \n",
       "\n",
       "                                     Representative_Docs  \n",
       "Topic                                                     \n",
       "-1     [people shit much couple con lot pro stats sys...  \n",
       " 12    [amazing beat xbox play pc, still best pc, pc ...  "
      ]
     },
     "execution_count": 19,
     "metadata": {},
     "output_type": "execute_result"
    }
   ],
   "source": [
    "t = topic_pos_model.get_topic_info()\n",
    "t[t.Topic.isin(np.unique(pos_topics))].set_index('Topic')"
   ]
  },
  {
   "cell_type": "code",
   "execution_count": 20,
   "metadata": {},
   "outputs": [
    {
     "data": {
      "text/plain": [
       "([12, -1, -1, -1], array([0.85630698, 0.        , 0.        , 0.        ]))"
      ]
     },
     "execution_count": 20,
     "metadata": {},
     "output_type": "execute_result"
    }
   ],
   "source": [
    "pos_topics, pos_probs"
   ]
  },
  {
   "cell_type": "code",
   "execution_count": 21,
   "metadata": {},
   "outputs": [
    {
     "data": {
      "application/vnd.jupyter.widget-view+json": {
       "model_id": "e6a209d5b4ec48a59d6c66a040bd9b57",
       "version_major": 2,
       "version_minor": 0
      },
      "text/plain": [
       "Batches:   0%|          | 0/1 [00:00<?, ?it/s]"
      ]
     },
     "metadata": {},
     "output_type": "display_data"
    }
   ],
   "source": [
    "topic_neg_model = BERTopic.load(\"models/bertopic_neg_model\")\n",
    "neg_topics, neg_probs = topic_neg_model.transform(scholar.review.values)"
   ]
  },
  {
   "cell_type": "code",
   "execution_count": 22,
   "metadata": {},
   "outputs": [
    {
     "data": {
      "text/html": [
       "<div>\n",
       "<style scoped>\n",
       "    .dataframe tbody tr th:only-of-type {\n",
       "        vertical-align: middle;\n",
       "    }\n",
       "\n",
       "    .dataframe tbody tr th {\n",
       "        vertical-align: top;\n",
       "    }\n",
       "\n",
       "    .dataframe thead th {\n",
       "        text-align: right;\n",
       "    }\n",
       "</style>\n",
       "<table border=\"1\" class=\"dataframe\">\n",
       "  <thead>\n",
       "    <tr style=\"text-align: right;\">\n",
       "      <th></th>\n",
       "      <th>Count</th>\n",
       "      <th>Name</th>\n",
       "      <th>Representation</th>\n",
       "      <th>Representative_Docs</th>\n",
       "    </tr>\n",
       "    <tr>\n",
       "      <th>Topic</th>\n",
       "      <th></th>\n",
       "      <th></th>\n",
       "      <th></th>\n",
       "      <th></th>\n",
       "    </tr>\n",
       "  </thead>\n",
       "  <tbody>\n",
       "    <tr>\n",
       "      <th>-1</th>\n",
       "      <td>4895</td>\n",
       "      <td>-1_play_like_buy_good</td>\n",
       "      <td>[play, like, buy, good, get, even, make, game,...</td>\n",
       "      <td>[feel iffy play p start end felt uncertain try...</td>\n",
       "    </tr>\n",
       "    <tr>\n",
       "      <th>11</th>\n",
       "      <td>86</td>\n",
       "      <td>11_version_dx_release_new</td>\n",
       "      <td>[version, dx, release, new, buy, upgrade, pric...</td>\n",
       "      <td>[love buy less version completely screw keep a...</td>\n",
       "    </tr>\n",
       "  </tbody>\n",
       "</table>\n",
       "</div>"
      ],
      "text/plain": [
       "       Count                       Name  \\\n",
       "Topic                                     \n",
       "-1      4895      -1_play_like_buy_good   \n",
       " 11       86  11_version_dx_release_new   \n",
       "\n",
       "                                          Representation  \\\n",
       "Topic                                                      \n",
       "-1     [play, like, buy, good, get, even, make, game,...   \n",
       " 11    [version, dx, release, new, buy, upgrade, pric...   \n",
       "\n",
       "                                     Representative_Docs  \n",
       "Topic                                                     \n",
       "-1     [feel iffy play p start end felt uncertain try...  \n",
       " 11    [love buy less version completely screw keep a...  "
      ]
     },
     "execution_count": 22,
     "metadata": {},
     "output_type": "execute_result"
    }
   ],
   "source": [
    "t = topic_neg_model.get_topic_info()\n",
    "t[t.Topic.isin(np.unique(neg_topics))].set_index('Topic')"
   ]
  },
  {
   "cell_type": "code",
   "execution_count": 23,
   "metadata": {},
   "outputs": [
    {
     "data": {
      "text/plain": [
       "([-1, -1, 11, -1], array([0.        , 0.        , 0.98552877, 0.        ]))"
      ]
     },
     "execution_count": 23,
     "metadata": {},
     "output_type": "execute_result"
    }
   ],
   "source": [
    "neg_topics, neg_probs"
   ]
  },
  {
   "cell_type": "code",
   "execution_count": null,
   "metadata": {},
   "outputs": [],
   "source": []
  }
 ],
 "metadata": {
  "kernelspec": {
   "display_name": "base",
   "language": "python",
   "name": "python3"
  },
  "language_info": {
   "codemirror_mode": {
    "name": "ipython",
    "version": 3
   },
   "file_extension": ".py",
   "mimetype": "text/x-python",
   "name": "python",
   "nbconvert_exporter": "python",
   "pygments_lexer": "ipython3",
   "version": "3.11.4"
  }
 },
 "nbformat": 4,
 "nbformat_minor": 2
}
