{
 "cells": [
  {
   "cell_type": "markdown",
   "metadata": {},
   "source": [
    "# Darks Souls II Reviews (2023)"
   ]
  },
  {
   "cell_type": "code",
   "execution_count": 1,
   "metadata": {},
   "outputs": [],
   "source": [
    "import numpy as np\n",
    "import pandas as pd\n",
    "import seaborn as sns\n",
    "import matplotlib.pyplot as plt\n",
    "import re"
   ]
  },
  {
   "cell_type": "markdown",
   "metadata": {},
   "source": [
    "## Steam Reviews as of 12/18/23:"
   ]
  },
  {
   "cell_type": "code",
   "execution_count": 3,
   "metadata": {},
   "outputs": [
    {
     "data": {
      "text/html": [
       "<div>\n",
       "<style scoped>\n",
       "    .dataframe tbody tr th:only-of-type {\n",
       "        vertical-align: middle;\n",
       "    }\n",
       "\n",
       "    .dataframe tbody tr th {\n",
       "        vertical-align: top;\n",
       "    }\n",
       "\n",
       "    .dataframe thead th {\n",
       "        text-align: right;\n",
       "    }\n",
       "</style>\n",
       "<table border=\"1\" class=\"dataframe\">\n",
       "  <thead>\n",
       "    <tr style=\"text-align: right;\">\n",
       "      <th></th>\n",
       "      <th>review</th>\n",
       "      <th>init_date</th>\n",
       "      <th>update_date</th>\n",
       "      <th>in_early_access</th>\n",
       "      <th>voted_up</th>\n",
       "    </tr>\n",
       "    <tr>\n",
       "      <th>recommendationid</th>\n",
       "      <th></th>\n",
       "      <th></th>\n",
       "      <th></th>\n",
       "      <th></th>\n",
       "      <th></th>\n",
       "    </tr>\n",
       "  </thead>\n",
       "  <tbody>\n",
       "    <tr>\n",
       "      <th>161822555</th>\n",
       "      <td>I know Dark Souls 2 gets a lot of hate but per...</td>\n",
       "      <td>1711822731</td>\n",
       "      <td>1711822731</td>\n",
       "      <td>False</td>\n",
       "      <td>False</td>\n",
       "    </tr>\n",
       "    <tr>\n",
       "      <th>161819114</th>\n",
       "      <td>If you're expecting it to be like the original...</td>\n",
       "      <td>1711819586</td>\n",
       "      <td>1711819586</td>\n",
       "      <td>False</td>\n",
       "      <td>True</td>\n",
       "    </tr>\n",
       "    <tr>\n",
       "      <th>161818428</th>\n",
       "      <td>shit.</td>\n",
       "      <td>1711819000</td>\n",
       "      <td>1711819000</td>\n",
       "      <td>False</td>\n",
       "      <td>False</td>\n",
       "    </tr>\n",
       "    <tr>\n",
       "      <th>161816145</th>\n",
       "      <td>NaN</td>\n",
       "      <td>1711816954</td>\n",
       "      <td>1711816954</td>\n",
       "      <td>False</td>\n",
       "      <td>True</td>\n",
       "    </tr>\n",
       "    <tr>\n",
       "      <th>161816097</th>\n",
       "      <td>genuinely bad</td>\n",
       "      <td>1711816908</td>\n",
       "      <td>1711816908</td>\n",
       "      <td>False</td>\n",
       "      <td>False</td>\n",
       "    </tr>\n",
       "    <tr>\n",
       "      <th>...</th>\n",
       "      <td>...</td>\n",
       "      <td>...</td>\n",
       "      <td>...</td>\n",
       "      <td>...</td>\n",
       "      <td>...</td>\n",
       "    </tr>\n",
       "    <tr>\n",
       "      <th>15162268</th>\n",
       "      <td>Try tongue but hole</td>\n",
       "      <td>1427932431</td>\n",
       "      <td>1428081346</td>\n",
       "      <td>False</td>\n",
       "      <td>True</td>\n",
       "    </tr>\n",
       "    <tr>\n",
       "      <th>15162220</th>\n",
       "      <td>So far so good, played it for 20mins so far wi...</td>\n",
       "      <td>1427932153</td>\n",
       "      <td>1427932153</td>\n",
       "      <td>False</td>\n",
       "      <td>True</td>\n",
       "    </tr>\n",
       "    <tr>\n",
       "      <th>15162161</th>\n",
       "      <td>Still haven't died!\\n\\nBonedrinker Rufus 109 -...</td>\n",
       "      <td>1427931845</td>\n",
       "      <td>1427931845</td>\n",
       "      <td>False</td>\n",
       "      <td>True</td>\n",
       "    </tr>\n",
       "    <tr>\n",
       "      <th>15162057</th>\n",
       "      <td>Needs more cow Bell\\n\\n10/10</td>\n",
       "      <td>1427931196</td>\n",
       "      <td>1427931196</td>\n",
       "      <td>False</td>\n",
       "      <td>True</td>\n",
       "    </tr>\n",
       "    <tr>\n",
       "      <th>15161857</th>\n",
       "      <td>11/10 would die again.</td>\n",
       "      <td>1427929899</td>\n",
       "      <td>1427929899</td>\n",
       "      <td>False</td>\n",
       "      <td>True</td>\n",
       "    </tr>\n",
       "  </tbody>\n",
       "</table>\n",
       "<p>39778 rows × 5 columns</p>\n",
       "</div>"
      ],
      "text/plain": [
       "                                                             review  \\\n",
       "recommendationid                                                      \n",
       "161822555         I know Dark Souls 2 gets a lot of hate but per...   \n",
       "161819114         If you're expecting it to be like the original...   \n",
       "161818428                                                     shit.   \n",
       "161816145                                                       NaN   \n",
       "161816097                                             genuinely bad   \n",
       "...                                                             ...   \n",
       "15162268                                        Try tongue but hole   \n",
       "15162220          So far so good, played it for 20mins so far wi...   \n",
       "15162161          Still haven't died!\\n\\nBonedrinker Rufus 109 -...   \n",
       "15162057                               Needs more cow Bell\\n\\n10/10   \n",
       "15161857                                     11/10 would die again.   \n",
       "\n",
       "                   init_date  update_date  in_early_access  voted_up  \n",
       "recommendationid                                                      \n",
       "161822555         1711822731   1711822731            False     False  \n",
       "161819114         1711819586   1711819586            False      True  \n",
       "161818428         1711819000   1711819000            False     False  \n",
       "161816145         1711816954   1711816954            False      True  \n",
       "161816097         1711816908   1711816908            False     False  \n",
       "...                      ...          ...              ...       ...  \n",
       "15162268          1427932431   1428081346            False      True  \n",
       "15162220          1427932153   1427932153            False      True  \n",
       "15162161          1427931845   1427931845            False      True  \n",
       "15162057          1427931196   1427931196            False      True  \n",
       "15161857          1427929899   1427929899            False      True  \n",
       "\n",
       "[39778 rows x 5 columns]"
      ]
     },
     "execution_count": 3,
     "metadata": {},
     "output_type": "execute_result"
    }
   ],
   "source": [
    "df = pd.read_csv('reviews.csv')\n",
    "reviews = df.copy()\n",
    "reviews = reviews.set_index('recommendationid')\n",
    "reviews.drop(columns={'Unnamed: 0'}, inplace=True)\n",
    "reviews"
   ]
  },
  {
   "cell_type": "markdown",
   "metadata": {},
   "source": [
    "Just getting the dates in DatePosted:"
   ]
  },
  {
   "cell_type": "code",
   "execution_count": null,
   "metadata": {},
   "outputs": [],
   "source": [
    "dates = [re.compile(r'Posted:|,').sub(' ', date).strip() for date in reviews.DatePosted]\n",
    "dates = [re.compile(r' +').sub(' ', date).strip() for date in dates]\n",
    "reviews.DatePosted = dates\n",
    "reviews[['DatePosted']].head()"
   ]
  },
  {
   "cell_type": "markdown",
   "metadata": {},
   "source": [
    "Seperating the 'DatePosted' column year column:\n",
    "- There are some entries that don't have years (will investigate later)"
   ]
  },
  {
   "cell_type": "code",
   "execution_count": null,
   "metadata": {},
   "outputs": [],
   "source": [
    "reviews['Date'] = pd.to_datetime(reviews.DatePosted, errors='coerce')\n",
    "reviews['Year'] = reviews['Date'].dt.strftime('%Y')\n",
    "reviews.drop(columns={'DatePosted', 'Date'}, inplace=True)\n",
    "reviews"
   ]
  },
  {
   "cell_type": "code",
   "execution_count": null,
   "metadata": {},
   "outputs": [],
   "source": [
    "reviews.Year.isna().sum()"
   ]
  },
  {
   "cell_type": "markdown",
   "metadata": {},
   "source": [
    "Cleaning up the reviews:"
   ]
  },
  {
   "cell_type": "code",
   "execution_count": null,
   "metadata": {},
   "outputs": [],
   "source": [
    "from nltk.corpus import stopwords\n",
    "from textblob import TextBlob"
   ]
  },
  {
   "cell_type": "markdown",
   "metadata": {},
   "source": [
    "- Fixing misspellings:"
   ]
  },
  {
   "cell_type": "code",
   "execution_count": null,
   "metadata": {},
   "outputs": [],
   "source": [
    "from autocorrect import Speller\n",
    "\n",
    "spell = Speller(lang='en')"
   ]
  },
  {
   "cell_type": "code",
   "execution_count": null,
   "metadata": {},
   "outputs": [],
   "source": [
    "# r = [spell(review) if pd.notna(review) else review for review in reviews.Review]"
   ]
  },
  {
   "cell_type": "markdown",
   "metadata": {},
   "source": [
    "- Removing anything that's not a letter (urls, esc seqs, etc.):"
   ]
  },
  {
   "cell_type": "code",
   "execution_count": null,
   "metadata": {},
   "outputs": [],
   "source": [
    "# Removing urls:\n",
    "r = [re.sub(r'http\\S+', '', review).lower().strip() if pd.notna(review) else review for review in reviews.Review]\n",
    "\n",
    "# Removing esc sequences, punctuation, and numbers:\n",
    "    # There's some ASCII art in some of the reviews\n",
    "r = [re.sub(r'[^A-Za-z]', ' ', review).strip() if pd.notna(review) else review for review in r]\n",
    "\n",
    "# Removing stop words:\n",
    "stop_wrds = re.compile(''.join([rf'\\b{wrd}\\b|' for wrd in stopwords.words('english')]))\n",
    "r = [re.sub(stop_wrds, '', review).strip() if pd.notna(review) else review for review in r]\n",
    "\n",
    "# Removing multiple and trailiing whitespaces:\n",
    "r = [re.sub(r' +', ' ', review).strip() if pd.notna(review) else review for review in r]\n",
    "\n",
    "reviews['Review'] = r"
   ]
  },
  {
   "cell_type": "code",
   "execution_count": null,
   "metadata": {},
   "outputs": [],
   "source": [
    "reviews.dtypes"
   ]
  },
  {
   "cell_type": "code",
   "execution_count": null,
   "metadata": {},
   "outputs": [],
   "source": [
    "reviews.describe()"
   ]
  },
  {
   "cell_type": "markdown",
   "metadata": {},
   "source": [
    "## EDA:"
   ]
  },
  {
   "cell_type": "markdown",
   "metadata": {},
   "source": [
    "Distribution of whether or not people recommend buying the game:"
   ]
  },
  {
   "cell_type": "code",
   "execution_count": null,
   "metadata": {},
   "outputs": [],
   "source": [
    "sns.barplot(data=reviews['Recommended?'].value_counts().reset_index(), \n",
    "            x='Recommended?',\n",
    "            y='count');"
   ]
  },
  {
   "cell_type": "markdown",
   "metadata": {},
   "source": [
    "- Most people recommend playing DS2"
   ]
  },
  {
   "cell_type": "markdown",
   "metadata": {},
   "source": [
    "Years captured in the webscraped reviews:"
   ]
  },
  {
   "cell_type": "code",
   "execution_count": null,
   "metadata": {},
   "outputs": [],
   "source": [
    "yr_dist = reviews.groupby('Year')['Recommended?'].count().reset_index()\n",
    "yr_dist.rename(columns={'Recommended?':'count'}, inplace=True)\n",
    "\n",
    "sns.barplot(data=yr_dist, \n",
    "            x='Year',\n",
    "            y='count');"
   ]
  },
  {
   "cell_type": "markdown",
   "metadata": {},
   "source": [
    "- Most reviews are fairly recent\n",
    "    - Game released    : March 2014\n",
    "    - Remaster released: April 2015 (focus of this project)"
   ]
  },
  {
   "cell_type": "markdown",
   "metadata": {},
   "source": [
    "Proportions of those who don't and do recommend DS2 in each of the years:"
   ]
  },
  {
   "cell_type": "code",
   "execution_count": null,
   "metadata": {},
   "outputs": [],
   "source": [
    "yr_plt = reviews.groupby(['Year', 'Recommended?']).count().reset_index()\n",
    "yr_plt.rename(columns={'Review':'proportion'}, inplace=True)\n",
    "yr_plt['proportion'] = 100 * (yr_plt['proportion'] / yr_plt.groupby(['Year'])['proportion'].transform('sum'))\n",
    "\n",
    "sns.catplot(data=yr_plt,\n",
    "            kind='bar',\n",
    "            x='Year',\n",
    "            y='proportion',\n",
    "            hue='Recommended?'\n",
    "            );"
   ]
  },
  {
   "cell_type": "code",
   "execution_count": null,
   "metadata": {},
   "outputs": [],
   "source": [
    "yr_plt[yr_plt['Recommended?'] == 'Recommended'].plot(kind='line',\n",
    "                                                     x='Year',\n",
    "                                                     y='proportion');"
   ]
  },
  {
   "cell_type": "markdown",
   "metadata": {},
   "source": [
    "- Prior to contrary belief, the game was initially praised more than disliked during initial release\n",
    "- Throughout the years, treatment of the game has been consistently positive"
   ]
  },
  {
   "cell_type": "markdown",
   "metadata": {},
   "source": [
    "## Sentiment Analysis:\n",
    "- Seeing why people were positive or negative about the game\n",
    "    - Comments on story, gameplay, etc"
   ]
  },
  {
   "cell_type": "markdown",
   "metadata": {},
   "source": [
    "For sake of analysis specifically on the actual reviews, drop any rows that have no reviews:"
   ]
  },
  {
   "cell_type": "code",
   "execution_count": null,
   "metadata": {},
   "outputs": [],
   "source": [
    "reviews = reviews.dropna(subset=['Review'])\n",
    "reviews.shape"
   ]
  },
  {
   "cell_type": "markdown",
   "metadata": {},
   "source": [
    "Top 10 Most Common Words in the Reviews:"
   ]
  },
  {
   "cell_type": "code",
   "execution_count": null,
   "metadata": {},
   "outputs": [],
   "source": [
    "from nltk.tokenize import word_tokenize\n",
    "from sklearn.feature_extraction.text import CountVectorizer, TfidfVectorizer"
   ]
  },
  {
   "cell_type": "code",
   "execution_count": null,
   "metadata": {},
   "outputs": [],
   "source": [
    "tfidf = TfidfVectorizer(sublinear_tf=True,\n",
    "                        analyzer='word',\n",
    "                        max_features=4000,\n",
    "                        tokenizer=word_tokenize,\n",
    "                        stop_words=stopwords.words(\"english\"))"
   ]
  },
  {
   "cell_type": "code",
   "execution_count": null,
   "metadata": {},
   "outputs": [],
   "source": [
    "review_txt = reviews.Review.values.flatten()\n",
    "tfidf_array = tfidf.fit_transform(review_txt).toarray()\n",
    "tfidf_df = pd.DataFrame(tfidf_array)\n",
    "tfidf_df.columns = tfidf.get_feature_names_out()\n",
    "tfidf_df.head()"
   ]
  },
  {
   "cell_type": "code",
   "execution_count": null,
   "metadata": {},
   "outputs": [],
   "source": [
    "most_unique = tfidf_df.idxmax(axis=1)\n",
    "top_10 = most_unique.value_counts()[:10]\n",
    "top_10"
   ]
  },
  {
   "cell_type": "code",
   "execution_count": null,
   "metadata": {},
   "outputs": [],
   "source": [
    "top_10 = top_10.reset_index()\n",
    "top_10.rename(columns={'index':'word'}, inplace=True)\n",
    "sns.barplot(data=top_10,\n",
    "            x='word',\n",
    "            y='count');"
   ]
  },
  {
   "cell_type": "markdown",
   "metadata": {},
   "source": [
    "- Most popular word w/ semantic meaning: Triple A \n",
    "    - def: an informal classification used to classify video games produced and distributed by a mid-sized or major publisher\n",
    "- Top words used seem to be positive, but this is looking at the words without context"
   ]
  },
  {
   "cell_type": "markdown",
   "metadata": {},
   "source": [
    "Other popular words:"
   ]
  },
  {
   "cell_type": "code",
   "execution_count": null,
   "metadata": {},
   "outputs": [],
   "source": [
    "from wordcloud import WordCloud"
   ]
  },
  {
   "cell_type": "code",
   "execution_count": null,
   "metadata": {},
   "outputs": [],
   "source": [
    "pop_wrds = \" \".join( review for review in reviews.Review)\n",
    "wordcloud = WordCloud(max_font_size=150, max_words=100, background_color=\"white\").generate( pop_wrds )\n",
    "plt.figure(figsize=(30, 10))\n",
    "plt.imshow(wordcloud, interpolation=\"bilinear\") \n",
    "plt.axis(\"off\")\n",
    "plt.title('Popular Words in DS2 Reviews')\n",
    "plt.show()"
   ]
  },
  {
   "cell_type": "markdown",
   "metadata": {},
   "source": [
    "- Most common word among the reviews isn't very informative - including some of the other popular words\n",
    "    - Looking at subsets of the reviews could be useful"
   ]
  },
  {
   "cell_type": "markdown",
   "metadata": {},
   "source": [
    "### Topic Modeling:\n",
    "- Exploring certain aspects on why people like the game\n",
    "    - Also get critiques of the game in positive reviews (if any but there sure is considering DS2's reputation in the community)\n",
    "\n",
    "- Exploring why people don't like the game:\n",
    "    - Also get positive aspects within this subset of the reviews\n",
    "    \n",
    "- Algorithms I can use to perform topic modeling:\n",
    "    1. Latent Dirichlet Allocation (LDA) \n",
    "    2. Non-negative Matrix Factorization (NMF)"
   ]
  },
  {
   "cell_type": "markdown",
   "metadata": {},
   "source": [
    "Splitting the reviews by how many do and don't recommend buying the game:"
   ]
  },
  {
   "cell_type": "code",
   "execution_count": null,
   "metadata": {},
   "outputs": [],
   "source": [
    "pos_reviews = reviews[reviews['Recommended?'] == 'Recommended']\n",
    "neg_reviews = reviews[reviews['Recommended?'] == 'Not Recommended']"
   ]
  },
  {
   "cell_type": "code",
   "execution_count": null,
   "metadata": {},
   "outputs": [],
   "source": [
    "pos_reviews.shape, neg_reviews.shape"
   ]
  },
  {
   "cell_type": "markdown",
   "metadata": {},
   "source": [
    "Function to display the output of the models:"
   ]
  },
  {
   "cell_type": "code",
   "execution_count": null,
   "metadata": {},
   "outputs": [],
   "source": [
    "def display_topics(model, feature_names, no_top_words):\n",
    "    topic_dict = {}\n",
    "    for topic_idx, topic in enumerate(model.components_):\n",
    "        topic_dict[\"Topic %d words\" % (topic_idx + 1)]= ['{}'.format(feature_names[i])\n",
    "                        for i in topic.argsort()[:-no_top_words - 1:-1]]\n",
    "        topic_dict[\"Topic %d weights\" % (topic_idx + 1)]= ['{:.1f}'.format(topic[i])\n",
    "                        for i in topic.argsort()[:-no_top_words - 1:-1]]\n",
    "    return pd.DataFrame(topic_dict)"
   ]
  },
  {
   "cell_type": "markdown",
   "metadata": {},
   "source": [
    "LDA: Probabilistic graphical modeling, and uses CountVectorizer as input"
   ]
  },
  {
   "cell_type": "code",
   "execution_count": null,
   "metadata": {},
   "outputs": [],
   "source": [
    "from sklearn.decomposition import LatentDirichletAllocation"
   ]
  },
  {
   "cell_type": "code",
   "execution_count": null,
   "metadata": {},
   "outputs": [],
   "source": [
    "count_vector = CountVectorizer()\n",
    "\n",
    "tf = count_vector.fit_transform(reviews.Review).toarray()\n",
    "tf_feat_names = count_vector.get_feature_names_out()\n",
    "\n",
    "pos_tf = count_vector.fit_transform(pos_reviews.Review).toarray()\n",
    "pos_tf_feat_names = count_vector.get_feature_names_out()\n",
    "\n",
    "neg_tf = count_vector.fit_transform(neg_reviews.Review).toarray()\n",
    "neg_tf_feat_names = count_vector.get_feature_names_out()"
   ]
  },
  {
   "cell_type": "code",
   "execution_count": null,
   "metadata": {},
   "outputs": [],
   "source": [
    "lda = LatentDirichletAllocation(n_components=3, random_state=42069)\n",
    "lda.fit(tf)"
   ]
  },
  {
   "cell_type": "code",
   "execution_count": null,
   "metadata": {},
   "outputs": [],
   "source": [
    "no_top_words = 10\n",
    "display_topics(lda, tf_feat_names, no_top_words)"
   ]
  },
  {
   "cell_type": "markdown",
   "metadata": {},
   "source": [
    "- Interpreted topics that were identified:\n",
    "    1. People saying how good the game is\n",
    "    2. Bosses/enemies\n",
    "    3. People expressing their likes or dislikes of the game"
   ]
  },
  {
   "cell_type": "code",
   "execution_count": null,
   "metadata": {},
   "outputs": [],
   "source": [
    "pos_lda = LatentDirichletAllocation(n_components=3, random_state=42069)\n",
    "pos_lda.fit(pos_tf)"
   ]
  },
  {
   "cell_type": "code",
   "execution_count": null,
   "metadata": {},
   "outputs": [],
   "source": [
    "display_topics(pos_lda, pos_tf_feat_names, no_top_words)"
   ]
  },
  {
   "cell_type": "markdown",
   "metadata": {},
   "source": [
    "- Interpreted topics that were identified:\n",
    "    1. People expressing that they loved the game (expected since I'm looking at the subset of reviews that recommend the game)\n",
    "    2. (similar to 1st topic)\n",
    "    3. Bosses/enemies"
   ]
  },
  {
   "cell_type": "code",
   "execution_count": null,
   "metadata": {},
   "outputs": [],
   "source": [
    "neg_lda = LatentDirichletAllocation(n_components=3, random_state=42069)\n",
    "neg_lda.fit(neg_tf)"
   ]
  },
  {
   "cell_type": "code",
   "execution_count": null,
   "metadata": {},
   "outputs": [],
   "source": [
    "display_topics(neg_lda, neg_tf_feat_names, no_top_words)"
   ]
  },
  {
   "cell_type": "markdown",
   "metadata": {},
   "source": [
    "- Interpreted topics that were identified:\n",
    "    1. Bosses/enemies\n",
    "    2. Controls/PC port of the game\n",
    "    3. Players' comments on that it's the worst Dark Souls game they've played"
   ]
  },
  {
   "cell_type": "markdown",
   "metadata": {},
   "source": [
    "NMF: Linear algebra and uses the TF-IDF vectorizer as input"
   ]
  },
  {
   "cell_type": "code",
   "execution_count": null,
   "metadata": {},
   "outputs": [],
   "source": [
    "from sklearn.decomposition import NMF"
   ]
  },
  {
   "cell_type": "code",
   "execution_count": null,
   "metadata": {},
   "outputs": [],
   "source": [
    "nmf = NMF(n_components=3, random_state=42069)\n",
    "nmf.fit(tfidf_array)"
   ]
  },
  {
   "cell_type": "code",
   "execution_count": null,
   "metadata": {},
   "outputs": [],
   "source": [
    "display_topics(nmf, tfidf.get_feature_names_out(), no_top_words)"
   ]
  },
  {
   "cell_type": "markdown",
   "metadata": {},
   "source": [
    "- Interpreted topics that were identified:\n",
    "    1. Positive experiences from the game\n",
    "    2. (similar to 1st topic)\n",
    "    3. Mixed reception of the game (love and hate)"
   ]
  },
  {
   "cell_type": "code",
   "execution_count": null,
   "metadata": {},
   "outputs": [],
   "source": [
    "pos_txt = pos_reviews.Review.values.flatten()\n",
    "pos_tfidf_array = tfidf.fit_transform(pos_txt).toarray()\n",
    "nmf.fit(pos_tfidf_array)"
   ]
  },
  {
   "cell_type": "code",
   "execution_count": null,
   "metadata": {},
   "outputs": [],
   "source": [
    "display_topics(nmf, tfidf.get_feature_names_out(), no_top_words)"
   ]
  },
  {
   "cell_type": "markdown",
   "metadata": {},
   "source": [
    "- Interpreted topics that were identified:\n",
    "    1. Positive outloooks on the game\n",
    "    2. similar to 1st topic\n",
    "    3. People expressing their opinion on the game, ranging from good to bad"
   ]
  },
  {
   "cell_type": "code",
   "execution_count": null,
   "metadata": {},
   "outputs": [],
   "source": [
    "neg_txt = neg_reviews.Review.values.flatten()\n",
    "neg_tfidf_array = tfidf.fit_transform(neg_txt).toarray()\n",
    "nmf.fit(neg_tfidf_array)"
   ]
  },
  {
   "cell_type": "code",
   "execution_count": null,
   "metadata": {},
   "outputs": [],
   "source": [
    "display_topics(nmf, tfidf.get_feature_names_out(), no_top_words)"
   ]
  },
  {
   "cell_type": "markdown",
   "metadata": {},
   "source": [
    "- Interpreted topics that were identified:\n",
    "    1. Vague but concerned w/ enemies\n",
    "    2. Very negative perspectives on the game\n",
    "    3. Negative experience regarding bosses, hitboxes, and game design"
   ]
  },
  {
   "cell_type": "markdown",
   "metadata": {},
   "source": []
  },
  {
   "cell_type": "code",
   "execution_count": null,
   "metadata": {},
   "outputs": [],
   "source": []
  },
  {
   "cell_type": "markdown",
   "metadata": {},
   "source": [
    "## Conclusion:"
   ]
  },
  {
   "cell_type": "markdown",
   "metadata": {},
   "source": []
  }
 ],
 "metadata": {
  "kernelspec": {
   "display_name": "base",
   "language": "python",
   "name": "python3"
  },
  "language_info": {
   "codemirror_mode": {
    "name": "ipython",
    "version": 3
   },
   "file_extension": ".py",
   "mimetype": "text/x-python",
   "name": "python",
   "nbconvert_exporter": "python",
   "pygments_lexer": "ipython3",
   "version": "3.11.4"
  }
 },
 "nbformat": 4,
 "nbformat_minor": 2
}
