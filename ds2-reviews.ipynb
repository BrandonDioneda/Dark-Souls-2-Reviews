{
 "cells": [
  {
   "cell_type": "markdown",
   "metadata": {},
   "source": [
    "# Darks Souls II Reviews (2023)"
   ]
  },
  {
   "cell_type": "code",
   "execution_count": 1,
   "metadata": {},
   "outputs": [],
   "source": [
    "import numpy as np\n",
    "import pandas as pd\n",
    "import seaborn as sns\n",
    "import matplotlib.pyplot as plt\n",
    "import altair as alt\n",
    "import re"
   ]
  },
  {
   "cell_type": "markdown",
   "metadata": {},
   "source": [
    "## Steam Reviews as of 3/30/24:"
   ]
  },
  {
   "cell_type": "code",
   "execution_count": 2,
   "metadata": {},
   "outputs": [],
   "source": [
    "df = pd.read_csv('reviews.csv')\n",
    "reviews = df.copy()\n",
    "reviews = reviews.set_index('recommendationid')\n",
    "reviews.drop(columns={'Unnamed: 0', 'in_early_access'}, inplace=True)"
   ]
  },
  {
   "cell_type": "markdown",
   "metadata": {},
   "source": [
    "Converting date of review from unix:"
   ]
  },
  {
   "cell_type": "code",
   "execution_count": 3,
   "metadata": {},
   "outputs": [],
   "source": [
    "reviews['month'] = pd.to_datetime(reviews.update_date, unit='s').dt.month_name()\n",
    "reviews['year'] = pd.to_datetime(reviews.update_date, unit='s').dt.year"
   ]
  },
  {
   "cell_type": "markdown",
   "metadata": {},
   "source": [
    "Focusing on just the English reviews:"
   ]
  },
  {
   "cell_type": "code",
   "execution_count": 4,
   "metadata": {},
   "outputs": [],
   "source": [
    "reviews = reviews[reviews.language == 'english']"
   ]
  },
  {
   "cell_type": "markdown",
   "metadata": {},
   "source": [
    "## EDA:"
   ]
  },
  {
   "cell_type": "markdown",
   "metadata": {},
   "source": [
    "Distribution of whether or not people recommend buying the game:"
   ]
  },
  {
   "cell_type": "code",
   "execution_count": 5,
   "metadata": {},
   "outputs": [
    {
     "data": {
      "text/html": [
       "\n",
       "<style>\n",
       "  #altair-viz-c82b1cba2bfa4540bfd872211acbb42d.vega-embed {\n",
       "    width: 100%;\n",
       "    display: flex;\n",
       "  }\n",
       "\n",
       "  #altair-viz-c82b1cba2bfa4540bfd872211acbb42d.vega-embed details,\n",
       "  #altair-viz-c82b1cba2bfa4540bfd872211acbb42d.vega-embed details summary {\n",
       "    position: relative;\n",
       "  }\n",
       "</style>\n",
       "<div id=\"altair-viz-c82b1cba2bfa4540bfd872211acbb42d\"></div>\n",
       "<script type=\"text/javascript\">\n",
       "  var VEGA_DEBUG = (typeof VEGA_DEBUG == \"undefined\") ? {} : VEGA_DEBUG;\n",
       "  (function(spec, embedOpt){\n",
       "    let outputDiv = document.currentScript.previousElementSibling;\n",
       "    if (outputDiv.id !== \"altair-viz-c82b1cba2bfa4540bfd872211acbb42d\") {\n",
       "      outputDiv = document.getElementById(\"altair-viz-c82b1cba2bfa4540bfd872211acbb42d\");\n",
       "    }\n",
       "    const paths = {\n",
       "      \"vega\": \"https://cdn.jsdelivr.net/npm/vega@5?noext\",\n",
       "      \"vega-lib\": \"https://cdn.jsdelivr.net/npm/vega-lib?noext\",\n",
       "      \"vega-lite\": \"https://cdn.jsdelivr.net/npm/vega-lite@5.16.3?noext\",\n",
       "      \"vega-embed\": \"https://cdn.jsdelivr.net/npm/vega-embed@6?noext\",\n",
       "    };\n",
       "\n",
       "    function maybeLoadScript(lib, version) {\n",
       "      var key = `${lib.replace(\"-\", \"\")}_version`;\n",
       "      return (VEGA_DEBUG[key] == version) ?\n",
       "        Promise.resolve(paths[lib]) :\n",
       "        new Promise(function(resolve, reject) {\n",
       "          var s = document.createElement('script');\n",
       "          document.getElementsByTagName(\"head\")[0].appendChild(s);\n",
       "          s.async = true;\n",
       "          s.onload = () => {\n",
       "            VEGA_DEBUG[key] = version;\n",
       "            return resolve(paths[lib]);\n",
       "          };\n",
       "          s.onerror = () => reject(`Error loading script: ${paths[lib]}`);\n",
       "          s.src = paths[lib];\n",
       "        });\n",
       "    }\n",
       "\n",
       "    function showError(err) {\n",
       "      outputDiv.innerHTML = `<div class=\"error\" style=\"color:red;\">${err}</div>`;\n",
       "      throw err;\n",
       "    }\n",
       "\n",
       "    function displayChart(vegaEmbed) {\n",
       "      vegaEmbed(outputDiv, spec, embedOpt)\n",
       "        .catch(err => showError(`Javascript Error: ${err.message}<br>This usually means there's a typo in your chart specification. See the javascript console for the full traceback.`));\n",
       "    }\n",
       "\n",
       "    if(typeof define === \"function\" && define.amd) {\n",
       "      requirejs.config({paths});\n",
       "      require([\"vega-embed\"], displayChart, err => showError(`Error loading script: ${err.message}`));\n",
       "    } else {\n",
       "      maybeLoadScript(\"vega\", \"5\")\n",
       "        .then(() => maybeLoadScript(\"vega-lite\", \"5.16.3\"))\n",
       "        .then(() => maybeLoadScript(\"vega-embed\", \"6\"))\n",
       "        .catch(showError)\n",
       "        .then(() => displayChart(vegaEmbed));\n",
       "    }\n",
       "  })({\"config\": {\"view\": {\"continuousWidth\": 300, \"continuousHeight\": 300}, \"legend\": {\"labelFontSize\": 12, \"titleFontSize\": 12}}, \"data\": {\"name\": \"data-3d321df423d4d59f627ca4f3370825a2\"}, \"mark\": {\"type\": \"bar\"}, \"encoding\": {\"color\": {\"field\": \"voted_up\", \"legend\": {\"symbolSize\": 300, \"title\": \"Recommends game?\"}, \"sort\": [true, false], \"type\": \"nominal\"}, \"x\": {\"axis\": {\"labelAngle\": 0}, \"field\": \"voted_up\", \"sort\": [true, false], \"title\": \"Recommeneded\", \"type\": \"nominal\"}, \"y\": {\"field\": \"proportion\", \"title\": \"Proportion\", \"type\": \"quantitative\"}}, \"height\": 300, \"title\": \"Proportion of people who recommend playing DS2:Scholar of the First Sin (2015-2024)\", \"width\": 500, \"$schema\": \"https://vega.github.io/schema/vega-lite/v5.16.3.json\", \"datasets\": {\"data-3d321df423d4d59f627ca4f3370825a2\": [{\"voted_up\": true, \"proportion\": 0.8212121973905829}, {\"voted_up\": false, \"proportion\": 0.17878780260941704}]}}, {\"mode\": \"vega-lite\"});\n",
       "</script>"
      ],
      "text/plain": [
       "alt.Chart(...)"
      ]
     },
     "execution_count": 5,
     "metadata": {},
     "output_type": "execute_result"
    }
   ],
   "source": [
    "recommended_props = reviews[['voted_up']].value_counts(normalize=True).reset_index()\n",
    "\n",
    "props = alt.Chart(recommended_props).mark_bar().encode(\n",
    "    alt.X('voted_up', sort=[True, False], axis=alt.Axis(labelAngle=0)).title('Recommeneded'),\n",
    "    alt.Y('proportion').title('Proportion'),\n",
    "    alt.Color('voted_up', legend=alt.Legend(title='Recommends game?', symbolSize=300), sort=[True, False]),\n",
    ").properties(\n",
    "    width=500,\n",
    "    height=300,\n",
    "    title=\"Proportion of people who recommend playing DS2:Scholar of the First Sin (2015-2024)\",\n",
    ").configure_legend(\n",
    "    titleFontSize=12,\n",
    "    labelFontSize=12,\n",
    ") \n",
    "props"
   ]
  },
  {
   "cell_type": "markdown",
   "metadata": {},
   "source": [
    "- Most people actually recommend the game"
   ]
  },
  {
   "cell_type": "markdown",
   "metadata": {},
   "source": [
    "Proportions of those who don't and do recommend DS2 in each of the years:"
   ]
  },
  {
   "cell_type": "code",
   "execution_count": 6,
   "metadata": {},
   "outputs": [
    {
     "data": {
      "text/html": [
       "\n",
       "<style>\n",
       "  #altair-viz-eab33dade2d54c44a0bb9565d75325e3.vega-embed {\n",
       "    width: 100%;\n",
       "    display: flex;\n",
       "  }\n",
       "\n",
       "  #altair-viz-eab33dade2d54c44a0bb9565d75325e3.vega-embed details,\n",
       "  #altair-viz-eab33dade2d54c44a0bb9565d75325e3.vega-embed details summary {\n",
       "    position: relative;\n",
       "  }\n",
       "</style>\n",
       "<div id=\"altair-viz-eab33dade2d54c44a0bb9565d75325e3\"></div>\n",
       "<script type=\"text/javascript\">\n",
       "  var VEGA_DEBUG = (typeof VEGA_DEBUG == \"undefined\") ? {} : VEGA_DEBUG;\n",
       "  (function(spec, embedOpt){\n",
       "    let outputDiv = document.currentScript.previousElementSibling;\n",
       "    if (outputDiv.id !== \"altair-viz-eab33dade2d54c44a0bb9565d75325e3\") {\n",
       "      outputDiv = document.getElementById(\"altair-viz-eab33dade2d54c44a0bb9565d75325e3\");\n",
       "    }\n",
       "    const paths = {\n",
       "      \"vega\": \"https://cdn.jsdelivr.net/npm/vega@5?noext\",\n",
       "      \"vega-lib\": \"https://cdn.jsdelivr.net/npm/vega-lib?noext\",\n",
       "      \"vega-lite\": \"https://cdn.jsdelivr.net/npm/vega-lite@5.16.3?noext\",\n",
       "      \"vega-embed\": \"https://cdn.jsdelivr.net/npm/vega-embed@6?noext\",\n",
       "    };\n",
       "\n",
       "    function maybeLoadScript(lib, version) {\n",
       "      var key = `${lib.replace(\"-\", \"\")}_version`;\n",
       "      return (VEGA_DEBUG[key] == version) ?\n",
       "        Promise.resolve(paths[lib]) :\n",
       "        new Promise(function(resolve, reject) {\n",
       "          var s = document.createElement('script');\n",
       "          document.getElementsByTagName(\"head\")[0].appendChild(s);\n",
       "          s.async = true;\n",
       "          s.onload = () => {\n",
       "            VEGA_DEBUG[key] = version;\n",
       "            return resolve(paths[lib]);\n",
       "          };\n",
       "          s.onerror = () => reject(`Error loading script: ${paths[lib]}`);\n",
       "          s.src = paths[lib];\n",
       "        });\n",
       "    }\n",
       "\n",
       "    function showError(err) {\n",
       "      outputDiv.innerHTML = `<div class=\"error\" style=\"color:red;\">${err}</div>`;\n",
       "      throw err;\n",
       "    }\n",
       "\n",
       "    function displayChart(vegaEmbed) {\n",
       "      vegaEmbed(outputDiv, spec, embedOpt)\n",
       "        .catch(err => showError(`Javascript Error: ${err.message}<br>This usually means there's a typo in your chart specification. See the javascript console for the full traceback.`));\n",
       "    }\n",
       "\n",
       "    if(typeof define === \"function\" && define.amd) {\n",
       "      requirejs.config({paths});\n",
       "      require([\"vega-embed\"], displayChart, err => showError(`Error loading script: ${err.message}`));\n",
       "    } else {\n",
       "      maybeLoadScript(\"vega\", \"5\")\n",
       "        .then(() => maybeLoadScript(\"vega-lite\", \"5.16.3\"))\n",
       "        .then(() => maybeLoadScript(\"vega-embed\", \"6\"))\n",
       "        .catch(showError)\n",
       "        .then(() => displayChart(vegaEmbed));\n",
       "    }\n",
       "  })({\"config\": {\"view\": {\"continuousWidth\": 300, \"continuousHeight\": 300}}, \"vconcat\": [{\"mark\": {\"type\": \"line\"}, \"encoding\": {\"color\": {\"field\": \"voted_up\", \"legend\": {\"symbolSize\": 300, \"title\": \"Recommends game?\"}, \"sort\": [true, false], \"type\": \"nominal\"}, \"x\": {\"axis\": {\"labelAngle\": 0}, \"field\": \"year\", \"title\": \"Year\", \"type\": \"nominal\"}, \"y\": {\"field\": \"review\", \"title\": \"Number of reviews\", \"type\": \"quantitative\"}}, \"height\": 300, \"title\": \"Count of Positive and Negative Reviews per Year (2015-2024)\", \"width\": 800}, {\"mark\": {\"type\": \"bar\"}, \"encoding\": {\"color\": {\"field\": \"voted_up\", \"legend\": {\"symbolSize\": 300, \"title\": \"Recommends game?\"}, \"sort\": [true, false], \"type\": \"nominal\"}, \"x\": {\"axis\": {\"labelAngle\": 0}, \"field\": \"year\", \"title\": \"Year\", \"type\": \"nominal\"}, \"y\": {\"field\": \"review\", \"title\": \"Number of reviews\", \"type\": \"quantitative\"}}, \"height\": 300, \"title\": \"Count of Positive and Negative Reviews per Year (2015-2024)\", \"width\": 800}], \"data\": {\"name\": \"data-5f6aba4535fef9740e439fff5354639d\"}, \"$schema\": \"https://vega.github.io/schema/vega-lite/v5.16.3.json\", \"datasets\": {\"data-5f6aba4535fef9740e439fff5354639d\": [{\"year\": 2015, \"voted_up\": false, \"review\": 374, \"total_reviews\": 2863, \"proportion\": 0.13063220398183722}, {\"year\": 2015, \"voted_up\": true, \"review\": 2489, \"total_reviews\": 2863, \"proportion\": 0.8693677960181627}, {\"year\": 2016, \"voted_up\": false, \"review\": 393, \"total_reviews\": 3173, \"proportion\": 0.1238575480617712}, {\"year\": 2016, \"voted_up\": true, \"review\": 2780, \"total_reviews\": 3173, \"proportion\": 0.8761424519382288}, {\"year\": 2017, \"voted_up\": false, \"review\": 380, \"total_reviews\": 2432, \"proportion\": 0.15625}, {\"year\": 2017, \"voted_up\": true, \"review\": 2052, \"total_reviews\": 2432, \"proportion\": 0.84375}, {\"year\": 2018, \"voted_up\": false, \"review\": 385, \"total_reviews\": 1789, \"proportion\": 0.21520402459474566}, {\"year\": 2018, \"voted_up\": true, \"review\": 1404, \"total_reviews\": 1789, \"proportion\": 0.7847959754052544}, {\"year\": 2019, \"voted_up\": false, \"review\": 385, \"total_reviews\": 3007, \"proportion\": 0.12803458596607914}, {\"year\": 2019, \"voted_up\": true, \"review\": 2622, \"total_reviews\": 3007, \"proportion\": 0.8719654140339208}, {\"year\": 2020, \"voted_up\": false, \"review\": 930, \"total_reviews\": 5903, \"proportion\": 0.15754700999491783}, {\"year\": 2020, \"voted_up\": true, \"review\": 4973, \"total_reviews\": 5903, \"proportion\": 0.8424529900050821}, {\"year\": 2021, \"voted_up\": false, \"review\": 1257, \"total_reviews\": 7225, \"proportion\": 0.17397923875432525}, {\"year\": 2021, \"voted_up\": true, \"review\": 5968, \"total_reviews\": 7225, \"proportion\": 0.8260207612456747}, {\"year\": 2022, \"voted_up\": false, \"review\": 1264, \"total_reviews\": 5801, \"proportion\": 0.21789346664368212}, {\"year\": 2022, \"voted_up\": true, \"review\": 4537, \"total_reviews\": 5801, \"proportion\": 0.7821065333563179}, {\"year\": 2023, \"voted_up\": false, \"review\": 1262, \"total_reviews\": 5605, \"proportion\": 0.22515611061552185}, {\"year\": 2023, \"voted_up\": true, \"review\": 4343, \"total_reviews\": 5605, \"proportion\": 0.7748438893844781}, {\"year\": 2024, \"voted_up\": false, \"review\": 470, \"total_reviews\": 1891, \"proportion\": 0.24854574299312532}, {\"year\": 2024, \"voted_up\": true, \"review\": 1421, \"total_reviews\": 1891, \"proportion\": 0.7514542570068746}]}}, {\"mode\": \"vega-lite\"});\n",
       "</script>"
      ],
      "text/plain": [
       "alt.VConcatChart(...)"
      ]
     },
     "execution_count": 6,
     "metadata": {},
     "output_type": "execute_result"
    }
   ],
   "source": [
    "yr_props = reviews.groupby(['year', 'voted_up'])[['review']].count().reset_index()\n",
    "yr_props['total_reviews'] = yr_props.groupby('year')['review'].transform('sum')\n",
    "yr_props['proportion'] = yr_props['review'] / yr_props['total_reviews']\n",
    "\n",
    "yr_count_dist_line = alt.Chart(yr_props).mark_line().encode(\n",
    "    alt.X('year:N', axis=alt.Axis(labelAngle=0)).title('Year'),\n",
    "    alt.Y('review').title('Number of reviews'),\n",
    "    alt.Color('voted_up', legend=alt.Legend(title='Recommends game?', symbolSize=300), sort=[True, False])\n",
    ").properties(\n",
    "    width=800,\n",
    "    height=300,\n",
    "    title=\"Count of Positive and Negative Reviews per Year (2015-2024)\"\n",
    ")\n",
    "\n",
    "yr_count_dist_bar = alt.Chart(yr_props).mark_bar().encode(\n",
    "    alt.X('year:N', axis=alt.Axis(labelAngle=0)).title('Year'),\n",
    "    alt.Y('review').title('Number of reviews'),\n",
    "    alt.Color('voted_up', legend=alt.Legend(title='Recommends game?', symbolSize=300), sort=[True, False])\n",
    ").properties(\n",
    "    width=800,\n",
    "    height=300,\n",
    "    title=\"Count of Positive and Negative Reviews per Year (2015-2024)\"\n",
    ")\n",
    "\n",
    "(\n",
    "    (yr_count_dist_line & yr_count_dist_bar)\n",
    ")"
   ]
  },
  {
   "cell_type": "markdown",
   "metadata": {},
   "source": [
    "- Contrary to popular belief, most people actually recommend playing the since its release back in 2015\n",
    "- Game released    : April 2015 (Scholar of the First Sin edition)"
   ]
  },
  {
   "cell_type": "markdown",
   "metadata": {},
   "source": [
    "## Cleaning up the reviews"
   ]
  },
  {
   "cell_type": "markdown",
   "metadata": {},
   "source": [
    "- Removing anything that's not a letter (urls, esc seqs, etc.):"
   ]
  },
  {
   "cell_type": "code",
   "execution_count": 7,
   "metadata": {},
   "outputs": [],
   "source": [
    "from nltk.corpus import stopwords\n",
    "\n",
    "# Removing urls:\n",
    "r = [re.sub(r'http\\S+', '', review).lower().strip() if pd.notna(review) else review for review in reviews.review]\n",
    "\n",
    "# Removing esc sequences, punctuation, and numbers:\n",
    "    # There's some ASCII art in some of the reviews\n",
    "r = [re.sub(r'[^A-Za-z]', ' ', review).strip() if pd.notna(review) else review for review in r]\n",
    "\n",
    "# Removing stop words (may not be the best practice):\n",
    "# stop_wrds = re.compile(''.join([rf'\\b{wrd}\\b|' for wrd in stopwords.words('english')]))\n",
    "# r = [re.sub(stop_wrds, '', review).strip() if pd.notna(review) else review for review in r]\n",
    "\n",
    "# Removing multiple and trailing whitespaces:\n",
    "r = [re.sub(r' +', ' ', review).strip() if pd.notna(review) else review for review in r]\n",
    "\n",
    "reviews['review'] = r"
   ]
  },
  {
   "cell_type": "markdown",
   "metadata": {},
   "source": [
    "- Dealing with misspelled words (needed for proper topic modeling):\n",
    "    - Typos won't get caught and removed in Stop word removal thus affecting efficiency of training process. This would severely affect accuracy of NLP, text or sentiment analysis and topic modelling tasks.\n",
    "    - Common phrases within the souls community that are misspelled on purpose:\n",
    "        - 'git gud' : 'get good'\n",
    "        - 'casul' : 'casual' "
   ]
  },
  {
   "cell_type": "code",
   "execution_count": 8,
   "metadata": {},
   "outputs": [
    {
     "data": {
      "text/plain": [
       "'disappointment'"
      ]
     },
     "execution_count": 8,
     "metadata": {},
     "output_type": "execute_result"
    }
   ],
   "source": [
    "from textblob import TextBlob\n",
    "\n",
    "from autocorrect import Speller\n",
    "spell = Speller(lang='en')\n",
    "spell('dissapointment')"
   ]
  },
  {
   "cell_type": "code",
   "execution_count": 9,
   "metadata": {},
   "outputs": [
    {
     "data": {
      "text/html": [
       "<div>\n",
       "<style scoped>\n",
       "    .dataframe tbody tr th:only-of-type {\n",
       "        vertical-align: middle;\n",
       "    }\n",
       "\n",
       "    .dataframe tbody tr th {\n",
       "        vertical-align: top;\n",
       "    }\n",
       "\n",
       "    .dataframe thead th {\n",
       "        text-align: right;\n",
       "    }\n",
       "</style>\n",
       "<table border=\"1\" class=\"dataframe\">\n",
       "  <thead>\n",
       "    <tr style=\"text-align: right;\">\n",
       "      <th></th>\n",
       "      <th>review</th>\n",
       "      <th>language</th>\n",
       "      <th>init_date</th>\n",
       "      <th>update_date</th>\n",
       "      <th>voted_up</th>\n",
       "      <th>month</th>\n",
       "      <th>year</th>\n",
       "    </tr>\n",
       "    <tr>\n",
       "      <th>recommendationid</th>\n",
       "      <th></th>\n",
       "      <th></th>\n",
       "      <th></th>\n",
       "      <th></th>\n",
       "      <th></th>\n",
       "      <th></th>\n",
       "      <th></th>\n",
       "    </tr>\n",
       "  </thead>\n",
       "  <tbody>\n",
       "    <tr>\n",
       "      <th>161822555</th>\n",
       "      <td>i know dark souls gets a lot of hate but perso...</td>\n",
       "      <td>english</td>\n",
       "      <td>1711822731</td>\n",
       "      <td>1711822731</td>\n",
       "      <td>False</td>\n",
       "      <td>March</td>\n",
       "      <td>2024</td>\n",
       "    </tr>\n",
       "    <tr>\n",
       "      <th>161819114</th>\n",
       "      <td>if you re expecting it to be like the original...</td>\n",
       "      <td>english</td>\n",
       "      <td>1711819586</td>\n",
       "      <td>1711819586</td>\n",
       "      <td>True</td>\n",
       "      <td>March</td>\n",
       "      <td>2024</td>\n",
       "    </tr>\n",
       "    <tr>\n",
       "      <th>161818428</th>\n",
       "      <td>shit</td>\n",
       "      <td>english</td>\n",
       "      <td>1711819000</td>\n",
       "      <td>1711819000</td>\n",
       "      <td>False</td>\n",
       "      <td>March</td>\n",
       "      <td>2024</td>\n",
       "    </tr>\n",
       "    <tr>\n",
       "      <th>161816145</th>\n",
       "      <td>NaN</td>\n",
       "      <td>english</td>\n",
       "      <td>1711816954</td>\n",
       "      <td>1711816954</td>\n",
       "      <td>True</td>\n",
       "      <td>March</td>\n",
       "      <td>2024</td>\n",
       "    </tr>\n",
       "    <tr>\n",
       "      <th>161816097</th>\n",
       "      <td>genuinely bad</td>\n",
       "      <td>english</td>\n",
       "      <td>1711816908</td>\n",
       "      <td>1711816908</td>\n",
       "      <td>False</td>\n",
       "      <td>March</td>\n",
       "      <td>2024</td>\n",
       "    </tr>\n",
       "    <tr>\n",
       "      <th>...</th>\n",
       "      <td>...</td>\n",
       "      <td>...</td>\n",
       "      <td>...</td>\n",
       "      <td>...</td>\n",
       "      <td>...</td>\n",
       "      <td>...</td>\n",
       "      <td>...</td>\n",
       "    </tr>\n",
       "    <tr>\n",
       "      <th>15162268</th>\n",
       "      <td>try tongue but hole</td>\n",
       "      <td>english</td>\n",
       "      <td>1427932431</td>\n",
       "      <td>1428081346</td>\n",
       "      <td>True</td>\n",
       "      <td>April</td>\n",
       "      <td>2015</td>\n",
       "    </tr>\n",
       "    <tr>\n",
       "      <th>15162220</th>\n",
       "      <td>so far so good played it for mins so far with ...</td>\n",
       "      <td>english</td>\n",
       "      <td>1427932153</td>\n",
       "      <td>1427932153</td>\n",
       "      <td>True</td>\n",
       "      <td>April</td>\n",
       "      <td>2015</td>\n",
       "    </tr>\n",
       "    <tr>\n",
       "      <th>15162161</th>\n",
       "      <td>still haven t died bonedrinker rufus keep the ...</td>\n",
       "      <td>english</td>\n",
       "      <td>1427931845</td>\n",
       "      <td>1427931845</td>\n",
       "      <td>True</td>\n",
       "      <td>April</td>\n",
       "      <td>2015</td>\n",
       "    </tr>\n",
       "    <tr>\n",
       "      <th>15162057</th>\n",
       "      <td>needs more cow bell</td>\n",
       "      <td>english</td>\n",
       "      <td>1427931196</td>\n",
       "      <td>1427931196</td>\n",
       "      <td>True</td>\n",
       "      <td>April</td>\n",
       "      <td>2015</td>\n",
       "    </tr>\n",
       "    <tr>\n",
       "      <th>15161857</th>\n",
       "      <td>would die again</td>\n",
       "      <td>english</td>\n",
       "      <td>1427929899</td>\n",
       "      <td>1427929899</td>\n",
       "      <td>True</td>\n",
       "      <td>April</td>\n",
       "      <td>2015</td>\n",
       "    </tr>\n",
       "  </tbody>\n",
       "</table>\n",
       "<p>39779 rows × 7 columns</p>\n",
       "</div>"
      ],
      "text/plain": [
       "                                                             review language  \\\n",
       "recommendationid                                                               \n",
       "161822555         i know dark souls gets a lot of hate but perso...  english   \n",
       "161819114         if you re expecting it to be like the original...  english   \n",
       "161818428                                                      shit  english   \n",
       "161816145                                                       NaN  english   \n",
       "161816097                                             genuinely bad  english   \n",
       "...                                                             ...      ...   \n",
       "15162268                                        try tongue but hole  english   \n",
       "15162220          so far so good played it for mins so far with ...  english   \n",
       "15162161          still haven t died bonedrinker rufus keep the ...  english   \n",
       "15162057                                        needs more cow bell  english   \n",
       "15161857                                            would die again  english   \n",
       "\n",
       "                   init_date  update_date  voted_up  month  year  \n",
       "recommendationid                                                  \n",
       "161822555         1711822731   1711822731     False  March  2024  \n",
       "161819114         1711819586   1711819586      True  March  2024  \n",
       "161818428         1711819000   1711819000     False  March  2024  \n",
       "161816145         1711816954   1711816954      True  March  2024  \n",
       "161816097         1711816908   1711816908     False  March  2024  \n",
       "...                      ...          ...       ...    ...   ...  \n",
       "15162268          1427932431   1428081346      True  April  2015  \n",
       "15162220          1427932153   1427932153      True  April  2015  \n",
       "15162161          1427931845   1427931845      True  April  2015  \n",
       "15162057          1427931196   1427931196      True  April  2015  \n",
       "15161857          1427929899   1427929899      True  April  2015  \n",
       "\n",
       "[39779 rows x 7 columns]"
      ]
     },
     "execution_count": 9,
     "metadata": {},
     "output_type": "execute_result"
    }
   ],
   "source": [
    "reviews"
   ]
  },
  {
   "cell_type": "markdown",
   "metadata": {},
   "source": [
    "## Sentiment Analysis:\n",
    "- Seeing why people were positive or negative about the game\n",
    "    - Comments on story, gameplay, etc"
   ]
  },
  {
   "cell_type": "markdown",
   "metadata": {},
   "source": [
    "For sake of analysis specifically on the actual reviews, drop any rows that have no reviews:"
   ]
  },
  {
   "cell_type": "code",
   "execution_count": null,
   "metadata": {},
   "outputs": [],
   "source": [
    "reviews = reviews.dropna(subset=['review'])\n",
    "reviews.shape"
   ]
  },
  {
   "cell_type": "markdown",
   "metadata": {},
   "source": [
    "Top 10 Most Common Words in the Reviews:"
   ]
  },
  {
   "cell_type": "code",
   "execution_count": null,
   "metadata": {},
   "outputs": [],
   "source": [
    "from nltk.tokenize import word_tokenize\n",
    "from sklearn.feature_extraction.text import CountVectorizer, TfidfVectorizer"
   ]
  },
  {
   "cell_type": "code",
   "execution_count": null,
   "metadata": {},
   "outputs": [],
   "source": [
    "tfidf = TfidfVectorizer(sublinear_tf=True,\n",
    "                        analyzer='word',\n",
    "                        max_features=4000,\n",
    "                        tokenizer=word_tokenize,\n",
    "                        stop_words=stopwords.words(\"english\"))"
   ]
  },
  {
   "cell_type": "code",
   "execution_count": null,
   "metadata": {},
   "outputs": [],
   "source": [
    "review_txt = reviews.review.values.flatten()\n",
    "tfidf_array = tfidf.fit_transform(review_txt).toarray()\n",
    "tfidf_df = pd.DataFrame(tfidf_array)\n",
    "tfidf_df.columns = tfidf.get_feature_names_out()\n",
    "tfidf_df.head()"
   ]
  },
  {
   "cell_type": "code",
   "execution_count": null,
   "metadata": {},
   "outputs": [],
   "source": [
    "most_unique = tfidf_df.idxmax(axis=1)\n",
    "top_10 = most_unique.value_counts()[:10]\n",
    "top_10"
   ]
  },
  {
   "cell_type": "code",
   "execution_count": null,
   "metadata": {},
   "outputs": [],
   "source": [
    "top_10 = top_10.reset_index()\n",
    "top_10.rename(columns={'index':'word'}, inplace=True)\n",
    "sns.barplot(data=top_10,\n",
    "            x='word',\n",
    "            y='count');"
   ]
  },
  {
   "cell_type": "markdown",
   "metadata": {},
   "source": [
    "- Most popular word w/ semantic meaning: Triple A \n",
    "    - def: an informal classification used to classify video games produced and distributed by a mid-sized or major publisher\n",
    "- Top words used seem to be positive, but this is looking at the words without context"
   ]
  },
  {
   "cell_type": "markdown",
   "metadata": {},
   "source": [
    "Other popular words:"
   ]
  },
  {
   "cell_type": "code",
   "execution_count": null,
   "metadata": {},
   "outputs": [],
   "source": [
    "from wordcloud import WordCloud"
   ]
  },
  {
   "cell_type": "code",
   "execution_count": null,
   "metadata": {},
   "outputs": [],
   "source": [
    "pop_wrds = \" \".join( review for review in reviews.review)\n",
    "wordcloud = WordCloud(max_font_size=150, max_words=100, background_color=\"white\").generate( pop_wrds )\n",
    "plt.figure(figsize=(30, 10))\n",
    "plt.imshow(wordcloud, interpolation=\"bilinear\") \n",
    "plt.axis(\"off\")\n",
    "plt.title('Popular Words in DS2 Reviews')\n",
    "plt.show()"
   ]
  },
  {
   "cell_type": "markdown",
   "metadata": {},
   "source": [
    "- Most common word among the reviews isn't very informative - including some of the other popular words\n",
    "    - Looking at subsets of the reviews could be useful"
   ]
  },
  {
   "cell_type": "markdown",
   "metadata": {},
   "source": [
    "### Topic Modeling:\n",
    "- Exploring certain aspects on why people like the game\n",
    "    - Also get critiques of the game in positive reviews (if any but there sure is considering DS2's reputation in the community)\n",
    "\n",
    "- Exploring why people don't like the game:\n",
    "    - Also get positive aspects within this subset of the reviews\n",
    "    \n",
    "- Algorithms I can use to perform topic modeling:\n",
    "    1. Latent Dirichlet Allocation (LDA) \n",
    "    2. Non-negative Matrix Factorization (NMF)"
   ]
  },
  {
   "cell_type": "markdown",
   "metadata": {},
   "source": [
    "Splitting the reviews by how many do and don't recommend buying the game:"
   ]
  },
  {
   "cell_type": "code",
   "execution_count": null,
   "metadata": {},
   "outputs": [],
   "source": [
    "pos_reviews = reviews[reviews['voted_up'] == True]\n",
    "neg_reviews = reviews[reviews['voted_up'] == False]"
   ]
  },
  {
   "cell_type": "code",
   "execution_count": null,
   "metadata": {},
   "outputs": [],
   "source": [
    "pos_reviews.shape, neg_reviews.shape"
   ]
  },
  {
   "cell_type": "markdown",
   "metadata": {},
   "source": [
    "Function to display the output of the models:"
   ]
  },
  {
   "cell_type": "code",
   "execution_count": null,
   "metadata": {},
   "outputs": [],
   "source": [
    "def display_topics(model, feature_names, no_top_words):\n",
    "    topic_dict = {}\n",
    "    for topic_idx, topic in enumerate(model.components_):\n",
    "        topic_dict[\"Topic %d words\" % (topic_idx + 1)]= ['{}'.format(feature_names[i])\n",
    "                        for i in topic.argsort()[:-no_top_words - 1:-1]]\n",
    "        topic_dict[\"Topic %d weights\" % (topic_idx + 1)]= ['{:.1f}'.format(topic[i])\n",
    "                        for i in topic.argsort()[:-no_top_words - 1:-1]]\n",
    "    return pd.DataFrame(topic_dict)"
   ]
  },
  {
   "cell_type": "markdown",
   "metadata": {},
   "source": [
    "LDA: Probabilistic graphical modeling, and uses CountVectorizer as input"
   ]
  },
  {
   "cell_type": "code",
   "execution_count": null,
   "metadata": {},
   "outputs": [],
   "source": [
    "from sklearn.decomposition import LatentDirichletAllocation"
   ]
  },
  {
   "cell_type": "code",
   "execution_count": null,
   "metadata": {},
   "outputs": [],
   "source": [
    "count_vector = CountVectorizer()\n",
    "\n",
    "tf = count_vector.fit_transform(reviews.review).toarray()\n",
    "tf_feat_names = count_vector.get_feature_names_out()\n",
    "\n",
    "pos_tf = count_vector.fit_transform(pos_reviews.review).toarray()\n",
    "pos_tf_feat_names = count_vector.get_feature_names_out()\n",
    "\n",
    "neg_tf = count_vector.fit_transform(neg_reviews.review).toarray()\n",
    "neg_tf_feat_names = count_vector.get_feature_names_out()"
   ]
  },
  {
   "cell_type": "code",
   "execution_count": null,
   "metadata": {},
   "outputs": [],
   "source": [
    "lda = LatentDirichletAllocation(n_components=3, random_state=42069)\n",
    "lda.fit(tf)"
   ]
  },
  {
   "cell_type": "code",
   "execution_count": null,
   "metadata": {},
   "outputs": [],
   "source": [
    "no_top_words = 10\n",
    "display_topics(lda, tf_feat_names, no_top_words)"
   ]
  },
  {
   "cell_type": "markdown",
   "metadata": {},
   "source": [
    "- Interpreted topics that were identified:\n",
    "    1. People saying how good the game is\n",
    "    2. Bosses/enemies\n",
    "    3. People expressing their likes or dislikes of the game"
   ]
  },
  {
   "cell_type": "code",
   "execution_count": null,
   "metadata": {},
   "outputs": [],
   "source": [
    "pos_lda = LatentDirichletAllocation(n_components=3, random_state=42069)\n",
    "pos_lda.fit(pos_tf)"
   ]
  },
  {
   "cell_type": "code",
   "execution_count": null,
   "metadata": {},
   "outputs": [],
   "source": [
    "display_topics(pos_lda, pos_tf_feat_names, no_top_words)"
   ]
  },
  {
   "cell_type": "markdown",
   "metadata": {},
   "source": [
    "- Interpreted topics that were identified:\n",
    "    1. People expressing that they loved the game (expected since I'm looking at the subset of reviews that recommend the game)\n",
    "    2. (similar to 1st topic)\n",
    "    3. Bosses/enemies"
   ]
  },
  {
   "cell_type": "code",
   "execution_count": null,
   "metadata": {},
   "outputs": [],
   "source": [
    "neg_lda = LatentDirichletAllocation(n_components=3, random_state=42069)\n",
    "neg_lda.fit(neg_tf)"
   ]
  },
  {
   "cell_type": "code",
   "execution_count": null,
   "metadata": {},
   "outputs": [],
   "source": [
    "display_topics(neg_lda, neg_tf_feat_names, no_top_words)"
   ]
  },
  {
   "cell_type": "markdown",
   "metadata": {},
   "source": [
    "- Interpreted topics that were identified:\n",
    "    1. Bosses/enemies\n",
    "    2. Controls/PC port of the game\n",
    "    3. Players' comments on that it's the worst Dark Souls game they've played"
   ]
  },
  {
   "cell_type": "markdown",
   "metadata": {},
   "source": [
    "NMF: Linear algebra and uses the TF-IDF vectorizer as input"
   ]
  },
  {
   "cell_type": "code",
   "execution_count": null,
   "metadata": {},
   "outputs": [],
   "source": [
    "from sklearn.decomposition import NMF"
   ]
  },
  {
   "cell_type": "code",
   "execution_count": null,
   "metadata": {},
   "outputs": [],
   "source": [
    "nmf = NMF(n_components=3, random_state=42069)\n",
    "nmf.fit(tfidf_array)"
   ]
  },
  {
   "cell_type": "code",
   "execution_count": null,
   "metadata": {},
   "outputs": [],
   "source": [
    "display_topics(nmf, tfidf.get_feature_names_out(), no_top_words)"
   ]
  },
  {
   "cell_type": "markdown",
   "metadata": {},
   "source": [
    "- Interpreted topics that were identified:\n",
    "    1. Positive experiences from the game\n",
    "    2. (similar to 1st topic)\n",
    "    3. Mixed reception of the game (love and hate)"
   ]
  },
  {
   "cell_type": "code",
   "execution_count": null,
   "metadata": {},
   "outputs": [],
   "source": [
    "pos_txt = pos_reviews.review.values.flatten()\n",
    "pos_tfidf_array = tfidf.fit_transform(pos_txt).toarray()\n",
    "nmf.fit(pos_tfidf_array)"
   ]
  },
  {
   "cell_type": "code",
   "execution_count": null,
   "metadata": {},
   "outputs": [],
   "source": [
    "display_topics(nmf, tfidf.get_feature_names_out(), no_top_words)"
   ]
  },
  {
   "cell_type": "markdown",
   "metadata": {},
   "source": [
    "- Interpreted topics that were identified:\n",
    "    1. Positive outloooks on the game\n",
    "    2. similar to 1st topic\n",
    "    3. People expressing their opinion on the game, ranging from good to bad"
   ]
  },
  {
   "cell_type": "code",
   "execution_count": null,
   "metadata": {},
   "outputs": [],
   "source": [
    "neg_txt = neg_reviews.review.values.flatten()\n",
    "neg_tfidf_array = tfidf.fit_transform(neg_txt).toarray()\n",
    "nmf.fit(neg_tfidf_array)"
   ]
  },
  {
   "cell_type": "code",
   "execution_count": null,
   "metadata": {},
   "outputs": [],
   "source": [
    "display_topics(nmf, tfidf.get_feature_names_out(), no_top_words)"
   ]
  },
  {
   "cell_type": "markdown",
   "metadata": {},
   "source": [
    "- Interpreted topics that were identified:\n",
    "    1. Vague but concerned w/ enemies\n",
    "    2. Very negative perspectives on the game\n",
    "    3. Negative experience regarding bosses, hitboxes, and game design"
   ]
  },
  {
   "cell_type": "markdown",
   "metadata": {},
   "source": []
  },
  {
   "cell_type": "code",
   "execution_count": null,
   "metadata": {},
   "outputs": [],
   "source": []
  },
  {
   "cell_type": "markdown",
   "metadata": {},
   "source": [
    "## Conclusion:"
   ]
  },
  {
   "cell_type": "markdown",
   "metadata": {},
   "source": []
  }
 ],
 "metadata": {
  "kernelspec": {
   "display_name": "base",
   "language": "python",
   "name": "python3"
  },
  "language_info": {
   "codemirror_mode": {
    "name": "ipython",
    "version": 3
   },
   "file_extension": ".py",
   "mimetype": "text/x-python",
   "name": "python",
   "nbconvert_exporter": "python",
   "pygments_lexer": "ipython3",
   "version": "3.11.4"
  }
 },
 "nbformat": 4,
 "nbformat_minor": 2
}
