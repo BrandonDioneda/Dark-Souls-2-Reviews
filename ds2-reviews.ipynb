{
 "cells": [
  {
   "cell_type": "markdown",
   "metadata": {},
   "source": [
    "# Darks Souls II Review (2023)"
   ]
  },
  {
   "cell_type": "code",
   "execution_count": 1,
   "metadata": {},
   "outputs": [],
   "source": [
    "import numpy as np\n",
    "import pandas as pd\n",
    "import requests\n",
    "import bs4\n",
    "import re"
   ]
  },
  {
   "cell_type": "markdown",
   "metadata": {},
   "source": [
    "## Steam Reviews as of 12/18/23:"
   ]
  },
  {
   "cell_type": "markdown",
   "metadata": {},
   "source": [
    "Each review is contained under:\n",
    "- div class=\"apphub_CardTextContent\""
   ]
  },
  {
   "cell_type": "code",
   "execution_count": 2,
   "metadata": {},
   "outputs": [],
   "source": [
    "from selenium import webdriver\n",
    "import time\n",
    "\n",
    "url = \"https://steamcommunity.com/app/335300/reviews/?browsefilter=toprated&snr=1_5_100010_\"\n",
    "\n",
    "# Initialize a Selenium webdriver (you need to have the appropriate driver installed, e.g., chromedriver)\n",
    "driver = webdriver.Chrome()\n",
    "\n",
    "# Open the URL\n",
    "driver.get(url)\n",
    "\n",
    "# Scroll down to load additional reviews (adjust the number of scrolls as needed)\n",
    "t = 1\n",
    "for i in range(1000):  # Scrolling a certain amount of times (num of iterations)\n",
    "    driver.execute_script(\"window.scrollTo(0, document.body.scrollHeight);\")\n",
    "    time.sleep(t)  # Wait for the content to load (t is in term of seconds)\n",
    "\n",
    "# Get the page source after all reviews are loaded\n",
    "page_source = driver.page_source\n",
    "\n",
    "# Close the webdriver\n",
    "driver.quit()\n",
    "\n",
    "# Parse the HTML content of the page\n",
    "soup = bs4.BeautifulSoup(page_source, 'html.parser')\n",
    "\n",
    "# Find all div elements with class=\"apphub_CardTextContent\" which typically contains reviews\n",
    "review_divs = soup.find_all('div', class_='apphub_CardTextContent')\n",
    "\n",
    "# Print or process each review\n",
    "reviews = []\n",
    "for review in review_divs:\n",
    "    reviews.append(review.get_text())  # This prints the text content of each review"
   ]
  },
  {
   "cell_type": "code",
   "execution_count": 3,
   "metadata": {},
   "outputs": [
    {
     "data": {
      "text/plain": [
       "9960"
      ]
     },
     "execution_count": 3,
     "metadata": {},
     "output_type": "execute_result"
    }
   ],
   "source": [
    "len(reviews)"
   ]
  },
  {
   "cell_type": "markdown",
   "metadata": {},
   "source": [
    "## Sentiment Analysis:\n",
    "- Needed to determine whether or not a review was postive or negaive about the game"
   ]
  },
  {
   "cell_type": "code",
   "execution_count": null,
   "metadata": {},
   "outputs": [],
   "source": []
  },
  {
   "cell_type": "markdown",
   "metadata": {},
   "source": [
    "If there was one word to descibe all these reviews:"
   ]
  },
  {
   "cell_type": "code",
   "execution_count": null,
   "metadata": {},
   "outputs": [],
   "source": []
  }
 ],
 "metadata": {
  "kernelspec": {
   "display_name": "base",
   "language": "python",
   "name": "python3"
  },
  "language_info": {
   "codemirror_mode": {
    "name": "ipython",
    "version": 3
   },
   "file_extension": ".py",
   "mimetype": "text/x-python",
   "name": "python",
   "nbconvert_exporter": "python",
   "pygments_lexer": "ipython3",
   "version": "3.11.5"
  }
 },
 "nbformat": 4,
 "nbformat_minor": 2
}
