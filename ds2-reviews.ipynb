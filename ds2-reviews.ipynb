{
 "cells": [
  {
   "cell_type": "markdown",
   "metadata": {},
   "source": [
    "# Darks Souls II Reviews (2023)"
   ]
  },
  {
   "cell_type": "code",
   "execution_count": 1,
   "metadata": {},
   "outputs": [],
   "source": [
    "import numpy as np\n",
    "import pandas as pd\n",
    "import seaborn as sns\n",
    "import matplotlib.pyplot as plt\n",
    "import re"
   ]
  },
  {
   "cell_type": "markdown",
   "metadata": {},
   "source": [
    "## Steam Reviews as of 12/18/23:"
   ]
  },
  {
   "cell_type": "code",
   "execution_count": 2,
   "metadata": {},
   "outputs": [
    {
     "data": {
      "text/html": [
       "<div>\n",
       "<style scoped>\n",
       "    .dataframe tbody tr th:only-of-type {\n",
       "        vertical-align: middle;\n",
       "    }\n",
       "\n",
       "    .dataframe tbody tr th {\n",
       "        vertical-align: top;\n",
       "    }\n",
       "\n",
       "    .dataframe thead th {\n",
       "        text-align: right;\n",
       "    }\n",
       "</style>\n",
       "<table border=\"1\" class=\"dataframe\">\n",
       "  <thead>\n",
       "    <tr style=\"text-align: right;\">\n",
       "      <th></th>\n",
       "      <th>Unnamed: 0</th>\n",
       "      <th>SteamId</th>\n",
       "      <th>Review</th>\n",
       "      <th>Recommended?</th>\n",
       "      <th>DatePosted</th>\n",
       "    </tr>\n",
       "  </thead>\n",
       "  <tbody>\n",
       "    <tr>\n",
       "      <th>0</th>\n",
       "      <td>0</td>\n",
       "      <td>Xilirite</td>\n",
       "      <td>TL;DR\\nBuy it if you prefer the individual lev...</td>\n",
       "      <td>Recommended</td>\n",
       "      <td>Posted: June 2, 2017</td>\n",
       "    </tr>\n",
       "    <tr>\n",
       "      <th>1</th>\n",
       "      <td>1</td>\n",
       "      <td>76561197996536125</td>\n",
       "      <td>Elden Ring waiting room</td>\n",
       "      <td>Recommended</td>\n",
       "      <td>Posted: June 20, 2021</td>\n",
       "    </tr>\n",
       "    <tr>\n",
       "      <th>2</th>\n",
       "      <td>2</td>\n",
       "      <td>76561198143997912</td>\n",
       "      <td>I thought this was supposed to be the bad one</td>\n",
       "      <td>Recommended</td>\n",
       "      <td>Posted: August 12</td>\n",
       "    </tr>\n",
       "    <tr>\n",
       "      <th>3</th>\n",
       "      <td>3</td>\n",
       "      <td>76561198088449870</td>\n",
       "      <td>Little known fact: it's called dark souls 2 be...</td>\n",
       "      <td>Recommended</td>\n",
       "      <td>Posted: July 4</td>\n",
       "    </tr>\n",
       "    <tr>\n",
       "      <th>4</th>\n",
       "      <td>4</td>\n",
       "      <td>76561198960403801</td>\n",
       "      <td>port bloodborne to pc</td>\n",
       "      <td>Recommended</td>\n",
       "      <td>Posted: April 30, 2022</td>\n",
       "    </tr>\n",
       "  </tbody>\n",
       "</table>\n",
       "</div>"
      ],
      "text/plain": [
       "   Unnamed: 0            SteamId  \\\n",
       "0           0           Xilirite   \n",
       "1           1  76561197996536125   \n",
       "2           2  76561198143997912   \n",
       "3           3  76561198088449870   \n",
       "4           4  76561198960403801   \n",
       "\n",
       "                                              Review Recommended?  \\\n",
       "0  TL;DR\\nBuy it if you prefer the individual lev...  Recommended   \n",
       "1                            Elden Ring waiting room  Recommended   \n",
       "2      I thought this was supposed to be the bad one  Recommended   \n",
       "3  Little known fact: it's called dark souls 2 be...  Recommended   \n",
       "4                              port bloodborne to pc  Recommended   \n",
       "\n",
       "               DatePosted  \n",
       "0    Posted: June 2, 2017  \n",
       "1   Posted: June 20, 2021  \n",
       "2       Posted: August 12  \n",
       "3          Posted: July 4  \n",
       "4  Posted: April 30, 2022  "
      ]
     },
     "execution_count": 2,
     "metadata": {},
     "output_type": "execute_result"
    }
   ],
   "source": [
    "reviews = pd.read_csv('reviews.csv')\n",
    "reviews.head()"
   ]
  },
  {
   "cell_type": "markdown",
   "metadata": {},
   "source": [
    "## Data Cleaning/Wrangling:"
   ]
  },
  {
   "cell_type": "code",
   "execution_count": 3,
   "metadata": {},
   "outputs": [
    {
     "data": {
      "text/html": [
       "<div>\n",
       "<style scoped>\n",
       "    .dataframe tbody tr th:only-of-type {\n",
       "        vertical-align: middle;\n",
       "    }\n",
       "\n",
       "    .dataframe tbody tr th {\n",
       "        vertical-align: top;\n",
       "    }\n",
       "\n",
       "    .dataframe thead th {\n",
       "        text-align: right;\n",
       "    }\n",
       "</style>\n",
       "<table border=\"1\" class=\"dataframe\">\n",
       "  <thead>\n",
       "    <tr style=\"text-align: right;\">\n",
       "      <th></th>\n",
       "      <th>Review</th>\n",
       "      <th>Recommended?</th>\n",
       "      <th>DatePosted</th>\n",
       "    </tr>\n",
       "    <tr>\n",
       "      <th>SteamId</th>\n",
       "      <th></th>\n",
       "      <th></th>\n",
       "      <th></th>\n",
       "    </tr>\n",
       "  </thead>\n",
       "  <tbody>\n",
       "    <tr>\n",
       "      <th>Xilirite</th>\n",
       "      <td>TL;DR\\nBuy it if you prefer the individual lev...</td>\n",
       "      <td>Recommended</td>\n",
       "      <td>Posted: June 2, 2017</td>\n",
       "    </tr>\n",
       "    <tr>\n",
       "      <th>76561197996536125</th>\n",
       "      <td>Elden Ring waiting room</td>\n",
       "      <td>Recommended</td>\n",
       "      <td>Posted: June 20, 2021</td>\n",
       "    </tr>\n",
       "    <tr>\n",
       "      <th>76561198143997912</th>\n",
       "      <td>I thought this was supposed to be the bad one</td>\n",
       "      <td>Recommended</td>\n",
       "      <td>Posted: August 12</td>\n",
       "    </tr>\n",
       "    <tr>\n",
       "      <th>76561198088449870</th>\n",
       "      <td>Little known fact: it's called dark souls 2 be...</td>\n",
       "      <td>Recommended</td>\n",
       "      <td>Posted: July 4</td>\n",
       "    </tr>\n",
       "    <tr>\n",
       "      <th>76561198960403801</th>\n",
       "      <td>port bloodborne to pc</td>\n",
       "      <td>Recommended</td>\n",
       "      <td>Posted: April 30, 2022</td>\n",
       "    </tr>\n",
       "  </tbody>\n",
       "</table>\n",
       "</div>"
      ],
      "text/plain": [
       "                                                              Review  \\\n",
       "SteamId                                                                \n",
       "Xilirite           TL;DR\\nBuy it if you prefer the individual lev...   \n",
       "76561197996536125                            Elden Ring waiting room   \n",
       "76561198143997912      I thought this was supposed to be the bad one   \n",
       "76561198088449870  Little known fact: it's called dark souls 2 be...   \n",
       "76561198960403801                              port bloodborne to pc   \n",
       "\n",
       "                  Recommended?              DatePosted  \n",
       "SteamId                                                 \n",
       "Xilirite           Recommended    Posted: June 2, 2017  \n",
       "76561197996536125  Recommended   Posted: June 20, 2021  \n",
       "76561198143997912  Recommended       Posted: August 12  \n",
       "76561198088449870  Recommended          Posted: July 4  \n",
       "76561198960403801  Recommended  Posted: April 30, 2022  "
      ]
     },
     "execution_count": 3,
     "metadata": {},
     "output_type": "execute_result"
    }
   ],
   "source": [
    "reviews.drop(columns={'Unnamed: 0'}, inplace=True)\n",
    "reviews.set_index('SteamId', inplace=True)\n",
    "reviews.head()"
   ]
  },
  {
   "cell_type": "markdown",
   "metadata": {},
   "source": [
    "Just getting the dates in DatePosted:"
   ]
  },
  {
   "cell_type": "code",
   "execution_count": 4,
   "metadata": {},
   "outputs": [
    {
     "data": {
      "text/html": [
       "<div>\n",
       "<style scoped>\n",
       "    .dataframe tbody tr th:only-of-type {\n",
       "        vertical-align: middle;\n",
       "    }\n",
       "\n",
       "    .dataframe tbody tr th {\n",
       "        vertical-align: top;\n",
       "    }\n",
       "\n",
       "    .dataframe thead th {\n",
       "        text-align: right;\n",
       "    }\n",
       "</style>\n",
       "<table border=\"1\" class=\"dataframe\">\n",
       "  <thead>\n",
       "    <tr style=\"text-align: right;\">\n",
       "      <th></th>\n",
       "      <th>DatePosted</th>\n",
       "    </tr>\n",
       "    <tr>\n",
       "      <th>SteamId</th>\n",
       "      <th></th>\n",
       "    </tr>\n",
       "  </thead>\n",
       "  <tbody>\n",
       "    <tr>\n",
       "      <th>Xilirite</th>\n",
       "      <td>June 2 2017</td>\n",
       "    </tr>\n",
       "    <tr>\n",
       "      <th>76561197996536125</th>\n",
       "      <td>June 20 2021</td>\n",
       "    </tr>\n",
       "    <tr>\n",
       "      <th>76561198143997912</th>\n",
       "      <td>August 12</td>\n",
       "    </tr>\n",
       "    <tr>\n",
       "      <th>76561198088449870</th>\n",
       "      <td>July 4</td>\n",
       "    </tr>\n",
       "    <tr>\n",
       "      <th>76561198960403801</th>\n",
       "      <td>April 30 2022</td>\n",
       "    </tr>\n",
       "  </tbody>\n",
       "</table>\n",
       "</div>"
      ],
      "text/plain": [
       "                      DatePosted\n",
       "SteamId                         \n",
       "Xilirite             June 2 2017\n",
       "76561197996536125   June 20 2021\n",
       "76561198143997912      August 12\n",
       "76561198088449870         July 4\n",
       "76561198960403801  April 30 2022"
      ]
     },
     "execution_count": 4,
     "metadata": {},
     "output_type": "execute_result"
    }
   ],
   "source": [
    "dates = [re.compile(r'Posted:|,').sub(' ', date).strip() for date in reviews.DatePosted]\n",
    "dates = [re.compile(r' +').sub(' ', date).strip() for date in dates]\n",
    "reviews.DatePosted = dates\n",
    "reviews[['DatePosted']].head()"
   ]
  },
  {
   "cell_type": "markdown",
   "metadata": {},
   "source": [
    "Seperating the 'DatePosted' column into month and year columns:\n",
    "- There are some entries that don't have years (will investigate later)"
   ]
  },
  {
   "cell_type": "code",
   "execution_count": 5,
   "metadata": {},
   "outputs": [
    {
     "data": {
      "text/html": [
       "<div>\n",
       "<style scoped>\n",
       "    .dataframe tbody tr th:only-of-type {\n",
       "        vertical-align: middle;\n",
       "    }\n",
       "\n",
       "    .dataframe tbody tr th {\n",
       "        vertical-align: top;\n",
       "    }\n",
       "\n",
       "    .dataframe thead th {\n",
       "        text-align: right;\n",
       "    }\n",
       "</style>\n",
       "<table border=\"1\" class=\"dataframe\">\n",
       "  <thead>\n",
       "    <tr style=\"text-align: right;\">\n",
       "      <th></th>\n",
       "      <th>Review</th>\n",
       "      <th>Recommended?</th>\n",
       "      <th>Year</th>\n",
       "    </tr>\n",
       "    <tr>\n",
       "      <th>SteamId</th>\n",
       "      <th></th>\n",
       "      <th></th>\n",
       "      <th></th>\n",
       "    </tr>\n",
       "  </thead>\n",
       "  <tbody>\n",
       "    <tr>\n",
       "      <th>Xilirite</th>\n",
       "      <td>TL;DR\\nBuy it if you prefer the individual lev...</td>\n",
       "      <td>Recommended</td>\n",
       "      <td>2017</td>\n",
       "    </tr>\n",
       "    <tr>\n",
       "      <th>76561197996536125</th>\n",
       "      <td>Elden Ring waiting room</td>\n",
       "      <td>Recommended</td>\n",
       "      <td>2021</td>\n",
       "    </tr>\n",
       "    <tr>\n",
       "      <th>76561198143997912</th>\n",
       "      <td>I thought this was supposed to be the bad one</td>\n",
       "      <td>Recommended</td>\n",
       "      <td>NaN</td>\n",
       "    </tr>\n",
       "    <tr>\n",
       "      <th>76561198088449870</th>\n",
       "      <td>Little known fact: it's called dark souls 2 be...</td>\n",
       "      <td>Recommended</td>\n",
       "      <td>NaN</td>\n",
       "    </tr>\n",
       "    <tr>\n",
       "      <th>76561198960403801</th>\n",
       "      <td>port bloodborne to pc</td>\n",
       "      <td>Recommended</td>\n",
       "      <td>2022</td>\n",
       "    </tr>\n",
       "    <tr>\n",
       "      <th>...</th>\n",
       "      <td>...</td>\n",
       "      <td>...</td>\n",
       "      <td>...</td>\n",
       "    </tr>\n",
       "    <tr>\n",
       "      <th>saihchotic</th>\n",
       "      <td>Game's so hard steam wont even let me redownlo...</td>\n",
       "      <td>Recommended</td>\n",
       "      <td>2017</td>\n",
       "    </tr>\n",
       "    <tr>\n",
       "      <th>TheArmedMadMan</th>\n",
       "      <td>This game is wank. It's basically Dark Souls b...</td>\n",
       "      <td>Not Recommended</td>\n",
       "      <td>2017</td>\n",
       "    </tr>\n",
       "    <tr>\n",
       "      <th>76561197971446226</th>\n",
       "      <td>Flawed camera but one of the best games I've e...</td>\n",
       "      <td>Recommended</td>\n",
       "      <td>2017</td>\n",
       "    </tr>\n",
       "    <tr>\n",
       "      <th>sporadicity</th>\n",
       "      <td>If you liked the first Dark Souls, then great!...</td>\n",
       "      <td>Recommended</td>\n",
       "      <td>2017</td>\n",
       "    </tr>\n",
       "    <tr>\n",
       "      <th>76561198019582770</th>\n",
       "      <td>Very addictive game! Another game I can play f...</td>\n",
       "      <td>Recommended</td>\n",
       "      <td>2017</td>\n",
       "    </tr>\n",
       "  </tbody>\n",
       "</table>\n",
       "<p>35178 rows × 3 columns</p>\n",
       "</div>"
      ],
      "text/plain": [
       "                                                              Review  \\\n",
       "SteamId                                                                \n",
       "Xilirite           TL;DR\\nBuy it if you prefer the individual lev...   \n",
       "76561197996536125                            Elden Ring waiting room   \n",
       "76561198143997912      I thought this was supposed to be the bad one   \n",
       "76561198088449870  Little known fact: it's called dark souls 2 be...   \n",
       "76561198960403801                              port bloodborne to pc   \n",
       "...                                                              ...   \n",
       "saihchotic         Game's so hard steam wont even let me redownlo...   \n",
       "TheArmedMadMan     This game is wank. It's basically Dark Souls b...   \n",
       "76561197971446226  Flawed camera but one of the best games I've e...   \n",
       "sporadicity        If you liked the first Dark Souls, then great!...   \n",
       "76561198019582770  Very addictive game! Another game I can play f...   \n",
       "\n",
       "                      Recommended?  Year  \n",
       "SteamId                                   \n",
       "Xilirite               Recommended  2017  \n",
       "76561197996536125      Recommended  2021  \n",
       "76561198143997912      Recommended   NaN  \n",
       "76561198088449870      Recommended   NaN  \n",
       "76561198960403801      Recommended  2022  \n",
       "...                            ...   ...  \n",
       "saihchotic             Recommended  2017  \n",
       "TheArmedMadMan     Not Recommended  2017  \n",
       "76561197971446226      Recommended  2017  \n",
       "sporadicity            Recommended  2017  \n",
       "76561198019582770      Recommended  2017  \n",
       "\n",
       "[35178 rows x 3 columns]"
      ]
     },
     "execution_count": 5,
     "metadata": {},
     "output_type": "execute_result"
    }
   ],
   "source": [
    "reviews['Date'] = pd.to_datetime(reviews.DatePosted, errors='coerce')\n",
    "reviews['Year'] = reviews['Date'].dt.strftime('%Y')\n",
    "reviews.drop(columns={'DatePosted', 'Date'}, inplace=True)\n",
    "reviews"
   ]
  },
  {
   "cell_type": "code",
   "execution_count": 6,
   "metadata": {},
   "outputs": [
    {
     "data": {
      "text/plain": [
       "4736"
      ]
     },
     "execution_count": 6,
     "metadata": {},
     "output_type": "execute_result"
    }
   ],
   "source": [
    "reviews.Year.isna().sum()"
   ]
  },
  {
   "cell_type": "markdown",
   "metadata": {},
   "source": [
    "Cleaning up the reviews:\n",
    "- Replace escape sequences w/ whitespace\n",
    "- Get rid of multiple spaces and trailing spaces\n",
    "- Get rid of URLS (ex: https://...)\n",
    "- Turn everything lowercase\n",
    "- There are some reviews that are blank - will investigate later"
   ]
  },
  {
   "cell_type": "code",
   "execution_count": 7,
   "metadata": {},
   "outputs": [
    {
     "data": {
      "text/html": [
       "<div>\n",
       "<style scoped>\n",
       "    .dataframe tbody tr th:only-of-type {\n",
       "        vertical-align: middle;\n",
       "    }\n",
       "\n",
       "    .dataframe tbody tr th {\n",
       "        vertical-align: top;\n",
       "    }\n",
       "\n",
       "    .dataframe thead th {\n",
       "        text-align: right;\n",
       "    }\n",
       "</style>\n",
       "<table border=\"1\" class=\"dataframe\">\n",
       "  <thead>\n",
       "    <tr style=\"text-align: right;\">\n",
       "      <th></th>\n",
       "      <th>Review</th>\n",
       "      <th>Recommended?</th>\n",
       "      <th>Year</th>\n",
       "    </tr>\n",
       "    <tr>\n",
       "      <th>SteamId</th>\n",
       "      <th></th>\n",
       "      <th></th>\n",
       "      <th></th>\n",
       "    </tr>\n",
       "  </thead>\n",
       "  <tbody>\n",
       "    <tr>\n",
       "      <th>Xilirite</th>\n",
       "      <td>tl dr buy it if you prefer the individual leve...</td>\n",
       "      <td>Recommended</td>\n",
       "      <td>2017</td>\n",
       "    </tr>\n",
       "    <tr>\n",
       "      <th>76561197996536125</th>\n",
       "      <td>elden ring waiting room</td>\n",
       "      <td>Recommended</td>\n",
       "      <td>2021</td>\n",
       "    </tr>\n",
       "    <tr>\n",
       "      <th>76561198143997912</th>\n",
       "      <td>i thought this was supposed to be the bad one</td>\n",
       "      <td>Recommended</td>\n",
       "      <td>NaN</td>\n",
       "    </tr>\n",
       "    <tr>\n",
       "      <th>76561198088449870</th>\n",
       "      <td>little known fact it s called dark souls 2 bec...</td>\n",
       "      <td>Recommended</td>\n",
       "      <td>NaN</td>\n",
       "    </tr>\n",
       "    <tr>\n",
       "      <th>76561198960403801</th>\n",
       "      <td>port bloodborne to pc</td>\n",
       "      <td>Recommended</td>\n",
       "      <td>2022</td>\n",
       "    </tr>\n",
       "    <tr>\n",
       "      <th>...</th>\n",
       "      <td>...</td>\n",
       "      <td>...</td>\n",
       "      <td>...</td>\n",
       "    </tr>\n",
       "    <tr>\n",
       "      <th>saihchotic</th>\n",
       "      <td>game s so hard steam wont even let me redownlo...</td>\n",
       "      <td>Recommended</td>\n",
       "      <td>2017</td>\n",
       "    </tr>\n",
       "    <tr>\n",
       "      <th>TheArmedMadMan</th>\n",
       "      <td>this game is wank it s basically dark souls bu...</td>\n",
       "      <td>Not Recommended</td>\n",
       "      <td>2017</td>\n",
       "    </tr>\n",
       "    <tr>\n",
       "      <th>76561197971446226</th>\n",
       "      <td>flawed camera but one of the best games i ve e...</td>\n",
       "      <td>Recommended</td>\n",
       "      <td>2017</td>\n",
       "    </tr>\n",
       "    <tr>\n",
       "      <th>sporadicity</th>\n",
       "      <td>if you liked the first dark souls then great t...</td>\n",
       "      <td>Recommended</td>\n",
       "      <td>2017</td>\n",
       "    </tr>\n",
       "    <tr>\n",
       "      <th>76561198019582770</th>\n",
       "      <td>very addictive game another game i can play fo...</td>\n",
       "      <td>Recommended</td>\n",
       "      <td>2017</td>\n",
       "    </tr>\n",
       "  </tbody>\n",
       "</table>\n",
       "<p>35178 rows × 3 columns</p>\n",
       "</div>"
      ],
      "text/plain": [
       "                                                              Review  \\\n",
       "SteamId                                                                \n",
       "Xilirite           tl dr buy it if you prefer the individual leve...   \n",
       "76561197996536125                            elden ring waiting room   \n",
       "76561198143997912      i thought this was supposed to be the bad one   \n",
       "76561198088449870  little known fact it s called dark souls 2 bec...   \n",
       "76561198960403801                              port bloodborne to pc   \n",
       "...                                                              ...   \n",
       "saihchotic         game s so hard steam wont even let me redownlo...   \n",
       "TheArmedMadMan     this game is wank it s basically dark souls bu...   \n",
       "76561197971446226  flawed camera but one of the best games i ve e...   \n",
       "sporadicity        if you liked the first dark souls then great t...   \n",
       "76561198019582770  very addictive game another game i can play fo...   \n",
       "\n",
       "                      Recommended?  Year  \n",
       "SteamId                                   \n",
       "Xilirite               Recommended  2017  \n",
       "76561197996536125      Recommended  2021  \n",
       "76561198143997912      Recommended   NaN  \n",
       "76561198088449870      Recommended   NaN  \n",
       "76561198960403801      Recommended  2022  \n",
       "...                            ...   ...  \n",
       "saihchotic             Recommended  2017  \n",
       "TheArmedMadMan     Not Recommended  2017  \n",
       "76561197971446226      Recommended  2017  \n",
       "sporadicity            Recommended  2017  \n",
       "76561198019582770      Recommended  2017  \n",
       "\n",
       "[35178 rows x 3 columns]"
      ]
     },
     "execution_count": 7,
     "metadata": {},
     "output_type": "execute_result"
    }
   ],
   "source": [
    "r = [re.sub(r'https:\\S+', ' ', review).lower().strip() if pd.notna(review) else review for review in reviews.Review]\n",
    "r = [re.sub(r'[^A-Za-z0-9]', ' ', review).strip() if pd.notna(review) else review for review in r]\n",
    "r = [re.sub(r' +', ' ', review).strip() if pd.notna(review) else review for review in r]\n",
    "reviews.Review = r\n",
    "reviews"
   ]
  },
  {
   "cell_type": "code",
   "execution_count": 8,
   "metadata": {},
   "outputs": [
    {
     "data": {
      "text/plain": [
       "Review          object\n",
       "Recommended?    object\n",
       "Year            object\n",
       "dtype: object"
      ]
     },
     "execution_count": 8,
     "metadata": {},
     "output_type": "execute_result"
    }
   ],
   "source": [
    "reviews.dtypes"
   ]
  },
  {
   "cell_type": "code",
   "execution_count": 9,
   "metadata": {},
   "outputs": [
    {
     "data": {
      "text/html": [
       "<div>\n",
       "<style scoped>\n",
       "    .dataframe tbody tr th:only-of-type {\n",
       "        vertical-align: middle;\n",
       "    }\n",
       "\n",
       "    .dataframe tbody tr th {\n",
       "        vertical-align: top;\n",
       "    }\n",
       "\n",
       "    .dataframe thead th {\n",
       "        text-align: right;\n",
       "    }\n",
       "</style>\n",
       "<table border=\"1\" class=\"dataframe\">\n",
       "  <thead>\n",
       "    <tr style=\"text-align: right;\">\n",
       "      <th></th>\n",
       "      <th>Review</th>\n",
       "      <th>Recommended?</th>\n",
       "      <th>Year</th>\n",
       "    </tr>\n",
       "  </thead>\n",
       "  <tbody>\n",
       "    <tr>\n",
       "      <th>count</th>\n",
       "      <td>35082</td>\n",
       "      <td>35178</td>\n",
       "      <td>30442</td>\n",
       "    </tr>\n",
       "    <tr>\n",
       "      <th>unique</th>\n",
       "      <td>29861</td>\n",
       "      <td>2</td>\n",
       "      <td>8</td>\n",
       "    </tr>\n",
       "    <tr>\n",
       "      <th>top</th>\n",
       "      <td></td>\n",
       "      <td>Recommended</td>\n",
       "      <td>2021</td>\n",
       "    </tr>\n",
       "    <tr>\n",
       "      <th>freq</th>\n",
       "      <td>462</td>\n",
       "      <td>28603</td>\n",
       "      <td>7366</td>\n",
       "    </tr>\n",
       "  </tbody>\n",
       "</table>\n",
       "</div>"
      ],
      "text/plain": [
       "       Review Recommended?   Year\n",
       "count   35082        35178  30442\n",
       "unique  29861            2      8\n",
       "top            Recommended   2021\n",
       "freq      462        28603   7366"
      ]
     },
     "execution_count": 9,
     "metadata": {},
     "output_type": "execute_result"
    }
   ],
   "source": [
    "reviews.describe()"
   ]
  },
  {
   "cell_type": "markdown",
   "metadata": {},
   "source": [
    "For sake of analysis, drop any rows that have no reviews:"
   ]
  },
  {
   "cell_type": "code",
   "execution_count": 10,
   "metadata": {},
   "outputs": [
    {
     "data": {
      "text/plain": [
       "(35082, 3)"
      ]
     },
     "execution_count": 10,
     "metadata": {},
     "output_type": "execute_result"
    }
   ],
   "source": [
    "reviews = reviews.dropna(subset=['Review'])\n",
    "reviews.shape"
   ]
  },
  {
   "cell_type": "markdown",
   "metadata": {},
   "source": [
    "## EDA:"
   ]
  },
  {
   "cell_type": "markdown",
   "metadata": {},
   "source": [
    "Distribution of whether or not people recommend buying the game:"
   ]
  },
  {
   "cell_type": "code",
   "execution_count": 11,
   "metadata": {},
   "outputs": [
    {
     "data": {
      "image/png": "[encoded data removed]",
      "text/plain": [
       "<Figure size 640x480 with 1 Axes>"
      ]
     },
     "metadata": {},
     "output_type": "display_data"
    }
   ],
   "source": [
    "sns.barplot(data=reviews['Recommended?'].value_counts().reset_index(), \n",
    "            x='Recommended?',\n",
    "            y='count');"
   ]
  },
  {
   "cell_type": "markdown",
   "metadata": {},
   "source": [
    "- Most people recommend playing DS2"
   ]
  },
  {
   "cell_type": "markdown",
   "metadata": {},
   "source": [
    "Years captured in the webscraped reviews:"
   ]
  },
  {
   "cell_type": "code",
   "execution_count": 12,
   "metadata": {},
   "outputs": [
    {
     "data": {
      "image/png": "[encoded data removed]",
      "text/plain": [
       "<Figure size 640x480 with 1 Axes>"
      ]
     },
     "metadata": {},
     "output_type": "display_data"
    }
   ],
   "source": [
    "yr_dist = reviews.groupby('Year')['Recommended?'].count().reset_index()\n",
    "yr_dist.rename(columns={'Recommended?':'count'}, inplace=True)\n",
    "\n",
    "sns.barplot(data=yr_dist, \n",
    "            x='Year',\n",
    "            y='count');"
   ]
  },
  {
   "cell_type": "markdown",
   "metadata": {},
   "source": [
    "- Reviews are fairly recent\n",
    "    - Game released   : March 2014\n",
    "    - Remaster release: April 2015 (focus of this project)"
   ]
  },
  {
   "cell_type": "markdown",
   "metadata": {},
   "source": [
    "## Sentiment Analysis:\n",
    "- Needed to see why people were positive or negative about the game"
   ]
  },
  {
   "cell_type": "code",
   "execution_count": 13,
   "metadata": {},
   "outputs": [],
   "source": [
    "from nltk.tokenize import word_tokenize\n",
    "from nltk.corpus import stopwords\n",
    "from nltk.stem import PorterStemmer\n",
    "from nltk.probability import FreqDist\n",
    "from nltk.sentiment.vader import SentimentIntensityAnalyzer\n",
    "from sklearn.feature_extraction.text import CountVectorizer, TfidfVectorizer"
   ]
  },
  {
   "cell_type": "markdown",
   "metadata": {},
   "source": [
    "Spliting the reviews by how many do and don't recommend buying the game:"
   ]
  },
  {
   "cell_type": "code",
   "execution_count": 14,
   "metadata": {},
   "outputs": [],
   "source": [
    "pos_reviews = reviews[reviews['Recommended?'] == 'Recommended']\n",
    "neg_reviews = reviews[reviews['Recommended?'] == 'Not Recommended']"
   ]
  },
  {
   "cell_type": "code",
   "execution_count": 15,
   "metadata": {},
   "outputs": [
    {
     "data": {
      "text/plain": [
       "((28521, 3), (6561, 3))"
      ]
     },
     "execution_count": 15,
     "metadata": {},
     "output_type": "execute_result"
    }
   ],
   "source": [
    "pos_reviews.shape, neg_reviews.shape"
   ]
  },
  {
   "cell_type": "markdown",
   "metadata": {},
   "source": [
    "### Exploring why people like the game:"
   ]
  },
  {
   "cell_type": "code",
   "execution_count": null,
   "metadata": {},
   "outputs": [],
   "source": []
  },
  {
   "cell_type": "markdown",
   "metadata": {},
   "source": [
    "### Exploring why people don't like the game:"
   ]
  },
  {
   "cell_type": "code",
   "execution_count": null,
   "metadata": {},
   "outputs": [],
   "source": []
  },
  {
   "cell_type": "markdown",
   "metadata": {},
   "source": [
    "## Conclusion:"
   ]
  },
  {
   "cell_type": "markdown",
   "metadata": {},
   "source": [
    "If there was one word to descibe all these reviews:"
   ]
  },
  {
   "cell_type": "code",
   "execution_count": 16,
   "metadata": {},
   "outputs": [],
   "source": [
    "from wordcloud import WordCloud"
   ]
  },
  {
   "cell_type": "code",
   "execution_count": 17,
   "metadata": {},
   "outputs": [],
   "source": [
    "# reviews"
   ]
  }
 ],
 "metadata": {
  "kernelspec": {
   "display_name": "base",
   "language": "python",
   "name": "python3"
  },
  "language_info": {
   "codemirror_mode": {
    "name": "ipython",
    "version": 3
   },
   "file_extension": ".py",
   "mimetype": "text/x-python",
   "name": "python",
   "nbconvert_exporter": "python",
   "pygments_lexer": "ipython3",
   "version": "3.11.5"
  }
 },
 "nbformat": 4,
 "nbformat_minor": 2
}
