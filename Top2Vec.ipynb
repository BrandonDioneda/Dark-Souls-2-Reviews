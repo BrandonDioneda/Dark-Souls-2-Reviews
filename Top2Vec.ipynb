{
 "cells": [
  {
   "cell_type": "markdown",
   "metadata": {},
   "source": [
    "# Dark Souls II Reviews (2025)"
   ]
  },
  {
   "cell_type": "code",
   "execution_count": 1,
   "metadata": {},
   "outputs": [],
   "source": [
    "import numpy as np\n",
    "import pandas as pd\n",
    "import seaborn as sns\n",
    "import matplotlib.pyplot as plt\n",
    "import altair as alt\n",
    "import re"
   ]
  },
  {
   "cell_type": "markdown",
   "metadata": {},
   "source": [
    "## Steam Reviews as of 3/30/24:"
   ]
  },
  {
   "cell_type": "code",
   "execution_count": 2,
   "metadata": {},
   "outputs": [],
   "source": [
    "df = pd.read_csv('reviews.csv')\n",
    "reviews = df.copy()\n",
    "reviews = reviews.set_index('recommendationid')\n",
    "reviews.drop(columns={'Unnamed: 0', 'in_early_access'}, inplace=True)"
   ]
  },
  {
   "cell_type": "markdown",
   "metadata": {},
   "source": [
    "Converting date of review from unix:"
   ]
  },
  {
   "cell_type": "code",
   "execution_count": 3,
   "metadata": {},
   "outputs": [],
   "source": [
    "reviews['month_name'] = pd.to_datetime(reviews.update_date, unit='s').dt.month_name()\n",
    "reviews['month']      = pd.to_datetime(reviews.update_date, unit='s').dt.month\n",
    "reviews['year']       = pd.to_datetime(reviews.update_date, unit='s').dt.year\n",
    "reviews['day']        = pd.to_datetime(reviews.update_date, unit='s').dt.day"
   ]
  },
  {
   "cell_type": "markdown",
   "metadata": {},
   "source": [
    "Focusing on just the English reviews:"
   ]
  },
  {
   "cell_type": "code",
   "execution_count": 4,
   "metadata": {},
   "outputs": [],
   "source": [
    "reviews = reviews[reviews.language == 'english']"
   ]
  },
  {
   "cell_type": "markdown",
   "metadata": {},
   "source": [
    "## Cleaning up the reviews"
   ]
  },
  {
   "cell_type": "code",
   "execution_count": 5,
   "metadata": {},
   "outputs": [
    {
     "data": {
      "text/plain": [
       "(45563, 9)"
      ]
     },
     "execution_count": 5,
     "metadata": {},
     "output_type": "execute_result"
    }
   ],
   "source": [
    "reviews = reviews.dropna(subset=['review'])\n",
    "reviews.shape"
   ]
  },
  {
   "cell_type": "code",
   "execution_count": 6,
   "metadata": {},
   "outputs": [],
   "source": [
    "reviews['review'] = reviews.review.str.lower()"
   ]
  },
  {
   "cell_type": "code",
   "execution_count": 7,
   "metadata": {},
   "outputs": [],
   "source": [
    "from nltk.corpus import stopwords\n",
    "from nltk.tokenize import word_tokenize\n",
    "\n",
    "stop_words = set(stopwords.words('english'))\n",
    "def remove_stopwords(text):\n",
    "    words = word_tokenize(text)\n",
    "    return ' '.join([word for word in words if word.lower() not in stop_words])"
   ]
  },
  {
   "cell_type": "code",
   "execution_count": 8,
   "metadata": {},
   "outputs": [],
   "source": [
    "reviews['review'] = reviews.review.apply(remove_stopwords)"
   ]
  },
  {
   "cell_type": "code",
   "execution_count": 9,
   "metadata": {},
   "outputs": [],
   "source": [
    "# Removing urls:\n",
    "r = [re.sub(r'http\\S+', '', review).lower().strip() if pd.notna(review) else review for review in reviews.review]\n",
    "\n",
    "# Removing esc sequences, punctuation, and numbers:\n",
    "    # There's some ASCII art in some of the reviews\n",
    "r = [re.sub(r'[^a-z]', ' ', review).strip() if pd.notna(review) else review for review in r]"
   ]
  },
  {
   "cell_type": "code",
   "execution_count": 10,
   "metadata": {},
   "outputs": [],
   "source": [
    "# Removing multiple and trailing whitespaces:\n",
    "r = [re.sub(r' +', ' ', review).strip() if pd.notna(review) else review for review in r]"
   ]
  },
  {
   "cell_type": "code",
   "execution_count": 11,
   "metadata": {},
   "outputs": [],
   "source": [
    "reviews['review'] = r"
   ]
  },
  {
   "cell_type": "code",
   "execution_count": 12,
   "metadata": {},
   "outputs": [
    {
     "data": {
      "text/html": [
       "<div>\n",
       "<style scoped>\n",
       "    .dataframe tbody tr th:only-of-type {\n",
       "        vertical-align: middle;\n",
       "    }\n",
       "\n",
       "    .dataframe tbody tr th {\n",
       "        vertical-align: top;\n",
       "    }\n",
       "\n",
       "    .dataframe thead th {\n",
       "        text-align: right;\n",
       "    }\n",
       "</style>\n",
       "<table border=\"1\" class=\"dataframe\">\n",
       "  <thead>\n",
       "    <tr style=\"text-align: right;\">\n",
       "      <th></th>\n",
       "      <th>review</th>\n",
       "      <th>language</th>\n",
       "      <th>init_date</th>\n",
       "      <th>update_date</th>\n",
       "      <th>voted_up</th>\n",
       "      <th>month_name</th>\n",
       "      <th>month</th>\n",
       "      <th>year</th>\n",
       "      <th>day</th>\n",
       "    </tr>\n",
       "    <tr>\n",
       "      <th>recommendationid</th>\n",
       "      <th></th>\n",
       "      <th></th>\n",
       "      <th></th>\n",
       "      <th></th>\n",
       "      <th></th>\n",
       "      <th></th>\n",
       "      <th></th>\n",
       "      <th></th>\n",
       "      <th></th>\n",
       "    </tr>\n",
       "  </thead>\n",
       "  <tbody>\n",
       "    <tr>\n",
       "      <th>190511148</th>\n",
       "      <td>dont give skeleton</td>\n",
       "      <td>english</td>\n",
       "      <td>1742267451</td>\n",
       "      <td>1742267451</td>\n",
       "      <td>True</td>\n",
       "      <td>March</td>\n",
       "      <td>3</td>\n",
       "      <td>2025</td>\n",
       "      <td>18</td>\n",
       "    </tr>\n",
       "    <tr>\n",
       "      <th>190504311</th>\n",
       "      <td>boia</td>\n",
       "      <td>english</td>\n",
       "      <td>1742259081</td>\n",
       "      <td>1742259081</td>\n",
       "      <td>True</td>\n",
       "      <td>March</td>\n",
       "      <td>3</td>\n",
       "      <td>2025</td>\n",
       "      <td>18</td>\n",
       "    </tr>\n",
       "    <tr>\n",
       "      <th>190502415</th>\n",
       "      <td>love game pieces s worst souls game ever made ...</td>\n",
       "      <td>english</td>\n",
       "      <td>1742256864</td>\n",
       "      <td>1742256864</td>\n",
       "      <td>True</td>\n",
       "      <td>March</td>\n",
       "      <td>3</td>\n",
       "      <td>2025</td>\n",
       "      <td>18</td>\n",
       "    </tr>\n",
       "    <tr>\n",
       "      <th>190501465</th>\n",
       "      <td>probably n t recommend awful iron passage frig...</td>\n",
       "      <td>english</td>\n",
       "      <td>1742255757</td>\n",
       "      <td>1742255757</td>\n",
       "      <td>True</td>\n",
       "      <td>March</td>\n",
       "      <td>3</td>\n",
       "      <td>2025</td>\n",
       "      <td>17</td>\n",
       "    </tr>\n",
       "    <tr>\n",
       "      <th>190500200</th>\n",
       "      <td>peak souls</td>\n",
       "      <td>english</td>\n",
       "      <td>1742254339</td>\n",
       "      <td>1742254339</td>\n",
       "      <td>True</td>\n",
       "      <td>March</td>\n",
       "      <td>3</td>\n",
       "      <td>2025</td>\n",
       "      <td>17</td>\n",
       "    </tr>\n",
       "    <tr>\n",
       "      <th>...</th>\n",
       "      <td>...</td>\n",
       "      <td>...</td>\n",
       "      <td>...</td>\n",
       "      <td>...</td>\n",
       "      <td>...</td>\n",
       "      <td>...</td>\n",
       "      <td>...</td>\n",
       "      <td>...</td>\n",
       "      <td>...</td>\n",
       "    </tr>\n",
       "    <tr>\n",
       "      <th>15162268</th>\n",
       "      <td>try tongue hole</td>\n",
       "      <td>english</td>\n",
       "      <td>1427932431</td>\n",
       "      <td>1428081346</td>\n",
       "      <td>True</td>\n",
       "      <td>April</td>\n",
       "      <td>4</td>\n",
       "      <td>2015</td>\n",
       "      <td>3</td>\n",
       "    </tr>\n",
       "    <tr>\n",
       "      <th>15162220</th>\n",
       "      <td>far good played mins far problems i k r gb gb ...</td>\n",
       "      <td>english</td>\n",
       "      <td>1427932153</td>\n",
       "      <td>1427932153</td>\n",
       "      <td>True</td>\n",
       "      <td>April</td>\n",
       "      <td>4</td>\n",
       "      <td>2015</td>\n",
       "      <td>1</td>\n",
       "    </tr>\n",
       "    <tr>\n",
       "      <th>15162161</th>\n",
       "      <td>still n t died bonedrinker rufus keep streak a...</td>\n",
       "      <td>english</td>\n",
       "      <td>1427931845</td>\n",
       "      <td>1427931845</td>\n",
       "      <td>True</td>\n",
       "      <td>April</td>\n",
       "      <td>4</td>\n",
       "      <td>2015</td>\n",
       "      <td>1</td>\n",
       "    </tr>\n",
       "    <tr>\n",
       "      <th>15162057</th>\n",
       "      <td>needs cow bell</td>\n",
       "      <td>english</td>\n",
       "      <td>1427931196</td>\n",
       "      <td>1427931196</td>\n",
       "      <td>True</td>\n",
       "      <td>April</td>\n",
       "      <td>4</td>\n",
       "      <td>2015</td>\n",
       "      <td>1</td>\n",
       "    </tr>\n",
       "    <tr>\n",
       "      <th>15161857</th>\n",
       "      <td>would die</td>\n",
       "      <td>english</td>\n",
       "      <td>1427929899</td>\n",
       "      <td>1427929899</td>\n",
       "      <td>True</td>\n",
       "      <td>April</td>\n",
       "      <td>4</td>\n",
       "      <td>2015</td>\n",
       "      <td>1</td>\n",
       "    </tr>\n",
       "  </tbody>\n",
       "</table>\n",
       "<p>45563 rows × 9 columns</p>\n",
       "</div>"
      ],
      "text/plain": [
       "                                                             review language  \\\n",
       "recommendationid                                                               \n",
       "190511148                                        dont give skeleton  english   \n",
       "190504311                                                      boia  english   \n",
       "190502415         love game pieces s worst souls game ever made ...  english   \n",
       "190501465         probably n t recommend awful iron passage frig...  english   \n",
       "190500200                                                peak souls  english   \n",
       "...                                                             ...      ...   \n",
       "15162268                                            try tongue hole  english   \n",
       "15162220          far good played mins far problems i k r gb gb ...  english   \n",
       "15162161          still n t died bonedrinker rufus keep streak a...  english   \n",
       "15162057                                             needs cow bell  english   \n",
       "15161857                                                  would die  english   \n",
       "\n",
       "                   init_date  update_date  voted_up month_name  month  year  \\\n",
       "recommendationid                                                              \n",
       "190511148         1742267451   1742267451      True      March      3  2025   \n",
       "190504311         1742259081   1742259081      True      March      3  2025   \n",
       "190502415         1742256864   1742256864      True      March      3  2025   \n",
       "190501465         1742255757   1742255757      True      March      3  2025   \n",
       "190500200         1742254339   1742254339      True      March      3  2025   \n",
       "...                      ...          ...       ...        ...    ...   ...   \n",
       "15162268          1427932431   1428081346      True      April      4  2015   \n",
       "15162220          1427932153   1427932153      True      April      4  2015   \n",
       "15162161          1427931845   1427931845      True      April      4  2015   \n",
       "15162057          1427931196   1427931196      True      April      4  2015   \n",
       "15161857          1427929899   1427929899      True      April      4  2015   \n",
       "\n",
       "                  day  \n",
       "recommendationid       \n",
       "190511148          18  \n",
       "190504311          18  \n",
       "190502415          18  \n",
       "190501465          17  \n",
       "190500200          17  \n",
       "...               ...  \n",
       "15162268            3  \n",
       "15162220            1  \n",
       "15162161            1  \n",
       "15162057            1  \n",
       "15161857            1  \n",
       "\n",
       "[45563 rows x 9 columns]"
      ]
     },
     "execution_count": 12,
     "metadata": {},
     "output_type": "execute_result"
    }
   ],
   "source": [
    "reviews"
   ]
  },
  {
   "cell_type": "markdown",
   "metadata": {},
   "source": [
    "For sake of analysis specifically on the actual reviews, drop any rows that have no reviews:"
   ]
  },
  {
   "cell_type": "code",
   "execution_count": 13,
   "metadata": {},
   "outputs": [
    {
     "data": {
      "text/plain": [
       "(45563, 9)"
      ]
     },
     "execution_count": 13,
     "metadata": {},
     "output_type": "execute_result"
    }
   ],
   "source": [
    "reviews = reviews.dropna(subset=['review'])\n",
    "reviews.shape"
   ]
  },
  {
   "cell_type": "code",
   "execution_count": 14,
   "metadata": {},
   "outputs": [],
   "source": [
    "from nltk.tokenize import word_tokenize\n",
    "from sklearn.feature_extraction.text import CountVectorizer, TfidfVectorizer"
   ]
  },
  {
   "cell_type": "code",
   "execution_count": 15,
   "metadata": {},
   "outputs": [],
   "source": [
    "tfidf = TfidfVectorizer(sublinear_tf=True,\n",
    "                        analyzer='word',\n",
    "                        max_features=4000,\n",
    "                        tokenizer=word_tokenize,\n",
    "                        stop_words=stopwords.words(\"english\"))"
   ]
  },
  {
   "cell_type": "code",
   "execution_count": 16,
   "metadata": {},
   "outputs": [
    {
     "name": "stderr",
     "output_type": "stream",
     "text": [
      "c:\\Users\\bdion\\anaconda3\\Lib\\site-packages\\sklearn\\feature_extraction\\text.py:525: UserWarning: The parameter 'token_pattern' will not be used since 'tokenizer' is not None'\n",
      "  warnings.warn(\n",
      "c:\\Users\\bdion\\anaconda3\\Lib\\site-packages\\sklearn\\feature_extraction\\text.py:408: UserWarning: Your stop_words may be inconsistent with your preprocessing. Tokenizing the stop words generated tokens [\"'d\", \"'ll\", \"'re\", \"'s\", \"'ve\", 'could', 'might', 'must', \"n't\", 'need', 'sha', 'wo', 'would'] not in stop_words.\n",
      "  warnings.warn(\n"
     ]
    }
   ],
   "source": [
    "review_txt = reviews.review.values.flatten()\n",
    "tfidf_array = tfidf.fit_transform(review_txt).toarray()\n",
    "tfidf_df = pd.DataFrame(tfidf_array)\n",
    "tfidf_df.columns = tfidf.get_feature_names_out()"
   ]
  },
  {
   "cell_type": "markdown",
   "metadata": {},
   "source": [
    "- Most common word among the reviews isn't very informative - including some of the other popular words\n",
    "    - Looking at subsets of the reviews could be useful"
   ]
  },
  {
   "cell_type": "markdown",
   "metadata": {},
   "source": [
    "## Topic Modeling:\n",
    "- Exploring certain aspects on why people like the game\n",
    "    - Also get critiques of the game in positive reviews (if any but there sure is considering DS2's reputation in the community)\n",
    "\n",
    "- Exploring why people don't like the game:\n",
    "    - Also get positive aspects within this subset of the reviews"
   ]
  },
  {
   "cell_type": "markdown",
   "metadata": {},
   "source": [
    "Splitting the reviews by how many do and don't recommend buying the game:"
   ]
  },
  {
   "cell_type": "code",
   "execution_count": 17,
   "metadata": {},
   "outputs": [],
   "source": [
    "pos_reviews = reviews[reviews['voted_up'] == True]\n",
    "neg_reviews = reviews[reviews['voted_up'] == False]"
   ]
  },
  {
   "cell_type": "code",
   "execution_count": 18,
   "metadata": {},
   "outputs": [
    {
     "data": {
      "text/plain": [
       "((37387, 9), (8176, 9))"
      ]
     },
     "execution_count": 18,
     "metadata": {},
     "output_type": "execute_result"
    }
   ],
   "source": [
    "pos_reviews.shape, neg_reviews.shape"
   ]
  },
  {
   "cell_type": "markdown",
   "metadata": {},
   "source": [
    "### Top2Vec:"
   ]
  },
  {
   "cell_type": "code",
   "execution_count": 19,
   "metadata": {},
   "outputs": [],
   "source": [
    "from top2vec import Top2Vec"
   ]
  },
  {
   "cell_type": "code",
   "execution_count": 20,
   "metadata": {},
   "outputs": [],
   "source": [
    "docs = reviews['review'].tolist()\n",
    "pos_docs = pos_reviews['review'].tolist()\n",
    "neg_docs = neg_reviews['review'].tolist()"
   ]
  },
  {
   "cell_type": "code",
   "execution_count": 21,
   "metadata": {},
   "outputs": [],
   "source": [
    "def topics(documents):\n",
    "    mdl = Top2Vec(\n",
    "        documents=documents,\n",
    "        # embedding_model='universal-sentence-encoder',\n",
    "        contextual_top2vec=True\n",
    "    )\n",
    "    return mdl"
   ]
  },
  {
   "cell_type": "code",
   "execution_count": null,
   "metadata": {},
   "outputs": [
    {
     "name": "stderr",
     "output_type": "stream",
     "text": [
      "2025-04-02 18:10:04,112 - top2vec - INFO - Pre-processing documents for training\n"
     ]
    },
    {
     "name": "stderr",
     "output_type": "stream",
     "text": [
      "c:\\Users\\bdion\\anaconda3\\Lib\\site-packages\\sklearn\\feature_extraction\\text.py:525: UserWarning: The parameter 'token_pattern' will not be used since 'tokenizer' is not None'\n",
      "  warnings.warn(\n",
      "2025-04-02 18:10:12,279 - top2vec - INFO - Creating vocabulary embedding\n",
      "Embedding vocabulary:  14%|█▍        | 12/87 [42:00<7:29:34, 359.66s/it] "
     ]
    }
   ],
   "source": [
    "mdl = topics(docs)"
   ]
  },
  {
   "cell_type": "code",
   "execution_count": null,
   "metadata": {},
   "outputs": [],
   "source": [
    "pos_mdl = topics(pos_docs)"
   ]
  },
  {
   "cell_type": "code",
   "execution_count": null,
   "metadata": {},
   "outputs": [],
   "source": [
    "neg_mdl = topics(neg_docs)"
   ]
  }
 ],
 "metadata": {
  "kernelspec": {
   "display_name": "base",
   "language": "python",
   "name": "python3"
  },
  "language_info": {
   "codemirror_mode": {
    "name": "ipython",
    "version": 3
   },
   "file_extension": ".py",
   "mimetype": "text/x-python",
   "name": "python",
   "nbconvert_exporter": "python",
   "pygments_lexer": "ipython3",
   "version": "3.11.5"
  }
 },
 "nbformat": 4,
 "nbformat_minor": 2
}
